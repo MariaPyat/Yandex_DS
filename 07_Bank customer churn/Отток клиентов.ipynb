{
 "cells": [
  {
   "cell_type": "markdown",
   "id": "3565c95b",
   "metadata": {
    "toc": true
   },
   "source": [
    "<h1>Table of Contents<span class=\"tocSkip\"></span></h1>\n",
    "<div class=\"toc\"><ul class=\"toc-item\"><li><span><a href=\"#Импорты\" data-toc-modified-id=\"Импорты-1\"><span class=\"toc-item-num\">1&nbsp;&nbsp;</span>Импорты</a></span></li><li><span><a href=\"#-Общая-информация-о-данных-\" data-toc-modified-id=\"-Общая-информация-о-данных--2\"><span class=\"toc-item-num\">2&nbsp;&nbsp;</span><font color=\"teal\"> Общая информация о данных </font></a></span><ul class=\"toc-item\"><li><span><a href=\"#Сохранение-данных-в-переменной\" data-toc-modified-id=\"Сохранение-данных-в-переменной-2.1\"><span class=\"toc-item-num\">2.1&nbsp;&nbsp;</span>Сохранение данных в переменной</a></span></li><li><span><a href=\"#Описание-данных\" data-toc-modified-id=\"Описание-данных-2.2\"><span class=\"toc-item-num\">2.2&nbsp;&nbsp;</span>Описание данных</a></span><ul class=\"toc-item\"><li><span><a href=\"#Признаки\" data-toc-modified-id=\"Признаки-2.2.1\"><span class=\"toc-item-num\">2.2.1&nbsp;&nbsp;</span>Признаки</a></span></li><li><span><a href=\"#Целевой-признак\" data-toc-modified-id=\"Целевой-признак-2.2.2\"><span class=\"toc-item-num\">2.2.2&nbsp;&nbsp;</span>Целевой признак</a></span></li></ul></li><li><span><a href=\"#Вывод-\" data-toc-modified-id=\"Вывод--2.3\"><span class=\"toc-item-num\">2.3&nbsp;&nbsp;</span>Вывод </a></span></li></ul></li><li><span><a href=\"#-Предобработка-данных-\" data-toc-modified-id=\"-Предобработка-данных--3\"><span class=\"toc-item-num\">3&nbsp;&nbsp;</span><font color=\"teal\"> Предобработка данных </font></a></span><ul class=\"toc-item\"><li><span><a href=\"#Переименование-столбцов\" data-toc-modified-id=\"Переименование-столбцов-3.1\"><span class=\"toc-item-num\">3.1&nbsp;&nbsp;</span>Переименование столбцов</a></span></li><li><span><a href=\"#Обработка-пропусков\" data-toc-modified-id=\"Обработка-пропусков-3.2\"><span class=\"toc-item-num\">3.2&nbsp;&nbsp;</span>Обработка пропусков</a></span></li><li><span><a href=\"#Поиск-дубликатов\" data-toc-modified-id=\"Поиск-дубликатов-3.3\"><span class=\"toc-item-num\">3.3&nbsp;&nbsp;</span>Поиск дубликатов</a></span><ul class=\"toc-item\"><li><span><a href=\"#Поиск-неявных-дубликатов\" data-toc-modified-id=\"Поиск-неявных-дубликатов-3.3.1\"><span class=\"toc-item-num\">3.3.1&nbsp;&nbsp;</span>Поиск неявных дубликатов</a></span><ul class=\"toc-item\"><li><span><a href=\"#Неявные-дубликаты-в-столбце-geography\" data-toc-modified-id=\"Неявные-дубликаты-в-столбце-geography-3.3.1.1\"><span class=\"toc-item-num\">3.3.1.1&nbsp;&nbsp;</span>Неявные дубликаты в столбце <code>geography</code></a></span></li><li><span><a href=\"#Неявные-дубликаты-в-столбце-gender\" data-toc-modified-id=\"Неявные-дубликаты-в-столбце-gender-3.3.1.2\"><span class=\"toc-item-num\">3.3.1.2&nbsp;&nbsp;</span>Неявные дубликаты в столбце <code>gender</code></a></span></li></ul></li><li><span><a href=\"#Поиск-явных-дубликатов\" data-toc-modified-id=\"Поиск-явных-дубликатов-3.3.2\"><span class=\"toc-item-num\">3.3.2&nbsp;&nbsp;</span>Поиск явных дубликатов</a></span></li></ul></li><li><span><a href=\"#Поиск-аномалий\" data-toc-modified-id=\"Поиск-аномалий-3.4\"><span class=\"toc-item-num\">3.4&nbsp;&nbsp;</span>Поиск аномалий</a></span><ul class=\"toc-item\"><li><span><a href=\"#Наличие-кредитной-карты\" data-toc-modified-id=\"Наличие-кредитной-карты-3.4.1\"><span class=\"toc-item-num\">3.4.1&nbsp;&nbsp;</span>Наличие кредитной карты</a></span></li><li><span><a href=\"#Активность-клиента\" data-toc-modified-id=\"Активность-клиента-3.4.2\"><span class=\"toc-item-num\">3.4.2&nbsp;&nbsp;</span>Активность клиента</a></span></li><li><span><a href=\"#Уход-клиента\" data-toc-modified-id=\"Уход-клиента-3.4.3\"><span class=\"toc-item-num\">3.4.3&nbsp;&nbsp;</span>Уход клиента</a></span></li><li><span><a href=\"#Кредитный-рейтинг\" data-toc-modified-id=\"Кредитный-рейтинг-3.4.4\"><span class=\"toc-item-num\">3.4.4&nbsp;&nbsp;</span>Кредитный рейтинг</a></span></li><li><span><a href=\"#Возраст\" data-toc-modified-id=\"Возраст-3.4.5\"><span class=\"toc-item-num\">3.4.5&nbsp;&nbsp;</span>Возраст</a></span></li><li><span><a href=\"#Баланс\" data-toc-modified-id=\"Баланс-3.4.6\"><span class=\"toc-item-num\">3.4.6&nbsp;&nbsp;</span>Баланс</a></span></li><li><span><a href=\"#Количество-продуктов\" data-toc-modified-id=\"Количество-продуктов-3.4.7\"><span class=\"toc-item-num\">3.4.7&nbsp;&nbsp;</span>Количество продуктов</a></span></li><li><span><a href=\"#Предполагаемая-зарплата\" data-toc-modified-id=\"Предполагаемая-зарплата-3.4.8\"><span class=\"toc-item-num\">3.4.8&nbsp;&nbsp;</span>Предполагаемая зарплата</a></span></li></ul></li><li><span><a href=\"#Преобразование-категориальных-данных-в-численные\" data-toc-modified-id=\"Преобразование-категориальных-данных-в-численные-3.5\"><span class=\"toc-item-num\">3.5&nbsp;&nbsp;</span>Преобразование категориальных данных в численные</a></span></li><li><span><a href=\"#Разделение-данных-на-выборки\" data-toc-modified-id=\"Разделение-данных-на-выборки-3.6\"><span class=\"toc-item-num\">3.6&nbsp;&nbsp;</span>Разделение данных на выборки</a></span></li><li><span><a href=\"#Маcштабирование-признаков\" data-toc-modified-id=\"Маcштабирование-признаков-3.7\"><span class=\"toc-item-num\">3.7&nbsp;&nbsp;</span>Маcштабирование признаков</a></span></li><li><span><a href=\"#Вывод-\" data-toc-modified-id=\"Вывод--3.8\"><span class=\"toc-item-num\">3.8&nbsp;&nbsp;</span>Вывод </a></span></li></ul></li><li><span><a href=\"#-Обучение-без-учета-дисбаланса-классов-\" data-toc-modified-id=\"-Обучение-без-учета-дисбаланса-классов--4\"><span class=\"toc-item-num\">4&nbsp;&nbsp;</span><font color=\"teal\"> Обучение без учета дисбаланса классов </font></a></span><ul class=\"toc-item\"><li><span><a href=\"#Выбор-модели\" data-toc-modified-id=\"Выбор-модели-4.1\"><span class=\"toc-item-num\">4.1&nbsp;&nbsp;</span>Выбор модели</a></span><ul class=\"toc-item\"><li><span><a href=\"#Дерево-решений\" data-toc-modified-id=\"Дерево-решений-4.1.1\"><span class=\"toc-item-num\">4.1.1&nbsp;&nbsp;</span>Дерево решений</a></span></li><li><span><a href=\"#Случайный-лес\" data-toc-modified-id=\"Случайный-лес-4.1.2\"><span class=\"toc-item-num\">4.1.2&nbsp;&nbsp;</span>Случайный лес</a></span></li><li><span><a href=\"#Логистическая-регрессия\" data-toc-modified-id=\"Логистическая-регрессия-4.1.3\"><span class=\"toc-item-num\">4.1.3&nbsp;&nbsp;</span>Логистическая регрессия</a></span></li><li><span><a href=\"#Модель-XGBoost\" data-toc-modified-id=\"Модель-XGBoost-4.1.4\"><span class=\"toc-item-num\">4.1.4&nbsp;&nbsp;</span>Модель XGBoost</a></span></li></ul></li><li><span><a href=\"#Проверка-адекватности-модели\" data-toc-modified-id=\"Проверка-адекватности-модели-4.2\"><span class=\"toc-item-num\">4.2&nbsp;&nbsp;</span>Проверка адекватности модели</a></span></li><li><span><a href=\"#Расчет-метрик\" data-toc-modified-id=\"Расчет-метрик-4.3\"><span class=\"toc-item-num\">4.3&nbsp;&nbsp;</span>Расчет метрик</a></span></li><li><span><a href=\"#Вывод-\" data-toc-modified-id=\"Вывод--4.4\"><span class=\"toc-item-num\">4.4&nbsp;&nbsp;</span>Вывод </a></span></li></ul></li><li><span><a href=\"#-Обучение-с-учетом-дисбаланса-классов\" data-toc-modified-id=\"-Обучение-с-учетом-дисбаланса-классов-5\"><span class=\"toc-item-num\">5&nbsp;&nbsp;</span><font color=\"teal\"> Обучение с учетом дисбаланса классов</font></a></span><ul class=\"toc-item\"><li><span><a href=\"#Upsampling\" data-toc-modified-id=\"Upsampling-5.1\"><span class=\"toc-item-num\">5.1&nbsp;&nbsp;</span>Upsampling</a></span></li><li><span><a href=\"#Обучение-модели\" data-toc-modified-id=\"Обучение-модели-5.2\"><span class=\"toc-item-num\">5.2&nbsp;&nbsp;</span>Обучение модели</a></span></li><li><span><a href=\"#Расчет-метрик\" data-toc-modified-id=\"Расчет-метрик-5.3\"><span class=\"toc-item-num\">5.3&nbsp;&nbsp;</span>Расчет метрик</a></span></li><li><span><a href=\"#Проверка-адекватности-модели-после-исправления-дисбаланса-классов\" data-toc-modified-id=\"Проверка-адекватности-модели-после-исправления-дисбаланса-классов-5.4\"><span class=\"toc-item-num\">5.4&nbsp;&nbsp;</span>Проверка адекватности модели после исправления дисбаланса классов</a></span></li><li><span><a href=\"#Вывод-\" data-toc-modified-id=\"Вывод--5.5\"><span class=\"toc-item-num\">5.5&nbsp;&nbsp;</span>Вывод </a></span></li></ul></li><li><span><a href=\"#Баг-репорт-\" data-toc-modified-id=\"Баг-репорт--6\"><span class=\"toc-item-num\">6&nbsp;&nbsp;</span>Баг-репорт </a></span></li><li><span><a href=\"#Общий-вывод\" data-toc-modified-id=\"Общий-вывод-7\"><span class=\"toc-item-num\">7&nbsp;&nbsp;</span>Общий вывод</a></span></li></ul></div>"
   ]
  },
  {
   "cell_type": "markdown",
   "id": "8015b3a1",
   "metadata": {},
   "source": [
    "<div style=\"border-radius: 15px; border:solid teal 3px; padding: 20px\"> <h1 style=\"color:teal; margin-bottom:20px\"><font size = 6>Обучение с учителем </h1></font>\n",
    "\n",
    "# Описание проекта\n",
    "\n",
    "Из «Бета-Банка» стали уходить клиенты. Каждый месяц. Немного, но заметно. Банковские маркетологи посчитали: сохранять текущих клиентов дешевле, чем привлекать новых.\n",
    "\n",
    "Исторические данные о поведении клиентов и расторжении договоров с банком содержатся в файле `/datasets/Churn.csv`.\n",
    "    \n",
    "# Цель исследования\n",
    "    \n",
    "Исследуя имеющиеся данные, подготовить модель, которая сможет спрогнозировать вероятность ухода клиента из банка в ближайшее время со значением целевой метрики **_F1 > 0.59_**."
   ]
  },
  {
   "cell_type": "markdown",
   "id": "42ef0279",
   "metadata": {},
   "source": [
    "## Импорты"
   ]
  },
  {
   "cell_type": "code",
   "execution_count": 1,
   "id": "72040843",
   "metadata": {},
   "outputs": [],
   "source": [
    "import warnings\n",
    "\n",
    "import matplotlib.pyplot as plt\n",
    "import numpy as np\n",
    "import pandas as pd\n",
    "import re\n",
    "import seaborn as sns\n",
    "import sklearn\n",
    "import xgboost as xgb\n",
    "\n",
    "from sklearn.dummy import DummyClassifier\n",
    "from sklearn.ensemble import RandomForestClassifier\n",
    "from sklearn.linear_model import LogisticRegression \n",
    "\n",
    "from sklearn.metrics import (\n",
    "    accuracy_score,\n",
    "    confusion_matrix,\n",
    "    f1_score,\n",
    "    precision_score,\n",
    "    recall_score,\n",
    "    roc_auc_score,\n",
    "    roc_curve\n",
    ")\n",
    "\n",
    "from sklearn.model_selection import (\n",
    "    RandomizedSearchCV,\n",
    "    train_test_split\n",
    ")\n",
    "from sklearn.preprocessing import (\n",
    "    OrdinalEncoder, \n",
    "    StandardScaler\n",
    ")\n",
    "from sklearn.tree import DecisionTreeClassifier\n",
    "from sklearn.utils import shuffle\n",
    "\n",
    "warnings.filterwarnings('ignore')\n",
    "\n",
    "CV=5\n",
    "RANDOM_STATE=12345"
   ]
  },
  {
   "cell_type": "markdown",
   "id": "a51648c3",
   "metadata": {},
   "source": [
    "## <font color = 'teal'> Общая информация о данных </font>\n",
    "\n",
    "### Сохранение данных в переменной\n",
    "\n",
    "Сохраним данные в переменную `df` и выведем общую информацию о таблице."
   ]
  },
  {
   "cell_type": "code",
   "execution_count": 2,
   "id": "11636e5f",
   "metadata": {},
   "outputs": [
    {
     "name": "stdout",
     "output_type": "stream",
     "text": [
      "<class 'pandas.core.frame.DataFrame'>\n",
      "RangeIndex: 10000 entries, 0 to 9999\n",
      "Data columns (total 14 columns):\n",
      " #   Column           Non-Null Count  Dtype  \n",
      "---  ------           --------------  -----  \n",
      " 0   RowNumber        10000 non-null  int64  \n",
      " 1   CustomerId       10000 non-null  int64  \n",
      " 2   Surname          10000 non-null  object \n",
      " 3   CreditScore      10000 non-null  int64  \n",
      " 4   Geography        10000 non-null  object \n",
      " 5   Gender           10000 non-null  object \n",
      " 6   Age              10000 non-null  int64  \n",
      " 7   Tenure           9091 non-null   float64\n",
      " 8   Balance          10000 non-null  float64\n",
      " 9   NumOfProducts    10000 non-null  int64  \n",
      " 10  HasCrCard        10000 non-null  int64  \n",
      " 11  IsActiveMember   10000 non-null  int64  \n",
      " 12  EstimatedSalary  10000 non-null  float64\n",
      " 13  Exited           10000 non-null  int64  \n",
      "dtypes: float64(3), int64(8), object(3)\n",
      "memory usage: 1.1+ MB\n"
     ]
    }
   ],
   "source": [
    "df = pd.read_csv(\n",
    "    'D:/1_Проекты Практикум/М_2/6_Отток клиентов/Churn.csv'\n",
    ")\n",
    "df.info()"
   ]
  },
  {
   "cell_type": "markdown",
   "id": "b4647910",
   "metadata": {},
   "source": [
    "Выведем первые строки таблицы с помощью `head()`."
   ]
  },
  {
   "cell_type": "code",
   "execution_count": 3,
   "id": "8252da0a",
   "metadata": {},
   "outputs": [
    {
     "data": {
      "text/html": [
       "<div>\n",
       "<style scoped>\n",
       "    .dataframe tbody tr th:only-of-type {\n",
       "        vertical-align: middle;\n",
       "    }\n",
       "\n",
       "    .dataframe tbody tr th {\n",
       "        vertical-align: top;\n",
       "    }\n",
       "\n",
       "    .dataframe thead th {\n",
       "        text-align: right;\n",
       "    }\n",
       "</style>\n",
       "<table border=\"1\" class=\"dataframe\">\n",
       "  <thead>\n",
       "    <tr style=\"text-align: right;\">\n",
       "      <th></th>\n",
       "      <th>RowNumber</th>\n",
       "      <th>CustomerId</th>\n",
       "      <th>Surname</th>\n",
       "      <th>CreditScore</th>\n",
       "      <th>Geography</th>\n",
       "      <th>Gender</th>\n",
       "      <th>Age</th>\n",
       "      <th>Tenure</th>\n",
       "      <th>Balance</th>\n",
       "      <th>NumOfProducts</th>\n",
       "      <th>HasCrCard</th>\n",
       "      <th>IsActiveMember</th>\n",
       "      <th>EstimatedSalary</th>\n",
       "      <th>Exited</th>\n",
       "    </tr>\n",
       "  </thead>\n",
       "  <tbody>\n",
       "    <tr>\n",
       "      <th>0</th>\n",
       "      <td>1</td>\n",
       "      <td>15634602</td>\n",
       "      <td>Hargrave</td>\n",
       "      <td>619</td>\n",
       "      <td>France</td>\n",
       "      <td>Female</td>\n",
       "      <td>42</td>\n",
       "      <td>2.0</td>\n",
       "      <td>0.00</td>\n",
       "      <td>1</td>\n",
       "      <td>1</td>\n",
       "      <td>1</td>\n",
       "      <td>101348.88</td>\n",
       "      <td>1</td>\n",
       "    </tr>\n",
       "    <tr>\n",
       "      <th>1</th>\n",
       "      <td>2</td>\n",
       "      <td>15647311</td>\n",
       "      <td>Hill</td>\n",
       "      <td>608</td>\n",
       "      <td>Spain</td>\n",
       "      <td>Female</td>\n",
       "      <td>41</td>\n",
       "      <td>1.0</td>\n",
       "      <td>83807.86</td>\n",
       "      <td>1</td>\n",
       "      <td>0</td>\n",
       "      <td>1</td>\n",
       "      <td>112542.58</td>\n",
       "      <td>0</td>\n",
       "    </tr>\n",
       "    <tr>\n",
       "      <th>2</th>\n",
       "      <td>3</td>\n",
       "      <td>15619304</td>\n",
       "      <td>Onio</td>\n",
       "      <td>502</td>\n",
       "      <td>France</td>\n",
       "      <td>Female</td>\n",
       "      <td>42</td>\n",
       "      <td>8.0</td>\n",
       "      <td>159660.80</td>\n",
       "      <td>3</td>\n",
       "      <td>1</td>\n",
       "      <td>0</td>\n",
       "      <td>113931.57</td>\n",
       "      <td>1</td>\n",
       "    </tr>\n",
       "    <tr>\n",
       "      <th>3</th>\n",
       "      <td>4</td>\n",
       "      <td>15701354</td>\n",
       "      <td>Boni</td>\n",
       "      <td>699</td>\n",
       "      <td>France</td>\n",
       "      <td>Female</td>\n",
       "      <td>39</td>\n",
       "      <td>1.0</td>\n",
       "      <td>0.00</td>\n",
       "      <td>2</td>\n",
       "      <td>0</td>\n",
       "      <td>0</td>\n",
       "      <td>93826.63</td>\n",
       "      <td>0</td>\n",
       "    </tr>\n",
       "    <tr>\n",
       "      <th>4</th>\n",
       "      <td>5</td>\n",
       "      <td>15737888</td>\n",
       "      <td>Mitchell</td>\n",
       "      <td>850</td>\n",
       "      <td>Spain</td>\n",
       "      <td>Female</td>\n",
       "      <td>43</td>\n",
       "      <td>2.0</td>\n",
       "      <td>125510.82</td>\n",
       "      <td>1</td>\n",
       "      <td>1</td>\n",
       "      <td>1</td>\n",
       "      <td>79084.10</td>\n",
       "      <td>0</td>\n",
       "    </tr>\n",
       "    <tr>\n",
       "      <th>5</th>\n",
       "      <td>6</td>\n",
       "      <td>15574012</td>\n",
       "      <td>Chu</td>\n",
       "      <td>645</td>\n",
       "      <td>Spain</td>\n",
       "      <td>Male</td>\n",
       "      <td>44</td>\n",
       "      <td>8.0</td>\n",
       "      <td>113755.78</td>\n",
       "      <td>2</td>\n",
       "      <td>1</td>\n",
       "      <td>0</td>\n",
       "      <td>149756.71</td>\n",
       "      <td>1</td>\n",
       "    </tr>\n",
       "    <tr>\n",
       "      <th>6</th>\n",
       "      <td>7</td>\n",
       "      <td>15592531</td>\n",
       "      <td>Bartlett</td>\n",
       "      <td>822</td>\n",
       "      <td>France</td>\n",
       "      <td>Male</td>\n",
       "      <td>50</td>\n",
       "      <td>7.0</td>\n",
       "      <td>0.00</td>\n",
       "      <td>2</td>\n",
       "      <td>1</td>\n",
       "      <td>1</td>\n",
       "      <td>10062.80</td>\n",
       "      <td>0</td>\n",
       "    </tr>\n",
       "    <tr>\n",
       "      <th>7</th>\n",
       "      <td>8</td>\n",
       "      <td>15656148</td>\n",
       "      <td>Obinna</td>\n",
       "      <td>376</td>\n",
       "      <td>Germany</td>\n",
       "      <td>Female</td>\n",
       "      <td>29</td>\n",
       "      <td>4.0</td>\n",
       "      <td>115046.74</td>\n",
       "      <td>4</td>\n",
       "      <td>1</td>\n",
       "      <td>0</td>\n",
       "      <td>119346.88</td>\n",
       "      <td>1</td>\n",
       "    </tr>\n",
       "    <tr>\n",
       "      <th>8</th>\n",
       "      <td>9</td>\n",
       "      <td>15792365</td>\n",
       "      <td>He</td>\n",
       "      <td>501</td>\n",
       "      <td>France</td>\n",
       "      <td>Male</td>\n",
       "      <td>44</td>\n",
       "      <td>4.0</td>\n",
       "      <td>142051.07</td>\n",
       "      <td>2</td>\n",
       "      <td>0</td>\n",
       "      <td>1</td>\n",
       "      <td>74940.50</td>\n",
       "      <td>0</td>\n",
       "    </tr>\n",
       "    <tr>\n",
       "      <th>9</th>\n",
       "      <td>10</td>\n",
       "      <td>15592389</td>\n",
       "      <td>H?</td>\n",
       "      <td>684</td>\n",
       "      <td>France</td>\n",
       "      <td>Male</td>\n",
       "      <td>27</td>\n",
       "      <td>2.0</td>\n",
       "      <td>134603.88</td>\n",
       "      <td>1</td>\n",
       "      <td>1</td>\n",
       "      <td>1</td>\n",
       "      <td>71725.73</td>\n",
       "      <td>0</td>\n",
       "    </tr>\n",
       "  </tbody>\n",
       "</table>\n",
       "</div>"
      ],
      "text/plain": [
       "   RowNumber  CustomerId   Surname  CreditScore Geography  Gender  Age  \\\n",
       "0          1    15634602  Hargrave          619    France  Female   42   \n",
       "1          2    15647311      Hill          608     Spain  Female   41   \n",
       "2          3    15619304      Onio          502    France  Female   42   \n",
       "3          4    15701354      Boni          699    France  Female   39   \n",
       "4          5    15737888  Mitchell          850     Spain  Female   43   \n",
       "5          6    15574012       Chu          645     Spain    Male   44   \n",
       "6          7    15592531  Bartlett          822    France    Male   50   \n",
       "7          8    15656148    Obinna          376   Germany  Female   29   \n",
       "8          9    15792365        He          501    France    Male   44   \n",
       "9         10    15592389        H?          684    France    Male   27   \n",
       "\n",
       "   Tenure    Balance  NumOfProducts  HasCrCard  IsActiveMember  \\\n",
       "0     2.0       0.00              1          1               1   \n",
       "1     1.0   83807.86              1          0               1   \n",
       "2     8.0  159660.80              3          1               0   \n",
       "3     1.0       0.00              2          0               0   \n",
       "4     2.0  125510.82              1          1               1   \n",
       "5     8.0  113755.78              2          1               0   \n",
       "6     7.0       0.00              2          1               1   \n",
       "7     4.0  115046.74              4          1               0   \n",
       "8     4.0  142051.07              2          0               1   \n",
       "9     2.0  134603.88              1          1               1   \n",
       "\n",
       "   EstimatedSalary  Exited  \n",
       "0        101348.88       1  \n",
       "1        112542.58       0  \n",
       "2        113931.57       1  \n",
       "3         93826.63       0  \n",
       "4         79084.10       0  \n",
       "5        149756.71       1  \n",
       "6         10062.80       0  \n",
       "7        119346.88       1  \n",
       "8         74940.50       0  \n",
       "9         71725.73       0  "
      ]
     },
     "execution_count": 3,
     "metadata": {},
     "output_type": "execute_result"
    }
   ],
   "source": [
    "df.head(10)"
   ]
  },
  {
   "cell_type": "markdown",
   "id": "2a74b474",
   "metadata": {},
   "source": [
    "Проанализируем показатели описательной статистики для всех столбцов в таблице."
   ]
  },
  {
   "cell_type": "code",
   "execution_count": 4,
   "id": "2e71c08b",
   "metadata": {},
   "outputs": [
    {
     "data": {
      "text/html": [
       "<div>\n",
       "<style scoped>\n",
       "    .dataframe tbody tr th:only-of-type {\n",
       "        vertical-align: middle;\n",
       "    }\n",
       "\n",
       "    .dataframe tbody tr th {\n",
       "        vertical-align: top;\n",
       "    }\n",
       "\n",
       "    .dataframe thead th {\n",
       "        text-align: right;\n",
       "    }\n",
       "</style>\n",
       "<table border=\"1\" class=\"dataframe\">\n",
       "  <thead>\n",
       "    <tr style=\"text-align: right;\">\n",
       "      <th></th>\n",
       "      <th>RowNumber</th>\n",
       "      <th>CustomerId</th>\n",
       "      <th>Surname</th>\n",
       "      <th>CreditScore</th>\n",
       "      <th>Geography</th>\n",
       "      <th>Gender</th>\n",
       "      <th>Age</th>\n",
       "      <th>Tenure</th>\n",
       "      <th>Balance</th>\n",
       "      <th>NumOfProducts</th>\n",
       "      <th>HasCrCard</th>\n",
       "      <th>IsActiveMember</th>\n",
       "      <th>EstimatedSalary</th>\n",
       "      <th>Exited</th>\n",
       "    </tr>\n",
       "  </thead>\n",
       "  <tbody>\n",
       "    <tr>\n",
       "      <th>count</th>\n",
       "      <td>10000.00000</td>\n",
       "      <td>1.000000e+04</td>\n",
       "      <td>10000</td>\n",
       "      <td>10000.000000</td>\n",
       "      <td>10000</td>\n",
       "      <td>10000</td>\n",
       "      <td>10000.000000</td>\n",
       "      <td>9091.000000</td>\n",
       "      <td>10000.000000</td>\n",
       "      <td>10000.000000</td>\n",
       "      <td>10000.00000</td>\n",
       "      <td>10000.000000</td>\n",
       "      <td>10000.000000</td>\n",
       "      <td>10000.000000</td>\n",
       "    </tr>\n",
       "    <tr>\n",
       "      <th>unique</th>\n",
       "      <td>NaN</td>\n",
       "      <td>NaN</td>\n",
       "      <td>2932</td>\n",
       "      <td>NaN</td>\n",
       "      <td>3</td>\n",
       "      <td>2</td>\n",
       "      <td>NaN</td>\n",
       "      <td>NaN</td>\n",
       "      <td>NaN</td>\n",
       "      <td>NaN</td>\n",
       "      <td>NaN</td>\n",
       "      <td>NaN</td>\n",
       "      <td>NaN</td>\n",
       "      <td>NaN</td>\n",
       "    </tr>\n",
       "    <tr>\n",
       "      <th>top</th>\n",
       "      <td>NaN</td>\n",
       "      <td>NaN</td>\n",
       "      <td>Smith</td>\n",
       "      <td>NaN</td>\n",
       "      <td>France</td>\n",
       "      <td>Male</td>\n",
       "      <td>NaN</td>\n",
       "      <td>NaN</td>\n",
       "      <td>NaN</td>\n",
       "      <td>NaN</td>\n",
       "      <td>NaN</td>\n",
       "      <td>NaN</td>\n",
       "      <td>NaN</td>\n",
       "      <td>NaN</td>\n",
       "    </tr>\n",
       "    <tr>\n",
       "      <th>freq</th>\n",
       "      <td>NaN</td>\n",
       "      <td>NaN</td>\n",
       "      <td>32</td>\n",
       "      <td>NaN</td>\n",
       "      <td>5014</td>\n",
       "      <td>5457</td>\n",
       "      <td>NaN</td>\n",
       "      <td>NaN</td>\n",
       "      <td>NaN</td>\n",
       "      <td>NaN</td>\n",
       "      <td>NaN</td>\n",
       "      <td>NaN</td>\n",
       "      <td>NaN</td>\n",
       "      <td>NaN</td>\n",
       "    </tr>\n",
       "    <tr>\n",
       "      <th>mean</th>\n",
       "      <td>5000.50000</td>\n",
       "      <td>1.569094e+07</td>\n",
       "      <td>NaN</td>\n",
       "      <td>650.528800</td>\n",
       "      <td>NaN</td>\n",
       "      <td>NaN</td>\n",
       "      <td>38.921800</td>\n",
       "      <td>4.997690</td>\n",
       "      <td>76485.889288</td>\n",
       "      <td>1.530200</td>\n",
       "      <td>0.70550</td>\n",
       "      <td>0.515100</td>\n",
       "      <td>100090.239881</td>\n",
       "      <td>0.203700</td>\n",
       "    </tr>\n",
       "    <tr>\n",
       "      <th>std</th>\n",
       "      <td>2886.89568</td>\n",
       "      <td>7.193619e+04</td>\n",
       "      <td>NaN</td>\n",
       "      <td>96.653299</td>\n",
       "      <td>NaN</td>\n",
       "      <td>NaN</td>\n",
       "      <td>10.487806</td>\n",
       "      <td>2.894723</td>\n",
       "      <td>62397.405202</td>\n",
       "      <td>0.581654</td>\n",
       "      <td>0.45584</td>\n",
       "      <td>0.499797</td>\n",
       "      <td>57510.492818</td>\n",
       "      <td>0.402769</td>\n",
       "    </tr>\n",
       "    <tr>\n",
       "      <th>min</th>\n",
       "      <td>1.00000</td>\n",
       "      <td>1.556570e+07</td>\n",
       "      <td>NaN</td>\n",
       "      <td>350.000000</td>\n",
       "      <td>NaN</td>\n",
       "      <td>NaN</td>\n",
       "      <td>18.000000</td>\n",
       "      <td>0.000000</td>\n",
       "      <td>0.000000</td>\n",
       "      <td>1.000000</td>\n",
       "      <td>0.00000</td>\n",
       "      <td>0.000000</td>\n",
       "      <td>11.580000</td>\n",
       "      <td>0.000000</td>\n",
       "    </tr>\n",
       "    <tr>\n",
       "      <th>25%</th>\n",
       "      <td>2500.75000</td>\n",
       "      <td>1.562853e+07</td>\n",
       "      <td>NaN</td>\n",
       "      <td>584.000000</td>\n",
       "      <td>NaN</td>\n",
       "      <td>NaN</td>\n",
       "      <td>32.000000</td>\n",
       "      <td>2.000000</td>\n",
       "      <td>0.000000</td>\n",
       "      <td>1.000000</td>\n",
       "      <td>0.00000</td>\n",
       "      <td>0.000000</td>\n",
       "      <td>51002.110000</td>\n",
       "      <td>0.000000</td>\n",
       "    </tr>\n",
       "    <tr>\n",
       "      <th>50%</th>\n",
       "      <td>5000.50000</td>\n",
       "      <td>1.569074e+07</td>\n",
       "      <td>NaN</td>\n",
       "      <td>652.000000</td>\n",
       "      <td>NaN</td>\n",
       "      <td>NaN</td>\n",
       "      <td>37.000000</td>\n",
       "      <td>5.000000</td>\n",
       "      <td>97198.540000</td>\n",
       "      <td>1.000000</td>\n",
       "      <td>1.00000</td>\n",
       "      <td>1.000000</td>\n",
       "      <td>100193.915000</td>\n",
       "      <td>0.000000</td>\n",
       "    </tr>\n",
       "    <tr>\n",
       "      <th>75%</th>\n",
       "      <td>7500.25000</td>\n",
       "      <td>1.575323e+07</td>\n",
       "      <td>NaN</td>\n",
       "      <td>718.000000</td>\n",
       "      <td>NaN</td>\n",
       "      <td>NaN</td>\n",
       "      <td>44.000000</td>\n",
       "      <td>7.000000</td>\n",
       "      <td>127644.240000</td>\n",
       "      <td>2.000000</td>\n",
       "      <td>1.00000</td>\n",
       "      <td>1.000000</td>\n",
       "      <td>149388.247500</td>\n",
       "      <td>0.000000</td>\n",
       "    </tr>\n",
       "    <tr>\n",
       "      <th>max</th>\n",
       "      <td>10000.00000</td>\n",
       "      <td>1.581569e+07</td>\n",
       "      <td>NaN</td>\n",
       "      <td>850.000000</td>\n",
       "      <td>NaN</td>\n",
       "      <td>NaN</td>\n",
       "      <td>92.000000</td>\n",
       "      <td>10.000000</td>\n",
       "      <td>250898.090000</td>\n",
       "      <td>4.000000</td>\n",
       "      <td>1.00000</td>\n",
       "      <td>1.000000</td>\n",
       "      <td>199992.480000</td>\n",
       "      <td>1.000000</td>\n",
       "    </tr>\n",
       "  </tbody>\n",
       "</table>\n",
       "</div>"
      ],
      "text/plain": [
       "          RowNumber    CustomerId Surname   CreditScore Geography Gender  \\\n",
       "count   10000.00000  1.000000e+04   10000  10000.000000     10000  10000   \n",
       "unique          NaN           NaN    2932           NaN         3      2   \n",
       "top             NaN           NaN   Smith           NaN    France   Male   \n",
       "freq            NaN           NaN      32           NaN      5014   5457   \n",
       "mean     5000.50000  1.569094e+07     NaN    650.528800       NaN    NaN   \n",
       "std      2886.89568  7.193619e+04     NaN     96.653299       NaN    NaN   \n",
       "min         1.00000  1.556570e+07     NaN    350.000000       NaN    NaN   \n",
       "25%      2500.75000  1.562853e+07     NaN    584.000000       NaN    NaN   \n",
       "50%      5000.50000  1.569074e+07     NaN    652.000000       NaN    NaN   \n",
       "75%      7500.25000  1.575323e+07     NaN    718.000000       NaN    NaN   \n",
       "max     10000.00000  1.581569e+07     NaN    850.000000       NaN    NaN   \n",
       "\n",
       "                 Age       Tenure        Balance  NumOfProducts    HasCrCard  \\\n",
       "count   10000.000000  9091.000000   10000.000000   10000.000000  10000.00000   \n",
       "unique           NaN          NaN            NaN            NaN          NaN   \n",
       "top              NaN          NaN            NaN            NaN          NaN   \n",
       "freq             NaN          NaN            NaN            NaN          NaN   \n",
       "mean       38.921800     4.997690   76485.889288       1.530200      0.70550   \n",
       "std        10.487806     2.894723   62397.405202       0.581654      0.45584   \n",
       "min        18.000000     0.000000       0.000000       1.000000      0.00000   \n",
       "25%        32.000000     2.000000       0.000000       1.000000      0.00000   \n",
       "50%        37.000000     5.000000   97198.540000       1.000000      1.00000   \n",
       "75%        44.000000     7.000000  127644.240000       2.000000      1.00000   \n",
       "max        92.000000    10.000000  250898.090000       4.000000      1.00000   \n",
       "\n",
       "        IsActiveMember  EstimatedSalary        Exited  \n",
       "count     10000.000000     10000.000000  10000.000000  \n",
       "unique             NaN              NaN           NaN  \n",
       "top                NaN              NaN           NaN  \n",
       "freq               NaN              NaN           NaN  \n",
       "mean          0.515100    100090.239881      0.203700  \n",
       "std           0.499797     57510.492818      0.402769  \n",
       "min           0.000000        11.580000      0.000000  \n",
       "25%           0.000000     51002.110000      0.000000  \n",
       "50%           1.000000    100193.915000      0.000000  \n",
       "75%           1.000000    149388.247500      0.000000  \n",
       "max           1.000000    199992.480000      1.000000  "
      ]
     },
     "execution_count": 4,
     "metadata": {},
     "output_type": "execute_result"
    }
   ],
   "source": [
    "df.describe(include='all')"
   ]
  },
  {
   "cell_type": "markdown",
   "id": "b9445120",
   "metadata": {},
   "source": [
    "### Описание данных \n",
    "\n",
    "#### Признаки\n",
    "\n",
    "* **RowNumber** — индекс строки в данных\n",
    "* **CustomerId** — уникальный идентификатор клиента\n",
    "* **Surname** — фамилия\n",
    "* **CreditScore** — кредитный рейтинг\n",
    "* **Geography** — страна проживания\n",
    "* **Gender** — пол\n",
    "* **Age** — возраст\n",
    "* **Tenure** — сколько лет человек является клиентом банка\n",
    "* **Balance** — баланс на счёте\n",
    "* **NumOfProducts** — количество продуктов банка, используемых клиентом\n",
    "* **HasCrCard** — наличие кредитной карты\n",
    "* **IsActiveMember** — активность клиента\n",
    "* **EstimatedSalary** — предполагаемая зарплата\n",
    "\n",
    "#### Целевой признак\n",
    "\n",
    "* **Exited** — факт ухода клиента"
   ]
  },
  {
   "cell_type": "markdown",
   "id": "d2d428f1",
   "metadata": {},
   "source": [
    "<div style=\"border-radius: 15px;border:solid teal 2px; padding: 20px\"> <h3 style=\"color:teal; margin-bottom:20px\">Вывод </h3>\n",
    "\n",
    "    \n",
    "* Таблица содержит **10000** строк, каждая строка содержит данные о продажах одной обном клиенте банка.\n",
    "* Данные содержатся в **14** столбцах.\n",
    "* В данных наблюдаются пропуски и неоптимальные названия столбцов. \n",
    "* В таблице содержатся как категориальные, так и количественные значения. </div>\n",
    "\n",
    "## <font color = 'teal'> Предобработка данных </font>\n",
    "\n",
    "Этапы предобработки данных:\n",
    "\n",
    "1. Переименование столбцов\n",
    "1. Обработка пропусков\n",
    "1. Поиск дубликатов\n",
    "1. Поиск и обработка аномалий\n",
    "1. Преобразование категориальных данных в численные\n",
    "1. Разделение данных на выборки\n",
    "1. Маcштабирование признаков\n",
    "\n",
    "### Переименование столбцов\n",
    "\n",
    "Выведем названия столбцов в таблице с помощью `columns`."
   ]
  },
  {
   "cell_type": "code",
   "execution_count": 5,
   "id": "5634f782",
   "metadata": {},
   "outputs": [
    {
     "data": {
      "text/plain": [
       "Index(['RowNumber', 'CustomerId', 'Surname', 'CreditScore', 'Geography',\n",
       "       'Gender', 'Age', 'Tenure', 'Balance', 'NumOfProducts', 'HasCrCard',\n",
       "       'IsActiveMember', 'EstimatedSalary', 'Exited'],\n",
       "      dtype='object')"
      ]
     },
     "execution_count": 5,
     "metadata": {},
     "output_type": "execute_result"
    }
   ],
   "source": [
    "df.columns"
   ]
  },
  {
   "cell_type": "markdown",
   "id": "fc0b8327",
   "metadata": {},
   "source": [
    "С помощью `rename()` приведем названия столбцов в один формат - строчными буквами в \"змеином\" регистре - и проверим успешность переименования."
   ]
  },
  {
   "cell_type": "code",
   "execution_count": 6,
   "id": "955d6670",
   "metadata": {},
   "outputs": [
    {
     "data": {
      "text/plain": [
       "Index(['row_number', 'customer_id', 'surname', 'credit_score', 'geography',\n",
       "       'gender', 'age', 'tenure', 'balance', 'num_of_products', 'has_cr_card',\n",
       "       'is_active_member', 'estimated_salary', 'exited'],\n",
       "      dtype='object')"
      ]
     },
     "execution_count": 6,
     "metadata": {},
     "output_type": "execute_result"
    }
   ],
   "source": [
    "for name in df.columns:\n",
    "    rena = re.sub(\n",
    "        r\"(?=[A-Z])(?!^)\", \n",
    "        '_', \n",
    "        name\n",
    "    ).lower()\n",
    "    df = df.rename(\n",
    "        columns={name:rena}\n",
    "    )\n",
    "    \n",
    "df.columns"
   ]
  },
  {
   "cell_type": "markdown",
   "id": "1745ae6d",
   "metadata": {},
   "source": [
    "Переименование проведено успешно, можно двигаться дальше."
   ]
  },
  {
   "cell_type": "markdown",
   "id": "55090db2",
   "metadata": {},
   "source": [
    "### Обработка пропусков\n",
    "\n",
    "Выведем количество пропусков в таблице с помощью комбинации функций `isna()` и `sum()`."
   ]
  },
  {
   "cell_type": "code",
   "execution_count": 7,
   "id": "5914959e",
   "metadata": {},
   "outputs": [
    {
     "data": {
      "text/plain": [
       "row_number            0\n",
       "customer_id           0\n",
       "surname               0\n",
       "credit_score          0\n",
       "geography             0\n",
       "gender                0\n",
       "age                   0\n",
       "tenure              909\n",
       "balance               0\n",
       "num_of_products       0\n",
       "has_cr_card           0\n",
       "is_active_member      0\n",
       "estimated_salary      0\n",
       "exited                0\n",
       "dtype: int64"
      ]
     },
     "execution_count": 7,
     "metadata": {},
     "output_type": "execute_result"
    }
   ],
   "source": [
    "df.isna().sum()"
   ]
  },
  {
   "cell_type": "markdown",
   "id": "053eeaa8",
   "metadata": {},
   "source": [
    "Пропуски обнаружены только в одном столбце `tenure`, содержащем информацию о количестве лет, в течение которых человек является клиентом банка. Количество пропусков в столбце составило **909**.\n",
    "\n",
    "Для поиска оптимального способа обработки пропусков проанализируем строки, в которых пропущены значения."
   ]
  },
  {
   "cell_type": "code",
   "execution_count": 8,
   "id": "5064159e",
   "metadata": {},
   "outputs": [
    {
     "data": {
      "text/html": [
       "<div>\n",
       "<style scoped>\n",
       "    .dataframe tbody tr th:only-of-type {\n",
       "        vertical-align: middle;\n",
       "    }\n",
       "\n",
       "    .dataframe tbody tr th {\n",
       "        vertical-align: top;\n",
       "    }\n",
       "\n",
       "    .dataframe thead th {\n",
       "        text-align: right;\n",
       "    }\n",
       "</style>\n",
       "<table border=\"1\" class=\"dataframe\">\n",
       "  <thead>\n",
       "    <tr style=\"text-align: right;\">\n",
       "      <th></th>\n",
       "      <th>row_number</th>\n",
       "      <th>customer_id</th>\n",
       "      <th>surname</th>\n",
       "      <th>credit_score</th>\n",
       "      <th>geography</th>\n",
       "      <th>gender</th>\n",
       "      <th>age</th>\n",
       "      <th>tenure</th>\n",
       "      <th>balance</th>\n",
       "      <th>num_of_products</th>\n",
       "      <th>has_cr_card</th>\n",
       "      <th>is_active_member</th>\n",
       "      <th>estimated_salary</th>\n",
       "      <th>exited</th>\n",
       "    </tr>\n",
       "  </thead>\n",
       "  <tbody>\n",
       "    <tr>\n",
       "      <th>30</th>\n",
       "      <td>31</td>\n",
       "      <td>15589475</td>\n",
       "      <td>Azikiwe</td>\n",
       "      <td>591</td>\n",
       "      <td>Spain</td>\n",
       "      <td>Female</td>\n",
       "      <td>39</td>\n",
       "      <td>NaN</td>\n",
       "      <td>0.00</td>\n",
       "      <td>3</td>\n",
       "      <td>1</td>\n",
       "      <td>0</td>\n",
       "      <td>140469.38</td>\n",
       "      <td>1</td>\n",
       "    </tr>\n",
       "    <tr>\n",
       "      <th>48</th>\n",
       "      <td>49</td>\n",
       "      <td>15766205</td>\n",
       "      <td>Yin</td>\n",
       "      <td>550</td>\n",
       "      <td>Germany</td>\n",
       "      <td>Male</td>\n",
       "      <td>38</td>\n",
       "      <td>NaN</td>\n",
       "      <td>103391.38</td>\n",
       "      <td>1</td>\n",
       "      <td>0</td>\n",
       "      <td>1</td>\n",
       "      <td>90878.13</td>\n",
       "      <td>0</td>\n",
       "    </tr>\n",
       "    <tr>\n",
       "      <th>51</th>\n",
       "      <td>52</td>\n",
       "      <td>15768193</td>\n",
       "      <td>Trevisani</td>\n",
       "      <td>585</td>\n",
       "      <td>Germany</td>\n",
       "      <td>Male</td>\n",
       "      <td>36</td>\n",
       "      <td>NaN</td>\n",
       "      <td>146050.97</td>\n",
       "      <td>2</td>\n",
       "      <td>0</td>\n",
       "      <td>0</td>\n",
       "      <td>86424.57</td>\n",
       "      <td>0</td>\n",
       "    </tr>\n",
       "    <tr>\n",
       "      <th>53</th>\n",
       "      <td>54</td>\n",
       "      <td>15702298</td>\n",
       "      <td>Parkhill</td>\n",
       "      <td>655</td>\n",
       "      <td>Germany</td>\n",
       "      <td>Male</td>\n",
       "      <td>41</td>\n",
       "      <td>NaN</td>\n",
       "      <td>125561.97</td>\n",
       "      <td>1</td>\n",
       "      <td>0</td>\n",
       "      <td>0</td>\n",
       "      <td>164040.94</td>\n",
       "      <td>1</td>\n",
       "    </tr>\n",
       "    <tr>\n",
       "      <th>60</th>\n",
       "      <td>61</td>\n",
       "      <td>15651280</td>\n",
       "      <td>Hunter</td>\n",
       "      <td>742</td>\n",
       "      <td>Germany</td>\n",
       "      <td>Male</td>\n",
       "      <td>35</td>\n",
       "      <td>NaN</td>\n",
       "      <td>136857.00</td>\n",
       "      <td>1</td>\n",
       "      <td>0</td>\n",
       "      <td>0</td>\n",
       "      <td>84509.57</td>\n",
       "      <td>0</td>\n",
       "    </tr>\n",
       "    <tr>\n",
       "      <th>82</th>\n",
       "      <td>83</td>\n",
       "      <td>15641732</td>\n",
       "      <td>Mills</td>\n",
       "      <td>543</td>\n",
       "      <td>France</td>\n",
       "      <td>Female</td>\n",
       "      <td>36</td>\n",
       "      <td>NaN</td>\n",
       "      <td>0.00</td>\n",
       "      <td>2</td>\n",
       "      <td>0</td>\n",
       "      <td>0</td>\n",
       "      <td>26019.59</td>\n",
       "      <td>0</td>\n",
       "    </tr>\n",
       "    <tr>\n",
       "      <th>85</th>\n",
       "      <td>86</td>\n",
       "      <td>15805254</td>\n",
       "      <td>Ndukaku</td>\n",
       "      <td>652</td>\n",
       "      <td>Spain</td>\n",
       "      <td>Female</td>\n",
       "      <td>75</td>\n",
       "      <td>NaN</td>\n",
       "      <td>0.00</td>\n",
       "      <td>2</td>\n",
       "      <td>1</td>\n",
       "      <td>1</td>\n",
       "      <td>114675.75</td>\n",
       "      <td>0</td>\n",
       "    </tr>\n",
       "    <tr>\n",
       "      <th>94</th>\n",
       "      <td>95</td>\n",
       "      <td>15676966</td>\n",
       "      <td>Capon</td>\n",
       "      <td>730</td>\n",
       "      <td>Spain</td>\n",
       "      <td>Male</td>\n",
       "      <td>42</td>\n",
       "      <td>NaN</td>\n",
       "      <td>0.00</td>\n",
       "      <td>2</td>\n",
       "      <td>0</td>\n",
       "      <td>1</td>\n",
       "      <td>85982.47</td>\n",
       "      <td>0</td>\n",
       "    </tr>\n",
       "    <tr>\n",
       "      <th>99</th>\n",
       "      <td>100</td>\n",
       "      <td>15633059</td>\n",
       "      <td>Fanucci</td>\n",
       "      <td>413</td>\n",
       "      <td>France</td>\n",
       "      <td>Male</td>\n",
       "      <td>34</td>\n",
       "      <td>NaN</td>\n",
       "      <td>0.00</td>\n",
       "      <td>2</td>\n",
       "      <td>0</td>\n",
       "      <td>0</td>\n",
       "      <td>6534.18</td>\n",
       "      <td>0</td>\n",
       "    </tr>\n",
       "    <tr>\n",
       "      <th>111</th>\n",
       "      <td>112</td>\n",
       "      <td>15665790</td>\n",
       "      <td>Rowntree</td>\n",
       "      <td>538</td>\n",
       "      <td>Germany</td>\n",
       "      <td>Male</td>\n",
       "      <td>39</td>\n",
       "      <td>NaN</td>\n",
       "      <td>108055.10</td>\n",
       "      <td>2</td>\n",
       "      <td>1</td>\n",
       "      <td>0</td>\n",
       "      <td>27231.26</td>\n",
       "      <td>0</td>\n",
       "    </tr>\n",
       "  </tbody>\n",
       "</table>\n",
       "</div>"
      ],
      "text/plain": [
       "     row_number  customer_id    surname  credit_score geography  gender  age  \\\n",
       "30           31     15589475    Azikiwe           591     Spain  Female   39   \n",
       "48           49     15766205        Yin           550   Germany    Male   38   \n",
       "51           52     15768193  Trevisani           585   Germany    Male   36   \n",
       "53           54     15702298   Parkhill           655   Germany    Male   41   \n",
       "60           61     15651280     Hunter           742   Germany    Male   35   \n",
       "82           83     15641732      Mills           543    France  Female   36   \n",
       "85           86     15805254    Ndukaku           652     Spain  Female   75   \n",
       "94           95     15676966      Capon           730     Spain    Male   42   \n",
       "99          100     15633059    Fanucci           413    France    Male   34   \n",
       "111         112     15665790   Rowntree           538   Germany    Male   39   \n",
       "\n",
       "     tenure    balance  num_of_products  has_cr_card  is_active_member  \\\n",
       "30      NaN       0.00                3            1                 0   \n",
       "48      NaN  103391.38                1            0                 1   \n",
       "51      NaN  146050.97                2            0                 0   \n",
       "53      NaN  125561.97                1            0                 0   \n",
       "60      NaN  136857.00                1            0                 0   \n",
       "82      NaN       0.00                2            0                 0   \n",
       "85      NaN       0.00                2            1                 1   \n",
       "94      NaN       0.00                2            0                 1   \n",
       "99      NaN       0.00                2            0                 0   \n",
       "111     NaN  108055.10                2            1                 0   \n",
       "\n",
       "     estimated_salary  exited  \n",
       "30          140469.38       1  \n",
       "48           90878.13       0  \n",
       "51           86424.57       0  \n",
       "53          164040.94       1  \n",
       "60           84509.57       0  \n",
       "82           26019.59       0  \n",
       "85          114675.75       0  \n",
       "94           85982.47       0  \n",
       "99            6534.18       0  \n",
       "111          27231.26       0  "
      ]
     },
     "execution_count": 8,
     "metadata": {},
     "output_type": "execute_result"
    }
   ],
   "source": [
    "df[\n",
    "    df['tenure'].isna()\n",
    "].head(10)"
   ]
  },
  {
   "cell_type": "markdown",
   "id": "a7920918",
   "metadata": {},
   "source": [
    "Никаких закономерностей в пропусках в зависимости от других значений не обнаружено. Значения в этом столбце не являются целевым признаком данного исследования. Для целей данного исследования заменим пропуски в этом столбце, добавив этот пункт в баг-репорт.\n",
    "\n",
    "Чтобы проверить, не повлияла ли замена пропусков на распределение признака, проанализируем визуализацию и показатели описательной статистики до и после замены."
   ]
  },
  {
   "cell_type": "code",
   "execution_count": 9,
   "id": "0b5ee796",
   "metadata": {},
   "outputs": [
    {
     "data": {
      "text/plain": [
       "1.0     952\n",
       "2.0     950\n",
       "8.0     933\n",
       "3.0     928\n",
       "5.0     927\n",
       "7.0     925\n",
       "4.0     885\n",
       "9.0     882\n",
       "6.0     881\n",
       "10.0    446\n",
       "0.0     382\n",
       "Name: tenure, dtype: int64"
      ]
     },
     "execution_count": 9,
     "metadata": {},
     "output_type": "execute_result"
    }
   ],
   "source": [
    "# Признак до замены пропусков\n",
    "df['tenure'].value_counts()"
   ]
  },
  {
   "cell_type": "code",
   "execution_count": 10,
   "id": "a3fe09b1",
   "metadata": {
    "scrolled": true
   },
   "outputs": [
    {
     "data": {
      "text/plain": [
       "count    9091.000000\n",
       "mean        4.997690\n",
       "std         2.894723\n",
       "min         0.000000\n",
       "25%         2.000000\n",
       "50%         5.000000\n",
       "75%         7.000000\n",
       "max        10.000000\n",
       "Name: tenure, dtype: float64"
      ]
     },
     "execution_count": 10,
     "metadata": {},
     "output_type": "execute_result"
    }
   ],
   "source": [
    "# Параметры описательной статистики до замены пропусков\n",
    "df['tenure'].describe()"
   ]
  },
  {
   "cell_type": "markdown",
   "id": "7362ee90",
   "metadata": {},
   "source": [
    "Для визуализации признаков здесь и далее будем использовать функцию `boxplot_hist`, которая выведет диаграмму размаха и гистограмму распределения значений в столбце."
   ]
  },
  {
   "cell_type": "code",
   "execution_count": 11,
   "id": "a3df0e09",
   "metadata": {},
   "outputs": [],
   "source": [
    "def boxplot_hist(df, input_column):\n",
    "\n",
    "# Диаграмма размаха \n",
    "# Выбросы\n",
    "    flierprops = dict(\n",
    "        marker='o', \n",
    "        markerfacecolor='None', \n",
    "        markersize=3,  \n",
    "        markeredgecolor='navy'\n",
    "    )\n",
    "    \n",
    "    sns.set(\n",
    "        rc={\n",
    "            'figure.figsize':(18,1)\n",
    "        })\n",
    "    \n",
    "    ax = sns.boxplot(\n",
    "        x=df[input_column],\n",
    "        showmeans=True,\n",
    "        color='navy',\n",
    "        width = .4,\n",
    "        meanprops={\n",
    "            \"marker\":\"o\",\n",
    "            \"markerfacecolor\":\"#fffafa\", \n",
    "            \"markeredgecolor\":\"#42024d\",\n",
    "            \"markersize\":\"8\"\n",
    "        },\n",
    "        flierprops = flierprops\n",
    "    )\n",
    "    plt.title(\n",
    "        'Диаграмма размаха для значений в столбце {0}'.format(\n",
    "            input_column.upper()), \n",
    "        fontsize=15\n",
    "    )\n",
    "    \n",
    "# Гистограмма    \n",
    "    fig= plt.subplots(figsize=(16,2.5))\n",
    "    sns.distplot(\n",
    "        df[input_column],\n",
    "        color='navy',\n",
    "    ).set_title(\n",
    "        'Гистограмма значений в столбце {0}'.format(\n",
    "            input_column.upper()), \n",
    "        fontsize=15\n",
    "    )\n",
    "    plt.show()"
   ]
  },
  {
   "cell_type": "code",
   "execution_count": 12,
   "id": "c172c0de",
   "metadata": {},
   "outputs": [
    {
     "data": {
      "image/png": "[encoded data removed]",
      "text/plain": [
       "<Figure size 1296x72 with 1 Axes>"
      ]
     },
     "metadata": {},
     "output_type": "display_data"
    },
    {
     "data": {
      "image/png": "[encoded data removed]",
      "text/plain": [
       "<Figure size 1152x180 with 1 Axes>"
      ]
     },
     "metadata": {},
     "output_type": "display_data"
    }
   ],
   "source": [
    "# Визуализация до замены пропусков\n",
    "boxplot_hist(df,'tenure')"
   ]
  },
  {
   "cell_type": "markdown",
   "id": "4de9e96b",
   "metadata": {},
   "source": [
    "Заменим пропуски в столбце **`tenure`** методом `ffill`, чтобы избежать сильного искажения распределения."
   ]
  },
  {
   "cell_type": "code",
   "execution_count": 13,
   "id": "fa7a360b",
   "metadata": {},
   "outputs": [
    {
     "data": {
      "text/plain": [
       "0"
      ]
     },
     "execution_count": 13,
     "metadata": {},
     "output_type": "execute_result"
    }
   ],
   "source": [
    "df['tenure'] = df['tenure'].fillna(\n",
    "    method='ffill'\n",
    ")\n",
    "\n",
    "df['tenure'].isna().sum()"
   ]
  },
  {
   "cell_type": "markdown",
   "id": "a3d8a004",
   "metadata": {},
   "source": [
    "Проверим, изменилось ли распределение значений параметра после замены пропусков."
   ]
  },
  {
   "cell_type": "code",
   "execution_count": 14,
   "id": "88988b8c",
   "metadata": {},
   "outputs": [
    {
     "data": {
      "text/plain": [
       "2.0     1063\n",
       "1.0     1039\n",
       "8.0     1032\n",
       "3.0     1029\n",
       "7.0     1028\n",
       "5.0     1028\n",
       "6.0      963\n",
       "4.0      955\n",
       "9.0      955\n",
       "10.0     489\n",
       "0.0      419\n",
       "Name: tenure, dtype: int64"
      ]
     },
     "execution_count": 14,
     "metadata": {},
     "output_type": "execute_result"
    }
   ],
   "source": [
    "# Признак до замены пропусков\n",
    "df['tenure'].value_counts()"
   ]
  },
  {
   "cell_type": "code",
   "execution_count": 15,
   "id": "3865a3ab",
   "metadata": {},
   "outputs": [
    {
     "data": {
      "text/plain": [
       "count    10000.000000\n",
       "mean         4.992700\n",
       "std          2.891588\n",
       "min          0.000000\n",
       "25%          2.000000\n",
       "50%          5.000000\n",
       "75%          7.000000\n",
       "max         10.000000\n",
       "Name: tenure, dtype: float64"
      ]
     },
     "execution_count": 15,
     "metadata": {},
     "output_type": "execute_result"
    }
   ],
   "source": [
    "# Параметры описательной статистики до замены пропусков\n",
    "df['tenure'].describe()"
   ]
  },
  {
   "cell_type": "code",
   "execution_count": 16,
   "id": "ff58d734",
   "metadata": {},
   "outputs": [
    {
     "data": {
      "image/png": "[encoded data removed]",
      "text/plain": [
       "<Figure size 1296x72 with 1 Axes>"
      ]
     },
     "metadata": {},
     "output_type": "display_data"
    },
    {
     "data": {
      "image/png": "[encoded data removed]",
      "text/plain": [
       "<Figure size 1152x180 with 1 Axes>"
      ]
     },
     "metadata": {},
     "output_type": "display_data"
    }
   ],
   "source": [
    "# Визуализация после замены пропусков\n",
    "boxplot_hist(df,'tenure')"
   ]
  },
  {
   "cell_type": "markdown",
   "id": "7cb09727",
   "metadata": {},
   "source": [
    "По распределению значений данных в столбце можно заметить изменение после замены пропусков, однако такое изменение вероятнее всего не повлияет на результаты исследования. Показатели описательной статистики изменились незначительно. Пропуски успешно обработаны, можем двигаться дальше.\n",
    "\n",
    "### Поиск дубликатов\n",
    "\n",
    "#### Поиск неявных дубликатов\n",
    "\n",
    "Возникновение неявных дубликатов в таблице возможно в столбцах `geography` и `gender`. \n",
    "\n",
    "##### Неявные дубликаты в столбце `geography`"
   ]
  },
  {
   "cell_type": "code",
   "execution_count": 17,
   "id": "6194f5a8",
   "metadata": {},
   "outputs": [
    {
     "data": {
      "text/plain": [
       "France     5014\n",
       "Germany    2509\n",
       "Spain      2477\n",
       "Name: geography, dtype: int64"
      ]
     },
     "execution_count": 17,
     "metadata": {},
     "output_type": "execute_result"
    }
   ],
   "source": [
    "df['geography'].value_counts()"
   ]
  },
  {
   "cell_type": "markdown",
   "id": "f6ab53fa",
   "metadata": {},
   "source": [
    "Неявных дубликатов в столбце `geography` не обнаружено, двигаемся дальше.\n",
    "\n",
    "##### Неявные дубликаты в столбце `gender` "
   ]
  },
  {
   "cell_type": "code",
   "execution_count": 18,
   "id": "4642986c",
   "metadata": {},
   "outputs": [
    {
     "data": {
      "text/plain": [
       "Male      5457\n",
       "Female    4543\n",
       "Name: gender, dtype: int64"
      ]
     },
     "execution_count": 18,
     "metadata": {},
     "output_type": "execute_result"
    }
   ],
   "source": [
    "df['gender'].value_counts()"
   ]
  },
  {
   "cell_type": "markdown",
   "id": "313a8a55",
   "metadata": {},
   "source": [
    "Неявных дубликатов в столбце `gender` также не обнаружено, можем двигаться дальше.\n",
    "\n",
    "#### Поиск явных дубликатов\n",
    "\n",
    "Проверим наличие явных дубликатов в таблице с помощью комбинации функций `duplicated()` и `sum()`. "
   ]
  },
  {
   "cell_type": "code",
   "execution_count": 19,
   "id": "36032f6a",
   "metadata": {},
   "outputs": [
    {
     "data": {
      "text/plain": [
       "0"
      ]
     },
     "execution_count": 19,
     "metadata": {},
     "output_type": "execute_result"
    }
   ],
   "source": [
    "df.duplicated().sum()"
   ]
  },
  {
   "cell_type": "markdown",
   "id": "e9e55104",
   "metadata": {},
   "source": [
    "Явных дубликатов в таблице не обнаружено, можем двигаться дальше.\n",
    "\n",
    "### Поиск аномалий\n",
    "\n",
    "Проверим значения следующих столбцов на наличие аномальных значений:\n",
    "* `credit_score`\n",
    "* `age`\n",
    "* `balance`\n",
    "* `num_of_products`\n",
    "* `has_cr_card` \n",
    "* `is_active_member`\n",
    "* `estimated_salary`\n",
    "* `exited`\n",
    "\n",
    "Проверим сначала категориальные значения `has_cr_card`, `is_active_member` и `exited`.\n",
    "\n",
    "#### Наличие кредитной карты"
   ]
  },
  {
   "cell_type": "code",
   "execution_count": 20,
   "id": "1a76770b",
   "metadata": {},
   "outputs": [
    {
     "data": {
      "text/plain": [
       "1    7055\n",
       "0    2945\n",
       "Name: has_cr_card, dtype: int64"
      ]
     },
     "execution_count": 20,
     "metadata": {},
     "output_type": "execute_result"
    }
   ],
   "source": [
    "df['has_cr_card'].value_counts()"
   ]
  },
  {
   "cell_type": "markdown",
   "id": "0d510c48",
   "metadata": {},
   "source": [
    "Аномалий в столбце не обнаружено, можем двигаться дальше.\n",
    "\n",
    "#### Активность клиента"
   ]
  },
  {
   "cell_type": "code",
   "execution_count": 21,
   "id": "16e0d585",
   "metadata": {},
   "outputs": [
    {
     "data": {
      "text/plain": [
       "1    5151\n",
       "0    4849\n",
       "Name: is_active_member, dtype: int64"
      ]
     },
     "execution_count": 21,
     "metadata": {},
     "output_type": "execute_result"
    }
   ],
   "source": [
    "df['is_active_member'].value_counts()"
   ]
  },
  {
   "cell_type": "markdown",
   "id": "777ac3a1",
   "metadata": {},
   "source": [
    "Аномалий в столбце не обнаружено, можем двигаться дальше.\n",
    "\n",
    "#### Уход клиента"
   ]
  },
  {
   "cell_type": "code",
   "execution_count": 22,
   "id": "5358b438",
   "metadata": {},
   "outputs": [
    {
     "data": {
      "text/plain": [
       "0    7963\n",
       "1    2037\n",
       "Name: exited, dtype: int64"
      ]
     },
     "execution_count": 22,
     "metadata": {},
     "output_type": "execute_result"
    }
   ],
   "source": [
    "df['exited'].value_counts()"
   ]
  },
  {
   "cell_type": "markdown",
   "id": "565e8faf",
   "metadata": {},
   "source": [
    "Аномалий в столбце не обнаружено, можем двигаться дальше. Теперь проверим столбцы с количественными значениями.\n",
    "\n",
    "#### Кредитный рейтинг\n",
    "\n",
    "Для визуализации распределения используем функцию `boxplot_hist`."
   ]
  },
  {
   "cell_type": "code",
   "execution_count": 23,
   "id": "ef221e17",
   "metadata": {},
   "outputs": [
    {
     "data": {
      "image/png": "[encoded data removed]",
      "text/plain": [
       "<Figure size 1296x72 with 1 Axes>"
      ]
     },
     "metadata": {},
     "output_type": "display_data"
    },
    {
     "data": {
      "image/png": "[encoded data removed]",
      "text/plain": [
       "<Figure size 1152x180 with 1 Axes>"
      ]
     },
     "metadata": {},
     "output_type": "display_data"
    }
   ],
   "source": [
    "boxplot_hist(df, 'credit_score')"
   ]
  },
  {
   "cell_type": "code",
   "execution_count": 24,
   "id": "2bcbe67f",
   "metadata": {},
   "outputs": [
    {
     "data": {
      "text/plain": [
       "count    10000.000000\n",
       "mean       650.528800\n",
       "std         96.653299\n",
       "min        350.000000\n",
       "25%        584.000000\n",
       "50%        652.000000\n",
       "75%        718.000000\n",
       "max        850.000000\n",
       "Name: credit_score, dtype: float64"
      ]
     },
     "execution_count": 24,
     "metadata": {},
     "output_type": "execute_result"
    }
   ],
   "source": [
    "df['credit_score'].describe()"
   ]
  },
  {
   "cell_type": "markdown",
   "id": "7e146ec1",
   "metadata": {},
   "source": [
    "Выбросы в столбце обнаружены, однако их количество незначительно, к тому же сами отклонения не далеко выходят за границы \"усов\" боксплота, поэтому оставим значения столбца как есть. Распределение практически не смещено относительного медианного значения.\n",
    "\n",
    "#### Возраст"
   ]
  },
  {
   "cell_type": "code",
   "execution_count": 25,
   "id": "23ec4ae6",
   "metadata": {},
   "outputs": [
    {
     "data": {
      "image/png": "[encoded data removed]",
      "text/plain": [
       "<Figure size 1296x72 with 1 Axes>"
      ]
     },
     "metadata": {},
     "output_type": "display_data"
    },
    {
     "data": {
      "image/png": "[encoded data removed]",
      "text/plain": [
       "<Figure size 1152x180 with 1 Axes>"
      ]
     },
     "metadata": {},
     "output_type": "display_data"
    }
   ],
   "source": [
    "boxplot_hist(df, 'age')"
   ]
  },
  {
   "cell_type": "code",
   "execution_count": 26,
   "id": "18216373",
   "metadata": {},
   "outputs": [
    {
     "data": {
      "text/plain": [
       "count    10000.000000\n",
       "mean        38.921800\n",
       "std         10.487806\n",
       "min         18.000000\n",
       "25%         32.000000\n",
       "50%         37.000000\n",
       "75%         44.000000\n",
       "max         92.000000\n",
       "Name: age, dtype: float64"
      ]
     },
     "execution_count": 26,
     "metadata": {},
     "output_type": "execute_result"
    }
   ],
   "source": [
    "df['age'].describe()"
   ]
  },
  {
   "cell_type": "markdown",
   "id": "ff9d9f5d",
   "metadata": {},
   "source": [
    "В столбце также есть значения, выходящие за границы \"усов\" бокплота, однако сами эти значения реалистичны, и количество их незначительно, поэтому также оставим эти значения как есть.\n",
    "\n",
    "Распределение несколько смещено вправо, поскольку медиана немного меньше среднего.\n",
    "\n",
    "#### Баланс"
   ]
  },
  {
   "cell_type": "code",
   "execution_count": 27,
   "id": "c27d88fd",
   "metadata": {},
   "outputs": [
    {
     "data": {
      "image/png": "[encoded data removed]",
      "text/plain": [
       "<Figure size 1296x72 with 1 Axes>"
      ]
     },
     "metadata": {},
     "output_type": "display_data"
    },
    {
     "data": {
      "image/png": "[encoded data removed]",
      "text/plain": [
       "<Figure size 1152x180 with 1 Axes>"
      ]
     },
     "metadata": {},
     "output_type": "display_data"
    }
   ],
   "source": [
    "boxplot_hist(df, 'balance')"
   ]
  },
  {
   "cell_type": "code",
   "execution_count": 28,
   "id": "4e8ccc34",
   "metadata": {},
   "outputs": [
    {
     "data": {
      "text/plain": [
       "count     10000.000000\n",
       "mean      76485.889288\n",
       "std       62397.405202\n",
       "min           0.000000\n",
       "25%           0.000000\n",
       "50%       97198.540000\n",
       "75%      127644.240000\n",
       "max      250898.090000\n",
       "Name: balance, dtype: float64"
      ]
     },
     "execution_count": 28,
     "metadata": {},
     "output_type": "execute_result"
    }
   ],
   "source": [
    "df['balance'].describe()"
   ]
  },
  {
   "cell_type": "markdown",
   "id": "9c93d53a",
   "metadata": {},
   "source": [
    "Выбросов в данном столбце не обнаружено, однако на гистограмме виден большой пик около нуля. Такое распределение не является аномальным (баланс на счете вполне может быть нулевым), однако большое количество данных около нуля смещает значительно распределение влево, и среднее в таком случае существенно меньше медианного значения. \n",
    "\n",
    "#### Количество продуктов"
   ]
  },
  {
   "cell_type": "code",
   "execution_count": 29,
   "id": "87adf8b0",
   "metadata": {},
   "outputs": [
    {
     "data": {
      "image/png": "[encoded data removed]",
      "text/plain": [
       "<Figure size 1296x72 with 1 Axes>"
      ]
     },
     "metadata": {},
     "output_type": "display_data"
    },
    {
     "data": {
      "image/png": "[encoded data removed]",
      "text/plain": [
       "<Figure size 1152x180 with 1 Axes>"
      ]
     },
     "metadata": {},
     "output_type": "display_data"
    }
   ],
   "source": [
    "boxplot_hist(df, 'num_of_products')"
   ]
  },
  {
   "cell_type": "code",
   "execution_count": 30,
   "id": "d92eda36",
   "metadata": {},
   "outputs": [
    {
     "data": {
      "text/plain": [
       "1    5084\n",
       "2    4590\n",
       "3     266\n",
       "4      60\n",
       "Name: num_of_products, dtype: int64"
      ]
     },
     "execution_count": 30,
     "metadata": {},
     "output_type": "execute_result"
    }
   ],
   "source": [
    "df['num_of_products'].value_counts()"
   ]
  },
  {
   "cell_type": "markdown",
   "id": "ce2f1cf6",
   "metadata": {},
   "source": [
    "Значения в этом столбце принимают одно из четырех значений - целые числа от 1 до 4. В данном столбце есть только одно значение, выходящее за границы \"усов\" - 4. Однако это значение вероятнее всего не является аномалией, поэтому также оставим их как есть. \n",
    "\n",
    "Для большинства клиентов этот признак принимает значение 1 или 2 (более 95%).\n",
    "\n",
    "#### Предполагаемая зарплата"
   ]
  },
  {
   "cell_type": "code",
   "execution_count": 31,
   "id": "7558a815",
   "metadata": {
    "scrolled": false
   },
   "outputs": [
    {
     "data": {
      "image/png": "[encoded data removed]",
      "text/plain": [
       "<Figure size 1296x72 with 1 Axes>"
      ]
     },
     "metadata": {},
     "output_type": "display_data"
    },
    {
     "data": {
      "image/png": "[encoded data removed]",
      "text/plain": [
       "<Figure size 1152x180 with 1 Axes>"
      ]
     },
     "metadata": {},
     "output_type": "display_data"
    }
   ],
   "source": [
    "boxplot_hist(df, 'estimated_salary')"
   ]
  },
  {
   "cell_type": "code",
   "execution_count": 32,
   "id": "f81ea422",
   "metadata": {},
   "outputs": [
    {
     "data": {
      "text/plain": [
       "count     10000.000000\n",
       "mean     100090.239881\n",
       "std       57510.492818\n",
       "min          11.580000\n",
       "25%       51002.110000\n",
       "50%      100193.915000\n",
       "75%      149388.247500\n",
       "max      199992.480000\n",
       "Name: estimated_salary, dtype: float64"
      ]
     },
     "execution_count": 32,
     "metadata": {},
     "output_type": "execute_result"
    }
   ],
   "source": [
    "df['estimated_salary'].describe()"
   ]
  },
  {
   "cell_type": "markdown",
   "id": "8cd6a759",
   "metadata": {},
   "source": [
    "Хотя судя по диаграмме размаха в столбце нет явных аномалий и в таблице представлены все значения диапазона 0 - 200 000 в сопоставимых количествах повторностей, некоторые значения этого столбца представляются тем не менее некорректными (например, слишком маленькие значения). Учитывая, что столбец носит название _Предполагаемая_ зарплата, можно предположить, что значения этого столбца добавлены в таблицу по результатам расчета на основании других параметров, и наличие аномально маленьких значений может свидетельствовать о некорректной модели расчета этих значений или об ошибках в исходных данных, на базе которых идет расчет. Добавим этот пункт в баг-репорт, чтобы обратить на него внимание разработчиков. Для целей данного исследования оставим значения этого столбца как есть."
   ]
  },
  {
   "cell_type": "markdown",
   "id": "da4b48bf",
   "metadata": {},
   "source": [
    "### Преобразование категориальных данных в численные\n",
    "\n",
    "Выведем типы данных в таблице."
   ]
  },
  {
   "cell_type": "code",
   "execution_count": 33,
   "id": "8aebb09a",
   "metadata": {},
   "outputs": [
    {
     "data": {
      "text/plain": [
       "row_number            int64\n",
       "customer_id           int64\n",
       "surname              object\n",
       "credit_score          int64\n",
       "geography            object\n",
       "gender               object\n",
       "age                   int64\n",
       "tenure              float64\n",
       "balance             float64\n",
       "num_of_products       int64\n",
       "has_cr_card           int64\n",
       "is_active_member      int64\n",
       "estimated_salary    float64\n",
       "exited                int64\n",
       "dtype: object"
      ]
     },
     "execution_count": 33,
     "metadata": {},
     "output_type": "execute_result"
    }
   ],
   "source": [
    "df.dtypes"
   ]
  },
  {
   "cell_type": "markdown",
   "id": "4d21fbf5",
   "metadata": {},
   "source": [
    "К типу `object` относятся столбцы `surname`, `geography`и `gender`. Столбец `surname` для целей данного исследования не потребуется, поэтому удалим его из таблицы.\n",
    "\n",
    "Также удалим столбец `row_number`, который по сути дублирует столбец с индексами, а также столбец`customer_id`, который для целей исследования тоже не потребуется."
   ]
  },
  {
   "cell_type": "code",
   "execution_count": 34,
   "id": "00c58868",
   "metadata": {},
   "outputs": [
    {
     "data": {
      "text/html": [
       "<div>\n",
       "<style scoped>\n",
       "    .dataframe tbody tr th:only-of-type {\n",
       "        vertical-align: middle;\n",
       "    }\n",
       "\n",
       "    .dataframe tbody tr th {\n",
       "        vertical-align: top;\n",
       "    }\n",
       "\n",
       "    .dataframe thead th {\n",
       "        text-align: right;\n",
       "    }\n",
       "</style>\n",
       "<table border=\"1\" class=\"dataframe\">\n",
       "  <thead>\n",
       "    <tr style=\"text-align: right;\">\n",
       "      <th></th>\n",
       "      <th>credit_score</th>\n",
       "      <th>geography</th>\n",
       "      <th>gender</th>\n",
       "      <th>age</th>\n",
       "      <th>tenure</th>\n",
       "      <th>balance</th>\n",
       "      <th>num_of_products</th>\n",
       "      <th>has_cr_card</th>\n",
       "      <th>is_active_member</th>\n",
       "      <th>estimated_salary</th>\n",
       "      <th>exited</th>\n",
       "    </tr>\n",
       "  </thead>\n",
       "  <tbody>\n",
       "    <tr>\n",
       "      <th>0</th>\n",
       "      <td>619</td>\n",
       "      <td>France</td>\n",
       "      <td>Female</td>\n",
       "      <td>42</td>\n",
       "      <td>2.0</td>\n",
       "      <td>0.00</td>\n",
       "      <td>1</td>\n",
       "      <td>1</td>\n",
       "      <td>1</td>\n",
       "      <td>101348.88</td>\n",
       "      <td>1</td>\n",
       "    </tr>\n",
       "    <tr>\n",
       "      <th>1</th>\n",
       "      <td>608</td>\n",
       "      <td>Spain</td>\n",
       "      <td>Female</td>\n",
       "      <td>41</td>\n",
       "      <td>1.0</td>\n",
       "      <td>83807.86</td>\n",
       "      <td>1</td>\n",
       "      <td>0</td>\n",
       "      <td>1</td>\n",
       "      <td>112542.58</td>\n",
       "      <td>0</td>\n",
       "    </tr>\n",
       "    <tr>\n",
       "      <th>2</th>\n",
       "      <td>502</td>\n",
       "      <td>France</td>\n",
       "      <td>Female</td>\n",
       "      <td>42</td>\n",
       "      <td>8.0</td>\n",
       "      <td>159660.80</td>\n",
       "      <td>3</td>\n",
       "      <td>1</td>\n",
       "      <td>0</td>\n",
       "      <td>113931.57</td>\n",
       "      <td>1</td>\n",
       "    </tr>\n",
       "    <tr>\n",
       "      <th>3</th>\n",
       "      <td>699</td>\n",
       "      <td>France</td>\n",
       "      <td>Female</td>\n",
       "      <td>39</td>\n",
       "      <td>1.0</td>\n",
       "      <td>0.00</td>\n",
       "      <td>2</td>\n",
       "      <td>0</td>\n",
       "      <td>0</td>\n",
       "      <td>93826.63</td>\n",
       "      <td>0</td>\n",
       "    </tr>\n",
       "    <tr>\n",
       "      <th>4</th>\n",
       "      <td>850</td>\n",
       "      <td>Spain</td>\n",
       "      <td>Female</td>\n",
       "      <td>43</td>\n",
       "      <td>2.0</td>\n",
       "      <td>125510.82</td>\n",
       "      <td>1</td>\n",
       "      <td>1</td>\n",
       "      <td>1</td>\n",
       "      <td>79084.10</td>\n",
       "      <td>0</td>\n",
       "    </tr>\n",
       "  </tbody>\n",
       "</table>\n",
       "</div>"
      ],
      "text/plain": [
       "   credit_score geography  gender  age  tenure    balance  num_of_products  \\\n",
       "0           619    France  Female   42     2.0       0.00                1   \n",
       "1           608     Spain  Female   41     1.0   83807.86                1   \n",
       "2           502    France  Female   42     8.0  159660.80                3   \n",
       "3           699    France  Female   39     1.0       0.00                2   \n",
       "4           850     Spain  Female   43     2.0  125510.82                1   \n",
       "\n",
       "   has_cr_card  is_active_member  estimated_salary  exited  \n",
       "0            1                 1         101348.88       1  \n",
       "1            0                 1         112542.58       0  \n",
       "2            1                 0         113931.57       1  \n",
       "3            0                 0          93826.63       0  \n",
       "4            1                 1          79084.10       0  "
      ]
     },
     "execution_count": 34,
     "metadata": {},
     "output_type": "execute_result"
    }
   ],
   "source": [
    "df = df.drop(\n",
    "    columns=[\n",
    "        'surname', \n",
    "        'row_number', \n",
    "        'customer_id'\n",
    "])\n",
    "\n",
    "# Проверка\n",
    "df.head()"
   ]
  },
  {
   "cell_type": "markdown",
   "id": "167be0d9",
   "metadata": {},
   "source": [
    "Ненужные столбцы успешно удалены. Теперь с помощью прямого кодирования преобразуем данные в столбцах `geography` и `gender` в численные, используя функцию `get_dummies()`."
   ]
  },
  {
   "cell_type": "code",
   "execution_count": 35,
   "id": "f24c6cbf",
   "metadata": {},
   "outputs": [
    {
     "data": {
      "text/html": [
       "<div>\n",
       "<style scoped>\n",
       "    .dataframe tbody tr th:only-of-type {\n",
       "        vertical-align: middle;\n",
       "    }\n",
       "\n",
       "    .dataframe tbody tr th {\n",
       "        vertical-align: top;\n",
       "    }\n",
       "\n",
       "    .dataframe thead th {\n",
       "        text-align: right;\n",
       "    }\n",
       "</style>\n",
       "<table border=\"1\" class=\"dataframe\">\n",
       "  <thead>\n",
       "    <tr style=\"text-align: right;\">\n",
       "      <th></th>\n",
       "      <th>credit_score</th>\n",
       "      <th>age</th>\n",
       "      <th>tenure</th>\n",
       "      <th>balance</th>\n",
       "      <th>num_of_products</th>\n",
       "      <th>has_cr_card</th>\n",
       "      <th>is_active_member</th>\n",
       "      <th>estimated_salary</th>\n",
       "      <th>exited</th>\n",
       "      <th>geography_Germany</th>\n",
       "      <th>geography_Spain</th>\n",
       "      <th>gender_Male</th>\n",
       "    </tr>\n",
       "  </thead>\n",
       "  <tbody>\n",
       "    <tr>\n",
       "      <th>0</th>\n",
       "      <td>619</td>\n",
       "      <td>42</td>\n",
       "      <td>2.0</td>\n",
       "      <td>0.00</td>\n",
       "      <td>1</td>\n",
       "      <td>1</td>\n",
       "      <td>1</td>\n",
       "      <td>101348.88</td>\n",
       "      <td>1</td>\n",
       "      <td>0</td>\n",
       "      <td>0</td>\n",
       "      <td>0</td>\n",
       "    </tr>\n",
       "    <tr>\n",
       "      <th>1</th>\n",
       "      <td>608</td>\n",
       "      <td>41</td>\n",
       "      <td>1.0</td>\n",
       "      <td>83807.86</td>\n",
       "      <td>1</td>\n",
       "      <td>0</td>\n",
       "      <td>1</td>\n",
       "      <td>112542.58</td>\n",
       "      <td>0</td>\n",
       "      <td>0</td>\n",
       "      <td>1</td>\n",
       "      <td>0</td>\n",
       "    </tr>\n",
       "    <tr>\n",
       "      <th>2</th>\n",
       "      <td>502</td>\n",
       "      <td>42</td>\n",
       "      <td>8.0</td>\n",
       "      <td>159660.80</td>\n",
       "      <td>3</td>\n",
       "      <td>1</td>\n",
       "      <td>0</td>\n",
       "      <td>113931.57</td>\n",
       "      <td>1</td>\n",
       "      <td>0</td>\n",
       "      <td>0</td>\n",
       "      <td>0</td>\n",
       "    </tr>\n",
       "    <tr>\n",
       "      <th>3</th>\n",
       "      <td>699</td>\n",
       "      <td>39</td>\n",
       "      <td>1.0</td>\n",
       "      <td>0.00</td>\n",
       "      <td>2</td>\n",
       "      <td>0</td>\n",
       "      <td>0</td>\n",
       "      <td>93826.63</td>\n",
       "      <td>0</td>\n",
       "      <td>0</td>\n",
       "      <td>0</td>\n",
       "      <td>0</td>\n",
       "    </tr>\n",
       "    <tr>\n",
       "      <th>4</th>\n",
       "      <td>850</td>\n",
       "      <td>43</td>\n",
       "      <td>2.0</td>\n",
       "      <td>125510.82</td>\n",
       "      <td>1</td>\n",
       "      <td>1</td>\n",
       "      <td>1</td>\n",
       "      <td>79084.10</td>\n",
       "      <td>0</td>\n",
       "      <td>0</td>\n",
       "      <td>1</td>\n",
       "      <td>0</td>\n",
       "    </tr>\n",
       "  </tbody>\n",
       "</table>\n",
       "</div>"
      ],
      "text/plain": [
       "   credit_score  age  tenure    balance  num_of_products  has_cr_card  \\\n",
       "0           619   42     2.0       0.00                1            1   \n",
       "1           608   41     1.0   83807.86                1            0   \n",
       "2           502   42     8.0  159660.80                3            1   \n",
       "3           699   39     1.0       0.00                2            0   \n",
       "4           850   43     2.0  125510.82                1            1   \n",
       "\n",
       "   is_active_member  estimated_salary  exited  geography_Germany  \\\n",
       "0                 1         101348.88       1                  0   \n",
       "1                 1         112542.58       0                  0   \n",
       "2                 0         113931.57       1                  0   \n",
       "3                 0          93826.63       0                  0   \n",
       "4                 1          79084.10       0                  0   \n",
       "\n",
       "   geography_Spain  gender_Male  \n",
       "0                0            0  \n",
       "1                1            0  \n",
       "2                0            0  \n",
       "3                0            0  \n",
       "4                1            0  "
      ]
     },
     "execution_count": 35,
     "metadata": {},
     "output_type": "execute_result"
    }
   ],
   "source": [
    "df = pd.get_dummies(\n",
    "    df, \n",
    "    drop_first=True\n",
    ")\n",
    "\n",
    "# Проверка\n",
    "df.head()"
   ]
  },
  {
   "cell_type": "code",
   "execution_count": 36,
   "id": "063e740d",
   "metadata": {},
   "outputs": [
    {
     "data": {
      "text/plain": [
       "Index(['credit_score', 'age', 'tenure', 'balance', 'num_of_products',\n",
       "       'has_cr_card', 'is_active_member', 'estimated_salary', 'exited',\n",
       "       'geography_Germany', 'geography_Spain', 'gender_Male'],\n",
       "      dtype='object')"
      ]
     },
     "execution_count": 36,
     "metadata": {},
     "output_type": "execute_result"
    }
   ],
   "source": [
    "df.columns"
   ]
  },
  {
   "cell_type": "markdown",
   "id": "ea1844e4",
   "metadata": {},
   "source": [
    "Категориальные данные успешно преобразованы в количественные, можем двигаться дальше. "
   ]
  },
  {
   "cell_type": "markdown",
   "id": "e6d224eb",
   "metadata": {},
   "source": [
    "### Разделение данных на выборки\n",
    "\n",
    "Выделим признаки и целевой признак в таблице."
   ]
  },
  {
   "cell_type": "code",
   "execution_count": 37,
   "id": "ce89ef1f",
   "metadata": {},
   "outputs": [],
   "source": [
    "# Признаки\n",
    "features = df.drop(\n",
    "    ['exited'], \n",
    "    axis = 1\n",
    ") \n",
    "\n",
    "# Целевой признак\n",
    "target = df['exited']"
   ]
  },
  {
   "cell_type": "markdown",
   "id": "337b907b",
   "metadata": {},
   "source": [
    "Разделим выборки на обучающую и тестовую выборки в соотношении 1:3."
   ]
  },
  {
   "cell_type": "code",
   "execution_count": 38,
   "id": "f9634218",
   "metadata": {},
   "outputs": [],
   "source": [
    "(\n",
    "    features_train, \n",
    "    features_test, \n",
    "    target_train, \n",
    "    target_test\n",
    ") = train_test_split(\n",
    "        features, \n",
    "        target,\n",
    "        test_size=0.25,\n",
    "        random_state=RANDOM_STATE,\n",
    "        stratify=target) "
   ]
  },
  {
   "cell_type": "markdown",
   "id": "4a17e9f2",
   "metadata": {},
   "source": [
    "Проверим корректность создания выборок и выделения признаков."
   ]
  },
  {
   "cell_type": "code",
   "execution_count": 39,
   "id": "606d3208",
   "metadata": {},
   "outputs": [
    {
     "data": {
      "text/html": [
       "<div>\n",
       "<style scoped>\n",
       "    .dataframe tbody tr th:only-of-type {\n",
       "        vertical-align: middle;\n",
       "    }\n",
       "\n",
       "    .dataframe tbody tr th {\n",
       "        vertical-align: top;\n",
       "    }\n",
       "\n",
       "    .dataframe thead th {\n",
       "        text-align: right;\n",
       "    }\n",
       "</style>\n",
       "<table border=\"1\" class=\"dataframe\">\n",
       "  <thead>\n",
       "    <tr style=\"text-align: right;\">\n",
       "      <th></th>\n",
       "      <th>Выборка</th>\n",
       "      <th>Признаки</th>\n",
       "      <th>Целевой признак</th>\n",
       "      <th>Доля выборки, %</th>\n",
       "    </tr>\n",
       "  </thead>\n",
       "  <tbody>\n",
       "    <tr>\n",
       "      <th>0</th>\n",
       "      <td>Исходная</td>\n",
       "      <td>(10000, 12)</td>\n",
       "      <td>NaN</td>\n",
       "      <td>NaN</td>\n",
       "    </tr>\n",
       "    <tr>\n",
       "      <th>1</th>\n",
       "      <td>Тестовая</td>\n",
       "      <td>(2500, 11)</td>\n",
       "      <td>(2500,)</td>\n",
       "      <td>25.0</td>\n",
       "    </tr>\n",
       "    <tr>\n",
       "      <th>2</th>\n",
       "      <td>Обучающая</td>\n",
       "      <td>(7500, 11)</td>\n",
       "      <td>(7500,)</td>\n",
       "      <td>75.0</td>\n",
       "    </tr>\n",
       "  </tbody>\n",
       "</table>\n",
       "</div>"
      ],
      "text/plain": [
       "     Выборка     Признаки Целевой признак Доля выборки, %\n",
       "0   Исходная  (10000, 12)             NaN             NaN\n",
       "1   Тестовая   (2500, 11)         (2500,)            25.0\n",
       "2  Обучающая   (7500, 11)         (7500,)            75.0"
      ]
     },
     "execution_count": 39,
     "metadata": {},
     "output_type": "execute_result"
    }
   ],
   "source": [
    "shape_vocab = {\n",
    "    'Выборка': [\n",
    "        'Исходная',\n",
    "        'Тестовая', \n",
    "        'Обучающая'\n",
    "    ],\n",
    "    'Признаки': [\n",
    "        df.shape,\n",
    "        features_test.shape,\n",
    "        features_train.shape\n",
    "    ],\n",
    "    'Целевой признак': [\n",
    "        'NaN',\n",
    "        target_test.shape,\n",
    "        target_train.shape\n",
    "    ],\n",
    "    'Доля выборки, %': [\n",
    "        'NaN',\n",
    "        round(\n",
    "            (target_test.shape[0]*100)/df.shape[0],\n",
    "            1),\n",
    "        round(\n",
    "            (target_train.shape[0]*100)/df.shape[0],\n",
    "            1)\n",
    "    ]}\n",
    "\n",
    "shape_df = pd.DataFrame(\n",
    "    data=shape_vocab\n",
    ")\n",
    "shape_df"
   ]
  },
  {
   "cell_type": "markdown",
   "id": "d8008a65",
   "metadata": {},
   "source": [
    "Выборки и признаки выделены корректно, двигаемся дальше."
   ]
  },
  {
   "cell_type": "markdown",
   "id": "baf5abd4",
   "metadata": {},
   "source": [
    "### Маcштабирование признаков\n",
    "\n",
    "С помощью `StandardScaler` приведем признаки к одному масштабу."
   ]
  },
  {
   "cell_type": "code",
   "execution_count": 40,
   "id": "7e7c8da1",
   "metadata": {},
   "outputs": [],
   "source": [
    "scaler = StandardScaler()\n",
    "\n",
    "scaler.fit(\n",
    "    features_train\n",
    ") \n",
    "features_train = scaler.transform(\n",
    "    features_train\n",
    ")\n",
    "\n",
    "features_test = scaler.transform(\n",
    "    features_test\n",
    ")\n",
    "pd.options.mode.chained_assignment = None"
   ]
  },
  {
   "cell_type": "markdown",
   "id": "0e838ea1",
   "metadata": {},
   "source": [
    "Проверим корректность масштабирования."
   ]
  },
  {
   "cell_type": "code",
   "execution_count": 41,
   "id": "7e3a5ad1",
   "metadata": {},
   "outputs": [
    {
     "data": {
      "text/plain": [
       "array([ 0.06077206, -0.37601473,  0.34181411, -1.22276199,  0.80752419,\n",
       "        0.65236837, -1.03446007, -1.72528702, -0.57858195, -0.57365519,\n",
       "        0.90990702])"
      ]
     },
     "execution_count": 41,
     "metadata": {},
     "output_type": "execute_result"
    }
   ],
   "source": [
    "features_train[5]"
   ]
  },
  {
   "cell_type": "markdown",
   "id": "72b0cd2b",
   "metadata": {},
   "source": [
    "Масштабирование проведено успешно, можем двигаться дальше."
   ]
  },
  {
   "cell_type": "markdown",
   "id": "36b68d2a",
   "metadata": {},
   "source": [
    "<div style=\"border-radius: 15px;border:solid teal 2px; padding: 20px\"> <h3 style=\"color:teal; margin-bottom:20px\">Вывод </h3>\n",
    "    \n",
    "* Названия всех столбцов приведены к **нижнему регистру**. \n",
    "* **Пропуски** обнаружены в столбце `tenure`. Пропуски заменены с использованием метода `ffill`, комментарий добавлен в баг-репорт.\n",
    "* **Дубликатов** (явных и неявных) в таблице не обнаружено.\n",
    "* Проведен анализ на наличие в таблице **аномальных значений**. Значения оставлены как есть, комментарий в отношении столбца `estimated_salary` добавлен в баг-репорт.\n",
    "* Столбцы `surname`, `row_number` и`customer_id` **удалены** как нерелевантные для целей данного исследования.\n",
    "* Методом прямого кодирования значения в столбцах `geography` и `gender` преобразованы в **численные**.\n",
    "* Проведено **масштабирование** признаков в таблице."
   ]
  },
  {
   "cell_type": "markdown",
   "id": "9ea88a24",
   "metadata": {},
   "source": [
    "## <font color = 'teal'> Обучение без учета дисбаланса классов </font>"
   ]
  },
  {
   "cell_type": "markdown",
   "id": "8aa9698d",
   "metadata": {},
   "source": [
    "### Выбор модели\n",
    "#### Дерево решений\n",
    "\n",
    "С использованием `RandomizedSearchCV` найдем оптимальные гиперпараметры модели."
   ]
  },
  {
   "cell_type": "code",
   "execution_count": 42,
   "id": "03c3f2ba",
   "metadata": {},
   "outputs": [],
   "source": [
    "parameters = {\n",
    "    'min_samples_split': range (0, 10, 1),           \n",
    "    'max_depth': range (0, 25, 1),\n",
    "    'min_samples_leaf': range (0, 10, 1)\n",
    "}"
   ]
  },
  {
   "cell_type": "code",
   "execution_count": 43,
   "id": "79b4286a",
   "metadata": {},
   "outputs": [
    {
     "name": "stdout",
     "output_type": "stream",
     "text": [
      "Wall time: 4.71 s\n"
     ]
    },
    {
     "data": {
      "text/plain": [
       "RandomizedSearchCV(cv=5, estimator=DecisionTreeClassifier(random_state=12345),\n",
       "                   n_jobs=-1,\n",
       "                   param_distributions={'max_depth': range(0, 25),\n",
       "                                        'min_samples_leaf': range(0, 10),\n",
       "                                        'min_samples_split': range(0, 10)},\n",
       "                   random_state=12345, scoring='accuracy')"
      ]
     },
     "execution_count": 43,
     "metadata": {},
     "output_type": "execute_result"
    }
   ],
   "source": [
    "%%time\n",
    "\n",
    "search_dt = RandomizedSearchCV(\n",
    "    DecisionTreeClassifier(\n",
    "        random_state=RANDOM_STATE\n",
    "    ), \n",
    "    parameters, \n",
    "    random_state=RANDOM_STATE, \n",
    "    cv=CV, \n",
    "    scoring='accuracy', \n",
    "    n_jobs=-1\n",
    ")\n",
    "\n",
    "search_dt.fit(\n",
    "    features_train, \n",
    "    target_train\n",
    ")"
   ]
  },
  {
   "cell_type": "code",
   "execution_count": 44,
   "id": "46583ee2",
   "metadata": {},
   "outputs": [
    {
     "data": {
      "text/plain": [
       "{'min_samples_split': 3, 'min_samples_leaf': 1, 'max_depth': 7}"
      ]
     },
     "execution_count": 44,
     "metadata": {},
     "output_type": "execute_result"
    }
   ],
   "source": [
    "search_dt.best_params_"
   ]
  },
  {
   "cell_type": "code",
   "execution_count": 45,
   "id": "86882887",
   "metadata": {},
   "outputs": [
    {
     "name": "stdout",
     "output_type": "stream",
     "text": [
      "Accuracy на обучающей выборке: 0.855\n"
     ]
    }
   ],
   "source": [
    "print(\n",
    "    'Accuracy на обучающей выборке:', \n",
    "    abs(search_dt.best_score_).round(3)\n",
    ")"
   ]
  },
  {
   "cell_type": "markdown",
   "id": "5a88d993",
   "metadata": {},
   "source": [
    "Точность, достигнутая на валидационной выборке при использовании модели _**Дерево решений**_, составила **0.855**."
   ]
  },
  {
   "cell_type": "markdown",
   "id": "1ce225b9",
   "metadata": {},
   "source": [
    "#### Случайный лес\n",
    "\n",
    "С помощью `RandomizedSearchCV` найдем оптимальные гиперпараметры для модели **_Случайный лес_**."
   ]
  },
  {
   "cell_type": "code",
   "execution_count": 46,
   "id": "46a2601f",
   "metadata": {},
   "outputs": [],
   "source": [
    "parameters = {\n",
    "    'n_estimators': range (0, 500, 50),           \n",
    "    'max_depth': range (0, 25, 1),\n",
    "    'min_samples_leaf': range (0, 5, 1),\n",
    "    'min_samples_split': range (0, 5, 1)\n",
    "}"
   ]
  },
  {
   "cell_type": "code",
   "execution_count": 47,
   "id": "2e6bd16c",
   "metadata": {},
   "outputs": [
    {
     "name": "stdout",
     "output_type": "stream",
     "text": [
      "Wall time: 19.7 s\n"
     ]
    },
    {
     "data": {
      "text/plain": [
       "RandomizedSearchCV(cv=5, estimator=RandomForestClassifier(random_state=12345),\n",
       "                   n_jobs=-1,\n",
       "                   param_distributions={'max_depth': range(0, 25),\n",
       "                                        'min_samples_leaf': range(0, 5),\n",
       "                                        'min_samples_split': range(0, 5),\n",
       "                                        'n_estimators': range(0, 500, 50)},\n",
       "                   random_state=12345, scoring='accuracy')"
      ]
     },
     "execution_count": 47,
     "metadata": {},
     "output_type": "execute_result"
    }
   ],
   "source": [
    "%%time\n",
    "\n",
    "search_rf = RandomizedSearchCV(\n",
    "    RandomForestClassifier(\n",
    "        random_state=RANDOM_STATE\n",
    "    ), \n",
    "    parameters, \n",
    "    random_state=RANDOM_STATE, \n",
    "    cv=CV, \n",
    "    scoring='accuracy', \n",
    "    n_jobs=-1\n",
    ")\n",
    "\n",
    "search_rf.fit(\n",
    "    features_train, \n",
    "    target_train\n",
    ")"
   ]
  },
  {
   "cell_type": "code",
   "execution_count": 48,
   "id": "80bf930b",
   "metadata": {},
   "outputs": [
    {
     "data": {
      "text/plain": [
       "{'n_estimators': 450,\n",
       " 'min_samples_split': 2,\n",
       " 'min_samples_leaf': 3,\n",
       " 'max_depth': 13}"
      ]
     },
     "execution_count": 48,
     "metadata": {},
     "output_type": "execute_result"
    }
   ],
   "source": [
    "search_rf.best_params_"
   ]
  },
  {
   "cell_type": "code",
   "execution_count": 49,
   "id": "32f4be83",
   "metadata": {},
   "outputs": [
    {
     "name": "stdout",
     "output_type": "stream",
     "text": [
      "Accuracy на обучающей выборке: 0.864\n"
     ]
    }
   ],
   "source": [
    "print(\n",
    "    'Accuracy на обучающей выборке:', \n",
    "    abs(search_rf.best_score_).round(3)\n",
    ")"
   ]
  },
  {
   "cell_type": "markdown",
   "id": "a6e7a575",
   "metadata": {},
   "source": [
    "Точность, достигнутая на валидационной выборке при использовании модели _**Случайный лес**_, составила **0.864**."
   ]
  },
  {
   "cell_type": "markdown",
   "id": "d2848c45",
   "metadata": {},
   "source": [
    "#### Логистическая регрессия"
   ]
  },
  {
   "cell_type": "code",
   "execution_count": 50,
   "id": "49a81fb1",
   "metadata": {},
   "outputs": [],
   "source": [
    "parameters = {\n",
    "    'fit_intercept':[True, False],           \n",
    "    'max_iter': range (0, 500, 50),\n",
    "    'solver': [\n",
    "        'auto', \n",
    "        'svd', \n",
    "        'cholesky', \n",
    "        'lsqr', \n",
    "        'sparse_cg', \n",
    "        'sag', \n",
    "        'saga', \n",
    "        'lbfgs'\n",
    "    ]}"
   ]
  },
  {
   "cell_type": "code",
   "execution_count": 51,
   "id": "82bff59b",
   "metadata": {},
   "outputs": [
    {
     "name": "stdout",
     "output_type": "stream",
     "text": [
      "Wall time: 175 ms\n"
     ]
    },
    {
     "data": {
      "text/plain": [
       "RandomizedSearchCV(cv=5, estimator=LogisticRegression(random_state=12345),\n",
       "                   n_jobs=-1,\n",
       "                   param_distributions={'fit_intercept': [True, False],\n",
       "                                        'max_iter': range(0, 500, 50),\n",
       "                                        'solver': ['auto', 'svd', 'cholesky',\n",
       "                                                   'lsqr', 'sparse_cg', 'sag',\n",
       "                                                   'saga', 'lbfgs']},\n",
       "                   random_state=12345, scoring='accuracy')"
      ]
     },
     "execution_count": 51,
     "metadata": {},
     "output_type": "execute_result"
    }
   ],
   "source": [
    "%%time\n",
    "\n",
    "search_lr = RandomizedSearchCV(\n",
    "    LogisticRegression(\n",
    "        random_state=RANDOM_STATE\n",
    "    ), \n",
    "    parameters, \n",
    "    random_state=RANDOM_STATE, \n",
    "    cv=CV, \n",
    "    scoring='accuracy', \n",
    "    n_jobs=-1\n",
    ")\n",
    "\n",
    "search_lr.fit(\n",
    "    features_train, \n",
    "    target_train\n",
    ")"
   ]
  },
  {
   "cell_type": "code",
   "execution_count": 52,
   "id": "cb6e80ac",
   "metadata": {},
   "outputs": [
    {
     "data": {
      "text/plain": [
       "{'solver': 'lbfgs', 'max_iter': 200, 'fit_intercept': True}"
      ]
     },
     "execution_count": 52,
     "metadata": {},
     "output_type": "execute_result"
    }
   ],
   "source": [
    "search_lr.best_params_"
   ]
  },
  {
   "cell_type": "code",
   "execution_count": 53,
   "id": "2e3fffd7",
   "metadata": {},
   "outputs": [
    {
     "name": "stdout",
     "output_type": "stream",
     "text": [
      "Accuracy на обучающей выборке: 0.811\n"
     ]
    }
   ],
   "source": [
    "print(\n",
    "    'Accuracy на обучающей выборке:', \n",
    "    abs(search_lr.best_score_).round(3)\n",
    ")"
   ]
  },
  {
   "cell_type": "markdown",
   "id": "9bdc6dec",
   "metadata": {},
   "source": [
    "Точность, достигнутая на валидационной выборке при использовании модели _**Логистическая регрессия**_, составила **0.811**."
   ]
  },
  {
   "cell_type": "markdown",
   "id": "7f499cab",
   "metadata": {},
   "source": [
    "#### Модель XGBoost"
   ]
  },
  {
   "cell_type": "code",
   "execution_count": 54,
   "id": "b664dcdb",
   "metadata": {},
   "outputs": [],
   "source": [
    "D_train = xgb.DMatrix(\n",
    "    features_train, \n",
    "    label=target_train\n",
    ")\n",
    "D_test = xgb.DMatrix(\n",
    "    features_test, \n",
    "    label=target_test\n",
    ")"
   ]
  },
  {
   "cell_type": "code",
   "execution_count": 55,
   "id": "3192e6d3",
   "metadata": {},
   "outputs": [
    {
     "name": "stdout",
     "output_type": "stream",
     "text": [
      "[19:40:15] WARNING: D:\\Build\\xgboost\\xgboost-1.5.1.git\\src\\learner.cc:1115: Starting in XGBoost 1.3.0, the default evaluation metric used with the objective 'multi:softprob' was changed from 'merror' to 'mlogloss'. Explicitly set eval_metric if you'd like to restore the old behavior.\n"
     ]
    }
   ],
   "source": [
    "param = {\n",
    "    'eta': 0.7, \n",
    "    'max_depth': 3,  \n",
    "    'objective': 'multi:softprob',  \n",
    "    'num_class': 3,\n",
    "    'min_child_weight': 300,\n",
    "    'gamma': 700} \n",
    "\n",
    "steps = 20\n",
    "\n",
    "model = xgb.train(param, D_train, steps)"
   ]
  },
  {
   "cell_type": "code",
   "execution_count": 56,
   "id": "540ac23f",
   "metadata": {},
   "outputs": [
    {
     "name": "stdout",
     "output_type": "stream",
     "text": [
      "Precision = 0.398\n",
      "Recall = 0.5\n",
      "Accuracy = 0.796\n"
     ]
    }
   ],
   "source": [
    "preds = model.predict(\n",
    "    D_test\n",
    ")\n",
    "best_preds = np.asarray(\n",
    "    [np.argmax(line) for line in preds]\n",
    ")\n",
    "\n",
    "print(\n",
    "    \"Precision = {}\".format(\n",
    "        precision_score(\n",
    "            target_test, \n",
    "            best_preds, \n",
    "            average='macro'\n",
    "        ).round(3)))\n",
    "print(\n",
    "    \"Recall = {}\".format(\n",
    "        recall_score(\n",
    "            target_test, \n",
    "            best_preds, \n",
    "            average='macro'\n",
    "        ).round(3)))\n",
    "print(\n",
    "    \"Accuracy = {}\".format(\n",
    "        accuracy_score(\n",
    "            target_test, \n",
    "            best_preds\n",
    "        ).round(3)))"
   ]
  },
  {
   "cell_type": "markdown",
   "id": "ee28264a",
   "metadata": {},
   "source": [
    "Точность, достигнутая с использованием модели XGBoost составила **0.796**.\n",
    "\n",
    "Наибольшая точность достигнута при использовании модели _**Случайный лес**_. "
   ]
  },
  {
   "cell_type": "markdown",
   "id": "ab5350c6",
   "metadata": {},
   "source": [
    "### Проверка адекватности модели\n",
    "\n",
    "Проверим частоту классов в исходном целевом столбце датасета."
   ]
  },
  {
   "cell_type": "code",
   "execution_count": 57,
   "id": "5587b254",
   "metadata": {},
   "outputs": [
    {
     "name": "stdout",
     "output_type": "stream",
     "text": [
      "0    0.7963\n",
      "1    0.2037\n",
      "Name: exited, dtype: float64\n"
     ]
    },
    {
     "data": {
      "image/png": "[encoded data removed]",
      "text/plain": [
       "<Figure size 504x360 with 1 Axes>"
      ]
     },
     "metadata": {},
     "output_type": "display_data"
    }
   ],
   "source": [
    "sns.set(\n",
    "    rc={\n",
    "        'figure.figsize':(7,5)\n",
    "    })\n",
    "\n",
    "plt.title(\n",
    "    'Распределение значений целевого признака',\n",
    "    fontsize=14\n",
    ")\n",
    "\n",
    "class_frequency = df[\n",
    "    'exited'\n",
    "].value_counts(\n",
    "    normalize= True\n",
    ") \n",
    "\n",
    "print(class_frequency)\n",
    "\n",
    "class_frequency.plot(\n",
    "    kind='bar',\n",
    "    color='navy'\n",
    ");\n",
    "\n",
    "# удалим лишнюю переменную\n",
    "del class_frequency"
   ]
  },
  {
   "cell_type": "markdown",
   "id": "5d1ab977",
   "metadata": {},
   "source": [
    "Проверим адекватность выбранной модели, сравнив полученную точность на обучающей выборке со значением, полученным при использовании Dummy модели."
   ]
  },
  {
   "cell_type": "code",
   "execution_count": 58,
   "id": "3554d98f",
   "metadata": {},
   "outputs": [
    {
     "name": "stdout",
     "output_type": "stream",
     "text": [
      "Accuracy модели DummyClassifier 0.676\n"
     ]
    }
   ],
   "source": [
    "dummy_model = DummyClassifier(\n",
    "    strategy='stratified'\n",
    ")\n",
    "\n",
    "dummy_model.fit(\n",
    "    features_train, \n",
    "    target_train\n",
    ")\n",
    "\n",
    "dummy_predict = dummy_model.predict(\n",
    "    features_test\n",
    ")\n",
    "accuracy_dummy = accuracy_score(\n",
    "    target_test, \n",
    "    dummy_predict\n",
    ")\n",
    "\n",
    "print(\n",
    "    'Accuracy модели DummyClassifier', \n",
    "    accuracy_dummy.round(3)\n",
    ")"
   ]
  },
  {
   "cell_type": "markdown",
   "id": "a8cf6eb7",
   "metadata": {},
   "source": [
    "Точность выбранной модели **Случайный лес (0.864)** больше точности **Dummy модели (0.681)**, поэтому можем считать, что адекватность для выбранной модели показана."
   ]
  },
  {
   "cell_type": "markdown",
   "id": "be0b497d",
   "metadata": {},
   "source": [
    "### Расчет метрик\n",
    "\n",
    "Построим матрицу ошибок с помощью `confusion_matrix()`."
   ]
  },
  {
   "cell_type": "code",
   "execution_count": 59,
   "id": "61cb73c1",
   "metadata": {},
   "outputs": [
    {
     "data": {
      "text/plain": [
       "array([[1922,   69],\n",
       "       [ 272,  237]], dtype=int64)"
      ]
     },
     "execution_count": 59,
     "metadata": {},
     "output_type": "execute_result"
    }
   ],
   "source": [
    "predictions_test = search_rf.predict(\n",
    "    features_test\n",
    ")\n",
    "\n",
    "cf_matrix = confusion_matrix(\n",
    "    target_test, \n",
    "    predictions_test\n",
    ")\n",
    "\n",
    "cf_matrix"
   ]
  },
  {
   "cell_type": "code",
   "execution_count": 60,
   "id": "a22deff8",
   "metadata": {},
   "outputs": [
    {
     "data": {
      "image/png": "[encoded data removed]",
      "text/plain": [
       "<Figure size 504x360 with 2 Axes>"
      ]
     },
     "metadata": {},
     "output_type": "display_data"
    }
   ],
   "source": [
    "ax = sns.heatmap(\n",
    "    cf_matrix/np.sum(cf_matrix), \n",
    "    annot=True,\n",
    "    fmt='.2%',\n",
    "    cmap='Blues'\n",
    ")\n",
    "\n",
    "ax.set_title(\n",
    "    'Матрица ошибок до исправления дисбаланса классов',\n",
    "    fontsize=14\n",
    ");\n",
    "ax.set_xlabel(\n",
    "    'Предсказанные значения',\n",
    "    fontsize=12\n",
    ")\n",
    "ax.set_ylabel(\n",
    "    'Реальные значения',\n",
    "    fontsize=12\n",
    ");\n",
    "\n",
    "ax.xaxis.set_ticklabels([\n",
    "        'False',\n",
    "        'True'\n",
    "    ]\n",
    ")\n",
    "ax.yaxis.set_ticklabels(\n",
    "    [\n",
    "        'False',\n",
    "        'True'\n",
    "    ]\n",
    ")\n",
    "\n",
    "plt.show()"
   ]
  },
  {
   "cell_type": "markdown",
   "id": "131e9332",
   "metadata": {},
   "source": [
    "Рассчитаем метрики для выбраной модели и выведем результаты расчета в таблице."
   ]
  },
  {
   "cell_type": "code",
   "execution_count": 61,
   "id": "a595291f",
   "metadata": {},
   "outputs": [
    {
     "data": {
      "text/html": [
       "<div>\n",
       "<style scoped>\n",
       "    .dataframe tbody tr th:only-of-type {\n",
       "        vertical-align: middle;\n",
       "    }\n",
       "\n",
       "    .dataframe tbody tr th {\n",
       "        vertical-align: top;\n",
       "    }\n",
       "\n",
       "    .dataframe thead th {\n",
       "        text-align: right;\n",
       "    }\n",
       "</style>\n",
       "<table border=\"1\" class=\"dataframe\">\n",
       "  <thead>\n",
       "    <tr style=\"text-align: right;\">\n",
       "      <th></th>\n",
       "      <th>Метрика</th>\n",
       "      <th>Признаки</th>\n",
       "    </tr>\n",
       "  </thead>\n",
       "  <tbody>\n",
       "    <tr>\n",
       "      <th>0</th>\n",
       "      <td>Accuracy</td>\n",
       "      <td>0.8636</td>\n",
       "    </tr>\n",
       "    <tr>\n",
       "      <th>1</th>\n",
       "      <td>Recall</td>\n",
       "      <td>0.4656</td>\n",
       "    </tr>\n",
       "    <tr>\n",
       "      <th>2</th>\n",
       "      <td>Precision</td>\n",
       "      <td>0.7745</td>\n",
       "    </tr>\n",
       "    <tr>\n",
       "      <th>3</th>\n",
       "      <td>F1</td>\n",
       "      <td>0.5816</td>\n",
       "    </tr>\n",
       "  </tbody>\n",
       "</table>\n",
       "</div>"
      ],
      "text/plain": [
       "     Метрика  Признаки\n",
       "0   Accuracy    0.8636\n",
       "1     Recall    0.4656\n",
       "2  Precision    0.7745\n",
       "3         F1    0.5816"
      ]
     },
     "execution_count": 61,
     "metadata": {},
     "output_type": "execute_result"
    }
   ],
   "source": [
    "metrics_vocab = {\n",
    "    'Метрика': [\n",
    "        'Accuracy',\n",
    "        'Recall', \n",
    "        'Precision',\n",
    "        'F1'\n",
    "    ],\n",
    "    'Признаки': [\n",
    "        search_rf.score(\n",
    "            features_test, \n",
    "            target_test\n",
    "        ),\n",
    "        recall_score(\n",
    "            target_test, \n",
    "            predictions_test\n",
    "        ),\n",
    "        precision_score(\n",
    "            target_test, \n",
    "            predictions_test\n",
    "        ),\n",
    "        f1_score(\n",
    "            target_test, \n",
    "            predictions_test\n",
    "        )]}\n",
    "\n",
    "metrics_df = pd.DataFrame(\n",
    "    data=metrics_vocab\n",
    ")\n",
    "metrics_df.round(4)"
   ]
  },
  {
   "cell_type": "markdown",
   "id": "60519323",
   "metadata": {},
   "source": [
    "<div style=\"border-radius: 15px;border:solid teal 2px; padding: 20px\"> <h3 style=\"color:teal; margin-bottom:20px\">Вывод </h3>\n",
    "\n",
    "    \n",
    "* При выборе модели получены следующие значения **точности**:\n",
    "    \n",
    "    * Дерево решений - **_0.855_**\n",
    "    * Случайный лес - **_0.864_**\n",
    "    * Логистическая регрессия - **_0.811_**\n",
    "    * XGBoost - **_0.796_**\n",
    "    \n",
    "Наибольшая точность достигнута с помощью модели _**Случайный лес**_. Адекватность модели показана с помощью сравнения с константной моделью.\n",
    "    \n",
    "* Достигнуты значения следующие значения **метрик модели**:\n",
    "    * Accuracy - **_0.8625_**\n",
    "    * Полнота - **_0.4143_**\n",
    "    * Precision - **_0.7788_**\n",
    "    * F1 - **_0.5409_**"
   ]
  },
  {
   "cell_type": "markdown",
   "id": "e1646177",
   "metadata": {},
   "source": [
    "## <font color = 'teal'> Обучение с учетом дисбаланса классов</font>\n",
    "### Upsampling\n",
    "\n",
    "Поскольку в исходных данных объектов со значением целевого признака, равным 0, почти в 4 раза больше, чем объектов с целевым признаком, равным 1, налицо дисбаланс классов. Проверим, удастся ли улучшить значение целевой метрики модели, если этот дисбаланс исправить.\n",
    "\n",
    "Разделим выборки на положительные и отрицательные объекты."
   ]
  },
  {
   "cell_type": "code",
   "execution_count": 62,
   "id": "7fbec968",
   "metadata": {},
   "outputs": [
    {
     "name": "stdout",
     "output_type": "stream",
     "text": [
      "(5972, 11)\n",
      "(1528, 11)\n",
      "(5972,)\n",
      "(1528,)\n"
     ]
    }
   ],
   "source": [
    "features_zeros = features_train[\n",
    "    target_train == 0\n",
    "]\n",
    "features_ones = features_train[\n",
    "    target_train == 1\n",
    "]\n",
    "target_zeros = target_train[\n",
    "    target_train == 0\n",
    "]\n",
    "target_ones = target_train[\n",
    "    target_train == 1\n",
    "]\n",
    "\n",
    "print(features_zeros.shape)\n",
    "print(features_ones.shape)\n",
    "print(target_zeros.shape)\n",
    "print(target_ones.shape)"
   ]
  },
  {
   "cell_type": "markdown",
   "id": "d718766e",
   "metadata": {},
   "source": [
    "Создадим функцию для увеличения выборки."
   ]
  },
  {
   "cell_type": "code",
   "execution_count": 63,
   "id": "c0bc6d38",
   "metadata": {},
   "outputs": [],
   "source": [
    "def upsample(features, target, repeat):\n",
    "    features_zeros = pd.DataFrame(\n",
    "        features[target == 0]\n",
    "    )\n",
    "    features_ones = pd.DataFrame(\n",
    "        features[target == 1]\n",
    "    )\n",
    "    target_zeros = pd.DataFrame(\n",
    "        target[target == 0]\n",
    "    )\n",
    "    target_ones = pd.DataFrame(\n",
    "        target[target == 1]\n",
    "    )\n",
    "    features_upsampled = pd.concat(\n",
    "        [features_zeros]+[features_ones]*repeat\n",
    "    )\n",
    "    target_upsampled = pd.concat(\n",
    "        [target_zeros]+[target_ones]*repeat\n",
    "    )\n",
    "    features_upsampled = shuffle(\n",
    "        features_upsampled, \n",
    "        random_state=RANDOM_STATE\n",
    "    )\n",
    "    target_upsampled = shuffle(\n",
    "        target_upsampled, \n",
    "        random_state=RANDOM_STATE\n",
    "    )\n",
    "    return (\n",
    "        features_upsampled, \n",
    "        target_upsampled\n",
    "    )\n",
    "\n",
    "(\n",
    "    features_upsampled, \n",
    "    target_upsampled\n",
    ") = upsample(\n",
    "    features_train, \n",
    "    target_train, \n",
    "    4\n",
    ")"
   ]
  },
  {
   "cell_type": "markdown",
   "id": "b4fec843",
   "metadata": {},
   "source": [
    "Проверим результат работы функции."
   ]
  },
  {
   "cell_type": "code",
   "execution_count": 64,
   "id": "5676cf83",
   "metadata": {},
   "outputs": [
    {
     "name": "stdout",
     "output_type": "stream",
     "text": [
      "Признаки после исправления дисбаланса классов (12084, 11)\n",
      "Целевой признак после исправления дисбаланса классов (12084, 1)\n"
     ]
    }
   ],
   "source": [
    "print(\n",
    "    'Признаки после исправления дисбаланса классов',\n",
    "    features_upsampled.shape\n",
    ")\n",
    "print(\n",
    "    'Целевой признак после исправления дисбаланса классов',\n",
    "    target_upsampled.shape\n",
    ")"
   ]
  },
  {
   "cell_type": "markdown",
   "id": "a2846602",
   "metadata": {},
   "source": [
    "Для того, чтобы проверить, удалось ли исправить дисбаланс классов в целевом признаке, выведем распределение значений с помощью `value_counts`."
   ]
  },
  {
   "cell_type": "code",
   "execution_count": 65,
   "id": "146d29b6",
   "metadata": {},
   "outputs": [
    {
     "data": {
      "text/plain": [
       "exited\n",
       "1         6112\n",
       "0         5972\n",
       "dtype: int64"
      ]
     },
     "execution_count": 65,
     "metadata": {},
     "output_type": "execute_result"
    }
   ],
   "source": [
    "target_upsampled.value_counts()"
   ]
  },
  {
   "cell_type": "markdown",
   "id": "e88c2dfd",
   "metadata": {},
   "source": [
    "Дисбаланс классов успешно исправлен, двигаемся дальше."
   ]
  },
  {
   "cell_type": "markdown",
   "id": "d270aabf",
   "metadata": {},
   "source": [
    "### Обучение модели\n",
    "\n",
    "Обучим выбранную модель с оптимальными гиперпараметрами на новой обучающей выборке, добавив параметр `class_weight`."
   ]
  },
  {
   "cell_type": "code",
   "execution_count": 66,
   "id": "34e89ef1",
   "metadata": {},
   "outputs": [
    {
     "data": {
      "text/plain": [
       "RandomForestClassifier(class_weight='balanced', max_depth=13,\n",
       "                       min_samples_leaf=3, n_estimators=450,\n",
       "                       random_state=12345)"
      ]
     },
     "execution_count": 66,
     "metadata": {},
     "output_type": "execute_result"
    }
   ],
   "source": [
    "search_rf_upsample = RandomForestClassifier(\n",
    "    n_estimators=450,\n",
    "    min_samples_split=2,\n",
    "    min_samples_leaf=3,\n",
    "    max_depth=13,\n",
    "    class_weight='balanced',\n",
    "    random_state=RANDOM_STATE\n",
    ")\n",
    "\n",
    "search_rf_upsample.fit(\n",
    "    features_upsampled, \n",
    "    target_upsampled\n",
    ")"
   ]
  },
  {
   "cell_type": "markdown",
   "id": "080871c9",
   "metadata": {},
   "source": [
    "### Расчет метрик\n",
    "\n",
    "Построим матрицу ошибок с помощью `confusion_matrix()`."
   ]
  },
  {
   "cell_type": "code",
   "execution_count": 67,
   "id": "dcd206f2",
   "metadata": {},
   "outputs": [
    {
     "data": {
      "text/plain": [
       "array([[1756,  235],\n",
       "       [ 170,  339]], dtype=int64)"
      ]
     },
     "execution_count": 67,
     "metadata": {},
     "output_type": "execute_result"
    }
   ],
   "source": [
    "predictions_test = search_rf_upsample.predict(\n",
    "    features_test\n",
    ")\n",
    "\n",
    "cf_matrix_upsample = confusion_matrix(\n",
    "    target_test, \n",
    "    predictions_test\n",
    ")\n",
    "\n",
    "cf_matrix_upsample"
   ]
  },
  {
   "cell_type": "code",
   "execution_count": 68,
   "id": "57a4ad75",
   "metadata": {},
   "outputs": [
    {
     "data": {
      "image/png": "[encoded data removed]",
      "text/plain": [
       "<Figure size 504x360 with 2 Axes>"
      ]
     },
     "metadata": {},
     "output_type": "display_data"
    }
   ],
   "source": [
    "ax = sns.heatmap(\n",
    "    cf_matrix_upsample/np.sum(cf_matrix_upsample), \n",
    "    annot=True,\n",
    "    fmt='.2%',\n",
    "    cmap='Blues'\n",
    ")\n",
    "\n",
    "ax.set_title(\n",
    "    'Матрица ошибок до исправления дисбаланса классов',\n",
    "    fontsize=14\n",
    ");\n",
    "ax.set_xlabel(\n",
    "    'Предсказанные значения',\n",
    "    fontsize=12\n",
    ")\n",
    "ax.set_ylabel(\n",
    "    'Реальные значения',\n",
    "    fontsize=12\n",
    ");\n",
    "\n",
    "ax.xaxis.set_ticklabels([\n",
    "        'False',\n",
    "        'True'\n",
    "    ]\n",
    ")\n",
    "ax.yaxis.set_ticklabels(\n",
    "    [\n",
    "        'False',\n",
    "        'True'\n",
    "    ]\n",
    ")\n",
    "\n",
    "plt.show()"
   ]
  },
  {
   "cell_type": "markdown",
   "id": "7f73b05e",
   "metadata": {},
   "source": [
    "Рассчитаем метрики классификации на тестовой выборке."
   ]
  },
  {
   "cell_type": "code",
   "execution_count": 69,
   "id": "90183676",
   "metadata": {},
   "outputs": [
    {
     "data": {
      "text/html": [
       "<div>\n",
       "<style scoped>\n",
       "    .dataframe tbody tr th:only-of-type {\n",
       "        vertical-align: middle;\n",
       "    }\n",
       "\n",
       "    .dataframe tbody tr th {\n",
       "        vertical-align: top;\n",
       "    }\n",
       "\n",
       "    .dataframe thead th {\n",
       "        text-align: right;\n",
       "    }\n",
       "</style>\n",
       "<table border=\"1\" class=\"dataframe\">\n",
       "  <thead>\n",
       "    <tr style=\"text-align: right;\">\n",
       "      <th></th>\n",
       "      <th>Метрика</th>\n",
       "      <th>Признаки</th>\n",
       "    </tr>\n",
       "  </thead>\n",
       "  <tbody>\n",
       "    <tr>\n",
       "      <th>0</th>\n",
       "      <td>Accuracy</td>\n",
       "      <td>0.8380</td>\n",
       "    </tr>\n",
       "    <tr>\n",
       "      <th>1</th>\n",
       "      <td>Recall</td>\n",
       "      <td>0.6660</td>\n",
       "    </tr>\n",
       "    <tr>\n",
       "      <th>2</th>\n",
       "      <td>Precision</td>\n",
       "      <td>0.5906</td>\n",
       "    </tr>\n",
       "    <tr>\n",
       "      <th>3</th>\n",
       "      <td>F1</td>\n",
       "      <td>0.6260</td>\n",
       "    </tr>\n",
       "  </tbody>\n",
       "</table>\n",
       "</div>"
      ],
      "text/plain": [
       "     Метрика  Признаки\n",
       "0   Accuracy    0.8380\n",
       "1     Recall    0.6660\n",
       "2  Precision    0.5906\n",
       "3         F1    0.6260"
      ]
     },
     "execution_count": 69,
     "metadata": {},
     "output_type": "execute_result"
    }
   ],
   "source": [
    "metrics_vocab_test = {\n",
    "    'Метрика': [\n",
    "        'Accuracy',\n",
    "        'Recall', \n",
    "        'Precision',\n",
    "        'F1'\n",
    "    ],\n",
    "    'Признаки': [\n",
    "        search_rf_upsample.score(\n",
    "            features_test, \n",
    "            target_test\n",
    "        ),\n",
    "        recall_score(\n",
    "            target_test, \n",
    "            predictions_test\n",
    "        ),\n",
    "        precision_score(\n",
    "            target_test, \n",
    "            predictions_test\n",
    "        ),\n",
    "        f1_score(\n",
    "            target_test, \n",
    "            predictions_test\n",
    "        )]}\n",
    "\n",
    "metrics_test_df = pd.DataFrame(\n",
    "    data=metrics_vocab_test\n",
    ")\n",
    "metrics_test_df.round(4)"
   ]
  },
  {
   "cell_type": "markdown",
   "id": "44d5a528",
   "metadata": {},
   "source": [
    "Построим график ROC-кривой для отображения соотношения значений TPR и FPR."
   ]
  },
  {
   "cell_type": "code",
   "execution_count": 70,
   "id": "013b4bc9",
   "metadata": {},
   "outputs": [
    {
     "data": {
      "image/png": "[encoded data removed]",
      "text/plain": [
       "<Figure size 504x360 with 1 Axes>"
      ]
     },
     "metadata": {},
     "output_type": "display_data"
    }
   ],
   "source": [
    "probabilities_test = search_rf.predict_proba(\n",
    "    features_test\n",
    ")\n",
    "probabilities_one_test = probabilities_test[:, 1]\n",
    "\n",
    "fpr, tpr, thresholds = roc_curve(\n",
    "    target_test, \n",
    "    probabilities_one_test\n",
    ")\n",
    "plt.figure()\n",
    "sns.set(\n",
    "    rc={\n",
    "        'figure.figsize':(12,12)\n",
    "    })\n",
    "\n",
    "plt.plot(fpr, tpr)\n",
    "plt.plot(\n",
    "    [0, 1], \n",
    "    [0, 1], \n",
    "    linestyle='--'\n",
    ")\n",
    "plt.xlim([0,1])\n",
    "plt.ylim([0,1])\n",
    "plt.xlabel(\n",
    "    \"False Positive Rate\",\n",
    "    fontsize=12\n",
    ")\n",
    "plt.ylabel(\n",
    "    \"True Positive Rate\",\n",
    "    fontsize=12\n",
    ")\n",
    "plt.title(\n",
    "    \"ROC-кривая\",\n",
    "    fontsize=14\n",
    ")\n",
    "\n",
    "plt.show()"
   ]
  },
  {
   "cell_type": "markdown",
   "id": "ba03a88f",
   "metadata": {},
   "source": [
    "Найдем значение площади под кривой ROC с помощью `roc_auc_score()`."
   ]
  },
  {
   "cell_type": "code",
   "execution_count": 71,
   "id": "2b7c8e87",
   "metadata": {},
   "outputs": [
    {
     "name": "stdout",
     "output_type": "stream",
     "text": [
      "Площадь под кривой ROC: 0.869\n"
     ]
    }
   ],
   "source": [
    "print(\n",
    "    'Площадь под кривой ROC:',\n",
    "    roc_auc_score(\n",
    "        target_test,\n",
    "        probabilities_one_test\n",
    "    ).round(3))"
   ]
  },
  {
   "cell_type": "markdown",
   "id": "62e0867f",
   "metadata": {},
   "source": [
    "### Проверка адекватности модели после исправления дисбаланса классов\n",
    "\n",
    "Проверим частоты классов в результатах предсказаний выбранной модели."
   ]
  },
  {
   "cell_type": "code",
   "execution_count": 72,
   "id": "c3883af9",
   "metadata": {},
   "outputs": [
    {
     "name": "stdout",
     "output_type": "stream",
     "text": [
      "0    0.685204\n",
      "1    0.314796\n",
      "dtype: float64\n"
     ]
    },
    {
     "data": {
      "image/png": "[encoded data removed]",
      "text/plain": [
       "<Figure size 504x360 with 1 Axes>"
      ]
     },
     "metadata": {},
     "output_type": "display_data"
    }
   ],
   "source": [
    "search_rf_upsample.fit(\n",
    "    features_upsampled, \n",
    "    target_upsampled\n",
    ")\n",
    "\n",
    "predictions = pd.Series(\n",
    "    search_rf.predict(\n",
    "        features_upsampled\n",
    "    ))\n",
    "\n",
    "class_frequency = predictions.value_counts(\n",
    "    normalize= True\n",
    ") \n",
    "\n",
    "print(class_frequency)\n",
    "\n",
    "sns.set(\n",
    "    rc={\n",
    "        'figure.figsize':(7,5)\n",
    "    })\n",
    "\n",
    "plt.title(\n",
    "    'Распределение значений целевого признака',\n",
    "    fontsize=14\n",
    ")\n",
    "\n",
    "class_frequency.plot(\n",
    "    kind='bar',\n",
    "    color='navy'\n",
    ");\n",
    "\n",
    "# удалим лишнюю переменную\n",
    "del class_frequency"
   ]
  },
  {
   "cell_type": "markdown",
   "id": "dd809682",
   "metadata": {},
   "source": [
    "Посчитаем точность для Dummy модели."
   ]
  },
  {
   "cell_type": "code",
   "execution_count": 73,
   "id": "38e62469",
   "metadata": {},
   "outputs": [
    {
     "name": "stdout",
     "output_type": "stream",
     "text": [
      "Accuracy для модели DummyClassifier: 0.498\n"
     ]
    }
   ],
   "source": [
    "dummy_model = DummyClassifier(\n",
    "    strategy='stratified'\n",
    ")\n",
    "\n",
    "dummy_model.fit(\n",
    "    features_upsampled, \n",
    "    target_upsampled\n",
    ")\n",
    "\n",
    "dummy_predict = dummy_model.predict(\n",
    "    features_test\n",
    ")\n",
    "accuracy_dummy = accuracy_score(\n",
    "    target_test, \n",
    "    dummy_predict\n",
    ")\n",
    "\n",
    "print(\n",
    "    'Accuracy для модели DummyClassifier:', \n",
    "    accuracy_dummy.round(3)\n",
    ")"
   ]
  },
  {
   "cell_type": "markdown",
   "id": "b42d6b8d",
   "metadata": {},
   "source": [
    "Точность **выбранной модели после исправления дисбаланса классов (0.8380)** также выше точности **Dummy модели (0.503)**, адекватность модели подтверждена."
   ]
  },
  {
   "cell_type": "markdown",
   "id": "70cb1961",
   "metadata": {},
   "source": [
    "<div style=\"border-radius: 15px;border:solid teal 2px; padding: 20px\"> <h3 style=\"color:teal; margin-bottom:20px\">Вывод </h3>\n",
    "\n",
    "* Проведен **upsampling** выборки. \n",
    "* Обучение модели проведено на увеличенных выборках с добавлением **параметра** `class_weight`.\n",
    "* При проверке модели на тестовой выборке достигнуты следующие значения **метрик**:\n",
    "    * Accuracy - **_0.8380_**\n",
    "    * Полнота - **_0.6660_**\n",
    "    * Precision - **_0.5906_**\n",
    "    * F1 - **_0.6260_**\n",
    "    \n",
    "Целевое значение <font color = 'teal'>_**F1 > 0.59**_</font> достигнуто.\n",
    "* **ROC-кривая** на графике TPR против FPR находится **выше** линии, соответствующей случайной модели, что свидетельствует о высоком качестве модели. \n",
    "* Значение **AUC-ROC**, полученное на тестовой выборке, составило **0.869**."
   ]
  },
  {
   "cell_type": "markdown",
   "id": "e9672f61",
   "metadata": {},
   "source": [
    "<div style=\"border-radius: 15px;border:solid #DC143C 2px; padding: 20px\"> <h2 style=\"color:#DC143C; margin-bottom:20px\">Баг-репорт </h2> \n",
    "    \n",
    "* Большое количество пропусков в столбце `tenure` (**909** пропусков, **9%** от общего количества строк)\n",
    "* Аномально маленькие значения столбца `estimated_salary` могут свидетельствовать о некорректной модели расчета значений этого столбца или ошибках в исходных данных."
   ]
  },
  {
   "cell_type": "markdown",
   "id": "190dc1bc",
   "metadata": {},
   "source": [
    "<div style=\"border-radius: 15px;border:solid teal 2px; padding: 20px\"> <h2 style=\"color:teal; margin-bottom:20px\">Общий вывод</h2>\n",
    "\n",
    "<font color='teal'> <font size = 4> **Общая информация о данных**</font>\n",
    "    \n",
    "    \n",
    "* Таблица содержит **10000** строк, каждая строка содержит данные о продажах одной обном клиенте банка.\n",
    "* Данные содержатся в **14** столбцах.\n",
    "    \n",
    "    \n",
    "<font color='teal'> <font size = 4> **Предобработка данных**</font> \n",
    "    \n",
    "* Названия всех столбцов приведены к **нижнему регистру**. \n",
    "* **Пропуски** обнаружены в столбце `tenure`. Пропуски заменены с использованием метода `ffill`, комментарий добавлен в баг-репорт.\n",
    "* **Дубликатов** (явных и неявных) в таблице не обнаружено.\n",
    "* Проведен анализ на наличие в таблице **аномальных значений**. Значения оставлены как есть, комментарий в отношении столбца `estimated_salary` добавлен в баг-репорт.\n",
    "* Столбцы `surname`, `row_number` и`customer_id` **удалены** как нерелевантные для целей данного исследования.\n",
    "* Методом прямого кодирования значения в столбцах `geography` и `gender` преобразованы в **численные**.\n",
    "* Проведено **масштабирование** признаков в таблице.\n",
    "    \n",
    "    \n",
    "<font color='teal'> <font size = 4> **Обучение без учета дисбаланса классов**</font>\n",
    "      \n",
    "* При выборе модели получены следующие значения **точности**:\n",
    "    \n",
    "    * Дерево решений - **_0.855_**\n",
    "    * Случайный лес - **_0.864_**\n",
    "    * Логистическая регрессия - **_0.811_**\n",
    "    * XGBoost - **_0.796_**\n",
    "    \n",
    "Наибольшая точность достигнута с помощью модели _**Случайный лес**_.Оптимальные параметры модели подобраны с помощью **RandomizedSearch**. Адекватность модели показана с помощью сравнения с константной моделью.\n",
    "    \n",
    "* Достигнуты значения следующие значения **метрик модели**:\n",
    "    * Accuracy - **_0.8625_**\n",
    "    * Полнота - **_0.4143_**\n",
    "    * Precision - **_0.7788_**\n",
    "    * F1 - **_0.5409_**\n",
    "            \n",
    "<font color='teal'> <font size = 4> **Обучение c учетом дисбаланса классов**</font>\n",
    "    \n",
    "* Проведен **upsampling** выборки - количество объектов со значением **целевого признака, равным 0, увеличено в 4 раза**. \n",
    "* Обучение модели проведено на увеличенных выборках с добавлением **параметра** `class_weight`.\n",
    "* При проверке модели на тестовой выборке достигнуты следующие значения **метрик**:\n",
    "    * Accuracy - **_0.8380_**\n",
    "    * Полнота - **_0.6660_**\n",
    "    * Precision - **_0.5906_**\n",
    "    * F1 - **_0.6260_**\n",
    "    \n",
    "* **ROC-кривая** на графике TPR против FPR находится **выше** линии, соответствующей случайной модели, что свидетельствует о высоком качестве модели. \n",
    "    \n",
    "\n",
    "<div style=\"border-radius: 15px;border:solid teal 2px; padding: 20px\">\n",
    "    \n",
    "* Целевое значение <font color = 'teal'>_**F1 > 0.59**_</font> на тестовой выборке достигнуто. Значение составило <font color = 'teal'>**_0.6260_**</font>\n",
    "* Значение <font color = 'teal'>**_AUC-ROC_**</font>, полученное на тестовой выборке, составило <font color = 'teal'>**_0.869_**</font>."
   ]
  },
  {
   "cell_type": "code",
   "execution_count": null,
   "id": "60cfd8d8",
   "metadata": {},
   "outputs": [],
   "source": []
  }
 ],
 "metadata": {
  "ExecuteTimeLog": [
   {
    "duration": 1348,
    "start_time": "2022-05-23T11:50:22.816Z"
   },
   {
    "duration": 548,
    "start_time": "2022-05-23T11:50:24.167Z"
   },
   {
    "duration": 17,
    "start_time": "2022-05-23T11:50:24.717Z"
   },
   {
    "duration": 4,
    "start_time": "2022-05-23T11:50:24.736Z"
   },
   {
    "duration": 7,
    "start_time": "2022-05-23T11:50:24.741Z"
   },
   {
    "duration": 8,
    "start_time": "2022-05-23T11:50:24.749Z"
   },
   {
    "duration": 14,
    "start_time": "2022-05-23T11:50:24.759Z"
   },
   {
    "duration": 24,
    "start_time": "2022-05-23T11:50:24.774Z"
   },
   {
    "duration": 11,
    "start_time": "2022-05-23T11:50:24.800Z"
   },
   {
    "duration": 7,
    "start_time": "2022-05-23T11:50:24.814Z"
   },
   {
    "duration": 9,
    "start_time": "2022-05-23T11:50:24.822Z"
   },
   {
    "duration": 6,
    "start_time": "2022-05-23T11:50:24.832Z"
   },
   {
    "duration": 8,
    "start_time": "2022-05-23T11:50:24.839Z"
   },
   {
    "duration": 61,
    "start_time": "2022-05-23T11:50:24.848Z"
   },
   {
    "duration": 6,
    "start_time": "2022-05-23T11:50:24.910Z"
   },
   {
    "duration": 7,
    "start_time": "2022-05-23T11:50:24.918Z"
   },
   {
    "duration": 8,
    "start_time": "2022-05-23T11:50:24.926Z"
   },
   {
    "duration": 152,
    "start_time": "2022-05-23T11:50:24.935Z"
   },
   {
    "duration": 10,
    "start_time": "2022-05-23T11:50:25.089Z"
   },
   {
    "duration": 146,
    "start_time": "2022-05-23T11:50:25.101Z"
   },
   {
    "duration": 8,
    "start_time": "2022-05-23T11:50:25.249Z"
   },
   {
    "duration": 139,
    "start_time": "2022-05-23T11:50:25.258Z"
   },
   {
    "duration": 12,
    "start_time": "2022-05-23T11:50:25.400Z"
   },
   {
    "duration": 144,
    "start_time": "2022-05-23T11:50:25.429Z"
   },
   {
    "duration": 6,
    "start_time": "2022-05-23T11:50:25.575Z"
   },
   {
    "duration": 155,
    "start_time": "2022-05-23T11:50:25.582Z"
   },
   {
    "duration": 425,
    "start_time": "2022-05-23T11:50:25.739Z"
   },
   {
    "duration": 9,
    "start_time": "2022-05-23T11:50:26.167Z"
   },
   {
    "duration": 5,
    "start_time": "2022-05-23T11:50:26.177Z"
   },
   {
    "duration": 5,
    "start_time": "2022-05-23T11:50:26.195Z"
   },
   {
    "duration": 26,
    "start_time": "2022-05-23T11:50:26.202Z"
   },
   {
    "duration": 4,
    "start_time": "2022-05-23T11:50:26.229Z"
   },
   {
    "duration": 7,
    "start_time": "2022-05-23T11:50:26.235Z"
   },
   {
    "duration": 11,
    "start_time": "2022-05-23T11:50:26.244Z"
   },
   {
    "duration": 9,
    "start_time": "2022-05-23T11:50:26.257Z"
   },
   {
    "duration": 42,
    "start_time": "2022-05-23T11:50:26.268Z"
   },
   {
    "duration": 15,
    "start_time": "2022-05-23T11:50:26.311Z"
   },
   {
    "duration": 4,
    "start_time": "2022-05-23T11:50:26.327Z"
   },
   {
    "duration": 834,
    "start_time": "2022-05-23T11:50:26.333Z"
   },
   {
    "duration": 4,
    "start_time": "2022-05-23T11:50:27.168Z"
   },
   {
    "duration": 1257,
    "start_time": "2022-05-23T11:51:30.191Z"
   },
   {
    "duration": 128,
    "start_time": "2022-05-23T11:51:31.450Z"
   },
   {
    "duration": 24,
    "start_time": "2022-05-23T11:51:31.580Z"
   },
   {
    "duration": 7,
    "start_time": "2022-05-23T11:51:31.607Z"
   },
   {
    "duration": 9,
    "start_time": "2022-05-23T11:51:31.615Z"
   },
   {
    "duration": 7,
    "start_time": "2022-05-23T11:51:31.625Z"
   },
   {
    "duration": 15,
    "start_time": "2022-05-23T11:51:31.633Z"
   },
   {
    "duration": 5,
    "start_time": "2022-05-23T11:51:31.650Z"
   },
   {
    "duration": 40,
    "start_time": "2022-05-23T11:51:31.656Z"
   },
   {
    "duration": 6,
    "start_time": "2022-05-23T11:51:31.698Z"
   },
   {
    "duration": 14,
    "start_time": "2022-05-23T11:51:31.705Z"
   },
   {
    "duration": 9,
    "start_time": "2022-05-23T11:51:31.722Z"
   },
   {
    "duration": 10,
    "start_time": "2022-05-23T11:51:31.733Z"
   },
   {
    "duration": 16,
    "start_time": "2022-05-23T11:51:31.745Z"
   },
   {
    "duration": 6,
    "start_time": "2022-05-23T11:51:31.762Z"
   },
   {
    "duration": 29,
    "start_time": "2022-05-23T11:51:31.770Z"
   },
   {
    "duration": 21,
    "start_time": "2022-05-23T11:51:31.802Z"
   },
   {
    "duration": 151,
    "start_time": "2022-05-23T11:51:31.824Z"
   },
   {
    "duration": 9,
    "start_time": "2022-05-23T11:51:31.977Z"
   },
   {
    "duration": 157,
    "start_time": "2022-05-23T11:51:31.997Z"
   },
   {
    "duration": 7,
    "start_time": "2022-05-23T11:51:32.156Z"
   },
   {
    "duration": 131,
    "start_time": "2022-05-23T11:51:32.165Z"
   },
   {
    "duration": 11,
    "start_time": "2022-05-23T11:51:32.299Z"
   },
   {
    "duration": 136,
    "start_time": "2022-05-23T11:51:32.311Z"
   },
   {
    "duration": 6,
    "start_time": "2022-05-23T11:51:32.448Z"
   },
   {
    "duration": 141,
    "start_time": "2022-05-23T11:51:32.456Z"
   },
   {
    "duration": 426,
    "start_time": "2022-05-23T11:51:32.599Z"
   },
   {
    "duration": 8,
    "start_time": "2022-05-23T11:51:33.029Z"
   },
   {
    "duration": 6,
    "start_time": "2022-05-23T11:51:33.038Z"
   },
   {
    "duration": 9,
    "start_time": "2022-05-23T11:51:33.046Z"
   },
   {
    "duration": 20,
    "start_time": "2022-05-23T11:51:33.056Z"
   },
   {
    "duration": 8,
    "start_time": "2022-05-23T11:51:33.096Z"
   },
   {
    "duration": 13,
    "start_time": "2022-05-23T11:51:33.106Z"
   },
   {
    "duration": 7,
    "start_time": "2022-05-23T11:51:33.121Z"
   },
   {
    "duration": 7,
    "start_time": "2022-05-23T11:51:33.129Z"
   },
   {
    "duration": 12,
    "start_time": "2022-05-23T11:51:33.138Z"
   },
   {
    "duration": 14,
    "start_time": "2022-05-23T11:51:33.152Z"
   },
   {
    "duration": 4,
    "start_time": "2022-05-23T11:51:33.167Z"
   },
   {
    "duration": 808,
    "start_time": "2022-05-23T11:51:33.196Z"
   },
   {
    "duration": 3,
    "start_time": "2022-05-23T11:51:34.006Z"
   },
   {
    "duration": 1258,
    "start_time": "2022-05-23T12:34:02.912Z"
   },
   {
    "duration": 239,
    "start_time": "2022-05-23T12:34:04.172Z"
   },
   {
    "duration": 15,
    "start_time": "2022-05-23T12:34:04.413Z"
   },
   {
    "duration": 22,
    "start_time": "2022-05-23T12:34:04.430Z"
   },
   {
    "duration": 26,
    "start_time": "2022-05-23T12:34:04.454Z"
   },
   {
    "duration": 25,
    "start_time": "2022-05-23T12:34:04.482Z"
   },
   {
    "duration": 36,
    "start_time": "2022-05-23T12:34:04.508Z"
   },
   {
    "duration": 37,
    "start_time": "2022-05-23T12:34:04.546Z"
   },
   {
    "duration": 31,
    "start_time": "2022-05-23T12:34:04.585Z"
   },
   {
    "duration": 32,
    "start_time": "2022-05-23T12:34:04.619Z"
   },
   {
    "duration": 23,
    "start_time": "2022-05-23T12:34:04.653Z"
   },
   {
    "duration": 30,
    "start_time": "2022-05-23T12:34:04.678Z"
   },
   {
    "duration": 45,
    "start_time": "2022-05-23T12:34:04.709Z"
   },
   {
    "duration": 36,
    "start_time": "2022-05-23T12:34:04.756Z"
   },
   {
    "duration": 42,
    "start_time": "2022-05-23T12:34:04.793Z"
   },
   {
    "duration": 27,
    "start_time": "2022-05-23T12:34:04.837Z"
   },
   {
    "duration": 32,
    "start_time": "2022-05-23T12:34:04.866Z"
   },
   {
    "duration": 152,
    "start_time": "2022-05-23T12:34:04.900Z"
   },
   {
    "duration": 11,
    "start_time": "2022-05-23T12:34:05.054Z"
   },
   {
    "duration": 127,
    "start_time": "2022-05-23T12:34:05.066Z"
   },
   {
    "duration": 8,
    "start_time": "2022-05-23T12:34:05.194Z"
   },
   {
    "duration": 114,
    "start_time": "2022-05-23T12:34:05.203Z"
   },
   {
    "duration": 8,
    "start_time": "2022-05-23T12:34:05.319Z"
   },
   {
    "duration": 128,
    "start_time": "2022-05-23T12:34:05.328Z"
   },
   {
    "duration": 6,
    "start_time": "2022-05-23T12:34:05.457Z"
   },
   {
    "duration": 149,
    "start_time": "2022-05-23T12:34:05.464Z"
   },
   {
    "duration": 362,
    "start_time": "2022-05-23T12:34:05.615Z"
   },
   {
    "duration": 8,
    "start_time": "2022-05-23T12:34:05.981Z"
   },
   {
    "duration": 34,
    "start_time": "2022-05-23T12:34:05.991Z"
   },
   {
    "duration": 34,
    "start_time": "2022-05-23T12:34:06.026Z"
   },
   {
    "duration": 55,
    "start_time": "2022-05-23T12:34:06.061Z"
   },
   {
    "duration": 16,
    "start_time": "2022-05-23T12:34:06.118Z"
   },
   {
    "duration": 48,
    "start_time": "2022-05-23T12:34:06.135Z"
   },
   {
    "duration": 12,
    "start_time": "2022-05-23T12:34:06.185Z"
   },
   {
    "duration": 8,
    "start_time": "2022-05-23T12:34:06.198Z"
   },
   {
    "duration": 15,
    "start_time": "2022-05-23T12:34:06.207Z"
   },
   {
    "duration": 13,
    "start_time": "2022-05-23T12:34:06.224Z"
   },
   {
    "duration": 3,
    "start_time": "2022-05-23T12:34:06.238Z"
   },
   {
    "duration": 719,
    "start_time": "2022-05-23T12:34:06.243Z"
   },
   {
    "duration": 3,
    "start_time": "2022-05-23T12:34:06.963Z"
   },
   {
    "duration": 1616,
    "start_time": "2022-05-25T11:37:22.324Z"
   },
   {
    "duration": 193,
    "start_time": "2022-05-25T11:37:23.943Z"
   },
   {
    "duration": 21,
    "start_time": "2022-05-25T11:37:24.142Z"
   },
   {
    "duration": 4,
    "start_time": "2022-05-25T11:37:24.165Z"
   },
   {
    "duration": 15,
    "start_time": "2022-05-25T11:37:24.172Z"
   },
   {
    "duration": 10,
    "start_time": "2022-05-25T11:37:24.189Z"
   },
   {
    "duration": 53,
    "start_time": "2022-05-25T11:37:24.201Z"
   },
   {
    "duration": 6,
    "start_time": "2022-05-25T11:37:24.256Z"
   },
   {
    "duration": 12,
    "start_time": "2022-05-25T11:37:24.264Z"
   },
   {
    "duration": 175,
    "start_time": "2022-05-25T11:37:24.279Z"
   },
   {
    "duration": 0,
    "start_time": "2022-05-25T11:37:24.457Z"
   },
   {
    "duration": 0,
    "start_time": "2022-05-25T11:37:24.458Z"
   },
   {
    "duration": 0,
    "start_time": "2022-05-25T11:37:24.459Z"
   },
   {
    "duration": 0,
    "start_time": "2022-05-25T11:37:24.460Z"
   },
   {
    "duration": 0,
    "start_time": "2022-05-25T11:37:24.461Z"
   },
   {
    "duration": 0,
    "start_time": "2022-05-25T11:37:24.462Z"
   },
   {
    "duration": 0,
    "start_time": "2022-05-25T11:37:24.464Z"
   },
   {
    "duration": 0,
    "start_time": "2022-05-25T11:37:24.465Z"
   },
   {
    "duration": 0,
    "start_time": "2022-05-25T11:37:24.466Z"
   },
   {
    "duration": 0,
    "start_time": "2022-05-25T11:37:24.467Z"
   },
   {
    "duration": 0,
    "start_time": "2022-05-25T11:37:24.468Z"
   },
   {
    "duration": 0,
    "start_time": "2022-05-25T11:37:24.469Z"
   },
   {
    "duration": 0,
    "start_time": "2022-05-25T11:37:24.471Z"
   },
   {
    "duration": 0,
    "start_time": "2022-05-25T11:37:24.472Z"
   },
   {
    "duration": 0,
    "start_time": "2022-05-25T11:37:24.473Z"
   },
   {
    "duration": 0,
    "start_time": "2022-05-25T11:37:24.474Z"
   },
   {
    "duration": 0,
    "start_time": "2022-05-25T11:37:24.481Z"
   },
   {
    "duration": 0,
    "start_time": "2022-05-25T11:37:24.483Z"
   },
   {
    "duration": 0,
    "start_time": "2022-05-25T11:37:24.484Z"
   },
   {
    "duration": 0,
    "start_time": "2022-05-25T11:37:24.488Z"
   },
   {
    "duration": 0,
    "start_time": "2022-05-25T11:37:24.489Z"
   },
   {
    "duration": 0,
    "start_time": "2022-05-25T11:37:24.491Z"
   },
   {
    "duration": 0,
    "start_time": "2022-05-25T11:37:24.494Z"
   },
   {
    "duration": 0,
    "start_time": "2022-05-25T11:37:24.523Z"
   },
   {
    "duration": 0,
    "start_time": "2022-05-25T11:37:24.525Z"
   },
   {
    "duration": 0,
    "start_time": "2022-05-25T11:37:24.526Z"
   },
   {
    "duration": 0,
    "start_time": "2022-05-25T11:37:24.527Z"
   },
   {
    "duration": 0,
    "start_time": "2022-05-25T11:37:24.529Z"
   },
   {
    "duration": 0,
    "start_time": "2022-05-25T11:37:24.530Z"
   },
   {
    "duration": 0,
    "start_time": "2022-05-25T11:37:24.531Z"
   },
   {
    "duration": 0,
    "start_time": "2022-05-25T11:37:24.532Z"
   },
   {
    "duration": 0,
    "start_time": "2022-05-25T11:37:24.534Z"
   },
   {
    "duration": 0,
    "start_time": "2022-05-25T11:37:24.535Z"
   },
   {
    "duration": 0,
    "start_time": "2022-05-25T11:37:24.536Z"
   },
   {
    "duration": 0,
    "start_time": "2022-05-25T11:37:24.538Z"
   },
   {
    "duration": 0,
    "start_time": "2022-05-25T11:37:24.539Z"
   },
   {
    "duration": 0,
    "start_time": "2022-05-25T11:37:24.540Z"
   },
   {
    "duration": 0,
    "start_time": "2022-05-25T11:37:24.541Z"
   },
   {
    "duration": 0,
    "start_time": "2022-05-25T11:37:24.542Z"
   },
   {
    "duration": 0,
    "start_time": "2022-05-25T11:37:24.544Z"
   },
   {
    "duration": 0,
    "start_time": "2022-05-25T11:37:24.545Z"
   },
   {
    "duration": 0,
    "start_time": "2022-05-25T11:37:24.547Z"
   },
   {
    "duration": 0,
    "start_time": "2022-05-25T11:37:24.548Z"
   },
   {
    "duration": 0,
    "start_time": "2022-05-25T11:37:24.550Z"
   },
   {
    "duration": 0,
    "start_time": "2022-05-25T11:37:24.551Z"
   },
   {
    "duration": 0,
    "start_time": "2022-05-25T11:37:24.554Z"
   },
   {
    "duration": 0,
    "start_time": "2022-05-25T11:37:24.555Z"
   },
   {
    "duration": 0,
    "start_time": "2022-05-25T11:37:24.556Z"
   },
   {
    "duration": 0,
    "start_time": "2022-05-25T11:37:24.557Z"
   },
   {
    "duration": 137,
    "start_time": "2022-05-25T11:43:54.641Z"
   },
   {
    "duration": 121,
    "start_time": "2022-05-25T11:46:59.049Z"
   },
   {
    "duration": 10,
    "start_time": "2022-05-25T11:47:22.411Z"
   },
   {
    "duration": 36,
    "start_time": "2022-05-25T11:47:42.419Z"
   },
   {
    "duration": 17,
    "start_time": "2022-05-25T11:47:48.876Z"
   },
   {
    "duration": 23,
    "start_time": "2022-05-25T11:47:52.191Z"
   },
   {
    "duration": 27,
    "start_time": "2022-05-25T11:48:01.907Z"
   },
   {
    "duration": 6,
    "start_time": "2022-05-25T11:49:04.242Z"
   },
   {
    "duration": 1292,
    "start_time": "2022-05-25T11:54:07.189Z"
   },
   {
    "duration": 175,
    "start_time": "2022-05-25T11:54:08.483Z"
   },
   {
    "duration": 20,
    "start_time": "2022-05-25T11:54:08.659Z"
   },
   {
    "duration": 4,
    "start_time": "2022-05-25T11:54:08.682Z"
   },
   {
    "duration": 8,
    "start_time": "2022-05-25T11:54:08.687Z"
   },
   {
    "duration": 8,
    "start_time": "2022-05-25T11:54:08.697Z"
   },
   {
    "duration": 30,
    "start_time": "2022-05-25T11:54:08.707Z"
   },
   {
    "duration": 13,
    "start_time": "2022-05-25T11:54:08.739Z"
   },
   {
    "duration": 15,
    "start_time": "2022-05-25T11:54:08.754Z"
   },
   {
    "duration": 181,
    "start_time": "2022-05-25T11:54:08.771Z"
   },
   {
    "duration": 0,
    "start_time": "2022-05-25T11:54:08.956Z"
   },
   {
    "duration": 0,
    "start_time": "2022-05-25T11:54:08.958Z"
   },
   {
    "duration": 0,
    "start_time": "2022-05-25T11:54:08.959Z"
   },
   {
    "duration": 0,
    "start_time": "2022-05-25T11:54:08.960Z"
   },
   {
    "duration": 0,
    "start_time": "2022-05-25T11:54:08.961Z"
   },
   {
    "duration": 0,
    "start_time": "2022-05-25T11:54:08.961Z"
   },
   {
    "duration": 0,
    "start_time": "2022-05-25T11:54:08.962Z"
   },
   {
    "duration": 0,
    "start_time": "2022-05-25T11:54:08.963Z"
   },
   {
    "duration": 0,
    "start_time": "2022-05-25T11:54:08.964Z"
   },
   {
    "duration": 0,
    "start_time": "2022-05-25T11:54:08.964Z"
   },
   {
    "duration": 0,
    "start_time": "2022-05-25T11:54:08.965Z"
   },
   {
    "duration": 0,
    "start_time": "2022-05-25T11:54:08.966Z"
   },
   {
    "duration": 0,
    "start_time": "2022-05-25T11:54:08.968Z"
   },
   {
    "duration": 0,
    "start_time": "2022-05-25T11:54:08.970Z"
   },
   {
    "duration": 0,
    "start_time": "2022-05-25T11:54:08.971Z"
   },
   {
    "duration": 0,
    "start_time": "2022-05-25T11:54:08.972Z"
   },
   {
    "duration": 0,
    "start_time": "2022-05-25T11:54:08.973Z"
   },
   {
    "duration": 0,
    "start_time": "2022-05-25T11:54:08.975Z"
   },
   {
    "duration": 0,
    "start_time": "2022-05-25T11:54:08.977Z"
   },
   {
    "duration": 0,
    "start_time": "2022-05-25T11:54:08.978Z"
   },
   {
    "duration": 0,
    "start_time": "2022-05-25T11:54:08.979Z"
   },
   {
    "duration": 0,
    "start_time": "2022-05-25T11:54:08.981Z"
   },
   {
    "duration": 0,
    "start_time": "2022-05-25T11:54:08.982Z"
   },
   {
    "duration": 0,
    "start_time": "2022-05-25T11:54:08.984Z"
   },
   {
    "duration": 0,
    "start_time": "2022-05-25T11:54:09.023Z"
   },
   {
    "duration": 0,
    "start_time": "2022-05-25T11:54:09.025Z"
   },
   {
    "duration": 0,
    "start_time": "2022-05-25T11:54:09.027Z"
   },
   {
    "duration": 0,
    "start_time": "2022-05-25T11:54:09.028Z"
   },
   {
    "duration": 0,
    "start_time": "2022-05-25T11:54:09.030Z"
   },
   {
    "duration": 0,
    "start_time": "2022-05-25T11:54:09.031Z"
   },
   {
    "duration": 0,
    "start_time": "2022-05-25T11:54:09.032Z"
   },
   {
    "duration": 1,
    "start_time": "2022-05-25T11:54:09.033Z"
   },
   {
    "duration": 0,
    "start_time": "2022-05-25T11:54:09.035Z"
   },
   {
    "duration": 0,
    "start_time": "2022-05-25T11:54:09.036Z"
   },
   {
    "duration": 0,
    "start_time": "2022-05-25T11:54:09.038Z"
   },
   {
    "duration": 0,
    "start_time": "2022-05-25T11:54:09.040Z"
   },
   {
    "duration": 0,
    "start_time": "2022-05-25T11:54:09.042Z"
   },
   {
    "duration": 0,
    "start_time": "2022-05-25T11:54:09.043Z"
   },
   {
    "duration": 0,
    "start_time": "2022-05-25T11:54:09.044Z"
   },
   {
    "duration": 0,
    "start_time": "2022-05-25T11:54:09.046Z"
   },
   {
    "duration": 0,
    "start_time": "2022-05-25T11:54:09.047Z"
   },
   {
    "duration": 0,
    "start_time": "2022-05-25T11:54:09.049Z"
   },
   {
    "duration": 0,
    "start_time": "2022-05-25T11:54:09.052Z"
   },
   {
    "duration": 0,
    "start_time": "2022-05-25T11:54:09.053Z"
   },
   {
    "duration": 0,
    "start_time": "2022-05-25T11:54:09.054Z"
   },
   {
    "duration": 0,
    "start_time": "2022-05-25T11:54:09.056Z"
   },
   {
    "duration": 0,
    "start_time": "2022-05-25T11:54:09.058Z"
   },
   {
    "duration": 0,
    "start_time": "2022-05-25T11:54:09.059Z"
   },
   {
    "duration": 0,
    "start_time": "2022-05-25T11:54:09.060Z"
   },
   {
    "duration": 12,
    "start_time": "2022-05-25T12:12:17.194Z"
   },
   {
    "duration": 13,
    "start_time": "2022-05-25T12:13:25.975Z"
   },
   {
    "duration": 748,
    "start_time": "2022-05-25T12:13:33.522Z"
   },
   {
    "duration": 145,
    "start_time": "2022-05-25T12:14:12.994Z"
   },
   {
    "duration": 1349,
    "start_time": "2022-05-25T12:14:32.814Z"
   },
   {
    "duration": 141,
    "start_time": "2022-05-25T12:14:34.165Z"
   },
   {
    "duration": 32,
    "start_time": "2022-05-25T12:14:34.307Z"
   },
   {
    "duration": 5,
    "start_time": "2022-05-25T12:14:34.342Z"
   },
   {
    "duration": 23,
    "start_time": "2022-05-25T12:14:34.348Z"
   },
   {
    "duration": 11,
    "start_time": "2022-05-25T12:14:34.373Z"
   },
   {
    "duration": 17,
    "start_time": "2022-05-25T12:14:34.386Z"
   },
   {
    "duration": 7,
    "start_time": "2022-05-25T12:14:34.405Z"
   },
   {
    "duration": 19,
    "start_time": "2022-05-25T12:14:34.414Z"
   },
   {
    "duration": 12,
    "start_time": "2022-05-25T12:14:34.437Z"
   },
   {
    "duration": 11,
    "start_time": "2022-05-25T12:14:34.450Z"
   },
   {
    "duration": 6,
    "start_time": "2022-05-25T12:14:34.463Z"
   },
   {
    "duration": 9,
    "start_time": "2022-05-25T12:14:34.470Z"
   },
   {
    "duration": 18,
    "start_time": "2022-05-25T12:14:34.480Z"
   },
   {
    "duration": 36,
    "start_time": "2022-05-25T12:14:34.499Z"
   },
   {
    "duration": 12,
    "start_time": "2022-05-25T12:14:34.539Z"
   },
   {
    "duration": 8,
    "start_time": "2022-05-25T12:14:34.552Z"
   },
   {
    "duration": 128,
    "start_time": "2022-05-25T12:14:34.562Z"
   },
   {
    "duration": 7,
    "start_time": "2022-05-25T12:14:34.692Z"
   },
   {
    "duration": 136,
    "start_time": "2022-05-25T12:14:34.701Z"
   },
   {
    "duration": 8,
    "start_time": "2022-05-25T12:14:34.839Z"
   },
   {
    "duration": 126,
    "start_time": "2022-05-25T12:14:34.849Z"
   },
   {
    "duration": 9,
    "start_time": "2022-05-25T12:14:34.976Z"
   },
   {
    "duration": 152,
    "start_time": "2022-05-25T12:14:34.986Z"
   },
   {
    "duration": 8,
    "start_time": "2022-05-25T12:14:35.140Z"
   },
   {
    "duration": 380,
    "start_time": "2022-05-25T12:14:35.150Z"
   },
   {
    "duration": 0,
    "start_time": "2022-05-25T12:14:35.534Z"
   },
   {
    "duration": 0,
    "start_time": "2022-05-25T12:14:35.536Z"
   },
   {
    "duration": 0,
    "start_time": "2022-05-25T12:14:35.542Z"
   },
   {
    "duration": 0,
    "start_time": "2022-05-25T12:14:35.543Z"
   },
   {
    "duration": 0,
    "start_time": "2022-05-25T12:14:35.544Z"
   },
   {
    "duration": 0,
    "start_time": "2022-05-25T12:14:35.544Z"
   },
   {
    "duration": 0,
    "start_time": "2022-05-25T12:14:35.546Z"
   },
   {
    "duration": 0,
    "start_time": "2022-05-25T12:14:35.547Z"
   },
   {
    "duration": 0,
    "start_time": "2022-05-25T12:14:35.548Z"
   },
   {
    "duration": 0,
    "start_time": "2022-05-25T12:14:35.548Z"
   },
   {
    "duration": 0,
    "start_time": "2022-05-25T12:14:35.549Z"
   },
   {
    "duration": 0,
    "start_time": "2022-05-25T12:14:35.550Z"
   },
   {
    "duration": 0,
    "start_time": "2022-05-25T12:14:35.551Z"
   },
   {
    "duration": 0,
    "start_time": "2022-05-25T12:14:35.552Z"
   },
   {
    "duration": 0,
    "start_time": "2022-05-25T12:14:35.553Z"
   },
   {
    "duration": 0,
    "start_time": "2022-05-25T12:14:35.554Z"
   },
   {
    "duration": 0,
    "start_time": "2022-05-25T12:14:35.555Z"
   },
   {
    "duration": 0,
    "start_time": "2022-05-25T12:14:35.556Z"
   },
   {
    "duration": 0,
    "start_time": "2022-05-25T12:14:35.557Z"
   },
   {
    "duration": 0,
    "start_time": "2022-05-25T12:14:35.557Z"
   },
   {
    "duration": 0,
    "start_time": "2022-05-25T12:14:35.558Z"
   },
   {
    "duration": 0,
    "start_time": "2022-05-25T12:14:35.559Z"
   },
   {
    "duration": 0,
    "start_time": "2022-05-25T12:14:35.560Z"
   },
   {
    "duration": 0,
    "start_time": "2022-05-25T12:14:35.561Z"
   },
   {
    "duration": 0,
    "start_time": "2022-05-25T12:14:35.562Z"
   },
   {
    "duration": 0,
    "start_time": "2022-05-25T12:14:35.563Z"
   },
   {
    "duration": 0,
    "start_time": "2022-05-25T12:14:35.564Z"
   },
   {
    "duration": 0,
    "start_time": "2022-05-25T12:14:35.565Z"
   },
   {
    "duration": 0,
    "start_time": "2022-05-25T12:14:35.566Z"
   },
   {
    "duration": 0,
    "start_time": "2022-05-25T12:14:35.567Z"
   },
   {
    "duration": 0,
    "start_time": "2022-05-25T12:14:35.567Z"
   },
   {
    "duration": 0,
    "start_time": "2022-05-25T12:14:35.568Z"
   },
   {
    "duration": 0,
    "start_time": "2022-05-25T12:14:35.569Z"
   },
   {
    "duration": 237,
    "start_time": "2022-05-25T12:19:21.327Z"
   },
   {
    "duration": 22,
    "start_time": "2022-05-25T13:02:43.541Z"
   },
   {
    "duration": 517,
    "start_time": "2022-05-25T13:03:00.158Z"
   },
   {
    "duration": 1447,
    "start_time": "2022-05-25T13:03:05.812Z"
   },
   {
    "duration": 52,
    "start_time": "2022-05-25T13:03:07.261Z"
   },
   {
    "duration": 24,
    "start_time": "2022-05-25T13:03:07.315Z"
   },
   {
    "duration": 6,
    "start_time": "2022-05-25T13:03:07.342Z"
   },
   {
    "duration": 10,
    "start_time": "2022-05-25T13:03:07.350Z"
   },
   {
    "duration": 7,
    "start_time": "2022-05-25T13:03:07.361Z"
   },
   {
    "duration": 14,
    "start_time": "2022-05-25T13:03:07.370Z"
   },
   {
    "duration": 6,
    "start_time": "2022-05-25T13:03:07.386Z"
   },
   {
    "duration": 42,
    "start_time": "2022-05-25T13:03:07.394Z"
   },
   {
    "duration": 20,
    "start_time": "2022-05-25T13:03:07.440Z"
   },
   {
    "duration": 11,
    "start_time": "2022-05-25T13:03:07.462Z"
   },
   {
    "duration": 5,
    "start_time": "2022-05-25T13:03:07.475Z"
   },
   {
    "duration": 7,
    "start_time": "2022-05-25T13:03:07.482Z"
   },
   {
    "duration": 15,
    "start_time": "2022-05-25T13:03:07.491Z"
   },
   {
    "duration": 10,
    "start_time": "2022-05-25T13:03:07.524Z"
   },
   {
    "duration": 16,
    "start_time": "2022-05-25T13:03:07.535Z"
   },
   {
    "duration": 7,
    "start_time": "2022-05-25T13:03:07.552Z"
   },
   {
    "duration": 155,
    "start_time": "2022-05-25T13:03:07.562Z"
   },
   {
    "duration": 13,
    "start_time": "2022-05-25T13:03:07.719Z"
   },
   {
    "duration": 139,
    "start_time": "2022-05-25T13:03:07.734Z"
   },
   {
    "duration": 9,
    "start_time": "2022-05-25T13:03:07.874Z"
   },
   {
    "duration": 142,
    "start_time": "2022-05-25T13:03:07.885Z"
   },
   {
    "duration": 18,
    "start_time": "2022-05-25T13:03:08.028Z"
   },
   {
    "duration": 148,
    "start_time": "2022-05-25T13:03:08.048Z"
   },
   {
    "duration": 7,
    "start_time": "2022-05-25T13:03:08.197Z"
   },
   {
    "duration": 1378,
    "start_time": "2022-05-25T13:05:35.263Z"
   },
   {
    "duration": 51,
    "start_time": "2022-05-25T13:05:36.644Z"
   },
   {
    "duration": 19,
    "start_time": "2022-05-25T13:05:36.696Z"
   },
   {
    "duration": 4,
    "start_time": "2022-05-25T13:05:36.718Z"
   },
   {
    "duration": 27,
    "start_time": "2022-05-25T13:05:36.724Z"
   },
   {
    "duration": 8,
    "start_time": "2022-05-25T13:05:36.753Z"
   },
   {
    "duration": 15,
    "start_time": "2022-05-25T13:05:36.762Z"
   },
   {
    "duration": 5,
    "start_time": "2022-05-25T13:05:36.778Z"
   },
   {
    "duration": 8,
    "start_time": "2022-05-25T13:05:36.784Z"
   },
   {
    "duration": 5,
    "start_time": "2022-05-25T13:05:36.795Z"
   },
   {
    "duration": 29,
    "start_time": "2022-05-25T13:05:36.801Z"
   },
   {
    "duration": 6,
    "start_time": "2022-05-25T13:05:36.837Z"
   },
   {
    "duration": 8,
    "start_time": "2022-05-25T13:05:36.845Z"
   },
   {
    "duration": 14,
    "start_time": "2022-05-25T13:05:36.854Z"
   },
   {
    "duration": 4,
    "start_time": "2022-05-25T13:05:36.869Z"
   },
   {
    "duration": 8,
    "start_time": "2022-05-25T13:05:36.875Z"
   },
   {
    "duration": 6,
    "start_time": "2022-05-25T13:05:36.885Z"
   },
   {
    "duration": 151,
    "start_time": "2022-05-25T13:05:36.893Z"
   },
   {
    "duration": 8,
    "start_time": "2022-05-25T13:05:37.046Z"
   },
   {
    "duration": 133,
    "start_time": "2022-05-25T13:05:37.055Z"
   },
   {
    "duration": 9,
    "start_time": "2022-05-25T13:05:37.190Z"
   },
   {
    "duration": 148,
    "start_time": "2022-05-25T13:05:37.201Z"
   },
   {
    "duration": 8,
    "start_time": "2022-05-25T13:05:37.351Z"
   },
   {
    "duration": 140,
    "start_time": "2022-05-25T13:05:37.360Z"
   },
   {
    "duration": 5,
    "start_time": "2022-05-25T13:05:37.501Z"
   },
   {
    "duration": 17,
    "start_time": "2022-05-25T13:05:37.507Z"
   },
   {
    "duration": 4,
    "start_time": "2022-05-25T13:05:37.529Z"
   },
   {
    "duration": 434,
    "start_time": "2022-05-25T13:05:37.538Z"
   },
   {
    "duration": 9,
    "start_time": "2022-05-25T13:05:37.974Z"
   },
   {
    "duration": 5,
    "start_time": "2022-05-25T13:05:37.985Z"
   },
   {
    "duration": 42,
    "start_time": "2022-05-25T13:05:37.991Z"
   },
   {
    "duration": 245,
    "start_time": "2022-05-25T13:05:38.035Z"
   },
   {
    "duration": 5,
    "start_time": "2022-05-25T13:05:38.282Z"
   },
   {
    "duration": 78,
    "start_time": "2022-05-25T13:05:38.288Z"
   },
   {
    "duration": 93,
    "start_time": "2022-05-25T13:05:38.367Z"
   },
   {
    "duration": 75,
    "start_time": "2022-05-25T13:05:38.462Z"
   },
   {
    "duration": 11,
    "start_time": "2022-05-25T13:05:38.539Z"
   },
   {
    "duration": 764,
    "start_time": "2022-05-25T13:05:38.552Z"
   },
   {
    "duration": 5,
    "start_time": "2022-05-25T13:05:39.319Z"
   },
   {
    "duration": 10479,
    "start_time": "2022-05-25T13:05:39.327Z"
   },
   {
    "duration": 4,
    "start_time": "2022-05-25T13:05:49.808Z"
   },
   {
    "duration": 1439,
    "start_time": "2022-05-25T13:14:10.271Z"
   },
   {
    "duration": 58,
    "start_time": "2022-05-25T13:14:11.713Z"
   },
   {
    "duration": 18,
    "start_time": "2022-05-25T13:14:11.773Z"
   },
   {
    "duration": 4,
    "start_time": "2022-05-25T13:14:11.793Z"
   },
   {
    "duration": 8,
    "start_time": "2022-05-25T13:14:11.799Z"
   },
   {
    "duration": 18,
    "start_time": "2022-05-25T13:14:11.809Z"
   },
   {
    "duration": 20,
    "start_time": "2022-05-25T13:14:11.829Z"
   },
   {
    "duration": 7,
    "start_time": "2022-05-25T13:14:11.851Z"
   },
   {
    "duration": 9,
    "start_time": "2022-05-25T13:14:11.859Z"
   },
   {
    "duration": 5,
    "start_time": "2022-05-25T13:14:11.871Z"
   },
   {
    "duration": 9,
    "start_time": "2022-05-25T13:14:11.877Z"
   },
   {
    "duration": 40,
    "start_time": "2022-05-25T13:14:11.888Z"
   },
   {
    "duration": 35,
    "start_time": "2022-05-25T13:14:11.930Z"
   },
   {
    "duration": 29,
    "start_time": "2022-05-25T13:14:11.967Z"
   },
   {
    "duration": 11,
    "start_time": "2022-05-25T13:14:11.998Z"
   },
   {
    "duration": 35,
    "start_time": "2022-05-25T13:14:12.011Z"
   },
   {
    "duration": 24,
    "start_time": "2022-05-25T13:14:12.048Z"
   },
   {
    "duration": 131,
    "start_time": "2022-05-25T13:14:12.074Z"
   },
   {
    "duration": 7,
    "start_time": "2022-05-25T13:14:12.207Z"
   },
   {
    "duration": 153,
    "start_time": "2022-05-25T13:14:12.223Z"
   },
   {
    "duration": 10,
    "start_time": "2022-05-25T13:14:12.378Z"
   },
   {
    "duration": 129,
    "start_time": "2022-05-25T13:14:12.390Z"
   },
   {
    "duration": 14,
    "start_time": "2022-05-25T13:14:12.524Z"
   },
   {
    "duration": 247,
    "start_time": "2022-05-25T13:14:12.540Z"
   },
   {
    "duration": 8,
    "start_time": "2022-05-25T13:14:12.790Z"
   },
   {
    "duration": 361,
    "start_time": "2022-05-25T13:14:12.800Z"
   },
   {
    "duration": 0,
    "start_time": "2022-05-25T13:14:13.164Z"
   },
   {
    "duration": 0,
    "start_time": "2022-05-25T13:14:13.166Z"
   },
   {
    "duration": 0,
    "start_time": "2022-05-25T13:14:13.168Z"
   },
   {
    "duration": 0,
    "start_time": "2022-05-25T13:14:13.169Z"
   },
   {
    "duration": 0,
    "start_time": "2022-05-25T13:14:13.171Z"
   },
   {
    "duration": 0,
    "start_time": "2022-05-25T13:14:13.175Z"
   },
   {
    "duration": 0,
    "start_time": "2022-05-25T13:14:13.177Z"
   },
   {
    "duration": 0,
    "start_time": "2022-05-25T13:14:13.179Z"
   },
   {
    "duration": 0,
    "start_time": "2022-05-25T13:14:13.180Z"
   },
   {
    "duration": 0,
    "start_time": "2022-05-25T13:14:13.182Z"
   },
   {
    "duration": 0,
    "start_time": "2022-05-25T13:14:13.183Z"
   },
   {
    "duration": 0,
    "start_time": "2022-05-25T13:14:13.185Z"
   },
   {
    "duration": 0,
    "start_time": "2022-05-25T13:14:13.187Z"
   },
   {
    "duration": 0,
    "start_time": "2022-05-25T13:14:13.223Z"
   },
   {
    "duration": 0,
    "start_time": "2022-05-25T13:14:13.225Z"
   },
   {
    "duration": 0,
    "start_time": "2022-05-25T13:14:13.227Z"
   },
   {
    "duration": 0,
    "start_time": "2022-05-25T13:14:13.229Z"
   },
   {
    "duration": 0,
    "start_time": "2022-05-25T13:14:13.233Z"
   },
   {
    "duration": 0,
    "start_time": "2022-05-25T13:14:13.235Z"
   },
   {
    "duration": 0,
    "start_time": "2022-05-25T13:14:13.236Z"
   },
   {
    "duration": 0,
    "start_time": "2022-05-25T13:14:13.238Z"
   },
   {
    "duration": 0,
    "start_time": "2022-05-25T13:14:13.239Z"
   },
   {
    "duration": 0,
    "start_time": "2022-05-25T13:14:13.240Z"
   },
   {
    "duration": 0,
    "start_time": "2022-05-25T13:14:13.242Z"
   },
   {
    "duration": 0,
    "start_time": "2022-05-25T13:14:13.244Z"
   },
   {
    "duration": 0,
    "start_time": "2022-05-25T13:14:13.246Z"
   },
   {
    "duration": 0,
    "start_time": "2022-05-25T13:14:13.247Z"
   },
   {
    "duration": 0,
    "start_time": "2022-05-25T13:14:13.249Z"
   },
   {
    "duration": 0,
    "start_time": "2022-05-25T13:14:13.250Z"
   },
   {
    "duration": 0,
    "start_time": "2022-05-25T13:14:13.251Z"
   },
   {
    "duration": 1,
    "start_time": "2022-05-25T13:14:13.253Z"
   },
   {
    "duration": 0,
    "start_time": "2022-05-25T13:14:13.255Z"
   },
   {
    "duration": 0,
    "start_time": "2022-05-25T13:14:13.256Z"
   },
   {
    "duration": 1440,
    "start_time": "2022-05-25T13:16:51.775Z"
   },
   {
    "duration": 56,
    "start_time": "2022-05-25T13:16:53.217Z"
   },
   {
    "duration": 18,
    "start_time": "2022-05-25T13:16:53.274Z"
   },
   {
    "duration": 4,
    "start_time": "2022-05-25T13:16:53.294Z"
   },
   {
    "duration": 8,
    "start_time": "2022-05-25T13:16:53.300Z"
   },
   {
    "duration": 7,
    "start_time": "2022-05-25T13:16:53.310Z"
   },
   {
    "duration": 32,
    "start_time": "2022-05-25T13:16:53.322Z"
   },
   {
    "duration": 11,
    "start_time": "2022-05-25T13:16:53.356Z"
   },
   {
    "duration": 21,
    "start_time": "2022-05-25T13:16:53.369Z"
   },
   {
    "duration": 7,
    "start_time": "2022-05-25T13:16:53.394Z"
   },
   {
    "duration": 13,
    "start_time": "2022-05-25T13:16:53.403Z"
   },
   {
    "duration": 14,
    "start_time": "2022-05-25T13:16:53.417Z"
   },
   {
    "duration": 21,
    "start_time": "2022-05-25T13:16:53.433Z"
   },
   {
    "duration": 19,
    "start_time": "2022-05-25T13:16:53.457Z"
   },
   {
    "duration": 6,
    "start_time": "2022-05-25T13:16:53.479Z"
   },
   {
    "duration": 8,
    "start_time": "2022-05-25T13:16:53.486Z"
   },
   {
    "duration": 7,
    "start_time": "2022-05-25T13:16:53.496Z"
   },
   {
    "duration": 141,
    "start_time": "2022-05-25T13:16:53.524Z"
   },
   {
    "duration": 10,
    "start_time": "2022-05-25T13:16:53.667Z"
   },
   {
    "duration": 157,
    "start_time": "2022-05-25T13:16:53.679Z"
   },
   {
    "duration": 9,
    "start_time": "2022-05-25T13:16:53.839Z"
   },
   {
    "duration": 139,
    "start_time": "2022-05-25T13:16:53.850Z"
   },
   {
    "duration": 12,
    "start_time": "2022-05-25T13:16:53.992Z"
   },
   {
    "duration": 140,
    "start_time": "2022-05-25T13:16:54.006Z"
   },
   {
    "duration": 6,
    "start_time": "2022-05-25T13:16:54.148Z"
   },
   {
    "duration": 149,
    "start_time": "2022-05-25T13:16:54.155Z"
   },
   {
    "duration": 423,
    "start_time": "2022-05-25T13:16:54.306Z"
   },
   {
    "duration": 12,
    "start_time": "2022-05-25T13:16:54.735Z"
   },
   {
    "duration": 6,
    "start_time": "2022-05-25T13:16:54.750Z"
   },
   {
    "duration": 23,
    "start_time": "2022-05-25T13:16:54.758Z"
   },
   {
    "duration": 260,
    "start_time": "2022-05-25T13:16:54.783Z"
   },
   {
    "duration": 6,
    "start_time": "2022-05-25T13:16:55.044Z"
   },
   {
    "duration": 78,
    "start_time": "2022-05-25T13:16:55.052Z"
   },
   {
    "duration": 76,
    "start_time": "2022-05-25T13:16:55.132Z"
   },
   {
    "duration": 73,
    "start_time": "2022-05-25T13:16:55.210Z"
   },
   {
    "duration": 11,
    "start_time": "2022-05-25T13:16:55.285Z"
   },
   {
    "duration": 781,
    "start_time": "2022-05-25T13:16:55.297Z"
   },
   {
    "duration": 5,
    "start_time": "2022-05-25T13:16:56.079Z"
   },
   {
    "duration": 9749,
    "start_time": "2022-05-25T13:16:56.085Z"
   },
   {
    "duration": 6,
    "start_time": "2022-05-25T13:17:05.837Z"
   },
   {
    "duration": 1325,
    "start_time": "2022-05-25T13:19:38.593Z"
   },
   {
    "duration": 75,
    "start_time": "2022-05-25T13:19:39.920Z"
   },
   {
    "duration": 22,
    "start_time": "2022-05-25T13:19:39.997Z"
   },
   {
    "duration": 6,
    "start_time": "2022-05-25T13:19:40.022Z"
   },
   {
    "duration": 24,
    "start_time": "2022-05-25T13:19:40.030Z"
   },
   {
    "duration": 7,
    "start_time": "2022-05-25T13:19:40.056Z"
   },
   {
    "duration": 17,
    "start_time": "2022-05-25T13:19:40.065Z"
   },
   {
    "duration": 5,
    "start_time": "2022-05-25T13:19:40.084Z"
   },
   {
    "duration": 41,
    "start_time": "2022-05-25T13:19:40.091Z"
   },
   {
    "duration": 7,
    "start_time": "2022-05-25T13:19:40.138Z"
   },
   {
    "duration": 9,
    "start_time": "2022-05-25T13:19:40.146Z"
   },
   {
    "duration": 6,
    "start_time": "2022-05-25T13:19:40.157Z"
   },
   {
    "duration": 10,
    "start_time": "2022-05-25T13:19:40.165Z"
   },
   {
    "duration": 13,
    "start_time": "2022-05-25T13:19:40.177Z"
   },
   {
    "duration": 6,
    "start_time": "2022-05-25T13:19:40.191Z"
   },
   {
    "duration": 30,
    "start_time": "2022-05-25T13:19:40.198Z"
   },
   {
    "duration": 18,
    "start_time": "2022-05-25T13:19:40.230Z"
   },
   {
    "duration": 134,
    "start_time": "2022-05-25T13:19:40.250Z"
   },
   {
    "duration": 8,
    "start_time": "2022-05-25T13:19:40.385Z"
   },
   {
    "duration": 148,
    "start_time": "2022-05-25T13:19:40.394Z"
   },
   {
    "duration": 8,
    "start_time": "2022-05-25T13:19:40.543Z"
   },
   {
    "duration": 128,
    "start_time": "2022-05-25T13:19:40.552Z"
   },
   {
    "duration": 8,
    "start_time": "2022-05-25T13:19:40.681Z"
   },
   {
    "duration": 141,
    "start_time": "2022-05-25T13:19:40.690Z"
   },
   {
    "duration": 9,
    "start_time": "2022-05-25T13:19:40.835Z"
   },
   {
    "duration": 143,
    "start_time": "2022-05-25T13:19:40.846Z"
   },
   {
    "duration": 428,
    "start_time": "2022-05-25T13:19:40.991Z"
   },
   {
    "duration": 12,
    "start_time": "2022-05-25T13:19:41.424Z"
   },
   {
    "duration": 13,
    "start_time": "2022-05-25T13:19:41.438Z"
   },
   {
    "duration": 27,
    "start_time": "2022-05-25T13:19:41.453Z"
   },
   {
    "duration": 246,
    "start_time": "2022-05-25T13:19:41.482Z"
   },
   {
    "duration": 6,
    "start_time": "2022-05-25T13:19:41.734Z"
   },
   {
    "duration": 72,
    "start_time": "2022-05-25T13:19:41.742Z"
   },
   {
    "duration": 84,
    "start_time": "2022-05-25T13:19:41.816Z"
   },
   {
    "duration": 79,
    "start_time": "2022-05-25T13:19:41.901Z"
   },
   {
    "duration": 11,
    "start_time": "2022-05-25T13:19:41.982Z"
   },
   {
    "duration": 765,
    "start_time": "2022-05-25T13:19:41.994Z"
   },
   {
    "duration": 6,
    "start_time": "2022-05-25T13:19:42.761Z"
   },
   {
    "duration": 9309,
    "start_time": "2022-05-25T13:19:42.769Z"
   },
   {
    "duration": 3,
    "start_time": "2022-05-25T13:19:52.080Z"
   },
   {
    "duration": 1652711,
    "start_time": "2022-05-25T13:19:52.084Z"
   },
   {
    "duration": 4,
    "start_time": "2022-05-25T13:47:24.796Z"
   },
   {
    "duration": 674,
    "start_time": "2022-05-25T13:47:24.802Z"
   },
   {
    "duration": 188,
    "start_time": "2022-05-25T13:47:25.478Z"
   },
   {
    "duration": 6666,
    "start_time": "2022-05-25T13:47:25.667Z"
   },
   {
    "duration": 580,
    "start_time": "2022-05-25T13:47:32.335Z"
   },
   {
    "duration": 560,
    "start_time": "2022-05-25T13:47:32.917Z"
   },
   {
    "duration": 6,
    "start_time": "2022-05-25T13:47:33.479Z"
   },
   {
    "duration": 56,
    "start_time": "2022-05-25T13:47:33.486Z"
   },
   {
    "duration": 37,
    "start_time": "2022-05-25T13:47:33.544Z"
   },
   {
    "duration": 255,
    "start_time": "2022-05-25T13:47:33.583Z"
   },
   {
    "duration": 450,
    "start_time": "2022-05-25T13:47:33.841Z"
   },
   {
    "duration": 3,
    "start_time": "2022-05-25T13:47:34.292Z"
   },
   {
    "duration": 11,
    "start_time": "2022-05-25T13:47:34.297Z"
   },
   {
    "duration": 2529,
    "start_time": "2022-05-25T13:47:34.322Z"
   },
   {
    "duration": 27,
    "start_time": "2022-05-25T13:47:36.852Z"
   },
   {
    "duration": 49,
    "start_time": "2022-05-25T13:47:36.881Z"
   },
   {
    "duration": 146,
    "start_time": "2022-05-25T13:47:36.935Z"
   },
   {
    "duration": 8,
    "start_time": "2022-05-25T13:47:37.083Z"
   },
   {
    "duration": 1609,
    "start_time": "2022-05-26T07:33:59.856Z"
   },
   {
    "duration": 94,
    "start_time": "2022-05-26T07:34:01.467Z"
   },
   {
    "duration": 21,
    "start_time": "2022-05-26T07:34:01.564Z"
   },
   {
    "duration": 42,
    "start_time": "2022-05-26T07:34:01.588Z"
   },
   {
    "duration": 62,
    "start_time": "2022-05-26T07:34:01.633Z"
   },
   {
    "duration": 161,
    "start_time": "2022-05-26T07:34:01.697Z"
   },
   {
    "duration": 0,
    "start_time": "2022-05-26T07:34:01.862Z"
   },
   {
    "duration": 0,
    "start_time": "2022-05-26T07:34:01.864Z"
   },
   {
    "duration": 0,
    "start_time": "2022-05-26T07:34:01.866Z"
   },
   {
    "duration": 0,
    "start_time": "2022-05-26T07:34:01.867Z"
   },
   {
    "duration": 0,
    "start_time": "2022-05-26T07:34:01.869Z"
   },
   {
    "duration": 0,
    "start_time": "2022-05-26T07:34:01.870Z"
   },
   {
    "duration": 0,
    "start_time": "2022-05-26T07:34:01.871Z"
   },
   {
    "duration": 0,
    "start_time": "2022-05-26T07:34:01.873Z"
   },
   {
    "duration": 0,
    "start_time": "2022-05-26T07:34:01.875Z"
   },
   {
    "duration": 0,
    "start_time": "2022-05-26T07:34:01.877Z"
   },
   {
    "duration": 0,
    "start_time": "2022-05-26T07:34:01.878Z"
   },
   {
    "duration": 0,
    "start_time": "2022-05-26T07:34:01.879Z"
   },
   {
    "duration": 0,
    "start_time": "2022-05-26T07:34:01.881Z"
   },
   {
    "duration": 0,
    "start_time": "2022-05-26T07:34:01.883Z"
   },
   {
    "duration": 0,
    "start_time": "2022-05-26T07:34:01.884Z"
   },
   {
    "duration": 0,
    "start_time": "2022-05-26T07:34:01.886Z"
   },
   {
    "duration": 0,
    "start_time": "2022-05-26T07:34:01.887Z"
   },
   {
    "duration": 0,
    "start_time": "2022-05-26T07:34:01.888Z"
   },
   {
    "duration": 0,
    "start_time": "2022-05-26T07:34:01.889Z"
   },
   {
    "duration": 0,
    "start_time": "2022-05-26T07:34:01.890Z"
   },
   {
    "duration": 0,
    "start_time": "2022-05-26T07:34:01.892Z"
   },
   {
    "duration": 0,
    "start_time": "2022-05-26T07:34:01.893Z"
   },
   {
    "duration": 0,
    "start_time": "2022-05-26T07:34:01.894Z"
   },
   {
    "duration": 0,
    "start_time": "2022-05-26T07:34:01.896Z"
   },
   {
    "duration": 0,
    "start_time": "2022-05-26T07:34:01.897Z"
   },
   {
    "duration": 0,
    "start_time": "2022-05-26T07:34:01.898Z"
   },
   {
    "duration": 0,
    "start_time": "2022-05-26T07:34:01.900Z"
   },
   {
    "duration": 0,
    "start_time": "2022-05-26T07:34:01.959Z"
   },
   {
    "duration": 0,
    "start_time": "2022-05-26T07:34:01.961Z"
   },
   {
    "duration": 0,
    "start_time": "2022-05-26T07:34:01.963Z"
   },
   {
    "duration": 0,
    "start_time": "2022-05-26T07:34:01.964Z"
   },
   {
    "duration": 0,
    "start_time": "2022-05-26T07:34:01.965Z"
   },
   {
    "duration": 0,
    "start_time": "2022-05-26T07:34:01.967Z"
   },
   {
    "duration": 0,
    "start_time": "2022-05-26T07:34:01.968Z"
   },
   {
    "duration": 0,
    "start_time": "2022-05-26T07:34:01.969Z"
   },
   {
    "duration": 0,
    "start_time": "2022-05-26T07:34:01.970Z"
   },
   {
    "duration": 0,
    "start_time": "2022-05-26T07:34:01.972Z"
   },
   {
    "duration": 0,
    "start_time": "2022-05-26T07:34:01.973Z"
   },
   {
    "duration": 0,
    "start_time": "2022-05-26T07:34:01.974Z"
   },
   {
    "duration": 0,
    "start_time": "2022-05-26T07:34:01.975Z"
   },
   {
    "duration": 0,
    "start_time": "2022-05-26T07:34:01.977Z"
   },
   {
    "duration": 0,
    "start_time": "2022-05-26T07:34:01.978Z"
   },
   {
    "duration": 0,
    "start_time": "2022-05-26T07:34:01.979Z"
   },
   {
    "duration": 0,
    "start_time": "2022-05-26T07:34:01.981Z"
   },
   {
    "duration": 0,
    "start_time": "2022-05-26T07:34:01.982Z"
   },
   {
    "duration": 0,
    "start_time": "2022-05-26T07:34:01.984Z"
   },
   {
    "duration": 0,
    "start_time": "2022-05-26T07:34:01.985Z"
   },
   {
    "duration": 0,
    "start_time": "2022-05-26T07:34:01.987Z"
   },
   {
    "duration": 0,
    "start_time": "2022-05-26T07:34:01.988Z"
   },
   {
    "duration": 0,
    "start_time": "2022-05-26T07:34:01.989Z"
   },
   {
    "duration": 0,
    "start_time": "2022-05-26T07:34:01.990Z"
   },
   {
    "duration": 0,
    "start_time": "2022-05-26T07:34:01.991Z"
   },
   {
    "duration": 0,
    "start_time": "2022-05-26T07:34:01.993Z"
   },
   {
    "duration": 0,
    "start_time": "2022-05-26T07:34:01.994Z"
   },
   {
    "duration": 11,
    "start_time": "2022-05-26T07:34:29.130Z"
   },
   {
    "duration": 1314,
    "start_time": "2022-05-26T07:34:44.321Z"
   },
   {
    "duration": 50,
    "start_time": "2022-05-26T07:34:45.637Z"
   },
   {
    "duration": 25,
    "start_time": "2022-05-26T07:34:45.689Z"
   },
   {
    "duration": 4,
    "start_time": "2022-05-26T07:34:45.716Z"
   },
   {
    "duration": 15,
    "start_time": "2022-05-26T07:34:45.722Z"
   },
   {
    "duration": 22,
    "start_time": "2022-05-26T07:34:45.739Z"
   },
   {
    "duration": 7,
    "start_time": "2022-05-26T07:34:45.763Z"
   },
   {
    "duration": 19,
    "start_time": "2022-05-26T07:34:45.772Z"
   },
   {
    "duration": 7,
    "start_time": "2022-05-26T07:34:45.793Z"
   },
   {
    "duration": 16,
    "start_time": "2022-05-26T07:34:45.802Z"
   },
   {
    "duration": 12,
    "start_time": "2022-05-26T07:34:45.820Z"
   },
   {
    "duration": 10,
    "start_time": "2022-05-26T07:34:45.834Z"
   },
   {
    "duration": 18,
    "start_time": "2022-05-26T07:34:45.845Z"
   },
   {
    "duration": 25,
    "start_time": "2022-05-26T07:34:45.864Z"
   },
   {
    "duration": 19,
    "start_time": "2022-05-26T07:34:45.891Z"
   },
   {
    "duration": 14,
    "start_time": "2022-05-26T07:34:45.911Z"
   },
   {
    "duration": 24,
    "start_time": "2022-05-26T07:34:45.927Z"
   },
   {
    "duration": 13,
    "start_time": "2022-05-26T07:34:45.953Z"
   },
   {
    "duration": 133,
    "start_time": "2022-05-26T07:34:45.967Z"
   },
   {
    "duration": 8,
    "start_time": "2022-05-26T07:34:46.101Z"
   },
   {
    "duration": 123,
    "start_time": "2022-05-26T07:34:46.111Z"
   },
   {
    "duration": 8,
    "start_time": "2022-05-26T07:34:46.236Z"
   },
   {
    "duration": 114,
    "start_time": "2022-05-26T07:34:46.246Z"
   },
   {
    "duration": 8,
    "start_time": "2022-05-26T07:34:46.362Z"
   },
   {
    "duration": 134,
    "start_time": "2022-05-26T07:34:46.371Z"
   },
   {
    "duration": 6,
    "start_time": "2022-05-26T07:34:46.506Z"
   },
   {
    "duration": 151,
    "start_time": "2022-05-26T07:34:46.513Z"
   },
   {
    "duration": 428,
    "start_time": "2022-05-26T07:34:46.668Z"
   },
   {
    "duration": 8,
    "start_time": "2022-05-26T07:34:47.097Z"
   },
   {
    "duration": 11,
    "start_time": "2022-05-26T07:34:47.107Z"
   },
   {
    "duration": 40,
    "start_time": "2022-05-26T07:34:47.119Z"
   },
   {
    "duration": 236,
    "start_time": "2022-05-26T07:34:47.164Z"
   },
   {
    "duration": 3,
    "start_time": "2022-05-26T07:34:47.402Z"
   },
   {
    "duration": 80,
    "start_time": "2022-05-26T07:34:47.407Z"
   },
   {
    "duration": 76,
    "start_time": "2022-05-26T07:34:47.489Z"
   },
   {
    "duration": 57,
    "start_time": "2022-05-26T07:34:47.566Z"
   },
   {
    "duration": 10,
    "start_time": "2022-05-26T07:34:47.625Z"
   },
   {
    "duration": 743,
    "start_time": "2022-05-26T07:34:47.637Z"
   },
   {
    "duration": 4,
    "start_time": "2022-05-26T07:34:48.382Z"
   },
   {
    "duration": 8347,
    "start_time": "2022-05-26T07:34:48.388Z"
   },
   {
    "duration": 4,
    "start_time": "2022-05-26T07:34:56.737Z"
   },
   {
    "duration": 1457,
    "start_time": "2022-05-26T10:55:19.376Z"
   },
   {
    "duration": 87,
    "start_time": "2022-05-26T10:55:20.835Z"
   },
   {
    "duration": 17,
    "start_time": "2022-05-26T10:55:20.924Z"
   },
   {
    "duration": 10,
    "start_time": "2022-05-26T10:55:20.943Z"
   },
   {
    "duration": 5,
    "start_time": "2022-05-26T10:55:20.955Z"
   },
   {
    "duration": 21,
    "start_time": "2022-05-26T10:55:20.962Z"
   },
   {
    "duration": 7,
    "start_time": "2022-05-26T10:55:20.984Z"
   },
   {
    "duration": 23,
    "start_time": "2022-05-26T10:55:20.992Z"
   },
   {
    "duration": 7,
    "start_time": "2022-05-26T10:55:21.017Z"
   },
   {
    "duration": 16,
    "start_time": "2022-05-26T10:55:21.026Z"
   },
   {
    "duration": 12,
    "start_time": "2022-05-26T10:55:21.044Z"
   },
   {
    "duration": 14,
    "start_time": "2022-05-26T10:55:21.058Z"
   },
   {
    "duration": 6,
    "start_time": "2022-05-26T10:55:21.074Z"
   },
   {
    "duration": 16,
    "start_time": "2022-05-26T10:55:21.082Z"
   },
   {
    "duration": 21,
    "start_time": "2022-05-26T10:55:21.100Z"
   },
   {
    "duration": 6,
    "start_time": "2022-05-26T10:55:21.123Z"
   },
   {
    "duration": 19,
    "start_time": "2022-05-26T10:55:21.130Z"
   },
   {
    "duration": 14,
    "start_time": "2022-05-26T10:55:21.151Z"
   },
   {
    "duration": 130,
    "start_time": "2022-05-26T10:55:21.167Z"
   },
   {
    "duration": 8,
    "start_time": "2022-05-26T10:55:21.298Z"
   },
   {
    "duration": 137,
    "start_time": "2022-05-26T10:55:21.307Z"
   },
   {
    "duration": 8,
    "start_time": "2022-05-26T10:55:21.446Z"
   },
   {
    "duration": 119,
    "start_time": "2022-05-26T10:55:21.464Z"
   },
   {
    "duration": 8,
    "start_time": "2022-05-26T10:55:21.584Z"
   },
   {
    "duration": 137,
    "start_time": "2022-05-26T10:55:21.593Z"
   },
   {
    "duration": 5,
    "start_time": "2022-05-26T10:55:21.732Z"
   },
   {
    "duration": 146,
    "start_time": "2022-05-26T10:55:21.738Z"
   },
   {
    "duration": 406,
    "start_time": "2022-05-26T10:55:21.888Z"
   },
   {
    "duration": 8,
    "start_time": "2022-05-26T10:55:22.295Z"
   },
   {
    "duration": 7,
    "start_time": "2022-05-26T10:55:22.305Z"
   },
   {
    "duration": 28,
    "start_time": "2022-05-26T10:55:22.314Z"
   },
   {
    "duration": 222,
    "start_time": "2022-05-26T10:55:22.344Z"
   },
   {
    "duration": 4,
    "start_time": "2022-05-26T10:55:22.568Z"
   },
   {
    "duration": 76,
    "start_time": "2022-05-26T10:55:22.573Z"
   },
   {
    "duration": 84,
    "start_time": "2022-05-26T10:55:22.651Z"
   },
   {
    "duration": 160,
    "start_time": "2022-05-26T10:55:22.736Z"
   },
   {
    "duration": 10,
    "start_time": "2022-05-26T10:55:22.898Z"
   },
   {
    "duration": 696,
    "start_time": "2022-05-26T10:55:22.910Z"
   },
   {
    "duration": 5,
    "start_time": "2022-05-26T10:55:23.608Z"
   },
   {
    "duration": 9626,
    "start_time": "2022-05-26T10:55:23.615Z"
   },
   {
    "duration": 2,
    "start_time": "2022-05-26T10:55:33.243Z"
   },
   {
    "duration": 30,
    "start_time": "2022-05-26T10:55:33.246Z"
   },
   {
    "duration": 27,
    "start_time": "2022-05-26T10:55:33.278Z"
   },
   {
    "duration": 13,
    "start_time": "2022-05-26T10:55:33.306Z"
   },
   {
    "duration": 24,
    "start_time": "2022-05-26T10:55:33.320Z"
   },
   {
    "duration": 166,
    "start_time": "2022-05-26T10:55:33.345Z"
   },
   {
    "duration": 0,
    "start_time": "2022-05-26T10:55:33.512Z"
   },
   {
    "duration": 0,
    "start_time": "2022-05-26T10:55:33.514Z"
   },
   {
    "duration": 0,
    "start_time": "2022-05-26T10:55:33.514Z"
   },
   {
    "duration": 0,
    "start_time": "2022-05-26T10:55:33.515Z"
   },
   {
    "duration": 0,
    "start_time": "2022-05-26T10:55:33.516Z"
   },
   {
    "duration": 0,
    "start_time": "2022-05-26T10:55:33.517Z"
   },
   {
    "duration": 0,
    "start_time": "2022-05-26T10:55:33.518Z"
   },
   {
    "duration": 0,
    "start_time": "2022-05-26T10:55:33.519Z"
   },
   {
    "duration": 0,
    "start_time": "2022-05-26T10:55:33.521Z"
   },
   {
    "duration": 0,
    "start_time": "2022-05-26T10:55:33.522Z"
   },
   {
    "duration": 0,
    "start_time": "2022-05-26T10:55:33.523Z"
   },
   {
    "duration": 0,
    "start_time": "2022-05-26T10:55:33.524Z"
   },
   {
    "duration": 0,
    "start_time": "2022-05-26T10:55:33.525Z"
   },
   {
    "duration": 0,
    "start_time": "2022-05-26T10:55:33.527Z"
   },
   {
    "duration": 0,
    "start_time": "2022-05-26T10:55:33.528Z"
   },
   {
    "duration": 31,
    "start_time": "2022-05-26T10:56:49.734Z"
   },
   {
    "duration": 35,
    "start_time": "2022-05-26T10:58:24.389Z"
   },
   {
    "duration": 29,
    "start_time": "2022-05-26T10:58:52.343Z"
   },
   {
    "duration": 84,
    "start_time": "2022-05-26T11:00:02.422Z"
   },
   {
    "duration": 346,
    "start_time": "2022-05-26T11:01:22.666Z"
   },
   {
    "duration": 17,
    "start_time": "2022-05-26T11:01:30.139Z"
   },
   {
    "duration": 21,
    "start_time": "2022-05-26T11:01:58.166Z"
   },
   {
    "duration": 9,
    "start_time": "2022-05-26T11:02:21.127Z"
   },
   {
    "duration": 1419,
    "start_time": "2022-05-26T11:04:47.479Z"
   },
   {
    "duration": 54,
    "start_time": "2022-05-26T11:04:48.900Z"
   },
   {
    "duration": 30,
    "start_time": "2022-05-26T11:04:48.956Z"
   },
   {
    "duration": 5,
    "start_time": "2022-05-26T11:04:48.989Z"
   },
   {
    "duration": 5,
    "start_time": "2022-05-26T11:04:48.996Z"
   },
   {
    "duration": 20,
    "start_time": "2022-05-26T11:04:49.002Z"
   },
   {
    "duration": 8,
    "start_time": "2022-05-26T11:04:49.024Z"
   },
   {
    "duration": 46,
    "start_time": "2022-05-26T11:04:49.035Z"
   },
   {
    "duration": 8,
    "start_time": "2022-05-26T11:04:49.084Z"
   },
   {
    "duration": 11,
    "start_time": "2022-05-26T11:04:49.096Z"
   },
   {
    "duration": 8,
    "start_time": "2022-05-26T11:04:49.110Z"
   },
   {
    "duration": 11,
    "start_time": "2022-05-26T11:04:49.120Z"
   },
   {
    "duration": 7,
    "start_time": "2022-05-26T11:04:49.133Z"
   },
   {
    "duration": 9,
    "start_time": "2022-05-26T11:04:49.176Z"
   },
   {
    "duration": 33,
    "start_time": "2022-05-26T11:04:49.187Z"
   },
   {
    "duration": 6,
    "start_time": "2022-05-26T11:04:49.222Z"
   },
   {
    "duration": 11,
    "start_time": "2022-05-26T11:04:49.230Z"
   },
   {
    "duration": 12,
    "start_time": "2022-05-26T11:04:49.242Z"
   },
   {
    "duration": 141,
    "start_time": "2022-05-26T11:04:49.255Z"
   },
   {
    "duration": 8,
    "start_time": "2022-05-26T11:04:49.397Z"
   },
   {
    "duration": 138,
    "start_time": "2022-05-26T11:04:49.406Z"
   },
   {
    "duration": 8,
    "start_time": "2022-05-26T11:04:49.546Z"
   },
   {
    "duration": 147,
    "start_time": "2022-05-26T11:04:49.555Z"
   },
   {
    "duration": 10,
    "start_time": "2022-05-26T11:04:49.704Z"
   },
   {
    "duration": 136,
    "start_time": "2022-05-26T11:04:49.715Z"
   },
   {
    "duration": 5,
    "start_time": "2022-05-26T11:04:49.853Z"
   },
   {
    "duration": 152,
    "start_time": "2022-05-26T11:04:49.859Z"
   },
   {
    "duration": 464,
    "start_time": "2022-05-26T11:04:50.015Z"
   },
   {
    "duration": 8,
    "start_time": "2022-05-26T11:04:50.481Z"
   },
   {
    "duration": 5,
    "start_time": "2022-05-26T11:04:50.490Z"
   },
   {
    "duration": 22,
    "start_time": "2022-05-26T11:04:50.497Z"
   },
   {
    "duration": 269,
    "start_time": "2022-05-26T11:04:50.520Z"
   },
   {
    "duration": 5,
    "start_time": "2022-05-26T11:04:50.791Z"
   },
   {
    "duration": 78,
    "start_time": "2022-05-26T11:04:50.798Z"
   },
   {
    "duration": 76,
    "start_time": "2022-05-26T11:04:50.878Z"
   },
   {
    "duration": 73,
    "start_time": "2022-05-26T11:04:50.956Z"
   },
   {
    "duration": 12,
    "start_time": "2022-05-26T11:04:51.031Z"
   },
   {
    "duration": 758,
    "start_time": "2022-05-26T11:04:51.046Z"
   },
   {
    "duration": 4,
    "start_time": "2022-05-26T11:04:51.806Z"
   },
   {
    "duration": 11062,
    "start_time": "2022-05-26T11:04:51.812Z"
   },
   {
    "duration": 3,
    "start_time": "2022-05-26T11:05:02.877Z"
   },
   {
    "duration": 6,
    "start_time": "2022-05-26T11:05:02.882Z"
   },
   {
    "duration": 5,
    "start_time": "2022-05-26T11:05:02.890Z"
   },
   {
    "duration": 10,
    "start_time": "2022-05-26T11:05:02.896Z"
   },
   {
    "duration": 17,
    "start_time": "2022-05-26T11:05:02.908Z"
   },
   {
    "duration": 150,
    "start_time": "2022-05-26T11:05:02.929Z"
   },
   {
    "duration": 0,
    "start_time": "2022-05-26T11:05:03.081Z"
   },
   {
    "duration": 0,
    "start_time": "2022-05-26T11:05:03.082Z"
   },
   {
    "duration": 0,
    "start_time": "2022-05-26T11:05:03.083Z"
   },
   {
    "duration": 0,
    "start_time": "2022-05-26T11:05:03.084Z"
   },
   {
    "duration": 0,
    "start_time": "2022-05-26T11:05:03.085Z"
   },
   {
    "duration": 0,
    "start_time": "2022-05-26T11:05:03.086Z"
   },
   {
    "duration": 0,
    "start_time": "2022-05-26T11:05:03.087Z"
   },
   {
    "duration": 0,
    "start_time": "2022-05-26T11:05:03.088Z"
   },
   {
    "duration": 0,
    "start_time": "2022-05-26T11:05:03.089Z"
   },
   {
    "duration": 0,
    "start_time": "2022-05-26T11:05:03.090Z"
   },
   {
    "duration": 0,
    "start_time": "2022-05-26T11:05:03.091Z"
   },
   {
    "duration": 0,
    "start_time": "2022-05-26T11:05:03.092Z"
   },
   {
    "duration": 0,
    "start_time": "2022-05-26T11:05:03.093Z"
   },
   {
    "duration": 0,
    "start_time": "2022-05-26T11:05:03.094Z"
   },
   {
    "duration": 0,
    "start_time": "2022-05-26T11:05:03.095Z"
   },
   {
    "duration": 13,
    "start_time": "2022-05-26T11:05:28.537Z"
   },
   {
    "duration": 1506,
    "start_time": "2022-05-26T11:07:55.739Z"
   },
   {
    "duration": 62,
    "start_time": "2022-05-26T11:07:57.247Z"
   },
   {
    "duration": 21,
    "start_time": "2022-05-26T11:07:57.312Z"
   },
   {
    "duration": 6,
    "start_time": "2022-05-26T11:07:57.336Z"
   },
   {
    "duration": 7,
    "start_time": "2022-05-26T11:07:57.343Z"
   },
   {
    "duration": 25,
    "start_time": "2022-05-26T11:07:57.352Z"
   },
   {
    "duration": 12,
    "start_time": "2022-05-26T11:07:57.379Z"
   },
   {
    "duration": 20,
    "start_time": "2022-05-26T11:07:57.393Z"
   },
   {
    "duration": 7,
    "start_time": "2022-05-26T11:07:57.415Z"
   },
   {
    "duration": 17,
    "start_time": "2022-05-26T11:07:57.425Z"
   },
   {
    "duration": 9,
    "start_time": "2022-05-26T11:07:57.470Z"
   },
   {
    "duration": 17,
    "start_time": "2022-05-26T11:07:57.481Z"
   },
   {
    "duration": 7,
    "start_time": "2022-05-26T11:07:57.501Z"
   },
   {
    "duration": 13,
    "start_time": "2022-05-26T11:07:57.510Z"
   },
   {
    "duration": 16,
    "start_time": "2022-05-26T11:07:57.525Z"
   },
   {
    "duration": 29,
    "start_time": "2022-05-26T11:07:57.551Z"
   },
   {
    "duration": 11,
    "start_time": "2022-05-26T11:07:57.582Z"
   },
   {
    "duration": 8,
    "start_time": "2022-05-26T11:07:57.595Z"
   },
   {
    "duration": 152,
    "start_time": "2022-05-26T11:07:57.605Z"
   },
   {
    "duration": 19,
    "start_time": "2022-05-26T11:07:57.760Z"
   },
   {
    "duration": 147,
    "start_time": "2022-05-26T11:07:57.781Z"
   },
   {
    "duration": 10,
    "start_time": "2022-05-26T11:07:57.929Z"
   },
   {
    "duration": 144,
    "start_time": "2022-05-26T11:07:57.941Z"
   },
   {
    "duration": 10,
    "start_time": "2022-05-26T11:07:58.094Z"
   },
   {
    "duration": 138,
    "start_time": "2022-05-26T11:07:58.106Z"
   },
   {
    "duration": 7,
    "start_time": "2022-05-26T11:07:58.246Z"
   },
   {
    "duration": 154,
    "start_time": "2022-05-26T11:07:58.265Z"
   },
   {
    "duration": 489,
    "start_time": "2022-05-26T11:07:58.423Z"
   },
   {
    "duration": 11,
    "start_time": "2022-05-26T11:07:58.915Z"
   },
   {
    "duration": 27,
    "start_time": "2022-05-26T11:07:58.928Z"
   },
   {
    "duration": 32,
    "start_time": "2022-05-26T11:07:58.957Z"
   },
   {
    "duration": 265,
    "start_time": "2022-05-26T11:07:58.991Z"
   },
   {
    "duration": 4,
    "start_time": "2022-05-26T11:07:59.258Z"
   },
   {
    "duration": 73,
    "start_time": "2022-05-26T11:07:59.273Z"
   },
   {
    "duration": 86,
    "start_time": "2022-05-26T11:07:59.348Z"
   },
   {
    "duration": 65,
    "start_time": "2022-05-26T11:07:59.436Z"
   },
   {
    "duration": 10,
    "start_time": "2022-05-26T11:07:59.503Z"
   },
   {
    "duration": 778,
    "start_time": "2022-05-26T11:07:59.515Z"
   },
   {
    "duration": 4,
    "start_time": "2022-05-26T11:08:00.295Z"
   },
   {
    "duration": 12216,
    "start_time": "2022-05-26T11:08:00.300Z"
   },
   {
    "duration": 3,
    "start_time": "2022-05-26T11:08:12.518Z"
   },
   {
    "duration": 9,
    "start_time": "2022-05-26T11:08:12.522Z"
   },
   {
    "duration": 6,
    "start_time": "2022-05-26T11:08:12.533Z"
   },
   {
    "duration": 5,
    "start_time": "2022-05-26T11:08:12.540Z"
   },
   {
    "duration": 9,
    "start_time": "2022-05-26T11:08:12.546Z"
   },
   {
    "duration": 26,
    "start_time": "2022-05-26T11:08:12.556Z"
   },
   {
    "duration": 0,
    "start_time": "2022-05-26T11:08:12.583Z"
   },
   {
    "duration": 0,
    "start_time": "2022-05-26T11:08:12.585Z"
   },
   {
    "duration": 0,
    "start_time": "2022-05-26T11:08:12.586Z"
   },
   {
    "duration": 0,
    "start_time": "2022-05-26T11:08:12.588Z"
   },
   {
    "duration": 0,
    "start_time": "2022-05-26T11:08:12.589Z"
   },
   {
    "duration": 0,
    "start_time": "2022-05-26T11:08:12.591Z"
   },
   {
    "duration": 0,
    "start_time": "2022-05-26T11:08:12.592Z"
   },
   {
    "duration": 0,
    "start_time": "2022-05-26T11:08:12.593Z"
   },
   {
    "duration": 0,
    "start_time": "2022-05-26T11:08:12.595Z"
   },
   {
    "duration": 0,
    "start_time": "2022-05-26T11:08:12.596Z"
   },
   {
    "duration": 0,
    "start_time": "2022-05-26T11:08:12.597Z"
   },
   {
    "duration": 0,
    "start_time": "2022-05-26T11:08:12.598Z"
   },
   {
    "duration": 0,
    "start_time": "2022-05-26T11:08:12.600Z"
   },
   {
    "duration": 0,
    "start_time": "2022-05-26T11:08:12.601Z"
   },
   {
    "duration": 0,
    "start_time": "2022-05-26T11:08:12.602Z"
   },
   {
    "duration": 1447,
    "start_time": "2022-05-26T11:09:18.110Z"
   },
   {
    "duration": 54,
    "start_time": "2022-05-26T11:09:19.559Z"
   },
   {
    "duration": 22,
    "start_time": "2022-05-26T11:09:19.615Z"
   },
   {
    "duration": 4,
    "start_time": "2022-05-26T11:09:19.639Z"
   },
   {
    "duration": 6,
    "start_time": "2022-05-26T11:09:19.644Z"
   },
   {
    "duration": 25,
    "start_time": "2022-05-26T11:09:19.651Z"
   },
   {
    "duration": 8,
    "start_time": "2022-05-26T11:09:19.678Z"
   },
   {
    "duration": 17,
    "start_time": "2022-05-26T11:09:19.688Z"
   },
   {
    "duration": 6,
    "start_time": "2022-05-26T11:09:19.707Z"
   },
   {
    "duration": 12,
    "start_time": "2022-05-26T11:09:19.715Z"
   },
   {
    "duration": 5,
    "start_time": "2022-05-26T11:09:19.728Z"
   },
   {
    "duration": 41,
    "start_time": "2022-05-26T11:09:19.735Z"
   },
   {
    "duration": 6,
    "start_time": "2022-05-26T11:09:19.778Z"
   },
   {
    "duration": 10,
    "start_time": "2022-05-26T11:09:19.786Z"
   },
   {
    "duration": 14,
    "start_time": "2022-05-26T11:09:19.798Z"
   },
   {
    "duration": 5,
    "start_time": "2022-05-26T11:09:19.814Z"
   },
   {
    "duration": 8,
    "start_time": "2022-05-26T11:09:19.820Z"
   },
   {
    "duration": 8,
    "start_time": "2022-05-26T11:09:19.829Z"
   },
   {
    "duration": 174,
    "start_time": "2022-05-26T11:09:19.838Z"
   },
   {
    "duration": 8,
    "start_time": "2022-05-26T11:09:20.014Z"
   },
   {
    "duration": 136,
    "start_time": "2022-05-26T11:09:20.024Z"
   },
   {
    "duration": 19,
    "start_time": "2022-05-26T11:09:20.162Z"
   },
   {
    "duration": 123,
    "start_time": "2022-05-26T11:09:20.183Z"
   },
   {
    "duration": 8,
    "start_time": "2022-05-26T11:09:20.308Z"
   },
   {
    "duration": 136,
    "start_time": "2022-05-26T11:09:20.318Z"
   },
   {
    "duration": 5,
    "start_time": "2022-05-26T11:09:20.456Z"
   },
   {
    "duration": 149,
    "start_time": "2022-05-26T11:09:20.475Z"
   },
   {
    "duration": 470,
    "start_time": "2022-05-26T11:09:20.628Z"
   },
   {
    "duration": 8,
    "start_time": "2022-05-26T11:09:21.099Z"
   },
   {
    "duration": 6,
    "start_time": "2022-05-26T11:09:21.109Z"
   },
   {
    "duration": 24,
    "start_time": "2022-05-26T11:09:21.117Z"
   },
   {
    "duration": 243,
    "start_time": "2022-05-26T11:09:21.143Z"
   },
   {
    "duration": 5,
    "start_time": "2022-05-26T11:09:21.388Z"
   },
   {
    "duration": 80,
    "start_time": "2022-05-26T11:09:21.395Z"
   },
   {
    "duration": 73,
    "start_time": "2022-05-26T11:09:21.477Z"
   },
   {
    "duration": 75,
    "start_time": "2022-05-26T11:09:21.551Z"
   },
   {
    "duration": 10,
    "start_time": "2022-05-26T11:09:21.628Z"
   },
   {
    "duration": 861,
    "start_time": "2022-05-26T11:09:21.640Z"
   },
   {
    "duration": 5,
    "start_time": "2022-05-26T11:09:22.503Z"
   },
   {
    "duration": 11698,
    "start_time": "2022-05-26T11:09:22.509Z"
   },
   {
    "duration": 2,
    "start_time": "2022-05-26T11:09:34.209Z"
   },
   {
    "duration": 6,
    "start_time": "2022-05-26T11:09:34.213Z"
   },
   {
    "duration": 5,
    "start_time": "2022-05-26T11:09:34.220Z"
   },
   {
    "duration": 7,
    "start_time": "2022-05-26T11:09:34.227Z"
   },
   {
    "duration": 8,
    "start_time": "2022-05-26T11:09:34.236Z"
   },
   {
    "duration": 148,
    "start_time": "2022-05-26T11:09:34.245Z"
   },
   {
    "duration": 0,
    "start_time": "2022-05-26T11:09:34.395Z"
   },
   {
    "duration": 0,
    "start_time": "2022-05-26T11:09:34.396Z"
   },
   {
    "duration": 0,
    "start_time": "2022-05-26T11:09:34.397Z"
   },
   {
    "duration": 0,
    "start_time": "2022-05-26T11:09:34.398Z"
   },
   {
    "duration": 0,
    "start_time": "2022-05-26T11:09:34.399Z"
   },
   {
    "duration": 0,
    "start_time": "2022-05-26T11:09:34.400Z"
   },
   {
    "duration": 0,
    "start_time": "2022-05-26T11:09:34.401Z"
   },
   {
    "duration": 0,
    "start_time": "2022-05-26T11:09:34.402Z"
   },
   {
    "duration": 0,
    "start_time": "2022-05-26T11:09:34.403Z"
   },
   {
    "duration": 0,
    "start_time": "2022-05-26T11:09:34.405Z"
   },
   {
    "duration": 0,
    "start_time": "2022-05-26T11:09:34.406Z"
   },
   {
    "duration": 0,
    "start_time": "2022-05-26T11:09:34.406Z"
   },
   {
    "duration": 0,
    "start_time": "2022-05-26T11:09:34.407Z"
   },
   {
    "duration": 0,
    "start_time": "2022-05-26T11:09:34.408Z"
   },
   {
    "duration": 0,
    "start_time": "2022-05-26T11:09:34.409Z"
   },
   {
    "duration": 3342,
    "start_time": "2022-05-26T11:14:24.450Z"
   },
   {
    "duration": 0,
    "start_time": "2022-05-26T11:14:27.795Z"
   },
   {
    "duration": 0,
    "start_time": "2022-05-26T11:14:27.796Z"
   },
   {
    "duration": 0,
    "start_time": "2022-05-26T11:14:27.797Z"
   },
   {
    "duration": 0,
    "start_time": "2022-05-26T11:14:27.798Z"
   },
   {
    "duration": 0,
    "start_time": "2022-05-26T11:14:27.800Z"
   },
   {
    "duration": 0,
    "start_time": "2022-05-26T11:14:27.801Z"
   },
   {
    "duration": 0,
    "start_time": "2022-05-26T11:14:27.802Z"
   },
   {
    "duration": 0,
    "start_time": "2022-05-26T11:14:27.803Z"
   },
   {
    "duration": 0,
    "start_time": "2022-05-26T11:14:27.804Z"
   },
   {
    "duration": 0,
    "start_time": "2022-05-26T11:14:27.805Z"
   },
   {
    "duration": 0,
    "start_time": "2022-05-26T11:14:27.806Z"
   },
   {
    "duration": 0,
    "start_time": "2022-05-26T11:14:27.808Z"
   },
   {
    "duration": 0,
    "start_time": "2022-05-26T11:14:27.809Z"
   },
   {
    "duration": 0,
    "start_time": "2022-05-26T11:14:27.810Z"
   },
   {
    "duration": 0,
    "start_time": "2022-05-26T11:14:27.811Z"
   },
   {
    "duration": 0,
    "start_time": "2022-05-26T11:14:27.812Z"
   },
   {
    "duration": 0,
    "start_time": "2022-05-26T11:14:27.813Z"
   },
   {
    "duration": 0,
    "start_time": "2022-05-26T11:14:27.815Z"
   },
   {
    "duration": 0,
    "start_time": "2022-05-26T11:14:27.816Z"
   },
   {
    "duration": 0,
    "start_time": "2022-05-26T11:14:27.817Z"
   },
   {
    "duration": 0,
    "start_time": "2022-05-26T11:14:27.818Z"
   },
   {
    "duration": 0,
    "start_time": "2022-05-26T11:14:27.820Z"
   },
   {
    "duration": 0,
    "start_time": "2022-05-26T11:14:27.821Z"
   },
   {
    "duration": 0,
    "start_time": "2022-05-26T11:14:27.822Z"
   },
   {
    "duration": 0,
    "start_time": "2022-05-26T11:14:27.823Z"
   },
   {
    "duration": 0,
    "start_time": "2022-05-26T11:14:27.824Z"
   },
   {
    "duration": 0,
    "start_time": "2022-05-26T11:14:27.825Z"
   },
   {
    "duration": 0,
    "start_time": "2022-05-26T11:14:27.870Z"
   },
   {
    "duration": 0,
    "start_time": "2022-05-26T11:14:27.871Z"
   },
   {
    "duration": 0,
    "start_time": "2022-05-26T11:14:27.872Z"
   },
   {
    "duration": 0,
    "start_time": "2022-05-26T11:14:27.872Z"
   },
   {
    "duration": 0,
    "start_time": "2022-05-26T11:14:27.873Z"
   },
   {
    "duration": 0,
    "start_time": "2022-05-26T11:14:27.875Z"
   },
   {
    "duration": 1,
    "start_time": "2022-05-26T11:14:27.877Z"
   },
   {
    "duration": 0,
    "start_time": "2022-05-26T11:14:27.879Z"
   },
   {
    "duration": 0,
    "start_time": "2022-05-26T11:14:27.880Z"
   },
   {
    "duration": 0,
    "start_time": "2022-05-26T11:14:27.882Z"
   },
   {
    "duration": 0,
    "start_time": "2022-05-26T11:14:27.883Z"
   },
   {
    "duration": 0,
    "start_time": "2022-05-26T11:14:27.884Z"
   },
   {
    "duration": 0,
    "start_time": "2022-05-26T11:14:27.885Z"
   },
   {
    "duration": 0,
    "start_time": "2022-05-26T11:14:27.887Z"
   },
   {
    "duration": 0,
    "start_time": "2022-05-26T11:14:27.889Z"
   },
   {
    "duration": 0,
    "start_time": "2022-05-26T11:14:27.890Z"
   },
   {
    "duration": 0,
    "start_time": "2022-05-26T11:14:27.891Z"
   },
   {
    "duration": 0,
    "start_time": "2022-05-26T11:14:27.893Z"
   },
   {
    "duration": 0,
    "start_time": "2022-05-26T11:14:27.895Z"
   },
   {
    "duration": 0,
    "start_time": "2022-05-26T11:14:27.896Z"
   },
   {
    "duration": 0,
    "start_time": "2022-05-26T11:14:27.898Z"
   },
   {
    "duration": 0,
    "start_time": "2022-05-26T11:14:27.899Z"
   },
   {
    "duration": 0,
    "start_time": "2022-05-26T11:14:27.901Z"
   },
   {
    "duration": 0,
    "start_time": "2022-05-26T11:14:27.902Z"
   },
   {
    "duration": 0,
    "start_time": "2022-05-26T11:14:27.904Z"
   },
   {
    "duration": 0,
    "start_time": "2022-05-26T11:14:27.905Z"
   },
   {
    "duration": 0,
    "start_time": "2022-05-26T11:14:27.906Z"
   },
   {
    "duration": 0,
    "start_time": "2022-05-26T11:14:27.908Z"
   },
   {
    "duration": 0,
    "start_time": "2022-05-26T11:14:27.971Z"
   },
   {
    "duration": 0,
    "start_time": "2022-05-26T11:14:27.972Z"
   },
   {
    "duration": 0,
    "start_time": "2022-05-26T11:14:27.973Z"
   },
   {
    "duration": 0,
    "start_time": "2022-05-26T11:14:27.978Z"
   },
   {
    "duration": 0,
    "start_time": "2022-05-26T11:14:27.979Z"
   },
   {
    "duration": 1466,
    "start_time": "2022-05-26T12:32:59.145Z"
   },
   {
    "duration": 50,
    "start_time": "2022-05-26T12:33:00.614Z"
   },
   {
    "duration": 27,
    "start_time": "2022-05-26T12:33:00.666Z"
   },
   {
    "duration": 11,
    "start_time": "2022-05-26T12:33:00.696Z"
   },
   {
    "duration": 17,
    "start_time": "2022-05-26T12:33:00.709Z"
   },
   {
    "duration": 55,
    "start_time": "2022-05-26T12:33:00.728Z"
   },
   {
    "duration": 67,
    "start_time": "2022-05-26T12:33:00.785Z"
   },
   {
    "duration": 24,
    "start_time": "2022-05-26T12:33:00.854Z"
   },
   {
    "duration": 8,
    "start_time": "2022-05-26T12:33:00.879Z"
   },
   {
    "duration": 31,
    "start_time": "2022-05-26T12:33:00.890Z"
   },
   {
    "duration": 35,
    "start_time": "2022-05-26T12:33:00.922Z"
   },
   {
    "duration": 52,
    "start_time": "2022-05-26T12:33:00.959Z"
   },
   {
    "duration": 43,
    "start_time": "2022-05-26T12:33:01.012Z"
   },
   {
    "duration": 35,
    "start_time": "2022-05-26T12:33:01.057Z"
   },
   {
    "duration": 31,
    "start_time": "2022-05-26T12:33:01.094Z"
   },
   {
    "duration": 17,
    "start_time": "2022-05-26T12:33:01.127Z"
   },
   {
    "duration": 74,
    "start_time": "2022-05-26T12:33:01.146Z"
   },
   {
    "duration": 47,
    "start_time": "2022-05-26T12:33:01.222Z"
   },
   {
    "duration": 169,
    "start_time": "2022-05-26T12:33:01.271Z"
   },
   {
    "duration": 10,
    "start_time": "2022-05-26T12:33:01.441Z"
   },
   {
    "duration": 143,
    "start_time": "2022-05-26T12:33:01.452Z"
   },
   {
    "duration": 9,
    "start_time": "2022-05-26T12:33:01.597Z"
   },
   {
    "duration": 151,
    "start_time": "2022-05-26T12:33:01.608Z"
   },
   {
    "duration": 10,
    "start_time": "2022-05-26T12:33:01.765Z"
   },
   {
    "duration": 200,
    "start_time": "2022-05-26T12:33:01.777Z"
   },
   {
    "duration": 8,
    "start_time": "2022-05-26T12:33:01.979Z"
   },
   {
    "duration": 169,
    "start_time": "2022-05-26T12:33:01.989Z"
   },
   {
    "duration": 487,
    "start_time": "2022-05-26T12:33:02.162Z"
   },
   {
    "duration": 17,
    "start_time": "2022-05-26T12:33:02.651Z"
   },
   {
    "duration": 11,
    "start_time": "2022-05-26T12:33:02.669Z"
   },
   {
    "duration": 26,
    "start_time": "2022-05-26T12:33:02.682Z"
   },
   {
    "duration": 251,
    "start_time": "2022-05-26T12:33:02.709Z"
   },
   {
    "duration": 4,
    "start_time": "2022-05-26T12:33:02.964Z"
   },
   {
    "duration": 74,
    "start_time": "2022-05-26T12:33:02.969Z"
   },
   {
    "duration": 92,
    "start_time": "2022-05-26T12:33:03.045Z"
   },
   {
    "duration": 65,
    "start_time": "2022-05-26T12:33:03.139Z"
   },
   {
    "duration": 12,
    "start_time": "2022-05-26T12:33:03.206Z"
   },
   {
    "duration": 747,
    "start_time": "2022-05-26T12:33:03.220Z"
   },
   {
    "duration": 6,
    "start_time": "2022-05-26T12:33:03.969Z"
   },
   {
    "duration": 10617,
    "start_time": "2022-05-26T12:33:03.977Z"
   },
   {
    "duration": 3,
    "start_time": "2022-05-26T12:33:14.596Z"
   },
   {
    "duration": 19,
    "start_time": "2022-05-26T12:33:14.602Z"
   },
   {
    "duration": 18,
    "start_time": "2022-05-26T12:33:14.623Z"
   },
   {
    "duration": 25,
    "start_time": "2022-05-26T12:33:14.643Z"
   },
   {
    "duration": 22,
    "start_time": "2022-05-26T12:33:14.670Z"
   },
   {
    "duration": 155,
    "start_time": "2022-05-26T12:33:14.695Z"
   },
   {
    "duration": 0,
    "start_time": "2022-05-26T12:33:14.852Z"
   },
   {
    "duration": 0,
    "start_time": "2022-05-26T12:33:14.854Z"
   },
   {
    "duration": 0,
    "start_time": "2022-05-26T12:33:14.855Z"
   },
   {
    "duration": 0,
    "start_time": "2022-05-26T12:33:14.864Z"
   },
   {
    "duration": 0,
    "start_time": "2022-05-26T12:33:14.865Z"
   },
   {
    "duration": 0,
    "start_time": "2022-05-26T12:33:14.866Z"
   },
   {
    "duration": 0,
    "start_time": "2022-05-26T12:33:14.867Z"
   },
   {
    "duration": 0,
    "start_time": "2022-05-26T12:33:14.868Z"
   },
   {
    "duration": 0,
    "start_time": "2022-05-26T12:33:14.869Z"
   },
   {
    "duration": 0,
    "start_time": "2022-05-26T12:33:14.870Z"
   },
   {
    "duration": 0,
    "start_time": "2022-05-26T12:33:14.871Z"
   },
   {
    "duration": 0,
    "start_time": "2022-05-26T12:33:14.872Z"
   },
   {
    "duration": 0,
    "start_time": "2022-05-26T12:33:14.873Z"
   },
   {
    "duration": 0,
    "start_time": "2022-05-26T12:33:14.874Z"
   },
   {
    "duration": 0,
    "start_time": "2022-05-26T12:33:14.876Z"
   },
   {
    "duration": 50,
    "start_time": "2022-05-26T13:24:29.133Z"
   },
   {
    "duration": 1915,
    "start_time": "2022-05-26T13:28:21.177Z"
   },
   {
    "duration": 12,
    "start_time": "2022-05-26T13:29:08.659Z"
   },
   {
    "duration": 12,
    "start_time": "2022-05-26T13:37:12.935Z"
   },
   {
    "duration": 0,
    "start_time": "2022-05-26T13:37:12.949Z"
   },
   {
    "duration": 0,
    "start_time": "2022-05-26T13:37:12.951Z"
   },
   {
    "duration": 84,
    "start_time": "2022-05-26T13:37:12.957Z"
   },
   {
    "duration": 0,
    "start_time": "2022-05-26T13:37:13.042Z"
   },
   {
    "duration": 0,
    "start_time": "2022-05-26T13:37:13.044Z"
   },
   {
    "duration": 0,
    "start_time": "2022-05-26T13:37:13.045Z"
   },
   {
    "duration": 0,
    "start_time": "2022-05-26T13:37:13.047Z"
   },
   {
    "duration": 0,
    "start_time": "2022-05-26T13:37:13.049Z"
   },
   {
    "duration": 0,
    "start_time": "2022-05-26T13:37:13.050Z"
   },
   {
    "duration": 0,
    "start_time": "2022-05-26T13:37:13.051Z"
   },
   {
    "duration": 18,
    "start_time": "2022-05-26T13:37:13.053Z"
   },
   {
    "duration": 0,
    "start_time": "2022-05-26T13:37:13.073Z"
   },
   {
    "duration": 0,
    "start_time": "2022-05-26T13:37:13.075Z"
   },
   {
    "duration": 0,
    "start_time": "2022-05-26T13:37:13.077Z"
   },
   {
    "duration": 0,
    "start_time": "2022-05-26T13:37:13.079Z"
   },
   {
    "duration": 0,
    "start_time": "2022-05-26T13:37:13.080Z"
   },
   {
    "duration": 0,
    "start_time": "2022-05-26T13:37:13.082Z"
   },
   {
    "duration": 9,
    "start_time": "2022-05-26T13:37:13.084Z"
   },
   {
    "duration": 0,
    "start_time": "2022-05-26T13:37:13.095Z"
   },
   {
    "duration": 0,
    "start_time": "2022-05-26T13:37:13.096Z"
   },
   {
    "duration": 0,
    "start_time": "2022-05-26T13:37:13.097Z"
   },
   {
    "duration": 0,
    "start_time": "2022-05-26T13:37:13.099Z"
   },
   {
    "duration": 0,
    "start_time": "2022-05-26T13:37:13.100Z"
   },
   {
    "duration": 69,
    "start_time": "2022-05-26T13:37:13.102Z"
   },
   {
    "duration": 29,
    "start_time": "2022-05-26T13:37:13.175Z"
   },
   {
    "duration": 0,
    "start_time": "2022-05-26T13:37:13.206Z"
   },
   {
    "duration": 0,
    "start_time": "2022-05-26T13:37:13.208Z"
   },
   {
    "duration": 0,
    "start_time": "2022-05-26T13:37:13.209Z"
   },
   {
    "duration": 0,
    "start_time": "2022-05-26T13:37:13.210Z"
   },
   {
    "duration": 0,
    "start_time": "2022-05-26T13:37:13.212Z"
   },
   {
    "duration": 0,
    "start_time": "2022-05-26T13:37:13.213Z"
   },
   {
    "duration": 0,
    "start_time": "2022-05-26T13:37:13.214Z"
   },
   {
    "duration": 0,
    "start_time": "2022-05-26T13:37:13.215Z"
   },
   {
    "duration": 0,
    "start_time": "2022-05-26T13:37:13.217Z"
   },
   {
    "duration": 0,
    "start_time": "2022-05-26T13:37:13.218Z"
   },
   {
    "duration": 0,
    "start_time": "2022-05-26T13:37:13.219Z"
   },
   {
    "duration": 0,
    "start_time": "2022-05-26T13:37:13.220Z"
   },
   {
    "duration": 0,
    "start_time": "2022-05-26T13:37:13.222Z"
   },
   {
    "duration": 0,
    "start_time": "2022-05-26T13:37:13.223Z"
   },
   {
    "duration": 0,
    "start_time": "2022-05-26T13:37:13.224Z"
   },
   {
    "duration": 41,
    "start_time": "2022-05-26T13:37:13.226Z"
   },
   {
    "duration": 19,
    "start_time": "2022-05-26T13:37:13.269Z"
   },
   {
    "duration": 3,
    "start_time": "2022-05-26T13:37:13.291Z"
   },
   {
    "duration": 5,
    "start_time": "2022-05-26T13:37:13.296Z"
   },
   {
    "duration": 8,
    "start_time": "2022-05-26T13:37:13.303Z"
   },
   {
    "duration": 6,
    "start_time": "2022-05-26T13:37:13.313Z"
   },
   {
    "duration": 59,
    "start_time": "2022-05-26T13:37:13.321Z"
   },
   {
    "duration": 0,
    "start_time": "2022-05-26T13:37:13.382Z"
   },
   {
    "duration": 0,
    "start_time": "2022-05-26T13:37:13.384Z"
   },
   {
    "duration": 0,
    "start_time": "2022-05-26T13:37:13.385Z"
   },
   {
    "duration": 0,
    "start_time": "2022-05-26T13:37:13.386Z"
   },
   {
    "duration": 0,
    "start_time": "2022-05-26T13:37:13.388Z"
   },
   {
    "duration": 0,
    "start_time": "2022-05-26T13:37:13.389Z"
   },
   {
    "duration": 0,
    "start_time": "2022-05-26T13:37:13.391Z"
   },
   {
    "duration": 0,
    "start_time": "2022-05-26T13:37:13.392Z"
   },
   {
    "duration": 0,
    "start_time": "2022-05-26T13:37:13.393Z"
   },
   {
    "duration": 0,
    "start_time": "2022-05-26T13:37:13.395Z"
   },
   {
    "duration": 0,
    "start_time": "2022-05-26T13:37:13.396Z"
   },
   {
    "duration": 0,
    "start_time": "2022-05-26T13:37:13.398Z"
   },
   {
    "duration": 0,
    "start_time": "2022-05-26T13:37:13.399Z"
   },
   {
    "duration": 0,
    "start_time": "2022-05-26T13:37:13.402Z"
   },
   {
    "duration": 1669,
    "start_time": "2022-05-26T13:37:46.480Z"
   },
   {
    "duration": 1308,
    "start_time": "2022-05-26T13:37:49.264Z"
   },
   {
    "duration": 1524,
    "start_time": "2022-05-26T13:40:30.082Z"
   },
   {
    "duration": 1299,
    "start_time": "2022-05-26T13:40:31.608Z"
   },
   {
    "duration": 56,
    "start_time": "2022-05-26T13:40:32.909Z"
   },
   {
    "duration": 28,
    "start_time": "2022-05-26T13:40:32.968Z"
   },
   {
    "duration": 7,
    "start_time": "2022-05-26T13:40:32.998Z"
   },
   {
    "duration": 10,
    "start_time": "2022-05-26T13:40:33.007Z"
   },
   {
    "duration": 22,
    "start_time": "2022-05-26T13:40:33.019Z"
   },
   {
    "duration": 28,
    "start_time": "2022-05-26T13:40:33.043Z"
   },
   {
    "duration": 24,
    "start_time": "2022-05-26T13:40:33.073Z"
   },
   {
    "duration": 7,
    "start_time": "2022-05-26T13:40:33.101Z"
   },
   {
    "duration": 14,
    "start_time": "2022-05-26T13:40:33.111Z"
   },
   {
    "duration": 12,
    "start_time": "2022-05-26T13:40:33.126Z"
   },
   {
    "duration": 30,
    "start_time": "2022-05-26T13:40:33.140Z"
   },
   {
    "duration": 9,
    "start_time": "2022-05-26T13:40:33.172Z"
   },
   {
    "duration": 22,
    "start_time": "2022-05-26T13:40:33.183Z"
   },
   {
    "duration": 18,
    "start_time": "2022-05-26T13:40:33.207Z"
   },
   {
    "duration": 6,
    "start_time": "2022-05-26T13:40:33.227Z"
   },
   {
    "duration": 30,
    "start_time": "2022-05-26T13:40:33.235Z"
   },
   {
    "duration": 7,
    "start_time": "2022-05-26T13:40:33.268Z"
   },
   {
    "duration": 172,
    "start_time": "2022-05-26T13:40:33.277Z"
   },
   {
    "duration": 24,
    "start_time": "2022-05-26T13:40:33.451Z"
   },
   {
    "duration": 163,
    "start_time": "2022-05-26T13:40:33.478Z"
   },
   {
    "duration": 28,
    "start_time": "2022-05-26T13:40:33.643Z"
   },
   {
    "duration": 164,
    "start_time": "2022-05-26T13:40:33.679Z"
   },
   {
    "duration": 23,
    "start_time": "2022-05-26T13:40:33.845Z"
   },
   {
    "duration": 185,
    "start_time": "2022-05-26T13:40:33.871Z"
   },
   {
    "duration": 11,
    "start_time": "2022-05-26T13:40:34.058Z"
   },
   {
    "duration": 179,
    "start_time": "2022-05-26T13:40:34.074Z"
   },
   {
    "duration": 505,
    "start_time": "2022-05-26T13:40:34.255Z"
   },
   {
    "duration": 21,
    "start_time": "2022-05-26T13:40:34.761Z"
   },
   {
    "duration": 8,
    "start_time": "2022-05-26T13:40:34.784Z"
   },
   {
    "duration": 22,
    "start_time": "2022-05-26T13:40:34.793Z"
   },
   {
    "duration": 262,
    "start_time": "2022-05-26T13:40:34.817Z"
   },
   {
    "duration": 5,
    "start_time": "2022-05-26T13:40:35.082Z"
   },
   {
    "duration": 79,
    "start_time": "2022-05-26T13:40:35.089Z"
   },
   {
    "duration": 99,
    "start_time": "2022-05-26T13:40:35.171Z"
   },
   {
    "duration": 198,
    "start_time": "2022-05-26T13:40:35.273Z"
   },
   {
    "duration": 15,
    "start_time": "2022-05-26T13:40:35.479Z"
   },
   {
    "duration": 767,
    "start_time": "2022-05-26T13:40:35.496Z"
   },
   {
    "duration": 13,
    "start_time": "2022-05-26T13:40:36.264Z"
   },
   {
    "duration": 11457,
    "start_time": "2022-05-26T13:40:36.279Z"
   },
   {
    "duration": 3,
    "start_time": "2022-05-26T13:40:47.738Z"
   },
   {
    "duration": 9,
    "start_time": "2022-05-26T13:40:47.742Z"
   },
   {
    "duration": 8,
    "start_time": "2022-05-26T13:40:47.753Z"
   },
   {
    "duration": 24,
    "start_time": "2022-05-26T13:40:47.763Z"
   },
   {
    "duration": 7,
    "start_time": "2022-05-26T13:40:47.789Z"
   },
   {
    "duration": 146,
    "start_time": "2022-05-26T13:40:47.797Z"
   },
   {
    "duration": 0,
    "start_time": "2022-05-26T13:40:47.945Z"
   },
   {
    "duration": 0,
    "start_time": "2022-05-26T13:40:47.946Z"
   },
   {
    "duration": 0,
    "start_time": "2022-05-26T13:40:47.947Z"
   },
   {
    "duration": 0,
    "start_time": "2022-05-26T13:40:47.949Z"
   },
   {
    "duration": 0,
    "start_time": "2022-05-26T13:40:47.950Z"
   },
   {
    "duration": 0,
    "start_time": "2022-05-26T13:40:47.964Z"
   },
   {
    "duration": 0,
    "start_time": "2022-05-26T13:40:47.967Z"
   },
   {
    "duration": 0,
    "start_time": "2022-05-26T13:40:47.969Z"
   },
   {
    "duration": 0,
    "start_time": "2022-05-26T13:40:47.970Z"
   },
   {
    "duration": 0,
    "start_time": "2022-05-26T13:40:47.972Z"
   },
   {
    "duration": 0,
    "start_time": "2022-05-26T13:40:47.973Z"
   },
   {
    "duration": 0,
    "start_time": "2022-05-26T13:40:47.974Z"
   },
   {
    "duration": 0,
    "start_time": "2022-05-26T13:40:47.976Z"
   },
   {
    "duration": 0,
    "start_time": "2022-05-26T13:40:47.977Z"
   },
   {
    "duration": 0,
    "start_time": "2022-05-26T13:40:47.978Z"
   },
   {
    "duration": 1655,
    "start_time": "2022-05-26T13:41:38.332Z"
   },
   {
    "duration": 0,
    "start_time": "2022-05-26T13:41:39.991Z"
   },
   {
    "duration": 0,
    "start_time": "2022-05-26T13:41:39.993Z"
   },
   {
    "duration": 0,
    "start_time": "2022-05-26T13:41:39.994Z"
   },
   {
    "duration": 0,
    "start_time": "2022-05-26T13:41:39.996Z"
   },
   {
    "duration": 0,
    "start_time": "2022-05-26T13:41:39.997Z"
   },
   {
    "duration": 0,
    "start_time": "2022-05-26T13:41:39.998Z"
   },
   {
    "duration": 0,
    "start_time": "2022-05-26T13:41:39.999Z"
   },
   {
    "duration": 0,
    "start_time": "2022-05-26T13:41:40.001Z"
   },
   {
    "duration": 0,
    "start_time": "2022-05-26T13:41:40.002Z"
   },
   {
    "duration": 0,
    "start_time": "2022-05-26T13:41:40.003Z"
   },
   {
    "duration": 0,
    "start_time": "2022-05-26T13:41:40.004Z"
   },
   {
    "duration": 0,
    "start_time": "2022-05-26T13:41:40.005Z"
   },
   {
    "duration": 0,
    "start_time": "2022-05-26T13:41:40.007Z"
   },
   {
    "duration": 0,
    "start_time": "2022-05-26T13:41:40.008Z"
   },
   {
    "duration": 0,
    "start_time": "2022-05-26T13:41:40.009Z"
   },
   {
    "duration": 0,
    "start_time": "2022-05-26T13:41:40.010Z"
   },
   {
    "duration": 0,
    "start_time": "2022-05-26T13:41:40.011Z"
   },
   {
    "duration": 1,
    "start_time": "2022-05-26T13:41:40.012Z"
   },
   {
    "duration": 0,
    "start_time": "2022-05-26T13:41:40.014Z"
   },
   {
    "duration": 0,
    "start_time": "2022-05-26T13:41:40.014Z"
   },
   {
    "duration": 0,
    "start_time": "2022-05-26T13:41:40.015Z"
   },
   {
    "duration": 0,
    "start_time": "2022-05-26T13:41:40.016Z"
   },
   {
    "duration": 0,
    "start_time": "2022-05-26T13:41:40.017Z"
   },
   {
    "duration": 0,
    "start_time": "2022-05-26T13:41:40.065Z"
   },
   {
    "duration": 0,
    "start_time": "2022-05-26T13:41:40.066Z"
   },
   {
    "duration": 0,
    "start_time": "2022-05-26T13:41:40.067Z"
   },
   {
    "duration": 0,
    "start_time": "2022-05-26T13:41:40.068Z"
   },
   {
    "duration": 0,
    "start_time": "2022-05-26T13:41:40.069Z"
   },
   {
    "duration": 0,
    "start_time": "2022-05-26T13:41:40.070Z"
   },
   {
    "duration": 0,
    "start_time": "2022-05-26T13:41:40.071Z"
   },
   {
    "duration": 0,
    "start_time": "2022-05-26T13:41:40.072Z"
   },
   {
    "duration": 0,
    "start_time": "2022-05-26T13:41:40.074Z"
   },
   {
    "duration": 0,
    "start_time": "2022-05-26T13:41:40.075Z"
   },
   {
    "duration": 0,
    "start_time": "2022-05-26T13:41:40.075Z"
   },
   {
    "duration": 0,
    "start_time": "2022-05-26T13:41:40.077Z"
   },
   {
    "duration": 0,
    "start_time": "2022-05-26T13:41:40.078Z"
   },
   {
    "duration": 0,
    "start_time": "2022-05-26T13:41:40.079Z"
   },
   {
    "duration": 0,
    "start_time": "2022-05-26T13:41:40.080Z"
   },
   {
    "duration": 0,
    "start_time": "2022-05-26T13:41:40.081Z"
   },
   {
    "duration": 0,
    "start_time": "2022-05-26T13:41:40.082Z"
   },
   {
    "duration": 0,
    "start_time": "2022-05-26T13:41:40.083Z"
   },
   {
    "duration": 0,
    "start_time": "2022-05-26T13:41:40.084Z"
   },
   {
    "duration": 0,
    "start_time": "2022-05-26T13:41:40.085Z"
   },
   {
    "duration": 0,
    "start_time": "2022-05-26T13:41:40.086Z"
   },
   {
    "duration": 0,
    "start_time": "2022-05-26T13:41:40.087Z"
   },
   {
    "duration": 0,
    "start_time": "2022-05-26T13:41:40.088Z"
   },
   {
    "duration": 0,
    "start_time": "2022-05-26T13:41:40.089Z"
   },
   {
    "duration": 0,
    "start_time": "2022-05-26T13:41:40.090Z"
   },
   {
    "duration": 0,
    "start_time": "2022-05-26T13:41:40.091Z"
   },
   {
    "duration": 0,
    "start_time": "2022-05-26T13:41:40.092Z"
   },
   {
    "duration": 0,
    "start_time": "2022-05-26T13:41:40.093Z"
   },
   {
    "duration": 0,
    "start_time": "2022-05-26T13:41:40.095Z"
   },
   {
    "duration": 0,
    "start_time": "2022-05-26T13:41:40.096Z"
   },
   {
    "duration": 0,
    "start_time": "2022-05-26T13:41:40.097Z"
   },
   {
    "duration": 0,
    "start_time": "2022-05-26T13:41:40.098Z"
   },
   {
    "duration": 0,
    "start_time": "2022-05-26T13:41:40.099Z"
   },
   {
    "duration": 0,
    "start_time": "2022-05-26T13:41:40.100Z"
   },
   {
    "duration": 0,
    "start_time": "2022-05-26T13:41:40.101Z"
   },
   {
    "duration": 0,
    "start_time": "2022-05-26T13:41:40.102Z"
   },
   {
    "duration": 0,
    "start_time": "2022-05-26T13:41:40.165Z"
   },
   {
    "duration": 0,
    "start_time": "2022-05-26T13:41:40.167Z"
   },
   {
    "duration": 12,
    "start_time": "2022-05-26T13:42:29.737Z"
   },
   {
    "duration": 0,
    "start_time": "2022-05-26T13:42:29.750Z"
   },
   {
    "duration": 0,
    "start_time": "2022-05-26T13:42:29.752Z"
   },
   {
    "duration": 64,
    "start_time": "2022-05-26T13:42:29.758Z"
   },
   {
    "duration": 0,
    "start_time": "2022-05-26T13:42:29.823Z"
   },
   {
    "duration": 0,
    "start_time": "2022-05-26T13:42:29.825Z"
   },
   {
    "duration": 0,
    "start_time": "2022-05-26T13:42:29.826Z"
   },
   {
    "duration": 0,
    "start_time": "2022-05-26T13:42:29.827Z"
   },
   {
    "duration": 0,
    "start_time": "2022-05-26T13:42:29.829Z"
   },
   {
    "duration": 0,
    "start_time": "2022-05-26T13:42:29.830Z"
   },
   {
    "duration": 0,
    "start_time": "2022-05-26T13:42:29.831Z"
   },
   {
    "duration": 0,
    "start_time": "2022-05-26T13:42:29.833Z"
   },
   {
    "duration": 10,
    "start_time": "2022-05-26T13:42:29.866Z"
   },
   {
    "duration": 0,
    "start_time": "2022-05-26T13:42:29.878Z"
   },
   {
    "duration": 0,
    "start_time": "2022-05-26T13:42:29.880Z"
   },
   {
    "duration": 0,
    "start_time": "2022-05-26T13:42:29.881Z"
   },
   {
    "duration": 0,
    "start_time": "2022-05-26T13:42:29.883Z"
   },
   {
    "duration": 0,
    "start_time": "2022-05-26T13:42:29.884Z"
   },
   {
    "duration": 0,
    "start_time": "2022-05-26T13:42:29.886Z"
   },
   {
    "duration": 10,
    "start_time": "2022-05-26T13:42:29.892Z"
   },
   {
    "duration": 0,
    "start_time": "2022-05-26T13:42:29.904Z"
   },
   {
    "duration": 0,
    "start_time": "2022-05-26T13:42:29.907Z"
   },
   {
    "duration": 0,
    "start_time": "2022-05-26T13:42:29.908Z"
   },
   {
    "duration": 0,
    "start_time": "2022-05-26T13:42:29.909Z"
   },
   {
    "duration": 0,
    "start_time": "2022-05-26T13:42:29.977Z"
   },
   {
    "duration": 0,
    "start_time": "2022-05-26T13:42:29.981Z"
   },
   {
    "duration": 0,
    "start_time": "2022-05-26T13:42:29.982Z"
   },
   {
    "duration": 10,
    "start_time": "2022-05-26T13:42:29.984Z"
   },
   {
    "duration": 0,
    "start_time": "2022-05-26T13:42:29.995Z"
   },
   {
    "duration": 0,
    "start_time": "2022-05-26T13:42:29.997Z"
   },
   {
    "duration": 0,
    "start_time": "2022-05-26T13:42:30.001Z"
   },
   {
    "duration": 0,
    "start_time": "2022-05-26T13:42:30.003Z"
   },
   {
    "duration": 0,
    "start_time": "2022-05-26T13:42:30.003Z"
   },
   {
    "duration": 0,
    "start_time": "2022-05-26T13:42:30.004Z"
   },
   {
    "duration": 0,
    "start_time": "2022-05-26T13:42:30.005Z"
   },
   {
    "duration": 0,
    "start_time": "2022-05-26T13:42:30.007Z"
   },
   {
    "duration": 0,
    "start_time": "2022-05-26T13:42:30.008Z"
   },
   {
    "duration": 0,
    "start_time": "2022-05-26T13:42:30.009Z"
   },
   {
    "duration": 0,
    "start_time": "2022-05-26T13:42:30.010Z"
   },
   {
    "duration": 0,
    "start_time": "2022-05-26T13:42:30.011Z"
   },
   {
    "duration": 60,
    "start_time": "2022-05-26T13:42:30.015Z"
   },
   {
    "duration": 0,
    "start_time": "2022-05-26T13:42:30.077Z"
   },
   {
    "duration": 0,
    "start_time": "2022-05-26T13:42:30.079Z"
   },
   {
    "duration": 0,
    "start_time": "2022-05-26T13:42:30.081Z"
   },
   {
    "duration": 0,
    "start_time": "2022-05-26T13:42:30.083Z"
   },
   {
    "duration": 0,
    "start_time": "2022-05-26T13:42:30.084Z"
   },
   {
    "duration": 0,
    "start_time": "2022-05-26T13:42:30.085Z"
   },
   {
    "duration": 0,
    "start_time": "2022-05-26T13:42:30.086Z"
   },
   {
    "duration": 0,
    "start_time": "2022-05-26T13:42:30.087Z"
   },
   {
    "duration": 0,
    "start_time": "2022-05-26T13:42:30.089Z"
   },
   {
    "duration": 0,
    "start_time": "2022-05-26T13:42:30.090Z"
   },
   {
    "duration": 0,
    "start_time": "2022-05-26T13:42:30.091Z"
   },
   {
    "duration": 0,
    "start_time": "2022-05-26T13:42:30.092Z"
   },
   {
    "duration": 0,
    "start_time": "2022-05-26T13:42:30.093Z"
   },
   {
    "duration": 9,
    "start_time": "2022-05-26T13:42:30.097Z"
   },
   {
    "duration": 0,
    "start_time": "2022-05-26T13:42:30.165Z"
   },
   {
    "duration": 0,
    "start_time": "2022-05-26T13:42:30.167Z"
   },
   {
    "duration": 0,
    "start_time": "2022-05-26T13:42:30.168Z"
   },
   {
    "duration": 11,
    "start_time": "2022-05-26T13:42:30.170Z"
   },
   {
    "duration": 0,
    "start_time": "2022-05-26T13:42:30.182Z"
   },
   {
    "duration": 0,
    "start_time": "2022-05-26T13:42:30.184Z"
   },
   {
    "duration": 0,
    "start_time": "2022-05-26T13:42:30.186Z"
   },
   {
    "duration": 1464,
    "start_time": "2022-05-26T13:42:49.353Z"
   },
   {
    "duration": 1581,
    "start_time": "2022-05-26T13:43:20.709Z"
   },
   {
    "duration": 17,
    "start_time": "2022-05-26T13:46:24.432Z"
   },
   {
    "duration": 43,
    "start_time": "2022-05-26T13:46:31.788Z"
   },
   {
    "duration": 14,
    "start_time": "2022-05-26T13:47:44.123Z"
   },
   {
    "duration": 20,
    "start_time": "2022-05-26T13:48:54.396Z"
   },
   {
    "duration": 12,
    "start_time": "2022-05-26T13:53:43.495Z"
   },
   {
    "duration": 14,
    "start_time": "2022-05-26T13:55:26.003Z"
   },
   {
    "duration": 18,
    "start_time": "2022-05-26T13:55:31.097Z"
   },
   {
    "duration": 15,
    "start_time": "2022-05-26T13:55:36.647Z"
   },
   {
    "duration": 12,
    "start_time": "2022-05-26T14:53:57.677Z"
   },
   {
    "duration": 1426,
    "start_time": "2022-05-26T14:54:44.183Z"
   },
   {
    "duration": 1174,
    "start_time": "2022-05-26T14:54:45.611Z"
   },
   {
    "duration": 56,
    "start_time": "2022-05-26T14:54:46.788Z"
   },
   {
    "duration": 19,
    "start_time": "2022-05-26T14:54:46.846Z"
   },
   {
    "duration": 4,
    "start_time": "2022-05-26T14:54:46.868Z"
   },
   {
    "duration": 8,
    "start_time": "2022-05-26T14:54:46.874Z"
   },
   {
    "duration": 17,
    "start_time": "2022-05-26T14:54:46.884Z"
   },
   {
    "duration": 6,
    "start_time": "2022-05-26T14:54:46.903Z"
   },
   {
    "duration": 16,
    "start_time": "2022-05-26T14:54:46.911Z"
   },
   {
    "duration": 37,
    "start_time": "2022-05-26T14:54:46.929Z"
   },
   {
    "duration": 13,
    "start_time": "2022-05-26T14:54:46.968Z"
   },
   {
    "duration": 4,
    "start_time": "2022-05-26T14:54:46.983Z"
   },
   {
    "duration": 10,
    "start_time": "2022-05-26T14:54:46.989Z"
   },
   {
    "duration": 6,
    "start_time": "2022-05-26T14:54:47.002Z"
   },
   {
    "duration": 9,
    "start_time": "2022-05-26T14:54:47.010Z"
   },
   {
    "duration": 49,
    "start_time": "2022-05-26T14:54:47.021Z"
   },
   {
    "duration": 6,
    "start_time": "2022-05-26T14:54:47.072Z"
   },
   {
    "duration": 8,
    "start_time": "2022-05-26T14:54:47.079Z"
   },
   {
    "duration": 8,
    "start_time": "2022-05-26T14:54:47.088Z"
   },
   {
    "duration": 154,
    "start_time": "2022-05-26T14:54:47.098Z"
   },
   {
    "duration": 16,
    "start_time": "2022-05-26T14:54:47.253Z"
   },
   {
    "duration": 141,
    "start_time": "2022-05-26T14:54:47.271Z"
   },
   {
    "duration": 12,
    "start_time": "2022-05-26T14:54:47.414Z"
   },
   {
    "duration": 156,
    "start_time": "2022-05-26T14:54:47.428Z"
   },
   {
    "duration": 9,
    "start_time": "2022-05-26T14:54:47.586Z"
   },
   {
    "duration": 151,
    "start_time": "2022-05-26T14:54:47.597Z"
   },
   {
    "duration": 6,
    "start_time": "2022-05-26T14:54:47.750Z"
   },
   {
    "duration": 157,
    "start_time": "2022-05-26T14:54:47.757Z"
   },
   {
    "duration": 431,
    "start_time": "2022-05-26T14:54:47.916Z"
   },
   {
    "duration": 18,
    "start_time": "2022-05-26T14:54:48.348Z"
   },
   {
    "duration": 5,
    "start_time": "2022-05-26T14:54:48.368Z"
   },
   {
    "duration": 22,
    "start_time": "2022-05-26T14:54:48.375Z"
   },
   {
    "duration": 259,
    "start_time": "2022-05-26T14:54:48.399Z"
   },
   {
    "duration": 5,
    "start_time": "2022-05-26T14:54:48.665Z"
   },
   {
    "duration": 74,
    "start_time": "2022-05-26T14:54:48.672Z"
   },
   {
    "duration": 225,
    "start_time": "2022-05-26T14:54:48.748Z"
   },
   {
    "duration": 72,
    "start_time": "2022-05-26T14:54:48.975Z"
   },
   {
    "duration": 27,
    "start_time": "2022-05-26T14:54:49.049Z"
   },
   {
    "duration": 717,
    "start_time": "2022-05-26T14:54:49.078Z"
   },
   {
    "duration": 5,
    "start_time": "2022-05-26T14:54:49.796Z"
   },
   {
    "duration": 9832,
    "start_time": "2022-05-26T14:54:49.808Z"
   },
   {
    "duration": 2,
    "start_time": "2022-05-26T14:54:59.643Z"
   },
   {
    "duration": 7,
    "start_time": "2022-05-26T14:54:59.647Z"
   },
   {
    "duration": 11,
    "start_time": "2022-05-26T14:54:59.655Z"
   },
   {
    "duration": 7,
    "start_time": "2022-05-26T14:54:59.667Z"
   },
   {
    "duration": 5,
    "start_time": "2022-05-26T14:54:59.676Z"
   },
   {
    "duration": 139,
    "start_time": "2022-05-26T14:54:59.682Z"
   },
   {
    "duration": 0,
    "start_time": "2022-05-26T14:54:59.822Z"
   },
   {
    "duration": 0,
    "start_time": "2022-05-26T14:54:59.824Z"
   },
   {
    "duration": 0,
    "start_time": "2022-05-26T14:54:59.827Z"
   },
   {
    "duration": 0,
    "start_time": "2022-05-26T14:54:59.828Z"
   },
   {
    "duration": 0,
    "start_time": "2022-05-26T14:54:59.829Z"
   },
   {
    "duration": 0,
    "start_time": "2022-05-26T14:54:59.830Z"
   },
   {
    "duration": 0,
    "start_time": "2022-05-26T14:54:59.831Z"
   },
   {
    "duration": 0,
    "start_time": "2022-05-26T14:54:59.832Z"
   },
   {
    "duration": 0,
    "start_time": "2022-05-26T14:54:59.833Z"
   },
   {
    "duration": 0,
    "start_time": "2022-05-26T14:54:59.834Z"
   },
   {
    "duration": 0,
    "start_time": "2022-05-26T14:54:59.835Z"
   },
   {
    "duration": 0,
    "start_time": "2022-05-26T14:54:59.836Z"
   },
   {
    "duration": 0,
    "start_time": "2022-05-26T14:54:59.837Z"
   },
   {
    "duration": 0,
    "start_time": "2022-05-26T14:54:59.839Z"
   },
   {
    "duration": 0,
    "start_time": "2022-05-26T14:54:59.840Z"
   },
   {
    "duration": 1403,
    "start_time": "2022-05-26T14:55:20.375Z"
   },
   {
    "duration": 1211,
    "start_time": "2022-05-26T14:55:21.780Z"
   },
   {
    "duration": 61,
    "start_time": "2022-05-26T14:55:22.993Z"
   },
   {
    "duration": 20,
    "start_time": "2022-05-26T14:55:23.056Z"
   },
   {
    "duration": 4,
    "start_time": "2022-05-26T14:55:23.079Z"
   },
   {
    "duration": 7,
    "start_time": "2022-05-26T14:55:23.084Z"
   },
   {
    "duration": 16,
    "start_time": "2022-05-26T14:55:23.092Z"
   },
   {
    "duration": 9,
    "start_time": "2022-05-26T14:55:23.110Z"
   },
   {
    "duration": 44,
    "start_time": "2022-05-26T14:55:23.120Z"
   },
   {
    "duration": 7,
    "start_time": "2022-05-26T14:55:23.166Z"
   },
   {
    "duration": 11,
    "start_time": "2022-05-26T14:55:23.174Z"
   },
   {
    "duration": 5,
    "start_time": "2022-05-26T14:55:23.187Z"
   },
   {
    "duration": 8,
    "start_time": "2022-05-26T14:55:23.194Z"
   },
   {
    "duration": 11,
    "start_time": "2022-05-26T14:55:23.205Z"
   },
   {
    "duration": 51,
    "start_time": "2022-05-26T14:55:23.217Z"
   },
   {
    "duration": 18,
    "start_time": "2022-05-26T14:55:23.270Z"
   },
   {
    "duration": 6,
    "start_time": "2022-05-26T14:55:23.289Z"
   },
   {
    "duration": 8,
    "start_time": "2022-05-26T14:55:23.297Z"
   },
   {
    "duration": 8,
    "start_time": "2022-05-26T14:55:23.307Z"
   },
   {
    "duration": 151,
    "start_time": "2022-05-26T14:55:23.316Z"
   },
   {
    "duration": 8,
    "start_time": "2022-05-26T14:55:23.469Z"
   },
   {
    "duration": 140,
    "start_time": "2022-05-26T14:55:23.478Z"
   },
   {
    "duration": 10,
    "start_time": "2022-05-26T14:55:23.620Z"
   },
   {
    "duration": 149,
    "start_time": "2022-05-26T14:55:23.632Z"
   },
   {
    "duration": 9,
    "start_time": "2022-05-26T14:55:23.782Z"
   },
   {
    "duration": 153,
    "start_time": "2022-05-26T14:55:23.792Z"
   },
   {
    "duration": 17,
    "start_time": "2022-05-26T14:55:23.947Z"
   },
   {
    "duration": 164,
    "start_time": "2022-05-26T14:55:23.967Z"
   },
   {
    "duration": 427,
    "start_time": "2022-05-26T14:55:24.133Z"
   },
   {
    "duration": 9,
    "start_time": "2022-05-26T14:55:24.565Z"
   },
   {
    "duration": 18,
    "start_time": "2022-05-26T14:55:24.575Z"
   },
   {
    "duration": 35,
    "start_time": "2022-05-26T14:55:24.595Z"
   },
   {
    "duration": 224,
    "start_time": "2022-05-26T14:55:24.632Z"
   },
   {
    "duration": 8,
    "start_time": "2022-05-26T14:55:24.857Z"
   },
   {
    "duration": 71,
    "start_time": "2022-05-26T14:55:24.867Z"
   },
   {
    "duration": 208,
    "start_time": "2022-05-26T14:55:24.939Z"
   },
   {
    "duration": 62,
    "start_time": "2022-05-26T14:55:25.149Z"
   },
   {
    "duration": 11,
    "start_time": "2022-05-26T14:55:25.213Z"
   },
   {
    "duration": 700,
    "start_time": "2022-05-26T14:55:25.225Z"
   },
   {
    "duration": 4,
    "start_time": "2022-05-26T14:55:25.927Z"
   },
   {
    "duration": 9113,
    "start_time": "2022-05-26T14:55:25.935Z"
   },
   {
    "duration": 2,
    "start_time": "2022-05-26T14:55:35.051Z"
   },
   {
    "duration": 7,
    "start_time": "2022-05-26T14:55:35.065Z"
   },
   {
    "duration": 7,
    "start_time": "2022-05-26T14:55:35.074Z"
   },
   {
    "duration": 5,
    "start_time": "2022-05-26T14:55:35.082Z"
   },
   {
    "duration": 7,
    "start_time": "2022-05-26T14:55:35.089Z"
   },
   {
    "duration": 5,
    "start_time": "2022-05-26T14:55:35.098Z"
   },
   {
    "duration": 5968,
    "start_time": "2022-05-26T14:55:35.105Z"
   },
   {
    "duration": 301,
    "start_time": "2022-05-26T14:55:41.075Z"
   },
   {
    "duration": 553,
    "start_time": "2022-05-26T14:55:41.378Z"
   },
   {
    "duration": 5,
    "start_time": "2022-05-26T14:55:41.933Z"
   },
   {
    "duration": 40,
    "start_time": "2022-05-26T14:55:41.939Z"
   },
   {
    "duration": 36,
    "start_time": "2022-05-26T14:55:41.981Z"
   },
   {
    "duration": 267,
    "start_time": "2022-05-26T14:55:42.019Z"
   },
   {
    "duration": 460,
    "start_time": "2022-05-26T14:55:42.288Z"
   },
   {
    "duration": 4,
    "start_time": "2022-05-26T14:55:42.750Z"
   },
   {
    "duration": 12,
    "start_time": "2022-05-26T14:55:42.756Z"
   },
   {
    "duration": 2445,
    "start_time": "2022-05-26T14:55:42.770Z"
   },
   {
    "duration": 28,
    "start_time": "2022-05-26T14:55:45.217Z"
   },
   {
    "duration": 50,
    "start_time": "2022-05-26T14:55:45.247Z"
   },
   {
    "duration": 155,
    "start_time": "2022-05-26T14:55:45.298Z"
   },
   {
    "duration": 10,
    "start_time": "2022-05-26T14:55:45.455Z"
   },
   {
    "duration": 1477,
    "start_time": "2022-05-26T15:55:50.063Z"
   },
   {
    "duration": 1282,
    "start_time": "2022-05-26T15:55:51.543Z"
   },
   {
    "duration": 55,
    "start_time": "2022-05-26T15:55:52.828Z"
   },
   {
    "duration": 23,
    "start_time": "2022-05-26T15:55:52.885Z"
   },
   {
    "duration": 10,
    "start_time": "2022-05-26T15:55:52.912Z"
   },
   {
    "duration": 17,
    "start_time": "2022-05-26T15:55:52.924Z"
   },
   {
    "duration": 41,
    "start_time": "2022-05-26T15:55:52.943Z"
   },
   {
    "duration": 11,
    "start_time": "2022-05-26T15:55:52.986Z"
   },
   {
    "duration": 29,
    "start_time": "2022-05-26T15:55:52.999Z"
   },
   {
    "duration": 36,
    "start_time": "2022-05-26T15:55:53.030Z"
   },
   {
    "duration": 13,
    "start_time": "2022-05-26T15:55:53.068Z"
   },
   {
    "duration": 34,
    "start_time": "2022-05-26T15:55:53.083Z"
   },
   {
    "duration": 15,
    "start_time": "2022-05-26T15:55:53.119Z"
   },
   {
    "duration": 15,
    "start_time": "2022-05-26T15:55:53.138Z"
   },
   {
    "duration": 11,
    "start_time": "2022-05-26T15:55:53.155Z"
   },
   {
    "duration": 25,
    "start_time": "2022-05-26T15:55:53.168Z"
   },
   {
    "duration": 8,
    "start_time": "2022-05-26T15:55:53.195Z"
   },
   {
    "duration": 9,
    "start_time": "2022-05-26T15:55:53.204Z"
   },
   {
    "duration": 11,
    "start_time": "2022-05-26T15:55:53.215Z"
   },
   {
    "duration": 185,
    "start_time": "2022-05-26T15:55:53.228Z"
   },
   {
    "duration": 10,
    "start_time": "2022-05-26T15:55:53.415Z"
   },
   {
    "duration": 146,
    "start_time": "2022-05-26T15:55:53.427Z"
   },
   {
    "duration": 12,
    "start_time": "2022-05-26T15:55:53.575Z"
   },
   {
    "duration": 178,
    "start_time": "2022-05-26T15:55:53.589Z"
   },
   {
    "duration": 12,
    "start_time": "2022-05-26T15:55:53.769Z"
   },
   {
    "duration": 160,
    "start_time": "2022-05-26T15:55:53.783Z"
   },
   {
    "duration": 7,
    "start_time": "2022-05-26T15:55:53.945Z"
   },
   {
    "duration": 165,
    "start_time": "2022-05-26T15:55:53.965Z"
   },
   {
    "duration": 474,
    "start_time": "2022-05-26T15:55:54.133Z"
   },
   {
    "duration": 10,
    "start_time": "2022-05-26T15:55:54.610Z"
   },
   {
    "duration": 9,
    "start_time": "2022-05-26T15:55:54.622Z"
   },
   {
    "duration": 57,
    "start_time": "2022-05-26T15:55:54.633Z"
   },
   {
    "duration": 245,
    "start_time": "2022-05-26T15:55:54.692Z"
   },
   {
    "duration": 5,
    "start_time": "2022-05-26T15:55:54.939Z"
   },
   {
    "duration": 81,
    "start_time": "2022-05-26T15:55:54.946Z"
   },
   {
    "duration": 203,
    "start_time": "2022-05-26T15:55:55.029Z"
   },
   {
    "duration": 100,
    "start_time": "2022-05-26T15:55:55.234Z"
   },
   {
    "duration": 16,
    "start_time": "2022-05-26T15:55:55.336Z"
   },
   {
    "duration": 725,
    "start_time": "2022-05-26T15:55:55.365Z"
   },
   {
    "duration": 6,
    "start_time": "2022-05-26T15:55:56.092Z"
   },
   {
    "duration": 10177,
    "start_time": "2022-05-26T15:55:56.102Z"
   },
   {
    "duration": 5,
    "start_time": "2022-05-26T15:56:06.294Z"
   },
   {
    "duration": 8,
    "start_time": "2022-05-26T15:56:06.302Z"
   },
   {
    "duration": 7,
    "start_time": "2022-05-26T15:56:06.312Z"
   },
   {
    "duration": 9,
    "start_time": "2022-05-26T15:56:06.321Z"
   },
   {
    "duration": 6,
    "start_time": "2022-05-26T15:56:06.332Z"
   },
   {
    "duration": 13,
    "start_time": "2022-05-26T15:56:06.340Z"
   },
   {
    "duration": 6913,
    "start_time": "2022-05-26T15:56:06.355Z"
   },
   {
    "duration": 240,
    "start_time": "2022-05-26T15:56:13.274Z"
   },
   {
    "duration": 647,
    "start_time": "2022-05-26T15:56:13.516Z"
   },
   {
    "duration": 7,
    "start_time": "2022-05-26T15:56:14.165Z"
   },
   {
    "duration": 1499,
    "start_time": "2022-05-26T15:56:14.174Z"
   },
   {
    "duration": 6,
    "start_time": "2022-05-26T15:56:15.676Z"
   },
   {
    "duration": 0,
    "start_time": "2022-05-26T15:56:15.684Z"
   },
   {
    "duration": 0,
    "start_time": "2022-05-26T15:56:15.687Z"
   },
   {
    "duration": 0,
    "start_time": "2022-05-26T15:56:15.688Z"
   },
   {
    "duration": 0,
    "start_time": "2022-05-26T15:56:15.689Z"
   },
   {
    "duration": 0,
    "start_time": "2022-05-26T15:56:15.691Z"
   },
   {
    "duration": 0,
    "start_time": "2022-05-26T15:56:15.692Z"
   },
   {
    "duration": 0,
    "start_time": "2022-05-26T15:56:15.694Z"
   },
   {
    "duration": 0,
    "start_time": "2022-05-26T15:56:15.696Z"
   },
   {
    "duration": 0,
    "start_time": "2022-05-26T15:56:15.697Z"
   },
   {
    "duration": 0,
    "start_time": "2022-05-26T15:56:15.698Z"
   },
   {
    "duration": 0,
    "start_time": "2022-05-26T15:56:15.700Z"
   },
   {
    "duration": 0,
    "start_time": "2022-05-26T15:56:15.701Z"
   },
   {
    "duration": 1504,
    "start_time": "2022-05-26T15:58:05.846Z"
   },
   {
    "duration": 1241,
    "start_time": "2022-05-26T15:58:07.352Z"
   },
   {
    "duration": 71,
    "start_time": "2022-05-26T15:58:08.596Z"
   },
   {
    "duration": 29,
    "start_time": "2022-05-26T15:58:08.669Z"
   },
   {
    "duration": 5,
    "start_time": "2022-05-26T15:58:08.701Z"
   },
   {
    "duration": 8,
    "start_time": "2022-05-26T15:58:08.708Z"
   },
   {
    "duration": 47,
    "start_time": "2022-05-26T15:58:08.718Z"
   },
   {
    "duration": 11,
    "start_time": "2022-05-26T15:58:08.767Z"
   },
   {
    "duration": 25,
    "start_time": "2022-05-26T15:58:08.780Z"
   },
   {
    "duration": 9,
    "start_time": "2022-05-26T15:58:08.806Z"
   },
   {
    "duration": 14,
    "start_time": "2022-05-26T15:58:08.817Z"
   },
   {
    "duration": 43,
    "start_time": "2022-05-26T15:58:08.833Z"
   },
   {
    "duration": 12,
    "start_time": "2022-05-26T15:58:08.879Z"
   },
   {
    "duration": 8,
    "start_time": "2022-05-26T15:58:08.895Z"
   },
   {
    "duration": 24,
    "start_time": "2022-05-26T15:58:08.905Z"
   },
   {
    "duration": 35,
    "start_time": "2022-05-26T15:58:08.931Z"
   },
   {
    "duration": 8,
    "start_time": "2022-05-26T15:58:08.968Z"
   },
   {
    "duration": 21,
    "start_time": "2022-05-26T15:58:08.978Z"
   },
   {
    "duration": 7,
    "start_time": "2022-05-26T15:58:09.002Z"
   },
   {
    "duration": 214,
    "start_time": "2022-05-26T15:58:09.011Z"
   },
   {
    "duration": 12,
    "start_time": "2022-05-26T15:58:09.227Z"
   },
   {
    "duration": 211,
    "start_time": "2022-05-26T15:58:09.242Z"
   },
   {
    "duration": 16,
    "start_time": "2022-05-26T15:58:09.455Z"
   },
   {
    "duration": 132,
    "start_time": "2022-05-26T15:58:09.473Z"
   },
   {
    "duration": 12,
    "start_time": "2022-05-26T15:58:09.607Z"
   },
   {
    "duration": 150,
    "start_time": "2022-05-26T15:58:09.621Z"
   },
   {
    "duration": 9,
    "start_time": "2022-05-26T15:58:09.774Z"
   },
   {
    "duration": 168,
    "start_time": "2022-05-26T15:58:09.785Z"
   },
   {
    "duration": 441,
    "start_time": "2022-05-26T15:58:09.955Z"
   },
   {
    "duration": 18,
    "start_time": "2022-05-26T15:58:10.398Z"
   },
   {
    "duration": 7,
    "start_time": "2022-05-26T15:58:10.419Z"
   },
   {
    "duration": 41,
    "start_time": "2022-05-26T15:58:10.428Z"
   },
   {
    "duration": 259,
    "start_time": "2022-05-26T15:58:10.471Z"
   },
   {
    "duration": 6,
    "start_time": "2022-05-26T15:58:10.732Z"
   },
   {
    "duration": 101,
    "start_time": "2022-05-26T15:58:10.740Z"
   },
   {
    "duration": 225,
    "start_time": "2022-05-26T15:58:10.846Z"
   },
   {
    "duration": 61,
    "start_time": "2022-05-26T15:58:11.073Z"
   },
   {
    "duration": 28,
    "start_time": "2022-05-26T15:58:11.136Z"
   },
   {
    "duration": 737,
    "start_time": "2022-05-26T15:58:11.168Z"
   },
   {
    "duration": 8,
    "start_time": "2022-05-26T15:58:11.908Z"
   },
   {
    "duration": 11564,
    "start_time": "2022-05-26T15:58:11.921Z"
   },
   {
    "duration": 2,
    "start_time": "2022-05-26T15:58:23.488Z"
   },
   {
    "duration": 9,
    "start_time": "2022-05-26T15:58:23.492Z"
   },
   {
    "duration": 5,
    "start_time": "2022-05-26T15:58:23.503Z"
   },
   {
    "duration": 14,
    "start_time": "2022-05-26T15:58:23.509Z"
   },
   {
    "duration": 6,
    "start_time": "2022-05-26T15:58:23.525Z"
   },
   {
    "duration": 10,
    "start_time": "2022-05-26T15:58:23.533Z"
   },
   {
    "duration": 5925,
    "start_time": "2022-05-26T15:58:23.545Z"
   },
   {
    "duration": 350,
    "start_time": "2022-05-26T15:58:29.472Z"
   },
   {
    "duration": 662,
    "start_time": "2022-05-26T15:58:29.825Z"
   },
   {
    "duration": 6,
    "start_time": "2022-05-26T15:58:30.489Z"
   },
   {
    "duration": 1567,
    "start_time": "2022-05-26T15:58:30.497Z"
   },
   {
    "duration": 75639,
    "start_time": "2022-05-26T15:58:32.067Z"
   },
   {
    "duration": 258,
    "start_time": "2022-05-26T15:59:47.709Z"
   },
   {
    "duration": 0,
    "start_time": "2022-05-26T15:59:47.969Z"
   },
   {
    "duration": 0,
    "start_time": "2022-05-26T15:59:47.971Z"
   },
   {
    "duration": 0,
    "start_time": "2022-05-26T15:59:47.972Z"
   },
   {
    "duration": 0,
    "start_time": "2022-05-26T15:59:47.973Z"
   },
   {
    "duration": 0,
    "start_time": "2022-05-26T15:59:47.975Z"
   },
   {
    "duration": 0,
    "start_time": "2022-05-26T15:59:47.976Z"
   },
   {
    "duration": 0,
    "start_time": "2022-05-26T15:59:47.977Z"
   },
   {
    "duration": 0,
    "start_time": "2022-05-26T15:59:47.978Z"
   },
   {
    "duration": 0,
    "start_time": "2022-05-26T15:59:47.979Z"
   },
   {
    "duration": 0,
    "start_time": "2022-05-26T15:59:47.981Z"
   },
   {
    "duration": 0,
    "start_time": "2022-05-26T15:59:47.982Z"
   },
   {
    "duration": 1424,
    "start_time": "2022-05-26T16:31:57.084Z"
   },
   {
    "duration": 1196,
    "start_time": "2022-05-26T16:31:58.509Z"
   },
   {
    "duration": 53,
    "start_time": "2022-05-26T16:31:59.707Z"
   },
   {
    "duration": 19,
    "start_time": "2022-05-26T16:31:59.762Z"
   },
   {
    "duration": 4,
    "start_time": "2022-05-26T16:31:59.783Z"
   },
   {
    "duration": 4,
    "start_time": "2022-05-26T16:31:59.789Z"
   },
   {
    "duration": 18,
    "start_time": "2022-05-26T16:31:59.794Z"
   },
   {
    "duration": 8,
    "start_time": "2022-05-26T16:31:59.813Z"
   },
   {
    "duration": 43,
    "start_time": "2022-05-26T16:31:59.822Z"
   },
   {
    "duration": 7,
    "start_time": "2022-05-26T16:31:59.867Z"
   },
   {
    "duration": 17,
    "start_time": "2022-05-26T16:31:59.875Z"
   },
   {
    "duration": 7,
    "start_time": "2022-05-26T16:31:59.894Z"
   },
   {
    "duration": 8,
    "start_time": "2022-05-26T16:31:59.903Z"
   },
   {
    "duration": 6,
    "start_time": "2022-05-26T16:31:59.914Z"
   },
   {
    "duration": 12,
    "start_time": "2022-05-26T16:31:59.921Z"
   },
   {
    "duration": 34,
    "start_time": "2022-05-26T16:31:59.935Z"
   },
   {
    "duration": 5,
    "start_time": "2022-05-26T16:31:59.971Z"
   },
   {
    "duration": 9,
    "start_time": "2022-05-26T16:31:59.978Z"
   },
   {
    "duration": 11,
    "start_time": "2022-05-26T16:31:59.988Z"
   },
   {
    "duration": 154,
    "start_time": "2022-05-26T16:32:00.001Z"
   },
   {
    "duration": 14,
    "start_time": "2022-05-26T16:32:00.157Z"
   },
   {
    "duration": 132,
    "start_time": "2022-05-26T16:32:00.173Z"
   },
   {
    "duration": 10,
    "start_time": "2022-05-26T16:32:00.307Z"
   },
   {
    "duration": 129,
    "start_time": "2022-05-26T16:32:00.319Z"
   },
   {
    "duration": 16,
    "start_time": "2022-05-26T16:32:00.450Z"
   },
   {
    "duration": 145,
    "start_time": "2022-05-26T16:32:00.468Z"
   },
   {
    "duration": 7,
    "start_time": "2022-05-26T16:32:00.615Z"
   },
   {
    "duration": 138,
    "start_time": "2022-05-26T16:32:00.624Z"
   },
   {
    "duration": 430,
    "start_time": "2022-05-26T16:32:00.765Z"
   },
   {
    "duration": 10,
    "start_time": "2022-05-26T16:32:01.197Z"
   },
   {
    "duration": 7,
    "start_time": "2022-05-26T16:32:01.209Z"
   },
   {
    "duration": 32,
    "start_time": "2022-05-26T16:32:01.218Z"
   },
   {
    "duration": 241,
    "start_time": "2022-05-26T16:32:01.264Z"
   },
   {
    "duration": 6,
    "start_time": "2022-05-26T16:32:01.507Z"
   },
   {
    "duration": 86,
    "start_time": "2022-05-26T16:32:01.514Z"
   },
   {
    "duration": 192,
    "start_time": "2022-05-26T16:32:01.602Z"
   },
   {
    "duration": 58,
    "start_time": "2022-05-26T16:32:01.796Z"
   },
   {
    "duration": 11,
    "start_time": "2022-05-26T16:32:01.865Z"
   },
   {
    "duration": 716,
    "start_time": "2022-05-26T16:32:01.878Z"
   },
   {
    "duration": 5,
    "start_time": "2022-05-26T16:32:02.597Z"
   },
   {
    "duration": 8774,
    "start_time": "2022-05-26T16:32:02.608Z"
   },
   {
    "duration": 3,
    "start_time": "2022-05-26T16:32:11.384Z"
   },
   {
    "duration": 10,
    "start_time": "2022-05-26T16:32:11.389Z"
   },
   {
    "duration": 19,
    "start_time": "2022-05-26T16:32:11.401Z"
   },
   {
    "duration": 8,
    "start_time": "2022-05-26T16:32:11.422Z"
   },
   {
    "duration": 27,
    "start_time": "2022-05-26T16:32:11.432Z"
   },
   {
    "duration": 20,
    "start_time": "2022-05-26T16:32:11.461Z"
   },
   {
    "duration": 6082,
    "start_time": "2022-05-26T16:32:11.483Z"
   },
   {
    "duration": 209,
    "start_time": "2022-05-26T16:32:17.571Z"
   },
   {
    "duration": 573,
    "start_time": "2022-05-26T16:32:17.783Z"
   },
   {
    "duration": 9,
    "start_time": "2022-05-26T16:32:18.357Z"
   },
   {
    "duration": 1308,
    "start_time": "2022-05-26T16:32:18.368Z"
   },
   {
    "duration": 42297,
    "start_time": "2022-05-26T16:32:19.678Z"
   },
   {
    "duration": 267,
    "start_time": "2022-05-26T16:33:01.978Z"
   },
   {
    "duration": 0,
    "start_time": "2022-05-26T16:33:02.247Z"
   },
   {
    "duration": 0,
    "start_time": "2022-05-26T16:33:02.248Z"
   },
   {
    "duration": 0,
    "start_time": "2022-05-26T16:33:02.249Z"
   },
   {
    "duration": 0,
    "start_time": "2022-05-26T16:33:02.250Z"
   },
   {
    "duration": 0,
    "start_time": "2022-05-26T16:33:02.265Z"
   },
   {
    "duration": 0,
    "start_time": "2022-05-26T16:33:02.267Z"
   },
   {
    "duration": 0,
    "start_time": "2022-05-26T16:33:02.267Z"
   },
   {
    "duration": 1,
    "start_time": "2022-05-26T16:33:02.268Z"
   },
   {
    "duration": 0,
    "start_time": "2022-05-26T16:33:02.270Z"
   },
   {
    "duration": 0,
    "start_time": "2022-05-26T16:33:02.271Z"
   },
   {
    "duration": 0,
    "start_time": "2022-05-26T16:33:02.272Z"
   },
   {
    "duration": 1424,
    "start_time": "2022-05-26T16:33:45.076Z"
   },
   {
    "duration": 1218,
    "start_time": "2022-05-26T16:33:46.502Z"
   },
   {
    "duration": 56,
    "start_time": "2022-05-26T16:33:47.722Z"
   },
   {
    "duration": 21,
    "start_time": "2022-05-26T16:33:47.780Z"
   },
   {
    "duration": 4,
    "start_time": "2022-05-26T16:33:47.803Z"
   },
   {
    "duration": 4,
    "start_time": "2022-05-26T16:33:47.809Z"
   },
   {
    "duration": 18,
    "start_time": "2022-05-26T16:33:47.815Z"
   },
   {
    "duration": 31,
    "start_time": "2022-05-26T16:33:47.835Z"
   },
   {
    "duration": 16,
    "start_time": "2022-05-26T16:33:47.868Z"
   },
   {
    "duration": 16,
    "start_time": "2022-05-26T16:33:47.888Z"
   },
   {
    "duration": 20,
    "start_time": "2022-05-26T16:33:47.906Z"
   },
   {
    "duration": 10,
    "start_time": "2022-05-26T16:33:47.928Z"
   },
   {
    "duration": 23,
    "start_time": "2022-05-26T16:33:47.940Z"
   },
   {
    "duration": 21,
    "start_time": "2022-05-26T16:33:47.965Z"
   },
   {
    "duration": 23,
    "start_time": "2022-05-26T16:33:47.988Z"
   },
   {
    "duration": 34,
    "start_time": "2022-05-26T16:33:48.013Z"
   },
   {
    "duration": 10,
    "start_time": "2022-05-26T16:33:48.049Z"
   },
   {
    "duration": 20,
    "start_time": "2022-05-26T16:33:48.060Z"
   },
   {
    "duration": 16,
    "start_time": "2022-05-26T16:33:48.082Z"
   },
   {
    "duration": 137,
    "start_time": "2022-05-26T16:33:48.100Z"
   },
   {
    "duration": 8,
    "start_time": "2022-05-26T16:33:48.239Z"
   },
   {
    "duration": 140,
    "start_time": "2022-05-26T16:33:48.249Z"
   },
   {
    "duration": 9,
    "start_time": "2022-05-26T16:33:48.391Z"
   },
   {
    "duration": 129,
    "start_time": "2022-05-26T16:33:48.402Z"
   },
   {
    "duration": 10,
    "start_time": "2022-05-26T16:33:48.533Z"
   },
   {
    "duration": 161,
    "start_time": "2022-05-26T16:33:48.544Z"
   },
   {
    "duration": 6,
    "start_time": "2022-05-26T16:33:48.707Z"
   },
   {
    "duration": 174,
    "start_time": "2022-05-26T16:33:48.717Z"
   },
   {
    "duration": 500,
    "start_time": "2022-05-26T16:33:48.893Z"
   },
   {
    "duration": 10,
    "start_time": "2022-05-26T16:33:49.395Z"
   },
   {
    "duration": 24,
    "start_time": "2022-05-26T16:33:49.407Z"
   },
   {
    "duration": 31,
    "start_time": "2022-05-26T16:33:49.432Z"
   },
   {
    "duration": 235,
    "start_time": "2022-05-26T16:33:49.465Z"
   },
   {
    "duration": 4,
    "start_time": "2022-05-26T16:33:49.702Z"
   },
   {
    "duration": 80,
    "start_time": "2022-05-26T16:33:49.708Z"
   },
   {
    "duration": 89,
    "start_time": "2022-05-26T16:33:49.790Z"
   },
   {
    "duration": 170,
    "start_time": "2022-05-26T16:33:49.880Z"
   },
   {
    "duration": 23,
    "start_time": "2022-05-26T16:33:50.052Z"
   },
   {
    "duration": 713,
    "start_time": "2022-05-26T16:33:50.076Z"
   },
   {
    "duration": 5,
    "start_time": "2022-05-26T16:33:50.791Z"
   },
   {
    "duration": 9437,
    "start_time": "2022-05-26T16:33:50.798Z"
   },
   {
    "duration": 2,
    "start_time": "2022-05-26T16:34:00.237Z"
   },
   {
    "duration": 15,
    "start_time": "2022-05-26T16:34:00.241Z"
   },
   {
    "duration": 14,
    "start_time": "2022-05-26T16:34:00.257Z"
   },
   {
    "duration": 13,
    "start_time": "2022-05-26T16:34:00.273Z"
   },
   {
    "duration": 28,
    "start_time": "2022-05-26T16:34:00.288Z"
   },
   {
    "duration": 22,
    "start_time": "2022-05-26T16:34:00.318Z"
   },
   {
    "duration": 6128,
    "start_time": "2022-05-26T16:34:00.341Z"
   },
   {
    "duration": 240,
    "start_time": "2022-05-26T16:34:06.471Z"
   },
   {
    "duration": 554,
    "start_time": "2022-05-26T16:34:06.712Z"
   },
   {
    "duration": 4,
    "start_time": "2022-05-26T16:34:07.268Z"
   },
   {
    "duration": 1311,
    "start_time": "2022-05-26T16:34:07.274Z"
   },
   {
    "duration": 42296,
    "start_time": "2022-05-26T16:34:08.587Z"
   },
   {
    "duration": 98,
    "start_time": "2022-05-26T16:34:50.886Z"
   },
   {
    "duration": 226,
    "start_time": "2022-05-26T16:34:50.986Z"
   },
   {
    "duration": 0,
    "start_time": "2022-05-26T16:34:51.214Z"
   },
   {
    "duration": 0,
    "start_time": "2022-05-26T16:34:51.215Z"
   },
   {
    "duration": 0,
    "start_time": "2022-05-26T16:34:51.216Z"
   },
   {
    "duration": 0,
    "start_time": "2022-05-26T16:34:51.218Z"
   },
   {
    "duration": 0,
    "start_time": "2022-05-26T16:34:51.219Z"
   },
   {
    "duration": 0,
    "start_time": "2022-05-26T16:34:51.221Z"
   },
   {
    "duration": 0,
    "start_time": "2022-05-26T16:34:51.222Z"
   },
   {
    "duration": 0,
    "start_time": "2022-05-26T16:34:51.223Z"
   },
   {
    "duration": 0,
    "start_time": "2022-05-26T16:34:51.225Z"
   },
   {
    "duration": 0,
    "start_time": "2022-05-26T16:34:51.227Z"
   },
   {
    "duration": 1461,
    "start_time": "2022-05-26T16:36:53.266Z"
   },
   {
    "duration": 1253,
    "start_time": "2022-05-26T16:36:54.729Z"
   },
   {
    "duration": 54,
    "start_time": "2022-05-26T16:36:55.984Z"
   },
   {
    "duration": 18,
    "start_time": "2022-05-26T16:36:56.040Z"
   },
   {
    "duration": 4,
    "start_time": "2022-05-26T16:36:56.060Z"
   },
   {
    "duration": 4,
    "start_time": "2022-05-26T16:36:56.066Z"
   },
   {
    "duration": 17,
    "start_time": "2022-05-26T16:36:56.071Z"
   },
   {
    "duration": 7,
    "start_time": "2022-05-26T16:36:56.089Z"
   },
   {
    "duration": 17,
    "start_time": "2022-05-26T16:36:56.098Z"
   },
   {
    "duration": 5,
    "start_time": "2022-05-26T16:36:56.117Z"
   },
   {
    "duration": 41,
    "start_time": "2022-05-26T16:36:56.124Z"
   },
   {
    "duration": 5,
    "start_time": "2022-05-26T16:36:56.167Z"
   },
   {
    "duration": 9,
    "start_time": "2022-05-26T16:36:56.174Z"
   },
   {
    "duration": 6,
    "start_time": "2022-05-26T16:36:56.184Z"
   },
   {
    "duration": 9,
    "start_time": "2022-05-26T16:36:56.192Z"
   },
   {
    "duration": 13,
    "start_time": "2022-05-26T16:36:56.203Z"
   },
   {
    "duration": 5,
    "start_time": "2022-05-26T16:36:56.218Z"
   },
   {
    "duration": 48,
    "start_time": "2022-05-26T16:36:56.224Z"
   },
   {
    "duration": 6,
    "start_time": "2022-05-26T16:36:56.273Z"
   },
   {
    "duration": 139,
    "start_time": "2022-05-26T16:36:56.281Z"
   },
   {
    "duration": 8,
    "start_time": "2022-05-26T16:36:56.421Z"
   },
   {
    "duration": 145,
    "start_time": "2022-05-26T16:36:56.431Z"
   },
   {
    "duration": 11,
    "start_time": "2022-05-26T16:36:56.579Z"
   },
   {
    "duration": 135,
    "start_time": "2022-05-26T16:36:56.592Z"
   },
   {
    "duration": 9,
    "start_time": "2022-05-26T16:36:56.728Z"
   },
   {
    "duration": 139,
    "start_time": "2022-05-26T16:36:56.738Z"
   },
   {
    "duration": 5,
    "start_time": "2022-05-26T16:36:56.879Z"
   },
   {
    "duration": 148,
    "start_time": "2022-05-26T16:36:56.888Z"
   },
   {
    "duration": 428,
    "start_time": "2022-05-26T16:36:57.038Z"
   },
   {
    "duration": 8,
    "start_time": "2022-05-26T16:36:57.468Z"
   },
   {
    "duration": 12,
    "start_time": "2022-05-26T16:36:57.478Z"
   },
   {
    "duration": 23,
    "start_time": "2022-05-26T16:36:57.492Z"
   },
   {
    "duration": 244,
    "start_time": "2022-05-26T16:36:57.516Z"
   },
   {
    "duration": 5,
    "start_time": "2022-05-26T16:36:57.761Z"
   },
   {
    "duration": 73,
    "start_time": "2022-05-26T16:36:57.768Z"
   },
   {
    "duration": 84,
    "start_time": "2022-05-26T16:36:57.843Z"
   },
   {
    "duration": 176,
    "start_time": "2022-05-26T16:36:57.929Z"
   },
   {
    "duration": 11,
    "start_time": "2022-05-26T16:36:58.106Z"
   },
   {
    "duration": 680,
    "start_time": "2022-05-26T16:36:58.119Z"
   },
   {
    "duration": 4,
    "start_time": "2022-05-26T16:36:58.801Z"
   },
   {
    "duration": 10675,
    "start_time": "2022-05-26T16:36:58.807Z"
   },
   {
    "duration": 3,
    "start_time": "2022-05-26T16:37:09.484Z"
   },
   {
    "duration": 8,
    "start_time": "2022-05-26T16:37:09.489Z"
   },
   {
    "duration": 5,
    "start_time": "2022-05-26T16:37:09.499Z"
   },
   {
    "duration": 6,
    "start_time": "2022-05-26T16:37:09.506Z"
   },
   {
    "duration": 8,
    "start_time": "2022-05-26T16:37:09.514Z"
   },
   {
    "duration": 9,
    "start_time": "2022-05-26T16:37:09.523Z"
   },
   {
    "duration": 6039,
    "start_time": "2022-05-26T16:37:09.533Z"
   },
   {
    "duration": 313,
    "start_time": "2022-05-26T16:37:15.574Z"
   },
   {
    "duration": 630,
    "start_time": "2022-05-26T16:37:15.889Z"
   },
   {
    "duration": 7,
    "start_time": "2022-05-26T16:37:16.521Z"
   },
   {
    "duration": 58,
    "start_time": "2022-05-26T16:37:16.530Z"
   },
   {
    "duration": 56,
    "start_time": "2022-05-26T16:37:16.591Z"
   },
   {
    "duration": 1429,
    "start_time": "2022-05-26T16:37:16.649Z"
   },
   {
    "duration": 43209,
    "start_time": "2022-05-26T16:37:18.080Z"
   },
   {
    "duration": 105,
    "start_time": "2022-05-26T16:38:01.366Z"
   },
   {
    "duration": 264,
    "start_time": "2022-05-26T16:38:01.473Z"
   },
   {
    "duration": 469,
    "start_time": "2022-05-26T16:38:01.739Z"
   },
   {
    "duration": 4,
    "start_time": "2022-05-26T16:38:02.210Z"
   },
   {
    "duration": 13,
    "start_time": "2022-05-26T16:38:02.215Z"
   },
   {
    "duration": 2541,
    "start_time": "2022-05-26T16:38:02.231Z"
   },
   {
    "duration": 29,
    "start_time": "2022-05-26T16:38:04.774Z"
   },
   {
    "duration": 38,
    "start_time": "2022-05-26T16:38:04.804Z"
   },
   {
    "duration": 174,
    "start_time": "2022-05-26T16:38:04.844Z"
   },
   {
    "duration": 8,
    "start_time": "2022-05-26T16:38:05.019Z"
   },
   {
    "duration": 1494,
    "start_time": "2022-05-26T16:41:34.557Z"
   },
   {
    "duration": 1344,
    "start_time": "2022-05-26T16:41:36.053Z"
   },
   {
    "duration": 59,
    "start_time": "2022-05-26T16:41:37.399Z"
   },
   {
    "duration": 35,
    "start_time": "2022-05-26T16:41:37.459Z"
   },
   {
    "duration": 20,
    "start_time": "2022-05-26T16:41:37.497Z"
   },
   {
    "duration": 8,
    "start_time": "2022-05-26T16:41:37.519Z"
   },
   {
    "duration": 22,
    "start_time": "2022-05-26T16:41:37.529Z"
   },
   {
    "duration": 9,
    "start_time": "2022-05-26T16:41:37.552Z"
   },
   {
    "duration": 36,
    "start_time": "2022-05-26T16:41:37.563Z"
   },
   {
    "duration": 13,
    "start_time": "2022-05-26T16:41:37.602Z"
   },
   {
    "duration": 10,
    "start_time": "2022-05-26T16:41:37.618Z"
   },
   {
    "duration": 18,
    "start_time": "2022-05-26T16:41:37.630Z"
   },
   {
    "duration": 14,
    "start_time": "2022-05-26T16:41:37.650Z"
   },
   {
    "duration": 35,
    "start_time": "2022-05-26T16:41:37.670Z"
   },
   {
    "duration": 12,
    "start_time": "2022-05-26T16:41:37.707Z"
   },
   {
    "duration": 25,
    "start_time": "2022-05-26T16:41:37.722Z"
   },
   {
    "duration": 7,
    "start_time": "2022-05-26T16:41:37.749Z"
   },
   {
    "duration": 28,
    "start_time": "2022-05-26T16:41:37.758Z"
   },
   {
    "duration": 9,
    "start_time": "2022-05-26T16:41:37.788Z"
   },
   {
    "duration": 159,
    "start_time": "2022-05-26T16:41:37.800Z"
   },
   {
    "duration": 14,
    "start_time": "2022-05-26T16:41:37.961Z"
   },
   {
    "duration": 146,
    "start_time": "2022-05-26T16:41:37.977Z"
   },
   {
    "duration": 11,
    "start_time": "2022-05-26T16:41:38.125Z"
   },
   {
    "duration": 152,
    "start_time": "2022-05-26T16:41:38.137Z"
   },
   {
    "duration": 9,
    "start_time": "2022-05-26T16:41:38.291Z"
   },
   {
    "duration": 154,
    "start_time": "2022-05-26T16:41:38.301Z"
   },
   {
    "duration": 5,
    "start_time": "2022-05-26T16:41:38.457Z"
   },
   {
    "duration": 181,
    "start_time": "2022-05-26T16:41:38.464Z"
   },
   {
    "duration": 569,
    "start_time": "2022-05-26T16:41:38.647Z"
   },
   {
    "duration": 12,
    "start_time": "2022-05-26T16:41:39.218Z"
   },
   {
    "duration": 13,
    "start_time": "2022-05-26T16:41:39.232Z"
   },
   {
    "duration": 50,
    "start_time": "2022-05-26T16:41:39.247Z"
   },
   {
    "duration": 290,
    "start_time": "2022-05-26T16:41:39.299Z"
   },
   {
    "duration": 6,
    "start_time": "2022-05-26T16:41:39.593Z"
   },
   {
    "duration": 85,
    "start_time": "2022-05-26T16:41:39.601Z"
   },
   {
    "duration": 212,
    "start_time": "2022-05-26T16:41:39.688Z"
   },
   {
    "duration": 75,
    "start_time": "2022-05-26T16:41:39.902Z"
   },
   {
    "duration": 13,
    "start_time": "2022-05-26T16:41:39.979Z"
   },
   {
    "duration": 738,
    "start_time": "2022-05-26T16:41:39.994Z"
   },
   {
    "duration": 6,
    "start_time": "2022-05-26T16:41:40.734Z"
   },
   {
    "duration": 10438,
    "start_time": "2022-05-26T16:41:40.744Z"
   },
   {
    "duration": 3,
    "start_time": "2022-05-26T16:41:51.183Z"
   },
   {
    "duration": 6,
    "start_time": "2022-05-26T16:41:51.187Z"
   },
   {
    "duration": 8,
    "start_time": "2022-05-26T16:41:51.195Z"
   },
   {
    "duration": 4,
    "start_time": "2022-05-26T16:41:51.204Z"
   },
   {
    "duration": 4,
    "start_time": "2022-05-26T16:41:51.210Z"
   },
   {
    "duration": 5,
    "start_time": "2022-05-26T16:41:51.216Z"
   },
   {
    "duration": 5343,
    "start_time": "2022-05-26T16:41:51.222Z"
   },
   {
    "duration": 216,
    "start_time": "2022-05-26T16:41:56.568Z"
   },
   {
    "duration": 621,
    "start_time": "2022-05-26T16:41:56.786Z"
   },
   {
    "duration": 7,
    "start_time": "2022-05-26T16:41:57.409Z"
   },
   {
    "duration": 63,
    "start_time": "2022-05-26T16:41:57.418Z"
   },
   {
    "duration": 43,
    "start_time": "2022-05-26T16:41:57.484Z"
   },
   {
    "duration": 1350,
    "start_time": "2022-05-26T16:41:57.529Z"
   },
   {
    "duration": 68312,
    "start_time": "2022-05-26T16:41:58.882Z"
   },
   {
    "duration": 100,
    "start_time": "2022-05-26T16:43:07.196Z"
   },
   {
    "duration": 303,
    "start_time": "2022-05-26T16:43:07.298Z"
   },
   {
    "duration": 459,
    "start_time": "2022-05-26T16:43:07.603Z"
   },
   {
    "duration": 4,
    "start_time": "2022-05-26T16:43:08.064Z"
   },
   {
    "duration": 21,
    "start_time": "2022-05-26T16:43:08.072Z"
   },
   {
    "duration": 2499,
    "start_time": "2022-05-26T16:43:08.094Z"
   },
   {
    "duration": 32,
    "start_time": "2022-05-26T16:43:10.595Z"
   },
   {
    "duration": 62,
    "start_time": "2022-05-26T16:43:10.629Z"
   },
   {
    "duration": 166,
    "start_time": "2022-05-26T16:43:10.693Z"
   },
   {
    "duration": 11,
    "start_time": "2022-05-26T16:43:10.861Z"
   },
   {
    "duration": 1513,
    "start_time": "2022-05-26T16:44:26.857Z"
   },
   {
    "duration": 1326,
    "start_time": "2022-05-26T16:44:28.379Z"
   },
   {
    "duration": 72,
    "start_time": "2022-05-26T16:44:29.707Z"
   },
   {
    "duration": 21,
    "start_time": "2022-05-26T16:44:29.781Z"
   },
   {
    "duration": 4,
    "start_time": "2022-05-26T16:44:29.804Z"
   },
   {
    "duration": 4,
    "start_time": "2022-05-26T16:44:29.810Z"
   },
   {
    "duration": 15,
    "start_time": "2022-05-26T16:44:29.816Z"
   },
   {
    "duration": 38,
    "start_time": "2022-05-26T16:44:29.833Z"
   },
   {
    "duration": 27,
    "start_time": "2022-05-26T16:44:29.874Z"
   },
   {
    "duration": 6,
    "start_time": "2022-05-26T16:44:29.903Z"
   },
   {
    "duration": 11,
    "start_time": "2022-05-26T16:44:29.910Z"
   },
   {
    "duration": 6,
    "start_time": "2022-05-26T16:44:29.923Z"
   },
   {
    "duration": 36,
    "start_time": "2022-05-26T16:44:29.931Z"
   },
   {
    "duration": 12,
    "start_time": "2022-05-26T16:44:29.971Z"
   },
   {
    "duration": 7,
    "start_time": "2022-05-26T16:44:29.985Z"
   },
   {
    "duration": 19,
    "start_time": "2022-05-26T16:44:29.994Z"
   },
   {
    "duration": 13,
    "start_time": "2022-05-26T16:44:30.015Z"
   },
   {
    "duration": 8,
    "start_time": "2022-05-26T16:44:30.030Z"
   },
   {
    "duration": 46,
    "start_time": "2022-05-26T16:44:30.039Z"
   },
   {
    "duration": 140,
    "start_time": "2022-05-26T16:44:30.087Z"
   },
   {
    "duration": 9,
    "start_time": "2022-05-26T16:44:30.229Z"
   },
   {
    "duration": 144,
    "start_time": "2022-05-26T16:44:30.239Z"
   },
   {
    "duration": 9,
    "start_time": "2022-05-26T16:44:30.385Z"
   },
   {
    "duration": 130,
    "start_time": "2022-05-26T16:44:30.396Z"
   },
   {
    "duration": 8,
    "start_time": "2022-05-26T16:44:30.529Z"
   },
   {
    "duration": 166,
    "start_time": "2022-05-26T16:44:30.539Z"
   },
   {
    "duration": 6,
    "start_time": "2022-05-26T16:44:30.707Z"
   },
   {
    "duration": 153,
    "start_time": "2022-05-26T16:44:30.714Z"
   },
   {
    "duration": 431,
    "start_time": "2022-05-26T16:44:30.876Z"
   },
   {
    "duration": 8,
    "start_time": "2022-05-26T16:44:31.309Z"
   },
   {
    "duration": 5,
    "start_time": "2022-05-26T16:44:31.319Z"
   },
   {
    "duration": 50,
    "start_time": "2022-05-26T16:44:31.326Z"
   },
   {
    "duration": 232,
    "start_time": "2022-05-26T16:44:31.381Z"
   },
   {
    "duration": 4,
    "start_time": "2022-05-26T16:44:31.615Z"
   },
   {
    "duration": 79,
    "start_time": "2022-05-26T16:44:31.620Z"
   },
   {
    "duration": 208,
    "start_time": "2022-05-26T16:44:31.701Z"
   },
   {
    "duration": 97,
    "start_time": "2022-05-26T16:44:31.911Z"
   },
   {
    "duration": 13,
    "start_time": "2022-05-26T16:44:32.010Z"
   },
   {
    "duration": 734,
    "start_time": "2022-05-26T16:44:32.025Z"
   },
   {
    "duration": 5,
    "start_time": "2022-05-26T16:44:32.760Z"
   },
   {
    "duration": 9846,
    "start_time": "2022-05-26T16:44:32.770Z"
   },
   {
    "duration": 3,
    "start_time": "2022-05-26T16:44:42.617Z"
   },
   {
    "duration": 6,
    "start_time": "2022-05-26T16:44:42.622Z"
   },
   {
    "duration": 4,
    "start_time": "2022-05-26T16:44:42.630Z"
   },
   {
    "duration": 5,
    "start_time": "2022-05-26T16:44:42.635Z"
   },
   {
    "duration": 5,
    "start_time": "2022-05-26T16:44:42.642Z"
   },
   {
    "duration": 28,
    "start_time": "2022-05-26T16:44:42.648Z"
   },
   {
    "duration": 4894,
    "start_time": "2022-05-26T16:44:42.679Z"
   },
   {
    "duration": 208,
    "start_time": "2022-05-26T16:44:47.575Z"
   },
   {
    "duration": 602,
    "start_time": "2022-05-26T16:44:47.785Z"
   },
   {
    "duration": 5,
    "start_time": "2022-05-26T16:44:48.389Z"
   },
   {
    "duration": 28,
    "start_time": "2022-05-26T16:44:48.396Z"
   },
   {
    "duration": 65,
    "start_time": "2022-05-26T16:44:48.426Z"
   },
   {
    "duration": 1376,
    "start_time": "2022-05-26T16:44:48.493Z"
   },
   {
    "duration": 65220,
    "start_time": "2022-05-26T16:44:49.874Z"
   },
   {
    "duration": 95,
    "start_time": "2022-05-26T16:45:55.096Z"
   },
   {
    "duration": 287,
    "start_time": "2022-05-26T16:45:55.193Z"
   },
   {
    "duration": 464,
    "start_time": "2022-05-26T16:45:55.482Z"
   },
   {
    "duration": 5,
    "start_time": "2022-05-26T16:45:55.948Z"
   },
   {
    "duration": 15,
    "start_time": "2022-05-26T16:45:55.966Z"
   },
   {
    "duration": 2574,
    "start_time": "2022-05-26T16:45:55.986Z"
   },
   {
    "duration": 46,
    "start_time": "2022-05-26T16:45:58.564Z"
   },
   {
    "duration": 56,
    "start_time": "2022-05-26T16:45:58.612Z"
   },
   {
    "duration": 201,
    "start_time": "2022-05-26T16:45:58.670Z"
   },
   {
    "duration": 13,
    "start_time": "2022-05-26T16:45:58.873Z"
   },
   {
    "duration": 1418,
    "start_time": "2022-05-26T16:47:04.044Z"
   },
   {
    "duration": 1202,
    "start_time": "2022-05-26T16:47:05.466Z"
   },
   {
    "duration": 62,
    "start_time": "2022-05-26T16:47:06.671Z"
   },
   {
    "duration": 19,
    "start_time": "2022-05-26T16:47:06.735Z"
   },
   {
    "duration": 4,
    "start_time": "2022-05-26T16:47:06.756Z"
   },
   {
    "duration": 6,
    "start_time": "2022-05-26T16:47:06.761Z"
   },
   {
    "duration": 30,
    "start_time": "2022-05-26T16:47:06.772Z"
   },
   {
    "duration": 8,
    "start_time": "2022-05-26T16:47:06.804Z"
   },
   {
    "duration": 19,
    "start_time": "2022-05-26T16:47:06.814Z"
   },
   {
    "duration": 6,
    "start_time": "2022-05-26T16:47:06.837Z"
   },
   {
    "duration": 33,
    "start_time": "2022-05-26T16:47:06.845Z"
   },
   {
    "duration": 7,
    "start_time": "2022-05-26T16:47:06.880Z"
   },
   {
    "duration": 14,
    "start_time": "2022-05-26T16:47:06.889Z"
   },
   {
    "duration": 7,
    "start_time": "2022-05-26T16:47:06.904Z"
   },
   {
    "duration": 8,
    "start_time": "2022-05-26T16:47:06.913Z"
   },
   {
    "duration": 16,
    "start_time": "2022-05-26T16:47:06.923Z"
   },
   {
    "duration": 6,
    "start_time": "2022-05-26T16:47:06.941Z"
   },
   {
    "duration": 30,
    "start_time": "2022-05-26T16:47:06.967Z"
   },
   {
    "duration": 6,
    "start_time": "2022-05-26T16:47:06.999Z"
   },
   {
    "duration": 144,
    "start_time": "2022-05-26T16:47:07.006Z"
   },
   {
    "duration": 30,
    "start_time": "2022-05-26T16:47:07.152Z"
   },
   {
    "duration": 147,
    "start_time": "2022-05-26T16:47:07.185Z"
   },
   {
    "duration": 11,
    "start_time": "2022-05-26T16:47:07.334Z"
   },
   {
    "duration": 151,
    "start_time": "2022-05-26T16:47:07.347Z"
   },
   {
    "duration": 13,
    "start_time": "2022-05-26T16:47:07.501Z"
   },
   {
    "duration": 141,
    "start_time": "2022-05-26T16:47:07.517Z"
   },
   {
    "duration": 9,
    "start_time": "2022-05-26T16:47:07.666Z"
   },
   {
    "duration": 136,
    "start_time": "2022-05-26T16:47:07.681Z"
   },
   {
    "duration": 429,
    "start_time": "2022-05-26T16:47:07.819Z"
   },
   {
    "duration": 25,
    "start_time": "2022-05-26T16:47:08.249Z"
   },
   {
    "duration": 6,
    "start_time": "2022-05-26T16:47:08.278Z"
   },
   {
    "duration": 22,
    "start_time": "2022-05-26T16:47:08.286Z"
   },
   {
    "duration": 234,
    "start_time": "2022-05-26T16:47:08.310Z"
   },
   {
    "duration": 5,
    "start_time": "2022-05-26T16:47:08.546Z"
   },
   {
    "duration": 82,
    "start_time": "2022-05-26T16:47:08.553Z"
   },
   {
    "duration": 92,
    "start_time": "2022-05-26T16:47:08.637Z"
   },
   {
    "duration": 191,
    "start_time": "2022-05-26T16:47:08.732Z"
   },
   {
    "duration": 15,
    "start_time": "2022-05-26T16:47:08.925Z"
   },
   {
    "duration": 1443,
    "start_time": "2022-05-26T16:47:08.941Z"
   },
   {
    "duration": 5,
    "start_time": "2022-05-26T16:47:10.387Z"
   },
   {
    "duration": 10198,
    "start_time": "2022-05-26T16:47:10.394Z"
   },
   {
    "duration": 3,
    "start_time": "2022-05-26T16:47:20.595Z"
   },
   {
    "duration": 11,
    "start_time": "2022-05-26T16:47:20.603Z"
   },
   {
    "duration": 8,
    "start_time": "2022-05-26T16:47:20.617Z"
   },
   {
    "duration": 9,
    "start_time": "2022-05-26T16:47:20.627Z"
   },
   {
    "duration": 5,
    "start_time": "2022-05-26T16:47:20.638Z"
   },
   {
    "duration": 11,
    "start_time": "2022-05-26T16:47:20.644Z"
   },
   {
    "duration": 4912,
    "start_time": "2022-05-26T16:47:20.657Z"
   },
   {
    "duration": 212,
    "start_time": "2022-05-26T16:47:25.571Z"
   },
   {
    "duration": 561,
    "start_time": "2022-05-26T16:47:25.785Z"
   },
   {
    "duration": 5,
    "start_time": "2022-05-26T16:47:26.348Z"
   },
   {
    "duration": 37,
    "start_time": "2022-05-26T16:47:26.368Z"
   },
   {
    "duration": 36,
    "start_time": "2022-05-26T16:47:26.407Z"
   },
   {
    "duration": 1341,
    "start_time": "2022-05-26T16:47:26.445Z"
   },
   {
    "duration": 40908,
    "start_time": "2022-05-26T16:47:27.787Z"
   },
   {
    "duration": 100,
    "start_time": "2022-05-26T16:48:08.696Z"
   },
   {
    "duration": 303,
    "start_time": "2022-05-26T16:48:08.798Z"
   },
   {
    "duration": 478,
    "start_time": "2022-05-26T16:48:09.103Z"
   },
   {
    "duration": 4,
    "start_time": "2022-05-26T16:48:09.583Z"
   },
   {
    "duration": 11,
    "start_time": "2022-05-26T16:48:09.589Z"
   },
   {
    "duration": 2480,
    "start_time": "2022-05-26T16:48:09.602Z"
   },
   {
    "duration": 29,
    "start_time": "2022-05-26T16:48:12.084Z"
   },
   {
    "duration": 55,
    "start_time": "2022-05-26T16:48:12.115Z"
   },
   {
    "duration": 150,
    "start_time": "2022-05-26T16:48:12.178Z"
   },
   {
    "duration": 6,
    "start_time": "2022-05-26T16:48:12.330Z"
   },
   {
    "duration": 1428,
    "start_time": "2022-05-26T16:48:56.439Z"
   },
   {
    "duration": 1182,
    "start_time": "2022-05-26T16:48:57.871Z"
   },
   {
    "duration": 72,
    "start_time": "2022-05-26T16:48:59.056Z"
   },
   {
    "duration": 23,
    "start_time": "2022-05-26T16:48:59.130Z"
   },
   {
    "duration": 7,
    "start_time": "2022-05-26T16:48:59.156Z"
   },
   {
    "duration": 27,
    "start_time": "2022-05-26T16:48:59.165Z"
   },
   {
    "duration": 20,
    "start_time": "2022-05-26T16:48:59.194Z"
   },
   {
    "duration": 8,
    "start_time": "2022-05-26T16:48:59.216Z"
   },
   {
    "duration": 20,
    "start_time": "2022-05-26T16:48:59.227Z"
   },
   {
    "duration": 6,
    "start_time": "2022-05-26T16:48:59.249Z"
   },
   {
    "duration": 20,
    "start_time": "2022-05-26T16:48:59.257Z"
   },
   {
    "duration": 9,
    "start_time": "2022-05-26T16:48:59.278Z"
   },
   {
    "duration": 10,
    "start_time": "2022-05-26T16:48:59.289Z"
   },
   {
    "duration": 7,
    "start_time": "2022-05-26T16:48:59.302Z"
   },
   {
    "duration": 8,
    "start_time": "2022-05-26T16:48:59.311Z"
   },
   {
    "duration": 16,
    "start_time": "2022-05-26T16:48:59.320Z"
   },
   {
    "duration": 6,
    "start_time": "2022-05-26T16:48:59.337Z"
   },
   {
    "duration": 5,
    "start_time": "2022-05-26T16:48:59.367Z"
   },
   {
    "duration": 13,
    "start_time": "2022-05-26T16:48:59.373Z"
   },
   {
    "duration": 137,
    "start_time": "2022-05-26T16:48:59.388Z"
   },
   {
    "duration": 9,
    "start_time": "2022-05-26T16:48:59.527Z"
   },
   {
    "duration": 146,
    "start_time": "2022-05-26T16:48:59.538Z"
   },
   {
    "duration": 8,
    "start_time": "2022-05-26T16:48:59.685Z"
   },
   {
    "duration": 136,
    "start_time": "2022-05-26T16:48:59.695Z"
   },
   {
    "duration": 8,
    "start_time": "2022-05-26T16:48:59.833Z"
   },
   {
    "duration": 141,
    "start_time": "2022-05-26T16:48:59.843Z"
   },
   {
    "duration": 5,
    "start_time": "2022-05-26T16:48:59.986Z"
   },
   {
    "duration": 153,
    "start_time": "2022-05-26T16:48:59.992Z"
   },
   {
    "duration": 488,
    "start_time": "2022-05-26T16:49:00.147Z"
   },
   {
    "duration": 9,
    "start_time": "2022-05-26T16:49:00.637Z"
   },
   {
    "duration": 26,
    "start_time": "2022-05-26T16:49:00.647Z"
   },
   {
    "duration": 41,
    "start_time": "2022-05-26T16:49:00.674Z"
   },
   {
    "duration": 230,
    "start_time": "2022-05-26T16:49:00.716Z"
   },
   {
    "duration": 3,
    "start_time": "2022-05-26T16:49:00.948Z"
   },
   {
    "duration": 97,
    "start_time": "2022-05-26T16:49:00.953Z"
   },
   {
    "duration": 226,
    "start_time": "2022-05-26T16:49:01.052Z"
   },
   {
    "duration": 63,
    "start_time": "2022-05-26T16:49:01.281Z"
   },
   {
    "duration": 12,
    "start_time": "2022-05-26T16:49:01.346Z"
   },
   {
    "duration": 1254,
    "start_time": "2022-05-26T16:49:01.360Z"
   },
   {
    "duration": 15,
    "start_time": "2022-05-26T16:49:02.665Z"
   },
   {
    "duration": 9726,
    "start_time": "2022-05-26T16:49:02.685Z"
   },
   {
    "duration": 3,
    "start_time": "2022-05-26T16:49:12.412Z"
   },
   {
    "duration": 5,
    "start_time": "2022-05-26T16:49:12.417Z"
   },
   {
    "duration": 4,
    "start_time": "2022-05-26T16:49:12.424Z"
   },
   {
    "duration": 4,
    "start_time": "2022-05-26T16:49:12.430Z"
   },
   {
    "duration": 8,
    "start_time": "2022-05-26T16:49:12.436Z"
   },
   {
    "duration": 31,
    "start_time": "2022-05-26T16:49:12.446Z"
   },
   {
    "duration": 5287,
    "start_time": "2022-05-26T16:49:12.484Z"
   },
   {
    "duration": 217,
    "start_time": "2022-05-26T16:49:17.773Z"
   },
   {
    "duration": 600,
    "start_time": "2022-05-26T16:49:17.991Z"
   },
   {
    "duration": 5,
    "start_time": "2022-05-26T16:49:18.594Z"
   },
   {
    "duration": 42,
    "start_time": "2022-05-26T16:49:18.601Z"
   },
   {
    "duration": 62,
    "start_time": "2022-05-26T16:49:18.644Z"
   },
   {
    "duration": 1364,
    "start_time": "2022-05-26T16:49:18.708Z"
   },
   {
    "duration": 28827,
    "start_time": "2022-05-26T16:49:20.074Z"
   },
   {
    "duration": 94,
    "start_time": "2022-05-26T16:49:48.903Z"
   },
   {
    "duration": 316,
    "start_time": "2022-05-26T16:49:49.002Z"
   },
   {
    "duration": 430,
    "start_time": "2022-05-26T16:49:49.319Z"
   },
   {
    "duration": 3,
    "start_time": "2022-05-26T16:49:49.751Z"
   },
   {
    "duration": 22,
    "start_time": "2022-05-26T16:49:49.755Z"
   },
   {
    "duration": 2396,
    "start_time": "2022-05-26T16:49:49.779Z"
   },
   {
    "duration": 32,
    "start_time": "2022-05-26T16:49:52.180Z"
   },
   {
    "duration": 67,
    "start_time": "2022-05-26T16:49:52.214Z"
   },
   {
    "duration": 157,
    "start_time": "2022-05-26T16:49:52.284Z"
   },
   {
    "duration": 6,
    "start_time": "2022-05-26T16:49:52.444Z"
   },
   {
    "duration": 1418,
    "start_time": "2022-05-26T16:50:35.286Z"
   },
   {
    "duration": 1199,
    "start_time": "2022-05-26T16:50:36.707Z"
   },
   {
    "duration": 52,
    "start_time": "2022-05-26T16:50:37.909Z"
   },
   {
    "duration": 23,
    "start_time": "2022-05-26T16:50:37.964Z"
   },
   {
    "duration": 5,
    "start_time": "2022-05-26T16:50:37.988Z"
   },
   {
    "duration": 3,
    "start_time": "2022-05-26T16:50:37.996Z"
   },
   {
    "duration": 15,
    "start_time": "2022-05-26T16:50:38.001Z"
   },
   {
    "duration": 7,
    "start_time": "2022-05-26T16:50:38.018Z"
   },
   {
    "duration": 49,
    "start_time": "2022-05-26T16:50:38.027Z"
   },
   {
    "duration": 8,
    "start_time": "2022-05-26T16:50:38.081Z"
   },
   {
    "duration": 9,
    "start_time": "2022-05-26T16:50:38.091Z"
   },
   {
    "duration": 5,
    "start_time": "2022-05-26T16:50:38.102Z"
   },
   {
    "duration": 8,
    "start_time": "2022-05-26T16:50:38.109Z"
   },
   {
    "duration": 5,
    "start_time": "2022-05-26T16:50:38.119Z"
   },
   {
    "duration": 8,
    "start_time": "2022-05-26T16:50:38.126Z"
   },
   {
    "duration": 59,
    "start_time": "2022-05-26T16:50:38.135Z"
   },
   {
    "duration": 6,
    "start_time": "2022-05-26T16:50:38.196Z"
   },
   {
    "duration": 7,
    "start_time": "2022-05-26T16:50:38.203Z"
   },
   {
    "duration": 7,
    "start_time": "2022-05-26T16:50:38.211Z"
   },
   {
    "duration": 138,
    "start_time": "2022-05-26T16:50:38.219Z"
   },
   {
    "duration": 21,
    "start_time": "2022-05-26T16:50:38.359Z"
   },
   {
    "duration": 122,
    "start_time": "2022-05-26T16:50:38.381Z"
   },
   {
    "duration": 7,
    "start_time": "2022-05-26T16:50:38.505Z"
   },
   {
    "duration": 134,
    "start_time": "2022-05-26T16:50:38.514Z"
   },
   {
    "duration": 28,
    "start_time": "2022-05-26T16:50:38.649Z"
   },
   {
    "duration": 129,
    "start_time": "2022-05-26T16:50:38.679Z"
   },
   {
    "duration": 6,
    "start_time": "2022-05-26T16:50:38.810Z"
   },
   {
    "duration": 180,
    "start_time": "2022-05-26T16:50:38.820Z"
   },
   {
    "duration": 501,
    "start_time": "2022-05-26T16:50:39.002Z"
   },
   {
    "duration": 10,
    "start_time": "2022-05-26T16:50:39.505Z"
   },
   {
    "duration": 5,
    "start_time": "2022-05-26T16:50:39.517Z"
   },
   {
    "duration": 58,
    "start_time": "2022-05-26T16:50:39.523Z"
   },
   {
    "duration": 227,
    "start_time": "2022-05-26T16:50:39.583Z"
   },
   {
    "duration": 5,
    "start_time": "2022-05-26T16:50:39.812Z"
   },
   {
    "duration": 78,
    "start_time": "2022-05-26T16:50:39.819Z"
   },
   {
    "duration": 83,
    "start_time": "2022-05-26T16:50:39.899Z"
   },
   {
    "duration": 169,
    "start_time": "2022-05-26T16:50:39.985Z"
   },
   {
    "duration": 28,
    "start_time": "2022-05-26T16:50:40.156Z"
   },
   {
    "duration": 704,
    "start_time": "2022-05-26T16:50:40.186Z"
   },
   {
    "duration": 5,
    "start_time": "2022-05-26T16:50:40.891Z"
   },
   {
    "duration": 10409,
    "start_time": "2022-05-26T16:50:40.897Z"
   },
   {
    "duration": 3,
    "start_time": "2022-05-26T16:50:51.308Z"
   },
   {
    "duration": 6,
    "start_time": "2022-05-26T16:50:51.313Z"
   },
   {
    "duration": 5,
    "start_time": "2022-05-26T16:50:51.320Z"
   },
   {
    "duration": 5,
    "start_time": "2022-05-26T16:50:51.327Z"
   },
   {
    "duration": 5,
    "start_time": "2022-05-26T16:50:51.334Z"
   },
   {
    "duration": 24,
    "start_time": "2022-05-26T16:50:51.341Z"
   },
   {
    "duration": 5696,
    "start_time": "2022-05-26T16:50:51.373Z"
   },
   {
    "duration": 232,
    "start_time": "2022-05-26T16:50:57.073Z"
   },
   {
    "duration": 654,
    "start_time": "2022-05-26T16:50:57.307Z"
   },
   {
    "duration": 13,
    "start_time": "2022-05-26T16:50:57.963Z"
   },
   {
    "duration": 55,
    "start_time": "2022-05-26T16:50:57.982Z"
   },
   {
    "duration": 44,
    "start_time": "2022-05-26T16:50:58.039Z"
   },
   {
    "duration": 1399,
    "start_time": "2022-05-26T16:50:58.086Z"
   },
   {
    "duration": 40102,
    "start_time": "2022-05-26T16:50:59.487Z"
   },
   {
    "duration": 94,
    "start_time": "2022-05-26T16:51:39.591Z"
   },
   {
    "duration": 296,
    "start_time": "2022-05-26T16:51:39.687Z"
   },
   {
    "duration": 462,
    "start_time": "2022-05-26T16:51:39.987Z"
   },
   {
    "duration": 4,
    "start_time": "2022-05-26T16:51:40.451Z"
   },
   {
    "duration": 14,
    "start_time": "2022-05-26T16:51:40.456Z"
   },
   {
    "duration": 2481,
    "start_time": "2022-05-26T16:51:40.472Z"
   },
   {
    "duration": 40,
    "start_time": "2022-05-26T16:51:42.955Z"
   },
   {
    "duration": 40,
    "start_time": "2022-05-26T16:51:42.997Z"
   },
   {
    "duration": 186,
    "start_time": "2022-05-26T16:51:43.039Z"
   },
   {
    "duration": 9,
    "start_time": "2022-05-26T16:51:43.227Z"
   },
   {
    "duration": 1472,
    "start_time": "2022-05-26T16:53:09.980Z"
   },
   {
    "duration": 1285,
    "start_time": "2022-05-26T16:53:11.455Z"
   },
   {
    "duration": 61,
    "start_time": "2022-05-26T16:53:12.742Z"
   },
   {
    "duration": 19,
    "start_time": "2022-05-26T16:53:12.805Z"
   },
   {
    "duration": 4,
    "start_time": "2022-05-26T16:53:12.827Z"
   },
   {
    "duration": 3,
    "start_time": "2022-05-26T16:53:12.833Z"
   },
   {
    "duration": 33,
    "start_time": "2022-05-26T16:53:12.838Z"
   },
   {
    "duration": 9,
    "start_time": "2022-05-26T16:53:12.879Z"
   },
   {
    "duration": 18,
    "start_time": "2022-05-26T16:53:12.890Z"
   },
   {
    "duration": 14,
    "start_time": "2022-05-26T16:53:12.909Z"
   },
   {
    "duration": 17,
    "start_time": "2022-05-26T16:53:12.925Z"
   },
   {
    "duration": 8,
    "start_time": "2022-05-26T16:53:12.965Z"
   },
   {
    "duration": 21,
    "start_time": "2022-05-26T16:53:12.975Z"
   },
   {
    "duration": 7,
    "start_time": "2022-05-26T16:53:13.000Z"
   },
   {
    "duration": 14,
    "start_time": "2022-05-26T16:53:13.009Z"
   },
   {
    "duration": 20,
    "start_time": "2022-05-26T16:53:13.025Z"
   },
   {
    "duration": 14,
    "start_time": "2022-05-26T16:53:13.064Z"
   },
   {
    "duration": 11,
    "start_time": "2022-05-26T16:53:13.080Z"
   },
   {
    "duration": 7,
    "start_time": "2022-05-26T16:53:13.094Z"
   },
   {
    "duration": 158,
    "start_time": "2022-05-26T16:53:13.103Z"
   },
   {
    "duration": 17,
    "start_time": "2022-05-26T16:53:13.262Z"
   },
   {
    "duration": 144,
    "start_time": "2022-05-26T16:53:13.286Z"
   },
   {
    "duration": 10,
    "start_time": "2022-05-26T16:53:13.432Z"
   },
   {
    "duration": 152,
    "start_time": "2022-05-26T16:53:13.444Z"
   },
   {
    "duration": 12,
    "start_time": "2022-05-26T16:53:13.599Z"
   },
   {
    "duration": 178,
    "start_time": "2022-05-26T16:53:13.614Z"
   },
   {
    "duration": 6,
    "start_time": "2022-05-26T16:53:13.795Z"
   },
   {
    "duration": 181,
    "start_time": "2022-05-26T16:53:13.803Z"
   },
   {
    "duration": 458,
    "start_time": "2022-05-26T16:53:13.986Z"
   },
   {
    "duration": 24,
    "start_time": "2022-05-26T16:53:14.446Z"
   },
   {
    "duration": 9,
    "start_time": "2022-05-26T16:53:14.472Z"
   },
   {
    "duration": 29,
    "start_time": "2022-05-26T16:53:14.483Z"
   },
   {
    "duration": 476,
    "start_time": "2022-05-26T16:53:14.514Z"
   },
   {
    "duration": 5,
    "start_time": "2022-05-26T16:53:14.993Z"
   },
   {
    "duration": 183,
    "start_time": "2022-05-26T16:53:15.001Z"
   },
   {
    "duration": 481,
    "start_time": "2022-05-26T16:53:15.187Z"
   },
   {
    "duration": 123,
    "start_time": "2022-05-26T16:53:15.670Z"
   },
   {
    "duration": 11,
    "start_time": "2022-05-26T16:53:15.795Z"
   },
   {
    "duration": 1482,
    "start_time": "2022-05-26T16:53:15.808Z"
   },
   {
    "duration": 5,
    "start_time": "2022-05-26T16:53:17.292Z"
   },
   {
    "duration": 9561,
    "start_time": "2022-05-26T16:53:17.301Z"
   },
   {
    "duration": 11,
    "start_time": "2022-05-26T16:53:26.864Z"
   },
   {
    "duration": 10,
    "start_time": "2022-05-26T16:53:26.876Z"
   },
   {
    "duration": 7,
    "start_time": "2022-05-26T16:53:26.888Z"
   },
   {
    "duration": 5,
    "start_time": "2022-05-26T16:53:26.896Z"
   },
   {
    "duration": 5,
    "start_time": "2022-05-26T16:53:26.903Z"
   },
   {
    "duration": 6,
    "start_time": "2022-05-26T16:53:26.909Z"
   },
   {
    "duration": 5363,
    "start_time": "2022-05-26T16:53:26.916Z"
   },
   {
    "duration": 299,
    "start_time": "2022-05-26T16:53:32.281Z"
   },
   {
    "duration": 576,
    "start_time": "2022-05-26T16:53:32.584Z"
   },
   {
    "duration": 5,
    "start_time": "2022-05-26T16:53:33.169Z"
   },
   {
    "duration": 38,
    "start_time": "2022-05-26T16:53:33.176Z"
   },
   {
    "duration": 37,
    "start_time": "2022-05-26T16:53:33.216Z"
   },
   {
    "duration": 1413,
    "start_time": "2022-05-26T16:53:33.255Z"
   },
   {
    "duration": 41424,
    "start_time": "2022-05-26T16:53:34.671Z"
   },
   {
    "duration": 99,
    "start_time": "2022-05-26T16:54:16.097Z"
   },
   {
    "duration": 250,
    "start_time": "2022-05-26T16:54:16.265Z"
   },
   {
    "duration": 457,
    "start_time": "2022-05-26T16:54:16.518Z"
   },
   {
    "duration": 5,
    "start_time": "2022-05-26T16:54:16.976Z"
   },
   {
    "duration": 10,
    "start_time": "2022-05-26T16:54:16.983Z"
   },
   {
    "duration": 2687,
    "start_time": "2022-05-26T16:54:16.995Z"
   },
   {
    "duration": 31,
    "start_time": "2022-05-26T16:54:19.684Z"
   },
   {
    "duration": 65,
    "start_time": "2022-05-26T16:54:19.717Z"
   },
   {
    "duration": 155,
    "start_time": "2022-05-26T16:54:19.784Z"
   },
   {
    "duration": 8,
    "start_time": "2022-05-26T16:54:19.942Z"
   },
   {
    "duration": 1504,
    "start_time": "2022-05-26T16:54:31.045Z"
   },
   {
    "duration": 1351,
    "start_time": "2022-05-26T16:54:32.551Z"
   },
   {
    "duration": 57,
    "start_time": "2022-05-26T16:54:33.904Z"
   },
   {
    "duration": 25,
    "start_time": "2022-05-26T16:54:33.964Z"
   },
   {
    "duration": 7,
    "start_time": "2022-05-26T16:54:33.992Z"
   },
   {
    "duration": 14,
    "start_time": "2022-05-26T16:54:34.000Z"
   },
   {
    "duration": 18,
    "start_time": "2022-05-26T16:54:34.016Z"
   },
   {
    "duration": 31,
    "start_time": "2022-05-26T16:54:34.037Z"
   },
   {
    "duration": 21,
    "start_time": "2022-05-26T16:54:34.073Z"
   },
   {
    "duration": 6,
    "start_time": "2022-05-26T16:54:34.097Z"
   },
   {
    "duration": 11,
    "start_time": "2022-05-26T16:54:34.105Z"
   },
   {
    "duration": 6,
    "start_time": "2022-05-26T16:54:34.117Z"
   },
   {
    "duration": 10,
    "start_time": "2022-05-26T16:54:34.125Z"
   },
   {
    "duration": 42,
    "start_time": "2022-05-26T16:54:34.136Z"
   },
   {
    "duration": 21,
    "start_time": "2022-05-26T16:54:34.180Z"
   },
   {
    "duration": 21,
    "start_time": "2022-05-26T16:54:34.203Z"
   },
   {
    "duration": 20,
    "start_time": "2022-05-26T16:54:34.226Z"
   },
   {
    "duration": 11,
    "start_time": "2022-05-26T16:54:34.247Z"
   },
   {
    "duration": 10,
    "start_time": "2022-05-26T16:54:34.260Z"
   },
   {
    "duration": 165,
    "start_time": "2022-05-26T16:54:34.271Z"
   },
   {
    "duration": 9,
    "start_time": "2022-05-26T16:54:34.438Z"
   },
   {
    "duration": 157,
    "start_time": "2022-05-26T16:54:34.449Z"
   },
   {
    "duration": 10,
    "start_time": "2022-05-26T16:54:34.608Z"
   },
   {
    "duration": 148,
    "start_time": "2022-05-26T16:54:34.620Z"
   },
   {
    "duration": 9,
    "start_time": "2022-05-26T16:54:34.770Z"
   },
   {
    "duration": 152,
    "start_time": "2022-05-26T16:54:34.781Z"
   },
   {
    "duration": 5,
    "start_time": "2022-05-26T16:54:34.935Z"
   },
   {
    "duration": 155,
    "start_time": "2022-05-26T16:54:34.964Z"
   },
   {
    "duration": 486,
    "start_time": "2022-05-26T16:54:35.121Z"
   },
   {
    "duration": 9,
    "start_time": "2022-05-26T16:54:35.609Z"
   },
   {
    "duration": 6,
    "start_time": "2022-05-26T16:54:35.619Z"
   },
   {
    "duration": 56,
    "start_time": "2022-05-26T16:54:35.627Z"
   },
   {
    "duration": 252,
    "start_time": "2022-05-26T16:54:35.685Z"
   },
   {
    "duration": 5,
    "start_time": "2022-05-26T16:54:35.939Z"
   },
   {
    "duration": 81,
    "start_time": "2022-05-26T16:54:35.946Z"
   },
   {
    "duration": 98,
    "start_time": "2022-05-26T16:54:36.029Z"
   },
   {
    "duration": 198,
    "start_time": "2022-05-26T16:54:36.129Z"
   },
   {
    "duration": 13,
    "start_time": "2022-05-26T16:54:36.329Z"
   },
   {
    "duration": 787,
    "start_time": "2022-05-26T16:54:36.344Z"
   },
   {
    "duration": 6,
    "start_time": "2022-05-26T16:54:37.133Z"
   },
   {
    "duration": 9466,
    "start_time": "2022-05-26T16:54:37.141Z"
   },
   {
    "duration": 3,
    "start_time": "2022-05-26T16:54:46.609Z"
   },
   {
    "duration": 18,
    "start_time": "2022-05-26T16:54:46.613Z"
   },
   {
    "duration": 29,
    "start_time": "2022-05-26T16:54:46.632Z"
   },
   {
    "duration": 25,
    "start_time": "2022-05-26T16:54:46.663Z"
   },
   {
    "duration": 19,
    "start_time": "2022-05-26T16:54:46.691Z"
   },
   {
    "duration": 24,
    "start_time": "2022-05-26T16:54:46.712Z"
   },
   {
    "duration": 5330,
    "start_time": "2022-05-26T16:54:46.738Z"
   },
   {
    "duration": 222,
    "start_time": "2022-05-26T16:54:52.074Z"
   },
   {
    "duration": 598,
    "start_time": "2022-05-26T16:54:52.298Z"
   },
   {
    "duration": 5,
    "start_time": "2022-05-26T16:54:52.898Z"
   },
   {
    "duration": 39,
    "start_time": "2022-05-26T16:54:52.905Z"
   },
   {
    "duration": 55,
    "start_time": "2022-05-26T16:54:52.946Z"
   },
   {
    "duration": 1461,
    "start_time": "2022-05-26T16:54:53.003Z"
   },
   {
    "duration": 43120,
    "start_time": "2022-05-26T16:54:54.467Z"
   },
   {
    "duration": 99,
    "start_time": "2022-05-26T16:55:37.590Z"
   },
   {
    "duration": 290,
    "start_time": "2022-05-26T16:55:37.692Z"
   },
   {
    "duration": 452,
    "start_time": "2022-05-26T16:55:37.983Z"
   },
   {
    "duration": 4,
    "start_time": "2022-05-26T16:55:38.438Z"
   },
   {
    "duration": 27,
    "start_time": "2022-05-26T16:55:38.444Z"
   },
   {
    "duration": 2525,
    "start_time": "2022-05-26T16:55:38.473Z"
   },
   {
    "duration": 29,
    "start_time": "2022-05-26T16:55:41.000Z"
   },
   {
    "duration": 60,
    "start_time": "2022-05-26T16:55:41.031Z"
   },
   {
    "duration": 154,
    "start_time": "2022-05-26T16:55:41.093Z"
   },
   {
    "duration": 20,
    "start_time": "2022-05-26T16:55:41.248Z"
   },
   {
    "duration": 1669,
    "start_time": "2022-05-26T16:56:00.870Z"
   },
   {
    "duration": 1340,
    "start_time": "2022-05-26T16:56:02.542Z"
   },
   {
    "duration": 55,
    "start_time": "2022-05-26T16:56:03.887Z"
   },
   {
    "duration": 21,
    "start_time": "2022-05-26T16:56:03.944Z"
   },
   {
    "duration": 13,
    "start_time": "2022-05-26T16:56:03.970Z"
   },
   {
    "duration": 4,
    "start_time": "2022-05-26T16:56:03.985Z"
   },
   {
    "duration": 16,
    "start_time": "2022-05-26T16:56:03.991Z"
   },
   {
    "duration": 8,
    "start_time": "2022-05-26T16:56:04.009Z"
   },
   {
    "duration": 18,
    "start_time": "2022-05-26T16:56:04.020Z"
   },
   {
    "duration": 13,
    "start_time": "2022-05-26T16:56:04.066Z"
   },
   {
    "duration": 9,
    "start_time": "2022-05-26T16:56:04.080Z"
   },
   {
    "duration": 5,
    "start_time": "2022-05-26T16:56:04.091Z"
   },
   {
    "duration": 8,
    "start_time": "2022-05-26T16:56:04.098Z"
   },
   {
    "duration": 8,
    "start_time": "2022-05-26T16:56:04.108Z"
   },
   {
    "duration": 13,
    "start_time": "2022-05-26T16:56:04.117Z"
   },
   {
    "duration": 40,
    "start_time": "2022-05-26T16:56:04.132Z"
   },
   {
    "duration": 6,
    "start_time": "2022-05-26T16:56:04.182Z"
   },
   {
    "duration": 7,
    "start_time": "2022-05-26T16:56:04.190Z"
   },
   {
    "duration": 6,
    "start_time": "2022-05-26T16:56:04.198Z"
   },
   {
    "duration": 160,
    "start_time": "2022-05-26T16:56:04.206Z"
   },
   {
    "duration": 18,
    "start_time": "2022-05-26T16:56:04.368Z"
   },
   {
    "duration": 139,
    "start_time": "2022-05-26T16:56:04.388Z"
   },
   {
    "duration": 17,
    "start_time": "2022-05-26T16:56:04.530Z"
   },
   {
    "duration": 150,
    "start_time": "2022-05-26T16:56:04.549Z"
   },
   {
    "duration": 9,
    "start_time": "2022-05-26T16:56:04.701Z"
   },
   {
    "duration": 167,
    "start_time": "2022-05-26T16:56:04.712Z"
   },
   {
    "duration": 6,
    "start_time": "2022-05-26T16:56:04.881Z"
   },
   {
    "duration": 157,
    "start_time": "2022-05-26T16:56:04.892Z"
   },
   {
    "duration": 473,
    "start_time": "2022-05-26T16:56:05.051Z"
   },
   {
    "duration": 9,
    "start_time": "2022-05-26T16:56:05.525Z"
   },
   {
    "duration": 9,
    "start_time": "2022-05-26T16:56:05.536Z"
   },
   {
    "duration": 40,
    "start_time": "2022-05-26T16:56:05.546Z"
   },
   {
    "duration": 253,
    "start_time": "2022-05-26T16:56:05.588Z"
   },
   {
    "duration": 5,
    "start_time": "2022-05-26T16:56:05.843Z"
   },
   {
    "duration": 78,
    "start_time": "2022-05-26T16:56:05.850Z"
   },
   {
    "duration": 101,
    "start_time": "2022-05-26T16:56:05.930Z"
   },
   {
    "duration": 190,
    "start_time": "2022-05-26T16:56:06.032Z"
   },
   {
    "duration": 12,
    "start_time": "2022-05-26T16:56:06.224Z"
   },
   {
    "duration": 762,
    "start_time": "2022-05-26T16:56:06.238Z"
   },
   {
    "duration": 4,
    "start_time": "2022-05-26T16:56:07.003Z"
   },
   {
    "duration": 11691,
    "start_time": "2022-05-26T16:56:07.009Z"
   },
   {
    "duration": 2,
    "start_time": "2022-05-26T16:56:18.702Z"
   },
   {
    "duration": 10,
    "start_time": "2022-05-26T16:56:18.706Z"
   },
   {
    "duration": 6,
    "start_time": "2022-05-26T16:56:18.718Z"
   },
   {
    "duration": 7,
    "start_time": "2022-05-26T16:56:18.726Z"
   },
   {
    "duration": 7,
    "start_time": "2022-05-26T16:56:18.735Z"
   },
   {
    "duration": 42,
    "start_time": "2022-05-26T16:56:18.745Z"
   },
   {
    "duration": 7576,
    "start_time": "2022-05-26T16:56:18.789Z"
   },
   {
    "duration": 156,
    "start_time": "2022-05-26T16:56:26.367Z"
   },
   {
    "duration": 579,
    "start_time": "2022-05-26T16:56:26.525Z"
   },
   {
    "duration": 6,
    "start_time": "2022-05-26T16:56:27.107Z"
   },
   {
    "duration": 61,
    "start_time": "2022-05-26T16:56:27.116Z"
   },
   {
    "duration": 40,
    "start_time": "2022-05-26T16:56:27.181Z"
   },
   {
    "duration": 1445,
    "start_time": "2022-05-26T16:56:27.223Z"
   },
   {
    "duration": 41520,
    "start_time": "2022-05-26T16:56:28.669Z"
   },
   {
    "duration": 93,
    "start_time": "2022-05-26T16:57:10.191Z"
   },
   {
    "duration": 293,
    "start_time": "2022-05-26T16:57:10.290Z"
   },
   {
    "duration": 458,
    "start_time": "2022-05-26T16:57:10.588Z"
   },
   {
    "duration": 5,
    "start_time": "2022-05-26T16:57:11.048Z"
   },
   {
    "duration": 18,
    "start_time": "2022-05-26T16:57:11.066Z"
   },
   {
    "duration": 2450,
    "start_time": "2022-05-26T16:57:11.087Z"
   },
   {
    "duration": 38,
    "start_time": "2022-05-26T16:57:13.539Z"
   },
   {
    "duration": 40,
    "start_time": "2022-05-26T16:57:13.578Z"
   },
   {
    "duration": 185,
    "start_time": "2022-05-26T16:57:13.619Z"
   },
   {
    "duration": 8,
    "start_time": "2022-05-26T16:57:13.806Z"
   },
   {
    "duration": 1505,
    "start_time": "2022-05-26T16:57:29.796Z"
   },
   {
    "duration": 1325,
    "start_time": "2022-05-26T16:57:31.303Z"
   },
   {
    "duration": 64,
    "start_time": "2022-05-26T16:57:32.630Z"
   },
   {
    "duration": 21,
    "start_time": "2022-05-26T16:57:32.696Z"
   },
   {
    "duration": 5,
    "start_time": "2022-05-26T16:57:32.719Z"
   },
   {
    "duration": 5,
    "start_time": "2022-05-26T16:57:32.726Z"
   },
   {
    "duration": 33,
    "start_time": "2022-05-26T16:57:32.733Z"
   },
   {
    "duration": 17,
    "start_time": "2022-05-26T16:57:32.767Z"
   },
   {
    "duration": 25,
    "start_time": "2022-05-26T16:57:32.786Z"
   },
   {
    "duration": 7,
    "start_time": "2022-05-26T16:57:32.815Z"
   },
   {
    "duration": 11,
    "start_time": "2022-05-26T16:57:32.824Z"
   },
   {
    "duration": 38,
    "start_time": "2022-05-26T16:57:32.837Z"
   },
   {
    "duration": 16,
    "start_time": "2022-05-26T16:57:32.879Z"
   },
   {
    "duration": 7,
    "start_time": "2022-05-26T16:57:32.897Z"
   },
   {
    "duration": 10,
    "start_time": "2022-05-26T16:57:32.905Z"
   },
   {
    "duration": 28,
    "start_time": "2022-05-26T16:57:32.917Z"
   },
   {
    "duration": 19,
    "start_time": "2022-05-26T16:57:32.947Z"
   },
   {
    "duration": 44,
    "start_time": "2022-05-26T16:57:32.967Z"
   },
   {
    "duration": 8,
    "start_time": "2022-05-26T16:57:33.013Z"
   },
   {
    "duration": 147,
    "start_time": "2022-05-26T16:57:33.023Z"
   },
   {
    "duration": 13,
    "start_time": "2022-05-26T16:57:33.177Z"
   },
   {
    "duration": 145,
    "start_time": "2022-05-26T16:57:33.192Z"
   },
   {
    "duration": 10,
    "start_time": "2022-05-26T16:57:33.339Z"
   },
   {
    "duration": 148,
    "start_time": "2022-05-26T16:57:33.351Z"
   },
   {
    "duration": 9,
    "start_time": "2022-05-26T16:57:33.501Z"
   },
   {
    "duration": 174,
    "start_time": "2022-05-26T16:57:33.512Z"
   },
   {
    "duration": 7,
    "start_time": "2022-05-26T16:57:33.688Z"
   },
   {
    "duration": 171,
    "start_time": "2022-05-26T16:57:33.701Z"
   },
   {
    "duration": 456,
    "start_time": "2022-05-26T16:57:33.874Z"
   },
   {
    "duration": 8,
    "start_time": "2022-05-26T16:57:34.332Z"
   },
   {
    "duration": 6,
    "start_time": "2022-05-26T16:57:34.342Z"
   },
   {
    "duration": 32,
    "start_time": "2022-05-26T16:57:34.372Z"
   },
   {
    "duration": 244,
    "start_time": "2022-05-26T16:57:34.405Z"
   },
   {
    "duration": 5,
    "start_time": "2022-05-26T16:57:34.650Z"
   },
   {
    "duration": 86,
    "start_time": "2022-05-26T16:57:34.657Z"
   },
   {
    "duration": 110,
    "start_time": "2022-05-26T16:57:34.746Z"
   },
   {
    "duration": 188,
    "start_time": "2022-05-26T16:57:34.858Z"
   },
   {
    "duration": 34,
    "start_time": "2022-05-26T16:57:35.047Z"
   },
   {
    "duration": 717,
    "start_time": "2022-05-26T16:57:35.083Z"
   },
   {
    "duration": 4,
    "start_time": "2022-05-26T16:57:35.802Z"
   },
   {
    "duration": 10776,
    "start_time": "2022-05-26T16:57:35.807Z"
   },
   {
    "duration": 3,
    "start_time": "2022-05-26T16:57:46.585Z"
   },
   {
    "duration": 12,
    "start_time": "2022-05-26T16:57:46.591Z"
   },
   {
    "duration": 9,
    "start_time": "2022-05-26T16:57:46.605Z"
   },
   {
    "duration": 8,
    "start_time": "2022-05-26T16:57:46.616Z"
   },
   {
    "duration": 8,
    "start_time": "2022-05-26T16:57:46.626Z"
   },
   {
    "duration": 6,
    "start_time": "2022-05-26T16:57:46.635Z"
   },
   {
    "duration": 5928,
    "start_time": "2022-05-26T16:57:46.643Z"
   },
   {
    "duration": 219,
    "start_time": "2022-05-26T16:57:52.573Z"
   },
   {
    "duration": 620,
    "start_time": "2022-05-26T16:57:52.794Z"
   },
   {
    "duration": 5,
    "start_time": "2022-05-26T16:57:53.416Z"
   },
   {
    "duration": 55,
    "start_time": "2022-05-26T16:57:53.423Z"
   },
   {
    "duration": 39,
    "start_time": "2022-05-26T16:57:53.484Z"
   },
   {
    "duration": 1359,
    "start_time": "2022-05-26T16:57:53.524Z"
   },
   {
    "duration": 41102,
    "start_time": "2022-05-26T16:57:54.886Z"
   },
   {
    "duration": 104,
    "start_time": "2022-05-26T16:58:35.990Z"
   },
   {
    "duration": 299,
    "start_time": "2022-05-26T16:58:36.096Z"
   },
   {
    "duration": 469,
    "start_time": "2022-05-26T16:58:36.397Z"
   },
   {
    "duration": 9,
    "start_time": "2022-05-26T16:58:36.872Z"
   },
   {
    "duration": 9,
    "start_time": "2022-05-26T16:58:36.884Z"
   },
   {
    "duration": 2526,
    "start_time": "2022-05-26T16:58:36.895Z"
   },
   {
    "duration": 32,
    "start_time": "2022-05-26T16:58:39.422Z"
   },
   {
    "duration": 39,
    "start_time": "2022-05-26T16:58:39.470Z"
   },
   {
    "duration": 165,
    "start_time": "2022-05-26T16:58:39.511Z"
   },
   {
    "duration": 8,
    "start_time": "2022-05-26T16:58:39.681Z"
   },
   {
    "duration": 1451,
    "start_time": "2022-05-26T16:59:15.908Z"
   },
   {
    "duration": 1268,
    "start_time": "2022-05-26T16:59:17.361Z"
   },
   {
    "duration": 64,
    "start_time": "2022-05-26T16:59:18.631Z"
   },
   {
    "duration": 20,
    "start_time": "2022-05-26T16:59:18.697Z"
   },
   {
    "duration": 4,
    "start_time": "2022-05-26T16:59:18.719Z"
   },
   {
    "duration": 4,
    "start_time": "2022-05-26T16:59:18.725Z"
   },
   {
    "duration": 49,
    "start_time": "2022-05-26T16:59:18.730Z"
   },
   {
    "duration": 8,
    "start_time": "2022-05-26T16:59:18.781Z"
   },
   {
    "duration": 18,
    "start_time": "2022-05-26T16:59:18.791Z"
   },
   {
    "duration": 6,
    "start_time": "2022-05-26T16:59:18.812Z"
   },
   {
    "duration": 11,
    "start_time": "2022-05-26T16:59:18.820Z"
   },
   {
    "duration": 5,
    "start_time": "2022-05-26T16:59:18.832Z"
   },
   {
    "duration": 51,
    "start_time": "2022-05-26T16:59:18.840Z"
   },
   {
    "duration": 24,
    "start_time": "2022-05-26T16:59:18.894Z"
   },
   {
    "duration": 15,
    "start_time": "2022-05-26T16:59:18.920Z"
   },
   {
    "duration": 19,
    "start_time": "2022-05-26T16:59:18.937Z"
   },
   {
    "duration": 15,
    "start_time": "2022-05-26T16:59:18.959Z"
   },
   {
    "duration": 24,
    "start_time": "2022-05-26T16:59:18.976Z"
   },
   {
    "duration": 15,
    "start_time": "2022-05-26T16:59:19.002Z"
   },
   {
    "duration": 186,
    "start_time": "2022-05-26T16:59:19.019Z"
   },
   {
    "duration": 10,
    "start_time": "2022-05-26T16:59:19.208Z"
   },
   {
    "duration": 163,
    "start_time": "2022-05-26T16:59:19.221Z"
   },
   {
    "duration": 10,
    "start_time": "2022-05-26T16:59:19.386Z"
   },
   {
    "duration": 132,
    "start_time": "2022-05-26T16:59:19.397Z"
   },
   {
    "duration": 8,
    "start_time": "2022-05-26T16:59:19.531Z"
   },
   {
    "duration": 152,
    "start_time": "2022-05-26T16:59:19.540Z"
   },
   {
    "duration": 5,
    "start_time": "2022-05-26T16:59:19.694Z"
   },
   {
    "duration": 157,
    "start_time": "2022-05-26T16:59:19.704Z"
   },
   {
    "duration": 452,
    "start_time": "2022-05-26T16:59:19.864Z"
   },
   {
    "duration": 8,
    "start_time": "2022-05-26T16:59:20.318Z"
   },
   {
    "duration": 5,
    "start_time": "2022-05-26T16:59:20.328Z"
   },
   {
    "duration": 46,
    "start_time": "2022-05-26T16:59:20.335Z"
   },
   {
    "duration": 321,
    "start_time": "2022-05-26T16:59:20.383Z"
   },
   {
    "duration": 5,
    "start_time": "2022-05-26T16:59:20.705Z"
   },
   {
    "duration": 131,
    "start_time": "2022-05-26T16:59:20.765Z"
   },
   {
    "duration": 193,
    "start_time": "2022-05-26T16:59:20.899Z"
   },
   {
    "duration": 388,
    "start_time": "2022-05-26T16:59:21.093Z"
   },
   {
    "duration": 12,
    "start_time": "2022-05-26T16:59:21.483Z"
   },
   {
    "duration": 1506,
    "start_time": "2022-05-26T16:59:21.497Z"
   },
   {
    "duration": 5,
    "start_time": "2022-05-26T16:59:23.008Z"
   },
   {
    "duration": 9370,
    "start_time": "2022-05-26T16:59:23.014Z"
   },
   {
    "duration": 2,
    "start_time": "2022-05-26T16:59:32.387Z"
   },
   {
    "duration": 11,
    "start_time": "2022-05-26T16:59:32.391Z"
   },
   {
    "duration": 7,
    "start_time": "2022-05-26T16:59:32.404Z"
   },
   {
    "duration": 9,
    "start_time": "2022-05-26T16:59:32.412Z"
   },
   {
    "duration": 10,
    "start_time": "2022-05-26T16:59:32.423Z"
   },
   {
    "duration": 8,
    "start_time": "2022-05-26T16:59:32.435Z"
   },
   {
    "duration": 5332,
    "start_time": "2022-05-26T16:59:32.445Z"
   },
   {
    "duration": 213,
    "start_time": "2022-05-26T16:59:37.784Z"
   },
   {
    "duration": 620,
    "start_time": "2022-05-26T16:59:37.999Z"
   },
   {
    "duration": 6,
    "start_time": "2022-05-26T16:59:38.621Z"
   },
   {
    "duration": 45,
    "start_time": "2022-05-26T16:59:38.629Z"
   },
   {
    "duration": 50,
    "start_time": "2022-05-26T16:59:38.677Z"
   },
   {
    "duration": 1443,
    "start_time": "2022-05-26T16:59:38.729Z"
   },
   {
    "duration": 39397,
    "start_time": "2022-05-26T16:59:40.174Z"
   },
   {
    "duration": 107,
    "start_time": "2022-05-26T17:00:19.574Z"
   },
   {
    "duration": 260,
    "start_time": "2022-05-26T17:00:19.684Z"
   },
   {
    "duration": 478,
    "start_time": "2022-05-26T17:00:19.946Z"
   },
   {
    "duration": 4,
    "start_time": "2022-05-26T17:00:20.426Z"
   },
   {
    "duration": 14,
    "start_time": "2022-05-26T17:00:20.432Z"
   },
   {
    "duration": 2653,
    "start_time": "2022-05-26T17:00:20.447Z"
   },
   {
    "duration": 31,
    "start_time": "2022-05-26T17:00:23.102Z"
   },
   {
    "duration": 69,
    "start_time": "2022-05-26T17:00:23.135Z"
   },
   {
    "duration": 169,
    "start_time": "2022-05-26T17:00:23.206Z"
   },
   {
    "duration": 8,
    "start_time": "2022-05-26T17:00:23.379Z"
   },
   {
    "duration": 1535,
    "start_time": "2022-05-26T17:01:13.044Z"
   },
   {
    "duration": 1344,
    "start_time": "2022-05-26T17:01:14.584Z"
   },
   {
    "duration": 74,
    "start_time": "2022-05-26T17:01:15.930Z"
   },
   {
    "duration": 30,
    "start_time": "2022-05-26T17:01:16.006Z"
   },
   {
    "duration": 5,
    "start_time": "2022-05-26T17:01:16.039Z"
   },
   {
    "duration": 41,
    "start_time": "2022-05-26T17:01:16.046Z"
   },
   {
    "duration": 18,
    "start_time": "2022-05-26T17:01:16.089Z"
   },
   {
    "duration": 9,
    "start_time": "2022-05-26T17:01:16.109Z"
   },
   {
    "duration": 18,
    "start_time": "2022-05-26T17:01:16.120Z"
   },
   {
    "duration": 8,
    "start_time": "2022-05-26T17:01:16.140Z"
   },
   {
    "duration": 39,
    "start_time": "2022-05-26T17:01:16.150Z"
   },
   {
    "duration": 6,
    "start_time": "2022-05-26T17:01:16.191Z"
   },
   {
    "duration": 9,
    "start_time": "2022-05-26T17:01:16.199Z"
   },
   {
    "duration": 7,
    "start_time": "2022-05-26T17:01:16.212Z"
   },
   {
    "duration": 16,
    "start_time": "2022-05-26T17:01:16.221Z"
   },
   {
    "duration": 31,
    "start_time": "2022-05-26T17:01:16.239Z"
   },
   {
    "duration": 6,
    "start_time": "2022-05-26T17:01:16.276Z"
   },
   {
    "duration": 7,
    "start_time": "2022-05-26T17:01:16.286Z"
   },
   {
    "duration": 7,
    "start_time": "2022-05-26T17:01:16.295Z"
   },
   {
    "duration": 184,
    "start_time": "2022-05-26T17:01:16.304Z"
   },
   {
    "duration": 8,
    "start_time": "2022-05-26T17:01:16.491Z"
   },
   {
    "duration": 149,
    "start_time": "2022-05-26T17:01:16.501Z"
   },
   {
    "duration": 27,
    "start_time": "2022-05-26T17:01:16.652Z"
   },
   {
    "duration": 143,
    "start_time": "2022-05-26T17:01:16.682Z"
   },
   {
    "duration": 11,
    "start_time": "2022-05-26T17:01:16.828Z"
   },
   {
    "duration": 172,
    "start_time": "2022-05-26T17:01:16.841Z"
   },
   {
    "duration": 7,
    "start_time": "2022-05-26T17:01:17.015Z"
   },
   {
    "duration": 172,
    "start_time": "2022-05-26T17:01:17.024Z"
   },
   {
    "duration": 474,
    "start_time": "2022-05-26T17:01:17.198Z"
   },
   {
    "duration": 13,
    "start_time": "2022-05-26T17:01:17.674Z"
   },
   {
    "duration": 6,
    "start_time": "2022-05-26T17:01:17.689Z"
   },
   {
    "duration": 24,
    "start_time": "2022-05-26T17:01:17.696Z"
   },
   {
    "duration": 270,
    "start_time": "2022-05-26T17:01:17.722Z"
   },
   {
    "duration": 5,
    "start_time": "2022-05-26T17:01:17.994Z"
   },
   {
    "duration": 95,
    "start_time": "2022-05-26T17:01:18.002Z"
   },
   {
    "duration": 211,
    "start_time": "2022-05-26T17:01:18.099Z"
   },
   {
    "duration": 71,
    "start_time": "2022-05-26T17:01:18.312Z"
   },
   {
    "duration": 12,
    "start_time": "2022-05-26T17:01:18.385Z"
   },
   {
    "duration": 761,
    "start_time": "2022-05-26T17:01:18.398Z"
   },
   {
    "duration": 10,
    "start_time": "2022-05-26T17:01:19.164Z"
   },
   {
    "duration": 10296,
    "start_time": "2022-05-26T17:01:19.184Z"
   },
   {
    "duration": 3,
    "start_time": "2022-05-26T17:01:29.481Z"
   },
   {
    "duration": 6,
    "start_time": "2022-05-26T17:01:29.485Z"
   },
   {
    "duration": 7,
    "start_time": "2022-05-26T17:01:29.492Z"
   },
   {
    "duration": 4,
    "start_time": "2022-05-26T17:01:29.501Z"
   },
   {
    "duration": 4,
    "start_time": "2022-05-26T17:01:29.507Z"
   },
   {
    "duration": 6,
    "start_time": "2022-05-26T17:01:29.513Z"
   },
   {
    "duration": 5453,
    "start_time": "2022-05-26T17:01:29.521Z"
   },
   {
    "duration": 209,
    "start_time": "2022-05-26T17:01:34.979Z"
   },
   {
    "duration": 565,
    "start_time": "2022-05-26T17:01:35.190Z"
   },
   {
    "duration": 13,
    "start_time": "2022-05-26T17:01:35.756Z"
   },
   {
    "duration": 43,
    "start_time": "2022-05-26T17:01:35.771Z"
   },
   {
    "duration": 37,
    "start_time": "2022-05-26T17:01:35.816Z"
   },
   {
    "duration": 1319,
    "start_time": "2022-05-26T17:01:35.868Z"
   },
   {
    "duration": 39305,
    "start_time": "2022-05-26T17:01:37.189Z"
   },
   {
    "duration": 103,
    "start_time": "2022-05-26T17:02:16.496Z"
   },
   {
    "duration": 316,
    "start_time": "2022-05-26T17:02:16.601Z"
   },
   {
    "duration": 461,
    "start_time": "2022-05-26T17:02:16.919Z"
   },
   {
    "duration": 4,
    "start_time": "2022-05-26T17:02:17.382Z"
   },
   {
    "duration": 17,
    "start_time": "2022-05-26T17:02:17.388Z"
   },
   {
    "duration": 2501,
    "start_time": "2022-05-26T17:02:17.407Z"
   },
   {
    "duration": 29,
    "start_time": "2022-05-26T17:02:19.910Z"
   },
   {
    "duration": 56,
    "start_time": "2022-05-26T17:02:19.941Z"
   },
   {
    "duration": 187,
    "start_time": "2022-05-26T17:02:19.999Z"
   },
   {
    "duration": 7,
    "start_time": "2022-05-26T17:02:20.190Z"
   },
   {
    "duration": 1485,
    "start_time": "2022-05-26T17:02:33.472Z"
   },
   {
    "duration": 2327,
    "start_time": "2022-05-26T17:02:34.960Z"
   },
   {
    "duration": 99,
    "start_time": "2022-05-26T17:02:37.290Z"
   },
   {
    "duration": 86,
    "start_time": "2022-05-26T17:02:37.392Z"
   },
   {
    "duration": 4,
    "start_time": "2022-05-26T17:02:37.481Z"
   },
   {
    "duration": 14,
    "start_time": "2022-05-26T17:02:37.487Z"
   },
   {
    "duration": 62,
    "start_time": "2022-05-26T17:02:37.503Z"
   },
   {
    "duration": 25,
    "start_time": "2022-05-26T17:02:37.569Z"
   },
   {
    "duration": 23,
    "start_time": "2022-05-26T17:02:37.596Z"
   },
   {
    "duration": 53,
    "start_time": "2022-05-26T17:02:37.620Z"
   },
   {
    "duration": 14,
    "start_time": "2022-05-26T17:02:37.674Z"
   },
   {
    "duration": 8,
    "start_time": "2022-05-26T17:02:37.690Z"
   },
   {
    "duration": 15,
    "start_time": "2022-05-26T17:02:37.700Z"
   },
   {
    "duration": 13,
    "start_time": "2022-05-26T17:02:37.764Z"
   },
   {
    "duration": 31,
    "start_time": "2022-05-26T17:02:37.779Z"
   },
   {
    "duration": 69,
    "start_time": "2022-05-26T17:02:37.812Z"
   },
   {
    "duration": 5,
    "start_time": "2022-05-26T17:02:37.886Z"
   },
   {
    "duration": 7,
    "start_time": "2022-05-26T17:02:37.893Z"
   },
   {
    "duration": 6,
    "start_time": "2022-05-26T17:02:37.902Z"
   },
   {
    "duration": 235,
    "start_time": "2022-05-26T17:02:37.910Z"
   },
   {
    "duration": 21,
    "start_time": "2022-05-26T17:02:38.147Z"
   },
   {
    "duration": 142,
    "start_time": "2022-05-26T17:02:38.171Z"
   },
   {
    "duration": 12,
    "start_time": "2022-05-26T17:02:38.315Z"
   },
   {
    "duration": 150,
    "start_time": "2022-05-26T17:02:38.329Z"
   },
   {
    "duration": 9,
    "start_time": "2022-05-26T17:02:38.480Z"
   },
   {
    "duration": 164,
    "start_time": "2022-05-26T17:02:38.491Z"
   },
   {
    "duration": 11,
    "start_time": "2022-05-26T17:02:38.657Z"
   },
   {
    "duration": 164,
    "start_time": "2022-05-26T17:02:38.678Z"
   },
   {
    "duration": 572,
    "start_time": "2022-05-26T17:02:38.851Z"
   },
   {
    "duration": 10,
    "start_time": "2022-05-26T17:02:39.425Z"
   },
   {
    "duration": 6,
    "start_time": "2022-05-26T17:02:39.437Z"
   },
   {
    "duration": 44,
    "start_time": "2022-05-26T17:02:39.444Z"
   },
   {
    "duration": 245,
    "start_time": "2022-05-26T17:02:39.490Z"
   },
   {
    "duration": 4,
    "start_time": "2022-05-26T17:02:39.737Z"
   },
   {
    "duration": 79,
    "start_time": "2022-05-26T17:02:39.743Z"
   },
   {
    "duration": 220,
    "start_time": "2022-05-26T17:02:39.824Z"
   },
   {
    "duration": 72,
    "start_time": "2022-05-26T17:02:40.046Z"
   },
   {
    "duration": 11,
    "start_time": "2022-05-26T17:02:40.121Z"
   },
   {
    "duration": 753,
    "start_time": "2022-05-26T17:02:40.134Z"
   },
   {
    "duration": 6,
    "start_time": "2022-05-26T17:02:40.889Z"
   },
   {
    "duration": 9733,
    "start_time": "2022-05-26T17:02:40.901Z"
   },
   {
    "duration": 3,
    "start_time": "2022-05-26T17:02:50.636Z"
   },
   {
    "duration": 20,
    "start_time": "2022-05-26T17:02:50.641Z"
   },
   {
    "duration": 18,
    "start_time": "2022-05-26T17:02:50.664Z"
   },
   {
    "duration": 19,
    "start_time": "2022-05-26T17:02:50.684Z"
   },
   {
    "duration": 16,
    "start_time": "2022-05-26T17:02:50.705Z"
   },
   {
    "duration": 15,
    "start_time": "2022-05-26T17:02:50.724Z"
   },
   {
    "duration": 6344,
    "start_time": "2022-05-26T17:02:50.742Z"
   },
   {
    "duration": 293,
    "start_time": "2022-05-26T17:02:57.089Z"
   },
   {
    "duration": 641,
    "start_time": "2022-05-26T17:02:57.385Z"
   },
   {
    "duration": 5,
    "start_time": "2022-05-26T17:02:58.028Z"
   },
   {
    "duration": 46,
    "start_time": "2022-05-26T17:02:58.034Z"
   },
   {
    "duration": 38,
    "start_time": "2022-05-26T17:02:58.082Z"
   },
   {
    "duration": 1352,
    "start_time": "2022-05-26T17:02:58.122Z"
   },
   {
    "duration": 39613,
    "start_time": "2022-05-26T17:02:59.476Z"
   },
   {
    "duration": 98,
    "start_time": "2022-05-26T17:03:39.092Z"
   },
   {
    "duration": 288,
    "start_time": "2022-05-26T17:03:39.192Z"
   },
   {
    "duration": 451,
    "start_time": "2022-05-26T17:03:39.482Z"
   },
   {
    "duration": 4,
    "start_time": "2022-05-26T17:03:39.935Z"
   },
   {
    "duration": 9,
    "start_time": "2022-05-26T17:03:39.941Z"
   },
   {
    "duration": 2485,
    "start_time": "2022-05-26T17:03:39.965Z"
   },
   {
    "duration": 36,
    "start_time": "2022-05-26T17:03:42.452Z"
   },
   {
    "duration": 38,
    "start_time": "2022-05-26T17:03:42.490Z"
   },
   {
    "duration": 188,
    "start_time": "2022-05-26T17:03:42.531Z"
   },
   {
    "duration": 8,
    "start_time": "2022-05-26T17:03:42.720Z"
   },
   {
    "duration": 1463,
    "start_time": "2022-05-26T17:03:59.186Z"
   },
   {
    "duration": 1290,
    "start_time": "2022-05-26T17:04:00.651Z"
   },
   {
    "duration": 67,
    "start_time": "2022-05-26T17:04:01.944Z"
   },
   {
    "duration": 24,
    "start_time": "2022-05-26T17:04:02.014Z"
   },
   {
    "duration": 7,
    "start_time": "2022-05-26T17:04:02.040Z"
   },
   {
    "duration": 6,
    "start_time": "2022-05-26T17:04:02.049Z"
   },
   {
    "duration": 42,
    "start_time": "2022-05-26T17:04:02.057Z"
   },
   {
    "duration": 12,
    "start_time": "2022-05-26T17:04:02.101Z"
   },
   {
    "duration": 35,
    "start_time": "2022-05-26T17:04:02.115Z"
   },
   {
    "duration": 7,
    "start_time": "2022-05-26T17:04:02.153Z"
   },
   {
    "duration": 31,
    "start_time": "2022-05-26T17:04:02.162Z"
   },
   {
    "duration": 8,
    "start_time": "2022-05-26T17:04:02.195Z"
   },
   {
    "duration": 13,
    "start_time": "2022-05-26T17:04:02.205Z"
   },
   {
    "duration": 9,
    "start_time": "2022-05-26T17:04:02.220Z"
   },
   {
    "duration": 24,
    "start_time": "2022-05-26T17:04:02.230Z"
   },
   {
    "duration": 40,
    "start_time": "2022-05-26T17:04:02.256Z"
   },
   {
    "duration": 10,
    "start_time": "2022-05-26T17:04:02.298Z"
   },
   {
    "duration": 12,
    "start_time": "2022-05-26T17:04:02.310Z"
   },
   {
    "duration": 11,
    "start_time": "2022-05-26T17:04:02.324Z"
   },
   {
    "duration": 163,
    "start_time": "2022-05-26T17:04:02.337Z"
   },
   {
    "duration": 9,
    "start_time": "2022-05-26T17:04:02.502Z"
   },
   {
    "duration": 159,
    "start_time": "2022-05-26T17:04:02.513Z"
   },
   {
    "duration": 9,
    "start_time": "2022-05-26T17:04:02.674Z"
   },
   {
    "duration": 143,
    "start_time": "2022-05-26T17:04:02.685Z"
   },
   {
    "duration": 10,
    "start_time": "2022-05-26T17:04:02.830Z"
   },
   {
    "duration": 171,
    "start_time": "2022-05-26T17:04:02.842Z"
   },
   {
    "duration": 7,
    "start_time": "2022-05-26T17:04:03.015Z"
   },
   {
    "duration": 180,
    "start_time": "2022-05-26T17:04:03.027Z"
   },
   {
    "duration": 486,
    "start_time": "2022-05-26T17:04:03.209Z"
   },
   {
    "duration": 11,
    "start_time": "2022-05-26T17:04:03.698Z"
   },
   {
    "duration": 9,
    "start_time": "2022-05-26T17:04:03.711Z"
   },
   {
    "duration": 21,
    "start_time": "2022-05-26T17:04:03.721Z"
   },
   {
    "duration": 233,
    "start_time": "2022-05-26T17:04:03.770Z"
   },
   {
    "duration": 6,
    "start_time": "2022-05-26T17:04:04.006Z"
   },
   {
    "duration": 88,
    "start_time": "2022-05-26T17:04:04.013Z"
   },
   {
    "duration": 114,
    "start_time": "2022-05-26T17:04:04.103Z"
   },
   {
    "duration": 202,
    "start_time": "2022-05-26T17:04:04.220Z"
   },
   {
    "duration": 11,
    "start_time": "2022-05-26T17:04:04.424Z"
   },
   {
    "duration": 850,
    "start_time": "2022-05-26T17:04:04.437Z"
   },
   {
    "duration": 5,
    "start_time": "2022-05-26T17:04:05.289Z"
   },
   {
    "duration": 10247,
    "start_time": "2022-05-26T17:04:05.296Z"
   },
   {
    "duration": 3,
    "start_time": "2022-05-26T17:04:15.544Z"
   },
   {
    "duration": 22,
    "start_time": "2022-05-26T17:04:15.549Z"
   },
   {
    "duration": 13,
    "start_time": "2022-05-26T17:04:15.576Z"
   },
   {
    "duration": 6,
    "start_time": "2022-05-26T17:04:15.592Z"
   },
   {
    "duration": 6,
    "start_time": "2022-05-26T17:04:15.600Z"
   },
   {
    "duration": 5,
    "start_time": "2022-05-26T17:04:15.608Z"
   },
   {
    "duration": 6259,
    "start_time": "2022-05-26T17:04:15.615Z"
   },
   {
    "duration": 209,
    "start_time": "2022-05-26T17:04:21.876Z"
   },
   {
    "duration": 571,
    "start_time": "2022-05-26T17:04:22.087Z"
   },
   {
    "duration": 7,
    "start_time": "2022-05-26T17:04:22.666Z"
   },
   {
    "duration": 48,
    "start_time": "2022-05-26T17:04:22.674Z"
   },
   {
    "duration": 36,
    "start_time": "2022-05-26T17:04:22.724Z"
   },
   {
    "duration": 1395,
    "start_time": "2022-05-26T17:04:22.770Z"
   },
   {
    "duration": 39400,
    "start_time": "2022-05-26T17:04:24.169Z"
   },
   {
    "duration": 107,
    "start_time": "2022-05-26T17:05:03.571Z"
   },
   {
    "duration": 262,
    "start_time": "2022-05-26T17:05:03.680Z"
   },
   {
    "duration": 455,
    "start_time": "2022-05-26T17:05:03.944Z"
   },
   {
    "duration": 4,
    "start_time": "2022-05-26T17:05:04.401Z"
   },
   {
    "duration": 10,
    "start_time": "2022-05-26T17:05:04.407Z"
   },
   {
    "duration": 2545,
    "start_time": "2022-05-26T17:05:04.418Z"
   },
   {
    "duration": 43,
    "start_time": "2022-05-26T17:05:06.967Z"
   },
   {
    "duration": 78,
    "start_time": "2022-05-26T17:05:07.013Z"
   },
   {
    "duration": 225,
    "start_time": "2022-05-26T17:05:07.094Z"
   },
   {
    "duration": 9,
    "start_time": "2022-05-26T17:05:07.321Z"
   },
   {
    "duration": 1533,
    "start_time": "2022-05-26T17:06:40.007Z"
   },
   {
    "duration": 1318,
    "start_time": "2022-05-26T17:06:41.542Z"
   },
   {
    "duration": 74,
    "start_time": "2022-05-26T17:06:42.862Z"
   },
   {
    "duration": 34,
    "start_time": "2022-05-26T17:06:42.939Z"
   },
   {
    "duration": 8,
    "start_time": "2022-05-26T17:06:42.975Z"
   },
   {
    "duration": 6,
    "start_time": "2022-05-26T17:06:42.985Z"
   },
   {
    "duration": 24,
    "start_time": "2022-05-26T17:06:42.993Z"
   },
   {
    "duration": 9,
    "start_time": "2022-05-26T17:06:43.019Z"
   },
   {
    "duration": 19,
    "start_time": "2022-05-26T17:06:43.030Z"
   },
   {
    "duration": 19,
    "start_time": "2022-05-26T17:06:43.051Z"
   },
   {
    "duration": 11,
    "start_time": "2022-05-26T17:06:43.071Z"
   },
   {
    "duration": 9,
    "start_time": "2022-05-26T17:06:43.084Z"
   },
   {
    "duration": 14,
    "start_time": "2022-05-26T17:06:43.094Z"
   },
   {
    "duration": 6,
    "start_time": "2022-05-26T17:06:43.111Z"
   },
   {
    "duration": 9,
    "start_time": "2022-05-26T17:06:43.119Z"
   },
   {
    "duration": 13,
    "start_time": "2022-05-26T17:06:43.130Z"
   },
   {
    "duration": 9,
    "start_time": "2022-05-26T17:06:43.164Z"
   },
   {
    "duration": 23,
    "start_time": "2022-05-26T17:06:43.174Z"
   },
   {
    "duration": 6,
    "start_time": "2022-05-26T17:06:43.198Z"
   },
   {
    "duration": 135,
    "start_time": "2022-05-26T17:06:43.206Z"
   },
   {
    "duration": 10,
    "start_time": "2022-05-26T17:06:43.343Z"
   },
   {
    "duration": 132,
    "start_time": "2022-05-26T17:06:43.367Z"
   },
   {
    "duration": 10,
    "start_time": "2022-05-26T17:06:43.501Z"
   },
   {
    "duration": 150,
    "start_time": "2022-05-26T17:06:43.512Z"
   },
   {
    "duration": 12,
    "start_time": "2022-05-26T17:06:43.668Z"
   },
   {
    "duration": 153,
    "start_time": "2022-05-26T17:06:43.684Z"
   },
   {
    "duration": 7,
    "start_time": "2022-05-26T17:06:43.839Z"
   },
   {
    "duration": 157,
    "start_time": "2022-05-26T17:06:43.847Z"
   },
   {
    "duration": 438,
    "start_time": "2022-05-26T17:06:44.006Z"
   },
   {
    "duration": 9,
    "start_time": "2022-05-26T17:06:44.445Z"
   },
   {
    "duration": 13,
    "start_time": "2022-05-26T17:06:44.465Z"
   },
   {
    "duration": 25,
    "start_time": "2022-05-26T17:06:44.480Z"
   },
   {
    "duration": 241,
    "start_time": "2022-05-26T17:06:44.507Z"
   },
   {
    "duration": 5,
    "start_time": "2022-05-26T17:06:44.750Z"
   },
   {
    "duration": 69,
    "start_time": "2022-05-26T17:06:44.765Z"
   },
   {
    "duration": 238,
    "start_time": "2022-05-26T17:06:44.836Z"
   },
   {
    "duration": 58,
    "start_time": "2022-05-26T17:06:45.076Z"
   },
   {
    "duration": 28,
    "start_time": "2022-05-26T17:06:45.137Z"
   },
   {
    "duration": 739,
    "start_time": "2022-05-26T17:06:45.168Z"
   },
   {
    "duration": 5,
    "start_time": "2022-05-26T17:06:45.908Z"
   },
   {
    "duration": 10967,
    "start_time": "2022-05-26T17:06:45.919Z"
   },
   {
    "duration": 3,
    "start_time": "2022-05-26T17:06:56.888Z"
   },
   {
    "duration": 27,
    "start_time": "2022-05-26T17:06:56.892Z"
   },
   {
    "duration": 12,
    "start_time": "2022-05-26T17:06:56.921Z"
   },
   {
    "duration": 21,
    "start_time": "2022-05-26T17:06:56.935Z"
   },
   {
    "duration": 28,
    "start_time": "2022-05-26T17:06:56.958Z"
   },
   {
    "duration": 25,
    "start_time": "2022-05-26T17:06:56.988Z"
   },
   {
    "duration": 4968,
    "start_time": "2022-05-26T17:06:57.014Z"
   },
   {
    "duration": 218,
    "start_time": "2022-05-26T17:07:02.066Z"
   },
   {
    "duration": 672,
    "start_time": "2022-05-26T17:07:02.287Z"
   },
   {
    "duration": 9,
    "start_time": "2022-05-26T17:07:02.961Z"
   },
   {
    "duration": 49,
    "start_time": "2022-05-26T17:07:02.972Z"
   },
   {
    "duration": 47,
    "start_time": "2022-05-26T17:07:03.023Z"
   },
   {
    "duration": 1399,
    "start_time": "2022-05-26T17:07:03.072Z"
   },
   {
    "duration": 39042,
    "start_time": "2022-05-26T17:07:04.473Z"
   },
   {
    "duration": 109,
    "start_time": "2022-05-26T17:07:43.517Z"
   },
   {
    "duration": 289,
    "start_time": "2022-05-26T17:07:43.638Z"
   },
   {
    "duration": 482,
    "start_time": "2022-05-26T17:07:43.929Z"
   },
   {
    "duration": 4,
    "start_time": "2022-05-26T17:07:44.413Z"
   },
   {
    "duration": 24,
    "start_time": "2022-05-26T17:07:44.419Z"
   },
   {
    "duration": 2512,
    "start_time": "2022-05-26T17:07:44.445Z"
   },
   {
    "duration": 35,
    "start_time": "2022-05-26T17:07:46.959Z"
   },
   {
    "duration": 41,
    "start_time": "2022-05-26T17:07:46.996Z"
   },
   {
    "duration": 187,
    "start_time": "2022-05-26T17:07:47.038Z"
   },
   {
    "duration": 6,
    "start_time": "2022-05-26T17:07:47.228Z"
   },
   {
    "duration": 1598,
    "start_time": "2022-05-26T17:07:57.609Z"
   },
   {
    "duration": 1249,
    "start_time": "2022-05-26T17:07:59.210Z"
   },
   {
    "duration": 66,
    "start_time": "2022-05-26T17:08:00.461Z"
   },
   {
    "duration": 19,
    "start_time": "2022-05-26T17:08:00.530Z"
   },
   {
    "duration": 5,
    "start_time": "2022-05-26T17:08:00.551Z"
   },
   {
    "duration": 28,
    "start_time": "2022-05-26T17:08:00.558Z"
   },
   {
    "duration": 27,
    "start_time": "2022-05-26T17:08:00.591Z"
   },
   {
    "duration": 15,
    "start_time": "2022-05-26T17:08:00.620Z"
   },
   {
    "duration": 46,
    "start_time": "2022-05-26T17:08:00.637Z"
   },
   {
    "duration": 19,
    "start_time": "2022-05-26T17:08:00.687Z"
   },
   {
    "duration": 23,
    "start_time": "2022-05-26T17:08:00.708Z"
   },
   {
    "duration": 37,
    "start_time": "2022-05-26T17:08:00.732Z"
   },
   {
    "duration": 32,
    "start_time": "2022-05-26T17:08:00.773Z"
   },
   {
    "duration": 19,
    "start_time": "2022-05-26T17:08:00.807Z"
   },
   {
    "duration": 27,
    "start_time": "2022-05-26T17:08:00.828Z"
   },
   {
    "duration": 61,
    "start_time": "2022-05-26T17:08:00.857Z"
   },
   {
    "duration": 6,
    "start_time": "2022-05-26T17:08:00.921Z"
   },
   {
    "duration": 37,
    "start_time": "2022-05-26T17:08:00.929Z"
   },
   {
    "duration": 25,
    "start_time": "2022-05-26T17:08:00.970Z"
   },
   {
    "duration": 151,
    "start_time": "2022-05-26T17:08:00.997Z"
   },
   {
    "duration": 25,
    "start_time": "2022-05-26T17:08:01.150Z"
   },
   {
    "duration": 144,
    "start_time": "2022-05-26T17:08:01.181Z"
   },
   {
    "duration": 9,
    "start_time": "2022-05-26T17:08:01.327Z"
   },
   {
    "duration": 168,
    "start_time": "2022-05-26T17:08:01.338Z"
   },
   {
    "duration": 9,
    "start_time": "2022-05-26T17:08:01.508Z"
   },
   {
    "duration": 164,
    "start_time": "2022-05-26T17:08:01.519Z"
   },
   {
    "duration": 6,
    "start_time": "2022-05-26T17:08:01.685Z"
   },
   {
    "duration": 167,
    "start_time": "2022-05-26T17:08:01.695Z"
   },
   {
    "duration": 480,
    "start_time": "2022-05-26T17:08:01.864Z"
   },
   {
    "duration": 9,
    "start_time": "2022-05-26T17:08:02.346Z"
   },
   {
    "duration": 7,
    "start_time": "2022-05-26T17:08:02.364Z"
   },
   {
    "duration": 33,
    "start_time": "2022-05-26T17:08:02.374Z"
   },
   {
    "duration": 243,
    "start_time": "2022-05-26T17:08:02.410Z"
   },
   {
    "duration": 9,
    "start_time": "2022-05-26T17:08:02.655Z"
   },
   {
    "duration": 71,
    "start_time": "2022-05-26T17:08:02.673Z"
   },
   {
    "duration": 90,
    "start_time": "2022-05-26T17:08:02.747Z"
   },
   {
    "duration": 193,
    "start_time": "2022-05-26T17:08:02.839Z"
   },
   {
    "duration": 13,
    "start_time": "2022-05-26T17:08:03.034Z"
   },
   {
    "duration": 753,
    "start_time": "2022-05-26T17:08:03.049Z"
   },
   {
    "duration": 5,
    "start_time": "2022-05-26T17:08:03.804Z"
   },
   {
    "duration": 10942,
    "start_time": "2022-05-26T17:08:03.811Z"
   },
   {
    "duration": 13,
    "start_time": "2022-05-26T17:08:14.755Z"
   },
   {
    "duration": 12,
    "start_time": "2022-05-26T17:08:14.770Z"
   },
   {
    "duration": 5,
    "start_time": "2022-05-26T17:08:14.784Z"
   },
   {
    "duration": 6,
    "start_time": "2022-05-26T17:08:14.791Z"
   },
   {
    "duration": 5,
    "start_time": "2022-05-26T17:08:14.798Z"
   },
   {
    "duration": 5,
    "start_time": "2022-05-26T17:08:14.805Z"
   },
   {
    "duration": 5185,
    "start_time": "2022-05-26T17:08:14.812Z"
   },
   {
    "duration": 217,
    "start_time": "2022-05-26T17:08:20.070Z"
   },
   {
    "duration": 661,
    "start_time": "2022-05-26T17:08:20.291Z"
   },
   {
    "duration": 13,
    "start_time": "2022-05-26T17:08:20.954Z"
   },
   {
    "duration": 70,
    "start_time": "2022-05-26T17:08:20.969Z"
   },
   {
    "duration": 46,
    "start_time": "2022-05-26T17:08:21.041Z"
   },
   {
    "duration": 1387,
    "start_time": "2022-05-26T17:08:21.089Z"
   },
   {
    "duration": 39918,
    "start_time": "2022-05-26T17:08:22.479Z"
   },
   {
    "duration": 98,
    "start_time": "2022-05-26T17:09:02.399Z"
   },
   {
    "duration": 300,
    "start_time": "2022-05-26T17:09:02.499Z"
   },
   {
    "duration": 445,
    "start_time": "2022-05-26T17:09:02.801Z"
   },
   {
    "duration": 4,
    "start_time": "2022-05-26T17:09:03.248Z"
   },
   {
    "duration": 38,
    "start_time": "2022-05-26T17:09:03.254Z"
   },
   {
    "duration": 2416,
    "start_time": "2022-05-26T17:09:03.294Z"
   },
   {
    "duration": 30,
    "start_time": "2022-05-26T17:09:05.711Z"
   },
   {
    "duration": 59,
    "start_time": "2022-05-26T17:09:05.743Z"
   },
   {
    "duration": 176,
    "start_time": "2022-05-26T17:09:05.804Z"
   },
   {
    "duration": 6,
    "start_time": "2022-05-26T17:09:05.984Z"
   },
   {
    "duration": 1506,
    "start_time": "2022-05-26T17:09:20.845Z"
   },
   {
    "duration": 1344,
    "start_time": "2022-05-26T17:09:22.354Z"
   },
   {
    "duration": 53,
    "start_time": "2022-05-26T17:09:23.703Z"
   },
   {
    "duration": 39,
    "start_time": "2022-05-26T17:09:23.758Z"
   },
   {
    "duration": 8,
    "start_time": "2022-05-26T17:09:23.800Z"
   },
   {
    "duration": 4,
    "start_time": "2022-05-26T17:09:23.810Z"
   },
   {
    "duration": 59,
    "start_time": "2022-05-26T17:09:23.815Z"
   },
   {
    "duration": 11,
    "start_time": "2022-05-26T17:09:23.875Z"
   },
   {
    "duration": 85,
    "start_time": "2022-05-26T17:09:23.888Z"
   },
   {
    "duration": 8,
    "start_time": "2022-05-26T17:09:23.982Z"
   },
   {
    "duration": 18,
    "start_time": "2022-05-26T17:09:23.992Z"
   },
   {
    "duration": 6,
    "start_time": "2022-05-26T17:09:24.012Z"
   },
   {
    "duration": 60,
    "start_time": "2022-05-26T17:09:24.020Z"
   },
   {
    "duration": 27,
    "start_time": "2022-05-26T17:09:24.084Z"
   },
   {
    "duration": 55,
    "start_time": "2022-05-26T17:09:24.113Z"
   },
   {
    "duration": 22,
    "start_time": "2022-05-26T17:09:24.170Z"
   },
   {
    "duration": 18,
    "start_time": "2022-05-26T17:09:24.194Z"
   },
   {
    "duration": 57,
    "start_time": "2022-05-26T17:09:24.214Z"
   },
   {
    "duration": 7,
    "start_time": "2022-05-26T17:09:24.273Z"
   },
   {
    "duration": 322,
    "start_time": "2022-05-26T17:09:24.281Z"
   },
   {
    "duration": 60,
    "start_time": "2022-05-26T17:09:24.605Z"
   },
   {
    "duration": 315,
    "start_time": "2022-05-26T17:09:24.667Z"
   },
   {
    "duration": 13,
    "start_time": "2022-05-26T17:09:24.986Z"
   },
   {
    "duration": 308,
    "start_time": "2022-05-26T17:09:25.001Z"
   },
   {
    "duration": 15,
    "start_time": "2022-05-26T17:09:25.365Z"
   },
   {
    "duration": 326,
    "start_time": "2022-05-26T17:09:25.382Z"
   },
   {
    "duration": 58,
    "start_time": "2022-05-26T17:09:25.711Z"
   },
   {
    "duration": 330,
    "start_time": "2022-05-26T17:09:25.771Z"
   },
   {
    "duration": 436,
    "start_time": "2022-05-26T17:09:26.102Z"
   },
   {
    "duration": 9,
    "start_time": "2022-05-26T17:09:26.539Z"
   },
   {
    "duration": 17,
    "start_time": "2022-05-26T17:09:26.549Z"
   },
   {
    "duration": 39,
    "start_time": "2022-05-26T17:09:26.568Z"
   },
   {
    "duration": 217,
    "start_time": "2022-05-26T17:09:26.609Z"
   },
   {
    "duration": 4,
    "start_time": "2022-05-26T17:09:26.827Z"
   },
   {
    "duration": 85,
    "start_time": "2022-05-26T17:09:26.833Z"
   },
   {
    "duration": 198,
    "start_time": "2022-05-26T17:09:26.920Z"
   },
   {
    "duration": 67,
    "start_time": "2022-05-26T17:09:27.120Z"
   },
   {
    "duration": 11,
    "start_time": "2022-05-26T17:09:27.189Z"
   },
   {
    "duration": 723,
    "start_time": "2022-05-26T17:09:27.202Z"
   },
   {
    "duration": 4,
    "start_time": "2022-05-26T17:09:27.927Z"
   },
   {
    "duration": 9058,
    "start_time": "2022-05-26T17:09:27.935Z"
   },
   {
    "duration": 2,
    "start_time": "2022-05-26T17:09:36.995Z"
   },
   {
    "duration": 9,
    "start_time": "2022-05-26T17:09:36.999Z"
   },
   {
    "duration": 4,
    "start_time": "2022-05-26T17:09:37.010Z"
   },
   {
    "duration": 5,
    "start_time": "2022-05-26T17:09:37.016Z"
   },
   {
    "duration": 4,
    "start_time": "2022-05-26T17:09:37.022Z"
   },
   {
    "duration": 4,
    "start_time": "2022-05-26T17:09:37.028Z"
   },
   {
    "duration": 5832,
    "start_time": "2022-05-26T17:09:37.034Z"
   },
   {
    "duration": 212,
    "start_time": "2022-05-26T17:09:42.871Z"
   },
   {
    "duration": 597,
    "start_time": "2022-05-26T17:09:43.085Z"
   },
   {
    "duration": 7,
    "start_time": "2022-05-26T17:09:43.684Z"
   },
   {
    "duration": 39,
    "start_time": "2022-05-26T17:09:43.693Z"
   },
   {
    "duration": 60,
    "start_time": "2022-05-26T17:09:43.735Z"
   },
   {
    "duration": 1378,
    "start_time": "2022-05-26T17:09:43.797Z"
   },
   {
    "duration": 40440,
    "start_time": "2022-05-26T17:09:45.177Z"
   },
   {
    "duration": 92,
    "start_time": "2022-05-26T17:10:25.620Z"
   },
   {
    "duration": 281,
    "start_time": "2022-05-26T17:10:25.714Z"
   },
   {
    "duration": 509,
    "start_time": "2022-05-26T17:10:25.997Z"
   },
   {
    "duration": 5,
    "start_time": "2022-05-26T17:10:26.508Z"
   },
   {
    "duration": 9,
    "start_time": "2022-05-26T17:10:26.519Z"
   },
   {
    "duration": 2796,
    "start_time": "2022-05-26T17:10:26.531Z"
   },
   {
    "duration": 46,
    "start_time": "2022-05-26T17:10:29.330Z"
   },
   {
    "duration": 52,
    "start_time": "2022-05-26T17:10:29.379Z"
   },
   {
    "duration": 190,
    "start_time": "2022-05-26T17:10:29.434Z"
   },
   {
    "duration": 9,
    "start_time": "2022-05-26T17:10:29.626Z"
   },
   {
    "duration": 1661,
    "start_time": "2022-05-26T17:10:59.293Z"
   },
   {
    "duration": 1435,
    "start_time": "2022-05-26T17:11:00.957Z"
   },
   {
    "duration": 60,
    "start_time": "2022-05-26T17:11:02.395Z"
   },
   {
    "duration": 34,
    "start_time": "2022-05-26T17:11:02.457Z"
   },
   {
    "duration": 7,
    "start_time": "2022-05-26T17:11:02.496Z"
   },
   {
    "duration": 6,
    "start_time": "2022-05-26T17:11:02.505Z"
   },
   {
    "duration": 23,
    "start_time": "2022-05-26T17:11:02.513Z"
   },
   {
    "duration": 36,
    "start_time": "2022-05-26T17:11:02.538Z"
   },
   {
    "duration": 57,
    "start_time": "2022-05-26T17:11:02.577Z"
   },
   {
    "duration": 9,
    "start_time": "2022-05-26T17:11:02.636Z"
   },
   {
    "duration": 23,
    "start_time": "2022-05-26T17:11:02.647Z"
   },
   {
    "duration": 23,
    "start_time": "2022-05-26T17:11:02.676Z"
   },
   {
    "duration": 16,
    "start_time": "2022-05-26T17:11:02.702Z"
   },
   {
    "duration": 14,
    "start_time": "2022-05-26T17:11:02.722Z"
   },
   {
    "duration": 17,
    "start_time": "2022-05-26T17:11:02.739Z"
   },
   {
    "duration": 24,
    "start_time": "2022-05-26T17:11:02.759Z"
   },
   {
    "duration": 16,
    "start_time": "2022-05-26T17:11:02.786Z"
   },
   {
    "duration": 8,
    "start_time": "2022-05-26T17:11:02.804Z"
   },
   {
    "duration": 6,
    "start_time": "2022-05-26T17:11:02.814Z"
   },
   {
    "duration": 203,
    "start_time": "2022-05-26T17:11:02.822Z"
   },
   {
    "duration": 8,
    "start_time": "2022-05-26T17:11:03.027Z"
   },
   {
    "duration": 160,
    "start_time": "2022-05-26T17:11:03.037Z"
   },
   {
    "duration": 10,
    "start_time": "2022-05-26T17:11:03.198Z"
   },
   {
    "duration": 144,
    "start_time": "2022-05-26T17:11:03.210Z"
   },
   {
    "duration": 21,
    "start_time": "2022-05-26T17:11:03.356Z"
   },
   {
    "duration": 147,
    "start_time": "2022-05-26T17:11:03.385Z"
   },
   {
    "duration": 6,
    "start_time": "2022-05-26T17:11:03.534Z"
   },
   {
    "duration": 194,
    "start_time": "2022-05-26T17:11:03.542Z"
   },
   {
    "duration": 477,
    "start_time": "2022-05-26T17:11:03.739Z"
   },
   {
    "duration": 11,
    "start_time": "2022-05-26T17:11:04.218Z"
   },
   {
    "duration": 7,
    "start_time": "2022-05-26T17:11:04.232Z"
   },
   {
    "duration": 47,
    "start_time": "2022-05-26T17:11:04.241Z"
   },
   {
    "duration": 247,
    "start_time": "2022-05-26T17:11:04.290Z"
   },
   {
    "duration": 5,
    "start_time": "2022-05-26T17:11:04.538Z"
   },
   {
    "duration": 104,
    "start_time": "2022-05-26T17:11:04.545Z"
   },
   {
    "duration": 223,
    "start_time": "2022-05-26T17:11:04.659Z"
   },
   {
    "duration": 63,
    "start_time": "2022-05-26T17:11:04.885Z"
   },
   {
    "duration": 31,
    "start_time": "2022-05-26T17:11:04.950Z"
   },
   {
    "duration": 730,
    "start_time": "2022-05-26T17:11:04.986Z"
   },
   {
    "duration": 5,
    "start_time": "2022-05-26T17:11:05.718Z"
   },
   {
    "duration": 11171,
    "start_time": "2022-05-26T17:11:05.730Z"
   },
   {
    "duration": 3,
    "start_time": "2022-05-26T17:11:16.903Z"
   },
   {
    "duration": 5,
    "start_time": "2022-05-26T17:11:16.908Z"
   },
   {
    "duration": 4,
    "start_time": "2022-05-26T17:11:16.915Z"
   },
   {
    "duration": 6,
    "start_time": "2022-05-26T17:11:16.921Z"
   },
   {
    "duration": 5,
    "start_time": "2022-05-26T17:11:16.929Z"
   },
   {
    "duration": 50,
    "start_time": "2022-05-26T17:11:16.936Z"
   },
   {
    "duration": 5689,
    "start_time": "2022-05-26T17:11:16.988Z"
   },
   {
    "duration": 224,
    "start_time": "2022-05-26T17:11:22.680Z"
   },
   {
    "duration": 616,
    "start_time": "2022-05-26T17:11:22.906Z"
   },
   {
    "duration": 6,
    "start_time": "2022-05-26T17:11:23.524Z"
   },
   {
    "duration": 54,
    "start_time": "2022-05-26T17:11:23.532Z"
   },
   {
    "duration": 48,
    "start_time": "2022-05-26T17:11:23.587Z"
   },
   {
    "duration": 1437,
    "start_time": "2022-05-26T17:11:23.637Z"
   },
   {
    "duration": 40819,
    "start_time": "2022-05-26T17:11:25.076Z"
   },
   {
    "duration": 112,
    "start_time": "2022-05-26T17:12:05.897Z"
   },
   {
    "duration": 287,
    "start_time": "2022-05-26T17:12:06.012Z"
   },
   {
    "duration": 462,
    "start_time": "2022-05-26T17:12:06.306Z"
   },
   {
    "duration": 6,
    "start_time": "2022-05-26T17:12:06.770Z"
   },
   {
    "duration": 31,
    "start_time": "2022-05-26T17:12:06.778Z"
   },
   {
    "duration": 2684,
    "start_time": "2022-05-26T17:12:06.814Z"
   },
   {
    "duration": 30,
    "start_time": "2022-05-26T17:12:09.500Z"
   },
   {
    "duration": 71,
    "start_time": "2022-05-26T17:12:09.532Z"
   },
   {
    "duration": 200,
    "start_time": "2022-05-26T17:12:09.606Z"
   },
   {
    "duration": 8,
    "start_time": "2022-05-26T17:12:09.808Z"
   },
   {
    "duration": 1658,
    "start_time": "2022-05-26T17:12:42.650Z"
   },
   {
    "duration": 1347,
    "start_time": "2022-05-26T17:12:44.310Z"
   },
   {
    "duration": 66,
    "start_time": "2022-05-26T17:12:45.660Z"
   },
   {
    "duration": 21,
    "start_time": "2022-05-26T17:12:45.729Z"
   },
   {
    "duration": 5,
    "start_time": "2022-05-26T17:12:45.752Z"
   },
   {
    "duration": 5,
    "start_time": "2022-05-26T17:12:45.759Z"
   },
   {
    "duration": 36,
    "start_time": "2022-05-26T17:12:45.766Z"
   },
   {
    "duration": 7,
    "start_time": "2022-05-26T17:12:45.804Z"
   },
   {
    "duration": 20,
    "start_time": "2022-05-26T17:12:45.813Z"
   },
   {
    "duration": 7,
    "start_time": "2022-05-26T17:12:45.835Z"
   },
   {
    "duration": 13,
    "start_time": "2022-05-26T17:12:45.843Z"
   },
   {
    "duration": 9,
    "start_time": "2022-05-26T17:12:45.874Z"
   },
   {
    "duration": 14,
    "start_time": "2022-05-26T17:12:45.886Z"
   },
   {
    "duration": 9,
    "start_time": "2022-05-26T17:12:45.904Z"
   },
   {
    "duration": 9,
    "start_time": "2022-05-26T17:12:45.915Z"
   },
   {
    "duration": 15,
    "start_time": "2022-05-26T17:12:45.926Z"
   },
   {
    "duration": 30,
    "start_time": "2022-05-26T17:12:45.943Z"
   },
   {
    "duration": 11,
    "start_time": "2022-05-26T17:12:45.981Z"
   },
   {
    "duration": 8,
    "start_time": "2022-05-26T17:12:45.993Z"
   },
   {
    "duration": 157,
    "start_time": "2022-05-26T17:12:46.003Z"
   },
   {
    "duration": 14,
    "start_time": "2022-05-26T17:12:46.162Z"
   },
   {
    "duration": 154,
    "start_time": "2022-05-26T17:12:46.178Z"
   },
   {
    "duration": 8,
    "start_time": "2022-05-26T17:12:46.334Z"
   },
   {
    "duration": 147,
    "start_time": "2022-05-26T17:12:46.344Z"
   },
   {
    "duration": 10,
    "start_time": "2022-05-26T17:12:46.493Z"
   },
   {
    "duration": 181,
    "start_time": "2022-05-26T17:12:46.504Z"
   },
   {
    "duration": 6,
    "start_time": "2022-05-26T17:12:46.687Z"
   },
   {
    "duration": 163,
    "start_time": "2022-05-26T17:12:46.698Z"
   },
   {
    "duration": 542,
    "start_time": "2022-05-26T17:12:46.867Z"
   },
   {
    "duration": 12,
    "start_time": "2022-05-26T17:12:47.411Z"
   },
   {
    "duration": 18,
    "start_time": "2022-05-26T17:12:47.425Z"
   },
   {
    "duration": 46,
    "start_time": "2022-05-26T17:12:47.446Z"
   },
   {
    "duration": 254,
    "start_time": "2022-05-26T17:12:47.494Z"
   },
   {
    "duration": 5,
    "start_time": "2022-05-26T17:12:47.750Z"
   },
   {
    "duration": 76,
    "start_time": "2022-05-26T17:12:47.757Z"
   },
   {
    "duration": 102,
    "start_time": "2022-05-26T17:12:47.835Z"
   },
   {
    "duration": 213,
    "start_time": "2022-05-26T17:12:47.939Z"
   },
   {
    "duration": 31,
    "start_time": "2022-05-26T17:12:48.154Z"
   },
   {
    "duration": 748,
    "start_time": "2022-05-26T17:12:48.187Z"
   },
   {
    "duration": 10,
    "start_time": "2022-05-26T17:12:48.938Z"
   },
   {
    "duration": 9658,
    "start_time": "2022-05-26T17:12:48.950Z"
   },
   {
    "duration": 3,
    "start_time": "2022-05-26T17:12:58.610Z"
   },
   {
    "duration": 8,
    "start_time": "2022-05-26T17:12:58.615Z"
   },
   {
    "duration": 6,
    "start_time": "2022-05-26T17:12:58.625Z"
   },
   {
    "duration": 7,
    "start_time": "2022-05-26T17:12:58.633Z"
   },
   {
    "duration": 6,
    "start_time": "2022-05-26T17:12:58.643Z"
   },
   {
    "duration": 18,
    "start_time": "2022-05-26T17:12:58.650Z"
   },
   {
    "duration": 5998,
    "start_time": "2022-05-26T17:12:58.670Z"
   },
   {
    "duration": 337,
    "start_time": "2022-05-26T17:13:04.676Z"
   },
   {
    "duration": 1492,
    "start_time": "2022-05-26T17:13:05.014Z"
   },
   {
    "duration": 60,
    "start_time": "2022-05-26T17:13:06.508Z"
   },
   {
    "duration": 59,
    "start_time": "2022-05-26T17:13:06.573Z"
   },
   {
    "duration": 68,
    "start_time": "2022-05-26T17:13:06.633Z"
   },
   {
    "duration": 1473,
    "start_time": "2022-05-26T17:13:06.703Z"
   },
   {
    "duration": 40012,
    "start_time": "2022-05-26T17:13:08.181Z"
   },
   {
    "duration": 102,
    "start_time": "2022-05-26T17:13:48.195Z"
   },
   {
    "duration": 245,
    "start_time": "2022-05-26T17:13:48.368Z"
   },
   {
    "duration": 476,
    "start_time": "2022-05-26T17:13:48.615Z"
   },
   {
    "duration": 5,
    "start_time": "2022-05-26T17:13:49.094Z"
   },
   {
    "duration": 42,
    "start_time": "2022-05-26T17:13:49.101Z"
   },
   {
    "duration": 2532,
    "start_time": "2022-05-26T17:13:49.145Z"
   },
   {
    "duration": 36,
    "start_time": "2022-05-26T17:13:51.680Z"
   },
   {
    "duration": 62,
    "start_time": "2022-05-26T17:13:51.717Z"
   },
   {
    "duration": 153,
    "start_time": "2022-05-26T17:13:51.782Z"
   },
   {
    "duration": 6,
    "start_time": "2022-05-26T17:13:51.937Z"
   },
   {
    "duration": 1526,
    "start_time": "2022-05-26T17:14:22.647Z"
   },
   {
    "duration": 1306,
    "start_time": "2022-05-26T17:14:24.178Z"
   },
   {
    "duration": 66,
    "start_time": "2022-05-26T17:14:25.487Z"
   },
   {
    "duration": 26,
    "start_time": "2022-05-26T17:14:25.556Z"
   },
   {
    "duration": 4,
    "start_time": "2022-05-26T17:14:25.584Z"
   },
   {
    "duration": 5,
    "start_time": "2022-05-26T17:14:25.590Z"
   },
   {
    "duration": 17,
    "start_time": "2022-05-26T17:14:25.596Z"
   },
   {
    "duration": 8,
    "start_time": "2022-05-26T17:14:25.615Z"
   },
   {
    "duration": 42,
    "start_time": "2022-05-26T17:14:25.624Z"
   },
   {
    "duration": 10,
    "start_time": "2022-05-26T17:14:25.669Z"
   },
   {
    "duration": 10,
    "start_time": "2022-05-26T17:14:25.682Z"
   },
   {
    "duration": 6,
    "start_time": "2022-05-26T17:14:25.693Z"
   },
   {
    "duration": 9,
    "start_time": "2022-05-26T17:14:25.700Z"
   },
   {
    "duration": 5,
    "start_time": "2022-05-26T17:14:25.711Z"
   },
   {
    "duration": 10,
    "start_time": "2022-05-26T17:14:25.718Z"
   },
   {
    "duration": 53,
    "start_time": "2022-05-26T17:14:25.730Z"
   },
   {
    "duration": 8,
    "start_time": "2022-05-26T17:14:25.785Z"
   },
   {
    "duration": 7,
    "start_time": "2022-05-26T17:14:25.794Z"
   },
   {
    "duration": 9,
    "start_time": "2022-05-26T17:14:25.802Z"
   },
   {
    "duration": 166,
    "start_time": "2022-05-26T17:14:25.813Z"
   },
   {
    "duration": 10,
    "start_time": "2022-05-26T17:14:25.982Z"
   },
   {
    "duration": 138,
    "start_time": "2022-05-26T17:14:25.994Z"
   },
   {
    "duration": 9,
    "start_time": "2022-05-26T17:14:26.134Z"
   },
   {
    "duration": 149,
    "start_time": "2022-05-26T17:14:26.144Z"
   },
   {
    "duration": 9,
    "start_time": "2022-05-26T17:14:26.294Z"
   },
   {
    "duration": 139,
    "start_time": "2022-05-26T17:14:26.305Z"
   },
   {
    "duration": 6,
    "start_time": "2022-05-26T17:14:26.446Z"
   },
   {
    "duration": 150,
    "start_time": "2022-05-26T17:14:26.468Z"
   },
   {
    "duration": 442,
    "start_time": "2022-05-26T17:14:26.619Z"
   },
   {
    "duration": 23,
    "start_time": "2022-05-26T17:14:27.066Z"
   },
   {
    "duration": 17,
    "start_time": "2022-05-26T17:14:27.090Z"
   },
   {
    "duration": 24,
    "start_time": "2022-05-26T17:14:27.109Z"
   },
   {
    "duration": 248,
    "start_time": "2022-05-26T17:14:27.135Z"
   },
   {
    "duration": 5,
    "start_time": "2022-05-26T17:14:27.385Z"
   },
   {
    "duration": 89,
    "start_time": "2022-05-26T17:14:27.392Z"
   },
   {
    "duration": 84,
    "start_time": "2022-05-26T17:14:27.484Z"
   },
   {
    "duration": 173,
    "start_time": "2022-05-26T17:14:27.570Z"
   },
   {
    "duration": 31,
    "start_time": "2022-05-26T17:14:27.744Z"
   },
   {
    "duration": 702,
    "start_time": "2022-05-26T17:14:27.778Z"
   },
   {
    "duration": 5,
    "start_time": "2022-05-26T17:14:28.482Z"
   },
   {
    "duration": 10618,
    "start_time": "2022-05-26T17:14:28.489Z"
   },
   {
    "duration": 6,
    "start_time": "2022-05-26T17:14:39.110Z"
   },
   {
    "duration": 13,
    "start_time": "2022-05-26T17:14:39.119Z"
   },
   {
    "duration": 29,
    "start_time": "2022-05-26T17:14:39.135Z"
   },
   {
    "duration": 29,
    "start_time": "2022-05-26T17:14:39.167Z"
   },
   {
    "duration": 10,
    "start_time": "2022-05-26T17:14:39.198Z"
   },
   {
    "duration": 20,
    "start_time": "2022-05-26T17:14:39.211Z"
   },
   {
    "duration": 5834,
    "start_time": "2022-05-26T17:14:39.234Z"
   },
   {
    "duration": 211,
    "start_time": "2022-05-26T17:14:45.073Z"
   },
   {
    "duration": 600,
    "start_time": "2022-05-26T17:14:45.286Z"
   },
   {
    "duration": 6,
    "start_time": "2022-05-26T17:14:45.888Z"
   },
   {
    "duration": 34,
    "start_time": "2022-05-26T17:14:45.896Z"
   },
   {
    "duration": 68,
    "start_time": "2022-05-26T17:14:45.932Z"
   },
   {
    "duration": 1378,
    "start_time": "2022-05-26T17:14:46.002Z"
   },
   {
    "duration": 60814,
    "start_time": "2022-05-26T17:14:47.384Z"
   },
   {
    "duration": 101,
    "start_time": "2022-05-26T17:15:48.200Z"
   },
   {
    "duration": 303,
    "start_time": "2022-05-26T17:15:48.303Z"
   },
   {
    "duration": 478,
    "start_time": "2022-05-26T17:15:48.607Z"
   },
   {
    "duration": 4,
    "start_time": "2022-05-26T17:15:49.088Z"
   },
   {
    "duration": 32,
    "start_time": "2022-05-26T17:15:49.094Z"
   },
   {
    "duration": 2516,
    "start_time": "2022-05-26T17:15:49.129Z"
   },
   {
    "duration": 47,
    "start_time": "2022-05-26T17:15:51.647Z"
   },
   {
    "duration": 40,
    "start_time": "2022-05-26T17:15:51.698Z"
   },
   {
    "duration": 193,
    "start_time": "2022-05-26T17:15:51.739Z"
   },
   {
    "duration": 8,
    "start_time": "2022-05-26T17:15:51.934Z"
   },
   {
    "duration": 1526,
    "start_time": "2022-05-26T17:16:14.158Z"
   },
   {
    "duration": 1426,
    "start_time": "2022-05-26T17:16:15.686Z"
   },
   {
    "duration": 88,
    "start_time": "2022-05-26T17:16:17.114Z"
   },
   {
    "duration": 86,
    "start_time": "2022-05-26T17:16:17.205Z"
   },
   {
    "duration": 6,
    "start_time": "2022-05-26T17:16:17.294Z"
   },
   {
    "duration": 8,
    "start_time": "2022-05-26T17:16:17.302Z"
   },
   {
    "duration": 80,
    "start_time": "2022-05-26T17:16:17.312Z"
   },
   {
    "duration": 22,
    "start_time": "2022-05-26T17:16:17.395Z"
   },
   {
    "duration": 73,
    "start_time": "2022-05-26T17:16:17.419Z"
   },
   {
    "duration": 10,
    "start_time": "2022-05-26T17:16:17.507Z"
   },
   {
    "duration": 48,
    "start_time": "2022-05-26T17:16:17.522Z"
   },
   {
    "duration": 29,
    "start_time": "2022-05-26T17:16:17.572Z"
   },
   {
    "duration": 12,
    "start_time": "2022-05-26T17:16:17.604Z"
   },
   {
    "duration": 60,
    "start_time": "2022-05-26T17:16:17.620Z"
   },
   {
    "duration": 11,
    "start_time": "2022-05-26T17:16:17.686Z"
   },
   {
    "duration": 15,
    "start_time": "2022-05-26T17:16:17.699Z"
   },
   {
    "duration": 57,
    "start_time": "2022-05-26T17:16:17.716Z"
   },
   {
    "duration": 19,
    "start_time": "2022-05-26T17:16:17.781Z"
   },
   {
    "duration": 8,
    "start_time": "2022-05-26T17:16:17.802Z"
   },
   {
    "duration": 465,
    "start_time": "2022-05-26T17:16:17.812Z"
   },
   {
    "duration": 12,
    "start_time": "2022-05-26T17:16:18.279Z"
   },
   {
    "duration": 314,
    "start_time": "2022-05-26T17:16:18.293Z"
   },
   {
    "duration": 9,
    "start_time": "2022-05-26T17:16:18.609Z"
   },
   {
    "duration": 244,
    "start_time": "2022-05-26T17:16:18.665Z"
   },
   {
    "duration": 75,
    "start_time": "2022-05-26T17:16:18.911Z"
   },
   {
    "duration": 391,
    "start_time": "2022-05-26T17:16:18.991Z"
   },
   {
    "duration": 7,
    "start_time": "2022-05-26T17:16:19.388Z"
   },
   {
    "duration": 324,
    "start_time": "2022-05-26T17:16:19.397Z"
   },
   {
    "duration": 520,
    "start_time": "2022-05-26T17:16:19.723Z"
   },
   {
    "duration": 20,
    "start_time": "2022-05-26T17:16:20.245Z"
   },
   {
    "duration": 21,
    "start_time": "2022-05-26T17:16:20.273Z"
   },
   {
    "duration": 27,
    "start_time": "2022-05-26T17:16:20.296Z"
   },
   {
    "duration": 254,
    "start_time": "2022-05-26T17:16:20.325Z"
   },
   {
    "duration": 7,
    "start_time": "2022-05-26T17:16:20.582Z"
   },
   {
    "duration": 90,
    "start_time": "2022-05-26T17:16:20.591Z"
   },
   {
    "duration": 247,
    "start_time": "2022-05-26T17:16:20.684Z"
   },
   {
    "duration": 94,
    "start_time": "2022-05-26T17:16:20.934Z"
   },
   {
    "duration": 16,
    "start_time": "2022-05-26T17:16:21.031Z"
   },
   {
    "duration": 777,
    "start_time": "2022-05-26T17:16:21.049Z"
   },
   {
    "duration": 6,
    "start_time": "2022-05-26T17:16:21.829Z"
   },
   {
    "duration": 10367,
    "start_time": "2022-05-26T17:16:21.840Z"
   },
   {
    "duration": 2,
    "start_time": "2022-05-26T17:16:32.209Z"
   },
   {
    "duration": 12,
    "start_time": "2022-05-26T17:16:32.213Z"
   },
   {
    "duration": 5,
    "start_time": "2022-05-26T17:16:32.227Z"
   },
   {
    "duration": 5,
    "start_time": "2022-05-26T17:16:32.233Z"
   },
   {
    "duration": 7,
    "start_time": "2022-05-26T17:16:32.240Z"
   },
   {
    "duration": 38,
    "start_time": "2022-05-26T17:16:32.249Z"
   },
   {
    "duration": 5798,
    "start_time": "2022-05-26T17:16:32.289Z"
   },
   {
    "duration": 291,
    "start_time": "2022-05-26T17:16:38.092Z"
   },
   {
    "duration": 655,
    "start_time": "2022-05-26T17:16:38.385Z"
   },
   {
    "duration": 5,
    "start_time": "2022-05-26T17:16:39.043Z"
   },
   {
    "duration": 60,
    "start_time": "2022-05-26T17:16:39.050Z"
   },
   {
    "duration": 60,
    "start_time": "2022-05-26T17:16:39.112Z"
   },
   {
    "duration": 1504,
    "start_time": "2022-05-26T17:16:39.174Z"
   },
   {
    "duration": 99215,
    "start_time": "2022-05-26T17:16:40.681Z"
   },
   {
    "duration": 87,
    "start_time": "2022-05-26T17:18:19.898Z"
   },
   {
    "duration": 306,
    "start_time": "2022-05-26T17:18:19.987Z"
   },
   {
    "duration": 459,
    "start_time": "2022-05-26T17:18:20.296Z"
   },
   {
    "duration": 3,
    "start_time": "2022-05-26T17:18:20.757Z"
   },
   {
    "duration": 24,
    "start_time": "2022-05-26T17:18:20.769Z"
   },
   {
    "duration": 2487,
    "start_time": "2022-05-26T17:18:20.795Z"
   },
   {
    "duration": 39,
    "start_time": "2022-05-26T17:18:23.285Z"
   },
   {
    "duration": 57,
    "start_time": "2022-05-26T17:18:23.326Z"
   },
   {
    "duration": 157,
    "start_time": "2022-05-26T17:18:23.385Z"
   },
   {
    "duration": 6,
    "start_time": "2022-05-26T17:18:23.544Z"
   },
   {
    "duration": 1529,
    "start_time": "2022-05-26T17:19:28.648Z"
   },
   {
    "duration": 1275,
    "start_time": "2022-05-26T17:19:30.182Z"
   },
   {
    "duration": 62,
    "start_time": "2022-05-26T17:19:31.459Z"
   },
   {
    "duration": 20,
    "start_time": "2022-05-26T17:19:31.523Z"
   },
   {
    "duration": 5,
    "start_time": "2022-05-26T17:19:31.545Z"
   },
   {
    "duration": 5,
    "start_time": "2022-05-26T17:19:31.551Z"
   },
   {
    "duration": 32,
    "start_time": "2022-05-26T17:19:31.558Z"
   },
   {
    "duration": 7,
    "start_time": "2022-05-26T17:19:31.592Z"
   },
   {
    "duration": 18,
    "start_time": "2022-05-26T17:19:31.601Z"
   },
   {
    "duration": 6,
    "start_time": "2022-05-26T17:19:31.622Z"
   },
   {
    "duration": 12,
    "start_time": "2022-05-26T17:19:31.629Z"
   },
   {
    "duration": 26,
    "start_time": "2022-05-26T17:19:31.643Z"
   },
   {
    "duration": 10,
    "start_time": "2022-05-26T17:19:31.671Z"
   },
   {
    "duration": 8,
    "start_time": "2022-05-26T17:19:31.683Z"
   },
   {
    "duration": 7,
    "start_time": "2022-05-26T17:19:31.693Z"
   },
   {
    "duration": 14,
    "start_time": "2022-05-26T17:19:31.702Z"
   },
   {
    "duration": 4,
    "start_time": "2022-05-26T17:19:31.718Z"
   },
   {
    "duration": 7,
    "start_time": "2022-05-26T17:19:31.724Z"
   },
   {
    "duration": 35,
    "start_time": "2022-05-26T17:19:31.732Z"
   },
   {
    "duration": 177,
    "start_time": "2022-05-26T17:19:31.768Z"
   },
   {
    "duration": 28,
    "start_time": "2022-05-26T17:19:31.948Z"
   },
   {
    "duration": 146,
    "start_time": "2022-05-26T17:19:31.981Z"
   },
   {
    "duration": 10,
    "start_time": "2022-05-26T17:19:32.130Z"
   },
   {
    "duration": 146,
    "start_time": "2022-05-26T17:19:32.142Z"
   },
   {
    "duration": 8,
    "start_time": "2022-05-26T17:19:32.290Z"
   },
   {
    "duration": 160,
    "start_time": "2022-05-26T17:19:32.300Z"
   },
   {
    "duration": 14,
    "start_time": "2022-05-26T17:19:32.464Z"
   },
   {
    "duration": 158,
    "start_time": "2022-05-26T17:19:32.483Z"
   },
   {
    "duration": 454,
    "start_time": "2022-05-26T17:19:32.642Z"
   },
   {
    "duration": 9,
    "start_time": "2022-05-26T17:19:33.097Z"
   },
   {
    "duration": 6,
    "start_time": "2022-05-26T17:19:33.108Z"
   },
   {
    "duration": 20,
    "start_time": "2022-05-26T17:19:33.116Z"
   },
   {
    "duration": 239,
    "start_time": "2022-05-26T17:19:33.164Z"
   },
   {
    "duration": 4,
    "start_time": "2022-05-26T17:19:33.405Z"
   },
   {
    "duration": 82,
    "start_time": "2022-05-26T17:19:33.411Z"
   },
   {
    "duration": 92,
    "start_time": "2022-05-26T17:19:33.495Z"
   },
   {
    "duration": 188,
    "start_time": "2022-05-26T17:19:33.589Z"
   },
   {
    "duration": 11,
    "start_time": "2022-05-26T17:19:33.783Z"
   },
   {
    "duration": 715,
    "start_time": "2022-05-26T17:19:33.796Z"
   },
   {
    "duration": 4,
    "start_time": "2022-05-26T17:19:34.513Z"
   },
   {
    "duration": 9115,
    "start_time": "2022-05-26T17:19:34.519Z"
   },
   {
    "duration": 2,
    "start_time": "2022-05-26T17:19:43.637Z"
   },
   {
    "duration": 7,
    "start_time": "2022-05-26T17:19:43.641Z"
   },
   {
    "duration": 15,
    "start_time": "2022-05-26T17:19:43.649Z"
   },
   {
    "duration": 8,
    "start_time": "2022-05-26T17:19:43.666Z"
   },
   {
    "duration": 12,
    "start_time": "2022-05-26T17:19:43.678Z"
   },
   {
    "duration": 9,
    "start_time": "2022-05-26T17:19:43.692Z"
   },
   {
    "duration": 6787,
    "start_time": "2022-05-26T17:19:43.703Z"
   },
   {
    "duration": 403,
    "start_time": "2022-05-26T17:19:50.492Z"
   },
   {
    "duration": 1073,
    "start_time": "2022-05-26T17:19:50.897Z"
   },
   {
    "duration": 8,
    "start_time": "2022-05-26T17:19:51.976Z"
   },
   {
    "duration": 32,
    "start_time": "2022-05-26T17:19:51.985Z"
   },
   {
    "duration": 51,
    "start_time": "2022-05-26T17:19:52.019Z"
   },
   {
    "duration": 1307,
    "start_time": "2022-05-26T17:19:52.074Z"
   },
   {
    "duration": 37900,
    "start_time": "2022-05-26T17:19:53.383Z"
   },
   {
    "duration": 101,
    "start_time": "2022-05-26T17:20:31.285Z"
   },
   {
    "duration": 266,
    "start_time": "2022-05-26T17:20:31.388Z"
   },
   {
    "duration": 467,
    "start_time": "2022-05-26T17:20:31.656Z"
   },
   {
    "duration": 3,
    "start_time": "2022-05-26T17:20:32.125Z"
   },
   {
    "duration": 18,
    "start_time": "2022-05-26T17:20:32.130Z"
   },
   {
    "duration": 2489,
    "start_time": "2022-05-26T17:20:32.149Z"
   },
   {
    "duration": 42,
    "start_time": "2022-05-26T17:20:34.640Z"
   },
   {
    "duration": 37,
    "start_time": "2022-05-26T17:20:34.684Z"
   },
   {
    "duration": 169,
    "start_time": "2022-05-26T17:20:34.723Z"
   },
   {
    "duration": 8,
    "start_time": "2022-05-26T17:20:34.894Z"
   },
   {
    "duration": 1494,
    "start_time": "2022-05-26T17:20:47.059Z"
   },
   {
    "duration": 1339,
    "start_time": "2022-05-26T17:20:48.555Z"
   },
   {
    "duration": 55,
    "start_time": "2022-05-26T17:20:49.897Z"
   },
   {
    "duration": 29,
    "start_time": "2022-05-26T17:20:49.954Z"
   },
   {
    "duration": 5,
    "start_time": "2022-05-26T17:20:49.986Z"
   },
   {
    "duration": 6,
    "start_time": "2022-05-26T17:20:49.992Z"
   },
   {
    "duration": 20,
    "start_time": "2022-05-26T17:20:49.999Z"
   },
   {
    "duration": 8,
    "start_time": "2022-05-26T17:20:50.021Z"
   },
   {
    "duration": 37,
    "start_time": "2022-05-26T17:20:50.031Z"
   },
   {
    "duration": 14,
    "start_time": "2022-05-26T17:20:50.069Z"
   },
   {
    "duration": 8,
    "start_time": "2022-05-26T17:20:50.085Z"
   },
   {
    "duration": 5,
    "start_time": "2022-05-26T17:20:50.095Z"
   },
   {
    "duration": 13,
    "start_time": "2022-05-26T17:20:50.102Z"
   },
   {
    "duration": 6,
    "start_time": "2022-05-26T17:20:50.118Z"
   },
   {
    "duration": 10,
    "start_time": "2022-05-26T17:20:50.126Z"
   },
   {
    "duration": 19,
    "start_time": "2022-05-26T17:20:50.164Z"
   },
   {
    "duration": 6,
    "start_time": "2022-05-26T17:20:50.186Z"
   },
   {
    "duration": 10,
    "start_time": "2022-05-26T17:20:50.194Z"
   },
   {
    "duration": 7,
    "start_time": "2022-05-26T17:20:50.206Z"
   },
   {
    "duration": 169,
    "start_time": "2022-05-26T17:20:50.214Z"
   },
   {
    "duration": 8,
    "start_time": "2022-05-26T17:20:50.385Z"
   },
   {
    "duration": 145,
    "start_time": "2022-05-26T17:20:50.395Z"
   },
   {
    "duration": 7,
    "start_time": "2022-05-26T17:20:50.542Z"
   },
   {
    "duration": 136,
    "start_time": "2022-05-26T17:20:50.572Z"
   },
   {
    "duration": 10,
    "start_time": "2022-05-26T17:20:50.710Z"
   },
   {
    "duration": 148,
    "start_time": "2022-05-26T17:20:50.722Z"
   },
   {
    "duration": 10,
    "start_time": "2022-05-26T17:20:50.872Z"
   },
   {
    "duration": 148,
    "start_time": "2022-05-26T17:20:50.883Z"
   },
   {
    "duration": 468,
    "start_time": "2022-05-26T17:20:51.033Z"
   },
   {
    "duration": 9,
    "start_time": "2022-05-26T17:20:51.503Z"
   },
   {
    "duration": 6,
    "start_time": "2022-05-26T17:20:51.513Z"
   },
   {
    "duration": 49,
    "start_time": "2022-05-26T17:20:51.520Z"
   },
   {
    "duration": 236,
    "start_time": "2022-05-26T17:20:51.570Z"
   },
   {
    "duration": 4,
    "start_time": "2022-05-26T17:20:51.808Z"
   },
   {
    "duration": 82,
    "start_time": "2022-05-26T17:20:51.814Z"
   },
   {
    "duration": 200,
    "start_time": "2022-05-26T17:20:51.898Z"
   },
   {
    "duration": 74,
    "start_time": "2022-05-26T17:20:52.100Z"
   },
   {
    "duration": 12,
    "start_time": "2022-05-26T17:20:52.182Z"
   },
   {
    "duration": 716,
    "start_time": "2022-05-26T17:20:52.195Z"
   },
   {
    "duration": 7,
    "start_time": "2022-05-26T17:20:52.914Z"
   },
   {
    "duration": 9482,
    "start_time": "2022-05-26T17:20:52.926Z"
   },
   {
    "duration": 2,
    "start_time": "2022-05-26T17:21:02.410Z"
   },
   {
    "duration": 10,
    "start_time": "2022-05-26T17:21:02.414Z"
   },
   {
    "duration": 10,
    "start_time": "2022-05-26T17:21:02.425Z"
   },
   {
    "duration": 14,
    "start_time": "2022-05-26T17:21:02.437Z"
   },
   {
    "duration": 20,
    "start_time": "2022-05-26T17:21:02.453Z"
   },
   {
    "duration": 14,
    "start_time": "2022-05-26T17:21:02.475Z"
   },
   {
    "duration": 5675,
    "start_time": "2022-05-26T17:21:02.491Z"
   },
   {
    "duration": 217,
    "start_time": "2022-05-26T17:21:08.167Z"
   },
   {
    "duration": 660,
    "start_time": "2022-05-26T17:21:08.386Z"
   },
   {
    "duration": 16,
    "start_time": "2022-05-26T17:21:09.049Z"
   },
   {
    "duration": 103,
    "start_time": "2022-05-26T17:21:09.070Z"
   },
   {
    "duration": 50,
    "start_time": "2022-05-26T17:21:09.181Z"
   },
   {
    "duration": 1350,
    "start_time": "2022-05-26T17:21:09.234Z"
   },
   {
    "duration": 18896,
    "start_time": "2022-05-26T17:21:10.586Z"
   },
   {
    "duration": 95,
    "start_time": "2022-05-26T17:21:29.484Z"
   },
   {
    "duration": 255,
    "start_time": "2022-05-26T17:21:29.580Z"
   },
   {
    "duration": 449,
    "start_time": "2022-05-26T17:21:29.837Z"
   },
   {
    "duration": 3,
    "start_time": "2022-05-26T17:21:30.288Z"
   },
   {
    "duration": 18,
    "start_time": "2022-05-26T17:21:30.293Z"
   },
   {
    "duration": 2427,
    "start_time": "2022-05-26T17:21:30.313Z"
   },
   {
    "duration": 46,
    "start_time": "2022-05-26T17:21:32.742Z"
   },
   {
    "duration": 45,
    "start_time": "2022-05-26T17:21:32.790Z"
   },
   {
    "duration": 179,
    "start_time": "2022-05-26T17:21:32.837Z"
   },
   {
    "duration": 7,
    "start_time": "2022-05-26T17:21:33.018Z"
   },
   {
    "duration": 1518,
    "start_time": "2022-05-26T17:22:22.194Z"
   },
   {
    "duration": 1217,
    "start_time": "2022-05-26T17:22:23.714Z"
   },
   {
    "duration": 59,
    "start_time": "2022-05-26T17:22:24.933Z"
   },
   {
    "duration": 19,
    "start_time": "2022-05-26T17:22:24.994Z"
   },
   {
    "duration": 4,
    "start_time": "2022-05-26T17:22:25.016Z"
   },
   {
    "duration": 4,
    "start_time": "2022-05-26T17:22:25.021Z"
   },
   {
    "duration": 18,
    "start_time": "2022-05-26T17:22:25.027Z"
   },
   {
    "duration": 35,
    "start_time": "2022-05-26T17:22:25.047Z"
   },
   {
    "duration": 16,
    "start_time": "2022-05-26T17:22:25.086Z"
   },
   {
    "duration": 8,
    "start_time": "2022-05-26T17:22:25.104Z"
   },
   {
    "duration": 8,
    "start_time": "2022-05-26T17:22:25.114Z"
   },
   {
    "duration": 6,
    "start_time": "2022-05-26T17:22:25.123Z"
   },
   {
    "duration": 40,
    "start_time": "2022-05-26T17:22:25.131Z"
   },
   {
    "duration": 8,
    "start_time": "2022-05-26T17:22:25.176Z"
   },
   {
    "duration": 9,
    "start_time": "2022-05-26T17:22:25.186Z"
   },
   {
    "duration": 17,
    "start_time": "2022-05-26T17:22:25.196Z"
   },
   {
    "duration": 6,
    "start_time": "2022-05-26T17:22:25.215Z"
   },
   {
    "duration": 7,
    "start_time": "2022-05-26T17:22:25.223Z"
   },
   {
    "duration": 35,
    "start_time": "2022-05-26T17:22:25.231Z"
   },
   {
    "duration": 142,
    "start_time": "2022-05-26T17:22:25.274Z"
   },
   {
    "duration": 10,
    "start_time": "2022-05-26T17:22:25.417Z"
   },
   {
    "duration": 146,
    "start_time": "2022-05-26T17:22:25.429Z"
   },
   {
    "duration": 11,
    "start_time": "2022-05-26T17:22:25.577Z"
   },
   {
    "duration": 125,
    "start_time": "2022-05-26T17:22:25.589Z"
   },
   {
    "duration": 10,
    "start_time": "2022-05-26T17:22:25.716Z"
   },
   {
    "duration": 156,
    "start_time": "2022-05-26T17:22:25.728Z"
   },
   {
    "duration": 6,
    "start_time": "2022-05-26T17:22:25.886Z"
   },
   {
    "duration": 153,
    "start_time": "2022-05-26T17:22:25.894Z"
   },
   {
    "duration": 432,
    "start_time": "2022-05-26T17:22:26.049Z"
   },
   {
    "duration": 10,
    "start_time": "2022-05-26T17:22:26.483Z"
   },
   {
    "duration": 6,
    "start_time": "2022-05-26T17:22:26.495Z"
   },
   {
    "duration": 21,
    "start_time": "2022-05-26T17:22:26.502Z"
   },
   {
    "duration": 259,
    "start_time": "2022-05-26T17:22:26.524Z"
   },
   {
    "duration": 5,
    "start_time": "2022-05-26T17:22:26.784Z"
   },
   {
    "duration": 84,
    "start_time": "2022-05-26T17:22:26.790Z"
   },
   {
    "duration": 182,
    "start_time": "2022-05-26T17:22:26.878Z"
   },
   {
    "duration": 60,
    "start_time": "2022-05-26T17:22:27.064Z"
   },
   {
    "duration": 11,
    "start_time": "2022-05-26T17:22:27.126Z"
   },
   {
    "duration": 729,
    "start_time": "2022-05-26T17:22:27.140Z"
   },
   {
    "duration": 5,
    "start_time": "2022-05-26T17:22:27.871Z"
   },
   {
    "duration": 10226,
    "start_time": "2022-05-26T17:22:27.885Z"
   },
   {
    "duration": 2,
    "start_time": "2022-05-26T17:22:38.113Z"
   },
   {
    "duration": 8,
    "start_time": "2022-05-26T17:22:38.117Z"
   },
   {
    "duration": 9,
    "start_time": "2022-05-26T17:22:38.127Z"
   },
   {
    "duration": 6,
    "start_time": "2022-05-26T17:22:38.138Z"
   },
   {
    "duration": 19,
    "start_time": "2022-05-26T17:22:38.146Z"
   },
   {
    "duration": 4,
    "start_time": "2022-05-26T17:22:38.167Z"
   },
   {
    "duration": 5501,
    "start_time": "2022-05-26T17:22:38.173Z"
   },
   {
    "duration": 203,
    "start_time": "2022-05-26T17:22:43.684Z"
   },
   {
    "duration": 595,
    "start_time": "2022-05-26T17:22:43.889Z"
   },
   {
    "duration": 6,
    "start_time": "2022-05-26T17:22:44.486Z"
   },
   {
    "duration": 30,
    "start_time": "2022-05-26T17:22:44.493Z"
   },
   {
    "duration": 66,
    "start_time": "2022-05-26T17:22:44.525Z"
   },
   {
    "duration": 1375,
    "start_time": "2022-05-26T17:22:44.593Z"
   },
   {
    "duration": 39701,
    "start_time": "2022-05-26T17:22:45.975Z"
   },
   {
    "duration": 96,
    "start_time": "2022-05-26T17:23:25.678Z"
   },
   {
    "duration": 251,
    "start_time": "2022-05-26T17:23:25.780Z"
   },
   {
    "duration": 455,
    "start_time": "2022-05-26T17:23:26.033Z"
   },
   {
    "duration": 4,
    "start_time": "2022-05-26T17:23:26.489Z"
   },
   {
    "duration": 9,
    "start_time": "2022-05-26T17:23:26.495Z"
   },
   {
    "duration": 2409,
    "start_time": "2022-05-26T17:23:26.505Z"
   },
   {
    "duration": 34,
    "start_time": "2022-05-26T17:23:28.916Z"
   },
   {
    "duration": 45,
    "start_time": "2022-05-26T17:23:28.964Z"
   },
   {
    "duration": 206,
    "start_time": "2022-05-26T17:23:29.011Z"
   },
   {
    "duration": 7,
    "start_time": "2022-05-26T17:23:29.220Z"
   },
   {
    "duration": 1373,
    "start_time": "2022-05-26T17:36:37.470Z"
   },
   {
    "duration": 1348,
    "start_time": "2022-05-26T17:36:38.845Z"
   },
   {
    "duration": 92,
    "start_time": "2022-05-26T17:36:40.195Z"
   },
   {
    "duration": 84,
    "start_time": "2022-05-26T17:36:40.290Z"
   },
   {
    "duration": 4,
    "start_time": "2022-05-26T17:36:40.376Z"
   },
   {
    "duration": 17,
    "start_time": "2022-05-26T17:36:40.382Z"
   },
   {
    "duration": 17,
    "start_time": "2022-05-26T17:36:40.400Z"
   },
   {
    "duration": 51,
    "start_time": "2022-05-26T17:36:40.419Z"
   },
   {
    "duration": 23,
    "start_time": "2022-05-26T17:36:40.477Z"
   },
   {
    "duration": 5,
    "start_time": "2022-05-26T17:36:40.503Z"
   },
   {
    "duration": 62,
    "start_time": "2022-05-26T17:36:40.510Z"
   },
   {
    "duration": 6,
    "start_time": "2022-05-26T17:36:40.573Z"
   },
   {
    "duration": 19,
    "start_time": "2022-05-26T17:36:40.581Z"
   },
   {
    "duration": 6,
    "start_time": "2022-05-26T17:36:40.601Z"
   },
   {
    "duration": 9,
    "start_time": "2022-05-26T17:36:40.608Z"
   },
   {
    "duration": 58,
    "start_time": "2022-05-26T17:36:40.618Z"
   },
   {
    "duration": 12,
    "start_time": "2022-05-26T17:36:40.680Z"
   },
   {
    "duration": 7,
    "start_time": "2022-05-26T17:36:40.694Z"
   },
   {
    "duration": 6,
    "start_time": "2022-05-26T17:36:40.702Z"
   },
   {
    "duration": 375,
    "start_time": "2022-05-26T17:36:40.709Z"
   },
   {
    "duration": 8,
    "start_time": "2022-05-26T17:36:41.086Z"
   },
   {
    "duration": 299,
    "start_time": "2022-05-26T17:36:41.096Z"
   },
   {
    "duration": 9,
    "start_time": "2022-05-26T17:36:41.396Z"
   },
   {
    "duration": 128,
    "start_time": "2022-05-26T17:36:41.407Z"
   },
   {
    "duration": 8,
    "start_time": "2022-05-26T17:36:41.537Z"
   },
   {
    "duration": 148,
    "start_time": "2022-05-26T17:36:41.546Z"
   },
   {
    "duration": 6,
    "start_time": "2022-05-26T17:36:41.695Z"
   },
   {
    "duration": 148,
    "start_time": "2022-05-26T17:36:41.705Z"
   },
   {
    "duration": 449,
    "start_time": "2022-05-26T17:36:41.855Z"
   },
   {
    "duration": 13,
    "start_time": "2022-05-26T17:36:42.306Z"
   },
   {
    "duration": 14,
    "start_time": "2022-05-26T17:36:42.321Z"
   },
   {
    "duration": 45,
    "start_time": "2022-05-26T17:36:42.337Z"
   },
   {
    "duration": 265,
    "start_time": "2022-05-26T17:36:42.388Z"
   },
   {
    "duration": 5,
    "start_time": "2022-05-26T17:36:42.655Z"
   },
   {
    "duration": 109,
    "start_time": "2022-05-26T17:36:42.669Z"
   },
   {
    "duration": 87,
    "start_time": "2022-05-26T17:36:42.791Z"
   },
   {
    "duration": 170,
    "start_time": "2022-05-26T17:36:42.880Z"
   },
   {
    "duration": 31,
    "start_time": "2022-05-26T17:36:43.051Z"
   },
   {
    "duration": 923,
    "start_time": "2022-05-26T17:36:43.084Z"
   },
   {
    "duration": 5,
    "start_time": "2022-05-26T17:36:44.008Z"
   },
   {
    "duration": 10189,
    "start_time": "2022-05-26T17:36:44.070Z"
   },
   {
    "duration": 10,
    "start_time": "2022-05-26T17:36:54.261Z"
   },
   {
    "duration": 13,
    "start_time": "2022-05-26T17:36:54.274Z"
   },
   {
    "duration": 5,
    "start_time": "2022-05-26T17:36:54.289Z"
   },
   {
    "duration": 6,
    "start_time": "2022-05-26T17:36:54.295Z"
   },
   {
    "duration": 9,
    "start_time": "2022-05-26T17:36:54.302Z"
   },
   {
    "duration": 9,
    "start_time": "2022-05-26T17:36:54.312Z"
   },
   {
    "duration": 5255,
    "start_time": "2022-05-26T17:36:54.323Z"
   },
   {
    "duration": 292,
    "start_time": "2022-05-26T17:36:59.580Z"
   },
   {
    "duration": 552,
    "start_time": "2022-05-26T17:36:59.881Z"
   },
   {
    "duration": 5,
    "start_time": "2022-05-26T17:37:00.435Z"
   },
   {
    "duration": 48,
    "start_time": "2022-05-26T17:37:00.442Z"
   },
   {
    "duration": 37,
    "start_time": "2022-05-26T17:37:00.493Z"
   },
   {
    "duration": 1333,
    "start_time": "2022-05-26T17:37:00.531Z"
   },
   {
    "duration": 38617,
    "start_time": "2022-05-26T17:37:01.866Z"
   },
   {
    "duration": 101,
    "start_time": "2022-05-26T17:37:40.486Z"
   },
   {
    "duration": 291,
    "start_time": "2022-05-26T17:37:40.594Z"
   },
   {
    "duration": 449,
    "start_time": "2022-05-26T17:37:40.887Z"
   },
   {
    "duration": 4,
    "start_time": "2022-05-26T17:37:41.338Z"
   },
   {
    "duration": 10,
    "start_time": "2022-05-26T17:37:41.344Z"
   },
   {
    "duration": 2578,
    "start_time": "2022-05-26T17:37:41.367Z"
   },
   {
    "duration": 42,
    "start_time": "2022-05-26T17:37:43.947Z"
   },
   {
    "duration": 45,
    "start_time": "2022-05-26T17:37:43.991Z"
   },
   {
    "duration": 182,
    "start_time": "2022-05-26T17:37:44.038Z"
   },
   {
    "duration": 7,
    "start_time": "2022-05-26T17:37:44.223Z"
   },
   {
    "duration": 136,
    "start_time": "2022-05-26T17:37:44.232Z"
   },
   {
    "duration": 165,
    "start_time": "2022-05-26T17:37:44.370Z"
   },
   {
    "duration": 12,
    "start_time": "2022-05-26T17:38:45.027Z"
   },
   {
    "duration": 1443,
    "start_time": "2022-05-26T17:38:53.238Z"
   },
   {
    "duration": 1214,
    "start_time": "2022-05-26T17:38:54.683Z"
   },
   {
    "duration": 56,
    "start_time": "2022-05-26T17:38:55.900Z"
   },
   {
    "duration": 25,
    "start_time": "2022-05-26T17:38:55.958Z"
   },
   {
    "duration": 4,
    "start_time": "2022-05-26T17:38:55.986Z"
   },
   {
    "duration": 4,
    "start_time": "2022-05-26T17:38:55.991Z"
   },
   {
    "duration": 17,
    "start_time": "2022-05-26T17:38:55.997Z"
   },
   {
    "duration": 9,
    "start_time": "2022-05-26T17:38:56.016Z"
   },
   {
    "duration": 57,
    "start_time": "2022-05-26T17:38:56.026Z"
   },
   {
    "duration": 7,
    "start_time": "2022-05-26T17:38:56.085Z"
   },
   {
    "duration": 11,
    "start_time": "2022-05-26T17:38:56.094Z"
   },
   {
    "duration": 7,
    "start_time": "2022-05-26T17:38:56.107Z"
   },
   {
    "duration": 9,
    "start_time": "2022-05-26T17:38:56.116Z"
   },
   {
    "duration": 44,
    "start_time": "2022-05-26T17:38:56.128Z"
   },
   {
    "duration": 14,
    "start_time": "2022-05-26T17:38:56.176Z"
   },
   {
    "duration": 14,
    "start_time": "2022-05-26T17:38:56.192Z"
   },
   {
    "duration": 5,
    "start_time": "2022-05-26T17:38:56.208Z"
   },
   {
    "duration": 9,
    "start_time": "2022-05-26T17:38:56.215Z"
   },
   {
    "duration": 7,
    "start_time": "2022-05-26T17:38:56.226Z"
   },
   {
    "duration": 340,
    "start_time": "2022-05-26T17:38:56.234Z"
   },
   {
    "duration": 11,
    "start_time": "2022-05-26T17:38:56.588Z"
   },
   {
    "duration": 394,
    "start_time": "2022-05-26T17:38:56.601Z"
   },
   {
    "duration": 9,
    "start_time": "2022-05-26T17:38:56.997Z"
   },
   {
    "duration": 299,
    "start_time": "2022-05-26T17:38:57.008Z"
   },
   {
    "duration": 62,
    "start_time": "2022-05-26T17:38:57.309Z"
   },
   {
    "duration": 308,
    "start_time": "2022-05-26T17:38:57.377Z"
   },
   {
    "duration": 8,
    "start_time": "2022-05-26T17:38:57.687Z"
   },
   {
    "duration": 374,
    "start_time": "2022-05-26T17:38:57.697Z"
   },
   {
    "duration": 818,
    "start_time": "2022-05-26T17:38:58.077Z"
   },
   {
    "duration": 11,
    "start_time": "2022-05-26T17:38:58.898Z"
   },
   {
    "duration": 15,
    "start_time": "2022-05-26T17:38:58.911Z"
   },
   {
    "duration": 34,
    "start_time": "2022-05-26T17:38:58.928Z"
   },
   {
    "duration": 287,
    "start_time": "2022-05-26T17:38:58.964Z"
   },
   {
    "duration": 5,
    "start_time": "2022-05-26T17:38:59.253Z"
   },
   {
    "duration": 69,
    "start_time": "2022-05-26T17:38:59.265Z"
   },
   {
    "duration": 210,
    "start_time": "2022-05-26T17:38:59.336Z"
   },
   {
    "duration": 73,
    "start_time": "2022-05-26T17:38:59.548Z"
   },
   {
    "duration": 10,
    "start_time": "2022-05-26T17:38:59.623Z"
   },
   {
    "duration": 744,
    "start_time": "2022-05-26T17:38:59.635Z"
   },
   {
    "duration": 4,
    "start_time": "2022-05-26T17:39:00.381Z"
   },
   {
    "duration": 9704,
    "start_time": "2022-05-26T17:39:00.389Z"
   },
   {
    "duration": 3,
    "start_time": "2022-05-26T17:39:10.095Z"
   },
   {
    "duration": 5,
    "start_time": "2022-05-26T17:39:10.100Z"
   },
   {
    "duration": 11,
    "start_time": "2022-05-26T17:39:10.107Z"
   },
   {
    "duration": 17,
    "start_time": "2022-05-26T17:39:10.120Z"
   },
   {
    "duration": 16,
    "start_time": "2022-05-26T17:39:10.139Z"
   },
   {
    "duration": 20,
    "start_time": "2022-05-26T17:39:10.157Z"
   },
   {
    "duration": 5295,
    "start_time": "2022-05-26T17:39:10.180Z"
   },
   {
    "duration": 268,
    "start_time": "2022-05-26T17:39:15.483Z"
   },
   {
    "duration": 550,
    "start_time": "2022-05-26T17:39:15.753Z"
   },
   {
    "duration": 5,
    "start_time": "2022-05-26T17:39:16.305Z"
   },
   {
    "duration": 34,
    "start_time": "2022-05-26T17:39:16.311Z"
   },
   {
    "duration": 52,
    "start_time": "2022-05-26T17:39:16.347Z"
   },
   {
    "duration": 1287,
    "start_time": "2022-05-26T17:39:16.401Z"
   },
   {
    "duration": 38910,
    "start_time": "2022-05-26T17:39:17.765Z"
   },
   {
    "duration": 95,
    "start_time": "2022-05-26T17:39:56.680Z"
   },
   {
    "duration": 260,
    "start_time": "2022-05-26T17:39:56.777Z"
   },
   {
    "duration": 444,
    "start_time": "2022-05-26T17:39:57.039Z"
   },
   {
    "duration": 4,
    "start_time": "2022-05-26T17:39:57.485Z"
   },
   {
    "duration": 21,
    "start_time": "2022-05-26T17:39:57.491Z"
   },
   {
    "duration": 2419,
    "start_time": "2022-05-26T17:39:57.514Z"
   },
   {
    "duration": 45,
    "start_time": "2022-05-26T17:39:59.935Z"
   },
   {
    "duration": 41,
    "start_time": "2022-05-26T17:39:59.982Z"
   },
   {
    "duration": 170,
    "start_time": "2022-05-26T17:40:00.025Z"
   },
   {
    "duration": 7,
    "start_time": "2022-05-26T17:40:00.197Z"
   },
   {
    "duration": 127,
    "start_time": "2022-05-26T17:40:00.206Z"
   },
   {
    "duration": 153,
    "start_time": "2022-05-26T17:40:00.335Z"
   },
   {
    "duration": 13,
    "start_time": "2022-05-26T17:40:26.888Z"
   },
   {
    "duration": 7,
    "start_time": "2022-05-26T17:40:36.447Z"
   },
   {
    "duration": 1446,
    "start_time": "2022-05-26T17:43:33.853Z"
   },
   {
    "duration": 1298,
    "start_time": "2022-05-26T17:43:35.301Z"
   },
   {
    "duration": 56,
    "start_time": "2022-05-26T17:43:36.601Z"
   },
   {
    "duration": 26,
    "start_time": "2022-05-26T17:43:36.660Z"
   },
   {
    "duration": 5,
    "start_time": "2022-05-26T17:43:36.688Z"
   },
   {
    "duration": 4,
    "start_time": "2022-05-26T17:43:36.695Z"
   },
   {
    "duration": 19,
    "start_time": "2022-05-26T17:43:36.701Z"
   },
   {
    "duration": 9,
    "start_time": "2022-05-26T17:43:36.723Z"
   },
   {
    "duration": 50,
    "start_time": "2022-05-26T17:43:36.734Z"
   },
   {
    "duration": 7,
    "start_time": "2022-05-26T17:43:36.787Z"
   },
   {
    "duration": 11,
    "start_time": "2022-05-26T17:43:36.796Z"
   },
   {
    "duration": 7,
    "start_time": "2022-05-26T17:43:36.808Z"
   },
   {
    "duration": 11,
    "start_time": "2022-05-26T17:43:36.817Z"
   },
   {
    "duration": 44,
    "start_time": "2022-05-26T17:43:36.829Z"
   },
   {
    "duration": 9,
    "start_time": "2022-05-26T17:43:36.879Z"
   },
   {
    "duration": 13,
    "start_time": "2022-05-26T17:43:36.890Z"
   },
   {
    "duration": 5,
    "start_time": "2022-05-26T17:43:36.905Z"
   },
   {
    "duration": 8,
    "start_time": "2022-05-26T17:43:36.911Z"
   },
   {
    "duration": 6,
    "start_time": "2022-05-26T17:43:36.920Z"
   },
   {
    "duration": 167,
    "start_time": "2022-05-26T17:43:36.928Z"
   },
   {
    "duration": 8,
    "start_time": "2022-05-26T17:43:37.097Z"
   },
   {
    "duration": 147,
    "start_time": "2022-05-26T17:43:37.107Z"
   },
   {
    "duration": 15,
    "start_time": "2022-05-26T17:43:37.255Z"
   },
   {
    "duration": 154,
    "start_time": "2022-05-26T17:43:37.271Z"
   },
   {
    "duration": 12,
    "start_time": "2022-05-26T17:43:37.427Z"
   },
   {
    "duration": 183,
    "start_time": "2022-05-26T17:43:37.441Z"
   },
   {
    "duration": 6,
    "start_time": "2022-05-26T17:43:37.626Z"
   },
   {
    "duration": 201,
    "start_time": "2022-05-26T17:43:37.636Z"
   },
   {
    "duration": 461,
    "start_time": "2022-05-26T17:43:37.838Z"
   },
   {
    "duration": 9,
    "start_time": "2022-05-26T17:43:38.301Z"
   },
   {
    "duration": 5,
    "start_time": "2022-05-26T17:43:38.312Z"
   },
   {
    "duration": 47,
    "start_time": "2022-05-26T17:43:38.319Z"
   },
   {
    "duration": 240,
    "start_time": "2022-05-26T17:43:38.370Z"
   },
   {
    "duration": 5,
    "start_time": "2022-05-26T17:43:38.612Z"
   },
   {
    "duration": 84,
    "start_time": "2022-05-26T17:43:38.618Z"
   },
   {
    "duration": 86,
    "start_time": "2022-05-26T17:43:38.703Z"
   },
   {
    "duration": 208,
    "start_time": "2022-05-26T17:43:38.790Z"
   },
   {
    "duration": 17,
    "start_time": "2022-05-26T17:43:39.000Z"
   },
   {
    "duration": 752,
    "start_time": "2022-05-26T17:43:39.019Z"
   },
   {
    "duration": 5,
    "start_time": "2022-05-26T17:43:39.778Z"
   },
   {
    "duration": 9781,
    "start_time": "2022-05-26T17:43:39.785Z"
   },
   {
    "duration": 8,
    "start_time": "2022-05-26T17:43:49.568Z"
   },
   {
    "duration": 31,
    "start_time": "2022-05-26T17:43:49.578Z"
   },
   {
    "duration": 5,
    "start_time": "2022-05-26T17:43:49.611Z"
   },
   {
    "duration": 6,
    "start_time": "2022-05-26T17:43:49.617Z"
   },
   {
    "duration": 6,
    "start_time": "2022-05-26T17:43:49.625Z"
   },
   {
    "duration": 7,
    "start_time": "2022-05-26T17:43:49.633Z"
   },
   {
    "duration": 4536,
    "start_time": "2022-05-26T17:43:49.641Z"
   },
   {
    "duration": 287,
    "start_time": "2022-05-26T17:43:54.205Z"
   },
   {
    "duration": 674,
    "start_time": "2022-05-26T17:43:54.494Z"
   },
   {
    "duration": 8,
    "start_time": "2022-05-26T17:43:55.171Z"
   },
   {
    "duration": 65,
    "start_time": "2022-05-26T17:43:55.182Z"
   },
   {
    "duration": 45,
    "start_time": "2022-05-26T17:43:55.249Z"
   },
   {
    "duration": 1470,
    "start_time": "2022-05-26T17:43:55.296Z"
   },
   {
    "duration": 42208,
    "start_time": "2022-05-26T17:43:56.768Z"
   },
   {
    "duration": 103,
    "start_time": "2022-05-26T17:44:38.980Z"
   },
   {
    "duration": 290,
    "start_time": "2022-05-26T17:44:39.085Z"
   },
   {
    "duration": 510,
    "start_time": "2022-05-26T17:44:39.377Z"
   },
   {
    "duration": 6,
    "start_time": "2022-05-26T17:44:39.889Z"
   },
   {
    "duration": 12,
    "start_time": "2022-05-26T17:44:39.898Z"
   },
   {
    "duration": 2676,
    "start_time": "2022-05-26T17:44:39.911Z"
   },
   {
    "duration": 32,
    "start_time": "2022-05-26T17:44:42.589Z"
   },
   {
    "duration": 46,
    "start_time": "2022-05-26T17:44:42.623Z"
   },
   {
    "duration": 176,
    "start_time": "2022-05-26T17:44:42.671Z"
   },
   {
    "duration": 7,
    "start_time": "2022-05-26T17:44:42.849Z"
   },
   {
    "duration": 2956,
    "start_time": "2022-05-26T17:44:42.858Z"
   },
   {
    "duration": 8,
    "start_time": "2022-05-26T17:44:45.816Z"
   },
   {
    "duration": 11,
    "start_time": "2022-05-26T17:47:51.588Z"
   },
   {
    "duration": 1833,
    "start_time": "2022-05-26T17:47:58.625Z"
   },
   {
    "duration": 1578,
    "start_time": "2022-05-26T17:48:00.460Z"
   },
   {
    "duration": 94,
    "start_time": "2022-05-26T17:48:02.041Z"
   },
   {
    "duration": 40,
    "start_time": "2022-05-26T17:48:02.138Z"
   },
   {
    "duration": 6,
    "start_time": "2022-05-26T17:48:02.184Z"
   },
   {
    "duration": 22,
    "start_time": "2022-05-26T17:48:02.194Z"
   },
   {
    "duration": 20,
    "start_time": "2022-05-26T17:48:02.222Z"
   },
   {
    "duration": 12,
    "start_time": "2022-05-26T17:48:02.244Z"
   },
   {
    "duration": 30,
    "start_time": "2022-05-26T17:48:02.258Z"
   },
   {
    "duration": 35,
    "start_time": "2022-05-26T17:48:02.290Z"
   },
   {
    "duration": 21,
    "start_time": "2022-05-26T17:48:02.327Z"
   },
   {
    "duration": 9,
    "start_time": "2022-05-26T17:48:02.350Z"
   },
   {
    "duration": 21,
    "start_time": "2022-05-26T17:48:02.363Z"
   },
   {
    "duration": 31,
    "start_time": "2022-05-26T17:48:02.389Z"
   },
   {
    "duration": 9,
    "start_time": "2022-05-26T17:48:02.423Z"
   },
   {
    "duration": 19,
    "start_time": "2022-05-26T17:48:02.435Z"
   },
   {
    "duration": 20,
    "start_time": "2022-05-26T17:48:02.457Z"
   },
   {
    "duration": 36,
    "start_time": "2022-05-26T17:48:02.480Z"
   },
   {
    "duration": 8,
    "start_time": "2022-05-26T17:48:02.518Z"
   },
   {
    "duration": 196,
    "start_time": "2022-05-26T17:48:02.529Z"
   },
   {
    "duration": 12,
    "start_time": "2022-05-26T17:48:02.727Z"
   },
   {
    "duration": 211,
    "start_time": "2022-05-26T17:48:02.741Z"
   },
   {
    "duration": 8,
    "start_time": "2022-05-26T17:48:02.954Z"
   },
   {
    "duration": 186,
    "start_time": "2022-05-26T17:48:02.964Z"
   },
   {
    "duration": 12,
    "start_time": "2022-05-26T17:48:03.152Z"
   },
   {
    "duration": 238,
    "start_time": "2022-05-26T17:48:03.167Z"
   },
   {
    "duration": 8,
    "start_time": "2022-05-26T17:48:03.408Z"
   },
   {
    "duration": 189,
    "start_time": "2022-05-26T17:48:03.419Z"
   },
   {
    "duration": 550,
    "start_time": "2022-05-26T17:48:03.610Z"
   },
   {
    "duration": 17,
    "start_time": "2022-05-26T17:48:04.163Z"
   },
   {
    "duration": 44,
    "start_time": "2022-05-26T17:48:04.182Z"
   },
   {
    "duration": 28,
    "start_time": "2022-05-26T17:48:04.228Z"
   },
   {
    "duration": 278,
    "start_time": "2022-05-26T17:48:04.258Z"
   },
   {
    "duration": 6,
    "start_time": "2022-05-26T17:48:04.539Z"
   },
   {
    "duration": 94,
    "start_time": "2022-05-26T17:48:04.546Z"
   },
   {
    "duration": 239,
    "start_time": "2022-05-26T17:48:04.642Z"
   },
   {
    "duration": 71,
    "start_time": "2022-05-26T17:48:04.883Z"
   },
   {
    "duration": 47,
    "start_time": "2022-05-26T17:48:04.956Z"
   },
   {
    "duration": 784,
    "start_time": "2022-05-26T17:48:05.014Z"
   },
   {
    "duration": 5,
    "start_time": "2022-05-26T17:48:05.800Z"
   },
   {
    "duration": 13464,
    "start_time": "2022-05-26T17:48:05.809Z"
   },
   {
    "duration": 4,
    "start_time": "2022-05-26T17:48:19.275Z"
   },
   {
    "duration": 141,
    "start_time": "2022-05-26T17:48:19.281Z"
   },
   {
    "duration": 12,
    "start_time": "2022-05-26T17:48:19.428Z"
   },
   {
    "duration": 9,
    "start_time": "2022-05-26T17:48:19.442Z"
   },
   {
    "duration": 63,
    "start_time": "2022-05-26T17:48:19.454Z"
   },
   {
    "duration": 13,
    "start_time": "2022-05-26T17:48:19.520Z"
   },
   {
    "duration": 3666,
    "start_time": "2022-05-26T17:48:19.539Z"
   },
   {
    "duration": 281,
    "start_time": "2022-05-26T17:48:23.226Z"
   },
   {
    "duration": 787,
    "start_time": "2022-05-26T17:48:23.509Z"
   },
   {
    "duration": 6,
    "start_time": "2022-05-26T17:48:24.299Z"
   },
   {
    "duration": 43,
    "start_time": "2022-05-26T17:48:24.307Z"
   },
   {
    "duration": 75,
    "start_time": "2022-05-26T17:48:24.353Z"
   },
   {
    "duration": 1538,
    "start_time": "2022-05-26T17:48:24.431Z"
   },
   {
    "duration": 47442,
    "start_time": "2022-05-26T17:48:25.974Z"
   },
   {
    "duration": 90,
    "start_time": "2022-05-26T17:49:13.419Z"
   },
   {
    "duration": 378,
    "start_time": "2022-05-26T17:49:13.512Z"
   },
   {
    "duration": 516,
    "start_time": "2022-05-26T17:49:13.892Z"
   },
   {
    "duration": 4,
    "start_time": "2022-05-26T17:49:14.411Z"
   },
   {
    "duration": 11,
    "start_time": "2022-05-26T17:49:14.417Z"
   },
   {
    "duration": 2970,
    "start_time": "2022-05-26T17:49:14.430Z"
   },
   {
    "duration": 45,
    "start_time": "2022-05-26T17:49:17.402Z"
   },
   {
    "duration": 61,
    "start_time": "2022-05-26T17:49:17.449Z"
   },
   {
    "duration": 229,
    "start_time": "2022-05-26T17:49:17.513Z"
   },
   {
    "duration": 27,
    "start_time": "2022-05-26T17:49:17.745Z"
   },
   {
    "duration": 3200,
    "start_time": "2022-05-26T17:49:17.779Z"
   },
   {
    "duration": 10,
    "start_time": "2022-05-26T17:49:20.983Z"
   },
   {
    "duration": 4,
    "start_time": "2022-05-26T17:52:39.248Z"
   },
   {
    "duration": 1624,
    "start_time": "2022-05-26T18:04:12.725Z"
   },
   {
    "duration": 2,
    "start_time": "2022-05-26T18:04:14.351Z"
   },
   {
    "duration": 83,
    "start_time": "2022-05-26T18:04:14.355Z"
   },
   {
    "duration": 20,
    "start_time": "2022-05-26T18:04:14.440Z"
   },
   {
    "duration": 5,
    "start_time": "2022-05-26T18:04:14.462Z"
   },
   {
    "duration": 29,
    "start_time": "2022-05-26T18:04:14.473Z"
   },
   {
    "duration": 19,
    "start_time": "2022-05-26T18:04:14.504Z"
   },
   {
    "duration": 10,
    "start_time": "2022-05-26T18:04:14.525Z"
   },
   {
    "duration": 18,
    "start_time": "2022-05-26T18:04:14.537Z"
   },
   {
    "duration": 14,
    "start_time": "2022-05-26T18:04:14.559Z"
   },
   {
    "duration": 41,
    "start_time": "2022-05-26T18:04:14.575Z"
   },
   {
    "duration": 11,
    "start_time": "2022-05-26T18:04:14.618Z"
   },
   {
    "duration": 15,
    "start_time": "2022-05-26T18:04:14.631Z"
   },
   {
    "duration": 7,
    "start_time": "2022-05-26T18:04:14.648Z"
   },
   {
    "duration": 13,
    "start_time": "2022-05-26T18:04:14.657Z"
   },
   {
    "duration": 45,
    "start_time": "2022-05-26T18:04:14.672Z"
   },
   {
    "duration": 6,
    "start_time": "2022-05-26T18:04:14.720Z"
   },
   {
    "duration": 7,
    "start_time": "2022-05-26T18:04:14.728Z"
   },
   {
    "duration": 7,
    "start_time": "2022-05-26T18:04:14.737Z"
   },
   {
    "duration": 155,
    "start_time": "2022-05-26T18:04:14.746Z"
   },
   {
    "duration": 9,
    "start_time": "2022-05-26T18:04:14.903Z"
   },
   {
    "duration": 171,
    "start_time": "2022-05-26T18:04:14.913Z"
   },
   {
    "duration": 11,
    "start_time": "2022-05-26T18:04:15.086Z"
   },
   {
    "duration": 154,
    "start_time": "2022-05-26T18:04:15.099Z"
   },
   {
    "duration": 17,
    "start_time": "2022-05-26T18:04:15.255Z"
   },
   {
    "duration": 165,
    "start_time": "2022-05-26T18:04:15.274Z"
   },
   {
    "duration": 6,
    "start_time": "2022-05-26T18:04:15.440Z"
   },
   {
    "duration": 175,
    "start_time": "2022-05-26T18:04:15.450Z"
   },
   {
    "duration": 504,
    "start_time": "2022-05-26T18:04:15.627Z"
   },
   {
    "duration": 10,
    "start_time": "2022-05-26T18:04:16.133Z"
   },
   {
    "duration": 22,
    "start_time": "2022-05-26T18:04:16.145Z"
   },
   {
    "duration": 28,
    "start_time": "2022-05-26T18:04:16.168Z"
   },
   {
    "duration": 266,
    "start_time": "2022-05-26T18:04:16.199Z"
   },
   {
    "duration": 7,
    "start_time": "2022-05-26T18:04:16.468Z"
   },
   {
    "duration": 93,
    "start_time": "2022-05-26T18:04:16.477Z"
   },
   {
    "duration": 92,
    "start_time": "2022-05-26T18:04:16.573Z"
   },
   {
    "duration": 222,
    "start_time": "2022-05-26T18:04:16.677Z"
   },
   {
    "duration": 12,
    "start_time": "2022-05-26T18:04:16.902Z"
   },
   {
    "duration": 870,
    "start_time": "2022-05-26T18:04:16.916Z"
   },
   {
    "duration": 7,
    "start_time": "2022-05-26T18:04:17.788Z"
   },
   {
    "duration": 13334,
    "start_time": "2022-05-26T18:04:17.801Z"
   },
   {
    "duration": 3,
    "start_time": "2022-05-26T18:04:31.137Z"
   },
   {
    "duration": 10,
    "start_time": "2022-05-26T18:04:31.142Z"
   },
   {
    "duration": 12,
    "start_time": "2022-05-26T18:04:31.154Z"
   },
   {
    "duration": 42,
    "start_time": "2022-05-26T18:04:31.168Z"
   },
   {
    "duration": 9,
    "start_time": "2022-05-26T18:04:31.212Z"
   },
   {
    "duration": 7,
    "start_time": "2022-05-26T18:04:31.223Z"
   },
   {
    "duration": 4573,
    "start_time": "2022-05-26T18:04:31.231Z"
   },
   {
    "duration": 347,
    "start_time": "2022-05-26T18:04:35.867Z"
   },
   {
    "duration": 1592,
    "start_time": "2022-05-26T18:04:36.216Z"
   },
   {
    "duration": 57,
    "start_time": "2022-05-26T18:04:37.810Z"
   },
   {
    "duration": 45,
    "start_time": "2022-05-26T18:04:37.869Z"
   },
   {
    "duration": 152,
    "start_time": "2022-05-26T18:04:37.916Z"
   },
   {
    "duration": 1626,
    "start_time": "2022-05-26T18:04:38.071Z"
   },
   {
    "duration": 43190,
    "start_time": "2022-05-26T18:04:39.699Z"
   },
   {
    "duration": 107,
    "start_time": "2022-05-26T18:05:22.891Z"
   },
   {
    "duration": 274,
    "start_time": "2022-05-26T18:05:23.000Z"
   },
   {
    "duration": 491,
    "start_time": "2022-05-26T18:05:23.277Z"
   },
   {
    "duration": 4,
    "start_time": "2022-05-26T18:05:23.770Z"
   },
   {
    "duration": 32,
    "start_time": "2022-05-26T18:05:23.776Z"
   },
   {
    "duration": 2733,
    "start_time": "2022-05-26T18:05:23.809Z"
   },
   {
    "duration": 46,
    "start_time": "2022-05-26T18:05:26.544Z"
   },
   {
    "duration": 50,
    "start_time": "2022-05-26T18:05:26.592Z"
   },
   {
    "duration": 207,
    "start_time": "2022-05-26T18:05:26.644Z"
   },
   {
    "duration": 21,
    "start_time": "2022-05-26T18:05:26.854Z"
   },
   {
    "duration": 3134,
    "start_time": "2022-05-26T18:05:26.877Z"
   },
   {
    "duration": 7,
    "start_time": "2022-05-26T18:05:30.013Z"
   },
   {
    "duration": 9,
    "start_time": "2022-05-27T08:46:38.120Z"
   },
   {
    "duration": 1680,
    "start_time": "2022-05-27T08:47:32.395Z"
   },
   {
    "duration": 3,
    "start_time": "2022-05-27T08:47:34.077Z"
   },
   {
    "duration": 95,
    "start_time": "2022-05-27T08:47:36.746Z"
   },
   {
    "duration": 305,
    "start_time": "2022-05-27T08:47:58.947Z"
   },
   {
    "duration": 15,
    "start_time": "2022-05-27T08:48:19.746Z"
   },
   {
    "duration": 132,
    "start_time": "2022-05-27T08:48:26.119Z"
   },
   {
    "duration": 27,
    "start_time": "2022-05-27T08:50:16.348Z"
   },
   {
    "duration": 5,
    "start_time": "2022-05-27T08:50:33.355Z"
   },
   {
    "duration": 865,
    "start_time": "2022-05-27T08:50:40.280Z"
   },
   {
    "duration": 764,
    "start_time": "2022-05-27T08:51:02.919Z"
   }
  ],
  "kernelspec": {
   "display_name": "Python 3 (ipykernel)",
   "language": "python",
   "name": "python3"
  },
  "language_info": {
   "codemirror_mode": {
    "name": "ipython",
    "version": 3
   },
   "file_extension": ".py",
   "mimetype": "text/x-python",
   "name": "python",
   "nbconvert_exporter": "python",
   "pygments_lexer": "ipython3",
   "version": "3.9.7"
  },
  "toc": {
   "base_numbering": 1,
   "nav_menu": {
    "height": "97px",
    "width": "187px"
   },
   "number_sections": true,
   "sideBar": true,
   "skip_h1_title": true,
   "title_cell": "Table of Contents",
   "title_sidebar": "Contents",
   "toc_cell": true,
   "toc_position": {
    "height": "calc(100% - 180px)",
    "left": "10px",
    "top": "150px",
    "width": "325.819px"
   },
   "toc_section_display": true,
   "toc_window_display": true
  }
 },
 "nbformat": 4,
 "nbformat_minor": 5
}
