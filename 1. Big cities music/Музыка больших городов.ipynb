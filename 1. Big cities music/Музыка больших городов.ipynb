{
 "cells": [
  {
   "cell_type": "markdown",
   "metadata": {
    "id": "VUC88oWjTJw2"
   },
   "source": [
    "<div style=\"border-radius: 15px; border:solid #4BA3C3 2.5px; padding: 20px\"> <h1 style=\"color:#4BA3C3; margin-bottom:20px\">Яндекс.Музыка </h1>\n",
    "\n",
    "Сравнение Москвы и Петербурга окружено мифами. Например:\n",
    " * Москва — мегаполис, подчинённый жёсткому ритму рабочей недели;\n",
    " * Петербург — культурная столица, со своими вкусами.\n",
    "\n",
    "С использованием данных Яндекс.Музыки необходимо сравнить поведение пользователей двух столиц.\n",
    "\n",
    "**Цель исследования** — проверка трех гипотез:\n",
    "1. Активность пользователей зависит от дня недели. Причём в Москве и Петербурге это проявляется по-разному.\n",
    "2. В понедельник утром в Москве преобладают одни жанры, а в Петербурге — другие. Так же и вечером пятницы преобладают разные жанры — в зависимости от города. \n",
    "3. Москва и Петербург предпочитают разные жанры музыки. В Москве чаще слушают поп-музыку, в Петербурге — русский рэп.\n",
    "\n",
    "**Ход исследования**\n",
    "\n",
    "Данные о поведении пользователей находятся в файле `yandex_music_project.csv`. О качестве данных ничего не известно, поэтому перед проверкой гипотез понадобится обзор данных. \n",
    " \n",
    "**Этапы исследования:**\n",
    " 1. Обзор данных.\n",
    " 2. Предобработка данных.\n",
    " 3. Проверка гипотез."
   ]
  },
  {
   "cell_type": "markdown",
   "metadata": {
    "id": "Ml1hmfXC_Zcs"
   },
   "source": [
    "## Обзор данных\n",
    "\n",
    "Составим первое представление о данных Яндекс.Музыки."
   ]
  },
  {
   "cell_type": "code",
   "execution_count": 1,
   "metadata": {
    "id": "AXN7PHPN_Zcs"
   },
   "outputs": [],
   "source": [
    "import pandas as pd"
   ]
  },
  {
   "cell_type": "markdown",
   "metadata": {
    "id": "SG23P8tt_Zcs"
   },
   "source": [
    "Сохраним данные в переменной `df`:"
   ]
  },
  {
   "cell_type": "code",
   "execution_count": 2,
   "metadata": {
    "id": "fFVu7vqh_Zct"
   },
   "outputs": [],
   "source": [
    "df = pd.read_csv(\n",
    "    'D:/1_Проекты Практикум/М_1/1_Музыка больших городов/music.csv'\n",
    ")"
   ]
  },
  {
   "cell_type": "code",
   "execution_count": 3,
   "metadata": {
    "id": "oWTVX3gW_Zct",
    "scrolled": true
   },
   "outputs": [
    {
     "data": {
      "text/html": [
       "<div>\n",
       "<style scoped>\n",
       "    .dataframe tbody tr th:only-of-type {\n",
       "        vertical-align: middle;\n",
       "    }\n",
       "\n",
       "    .dataframe tbody tr th {\n",
       "        vertical-align: top;\n",
       "    }\n",
       "\n",
       "    .dataframe thead th {\n",
       "        text-align: right;\n",
       "    }\n",
       "</style>\n",
       "<table border=\"1\" class=\"dataframe\">\n",
       "  <thead>\n",
       "    <tr style=\"text-align: right;\">\n",
       "      <th></th>\n",
       "      <th>userID</th>\n",
       "      <th>Track</th>\n",
       "      <th>artist</th>\n",
       "      <th>genre</th>\n",
       "      <th>City</th>\n",
       "      <th>time</th>\n",
       "      <th>Day</th>\n",
       "    </tr>\n",
       "  </thead>\n",
       "  <tbody>\n",
       "    <tr>\n",
       "      <th>0</th>\n",
       "      <td>FFB692EC</td>\n",
       "      <td>Kamigata To Boots</td>\n",
       "      <td>The Mass Missile</td>\n",
       "      <td>rock</td>\n",
       "      <td>Saint-Petersburg</td>\n",
       "      <td>20:28:33</td>\n",
       "      <td>Wednesday</td>\n",
       "    </tr>\n",
       "    <tr>\n",
       "      <th>1</th>\n",
       "      <td>55204538</td>\n",
       "      <td>Delayed Because of Accident</td>\n",
       "      <td>Andreas Rönnberg</td>\n",
       "      <td>rock</td>\n",
       "      <td>Moscow</td>\n",
       "      <td>14:07:09</td>\n",
       "      <td>Friday</td>\n",
       "    </tr>\n",
       "    <tr>\n",
       "      <th>2</th>\n",
       "      <td>20EC38</td>\n",
       "      <td>Funiculì funiculà</td>\n",
       "      <td>Mario Lanza</td>\n",
       "      <td>pop</td>\n",
       "      <td>Saint-Petersburg</td>\n",
       "      <td>20:58:07</td>\n",
       "      <td>Wednesday</td>\n",
       "    </tr>\n",
       "    <tr>\n",
       "      <th>3</th>\n",
       "      <td>A3DD03C9</td>\n",
       "      <td>Dragons in the Sunset</td>\n",
       "      <td>Fire + Ice</td>\n",
       "      <td>folk</td>\n",
       "      <td>Saint-Petersburg</td>\n",
       "      <td>08:37:09</td>\n",
       "      <td>Monday</td>\n",
       "    </tr>\n",
       "    <tr>\n",
       "      <th>4</th>\n",
       "      <td>E2DC1FAE</td>\n",
       "      <td>Soul People</td>\n",
       "      <td>Space Echo</td>\n",
       "      <td>dance</td>\n",
       "      <td>Moscow</td>\n",
       "      <td>08:34:34</td>\n",
       "      <td>Monday</td>\n",
       "    </tr>\n",
       "    <tr>\n",
       "      <th>5</th>\n",
       "      <td>842029A1</td>\n",
       "      <td>Преданная</td>\n",
       "      <td>IMPERVTOR</td>\n",
       "      <td>rusrap</td>\n",
       "      <td>Saint-Petersburg</td>\n",
       "      <td>13:09:41</td>\n",
       "      <td>Friday</td>\n",
       "    </tr>\n",
       "    <tr>\n",
       "      <th>6</th>\n",
       "      <td>4CB90AA5</td>\n",
       "      <td>True</td>\n",
       "      <td>Roman Messer</td>\n",
       "      <td>dance</td>\n",
       "      <td>Moscow</td>\n",
       "      <td>13:00:07</td>\n",
       "      <td>Wednesday</td>\n",
       "    </tr>\n",
       "    <tr>\n",
       "      <th>7</th>\n",
       "      <td>F03E1C1F</td>\n",
       "      <td>Feeling This Way</td>\n",
       "      <td>Polina Griffith</td>\n",
       "      <td>dance</td>\n",
       "      <td>Moscow</td>\n",
       "      <td>20:47:49</td>\n",
       "      <td>Wednesday</td>\n",
       "    </tr>\n",
       "    <tr>\n",
       "      <th>8</th>\n",
       "      <td>8FA1D3BE</td>\n",
       "      <td>И вновь продолжается бой</td>\n",
       "      <td>NaN</td>\n",
       "      <td>ruspop</td>\n",
       "      <td>Moscow</td>\n",
       "      <td>09:17:40</td>\n",
       "      <td>Friday</td>\n",
       "    </tr>\n",
       "    <tr>\n",
       "      <th>9</th>\n",
       "      <td>E772D5C0</td>\n",
       "      <td>Pessimist</td>\n",
       "      <td>NaN</td>\n",
       "      <td>dance</td>\n",
       "      <td>Saint-Petersburg</td>\n",
       "      <td>21:20:49</td>\n",
       "      <td>Wednesday</td>\n",
       "    </tr>\n",
       "  </tbody>\n",
       "</table>\n",
       "</div>"
      ],
      "text/plain": [
       "     userID                        Track            artist   genre  \\\n",
       "0  FFB692EC            Kamigata To Boots  The Mass Missile    rock   \n",
       "1  55204538  Delayed Because of Accident  Andreas Rönnberg    rock   \n",
       "2    20EC38            Funiculì funiculà       Mario Lanza     pop   \n",
       "3  A3DD03C9        Dragons in the Sunset        Fire + Ice    folk   \n",
       "4  E2DC1FAE                  Soul People        Space Echo   dance   \n",
       "5  842029A1                    Преданная         IMPERVTOR  rusrap   \n",
       "6  4CB90AA5                         True      Roman Messer   dance   \n",
       "7  F03E1C1F             Feeling This Way   Polina Griffith   dance   \n",
       "8  8FA1D3BE     И вновь продолжается бой               NaN  ruspop   \n",
       "9  E772D5C0                    Pessimist               NaN   dance   \n",
       "\n",
       "             City        time        Day  \n",
       "0  Saint-Petersburg  20:28:33  Wednesday  \n",
       "1            Moscow  14:07:09     Friday  \n",
       "2  Saint-Petersburg  20:58:07  Wednesday  \n",
       "3  Saint-Petersburg  08:37:09     Monday  \n",
       "4            Moscow  08:34:34     Monday  \n",
       "5  Saint-Petersburg  13:09:41     Friday  \n",
       "6            Moscow  13:00:07  Wednesday  \n",
       "7            Moscow  20:47:49  Wednesday  \n",
       "8            Moscow  09:17:40     Friday  \n",
       "9  Saint-Petersburg  21:20:49  Wednesday  "
      ]
     },
     "execution_count": 3,
     "metadata": {},
     "output_type": "execute_result"
    }
   ],
   "source": [
    "# вывод первых 10 строк таблицы df\n",
    "\n",
    "df.head(10) "
   ]
  },
  {
   "cell_type": "code",
   "execution_count": 4,
   "metadata": {
    "id": "DSf2kIb-_Zct",
    "scrolled": true
   },
   "outputs": [
    {
     "name": "stdout",
     "output_type": "stream",
     "text": [
      "<class 'pandas.core.frame.DataFrame'>\n",
      "RangeIndex: 65079 entries, 0 to 65078\n",
      "Data columns (total 7 columns):\n",
      " #   Column    Non-Null Count  Dtype \n",
      "---  ------    --------------  ----- \n",
      " 0     userID  65079 non-null  object\n",
      " 1   Track     63848 non-null  object\n",
      " 2   artist    57876 non-null  object\n",
      " 3   genre     63881 non-null  object\n",
      " 4     City    65079 non-null  object\n",
      " 5   time      65079 non-null  object\n",
      " 6   Day       65079 non-null  object\n",
      "dtypes: object(7)\n",
      "memory usage: 3.5+ MB\n"
     ]
    }
   ],
   "source": [
    "# получение общей информации о данных в таблице df\n",
    "\n",
    "df.info() "
   ]
  },
  {
   "cell_type": "markdown",
   "metadata": {
    "id": "TaQ2Iwbr_Zct"
   },
   "source": [
    "Итак, в таблице семь столбцов. Тип данных во всех столбцах — `object`.\n",
    "\n",
    "Согласно документации к данным:\n",
    "* `userID` — идентификатор пользователя;\n",
    "* `Track` — название трека;  \n",
    "* `artist` — имя исполнителя;\n",
    "* `genre` — название жанра;\n",
    "* `City` — город пользователя;\n",
    "* `time` — время начала прослушивания;\n",
    "* `Day` — день недели.\n",
    "\n",
    "В названиях колонок видны три нарушения стиля:\n",
    "1. Строчные буквы сочетаются с прописными.\n",
    "2. Встречаются пробелы.\n",
    "3. Запись названия столбца **userID** лучше заменить на запись змеиным регистром **user_id** - строчными буквами через нижнее подчеркивание\n",
    "\n",
    "\n",
    "\n",
    "Количество значений в столбцах различается. Значит, в данных есть пропущенные значения.\n"
   ]
  },
  {
   "cell_type": "markdown",
   "metadata": {
    "id": "MCB6-dXG_Zct"
   },
   "source": [
    "<div style=\"border-radius: 15px; border:solid #4BA3C3 2px; padding: 20px\"> <h3 style=\"color:#4BA3C3; margin-bottom:20px\">Вывод </h3>\n",
    "В каждой строке таблицы — данные о прослушанном треке. Часть колонок описывает саму композицию: название, исполнителя и жанр. Остальные данные рассказывают о пользователе: из какого он города, когда он слушал музыку. \n",
    "\n",
    "Предварительно можно утверждать, что, данных достаточно для проверки гипотез. Но встречаются пропуски в данных, а в названиях колонок — расхождения с хорошим стилем.\n",
    "\n",
    "Чтобы двигаться дальше, нужно устранить проблемы в данных."
   ]
  },
  {
   "cell_type": "markdown",
   "metadata": {
    "id": "SjYF6Ub9_Zct"
   },
   "source": [
    "## Предобработка данных\n",
    "\n",
    "1. Переименование столбцов\n",
    "1. Обработка пропусков\n",
    "1. Обработка дубликатов\n",
    "\n",
    "### Переименование столбцов"
   ]
  },
  {
   "cell_type": "markdown",
   "metadata": {
    "id": "dIaKXr29_Zct"
   },
   "source": [
    "Выведем на экран названия столбцов:"
   ]
  },
  {
   "cell_type": "code",
   "execution_count": 5,
   "metadata": {
    "id": "oKOTdF_Q_Zct"
   },
   "outputs": [
    {
     "data": {
      "text/plain": [
       "Index(['  userID', 'Track', 'artist', 'genre', '  City  ', 'time', 'Day'], dtype='object')"
      ]
     },
     "execution_count": 5,
     "metadata": {},
     "output_type": "execute_result"
    }
   ],
   "source": [
    "# перечень названий столбцов таблицы df\n",
    "\n",
    "df.columns "
   ]
  },
  {
   "cell_type": "markdown",
   "metadata": {
    "id": "zj5534cv_Zct"
   },
   "source": [
    "Приведем названия в соответствие с хорошим стилем:\n",
    "* несколько слов в названии запишем в «змеином_регистре»\n",
    "* все символы сделаем строчными\n",
    "* устраним пробелы\n",
    "\n",
    "Для этого переименуем колонки так:\n",
    "* `'  userID'` → `'user_id'`;\n",
    "* `'Track'` → `'track'`;\n",
    "* `'  City  '` → `'city'`;\n",
    "* `'Day'` → `'day'`."
   ]
  },
  {
   "cell_type": "code",
   "execution_count": 6,
   "metadata": {
    "id": "ISlFqs5y_Zct"
   },
   "outputs": [
    {
     "data": {
      "text/plain": [
       "Index(['user_id', 'track', 'artist', 'genre', 'city', 'time', 'day'], dtype='object')"
      ]
     },
     "execution_count": 6,
     "metadata": {},
     "output_type": "execute_result"
    }
   ],
   "source": [
    "# переименование столбцов\n",
    "\n",
    "df = df.rename(\n",
    "    columns={\n",
    "        '  userID': 'user_id',\n",
    "        '  City  ': 'city',\n",
    "    })\n",
    "\n",
    "df.columns = df.columns.str.lower() \n",
    "\n",
    "# Проверка переименования\n",
    "df.columns "
   ]
  },
  {
   "cell_type": "markdown",
   "metadata": {
    "id": "5ISfbcfY_Zct"
   },
   "source": [
    "### Обработка пропусков\n",
    "Сначала посчитаем, сколько в таблице пропущенных значений с помощью комбинации методов `isna` и `sum`:"
   ]
  },
  {
   "cell_type": "code",
   "execution_count": 7,
   "metadata": {
    "id": "RskX29qr_Zct"
   },
   "outputs": [
    {
     "data": {
      "text/plain": [
       "user_id       0\n",
       "track      1231\n",
       "artist     7203\n",
       "genre      1198\n",
       "city          0\n",
       "time          0\n",
       "day           0\n",
       "dtype: int64"
      ]
     },
     "execution_count": 7,
     "metadata": {},
     "output_type": "execute_result"
    }
   ],
   "source": [
    "# подсчёт пропусков\n",
    "\n",
    "df.isna().sum() "
   ]
  },
  {
   "cell_type": "markdown",
   "metadata": {
    "id": "qubhgnlO_Zct"
   },
   "source": [
    "Не все пропущенные значения влияют на исследование. Так в `track` и `artist` пропуски не важны для вашей работы. Достаточно заменить их явными обозначениями.\n",
    "\n",
    "Но пропуски в `genre` могут помешать сравнению музыкальных вкусов в Москве и Санкт-Петербурге, поэтому после заполения пропусков значением-заглушкой оценим, насколько такая замена повредит расчётам.\n",
    "\n",
    "Заменим пропущенные значения в столбцах `track`, `artist` и `genre` на строку `'unknown'`. Для этого создадим список `columns_to_replace`, переберем его элементы циклом `for` и для каждого столбца выполним замену пропущенных значений:"
   ]
  },
  {
   "cell_type": "code",
   "execution_count": 8,
   "metadata": {
    "id": "KplB5qWs_Zct"
   },
   "outputs": [],
   "source": [
    "# перебор названий столбцов в цикле и замена пропущенных значений на 'unknown'\n",
    "\n",
    "columns_to_replace = df[[\n",
    "    'track', \n",
    "    'artist', \n",
    "    'genre'\n",
    "]]\n",
    "for item in columns_to_replace:\n",
    "    df[item] = df[item].fillna(\n",
    "        'unknown'\n",
    "    )"
   ]
  },
  {
   "cell_type": "markdown",
   "metadata": {
    "id": "Ilsm-MZo_Zct"
   },
   "source": [
    "Убедимся, что в таблице не осталось пропусков. Для этого ещё раз посчитаем пропущенные значения."
   ]
  },
  {
   "cell_type": "code",
   "execution_count": 9,
   "metadata": {
    "id": "Tq4nYRX4_Zct"
   },
   "outputs": [
    {
     "data": {
      "text/plain": [
       "user_id    0\n",
       "track      0\n",
       "artist     0\n",
       "genre      0\n",
       "city       0\n",
       "time       0\n",
       "day        0\n",
       "dtype: int64"
      ]
     },
     "execution_count": 9,
     "metadata": {},
     "output_type": "execute_result"
    }
   ],
   "source": [
    "# подсчёт пропусков\n",
    "\n",
    "df.isna().sum()"
   ]
  },
  {
   "cell_type": "markdown",
   "metadata": {
    "id": "BWKRtBJ3_Zct"
   },
   "source": [
    "### Дубликаты\n",
    "Посчитаем явные дубликаты в таблице:"
   ]
  },
  {
   "cell_type": "code",
   "execution_count": 10,
   "metadata": {
    "id": "36eES_S0_Zct"
   },
   "outputs": [
    {
     "data": {
      "text/plain": [
       "3826"
      ]
     },
     "execution_count": 10,
     "metadata": {},
     "output_type": "execute_result"
    }
   ],
   "source": [
    "# подсчёт явных дубликатов\n",
    "\n",
    "df.duplicated().sum() "
   ]
  },
  {
   "cell_type": "markdown",
   "metadata": {
    "id": "Ot25h6XR_Zct"
   },
   "source": [
    "Удалим явные дубликаты в таблице с помощью метода `drop_duplicates`."
   ]
  },
  {
   "cell_type": "code",
   "execution_count": 11,
   "metadata": {
    "id": "exFHq6tt_Zct"
   },
   "outputs": [],
   "source": [
    "# удаление явных дубликатов (с удалением старых индексов и формированием новых)\n",
    "\n",
    "df = df.drop_duplicates().reset_index(\n",
    "    drop=True\n",
    ") "
   ]
  },
  {
   "cell_type": "markdown",
   "metadata": {
    "id": "Im2YwBEG_Zct"
   },
   "source": [
    "Ещё раз посчитаем явные дубликаты в таблице — убедимся, что полностью от них избавились:"
   ]
  },
  {
   "cell_type": "code",
   "execution_count": 12,
   "metadata": {
    "id": "-8PuNWQ0_Zct"
   },
   "outputs": [
    {
     "data": {
      "text/plain": [
       "0"
      ]
     },
     "execution_count": 12,
     "metadata": {},
     "output_type": "execute_result"
    }
   ],
   "source": [
    "# проверка на отсутствие дубликатов\n",
    "\n",
    "df.duplicated().sum() "
   ]
  },
  {
   "cell_type": "markdown",
   "metadata": {
    "id": "QlFBsxAr_Zct"
   },
   "source": [
    "Теперь избавимся от неявных дубликатов в колонке `genre`. Например, название одного и того же жанра может быть записано немного по-разному. Такие ошибки тоже повлияют на результат исследования.\n",
    "\n",
    "Выведем на экран список уникальных названий жанров, отсортированный в алфавитном порядке."
   ]
  },
  {
   "cell_type": "code",
   "execution_count": 13,
   "metadata": {
    "id": "JIUcqzZN_Zct",
    "scrolled": true
   },
   "outputs": [
    {
     "data": {
      "text/plain": [
       "array(['acid', 'acoustic', 'action', 'adult', 'africa', 'afrikaans',\n",
       "       'alternative', 'alternativepunk', 'ambient', 'americana',\n",
       "       'animated', 'anime', 'arabesk', 'arabic', 'arena',\n",
       "       'argentinetango', 'art', 'audiobook', 'author', 'avantgarde',\n",
       "       'axé', 'baile', 'balkan', 'beats', 'bigroom', 'black', 'bluegrass',\n",
       "       'blues', 'bollywood', 'bossa', 'brazilian', 'breakbeat', 'breaks',\n",
       "       'broadway', 'cantautori', 'cantopop', 'canzone', 'caribbean',\n",
       "       'caucasian', 'celtic', 'chamber', 'chanson', 'children', 'chill',\n",
       "       'chinese', 'choral', 'christian', 'christmas', 'classical',\n",
       "       'classicmetal', 'club', 'colombian', 'comedy', 'conjazz',\n",
       "       'contemporary', 'country', 'cuban', 'dance', 'dancehall',\n",
       "       'dancepop', 'dark', 'death', 'deep', 'deutschrock', 'deutschspr',\n",
       "       'dirty', 'disco', 'dnb', 'documentary', 'downbeat', 'downtempo',\n",
       "       'drum', 'dub', 'dubstep', 'eastern', 'easy', 'electronic',\n",
       "       'electropop', 'emo', 'entehno', 'epicmetal', 'estrada', 'ethnic',\n",
       "       'eurofolk', 'european', 'experimental', 'extrememetal', 'fado',\n",
       "       'fairytail', 'film', 'fitness', 'flamenco', 'folk', 'folklore',\n",
       "       'folkmetal', 'folkrock', 'folktronica', 'forró', 'frankreich',\n",
       "       'französisch', 'french', 'funk', 'future', 'gangsta', 'garage',\n",
       "       'german', 'ghazal', 'gitarre', 'glitch', 'gospel', 'gothic',\n",
       "       'grime', 'grunge', 'gypsy', 'handsup', \"hard'n'heavy\", 'hardcore',\n",
       "       'hardstyle', 'hardtechno', 'hip', 'hip-hop', 'hiphop',\n",
       "       'historisch', 'holiday', 'hop', 'horror', 'house', 'hymn', 'idm',\n",
       "       'independent', 'indian', 'indie', 'indipop', 'industrial',\n",
       "       'inspirational', 'instrumental', 'international', 'irish', 'jam',\n",
       "       'japanese', 'jazz', 'jewish', 'jpop', 'jungle', 'k-pop',\n",
       "       'karadeniz', 'karaoke', 'kayokyoku', 'korean', 'laiko', 'latin',\n",
       "       'latino', 'leftfield', 'local', 'lounge', 'loungeelectronic',\n",
       "       'lovers', 'malaysian', 'mandopop', 'marschmusik', 'meditative',\n",
       "       'mediterranean', 'melodic', 'metal', 'metalcore', 'mexican',\n",
       "       'middle', 'minimal', 'miscellaneous', 'modern', 'mood', 'mpb',\n",
       "       'muslim', 'native', 'neoklassik', 'neue', 'new', 'newage',\n",
       "       'newwave', 'nu', 'nujazz', 'numetal', 'oceania', 'old', 'opera',\n",
       "       'orchestral', 'other', 'piano', 'podcasts', 'pop', 'popdance',\n",
       "       'popelectronic', 'popeurodance', 'poprussian', 'post',\n",
       "       'posthardcore', 'postrock', 'power', 'progmetal', 'progressive',\n",
       "       'psychedelic', 'punjabi', 'punk', 'quebecois', 'ragga', 'ram',\n",
       "       'rancheras', 'rap', 'rave', 'reggae', 'reggaeton', 'regional',\n",
       "       'relax', 'religious', 'retro', 'rhythm', 'rnb', 'rnr', 'rock',\n",
       "       'rockabilly', 'rockalternative', 'rockindie', 'rockother',\n",
       "       'romance', 'roots', 'ruspop', 'rusrap', 'rusrock', 'russian',\n",
       "       'salsa', 'samba', 'scenic', 'schlager', 'self', 'sertanejo',\n",
       "       'shanson', 'shoegazing', 'showtunes', 'singer', 'ska', 'skarock',\n",
       "       'slow', 'smooth', 'soft', 'soul', 'soulful', 'sound', 'soundtrack',\n",
       "       'southern', 'specialty', 'speech', 'spiritual', 'sport',\n",
       "       'stonerrock', 'surf', 'swing', 'synthpop', 'synthrock',\n",
       "       'sängerportrait', 'tango', 'tanzorchester', 'taraftar', 'tatar',\n",
       "       'tech', 'techno', 'teen', 'thrash', 'top', 'traditional',\n",
       "       'tradjazz', 'trance', 'tribal', 'trip', 'triphop', 'tropical',\n",
       "       'türk', 'türkçe', 'ukrrock', 'unknown', 'urban', 'uzbek',\n",
       "       'variété', 'vi', 'videogame', 'vocal', 'western', 'world',\n",
       "       'worldbeat', 'ïîï', 'электроника'], dtype=object)"
      ]
     },
     "execution_count": 13,
     "metadata": {},
     "output_type": "execute_result"
    }
   ],
   "source": [
    "genre_unique = df[\n",
    "    'genre'\n",
    "].unique()\n",
    "\n",
    "# Сортировка уникальных значений названий жанров\n",
    "\n",
    "df[\n",
    "    'genre'\n",
    "].sort_values().unique()"
   ]
  },
  {
   "cell_type": "markdown",
   "metadata": {
    "id": "qej-Qmuo_Zct"
   },
   "source": [
    "В списке уникальных значений в столбце `genre` видно неявные дубликаты названия `hiphop`. Это могут быть названия с ошибками или альтернативные названия того же жанра.\n",
    "\n",
    "В столбце есть следующие неявные дубликаты:\n",
    "* *hip*,\n",
    "* *hop*,\n",
    "* *hip-hop*.\n",
    "\n",
    "Чтобы очистить от них таблицу, напишем функцию `replace_wrong_genres()` с двумя параметрами: \n",
    "* `wrong_genres` — список дубликатов,\n",
    "* `correct_genre` — строка с правильным значением.\n",
    "\n",
    "Функция исправит колонку `genre` в таблице `df`: заменит каждое значение из списка `wrong_genres` на значение из `correct_genre`."
   ]
  },
  {
   "cell_type": "code",
   "execution_count": 14,
   "metadata": {
    "id": "ErNDkmns_Zct"
   },
   "outputs": [],
   "source": [
    "# Функция для замены неявных дубликатов\n",
    "\n",
    "def replace_wrong_genres(\n",
    "    wrong_genres, \n",
    "    correct_genre\n",
    "):\n",
    "    for item in wrong_genres:\n",
    "        result = df.replace(\n",
    "            item, \n",
    "            correct_genre\n",
    "        )\n",
    "        return result"
   ]
  },
  {
   "cell_type": "markdown",
   "metadata": {
    "id": "aDoBJxbA_Zct"
   },
   "source": [
    "Вызовем `replace_wrong_genres()` и передадим ей такие аргументы, чтобы она устранила неявные дубликаты: вместо `hip`, `hop` и `hip-hop` в таблице должно быть значение `hiphop`:"
   ]
  },
  {
   "cell_type": "code",
   "execution_count": 15,
   "metadata": {
    "id": "YN5i2hpmSo09",
    "scrolled": false
   },
   "outputs": [
    {
     "data": {
      "text/html": [
       "<div>\n",
       "<style scoped>\n",
       "    .dataframe tbody tr th:only-of-type {\n",
       "        vertical-align: middle;\n",
       "    }\n",
       "\n",
       "    .dataframe tbody tr th {\n",
       "        vertical-align: top;\n",
       "    }\n",
       "\n",
       "    .dataframe thead th {\n",
       "        text-align: right;\n",
       "    }\n",
       "</style>\n",
       "<table border=\"1\" class=\"dataframe\">\n",
       "  <thead>\n",
       "    <tr style=\"text-align: right;\">\n",
       "      <th></th>\n",
       "      <th>user_id</th>\n",
       "      <th>track</th>\n",
       "      <th>artist</th>\n",
       "      <th>genre</th>\n",
       "      <th>city</th>\n",
       "      <th>time</th>\n",
       "      <th>day</th>\n",
       "    </tr>\n",
       "  </thead>\n",
       "  <tbody>\n",
       "    <tr>\n",
       "      <th>0</th>\n",
       "      <td>FFB692EC</td>\n",
       "      <td>Kamigata To Boots</td>\n",
       "      <td>The Mass Missile</td>\n",
       "      <td>rock</td>\n",
       "      <td>Saint-Petersburg</td>\n",
       "      <td>20:28:33</td>\n",
       "      <td>Wednesday</td>\n",
       "    </tr>\n",
       "    <tr>\n",
       "      <th>1</th>\n",
       "      <td>55204538</td>\n",
       "      <td>Delayed Because of Accident</td>\n",
       "      <td>Andreas Rönnberg</td>\n",
       "      <td>rock</td>\n",
       "      <td>Moscow</td>\n",
       "      <td>14:07:09</td>\n",
       "      <td>Friday</td>\n",
       "    </tr>\n",
       "    <tr>\n",
       "      <th>2</th>\n",
       "      <td>20EC38</td>\n",
       "      <td>Funiculì funiculà</td>\n",
       "      <td>Mario Lanza</td>\n",
       "      <td>pop</td>\n",
       "      <td>Saint-Petersburg</td>\n",
       "      <td>20:58:07</td>\n",
       "      <td>Wednesday</td>\n",
       "    </tr>\n",
       "    <tr>\n",
       "      <th>3</th>\n",
       "      <td>A3DD03C9</td>\n",
       "      <td>Dragons in the Sunset</td>\n",
       "      <td>Fire + Ice</td>\n",
       "      <td>folk</td>\n",
       "      <td>Saint-Petersburg</td>\n",
       "      <td>08:37:09</td>\n",
       "      <td>Monday</td>\n",
       "    </tr>\n",
       "    <tr>\n",
       "      <th>4</th>\n",
       "      <td>E2DC1FAE</td>\n",
       "      <td>Soul People</td>\n",
       "      <td>Space Echo</td>\n",
       "      <td>dance</td>\n",
       "      <td>Moscow</td>\n",
       "      <td>08:34:34</td>\n",
       "      <td>Monday</td>\n",
       "    </tr>\n",
       "    <tr>\n",
       "      <th>...</th>\n",
       "      <td>...</td>\n",
       "      <td>...</td>\n",
       "      <td>...</td>\n",
       "      <td>...</td>\n",
       "      <td>...</td>\n",
       "      <td>...</td>\n",
       "      <td>...</td>\n",
       "    </tr>\n",
       "    <tr>\n",
       "      <th>61248</th>\n",
       "      <td>729CBB09</td>\n",
       "      <td>My Name</td>\n",
       "      <td>McLean</td>\n",
       "      <td>rnb</td>\n",
       "      <td>Moscow</td>\n",
       "      <td>13:32:28</td>\n",
       "      <td>Wednesday</td>\n",
       "    </tr>\n",
       "    <tr>\n",
       "      <th>61249</th>\n",
       "      <td>D08D4A55</td>\n",
       "      <td>Maybe One Day (feat. Black Spade)</td>\n",
       "      <td>Blu &amp; Exile</td>\n",
       "      <td>hiphop</td>\n",
       "      <td>Saint-Petersburg</td>\n",
       "      <td>10:00:00</td>\n",
       "      <td>Monday</td>\n",
       "    </tr>\n",
       "    <tr>\n",
       "      <th>61250</th>\n",
       "      <td>C5E3A0D5</td>\n",
       "      <td>Jalopiina</td>\n",
       "      <td>unknown</td>\n",
       "      <td>industrial</td>\n",
       "      <td>Moscow</td>\n",
       "      <td>20:09:26</td>\n",
       "      <td>Friday</td>\n",
       "    </tr>\n",
       "    <tr>\n",
       "      <th>61251</th>\n",
       "      <td>321D0506</td>\n",
       "      <td>Freight Train</td>\n",
       "      <td>Chas McDevitt</td>\n",
       "      <td>rock</td>\n",
       "      <td>Moscow</td>\n",
       "      <td>21:43:59</td>\n",
       "      <td>Friday</td>\n",
       "    </tr>\n",
       "    <tr>\n",
       "      <th>61252</th>\n",
       "      <td>3A64EF84</td>\n",
       "      <td>Tell Me Sweet Little Lies</td>\n",
       "      <td>Monica Lopez</td>\n",
       "      <td>country</td>\n",
       "      <td>Moscow</td>\n",
       "      <td>21:59:46</td>\n",
       "      <td>Friday</td>\n",
       "    </tr>\n",
       "  </tbody>\n",
       "</table>\n",
       "<p>61253 rows × 7 columns</p>\n",
       "</div>"
      ],
      "text/plain": [
       "        user_id                              track            artist  \\\n",
       "0      FFB692EC                  Kamigata To Boots  The Mass Missile   \n",
       "1      55204538        Delayed Because of Accident  Andreas Rönnberg   \n",
       "2        20EC38                  Funiculì funiculà       Mario Lanza   \n",
       "3      A3DD03C9              Dragons in the Sunset        Fire + Ice   \n",
       "4      E2DC1FAE                        Soul People        Space Echo   \n",
       "...         ...                                ...               ...   \n",
       "61248  729CBB09                            My Name            McLean   \n",
       "61249  D08D4A55  Maybe One Day (feat. Black Spade)       Blu & Exile   \n",
       "61250  C5E3A0D5                          Jalopiina           unknown   \n",
       "61251  321D0506                      Freight Train     Chas McDevitt   \n",
       "61252  3A64EF84          Tell Me Sweet Little Lies      Monica Lopez   \n",
       "\n",
       "            genre              city      time        day  \n",
       "0            rock  Saint-Petersburg  20:28:33  Wednesday  \n",
       "1            rock            Moscow  14:07:09     Friday  \n",
       "2             pop  Saint-Petersburg  20:58:07  Wednesday  \n",
       "3            folk  Saint-Petersburg  08:37:09     Monday  \n",
       "4           dance            Moscow  08:34:34     Monday  \n",
       "...           ...               ...       ...        ...  \n",
       "61248         rnb            Moscow  13:32:28  Wednesday  \n",
       "61249      hiphop  Saint-Petersburg  10:00:00     Monday  \n",
       "61250  industrial            Moscow  20:09:26     Friday  \n",
       "61251        rock            Moscow  21:43:59     Friday  \n",
       "61252     country            Moscow  21:59:46     Friday  \n",
       "\n",
       "[61253 rows x 7 columns]"
      ]
     },
     "execution_count": 15,
     "metadata": {},
     "output_type": "execute_result"
    }
   ],
   "source": [
    "# Устранение неявных дубликатов\n",
    "\n",
    "wrong_genres = [\n",
    "    'hip', \n",
    "    'hop', \n",
    "    'hip-hop'\n",
    "]\n",
    "correct_genre = 'hiphop'\n",
    "df = replace_wrong_genres(\n",
    "    wrong_genres, \n",
    "    correct_genre\n",
    ")\n",
    "\n",
    "df"
   ]
  },
  {
   "cell_type": "markdown",
   "metadata": {
    "id": "zQKF16_RG15m"
   },
   "source": [
    "Проверим, что заменили неправильные названия:\n",
    "\n",
    "*   hip\n",
    "*   hop\n",
    "*   hip-hop\n",
    "\n",
    "Выведем отсортированный список уникальных значений столбца `genre`:"
   ]
  },
  {
   "cell_type": "code",
   "execution_count": 16,
   "metadata": {
    "id": "wvixALnFG15m",
    "scrolled": true
   },
   "outputs": [
    {
     "data": {
      "text/plain": [
       "array(['acid', 'acoustic', 'action', 'adult', 'africa', 'afrikaans',\n",
       "       'alternative', 'alternativepunk', 'ambient', 'americana',\n",
       "       'animated', 'anime', 'arabesk', 'arabic', 'arena',\n",
       "       'argentinetango', 'art', 'audiobook', 'author', 'avantgarde',\n",
       "       'axé', 'baile', 'balkan', 'beats', 'bigroom', 'black', 'bluegrass',\n",
       "       'blues', 'bollywood', 'bossa', 'brazilian', 'breakbeat', 'breaks',\n",
       "       'broadway', 'cantautori', 'cantopop', 'canzone', 'caribbean',\n",
       "       'caucasian', 'celtic', 'chamber', 'chanson', 'children', 'chill',\n",
       "       'chinese', 'choral', 'christian', 'christmas', 'classical',\n",
       "       'classicmetal', 'club', 'colombian', 'comedy', 'conjazz',\n",
       "       'contemporary', 'country', 'cuban', 'dance', 'dancehall',\n",
       "       'dancepop', 'dark', 'death', 'deep', 'deutschrock', 'deutschspr',\n",
       "       'dirty', 'disco', 'dnb', 'documentary', 'downbeat', 'downtempo',\n",
       "       'drum', 'dub', 'dubstep', 'eastern', 'easy', 'electronic',\n",
       "       'electropop', 'emo', 'entehno', 'epicmetal', 'estrada', 'ethnic',\n",
       "       'eurofolk', 'european', 'experimental', 'extrememetal', 'fado',\n",
       "       'fairytail', 'film', 'fitness', 'flamenco', 'folk', 'folklore',\n",
       "       'folkmetal', 'folkrock', 'folktronica', 'forró', 'frankreich',\n",
       "       'französisch', 'french', 'funk', 'future', 'gangsta', 'garage',\n",
       "       'german', 'ghazal', 'gitarre', 'glitch', 'gospel', 'gothic',\n",
       "       'grime', 'grunge', 'gypsy', 'handsup', \"hard'n'heavy\", 'hardcore',\n",
       "       'hardstyle', 'hardtechno', 'hip-hop', 'hiphop', 'historisch',\n",
       "       'holiday', 'hop', 'horror', 'house', 'hymn', 'idm', 'independent',\n",
       "       'indian', 'indie', 'indipop', 'industrial', 'inspirational',\n",
       "       'instrumental', 'international', 'irish', 'jam', 'japanese',\n",
       "       'jazz', 'jewish', 'jpop', 'jungle', 'k-pop', 'karadeniz',\n",
       "       'karaoke', 'kayokyoku', 'korean', 'laiko', 'latin', 'latino',\n",
       "       'leftfield', 'local', 'lounge', 'loungeelectronic', 'lovers',\n",
       "       'malaysian', 'mandopop', 'marschmusik', 'meditative',\n",
       "       'mediterranean', 'melodic', 'metal', 'metalcore', 'mexican',\n",
       "       'middle', 'minimal', 'miscellaneous', 'modern', 'mood', 'mpb',\n",
       "       'muslim', 'native', 'neoklassik', 'neue', 'new', 'newage',\n",
       "       'newwave', 'nu', 'nujazz', 'numetal', 'oceania', 'old', 'opera',\n",
       "       'orchestral', 'other', 'piano', 'podcasts', 'pop', 'popdance',\n",
       "       'popelectronic', 'popeurodance', 'poprussian', 'post',\n",
       "       'posthardcore', 'postrock', 'power', 'progmetal', 'progressive',\n",
       "       'psychedelic', 'punjabi', 'punk', 'quebecois', 'ragga', 'ram',\n",
       "       'rancheras', 'rap', 'rave', 'reggae', 'reggaeton', 'regional',\n",
       "       'relax', 'religious', 'retro', 'rhythm', 'rnb', 'rnr', 'rock',\n",
       "       'rockabilly', 'rockalternative', 'rockindie', 'rockother',\n",
       "       'romance', 'roots', 'ruspop', 'rusrap', 'rusrock', 'russian',\n",
       "       'salsa', 'samba', 'scenic', 'schlager', 'self', 'sertanejo',\n",
       "       'shanson', 'shoegazing', 'showtunes', 'singer', 'ska', 'skarock',\n",
       "       'slow', 'smooth', 'soft', 'soul', 'soulful', 'sound', 'soundtrack',\n",
       "       'southern', 'specialty', 'speech', 'spiritual', 'sport',\n",
       "       'stonerrock', 'surf', 'swing', 'synthpop', 'synthrock',\n",
       "       'sängerportrait', 'tango', 'tanzorchester', 'taraftar', 'tatar',\n",
       "       'tech', 'techno', 'teen', 'thrash', 'top', 'traditional',\n",
       "       'tradjazz', 'trance', 'tribal', 'trip', 'triphop', 'tropical',\n",
       "       'türk', 'türkçe', 'ukrrock', 'unknown', 'urban', 'uzbek',\n",
       "       'variété', 'vi', 'videogame', 'vocal', 'western', 'world',\n",
       "       'worldbeat', 'ïîï', 'электроника'], dtype=object)"
      ]
     },
     "execution_count": 16,
     "metadata": {},
     "output_type": "execute_result"
    }
   ],
   "source": [
    "# Просмотр уникальных названий жанров\n",
    "\n",
    "df['genre'].sort_values().unique()"
   ]
  },
  {
   "cell_type": "markdown",
   "metadata": {
    "id": "jz6a9-7HQUDd"
   },
   "source": [
    "<div style=\"border-radius: 15px; border:solid #4BA3C3 2px; padding: 20px\"> <h3 style=\"color:#4BA3C3; margin-bottom:20px\">Вывод </h3>\n",
    "\n",
    "Предобработка обнаружила три проблемы в данных:\n",
    "\n",
    "- нарушения в стиле заголовков,\n",
    "- пропущенные значения,\n",
    "- дубликаты — явные и неявные.\n",
    "\n",
    "Мы исправили заголовки, чтобы упростить работу с таблицей. Без дубликатов исследование станет более точным.\n",
    "\n",
    "Пропущенные значения мы заменили на `'unknown'`. Ещё предстоит увидеть, не повредят ли исследованию пропуски в колонке `genre`.\n",
    "\n",
    "Теперь можно перейти к проверке гипотез. "
   ]
  },
  {
   "cell_type": "markdown",
   "metadata": {
    "id": "WttZHXH0SqKk"
   },
   "source": [
    "## Проверка гипотез"
   ]
  },
  {
   "cell_type": "markdown",
   "metadata": {
    "id": "Im936VVi_Zcu"
   },
   "source": [
    "### Сравнение поведения пользователей двух столиц"
   ]
  },
  {
   "cell_type": "markdown",
   "metadata": {
    "id": "nwt_MuaL_Zcu"
   },
   "source": [
    "Первая гипотеза утверждает, что пользователи по-разному слушают музыку в Москве и Санкт-Петербурге. Проверим это предположение по данным о трёх днях недели — понедельнике, среде и пятнице. Для этого:\n",
    "\n",
    "* Разделим пользователей Москвы и Санкт-Петербурга\n",
    "* Сравним, сколько треков послушала каждая группа пользователей в понедельник, среду и пятницу."
   ]
  },
  {
   "cell_type": "markdown",
   "metadata": {
    "id": "8Dw_YMmT_Zcu"
   },
   "source": [
    "Оценим активность пользователей в каждом городе. Сгруппируем данные по городу и посчитаем прослушивания в каждой группе."
   ]
  },
  {
   "cell_type": "code",
   "execution_count": 17,
   "metadata": {
    "id": "0_Qs96oh_Zcu",
    "scrolled": true
   },
   "outputs": [
    {
     "data": {
      "text/plain": [
       "city\n",
       "Moscow              42741\n",
       "Saint-Petersburg    18512\n",
       "Name: user_id, dtype: int64"
      ]
     },
     "execution_count": 17,
     "metadata": {},
     "output_type": "execute_result"
    }
   ],
   "source": [
    "# Количество прослушиваний в каждом городе\n",
    "\n",
    "df.groupby('city')[\n",
    "    'user_id'\n",
    "].count()"
   ]
  },
  {
   "cell_type": "markdown",
   "metadata": {
    "id": "dzli3w8o_Zcu"
   },
   "source": [
    "В Москве прослушиваний больше, чем в Петербурге. Из этого не следует, что московские пользователи чаще слушают музыку. Просто самих пользователей в Москве больше.\n",
    "\n",
    "Теперь сгруппируем данные по дню недели и подсчитаем прослушивания в понедельник, среду и пятницу. Учтем, что в данных есть информация только о прослушиваниях только за эти дни."
   ]
  },
  {
   "cell_type": "code",
   "execution_count": 18,
   "metadata": {
    "id": "uZMKjiJz_Zcu",
    "scrolled": true
   },
   "outputs": [
    {
     "data": {
      "text/plain": [
       "day\n",
       "Friday       21840\n",
       "Monday       21354\n",
       "Wednesday    18059\n",
       "Name: user_id, dtype: int64"
      ]
     },
     "execution_count": 18,
     "metadata": {},
     "output_type": "execute_result"
    }
   ],
   "source": [
    "# Подсчёт прослушиваний в каждый из трёх дней\n",
    "\n",
    "df.groupby('day')[\n",
    "    'user_id'\n",
    "].count()"
   ]
  },
  {
   "cell_type": "markdown",
   "metadata": {
    "id": "cC2tNrlL_Zcu"
   },
   "source": [
    "В среднем пользователи из двух городов менее активны по средам. Но картина может измениться, если рассмотреть каждый город в отдельности."
   ]
  },
  {
   "cell_type": "markdown",
   "metadata": {
    "id": "POzs8bGa_Zcu"
   },
   "source": [
    "Теперь создадим функцию **`number_tracks()`**, которая посчитает прослушивания для заданного дня и города. Ей понадобятся два параметра:\n",
    "* день недели,\n",
    "* название города.\n",
    "\n",
    "В функции сохраним в переменную строки исходной таблицы, у которых значение:\n",
    "  * в колонке `day` равно параметру `day`,\n",
    "  * в колонке `city` равно параметру `city`.\n",
    "\n",
    "Для этого применим последовательную фильтрацию с логической индексацией.\n",
    "\n",
    "Затем посчитаем значения в столбце `user_id` получившейся таблицы, результат сохраним в новую переменную."
   ]
  },
  {
   "cell_type": "code",
   "execution_count": 19,
   "metadata": {
    "id": "Nz3GdQB1_Zcu"
   },
   "outputs": [],
   "source": [
    "def number_tracks(day, city):\n",
    "    track_list = df[\n",
    "        df['day'] == day\n",
    "    ]\n",
    "    track_list = track_list[\n",
    "        track_list['city'] == city\n",
    "    ]\n",
    "\n",
    "    track_list_count  = track_list.count()[\n",
    "        'user_id'\n",
    "    ]\n",
    "\n",
    "    return track_list_count"
   ]
  },
  {
   "cell_type": "markdown",
   "metadata": {
    "id": "ytf7xFrFJQ2r"
   },
   "source": [
    "Вызовем `number_tracks()`, меняя значение параметров — так, чтобы получить данные для каждого города в каждый из трёх дней."
   ]
  },
  {
   "cell_type": "code",
   "execution_count": 20,
   "metadata": {
    "id": "rJcRATNQ_Zcu"
   },
   "outputs": [
    {
     "data": {
      "text/plain": [
       "15740"
      ]
     },
     "execution_count": 20,
     "metadata": {},
     "output_type": "execute_result"
    }
   ],
   "source": [
    "# количество прослушиваний в Москве по понедельникам\n",
    "\n",
    "track_list_moscow_monday = number_tracks(\n",
    "    'Monday', \n",
    "    'Moscow'\n",
    ")\n",
    "track_list_moscow_monday"
   ]
  },
  {
   "cell_type": "code",
   "execution_count": 21,
   "metadata": {
    "id": "hq_ncZ5T_Zcu"
   },
   "outputs": [
    {
     "data": {
      "text/plain": [
       "5614"
      ]
     },
     "execution_count": 21,
     "metadata": {},
     "output_type": "execute_result"
    }
   ],
   "source": [
    "# количество прослушиваний в Санкт-Петербурге по понедельникам\n",
    "\n",
    "track_list_spb_monday = number_tracks(\n",
    "    'Monday', \n",
    "    'Saint-Petersburg'\n",
    ")\n",
    "track_list_spb_monday"
   ]
  },
  {
   "cell_type": "code",
   "execution_count": 22,
   "metadata": {
    "id": "_NTy2VPU_Zcu"
   },
   "outputs": [
    {
     "data": {
      "text/plain": [
       "11056"
      ]
     },
     "execution_count": 22,
     "metadata": {},
     "output_type": "execute_result"
    }
   ],
   "source": [
    "# количество прослушиваний в Москве по средам\n",
    "\n",
    "track_list_moscow_wednesday = number_tracks(\n",
    "    'Wednesday', \n",
    "    'Moscow'\n",
    ")\n",
    "track_list_moscow_wednesday"
   ]
  },
  {
   "cell_type": "code",
   "execution_count": 23,
   "metadata": {
    "id": "j2y3TAwo_Zcu"
   },
   "outputs": [
    {
     "data": {
      "text/plain": [
       "7003"
      ]
     },
     "execution_count": 23,
     "metadata": {},
     "output_type": "execute_result"
    }
   ],
   "source": [
    "# количество прослушиваний в Санкт-Петербурге по средам\n",
    "\n",
    "track_list_spb_wednesday = number_tracks(\n",
    "    'Wednesday', \n",
    "    'Saint-Petersburg'\n",
    ")\n",
    "track_list_spb_wednesday"
   ]
  },
  {
   "cell_type": "code",
   "execution_count": 24,
   "metadata": {
    "id": "vYDw5u_K_Zcu"
   },
   "outputs": [
    {
     "data": {
      "text/plain": [
       "15945"
      ]
     },
     "execution_count": 24,
     "metadata": {},
     "output_type": "execute_result"
    }
   ],
   "source": [
    "# количество прослушиваний в Москве по пятницам\n",
    "\n",
    "track_list_moscow_friday = number_tracks(\n",
    "    'Friday', \n",
    "    'Moscow'\n",
    ")\n",
    "track_list_moscow_friday"
   ]
  },
  {
   "cell_type": "code",
   "execution_count": 25,
   "metadata": {
    "id": "8_yzFtW3_Zcu"
   },
   "outputs": [
    {
     "data": {
      "text/plain": [
       "5895"
      ]
     },
     "execution_count": 25,
     "metadata": {},
     "output_type": "execute_result"
    }
   ],
   "source": [
    "# количество прослушиваний в Санкт-Петербурге по пятницам\n",
    "\n",
    "track_list_spb_friday = number_tracks(\n",
    "    'Friday', \n",
    "    'Saint-Petersburg'\n",
    ")\n",
    "track_list_spb_friday"
   ]
  },
  {
   "cell_type": "markdown",
   "metadata": {
    "id": "7QXffbO-_Zcu"
   },
   "source": [
    "Выведем полученные результаты в таблице:"
   ]
  },
  {
   "cell_type": "code",
   "execution_count": 26,
   "metadata": {
    "id": "APAcLpOr_Zcu",
    "scrolled": true
   },
   "outputs": [
    {
     "data": {
      "text/html": [
       "<div>\n",
       "<style scoped>\n",
       "    .dataframe tbody tr th:only-of-type {\n",
       "        vertical-align: middle;\n",
       "    }\n",
       "\n",
       "    .dataframe tbody tr th {\n",
       "        vertical-align: top;\n",
       "    }\n",
       "\n",
       "    .dataframe thead th {\n",
       "        text-align: right;\n",
       "    }\n",
       "</style>\n",
       "<table border=\"1\" class=\"dataframe\">\n",
       "  <thead>\n",
       "    <tr style=\"text-align: right;\">\n",
       "      <th></th>\n",
       "      <th>city</th>\n",
       "      <th>monday</th>\n",
       "      <th>wednesday</th>\n",
       "      <th>friday</th>\n",
       "    </tr>\n",
       "  </thead>\n",
       "  <tbody>\n",
       "    <tr>\n",
       "      <th>0</th>\n",
       "      <td>Moscow</td>\n",
       "      <td>15740</td>\n",
       "      <td>11056</td>\n",
       "      <td>15945</td>\n",
       "    </tr>\n",
       "    <tr>\n",
       "      <th>1</th>\n",
       "      <td>Saint-Petersburg</td>\n",
       "      <td>5614</td>\n",
       "      <td>7003</td>\n",
       "      <td>5895</td>\n",
       "    </tr>\n",
       "  </tbody>\n",
       "</table>\n",
       "</div>"
      ],
      "text/plain": [
       "               city  monday  wednesday  friday\n",
       "0            Moscow   15740      11056   15945\n",
       "1  Saint-Petersburg    5614       7003    5895"
      ]
     },
     "execution_count": 26,
     "metadata": {},
     "output_type": "execute_result"
    }
   ],
   "source": [
    "# Таблица с результатами\n",
    "\n",
    "two_cities_table_columns = [\n",
    "    'city', \n",
    "    'monday', \n",
    "    'wednesday', \n",
    "    'friday'\n",
    "]\n",
    "two_cities_table_track_list = [[\n",
    "    'Moscow',\n",
    "    track_list_moscow_monday, \n",
    "    track_list_moscow_wednesday, \n",
    "    track_list_moscow_friday],\n",
    "    [\n",
    "    'Saint-Petersburg',\n",
    "    track_list_spb_monday, \n",
    "    track_list_spb_wednesday, \n",
    "    track_list_spb_friday\n",
    "]]\n",
    "\n",
    "two_cities_table = pd.DataFrame(\n",
    "    data = two_cities_table_track_list, \n",
    "    columns = two_cities_table_columns\n",
    ")\n",
    "two_cities_table"
   ]
  },
  {
   "cell_type": "markdown",
   "metadata": {
    "id": "-EgPIHYu_Zcu"
   },
   "source": [
    "<div style=\"border-radius: 15px; border:solid #4BA3C3 1px; padding: 20px\"> <h4 style=\"color:#4BA3C3; margin-bottom:20px\">Вывод </h4>\n",
    "Данные показывают разницу поведения пользователей:\n",
    "\n",
    "- В Москве пик прослушиваний приходится на понедельник и пятницу, а в среду заметен спад.\n",
    "- В Петербурге, наоборот, больше слушают музыку по средам. Активность в понедельник и пятницу здесь почти в равной мере уступает среде.\n",
    "\n",
    "Значит, данные говорят в пользу первой гипотезы."
   ]
  },
  {
   "cell_type": "markdown",
   "metadata": {
    "id": "atZAxtq4_Zcu"
   },
   "source": [
    "### Музыка в начале и в конце недели"
   ]
  },
  {
   "cell_type": "markdown",
   "metadata": {
    "id": "eXrQqXFH_Zcu"
   },
   "source": [
    "Согласно второй гипотезе, утром в понедельник в Москве преобладают одни жанры, а в Петербурге — другие. Так же и вечером пятницы преобладают разные жанры — в зависимости от города."
   ]
  },
  {
   "cell_type": "markdown",
   "metadata": {
    "id": "S8UcW6Hw_Zcu"
   },
   "source": [
    "Сохраним таблицы с данными в две переменные:\n",
    "* по Москве — в `moscow_general`;\n",
    "* по Санкт-Петербургу — в `spb_general`."
   ]
  },
  {
   "cell_type": "code",
   "execution_count": 27,
   "metadata": {
    "id": "qeaFfM_P_Zcu"
   },
   "outputs": [
    {
     "data": {
      "text/html": [
       "<div>\n",
       "<style scoped>\n",
       "    .dataframe tbody tr th:only-of-type {\n",
       "        vertical-align: middle;\n",
       "    }\n",
       "\n",
       "    .dataframe tbody tr th {\n",
       "        vertical-align: top;\n",
       "    }\n",
       "\n",
       "    .dataframe thead th {\n",
       "        text-align: right;\n",
       "    }\n",
       "</style>\n",
       "<table border=\"1\" class=\"dataframe\">\n",
       "  <thead>\n",
       "    <tr style=\"text-align: right;\">\n",
       "      <th></th>\n",
       "      <th>user_id</th>\n",
       "      <th>track</th>\n",
       "      <th>artist</th>\n",
       "      <th>genre</th>\n",
       "      <th>city</th>\n",
       "      <th>time</th>\n",
       "      <th>day</th>\n",
       "    </tr>\n",
       "  </thead>\n",
       "  <tbody>\n",
       "    <tr>\n",
       "      <th>1</th>\n",
       "      <td>55204538</td>\n",
       "      <td>Delayed Because of Accident</td>\n",
       "      <td>Andreas Rönnberg</td>\n",
       "      <td>rock</td>\n",
       "      <td>Moscow</td>\n",
       "      <td>14:07:09</td>\n",
       "      <td>Friday</td>\n",
       "    </tr>\n",
       "    <tr>\n",
       "      <th>4</th>\n",
       "      <td>E2DC1FAE</td>\n",
       "      <td>Soul People</td>\n",
       "      <td>Space Echo</td>\n",
       "      <td>dance</td>\n",
       "      <td>Moscow</td>\n",
       "      <td>08:34:34</td>\n",
       "      <td>Monday</td>\n",
       "    </tr>\n",
       "    <tr>\n",
       "      <th>6</th>\n",
       "      <td>4CB90AA5</td>\n",
       "      <td>True</td>\n",
       "      <td>Roman Messer</td>\n",
       "      <td>dance</td>\n",
       "      <td>Moscow</td>\n",
       "      <td>13:00:07</td>\n",
       "      <td>Wednesday</td>\n",
       "    </tr>\n",
       "    <tr>\n",
       "      <th>7</th>\n",
       "      <td>F03E1C1F</td>\n",
       "      <td>Feeling This Way</td>\n",
       "      <td>Polina Griffith</td>\n",
       "      <td>dance</td>\n",
       "      <td>Moscow</td>\n",
       "      <td>20:47:49</td>\n",
       "      <td>Wednesday</td>\n",
       "    </tr>\n",
       "    <tr>\n",
       "      <th>8</th>\n",
       "      <td>8FA1D3BE</td>\n",
       "      <td>И вновь продолжается бой</td>\n",
       "      <td>unknown</td>\n",
       "      <td>ruspop</td>\n",
       "      <td>Moscow</td>\n",
       "      <td>09:17:40</td>\n",
       "      <td>Friday</td>\n",
       "    </tr>\n",
       "    <tr>\n",
       "      <th>...</th>\n",
       "      <td>...</td>\n",
       "      <td>...</td>\n",
       "      <td>...</td>\n",
       "      <td>...</td>\n",
       "      <td>...</td>\n",
       "      <td>...</td>\n",
       "      <td>...</td>\n",
       "    </tr>\n",
       "    <tr>\n",
       "      <th>61247</th>\n",
       "      <td>83A474E7</td>\n",
       "      <td>I Worship Only What You Bleed</td>\n",
       "      <td>The Black Dahlia Murder</td>\n",
       "      <td>extrememetal</td>\n",
       "      <td>Moscow</td>\n",
       "      <td>21:07:12</td>\n",
       "      <td>Monday</td>\n",
       "    </tr>\n",
       "    <tr>\n",
       "      <th>61248</th>\n",
       "      <td>729CBB09</td>\n",
       "      <td>My Name</td>\n",
       "      <td>McLean</td>\n",
       "      <td>rnb</td>\n",
       "      <td>Moscow</td>\n",
       "      <td>13:32:28</td>\n",
       "      <td>Wednesday</td>\n",
       "    </tr>\n",
       "    <tr>\n",
       "      <th>61250</th>\n",
       "      <td>C5E3A0D5</td>\n",
       "      <td>Jalopiina</td>\n",
       "      <td>unknown</td>\n",
       "      <td>industrial</td>\n",
       "      <td>Moscow</td>\n",
       "      <td>20:09:26</td>\n",
       "      <td>Friday</td>\n",
       "    </tr>\n",
       "    <tr>\n",
       "      <th>61251</th>\n",
       "      <td>321D0506</td>\n",
       "      <td>Freight Train</td>\n",
       "      <td>Chas McDevitt</td>\n",
       "      <td>rock</td>\n",
       "      <td>Moscow</td>\n",
       "      <td>21:43:59</td>\n",
       "      <td>Friday</td>\n",
       "    </tr>\n",
       "    <tr>\n",
       "      <th>61252</th>\n",
       "      <td>3A64EF84</td>\n",
       "      <td>Tell Me Sweet Little Lies</td>\n",
       "      <td>Monica Lopez</td>\n",
       "      <td>country</td>\n",
       "      <td>Moscow</td>\n",
       "      <td>21:59:46</td>\n",
       "      <td>Friday</td>\n",
       "    </tr>\n",
       "  </tbody>\n",
       "</table>\n",
       "<p>42741 rows × 7 columns</p>\n",
       "</div>"
      ],
      "text/plain": [
       "        user_id                          track                   artist  \\\n",
       "1      55204538    Delayed Because of Accident         Andreas Rönnberg   \n",
       "4      E2DC1FAE                    Soul People               Space Echo   \n",
       "6      4CB90AA5                           True             Roman Messer   \n",
       "7      F03E1C1F               Feeling This Way          Polina Griffith   \n",
       "8      8FA1D3BE       И вновь продолжается бой                  unknown   \n",
       "...         ...                            ...                      ...   \n",
       "61247  83A474E7  I Worship Only What You Bleed  The Black Dahlia Murder   \n",
       "61248  729CBB09                        My Name                   McLean   \n",
       "61250  C5E3A0D5                      Jalopiina                  unknown   \n",
       "61251  321D0506                  Freight Train            Chas McDevitt   \n",
       "61252  3A64EF84      Tell Me Sweet Little Lies             Monica Lopez   \n",
       "\n",
       "              genre    city      time        day  \n",
       "1              rock  Moscow  14:07:09     Friday  \n",
       "4             dance  Moscow  08:34:34     Monday  \n",
       "6             dance  Moscow  13:00:07  Wednesday  \n",
       "7             dance  Moscow  20:47:49  Wednesday  \n",
       "8            ruspop  Moscow  09:17:40     Friday  \n",
       "...             ...     ...       ...        ...  \n",
       "61247  extrememetal  Moscow  21:07:12     Monday  \n",
       "61248           rnb  Moscow  13:32:28  Wednesday  \n",
       "61250    industrial  Moscow  20:09:26     Friday  \n",
       "61251          rock  Moscow  21:43:59     Friday  \n",
       "61252       country  Moscow  21:59:46     Friday  \n",
       "\n",
       "[42741 rows x 7 columns]"
      ]
     },
     "execution_count": 27,
     "metadata": {},
     "output_type": "execute_result"
    }
   ],
   "source": [
    "moscow_general = df[\n",
    "    df['city'] == 'Moscow'\n",
    "]\n",
    "moscow_general"
   ]
  },
  {
   "cell_type": "code",
   "execution_count": 28,
   "metadata": {
    "id": "ORaVRKto_Zcu",
    "scrolled": false
   },
   "outputs": [
    {
     "data": {
      "text/html": [
       "<div>\n",
       "<style scoped>\n",
       "    .dataframe tbody tr th:only-of-type {\n",
       "        vertical-align: middle;\n",
       "    }\n",
       "\n",
       "    .dataframe tbody tr th {\n",
       "        vertical-align: top;\n",
       "    }\n",
       "\n",
       "    .dataframe thead th {\n",
       "        text-align: right;\n",
       "    }\n",
       "</style>\n",
       "<table border=\"1\" class=\"dataframe\">\n",
       "  <thead>\n",
       "    <tr style=\"text-align: right;\">\n",
       "      <th></th>\n",
       "      <th>user_id</th>\n",
       "      <th>track</th>\n",
       "      <th>artist</th>\n",
       "      <th>genre</th>\n",
       "      <th>city</th>\n",
       "      <th>time</th>\n",
       "      <th>day</th>\n",
       "    </tr>\n",
       "  </thead>\n",
       "  <tbody>\n",
       "    <tr>\n",
       "      <th>0</th>\n",
       "      <td>FFB692EC</td>\n",
       "      <td>Kamigata To Boots</td>\n",
       "      <td>The Mass Missile</td>\n",
       "      <td>rock</td>\n",
       "      <td>Saint-Petersburg</td>\n",
       "      <td>20:28:33</td>\n",
       "      <td>Wednesday</td>\n",
       "    </tr>\n",
       "    <tr>\n",
       "      <th>2</th>\n",
       "      <td>20EC38</td>\n",
       "      <td>Funiculì funiculà</td>\n",
       "      <td>Mario Lanza</td>\n",
       "      <td>pop</td>\n",
       "      <td>Saint-Petersburg</td>\n",
       "      <td>20:58:07</td>\n",
       "      <td>Wednesday</td>\n",
       "    </tr>\n",
       "    <tr>\n",
       "      <th>3</th>\n",
       "      <td>A3DD03C9</td>\n",
       "      <td>Dragons in the Sunset</td>\n",
       "      <td>Fire + Ice</td>\n",
       "      <td>folk</td>\n",
       "      <td>Saint-Petersburg</td>\n",
       "      <td>08:37:09</td>\n",
       "      <td>Monday</td>\n",
       "    </tr>\n",
       "    <tr>\n",
       "      <th>5</th>\n",
       "      <td>842029A1</td>\n",
       "      <td>Преданная</td>\n",
       "      <td>IMPERVTOR</td>\n",
       "      <td>rusrap</td>\n",
       "      <td>Saint-Petersburg</td>\n",
       "      <td>13:09:41</td>\n",
       "      <td>Friday</td>\n",
       "    </tr>\n",
       "    <tr>\n",
       "      <th>9</th>\n",
       "      <td>E772D5C0</td>\n",
       "      <td>Pessimist</td>\n",
       "      <td>unknown</td>\n",
       "      <td>dance</td>\n",
       "      <td>Saint-Petersburg</td>\n",
       "      <td>21:20:49</td>\n",
       "      <td>Wednesday</td>\n",
       "    </tr>\n",
       "    <tr>\n",
       "      <th>...</th>\n",
       "      <td>...</td>\n",
       "      <td>...</td>\n",
       "      <td>...</td>\n",
       "      <td>...</td>\n",
       "      <td>...</td>\n",
       "      <td>...</td>\n",
       "      <td>...</td>\n",
       "    </tr>\n",
       "    <tr>\n",
       "      <th>61239</th>\n",
       "      <td>D94F810B</td>\n",
       "      <td>Theme from the Walking Dead</td>\n",
       "      <td>Proyecto Halloween</td>\n",
       "      <td>film</td>\n",
       "      <td>Saint-Petersburg</td>\n",
       "      <td>21:14:40</td>\n",
       "      <td>Monday</td>\n",
       "    </tr>\n",
       "    <tr>\n",
       "      <th>61240</th>\n",
       "      <td>BC8EC5CF</td>\n",
       "      <td>Red Lips: Gta (Rover Rework)</td>\n",
       "      <td>Rover</td>\n",
       "      <td>electronic</td>\n",
       "      <td>Saint-Petersburg</td>\n",
       "      <td>21:06:50</td>\n",
       "      <td>Monday</td>\n",
       "    </tr>\n",
       "    <tr>\n",
       "      <th>61241</th>\n",
       "      <td>29E04611</td>\n",
       "      <td>Bre Petrunko</td>\n",
       "      <td>Perunika Trio</td>\n",
       "      <td>world</td>\n",
       "      <td>Saint-Petersburg</td>\n",
       "      <td>13:56:00</td>\n",
       "      <td>Monday</td>\n",
       "    </tr>\n",
       "    <tr>\n",
       "      <th>61242</th>\n",
       "      <td>1B91C621</td>\n",
       "      <td>(Hello) Cloud Mountain</td>\n",
       "      <td>sleepmakeswaves</td>\n",
       "      <td>postrock</td>\n",
       "      <td>Saint-Petersburg</td>\n",
       "      <td>09:22:13</td>\n",
       "      <td>Monday</td>\n",
       "    </tr>\n",
       "    <tr>\n",
       "      <th>61249</th>\n",
       "      <td>D08D4A55</td>\n",
       "      <td>Maybe One Day (feat. Black Spade)</td>\n",
       "      <td>Blu &amp; Exile</td>\n",
       "      <td>hiphop</td>\n",
       "      <td>Saint-Petersburg</td>\n",
       "      <td>10:00:00</td>\n",
       "      <td>Monday</td>\n",
       "    </tr>\n",
       "  </tbody>\n",
       "</table>\n",
       "<p>18512 rows × 7 columns</p>\n",
       "</div>"
      ],
      "text/plain": [
       "        user_id                              track              artist  \\\n",
       "0      FFB692EC                  Kamigata To Boots    The Mass Missile   \n",
       "2        20EC38                  Funiculì funiculà         Mario Lanza   \n",
       "3      A3DD03C9              Dragons in the Sunset          Fire + Ice   \n",
       "5      842029A1                          Преданная           IMPERVTOR   \n",
       "9      E772D5C0                          Pessimist             unknown   \n",
       "...         ...                                ...                 ...   \n",
       "61239  D94F810B        Theme from the Walking Dead  Proyecto Halloween   \n",
       "61240  BC8EC5CF       Red Lips: Gta (Rover Rework)               Rover   \n",
       "61241  29E04611                       Bre Petrunko       Perunika Trio   \n",
       "61242  1B91C621             (Hello) Cloud Mountain     sleepmakeswaves   \n",
       "61249  D08D4A55  Maybe One Day (feat. Black Spade)         Blu & Exile   \n",
       "\n",
       "            genre              city      time        day  \n",
       "0            rock  Saint-Petersburg  20:28:33  Wednesday  \n",
       "2             pop  Saint-Petersburg  20:58:07  Wednesday  \n",
       "3            folk  Saint-Petersburg  08:37:09     Monday  \n",
       "5          rusrap  Saint-Petersburg  13:09:41     Friday  \n",
       "9           dance  Saint-Petersburg  21:20:49  Wednesday  \n",
       "...           ...               ...       ...        ...  \n",
       "61239        film  Saint-Petersburg  21:14:40     Monday  \n",
       "61240  electronic  Saint-Petersburg  21:06:50     Monday  \n",
       "61241       world  Saint-Petersburg  13:56:00     Monday  \n",
       "61242    postrock  Saint-Petersburg  09:22:13     Monday  \n",
       "61249      hiphop  Saint-Petersburg  10:00:00     Monday  \n",
       "\n",
       "[18512 rows x 7 columns]"
      ]
     },
     "execution_count": 28,
     "metadata": {},
     "output_type": "execute_result"
    }
   ],
   "source": [
    "spb_general = df[\n",
    "    df['city'] == 'Saint-Petersburg'\n",
    "]\n",
    "spb_general"
   ]
  },
  {
   "cell_type": "markdown",
   "metadata": {
    "id": "MEJV-CX2_Zcu"
   },
   "source": [
    "Создадим функцию `genre_weekday()` с четырьмя параметрами:\n",
    "* таблица (датафрейм) с данными,\n",
    "* день недели,\n",
    "* начальная временная метка в формате 'hh:mm', \n",
    "* последняя временная метка в формате 'hh:mm'.\n",
    "\n",
    "Функция вернет информацию о топ-10 жанров тех треков, которые прослушивали в указанный день, в промежутке между двумя отметками времени."
   ]
  },
  {
   "cell_type": "code",
   "execution_count": 29,
   "metadata": {
    "id": "laJT9BYl_Zcu"
   },
   "outputs": [],
   "source": [
    "# Объявление функции genre_weekday() с параметрами table, day, time1, time2,\n",
    "\n",
    "def genre_weekday(table, day, time1, time2):\n",
    "\n",
    "    genre_df = table[(\n",
    "            table['day'] == day\n",
    "        ) & (\n",
    "            table['time'] > time1\n",
    "        ) & (\n",
    "            table['time'] < time2\n",
    "        )]\n",
    "    genre_df_count = genre_df.groupby(\n",
    "        'genre'\n",
    "    )[\n",
    "        'user_id'\n",
    "    ].count()\n",
    "\n",
    "    genre_df_sorted = genre_df_count.sort_values(\n",
    "        ascending=False\n",
    "    )\n",
    "    \n",
    "    return genre_df_sorted.head(10)"
   ]
  },
  {
   "cell_type": "markdown",
   "metadata": {
    "id": "la2s2_PF_Zcu"
   },
   "source": [
    "Cравним результаты функции `genre_weekday()` для Москвы и Санкт-Петербурга в понедельник утром (с 7:00 до 11:00) и в пятницу вечером (с 17:00 до 23:00):"
   ]
  },
  {
   "cell_type": "code",
   "execution_count": 30,
   "metadata": {
    "id": "yz7itPUQ_Zcu"
   },
   "outputs": [
    {
     "data": {
      "text/plain": [
       "genre\n",
       "pop            781\n",
       "dance          549\n",
       "electronic     480\n",
       "rock           474\n",
       "hiphop         285\n",
       "ruspop         186\n",
       "world          181\n",
       "rusrap         175\n",
       "alternative    164\n",
       "unknown        161\n",
       "Name: user_id, dtype: int64"
      ]
     },
     "execution_count": 30,
     "metadata": {},
     "output_type": "execute_result"
    }
   ],
   "source": [
    "# Утро понедельника в Москве\n",
    "\n",
    "moscow_monday_genre = genre_weekday(\n",
    "    moscow_general, \n",
    "    'Monday', \n",
    "    '07:00', \n",
    "    '11:00'\n",
    ")\n",
    "moscow_monday_genre"
   ]
  },
  {
   "cell_type": "code",
   "execution_count": 31,
   "metadata": {
    "id": "kwUcHPdy_Zcu"
   },
   "outputs": [
    {
     "data": {
      "text/plain": [
       "genre\n",
       "pop            218\n",
       "dance          182\n",
       "rock           162\n",
       "electronic     147\n",
       "hiphop          80\n",
       "ruspop          64\n",
       "alternative     58\n",
       "rusrap          55\n",
       "jazz            44\n",
       "classical       40\n",
       "Name: user_id, dtype: int64"
      ]
     },
     "execution_count": 31,
     "metadata": {},
     "output_type": "execute_result"
    }
   ],
   "source": [
    "# Утро понедельника в Питере\n",
    "\n",
    "spb_monday_genre = genre_weekday(\n",
    "    spb_general, \n",
    "    'Monday', \n",
    "    '07:00', \n",
    "    '11:00'\n",
    ")\n",
    "spb_monday_genre"
   ]
  },
  {
   "cell_type": "code",
   "execution_count": 32,
   "metadata": {
    "id": "EzXVRE1o_Zcu"
   },
   "outputs": [
    {
     "data": {
      "text/plain": [
       "genre\n",
       "pop            713\n",
       "rock           517\n",
       "dance          495\n",
       "electronic     482\n",
       "hiphop         273\n",
       "world          208\n",
       "ruspop         170\n",
       "alternative    163\n",
       "classical      163\n",
       "rusrap         142\n",
       "Name: user_id, dtype: int64"
      ]
     },
     "execution_count": 32,
     "metadata": {},
     "output_type": "execute_result"
    }
   ],
   "source": [
    "# Вечер пятницы в Москве\n",
    "\n",
    "moscow_friday_genre = genre_weekday(\n",
    "    moscow_general, \n",
    "    'Friday', \n",
    "    '17:00', \n",
    "    '23:00'\n",
    ")\n",
    "moscow_friday_genre"
   ]
  },
  {
   "cell_type": "code",
   "execution_count": 33,
   "metadata": {
    "id": "JZaEKu5v_Zcu",
    "scrolled": true
   },
   "outputs": [
    {
     "data": {
      "text/plain": [
       "genre\n",
       "pop            256\n",
       "electronic     216\n",
       "rock           216\n",
       "dance          210\n",
       "hiphop          97\n",
       "alternative     63\n",
       "jazz            61\n",
       "classical       60\n",
       "rusrap          59\n",
       "world           54\n",
       "Name: user_id, dtype: int64"
      ]
     },
     "execution_count": 33,
     "metadata": {},
     "output_type": "execute_result"
    }
   ],
   "source": [
    "# Вечер пятницы в Петербурге\n",
    "\n",
    "spb_friday_genre = genre_weekday(\n",
    "    spb_general, \n",
    "    'Friday', \n",
    "    '17:00', \n",
    "    '23:00'\n",
    ")\n",
    "spb_friday_genre"
   ]
  },
  {
   "cell_type": "markdown",
   "metadata": {
    "id": "wrCe4MNX_Zcu"
   },
   "source": [
    "<div style=\"border-radius: 15px; border:solid #4BA3C3 1px; padding: 20px\"> <h4 style=\"color:#4BA3C3; margin-bottom:20px\">Вывод </h4>\n",
    "\n",
    "Если сравнить топ-10 жанров в понедельник утром, можно сделать такие выводы:\n",
    "\n",
    "1. В Москве и Петербурге слушают похожую музыку. Единственное отличие — в московский рейтинг вошёл жанр “world”, а в петербургский — джаз и классика.\n",
    "\n",
    "2. В Москве пропущенных значений оказалось так много, что значение `'unknown'` заняло десятое место среди самых популярных жанров. Значит, пропущенные значения занимают существенную долю в данных и угрожают достоверности исследования.\n",
    "\n",
    "Вечер пятницы не меняет эту картину. Некоторые жанры поднимаются немного выше, другие спускаются, но в целом топ-10 остаётся тем же самым.\n",
    "\n",
    "Таким образом, вторая гипотеза подтвердилась лишь частично:\n",
    "* Пользователи слушают похожую музыку в начале недели и в конце.\n",
    "* Разница между Москвой и Петербургом не слишком выражена. В Москве чаще слушают русскую популярную музыку, в Петербурге — джаз.\n",
    "\n",
    "Однако пропуски в данных ставят под сомнение этот результат. В Москве их так много, что рейтинг топ-10 мог бы выглядеть иначе, если бы не утерянные  данные о жанрах."
   ]
  },
  {
   "cell_type": "markdown",
   "metadata": {
    "id": "JolODAqr_Zcu"
   },
   "source": [
    "### Жанровые предпочтения в Москве и Петербурге\n",
    "\n",
    "Гипотеза: Петербург — столица рэпа, музыку этого жанра там слушают чаще, чем в Москве.  А Москва — город контрастов, в котором, тем не менее, преобладает поп-музыка."
   ]
  },
  {
   "cell_type": "markdown",
   "metadata": {
    "id": "DlegSvaT_Zcu"
   },
   "source": [
    "Сгруппируем таблицу `moscow_general` по жанру и посчитаем прослушивания треков каждого жанра методом `count()`. Затем отсортируем результат в порядке убывания и сохраним его в таблице `moscow_genres`."
   ]
  },
  {
   "cell_type": "code",
   "execution_count": 34,
   "metadata": {
    "id": "r19lIPke_Zcu"
   },
   "outputs": [],
   "source": [
    "moscow_genres = moscow_general.groupby(\n",
    "    'genre'\n",
    ")[\n",
    "    'user_id'\n",
    "].count().sort_values(\n",
    "    ascending = False\n",
    ")"
   ]
  },
  {
   "cell_type": "markdown",
   "metadata": {
    "id": "6kMuomxTiIr8"
   },
   "source": [
    "Выведем на экран первые десять строк `moscow_genres`:"
   ]
  },
  {
   "cell_type": "code",
   "execution_count": 35,
   "metadata": {
    "id": "WhCSooF8_Zcv"
   },
   "outputs": [
    {
     "data": {
      "text/plain": [
       "genre\n",
       "pop            5892\n",
       "dance          4435\n",
       "rock           3965\n",
       "electronic     3786\n",
       "hiphop         2094\n",
       "classical      1616\n",
       "world          1432\n",
       "alternative    1379\n",
       "ruspop         1372\n",
       "rusrap         1161\n",
       "Name: user_id, dtype: int64"
      ]
     },
     "execution_count": 35,
     "metadata": {},
     "output_type": "execute_result"
    }
   ],
   "source": [
    "moscow_genres.head(10)"
   ]
  },
  {
   "cell_type": "markdown",
   "metadata": {
    "id": "cnPG2vnN_Zcv"
   },
   "source": [
    "Теперь повторим то же и для Петербурга.\n",
    "\n",
    "Сгруппируем таблицу `spb_general` по жанру. Посчитаем прослушивания треков каждого жанра. Результат отсортируем в порядке убывания и сохраним в таблице `spb_genres`:"
   ]
  },
  {
   "cell_type": "code",
   "execution_count": 36,
   "metadata": {
    "id": "gluLIpE7_Zcv"
   },
   "outputs": [],
   "source": [
    "spb_genres = spb_general.groupby(\n",
    "    'genre'\n",
    ")[\n",
    "    'user_id'\n",
    "].count().sort_values(\n",
    "    ascending = False\n",
    ")"
   ]
  },
  {
   "cell_type": "markdown",
   "metadata": {
    "id": "5Doha_ODgyQ8"
   },
   "source": [
    "Выведем на экран первые десять строк `spb_genres`:"
   ]
  },
  {
   "cell_type": "code",
   "execution_count": 37,
   "metadata": {
    "id": "uaGJHjVU_Zcv"
   },
   "outputs": [
    {
     "data": {
      "text/plain": [
       "genre\n",
       "pop            2431\n",
       "dance          1932\n",
       "rock           1879\n",
       "electronic     1736\n",
       "hiphop          960\n",
       "alternative     649\n",
       "classical       646\n",
       "rusrap          564\n",
       "ruspop          538\n",
       "world           515\n",
       "Name: user_id, dtype: int64"
      ]
     },
     "execution_count": 37,
     "metadata": {},
     "output_type": "execute_result"
    }
   ],
   "source": [
    "spb_genres.head(10)"
   ]
  },
  {
   "cell_type": "markdown",
   "metadata": {
    "id": "nVhnJEm__Zcv"
   },
   "source": [
    "<div style=\"border-radius: 15px; border:solid #4BA3C3 1px; padding: 20px\"> <h4 style=\"color:#4BA3C3; margin-bottom:20px\">Вывод </h4>\n",
    "    \n",
    "Гипотеза частично подтвердилась:\n",
    "* Поп-музыка — самый популярный жанр в Москве, как и предполагала гипотеза. Более того, в топ-10 жанров встречается близкий жанр — русская популярная музыка.\n",
    "* Вопреки ожиданиям, рэп одинаково популярен в Москве и Петербурге. \n"
   ]
  },
  {
   "cell_type": "markdown",
   "metadata": {
    "id": "tjUwbHb3_Zcv"
   },
   "source": [
    "<div style=\"border-radius: 15px; border:solid #4BA3C3 2.5px; padding: 20px\"> <h2 style=\"color:#4BA3C3; margin-bottom:20px\"> Итоги исследования </h2>\n",
    "\n",
    "Мы проверили три гипотезы и установили:\n",
    "\n",
    "1. День недели по-разному влияет на активность пользователей в Москве и Петербурге. \n",
    "\n",
    "Первая гипотеза полностью подтвердилась.\n",
    "\n",
    "2. Музыкальные предпочтения не сильно меняются в течение недели — будь то Москва или Петербург. Небольшие различия заметны в начале недели, по понедельникам:\n",
    "* в Москве слушают музыку жанра “world”,\n",
    "* в Петербурге — джаз и классику.\n",
    "\n",
    "Таким образом, вторая гипотеза подтвердилась лишь отчасти. Этот результат мог оказаться иным, если бы не пропуски в данных.\n",
    "\n",
    "3. Во вкусах пользователей Москвы и Петербурга больше общего чем различий. Вопреки ожиданиям, предпочтения жанров в Петербурге напоминают московские.\n",
    "\n",
    "Третья гипотеза не подтвердилась. Если различия в предпочтениях и существуют, на основной массе пользователей они незаметны."
   ]
  }
 ],
 "metadata": {
  "ExecuteTimeLog": [
   {
    "duration": 789,
    "start_time": "2022-02-15T20:55:53.093Z"
   },
   {
    "duration": 2098,
    "start_time": "2022-02-15T20:56:40.040Z"
   },
   {
    "duration": 228,
    "start_time": "2022-02-15T20:56:58.347Z"
   },
   {
    "duration": 85,
    "start_time": "2022-02-15T20:57:22.633Z"
   },
   {
    "duration": 26,
    "start_time": "2022-02-15T20:57:34.840Z"
   },
   {
    "duration": 17,
    "start_time": "2022-02-15T20:57:58.919Z"
   },
   {
    "duration": 323,
    "start_time": "2022-02-15T20:59:16.850Z"
   },
   {
    "duration": 18,
    "start_time": "2022-02-15T20:59:50.573Z"
   },
   {
    "duration": 33,
    "start_time": "2022-02-15T21:01:02.436Z"
   },
   {
    "duration": 320,
    "start_time": "2022-02-16T18:58:44.088Z"
   },
   {
    "duration": 285,
    "start_time": "2022-02-16T18:59:19.972Z"
   },
   {
    "duration": 535,
    "start_time": "2022-02-16T18:59:54.473Z"
   },
   {
    "duration": 117,
    "start_time": "2022-02-16T18:59:55.010Z"
   },
   {
    "duration": 15,
    "start_time": "2022-02-16T18:59:55.128Z"
   },
   {
    "duration": 21,
    "start_time": "2022-02-16T18:59:55.145Z"
   },
   {
    "duration": 3,
    "start_time": "2022-02-16T18:59:55.168Z"
   },
   {
    "duration": 2,
    "start_time": "2022-02-16T18:59:55.173Z"
   },
   {
    "duration": 4,
    "start_time": "2022-02-16T18:59:55.176Z"
   },
   {
    "duration": 3,
    "start_time": "2022-02-16T18:59:55.182Z"
   },
   {
    "duration": 3,
    "start_time": "2022-02-16T18:59:55.187Z"
   },
   {
    "duration": 4,
    "start_time": "2022-02-16T18:59:55.192Z"
   },
   {
    "duration": 36,
    "start_time": "2022-02-16T18:59:55.197Z"
   },
   {
    "duration": 4,
    "start_time": "2022-02-16T18:59:55.234Z"
   },
   {
    "duration": 5,
    "start_time": "2022-02-16T18:59:55.240Z"
   },
   {
    "duration": 7,
    "start_time": "2022-02-16T18:59:55.246Z"
   },
   {
    "duration": 6,
    "start_time": "2022-02-16T18:59:55.254Z"
   },
   {
    "duration": 7,
    "start_time": "2022-02-16T18:59:55.262Z"
   },
   {
    "duration": 7,
    "start_time": "2022-02-16T18:59:55.271Z"
   },
   {
    "duration": 8,
    "start_time": "2022-02-16T18:59:55.279Z"
   },
   {
    "duration": 6,
    "start_time": "2022-02-16T18:59:55.288Z"
   },
   {
    "duration": 6,
    "start_time": "2022-02-16T18:59:55.296Z"
   },
   {
    "duration": 11,
    "start_time": "2022-02-16T18:59:55.304Z"
   },
   {
    "duration": 8,
    "start_time": "2022-02-16T18:59:55.317Z"
   },
   {
    "duration": 7,
    "start_time": "2022-02-16T18:59:55.327Z"
   },
   {
    "duration": 8,
    "start_time": "2022-02-16T18:59:55.335Z"
   },
   {
    "duration": 8,
    "start_time": "2022-02-16T18:59:55.344Z"
   },
   {
    "duration": 11,
    "start_time": "2022-02-16T18:59:55.353Z"
   },
   {
    "duration": 9,
    "start_time": "2022-02-16T18:59:55.365Z"
   },
   {
    "duration": 8,
    "start_time": "2022-02-16T18:59:55.375Z"
   },
   {
    "duration": 8,
    "start_time": "2022-02-16T18:59:55.384Z"
   },
   {
    "duration": 8,
    "start_time": "2022-02-16T18:59:55.393Z"
   },
   {
    "duration": 12,
    "start_time": "2022-02-16T18:59:55.403Z"
   },
   {
    "duration": 8,
    "start_time": "2022-02-16T18:59:55.416Z"
   },
   {
    "duration": 12,
    "start_time": "2022-02-16T18:59:55.425Z"
   },
   {
    "duration": 8,
    "start_time": "2022-02-16T18:59:55.438Z"
   },
   {
    "duration": 9,
    "start_time": "2022-02-16T18:59:55.447Z"
   },
   {
    "duration": 8,
    "start_time": "2022-02-16T18:59:55.457Z"
   },
   {
    "duration": 8,
    "start_time": "2022-02-16T18:59:55.466Z"
   },
   {
    "duration": 8,
    "start_time": "2022-02-16T18:59:55.476Z"
   },
   {
    "duration": 20,
    "start_time": "2022-02-16T19:08:25.282Z"
   },
   {
    "duration": 4,
    "start_time": "2022-02-16T19:08:43.333Z"
   },
   {
    "duration": 22,
    "start_time": "2022-02-16T19:18:04.879Z"
   },
   {
    "duration": 7569,
    "start_time": "2022-02-16T19:20:39.775Z"
   },
   {
    "duration": 23,
    "start_time": "2022-02-16T19:20:47.836Z"
   },
   {
    "duration": 1099,
    "start_time": "2022-02-20T22:44:33.443Z"
   },
   {
    "duration": 593,
    "start_time": "2022-02-20T22:47:12.763Z"
   },
   {
    "duration": 136,
    "start_time": "2022-02-20T22:47:13.358Z"
   },
   {
    "duration": 15,
    "start_time": "2022-02-20T22:47:13.497Z"
   },
   {
    "duration": 32,
    "start_time": "2022-02-20T22:47:13.514Z"
   },
   {
    "duration": 4,
    "start_time": "2022-02-20T22:47:13.547Z"
   },
   {
    "duration": 22,
    "start_time": "2022-02-20T22:47:13.553Z"
   },
   {
    "duration": 4,
    "start_time": "2022-02-20T22:47:13.576Z"
   },
   {
    "duration": 21,
    "start_time": "2022-02-20T22:47:13.583Z"
   },
   {
    "duration": 4240,
    "start_time": "2022-02-20T22:47:13.606Z"
   },
   {
    "duration": 33905,
    "start_time": "2022-02-20T22:46:43.943Z"
   },
   {
    "duration": 33872,
    "start_time": "2022-02-20T22:46:43.977Z"
   },
   {
    "duration": 33846,
    "start_time": "2022-02-20T22:46:44.004Z"
   },
   {
    "duration": 33811,
    "start_time": "2022-02-20T22:46:44.040Z"
   },
   {
    "duration": 33780,
    "start_time": "2022-02-20T22:46:44.072Z"
   },
   {
    "duration": 33700,
    "start_time": "2022-02-20T22:46:44.153Z"
   },
   {
    "duration": 33664,
    "start_time": "2022-02-20T22:46:44.189Z"
   },
   {
    "duration": 33655,
    "start_time": "2022-02-20T22:46:44.199Z"
   },
   {
    "duration": 33594,
    "start_time": "2022-02-20T22:46:44.261Z"
   },
   {
    "duration": 33567,
    "start_time": "2022-02-20T22:46:44.289Z"
   },
   {
    "duration": 33512,
    "start_time": "2022-02-20T22:46:44.345Z"
   },
   {
    "duration": 33456,
    "start_time": "2022-02-20T22:46:44.402Z"
   },
   {
    "duration": 33442,
    "start_time": "2022-02-20T22:46:44.417Z"
   },
   {
    "duration": 33424,
    "start_time": "2022-02-20T22:46:44.436Z"
   },
   {
    "duration": 33409,
    "start_time": "2022-02-20T22:46:44.452Z"
   },
   {
    "duration": 33361,
    "start_time": "2022-02-20T22:46:44.500Z"
   },
   {
    "duration": 33272,
    "start_time": "2022-02-20T22:46:44.590Z"
   },
   {
    "duration": 33262,
    "start_time": "2022-02-20T22:46:44.601Z"
   },
   {
    "duration": 33192,
    "start_time": "2022-02-20T22:46:44.672Z"
   },
   {
    "duration": 33165,
    "start_time": "2022-02-20T22:46:44.700Z"
   },
   {
    "duration": 33147,
    "start_time": "2022-02-20T22:46:44.719Z"
   },
   {
    "duration": 33130,
    "start_time": "2022-02-20T22:46:44.737Z"
   },
   {
    "duration": 33071,
    "start_time": "2022-02-20T22:46:44.796Z"
   },
   {
    "duration": 33059,
    "start_time": "2022-02-20T22:46:44.809Z"
   },
   {
    "duration": 33052,
    "start_time": "2022-02-20T22:46:44.817Z"
   },
   {
    "duration": 33023,
    "start_time": "2022-02-20T22:46:44.847Z"
   },
   {
    "duration": 33009,
    "start_time": "2022-02-20T22:46:44.861Z"
   },
   {
    "duration": 33004,
    "start_time": "2022-02-20T22:46:44.867Z"
   },
   {
    "duration": 32993,
    "start_time": "2022-02-20T22:46:44.879Z"
   },
   {
    "duration": 4071,
    "start_time": "2022-02-20T22:54:41.659Z"
   },
   {
    "duration": 3,
    "start_time": "2022-02-20T22:54:48.712Z"
   },
   {
    "duration": 132,
    "start_time": "2022-02-20T22:54:48.718Z"
   },
   {
    "duration": 9,
    "start_time": "2022-02-20T22:54:48.852Z"
   },
   {
    "duration": 22,
    "start_time": "2022-02-20T22:54:48.862Z"
   },
   {
    "duration": 3,
    "start_time": "2022-02-20T22:54:48.885Z"
   },
   {
    "duration": 20,
    "start_time": "2022-02-20T22:54:48.890Z"
   },
   {
    "duration": 4,
    "start_time": "2022-02-20T22:54:48.911Z"
   },
   {
    "duration": 47,
    "start_time": "2022-02-20T22:54:48.917Z"
   },
   {
    "duration": 4251,
    "start_time": "2022-02-20T22:54:48.968Z"
   },
   {
    "duration": 33894,
    "start_time": "2022-02-20T22:54:19.328Z"
   },
   {
    "duration": 33887,
    "start_time": "2022-02-20T22:54:19.335Z"
   },
   {
    "duration": 33863,
    "start_time": "2022-02-20T22:54:19.360Z"
   },
   {
    "duration": 33845,
    "start_time": "2022-02-20T22:54:19.379Z"
   },
   {
    "duration": 33840,
    "start_time": "2022-02-20T22:54:19.385Z"
   },
   {
    "duration": 33853,
    "start_time": "2022-02-20T22:54:19.392Z"
   },
   {
    "duration": 33802,
    "start_time": "2022-02-20T22:54:19.444Z"
   },
   {
    "duration": 33714,
    "start_time": "2022-02-20T22:54:19.533Z"
   },
   {
    "duration": 33700,
    "start_time": "2022-02-20T22:54:19.548Z"
   },
   {
    "duration": 33528,
    "start_time": "2022-02-20T22:54:19.721Z"
   },
   {
    "duration": 33488,
    "start_time": "2022-02-20T22:54:19.762Z"
   },
   {
    "duration": 33444,
    "start_time": "2022-02-20T22:54:19.807Z"
   },
   {
    "duration": 33412,
    "start_time": "2022-02-20T22:54:19.840Z"
   },
   {
    "duration": 33407,
    "start_time": "2022-02-20T22:54:19.846Z"
   },
   {
    "duration": 33402,
    "start_time": "2022-02-20T22:54:19.852Z"
   },
   {
    "duration": 33320,
    "start_time": "2022-02-20T22:54:19.935Z"
   },
   {
    "duration": 33314,
    "start_time": "2022-02-20T22:54:19.942Z"
   },
   {
    "duration": 33310,
    "start_time": "2022-02-20T22:54:19.947Z"
   },
   {
    "duration": 33303,
    "start_time": "2022-02-20T22:54:19.954Z"
   },
   {
    "duration": 33297,
    "start_time": "2022-02-20T22:54:19.961Z"
   },
   {
    "duration": 33293,
    "start_time": "2022-02-20T22:54:19.966Z"
   },
   {
    "duration": 33287,
    "start_time": "2022-02-20T22:54:19.973Z"
   },
   {
    "duration": 33283,
    "start_time": "2022-02-20T22:54:19.978Z"
   },
   {
    "duration": 33279,
    "start_time": "2022-02-20T22:54:19.983Z"
   },
   {
    "duration": 33273,
    "start_time": "2022-02-20T22:54:19.990Z"
   },
   {
    "duration": 33255,
    "start_time": "2022-02-20T22:54:20.009Z"
   },
   {
    "duration": 33250,
    "start_time": "2022-02-20T22:54:20.015Z"
   },
   {
    "duration": 33238,
    "start_time": "2022-02-20T22:54:20.028Z"
   },
   {
    "duration": 33232,
    "start_time": "2022-02-20T22:54:20.034Z"
   },
   {
    "duration": 347,
    "start_time": "2022-02-20T22:57:47.948Z"
   },
   {
    "duration": 335,
    "start_time": "2022-02-20T22:59:29.645Z"
   },
   {
    "duration": 336,
    "start_time": "2022-02-20T23:01:28.422Z"
   },
   {
    "duration": 342,
    "start_time": "2022-02-20T23:05:15.011Z"
   },
   {
    "duration": 4046,
    "start_time": "2022-02-20T23:05:32.702Z"
   },
   {
    "duration": 3,
    "start_time": "2022-02-20T23:05:38.017Z"
   },
   {
    "duration": 126,
    "start_time": "2022-02-20T23:05:38.023Z"
   },
   {
    "duration": 9,
    "start_time": "2022-02-20T23:05:38.151Z"
   },
   {
    "duration": 21,
    "start_time": "2022-02-20T23:05:38.162Z"
   },
   {
    "duration": 4,
    "start_time": "2022-02-20T23:05:38.185Z"
   },
   {
    "duration": 19,
    "start_time": "2022-02-20T23:05:38.190Z"
   },
   {
    "duration": 4,
    "start_time": "2022-02-20T23:05:38.210Z"
   },
   {
    "duration": 21,
    "start_time": "2022-02-20T23:05:38.246Z"
   },
   {
    "duration": 8437,
    "start_time": "2022-02-20T23:05:38.269Z"
   },
   {
    "duration": 34037,
    "start_time": "2022-02-20T23:05:12.671Z"
   },
   {
    "duration": 34003,
    "start_time": "2022-02-20T23:05:12.705Z"
   },
   {
    "duration": 33986,
    "start_time": "2022-02-20T23:05:12.723Z"
   },
   {
    "duration": 33938,
    "start_time": "2022-02-20T23:05:12.772Z"
   },
   {
    "duration": 33926,
    "start_time": "2022-02-20T23:05:12.785Z"
   },
   {
    "duration": 33791,
    "start_time": "2022-02-20T23:05:12.920Z"
   },
   {
    "duration": 33758,
    "start_time": "2022-02-20T23:05:12.954Z"
   },
   {
    "duration": 33724,
    "start_time": "2022-02-20T23:05:12.989Z"
   },
   {
    "duration": 33674,
    "start_time": "2022-02-20T23:05:13.040Z"
   },
   {
    "duration": 33500,
    "start_time": "2022-02-20T23:05:13.214Z"
   },
   {
    "duration": 33476,
    "start_time": "2022-02-20T23:05:13.239Z"
   },
   {
    "duration": 33446,
    "start_time": "2022-02-20T23:05:13.270Z"
   },
   {
    "duration": 33409,
    "start_time": "2022-02-20T23:05:13.308Z"
   },
   {
    "duration": 33377,
    "start_time": "2022-02-20T23:05:13.340Z"
   },
   {
    "duration": 33372,
    "start_time": "2022-02-20T23:05:13.346Z"
   },
   {
    "duration": 33366,
    "start_time": "2022-02-20T23:05:13.353Z"
   },
   {
    "duration": 33351,
    "start_time": "2022-02-20T23:05:13.370Z"
   },
   {
    "duration": 33316,
    "start_time": "2022-02-20T23:05:13.405Z"
   },
   {
    "duration": 33287,
    "start_time": "2022-02-20T23:05:13.435Z"
   },
   {
    "duration": 33275,
    "start_time": "2022-02-20T23:05:13.448Z"
   },
   {
    "duration": 33224,
    "start_time": "2022-02-20T23:05:13.500Z"
   },
   {
    "duration": 33216,
    "start_time": "2022-02-20T23:05:13.509Z"
   },
   {
    "duration": 33212,
    "start_time": "2022-02-20T23:05:13.514Z"
   },
   {
    "duration": 33206,
    "start_time": "2022-02-20T23:05:13.521Z"
   },
   {
    "duration": 33202,
    "start_time": "2022-02-20T23:05:13.526Z"
   },
   {
    "duration": 33195,
    "start_time": "2022-02-20T23:05:13.534Z"
   },
   {
    "duration": 33191,
    "start_time": "2022-02-20T23:05:13.539Z"
   },
   {
    "duration": 33188,
    "start_time": "2022-02-20T23:05:13.542Z"
   },
   {
    "duration": 33184,
    "start_time": "2022-02-20T23:05:13.547Z"
   },
   {
    "duration": 309,
    "start_time": "2022-02-20T23:05:56.451Z"
   },
   {
    "duration": 348,
    "start_time": "2022-02-20T23:06:06.361Z"
   },
   {
    "duration": 315,
    "start_time": "2022-02-21T09:25:27.225Z"
   },
   {
    "duration": 716,
    "start_time": "2022-02-21T09:25:37.013Z"
   },
   {
    "duration": 138,
    "start_time": "2022-02-21T09:25:37.731Z"
   },
   {
    "duration": 16,
    "start_time": "2022-02-21T09:25:37.871Z"
   },
   {
    "duration": 24,
    "start_time": "2022-02-21T09:25:37.889Z"
   },
   {
    "duration": 4,
    "start_time": "2022-02-21T09:25:37.914Z"
   },
   {
    "duration": 45,
    "start_time": "2022-02-21T09:25:37.919Z"
   },
   {
    "duration": 13,
    "start_time": "2022-02-21T09:25:37.966Z"
   },
   {
    "duration": 31,
    "start_time": "2022-02-21T09:25:37.981Z"
   },
   {
    "duration": 7446,
    "start_time": "2022-02-21T09:25:38.014Z"
   },
   {
    "duration": 33441,
    "start_time": "2022-02-21T09:25:12.023Z"
   },
   {
    "duration": 33406,
    "start_time": "2022-02-21T09:25:12.059Z"
   },
   {
    "duration": 33358,
    "start_time": "2022-02-21T09:25:12.109Z"
   },
   {
    "duration": 33335,
    "start_time": "2022-02-21T09:25:12.133Z"
   },
   {
    "duration": 33196,
    "start_time": "2022-02-21T09:25:12.274Z"
   },
   {
    "duration": 33120,
    "start_time": "2022-02-21T09:25:12.351Z"
   },
   {
    "duration": 32986,
    "start_time": "2022-02-21T09:25:12.486Z"
   },
   {
    "duration": 32958,
    "start_time": "2022-02-21T09:25:12.515Z"
   },
   {
    "duration": 32930,
    "start_time": "2022-02-21T09:25:12.545Z"
   },
   {
    "duration": 32906,
    "start_time": "2022-02-21T09:25:12.570Z"
   },
   {
    "duration": 32867,
    "start_time": "2022-02-21T09:25:12.610Z"
   },
   {
    "duration": 32846,
    "start_time": "2022-02-21T09:25:12.632Z"
   },
   {
    "duration": 32838,
    "start_time": "2022-02-21T09:25:12.641Z"
   },
   {
    "duration": 32822,
    "start_time": "2022-02-21T09:25:12.659Z"
   },
   {
    "duration": 32771,
    "start_time": "2022-02-21T09:25:12.711Z"
   },
   {
    "duration": 32737,
    "start_time": "2022-02-21T09:25:12.746Z"
   },
   {
    "duration": 32690,
    "start_time": "2022-02-21T09:25:12.794Z"
   },
   {
    "duration": 32617,
    "start_time": "2022-02-21T09:25:12.868Z"
   },
   {
    "duration": 32602,
    "start_time": "2022-02-21T09:25:12.884Z"
   },
   {
    "duration": 32583,
    "start_time": "2022-02-21T09:25:12.904Z"
   },
   {
    "duration": 32566,
    "start_time": "2022-02-21T09:25:12.923Z"
   },
   {
    "duration": 32550,
    "start_time": "2022-02-21T09:25:12.940Z"
   },
   {
    "duration": 32533,
    "start_time": "2022-02-21T09:25:12.958Z"
   },
   {
    "duration": 32517,
    "start_time": "2022-02-21T09:25:12.976Z"
   },
   {
    "duration": 32489,
    "start_time": "2022-02-21T09:25:13.005Z"
   },
   {
    "duration": 32471,
    "start_time": "2022-02-21T09:25:13.024Z"
   },
   {
    "duration": 32418,
    "start_time": "2022-02-21T09:25:13.078Z"
   },
   {
    "duration": 32414,
    "start_time": "2022-02-21T09:25:13.083Z"
   },
   {
    "duration": 32394,
    "start_time": "2022-02-21T09:25:13.104Z"
   },
   {
    "duration": 33464,
    "start_time": "2022-02-21T09:34:15.377Z"
   },
   {
    "duration": 33459,
    "start_time": "2022-02-21T09:34:15.383Z"
   },
   {
    "duration": 33443,
    "start_time": "2022-02-21T09:34:15.400Z"
   },
   {
    "duration": 33436,
    "start_time": "2022-02-21T09:34:15.408Z"
   },
   {
    "duration": 33431,
    "start_time": "2022-02-21T09:34:15.414Z"
   },
   {
    "duration": 33417,
    "start_time": "2022-02-21T09:34:15.429Z"
   },
   {
    "duration": 33412,
    "start_time": "2022-02-21T09:34:15.435Z"
   },
   {
    "duration": 33400,
    "start_time": "2022-02-21T09:34:15.449Z"
   },
   {
    "duration": 33377,
    "start_time": "2022-02-21T09:34:15.472Z"
   },
   {
    "duration": 33343,
    "start_time": "2022-02-21T09:34:15.507Z"
   },
   {
    "duration": 33293,
    "start_time": "2022-02-21T09:34:15.558Z"
   },
   {
    "duration": 33287,
    "start_time": "2022-02-21T09:34:15.565Z"
   },
   {
    "duration": 33208,
    "start_time": "2022-02-21T09:34:15.645Z"
   },
   {
    "duration": 33203,
    "start_time": "2022-02-21T09:34:15.652Z"
   },
   {
    "duration": 33198,
    "start_time": "2022-02-21T09:34:15.658Z"
   },
   {
    "duration": 33193,
    "start_time": "2022-02-21T09:34:15.664Z"
   },
   {
    "duration": 33153,
    "start_time": "2022-02-21T09:34:15.705Z"
   },
   {
    "duration": 33148,
    "start_time": "2022-02-21T09:34:15.711Z"
   },
   {
    "duration": 33143,
    "start_time": "2022-02-21T09:34:15.717Z"
   },
   {
    "duration": 33136,
    "start_time": "2022-02-21T09:34:15.725Z"
   },
   {
    "duration": 33131,
    "start_time": "2022-02-21T09:34:15.731Z"
   },
   {
    "duration": 33125,
    "start_time": "2022-02-21T09:34:15.738Z"
   },
   {
    "duration": 33093,
    "start_time": "2022-02-21T09:34:15.771Z"
   },
   {
    "duration": 33067,
    "start_time": "2022-02-21T09:34:15.798Z"
   },
   {
    "duration": 33062,
    "start_time": "2022-02-21T09:34:15.804Z"
   },
   {
    "duration": 33058,
    "start_time": "2022-02-21T09:34:15.809Z"
   },
   {
    "duration": 33054,
    "start_time": "2022-02-21T09:34:15.814Z"
   },
   {
    "duration": 33048,
    "start_time": "2022-02-21T09:34:15.820Z"
   },
   {
    "duration": 33032,
    "start_time": "2022-02-21T09:34:15.837Z"
   },
   {
    "duration": 33017,
    "start_time": "2022-02-21T09:34:15.853Z"
   },
   {
    "duration": 33014,
    "start_time": "2022-02-21T09:34:15.858Z"
   },
   {
    "duration": 32997,
    "start_time": "2022-02-21T09:34:15.876Z"
   },
   {
    "duration": 32988,
    "start_time": "2022-02-21T09:34:15.886Z"
   },
   {
    "duration": 32964,
    "start_time": "2022-02-21T09:34:15.910Z"
   },
   {
    "duration": 32961,
    "start_time": "2022-02-21T09:34:15.914Z"
   },
   {
    "duration": 32953,
    "start_time": "2022-02-21T09:34:15.923Z"
   },
   {
    "duration": 32947,
    "start_time": "2022-02-21T09:34:15.930Z"
   },
   {
    "duration": 32933,
    "start_time": "2022-02-21T09:34:15.945Z"
   },
   {
    "duration": 22,
    "start_time": "2022-02-21T09:35:03.876Z"
   },
   {
    "duration": 24,
    "start_time": "2022-02-21T09:35:23.949Z"
   },
   {
    "duration": 3,
    "start_time": "2022-02-21T09:35:38.441Z"
   },
   {
    "duration": 147,
    "start_time": "2022-02-21T09:35:38.448Z"
   },
   {
    "duration": 10,
    "start_time": "2022-02-21T09:35:38.597Z"
   },
   {
    "duration": 26,
    "start_time": "2022-02-21T09:35:38.609Z"
   },
   {
    "duration": 6,
    "start_time": "2022-02-21T09:35:38.659Z"
   },
   {
    "duration": 23,
    "start_time": "2022-02-21T09:35:38.667Z"
   },
   {
    "duration": 4,
    "start_time": "2022-02-21T09:35:38.692Z"
   },
   {
    "duration": 24,
    "start_time": "2022-02-21T09:35:38.697Z"
   },
   {
    "duration": 64590,
    "start_time": "2022-02-21T09:35:38.724Z"
   },
   {
    "duration": 33452,
    "start_time": "2022-02-21T09:36:09.864Z"
   },
   {
    "duration": 33445,
    "start_time": "2022-02-21T09:36:09.872Z"
   },
   {
    "duration": 33441,
    "start_time": "2022-02-21T09:36:09.877Z"
   },
   {
    "duration": 33436,
    "start_time": "2022-02-21T09:36:09.883Z"
   },
   {
    "duration": 33426,
    "start_time": "2022-02-21T09:36:09.894Z"
   },
   {
    "duration": 33401,
    "start_time": "2022-02-21T09:36:09.919Z"
   },
   {
    "duration": 33371,
    "start_time": "2022-02-21T09:36:09.950Z"
   },
   {
    "duration": 33332,
    "start_time": "2022-02-21T09:36:09.990Z"
   },
   {
    "duration": 33290,
    "start_time": "2022-02-21T09:36:10.033Z"
   },
   {
    "duration": 33262,
    "start_time": "2022-02-21T09:36:10.062Z"
   },
   {
    "duration": 33258,
    "start_time": "2022-02-21T09:36:10.067Z"
   },
   {
    "duration": 33221,
    "start_time": "2022-02-21T09:36:10.105Z"
   },
   {
    "duration": 33216,
    "start_time": "2022-02-21T09:36:10.111Z"
   },
   {
    "duration": 33212,
    "start_time": "2022-02-21T09:36:10.116Z"
   },
   {
    "duration": 33192,
    "start_time": "2022-02-21T09:36:10.137Z"
   },
   {
    "duration": 33188,
    "start_time": "2022-02-21T09:36:10.142Z"
   },
   {
    "duration": 33184,
    "start_time": "2022-02-21T09:36:10.147Z"
   },
   {
    "duration": 33159,
    "start_time": "2022-02-21T09:36:10.172Z"
   },
   {
    "duration": 33155,
    "start_time": "2022-02-21T09:36:10.177Z"
   },
   {
    "duration": 33150,
    "start_time": "2022-02-21T09:36:10.183Z"
   },
   {
    "duration": 33139,
    "start_time": "2022-02-21T09:36:10.195Z"
   },
   {
    "duration": 33134,
    "start_time": "2022-02-21T09:36:10.201Z"
   },
   {
    "duration": 33122,
    "start_time": "2022-02-21T09:36:10.214Z"
   },
   {
    "duration": 33104,
    "start_time": "2022-02-21T09:36:10.232Z"
   },
   {
    "duration": 33100,
    "start_time": "2022-02-21T09:36:10.237Z"
   },
   {
    "duration": 33094,
    "start_time": "2022-02-21T09:36:10.244Z"
   },
   {
    "duration": 33085,
    "start_time": "2022-02-21T09:36:10.254Z"
   },
   {
    "duration": 33056,
    "start_time": "2022-02-21T09:36:10.284Z"
   },
   {
    "duration": 33037,
    "start_time": "2022-02-21T09:36:10.304Z"
   },
   {
    "duration": 7,
    "start_time": "2022-02-21T09:52:23.056Z"
   },
   {
    "duration": 24,
    "start_time": "2022-02-21T09:52:27.426Z"
   },
   {
    "duration": 3,
    "start_time": "2022-02-21T09:53:29.880Z"
   },
   {
    "duration": 180,
    "start_time": "2022-02-21T09:53:29.887Z"
   },
   {
    "duration": 11,
    "start_time": "2022-02-21T09:53:30.069Z"
   },
   {
    "duration": 27,
    "start_time": "2022-02-21T09:53:30.083Z"
   },
   {
    "duration": 25,
    "start_time": "2022-02-21T09:53:30.112Z"
   },
   {
    "duration": 41,
    "start_time": "2022-02-21T09:53:30.139Z"
   },
   {
    "duration": 6,
    "start_time": "2022-02-21T09:53:30.182Z"
   },
   {
    "duration": 35,
    "start_time": "2022-02-21T09:53:30.190Z"
   },
   {
    "duration": 31,
    "start_time": "2022-02-21T09:53:30.228Z"
   },
   {
    "duration": 26,
    "start_time": "2022-02-21T09:53:30.261Z"
   },
   {
    "duration": 16,
    "start_time": "2022-02-21T09:53:30.288Z"
   },
   {
    "duration": 25,
    "start_time": "2022-02-21T09:53:30.306Z"
   },
   {
    "duration": 8,
    "start_time": "2022-02-21T09:53:30.333Z"
   },
   {
    "duration": 16,
    "start_time": "2022-02-21T09:53:30.343Z"
   },
   {
    "duration": 9,
    "start_time": "2022-02-21T09:53:30.360Z"
   },
   {
    "duration": 10,
    "start_time": "2022-02-21T09:53:30.371Z"
   },
   {
    "duration": 15,
    "start_time": "2022-02-21T09:53:30.382Z"
   },
   {
    "duration": 8,
    "start_time": "2022-02-21T09:53:30.399Z"
   },
   {
    "duration": 17,
    "start_time": "2022-02-21T09:53:30.409Z"
   },
   {
    "duration": 7,
    "start_time": "2022-02-21T09:53:30.429Z"
   },
   {
    "duration": 8,
    "start_time": "2022-02-21T09:53:30.438Z"
   },
   {
    "duration": 7,
    "start_time": "2022-02-21T09:53:30.448Z"
   },
   {
    "duration": 6,
    "start_time": "2022-02-21T09:53:30.457Z"
   },
   {
    "duration": 4,
    "start_time": "2022-02-21T09:53:30.467Z"
   },
   {
    "duration": 5,
    "start_time": "2022-02-21T09:53:30.473Z"
   },
   {
    "duration": 13,
    "start_time": "2022-02-21T09:53:30.480Z"
   },
   {
    "duration": 11,
    "start_time": "2022-02-21T09:53:30.495Z"
   },
   {
    "duration": 8,
    "start_time": "2022-02-21T09:53:30.508Z"
   },
   {
    "duration": 16,
    "start_time": "2022-02-21T09:53:30.518Z"
   },
   {
    "duration": 8,
    "start_time": "2022-02-21T09:53:30.536Z"
   },
   {
    "duration": 11,
    "start_time": "2022-02-21T09:53:30.545Z"
   },
   {
    "duration": 8,
    "start_time": "2022-02-21T09:53:30.558Z"
   },
   {
    "duration": 14,
    "start_time": "2022-02-21T09:53:30.568Z"
   },
   {
    "duration": 8,
    "start_time": "2022-02-21T09:53:30.584Z"
   },
   {
    "duration": 14,
    "start_time": "2022-02-21T09:53:30.593Z"
   },
   {
    "duration": 13,
    "start_time": "2022-02-21T09:53:30.609Z"
   },
   {
    "duration": 12,
    "start_time": "2022-02-21T09:53:30.624Z"
   },
   {
    "duration": 9,
    "start_time": "2022-02-21T09:53:30.638Z"
   },
   {
    "duration": 8,
    "start_time": "2022-02-21T10:47:52.652Z"
   },
   {
    "duration": 3,
    "start_time": "2022-02-21T10:48:02.867Z"
   },
   {
    "duration": 176,
    "start_time": "2022-02-21T10:48:02.883Z"
   },
   {
    "duration": 10,
    "start_time": "2022-02-21T10:48:03.061Z"
   },
   {
    "duration": 30,
    "start_time": "2022-02-21T10:48:03.073Z"
   },
   {
    "duration": 45,
    "start_time": "2022-02-21T10:48:03.105Z"
   },
   {
    "duration": 29,
    "start_time": "2022-02-21T10:48:03.152Z"
   },
   {
    "duration": 3,
    "start_time": "2022-02-21T10:48:03.183Z"
   },
   {
    "duration": 32,
    "start_time": "2022-02-21T10:48:03.188Z"
   },
   {
    "duration": 16,
    "start_time": "2022-02-21T10:48:03.222Z"
   },
   {
    "duration": 25,
    "start_time": "2022-02-21T10:48:03.240Z"
   },
   {
    "duration": 3,
    "start_time": "2022-02-21T10:48:03.267Z"
   },
   {
    "duration": 8,
    "start_time": "2022-02-21T10:48:03.271Z"
   },
   {
    "duration": 7,
    "start_time": "2022-02-21T10:48:03.280Z"
   },
   {
    "duration": 12,
    "start_time": "2022-02-21T10:48:03.289Z"
   },
   {
    "duration": 20,
    "start_time": "2022-02-21T10:48:03.303Z"
   },
   {
    "duration": 10,
    "start_time": "2022-02-21T10:48:03.325Z"
   },
   {
    "duration": 15,
    "start_time": "2022-02-21T10:48:03.337Z"
   },
   {
    "duration": 19,
    "start_time": "2022-02-21T10:48:03.354Z"
   },
   {
    "duration": 7,
    "start_time": "2022-02-21T10:48:03.375Z"
   },
   {
    "duration": 5,
    "start_time": "2022-02-21T10:48:03.386Z"
   },
   {
    "duration": 3,
    "start_time": "2022-02-21T10:48:03.632Z"
   },
   {
    "duration": 12,
    "start_time": "2022-02-21T10:48:03.642Z"
   },
   {
    "duration": 15,
    "start_time": "2022-02-21T10:48:03.656Z"
   },
   {
    "duration": 16,
    "start_time": "2022-02-21T10:48:03.674Z"
   },
   {
    "duration": 9,
    "start_time": "2022-02-21T10:48:03.697Z"
   },
   {
    "duration": 2,
    "start_time": "2022-02-21T10:48:03.749Z"
   },
   {
    "duration": 3,
    "start_time": "2022-02-21T10:48:03.762Z"
   },
   {
    "duration": 2,
    "start_time": "2022-02-21T10:48:03.785Z"
   },
   {
    "duration": 2,
    "start_time": "2022-02-21T10:48:03.809Z"
   },
   {
    "duration": 3,
    "start_time": "2022-02-21T10:48:03.831Z"
   },
   {
    "duration": 7,
    "start_time": "2022-02-21T10:48:03.838Z"
   },
   {
    "duration": 2,
    "start_time": "2022-02-21T10:48:03.852Z"
   },
   {
    "duration": 3,
    "start_time": "2022-02-21T10:48:04.076Z"
   },
   {
    "duration": 5,
    "start_time": "2022-02-21T10:48:04.086Z"
   },
   {
    "duration": 6,
    "start_time": "2022-02-21T10:48:04.093Z"
   },
   {
    "duration": 3,
    "start_time": "2022-02-21T10:48:04.104Z"
   },
   {
    "duration": 2,
    "start_time": "2022-02-21T10:48:04.121Z"
   },
   {
    "duration": 2,
    "start_time": "2022-02-21T10:48:04.130Z"
   },
   {
    "duration": 35,
    "start_time": "2022-02-21T10:48:15.649Z"
   },
   {
    "duration": 3,
    "start_time": "2022-02-21T10:50:34.899Z"
   },
   {
    "duration": 160,
    "start_time": "2022-02-21T10:50:34.907Z"
   },
   {
    "duration": 10,
    "start_time": "2022-02-21T10:50:35.069Z"
   },
   {
    "duration": 32,
    "start_time": "2022-02-21T10:50:35.081Z"
   },
   {
    "duration": 4,
    "start_time": "2022-02-21T10:50:35.115Z"
   },
   {
    "duration": 46,
    "start_time": "2022-02-21T10:50:35.121Z"
   },
   {
    "duration": 4,
    "start_time": "2022-02-21T10:50:35.169Z"
   },
   {
    "duration": 30,
    "start_time": "2022-02-21T10:50:35.175Z"
   },
   {
    "duration": 13,
    "start_time": "2022-02-21T10:50:35.208Z"
   },
   {
    "duration": 47,
    "start_time": "2022-02-21T10:50:35.224Z"
   },
   {
    "duration": 3,
    "start_time": "2022-02-21T10:50:35.273Z"
   },
   {
    "duration": 5,
    "start_time": "2022-02-21T10:50:35.278Z"
   },
   {
    "duration": 10,
    "start_time": "2022-02-21T10:50:35.285Z"
   },
   {
    "duration": 11,
    "start_time": "2022-02-21T10:50:35.296Z"
   },
   {
    "duration": 4,
    "start_time": "2022-02-21T10:50:35.309Z"
   },
   {
    "duration": 6,
    "start_time": "2022-02-21T10:50:35.315Z"
   },
   {
    "duration": 7,
    "start_time": "2022-02-21T10:50:35.323Z"
   },
   {
    "duration": 9,
    "start_time": "2022-02-21T10:50:35.332Z"
   },
   {
    "duration": 7,
    "start_time": "2022-02-21T10:50:35.343Z"
   },
   {
    "duration": 7,
    "start_time": "2022-02-21T10:50:35.351Z"
   },
   {
    "duration": 10,
    "start_time": "2022-02-21T10:50:35.360Z"
   },
   {
    "duration": 5,
    "start_time": "2022-02-21T10:50:35.372Z"
   },
   {
    "duration": 11,
    "start_time": "2022-02-21T10:50:35.378Z"
   },
   {
    "duration": 3,
    "start_time": "2022-02-21T10:50:35.393Z"
   },
   {
    "duration": 5,
    "start_time": "2022-02-21T10:50:35.398Z"
   },
   {
    "duration": 8,
    "start_time": "2022-02-21T10:50:35.405Z"
   },
   {
    "duration": 10,
    "start_time": "2022-02-21T10:50:35.415Z"
   },
   {
    "duration": 7,
    "start_time": "2022-02-21T10:50:35.427Z"
   },
   {
    "duration": 6,
    "start_time": "2022-02-21T10:50:35.436Z"
   },
   {
    "duration": 7,
    "start_time": "2022-02-21T10:50:35.444Z"
   },
   {
    "duration": 10,
    "start_time": "2022-02-21T10:50:35.453Z"
   },
   {
    "duration": 7,
    "start_time": "2022-02-21T10:50:35.465Z"
   },
   {
    "duration": 7,
    "start_time": "2022-02-21T10:50:35.474Z"
   },
   {
    "duration": 13,
    "start_time": "2022-02-21T10:50:35.483Z"
   },
   {
    "duration": 9,
    "start_time": "2022-02-21T10:50:35.498Z"
   },
   {
    "duration": 6,
    "start_time": "2022-02-21T10:50:35.508Z"
   },
   {
    "duration": 6,
    "start_time": "2022-02-21T10:50:35.516Z"
   },
   {
    "duration": 5,
    "start_time": "2022-02-21T10:50:35.523Z"
   },
   {
    "duration": 8,
    "start_time": "2022-02-21T10:50:56.113Z"
   },
   {
    "duration": 2,
    "start_time": "2022-02-21T10:51:01.419Z"
   },
   {
    "duration": 186,
    "start_time": "2022-02-21T10:51:01.426Z"
   },
   {
    "duration": 11,
    "start_time": "2022-02-21T10:51:01.614Z"
   },
   {
    "duration": 51,
    "start_time": "2022-02-21T10:51:01.628Z"
   },
   {
    "duration": 13,
    "start_time": "2022-02-21T10:51:01.682Z"
   },
   {
    "duration": 31,
    "start_time": "2022-02-21T10:51:01.697Z"
   },
   {
    "duration": 16,
    "start_time": "2022-02-21T10:51:01.730Z"
   },
   {
    "duration": 34,
    "start_time": "2022-02-21T10:51:01.748Z"
   },
   {
    "duration": 17,
    "start_time": "2022-02-21T10:51:01.785Z"
   },
   {
    "duration": 27,
    "start_time": "2022-02-21T10:51:01.804Z"
   },
   {
    "duration": 6,
    "start_time": "2022-02-21T10:51:01.833Z"
   },
   {
    "duration": 18,
    "start_time": "2022-02-21T10:51:01.841Z"
   },
   {
    "duration": 19,
    "start_time": "2022-02-21T10:51:01.861Z"
   },
   {
    "duration": 17,
    "start_time": "2022-02-21T10:51:01.882Z"
   },
   {
    "duration": 6,
    "start_time": "2022-02-21T10:51:01.902Z"
   },
   {
    "duration": 44,
    "start_time": "2022-02-21T10:51:01.910Z"
   },
   {
    "duration": 42,
    "start_time": "2022-02-21T10:51:01.957Z"
   },
   {
    "duration": 24,
    "start_time": "2022-02-21T10:51:02.000Z"
   },
   {
    "duration": 16,
    "start_time": "2022-02-21T10:51:02.026Z"
   },
   {
    "duration": 9,
    "start_time": "2022-02-21T10:51:02.044Z"
   },
   {
    "duration": 18,
    "start_time": "2022-02-21T10:51:02.054Z"
   },
   {
    "duration": 18,
    "start_time": "2022-02-21T10:51:02.074Z"
   },
   {
    "duration": 9,
    "start_time": "2022-02-21T10:51:02.094Z"
   },
   {
    "duration": 8,
    "start_time": "2022-02-21T10:51:02.106Z"
   },
   {
    "duration": 14,
    "start_time": "2022-02-21T10:51:02.116Z"
   },
   {
    "duration": 14,
    "start_time": "2022-02-21T10:51:02.131Z"
   },
   {
    "duration": 13,
    "start_time": "2022-02-21T10:51:02.146Z"
   },
   {
    "duration": 10,
    "start_time": "2022-02-21T10:51:02.161Z"
   },
   {
    "duration": 8,
    "start_time": "2022-02-21T10:51:02.173Z"
   },
   {
    "duration": 14,
    "start_time": "2022-02-21T10:51:02.183Z"
   },
   {
    "duration": 26,
    "start_time": "2022-02-21T10:51:02.199Z"
   },
   {
    "duration": 24,
    "start_time": "2022-02-21T10:51:02.226Z"
   },
   {
    "duration": 28,
    "start_time": "2022-02-21T10:51:02.252Z"
   },
   {
    "duration": 18,
    "start_time": "2022-02-21T10:51:02.282Z"
   },
   {
    "duration": 9,
    "start_time": "2022-02-21T10:51:02.302Z"
   },
   {
    "duration": 23,
    "start_time": "2022-02-21T10:51:02.313Z"
   },
   {
    "duration": 16,
    "start_time": "2022-02-21T10:51:02.338Z"
   },
   {
    "duration": 7,
    "start_time": "2022-02-21T10:51:02.356Z"
   },
   {
    "duration": 3,
    "start_time": "2022-02-21T11:05:32.853Z"
   },
   {
    "duration": 159,
    "start_time": "2022-02-21T11:05:32.860Z"
   },
   {
    "duration": 11,
    "start_time": "2022-02-21T11:05:33.021Z"
   },
   {
    "duration": 44,
    "start_time": "2022-02-21T11:05:33.034Z"
   },
   {
    "duration": 4,
    "start_time": "2022-02-21T11:05:33.081Z"
   },
   {
    "duration": 20,
    "start_time": "2022-02-21T11:05:33.087Z"
   },
   {
    "duration": 5,
    "start_time": "2022-02-21T11:05:33.108Z"
   },
   {
    "duration": 64,
    "start_time": "2022-02-21T11:05:33.115Z"
   },
   {
    "duration": 11,
    "start_time": "2022-02-21T11:05:33.183Z"
   },
   {
    "duration": 31,
    "start_time": "2022-02-21T11:05:33.196Z"
   },
   {
    "duration": 7,
    "start_time": "2022-02-21T11:05:33.229Z"
   },
   {
    "duration": 21,
    "start_time": "2022-02-21T11:05:33.238Z"
   },
   {
    "duration": 2,
    "start_time": "2022-02-21T11:05:33.261Z"
   },
   {
    "duration": 7,
    "start_time": "2022-02-21T11:05:33.264Z"
   },
   {
    "duration": 7,
    "start_time": "2022-02-21T11:05:33.273Z"
   },
   {
    "duration": 5,
    "start_time": "2022-02-21T11:05:33.281Z"
   },
   {
    "duration": 6,
    "start_time": "2022-02-21T11:05:33.287Z"
   },
   {
    "duration": 6,
    "start_time": "2022-02-21T11:05:33.295Z"
   },
   {
    "duration": 5,
    "start_time": "2022-02-21T11:05:33.303Z"
   },
   {
    "duration": 6,
    "start_time": "2022-02-21T11:05:33.310Z"
   },
   {
    "duration": 11,
    "start_time": "2022-02-21T11:05:33.317Z"
   },
   {
    "duration": 9,
    "start_time": "2022-02-21T11:05:33.330Z"
   },
   {
    "duration": 7,
    "start_time": "2022-02-21T11:05:33.340Z"
   },
   {
    "duration": 9,
    "start_time": "2022-02-21T11:05:33.349Z"
   },
   {
    "duration": 8,
    "start_time": "2022-02-21T11:05:33.360Z"
   },
   {
    "duration": 17,
    "start_time": "2022-02-21T11:05:33.370Z"
   },
   {
    "duration": 5,
    "start_time": "2022-02-21T11:05:33.388Z"
   },
   {
    "duration": 4,
    "start_time": "2022-02-21T11:05:33.395Z"
   },
   {
    "duration": 5,
    "start_time": "2022-02-21T11:05:33.401Z"
   },
   {
    "duration": 5,
    "start_time": "2022-02-21T11:05:33.408Z"
   },
   {
    "duration": 6,
    "start_time": "2022-02-21T11:05:33.415Z"
   },
   {
    "duration": 12,
    "start_time": "2022-02-21T11:05:33.423Z"
   },
   {
    "duration": 11,
    "start_time": "2022-02-21T11:05:33.436Z"
   },
   {
    "duration": 7,
    "start_time": "2022-02-21T11:05:33.449Z"
   },
   {
    "duration": 7,
    "start_time": "2022-02-21T11:05:33.458Z"
   },
   {
    "duration": 7,
    "start_time": "2022-02-21T11:05:33.467Z"
   },
   {
    "duration": 16,
    "start_time": "2022-02-21T11:05:33.476Z"
   },
   {
    "duration": 6,
    "start_time": "2022-02-21T11:05:33.494Z"
   },
   {
    "duration": 312,
    "start_time": "2022-02-21T14:14:43.226Z"
   },
   {
    "duration": 934,
    "start_time": "2022-02-21T14:14:58.109Z"
   },
   {
    "duration": 232,
    "start_time": "2022-02-21T14:14:59.046Z"
   },
   {
    "duration": 35,
    "start_time": "2022-02-21T14:14:59.282Z"
   },
   {
    "duration": 30,
    "start_time": "2022-02-21T14:14:59.320Z"
   },
   {
    "duration": 25,
    "start_time": "2022-02-21T14:14:59.352Z"
   },
   {
    "duration": 32,
    "start_time": "2022-02-21T14:14:59.378Z"
   },
   {
    "duration": 18,
    "start_time": "2022-02-21T14:14:59.412Z"
   },
   {
    "duration": 33,
    "start_time": "2022-02-21T14:14:59.433Z"
   },
   {
    "duration": 18,
    "start_time": "2022-02-21T14:14:59.468Z"
   },
   {
    "duration": 43,
    "start_time": "2022-02-21T14:14:59.488Z"
   },
   {
    "duration": 24,
    "start_time": "2022-02-21T14:14:59.534Z"
   },
   {
    "duration": 12,
    "start_time": "2022-02-21T14:14:59.560Z"
   },
   {
    "duration": 17,
    "start_time": "2022-02-21T14:14:59.575Z"
   },
   {
    "duration": 14,
    "start_time": "2022-02-21T14:14:59.594Z"
   },
   {
    "duration": 20,
    "start_time": "2022-02-21T14:14:59.610Z"
   },
   {
    "duration": 19,
    "start_time": "2022-02-21T14:14:59.632Z"
   },
   {
    "duration": 31,
    "start_time": "2022-02-21T14:14:59.653Z"
   },
   {
    "duration": 8,
    "start_time": "2022-02-21T14:14:59.686Z"
   },
   {
    "duration": 12,
    "start_time": "2022-02-21T14:14:59.696Z"
   },
   {
    "duration": 16,
    "start_time": "2022-02-21T14:14:59.710Z"
   },
   {
    "duration": 29,
    "start_time": "2022-02-21T14:14:59.728Z"
   },
   {
    "duration": 45,
    "start_time": "2022-02-21T14:14:59.759Z"
   },
   {
    "duration": 26,
    "start_time": "2022-02-21T14:14:59.808Z"
   },
   {
    "duration": 16,
    "start_time": "2022-02-21T14:14:59.836Z"
   },
   {
    "duration": 10,
    "start_time": "2022-02-21T14:14:59.854Z"
   },
   {
    "duration": 10,
    "start_time": "2022-02-21T14:14:59.866Z"
   },
   {
    "duration": 8,
    "start_time": "2022-02-21T14:14:59.878Z"
   },
   {
    "duration": 9,
    "start_time": "2022-02-21T14:14:59.888Z"
   },
   {
    "duration": 10,
    "start_time": "2022-02-21T14:14:59.899Z"
   },
   {
    "duration": 10,
    "start_time": "2022-02-21T14:14:59.911Z"
   },
   {
    "duration": 12,
    "start_time": "2022-02-21T14:14:59.923Z"
   },
   {
    "duration": 11,
    "start_time": "2022-02-21T14:14:59.937Z"
   },
   {
    "duration": 21,
    "start_time": "2022-02-21T14:14:59.951Z"
   },
   {
    "duration": 11,
    "start_time": "2022-02-21T14:14:59.973Z"
   },
   {
    "duration": 8,
    "start_time": "2022-02-21T14:14:59.985Z"
   },
   {
    "duration": 13,
    "start_time": "2022-02-21T14:14:59.995Z"
   },
   {
    "duration": 21,
    "start_time": "2022-02-21T14:15:00.010Z"
   },
   {
    "duration": 17,
    "start_time": "2022-02-21T14:15:00.033Z"
   },
   {
    "duration": 42,
    "start_time": "2022-02-21T14:15:08.850Z"
   },
   {
    "duration": 8,
    "start_time": "2022-02-21T14:24:05.103Z"
   },
   {
    "duration": 4,
    "start_time": "2022-02-21T14:24:09.365Z"
   },
   {
    "duration": 187,
    "start_time": "2022-02-21T14:24:09.371Z"
   },
   {
    "duration": 19,
    "start_time": "2022-02-21T14:24:09.561Z"
   },
   {
    "duration": 46,
    "start_time": "2022-02-21T14:24:09.607Z"
   },
   {
    "duration": 6,
    "start_time": "2022-02-21T14:24:09.655Z"
   },
   {
    "duration": 60,
    "start_time": "2022-02-21T14:24:09.664Z"
   },
   {
    "duration": 6,
    "start_time": "2022-02-21T14:24:09.727Z"
   },
   {
    "duration": 49,
    "start_time": "2022-02-21T14:24:09.736Z"
   },
   {
    "duration": 31,
    "start_time": "2022-02-21T14:24:09.788Z"
   },
   {
    "duration": 44,
    "start_time": "2022-02-21T14:24:09.822Z"
   },
   {
    "duration": 4,
    "start_time": "2022-02-21T14:24:09.868Z"
   },
   {
    "duration": 7,
    "start_time": "2022-02-21T14:24:09.873Z"
   },
   {
    "duration": 26,
    "start_time": "2022-02-21T14:24:09.881Z"
   },
   {
    "duration": 10,
    "start_time": "2022-02-21T14:24:09.909Z"
   },
   {
    "duration": 6,
    "start_time": "2022-02-21T14:24:09.921Z"
   },
   {
    "duration": 7,
    "start_time": "2022-02-21T14:24:09.930Z"
   },
   {
    "duration": 6,
    "start_time": "2022-02-21T14:24:09.940Z"
   },
   {
    "duration": 8,
    "start_time": "2022-02-21T14:24:09.948Z"
   },
   {
    "duration": 9,
    "start_time": "2022-02-21T14:24:09.959Z"
   },
   {
    "duration": 8,
    "start_time": "2022-02-21T14:24:09.971Z"
   },
   {
    "duration": 26,
    "start_time": "2022-02-21T14:24:09.982Z"
   },
   {
    "duration": 7,
    "start_time": "2022-02-21T14:24:10.011Z"
   },
   {
    "duration": 13,
    "start_time": "2022-02-21T14:24:10.021Z"
   },
   {
    "duration": 14,
    "start_time": "2022-02-21T14:24:10.036Z"
   },
   {
    "duration": 17,
    "start_time": "2022-02-21T14:24:10.052Z"
   },
   {
    "duration": 15,
    "start_time": "2022-02-21T14:24:10.072Z"
   },
   {
    "duration": 7,
    "start_time": "2022-02-21T14:24:10.093Z"
   },
   {
    "duration": 13,
    "start_time": "2022-02-21T14:24:10.103Z"
   },
   {
    "duration": 15,
    "start_time": "2022-02-21T14:24:10.118Z"
   },
   {
    "duration": 10,
    "start_time": "2022-02-21T14:24:10.136Z"
   },
   {
    "duration": 11,
    "start_time": "2022-02-21T14:24:10.148Z"
   },
   {
    "duration": 8,
    "start_time": "2022-02-21T14:24:10.161Z"
   },
   {
    "duration": 11,
    "start_time": "2022-02-21T14:24:10.171Z"
   },
   {
    "duration": 10,
    "start_time": "2022-02-21T14:24:10.185Z"
   },
   {
    "duration": 17,
    "start_time": "2022-02-21T14:24:10.197Z"
   },
   {
    "duration": 12,
    "start_time": "2022-02-21T14:24:10.216Z"
   },
   {
    "duration": 9,
    "start_time": "2022-02-21T14:24:10.230Z"
   },
   {
    "duration": 9,
    "start_time": "2022-02-21T14:24:10.240Z"
   },
   {
    "duration": 367,
    "start_time": "2022-02-21T14:27:09.526Z"
   },
   {
    "duration": 327,
    "start_time": "2022-02-21T14:27:27.015Z"
   },
   {
    "duration": 282,
    "start_time": "2022-02-21T15:04:26.328Z"
   },
   {
    "duration": 25,
    "start_time": "2022-02-21T15:12:26.748Z"
   },
   {
    "duration": 25,
    "start_time": "2022-02-21T15:12:30.750Z"
   },
   {
    "duration": 61,
    "start_time": "2022-02-21T15:16:54.787Z"
   },
   {
    "duration": 77,
    "start_time": "2022-02-21T15:17:32.804Z"
   },
   {
    "duration": 57,
    "start_time": "2022-02-21T15:17:46.550Z"
   },
   {
    "duration": 8,
    "start_time": "2022-02-21T15:20:05.782Z"
   },
   {
    "duration": 3,
    "start_time": "2022-02-21T15:35:51.855Z"
   },
   {
    "duration": 435,
    "start_time": "2022-02-21T20:56:32.801Z"
   },
   {
    "duration": 834,
    "start_time": "2022-02-21T20:56:38.175Z"
   },
   {
    "duration": 193,
    "start_time": "2022-02-21T20:56:39.012Z"
   },
   {
    "duration": 26,
    "start_time": "2022-02-21T20:56:39.209Z"
   },
   {
    "duration": 72,
    "start_time": "2022-02-21T20:56:39.239Z"
   },
   {
    "duration": 6,
    "start_time": "2022-02-21T20:56:39.314Z"
   },
   {
    "duration": 28,
    "start_time": "2022-02-21T20:56:39.322Z"
   },
   {
    "duration": 7,
    "start_time": "2022-02-21T20:56:39.353Z"
   },
   {
    "duration": 67,
    "start_time": "2022-02-21T20:56:39.363Z"
   },
   {
    "duration": 27,
    "start_time": "2022-02-21T20:56:39.433Z"
   },
   {
    "duration": 31,
    "start_time": "2022-02-21T20:56:39.462Z"
   },
   {
    "duration": 107,
    "start_time": "2022-02-21T20:56:39.511Z"
   },
   {
    "duration": 111,
    "start_time": "2022-02-21T20:56:39.620Z"
   },
   {
    "duration": 82,
    "start_time": "2022-02-21T20:56:39.734Z"
   },
   {
    "duration": 10,
    "start_time": "2022-02-21T20:56:39.819Z"
   },
   {
    "duration": 4,
    "start_time": "2022-02-21T20:56:39.832Z"
   },
   {
    "duration": 106,
    "start_time": "2022-02-21T20:56:39.839Z"
   },
   {
    "duration": 3,
    "start_time": "2022-02-21T20:56:39.949Z"
   },
   {
    "duration": 4,
    "start_time": "2022-02-21T20:56:39.955Z"
   },
   {
    "duration": 4,
    "start_time": "2022-02-21T20:56:39.962Z"
   },
   {
    "duration": 4,
    "start_time": "2022-02-21T20:56:39.969Z"
   },
   {
    "duration": 37,
    "start_time": "2022-02-21T20:56:39.975Z"
   },
   {
    "duration": 8,
    "start_time": "2022-02-21T20:56:40.014Z"
   },
   {
    "duration": 3,
    "start_time": "2022-02-21T20:56:40.028Z"
   },
   {
    "duration": 5,
    "start_time": "2022-02-21T20:56:40.034Z"
   },
   {
    "duration": 6,
    "start_time": "2022-02-21T20:56:40.041Z"
   },
   {
    "duration": 6,
    "start_time": "2022-02-21T20:56:40.049Z"
   },
   {
    "duration": 7,
    "start_time": "2022-02-21T20:56:40.058Z"
   },
   {
    "duration": 3,
    "start_time": "2022-02-21T20:56:40.112Z"
   },
   {
    "duration": 11,
    "start_time": "2022-02-21T20:56:40.117Z"
   },
   {
    "duration": 10,
    "start_time": "2022-02-21T20:56:40.130Z"
   },
   {
    "duration": 10,
    "start_time": "2022-02-21T20:56:40.142Z"
   },
   {
    "duration": 5,
    "start_time": "2022-02-21T20:56:40.154Z"
   },
   {
    "duration": 7,
    "start_time": "2022-02-21T20:56:40.161Z"
   },
   {
    "duration": 7,
    "start_time": "2022-02-21T20:56:40.171Z"
   },
   {
    "duration": 29,
    "start_time": "2022-02-21T20:56:40.181Z"
   },
   {
    "duration": 7,
    "start_time": "2022-02-21T20:56:40.214Z"
   },
   {
    "duration": 5,
    "start_time": "2022-02-21T20:56:40.224Z"
   },
   {
    "duration": 4,
    "start_time": "2022-02-21T20:56:40.232Z"
   },
   {
    "duration": 133,
    "start_time": "2022-02-21T21:07:33.010Z"
   },
   {
    "duration": 168,
    "start_time": "2022-02-21T21:08:57.437Z"
   },
   {
    "duration": 4,
    "start_time": "2022-02-21T21:09:01.068Z"
   },
   {
    "duration": 4,
    "start_time": "2022-02-21T21:09:04.818Z"
   },
   {
    "duration": 225,
    "start_time": "2022-02-21T21:09:04.826Z"
   },
   {
    "duration": 17,
    "start_time": "2022-02-21T21:09:05.054Z"
   },
   {
    "duration": 50,
    "start_time": "2022-02-21T21:09:05.073Z"
   },
   {
    "duration": 5,
    "start_time": "2022-02-21T21:09:05.126Z"
   },
   {
    "duration": 21,
    "start_time": "2022-02-21T21:09:05.133Z"
   },
   {
    "duration": 6,
    "start_time": "2022-02-21T21:09:05.157Z"
   },
   {
    "duration": 67,
    "start_time": "2022-02-21T21:09:05.165Z"
   },
   {
    "duration": 29,
    "start_time": "2022-02-21T21:09:05.236Z"
   },
   {
    "duration": 60,
    "start_time": "2022-02-21T21:09:05.268Z"
   },
   {
    "duration": 104,
    "start_time": "2022-02-21T21:09:05.330Z"
   },
   {
    "duration": 112,
    "start_time": "2022-02-21T21:09:05.437Z"
   },
   {
    "duration": 95,
    "start_time": "2022-02-21T21:09:05.552Z"
   },
   {
    "duration": 129,
    "start_time": "2022-02-21T21:09:05.649Z"
   },
   {
    "duration": 32664,
    "start_time": "2022-02-21T21:08:33.118Z"
   },
   {
    "duration": 32655,
    "start_time": "2022-02-21T21:08:33.128Z"
   },
   {
    "duration": 32651,
    "start_time": "2022-02-21T21:08:33.134Z"
   },
   {
    "duration": 32648,
    "start_time": "2022-02-21T21:08:33.139Z"
   },
   {
    "duration": 32647,
    "start_time": "2022-02-21T21:08:33.142Z"
   },
   {
    "duration": 32638,
    "start_time": "2022-02-21T21:08:33.153Z"
   },
   {
    "duration": 32631,
    "start_time": "2022-02-21T21:08:33.162Z"
   },
   {
    "duration": 32623,
    "start_time": "2022-02-21T21:08:33.171Z"
   },
   {
    "duration": 32617,
    "start_time": "2022-02-21T21:08:33.179Z"
   },
   {
    "duration": 32608,
    "start_time": "2022-02-21T21:08:33.189Z"
   },
   {
    "duration": 32598,
    "start_time": "2022-02-21T21:08:33.201Z"
   },
   {
    "duration": 32581,
    "start_time": "2022-02-21T21:08:33.219Z"
   },
   {
    "duration": 32564,
    "start_time": "2022-02-21T21:08:33.237Z"
   },
   {
    "duration": 32549,
    "start_time": "2022-02-21T21:08:33.254Z"
   },
   {
    "duration": 32546,
    "start_time": "2022-02-21T21:08:33.258Z"
   },
   {
    "duration": 32523,
    "start_time": "2022-02-21T21:08:33.282Z"
   },
   {
    "duration": 32520,
    "start_time": "2022-02-21T21:08:33.286Z"
   },
   {
    "duration": 32504,
    "start_time": "2022-02-21T21:08:33.303Z"
   },
   {
    "duration": 32501,
    "start_time": "2022-02-21T21:08:33.307Z"
   },
   {
    "duration": 32499,
    "start_time": "2022-02-21T21:08:33.310Z"
   },
   {
    "duration": 32490,
    "start_time": "2022-02-21T21:08:33.321Z"
   },
   {
    "duration": 32489,
    "start_time": "2022-02-21T21:08:33.324Z"
   },
   {
    "duration": 32479,
    "start_time": "2022-02-21T21:08:33.336Z"
   },
   {
    "duration": 32478,
    "start_time": "2022-02-21T21:08:33.339Z"
   },
   {
    "duration": 129,
    "start_time": "2022-02-21T21:09:38.978Z"
   },
   {
    "duration": 132,
    "start_time": "2022-02-21T21:10:32.498Z"
   },
   {
    "duration": 3,
    "start_time": "2022-02-21T21:11:35.386Z"
   },
   {
    "duration": 233,
    "start_time": "2022-02-21T21:11:35.392Z"
   },
   {
    "duration": 16,
    "start_time": "2022-02-21T21:11:35.628Z"
   },
   {
    "duration": 35,
    "start_time": "2022-02-21T21:11:35.647Z"
   },
   {
    "duration": 9,
    "start_time": "2022-02-21T21:11:35.709Z"
   },
   {
    "duration": 29,
    "start_time": "2022-02-21T21:11:35.721Z"
   },
   {
    "duration": 6,
    "start_time": "2022-02-21T21:11:35.755Z"
   },
   {
    "duration": 66,
    "start_time": "2022-02-21T21:11:35.765Z"
   },
   {
    "duration": 47,
    "start_time": "2022-02-21T21:11:35.835Z"
   },
   {
    "duration": 50,
    "start_time": "2022-02-21T21:11:35.885Z"
   },
   {
    "duration": 104,
    "start_time": "2022-02-21T21:11:35.938Z"
   },
   {
    "duration": 108,
    "start_time": "2022-02-21T21:11:36.045Z"
   },
   {
    "duration": 86,
    "start_time": "2022-02-21T21:11:36.156Z"
   },
   {
    "duration": 131,
    "start_time": "2022-02-21T21:11:36.245Z"
   },
   {
    "duration": 32661,
    "start_time": "2022-02-21T21:11:03.719Z"
   },
   {
    "duration": 32658,
    "start_time": "2022-02-21T21:11:03.724Z"
   },
   {
    "duration": 32649,
    "start_time": "2022-02-21T21:11:03.734Z"
   },
   {
    "duration": 32632,
    "start_time": "2022-02-21T21:11:03.753Z"
   },
   {
    "duration": 32624,
    "start_time": "2022-02-21T21:11:03.763Z"
   },
   {
    "duration": 32622,
    "start_time": "2022-02-21T21:11:03.767Z"
   },
   {
    "duration": 32617,
    "start_time": "2022-02-21T21:11:03.773Z"
   },
   {
    "duration": 32614,
    "start_time": "2022-02-21T21:11:03.778Z"
   },
   {
    "duration": 32601,
    "start_time": "2022-02-21T21:11:03.793Z"
   },
   {
    "duration": 32598,
    "start_time": "2022-02-21T21:11:03.797Z"
   },
   {
    "duration": 32594,
    "start_time": "2022-02-21T21:11:03.802Z"
   },
   {
    "duration": 32584,
    "start_time": "2022-02-21T21:11:03.814Z"
   },
   {
    "duration": 32573,
    "start_time": "2022-02-21T21:11:03.827Z"
   },
   {
    "duration": 32560,
    "start_time": "2022-02-21T21:11:03.841Z"
   },
   {
    "duration": 32546,
    "start_time": "2022-02-21T21:11:03.857Z"
   },
   {
    "duration": 32536,
    "start_time": "2022-02-21T21:11:03.868Z"
   },
   {
    "duration": 32533,
    "start_time": "2022-02-21T21:11:03.872Z"
   },
   {
    "duration": 32528,
    "start_time": "2022-02-21T21:11:03.881Z"
   },
   {
    "duration": 32517,
    "start_time": "2022-02-21T21:11:03.894Z"
   },
   {
    "duration": 32510,
    "start_time": "2022-02-21T21:11:03.903Z"
   },
   {
    "duration": 32508,
    "start_time": "2022-02-21T21:11:03.907Z"
   },
   {
    "duration": 32496,
    "start_time": "2022-02-21T21:11:03.921Z"
   },
   {
    "duration": 32477,
    "start_time": "2022-02-21T21:11:03.943Z"
   },
   {
    "duration": 32474,
    "start_time": "2022-02-21T21:11:03.948Z"
   },
   {
    "duration": 145,
    "start_time": "2022-02-21T21:13:28.138Z"
   },
   {
    "duration": 130,
    "start_time": "2022-02-21T21:17:44.996Z"
   },
   {
    "duration": 447,
    "start_time": "2022-02-21T21:20:33.948Z"
   },
   {
    "duration": 425,
    "start_time": "2022-02-21T21:20:50.681Z"
   },
   {
    "duration": 10,
    "start_time": "2022-02-21T21:22:35.233Z"
   },
   {
    "duration": 380,
    "start_time": "2022-02-21T21:39:27.556Z"
   },
   {
    "duration": 23,
    "start_time": "2022-02-21T21:41:21.212Z"
   },
   {
    "duration": 79,
    "start_time": "2022-02-21T21:43:20.827Z"
   },
   {
    "duration": 16,
    "start_time": "2022-02-21T21:43:31.051Z"
   },
   {
    "duration": 3,
    "start_time": "2022-02-21T21:50:03.023Z"
   },
   {
    "duration": 206,
    "start_time": "2022-02-21T21:50:03.029Z"
   },
   {
    "duration": 16,
    "start_time": "2022-02-21T21:50:03.238Z"
   },
   {
    "duration": 33,
    "start_time": "2022-02-21T21:50:03.257Z"
   },
   {
    "duration": 7,
    "start_time": "2022-02-21T21:50:03.312Z"
   },
   {
    "duration": 35,
    "start_time": "2022-02-21T21:50:03.323Z"
   },
   {
    "duration": 6,
    "start_time": "2022-02-21T21:50:03.362Z"
   },
   {
    "duration": 72,
    "start_time": "2022-02-21T21:50:03.372Z"
   },
   {
    "duration": 27,
    "start_time": "2022-02-21T21:50:03.446Z"
   },
   {
    "duration": 36,
    "start_time": "2022-02-21T21:50:03.510Z"
   },
   {
    "duration": 108,
    "start_time": "2022-02-21T21:50:03.549Z"
   },
   {
    "duration": 114,
    "start_time": "2022-02-21T21:50:03.660Z"
   },
   {
    "duration": 89,
    "start_time": "2022-02-21T21:50:03.777Z"
   },
   {
    "duration": 14,
    "start_time": "2022-02-21T21:50:03.869Z"
   },
   {
    "duration": 4,
    "start_time": "2022-02-21T21:50:03.885Z"
   },
   {
    "duration": 76,
    "start_time": "2022-02-21T21:50:03.911Z"
   },
   {
    "duration": 25,
    "start_time": "2022-02-21T21:50:03.989Z"
   },
   {
    "duration": 3,
    "start_time": "2022-02-21T21:50:04.017Z"
   },
   {
    "duration": 5,
    "start_time": "2022-02-21T21:50:04.022Z"
   },
   {
    "duration": 5,
    "start_time": "2022-02-21T21:50:04.029Z"
   },
   {
    "duration": 13,
    "start_time": "2022-02-21T21:50:04.037Z"
   },
   {
    "duration": 6,
    "start_time": "2022-02-21T21:50:04.052Z"
   },
   {
    "duration": 9,
    "start_time": "2022-02-21T21:50:04.060Z"
   },
   {
    "duration": 38,
    "start_time": "2022-02-21T21:50:04.074Z"
   },
   {
    "duration": 4,
    "start_time": "2022-02-21T21:50:04.115Z"
   },
   {
    "duration": 7,
    "start_time": "2022-02-21T21:50:04.122Z"
   },
   {
    "duration": 6,
    "start_time": "2022-02-21T21:50:04.131Z"
   },
   {
    "duration": 4,
    "start_time": "2022-02-21T21:50:04.139Z"
   },
   {
    "duration": 4,
    "start_time": "2022-02-21T21:50:04.146Z"
   },
   {
    "duration": 6,
    "start_time": "2022-02-21T21:50:04.152Z"
   },
   {
    "duration": 8,
    "start_time": "2022-02-21T21:50:04.160Z"
   },
   {
    "duration": 41,
    "start_time": "2022-02-21T21:50:04.170Z"
   },
   {
    "duration": 9,
    "start_time": "2022-02-21T21:50:04.213Z"
   },
   {
    "duration": 8,
    "start_time": "2022-02-21T21:50:04.224Z"
   },
   {
    "duration": 4,
    "start_time": "2022-02-21T21:50:04.235Z"
   },
   {
    "duration": 6,
    "start_time": "2022-02-21T21:50:04.242Z"
   },
   {
    "duration": 10,
    "start_time": "2022-02-21T21:50:04.250Z"
   },
   {
    "duration": 9,
    "start_time": "2022-02-21T21:50:04.263Z"
   },
   {
    "duration": 445,
    "start_time": "2022-02-21T22:00:27.646Z"
   },
   {
    "duration": 5,
    "start_time": "2022-02-21T22:00:55.762Z"
   },
   {
    "duration": 451,
    "start_time": "2022-02-21T22:00:55.769Z"
   },
   {
    "duration": 32676,
    "start_time": "2022-02-21T22:00:23.548Z"
   },
   {
    "duration": 32672,
    "start_time": "2022-02-21T22:00:23.553Z"
   },
   {
    "duration": 32667,
    "start_time": "2022-02-21T22:00:23.560Z"
   },
   {
    "duration": 32661,
    "start_time": "2022-02-21T22:00:23.568Z"
   },
   {
    "duration": 32648,
    "start_time": "2022-02-21T22:00:23.582Z"
   },
   {
    "duration": 32644,
    "start_time": "2022-02-21T22:00:23.588Z"
   },
   {
    "duration": 32637,
    "start_time": "2022-02-21T22:00:23.597Z"
   },
   {
    "duration": 32631,
    "start_time": "2022-02-21T22:00:23.604Z"
   },
   {
    "duration": 32624,
    "start_time": "2022-02-21T22:00:23.613Z"
   },
   {
    "duration": 32616,
    "start_time": "2022-02-21T22:00:23.624Z"
   },
   {
    "duration": 32608,
    "start_time": "2022-02-21T22:00:23.634Z"
   },
   {
    "duration": 32594,
    "start_time": "2022-02-21T22:00:23.650Z"
   },
   {
    "duration": 32580,
    "start_time": "2022-02-21T22:00:23.666Z"
   },
   {
    "duration": 32572,
    "start_time": "2022-02-21T22:00:23.676Z"
   },
   {
    "duration": 32545,
    "start_time": "2022-02-21T22:00:23.705Z"
   },
   {
    "duration": 32524,
    "start_time": "2022-02-21T22:00:23.727Z"
   },
   {
    "duration": 32523,
    "start_time": "2022-02-21T22:00:23.730Z"
   },
   {
    "duration": 32521,
    "start_time": "2022-02-21T22:00:23.733Z"
   },
   {
    "duration": 32518,
    "start_time": "2022-02-21T22:00:23.737Z"
   },
   {
    "duration": 32509,
    "start_time": "2022-02-21T22:00:23.748Z"
   },
   {
    "duration": 32506,
    "start_time": "2022-02-21T22:00:23.752Z"
   },
   {
    "duration": 32505,
    "start_time": "2022-02-21T22:00:23.755Z"
   },
   {
    "duration": 4,
    "start_time": "2022-02-21T22:01:57.148Z"
   },
   {
    "duration": 71,
    "start_time": "2022-02-21T22:01:59.964Z"
   },
   {
    "duration": 129,
    "start_time": "2022-02-21T22:02:31.460Z"
   },
   {
    "duration": 23,
    "start_time": "2022-02-21T22:02:36.553Z"
   },
   {
    "duration": 127,
    "start_time": "2022-02-21T22:02:46.907Z"
   },
   {
    "duration": 69,
    "start_time": "2022-02-21T22:02:51.308Z"
   },
   {
    "duration": 15,
    "start_time": "2022-02-21T22:02:56.183Z"
   },
   {
    "duration": 65,
    "start_time": "2022-02-21T22:26:05.759Z"
   },
   {
    "duration": 75,
    "start_time": "2022-02-21T22:26:43.589Z"
   },
   {
    "duration": 6,
    "start_time": "2022-02-21T22:39:40.887Z"
   },
   {
    "duration": 409,
    "start_time": "2022-02-21T22:39:44.444Z"
   },
   {
    "duration": 6,
    "start_time": "2022-02-21T22:39:56.567Z"
   },
   {
    "duration": 5,
    "start_time": "2022-02-21T22:43:57.368Z"
   },
   {
    "duration": 794,
    "start_time": "2022-02-21T22:43:59.880Z"
   },
   {
    "duration": 5,
    "start_time": "2022-02-21T22:45:45.561Z"
   },
   {
    "duration": 383,
    "start_time": "2022-02-21T22:45:47.285Z"
   },
   {
    "duration": 5,
    "start_time": "2022-02-21T22:45:59.293Z"
   },
   {
    "duration": 425,
    "start_time": "2022-02-21T22:45:59.301Z"
   },
   {
    "duration": 32688,
    "start_time": "2022-02-21T22:45:27.041Z"
   },
   {
    "duration": 32679,
    "start_time": "2022-02-21T22:45:27.052Z"
   },
   {
    "duration": 32674,
    "start_time": "2022-02-21T22:45:27.059Z"
   },
   {
    "duration": 32665,
    "start_time": "2022-02-21T22:45:27.069Z"
   },
   {
    "duration": 32657,
    "start_time": "2022-02-21T22:45:27.079Z"
   },
   {
    "duration": 32649,
    "start_time": "2022-02-21T22:45:27.088Z"
   },
   {
    "duration": 32637,
    "start_time": "2022-02-21T22:45:27.102Z"
   },
   {
    "duration": 32634,
    "start_time": "2022-02-21T22:45:27.106Z"
   },
   {
    "duration": 32627,
    "start_time": "2022-02-21T22:45:27.115Z"
   },
   {
    "duration": 32622,
    "start_time": "2022-02-21T22:45:27.122Z"
   },
   {
    "duration": 32601,
    "start_time": "2022-02-21T22:45:27.144Z"
   },
   {
    "duration": 32590,
    "start_time": "2022-02-21T22:45:27.157Z"
   },
   {
    "duration": 32583,
    "start_time": "2022-02-21T22:45:27.165Z"
   },
   {
    "duration": 32572,
    "start_time": "2022-02-21T22:45:27.178Z"
   },
   {
    "duration": 32549,
    "start_time": "2022-02-21T22:45:27.202Z"
   },
   {
    "duration": 32547,
    "start_time": "2022-02-21T22:45:27.206Z"
   },
   {
    "duration": 32542,
    "start_time": "2022-02-21T22:45:27.212Z"
   },
   {
    "duration": 5,
    "start_time": "2022-02-21T22:46:35.111Z"
   },
   {
    "duration": 28,
    "start_time": "2022-02-21T22:46:36.453Z"
   },
   {
    "duration": 4,
    "start_time": "2022-02-21T22:54:08.309Z"
   },
   {
    "duration": 29,
    "start_time": "2022-02-21T22:54:09.880Z"
   },
   {
    "duration": 6,
    "start_time": "2022-02-21T22:54:37.534Z"
   },
   {
    "duration": 751,
    "start_time": "2022-02-21T22:54:39.175Z"
   },
   {
    "duration": 4,
    "start_time": "2022-02-21T22:55:27.218Z"
   },
   {
    "duration": 766,
    "start_time": "2022-02-21T22:55:29.490Z"
   },
   {
    "duration": 7,
    "start_time": "2022-02-21T22:58:18.307Z"
   },
   {
    "duration": 25,
    "start_time": "2022-02-21T22:58:20.782Z"
   },
   {
    "duration": 22,
    "start_time": "2022-02-21T22:59:11.968Z"
   },
   {
    "duration": 24,
    "start_time": "2022-02-21T22:59:30.681Z"
   },
   {
    "duration": 29,
    "start_time": "2022-02-21T22:59:31.760Z"
   },
   {
    "duration": 21,
    "start_time": "2022-02-21T23:02:12.361Z"
   },
   {
    "duration": 20,
    "start_time": "2022-02-21T23:02:13.005Z"
   },
   {
    "duration": 22,
    "start_time": "2022-02-21T23:02:13.649Z"
   },
   {
    "duration": 20,
    "start_time": "2022-02-21T23:02:14.283Z"
   },
   {
    "duration": 398,
    "start_time": "2022-02-21T23:15:21.651Z"
   },
   {
    "duration": 8,
    "start_time": "2022-02-21T23:24:53.840Z"
   },
   {
    "duration": 28,
    "start_time": "2022-02-21T23:24:55.462Z"
   },
   {
    "duration": 23,
    "start_time": "2022-02-21T23:24:58.498Z"
   },
   {
    "duration": 25,
    "start_time": "2022-02-21T23:24:59.554Z"
   },
   {
    "duration": 23,
    "start_time": "2022-02-21T23:25:00.405Z"
   },
   {
    "duration": 29,
    "start_time": "2022-02-21T23:25:03.987Z"
   },
   {
    "duration": 30,
    "start_time": "2022-02-21T23:25:04.754Z"
   },
   {
    "duration": 495,
    "start_time": "2022-02-21T23:25:07.687Z"
   },
   {
    "duration": 4,
    "start_time": "2022-02-21T23:28:51.003Z"
   },
   {
    "duration": 211,
    "start_time": "2022-02-21T23:28:51.010Z"
   },
   {
    "duration": 16,
    "start_time": "2022-02-21T23:28:51.224Z"
   },
   {
    "duration": 33,
    "start_time": "2022-02-21T23:28:51.243Z"
   },
   {
    "duration": 36,
    "start_time": "2022-02-21T23:28:51.278Z"
   },
   {
    "duration": 29,
    "start_time": "2022-02-21T23:28:51.316Z"
   },
   {
    "duration": 9,
    "start_time": "2022-02-21T23:28:51.350Z"
   },
   {
    "duration": 60,
    "start_time": "2022-02-21T23:28:51.362Z"
   },
   {
    "duration": 26,
    "start_time": "2022-02-21T23:28:51.425Z"
   },
   {
    "duration": 57,
    "start_time": "2022-02-21T23:28:51.453Z"
   },
   {
    "duration": 82,
    "start_time": "2022-02-21T23:28:51.513Z"
   },
   {
    "duration": 91,
    "start_time": "2022-02-21T23:28:51.609Z"
   },
   {
    "duration": 78,
    "start_time": "2022-02-21T23:28:51.711Z"
   },
   {
    "duration": 26,
    "start_time": "2022-02-21T23:28:51.792Z"
   },
   {
    "duration": 5,
    "start_time": "2022-02-21T23:28:51.820Z"
   },
   {
    "duration": 95,
    "start_time": "2022-02-21T23:28:51.828Z"
   },
   {
    "duration": 14,
    "start_time": "2022-02-21T23:28:51.926Z"
   },
   {
    "duration": 70,
    "start_time": "2022-02-21T23:28:51.942Z"
   },
   {
    "duration": 45,
    "start_time": "2022-02-21T23:28:52.017Z"
   },
   {
    "duration": 5,
    "start_time": "2022-02-21T23:28:52.065Z"
   },
   {
    "duration": 57,
    "start_time": "2022-02-21T23:28:52.073Z"
   },
   {
    "duration": 23,
    "start_time": "2022-02-21T23:28:52.133Z"
   },
   {
    "duration": 24,
    "start_time": "2022-02-21T23:28:52.158Z"
   },
   {
    "duration": 47,
    "start_time": "2022-02-21T23:28:52.184Z"
   },
   {
    "duration": 28,
    "start_time": "2022-02-21T23:28:52.234Z"
   },
   {
    "duration": 50,
    "start_time": "2022-02-21T23:28:52.265Z"
   },
   {
    "duration": 408,
    "start_time": "2022-02-21T23:28:52.317Z"
   },
   {
    "duration": 32693,
    "start_time": "2022-02-21T23:28:20.035Z"
   },
   {
    "duration": 32688,
    "start_time": "2022-02-21T23:28:20.041Z"
   },
   {
    "duration": 32682,
    "start_time": "2022-02-21T23:28:20.049Z"
   },
   {
    "duration": 32679,
    "start_time": "2022-02-21T23:28:20.054Z"
   },
   {
    "duration": 32672,
    "start_time": "2022-02-21T23:28:20.062Z"
   },
   {
    "duration": 32660,
    "start_time": "2022-02-21T23:28:20.076Z"
   },
   {
    "duration": 32657,
    "start_time": "2022-02-21T23:28:20.081Z"
   },
   {
    "duration": 32650,
    "start_time": "2022-02-21T23:28:20.089Z"
   },
   {
    "duration": 32643,
    "start_time": "2022-02-21T23:28:20.098Z"
   },
   {
    "duration": 32633,
    "start_time": "2022-02-21T23:28:20.109Z"
   },
   {
    "duration": 32628,
    "start_time": "2022-02-21T23:28:20.116Z"
   },
   {
    "duration": 7,
    "start_time": "2022-02-21T23:29:52.257Z"
   },
   {
    "duration": 404,
    "start_time": "2022-02-21T23:31:53.685Z"
   },
   {
    "duration": 1083,
    "start_time": "2022-02-21T23:35:22.187Z"
   },
   {
    "duration": 28,
    "start_time": "2022-02-21T23:35:40.293Z"
   },
   {
    "duration": 463,
    "start_time": "2022-02-21T23:38:28.518Z"
   },
   {
    "duration": 12,
    "start_time": "2022-02-21T23:41:02.510Z"
   },
   {
    "duration": 622,
    "start_time": "2022-02-22T14:17:08.877Z"
   },
   {
    "duration": 163,
    "start_time": "2022-02-22T14:17:09.501Z"
   },
   {
    "duration": 18,
    "start_time": "2022-02-22T14:17:09.667Z"
   },
   {
    "duration": 34,
    "start_time": "2022-02-22T14:17:09.687Z"
   },
   {
    "duration": 12,
    "start_time": "2022-02-22T14:17:09.723Z"
   },
   {
    "duration": 51,
    "start_time": "2022-02-22T14:17:09.737Z"
   },
   {
    "duration": 6,
    "start_time": "2022-02-22T14:17:09.790Z"
   },
   {
    "duration": 28,
    "start_time": "2022-02-22T14:17:09.799Z"
   },
   {
    "duration": 61,
    "start_time": "2022-02-22T14:17:09.830Z"
   },
   {
    "duration": 39,
    "start_time": "2022-02-22T14:17:09.894Z"
   },
   {
    "duration": 90,
    "start_time": "2022-02-22T14:17:09.936Z"
   },
   {
    "duration": 87,
    "start_time": "2022-02-22T14:17:10.028Z"
   },
   {
    "duration": 65,
    "start_time": "2022-02-22T14:17:10.117Z"
   },
   {
    "duration": 10,
    "start_time": "2022-02-22T14:17:10.184Z"
   },
   {
    "duration": 2,
    "start_time": "2022-02-22T14:17:10.196Z"
   },
   {
    "duration": 83,
    "start_time": "2022-02-22T14:17:10.200Z"
   },
   {
    "duration": 10,
    "start_time": "2022-02-22T14:17:10.285Z"
   },
   {
    "duration": 37,
    "start_time": "2022-02-22T14:17:10.296Z"
   },
   {
    "duration": 55,
    "start_time": "2022-02-22T14:17:10.336Z"
   },
   {
    "duration": 5,
    "start_time": "2022-02-22T14:17:10.393Z"
   },
   {
    "duration": 29,
    "start_time": "2022-02-22T14:17:10.400Z"
   },
   {
    "duration": 46,
    "start_time": "2022-02-22T14:17:10.431Z"
   },
   {
    "duration": 31,
    "start_time": "2022-02-22T14:17:10.481Z"
   },
   {
    "duration": 49,
    "start_time": "2022-02-22T14:17:10.515Z"
   },
   {
    "duration": 25,
    "start_time": "2022-02-22T14:17:10.566Z"
   },
   {
    "duration": 21,
    "start_time": "2022-02-22T14:17:10.593Z"
   },
   {
    "duration": 9,
    "start_time": "2022-02-22T14:17:10.616Z"
   },
   {
    "duration": 4526,
    "start_time": "2022-02-22T14:17:10.627Z"
   },
   {
    "duration": 31976,
    "start_time": "2022-02-22T14:16:43.179Z"
   },
   {
    "duration": 31969,
    "start_time": "2022-02-22T14:16:43.188Z"
   },
   {
    "duration": 31965,
    "start_time": "2022-02-22T14:16:43.193Z"
   },
   {
    "duration": 31947,
    "start_time": "2022-02-22T14:16:43.212Z"
   },
   {
    "duration": 31934,
    "start_time": "2022-02-22T14:16:43.226Z"
   },
   {
    "duration": 31923,
    "start_time": "2022-02-22T14:16:43.238Z"
   },
   {
    "duration": 31858,
    "start_time": "2022-02-22T14:16:43.305Z"
   },
   {
    "duration": 31822,
    "start_time": "2022-02-22T14:16:43.342Z"
   },
   {
    "duration": 31816,
    "start_time": "2022-02-22T14:16:43.349Z"
   },
   {
    "duration": 31791,
    "start_time": "2022-02-22T14:16:43.375Z"
   },
   {
    "duration": 21,
    "start_time": "2022-02-22T14:35:46.156Z"
   },
   {
    "duration": 198,
    "start_time": "2022-02-22T14:37:37.874Z"
   },
   {
    "duration": 17,
    "start_time": "2022-02-22T14:37:50.839Z"
   },
   {
    "duration": 7,
    "start_time": "2022-02-22T20:55:15.867Z"
   },
   {
    "duration": 353,
    "start_time": "2022-02-22T20:55:17.171Z"
   },
   {
    "duration": 762,
    "start_time": "2022-02-22T20:55:26.459Z"
   },
   {
    "duration": 206,
    "start_time": "2022-02-22T20:55:27.224Z"
   },
   {
    "duration": 28,
    "start_time": "2022-02-22T20:55:27.433Z"
   },
   {
    "duration": 35,
    "start_time": "2022-02-22T20:55:27.463Z"
   },
   {
    "duration": 6,
    "start_time": "2022-02-22T20:55:27.525Z"
   },
   {
    "duration": 33,
    "start_time": "2022-02-22T20:55:27.534Z"
   },
   {
    "duration": 5,
    "start_time": "2022-02-22T20:55:27.570Z"
   },
   {
    "duration": 79,
    "start_time": "2022-02-22T20:55:27.579Z"
   },
   {
    "duration": 30,
    "start_time": "2022-02-22T20:55:27.661Z"
   },
   {
    "duration": 46,
    "start_time": "2022-02-22T20:55:27.694Z"
   },
   {
    "duration": 117,
    "start_time": "2022-02-22T20:55:27.742Z"
   },
   {
    "duration": 120,
    "start_time": "2022-02-22T20:55:27.861Z"
   },
   {
    "duration": 106,
    "start_time": "2022-02-22T20:55:27.983Z"
   },
   {
    "duration": 14,
    "start_time": "2022-02-22T20:55:28.091Z"
   },
   {
    "duration": 20,
    "start_time": "2022-02-22T20:55:28.108Z"
   },
   {
    "duration": 99,
    "start_time": "2022-02-22T20:55:28.130Z"
   },
   {
    "duration": 14,
    "start_time": "2022-02-22T20:55:28.231Z"
   },
   {
    "duration": 51,
    "start_time": "2022-02-22T20:55:28.248Z"
   },
   {
    "duration": 89,
    "start_time": "2022-02-22T20:55:28.302Z"
   },
   {
    "duration": 5,
    "start_time": "2022-02-22T20:55:28.394Z"
   },
   {
    "duration": 32,
    "start_time": "2022-02-22T20:55:28.426Z"
   },
   {
    "duration": 25,
    "start_time": "2022-02-22T20:55:28.461Z"
   },
   {
    "duration": 58,
    "start_time": "2022-02-22T20:55:28.491Z"
   },
   {
    "duration": 31,
    "start_time": "2022-02-22T20:55:28.552Z"
   },
   {
    "duration": 60,
    "start_time": "2022-02-22T20:55:28.586Z"
   },
   {
    "duration": 23,
    "start_time": "2022-02-22T20:55:28.649Z"
   },
   {
    "duration": 13,
    "start_time": "2022-02-22T20:55:28.674Z"
   },
   {
    "duration": 76,
    "start_time": "2022-02-22T20:55:28.689Z"
   },
   {
    "duration": 27,
    "start_time": "2022-02-22T20:55:28.768Z"
   },
   {
    "duration": 5,
    "start_time": "2022-02-22T20:55:28.798Z"
   },
   {
    "duration": 292,
    "start_time": "2022-02-22T20:55:28.806Z"
   },
   {
    "duration": 31377,
    "start_time": "2022-02-22T20:54:57.723Z"
   },
   {
    "duration": 31375,
    "start_time": "2022-02-22T20:54:57.727Z"
   },
   {
    "duration": 31373,
    "start_time": "2022-02-22T20:54:57.731Z"
   },
   {
    "duration": 31371,
    "start_time": "2022-02-22T20:54:57.734Z"
   },
   {
    "duration": 31368,
    "start_time": "2022-02-22T20:54:57.739Z"
   },
   {
    "duration": 31366,
    "start_time": "2022-02-22T20:54:57.742Z"
   },
   {
    "duration": 31358,
    "start_time": "2022-02-22T20:54:57.751Z"
   },
   {
    "duration": 517,
    "start_time": "2022-02-22T20:55:39.875Z"
   },
   {
    "duration": 6,
    "start_time": "2022-02-22T20:57:54.496Z"
   },
   {
    "duration": 509,
    "start_time": "2022-02-22T20:57:56.203Z"
   },
   {
    "duration": 6,
    "start_time": "2022-02-22T20:58:43.784Z"
   },
   {
    "duration": 505,
    "start_time": "2022-02-22T20:58:45.419Z"
   },
   {
    "duration": 5,
    "start_time": "2022-02-22T20:58:54.229Z"
   },
   {
    "duration": 486,
    "start_time": "2022-02-22T20:58:56.081Z"
   },
   {
    "duration": 5,
    "start_time": "2022-02-22T20:59:43.233Z"
   },
   {
    "duration": 260,
    "start_time": "2022-02-22T20:59:44.759Z"
   },
   {
    "duration": 5,
    "start_time": "2022-02-22T20:59:58.700Z"
   },
   {
    "duration": 288,
    "start_time": "2022-02-22T21:00:11.989Z"
   },
   {
    "duration": 6,
    "start_time": "2022-02-22T21:00:46.575Z"
   },
   {
    "duration": 282,
    "start_time": "2022-02-22T21:00:46.584Z"
   },
   {
    "duration": 31377,
    "start_time": "2022-02-22T21:00:15.493Z"
   },
   {
    "duration": 31375,
    "start_time": "2022-02-22T21:00:15.497Z"
   },
   {
    "duration": 31375,
    "start_time": "2022-02-22T21:00:15.501Z"
   },
   {
    "duration": 31372,
    "start_time": "2022-02-22T21:00:15.506Z"
   },
   {
    "duration": 31370,
    "start_time": "2022-02-22T21:00:15.511Z"
   },
   {
    "duration": 31361,
    "start_time": "2022-02-22T21:00:15.523Z"
   },
   {
    "duration": 31359,
    "start_time": "2022-02-22T21:00:15.527Z"
   },
   {
    "duration": 6,
    "start_time": "2022-02-22T21:01:24.167Z"
   },
   {
    "duration": 533,
    "start_time": "2022-02-22T21:01:25.059Z"
   },
   {
    "duration": 5,
    "start_time": "2022-02-22T21:01:40.858Z"
   },
   {
    "duration": 388,
    "start_time": "2022-02-22T21:01:42.226Z"
   },
   {
    "duration": 6,
    "start_time": "2022-02-22T21:05:36.724Z"
   },
   {
    "duration": 496,
    "start_time": "2022-02-22T21:05:38.471Z"
   },
   {
    "duration": 7,
    "start_time": "2022-02-22T21:06:14.941Z"
   },
   {
    "duration": 378,
    "start_time": "2022-02-22T21:06:16.351Z"
   },
   {
    "duration": 5,
    "start_time": "2022-02-22T21:06:45.809Z"
   },
   {
    "duration": 265,
    "start_time": "2022-02-22T21:06:47.491Z"
   },
   {
    "duration": 6,
    "start_time": "2022-02-22T21:08:21.888Z"
   },
   {
    "duration": 317,
    "start_time": "2022-02-22T21:08:23.099Z"
   },
   {
    "duration": 6,
    "start_time": "2022-02-22T21:08:53.915Z"
   },
   {
    "duration": 347,
    "start_time": "2022-02-22T21:08:54.899Z"
   },
   {
    "duration": 58,
    "start_time": "2022-02-22T21:10:48.351Z"
   },
   {
    "duration": 42,
    "start_time": "2022-02-22T21:11:37.743Z"
   },
   {
    "duration": 44,
    "start_time": "2022-02-22T21:13:14.688Z"
   },
   {
    "duration": 43,
    "start_time": "2022-02-22T21:14:11.333Z"
   },
   {
    "duration": 42,
    "start_time": "2022-02-22T21:15:07.704Z"
   },
   {
    "duration": 42,
    "start_time": "2022-02-22T21:15:18.659Z"
   },
   {
    "duration": 43,
    "start_time": "2022-02-22T21:15:35.557Z"
   },
   {
    "duration": 5,
    "start_time": "2022-02-22T21:16:48.656Z"
   },
   {
    "duration": 35,
    "start_time": "2022-02-22T21:16:50.388Z"
   },
   {
    "duration": 26,
    "start_time": "2022-02-22T21:16:53.802Z"
   },
   {
    "duration": 38,
    "start_time": "2022-02-22T21:16:55.654Z"
   },
   {
    "duration": 28,
    "start_time": "2022-02-22T21:17:03.260Z"
   },
   {
    "duration": 34,
    "start_time": "2022-02-22T21:17:17.180Z"
   },
   {
    "duration": 36,
    "start_time": "2022-02-22T21:17:26.545Z"
   },
   {
    "duration": 35,
    "start_time": "2022-02-22T21:17:37.464Z"
   },
   {
    "duration": 26,
    "start_time": "2022-02-22T21:17:38.259Z"
   },
   {
    "duration": 34,
    "start_time": "2022-02-22T21:17:39.161Z"
   },
   {
    "duration": 27,
    "start_time": "2022-02-22T21:17:39.984Z"
   },
   {
    "duration": 32,
    "start_time": "2022-02-22T21:26:01.560Z"
   },
   {
    "duration": 13,
    "start_time": "2022-02-22T21:26:02.741Z"
   },
   {
    "duration": 34,
    "start_time": "2022-02-22T21:27:08.206Z"
   },
   {
    "duration": 12,
    "start_time": "2022-02-22T21:27:09.208Z"
   },
   {
    "duration": 33,
    "start_time": "2022-02-22T21:27:21.971Z"
   },
   {
    "duration": 13,
    "start_time": "2022-02-22T21:27:23.336Z"
   },
   {
    "duration": 23,
    "start_time": "2022-02-22T21:28:09.903Z"
   },
   {
    "duration": 13,
    "start_time": "2022-02-22T21:28:11.125Z"
   },
   {
    "duration": 4,
    "start_time": "2022-02-22T21:33:09.489Z"
   },
   {
    "duration": 243,
    "start_time": "2022-02-22T21:33:09.495Z"
   },
   {
    "duration": 17,
    "start_time": "2022-02-22T21:33:09.741Z"
   },
   {
    "duration": 43,
    "start_time": "2022-02-22T21:33:09.761Z"
   },
   {
    "duration": 6,
    "start_time": "2022-02-22T21:33:09.826Z"
   },
   {
    "duration": 22,
    "start_time": "2022-02-22T21:33:09.834Z"
   },
   {
    "duration": 6,
    "start_time": "2022-02-22T21:33:09.860Z"
   },
   {
    "duration": 68,
    "start_time": "2022-02-22T21:33:09.869Z"
   },
   {
    "duration": 32,
    "start_time": "2022-02-22T21:33:09.939Z"
   },
   {
    "duration": 32,
    "start_time": "2022-02-22T21:33:09.973Z"
   },
   {
    "duration": 105,
    "start_time": "2022-02-22T21:33:10.027Z"
   },
   {
    "duration": 115,
    "start_time": "2022-02-22T21:33:10.135Z"
   },
   {
    "duration": 95,
    "start_time": "2022-02-22T21:33:10.252Z"
   },
   {
    "duration": 15,
    "start_time": "2022-02-22T21:33:10.350Z"
   },
   {
    "duration": 4,
    "start_time": "2022-02-22T21:33:10.367Z"
   },
   {
    "duration": 109,
    "start_time": "2022-02-22T21:33:10.373Z"
   },
   {
    "duration": 15,
    "start_time": "2022-02-22T21:33:10.484Z"
   },
   {
    "duration": 70,
    "start_time": "2022-02-22T21:33:10.502Z"
   },
   {
    "duration": 71,
    "start_time": "2022-02-22T21:33:10.579Z"
   },
   {
    "duration": 6,
    "start_time": "2022-02-22T21:33:10.653Z"
   },
   {
    "duration": 40,
    "start_time": "2022-02-22T21:33:10.661Z"
   },
   {
    "duration": 40,
    "start_time": "2022-02-22T21:33:10.704Z"
   },
   {
    "duration": 25,
    "start_time": "2022-02-22T21:33:10.747Z"
   },
   {
    "duration": 53,
    "start_time": "2022-02-22T21:33:10.775Z"
   },
   {
    "duration": 29,
    "start_time": "2022-02-22T21:33:10.830Z"
   },
   {
    "duration": 30,
    "start_time": "2022-02-22T21:33:10.862Z"
   },
   {
    "duration": 281,
    "start_time": "2022-02-22T21:33:10.894Z"
   },
   {
    "duration": 31414,
    "start_time": "2022-02-22T21:32:39.765Z"
   },
   {
    "duration": 31405,
    "start_time": "2022-02-22T21:32:39.775Z"
   },
   {
    "duration": 31403,
    "start_time": "2022-02-22T21:32:39.780Z"
   },
   {
    "duration": 31399,
    "start_time": "2022-02-22T21:32:39.786Z"
   },
   {
    "duration": 31391,
    "start_time": "2022-02-22T21:32:39.796Z"
   },
   {
    "duration": 31387,
    "start_time": "2022-02-22T21:32:39.803Z"
   },
   {
    "duration": 31381,
    "start_time": "2022-02-22T21:32:39.811Z"
   },
   {
    "duration": 31374,
    "start_time": "2022-02-22T21:32:39.820Z"
   },
   {
    "duration": 31357,
    "start_time": "2022-02-22T21:32:39.840Z"
   },
   {
    "duration": 31351,
    "start_time": "2022-02-22T21:32:39.848Z"
   },
   {
    "duration": 31347,
    "start_time": "2022-02-22T21:32:39.854Z"
   },
   {
    "duration": 25,
    "start_time": "2022-02-22T21:36:25.883Z"
   },
   {
    "duration": 24,
    "start_time": "2022-02-22T21:36:26.106Z"
   },
   {
    "duration": 30,
    "start_time": "2022-02-22T21:36:26.364Z"
   },
   {
    "duration": 24,
    "start_time": "2022-02-22T21:36:27.076Z"
   },
   {
    "duration": 13,
    "start_time": "2022-02-22T21:36:29.968Z"
   },
   {
    "duration": 4,
    "start_time": "2022-02-22T21:37:13.110Z"
   },
   {
    "duration": 229,
    "start_time": "2022-02-22T21:37:13.117Z"
   },
   {
    "duration": 16,
    "start_time": "2022-02-22T21:37:13.348Z"
   },
   {
    "duration": 67,
    "start_time": "2022-02-22T21:37:13.367Z"
   },
   {
    "duration": 5,
    "start_time": "2022-02-22T21:37:13.436Z"
   },
   {
    "duration": 31,
    "start_time": "2022-02-22T21:37:13.443Z"
   },
   {
    "duration": 5,
    "start_time": "2022-02-22T21:37:13.478Z"
   },
   {
    "duration": 68,
    "start_time": "2022-02-22T21:37:13.486Z"
   },
   {
    "duration": 36,
    "start_time": "2022-02-22T21:37:13.557Z"
   },
   {
    "duration": 53,
    "start_time": "2022-02-22T21:37:13.596Z"
   },
   {
    "duration": 115,
    "start_time": "2022-02-22T21:37:13.651Z"
   },
   {
    "duration": 118,
    "start_time": "2022-02-22T21:37:13.768Z"
   },
   {
    "duration": 96,
    "start_time": "2022-02-22T21:37:13.888Z"
   },
   {
    "duration": 15,
    "start_time": "2022-02-22T21:37:13.986Z"
   },
   {
    "duration": 24,
    "start_time": "2022-02-22T21:37:14.003Z"
   },
   {
    "duration": 78,
    "start_time": "2022-02-22T21:37:14.029Z"
   },
   {
    "duration": 27,
    "start_time": "2022-02-22T21:37:14.109Z"
   },
   {
    "duration": 46,
    "start_time": "2022-02-22T21:37:14.138Z"
   },
   {
    "duration": 75,
    "start_time": "2022-02-22T21:37:14.188Z"
   },
   {
    "duration": 5,
    "start_time": "2022-02-22T21:37:14.266Z"
   },
   {
    "duration": 59,
    "start_time": "2022-02-22T21:37:14.273Z"
   },
   {
    "duration": 32,
    "start_time": "2022-02-22T21:37:14.335Z"
   },
   {
    "duration": 40,
    "start_time": "2022-02-22T21:37:14.369Z"
   },
   {
    "duration": 27,
    "start_time": "2022-02-22T21:37:14.411Z"
   },
   {
    "duration": 28,
    "start_time": "2022-02-22T21:37:14.440Z"
   },
   {
    "duration": 22,
    "start_time": "2022-02-22T21:37:14.470Z"
   },
   {
    "duration": 40,
    "start_time": "2022-02-22T21:37:14.495Z"
   },
   {
    "duration": 37,
    "start_time": "2022-02-22T21:37:14.538Z"
   },
   {
    "duration": 52,
    "start_time": "2022-02-22T21:37:14.578Z"
   },
   {
    "duration": 5,
    "start_time": "2022-02-22T21:37:14.632Z"
   },
   {
    "duration": 54,
    "start_time": "2022-02-22T21:37:14.640Z"
   },
   {
    "duration": 41,
    "start_time": "2022-02-22T21:37:14.696Z"
   },
   {
    "duration": 33,
    "start_time": "2022-02-22T21:37:14.739Z"
   },
   {
    "duration": 52,
    "start_time": "2022-02-22T21:37:14.774Z"
   },
   {
    "duration": 33,
    "start_time": "2022-02-22T21:37:14.829Z"
   },
   {
    "duration": 11,
    "start_time": "2022-02-22T21:37:14.865Z"
   },
   {
    "duration": 48,
    "start_time": "2022-02-22T21:37:14.878Z"
   },
   {
    "duration": 12,
    "start_time": "2022-02-22T21:37:14.928Z"
   },
   {
    "duration": 37,
    "start_time": "2022-02-22T21:37:33.114Z"
   },
   {
    "duration": 32,
    "start_time": "2022-02-22T21:37:50.183Z"
   },
   {
    "duration": 6,
    "start_time": "2022-02-22T21:38:30.799Z"
   },
   {
    "duration": 3,
    "start_time": "2022-02-22T21:40:34.401Z"
   },
   {
    "duration": 237,
    "start_time": "2022-02-22T21:40:34.407Z"
   },
   {
    "duration": 17,
    "start_time": "2022-02-22T21:40:34.646Z"
   },
   {
    "duration": 37,
    "start_time": "2022-02-22T21:40:34.665Z"
   },
   {
    "duration": 5,
    "start_time": "2022-02-22T21:40:34.727Z"
   },
   {
    "duration": 26,
    "start_time": "2022-02-22T21:40:34.735Z"
   },
   {
    "duration": 5,
    "start_time": "2022-02-22T21:40:34.765Z"
   },
   {
    "duration": 63,
    "start_time": "2022-02-22T21:40:34.773Z"
   },
   {
    "duration": 48,
    "start_time": "2022-02-22T21:40:34.840Z"
   },
   {
    "duration": 38,
    "start_time": "2022-02-22T21:40:34.890Z"
   },
   {
    "duration": 107,
    "start_time": "2022-02-22T21:40:34.931Z"
   },
   {
    "duration": 127,
    "start_time": "2022-02-22T21:40:35.041Z"
   },
   {
    "duration": 99,
    "start_time": "2022-02-22T21:40:35.171Z"
   },
   {
    "duration": 21,
    "start_time": "2022-02-22T21:40:35.273Z"
   },
   {
    "duration": 29,
    "start_time": "2022-02-22T21:40:35.297Z"
   },
   {
    "duration": 140,
    "start_time": "2022-02-22T21:40:35.330Z"
   },
   {
    "duration": 22,
    "start_time": "2022-02-22T21:40:35.473Z"
   },
   {
    "duration": 73,
    "start_time": "2022-02-22T21:40:35.498Z"
   },
   {
    "duration": 59,
    "start_time": "2022-02-22T21:40:35.575Z"
   },
   {
    "duration": 6,
    "start_time": "2022-02-22T21:40:35.637Z"
   },
   {
    "duration": 50,
    "start_time": "2022-02-22T21:40:35.646Z"
   },
   {
    "duration": 40,
    "start_time": "2022-02-22T21:40:35.699Z"
   },
   {
    "duration": 67,
    "start_time": "2022-02-22T21:40:35.742Z"
   },
   {
    "duration": 36,
    "start_time": "2022-02-22T21:40:35.813Z"
   },
   {
    "duration": 64,
    "start_time": "2022-02-22T21:40:35.851Z"
   },
   {
    "duration": 44,
    "start_time": "2022-02-22T21:40:35.918Z"
   },
   {
    "duration": 15,
    "start_time": "2022-02-22T21:40:35.964Z"
   },
   {
    "duration": 72,
    "start_time": "2022-02-22T21:40:35.982Z"
   },
   {
    "duration": 37,
    "start_time": "2022-02-22T21:40:36.057Z"
   },
   {
    "duration": 14,
    "start_time": "2022-02-22T21:40:36.097Z"
   },
   {
    "duration": 65,
    "start_time": "2022-02-22T21:40:36.113Z"
   },
   {
    "duration": 57,
    "start_time": "2022-02-22T21:40:36.180Z"
   },
   {
    "duration": 53,
    "start_time": "2022-02-22T21:40:36.239Z"
   },
   {
    "duration": 36,
    "start_time": "2022-02-22T21:40:36.295Z"
   },
   {
    "duration": 53,
    "start_time": "2022-02-22T21:40:36.334Z"
   },
   {
    "duration": 12,
    "start_time": "2022-02-22T21:40:36.390Z"
   },
   {
    "duration": 58,
    "start_time": "2022-02-22T21:40:36.404Z"
   },
   {
    "duration": 45,
    "start_time": "2022-02-22T21:40:36.465Z"
   },
   {
    "duration": 804,
    "start_time": "2022-03-07T10:35:42.024Z"
   },
   {
    "duration": 208,
    "start_time": "2022-03-07T10:35:42.830Z"
   },
   {
    "duration": 42,
    "start_time": "2022-03-07T10:35:43.041Z"
   },
   {
    "duration": 43,
    "start_time": "2022-03-07T10:35:43.087Z"
   },
   {
    "duration": 5,
    "start_time": "2022-03-07T10:35:43.133Z"
   },
   {
    "duration": 58,
    "start_time": "2022-03-07T10:35:43.140Z"
   },
   {
    "duration": 7,
    "start_time": "2022-03-07T10:35:43.201Z"
   },
   {
    "duration": 31,
    "start_time": "2022-03-07T10:35:43.212Z"
   },
   {
    "duration": 58,
    "start_time": "2022-03-07T10:35:43.246Z"
   },
   {
    "duration": 29,
    "start_time": "2022-03-07T10:35:43.307Z"
   },
   {
    "duration": 125,
    "start_time": "2022-03-07T10:35:43.338Z"
   },
   {
    "duration": 111,
    "start_time": "2022-03-07T10:35:43.465Z"
   },
   {
    "duration": 94,
    "start_time": "2022-03-07T10:35:43.579Z"
   },
   {
    "duration": 20,
    "start_time": "2022-03-07T10:35:43.676Z"
   },
   {
    "duration": 4,
    "start_time": "2022-03-07T10:35:43.698Z"
   },
   {
    "duration": 106,
    "start_time": "2022-03-07T10:35:43.704Z"
   },
   {
    "duration": 14,
    "start_time": "2022-03-07T10:35:43.813Z"
   },
   {
    "duration": 74,
    "start_time": "2022-03-07T10:35:43.829Z"
   },
   {
    "duration": 43,
    "start_time": "2022-03-07T10:35:43.906Z"
   },
   {
    "duration": 24,
    "start_time": "2022-03-07T10:35:43.952Z"
   },
   {
    "duration": 40,
    "start_time": "2022-03-07T10:35:43.979Z"
   },
   {
    "duration": 23,
    "start_time": "2022-03-07T10:35:44.021Z"
   },
   {
    "duration": 48,
    "start_time": "2022-03-07T10:35:44.048Z"
   },
   {
    "duration": 27,
    "start_time": "2022-03-07T10:35:44.100Z"
   },
   {
    "duration": 63,
    "start_time": "2022-03-07T10:35:44.130Z"
   },
   {
    "duration": 23,
    "start_time": "2022-03-07T10:35:44.195Z"
   },
   {
    "duration": 12,
    "start_time": "2022-03-07T10:35:44.220Z"
   },
   {
    "duration": 65,
    "start_time": "2022-03-07T10:35:44.234Z"
   },
   {
    "duration": 26,
    "start_time": "2022-03-07T10:35:44.301Z"
   },
   {
    "duration": 6,
    "start_time": "2022-03-07T10:35:44.329Z"
   },
   {
    "duration": 60,
    "start_time": "2022-03-07T10:35:44.337Z"
   },
   {
    "duration": 25,
    "start_time": "2022-03-07T10:35:44.399Z"
   },
   {
    "duration": 61,
    "start_time": "2022-03-07T10:35:44.427Z"
   },
   {
    "duration": 25,
    "start_time": "2022-03-07T10:35:44.490Z"
   },
   {
    "duration": 31,
    "start_time": "2022-03-07T10:35:44.518Z"
   },
   {
    "duration": 39,
    "start_time": "2022-03-07T10:35:44.551Z"
   },
   {
    "duration": 21,
    "start_time": "2022-03-07T10:35:44.593Z"
   },
   {
    "duration": 11,
    "start_time": "2022-03-07T10:35:44.617Z"
   },
   {
    "duration": 65,
    "start_time": "2022-03-07T10:38:47.194Z"
   },
   {
    "duration": 99,
    "start_time": "2022-03-07T10:44:48.551Z"
   },
   {
    "duration": 5,
    "start_time": "2022-03-07T10:44:53.766Z"
   },
   {
    "duration": 800,
    "start_time": "2022-03-07T11:03:02.138Z"
   },
   {
    "duration": 194,
    "start_time": "2022-03-07T11:03:02.942Z"
   },
   {
    "duration": 36,
    "start_time": "2022-03-07T11:03:03.139Z"
   },
   {
    "duration": 33,
    "start_time": "2022-03-07T11:03:03.178Z"
   },
   {
    "duration": 9,
    "start_time": "2022-03-07T11:03:03.214Z"
   },
   {
    "duration": 57,
    "start_time": "2022-03-07T11:03:03.225Z"
   },
   {
    "duration": 6,
    "start_time": "2022-03-07T11:03:03.285Z"
   },
   {
    "duration": 35,
    "start_time": "2022-03-07T11:03:03.295Z"
   },
   {
    "duration": 54,
    "start_time": "2022-03-07T11:03:03.333Z"
   },
   {
    "duration": 31,
    "start_time": "2022-03-07T11:03:03.390Z"
   },
   {
    "duration": 119,
    "start_time": "2022-03-07T11:03:03.424Z"
   },
   {
    "duration": 119,
    "start_time": "2022-03-07T11:03:03.546Z"
   },
   {
    "duration": 90,
    "start_time": "2022-03-07T11:03:03.668Z"
   },
   {
    "duration": 73,
    "start_time": "2022-03-07T11:03:03.760Z"
   },
   {
    "duration": 4,
    "start_time": "2022-03-07T11:03:03.835Z"
   },
   {
    "duration": 111,
    "start_time": "2022-03-07T11:03:03.842Z"
   },
   {
    "duration": 24,
    "start_time": "2022-03-07T11:03:03.955Z"
   },
   {
    "duration": 27,
    "start_time": "2022-03-07T11:03:03.981Z"
   },
   {
    "duration": 15,
    "start_time": "2022-03-07T11:03:04.010Z"
   },
   {
    "duration": 5,
    "start_time": "2022-03-07T11:03:04.028Z"
   },
   {
    "duration": 62,
    "start_time": "2022-03-07T11:03:04.035Z"
   },
   {
    "duration": 22,
    "start_time": "2022-03-07T11:03:04.099Z"
   },
   {
    "duration": 52,
    "start_time": "2022-03-07T11:03:04.126Z"
   },
   {
    "duration": 23,
    "start_time": "2022-03-07T11:03:04.181Z"
   },
   {
    "duration": 29,
    "start_time": "2022-03-07T11:03:04.207Z"
   },
   {
    "duration": 48,
    "start_time": "2022-03-07T11:03:04.238Z"
   },
   {
    "duration": 13,
    "start_time": "2022-03-07T11:03:04.288Z"
   },
   {
    "duration": 39,
    "start_time": "2022-03-07T11:03:04.303Z"
   },
   {
    "duration": 51,
    "start_time": "2022-03-07T11:03:04.344Z"
   },
   {
    "duration": 5,
    "start_time": "2022-03-07T11:03:04.398Z"
   },
   {
    "duration": 40,
    "start_time": "2022-03-07T11:03:04.405Z"
   },
   {
    "duration": 50,
    "start_time": "2022-03-07T11:03:04.447Z"
   },
   {
    "duration": 33,
    "start_time": "2022-03-07T11:03:04.500Z"
   },
   {
    "duration": 56,
    "start_time": "2022-03-07T11:03:04.535Z"
   },
   {
    "duration": 33,
    "start_time": "2022-03-07T11:03:04.593Z"
   },
   {
    "duration": 12,
    "start_time": "2022-03-07T11:03:04.628Z"
   },
   {
    "duration": 49,
    "start_time": "2022-03-07T11:03:04.643Z"
   },
   {
    "duration": 12,
    "start_time": "2022-03-07T11:03:04.694Z"
   },
   {
    "duration": 65,
    "start_time": "2022-03-07T11:04:09.795Z"
   },
   {
    "duration": 59,
    "start_time": "2022-03-07T11:04:15.381Z"
   },
   {
    "duration": 17,
    "start_time": "2022-03-07T11:04:39.052Z"
   },
   {
    "duration": 6,
    "start_time": "2022-03-07T11:05:26.178Z"
   },
   {
    "duration": 88,
    "start_time": "2022-03-07T11:11:17.034Z"
   },
   {
    "duration": 5,
    "start_time": "2022-03-07T11:11:27.683Z"
   },
   {
    "duration": 815,
    "start_time": "2022-03-07T11:12:01.009Z"
   },
   {
    "duration": 209,
    "start_time": "2022-03-07T11:12:01.826Z"
   },
   {
    "duration": 42,
    "start_time": "2022-03-07T11:12:02.039Z"
   },
   {
    "duration": 36,
    "start_time": "2022-03-07T11:12:02.084Z"
   },
   {
    "duration": 16,
    "start_time": "2022-03-07T11:12:02.122Z"
   },
   {
    "duration": 56,
    "start_time": "2022-03-07T11:12:02.141Z"
   },
   {
    "duration": 11,
    "start_time": "2022-03-07T11:12:02.200Z"
   },
   {
    "duration": 65,
    "start_time": "2022-03-07T11:12:02.217Z"
   },
   {
    "duration": 44,
    "start_time": "2022-03-07T11:12:02.286Z"
   },
   {
    "duration": 63,
    "start_time": "2022-03-07T11:12:02.333Z"
   },
   {
    "duration": 147,
    "start_time": "2022-03-07T11:12:02.399Z"
   },
   {
    "duration": 127,
    "start_time": "2022-03-07T11:12:02.549Z"
   },
   {
    "duration": 102,
    "start_time": "2022-03-07T11:12:02.679Z"
   },
   {
    "duration": 66,
    "start_time": "2022-03-07T11:12:02.784Z"
   },
   {
    "duration": 21,
    "start_time": "2022-03-07T11:12:02.853Z"
   },
   {
    "duration": 159,
    "start_time": "2022-03-07T11:12:02.877Z"
   },
   {
    "duration": 36,
    "start_time": "2022-03-07T11:12:03.039Z"
   },
   {
    "duration": 69,
    "start_time": "2022-03-07T11:12:03.078Z"
   },
   {
    "duration": 39,
    "start_time": "2022-03-07T11:12:03.150Z"
   },
   {
    "duration": 7,
    "start_time": "2022-03-07T11:12:03.192Z"
   },
   {
    "duration": 73,
    "start_time": "2022-03-07T11:12:03.202Z"
   },
   {
    "duration": 38,
    "start_time": "2022-03-07T11:12:03.278Z"
   },
   {
    "duration": 61,
    "start_time": "2022-03-07T11:12:03.324Z"
   },
   {
    "duration": 32,
    "start_time": "2022-03-07T11:12:03.390Z"
   },
   {
    "duration": 72,
    "start_time": "2022-03-07T11:12:03.425Z"
   },
   {
    "duration": 35,
    "start_time": "2022-03-07T11:12:03.501Z"
   },
   {
    "duration": 35,
    "start_time": "2022-03-07T11:12:03.539Z"
   },
   {
    "duration": 45,
    "start_time": "2022-03-07T11:12:03.577Z"
   },
   {
    "duration": 30,
    "start_time": "2022-03-07T11:12:03.625Z"
   },
   {
    "duration": 18,
    "start_time": "2022-03-07T11:12:03.658Z"
   },
   {
    "duration": 719,
    "start_time": "2022-03-07T11:12:03.679Z"
   },
   {
    "duration": -64764,
    "start_time": "2022-03-07T11:13:09.165Z"
   },
   {
    "duration": -64773,
    "start_time": "2022-03-07T11:13:09.175Z"
   },
   {
    "duration": -64791,
    "start_time": "2022-03-07T11:13:09.195Z"
   },
   {
    "duration": -64799,
    "start_time": "2022-03-07T11:13:09.205Z"
   },
   {
    "duration": -64830,
    "start_time": "2022-03-07T11:13:09.237Z"
   },
   {
    "duration": -64847,
    "start_time": "2022-03-07T11:13:09.256Z"
   },
   {
    "duration": -64872,
    "start_time": "2022-03-07T11:13:09.282Z"
   },
   {
    "duration": 17,
    "start_time": "2022-03-07T11:13:42.717Z"
   },
   {
    "duration": 593,
    "start_time": "2022-03-07T11:51:17.681Z"
   },
   {
    "duration": 524,
    "start_time": "2022-03-07T11:56:52.354Z"
   },
   {
    "duration": 6,
    "start_time": "2022-03-07T12:27:53.359Z"
   },
   {
    "duration": 581,
    "start_time": "2022-03-07T12:27:55.986Z"
   },
   {
    "duration": 9,
    "start_time": "2022-03-07T12:28:54.131Z"
   },
   {
    "duration": 5,
    "start_time": "2022-03-07T12:59:47.562Z"
   },
   {
    "duration": 33,
    "start_time": "2022-03-07T12:59:50.520Z"
   },
   {
    "duration": 11,
    "start_time": "2022-03-07T13:00:09.980Z"
   },
   {
    "duration": 567,
    "start_time": "2022-03-07T13:00:11.714Z"
   },
   {
    "duration": 6,
    "start_time": "2022-03-07T13:01:04.649Z"
   },
   {
    "duration": 542,
    "start_time": "2022-03-07T13:01:06.907Z"
   },
   {
    "duration": 6,
    "start_time": "2022-03-07T13:01:16.984Z"
   },
   {
    "duration": 33,
    "start_time": "2022-03-07T13:01:18.633Z"
   },
   {
    "duration": 7,
    "start_time": "2022-03-07T13:03:39.438Z"
   },
   {
    "duration": 498,
    "start_time": "2022-03-07T13:03:41.483Z"
   },
   {
    "duration": 5,
    "start_time": "2022-03-07T13:06:41.608Z"
   },
   {
    "duration": 539,
    "start_time": "2022-03-07T13:06:43.543Z"
   },
   {
    "duration": 6,
    "start_time": "2022-03-07T13:06:54.782Z"
   },
   {
    "duration": 534,
    "start_time": "2022-03-07T13:06:56.620Z"
   },
   {
    "duration": 6,
    "start_time": "2022-03-07T13:07:10.925Z"
   },
   {
    "duration": 537,
    "start_time": "2022-03-07T13:07:12.873Z"
   },
   {
    "duration": 6,
    "start_time": "2022-03-07T13:09:51.958Z"
   },
   {
    "duration": 515,
    "start_time": "2022-03-07T13:09:53.942Z"
   },
   {
    "duration": 821,
    "start_time": "2022-03-07T13:10:05.559Z"
   },
   {
    "duration": 213,
    "start_time": "2022-03-07T13:10:06.388Z"
   },
   {
    "duration": 29,
    "start_time": "2022-03-07T13:10:06.604Z"
   },
   {
    "duration": 53,
    "start_time": "2022-03-07T13:10:06.636Z"
   },
   {
    "duration": 7,
    "start_time": "2022-03-07T13:10:06.692Z"
   },
   {
    "duration": 30,
    "start_time": "2022-03-07T13:10:06.701Z"
   },
   {
    "duration": 5,
    "start_time": "2022-03-07T13:10:06.735Z"
   },
   {
    "duration": 30,
    "start_time": "2022-03-07T13:10:06.775Z"
   },
   {
    "duration": 29,
    "start_time": "2022-03-07T13:10:06.808Z"
   },
   {
    "duration": 50,
    "start_time": "2022-03-07T13:10:06.839Z"
   },
   {
    "duration": 113,
    "start_time": "2022-03-07T13:10:06.892Z"
   },
   {
    "duration": 119,
    "start_time": "2022-03-07T13:10:07.007Z"
   },
   {
    "duration": 95,
    "start_time": "2022-03-07T13:10:07.128Z"
   },
   {
    "duration": 71,
    "start_time": "2022-03-07T13:10:07.226Z"
   },
   {
    "duration": 4,
    "start_time": "2022-03-07T13:10:07.299Z"
   },
   {
    "duration": 98,
    "start_time": "2022-03-07T13:10:07.305Z"
   },
   {
    "duration": 15,
    "start_time": "2022-03-07T13:10:07.405Z"
   },
   {
    "duration": 16,
    "start_time": "2022-03-07T13:10:07.422Z"
   },
   {
    "duration": 17,
    "start_time": "2022-03-07T13:10:07.472Z"
   },
   {
    "duration": 5,
    "start_time": "2022-03-07T13:10:07.491Z"
   },
   {
    "duration": 36,
    "start_time": "2022-03-07T13:10:07.499Z"
   },
   {
    "duration": 50,
    "start_time": "2022-03-07T13:10:07.539Z"
   },
   {
    "duration": 30,
    "start_time": "2022-03-07T13:10:07.591Z"
   },
   {
    "duration": 22,
    "start_time": "2022-03-07T13:10:07.624Z"
   },
   {
    "duration": 28,
    "start_time": "2022-03-07T13:10:07.673Z"
   },
   {
    "duration": 25,
    "start_time": "2022-03-07T13:10:07.704Z"
   },
   {
    "duration": 43,
    "start_time": "2022-03-07T13:10:07.732Z"
   },
   {
    "duration": 35,
    "start_time": "2022-03-07T13:10:07.777Z"
   },
   {
    "duration": 28,
    "start_time": "2022-03-07T13:10:07.814Z"
   },
   {
    "duration": 33,
    "start_time": "2022-03-07T13:10:07.845Z"
   },
   {
    "duration": 764,
    "start_time": "2022-03-07T13:10:07.881Z"
   },
   {
    "duration": -64789,
    "start_time": "2022-03-07T13:11:13.436Z"
   },
   {
    "duration": -64807,
    "start_time": "2022-03-07T13:11:13.456Z"
   },
   {
    "duration": -64817,
    "start_time": "2022-03-07T13:11:13.467Z"
   },
   {
    "duration": -64832,
    "start_time": "2022-03-07T13:11:13.484Z"
   },
   {
    "duration": -64848,
    "start_time": "2022-03-07T13:11:13.501Z"
   },
   {
    "duration": -64862,
    "start_time": "2022-03-07T13:11:13.517Z"
   },
   {
    "duration": -64883,
    "start_time": "2022-03-07T13:11:13.540Z"
   },
   {
    "duration": 6,
    "start_time": "2022-03-07T13:11:48.186Z"
   },
   {
    "duration": 600,
    "start_time": "2022-03-07T13:11:50.219Z"
   },
   {
    "duration": 704,
    "start_time": "2022-03-07T14:26:27.527Z"
   },
   {
    "duration": 209,
    "start_time": "2022-03-07T14:26:28.234Z"
   },
   {
    "duration": 34,
    "start_time": "2022-03-07T14:26:28.446Z"
   },
   {
    "duration": 42,
    "start_time": "2022-03-07T14:26:28.483Z"
   },
   {
    "duration": 14,
    "start_time": "2022-03-07T14:26:28.528Z"
   },
   {
    "duration": 68,
    "start_time": "2022-03-07T14:26:28.545Z"
   },
   {
    "duration": 7,
    "start_time": "2022-03-07T14:26:28.616Z"
   },
   {
    "duration": 62,
    "start_time": "2022-03-07T14:26:28.626Z"
   },
   {
    "duration": 28,
    "start_time": "2022-03-07T14:26:28.691Z"
   },
   {
    "duration": 30,
    "start_time": "2022-03-07T14:26:28.722Z"
   },
   {
    "duration": 109,
    "start_time": "2022-03-07T14:26:28.775Z"
   },
   {
    "duration": 127,
    "start_time": "2022-03-07T14:26:28.887Z"
   },
   {
    "duration": 92,
    "start_time": "2022-03-07T14:26:29.017Z"
   },
   {
    "duration": 73,
    "start_time": "2022-03-07T14:26:29.112Z"
   },
   {
    "duration": 4,
    "start_time": "2022-03-07T14:26:29.187Z"
   },
   {
    "duration": 97,
    "start_time": "2022-03-07T14:26:29.193Z"
   },
   {
    "duration": 13,
    "start_time": "2022-03-07T14:26:29.292Z"
   },
   {
    "duration": 15,
    "start_time": "2022-03-07T14:26:29.307Z"
   },
   {
    "duration": 14,
    "start_time": "2022-03-07T14:26:29.324Z"
   },
   {
    "duration": 5,
    "start_time": "2022-03-07T14:26:29.373Z"
   },
   {
    "duration": 39,
    "start_time": "2022-03-07T14:26:29.380Z"
   },
   {
    "duration": 24,
    "start_time": "2022-03-07T14:26:29.421Z"
   },
   {
    "duration": 45,
    "start_time": "2022-03-07T14:26:29.449Z"
   },
   {
    "duration": 21,
    "start_time": "2022-03-07T14:26:29.497Z"
   },
   {
    "duration": 59,
    "start_time": "2022-03-07T14:26:29.520Z"
   },
   {
    "duration": 25,
    "start_time": "2022-03-07T14:26:29.581Z"
   },
   {
    "duration": 12,
    "start_time": "2022-03-07T14:26:29.608Z"
   },
   {
    "duration": 62,
    "start_time": "2022-03-07T14:26:29.622Z"
   },
   {
    "duration": 26,
    "start_time": "2022-03-07T14:26:29.686Z"
   },
   {
    "duration": 5,
    "start_time": "2022-03-07T14:26:29.714Z"
   },
   {
    "duration": 662,
    "start_time": "2022-03-07T14:26:29.721Z"
   },
   {
    "duration": -65770,
    "start_time": "2022-03-07T14:27:36.155Z"
   },
   {
    "duration": -65777,
    "start_time": "2022-03-07T14:27:36.164Z"
   },
   {
    "duration": -65794,
    "start_time": "2022-03-07T14:27:36.182Z"
   },
   {
    "duration": -65811,
    "start_time": "2022-03-07T14:27:36.200Z"
   },
   {
    "duration": -65816,
    "start_time": "2022-03-07T14:27:36.207Z"
   },
   {
    "duration": -65848,
    "start_time": "2022-03-07T14:27:36.240Z"
   },
   {
    "duration": -65866,
    "start_time": "2022-03-07T14:27:36.259Z"
   },
   {
    "duration": 5,
    "start_time": "2022-03-07T14:31:45.134Z"
   },
   {
    "duration": 26,
    "start_time": "2022-03-07T14:31:47.027Z"
   },
   {
    "duration": 19,
    "start_time": "2022-03-07T14:32:04.677Z"
   },
   {
    "duration": 26,
    "start_time": "2022-03-07T14:32:05.023Z"
   },
   {
    "duration": 19,
    "start_time": "2022-03-07T14:32:07.107Z"
   },
   {
    "duration": 266,
    "start_time": "2022-03-07T14:33:47.927Z"
   },
   {
    "duration": 13,
    "start_time": "2022-03-07T14:33:55.173Z"
   },
   {
    "duration": 11,
    "start_time": "2022-03-07T14:33:57.202Z"
   },
   {
    "duration": 6,
    "start_time": "2022-03-07T14:34:02.316Z"
   },
   {
    "duration": 453,
    "start_time": "2022-03-07T14:36:54.285Z"
   },
   {
    "duration": 273,
    "start_time": "2022-03-07T14:37:00.954Z"
   },
   {
    "duration": 8,
    "start_time": "2022-03-07T14:37:14.985Z"
   },
   {
    "duration": 7,
    "start_time": "2022-03-07T14:37:16.421Z"
   },
   {
    "duration": 7,
    "start_time": "2022-03-07T14:38:10.018Z"
   },
   {
    "duration": 7,
    "start_time": "2022-03-07T14:38:18.806Z"
   },
   {
    "duration": 26,
    "start_time": "2022-03-07T14:38:31.474Z"
   },
   {
    "duration": 20,
    "start_time": "2022-03-07T14:38:35.951Z"
   },
   {
    "duration": 19,
    "start_time": "2022-03-07T14:38:43.986Z"
   },
   {
    "duration": 39,
    "start_time": "2022-03-07T14:38:51.526Z"
   },
   {
    "duration": 28,
    "start_time": "2022-03-07T14:38:59.637Z"
   },
   {
    "duration": 30,
    "start_time": "2022-03-07T14:39:06.127Z"
   },
   {
    "duration": 13,
    "start_time": "2022-03-07T14:39:12.528Z"
   },
   {
    "duration": 23,
    "start_time": "2022-03-07T14:39:17.862Z"
   },
   {
    "duration": 29,
    "start_time": "2022-03-07T14:39:23.001Z"
   },
   {
    "duration": 23,
    "start_time": "2022-03-07T14:39:28.613Z"
   },
   {
    "duration": 25,
    "start_time": "2022-03-07T14:39:35.916Z"
   },
   {
    "duration": 24,
    "start_time": "2022-03-07T14:39:43.646Z"
   },
   {
    "duration": 31,
    "start_time": "2022-03-07T14:39:49.937Z"
   },
   {
    "duration": 85,
    "start_time": "2022-03-07T14:40:07.833Z"
   },
   {
    "duration": 16,
    "start_time": "2022-03-07T14:40:34.687Z"
   },
   {
    "duration": 185,
    "start_time": "2022-03-07T14:40:58.513Z"
   },
   {
    "duration": 817,
    "start_time": "2022-03-07T14:41:12.783Z"
   },
   {
    "duration": 200,
    "start_time": "2022-03-07T14:41:13.603Z"
   },
   {
    "duration": 30,
    "start_time": "2022-03-07T14:41:13.807Z"
   },
   {
    "duration": 56,
    "start_time": "2022-03-07T14:41:13.841Z"
   },
   {
    "duration": 9,
    "start_time": "2022-03-07T14:41:13.900Z"
   },
   {
    "duration": 37,
    "start_time": "2022-03-07T14:41:13.912Z"
   },
   {
    "duration": 23,
    "start_time": "2022-03-07T14:41:13.951Z"
   },
   {
    "duration": 37,
    "start_time": "2022-03-07T14:41:13.978Z"
   },
   {
    "duration": 28,
    "start_time": "2022-03-07T14:41:14.018Z"
   },
   {
    "duration": 51,
    "start_time": "2022-03-07T14:41:14.049Z"
   },
   {
    "duration": 118,
    "start_time": "2022-03-07T14:41:14.103Z"
   },
   {
    "duration": 116,
    "start_time": "2022-03-07T14:41:14.223Z"
   },
   {
    "duration": 88,
    "start_time": "2022-03-07T14:41:14.341Z"
   },
   {
    "duration": 68,
    "start_time": "2022-03-07T14:41:14.432Z"
   },
   {
    "duration": 4,
    "start_time": "2022-03-07T14:41:14.503Z"
   },
   {
    "duration": 99,
    "start_time": "2022-03-07T14:41:14.509Z"
   },
   {
    "duration": 14,
    "start_time": "2022-03-07T14:41:14.610Z"
   },
   {
    "duration": 16,
    "start_time": "2022-03-07T14:41:14.627Z"
   },
   {
    "duration": 40,
    "start_time": "2022-03-07T14:41:14.646Z"
   },
   {
    "duration": 5,
    "start_time": "2022-03-07T14:41:14.688Z"
   },
   {
    "duration": 44,
    "start_time": "2022-03-07T14:41:14.695Z"
   },
   {
    "duration": 51,
    "start_time": "2022-03-07T14:41:14.741Z"
   },
   {
    "duration": 24,
    "start_time": "2022-03-07T14:41:14.797Z"
   },
   {
    "duration": 54,
    "start_time": "2022-03-07T14:41:14.823Z"
   },
   {
    "duration": 30,
    "start_time": "2022-03-07T14:41:14.880Z"
   },
   {
    "duration": 24,
    "start_time": "2022-03-07T14:41:14.913Z"
   },
   {
    "duration": 13,
    "start_time": "2022-03-07T14:41:14.973Z"
   },
   {
    "duration": 35,
    "start_time": "2022-03-07T14:41:14.989Z"
   },
   {
    "duration": 52,
    "start_time": "2022-03-07T14:41:15.026Z"
   },
   {
    "duration": 6,
    "start_time": "2022-03-07T14:41:15.081Z"
   },
   {
    "duration": 38,
    "start_time": "2022-03-07T14:41:15.089Z"
   },
   {
    "duration": 43,
    "start_time": "2022-03-07T14:41:15.130Z"
   },
   {
    "duration": 26,
    "start_time": "2022-03-07T14:41:15.176Z"
   },
   {
    "duration": 18,
    "start_time": "2022-03-07T14:41:15.205Z"
   },
   {
    "duration": 48,
    "start_time": "2022-03-07T14:41:15.225Z"
   },
   {
    "duration": 6,
    "start_time": "2022-03-07T14:41:15.276Z"
   },
   {
    "duration": 15,
    "start_time": "2022-03-07T14:41:15.285Z"
   },
   {
    "duration": 7,
    "start_time": "2022-03-07T14:41:15.302Z"
   },
   {
    "duration": 1221,
    "start_time": "2022-03-08T20:12:39.927Z"
   },
   {
    "duration": 598,
    "start_time": "2022-03-08T20:12:48.910Z"
   },
   {
    "duration": 132,
    "start_time": "2022-03-08T20:12:49.510Z"
   },
   {
    "duration": 16,
    "start_time": "2022-03-08T20:12:49.644Z"
   },
   {
    "duration": 25,
    "start_time": "2022-03-08T20:12:49.662Z"
   },
   {
    "duration": 4,
    "start_time": "2022-03-08T20:12:49.689Z"
   },
   {
    "duration": 42,
    "start_time": "2022-03-08T20:12:49.694Z"
   },
   {
    "duration": 3,
    "start_time": "2022-03-08T20:12:49.738Z"
   },
   {
    "duration": 24,
    "start_time": "2022-03-08T20:12:49.744Z"
   },
   {
    "duration": 18,
    "start_time": "2022-03-08T20:12:49.771Z"
   },
   {
    "duration": 42,
    "start_time": "2022-03-08T20:12:49.791Z"
   },
   {
    "duration": 58,
    "start_time": "2022-03-08T20:12:49.834Z"
   },
   {
    "duration": 81,
    "start_time": "2022-03-08T20:12:49.894Z"
   },
   {
    "duration": 57,
    "start_time": "2022-03-08T20:12:49.977Z"
   },
   {
    "duration": 43,
    "start_time": "2022-03-08T20:12:50.035Z"
   },
   {
    "duration": 2,
    "start_time": "2022-03-08T20:12:50.080Z"
   },
   {
    "duration": 75,
    "start_time": "2022-03-08T20:12:50.084Z"
   },
   {
    "duration": 241,
    "start_time": "2022-03-08T20:12:50.161Z"
   },
   {
    "duration": -67502,
    "start_time": "2022-03-08T20:13:57.906Z"
   },
   {
    "duration": -67528,
    "start_time": "2022-03-08T20:13:57.933Z"
   },
   {
    "duration": -67539,
    "start_time": "2022-03-08T20:13:57.945Z"
   },
   {
    "duration": -67549,
    "start_time": "2022-03-08T20:13:57.956Z"
   },
   {
    "duration": -67557,
    "start_time": "2022-03-08T20:13:57.965Z"
   },
   {
    "duration": -67565,
    "start_time": "2022-03-08T20:13:57.974Z"
   },
   {
    "duration": -67574,
    "start_time": "2022-03-08T20:13:57.984Z"
   },
   {
    "duration": -67581,
    "start_time": "2022-03-08T20:13:57.992Z"
   },
   {
    "duration": -67588,
    "start_time": "2022-03-08T20:13:58.000Z"
   },
   {
    "duration": -67595,
    "start_time": "2022-03-08T20:13:58.008Z"
   },
   {
    "duration": -67613,
    "start_time": "2022-03-08T20:13:58.027Z"
   },
   {
    "duration": -67633,
    "start_time": "2022-03-08T20:13:58.048Z"
   },
   {
    "duration": -67640,
    "start_time": "2022-03-08T20:13:58.056Z"
   },
   {
    "duration": -67645,
    "start_time": "2022-03-08T20:13:58.062Z"
   },
   {
    "duration": -67651,
    "start_time": "2022-03-08T20:13:58.069Z"
   },
   {
    "duration": -67656,
    "start_time": "2022-03-08T20:13:58.075Z"
   },
   {
    "duration": -67661,
    "start_time": "2022-03-08T20:13:58.081Z"
   },
   {
    "duration": -67665,
    "start_time": "2022-03-08T20:13:58.087Z"
   },
   {
    "duration": -67672,
    "start_time": "2022-03-08T20:13:58.095Z"
   },
   {
    "duration": -67677,
    "start_time": "2022-03-08T20:13:58.101Z"
   },
   {
    "duration": -67684,
    "start_time": "2022-03-08T20:13:58.109Z"
   },
   {
    "duration": 39,
    "start_time": "2022-03-08T20:13:53.444Z"
   },
   {
    "duration": 4,
    "start_time": "2022-03-08T20:21:16.243Z"
   },
   {
    "duration": 49,
    "start_time": "2022-03-08T20:21:19.110Z"
   },
   {
    "duration": 40,
    "start_time": "2022-03-08T20:21:24.955Z"
   },
   {
    "duration": 3,
    "start_time": "2022-03-08T21:30:47.180Z"
   },
   {
    "duration": 37,
    "start_time": "2022-03-08T21:30:49.734Z"
   },
   {
    "duration": 38,
    "start_time": "2022-03-08T21:30:53.357Z"
   },
   {
    "duration": 53,
    "start_time": "2022-03-08T21:32:46.204Z"
   },
   {
    "duration": 58,
    "start_time": "2022-03-08T21:32:54.452Z"
   },
   {
    "duration": 52,
    "start_time": "2022-03-08T21:33:04.348Z"
   }
  ],
  "colab": {
   "collapsed_sections": [
    "E0vqbgi9ay0H",
    "VUC88oWjTJw2"
   ],
   "name": "yandex_music_project_2021.2.ipynb",
   "provenance": []
  },
  "kernelspec": {
   "display_name": "Python 3 (ipykernel)",
   "language": "python",
   "name": "python3"
  },
  "language_info": {
   "codemirror_mode": {
    "name": "ipython",
    "version": 3
   },
   "file_extension": ".py",
   "mimetype": "text/x-python",
   "name": "python",
   "nbconvert_exporter": "python",
   "pygments_lexer": "ipython3",
   "version": "3.9.7"
  },
  "toc": {
   "base_numbering": 1,
   "nav_menu": {},
   "number_sections": true,
   "sideBar": true,
   "skip_h1_title": true,
   "title_cell": "Table of Contents",
   "title_sidebar": "Contents",
   "toc_cell": false,
   "toc_position": {
    "height": "calc(100% - 180px)",
    "left": "10px",
    "top": "150px",
    "width": "231px"
   },
   "toc_section_display": true,
   "toc_window_display": true
  }
 },
 "nbformat": 4,
 "nbformat_minor": 1
}
