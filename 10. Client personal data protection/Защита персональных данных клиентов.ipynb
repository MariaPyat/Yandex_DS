{
 "cells": [
  {
   "cell_type": "markdown",
   "id": "2bea2931",
   "metadata": {
    "toc": true
   },
   "source": [
    "<h1>Table of Contents<span class=\"tocSkip\"></span></h1>\n",
    "<div class=\"toc\"><ul class=\"toc-item\"><li><span><a href=\"#-Импорт-библиотек-\" data-toc-modified-id=\"-Импорт-библиотек--1\"><span class=\"toc-item-num\">1&nbsp;&nbsp;</span><font color=\"#175676\"> Импорт библиотек </font></a></span></li><li><span><a href=\"#-Описание-данных-\" data-toc-modified-id=\"-Описание-данных--2\"><span class=\"toc-item-num\">2&nbsp;&nbsp;</span><font color=\"#175676\"> Описание данных </font></a></span><ul class=\"toc-item\"><li><span><a href=\"#Сохранение-в-переменную\" data-toc-modified-id=\"Сохранение-в-переменную-2.1\"><span class=\"toc-item-num\">2.1&nbsp;&nbsp;</span><font color=\"#4BA3C3\">Сохранение в переменную</font></a></span></li><li><span><a href=\"#Обзор-данных\" data-toc-modified-id=\"Обзор-данных-2.2\"><span class=\"toc-item-num\">2.2&nbsp;&nbsp;</span><font color=\"#4BA3C3\">Обзор данных</font></a></span></li><li><span><a href=\"#Признаки\" data-toc-modified-id=\"Признаки-2.3\"><span class=\"toc-item-num\">2.3&nbsp;&nbsp;</span><font color=\"#4BA3C3\">Признаки</font></a></span></li><li><span><a href=\"#Вывод-\" data-toc-modified-id=\"Вывод--2.4\"><span class=\"toc-item-num\">2.4&nbsp;&nbsp;</span>Вывод </a></span></li></ul></li><li><span><a href=\"#-Предобработка-данных-\" data-toc-modified-id=\"-Предобработка-данных--3\"><span class=\"toc-item-num\">3&nbsp;&nbsp;</span><font color=\"#175676\"> Предобработка данных </font></a></span><ul class=\"toc-item\"><li><span><a href=\"#Переименование-столбцов\" data-toc-modified-id=\"Переименование-столбцов-3.1\"><span class=\"toc-item-num\">3.1&nbsp;&nbsp;</span><font color=\"#4BA3C3\">Переименование столбцов</font></a></span></li><li><span><a href=\"#Изменение-типов-данных\" data-toc-modified-id=\"Изменение-типов-данных-3.2\"><span class=\"toc-item-num\">3.2&nbsp;&nbsp;</span><font color=\"#4BA3C3\">Изменение типов данных</font></a></span></li><li><span><a href=\"#Поиск-и-обработка-дубликатов\" data-toc-modified-id=\"Поиск-и-обработка-дубликатов-3.3\"><span class=\"toc-item-num\">3.3&nbsp;&nbsp;</span><font color=\"#4BA3C3\">Поиск и обработка дубликатов</font></a></span></li><li><span><a href=\"#Анализ-распределения-признаков\" data-toc-modified-id=\"Анализ-распределения-признаков-3.4\"><span class=\"toc-item-num\">3.4&nbsp;&nbsp;</span><font color=\"#4BA3C3\">Анализ распределения признаков</font></a></span><ul class=\"toc-item\"><li><span><a href=\"#Возраст-клиента\" data-toc-modified-id=\"Возраст-клиента-3.4.1\"><span class=\"toc-item-num\">3.4.1&nbsp;&nbsp;</span>Возраст клиента</a></span></li><li><span><a href=\"#Зарплата-застрахованного\" data-toc-modified-id=\"Зарплата-застрахованного-3.4.2\"><span class=\"toc-item-num\">3.4.2&nbsp;&nbsp;</span>Зарплата застрахованного</a></span></li><li><span><a href=\"#Количество-членов-семьи\" data-toc-modified-id=\"Количество-членов-семьи-3.4.3\"><span class=\"toc-item-num\">3.4.3&nbsp;&nbsp;</span>Количество членов семьи</a></span></li><li><span><a href=\"#Количество-страховых-выплат-за-5-лет\" data-toc-modified-id=\"Количество-страховых-выплат-за-5-лет-3.4.4\"><span class=\"toc-item-num\">3.4.4&nbsp;&nbsp;</span>Количество страховых выплат за 5 лет</a></span></li><li><span><a href=\"#Пол-застрахованного\" data-toc-modified-id=\"Пол-застрахованного-3.4.5\"><span class=\"toc-item-num\">3.4.5&nbsp;&nbsp;</span>Пол застрахованного</a></span></li></ul></li><li><span><a href=\"#Анализ-корреляций-параметров\" data-toc-modified-id=\"Анализ-корреляций-параметров-3.5\"><span class=\"toc-item-num\">3.5&nbsp;&nbsp;</span><font color=\"#4BA3C3\">Анализ корреляций параметров</font></a></span></li><li><span><a href=\"#Вывод-\" data-toc-modified-id=\"Вывод--3.6\"><span class=\"toc-item-num\">3.6&nbsp;&nbsp;</span>Вывод </a></span></li></ul></li><li><span><a href=\"#-Обоснование-преобразования-\" data-toc-modified-id=\"-Обоснование-преобразования--4\"><span class=\"toc-item-num\">4&nbsp;&nbsp;</span><font color=\"#175676\"> Обоснование преобразования </font></a></span><ul class=\"toc-item\"><li><span><a href=\"#Вывод-\" data-toc-modified-id=\"Вывод--4.1\"><span class=\"toc-item-num\">4.1&nbsp;&nbsp;</span>Вывод </a></span></li></ul></li><li><span><a href=\"#-Алгоритм-преобразования-\" data-toc-modified-id=\"-Алгоритм-преобразования--5\"><span class=\"toc-item-num\">5&nbsp;&nbsp;</span><font color=\"#175676\"> Алгоритм преобразования </font></a></span></li><li><span><a href=\"#-Обучение-модели-на-исходном-датасете-\" data-toc-modified-id=\"-Обучение-модели-на-исходном-датасете--6\"><span class=\"toc-item-num\">6&nbsp;&nbsp;</span><font color=\"#175676\"> Обучение модели на исходном датасете </font></a></span><ul class=\"toc-item\"><li><span><a href=\"#Выделение-выборок\" data-toc-modified-id=\"Выделение-выборок-6.1\"><span class=\"toc-item-num\">6.1&nbsp;&nbsp;</span><font color=\"#4BA3C3\">Выделение выборок</font></a></span></li><li><span><a href=\"#Маcштабирование-признаков\" data-toc-modified-id=\"Маcштабирование-признаков-6.2\"><span class=\"toc-item-num\">6.2&nbsp;&nbsp;</span><font color=\"#4BA3C3\">Маcштабирование признаков</font></a></span></li><li><span><a href=\"#Обучение-модели\" data-toc-modified-id=\"Обучение-модели-6.3\"><span class=\"toc-item-num\">6.3&nbsp;&nbsp;</span><font color=\"#4BA3C3\">Обучение модели</font></a></span></li><li><span><a href=\"#Вывод-\" data-toc-modified-id=\"Вывод--6.4\"><span class=\"toc-item-num\">6.4&nbsp;&nbsp;</span>Вывод </a></span></li></ul></li><li><span><a href=\"#-Защита-данных-с-помощью-матрицы-\" data-toc-modified-id=\"-Защита-данных-с-помощью-матрицы--7\"><span class=\"toc-item-num\">7&nbsp;&nbsp;</span><font color=\"#175676\"> Защита данных с помощью матрицы </font></a></span><ul class=\"toc-item\"><li><span><a href=\"#Подготовка-матрицы\" data-toc-modified-id=\"Подготовка-матрицы-7.1\"><span class=\"toc-item-num\">7.1&nbsp;&nbsp;</span><font color=\"#4BA3C3\">Подготовка матрицы</font></a></span></li><li><span><a href=\"#Зашифровка-данных\" data-toc-modified-id=\"Зашифровка-данных-7.2\"><span class=\"toc-item-num\">7.2&nbsp;&nbsp;</span><font color=\"#4BA3C3\">Зашифровка данных</font></a></span></li><li><span><a href=\"#Обучение-модели\" data-toc-modified-id=\"Обучение-модели-7.3\"><span class=\"toc-item-num\">7.3&nbsp;&nbsp;</span><font color=\"#4BA3C3\">Обучение модели</font></a></span></li><li><span><a href=\"#Вывод-\" data-toc-modified-id=\"Вывод--7.4\"><span class=\"toc-item-num\">7.4&nbsp;&nbsp;</span>Вывод </a></span></li></ul></li><li><span><a href=\"#Общий-вывод-\" data-toc-modified-id=\"Общий-вывод--8\"><span class=\"toc-item-num\">8&nbsp;&nbsp;</span>Общий вывод </a></span></li></ul></div>"
   ]
  },
  {
   "cell_type": "markdown",
   "id": "a5cdf7ad",
   "metadata": {},
   "source": [
    "<div style=\"border-radius: 15px; border:solid #4BA3C3 3px; padding: 20px\"> <h1 style=\"color:#CCE6F4; margin-bottom:20px\">Линейная алгебра </h1>\n",
    "    \n",
    "<h1 style=\"color:#4BA3C3; margin-bottom:20px\">Защита данных клиентов страховой компании </h1>\n",
    "  \n",
    "<h1 style=\"color: #175676; margin-bottom:20px\">Описание проекта</h1>\n",
    "\n",
    "* Для защиты данных клиентов страховой компании «Хоть потоп» нужно разработать такой метод преобразования данных, чтобы по ним было сложно восстановить персональную информацию. Корректность его работы должна быть обоснована.\n",
    "    \n",
    "    \n",
    "* Нужно защитить данные, чтобы при преобразовании качество моделей машинного обучения не ухудшилось. Подбирать наилучшую модель не требуется.\n",
    "    \n",
    "    \n",
    "* Данные находятся в файле `insurance.csv`\n",
    "    \n",
    "<div style=\"border-radius: 15px; border:solid #BA324F 2.5px; padding: 20px\"> <h1 style=\"color:#D62839; margin-bottom:20px\">Цель исследования</h1>\n",
    "    \n",
    "Разработать метод преобразования данных, чтобы по ним было сложно восстановить персональную информацию, а качество предсказаний модели не изменялось."
   ]
  },
  {
   "cell_type": "markdown",
   "id": "091bac0b",
   "metadata": {},
   "source": [
    "## <font color = \"#175676\"> Импорт библиотек </font>"
   ]
  },
  {
   "cell_type": "code",
   "execution_count": 1,
   "id": "a64a7a52",
   "metadata": {},
   "outputs": [],
   "source": [
    "import warnings\n",
    "\n",
    "import matplotlib.pyplot as plt\n",
    "import numpy as np\n",
    "import pandas as pd\n",
    "import scipy.stats as stats\n",
    "import seaborn as sns\n",
    "\n",
    "from sklearn.linear_model import LinearRegression\n",
    "from sklearn.metrics import (\n",
    "    mean_absolute_error, \n",
    "    mean_squared_error, \n",
    "    r2_score\n",
    ")\n",
    "from sklearn.model_selection import train_test_split\n",
    "from sklearn.preprocessing import StandardScaler\n",
    "\n",
    "pd.set_option('display.max_columns', 100)\n",
    "pd.set_option('display.max_rows', 100)\n",
    "warnings.filterwarnings('ignore')\n",
    "\n",
    "RANDOM_STATE=12345"
   ]
  },
  {
   "cell_type": "markdown",
   "id": "15f683c9",
   "metadata": {},
   "source": [
    "## <font color = \"#175676\"> Описание данных </font>\n",
    "\n",
    "### <font color = \"#4BA3C3\">Сохранение в переменную</font>"
   ]
  },
  {
   "cell_type": "code",
   "execution_count": 2,
   "id": "31a8237c",
   "metadata": {},
   "outputs": [],
   "source": [
    "try:\n",
    "    data = pd.read_csv(\n",
    "        'D:/1_Проекты Практикум/М_3/8_Защита персональных данных клиентов/insurance.csv'\n",
    "    )\n",
    "except:\n",
    "    data = pd.read_csv(\n",
    "        '/datasets/insurance.csv'\n",
    "    )"
   ]
  },
  {
   "cell_type": "markdown",
   "id": "c92d94d2",
   "metadata": {},
   "source": [
    "### <font color = \"#4BA3C3\">Обзор данных</font>"
   ]
  },
  {
   "cell_type": "code",
   "execution_count": 3,
   "id": "73e85b1f",
   "metadata": {},
   "outputs": [],
   "source": [
    "def df_overview(df):\n",
    "    print('Размер таблицы:', df.shape)\n",
    "    print('-'*100)\n",
    "    print('Общая информация о таблице')\n",
    "    print('')\n",
    "    display(df.info())\n",
    "    print('-'*100)\n",
    "    print('')\n",
    "    print('Первые строки таблицы')\n",
    "    display(df.head(3))\n",
    "    print('-'*100)\n",
    "    print('')\n",
    "    print('Описательная статистика')\n",
    "    display(df.describe().round(2))\n",
    "    print('-'*100)\n",
    "    print('')\n",
    "    print('Процент пропусков в столбцах')\n",
    "    display(\n",
    "        (100 * df.isna().sum().sort_values(\n",
    "            ascending=False\n",
    "        )) / len(df.index)\n",
    "    )\n",
    "    print('-'*100)\n",
    "    print('')\n",
    "    print(\n",
    "        'Процент уникальных значений в столбцах'\n",
    "    )\n",
    "    display(\n",
    "        (100 * df.nunique().sort_values(\n",
    "            ascending=True\n",
    "        )) / len(df.index)\n",
    "    )"
   ]
  },
  {
   "cell_type": "code",
   "execution_count": 4,
   "id": "62a6cd4b",
   "metadata": {},
   "outputs": [
    {
     "name": "stdout",
     "output_type": "stream",
     "text": [
      "Размер таблицы: (5000, 5)\n",
      "----------------------------------------------------------------------------------------------------\n",
      "Общая информация о таблице\n",
      "\n",
      "<class 'pandas.core.frame.DataFrame'>\n",
      "RangeIndex: 5000 entries, 0 to 4999\n",
      "Data columns (total 5 columns):\n",
      " #   Column             Non-Null Count  Dtype  \n",
      "---  ------             --------------  -----  \n",
      " 0   Пол                5000 non-null   int64  \n",
      " 1   Возраст            5000 non-null   float64\n",
      " 2   Зарплата           5000 non-null   float64\n",
      " 3   Члены семьи        5000 non-null   int64  \n",
      " 4   Страховые выплаты  5000 non-null   int64  \n",
      "dtypes: float64(2), int64(3)\n",
      "memory usage: 195.4 KB\n"
     ]
    },
    {
     "data": {
      "text/plain": [
       "None"
      ]
     },
     "metadata": {},
     "output_type": "display_data"
    },
    {
     "name": "stdout",
     "output_type": "stream",
     "text": [
      "----------------------------------------------------------------------------------------------------\n",
      "\n",
      "Первые строки таблицы\n"
     ]
    },
    {
     "data": {
      "text/html": [
       "<div>\n",
       "<style scoped>\n",
       "    .dataframe tbody tr th:only-of-type {\n",
       "        vertical-align: middle;\n",
       "    }\n",
       "\n",
       "    .dataframe tbody tr th {\n",
       "        vertical-align: top;\n",
       "    }\n",
       "\n",
       "    .dataframe thead th {\n",
       "        text-align: right;\n",
       "    }\n",
       "</style>\n",
       "<table border=\"1\" class=\"dataframe\">\n",
       "  <thead>\n",
       "    <tr style=\"text-align: right;\">\n",
       "      <th></th>\n",
       "      <th>Пол</th>\n",
       "      <th>Возраст</th>\n",
       "      <th>Зарплата</th>\n",
       "      <th>Члены семьи</th>\n",
       "      <th>Страховые выплаты</th>\n",
       "    </tr>\n",
       "  </thead>\n",
       "  <tbody>\n",
       "    <tr>\n",
       "      <th>0</th>\n",
       "      <td>1</td>\n",
       "      <td>41.0</td>\n",
       "      <td>49600.0</td>\n",
       "      <td>1</td>\n",
       "      <td>0</td>\n",
       "    </tr>\n",
       "    <tr>\n",
       "      <th>1</th>\n",
       "      <td>0</td>\n",
       "      <td>46.0</td>\n",
       "      <td>38000.0</td>\n",
       "      <td>1</td>\n",
       "      <td>1</td>\n",
       "    </tr>\n",
       "    <tr>\n",
       "      <th>2</th>\n",
       "      <td>0</td>\n",
       "      <td>29.0</td>\n",
       "      <td>21000.0</td>\n",
       "      <td>0</td>\n",
       "      <td>0</td>\n",
       "    </tr>\n",
       "  </tbody>\n",
       "</table>\n",
       "</div>"
      ],
      "text/plain": [
       "   Пол  Возраст  Зарплата  Члены семьи  Страховые выплаты\n",
       "0    1     41.0   49600.0            1                  0\n",
       "1    0     46.0   38000.0            1                  1\n",
       "2    0     29.0   21000.0            0                  0"
      ]
     },
     "metadata": {},
     "output_type": "display_data"
    },
    {
     "name": "stdout",
     "output_type": "stream",
     "text": [
      "----------------------------------------------------------------------------------------------------\n",
      "\n",
      "Описательная статистика\n"
     ]
    },
    {
     "data": {
      "text/html": [
       "<div>\n",
       "<style scoped>\n",
       "    .dataframe tbody tr th:only-of-type {\n",
       "        vertical-align: middle;\n",
       "    }\n",
       "\n",
       "    .dataframe tbody tr th {\n",
       "        vertical-align: top;\n",
       "    }\n",
       "\n",
       "    .dataframe thead th {\n",
       "        text-align: right;\n",
       "    }\n",
       "</style>\n",
       "<table border=\"1\" class=\"dataframe\">\n",
       "  <thead>\n",
       "    <tr style=\"text-align: right;\">\n",
       "      <th></th>\n",
       "      <th>Пол</th>\n",
       "      <th>Возраст</th>\n",
       "      <th>Зарплата</th>\n",
       "      <th>Члены семьи</th>\n",
       "      <th>Страховые выплаты</th>\n",
       "    </tr>\n",
       "  </thead>\n",
       "  <tbody>\n",
       "    <tr>\n",
       "      <th>count</th>\n",
       "      <td>5000.0</td>\n",
       "      <td>5000.00</td>\n",
       "      <td>5000.00</td>\n",
       "      <td>5000.00</td>\n",
       "      <td>5000.00</td>\n",
       "    </tr>\n",
       "    <tr>\n",
       "      <th>mean</th>\n",
       "      <td>0.5</td>\n",
       "      <td>30.95</td>\n",
       "      <td>39916.36</td>\n",
       "      <td>1.19</td>\n",
       "      <td>0.15</td>\n",
       "    </tr>\n",
       "    <tr>\n",
       "      <th>std</th>\n",
       "      <td>0.5</td>\n",
       "      <td>8.44</td>\n",
       "      <td>9900.08</td>\n",
       "      <td>1.09</td>\n",
       "      <td>0.46</td>\n",
       "    </tr>\n",
       "    <tr>\n",
       "      <th>min</th>\n",
       "      <td>0.0</td>\n",
       "      <td>18.00</td>\n",
       "      <td>5300.00</td>\n",
       "      <td>0.00</td>\n",
       "      <td>0.00</td>\n",
       "    </tr>\n",
       "    <tr>\n",
       "      <th>25%</th>\n",
       "      <td>0.0</td>\n",
       "      <td>24.00</td>\n",
       "      <td>33300.00</td>\n",
       "      <td>0.00</td>\n",
       "      <td>0.00</td>\n",
       "    </tr>\n",
       "    <tr>\n",
       "      <th>50%</th>\n",
       "      <td>0.0</td>\n",
       "      <td>30.00</td>\n",
       "      <td>40200.00</td>\n",
       "      <td>1.00</td>\n",
       "      <td>0.00</td>\n",
       "    </tr>\n",
       "    <tr>\n",
       "      <th>75%</th>\n",
       "      <td>1.0</td>\n",
       "      <td>37.00</td>\n",
       "      <td>46600.00</td>\n",
       "      <td>2.00</td>\n",
       "      <td>0.00</td>\n",
       "    </tr>\n",
       "    <tr>\n",
       "      <th>max</th>\n",
       "      <td>1.0</td>\n",
       "      <td>65.00</td>\n",
       "      <td>79000.00</td>\n",
       "      <td>6.00</td>\n",
       "      <td>5.00</td>\n",
       "    </tr>\n",
       "  </tbody>\n",
       "</table>\n",
       "</div>"
      ],
      "text/plain": [
       "          Пол  Возраст  Зарплата  Члены семьи  Страховые выплаты\n",
       "count  5000.0  5000.00   5000.00      5000.00            5000.00\n",
       "mean      0.5    30.95  39916.36         1.19               0.15\n",
       "std       0.5     8.44   9900.08         1.09               0.46\n",
       "min       0.0    18.00   5300.00         0.00               0.00\n",
       "25%       0.0    24.00  33300.00         0.00               0.00\n",
       "50%       0.0    30.00  40200.00         1.00               0.00\n",
       "75%       1.0    37.00  46600.00         2.00               0.00\n",
       "max       1.0    65.00  79000.00         6.00               5.00"
      ]
     },
     "metadata": {},
     "output_type": "display_data"
    },
    {
     "name": "stdout",
     "output_type": "stream",
     "text": [
      "----------------------------------------------------------------------------------------------------\n",
      "\n",
      "Процент пропусков в столбцах\n"
     ]
    },
    {
     "data": {
      "text/plain": [
       "Пол                  0.0\n",
       "Возраст              0.0\n",
       "Зарплата             0.0\n",
       "Члены семьи          0.0\n",
       "Страховые выплаты    0.0\n",
       "dtype: float64"
      ]
     },
     "metadata": {},
     "output_type": "display_data"
    },
    {
     "name": "stdout",
     "output_type": "stream",
     "text": [
      "----------------------------------------------------------------------------------------------------\n",
      "\n",
      "Процент уникальных значений в столбцах\n"
     ]
    },
    {
     "data": {
      "text/plain": [
       "Пол                   0.04\n",
       "Страховые выплаты     0.12\n",
       "Члены семьи           0.14\n",
       "Возраст               0.92\n",
       "Зарплата             10.48\n",
       "dtype: float64"
      ]
     },
     "metadata": {},
     "output_type": "display_data"
    }
   ],
   "source": [
    "df_overview(data)"
   ]
  },
  {
   "cell_type": "markdown",
   "id": "bf0248e6",
   "metadata": {},
   "source": [
    "Сохраним количество строк до обработки таблицы для последующих расчетов."
   ]
  },
  {
   "cell_type": "code",
   "execution_count": 5,
   "id": "3406c3e3",
   "metadata": {},
   "outputs": [
    {
     "data": {
      "text/plain": [
       "5000"
      ]
     },
     "execution_count": 5,
     "metadata": {},
     "output_type": "execute_result"
    }
   ],
   "source": [
    "before = data.shape[0]\n",
    "before"
   ]
  },
  {
   "cell_type": "markdown",
   "id": "0614f29a",
   "metadata": {},
   "source": [
    "### <font color = \"#4BA3C3\">Признаки</font>\n",
    "\n",
    "**Признаки**:\n",
    "* Пол \n",
    "* Возраст застрахованного\n",
    "* Зарплата  застрахованного\n",
    "* Количество членов его семьи\n",
    "\n",
    "**Целевой признак**: \n",
    "\n",
    "Количество страховых выплат клиенту за последние 5 лет."
   ]
  },
  {
   "cell_type": "markdown",
   "id": "fa8a2873",
   "metadata": {},
   "source": [
    "<div style=\"border-radius: 15px; border:solid #4BA3C3 2px; padding: 20px\"> <h3 style=\"color:#4BA3C3; margin-bottom:20px\">Вывод </h3>\n",
    "    \n",
    "* Таблица содержит **5000** строк в **5** столбцах. При первичном анализе можно отметить отсутствие **пропусков** в таблице.\n",
    "* Таблица содержит как **категориальные**, так и **количественные** значения. \n",
    "* Каждая строка в таблице содержит информацию об **одном клиенте** страховой компании.    \n",
    "* **Целевым признаком** исследования является **количество страховых выплат** клиенту за последние 5 лет."
   ]
  },
  {
   "cell_type": "markdown",
   "id": "1e5498d9",
   "metadata": {},
   "source": [
    "## <font color = \"#175676\"> Предобработка данных </font>\n",
    "\n",
    "По результатам первичного анализа данных можем отметить, что изменение типов данных в датасете не потребуется. Пропуски в данных также отсутствуют.\n",
    "\n",
    "**Этапы предобработки данных:**\n",
    "\n",
    "1. Переименование столбцов\n",
    "1. Изменение типов данных\n",
    "1. Поиск и обработка дубликатов\n",
    "1. Анализ распределения данных\n",
    "1. Анализ корреляций параметров\n",
    "\n",
    "### <font color = \"#4BA3C3\">Переименование столбцов</font>"
   ]
  },
  {
   "cell_type": "code",
   "execution_count": 6,
   "id": "0c3d8ba2",
   "metadata": {},
   "outputs": [
    {
     "data": {
      "text/plain": [
       "Index(['Пол', 'Возраст', 'Зарплата', 'Члены семьи', 'Страховые выплаты'], dtype='object')"
      ]
     },
     "execution_count": 6,
     "metadata": {},
     "output_type": "execute_result"
    }
   ],
   "source": [
    "data.columns"
   ]
  },
  {
   "cell_type": "code",
   "execution_count": 7,
   "id": "15ed1d16",
   "metadata": {},
   "outputs": [
    {
     "data": {
      "text/plain": [
       "Index(['gender', 'age', 'salary', 'family_members', 'insurance_payments'], dtype='object')"
      ]
     },
     "execution_count": 7,
     "metadata": {},
     "output_type": "execute_result"
    }
   ],
   "source": [
    "data = data.rename(\n",
    "    columns={\n",
    "        'Пол': 'gender',\n",
    "        'Возраст': 'age',\n",
    "        'Зарплата': 'salary',\n",
    "        'Члены семьи': 'family_members',\n",
    "        'Страховые выплаты': 'insurance_payments'\n",
    "    })\n",
    "\n",
    "# Проверка успешности переименования столбцов\n",
    "data.columns"
   ]
  },
  {
   "cell_type": "markdown",
   "id": "05121eec",
   "metadata": {},
   "source": [
    "### <font color = \"#4BA3C3\">Изменение типов данных</font>\n",
    "\n",
    "Для уменьшения объемов используемой памяти изменим типы данных с помощью `to_numeric()`."
   ]
  },
  {
   "cell_type": "code",
   "execution_count": 8,
   "id": "44d682ba",
   "metadata": {},
   "outputs": [
    {
     "name": "stdout",
     "output_type": "stream",
     "text": [
      "<class 'pandas.core.frame.DataFrame'>\n",
      "RangeIndex: 5000 entries, 0 to 4999\n",
      "Data columns (total 5 columns):\n",
      " #   Column              Non-Null Count  Dtype  \n",
      "---  ------              --------------  -----  \n",
      " 0   gender              5000 non-null   int64  \n",
      " 1   age                 5000 non-null   float64\n",
      " 2   salary              5000 non-null   float64\n",
      " 3   family_members      5000 non-null   int64  \n",
      " 4   insurance_payments  5000 non-null   int64  \n",
      "dtypes: float64(2), int64(3)\n",
      "memory usage: 195.4 KB\n"
     ]
    }
   ],
   "source": [
    "data.info()"
   ]
  },
  {
   "cell_type": "code",
   "execution_count": 9,
   "id": "59a945c2",
   "metadata": {},
   "outputs": [
    {
     "name": "stdout",
     "output_type": "stream",
     "text": [
      "<class 'pandas.core.frame.DataFrame'>\n",
      "RangeIndex: 5000 entries, 0 to 4999\n",
      "Data columns (total 5 columns):\n",
      " #   Column              Non-Null Count  Dtype  \n",
      "---  ------              --------------  -----  \n",
      " 0   gender              5000 non-null   int8   \n",
      " 1   age                 5000 non-null   int8   \n",
      " 2   salary              5000 non-null   float64\n",
      " 3   family_members      5000 non-null   int8   \n",
      " 4   insurance_payments  5000 non-null   int8   \n",
      "dtypes: float64(1), int8(4)\n",
      "memory usage: 58.7 KB\n"
     ]
    }
   ],
   "source": [
    "data['gender'] = pd.to_numeric(\n",
    "    data['gender'], \n",
    "    downcast='integer'\n",
    ")\n",
    "\n",
    "data['age'] = pd.to_numeric(\n",
    "    data['age'], \n",
    "    downcast='integer'\n",
    ")\n",
    "\n",
    "data['salary'] = pd.to_numeric(\n",
    "    data['salary'], \n",
    "    downcast='integer'\n",
    ")\n",
    "\n",
    "data['family_members'] = pd.to_numeric(\n",
    "    data['family_members'], \n",
    "    downcast='integer'\n",
    ")\n",
    "\n",
    "data['insurance_payments'] = pd.to_numeric(\n",
    "    data['insurance_payments'], \n",
    "    downcast='integer'\n",
    ")\n",
    "\n",
    "data.info()"
   ]
  },
  {
   "cell_type": "markdown",
   "id": "370452eb",
   "metadata": {},
   "source": [
    "Объем датасета уменьшился более чем в три раза.\n",
    "\n",
    "### <font color = \"#4BA3C3\">Поиск и обработка дубликатов</font>\n",
    "\n",
    "Проверим наличие дубликатов в датасете."
   ]
  },
  {
   "cell_type": "code",
   "execution_count": 10,
   "id": "fdcd48e3",
   "metadata": {},
   "outputs": [
    {
     "data": {
      "text/plain": [
       "153"
      ]
     },
     "execution_count": 10,
     "metadata": {},
     "output_type": "execute_result"
    }
   ],
   "source": [
    "data.duplicated().sum()"
   ]
  },
  {
   "cell_type": "markdown",
   "id": "1f77b492",
   "metadata": {},
   "source": [
    "Выведем повторяющиеся строки."
   ]
  },
  {
   "cell_type": "code",
   "execution_count": 11,
   "id": "40425f38",
   "metadata": {},
   "outputs": [
    {
     "data": {
      "text/html": [
       "<div>\n",
       "<style scoped>\n",
       "    .dataframe tbody tr th:only-of-type {\n",
       "        vertical-align: middle;\n",
       "    }\n",
       "\n",
       "    .dataframe tbody tr th {\n",
       "        vertical-align: top;\n",
       "    }\n",
       "\n",
       "    .dataframe thead th {\n",
       "        text-align: right;\n",
       "    }\n",
       "</style>\n",
       "<table border=\"1\" class=\"dataframe\">\n",
       "  <thead>\n",
       "    <tr style=\"text-align: right;\">\n",
       "      <th></th>\n",
       "      <th>gender</th>\n",
       "      <th>age</th>\n",
       "      <th>salary</th>\n",
       "      <th>family_members</th>\n",
       "      <th>insurance_payments</th>\n",
       "    </tr>\n",
       "  </thead>\n",
       "  <tbody>\n",
       "    <tr>\n",
       "      <th>2955</th>\n",
       "      <td>1</td>\n",
       "      <td>32</td>\n",
       "      <td>21600.0</td>\n",
       "      <td>0</td>\n",
       "      <td>0</td>\n",
       "    </tr>\n",
       "    <tr>\n",
       "      <th>2988</th>\n",
       "      <td>1</td>\n",
       "      <td>32</td>\n",
       "      <td>21600.0</td>\n",
       "      <td>0</td>\n",
       "      <td>0</td>\n",
       "    </tr>\n",
       "    <tr>\n",
       "      <th>361</th>\n",
       "      <td>0</td>\n",
       "      <td>50</td>\n",
       "      <td>24700.0</td>\n",
       "      <td>1</td>\n",
       "      <td>2</td>\n",
       "    </tr>\n",
       "    <tr>\n",
       "      <th>2869</th>\n",
       "      <td>0</td>\n",
       "      <td>50</td>\n",
       "      <td>24700.0</td>\n",
       "      <td>1</td>\n",
       "      <td>2</td>\n",
       "    </tr>\n",
       "    <tr>\n",
       "      <th>333</th>\n",
       "      <td>0</td>\n",
       "      <td>32</td>\n",
       "      <td>25600.0</td>\n",
       "      <td>1</td>\n",
       "      <td>0</td>\n",
       "    </tr>\n",
       "    <tr>\n",
       "      <th>4230</th>\n",
       "      <td>0</td>\n",
       "      <td>32</td>\n",
       "      <td>25600.0</td>\n",
       "      <td>1</td>\n",
       "      <td>0</td>\n",
       "    </tr>\n",
       "  </tbody>\n",
       "</table>\n",
       "</div>"
      ],
      "text/plain": [
       "      gender  age   salary  family_members  insurance_payments\n",
       "2955       1   32  21600.0               0                   0\n",
       "2988       1   32  21600.0               0                   0\n",
       "361        0   50  24700.0               1                   2\n",
       "2869       0   50  24700.0               1                   2\n",
       "333        0   32  25600.0               1                   0\n",
       "4230       0   32  25600.0               1                   0"
      ]
     },
     "execution_count": 11,
     "metadata": {},
     "output_type": "execute_result"
    }
   ],
   "source": [
    "data[\n",
    "    data.duplicated(keep=False)\n",
    "].sort_values(\n",
    "    by='salary', \n",
    "    ascending=True\n",
    ").head(6)"
   ]
  },
  {
   "cell_type": "markdown",
   "id": "2352f8d2",
   "metadata": {},
   "source": [
    "Никаких очевидных закономерностей в повторяющихся строках не обнаружено. Количество пропусков в датасете не большое, для целей данного исследования можем оставить данные как есть. Возможную причину возникновения дубликатов стоит уточнить у разработчиков."
   ]
  },
  {
   "cell_type": "markdown",
   "id": "154aea34",
   "metadata": {},
   "source": [
    "### <font color = \"#4BA3C3\">Анализ распределения признаков</font>\n",
    "\n",
    "С помощью функции `describe_boxplot_hist()` проанализируем параметры описательной статистики и распределение для количественных данных в таблице."
   ]
  },
  {
   "cell_type": "code",
   "execution_count": 12,
   "id": "779a6de2",
   "metadata": {},
   "outputs": [],
   "source": [
    "def describe_boxplot_hist(df, input_column):\n",
    "\n",
    "# Показатели описательной статистики\n",
    "    print(\n",
    "        df[input_column].describe()\n",
    "    )\n",
    "\n",
    "# Диаграмма размаха \n",
    "    flierprops = dict(\n",
    "        marker='o', \n",
    "        markerfacecolor='None', \n",
    "        markersize=3,  \n",
    "        markeredgecolor='#D62839'\n",
    "    )\n",
    "    \n",
    "    sns.set(\n",
    "        rc={\n",
    "            'figure.figsize':(16,1)\n",
    "        })\n",
    "    \n",
    "    ax = sns.boxplot(\n",
    "        x=df[input_column],\n",
    "        showmeans=True,\n",
    "        color =\"#CCE6F4\",\n",
    "        width = .4,\n",
    "        meanprops={\n",
    "            \"marker\":\"o\",\n",
    "            \"markerfacecolor\":\"#4BA3C3\", \n",
    "            \"markeredgecolor\":\"#175676\",\n",
    "            \"markersize\":\"8\"\n",
    "        },\n",
    "        flierprops = flierprops\n",
    "    )\n",
    "    \n",
    "    plt.title(\n",
    "        'Диаграмма размаха для значений в столбце {0}'.format(\n",
    "            input_column.upper()\n",
    "        ), \n",
    "        fontsize=15\n",
    "    )\n",
    "    \n",
    "# Гистограмма    \n",
    "    fig= plt.subplots(\n",
    "        figsize=(16,2.5)\n",
    "    )\n",
    "    \n",
    "    sns.distplot(\n",
    "        df[input_column], \n",
    "        color = '#4BA3C3'\n",
    "    ).set_title(\n",
    "        'Гистограмма значений в столбце {0}'.format(\n",
    "            input_column.upper()\n",
    "        ), \n",
    "        fontsize=15\n",
    "    )"
   ]
  },
  {
   "cell_type": "markdown",
   "id": "7e1b3f5e",
   "metadata": {},
   "source": [
    "Большинство признаков в таблице являются количественными (кроме пола застрахованного, содержащегося в столбце `gender`)"
   ]
  },
  {
   "cell_type": "markdown",
   "id": "3f77ae1d",
   "metadata": {},
   "source": [
    "#### Возраст клиента"
   ]
  },
  {
   "cell_type": "code",
   "execution_count": 13,
   "id": "a780f278",
   "metadata": {},
   "outputs": [
    {
     "name": "stdout",
     "output_type": "stream",
     "text": [
      "count    5000.000000\n",
      "mean       30.952800\n",
      "std         8.440807\n",
      "min        18.000000\n",
      "25%        24.000000\n",
      "50%        30.000000\n",
      "75%        37.000000\n",
      "max        65.000000\n",
      "Name: age, dtype: float64\n"
     ]
    },
    {
     "data": {
      "image/png": "[encoded data removed]",
      "text/plain": [
       "<Figure size 1152x72 with 1 Axes>"
      ]
     },
     "metadata": {},
     "output_type": "display_data"
    },
    {
     "data": {
      "image/png": "[encoded data removed]",
      "text/plain": [
       "<Figure size 1152x180 with 1 Axes>"
      ]
     },
     "metadata": {},
     "output_type": "display_data"
    }
   ],
   "source": [
    "describe_boxplot_hist(data, 'age')"
   ]
  },
  {
   "cell_type": "markdown",
   "id": "e97982e8",
   "metadata": {},
   "source": [
    "Для значений в столбце **`age`** заметно некоторое смещение распределения влево, поскольку медиана меньше среднего. Также на диаграмме размаха видны выбросы справа от \"уса\", однако эти значения не являются аномальными, поэтому оставим данные как есть."
   ]
  },
  {
   "cell_type": "markdown",
   "id": "ec40f2a4",
   "metadata": {},
   "source": [
    "#### Зарплата застрахованного "
   ]
  },
  {
   "cell_type": "code",
   "execution_count": 14,
   "id": "40141711",
   "metadata": {},
   "outputs": [
    {
     "name": "stdout",
     "output_type": "stream",
     "text": [
      "count     5000.000000\n",
      "mean     39916.360000\n",
      "std       9900.083569\n",
      "min       5300.000000\n",
      "25%      33300.000000\n",
      "50%      40200.000000\n",
      "75%      46600.000000\n",
      "max      79000.000000\n",
      "Name: salary, dtype: float64\n"
     ]
    },
    {
     "data": {
      "image/png": "[encoded data removed]",
      "text/plain": [
       "<Figure size 1152x72 with 1 Axes>"
      ]
     },
     "metadata": {},
     "output_type": "display_data"
    },
    {
     "data": {
      "image/png": "[encoded data removed]",
      "text/plain": [
       "<Figure size 1152x180 with 1 Axes>"
      ]
     },
     "metadata": {},
     "output_type": "display_data"
    }
   ],
   "source": [
    "describe_boxplot_hist(data, 'salary')"
   ]
  },
  {
   "cell_type": "markdown",
   "id": "84d4aeaa",
   "metadata": {},
   "source": [
    "Распределение значений в столбце **`salary`** похоже на нормальное и практически не смещено. Медиана и среднее в этом столбце почти совпадают, что видно на диаграмме размаха и подтверждается параметрами описательной статистики. \n",
    "\n",
    "В этом столбце также можно отметить наличие выбросов с обеих сторон от \"усов\" боксплота. Без консультации с разработчиками не стоит удалять выбросы, поскольку такие данные не обязательно являются аномальными. Оставим данные как есть."
   ]
  },
  {
   "cell_type": "markdown",
   "id": "a0a4ad7f",
   "metadata": {},
   "source": [
    "#### Количество членов семьи"
   ]
  },
  {
   "cell_type": "code",
   "execution_count": 15,
   "id": "5ed0dfc3",
   "metadata": {},
   "outputs": [
    {
     "data": {
      "text/plain": [
       "1    1814\n",
       "0    1513\n",
       "2    1071\n",
       "3     439\n",
       "4     124\n",
       "5      32\n",
       "6       7\n",
       "Name: family_members, dtype: int64"
      ]
     },
     "execution_count": 15,
     "metadata": {},
     "output_type": "execute_result"
    }
   ],
   "source": [
    "data['family_members'].value_counts()"
   ]
  },
  {
   "cell_type": "markdown",
   "id": "29a32596",
   "metadata": {},
   "source": [
    "Данные в столбце **`family_members`** носят дискретный характер - для каждого из объектов они принимают одно из 7 цельночисленных значений (**от 0 до 6**). В этом столбце также не обнаружено аномальных значений. Для более чем **96%** клиентов в данной выборке количество членов семьи **не более 3**. "
   ]
  },
  {
   "cell_type": "markdown",
   "id": "44971e83",
   "metadata": {},
   "source": [
    "#### Количество страховых выплат за 5 лет"
   ]
  },
  {
   "cell_type": "code",
   "execution_count": 16,
   "id": "768f4030",
   "metadata": {},
   "outputs": [
    {
     "data": {
      "text/plain": [
       "0    4436\n",
       "1     423\n",
       "2     115\n",
       "3      18\n",
       "4       7\n",
       "5       1\n",
       "Name: insurance_payments, dtype: int64"
      ]
     },
     "execution_count": 16,
     "metadata": {},
     "output_type": "execute_result"
    }
   ],
   "source": [
    "data['insurance_payments'].value_counts()"
   ]
  },
  {
   "cell_type": "markdown",
   "id": "bc7877d9",
   "metadata": {},
   "source": [
    "В этом столбце данные также носят дискретный характер - принимают одно из **целых значений от 0 до 5**. Большинство клиентов (**более 88%**) не получали страховых выплат за 5 лет, **8%** клиентов получили **одну** выплату за этот период. **Две и более** выплаты получили менее **3%** застрахованных."
   ]
  },
  {
   "cell_type": "markdown",
   "id": "da0b05a9",
   "metadata": {},
   "source": [
    "#### Пол застрахованного\n",
    "\n",
    "В этом столбце содержатся категориальные данные, поэтому проанализируем их с помощью функции `value_counts()`."
   ]
  },
  {
   "cell_type": "code",
   "execution_count": 17,
   "id": "4ed82f74",
   "metadata": {},
   "outputs": [
    {
     "data": {
      "text/plain": [
       "0    2505\n",
       "1    2495\n",
       "Name: gender, dtype: int64"
      ]
     },
     "execution_count": 17,
     "metadata": {},
     "output_type": "execute_result"
    }
   ],
   "source": [
    "data['gender'].value_counts()"
   ]
  },
  {
   "cell_type": "markdown",
   "id": "87081bd7",
   "metadata": {},
   "source": [
    "Аномальных значений в столбце **`gender`** нет. Данные между значениями **1** и **0** распределены практически поровну. "
   ]
  },
  {
   "cell_type": "markdown",
   "id": "4159563c",
   "metadata": {},
   "source": [
    "### <font color = \"#4BA3C3\">Анализ корреляций параметров</font>\n",
    "\n",
    "Построим тепловую карту для коэффициента Пирсона для каждой пары параметров в датасете."
   ]
  },
  {
   "cell_type": "code",
   "execution_count": 18,
   "id": "2909366c",
   "metadata": {},
   "outputs": [
    {
     "data": {
      "image/png": "[encoded data removed]",
      "text/plain": [
       "<Figure size 432x432 with 2 Axes>"
      ]
     },
     "metadata": {},
     "output_type": "display_data"
    }
   ],
   "source": [
    "sns.set(\n",
    "    rc={\n",
    "        'figure.figsize':(6,6)\n",
    "    })\n",
    "\n",
    "sns.heatmap(\n",
    "    data.corr(), \n",
    "    annot = True, \n",
    "    vmin=-1, \n",
    "    vmax=1, \n",
    "    center= 0, \n",
    "    cmap= 'vlag', \n",
    "    square=True\n",
    ");"
   ]
  },
  {
   "cell_type": "markdown",
   "id": "b617f469",
   "metadata": {},
   "source": [
    "Интерпретируем значения коэффициента Пирсона следующим образом:\n",
    "\n",
    "| Значение  | Интерпретация |\n",
    "| ------------- | ------------- |\n",
    "| от 0 до 0,3  | очень слабая  |\n",
    "| от 0,3 до 0,5  | слабая  |\n",
    "| от 0, 5 до 0,7  | средняя  |\n",
    "| от 0,7 до 0,9  | высокая  |\n",
    "| от 0,9 до 1  | очень высокая  |\n",
    "\n",
    "\n",
    "Большинство пар параметров имеют слабую или вообще отсутствие корреляции между собой. **Средняя положительная** корреляция есть только между параметрами **`insurance_payment`** и **`age`**.\n"
   ]
  },
  {
   "cell_type": "markdown",
   "id": "a7294905",
   "metadata": {},
   "source": [
    "<div style=\"border-radius: 15px; border:solid #4BA3C3 2px; padding: 20px\"> <h3 style=\"color:#4BA3C3; margin-bottom:20px\">Вывод </h3>\n",
    "    \n",
    "* Столбцы были **переименованы** в \"змеиный\" регистр.\n",
    "* С помощью **изменения типов** данных объем памяти, используемой при обработке данных, **уменьшилось в три раза**.\n",
    "* Было обнаружено **153 строки-дубликата**.\n",
    "* При анализе распределения данных в столбцах **`age`** и **`salary`** обнаружено наличие выбросов. **Данные оставлены без изменений**, поскольку выбросы вероятнее всего не являются аномальными.\n",
    "* Большинство пар параметров имеют слабую или вообще отсутствие корреляции между собой. **Средняя положительная** корреляция есть только между параметрами **`insurance_payment`** и **`age`**."
   ]
  },
  {
   "cell_type": "markdown",
   "id": "45c1aa1f",
   "metadata": {},
   "source": [
    "## <font color = \"#175676\"> Обоснование преобразования </font>\n",
    "\n",
    "\n",
    "<font color = \"#4BA3C3\"> <b> Обозначения:</b></font>\n",
    "\n",
    "- $X$ — матрица признаков (нулевой столбец состоит из единиц)\n",
    "\n",
    "- $y$ — вектор целевого признака\n",
    "\n",
    "- $P$ — матрица, на которую умножаются признаки\n",
    "\n",
    "- $w$ — вектор весов линейной регрессии (нулевой элемент равен сдвигу)\n",
    "\n",
    "\n",
    "<font color = \"#4BA3C3\"> <b> Предсказания:</b></font>\n",
    "\n",
    "\n",
    "$$\n",
    "a = Xw\n",
    "$$\n",
    "\n",
    "\n",
    "<font color = \"#4BA3C3\"> <b> Задача обучения:</b></font>\n",
    "\n",
    "\n",
    "$$\n",
    "w = \\arg\\min_w MSE(Xw, y)\n",
    "$$\n",
    "\n",
    "\n",
    "<font color = \"#4BA3C3\"> <b> Формула обучения:</b></font>\n",
    "\n",
    "\n",
    "$$\n",
    "w = (X^T X)^{-1} X^T y\n",
    "$$\n",
    "\n",
    "\n",
    "<font color = \"#4BA3C3\"> <b> Ответ:</b></font>\n",
    "\n",
    "<b> При умножении матрицы признаков на обратимую матрицу качество линейной регрессии не изменится.</b>"
   ]
  },
  {
   "cell_type": "markdown",
   "id": "200e4449",
   "metadata": {},
   "source": [
    "<font color = \"#4BA3C3\"> <b> Обоснование:</b></font>\n",
    "\n",
    "Представим новую матрицу признаков, полученную умножением исходной матрицы $X$ на обратимую матрицу $P$:\n",
    "\n",
    "<font color = \"#D62839\"> <b>$$\n",
    "X' = X P\n",
    "$$</font> </b>\n",
    "\n",
    "Вектор весов линейной регрессии для новой матрицы признаков будет иметь следующий вид:\n",
    "\n",
    "\n",
    "$$\n",
    "w' = (X'^T X')^{-1} X'^T y\n",
    "$$\n",
    "\n",
    "\n",
    "Преобразуем, подставив значение $X'$:\n",
    "\n",
    "\n",
    "$$\n",
    "w' = ((X P)^T X P)^{-1} (X P)^T y\n",
    "$$\n",
    "\n",
    "\n",
    "Преобразуем полученное выражение:\n",
    "    \n",
    "$$\n",
    "w' = (P^{T} X^T X P)^{-1} P^T X^T y\n",
    "$$\n",
    "\n",
    "$$\n",
    "w' = P^{-1} (X^{T} X)^{-1} (P^{T})^{-1} P^T X^T y\n",
    "$$\n",
    "\n",
    "$$\n",
    "w' = P^{-1} (X^{T} X)^{-1} E X^T y\n",
    "$$\n",
    "</font>\n",
    "\n",
    "\n",
    "Подставим $w$ вместо $(X^{T} X)^{-1} X^T y$, и учтем что при умножении на единичную матрицу матрица не изменяется: \n",
    "\n",
    "\n",
    "<font color = \"#D62839\"> <b>$$\n",
    "w' = P^{-1} w\n",
    "$$</b></font>\n",
    "\n",
    "\n",
    "Подставим полученное выражение в формулу предсказания $a$:\n",
    "\n",
    "\n",
    "$$\n",
    "a = Xw\n",
    "$$\n",
    "\n",
    "$$\n",
    "a' = X'w'\n",
    "$$\n",
    "\n",
    "\n",
    "Получаем следующее:\n",
    "\n",
    "\n",
    "$$\n",
    "a' = X P P^{-1} w\n",
    "$$\n",
    "\n",
    "\n",
    "Учитывая, что результатом умножения матрицы на обратную самой себе является единичная матрица:\n",
    "\n",
    "\n",
    "<font color = \"#BA324F\"> <b> $$\n",
    "a' = X w\n",
    "$$</b></font>\n",
    " \n",
    " \n",
    "<b> Таким образом мы доказали, что при умножении матрицы признаков на обратимую матрицу результаты работы функции линейной регрессии не изменяются.</b> "
   ]
  },
  {
   "cell_type": "markdown",
   "id": "51b00f6f",
   "metadata": {},
   "source": [
    "<div style=\"border-radius: 15px; border:solid #4BA3C3 2px; padding: 20px\"> <h3 style=\"color:#4BA3C3; margin-bottom:20px\">Вывод </h3>\n",
    "    \n",
    "Доказано, что при умножении **матрицы признаков** на **обратимую** матрицу качество линейной регрессии **не изменится**."
   ]
  },
  {
   "cell_type": "markdown",
   "id": "4acabcd9",
   "metadata": {},
   "source": [
    "## <font color = \"#175676\"> Алгоритм преобразования </font>\n",
    "\n",
    "Для преобразования данных предпримем следующие шаги:\n",
    "\n",
    "1. Сгенерировать случайную квадратную матрицу размером 4х4.\n",
    "\n",
    "2. Проверить сгенерированную матрицу на обратимость.\n",
    "\n",
    "3. Зашифровать данные, умножив матрицу признаков на подготовленную матрицу.\n",
    "\n",
    "4. Обучить модель линейной регрессии на полученных зашифрованных признаках.\n",
    "        \n",
    "5. Рассчитать метрики модели с использованием полученных предсказаний.\n",
    "        \n",
    "6. Сравнить метрики, полученные при обучении модели на исходных и зашифрованных данных."
   ]
  },
  {
   "cell_type": "markdown",
   "id": "99a27310",
   "metadata": {},
   "source": [
    "## <font color = \"#175676\"> Обучение модели на исходном датасете </font>\n",
    "\n",
    "### <font color = \"#4BA3C3\">Выделение выборок</font>\n",
    "\n",
    "Целевым признаком в данном исследовании является количество страховых выплат клиенту за последние 5 лет. Эти данные содержатся в столбце `insurance_payments`."
   ]
  },
  {
   "cell_type": "code",
   "execution_count": 19,
   "id": "080ab981",
   "metadata": {},
   "outputs": [],
   "source": [
    "# Признаки\n",
    "features = data.drop(\n",
    "    ['insurance_payments'], \n",
    "    axis = 1\n",
    ") \n",
    "\n",
    "# Целевой признак\n",
    "target = data[\n",
    "    'insurance_payments'\n",
    "]"
   ]
  },
  {
   "cell_type": "markdown",
   "id": "968b934a",
   "metadata": {},
   "source": [
    "Выделим тестовую и обучающую выборки из датасета."
   ]
  },
  {
   "cell_type": "code",
   "execution_count": 20,
   "id": "c15858de",
   "metadata": {},
   "outputs": [],
   "source": [
    "(\n",
    "    features_train, \n",
    "    features_test, \n",
    "    target_train, \n",
    "    target_test\n",
    ") = train_test_split(\n",
    "    features, \n",
    "    target, \n",
    "    test_size=0.2, \n",
    "    random_state=RANDOM_STATE\n",
    ")"
   ]
  },
  {
   "cell_type": "markdown",
   "id": "73e592af",
   "metadata": {},
   "source": [
    "Проверим корректность создания выборок и выделения признаков."
   ]
  },
  {
   "cell_type": "code",
   "execution_count": 21,
   "id": "d9aed441",
   "metadata": {},
   "outputs": [
    {
     "data": {
      "text/html": [
       "<div>\n",
       "<style scoped>\n",
       "    .dataframe tbody tr th:only-of-type {\n",
       "        vertical-align: middle;\n",
       "    }\n",
       "\n",
       "    .dataframe tbody tr th {\n",
       "        vertical-align: top;\n",
       "    }\n",
       "\n",
       "    .dataframe thead th {\n",
       "        text-align: right;\n",
       "    }\n",
       "</style>\n",
       "<table border=\"1\" class=\"dataframe\">\n",
       "  <thead>\n",
       "    <tr style=\"text-align: right;\">\n",
       "      <th></th>\n",
       "      <th>Выборка</th>\n",
       "      <th>Признаки</th>\n",
       "      <th>Целевой признак</th>\n",
       "    </tr>\n",
       "  </thead>\n",
       "  <tbody>\n",
       "    <tr>\n",
       "      <th>0</th>\n",
       "      <td>Исходная</td>\n",
       "      <td>(5000, 5)</td>\n",
       "      <td>NaN</td>\n",
       "    </tr>\n",
       "    <tr>\n",
       "      <th>1</th>\n",
       "      <td>Тестовая</td>\n",
       "      <td>(1000, 4)</td>\n",
       "      <td>(1000,)</td>\n",
       "    </tr>\n",
       "    <tr>\n",
       "      <th>2</th>\n",
       "      <td>Обучающая</td>\n",
       "      <td>(4000, 4)</td>\n",
       "      <td>(4000,)</td>\n",
       "    </tr>\n",
       "  </tbody>\n",
       "</table>\n",
       "</div>"
      ],
      "text/plain": [
       "     Выборка   Признаки Целевой признак\n",
       "0   Исходная  (5000, 5)             NaN\n",
       "1   Тестовая  (1000, 4)         (1000,)\n",
       "2  Обучающая  (4000, 4)         (4000,)"
      ]
     },
     "execution_count": 21,
     "metadata": {},
     "output_type": "execute_result"
    }
   ],
   "source": [
    "shape_vocab = {\n",
    "    'Выборка': [\n",
    "        'Исходная',\n",
    "        'Тестовая',\n",
    "        'Обучающая'\n",
    "    ],\n",
    "    'Признаки': [\n",
    "        data.shape,\n",
    "        features_test.shape,\n",
    "        features_train.shape\n",
    "    ],\n",
    "    'Целевой признак': [\n",
    "        'NaN',\n",
    "        target_test.shape,\n",
    "        target_train.shape\n",
    "    ]}\n",
    "\n",
    "shape_df = pd.DataFrame(\n",
    "    data=shape_vocab\n",
    ")\n",
    "shape_df"
   ]
  },
  {
   "cell_type": "markdown",
   "id": "ede8e903",
   "metadata": {},
   "source": [
    "### <font color = \"#4BA3C3\">Маcштабирование признаков</font>\n",
    "\n",
    "С помощью структуры `StandardScaler` приведем признаки к одному масштабу."
   ]
  },
  {
   "cell_type": "code",
   "execution_count": 22,
   "id": "16967ecd",
   "metadata": {},
   "outputs": [],
   "source": [
    "scaler = StandardScaler()\n",
    "scaler.fit(\n",
    "    features_train\n",
    ") \n",
    "features_train = scaler.transform(\n",
    "    features_train\n",
    ")\n",
    "features_test = scaler.transform(\n",
    "    features_test\n",
    ")\n",
    "pd.options.mode.chained_assignment = None"
   ]
  },
  {
   "cell_type": "markdown",
   "id": "0b0d663a",
   "metadata": {},
   "source": [
    "### <font color = \"#4BA3C3\">Обучение модели</font>\n",
    "\n",
    "Обучим модель линейной регрессии на исходных данных."
   ]
  },
  {
   "cell_type": "code",
   "execution_count": 23,
   "id": "4f821b47",
   "metadata": {},
   "outputs": [
    {
     "name": "stdout",
     "output_type": "stream",
     "text": [
      "Wall time: 4.98 ms\n"
     ]
    }
   ],
   "source": [
    "%%time\n",
    "model = LinearRegression()\n",
    "\n",
    "model.fit(\n",
    "    features_train, \n",
    "    target_train\n",
    ")\n",
    "\n",
    "prediction_unscrambled = model.predict(\n",
    "    features_test\n",
    ")"
   ]
  },
  {
   "cell_type": "markdown",
   "id": "9993172e",
   "metadata": {},
   "source": [
    "Рассчитаем метрики качества предсказания модели."
   ]
  },
  {
   "cell_type": "code",
   "execution_count": 24,
   "id": "f39a5b70",
   "metadata": {},
   "outputs": [
    {
     "data": {
      "text/html": [
       "<div>\n",
       "<style scoped>\n",
       "    .dataframe tbody tr th:only-of-type {\n",
       "        vertical-align: middle;\n",
       "    }\n",
       "\n",
       "    .dataframe tbody tr th {\n",
       "        vertical-align: top;\n",
       "    }\n",
       "\n",
       "    .dataframe thead th {\n",
       "        text-align: right;\n",
       "    }\n",
       "</style>\n",
       "<table border=\"1\" class=\"dataframe\">\n",
       "  <thead>\n",
       "    <tr style=\"text-align: right;\">\n",
       "      <th></th>\n",
       "      <th>Значения метрик</th>\n",
       "      <th>Исходные данные</th>\n",
       "    </tr>\n",
       "  </thead>\n",
       "  <tbody>\n",
       "    <tr>\n",
       "      <th>0</th>\n",
       "      <td>R2</td>\n",
       "      <td>0.4118</td>\n",
       "    </tr>\n",
       "    <tr>\n",
       "      <th>1</th>\n",
       "      <td>MSE</td>\n",
       "      <td>0.1101</td>\n",
       "    </tr>\n",
       "    <tr>\n",
       "      <th>2</th>\n",
       "      <td>RMSE</td>\n",
       "      <td>0.3318</td>\n",
       "    </tr>\n",
       "    <tr>\n",
       "      <th>3</th>\n",
       "      <td>MAE</td>\n",
       "      <td>0.2413</td>\n",
       "    </tr>\n",
       "  </tbody>\n",
       "</table>\n",
       "</div>"
      ],
      "text/plain": [
       "  Значения метрик  Исходные данные\n",
       "0              R2           0.4118\n",
       "1             MSE           0.1101\n",
       "2            RMSE           0.3318\n",
       "3             MAE           0.2413"
      ]
     },
     "execution_count": 24,
     "metadata": {},
     "output_type": "execute_result"
    }
   ],
   "source": [
    "metrics_vocab = {\n",
    "    'Значения метрик': [\n",
    "        'R2',\n",
    "        'MSE',\n",
    "        'RMSE',\n",
    "        'MAE'\n",
    "    ],\n",
    "    'Исходные данные': [\n",
    "        r2_score(\n",
    "            target_test, \n",
    "            prediction_unscrambled\n",
    "        ),\n",
    "        \n",
    "        mean_squared_error(\n",
    "            target_test, \n",
    "            prediction_unscrambled\n",
    "        ),\n",
    "        \n",
    "        mean_squared_error(\n",
    "            target_test, \n",
    "            prediction_unscrambled\n",
    "        ) ** 0.5,\n",
    "        \n",
    "        mean_absolute_error(\n",
    "            target_test, \n",
    "            prediction_unscrambled\n",
    "        )]}\n",
    "\n",
    "\n",
    "\n",
    "metrics_df = pd.DataFrame(\n",
    "    data=metrics_vocab\n",
    ")\n",
    "metrics_df.round(4)"
   ]
  },
  {
   "cell_type": "markdown",
   "id": "6ad47414",
   "metadata": {},
   "source": [
    "<div style=\"border-radius: 15px; border:solid #4BA3C3 2px; padding: 20px\"> <h3 style=\"color:#4BA3C3; margin-bottom:20px\">Вывод </h3>\n",
    "    \n",
    "* Проведено выделение **признаков**, данные разделены на **выборки** и приведены к одному **масштабу**.\n",
    "    \n",
    "* Модель **линейной регрессии** обучена на исходных данных, значение метрики **R2** составило **0.4118**."
   ]
  },
  {
   "cell_type": "markdown",
   "id": "b9f9e97a",
   "metadata": {},
   "source": [
    "## <font color = \"#175676\"> Защита данных с помощью матрицы </font>\n",
    "\n",
    "### <font color = \"#4BA3C3\">Подготовка матрицы</font>\n",
    "\n",
    "Умножим исходные данные на обратимую матрицу для зашифровки. Для этого подготовим матрицу из **4 строк** и **4 столбцов** с помощью функции `np.random.normal`. "
   ]
  },
  {
   "cell_type": "code",
   "execution_count": 25,
   "id": "0c6102cf",
   "metadata": {},
   "outputs": [
    {
     "data": {
      "text/plain": [
       "array([[ 0.52069131,  0.1655793 , -0.11722427, -0.93832972],\n",
       "       [ 0.89589142,  0.15359337,  0.03720921,  1.59719445],\n",
       "       [-1.55722481, -0.14656017, -0.42922876,  1.29284803],\n",
       "       [-0.83780388,  0.14756875,  0.01275669, -0.88770669]])"
      ]
     },
     "execution_count": 25,
     "metadata": {},
     "output_type": "execute_result"
    }
   ],
   "source": [
    "matrix = np.random.normal(\n",
    "    size=(4, 4)\n",
    ")\n",
    "matrix"
   ]
  },
  {
   "cell_type": "markdown",
   "id": "bcfcc213",
   "metadata": {},
   "source": [
    "Проверим, что полученная матрица обратима."
   ]
  },
  {
   "cell_type": "code",
   "execution_count": 26,
   "id": "c9b83689",
   "metadata": {},
   "outputs": [
    {
     "data": {
      "text/plain": [
       "array([[ 0.44219579,  0.01253344, -0.13891314, -0.64717401],\n",
       "       [ 1.04944756,  2.36010066,  0.01172671,  3.15416422],\n",
       "       [-2.81605855,  0.30809827, -1.49368484,  1.35560181],\n",
       "       [-0.28334952,  0.38493215,  0.11158866,  0.02811058]])"
      ]
     },
     "execution_count": 26,
     "metadata": {},
     "output_type": "execute_result"
    }
   ],
   "source": [
    "i_matrix = np.linalg.inv(\n",
    "    matrix\n",
    ")\n",
    "i_matrix"
   ]
  },
  {
   "cell_type": "code",
   "execution_count": 27,
   "id": "47791c9a",
   "metadata": {},
   "outputs": [
    {
     "data": {
      "text/plain": [
       "array([[ 1.,  0., -0., -0.],\n",
       "       [ 0.,  1.,  0., -0.],\n",
       "       [-0.,  0.,  1.,  0.],\n",
       "       [ 0.,  0., -0.,  1.]])"
      ]
     },
     "execution_count": 27,
     "metadata": {},
     "output_type": "execute_result"
    }
   ],
   "source": [
    "(matrix @ i_matrix).round(3)"
   ]
  },
  {
   "cell_type": "markdown",
   "id": "37214184",
   "metadata": {},
   "source": [
    "С помощью функции **`np.linalg.inv()`** получена обратная матрица, и при умножении матриц получена единичная матрица, что доказывает обратимость исходной матрицы. Используем ее для зашифровки данных в исходной таблице."
   ]
  },
  {
   "cell_type": "markdown",
   "id": "71b41fac",
   "metadata": {},
   "source": [
    "\n",
    "\n",
    "### <font color = \"#4BA3C3\">Зашифровка данных</font>\n",
    "\n",
    "Умножим выборки на полученную матрицу **`matrix`**."
   ]
  },
  {
   "cell_type": "code",
   "execution_count": 28,
   "id": "8090f6ac",
   "metadata": {},
   "outputs": [],
   "source": [
    "scrambled_features_train = features_train.dot(\n",
    "    matrix\n",
    ")\n",
    "scrambled_features_test = features_test.dot(\n",
    "    matrix\n",
    ")"
   ]
  },
  {
   "cell_type": "markdown",
   "id": "4ff46d2a",
   "metadata": {},
   "source": [
    "Проверим, корректно ли проведено умножение, выведя объемы исходных и полученных выборок."
   ]
  },
  {
   "cell_type": "code",
   "execution_count": 29,
   "id": "84d29b83",
   "metadata": {},
   "outputs": [
    {
     "data": {
      "text/html": [
       "<div>\n",
       "<style scoped>\n",
       "    .dataframe tbody tr th:only-of-type {\n",
       "        vertical-align: middle;\n",
       "    }\n",
       "\n",
       "    .dataframe tbody tr th {\n",
       "        vertical-align: top;\n",
       "    }\n",
       "\n",
       "    .dataframe thead th {\n",
       "        text-align: right;\n",
       "    }\n",
       "</style>\n",
       "<table border=\"1\" class=\"dataframe\">\n",
       "  <thead>\n",
       "    <tr style=\"text-align: right;\">\n",
       "      <th></th>\n",
       "      <th>Выборка</th>\n",
       "      <th>Исходные данные</th>\n",
       "      <th>Защищенные данные</th>\n",
       "    </tr>\n",
       "  </thead>\n",
       "  <tbody>\n",
       "    <tr>\n",
       "      <th>0</th>\n",
       "      <td>Тестовая</td>\n",
       "      <td>(1000, 4)</td>\n",
       "      <td>(1000, 4)</td>\n",
       "    </tr>\n",
       "    <tr>\n",
       "      <th>1</th>\n",
       "      <td>Обучающая</td>\n",
       "      <td>(4000, 4)</td>\n",
       "      <td>(4000, 4)</td>\n",
       "    </tr>\n",
       "  </tbody>\n",
       "</table>\n",
       "</div>"
      ],
      "text/plain": [
       "     Выборка Исходные данные Защищенные данные\n",
       "0   Тестовая       (1000, 4)         (1000, 4)\n",
       "1  Обучающая       (4000, 4)         (4000, 4)"
      ]
     },
     "execution_count": 29,
     "metadata": {},
     "output_type": "execute_result"
    }
   ],
   "source": [
    "shape_vocab = {\n",
    "    'Выборка': [\n",
    "        'Тестовая',\n",
    "        'Обучающая'\n",
    "    ],\n",
    "    'Исходные данные': [\n",
    "        scrambled_features_test.shape,\n",
    "        scrambled_features_train.shape\n",
    "    ],\n",
    "    'Защищенные данные': [\n",
    "        features_test.shape,\n",
    "        features_train.shape\n",
    "    ]}\n",
    "\n",
    "shape_df = pd.DataFrame(\n",
    "    data=shape_vocab\n",
    ")\n",
    "shape_df"
   ]
  },
  {
   "cell_type": "markdown",
   "id": "b5533911",
   "metadata": {},
   "source": [
    "Размеры выборок не изменились, можем двигаться дальше. \n",
    "\n",
    "### <font color = \"#4BA3C3\">Обучение модели</font>\n",
    "\n",
    "Обучим модель линейной регрессии на полученных защищенных данных и проверим, изменятся ли метрики."
   ]
  },
  {
   "cell_type": "code",
   "execution_count": 30,
   "id": "acbe6958",
   "metadata": {},
   "outputs": [
    {
     "name": "stdout",
     "output_type": "stream",
     "text": [
      "Wall time: 2 ms\n"
     ]
    }
   ],
   "source": [
    "%%time\n",
    "model = LinearRegression()\n",
    "\n",
    "model.fit(\n",
    "    scrambled_features_train, \n",
    "    target_train\n",
    ")\n",
    "\n",
    "prediction_scrambled = model.predict(\n",
    "    scrambled_features_test\n",
    ")"
   ]
  },
  {
   "cell_type": "code",
   "execution_count": 31,
   "id": "8712e5f5",
   "metadata": {},
   "outputs": [
    {
     "data": {
      "text/html": [
       "<div>\n",
       "<style scoped>\n",
       "    .dataframe tbody tr th:only-of-type {\n",
       "        vertical-align: middle;\n",
       "    }\n",
       "\n",
       "    .dataframe tbody tr th {\n",
       "        vertical-align: top;\n",
       "    }\n",
       "\n",
       "    .dataframe thead th {\n",
       "        text-align: right;\n",
       "    }\n",
       "</style>\n",
       "<table border=\"1\" class=\"dataframe\">\n",
       "  <thead>\n",
       "    <tr style=\"text-align: right;\">\n",
       "      <th></th>\n",
       "      <th>Значения метрик</th>\n",
       "      <th>Исходные данные</th>\n",
       "      <th>Зашифрованные данные</th>\n",
       "    </tr>\n",
       "  </thead>\n",
       "  <tbody>\n",
       "    <tr>\n",
       "      <th>0</th>\n",
       "      <td>R2</td>\n",
       "      <td>0.4118</td>\n",
       "      <td>0.4118</td>\n",
       "    </tr>\n",
       "    <tr>\n",
       "      <th>1</th>\n",
       "      <td>MSE</td>\n",
       "      <td>0.1101</td>\n",
       "      <td>0.1101</td>\n",
       "    </tr>\n",
       "    <tr>\n",
       "      <th>2</th>\n",
       "      <td>RMSE</td>\n",
       "      <td>0.3318</td>\n",
       "      <td>0.3318</td>\n",
       "    </tr>\n",
       "    <tr>\n",
       "      <th>3</th>\n",
       "      <td>MAE</td>\n",
       "      <td>0.2413</td>\n",
       "      <td>0.2413</td>\n",
       "    </tr>\n",
       "  </tbody>\n",
       "</table>\n",
       "</div>"
      ],
      "text/plain": [
       "  Значения метрик  Исходные данные  Зашифрованные данные\n",
       "0              R2           0.4118                0.4118\n",
       "1             MSE           0.1101                0.1101\n",
       "2            RMSE           0.3318                0.3318\n",
       "3             MAE           0.2413                0.2413"
      ]
     },
     "execution_count": 31,
     "metadata": {},
     "output_type": "execute_result"
    }
   ],
   "source": [
    "metrics_vocab = {\n",
    "    'Значения метрик': [\n",
    "        'R2',\n",
    "        'MSE',\n",
    "        'RMSE',\n",
    "        'MAE'\n",
    "    ],\n",
    "    'Исходные данные': [\n",
    "        r2_score(\n",
    "            target_test, \n",
    "            prediction_unscrambled\n",
    "        ),\n",
    "        \n",
    "        mean_squared_error(\n",
    "            target_test, \n",
    "            prediction_unscrambled\n",
    "        ),\n",
    "        \n",
    "        mean_squared_error(\n",
    "            target_test, \n",
    "            prediction_unscrambled\n",
    "        ) ** 0.5,\n",
    "        \n",
    "        mean_absolute_error(\n",
    "            target_test, \n",
    "            prediction_unscrambled\n",
    "        )\n",
    "    ],\n",
    "    'Зашифрованные данные': [\n",
    "        r2_score(\n",
    "            target_test, \n",
    "            prediction_scrambled\n",
    "        ),\n",
    "        \n",
    "        mean_squared_error(\n",
    "            target_test, \n",
    "            prediction_scrambled\n",
    "        ),\n",
    "        \n",
    "        mean_squared_error(\n",
    "            target_test, \n",
    "            prediction_scrambled\n",
    "        ) ** 0.5,\n",
    "        \n",
    "        mean_absolute_error(\n",
    "            target_test, \n",
    "            prediction_scrambled\n",
    "        )]}\n",
    "\n",
    "\n",
    "metrics_df = pd.DataFrame(\n",
    "    data=metrics_vocab\n",
    ")\n",
    "metrics_df.round(4)"
   ]
  },
  {
   "cell_type": "markdown",
   "id": "9679ff1d",
   "metadata": {},
   "source": [
    "Как и ожидалось, при умножении признаков на обратимую матрицу ни одна из метрик регрессии не изменилась."
   ]
  },
  {
   "cell_type": "markdown",
   "id": "f7498372",
   "metadata": {},
   "source": [
    "<div style=\"border-radius: 15px; border:solid #4BA3C3 2px; padding: 20px\"> <h3 style=\"color:#4BA3C3; margin-bottom:20px\">Вывод </h3>\n",
    "    \n",
    "* Данные **зашифрованы** с помощью умножения на обратимую матрицу.\n",
    "\n",
    "* **Модель** линейной регрессии обучена на полученных **зашифрованных данных**.\n",
    "    \n",
    "* **Метрики линейной регрессии**, полученные на исходных и зашифрованных данных, **совпадают**."
   ]
  },
  {
   "cell_type": "markdown",
   "id": "19ff0aca",
   "metadata": {},
   "source": [
    "<div style=\"border-radius: 15px; border:solid #175676 2px; padding: 20px\"> <h2 style=\"color:#175676; margin-bottom:20px\">Общий вывод </h2>\n",
    "    \n",
    "* В исходной таблице содержалось **5000** строк в **5** столбцах, где каждая строка содержит информацию об **одном клиенте** страховой компании.\n",
    "* **Целевым признаком** исследования является **количество страховых выплат** клиенту за последние 5 лет.\n",
    "    \n",
    "    \n",
    "* Проведена предобработка данных:\n",
    "    \n",
    "    * Столбцы были **переименованы** в \"змеиный\" регистр.\n",
    "    * При анализе распределения данных обнаружено наличие выбросов. **Данные оставлены без изменений**, поскольку выбросы вероятнее всего не являются аномальными.\n",
    "    * Наличие **корреляции** между парами параметров в датасете **не обнаружено**. \n",
    "    \n",
    "    \n",
    "* Доказано, что при умножении **матрицы признаков** на **обратимую** матрицу качество линейной регрессии **не изменится**.\n",
    "    \n",
    "* Данные **зашифрованы** с помощью умножения матрицы признаков на обратимую матрицу.\n",
    "    \n",
    "* Модель **линейной регрессии** обучена на исходных  и зашифрованных данных. \n",
    "    \n",
    "  \n",
    "    \n",
    "<div style=\"border-radius: 15px; border:solid #BA324F 2.5px; padding: 20px\"> \n",
    "    \n",
    "* **Метрики линейной регрессии**, полученные на исходных и зашифрованных данных, **совпадают**, что свидетельствует о том, что **зашифровка данных не повлияла на качество предсказаний модели**.\n",
    "\n",
    "* Значение **коэффициента детерминации** составило **0.4118**."
   ]
  }
 ],
 "metadata": {
  "ExecuteTimeLog": [
   {
    "duration": 1546,
    "start_time": "2022-06-24T04:15:01.181Z"
   },
   {
    "duration": 191,
    "start_time": "2022-06-24T04:15:02.729Z"
   },
   {
    "duration": 0,
    "start_time": "2022-06-24T04:15:02.923Z"
   },
   {
    "duration": 0,
    "start_time": "2022-06-24T04:15:02.925Z"
   },
   {
    "duration": 0,
    "start_time": "2022-06-24T04:15:02.926Z"
   },
   {
    "duration": 0,
    "start_time": "2022-06-24T04:15:02.936Z"
   },
   {
    "duration": 0,
    "start_time": "2022-06-24T04:15:02.937Z"
   },
   {
    "duration": 0,
    "start_time": "2022-06-24T04:15:02.939Z"
   },
   {
    "duration": 0,
    "start_time": "2022-06-24T04:15:02.940Z"
   },
   {
    "duration": 0,
    "start_time": "2022-06-24T04:15:02.941Z"
   },
   {
    "duration": 0,
    "start_time": "2022-06-24T04:15:02.942Z"
   },
   {
    "duration": 0,
    "start_time": "2022-06-24T04:15:02.958Z"
   },
   {
    "duration": 0,
    "start_time": "2022-06-24T04:15:02.960Z"
   },
   {
    "duration": 1,
    "start_time": "2022-06-24T04:15:02.961Z"
   },
   {
    "duration": 0,
    "start_time": "2022-06-24T04:15:02.963Z"
   },
   {
    "duration": 0,
    "start_time": "2022-06-24T04:15:02.965Z"
   },
   {
    "duration": 0,
    "start_time": "2022-06-24T04:15:02.966Z"
   },
   {
    "duration": 0,
    "start_time": "2022-06-24T04:15:02.967Z"
   },
   {
    "duration": 0,
    "start_time": "2022-06-24T04:15:02.969Z"
   },
   {
    "duration": 0,
    "start_time": "2022-06-24T04:15:02.970Z"
   },
   {
    "duration": 0,
    "start_time": "2022-06-24T04:15:02.971Z"
   },
   {
    "duration": 0,
    "start_time": "2022-06-24T04:15:02.973Z"
   },
   {
    "duration": 0,
    "start_time": "2022-06-24T04:15:02.974Z"
   },
   {
    "duration": 0,
    "start_time": "2022-06-24T04:15:02.975Z"
   },
   {
    "duration": 0,
    "start_time": "2022-06-24T04:15:02.976Z"
   },
   {
    "duration": 0,
    "start_time": "2022-06-24T04:15:02.978Z"
   },
   {
    "duration": 0,
    "start_time": "2022-06-24T04:15:02.979Z"
   },
   {
    "duration": 0,
    "start_time": "2022-06-24T04:15:02.981Z"
   },
   {
    "duration": 0,
    "start_time": "2022-06-24T04:15:02.982Z"
   },
   {
    "duration": 0,
    "start_time": "2022-06-24T04:15:02.983Z"
   },
   {
    "duration": 0,
    "start_time": "2022-06-24T04:15:02.985Z"
   },
   {
    "duration": 0,
    "start_time": "2022-06-24T04:15:02.986Z"
   },
   {
    "duration": 0,
    "start_time": "2022-06-24T04:15:02.987Z"
   },
   {
    "duration": 0,
    "start_time": "2022-06-24T04:15:02.988Z"
   },
   {
    "duration": 0,
    "start_time": "2022-06-24T04:15:02.989Z"
   },
   {
    "duration": 0,
    "start_time": "2022-06-24T04:15:02.997Z"
   },
   {
    "duration": 1649,
    "start_time": "2022-06-24T06:05:33.952Z"
   },
   {
    "duration": 167,
    "start_time": "2022-06-24T06:05:35.603Z"
   },
   {
    "duration": 0,
    "start_time": "2022-06-24T06:05:35.772Z"
   },
   {
    "duration": 0,
    "start_time": "2022-06-24T06:05:35.774Z"
   },
   {
    "duration": 0,
    "start_time": "2022-06-24T06:05:35.775Z"
   },
   {
    "duration": 0,
    "start_time": "2022-06-24T06:05:35.776Z"
   },
   {
    "duration": 0,
    "start_time": "2022-06-24T06:05:35.777Z"
   },
   {
    "duration": 0,
    "start_time": "2022-06-24T06:05:35.778Z"
   },
   {
    "duration": 0,
    "start_time": "2022-06-24T06:05:35.781Z"
   },
   {
    "duration": 0,
    "start_time": "2022-06-24T06:05:35.782Z"
   },
   {
    "duration": 0,
    "start_time": "2022-06-24T06:05:35.784Z"
   },
   {
    "duration": 0,
    "start_time": "2022-06-24T06:05:35.785Z"
   },
   {
    "duration": 0,
    "start_time": "2022-06-24T06:05:35.787Z"
   },
   {
    "duration": 0,
    "start_time": "2022-06-24T06:05:35.788Z"
   },
   {
    "duration": 0,
    "start_time": "2022-06-24T06:05:35.790Z"
   },
   {
    "duration": 0,
    "start_time": "2022-06-24T06:05:35.792Z"
   },
   {
    "duration": 0,
    "start_time": "2022-06-24T06:05:35.828Z"
   },
   {
    "duration": 0,
    "start_time": "2022-06-24T06:05:35.830Z"
   },
   {
    "duration": 0,
    "start_time": "2022-06-24T06:05:35.830Z"
   },
   {
    "duration": 0,
    "start_time": "2022-06-24T06:05:35.831Z"
   },
   {
    "duration": 0,
    "start_time": "2022-06-24T06:05:35.838Z"
   },
   {
    "duration": 0,
    "start_time": "2022-06-24T06:05:35.838Z"
   },
   {
    "duration": 0,
    "start_time": "2022-06-24T06:05:35.839Z"
   },
   {
    "duration": 0,
    "start_time": "2022-06-24T06:05:35.840Z"
   },
   {
    "duration": 0,
    "start_time": "2022-06-24T06:05:35.840Z"
   },
   {
    "duration": 0,
    "start_time": "2022-06-24T06:05:35.841Z"
   },
   {
    "duration": 0,
    "start_time": "2022-06-24T06:05:35.842Z"
   },
   {
    "duration": 0,
    "start_time": "2022-06-24T06:05:35.842Z"
   },
   {
    "duration": 0,
    "start_time": "2022-06-24T06:05:35.843Z"
   },
   {
    "duration": 0,
    "start_time": "2022-06-24T06:05:35.844Z"
   },
   {
    "duration": 0,
    "start_time": "2022-06-24T06:05:35.846Z"
   },
   {
    "duration": 0,
    "start_time": "2022-06-24T06:05:35.847Z"
   },
   {
    "duration": 0,
    "start_time": "2022-06-24T06:05:35.848Z"
   },
   {
    "duration": 0,
    "start_time": "2022-06-24T06:05:35.849Z"
   },
   {
    "duration": 0,
    "start_time": "2022-06-24T06:05:35.850Z"
   },
   {
    "duration": 0,
    "start_time": "2022-06-24T06:05:35.851Z"
   },
   {
    "duration": 60,
    "start_time": "2022-06-24T06:06:36.026Z"
   },
   {
    "duration": 0,
    "start_time": "2022-06-24T06:06:36.088Z"
   },
   {
    "duration": 0,
    "start_time": "2022-06-24T06:06:36.090Z"
   },
   {
    "duration": 0,
    "start_time": "2022-06-24T06:06:36.091Z"
   },
   {
    "duration": 0,
    "start_time": "2022-06-24T06:06:36.092Z"
   },
   {
    "duration": 0,
    "start_time": "2022-06-24T06:06:36.093Z"
   },
   {
    "duration": 0,
    "start_time": "2022-06-24T06:06:36.094Z"
   },
   {
    "duration": 0,
    "start_time": "2022-06-24T06:06:36.095Z"
   },
   {
    "duration": 0,
    "start_time": "2022-06-24T06:06:36.096Z"
   },
   {
    "duration": 0,
    "start_time": "2022-06-24T06:06:36.098Z"
   },
   {
    "duration": 0,
    "start_time": "2022-06-24T06:06:36.099Z"
   },
   {
    "duration": 0,
    "start_time": "2022-06-24T06:06:36.100Z"
   },
   {
    "duration": 0,
    "start_time": "2022-06-24T06:06:36.102Z"
   },
   {
    "duration": 0,
    "start_time": "2022-06-24T06:06:36.103Z"
   },
   {
    "duration": 0,
    "start_time": "2022-06-24T06:06:36.104Z"
   },
   {
    "duration": 0,
    "start_time": "2022-06-24T06:06:36.106Z"
   },
   {
    "duration": 0,
    "start_time": "2022-06-24T06:06:36.107Z"
   },
   {
    "duration": 0,
    "start_time": "2022-06-24T06:06:36.108Z"
   },
   {
    "duration": 1,
    "start_time": "2022-06-24T06:06:36.109Z"
   },
   {
    "duration": 0,
    "start_time": "2022-06-24T06:06:36.111Z"
   },
   {
    "duration": 0,
    "start_time": "2022-06-24T06:06:36.112Z"
   },
   {
    "duration": 0,
    "start_time": "2022-06-24T06:06:36.113Z"
   },
   {
    "duration": 1,
    "start_time": "2022-06-24T06:06:36.114Z"
   },
   {
    "duration": 0,
    "start_time": "2022-06-24T06:06:36.127Z"
   },
   {
    "duration": 0,
    "start_time": "2022-06-24T06:06:36.128Z"
   },
   {
    "duration": 0,
    "start_time": "2022-06-24T06:06:36.128Z"
   },
   {
    "duration": 0,
    "start_time": "2022-06-24T06:06:36.129Z"
   },
   {
    "duration": 0,
    "start_time": "2022-06-24T06:06:36.129Z"
   },
   {
    "duration": 0,
    "start_time": "2022-06-24T06:06:36.130Z"
   },
   {
    "duration": 0,
    "start_time": "2022-06-24T06:06:36.131Z"
   },
   {
    "duration": 0,
    "start_time": "2022-06-24T06:06:36.131Z"
   },
   {
    "duration": 0,
    "start_time": "2022-06-24T06:06:36.132Z"
   },
   {
    "duration": 0,
    "start_time": "2022-06-24T06:06:36.133Z"
   },
   {
    "duration": 0,
    "start_time": "2022-06-24T06:06:36.133Z"
   },
   {
    "duration": 0,
    "start_time": "2022-06-24T06:06:36.134Z"
   },
   {
    "duration": 0,
    "start_time": "2022-06-24T06:06:36.134Z"
   },
   {
    "duration": 4,
    "start_time": "2022-06-24T06:06:52.142Z"
   },
   {
    "duration": 65,
    "start_time": "2022-06-24T06:06:52.149Z"
   },
   {
    "duration": 78,
    "start_time": "2022-06-24T06:06:56.124Z"
   },
   {
    "duration": 5,
    "start_time": "2022-06-24T06:06:56.204Z"
   },
   {
    "duration": 80,
    "start_time": "2022-06-24T06:06:56.211Z"
   },
   {
    "duration": 5,
    "start_time": "2022-06-24T06:06:56.293Z"
   },
   {
    "duration": 7,
    "start_time": "2022-06-24T06:06:56.299Z"
   },
   {
    "duration": 7,
    "start_time": "2022-06-24T06:06:56.333Z"
   },
   {
    "duration": 16,
    "start_time": "2022-06-24T06:06:56.341Z"
   },
   {
    "duration": 19,
    "start_time": "2022-06-24T06:06:56.359Z"
   },
   {
    "duration": 5,
    "start_time": "2022-06-24T06:06:56.380Z"
   },
   {
    "duration": 41,
    "start_time": "2022-06-24T06:06:56.388Z"
   },
   {
    "duration": 10,
    "start_time": "2022-06-24T06:06:56.431Z"
   },
   {
    "duration": 10,
    "start_time": "2022-06-24T06:06:56.444Z"
   },
   {
    "duration": 388,
    "start_time": "2022-06-24T06:06:56.455Z"
   },
   {
    "duration": 351,
    "start_time": "2022-06-24T06:06:56.845Z"
   },
   {
    "duration": 3,
    "start_time": "2022-06-24T06:06:57.198Z"
   },
   {
    "duration": 13,
    "start_time": "2022-06-24T06:06:57.203Z"
   },
   {
    "duration": 458,
    "start_time": "2022-06-24T06:06:57.226Z"
   },
   {
    "duration": 5,
    "start_time": "2022-06-24T06:06:57.686Z"
   },
   {
    "duration": 15,
    "start_time": "2022-06-24T06:06:57.693Z"
   },
   {
    "duration": 22,
    "start_time": "2022-06-24T06:06:57.709Z"
   },
   {
    "duration": 430,
    "start_time": "2022-06-24T06:06:57.733Z"
   },
   {
    "duration": 5,
    "start_time": "2022-06-24T06:06:58.165Z"
   },
   {
    "duration": 14,
    "start_time": "2022-06-24T06:06:58.172Z"
   },
   {
    "duration": 8,
    "start_time": "2022-06-24T06:06:58.188Z"
   },
   {
    "duration": 15,
    "start_time": "2022-06-24T06:06:58.198Z"
   },
   {
    "duration": 13,
    "start_time": "2022-06-24T06:06:58.236Z"
   },
   {
    "duration": 12,
    "start_time": "2022-06-24T06:06:58.251Z"
   },
   {
    "duration": 172,
    "start_time": "2022-06-24T06:06:58.268Z"
   },
   {
    "duration": 9,
    "start_time": "2022-06-24T06:06:58.444Z"
   },
   {
    "duration": 10,
    "start_time": "2022-06-24T06:06:58.455Z"
   },
   {
    "duration": 65,
    "start_time": "2022-06-24T06:06:58.470Z"
   },
   {
    "duration": 93,
    "start_time": "2022-06-24T06:06:58.537Z"
   },
   {
    "duration": 33,
    "start_time": "2022-06-24T06:06:58.632Z"
   },
   {
    "duration": 10,
    "start_time": "2022-06-24T06:06:58.667Z"
   },
   {
    "duration": 17,
    "start_time": "2022-06-24T06:06:58.679Z"
   },
   {
    "duration": 1511,
    "start_time": "2022-06-24T10:38:58.633Z"
   },
   {
    "duration": 92,
    "start_time": "2022-06-24T10:39:00.146Z"
   },
   {
    "duration": 3,
    "start_time": "2022-06-24T10:39:00.240Z"
   },
   {
    "duration": 8,
    "start_time": "2022-06-24T10:39:00.245Z"
   },
   {
    "duration": 58,
    "start_time": "2022-06-24T10:39:00.254Z"
   },
   {
    "duration": 3,
    "start_time": "2022-06-24T10:39:00.314Z"
   },
   {
    "duration": 17,
    "start_time": "2022-06-24T10:39:00.319Z"
   },
   {
    "duration": 25,
    "start_time": "2022-06-24T10:39:00.338Z"
   },
   {
    "duration": 20,
    "start_time": "2022-06-24T10:39:00.365Z"
   },
   {
    "duration": 22,
    "start_time": "2022-06-24T10:39:00.388Z"
   },
   {
    "duration": 10,
    "start_time": "2022-06-24T10:39:00.412Z"
   },
   {
    "duration": 19,
    "start_time": "2022-06-24T10:39:00.424Z"
   },
   {
    "duration": 24,
    "start_time": "2022-06-24T10:39:00.445Z"
   },
   {
    "duration": 5,
    "start_time": "2022-06-24T10:39:00.471Z"
   },
   {
    "duration": 333,
    "start_time": "2022-06-24T10:39:00.478Z"
   },
   {
    "duration": 339,
    "start_time": "2022-06-24T10:39:00.813Z"
   },
   {
    "duration": 4,
    "start_time": "2022-06-24T10:39:01.154Z"
   },
   {
    "duration": 13,
    "start_time": "2022-06-24T10:39:01.160Z"
   },
   {
    "duration": 364,
    "start_time": "2022-06-24T10:39:01.175Z"
   },
   {
    "duration": 5,
    "start_time": "2022-06-24T10:39:01.541Z"
   },
   {
    "duration": 6,
    "start_time": "2022-06-24T10:39:01.559Z"
   },
   {
    "duration": 14,
    "start_time": "2022-06-24T10:39:01.567Z"
   },
   {
    "duration": 701,
    "start_time": "2022-06-24T10:39:01.583Z"
   },
   {
    "duration": 4,
    "start_time": "2022-06-24T10:39:02.286Z"
   },
   {
    "duration": 10,
    "start_time": "2022-06-24T10:39:02.291Z"
   },
   {
    "duration": 58,
    "start_time": "2022-06-24T10:39:02.303Z"
   },
   {
    "duration": 10,
    "start_time": "2022-06-24T10:39:02.362Z"
   },
   {
    "duration": 12,
    "start_time": "2022-06-24T10:39:02.375Z"
   },
   {
    "duration": 72,
    "start_time": "2022-06-24T10:39:02.389Z"
   },
   {
    "duration": 133,
    "start_time": "2022-06-24T10:39:02.465Z"
   },
   {
    "duration": 70,
    "start_time": "2022-06-24T10:39:02.600Z"
   },
   {
    "duration": 10,
    "start_time": "2022-06-24T10:39:02.672Z"
   },
   {
    "duration": 79,
    "start_time": "2022-06-24T10:39:02.684Z"
   },
   {
    "duration": 95,
    "start_time": "2022-06-24T10:39:02.765Z"
   },
   {
    "duration": 26,
    "start_time": "2022-06-24T10:39:02.863Z"
   },
   {
    "duration": 10,
    "start_time": "2022-06-24T10:39:02.891Z"
   },
   {
    "duration": 65,
    "start_time": "2022-06-24T10:39:02.903Z"
   },
   {
    "duration": 1302,
    "start_time": "2022-06-24T14:16:35.183Z"
   },
   {
    "duration": 54,
    "start_time": "2022-06-24T14:16:36.487Z"
   },
   {
    "duration": 3,
    "start_time": "2022-06-24T14:16:36.542Z"
   },
   {
    "duration": 7,
    "start_time": "2022-06-24T14:16:36.547Z"
   },
   {
    "duration": 57,
    "start_time": "2022-06-24T14:16:36.555Z"
   },
   {
    "duration": 4,
    "start_time": "2022-06-24T14:16:36.614Z"
   },
   {
    "duration": 10,
    "start_time": "2022-06-24T14:16:36.619Z"
   },
   {
    "duration": 28,
    "start_time": "2022-06-24T14:16:36.631Z"
   },
   {
    "duration": 10,
    "start_time": "2022-06-24T14:16:36.661Z"
   },
   {
    "duration": 15,
    "start_time": "2022-06-24T14:16:36.673Z"
   },
   {
    "duration": 5,
    "start_time": "2022-06-24T14:16:36.689Z"
   },
   {
    "duration": 14,
    "start_time": "2022-06-24T14:16:36.695Z"
   },
   {
    "duration": 2,
    "start_time": "2022-06-24T14:16:36.710Z"
   },
   {
    "duration": 8,
    "start_time": "2022-06-24T14:16:36.713Z"
   },
   {
    "duration": 349,
    "start_time": "2022-06-24T14:16:36.722Z"
   },
   {
    "duration": 346,
    "start_time": "2022-06-24T14:16:37.073Z"
   },
   {
    "duration": 4,
    "start_time": "2022-06-24T14:16:37.421Z"
   },
   {
    "duration": 8,
    "start_time": "2022-06-24T14:16:37.427Z"
   },
   {
    "duration": 16,
    "start_time": "2022-06-24T14:16:37.437Z"
   },
   {
    "duration": 13,
    "start_time": "2022-06-24T14:16:37.455Z"
   },
   {
    "duration": 15,
    "start_time": "2022-06-24T14:16:37.470Z"
   },
   {
    "duration": 15,
    "start_time": "2022-06-24T14:16:37.488Z"
   },
   {
    "duration": 440,
    "start_time": "2022-06-24T14:16:37.505Z"
   },
   {
    "duration": 3,
    "start_time": "2022-06-24T14:16:37.946Z"
   },
   {
    "duration": 8,
    "start_time": "2022-06-24T14:16:37.958Z"
   },
   {
    "duration": 11,
    "start_time": "2022-06-24T14:16:37.968Z"
   },
   {
    "duration": 13,
    "start_time": "2022-06-24T14:16:37.980Z"
   },
   {
    "duration": 9,
    "start_time": "2022-06-24T14:16:37.996Z"
   },
   {
    "duration": 6,
    "start_time": "2022-06-24T14:16:38.006Z"
   },
   {
    "duration": 40,
    "start_time": "2022-06-24T14:16:38.013Z"
   },
   {
    "duration": 13,
    "start_time": "2022-06-24T14:16:38.054Z"
   },
   {
    "duration": 13,
    "start_time": "2022-06-24T14:16:38.069Z"
   },
   {
    "duration": 8,
    "start_time": "2022-06-24T14:16:38.083Z"
   },
   {
    "duration": 66,
    "start_time": "2022-06-24T14:16:38.093Z"
   },
   {
    "duration": 10,
    "start_time": "2022-06-24T14:16:38.161Z"
   },
   {
    "duration": 88,
    "start_time": "2022-06-24T14:16:38.173Z"
   },
   {
    "duration": 99,
    "start_time": "2022-06-24T14:16:38.262Z"
   }
  ],
  "kernelspec": {
   "display_name": "Python 3 (ipykernel)",
   "language": "python",
   "name": "python3"
  },
  "language_info": {
   "codemirror_mode": {
    "name": "ipython",
    "version": 3
   },
   "file_extension": ".py",
   "mimetype": "text/x-python",
   "name": "python",
   "nbconvert_exporter": "python",
   "pygments_lexer": "ipython3",
   "version": "3.9.7"
  },
  "toc": {
   "base_numbering": 1,
   "nav_menu": {},
   "number_sections": true,
   "sideBar": true,
   "skip_h1_title": true,
   "title_cell": "Table of Contents",
   "title_sidebar": "Contents",
   "toc_cell": true,
   "toc_position": {
    "height": "569.6px",
    "left": "687px",
    "top": "109.525px",
    "width": "303.819px"
   },
   "toc_section_display": true,
   "toc_window_display": true
  }
 },
 "nbformat": 4,
 "nbformat_minor": 5
}
