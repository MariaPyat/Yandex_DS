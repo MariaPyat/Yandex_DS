{
 "cells": [
  {
   "cell_type": "markdown",
   "id": "fd170934",
   "metadata": {},
   "source": [
    "<div style=\"border:solid purple 3px; padding: 20px\"> <h1 style=\"color:purple; margin-bottom:20px\">Исследование надежности заемщиков.</h1>\n",
    "\n",
    "# Описание проекта\n",
    "\n",
    "\n",
    "Заказчик — кредитный отдел банка. Нужно разобраться, влияет ли семейное положение и количество детей клиента на факт погашения кредита в срок. Входные данные от банка — статистика о платёжеспособности клиентов.\n",
    "\n",
    "Результаты исследования будут учтены при построении модели кредитного скоринга — специальной системы, которая оценивает способность потенциального заёмщика вернуть кредит банку.\n",
    "\n",
    "**Цель исследования** - поиск ответов на вопросы:\n",
    "\n",
    " - Есть ли зависимость между количеством детей и возвратом кредита в срок?\n",
    " - Есть ли зависимость между семейным положением и возвратом кредита в срок?\n",
    " - Есть ли зависимость между уровнем дохода и возвратом кредита в срок?\n",
    " - Как разные цели кредита влияют на его возврат в срок?\n",
    "    \n",
    "**Ход исследования**\n",
    "\n",
    "Данные находятся в файле `/datasets/data.csv`\n",
    "    \n",
    "**Шаги исследования:**\n",
    "\n",
    "1. Обзор данных\n",
    "    \n",
    "2. Предобработка данных\n",
    "        \n",
    "3. Поиск ответов на вопросы исследования\n",
    "    \n",
    "4. Формулировка выводов"
   ]
  },
  {
   "cell_type": "markdown",
   "id": "b24ed3e8",
   "metadata": {},
   "source": [
    "## Импорт библиотек"
   ]
  },
  {
   "cell_type": "code",
   "execution_count": 1,
   "id": "56fa8990",
   "metadata": {},
   "outputs": [],
   "source": [
    "import pandas as pd"
   ]
  },
  {
   "cell_type": "markdown",
   "id": "307ff12c",
   "metadata": {},
   "source": [
    "## Обзор данных\n",
    "\n",
    "Сохраним данные в переменной `data`:"
   ]
  },
  {
   "cell_type": "code",
   "execution_count": 2,
   "id": "b05c1d39",
   "metadata": {},
   "outputs": [],
   "source": [
    "data = pd.read_csv(\n",
    "    'D:/1_Проекты Практикум/М_1/2_Исследование надёжности заёмщиков/data.csv'\n",
    ")"
   ]
  },
  {
   "cell_type": "markdown",
   "id": "fb0e479d",
   "metadata": {},
   "source": [
    "Общая информация о данных"
   ]
  },
  {
   "cell_type": "code",
   "execution_count": 3,
   "id": "44ed040d",
   "metadata": {},
   "outputs": [
    {
     "name": "stdout",
     "output_type": "stream",
     "text": [
      "<class 'pandas.core.frame.DataFrame'>\n",
      "RangeIndex: 21525 entries, 0 to 21524\n",
      "Data columns (total 12 columns):\n",
      " #   Column            Non-Null Count  Dtype  \n",
      "---  ------            --------------  -----  \n",
      " 0   children          21525 non-null  int64  \n",
      " 1   days_employed     19351 non-null  float64\n",
      " 2   dob_years         21525 non-null  int64  \n",
      " 3   education         21525 non-null  object \n",
      " 4   education_id      21525 non-null  int64  \n",
      " 5   family_status     21525 non-null  object \n",
      " 6   family_status_id  21525 non-null  int64  \n",
      " 7   gender            21525 non-null  object \n",
      " 8   income_type       21525 non-null  object \n",
      " 9   debt              21525 non-null  int64  \n",
      " 10  total_income      19351 non-null  float64\n",
      " 11  purpose           21525 non-null  object \n",
      "dtypes: float64(2), int64(5), object(5)\n",
      "memory usage: 2.0+ MB\n"
     ]
    }
   ],
   "source": [
    "data.info()"
   ]
  },
  {
   "cell_type": "markdown",
   "id": "48ce8a7f",
   "metadata": {},
   "source": [
    "Выведем первые десять строк таблицы для ознакомления с данными"
   ]
  },
  {
   "cell_type": "code",
   "execution_count": 4,
   "id": "98b21aa3",
   "metadata": {},
   "outputs": [
    {
     "data": {
      "text/html": [
       "<div>\n",
       "<style scoped>\n",
       "    .dataframe tbody tr th:only-of-type {\n",
       "        vertical-align: middle;\n",
       "    }\n",
       "\n",
       "    .dataframe tbody tr th {\n",
       "        vertical-align: top;\n",
       "    }\n",
       "\n",
       "    .dataframe thead th {\n",
       "        text-align: right;\n",
       "    }\n",
       "</style>\n",
       "<table border=\"1\" class=\"dataframe\">\n",
       "  <thead>\n",
       "    <tr style=\"text-align: right;\">\n",
       "      <th></th>\n",
       "      <th>children</th>\n",
       "      <th>days_employed</th>\n",
       "      <th>dob_years</th>\n",
       "      <th>education</th>\n",
       "      <th>education_id</th>\n",
       "      <th>family_status</th>\n",
       "      <th>family_status_id</th>\n",
       "      <th>gender</th>\n",
       "      <th>income_type</th>\n",
       "      <th>debt</th>\n",
       "      <th>total_income</th>\n",
       "      <th>purpose</th>\n",
       "    </tr>\n",
       "  </thead>\n",
       "  <tbody>\n",
       "    <tr>\n",
       "      <th>0</th>\n",
       "      <td>1</td>\n",
       "      <td>-8437.673028</td>\n",
       "      <td>42</td>\n",
       "      <td>высшее</td>\n",
       "      <td>0</td>\n",
       "      <td>женат / замужем</td>\n",
       "      <td>0</td>\n",
       "      <td>F</td>\n",
       "      <td>сотрудник</td>\n",
       "      <td>0</td>\n",
       "      <td>253875.639453</td>\n",
       "      <td>покупка жилья</td>\n",
       "    </tr>\n",
       "    <tr>\n",
       "      <th>1</th>\n",
       "      <td>1</td>\n",
       "      <td>-4024.803754</td>\n",
       "      <td>36</td>\n",
       "      <td>среднее</td>\n",
       "      <td>1</td>\n",
       "      <td>женат / замужем</td>\n",
       "      <td>0</td>\n",
       "      <td>F</td>\n",
       "      <td>сотрудник</td>\n",
       "      <td>0</td>\n",
       "      <td>112080.014102</td>\n",
       "      <td>приобретение автомобиля</td>\n",
       "    </tr>\n",
       "    <tr>\n",
       "      <th>2</th>\n",
       "      <td>0</td>\n",
       "      <td>-5623.422610</td>\n",
       "      <td>33</td>\n",
       "      <td>Среднее</td>\n",
       "      <td>1</td>\n",
       "      <td>женат / замужем</td>\n",
       "      <td>0</td>\n",
       "      <td>M</td>\n",
       "      <td>сотрудник</td>\n",
       "      <td>0</td>\n",
       "      <td>145885.952297</td>\n",
       "      <td>покупка жилья</td>\n",
       "    </tr>\n",
       "    <tr>\n",
       "      <th>3</th>\n",
       "      <td>3</td>\n",
       "      <td>-4124.747207</td>\n",
       "      <td>32</td>\n",
       "      <td>среднее</td>\n",
       "      <td>1</td>\n",
       "      <td>женат / замужем</td>\n",
       "      <td>0</td>\n",
       "      <td>M</td>\n",
       "      <td>сотрудник</td>\n",
       "      <td>0</td>\n",
       "      <td>267628.550329</td>\n",
       "      <td>дополнительное образование</td>\n",
       "    </tr>\n",
       "    <tr>\n",
       "      <th>4</th>\n",
       "      <td>0</td>\n",
       "      <td>340266.072047</td>\n",
       "      <td>53</td>\n",
       "      <td>среднее</td>\n",
       "      <td>1</td>\n",
       "      <td>гражданский брак</td>\n",
       "      <td>1</td>\n",
       "      <td>F</td>\n",
       "      <td>пенсионер</td>\n",
       "      <td>0</td>\n",
       "      <td>158616.077870</td>\n",
       "      <td>сыграть свадьбу</td>\n",
       "    </tr>\n",
       "    <tr>\n",
       "      <th>5</th>\n",
       "      <td>0</td>\n",
       "      <td>-926.185831</td>\n",
       "      <td>27</td>\n",
       "      <td>высшее</td>\n",
       "      <td>0</td>\n",
       "      <td>гражданский брак</td>\n",
       "      <td>1</td>\n",
       "      <td>M</td>\n",
       "      <td>компаньон</td>\n",
       "      <td>0</td>\n",
       "      <td>255763.565419</td>\n",
       "      <td>покупка жилья</td>\n",
       "    </tr>\n",
       "    <tr>\n",
       "      <th>6</th>\n",
       "      <td>0</td>\n",
       "      <td>-2879.202052</td>\n",
       "      <td>43</td>\n",
       "      <td>высшее</td>\n",
       "      <td>0</td>\n",
       "      <td>женат / замужем</td>\n",
       "      <td>0</td>\n",
       "      <td>F</td>\n",
       "      <td>компаньон</td>\n",
       "      <td>0</td>\n",
       "      <td>240525.971920</td>\n",
       "      <td>операции с жильем</td>\n",
       "    </tr>\n",
       "    <tr>\n",
       "      <th>7</th>\n",
       "      <td>0</td>\n",
       "      <td>-152.779569</td>\n",
       "      <td>50</td>\n",
       "      <td>СРЕДНЕЕ</td>\n",
       "      <td>1</td>\n",
       "      <td>женат / замужем</td>\n",
       "      <td>0</td>\n",
       "      <td>M</td>\n",
       "      <td>сотрудник</td>\n",
       "      <td>0</td>\n",
       "      <td>135823.934197</td>\n",
       "      <td>образование</td>\n",
       "    </tr>\n",
       "    <tr>\n",
       "      <th>8</th>\n",
       "      <td>2</td>\n",
       "      <td>-6929.865299</td>\n",
       "      <td>35</td>\n",
       "      <td>ВЫСШЕЕ</td>\n",
       "      <td>0</td>\n",
       "      <td>гражданский брак</td>\n",
       "      <td>1</td>\n",
       "      <td>F</td>\n",
       "      <td>сотрудник</td>\n",
       "      <td>0</td>\n",
       "      <td>95856.832424</td>\n",
       "      <td>на проведение свадьбы</td>\n",
       "    </tr>\n",
       "    <tr>\n",
       "      <th>9</th>\n",
       "      <td>0</td>\n",
       "      <td>-2188.756445</td>\n",
       "      <td>41</td>\n",
       "      <td>среднее</td>\n",
       "      <td>1</td>\n",
       "      <td>женат / замужем</td>\n",
       "      <td>0</td>\n",
       "      <td>M</td>\n",
       "      <td>сотрудник</td>\n",
       "      <td>0</td>\n",
       "      <td>144425.938277</td>\n",
       "      <td>покупка жилья для семьи</td>\n",
       "    </tr>\n",
       "  </tbody>\n",
       "</table>\n",
       "</div>"
      ],
      "text/plain": [
       "   children  days_employed  dob_years education  education_id  \\\n",
       "0         1   -8437.673028         42    высшее             0   \n",
       "1         1   -4024.803754         36   среднее             1   \n",
       "2         0   -5623.422610         33   Среднее             1   \n",
       "3         3   -4124.747207         32   среднее             1   \n",
       "4         0  340266.072047         53   среднее             1   \n",
       "5         0    -926.185831         27    высшее             0   \n",
       "6         0   -2879.202052         43    высшее             0   \n",
       "7         0    -152.779569         50   СРЕДНЕЕ             1   \n",
       "8         2   -6929.865299         35    ВЫСШЕЕ             0   \n",
       "9         0   -2188.756445         41   среднее             1   \n",
       "\n",
       "      family_status  family_status_id gender income_type  debt   total_income  \\\n",
       "0   женат / замужем                 0      F   сотрудник     0  253875.639453   \n",
       "1   женат / замужем                 0      F   сотрудник     0  112080.014102   \n",
       "2   женат / замужем                 0      M   сотрудник     0  145885.952297   \n",
       "3   женат / замужем                 0      M   сотрудник     0  267628.550329   \n",
       "4  гражданский брак                 1      F   пенсионер     0  158616.077870   \n",
       "5  гражданский брак                 1      M   компаньон     0  255763.565419   \n",
       "6   женат / замужем                 0      F   компаньон     0  240525.971920   \n",
       "7   женат / замужем                 0      M   сотрудник     0  135823.934197   \n",
       "8  гражданский брак                 1      F   сотрудник     0   95856.832424   \n",
       "9   женат / замужем                 0      M   сотрудник     0  144425.938277   \n",
       "\n",
       "                      purpose  \n",
       "0               покупка жилья  \n",
       "1     приобретение автомобиля  \n",
       "2               покупка жилья  \n",
       "3  дополнительное образование  \n",
       "4             сыграть свадьбу  \n",
       "5               покупка жилья  \n",
       "6           операции с жильем  \n",
       "7                 образование  \n",
       "8       на проведение свадьбы  \n",
       "9     покупка жилья для семьи  "
      ]
     },
     "execution_count": 4,
     "metadata": {},
     "output_type": "execute_result"
    }
   ],
   "source": [
    "data.head(10)"
   ]
  },
  {
   "cell_type": "code",
   "execution_count": 5,
   "id": "b7a30ffd",
   "metadata": {},
   "outputs": [
    {
     "data": {
      "text/html": [
       "<div>\n",
       "<style scoped>\n",
       "    .dataframe tbody tr th:only-of-type {\n",
       "        vertical-align: middle;\n",
       "    }\n",
       "\n",
       "    .dataframe tbody tr th {\n",
       "        vertical-align: top;\n",
       "    }\n",
       "\n",
       "    .dataframe thead th {\n",
       "        text-align: right;\n",
       "    }\n",
       "</style>\n",
       "<table border=\"1\" class=\"dataframe\">\n",
       "  <thead>\n",
       "    <tr style=\"text-align: right;\">\n",
       "      <th></th>\n",
       "      <th>children</th>\n",
       "      <th>days_employed</th>\n",
       "      <th>dob_years</th>\n",
       "      <th>education</th>\n",
       "      <th>education_id</th>\n",
       "      <th>family_status</th>\n",
       "      <th>family_status_id</th>\n",
       "      <th>gender</th>\n",
       "      <th>income_type</th>\n",
       "      <th>debt</th>\n",
       "      <th>total_income</th>\n",
       "      <th>purpose</th>\n",
       "    </tr>\n",
       "  </thead>\n",
       "  <tbody>\n",
       "    <tr>\n",
       "      <th>count</th>\n",
       "      <td>21525.000000</td>\n",
       "      <td>19351.000000</td>\n",
       "      <td>21525.000000</td>\n",
       "      <td>21525</td>\n",
       "      <td>21525.000000</td>\n",
       "      <td>21525</td>\n",
       "      <td>21525.000000</td>\n",
       "      <td>21525</td>\n",
       "      <td>21525</td>\n",
       "      <td>21525.000000</td>\n",
       "      <td>1.935100e+04</td>\n",
       "      <td>21525</td>\n",
       "    </tr>\n",
       "    <tr>\n",
       "      <th>unique</th>\n",
       "      <td>NaN</td>\n",
       "      <td>NaN</td>\n",
       "      <td>NaN</td>\n",
       "      <td>15</td>\n",
       "      <td>NaN</td>\n",
       "      <td>5</td>\n",
       "      <td>NaN</td>\n",
       "      <td>3</td>\n",
       "      <td>8</td>\n",
       "      <td>NaN</td>\n",
       "      <td>NaN</td>\n",
       "      <td>38</td>\n",
       "    </tr>\n",
       "    <tr>\n",
       "      <th>top</th>\n",
       "      <td>NaN</td>\n",
       "      <td>NaN</td>\n",
       "      <td>NaN</td>\n",
       "      <td>среднее</td>\n",
       "      <td>NaN</td>\n",
       "      <td>женат / замужем</td>\n",
       "      <td>NaN</td>\n",
       "      <td>F</td>\n",
       "      <td>сотрудник</td>\n",
       "      <td>NaN</td>\n",
       "      <td>NaN</td>\n",
       "      <td>свадьба</td>\n",
       "    </tr>\n",
       "    <tr>\n",
       "      <th>freq</th>\n",
       "      <td>NaN</td>\n",
       "      <td>NaN</td>\n",
       "      <td>NaN</td>\n",
       "      <td>13750</td>\n",
       "      <td>NaN</td>\n",
       "      <td>12380</td>\n",
       "      <td>NaN</td>\n",
       "      <td>14236</td>\n",
       "      <td>11119</td>\n",
       "      <td>NaN</td>\n",
       "      <td>NaN</td>\n",
       "      <td>797</td>\n",
       "    </tr>\n",
       "    <tr>\n",
       "      <th>mean</th>\n",
       "      <td>0.538908</td>\n",
       "      <td>63046.497661</td>\n",
       "      <td>43.293380</td>\n",
       "      <td>NaN</td>\n",
       "      <td>0.817236</td>\n",
       "      <td>NaN</td>\n",
       "      <td>0.972544</td>\n",
       "      <td>NaN</td>\n",
       "      <td>NaN</td>\n",
       "      <td>0.080883</td>\n",
       "      <td>1.674223e+05</td>\n",
       "      <td>NaN</td>\n",
       "    </tr>\n",
       "    <tr>\n",
       "      <th>std</th>\n",
       "      <td>1.381587</td>\n",
       "      <td>140827.311974</td>\n",
       "      <td>12.574584</td>\n",
       "      <td>NaN</td>\n",
       "      <td>0.548138</td>\n",
       "      <td>NaN</td>\n",
       "      <td>1.420324</td>\n",
       "      <td>NaN</td>\n",
       "      <td>NaN</td>\n",
       "      <td>0.272661</td>\n",
       "      <td>1.029716e+05</td>\n",
       "      <td>NaN</td>\n",
       "    </tr>\n",
       "    <tr>\n",
       "      <th>min</th>\n",
       "      <td>-1.000000</td>\n",
       "      <td>-18388.949901</td>\n",
       "      <td>0.000000</td>\n",
       "      <td>NaN</td>\n",
       "      <td>0.000000</td>\n",
       "      <td>NaN</td>\n",
       "      <td>0.000000</td>\n",
       "      <td>NaN</td>\n",
       "      <td>NaN</td>\n",
       "      <td>0.000000</td>\n",
       "      <td>2.066726e+04</td>\n",
       "      <td>NaN</td>\n",
       "    </tr>\n",
       "    <tr>\n",
       "      <th>25%</th>\n",
       "      <td>0.000000</td>\n",
       "      <td>-2747.423625</td>\n",
       "      <td>33.000000</td>\n",
       "      <td>NaN</td>\n",
       "      <td>1.000000</td>\n",
       "      <td>NaN</td>\n",
       "      <td>0.000000</td>\n",
       "      <td>NaN</td>\n",
       "      <td>NaN</td>\n",
       "      <td>0.000000</td>\n",
       "      <td>1.030532e+05</td>\n",
       "      <td>NaN</td>\n",
       "    </tr>\n",
       "    <tr>\n",
       "      <th>50%</th>\n",
       "      <td>0.000000</td>\n",
       "      <td>-1203.369529</td>\n",
       "      <td>42.000000</td>\n",
       "      <td>NaN</td>\n",
       "      <td>1.000000</td>\n",
       "      <td>NaN</td>\n",
       "      <td>0.000000</td>\n",
       "      <td>NaN</td>\n",
       "      <td>NaN</td>\n",
       "      <td>0.000000</td>\n",
       "      <td>1.450179e+05</td>\n",
       "      <td>NaN</td>\n",
       "    </tr>\n",
       "    <tr>\n",
       "      <th>75%</th>\n",
       "      <td>1.000000</td>\n",
       "      <td>-291.095954</td>\n",
       "      <td>53.000000</td>\n",
       "      <td>NaN</td>\n",
       "      <td>1.000000</td>\n",
       "      <td>NaN</td>\n",
       "      <td>1.000000</td>\n",
       "      <td>NaN</td>\n",
       "      <td>NaN</td>\n",
       "      <td>0.000000</td>\n",
       "      <td>2.034351e+05</td>\n",
       "      <td>NaN</td>\n",
       "    </tr>\n",
       "    <tr>\n",
       "      <th>max</th>\n",
       "      <td>20.000000</td>\n",
       "      <td>401755.400475</td>\n",
       "      <td>75.000000</td>\n",
       "      <td>NaN</td>\n",
       "      <td>4.000000</td>\n",
       "      <td>NaN</td>\n",
       "      <td>4.000000</td>\n",
       "      <td>NaN</td>\n",
       "      <td>NaN</td>\n",
       "      <td>1.000000</td>\n",
       "      <td>2.265604e+06</td>\n",
       "      <td>NaN</td>\n",
       "    </tr>\n",
       "  </tbody>\n",
       "</table>\n",
       "</div>"
      ],
      "text/plain": [
       "            children  days_employed     dob_years education  education_id  \\\n",
       "count   21525.000000   19351.000000  21525.000000     21525  21525.000000   \n",
       "unique           NaN            NaN           NaN        15           NaN   \n",
       "top              NaN            NaN           NaN   среднее           NaN   \n",
       "freq             NaN            NaN           NaN     13750           NaN   \n",
       "mean        0.538908   63046.497661     43.293380       NaN      0.817236   \n",
       "std         1.381587  140827.311974     12.574584       NaN      0.548138   \n",
       "min        -1.000000  -18388.949901      0.000000       NaN      0.000000   \n",
       "25%         0.000000   -2747.423625     33.000000       NaN      1.000000   \n",
       "50%         0.000000   -1203.369529     42.000000       NaN      1.000000   \n",
       "75%         1.000000    -291.095954     53.000000       NaN      1.000000   \n",
       "max        20.000000  401755.400475     75.000000       NaN      4.000000   \n",
       "\n",
       "          family_status  family_status_id gender income_type          debt  \\\n",
       "count             21525      21525.000000  21525       21525  21525.000000   \n",
       "unique                5               NaN      3           8           NaN   \n",
       "top     женат / замужем               NaN      F   сотрудник           NaN   \n",
       "freq              12380               NaN  14236       11119           NaN   \n",
       "mean                NaN          0.972544    NaN         NaN      0.080883   \n",
       "std                 NaN          1.420324    NaN         NaN      0.272661   \n",
       "min                 NaN          0.000000    NaN         NaN      0.000000   \n",
       "25%                 NaN          0.000000    NaN         NaN      0.000000   \n",
       "50%                 NaN          0.000000    NaN         NaN      0.000000   \n",
       "75%                 NaN          1.000000    NaN         NaN      0.000000   \n",
       "max                 NaN          4.000000    NaN         NaN      1.000000   \n",
       "\n",
       "        total_income  purpose  \n",
       "count   1.935100e+04    21525  \n",
       "unique           NaN       38  \n",
       "top              NaN  свадьба  \n",
       "freq             NaN      797  \n",
       "mean    1.674223e+05      NaN  \n",
       "std     1.029716e+05      NaN  \n",
       "min     2.066726e+04      NaN  \n",
       "25%     1.030532e+05      NaN  \n",
       "50%     1.450179e+05      NaN  \n",
       "75%     2.034351e+05      NaN  \n",
       "max     2.265604e+06      NaN  "
      ]
     },
     "execution_count": 5,
     "metadata": {},
     "output_type": "execute_result"
    }
   ],
   "source": [
    "data.describe(include='all')"
   ]
  },
  {
   "cell_type": "markdown",
   "id": "3f87790b",
   "metadata": {},
   "source": [
    "<div style=\"border:solid purple 1px; padding: 20px\"> <b>Выводы</b>\n",
    "\n",
    "В таблице 12 столбцов:\n",
    "\n",
    "* `children` — количество детей в семье\n",
    "* `days_employed` — общий трудовой стаж в днях\n",
    "* `dob_years` — возраст клиента в годах\n",
    "* `education` — уровень образования клиента\n",
    "* `education_id` — идентификатор уровня образования\n",
    "* `family_status` — семейное положение\n",
    "* `family_status_id` — идентификатор семейного положения\n",
    "* `gender` — пол клиента\n",
    "* `income_type` — тип занятости\n",
    "* `debt` — имел ли задолженность по возврату кредитов\n",
    "* `total_income` — ежемесячный доход\n",
    "* `purpose` — цель получения кредита\n",
    "\n",
    "В таблице 21525 строк. Каждая строка представляет собой данные об одном клиенте банка.\n",
    "\n",
    "Значения части столбцов связаны между собой - например, `education` и `education_id`. Эти столбцы можно будет заменить на стадии предобработки данных, чтобы избежать перегруженности таблицы.\n",
    "\n",
    "Названия столбцов можно оставить в исходном виде, они будут удобны при дальнейшем анализе.\n",
    "\n",
    "На основании первоначальной оценки таблицы можно отметить аномалии и пропуски в данных, поэтому для последующей работы с данными требуется предварительная обработка."
   ]
  },
  {
   "cell_type": "markdown",
   "id": "9bee0aff",
   "metadata": {},
   "source": [
    "## Предобработка данных\n",
    "\n",
    "**Этапы предобработки:**\n",
    "1. Обработка пропусков\n",
    "1. Поиск и обработка аномалий\n",
    "1. Изменение типов данных\n",
    "1. Поиск и удаление дубликатов\n",
    "1. Формирование дополнительных датафреймов\n",
    "1. Категоризация дохода\n",
    "1. Категоризация целей кредита\n",
    "\n",
    "### Обработка пропусков"
   ]
  },
  {
   "cell_type": "markdown",
   "id": "428541b5",
   "metadata": {},
   "source": [
    "Судя по общей информации о данных, выведенной на предыдущем этапе исследования с помощью функции `info()`, пропуски присутствуют в двух столбцах - `days_employed` и `total_income`. \n",
    "\n",
    "Найдем количество пропусков в этих столбцах\n",
    "\n",
    "#### Поиск количества пропусков"
   ]
  },
  {
   "cell_type": "code",
   "execution_count": 6,
   "id": "cfdf7b60",
   "metadata": {},
   "outputs": [
    {
     "name": "stdout",
     "output_type": "stream",
     "text": [
      "Количество пропусков в столбце days_employed: 2174\n",
      "Количество пропусков в столбце total_income: 2174\n"
     ]
    }
   ],
   "source": [
    "print(\n",
    "    'Количество пропусков в столбце days_employed:', \n",
    "    data['days_employed'].isna().sum()\n",
    ")\n",
    "\n",
    "print(\n",
    "    'Количество пропусков в столбце total_income:', \n",
    "    data['total_income'].isna().sum()\n",
    ")"
   ]
  },
  {
   "cell_type": "markdown",
   "id": "3ad50a57",
   "metadata": {},
   "source": [
    "Количество пропусков в обоих столбцах совпадает, поэтому можно предположить, что пропуски не случайны, и расположены в одних и тех же строках.\n",
    "\n",
    "Найдем, какова доля строк с пропусками в датасете."
   ]
  },
  {
   "cell_type": "code",
   "execution_count": 7,
   "id": "4a812afa",
   "metadata": {},
   "outputs": [
    {
     "name": "stdout",
     "output_type": "stream",
     "text": [
      "Доля строк с пропущенными значениями: 10.0 %\n"
     ]
    }
   ],
   "source": [
    "print(\n",
    "    'Доля строк с пропущенными значениями:', \n",
    "    data['days_employed'].isna().mean().round(2) * 100, \n",
    "    '%'\n",
    ")"
   ]
  },
  {
   "cell_type": "markdown",
   "id": "bb986e8e",
   "metadata": {},
   "source": [
    "Доля строк с пропусками довольно велика (10%). Удаление этих строк оказать значительное влияние на результат исследования, поэтому в данном случае лучше заменить пропущенные значения на медианное.\n",
    "\n",
    "#### Проверка гипотезы о совпадении пропусков\n",
    "\n",
    "Проверим гипотезу о том, что пропуски в обоих столбцах находятся в одних и тех же строках. Для этого выведем строки, в которых отсутсвуют данные одновременно в обоих столбцах. "
   ]
  },
  {
   "cell_type": "code",
   "execution_count": 8,
   "id": "701e0c93",
   "metadata": {
    "scrolled": false
   },
   "outputs": [
    {
     "data": {
      "text/html": [
       "<div>\n",
       "<style scoped>\n",
       "    .dataframe tbody tr th:only-of-type {\n",
       "        vertical-align: middle;\n",
       "    }\n",
       "\n",
       "    .dataframe tbody tr th {\n",
       "        vertical-align: top;\n",
       "    }\n",
       "\n",
       "    .dataframe thead th {\n",
       "        text-align: right;\n",
       "    }\n",
       "</style>\n",
       "<table border=\"1\" class=\"dataframe\">\n",
       "  <thead>\n",
       "    <tr style=\"text-align: right;\">\n",
       "      <th></th>\n",
       "      <th>children</th>\n",
       "      <th>days_employed</th>\n",
       "      <th>dob_years</th>\n",
       "      <th>education</th>\n",
       "      <th>education_id</th>\n",
       "      <th>family_status</th>\n",
       "      <th>family_status_id</th>\n",
       "      <th>gender</th>\n",
       "      <th>income_type</th>\n",
       "      <th>debt</th>\n",
       "      <th>total_income</th>\n",
       "      <th>purpose</th>\n",
       "    </tr>\n",
       "  </thead>\n",
       "  <tbody>\n",
       "    <tr>\n",
       "      <th>12</th>\n",
       "      <td>0</td>\n",
       "      <td>NaN</td>\n",
       "      <td>65</td>\n",
       "      <td>среднее</td>\n",
       "      <td>1</td>\n",
       "      <td>гражданский брак</td>\n",
       "      <td>1</td>\n",
       "      <td>M</td>\n",
       "      <td>пенсионер</td>\n",
       "      <td>0</td>\n",
       "      <td>NaN</td>\n",
       "      <td>сыграть свадьбу</td>\n",
       "    </tr>\n",
       "    <tr>\n",
       "      <th>26</th>\n",
       "      <td>0</td>\n",
       "      <td>NaN</td>\n",
       "      <td>41</td>\n",
       "      <td>среднее</td>\n",
       "      <td>1</td>\n",
       "      <td>женат / замужем</td>\n",
       "      <td>0</td>\n",
       "      <td>M</td>\n",
       "      <td>госслужащий</td>\n",
       "      <td>0</td>\n",
       "      <td>NaN</td>\n",
       "      <td>образование</td>\n",
       "    </tr>\n",
       "    <tr>\n",
       "      <th>29</th>\n",
       "      <td>0</td>\n",
       "      <td>NaN</td>\n",
       "      <td>63</td>\n",
       "      <td>среднее</td>\n",
       "      <td>1</td>\n",
       "      <td>Не женат / не замужем</td>\n",
       "      <td>4</td>\n",
       "      <td>F</td>\n",
       "      <td>пенсионер</td>\n",
       "      <td>0</td>\n",
       "      <td>NaN</td>\n",
       "      <td>строительство жилой недвижимости</td>\n",
       "    </tr>\n",
       "    <tr>\n",
       "      <th>41</th>\n",
       "      <td>0</td>\n",
       "      <td>NaN</td>\n",
       "      <td>50</td>\n",
       "      <td>среднее</td>\n",
       "      <td>1</td>\n",
       "      <td>женат / замужем</td>\n",
       "      <td>0</td>\n",
       "      <td>F</td>\n",
       "      <td>госслужащий</td>\n",
       "      <td>0</td>\n",
       "      <td>NaN</td>\n",
       "      <td>сделка с подержанным автомобилем</td>\n",
       "    </tr>\n",
       "    <tr>\n",
       "      <th>55</th>\n",
       "      <td>0</td>\n",
       "      <td>NaN</td>\n",
       "      <td>54</td>\n",
       "      <td>среднее</td>\n",
       "      <td>1</td>\n",
       "      <td>гражданский брак</td>\n",
       "      <td>1</td>\n",
       "      <td>F</td>\n",
       "      <td>пенсионер</td>\n",
       "      <td>1</td>\n",
       "      <td>NaN</td>\n",
       "      <td>сыграть свадьбу</td>\n",
       "    </tr>\n",
       "    <tr>\n",
       "      <th>...</th>\n",
       "      <td>...</td>\n",
       "      <td>...</td>\n",
       "      <td>...</td>\n",
       "      <td>...</td>\n",
       "      <td>...</td>\n",
       "      <td>...</td>\n",
       "      <td>...</td>\n",
       "      <td>...</td>\n",
       "      <td>...</td>\n",
       "      <td>...</td>\n",
       "      <td>...</td>\n",
       "      <td>...</td>\n",
       "    </tr>\n",
       "    <tr>\n",
       "      <th>21489</th>\n",
       "      <td>2</td>\n",
       "      <td>NaN</td>\n",
       "      <td>47</td>\n",
       "      <td>Среднее</td>\n",
       "      <td>1</td>\n",
       "      <td>женат / замужем</td>\n",
       "      <td>0</td>\n",
       "      <td>M</td>\n",
       "      <td>компаньон</td>\n",
       "      <td>0</td>\n",
       "      <td>NaN</td>\n",
       "      <td>сделка с автомобилем</td>\n",
       "    </tr>\n",
       "    <tr>\n",
       "      <th>21495</th>\n",
       "      <td>1</td>\n",
       "      <td>NaN</td>\n",
       "      <td>50</td>\n",
       "      <td>среднее</td>\n",
       "      <td>1</td>\n",
       "      <td>гражданский брак</td>\n",
       "      <td>1</td>\n",
       "      <td>F</td>\n",
       "      <td>сотрудник</td>\n",
       "      <td>0</td>\n",
       "      <td>NaN</td>\n",
       "      <td>свадьба</td>\n",
       "    </tr>\n",
       "    <tr>\n",
       "      <th>21497</th>\n",
       "      <td>0</td>\n",
       "      <td>NaN</td>\n",
       "      <td>48</td>\n",
       "      <td>ВЫСШЕЕ</td>\n",
       "      <td>0</td>\n",
       "      <td>женат / замужем</td>\n",
       "      <td>0</td>\n",
       "      <td>F</td>\n",
       "      <td>компаньон</td>\n",
       "      <td>0</td>\n",
       "      <td>NaN</td>\n",
       "      <td>строительство недвижимости</td>\n",
       "    </tr>\n",
       "    <tr>\n",
       "      <th>21502</th>\n",
       "      <td>1</td>\n",
       "      <td>NaN</td>\n",
       "      <td>42</td>\n",
       "      <td>среднее</td>\n",
       "      <td>1</td>\n",
       "      <td>женат / замужем</td>\n",
       "      <td>0</td>\n",
       "      <td>F</td>\n",
       "      <td>сотрудник</td>\n",
       "      <td>0</td>\n",
       "      <td>NaN</td>\n",
       "      <td>строительство жилой недвижимости</td>\n",
       "    </tr>\n",
       "    <tr>\n",
       "      <th>21510</th>\n",
       "      <td>2</td>\n",
       "      <td>NaN</td>\n",
       "      <td>28</td>\n",
       "      <td>среднее</td>\n",
       "      <td>1</td>\n",
       "      <td>женат / замужем</td>\n",
       "      <td>0</td>\n",
       "      <td>F</td>\n",
       "      <td>сотрудник</td>\n",
       "      <td>0</td>\n",
       "      <td>NaN</td>\n",
       "      <td>приобретение автомобиля</td>\n",
       "    </tr>\n",
       "  </tbody>\n",
       "</table>\n",
       "<p>2174 rows × 12 columns</p>\n",
       "</div>"
      ],
      "text/plain": [
       "       children  days_employed  dob_years education  education_id  \\\n",
       "12            0            NaN         65   среднее             1   \n",
       "26            0            NaN         41   среднее             1   \n",
       "29            0            NaN         63   среднее             1   \n",
       "41            0            NaN         50   среднее             1   \n",
       "55            0            NaN         54   среднее             1   \n",
       "...         ...            ...        ...       ...           ...   \n",
       "21489         2            NaN         47   Среднее             1   \n",
       "21495         1            NaN         50   среднее             1   \n",
       "21497         0            NaN         48    ВЫСШЕЕ             0   \n",
       "21502         1            NaN         42   среднее             1   \n",
       "21510         2            NaN         28   среднее             1   \n",
       "\n",
       "               family_status  family_status_id gender  income_type  debt  \\\n",
       "12          гражданский брак                 1      M    пенсионер     0   \n",
       "26           женат / замужем                 0      M  госслужащий     0   \n",
       "29     Не женат / не замужем                 4      F    пенсионер     0   \n",
       "41           женат / замужем                 0      F  госслужащий     0   \n",
       "55          гражданский брак                 1      F    пенсионер     1   \n",
       "...                      ...               ...    ...          ...   ...   \n",
       "21489        женат / замужем                 0      M    компаньон     0   \n",
       "21495       гражданский брак                 1      F    сотрудник     0   \n",
       "21497        женат / замужем                 0      F    компаньон     0   \n",
       "21502        женат / замужем                 0      F    сотрудник     0   \n",
       "21510        женат / замужем                 0      F    сотрудник     0   \n",
       "\n",
       "       total_income                           purpose  \n",
       "12              NaN                   сыграть свадьбу  \n",
       "26              NaN                       образование  \n",
       "29              NaN  строительство жилой недвижимости  \n",
       "41              NaN  сделка с подержанным автомобилем  \n",
       "55              NaN                   сыграть свадьбу  \n",
       "...             ...                               ...  \n",
       "21489           NaN              сделка с автомобилем  \n",
       "21495           NaN                           свадьба  \n",
       "21497           NaN        строительство недвижимости  \n",
       "21502           NaN  строительство жилой недвижимости  \n",
       "21510           NaN           приобретение автомобиля  \n",
       "\n",
       "[2174 rows x 12 columns]"
      ]
     },
     "execution_count": 8,
     "metadata": {},
     "output_type": "execute_result"
    }
   ],
   "source": [
    "data[\n",
    "    data[\n",
    "        'days_employed'\n",
    "    ].isnull() & data[\n",
    "        'total_income'\n",
    "    ].isnull()\n",
    "]"
   ]
  },
  {
   "cell_type": "markdown",
   "id": "47c8c8fc",
   "metadata": {},
   "source": [
    "**_Гипотеза подтверждается_**, поскольку количество строк с совпадающими пропусками в обоих обозначенных столбцах совпадает с количеством пропусков в каждом из столбцов отдельно - **2174**.\n",
    "\n",
    "\n",
    "Возможная причина возникновения пропусков - скорее всего пропуски не случайные, поскольку пропуски в обоих столбцах совпадают во всех случаях. Возможно, пропуски смысловые - раз нет стажа, то и доход нельзя посчитать.\n",
    "\n",
    "#### Замена пропущенных данных в столбце `days_employed`\n",
    "\n",
    "Проверим адекватность данных в столбце `days_employed` с помощью метода `describe()`."
   ]
  },
  {
   "cell_type": "code",
   "execution_count": 9,
   "id": "f060b6f6",
   "metadata": {},
   "outputs": [
    {
     "data": {
      "text/plain": [
       "count     19351.000000\n",
       "mean      63046.497661\n",
       "std      140827.311974\n",
       "min      -18388.949901\n",
       "25%       -2747.423625\n",
       "50%       -1203.369529\n",
       "75%        -291.095954\n",
       "max      401755.400475\n",
       "Name: days_employed, dtype: float64"
      ]
     },
     "execution_count": 9,
     "metadata": {},
     "output_type": "execute_result"
    }
   ],
   "source": [
    "data['days_employed'].describe()"
   ]
  },
  {
   "cell_type": "markdown",
   "id": "e44247e8",
   "metadata": {},
   "source": [
    "По значениям параметров описательной статистики можно заметить значительное количество аномалий в данных (отрицательные значения противоречат смыслу данных в этом столбце), поэтому замену пропусков стоит произвести после устранения аномалий. \n",
    "\n",
    "#### Замена пропущенных данных в столбце `total_income`\n",
    "\n",
    "Заменим пропуски в столбце `'total_income'` на медианное значение."
   ]
  },
  {
   "cell_type": "code",
   "execution_count": 10,
   "id": "43023795",
   "metadata": {},
   "outputs": [
    {
     "name": "stdout",
     "output_type": "stream",
     "text": [
      "Медианное значение ежемесячного дохода: 145017.94\n",
      "Средний ежемесячный доход до замены пропусков: 167422.3\n",
      "Средний ежемесячный доход после замены пропусков: 165159.49\n"
     ]
    }
   ],
   "source": [
    "print(\n",
    "    'Медианное значение ежемесячного дохода:', \n",
    "    round(data['total_income'].median(), 2)\n",
    ")\n",
    "\n",
    "print(\n",
    "    'Средний ежемесячный доход до замены пропусков:', \n",
    "    round(data['total_income'].mean(), 2)\n",
    ")\n",
    "\n",
    "# Замена пропусков медианным значением \n",
    "data['total_income'] = data['total_income'].fillna(\n",
    "    data['total_income'].median()\n",
    ")\n",
    "\n",
    "\n",
    "# Проверка изменения среднего\n",
    "print(\n",
    "    'Средний ежемесячный доход после замены пропусков:', \n",
    "    round(data['total_income'].mean(), 2)\n",
    ")\n"
   ]
  },
  {
   "cell_type": "code",
   "execution_count": 11,
   "id": "3e79e0ef",
   "metadata": {},
   "outputs": [
    {
     "name": "stdout",
     "output_type": "stream",
     "text": [
      "Замена проведена успешно!\n"
     ]
    }
   ],
   "source": [
    "# Проверка успешности замены\n",
    "if data['total_income'].isna().sum() == 0:\n",
    "    print('Замена проведена успешно!')\n",
    "else:\n",
    "    print('Упс! Замена не прошла')"
   ]
  },
  {
   "cell_type": "markdown",
   "id": "925cfbe8",
   "metadata": {},
   "source": [
    "<div style=\"border:solid purple 1px; padding: 20px\"> <b>Выводы</b>\n",
    "\n",
    "Пропуски обнаружены в двух столбцах - `days_employed` и `total_income`. Количество пропусков в столбцах совпадает, и пропуски находятся в одних и тех же строках, что позволяет предположить, что пропуски скорее всего взаимосвязаны. Можно предположить, что пропуски смысловые и допущены при заполнении - если нет стажа, нет и данных о доходе. \n",
    "    \n",
    "Более точно определить причины возникновения пропусков можно после консультации с теми, кто предоставил доступ к данным. \n",
    "\n",
    "На данном этапе проведена замена пропущенных значений в столбце `total_income` на медианное значение.\n",
    "\n",
    "Поскольку в данных в столбце `days_employed` обнаружены аномалии, замена пропущенных значений может быть проведена после устранения этих аномалий."
   ]
  },
  {
   "cell_type": "markdown",
   "id": "0027f8b4",
   "metadata": {},
   "source": [
    "### Поиск и обработка аномалий\n",
    "\n",
    "По результатам предварительного анализа в данных выявлены такие аномалии:\n",
    "\n",
    "1) Аномальные значения `'days_employed'`\n",
    "* Отрицательные значения\n",
    "* Прочие аномалии\n",
    "\n",
    "2) Аномальные значения `'children'`\n",
    "* Отрицательные значения\n",
    "* Значение `20` \n",
    "\n",
    "3) Ноль в столбце `'dob_years'`\n",
    "\n",
    "4) Значение `XNA` в столбце `'gender'`\n",
    "\n",
    "\n",
    "#### Аномальные значения `'days_employed'`\n",
    "\n",
    "Стоит уточнить у разработчиков, нет ли ошибки в формате данных в этом столбце - количество дней логичнее было бы представлять в виде вещественных чисел, а не дробных. Можно предположить, что ошибка в формате или единице измерения. Также возможно, что поскольку данные в виде дробных чисел, они скорее всего были добавлены в таблицу в качестве результата вычисления, а не напрямую, а значит ошибки и аномалии могут быть результатом таковых в исходных данных.\n",
    "\n",
    "_**Отрицательные значения**_\n",
    "\n",
    "Отрицательные значения в столбце, обозначающем трудовой стаж в днях - скорее всего ошибка при внесении данных в таблицу, поэтому для исправления значения будут заменены на значения по модулю с помощью функции `abs()`."
   ]
  },
  {
   "cell_type": "code",
   "execution_count": 12,
   "id": "d166fee1",
   "metadata": {},
   "outputs": [
    {
     "data": {
      "text/plain": [
       "count     19351.000000\n",
       "mean      63046.497661\n",
       "std      140827.311974\n",
       "min      -18388.949901\n",
       "25%       -2747.423625\n",
       "50%       -1203.369529\n",
       "75%        -291.095954\n",
       "max      401755.400475\n",
       "Name: days_employed, dtype: float64"
      ]
     },
     "execution_count": 12,
     "metadata": {},
     "output_type": "execute_result"
    }
   ],
   "source": [
    "# Распределение данных до обработки\n",
    "data['days_employed'].describe()"
   ]
  },
  {
   "cell_type": "code",
   "execution_count": 13,
   "id": "2888a05b",
   "metadata": {},
   "outputs": [],
   "source": [
    "# Замена отрицательных значений модулем\n",
    "data['days_employed'] = data['days_employed'].abs()"
   ]
  },
  {
   "cell_type": "code",
   "execution_count": 14,
   "id": "6a02f2c0",
   "metadata": {},
   "outputs": [
    {
     "data": {
      "text/plain": [
       "count     19351.000000\n",
       "mean      66914.728907\n",
       "std      139030.880527\n",
       "min          24.141633\n",
       "25%         927.009265\n",
       "50%        2194.220567\n",
       "75%        5537.882441\n",
       "max      401755.400475\n",
       "Name: days_employed, dtype: float64"
      ]
     },
     "execution_count": 14,
     "metadata": {},
     "output_type": "execute_result"
    }
   ],
   "source": [
    "# Распределение данных после замены отрицательных значений\n",
    "data['days_employed'].describe()"
   ]
  },
  {
   "cell_type": "markdown",
   "id": "5cd605ed",
   "metadata": {},
   "source": [
    "Все значения столбца теперь имеют положительное значение, и аномалия данных устранена. Можно переходить к замене пропусков.\n",
    "\n",
    "_**Замена пропусков**_\n",
    "\n",
    "Заменим пропуски на медианное значение."
   ]
  },
  {
   "cell_type": "code",
   "execution_count": 15,
   "id": "a384d270",
   "metadata": {},
   "outputs": [
    {
     "data": {
      "text/plain": [
       "count     21525.000000\n",
       "mean      66914.728907\n",
       "std      131822.719320\n",
       "min          24.141633\n",
       "25%        1025.608174\n",
       "50%        2609.841015\n",
       "75%       66914.728907\n",
       "max      401755.400475\n",
       "Name: days_employed, dtype: float64"
      ]
     },
     "execution_count": 15,
     "metadata": {},
     "output_type": "execute_result"
    }
   ],
   "source": [
    "# Замена пропусков медианным значением\n",
    "data['days_employed'] = data['days_employed'].fillna(\n",
    "    data['days_employed'].mean()\n",
    ")\n",
    "\n",
    "# Проверка замены по распределению данных\n",
    "data['days_employed'].describe()"
   ]
  },
  {
   "cell_type": "code",
   "execution_count": 16,
   "id": "8ef64bf6",
   "metadata": {},
   "outputs": [
    {
     "name": "stdout",
     "output_type": "stream",
     "text": [
      "Замена проведена успешно!\n"
     ]
    }
   ],
   "source": [
    "if data['days_employed'].isna().sum() == 0:\n",
    "    print('Замена проведена успешно!')\n",
    "else:\n",
    "    print('Упс! Замена не прошла')"
   ]
  },
  {
   "cell_type": "markdown",
   "id": "26a61925",
   "metadata": {},
   "source": [
    "Пропуски были успешно заменены на медианные значения.\n",
    "\n",
    "После замены пропусков медианным значением среднее значение уменьшилось, но эти изменения не должны оказать сильного влияния на результаты исследования. Можно двигаться дальше, чтобы устранить прочие аномалии в этом столбце."
   ]
  },
  {
   "cell_type": "markdown",
   "id": "7061259f",
   "metadata": {},
   "source": [
    "_**Прочие аномалии**_\n",
    "\n",
    "Для оценки данных в столбце `'years_employed'` их имеет смысл перевести из дней в годы. \n",
    "\n",
    "Для целей данного исследования будем считать 60 лет максимальным реалистичным рабочим стажем.\n",
    "\n",
    "Для значений, превышающих данный предел, можно предположить, что при сборе данных могла произойти ошибка и данные были внесены в часах. Переведем данные в годы с учетом этого предположения для проверки гипотезы."
   ]
  },
  {
   "cell_type": "code",
   "execution_count": 17,
   "id": "3f349950",
   "metadata": {},
   "outputs": [
    {
     "name": "stdout",
     "output_type": "stream",
     "text": [
      "Среднее количество рабочих дней в году 255\n"
     ]
    }
   ],
   "source": [
    "days_per_year = 255\n",
    "\n",
    "print(\n",
    "    'Среднее количество рабочих дней в году', \n",
    "    days_per_year\n",
    ")"
   ]
  },
  {
   "cell_type": "code",
   "execution_count": 18,
   "id": "e7b5c2f8",
   "metadata": {},
   "outputs": [
    {
     "name": "stdout",
     "output_type": "stream",
     "text": [
      "Максимальный реалистичный стаж в днях 15300\n"
     ]
    }
   ],
   "source": [
    "max_realistic_employed = 60*days_per_year\n",
    "\n",
    "print(\n",
    "    'Максимальный реалистичный стаж в днях', \n",
    "    max_realistic_employed\n",
    ")"
   ]
  },
  {
   "cell_type": "code",
   "execution_count": 19,
   "id": "5792ea4d",
   "metadata": {},
   "outputs": [
    {
     "data": {
      "text/html": [
       "<div>\n",
       "<style scoped>\n",
       "    .dataframe tbody tr th:only-of-type {\n",
       "        vertical-align: middle;\n",
       "    }\n",
       "\n",
       "    .dataframe tbody tr th {\n",
       "        vertical-align: top;\n",
       "    }\n",
       "\n",
       "    .dataframe thead th {\n",
       "        text-align: right;\n",
       "    }\n",
       "</style>\n",
       "<table border=\"1\" class=\"dataframe\">\n",
       "  <thead>\n",
       "    <tr style=\"text-align: right;\">\n",
       "      <th></th>\n",
       "      <th>children</th>\n",
       "      <th>days_employed</th>\n",
       "      <th>dob_years</th>\n",
       "      <th>education</th>\n",
       "      <th>education_id</th>\n",
       "      <th>family_status</th>\n",
       "      <th>family_status_id</th>\n",
       "      <th>gender</th>\n",
       "      <th>income_type</th>\n",
       "      <th>debt</th>\n",
       "      <th>total_income</th>\n",
       "      <th>purpose</th>\n",
       "      <th>years_employed</th>\n",
       "    </tr>\n",
       "  </thead>\n",
       "  <tbody>\n",
       "    <tr>\n",
       "      <th>0</th>\n",
       "      <td>1</td>\n",
       "      <td>8437.673028</td>\n",
       "      <td>42</td>\n",
       "      <td>высшее</td>\n",
       "      <td>0</td>\n",
       "      <td>женат / замужем</td>\n",
       "      <td>0</td>\n",
       "      <td>F</td>\n",
       "      <td>сотрудник</td>\n",
       "      <td>0</td>\n",
       "      <td>253875.639453</td>\n",
       "      <td>покупка жилья</td>\n",
       "      <td>33.088914</td>\n",
       "    </tr>\n",
       "    <tr>\n",
       "      <th>1</th>\n",
       "      <td>1</td>\n",
       "      <td>4024.803754</td>\n",
       "      <td>36</td>\n",
       "      <td>среднее</td>\n",
       "      <td>1</td>\n",
       "      <td>женат / замужем</td>\n",
       "      <td>0</td>\n",
       "      <td>F</td>\n",
       "      <td>сотрудник</td>\n",
       "      <td>0</td>\n",
       "      <td>112080.014102</td>\n",
       "      <td>приобретение автомобиля</td>\n",
       "      <td>15.783544</td>\n",
       "    </tr>\n",
       "    <tr>\n",
       "      <th>2</th>\n",
       "      <td>0</td>\n",
       "      <td>5623.422610</td>\n",
       "      <td>33</td>\n",
       "      <td>Среднее</td>\n",
       "      <td>1</td>\n",
       "      <td>женат / замужем</td>\n",
       "      <td>0</td>\n",
       "      <td>M</td>\n",
       "      <td>сотрудник</td>\n",
       "      <td>0</td>\n",
       "      <td>145885.952297</td>\n",
       "      <td>покупка жилья</td>\n",
       "      <td>22.052638</td>\n",
       "    </tr>\n",
       "    <tr>\n",
       "      <th>3</th>\n",
       "      <td>3</td>\n",
       "      <td>4124.747207</td>\n",
       "      <td>32</td>\n",
       "      <td>среднее</td>\n",
       "      <td>1</td>\n",
       "      <td>женат / замужем</td>\n",
       "      <td>0</td>\n",
       "      <td>M</td>\n",
       "      <td>сотрудник</td>\n",
       "      <td>0</td>\n",
       "      <td>267628.550329</td>\n",
       "      <td>дополнительное образование</td>\n",
       "      <td>16.175479</td>\n",
       "    </tr>\n",
       "    <tr>\n",
       "      <th>4</th>\n",
       "      <td>0</td>\n",
       "      <td>340266.072047</td>\n",
       "      <td>53</td>\n",
       "      <td>среднее</td>\n",
       "      <td>1</td>\n",
       "      <td>гражданский брак</td>\n",
       "      <td>1</td>\n",
       "      <td>F</td>\n",
       "      <td>пенсионер</td>\n",
       "      <td>0</td>\n",
       "      <td>158616.077870</td>\n",
       "      <td>сыграть свадьбу</td>\n",
       "      <td>55.599031</td>\n",
       "    </tr>\n",
       "  </tbody>\n",
       "</table>\n",
       "</div>"
      ],
      "text/plain": [
       "   children  days_employed  dob_years education  education_id  \\\n",
       "0         1    8437.673028         42    высшее             0   \n",
       "1         1    4024.803754         36   среднее             1   \n",
       "2         0    5623.422610         33   Среднее             1   \n",
       "3         3    4124.747207         32   среднее             1   \n",
       "4         0  340266.072047         53   среднее             1   \n",
       "\n",
       "      family_status  family_status_id gender income_type  debt   total_income  \\\n",
       "0   женат / замужем                 0      F   сотрудник     0  253875.639453   \n",
       "1   женат / замужем                 0      F   сотрудник     0  112080.014102   \n",
       "2   женат / замужем                 0      M   сотрудник     0  145885.952297   \n",
       "3   женат / замужем                 0      M   сотрудник     0  267628.550329   \n",
       "4  гражданский брак                 1      F   пенсионер     0  158616.077870   \n",
       "\n",
       "                      purpose  years_employed  \n",
       "0               покупка жилья       33.088914  \n",
       "1     приобретение автомобиля       15.783544  \n",
       "2               покупка жилья       22.052638  \n",
       "3  дополнительное образование       16.175479  \n",
       "4             сыграть свадьбу       55.599031  "
      ]
     },
     "execution_count": 19,
     "metadata": {},
     "output_type": "execute_result"
    }
   ],
   "source": [
    "def days_to_years(row):\n",
    "\n",
    "    days = row['days_employed']\n",
    "    for row in data:\n",
    "        if days > max_realistic_employed:\n",
    "            return days / (24 * days_per_year)\n",
    "        elif days <= max_realistic_employed:\n",
    "            return days / days_per_year\n",
    "        else:\n",
    "            print('Ошибка функции')\n",
    "\n",
    "try:\n",
    "    data['years_employed'] = data.apply(\n",
    "        days_to_years, \n",
    "        axis=1\n",
    "    )\n",
    "except:\n",
    "    print('Ошибка в обработке данных')\n",
    "data.head()"
   ]
  },
  {
   "cell_type": "markdown",
   "id": "2246ab90",
   "metadata": {},
   "source": [
    "Проверим распределение данных после пересчета трудового стажа из дней в годы."
   ]
  },
  {
   "cell_type": "code",
   "execution_count": 20,
   "id": "1366a1ac",
   "metadata": {},
   "outputs": [
    {
     "data": {
      "text/plain": [
       "count    21525.000000\n",
       "mean        17.439851\n",
       "std         20.012081\n",
       "min          0.094673\n",
       "25%          4.018243\n",
       "50%         10.218620\n",
       "75%         18.704887\n",
       "max         65.646307\n",
       "Name: years_employed, dtype: float64"
      ]
     },
     "execution_count": 20,
     "metadata": {},
     "output_type": "execute_result"
    }
   ],
   "source": [
    "data['years_employed'].describe()"
   ]
  },
  {
   "cell_type": "markdown",
   "id": "ef598bda",
   "metadata": {},
   "source": [
    "После обработки данные выглядят более реалистично, и на данном этапе можно сделать заключение, что предположение о том, что дни рабочего стажа были ошибочно введены в часах, выглядит правдоподобно. Как и в случае с другими аномалиями в данных, источники ошибок и отклонений можно будет установить точнее после консультации с разработчиками.\n",
    "\n",
    "На данном этапе предобработку данных в столбце `'years_employed'` можно считать завершенной, можно двигаться дальше.\n",
    "\n",
    "Для дальнейшего анализа переведем данные столбца `'dob_years'` в тип float."
   ]
  },
  {
   "cell_type": "code",
   "execution_count": 21,
   "id": "a8c47cc7",
   "metadata": {},
   "outputs": [
    {
     "name": "stdout",
     "output_type": "stream",
     "text": [
      "<class 'pandas.core.frame.DataFrame'>\n",
      "RangeIndex: 21525 entries, 0 to 21524\n",
      "Data columns (total 13 columns):\n",
      " #   Column            Non-Null Count  Dtype  \n",
      "---  ------            --------------  -----  \n",
      " 0   children          21525 non-null  int64  \n",
      " 1   days_employed     21525 non-null  float64\n",
      " 2   dob_years         21525 non-null  float64\n",
      " 3   education         21525 non-null  object \n",
      " 4   education_id      21525 non-null  int64  \n",
      " 5   family_status     21525 non-null  object \n",
      " 6   family_status_id  21525 non-null  int64  \n",
      " 7   gender            21525 non-null  object \n",
      " 8   income_type       21525 non-null  object \n",
      " 9   debt              21525 non-null  int64  \n",
      " 10  total_income      21525 non-null  float64\n",
      " 11  purpose           21525 non-null  object \n",
      " 12  years_employed    21525 non-null  float64\n",
      "dtypes: float64(4), int64(4), object(5)\n",
      "memory usage: 2.1+ MB\n"
     ]
    }
   ],
   "source": [
    "# Перевод значений столбца 'dob_years' в тип float\n",
    "data['dob_years'] = data[\n",
    "    'dob_years'\n",
    "].astype(\n",
    "    'float'\n",
    ")\n",
    "\n",
    "#Для проверки перевода данных в тип Float выведем информацию о данных\n",
    "data.info()"
   ]
  },
  {
   "cell_type": "markdown",
   "id": "049ebede",
   "metadata": {},
   "source": [
    "Данные переведены в тип вещественных чисел успешно, можно двигаться дальше.\n",
    "\n",
    "Столбец `'days_employed'` теперь можно удалить, эти данные не понадобятся для дальнейшего исследования."
   ]
  },
  {
   "cell_type": "code",
   "execution_count": 22,
   "id": "13a571cf",
   "metadata": {},
   "outputs": [
    {
     "data": {
      "text/html": [
       "<div>\n",
       "<style scoped>\n",
       "    .dataframe tbody tr th:only-of-type {\n",
       "        vertical-align: middle;\n",
       "    }\n",
       "\n",
       "    .dataframe tbody tr th {\n",
       "        vertical-align: top;\n",
       "    }\n",
       "\n",
       "    .dataframe thead th {\n",
       "        text-align: right;\n",
       "    }\n",
       "</style>\n",
       "<table border=\"1\" class=\"dataframe\">\n",
       "  <thead>\n",
       "    <tr style=\"text-align: right;\">\n",
       "      <th></th>\n",
       "      <th>children</th>\n",
       "      <th>dob_years</th>\n",
       "      <th>education</th>\n",
       "      <th>education_id</th>\n",
       "      <th>family_status</th>\n",
       "      <th>family_status_id</th>\n",
       "      <th>gender</th>\n",
       "      <th>income_type</th>\n",
       "      <th>debt</th>\n",
       "      <th>total_income</th>\n",
       "      <th>purpose</th>\n",
       "      <th>years_employed</th>\n",
       "    </tr>\n",
       "  </thead>\n",
       "  <tbody>\n",
       "    <tr>\n",
       "      <th>0</th>\n",
       "      <td>1</td>\n",
       "      <td>42.0</td>\n",
       "      <td>высшее</td>\n",
       "      <td>0</td>\n",
       "      <td>женат / замужем</td>\n",
       "      <td>0</td>\n",
       "      <td>F</td>\n",
       "      <td>сотрудник</td>\n",
       "      <td>0</td>\n",
       "      <td>253875.639453</td>\n",
       "      <td>покупка жилья</td>\n",
       "      <td>33.088914</td>\n",
       "    </tr>\n",
       "    <tr>\n",
       "      <th>1</th>\n",
       "      <td>1</td>\n",
       "      <td>36.0</td>\n",
       "      <td>среднее</td>\n",
       "      <td>1</td>\n",
       "      <td>женат / замужем</td>\n",
       "      <td>0</td>\n",
       "      <td>F</td>\n",
       "      <td>сотрудник</td>\n",
       "      <td>0</td>\n",
       "      <td>112080.014102</td>\n",
       "      <td>приобретение автомобиля</td>\n",
       "      <td>15.783544</td>\n",
       "    </tr>\n",
       "    <tr>\n",
       "      <th>2</th>\n",
       "      <td>0</td>\n",
       "      <td>33.0</td>\n",
       "      <td>Среднее</td>\n",
       "      <td>1</td>\n",
       "      <td>женат / замужем</td>\n",
       "      <td>0</td>\n",
       "      <td>M</td>\n",
       "      <td>сотрудник</td>\n",
       "      <td>0</td>\n",
       "      <td>145885.952297</td>\n",
       "      <td>покупка жилья</td>\n",
       "      <td>22.052638</td>\n",
       "    </tr>\n",
       "    <tr>\n",
       "      <th>3</th>\n",
       "      <td>3</td>\n",
       "      <td>32.0</td>\n",
       "      <td>среднее</td>\n",
       "      <td>1</td>\n",
       "      <td>женат / замужем</td>\n",
       "      <td>0</td>\n",
       "      <td>M</td>\n",
       "      <td>сотрудник</td>\n",
       "      <td>0</td>\n",
       "      <td>267628.550329</td>\n",
       "      <td>дополнительное образование</td>\n",
       "      <td>16.175479</td>\n",
       "    </tr>\n",
       "    <tr>\n",
       "      <th>4</th>\n",
       "      <td>0</td>\n",
       "      <td>53.0</td>\n",
       "      <td>среднее</td>\n",
       "      <td>1</td>\n",
       "      <td>гражданский брак</td>\n",
       "      <td>1</td>\n",
       "      <td>F</td>\n",
       "      <td>пенсионер</td>\n",
       "      <td>0</td>\n",
       "      <td>158616.077870</td>\n",
       "      <td>сыграть свадьбу</td>\n",
       "      <td>55.599031</td>\n",
       "    </tr>\n",
       "  </tbody>\n",
       "</table>\n",
       "</div>"
      ],
      "text/plain": [
       "   children  dob_years education  education_id     family_status  \\\n",
       "0         1       42.0    высшее             0   женат / замужем   \n",
       "1         1       36.0   среднее             1   женат / замужем   \n",
       "2         0       33.0   Среднее             1   женат / замужем   \n",
       "3         3       32.0   среднее             1   женат / замужем   \n",
       "4         0       53.0   среднее             1  гражданский брак   \n",
       "\n",
       "   family_status_id gender income_type  debt   total_income  \\\n",
       "0                 0      F   сотрудник     0  253875.639453   \n",
       "1                 0      F   сотрудник     0  112080.014102   \n",
       "2                 0      M   сотрудник     0  145885.952297   \n",
       "3                 0      M   сотрудник     0  267628.550329   \n",
       "4                 1      F   пенсионер     0  158616.077870   \n",
       "\n",
       "                      purpose  years_employed  \n",
       "0               покупка жилья       33.088914  \n",
       "1     приобретение автомобиля       15.783544  \n",
       "2               покупка жилья       22.052638  \n",
       "3  дополнительное образование       16.175479  \n",
       "4             сыграть свадьбу       55.599031  "
      ]
     },
     "execution_count": 22,
     "metadata": {},
     "output_type": "execute_result"
    }
   ],
   "source": [
    "del(data['days_employed'])\n",
    "\n",
    "#Проверим удаление столбца\n",
    "data.head()"
   ]
  },
  {
   "cell_type": "markdown",
   "id": "aafdb305",
   "metadata": {},
   "source": [
    "#### Аномальные значения `'children'`\n",
    "\n",
    "Для поиска аномальных значений выведем сводные данные по столбцу:"
   ]
  },
  {
   "cell_type": "code",
   "execution_count": 23,
   "id": "1a73b0ca",
   "metadata": {},
   "outputs": [
    {
     "data": {
      "text/plain": [
       " 0     14149\n",
       " 1      4818\n",
       " 2      2055\n",
       " 3       330\n",
       " 20       76\n",
       "-1        47\n",
       " 4        41\n",
       " 5         9\n",
       "Name: children, dtype: int64"
      ]
     },
     "execution_count": 23,
     "metadata": {},
     "output_type": "execute_result"
    }
   ],
   "source": [
    "data['children'].value_counts()"
   ]
  },
  {
   "cell_type": "markdown",
   "id": "0e3cc716",
   "metadata": {},
   "source": [
    "К аномальным значениям можно отнести отрицательные значения `-1` и `20`. Источниками ошибок может быть ошибка при внесении данных или ошибка при выгрузке.\n",
    "\n",
    "_**Отрицательные значения**_"
   ]
  },
  {
   "cell_type": "code",
   "execution_count": 24,
   "id": "963392cd",
   "metadata": {},
   "outputs": [
    {
     "name": "stdout",
     "output_type": "stream",
     "text": [
      "Доля строк с ошибками составляет 0.218 %\n"
     ]
    }
   ],
   "source": [
    "print(\n",
    "    'Доля строк с ошибками составляет', \n",
    "    ((\n",
    "            data[data['children']<0]['children'].count()*100\n",
    "        ) / data['children'].count()\n",
    "    ).round(3), \n",
    "    '%'\n",
    ")"
   ]
  },
  {
   "cell_type": "markdown",
   "id": "fe2e742e",
   "metadata": {},
   "source": [
    "Количество строк с отрицательными значениями составляет менее 1% от общего объема данных. \n",
    "\n",
    "Поскольку один из возможных источников аномалии - ошибка при внесении данных в базу, можно предположить что значение, которое предполагалось изначально, равно 1. Для исправления ошибок заменим отрицательные данные по модулю с помощью функции `abs()`."
   ]
  },
  {
   "cell_type": "code",
   "execution_count": 25,
   "id": "5c8743a0",
   "metadata": {},
   "outputs": [
    {
     "data": {
      "text/plain": [
       "0     14149\n",
       "1      4865\n",
       "2      2055\n",
       "3       330\n",
       "20       76\n",
       "4        41\n",
       "5         9\n",
       "Name: children, dtype: int64"
      ]
     },
     "execution_count": 25,
     "metadata": {},
     "output_type": "execute_result"
    }
   ],
   "source": [
    "data['children'] = data['children'].abs()\n",
    "\n",
    "# Проверка устранения аномалии\n",
    "data['children'].value_counts()"
   ]
  },
  {
   "cell_type": "markdown",
   "id": "82de69e3",
   "metadata": {},
   "source": [
    "Отрицательные значения исправлены, данная аномалия устранена.\n",
    "\n",
    "_**Значение `20`**_\n",
    "\n",
    "Это значение повторяется в таблице 76 раз. Как и в случае с аномалиями, которые были рассмотрены выше, источник ошибки можно будет узнать точно после обсуждения с разработчиками.\n",
    "\n",
    "На данном этапе можно предположить, что эти данные все же являются ошибкой, а не реальным значением. Случайность ошибки можно будет оценить после оценки значений других параметров для строк с этой аномалией. Для этого выведем первые 10 строк на экран."
   ]
  },
  {
   "cell_type": "code",
   "execution_count": 26,
   "id": "bce906a0",
   "metadata": {
    "scrolled": false
   },
   "outputs": [
    {
     "data": {
      "text/html": [
       "<div>\n",
       "<style scoped>\n",
       "    .dataframe tbody tr th:only-of-type {\n",
       "        vertical-align: middle;\n",
       "    }\n",
       "\n",
       "    .dataframe tbody tr th {\n",
       "        vertical-align: top;\n",
       "    }\n",
       "\n",
       "    .dataframe thead th {\n",
       "        text-align: right;\n",
       "    }\n",
       "</style>\n",
       "<table border=\"1\" class=\"dataframe\">\n",
       "  <thead>\n",
       "    <tr style=\"text-align: right;\">\n",
       "      <th></th>\n",
       "      <th>children</th>\n",
       "      <th>dob_years</th>\n",
       "      <th>education</th>\n",
       "      <th>education_id</th>\n",
       "      <th>family_status</th>\n",
       "      <th>family_status_id</th>\n",
       "      <th>gender</th>\n",
       "      <th>income_type</th>\n",
       "      <th>debt</th>\n",
       "      <th>total_income</th>\n",
       "      <th>purpose</th>\n",
       "      <th>years_employed</th>\n",
       "    </tr>\n",
       "  </thead>\n",
       "  <tbody>\n",
       "    <tr>\n",
       "      <th>606</th>\n",
       "      <td>20</td>\n",
       "      <td>21.0</td>\n",
       "      <td>среднее</td>\n",
       "      <td>1</td>\n",
       "      <td>женат / замужем</td>\n",
       "      <td>0</td>\n",
       "      <td>M</td>\n",
       "      <td>компаньон</td>\n",
       "      <td>0</td>\n",
       "      <td>145334.865002</td>\n",
       "      <td>покупка жилья</td>\n",
       "      <td>3.451848</td>\n",
       "    </tr>\n",
       "    <tr>\n",
       "      <th>720</th>\n",
       "      <td>20</td>\n",
       "      <td>44.0</td>\n",
       "      <td>среднее</td>\n",
       "      <td>1</td>\n",
       "      <td>женат / замужем</td>\n",
       "      <td>0</td>\n",
       "      <td>F</td>\n",
       "      <td>компаньон</td>\n",
       "      <td>0</td>\n",
       "      <td>112998.738649</td>\n",
       "      <td>покупка недвижимости</td>\n",
       "      <td>3.355277</td>\n",
       "    </tr>\n",
       "    <tr>\n",
       "      <th>1074</th>\n",
       "      <td>20</td>\n",
       "      <td>56.0</td>\n",
       "      <td>среднее</td>\n",
       "      <td>1</td>\n",
       "      <td>женат / замужем</td>\n",
       "      <td>0</td>\n",
       "      <td>F</td>\n",
       "      <td>сотрудник</td>\n",
       "      <td>1</td>\n",
       "      <td>229518.537004</td>\n",
       "      <td>получение образования</td>\n",
       "      <td>12.982006</td>\n",
       "    </tr>\n",
       "    <tr>\n",
       "      <th>2510</th>\n",
       "      <td>20</td>\n",
       "      <td>59.0</td>\n",
       "      <td>высшее</td>\n",
       "      <td>0</td>\n",
       "      <td>вдовец / вдова</td>\n",
       "      <td>2</td>\n",
       "      <td>F</td>\n",
       "      <td>сотрудник</td>\n",
       "      <td>0</td>\n",
       "      <td>264474.835577</td>\n",
       "      <td>операции с коммерческой недвижимостью</td>\n",
       "      <td>10.643770</td>\n",
       "    </tr>\n",
       "    <tr>\n",
       "      <th>2941</th>\n",
       "      <td>20</td>\n",
       "      <td>0.0</td>\n",
       "      <td>среднее</td>\n",
       "      <td>1</td>\n",
       "      <td>женат / замужем</td>\n",
       "      <td>0</td>\n",
       "      <td>F</td>\n",
       "      <td>сотрудник</td>\n",
       "      <td>0</td>\n",
       "      <td>199739.941398</td>\n",
       "      <td>на покупку автомобиля</td>\n",
       "      <td>8.476829</td>\n",
       "    </tr>\n",
       "    <tr>\n",
       "      <th>3302</th>\n",
       "      <td>20</td>\n",
       "      <td>35.0</td>\n",
       "      <td>среднее</td>\n",
       "      <td>1</td>\n",
       "      <td>Не женат / не замужем</td>\n",
       "      <td>4</td>\n",
       "      <td>F</td>\n",
       "      <td>госслужащий</td>\n",
       "      <td>0</td>\n",
       "      <td>145017.937533</td>\n",
       "      <td>профильное образование</td>\n",
       "      <td>10.933779</td>\n",
       "    </tr>\n",
       "    <tr>\n",
       "      <th>3396</th>\n",
       "      <td>20</td>\n",
       "      <td>56.0</td>\n",
       "      <td>высшее</td>\n",
       "      <td>0</td>\n",
       "      <td>женат / замужем</td>\n",
       "      <td>0</td>\n",
       "      <td>F</td>\n",
       "      <td>компаньон</td>\n",
       "      <td>0</td>\n",
       "      <td>145017.937533</td>\n",
       "      <td>высшее образование</td>\n",
       "      <td>10.933779</td>\n",
       "    </tr>\n",
       "    <tr>\n",
       "      <th>3671</th>\n",
       "      <td>20</td>\n",
       "      <td>23.0</td>\n",
       "      <td>среднее</td>\n",
       "      <td>1</td>\n",
       "      <td>Не женат / не замужем</td>\n",
       "      <td>4</td>\n",
       "      <td>F</td>\n",
       "      <td>сотрудник</td>\n",
       "      <td>0</td>\n",
       "      <td>101255.492076</td>\n",
       "      <td>на покупку подержанного автомобиля</td>\n",
       "      <td>3.581026</td>\n",
       "    </tr>\n",
       "    <tr>\n",
       "      <th>3697</th>\n",
       "      <td>20</td>\n",
       "      <td>40.0</td>\n",
       "      <td>среднее</td>\n",
       "      <td>1</td>\n",
       "      <td>гражданский брак</td>\n",
       "      <td>1</td>\n",
       "      <td>M</td>\n",
       "      <td>сотрудник</td>\n",
       "      <td>0</td>\n",
       "      <td>115380.694664</td>\n",
       "      <td>на покупку подержанного автомобиля</td>\n",
       "      <td>11.403571</td>\n",
       "    </tr>\n",
       "    <tr>\n",
       "      <th>3735</th>\n",
       "      <td>20</td>\n",
       "      <td>26.0</td>\n",
       "      <td>высшее</td>\n",
       "      <td>0</td>\n",
       "      <td>Не женат / не замужем</td>\n",
       "      <td>4</td>\n",
       "      <td>M</td>\n",
       "      <td>сотрудник</td>\n",
       "      <td>0</td>\n",
       "      <td>137200.646181</td>\n",
       "      <td>ремонт жилью</td>\n",
       "      <td>3.157037</td>\n",
       "    </tr>\n",
       "  </tbody>\n",
       "</table>\n",
       "</div>"
      ],
      "text/plain": [
       "      children  dob_years education  education_id          family_status  \\\n",
       "606         20       21.0   среднее             1        женат / замужем   \n",
       "720         20       44.0   среднее             1        женат / замужем   \n",
       "1074        20       56.0   среднее             1        женат / замужем   \n",
       "2510        20       59.0    высшее             0         вдовец / вдова   \n",
       "2941        20        0.0   среднее             1        женат / замужем   \n",
       "3302        20       35.0   среднее             1  Не женат / не замужем   \n",
       "3396        20       56.0    высшее             0        женат / замужем   \n",
       "3671        20       23.0   среднее             1  Не женат / не замужем   \n",
       "3697        20       40.0   среднее             1       гражданский брак   \n",
       "3735        20       26.0    высшее             0  Не женат / не замужем   \n",
       "\n",
       "      family_status_id gender  income_type  debt   total_income  \\\n",
       "606                  0      M    компаньон     0  145334.865002   \n",
       "720                  0      F    компаньон     0  112998.738649   \n",
       "1074                 0      F    сотрудник     1  229518.537004   \n",
       "2510                 2      F    сотрудник     0  264474.835577   \n",
       "2941                 0      F    сотрудник     0  199739.941398   \n",
       "3302                 4      F  госслужащий     0  145017.937533   \n",
       "3396                 0      F    компаньон     0  145017.937533   \n",
       "3671                 4      F    сотрудник     0  101255.492076   \n",
       "3697                 1      M    сотрудник     0  115380.694664   \n",
       "3735                 4      M    сотрудник     0  137200.646181   \n",
       "\n",
       "                                    purpose  years_employed  \n",
       "606                           покупка жилья        3.451848  \n",
       "720                    покупка недвижимости        3.355277  \n",
       "1074                  получение образования       12.982006  \n",
       "2510  операции с коммерческой недвижимостью       10.643770  \n",
       "2941                  на покупку автомобиля        8.476829  \n",
       "3302                 профильное образование       10.933779  \n",
       "3396                     высшее образование       10.933779  \n",
       "3671     на покупку подержанного автомобиля        3.581026  \n",
       "3697     на покупку подержанного автомобиля       11.403571  \n",
       "3735                           ремонт жилью        3.157037  "
      ]
     },
     "execution_count": 26,
     "metadata": {},
     "output_type": "execute_result"
    }
   ],
   "source": [
    "data[data['children'] == 20].head(10)"
   ]
  },
  {
   "cell_type": "markdown",
   "id": "d5018d20",
   "metadata": {},
   "source": [
    "В таблице выше никакая связь со значениями в других столбцах не бросается в глаза, поэтому можно предположить, что ошибки случайные, а не связаны с другими параметрами таблицы.\n",
    "\n",
    "Для определения лучшего способа исправления этой аномалии выведем несколько сводных таблиц. Таким образом можно выяснить, на какое значение лучше заменить аномалии исходя из значений других параметров (возраста, уровня образования, семейного положения, пола)."
   ]
  },
  {
   "cell_type": "code",
   "execution_count": 27,
   "id": "a3e441a2",
   "metadata": {},
   "outputs": [
    {
     "data": {
      "text/html": [
       "<div>\n",
       "<style scoped>\n",
       "    .dataframe tbody tr th:only-of-type {\n",
       "        vertical-align: middle;\n",
       "    }\n",
       "\n",
       "    .dataframe tbody tr th {\n",
       "        vertical-align: top;\n",
       "    }\n",
       "\n",
       "    .dataframe thead th {\n",
       "        text-align: right;\n",
       "    }\n",
       "</style>\n",
       "<table border=\"1\" class=\"dataframe\">\n",
       "  <thead>\n",
       "    <tr style=\"text-align: right;\">\n",
       "      <th>children</th>\n",
       "      <th>0</th>\n",
       "      <th>1</th>\n",
       "      <th>2</th>\n",
       "      <th>3</th>\n",
       "      <th>4</th>\n",
       "      <th>5</th>\n",
       "      <th>20</th>\n",
       "    </tr>\n",
       "    <tr>\n",
       "      <th>family_status</th>\n",
       "      <th></th>\n",
       "      <th></th>\n",
       "      <th></th>\n",
       "      <th></th>\n",
       "      <th></th>\n",
       "      <th></th>\n",
       "      <th></th>\n",
       "    </tr>\n",
       "  </thead>\n",
       "  <tbody>\n",
       "    <tr>\n",
       "      <th>Не женат / не замужем</th>\n",
       "      <td>38.790728</td>\n",
       "      <td>36.623348</td>\n",
       "      <td>36.893333</td>\n",
       "      <td>39.000000</td>\n",
       "      <td>41.000000</td>\n",
       "      <td>NaN</td>\n",
       "      <td>31.555556</td>\n",
       "    </tr>\n",
       "    <tr>\n",
       "      <th>в разводе</th>\n",
       "      <td>48.684949</td>\n",
       "      <td>40.398734</td>\n",
       "      <td>36.345679</td>\n",
       "      <td>35.909091</td>\n",
       "      <td>36.000000</td>\n",
       "      <td>NaN</td>\n",
       "      <td>42.000000</td>\n",
       "    </tr>\n",
       "    <tr>\n",
       "      <th>вдовец / вдова</th>\n",
       "      <td>57.625000</td>\n",
       "      <td>49.395062</td>\n",
       "      <td>42.700000</td>\n",
       "      <td>43.000000</td>\n",
       "      <td>30.000000</td>\n",
       "      <td>NaN</td>\n",
       "      <td>61.000000</td>\n",
       "    </tr>\n",
       "    <tr>\n",
       "      <th>гражданский брак</th>\n",
       "      <td>44.527616</td>\n",
       "      <td>38.023928</td>\n",
       "      <td>36.002907</td>\n",
       "      <td>36.339286</td>\n",
       "      <td>31.875000</td>\n",
       "      <td>38.500000</td>\n",
       "      <td>45.750000</td>\n",
       "    </tr>\n",
       "    <tr>\n",
       "      <th>женат / замужем</th>\n",
       "      <td>47.615600</td>\n",
       "      <td>38.298572</td>\n",
       "      <td>35.542671</td>\n",
       "      <td>36.044177</td>\n",
       "      <td>37.068966</td>\n",
       "      <td>38.857143</td>\n",
       "      <td>41.163265</td>\n",
       "    </tr>\n",
       "  </tbody>\n",
       "</table>\n",
       "</div>"
      ],
      "text/plain": [
       "children                      0          1          2          3          4   \\\n",
       "family_status                                                                  \n",
       "Не женат / не замужем  38.790728  36.623348  36.893333  39.000000  41.000000   \n",
       "в разводе              48.684949  40.398734  36.345679  35.909091  36.000000   \n",
       "вдовец / вдова         57.625000  49.395062  42.700000  43.000000  30.000000   \n",
       "гражданский брак       44.527616  38.023928  36.002907  36.339286  31.875000   \n",
       "женат / замужем        47.615600  38.298572  35.542671  36.044177  37.068966   \n",
       "\n",
       "children                      5          20  \n",
       "family_status                                \n",
       "Не женат / не замужем        NaN  31.555556  \n",
       "в разводе                    NaN  42.000000  \n",
       "вдовец / вдова               NaN  61.000000  \n",
       "гражданский брак       38.500000  45.750000  \n",
       "женат / замужем        38.857143  41.163265  "
      ]
     },
     "execution_count": 27,
     "metadata": {},
     "output_type": "execute_result"
    }
   ],
   "source": [
    "data.pivot_table(\n",
    "    index=['family_status'], \n",
    "    columns='children', \n",
    "    values='dob_years', \n",
    "    aggfunc='mean'\n",
    ")"
   ]
  },
  {
   "cell_type": "code",
   "execution_count": 28,
   "id": "730233c4",
   "metadata": {},
   "outputs": [
    {
     "data": {
      "text/html": [
       "<div>\n",
       "<style scoped>\n",
       "    .dataframe tbody tr th:only-of-type {\n",
       "        vertical-align: middle;\n",
       "    }\n",
       "\n",
       "    .dataframe tbody tr th {\n",
       "        vertical-align: top;\n",
       "    }\n",
       "\n",
       "    .dataframe thead th {\n",
       "        text-align: right;\n",
       "    }\n",
       "</style>\n",
       "<table border=\"1\" class=\"dataframe\">\n",
       "  <thead>\n",
       "    <tr style=\"text-align: right;\">\n",
       "      <th>children</th>\n",
       "      <th>0</th>\n",
       "      <th>1</th>\n",
       "      <th>2</th>\n",
       "      <th>3</th>\n",
       "      <th>4</th>\n",
       "      <th>5</th>\n",
       "      <th>20</th>\n",
       "    </tr>\n",
       "    <tr>\n",
       "      <th>education_id</th>\n",
       "      <th></th>\n",
       "      <th></th>\n",
       "      <th></th>\n",
       "      <th></th>\n",
       "      <th></th>\n",
       "      <th></th>\n",
       "      <th></th>\n",
       "    </tr>\n",
       "  </thead>\n",
       "  <tbody>\n",
       "    <tr>\n",
       "      <th>0</th>\n",
       "      <td>43.117034</td>\n",
       "      <td>37.176912</td>\n",
       "      <td>35.397482</td>\n",
       "      <td>36.530120</td>\n",
       "      <td>33.888889</td>\n",
       "      <td>NaN</td>\n",
       "      <td>40.571429</td>\n",
       "    </tr>\n",
       "    <tr>\n",
       "      <th>1</th>\n",
       "      <td>47.696747</td>\n",
       "      <td>39.149970</td>\n",
       "      <td>35.889444</td>\n",
       "      <td>36.047619</td>\n",
       "      <td>36.656250</td>\n",
       "      <td>38.875</td>\n",
       "      <td>42.516667</td>\n",
       "    </tr>\n",
       "    <tr>\n",
       "      <th>2</th>\n",
       "      <td>35.191358</td>\n",
       "      <td>32.767045</td>\n",
       "      <td>35.722222</td>\n",
       "      <td>35.875000</td>\n",
       "      <td>NaN</td>\n",
       "      <td>NaN</td>\n",
       "      <td>29.500000</td>\n",
       "    </tr>\n",
       "    <tr>\n",
       "      <th>3</th>\n",
       "      <td>51.264550</td>\n",
       "      <td>41.516667</td>\n",
       "      <td>37.520000</td>\n",
       "      <td>41.857143</td>\n",
       "      <td>NaN</td>\n",
       "      <td>38.000</td>\n",
       "      <td>NaN</td>\n",
       "    </tr>\n",
       "    <tr>\n",
       "      <th>4</th>\n",
       "      <td>58.500000</td>\n",
       "      <td>37.000000</td>\n",
       "      <td>NaN</td>\n",
       "      <td>36.000000</td>\n",
       "      <td>NaN</td>\n",
       "      <td>NaN</td>\n",
       "      <td>NaN</td>\n",
       "    </tr>\n",
       "  </tbody>\n",
       "</table>\n",
       "</div>"
      ],
      "text/plain": [
       "children             0          1          2          3          4       5   \\\n",
       "education_id                                                                  \n",
       "0             43.117034  37.176912  35.397482  36.530120  33.888889     NaN   \n",
       "1             47.696747  39.149970  35.889444  36.047619  36.656250  38.875   \n",
       "2             35.191358  32.767045  35.722222  35.875000        NaN     NaN   \n",
       "3             51.264550  41.516667  37.520000  41.857143        NaN  38.000   \n",
       "4             58.500000  37.000000        NaN  36.000000        NaN     NaN   \n",
       "\n",
       "children             20  \n",
       "education_id             \n",
       "0             40.571429  \n",
       "1             42.516667  \n",
       "2             29.500000  \n",
       "3                   NaN  \n",
       "4                   NaN  "
      ]
     },
     "execution_count": 28,
     "metadata": {},
     "output_type": "execute_result"
    }
   ],
   "source": [
    "data.pivot_table(\n",
    "    index=['education_id'], \n",
    "    columns='children', \n",
    "    values='dob_years', \n",
    "    aggfunc='mean'\n",
    ")"
   ]
  },
  {
   "cell_type": "code",
   "execution_count": 29,
   "id": "c667f707",
   "metadata": {},
   "outputs": [
    {
     "data": {
      "text/html": [
       "<div>\n",
       "<style scoped>\n",
       "    .dataframe tbody tr th:only-of-type {\n",
       "        vertical-align: middle;\n",
       "    }\n",
       "\n",
       "    .dataframe tbody tr th {\n",
       "        vertical-align: top;\n",
       "    }\n",
       "\n",
       "    .dataframe thead th {\n",
       "        text-align: right;\n",
       "    }\n",
       "</style>\n",
       "<table border=\"1\" class=\"dataframe\">\n",
       "  <thead>\n",
       "    <tr style=\"text-align: right;\">\n",
       "      <th>children</th>\n",
       "      <th>0</th>\n",
       "      <th>1</th>\n",
       "      <th>2</th>\n",
       "      <th>3</th>\n",
       "      <th>4</th>\n",
       "      <th>5</th>\n",
       "      <th>20</th>\n",
       "    </tr>\n",
       "    <tr>\n",
       "      <th>gender</th>\n",
       "      <th></th>\n",
       "      <th></th>\n",
       "      <th></th>\n",
       "      <th></th>\n",
       "      <th></th>\n",
       "      <th></th>\n",
       "      <th></th>\n",
       "    </tr>\n",
       "  </thead>\n",
       "  <tbody>\n",
       "    <tr>\n",
       "      <th>F</th>\n",
       "      <td>47.914002</td>\n",
       "      <td>38.457974</td>\n",
       "      <td>34.949166</td>\n",
       "      <td>35.505102</td>\n",
       "      <td>34.857143</td>\n",
       "      <td>35.428571</td>\n",
       "      <td>43.553191</td>\n",
       "    </tr>\n",
       "    <tr>\n",
       "      <th>M</th>\n",
       "      <td>42.811708</td>\n",
       "      <td>38.314516</td>\n",
       "      <td>37.069095</td>\n",
       "      <td>37.432836</td>\n",
       "      <td>38.615385</td>\n",
       "      <td>50.500000</td>\n",
       "      <td>39.000000</td>\n",
       "    </tr>\n",
       "    <tr>\n",
       "      <th>XNA</th>\n",
       "      <td>24.000000</td>\n",
       "      <td>NaN</td>\n",
       "      <td>NaN</td>\n",
       "      <td>NaN</td>\n",
       "      <td>NaN</td>\n",
       "      <td>NaN</td>\n",
       "      <td>NaN</td>\n",
       "    </tr>\n",
       "  </tbody>\n",
       "</table>\n",
       "</div>"
      ],
      "text/plain": [
       "children         0          1          2          3          4          5   \\\n",
       "gender                                                                       \n",
       "F         47.914002  38.457974  34.949166  35.505102  34.857143  35.428571   \n",
       "M         42.811708  38.314516  37.069095  37.432836  38.615385  50.500000   \n",
       "XNA       24.000000        NaN        NaN        NaN        NaN        NaN   \n",
       "\n",
       "children         20  \n",
       "gender               \n",
       "F         43.553191  \n",
       "M         39.000000  \n",
       "XNA             NaN  "
      ]
     },
     "execution_count": 29,
     "metadata": {},
     "output_type": "execute_result"
    }
   ],
   "source": [
    "data.pivot_table(\n",
    "    index=['gender'], \n",
    "    columns='children', \n",
    "    values='dob_years', \n",
    "    aggfunc='mean'\n",
    ")"
   ]
  },
  {
   "cell_type": "markdown",
   "id": "da53898f",
   "metadata": {},
   "source": [
    "Хотя такую оценку нельзя назвать точной, но по данным в сводных таблицах по параметрам `'dob_years'`, `'family_status'`, `'education'` и `'gender'` можно заключить, что данные строки со значением `20` в столбце `'children'` скорее к ближе данным в строках со значением `0`, чем `2`, поэтому для целей данного исследования заменим аномальное значение `20` на значение `0`."
   ]
  },
  {
   "cell_type": "code",
   "execution_count": 30,
   "id": "c7215bfb",
   "metadata": {},
   "outputs": [
    {
     "data": {
      "text/plain": [
       "0    14225\n",
       "1     4865\n",
       "2     2055\n",
       "3      330\n",
       "4       41\n",
       "5        9\n",
       "Name: children, dtype: int64"
      ]
     },
     "execution_count": 30,
     "metadata": {},
     "output_type": "execute_result"
    }
   ],
   "source": [
    "data['children'] = data[\n",
    "    'children'\n",
    "].replace(20, 0)\n",
    "\n",
    "data['children'].value_counts()"
   ]
  },
  {
   "cell_type": "markdown",
   "id": "081b63f8",
   "metadata": {},
   "source": [
    "Аномальные значения в столбце `'children'` удалены, можно двигаться дальше."
   ]
  },
  {
   "cell_type": "markdown",
   "id": "1e052b1c",
   "metadata": {},
   "source": [
    "#### Ноль в столбце `'dob_years'`"
   ]
  },
  {
   "cell_type": "code",
   "execution_count": 31,
   "id": "12abaa18",
   "metadata": {},
   "outputs": [
    {
     "name": "stdout",
     "output_type": "stream",
     "text": [
      "Количество клиентов с 0 в столбце dob_years: 101\n"
     ]
    }
   ],
   "source": [
    "print(\n",
    "    'Количество клиентов с 0 в столбце dob_years:', \n",
    "    data[data['dob_years']==0]['dob_years'].count()\n",
    ")"
   ]
  },
  {
   "cell_type": "code",
   "execution_count": 32,
   "id": "fe899028",
   "metadata": {},
   "outputs": [
    {
     "name": "stdout",
     "output_type": "stream",
     "text": [
      "Количество клиентов с 0 в столбце dob_years: 0.469 %\n"
     ]
    }
   ],
   "source": [
    "print(\n",
    "    'Количество клиентов с 0 в столбце dob_years:', \n",
    "    ((100 * data[\n",
    "        data['dob_years']==0\n",
    "    ]['dob_years'].count()) / len(\n",
    "        data['dob_years']\n",
    "    )).round(3),\n",
    "    '%'\n",
    ")"
   ]
  },
  {
   "cell_type": "code",
   "execution_count": 33,
   "id": "73af6e27",
   "metadata": {
    "scrolled": false
   },
   "outputs": [
    {
     "data": {
      "text/html": [
       "<div>\n",
       "<style scoped>\n",
       "    .dataframe tbody tr th:only-of-type {\n",
       "        vertical-align: middle;\n",
       "    }\n",
       "\n",
       "    .dataframe tbody tr th {\n",
       "        vertical-align: top;\n",
       "    }\n",
       "\n",
       "    .dataframe thead th {\n",
       "        text-align: right;\n",
       "    }\n",
       "</style>\n",
       "<table border=\"1\" class=\"dataframe\">\n",
       "  <thead>\n",
       "    <tr style=\"text-align: right;\">\n",
       "      <th></th>\n",
       "      <th>children</th>\n",
       "      <th>dob_years</th>\n",
       "      <th>education</th>\n",
       "      <th>education_id</th>\n",
       "      <th>family_status</th>\n",
       "      <th>family_status_id</th>\n",
       "      <th>gender</th>\n",
       "      <th>income_type</th>\n",
       "      <th>debt</th>\n",
       "      <th>total_income</th>\n",
       "      <th>purpose</th>\n",
       "      <th>years_employed</th>\n",
       "    </tr>\n",
       "  </thead>\n",
       "  <tbody>\n",
       "    <tr>\n",
       "      <th>99</th>\n",
       "      <td>0</td>\n",
       "      <td>0.0</td>\n",
       "      <td>Среднее</td>\n",
       "      <td>1</td>\n",
       "      <td>женат / замужем</td>\n",
       "      <td>0</td>\n",
       "      <td>F</td>\n",
       "      <td>пенсионер</td>\n",
       "      <td>0</td>\n",
       "      <td>71291.522491</td>\n",
       "      <td>автомобиль</td>\n",
       "      <td>56.624448</td>\n",
       "    </tr>\n",
       "    <tr>\n",
       "      <th>149</th>\n",
       "      <td>0</td>\n",
       "      <td>0.0</td>\n",
       "      <td>среднее</td>\n",
       "      <td>1</td>\n",
       "      <td>в разводе</td>\n",
       "      <td>3</td>\n",
       "      <td>F</td>\n",
       "      <td>сотрудник</td>\n",
       "      <td>0</td>\n",
       "      <td>70176.435951</td>\n",
       "      <td>операции с жильем</td>\n",
       "      <td>10.448130</td>\n",
       "    </tr>\n",
       "    <tr>\n",
       "      <th>270</th>\n",
       "      <td>3</td>\n",
       "      <td>0.0</td>\n",
       "      <td>среднее</td>\n",
       "      <td>1</td>\n",
       "      <td>женат / замужем</td>\n",
       "      <td>0</td>\n",
       "      <td>F</td>\n",
       "      <td>сотрудник</td>\n",
       "      <td>0</td>\n",
       "      <td>102166.458894</td>\n",
       "      <td>ремонт жилью</td>\n",
       "      <td>7.343777</td>\n",
       "    </tr>\n",
       "    <tr>\n",
       "      <th>578</th>\n",
       "      <td>0</td>\n",
       "      <td>0.0</td>\n",
       "      <td>среднее</td>\n",
       "      <td>1</td>\n",
       "      <td>женат / замужем</td>\n",
       "      <td>0</td>\n",
       "      <td>F</td>\n",
       "      <td>пенсионер</td>\n",
       "      <td>0</td>\n",
       "      <td>97620.687042</td>\n",
       "      <td>строительство собственной недвижимости</td>\n",
       "      <td>65.009243</td>\n",
       "    </tr>\n",
       "    <tr>\n",
       "      <th>1040</th>\n",
       "      <td>0</td>\n",
       "      <td>0.0</td>\n",
       "      <td>высшее</td>\n",
       "      <td>0</td>\n",
       "      <td>в разводе</td>\n",
       "      <td>3</td>\n",
       "      <td>F</td>\n",
       "      <td>компаньон</td>\n",
       "      <td>0</td>\n",
       "      <td>303994.134987</td>\n",
       "      <td>свой автомобиль</td>\n",
       "      <td>4.541292</td>\n",
       "    </tr>\n",
       "    <tr>\n",
       "      <th>1149</th>\n",
       "      <td>0</td>\n",
       "      <td>0.0</td>\n",
       "      <td>среднее</td>\n",
       "      <td>1</td>\n",
       "      <td>женат / замужем</td>\n",
       "      <td>0</td>\n",
       "      <td>F</td>\n",
       "      <td>компаньон</td>\n",
       "      <td>0</td>\n",
       "      <td>201852.430096</td>\n",
       "      <td>покупка недвижимости</td>\n",
       "      <td>3.665313</td>\n",
       "    </tr>\n",
       "    <tr>\n",
       "      <th>1175</th>\n",
       "      <td>0</td>\n",
       "      <td>0.0</td>\n",
       "      <td>среднее</td>\n",
       "      <td>1</td>\n",
       "      <td>женат / замужем</td>\n",
       "      <td>0</td>\n",
       "      <td>F</td>\n",
       "      <td>пенсионер</td>\n",
       "      <td>0</td>\n",
       "      <td>313949.845188</td>\n",
       "      <td>получение дополнительного образования</td>\n",
       "      <td>60.601227</td>\n",
       "    </tr>\n",
       "    <tr>\n",
       "      <th>1386</th>\n",
       "      <td>0</td>\n",
       "      <td>0.0</td>\n",
       "      <td>высшее</td>\n",
       "      <td>0</td>\n",
       "      <td>женат / замужем</td>\n",
       "      <td>0</td>\n",
       "      <td>M</td>\n",
       "      <td>госслужащий</td>\n",
       "      <td>0</td>\n",
       "      <td>240523.618071</td>\n",
       "      <td>сделка с автомобилем</td>\n",
       "      <td>19.777333</td>\n",
       "    </tr>\n",
       "    <tr>\n",
       "      <th>1890</th>\n",
       "      <td>0</td>\n",
       "      <td>0.0</td>\n",
       "      <td>высшее</td>\n",
       "      <td>0</td>\n",
       "      <td>Не женат / не замужем</td>\n",
       "      <td>4</td>\n",
       "      <td>F</td>\n",
       "      <td>сотрудник</td>\n",
       "      <td>0</td>\n",
       "      <td>145017.937533</td>\n",
       "      <td>жилье</td>\n",
       "      <td>10.933779</td>\n",
       "    </tr>\n",
       "    <tr>\n",
       "      <th>1898</th>\n",
       "      <td>0</td>\n",
       "      <td>0.0</td>\n",
       "      <td>среднее</td>\n",
       "      <td>1</td>\n",
       "      <td>вдовец / вдова</td>\n",
       "      <td>2</td>\n",
       "      <td>F</td>\n",
       "      <td>пенсионер</td>\n",
       "      <td>0</td>\n",
       "      <td>127400.268338</td>\n",
       "      <td>на покупку автомобиля</td>\n",
       "      <td>60.481134</td>\n",
       "    </tr>\n",
       "  </tbody>\n",
       "</table>\n",
       "</div>"
      ],
      "text/plain": [
       "      children  dob_years education  education_id          family_status  \\\n",
       "99           0        0.0   Среднее             1        женат / замужем   \n",
       "149          0        0.0   среднее             1              в разводе   \n",
       "270          3        0.0   среднее             1        женат / замужем   \n",
       "578          0        0.0   среднее             1        женат / замужем   \n",
       "1040         0        0.0    высшее             0              в разводе   \n",
       "1149         0        0.0   среднее             1        женат / замужем   \n",
       "1175         0        0.0   среднее             1        женат / замужем   \n",
       "1386         0        0.0    высшее             0        женат / замужем   \n",
       "1890         0        0.0    высшее             0  Не женат / не замужем   \n",
       "1898         0        0.0   среднее             1         вдовец / вдова   \n",
       "\n",
       "      family_status_id gender  income_type  debt   total_income  \\\n",
       "99                   0      F    пенсионер     0   71291.522491   \n",
       "149                  3      F    сотрудник     0   70176.435951   \n",
       "270                  0      F    сотрудник     0  102166.458894   \n",
       "578                  0      F    пенсионер     0   97620.687042   \n",
       "1040                 3      F    компаньон     0  303994.134987   \n",
       "1149                 0      F    компаньон     0  201852.430096   \n",
       "1175                 0      F    пенсионер     0  313949.845188   \n",
       "1386                 0      M  госслужащий     0  240523.618071   \n",
       "1890                 4      F    сотрудник     0  145017.937533   \n",
       "1898                 2      F    пенсионер     0  127400.268338   \n",
       "\n",
       "                                     purpose  years_employed  \n",
       "99                                автомобиль       56.624448  \n",
       "149                        операции с жильем       10.448130  \n",
       "270                             ремонт жилью        7.343777  \n",
       "578   строительство собственной недвижимости       65.009243  \n",
       "1040                         свой автомобиль        4.541292  \n",
       "1149                    покупка недвижимости        3.665313  \n",
       "1175   получение дополнительного образования       60.601227  \n",
       "1386                    сделка с автомобилем       19.777333  \n",
       "1890                                   жилье       10.933779  \n",
       "1898                   на покупку автомобиля       60.481134  "
      ]
     },
     "execution_count": 33,
     "metadata": {},
     "output_type": "execute_result"
    }
   ],
   "source": [
    "data[data['dob_years']==0].head(10)"
   ]
  },
  {
   "cell_type": "markdown",
   "id": "eeea17a5",
   "metadata": {},
   "source": [
    "Из таблицы выше никаких видимых закономерностей с другими параметрами не обнаружено. Ошибки, скорее всего, допущены случайно.\n",
    "\n",
    "Доля строк с такой аномалией меньше 1% от всей таблицы, поэтому для целей данного исследования можно оставить данные строки как есть, поскольку это отклонение не должно значительно повлиять на конечный результат."
   ]
  },
  {
   "cell_type": "markdown",
   "id": "a01af82c",
   "metadata": {},
   "source": [
    "#### Пропущенное значение в столбце `gender`"
   ]
  },
  {
   "cell_type": "code",
   "execution_count": 34,
   "id": "a27899d8",
   "metadata": {},
   "outputs": [
    {
     "data": {
      "text/plain": [
       "F      14236\n",
       "M       7288\n",
       "XNA        1\n",
       "Name: gender, dtype: int64"
      ]
     },
     "execution_count": 34,
     "metadata": {},
     "output_type": "execute_result"
    }
   ],
   "source": [
    "data['gender'].value_counts()"
   ]
  },
  {
   "cell_type": "markdown",
   "id": "705f892c",
   "metadata": {},
   "source": [
    "В одной строке пропущено значение столбца `gender`. Для удаления строки заменим значение `XNA` на значение, которое распознает функция `dropna()`."
   ]
  },
  {
   "cell_type": "code",
   "execution_count": 35,
   "id": "ca6e400e",
   "metadata": {},
   "outputs": [
    {
     "data": {
      "text/plain": [
       "F    14237\n",
       "M     7288\n",
       "Name: gender, dtype: int64"
      ]
     },
     "execution_count": 35,
     "metadata": {},
     "output_type": "execute_result"
    }
   ],
   "source": [
    "data = data.replace('XNA', None)\n",
    "data = data.dropna(\n",
    "    subset = ['gender']\n",
    ").reset_index(drop=True)\n",
    "\n",
    "# Проверка\n",
    "data['gender'].value_counts()"
   ]
  },
  {
   "cell_type": "markdown",
   "id": "ebf365a6",
   "metadata": {},
   "source": [
    "Пропущенное значение удалено."
   ]
  },
  {
   "cell_type": "markdown",
   "id": "fef2e404",
   "metadata": {},
   "source": [
    "<div style=\"border:solid purple 1px; padding: 20px\"> <b>Выводы</b>\n",
    "    \n",
    "Для обработки обнаруженных аномалий были проведены такие действия: \n",
    "    \n",
    "1) Аномальные значения `'days_employed'`\n",
    "    \n",
    " * Отрицательные значения\n",
    "    \n",
    "_Отрицательные значения были заменены по модулю с помощью функции `abs()`_\n",
    "    \n",
    " * Прочие аномалии\n",
    "    \n",
    "_Значения приведены к общей единице измерения (годы)_\n",
    "    \n",
    "2) Аномальные значения `'children'`\n",
    "\n",
    " * Отрицательные значения - заменены по модулю с помощью функции `abs()`\n",
    "    \n",
    "_Отрицательные значения были заменены по модулю с помощью функции `abs()`_\n",
    "\n",
    " * Значение `20`\n",
    "    \n",
    "_По результатам сравнения показателей по другим параметрам в таблице значения были заменены на `0`_\n",
    "\n",
    "3) Ноль в столбце `'dob_years'`\n",
    "\n",
    "_В связи с незначительной долей таких отклонений и низкой вероятностью того, что эти аномалии повлияют на конечный результат исследования, строки с этим отклонением оставлены как есть_\n",
    "\n",
    "4) Пропущенное значение в столбце `'gender'`\n",
    "\n",
    "_Пропущенное значение удалено_"
   ]
  },
  {
   "cell_type": "markdown",
   "id": "fe883c75",
   "metadata": {},
   "source": [
    "### Изменение типов данных"
   ]
  },
  {
   "cell_type": "code",
   "execution_count": 36,
   "id": "06132ec6",
   "metadata": {},
   "outputs": [
    {
     "name": "stdout",
     "output_type": "stream",
     "text": [
      "<class 'pandas.core.frame.DataFrame'>\n",
      "RangeIndex: 21525 entries, 0 to 21524\n",
      "Data columns (total 12 columns):\n",
      " #   Column            Non-Null Count  Dtype  \n",
      "---  ------            --------------  -----  \n",
      " 0   children          21525 non-null  int64  \n",
      " 1   dob_years         21525 non-null  float64\n",
      " 2   education         21525 non-null  object \n",
      " 3   education_id      21525 non-null  int64  \n",
      " 4   family_status     21525 non-null  object \n",
      " 5   family_status_id  21525 non-null  int64  \n",
      " 6   gender            21525 non-null  object \n",
      " 7   income_type       21525 non-null  object \n",
      " 8   debt              21525 non-null  int64  \n",
      " 9   total_income      21525 non-null  float64\n",
      " 10  purpose           21525 non-null  object \n",
      " 11  years_employed    21525 non-null  float64\n",
      "dtypes: float64(3), int64(4), object(5)\n",
      "memory usage: 2.0+ MB\n"
     ]
    }
   ],
   "source": [
    "data.info()"
   ]
  },
  {
   "cell_type": "markdown",
   "id": "2ebaab02",
   "metadata": {},
   "source": [
    "Типа данных `total_income` следует изменить с вещественного на целочисленный с помощью метода `astype()`."
   ]
  },
  {
   "cell_type": "code",
   "execution_count": 37,
   "id": "97b3c12d",
   "metadata": {},
   "outputs": [
    {
     "name": "stdout",
     "output_type": "stream",
     "text": [
      "<class 'pandas.core.frame.DataFrame'>\n",
      "RangeIndex: 21525 entries, 0 to 21524\n",
      "Data columns (total 12 columns):\n",
      " #   Column            Non-Null Count  Dtype  \n",
      "---  ------            --------------  -----  \n",
      " 0   children          21525 non-null  int64  \n",
      " 1   dob_years         21525 non-null  float64\n",
      " 2   education         21525 non-null  object \n",
      " 3   education_id      21525 non-null  int64  \n",
      " 4   family_status     21525 non-null  object \n",
      " 5   family_status_id  21525 non-null  int64  \n",
      " 6   gender            21525 non-null  object \n",
      " 7   income_type       21525 non-null  object \n",
      " 8   debt              21525 non-null  int64  \n",
      " 9   total_income      21525 non-null  int32  \n",
      " 10  purpose           21525 non-null  object \n",
      " 11  years_employed    21525 non-null  float64\n",
      "dtypes: float64(2), int32(1), int64(4), object(5)\n",
      "memory usage: 1.9+ MB\n"
     ]
    }
   ],
   "source": [
    "# Перевод значений столбца 'total_income' в тип int\n",
    "data['total_income'] = data[\n",
    "    'total_income'\n",
    "].astype('int')\n",
    "\n",
    "#Для проверки перевода данных в тип int выведем информацию о данных\n",
    "data.info()"
   ]
  },
  {
   "cell_type": "markdown",
   "id": "8e20b62e",
   "metadata": {},
   "source": [
    "Изменение типа данных проведено успешно, можно двигаться дальше."
   ]
  },
  {
   "cell_type": "markdown",
   "id": "9c015342",
   "metadata": {},
   "source": [
    "<div style=\"border:solid purple 1px; padding: 20px\"> <b>Выводы</b>\n",
    "    \n",
    "Тип данных в столбце `'total_income'` успешно заменен с вещественных на целые. Это необходимо в дальнейшем анализе для категоризации данных."
   ]
  },
  {
   "cell_type": "markdown",
   "id": "e5d6030e",
   "metadata": {},
   "source": [
    "### Удаление дубликатов.\n",
    "\n",
    "#### Неявные дубликаты\n",
    "\n",
    "Сначала удалим неявные дубликаты в столбце `education`. Для этого выведем на экран все уникальные значения в этом столбце:"
   ]
  },
  {
   "cell_type": "code",
   "execution_count": 38,
   "id": "ae3e6258",
   "metadata": {},
   "outputs": [
    {
     "data": {
      "text/plain": [
       "array(['ВЫСШЕЕ', 'Высшее', 'НАЧАЛЬНОЕ', 'НЕОКОНЧЕННОЕ ВЫСШЕЕ',\n",
       "       'Начальное', 'Неоконченное высшее', 'СРЕДНЕЕ', 'Среднее',\n",
       "       'УЧЕНАЯ СТЕПЕНЬ', 'Ученая степень', 'высшее', 'начальное',\n",
       "       'неоконченное высшее', 'среднее', 'ученая степень'], dtype=object)"
      ]
     },
     "execution_count": 38,
     "metadata": {},
     "output_type": "execute_result"
    }
   ],
   "source": [
    "data[\n",
    "    'education'\n",
    "].sort_values().unique()"
   ]
  },
  {
   "cell_type": "markdown",
   "id": "2326e2c3",
   "metadata": {},
   "source": [
    "Для поиска дубликатов в столбце `education` приведем значения в один регистр с помощью функции `lower()`:"
   ]
  },
  {
   "cell_type": "code",
   "execution_count": 39,
   "id": "b02b2e25",
   "metadata": {},
   "outputs": [],
   "source": [
    "data['education'] = data[\n",
    "    'education'\n",
    "].str.lower()"
   ]
  },
  {
   "cell_type": "markdown",
   "id": "b397d801",
   "metadata": {},
   "source": [
    "Проверим, прошло ли изменение регистра после применения функции:"
   ]
  },
  {
   "cell_type": "code",
   "execution_count": 40,
   "id": "4d851547",
   "metadata": {},
   "outputs": [
    {
     "data": {
      "text/plain": [
       "array(['высшее', 'начальное', 'неоконченное высшее', 'среднее',\n",
       "       'ученая степень'], dtype=object)"
      ]
     },
     "execution_count": 40,
     "metadata": {},
     "output_type": "execute_result"
    }
   ],
   "source": [
    "data[\n",
    "    'education'\n",
    "].sort_values().unique()"
   ]
  },
  {
   "cell_type": "markdown",
   "id": "4f3717e0",
   "metadata": {},
   "source": [
    "После замены регистра видно, что дубликаты в столбце были удалены, можно двигаться дальше.\n",
    "Причиной возникновения дубликатов в столбце `education` скорее всего были ошибки при внесении ответов в базу данных."
   ]
  },
  {
   "cell_type": "markdown",
   "id": "5fcc7d70",
   "metadata": {},
   "source": [
    "Проверим, есть ли неявные дубликаты в других столбцах: "
   ]
  },
  {
   "cell_type": "code",
   "execution_count": 41,
   "id": "ef94bc9e",
   "metadata": {},
   "outputs": [
    {
     "data": {
      "text/plain": [
       "array(['безработный', 'в декрете', 'госслужащий', 'компаньон',\n",
       "       'пенсионер', 'предприниматель', 'сотрудник', 'студент'],\n",
       "      dtype=object)"
      ]
     },
     "execution_count": 41,
     "metadata": {},
     "output_type": "execute_result"
    }
   ],
   "source": [
    "data[\n",
    "    'income_type'\n",
    "].sort_values().unique()"
   ]
  },
  {
   "cell_type": "code",
   "execution_count": 42,
   "id": "e136b3cf",
   "metadata": {},
   "outputs": [
    {
     "data": {
      "text/plain": [
       "array(['Не женат / не замужем', 'в разводе', 'вдовец / вдова',\n",
       "       'гражданский брак', 'женат / замужем'], dtype=object)"
      ]
     },
     "execution_count": 42,
     "metadata": {},
     "output_type": "execute_result"
    }
   ],
   "source": [
    "data[\n",
    "    'family_status'\n",
    "].sort_values().unique()"
   ]
  },
  {
   "cell_type": "markdown",
   "id": "697d1938",
   "metadata": {},
   "source": [
    "При выводе уникальных значений из столбцов `'income_type'` и `'family_status'` неявные повторы не выявлены. Остальные столбцы таблицы так или иначе уже проверялись на неявные дубликаты на предыдущих этапах предобработки, поэтому можно двигаться дальше.\n",
    "\n",
    "#### Явные дубликаты\n",
    "\n",
    "Теперь проверим явные дубликаты с помощью функции `duplicated()`."
   ]
  },
  {
   "cell_type": "code",
   "execution_count": 43,
   "id": "58f97369",
   "metadata": {},
   "outputs": [
    {
     "name": "stdout",
     "output_type": "stream",
     "text": [
      "Количество явных дубликатов в датафрейме: 71\n"
     ]
    }
   ],
   "source": [
    "print(\n",
    "    'Количество явных дубликатов в датафрейме:', \n",
    "    data.duplicated().sum()\n",
    ")"
   ]
  },
  {
   "cell_type": "code",
   "execution_count": 44,
   "id": "554f4f1f",
   "metadata": {},
   "outputs": [
    {
     "data": {
      "text/html": [
       "<div>\n",
       "<style scoped>\n",
       "    .dataframe tbody tr th:only-of-type {\n",
       "        vertical-align: middle;\n",
       "    }\n",
       "\n",
       "    .dataframe tbody tr th {\n",
       "        vertical-align: top;\n",
       "    }\n",
       "\n",
       "    .dataframe thead th {\n",
       "        text-align: right;\n",
       "    }\n",
       "</style>\n",
       "<table border=\"1\" class=\"dataframe\">\n",
       "  <thead>\n",
       "    <tr style=\"text-align: right;\">\n",
       "      <th></th>\n",
       "      <th>children</th>\n",
       "      <th>dob_years</th>\n",
       "      <th>education</th>\n",
       "      <th>education_id</th>\n",
       "      <th>family_status</th>\n",
       "      <th>family_status_id</th>\n",
       "      <th>gender</th>\n",
       "      <th>income_type</th>\n",
       "      <th>debt</th>\n",
       "      <th>total_income</th>\n",
       "      <th>purpose</th>\n",
       "      <th>years_employed</th>\n",
       "    </tr>\n",
       "  </thead>\n",
       "  <tbody>\n",
       "    <tr>\n",
       "      <th>2849</th>\n",
       "      <td>0</td>\n",
       "      <td>41.0</td>\n",
       "      <td>среднее</td>\n",
       "      <td>1</td>\n",
       "      <td>женат / замужем</td>\n",
       "      <td>0</td>\n",
       "      <td>F</td>\n",
       "      <td>сотрудник</td>\n",
       "      <td>0</td>\n",
       "      <td>145017</td>\n",
       "      <td>покупка жилья для семьи</td>\n",
       "      <td>10.933779</td>\n",
       "    </tr>\n",
       "    <tr>\n",
       "      <th>3290</th>\n",
       "      <td>0</td>\n",
       "      <td>58.0</td>\n",
       "      <td>среднее</td>\n",
       "      <td>1</td>\n",
       "      <td>гражданский брак</td>\n",
       "      <td>1</td>\n",
       "      <td>F</td>\n",
       "      <td>пенсионер</td>\n",
       "      <td>0</td>\n",
       "      <td>145017</td>\n",
       "      <td>сыграть свадьбу</td>\n",
       "      <td>10.933779</td>\n",
       "    </tr>\n",
       "    <tr>\n",
       "      <th>4182</th>\n",
       "      <td>1</td>\n",
       "      <td>34.0</td>\n",
       "      <td>высшее</td>\n",
       "      <td>0</td>\n",
       "      <td>гражданский брак</td>\n",
       "      <td>1</td>\n",
       "      <td>F</td>\n",
       "      <td>сотрудник</td>\n",
       "      <td>0</td>\n",
       "      <td>145017</td>\n",
       "      <td>свадьба</td>\n",
       "      <td>10.933779</td>\n",
       "    </tr>\n",
       "    <tr>\n",
       "      <th>4851</th>\n",
       "      <td>0</td>\n",
       "      <td>60.0</td>\n",
       "      <td>среднее</td>\n",
       "      <td>1</td>\n",
       "      <td>гражданский брак</td>\n",
       "      <td>1</td>\n",
       "      <td>F</td>\n",
       "      <td>пенсионер</td>\n",
       "      <td>0</td>\n",
       "      <td>145017</td>\n",
       "      <td>свадьба</td>\n",
       "      <td>10.933779</td>\n",
       "    </tr>\n",
       "    <tr>\n",
       "      <th>5557</th>\n",
       "      <td>0</td>\n",
       "      <td>58.0</td>\n",
       "      <td>среднее</td>\n",
       "      <td>1</td>\n",
       "      <td>гражданский брак</td>\n",
       "      <td>1</td>\n",
       "      <td>F</td>\n",
       "      <td>пенсионер</td>\n",
       "      <td>0</td>\n",
       "      <td>145017</td>\n",
       "      <td>сыграть свадьбу</td>\n",
       "      <td>10.933779</td>\n",
       "    </tr>\n",
       "  </tbody>\n",
       "</table>\n",
       "</div>"
      ],
      "text/plain": [
       "      children  dob_years education  education_id     family_status  \\\n",
       "2849         0       41.0   среднее             1   женат / замужем   \n",
       "3290         0       58.0   среднее             1  гражданский брак   \n",
       "4182         1       34.0    высшее             0  гражданский брак   \n",
       "4851         0       60.0   среднее             1  гражданский брак   \n",
       "5557         0       58.0   среднее             1  гражданский брак   \n",
       "\n",
       "      family_status_id gender income_type  debt  total_income  \\\n",
       "2849                 0      F   сотрудник     0        145017   \n",
       "3290                 1      F   пенсионер     0        145017   \n",
       "4182                 1      F   сотрудник     0        145017   \n",
       "4851                 1      F   пенсионер     0        145017   \n",
       "5557                 1      F   пенсионер     0        145017   \n",
       "\n",
       "                      purpose  years_employed  \n",
       "2849  покупка жилья для семьи       10.933779  \n",
       "3290          сыграть свадьбу       10.933779  \n",
       "4182                  свадьба       10.933779  \n",
       "4851                  свадьба       10.933779  \n",
       "5557          сыграть свадьбу       10.933779  "
      ]
     },
     "execution_count": 44,
     "metadata": {},
     "output_type": "execute_result"
    }
   ],
   "source": [
    "data[data.duplicated()].head()"
   ]
  },
  {
   "cell_type": "code",
   "execution_count": 45,
   "id": "9b4868a1",
   "metadata": {},
   "outputs": [],
   "source": [
    "data = data.drop_duplicates().reset_index(\n",
    "    drop=True\n",
    ")"
   ]
  },
  {
   "cell_type": "code",
   "execution_count": 46,
   "id": "9682af0d",
   "metadata": {},
   "outputs": [
    {
     "name": "stdout",
     "output_type": "stream",
     "text": [
      "Дубликаты удалены успешно!\n"
     ]
    }
   ],
   "source": [
    "if data.duplicated().sum() ==0:\n",
    "    print(\n",
    "        'Дубликаты удалены успешно!'\n",
    "    )\n",
    "else:\n",
    "    print(\n",
    "        'Упс! При удалении дубликатов что-то пошло не так'\n",
    "    )"
   ]
  },
  {
   "cell_type": "markdown",
   "id": "0046ebb7",
   "metadata": {},
   "source": [
    "<div style=\"border:solid purple 1px; padding: 20px\"> <b>Выводы</b>\n",
    "    \n",
    "В таблице был обнаружен 71 **явный** дубликат , которые были удалены с помощью функции `drop_duplicates()`.\n",
    "    \n",
    "**Неявные** дубликаты в столбце `'education'` были удалены с помощью перевода всех данных столбца в нижний регистр. В остальных столбцах неявные дубликаты обнаружены не были."
   ]
  },
  {
   "cell_type": "markdown",
   "id": "b74f8665",
   "metadata": {},
   "source": [
    "### Формирование дополнительных датафреймов словарей, декомпозиция исходного датафрейма."
   ]
  },
  {
   "cell_type": "markdown",
   "id": "2f00d812",
   "metadata": {},
   "source": [
    "Создадим дополнительные датафреймы для столбцов, содержащих информацию об образовании и семейном положении.\n",
    "\n",
    "#### Образование\n",
    "\n",
    "Для создания \"словаря\" объединим столбцы `education` и `education_id`."
   ]
  },
  {
   "cell_type": "code",
   "execution_count": 47,
   "id": "cc613c4b",
   "metadata": {},
   "outputs": [
    {
     "data": {
      "text/html": [
       "<div>\n",
       "<style scoped>\n",
       "    .dataframe tbody tr th:only-of-type {\n",
       "        vertical-align: middle;\n",
       "    }\n",
       "\n",
       "    .dataframe tbody tr th {\n",
       "        vertical-align: top;\n",
       "    }\n",
       "\n",
       "    .dataframe thead th {\n",
       "        text-align: right;\n",
       "    }\n",
       "</style>\n",
       "<table border=\"1\" class=\"dataframe\">\n",
       "  <thead>\n",
       "    <tr style=\"text-align: right;\">\n",
       "      <th></th>\n",
       "      <th>education</th>\n",
       "      <th>education_id</th>\n",
       "    </tr>\n",
       "  </thead>\n",
       "  <tbody>\n",
       "    <tr>\n",
       "      <th>0</th>\n",
       "      <td>высшее</td>\n",
       "      <td>0</td>\n",
       "    </tr>\n",
       "    <tr>\n",
       "      <th>1</th>\n",
       "      <td>среднее</td>\n",
       "      <td>1</td>\n",
       "    </tr>\n",
       "    <tr>\n",
       "      <th>2</th>\n",
       "      <td>среднее</td>\n",
       "      <td>1</td>\n",
       "    </tr>\n",
       "    <tr>\n",
       "      <th>3</th>\n",
       "      <td>среднее</td>\n",
       "      <td>1</td>\n",
       "    </tr>\n",
       "    <tr>\n",
       "      <th>4</th>\n",
       "      <td>среднее</td>\n",
       "      <td>1</td>\n",
       "    </tr>\n",
       "  </tbody>\n",
       "</table>\n",
       "</div>"
      ],
      "text/plain": [
       "  education  education_id\n",
       "0    высшее             0\n",
       "1   среднее             1\n",
       "2   среднее             1\n",
       "3   среднее             1\n",
       "4   среднее             1"
      ]
     },
     "execution_count": 47,
     "metadata": {},
     "output_type": "execute_result"
    }
   ],
   "source": [
    "education_log = data[[\n",
    "    'education', \n",
    "    'education_id'\n",
    "]]\n",
    "education_log.head()"
   ]
  },
  {
   "cell_type": "markdown",
   "id": "8c1e29ba",
   "metadata": {},
   "source": [
    "Для удаления дубликатов из таблицы применим функцию drop_duplicates()."
   ]
  },
  {
   "cell_type": "code",
   "execution_count": 48,
   "id": "c97fbf2e",
   "metadata": {},
   "outputs": [
    {
     "data": {
      "text/html": [
       "<div>\n",
       "<style scoped>\n",
       "    .dataframe tbody tr th:only-of-type {\n",
       "        vertical-align: middle;\n",
       "    }\n",
       "\n",
       "    .dataframe tbody tr th {\n",
       "        vertical-align: top;\n",
       "    }\n",
       "\n",
       "    .dataframe thead th {\n",
       "        text-align: right;\n",
       "    }\n",
       "</style>\n",
       "<table border=\"1\" class=\"dataframe\">\n",
       "  <thead>\n",
       "    <tr style=\"text-align: right;\">\n",
       "      <th></th>\n",
       "      <th>education</th>\n",
       "      <th>education_id</th>\n",
       "    </tr>\n",
       "  </thead>\n",
       "  <tbody>\n",
       "    <tr>\n",
       "      <th>0</th>\n",
       "      <td>высшее</td>\n",
       "      <td>0</td>\n",
       "    </tr>\n",
       "    <tr>\n",
       "      <th>1</th>\n",
       "      <td>среднее</td>\n",
       "      <td>1</td>\n",
       "    </tr>\n",
       "    <tr>\n",
       "      <th>2</th>\n",
       "      <td>неоконченное высшее</td>\n",
       "      <td>2</td>\n",
       "    </tr>\n",
       "    <tr>\n",
       "      <th>3</th>\n",
       "      <td>начальное</td>\n",
       "      <td>3</td>\n",
       "    </tr>\n",
       "    <tr>\n",
       "      <th>4</th>\n",
       "      <td>ученая степень</td>\n",
       "      <td>4</td>\n",
       "    </tr>\n",
       "  </tbody>\n",
       "</table>\n",
       "</div>"
      ],
      "text/plain": [
       "             education  education_id\n",
       "0               высшее             0\n",
       "1              среднее             1\n",
       "2  неоконченное высшее             2\n",
       "3            начальное             3\n",
       "4       ученая степень             4"
      ]
     },
     "execution_count": 48,
     "metadata": {},
     "output_type": "execute_result"
    }
   ],
   "source": [
    "education_log = education_log.drop_duplicates(\n",
    ").reset_index(\n",
    "    drop=True\n",
    ")\n",
    "education_log"
   ]
  },
  {
   "cell_type": "markdown",
   "id": "8266fea5",
   "metadata": {},
   "source": [
    "#### Семейный статус\n",
    "\n",
    "Проделаем те же шаги для столбцов `family_status` и `family_status_id`"
   ]
  },
  {
   "cell_type": "code",
   "execution_count": 49,
   "id": "7788ba27",
   "metadata": {},
   "outputs": [
    {
     "data": {
      "text/html": [
       "<div>\n",
       "<style scoped>\n",
       "    .dataframe tbody tr th:only-of-type {\n",
       "        vertical-align: middle;\n",
       "    }\n",
       "\n",
       "    .dataframe tbody tr th {\n",
       "        vertical-align: top;\n",
       "    }\n",
       "\n",
       "    .dataframe thead th {\n",
       "        text-align: right;\n",
       "    }\n",
       "</style>\n",
       "<table border=\"1\" class=\"dataframe\">\n",
       "  <thead>\n",
       "    <tr style=\"text-align: right;\">\n",
       "      <th></th>\n",
       "      <th>family_status</th>\n",
       "      <th>family_status_id</th>\n",
       "    </tr>\n",
       "  </thead>\n",
       "  <tbody>\n",
       "    <tr>\n",
       "      <th>0</th>\n",
       "      <td>женат / замужем</td>\n",
       "      <td>0</td>\n",
       "    </tr>\n",
       "    <tr>\n",
       "      <th>1</th>\n",
       "      <td>женат / замужем</td>\n",
       "      <td>0</td>\n",
       "    </tr>\n",
       "    <tr>\n",
       "      <th>2</th>\n",
       "      <td>женат / замужем</td>\n",
       "      <td>0</td>\n",
       "    </tr>\n",
       "    <tr>\n",
       "      <th>3</th>\n",
       "      <td>женат / замужем</td>\n",
       "      <td>0</td>\n",
       "    </tr>\n",
       "    <tr>\n",
       "      <th>4</th>\n",
       "      <td>гражданский брак</td>\n",
       "      <td>1</td>\n",
       "    </tr>\n",
       "  </tbody>\n",
       "</table>\n",
       "</div>"
      ],
      "text/plain": [
       "      family_status  family_status_id\n",
       "0   женат / замужем                 0\n",
       "1   женат / замужем                 0\n",
       "2   женат / замужем                 0\n",
       "3   женат / замужем                 0\n",
       "4  гражданский брак                 1"
      ]
     },
     "execution_count": 49,
     "metadata": {},
     "output_type": "execute_result"
    }
   ],
   "source": [
    "family_status_log = data[[\n",
    "    'family_status', \n",
    "    'family_status_id'\n",
    "]]\n",
    "family_status_log.head()"
   ]
  },
  {
   "cell_type": "markdown",
   "id": "d9700bca",
   "metadata": {},
   "source": [
    "Удалим повторяющиеся значения из \"словаря\" `family_status_log`:"
   ]
  },
  {
   "cell_type": "code",
   "execution_count": 50,
   "id": "19f5e39b",
   "metadata": {},
   "outputs": [
    {
     "data": {
      "text/html": [
       "<div>\n",
       "<style scoped>\n",
       "    .dataframe tbody tr th:only-of-type {\n",
       "        vertical-align: middle;\n",
       "    }\n",
       "\n",
       "    .dataframe tbody tr th {\n",
       "        vertical-align: top;\n",
       "    }\n",
       "\n",
       "    .dataframe thead th {\n",
       "        text-align: right;\n",
       "    }\n",
       "</style>\n",
       "<table border=\"1\" class=\"dataframe\">\n",
       "  <thead>\n",
       "    <tr style=\"text-align: right;\">\n",
       "      <th></th>\n",
       "      <th>family_status</th>\n",
       "      <th>family_status_id</th>\n",
       "    </tr>\n",
       "  </thead>\n",
       "  <tbody>\n",
       "    <tr>\n",
       "      <th>0</th>\n",
       "      <td>женат / замужем</td>\n",
       "      <td>0</td>\n",
       "    </tr>\n",
       "    <tr>\n",
       "      <th>1</th>\n",
       "      <td>гражданский брак</td>\n",
       "      <td>1</td>\n",
       "    </tr>\n",
       "    <tr>\n",
       "      <th>2</th>\n",
       "      <td>вдовец / вдова</td>\n",
       "      <td>2</td>\n",
       "    </tr>\n",
       "    <tr>\n",
       "      <th>3</th>\n",
       "      <td>в разводе</td>\n",
       "      <td>3</td>\n",
       "    </tr>\n",
       "    <tr>\n",
       "      <th>4</th>\n",
       "      <td>Не женат / не замужем</td>\n",
       "      <td>4</td>\n",
       "    </tr>\n",
       "  </tbody>\n",
       "</table>\n",
       "</div>"
      ],
      "text/plain": [
       "           family_status  family_status_id\n",
       "0        женат / замужем                 0\n",
       "1       гражданский брак                 1\n",
       "2         вдовец / вдова                 2\n",
       "3              в разводе                 3\n",
       "4  Не женат / не замужем                 4"
      ]
     },
     "execution_count": 50,
     "metadata": {},
     "output_type": "execute_result"
    }
   ],
   "source": [
    "family_status_log = family_status_log.drop_duplicates(\n",
    ").reset_index(\n",
    "    drop=True\n",
    ")\n",
    "family_status_log"
   ]
  },
  {
   "cell_type": "markdown",
   "id": "e92f7989",
   "metadata": {},
   "source": [
    "После создания \"словарей\" можно удалить столбцы `education` и `family_status`."
   ]
  },
  {
   "cell_type": "code",
   "execution_count": 51,
   "id": "d8a75825",
   "metadata": {},
   "outputs": [
    {
     "data": {
      "text/html": [
       "<div>\n",
       "<style scoped>\n",
       "    .dataframe tbody tr th:only-of-type {\n",
       "        vertical-align: middle;\n",
       "    }\n",
       "\n",
       "    .dataframe tbody tr th {\n",
       "        vertical-align: top;\n",
       "    }\n",
       "\n",
       "    .dataframe thead th {\n",
       "        text-align: right;\n",
       "    }\n",
       "</style>\n",
       "<table border=\"1\" class=\"dataframe\">\n",
       "  <thead>\n",
       "    <tr style=\"text-align: right;\">\n",
       "      <th></th>\n",
       "      <th>children</th>\n",
       "      <th>dob_years</th>\n",
       "      <th>education_id</th>\n",
       "      <th>family_status_id</th>\n",
       "      <th>gender</th>\n",
       "      <th>income_type</th>\n",
       "      <th>debt</th>\n",
       "      <th>total_income</th>\n",
       "      <th>purpose</th>\n",
       "      <th>years_employed</th>\n",
       "    </tr>\n",
       "  </thead>\n",
       "  <tbody>\n",
       "    <tr>\n",
       "      <th>0</th>\n",
       "      <td>1</td>\n",
       "      <td>42.0</td>\n",
       "      <td>0</td>\n",
       "      <td>0</td>\n",
       "      <td>F</td>\n",
       "      <td>сотрудник</td>\n",
       "      <td>0</td>\n",
       "      <td>253875</td>\n",
       "      <td>покупка жилья</td>\n",
       "      <td>33.088914</td>\n",
       "    </tr>\n",
       "    <tr>\n",
       "      <th>1</th>\n",
       "      <td>1</td>\n",
       "      <td>36.0</td>\n",
       "      <td>1</td>\n",
       "      <td>0</td>\n",
       "      <td>F</td>\n",
       "      <td>сотрудник</td>\n",
       "      <td>0</td>\n",
       "      <td>112080</td>\n",
       "      <td>приобретение автомобиля</td>\n",
       "      <td>15.783544</td>\n",
       "    </tr>\n",
       "    <tr>\n",
       "      <th>2</th>\n",
       "      <td>0</td>\n",
       "      <td>33.0</td>\n",
       "      <td>1</td>\n",
       "      <td>0</td>\n",
       "      <td>M</td>\n",
       "      <td>сотрудник</td>\n",
       "      <td>0</td>\n",
       "      <td>145885</td>\n",
       "      <td>покупка жилья</td>\n",
       "      <td>22.052638</td>\n",
       "    </tr>\n",
       "    <tr>\n",
       "      <th>3</th>\n",
       "      <td>3</td>\n",
       "      <td>32.0</td>\n",
       "      <td>1</td>\n",
       "      <td>0</td>\n",
       "      <td>M</td>\n",
       "      <td>сотрудник</td>\n",
       "      <td>0</td>\n",
       "      <td>267628</td>\n",
       "      <td>дополнительное образование</td>\n",
       "      <td>16.175479</td>\n",
       "    </tr>\n",
       "    <tr>\n",
       "      <th>4</th>\n",
       "      <td>0</td>\n",
       "      <td>53.0</td>\n",
       "      <td>1</td>\n",
       "      <td>1</td>\n",
       "      <td>F</td>\n",
       "      <td>пенсионер</td>\n",
       "      <td>0</td>\n",
       "      <td>158616</td>\n",
       "      <td>сыграть свадьбу</td>\n",
       "      <td>55.599031</td>\n",
       "    </tr>\n",
       "  </tbody>\n",
       "</table>\n",
       "</div>"
      ],
      "text/plain": [
       "   children  dob_years  education_id  family_status_id gender income_type  \\\n",
       "0         1       42.0             0                 0      F   сотрудник   \n",
       "1         1       36.0             1                 0      F   сотрудник   \n",
       "2         0       33.0             1                 0      M   сотрудник   \n",
       "3         3       32.0             1                 0      M   сотрудник   \n",
       "4         0       53.0             1                 1      F   пенсионер   \n",
       "\n",
       "   debt  total_income                     purpose  years_employed  \n",
       "0     0        253875               покупка жилья       33.088914  \n",
       "1     0        112080     приобретение автомобиля       15.783544  \n",
       "2     0        145885               покупка жилья       22.052638  \n",
       "3     0        267628  дополнительное образование       16.175479  \n",
       "4     0        158616             сыграть свадьбу       55.599031  "
      ]
     },
     "execution_count": 51,
     "metadata": {},
     "output_type": "execute_result"
    }
   ],
   "source": [
    "del(data['education'])\n",
    "del(data['family_status'])\n",
    "\n",
    "# Проверка удаления столбцов\n",
    "data.head()"
   ]
  },
  {
   "cell_type": "markdown",
   "id": "9caa4a1a",
   "metadata": {},
   "source": [
    "Столбцы удалены успешно, в таблице остались только столбцы с идентификаторами, что делает таблицу намного компактнее."
   ]
  },
  {
   "cell_type": "markdown",
   "id": "9b509ff1",
   "metadata": {},
   "source": [
    "<div style=\"border:solid purple 1px; padding: 20px\"> <b>Выводы</b>\n",
    "    \n",
    "Созданы два дополнительных датафрейма с идентификаторами для столбцов `'education'` и `'family_status'`. \n",
    "    \n",
    "Столбцы с данными удалены из основного датафрейма, в таблице эти данные теперь представлены с помощью столбцов `'education_id'` и `'family_status_id'`."
   ]
  },
  {
   "cell_type": "markdown",
   "id": "e76562a0",
   "metadata": {},
   "source": [
    "### Категоризация дохода."
   ]
  },
  {
   "cell_type": "markdown",
   "id": "930eeeb1",
   "metadata": {},
   "source": [
    "Для удобства обработки данных необходимо категоризировать данные в столбце `'total_income'`. Для этого используем функцию, которая присвоит каждому значению столбца одну из следующих категорий:\n",
    " * 0–30000 — `'E'`;\n",
    " * 30001–50000 — `'D'`;\n",
    " * 50001–200000 — `'C'`;\n",
    " * 200001–1000000 — `'B'`;\n",
    " * 1000001 и выше — `'A'`.\n",
    "\n",
    "Присвоенные категории будут указаны в таблице в отдельном столбце `'total_income_category'`"
   ]
  },
  {
   "cell_type": "code",
   "execution_count": 52,
   "id": "c064b971",
   "metadata": {},
   "outputs": [
    {
     "data": {
      "text/html": [
       "<div>\n",
       "<style scoped>\n",
       "    .dataframe tbody tr th:only-of-type {\n",
       "        vertical-align: middle;\n",
       "    }\n",
       "\n",
       "    .dataframe tbody tr th {\n",
       "        vertical-align: top;\n",
       "    }\n",
       "\n",
       "    .dataframe thead th {\n",
       "        text-align: right;\n",
       "    }\n",
       "</style>\n",
       "<table border=\"1\" class=\"dataframe\">\n",
       "  <thead>\n",
       "    <tr style=\"text-align: right;\">\n",
       "      <th></th>\n",
       "      <th>children</th>\n",
       "      <th>dob_years</th>\n",
       "      <th>education_id</th>\n",
       "      <th>family_status_id</th>\n",
       "      <th>gender</th>\n",
       "      <th>income_type</th>\n",
       "      <th>debt</th>\n",
       "      <th>total_income</th>\n",
       "      <th>purpose</th>\n",
       "      <th>years_employed</th>\n",
       "      <th>total_income_category</th>\n",
       "    </tr>\n",
       "  </thead>\n",
       "  <tbody>\n",
       "    <tr>\n",
       "      <th>0</th>\n",
       "      <td>1</td>\n",
       "      <td>42.0</td>\n",
       "      <td>0</td>\n",
       "      <td>0</td>\n",
       "      <td>F</td>\n",
       "      <td>сотрудник</td>\n",
       "      <td>0</td>\n",
       "      <td>253875</td>\n",
       "      <td>покупка жилья</td>\n",
       "      <td>33.088914</td>\n",
       "      <td>B</td>\n",
       "    </tr>\n",
       "    <tr>\n",
       "      <th>1</th>\n",
       "      <td>1</td>\n",
       "      <td>36.0</td>\n",
       "      <td>1</td>\n",
       "      <td>0</td>\n",
       "      <td>F</td>\n",
       "      <td>сотрудник</td>\n",
       "      <td>0</td>\n",
       "      <td>112080</td>\n",
       "      <td>приобретение автомобиля</td>\n",
       "      <td>15.783544</td>\n",
       "      <td>C</td>\n",
       "    </tr>\n",
       "    <tr>\n",
       "      <th>2</th>\n",
       "      <td>0</td>\n",
       "      <td>33.0</td>\n",
       "      <td>1</td>\n",
       "      <td>0</td>\n",
       "      <td>M</td>\n",
       "      <td>сотрудник</td>\n",
       "      <td>0</td>\n",
       "      <td>145885</td>\n",
       "      <td>покупка жилья</td>\n",
       "      <td>22.052638</td>\n",
       "      <td>C</td>\n",
       "    </tr>\n",
       "    <tr>\n",
       "      <th>3</th>\n",
       "      <td>3</td>\n",
       "      <td>32.0</td>\n",
       "      <td>1</td>\n",
       "      <td>0</td>\n",
       "      <td>M</td>\n",
       "      <td>сотрудник</td>\n",
       "      <td>0</td>\n",
       "      <td>267628</td>\n",
       "      <td>дополнительное образование</td>\n",
       "      <td>16.175479</td>\n",
       "      <td>B</td>\n",
       "    </tr>\n",
       "    <tr>\n",
       "      <th>4</th>\n",
       "      <td>0</td>\n",
       "      <td>53.0</td>\n",
       "      <td>1</td>\n",
       "      <td>1</td>\n",
       "      <td>F</td>\n",
       "      <td>пенсионер</td>\n",
       "      <td>0</td>\n",
       "      <td>158616</td>\n",
       "      <td>сыграть свадьбу</td>\n",
       "      <td>55.599031</td>\n",
       "      <td>C</td>\n",
       "    </tr>\n",
       "  </tbody>\n",
       "</table>\n",
       "</div>"
      ],
      "text/plain": [
       "   children  dob_years  education_id  family_status_id gender income_type  \\\n",
       "0         1       42.0             0                 0      F   сотрудник   \n",
       "1         1       36.0             1                 0      F   сотрудник   \n",
       "2         0       33.0             1                 0      M   сотрудник   \n",
       "3         3       32.0             1                 0      M   сотрудник   \n",
       "4         0       53.0             1                 1      F   пенсионер   \n",
       "\n",
       "   debt  total_income                     purpose  years_employed  \\\n",
       "0     0        253875               покупка жилья       33.088914   \n",
       "1     0        112080     приобретение автомобиля       15.783544   \n",
       "2     0        145885               покупка жилья       22.052638   \n",
       "3     0        267628  дополнительное образование       16.175479   \n",
       "4     0        158616             сыграть свадьбу       55.599031   \n",
       "\n",
       "  total_income_category  \n",
       "0                     B  \n",
       "1                     C  \n",
       "2                     C  \n",
       "3                     B  \n",
       "4                     C  "
      ]
     },
     "execution_count": 52,
     "metadata": {},
     "output_type": "execute_result"
    }
   ],
   "source": [
    "def income_category(row):\n",
    "\n",
    "    total_income = row['total_income']\n",
    "\n",
    "    if total_income <= 30000:\n",
    "        return 'E'\n",
    "    elif 30001 <= total_income <= 50000:\n",
    "        return 'D'\n",
    "    elif 50001 <= total_income <= 200000:\n",
    "        return 'C'\n",
    "    elif 200001 <= total_income <= 1000000:\n",
    "        return 'B'\n",
    "    else:\n",
    "        return 'A'\n",
    "data[\n",
    "    'total_income_category'\n",
    "] = data.apply(\n",
    "    income_category, \n",
    "    axis=1\n",
    ") \n",
    "\n",
    "data.head()"
   ]
  },
  {
   "cell_type": "code",
   "execution_count": 53,
   "id": "32a1dc30",
   "metadata": {},
   "outputs": [
    {
     "data": {
      "text/plain": [
       "C    16016\n",
       "B     5041\n",
       "D      350\n",
       "A       25\n",
       "E       22\n",
       "Name: total_income_category, dtype: int64"
      ]
     },
     "execution_count": 53,
     "metadata": {},
     "output_type": "execute_result"
    }
   ],
   "source": [
    "data[\n",
    "    'total_income_category'\n",
    "].value_counts()"
   ]
  },
  {
   "cell_type": "markdown",
   "id": "db3475de",
   "metadata": {},
   "source": [
    "<div style=\"border:solid purple 1px; padding: 20px\"> <b>Выводы</b>\n",
    "    \n",
    "Значения данных о доходе разделены на 5 категорий, где `A` - категория с наибольшими значениями, а `E` - с наименьшими. \n",
    "    \n",
    "В таблицу добавлен соответствующий столбец `'total_income_category'`."
   ]
  },
  {
   "cell_type": "markdown",
   "id": "73853119",
   "metadata": {},
   "source": [
    "### Категоризация целей кредита."
   ]
  },
  {
   "cell_type": "markdown",
   "id": "6cd9ff32",
   "metadata": {},
   "source": [
    "Создадим новый столбец `'purpose_category'`, который будет включать следующие категории:\n",
    "\n",
    " * ‘операции с автомобилем’,\n",
    " * ‘операции с недвижимостью’,\n",
    " * ‘проведение свадьбы’,\n",
    " * ‘получение образования’.\n",
    "\n",
    "Для этого используем функцию, которая будет на основании соответсвия содержания данных в столбце `'purpose'` указывать соответствующее значение категории в новом столбце `'purpose_category'`."
   ]
  },
  {
   "cell_type": "code",
   "execution_count": 54,
   "id": "0fd868ed",
   "metadata": {},
   "outputs": [
    {
     "data": {
      "text/html": [
       "<div>\n",
       "<style scoped>\n",
       "    .dataframe tbody tr th:only-of-type {\n",
       "        vertical-align: middle;\n",
       "    }\n",
       "\n",
       "    .dataframe tbody tr th {\n",
       "        vertical-align: top;\n",
       "    }\n",
       "\n",
       "    .dataframe thead th {\n",
       "        text-align: right;\n",
       "    }\n",
       "</style>\n",
       "<table border=\"1\" class=\"dataframe\">\n",
       "  <thead>\n",
       "    <tr style=\"text-align: right;\">\n",
       "      <th></th>\n",
       "      <th>children</th>\n",
       "      <th>dob_years</th>\n",
       "      <th>education_id</th>\n",
       "      <th>family_status_id</th>\n",
       "      <th>gender</th>\n",
       "      <th>income_type</th>\n",
       "      <th>debt</th>\n",
       "      <th>total_income</th>\n",
       "      <th>purpose</th>\n",
       "      <th>years_employed</th>\n",
       "      <th>total_income_category</th>\n",
       "      <th>purpose_category</th>\n",
       "    </tr>\n",
       "  </thead>\n",
       "  <tbody>\n",
       "    <tr>\n",
       "      <th>0</th>\n",
       "      <td>1</td>\n",
       "      <td>42.0</td>\n",
       "      <td>0</td>\n",
       "      <td>0</td>\n",
       "      <td>F</td>\n",
       "      <td>сотрудник</td>\n",
       "      <td>0</td>\n",
       "      <td>253875</td>\n",
       "      <td>покупка жилья</td>\n",
       "      <td>33.088914</td>\n",
       "      <td>B</td>\n",
       "      <td>операции с недвижимостью</td>\n",
       "    </tr>\n",
       "    <tr>\n",
       "      <th>1</th>\n",
       "      <td>1</td>\n",
       "      <td>36.0</td>\n",
       "      <td>1</td>\n",
       "      <td>0</td>\n",
       "      <td>F</td>\n",
       "      <td>сотрудник</td>\n",
       "      <td>0</td>\n",
       "      <td>112080</td>\n",
       "      <td>приобретение автомобиля</td>\n",
       "      <td>15.783544</td>\n",
       "      <td>C</td>\n",
       "      <td>операции с автомобилем</td>\n",
       "    </tr>\n",
       "    <tr>\n",
       "      <th>2</th>\n",
       "      <td>0</td>\n",
       "      <td>33.0</td>\n",
       "      <td>1</td>\n",
       "      <td>0</td>\n",
       "      <td>M</td>\n",
       "      <td>сотрудник</td>\n",
       "      <td>0</td>\n",
       "      <td>145885</td>\n",
       "      <td>покупка жилья</td>\n",
       "      <td>22.052638</td>\n",
       "      <td>C</td>\n",
       "      <td>операции с недвижимостью</td>\n",
       "    </tr>\n",
       "    <tr>\n",
       "      <th>3</th>\n",
       "      <td>3</td>\n",
       "      <td>32.0</td>\n",
       "      <td>1</td>\n",
       "      <td>0</td>\n",
       "      <td>M</td>\n",
       "      <td>сотрудник</td>\n",
       "      <td>0</td>\n",
       "      <td>267628</td>\n",
       "      <td>дополнительное образование</td>\n",
       "      <td>16.175479</td>\n",
       "      <td>B</td>\n",
       "      <td>получение образования</td>\n",
       "    </tr>\n",
       "    <tr>\n",
       "      <th>4</th>\n",
       "      <td>0</td>\n",
       "      <td>53.0</td>\n",
       "      <td>1</td>\n",
       "      <td>1</td>\n",
       "      <td>F</td>\n",
       "      <td>пенсионер</td>\n",
       "      <td>0</td>\n",
       "      <td>158616</td>\n",
       "      <td>сыграть свадьбу</td>\n",
       "      <td>55.599031</td>\n",
       "      <td>C</td>\n",
       "      <td>проведение свадьбы</td>\n",
       "    </tr>\n",
       "  </tbody>\n",
       "</table>\n",
       "</div>"
      ],
      "text/plain": [
       "   children  dob_years  education_id  family_status_id gender income_type  \\\n",
       "0         1       42.0             0                 0      F   сотрудник   \n",
       "1         1       36.0             1                 0      F   сотрудник   \n",
       "2         0       33.0             1                 0      M   сотрудник   \n",
       "3         3       32.0             1                 0      M   сотрудник   \n",
       "4         0       53.0             1                 1      F   пенсионер   \n",
       "\n",
       "   debt  total_income                     purpose  years_employed  \\\n",
       "0     0        253875               покупка жилья       33.088914   \n",
       "1     0        112080     приобретение автомобиля       15.783544   \n",
       "2     0        145885               покупка жилья       22.052638   \n",
       "3     0        267628  дополнительное образование       16.175479   \n",
       "4     0        158616             сыграть свадьбу       55.599031   \n",
       "\n",
       "  total_income_category          purpose_category  \n",
       "0                     B  операции с недвижимостью  \n",
       "1                     C    операции с автомобилем  \n",
       "2                     C  операции с недвижимостью  \n",
       "3                     B     получение образования  \n",
       "4                     C        проведение свадьбы  "
      ]
     },
     "execution_count": 54,
     "metadata": {},
     "output_type": "execute_result"
    }
   ],
   "source": [
    "def purpose_category_name(row):\n",
    "\n",
    "    purpose = row['purpose']\n",
    "\n",
    "    if ('авто' in purpose or\n",
    "        'машин' in purpose):\n",
    "        return 'операции с автомобилем'\n",
    "    \n",
    "    elif ('квартир' in purpose or\n",
    "        'дом' in purpose or\n",
    "        'жиль'in purpose or\n",
    "        'недвижим' in purpose):\n",
    "        return 'операции с недвижимостью'\n",
    "    \n",
    "    elif ('свадьб' in purpose or\n",
    "        'замуж' in purpose or\n",
    "        'брак'in purpose):\n",
    "        return 'проведение свадьбы'\n",
    "    \n",
    "    elif ('учеб' in purpose or\n",
    "        'обучен' in purpose or\n",
    "        'образован'in purpose):\n",
    "        return 'получение образования'\n",
    "    \n",
    "    else:\n",
    "        return 'необходимо уточнить категорию'\n",
    "\n",
    "data['purpose_category'] = data.apply(\n",
    "    purpose_category_name, \n",
    "    axis=1\n",
    ") \n",
    "data.head()"
   ]
  },
  {
   "cell_type": "code",
   "execution_count": 55,
   "id": "148e3b1a",
   "metadata": {},
   "outputs": [
    {
     "name": "stdout",
     "output_type": "stream",
     "text": [
      "Количество ошибок в определении категории цели кредита: 0\n"
     ]
    }
   ],
   "source": [
    "print(\n",
    "    'Количество ошибок в определении категории цели кредита:', \n",
    "    data[\n",
    "        data['purpose_category'] == 'необходимо уточнить категорию'\n",
    "    ]['purpose_category'].count()\n",
    ")"
   ]
  },
  {
   "cell_type": "markdown",
   "id": "6c7c3a8d",
   "metadata": {},
   "source": [
    "Столбец с категорией добавлен успешно. "
   ]
  },
  {
   "cell_type": "markdown",
   "id": "186e708e",
   "metadata": {},
   "source": [
    "<div style=\"border:solid purple 1px; padding: 20px\"> <b>Выводы</b>\n",
    "    \n",
    "Данные в столбце `'purpose'` разделены на 4 категории по ключевым словам в тексте:\n",
    "    \n",
    " * ‘операции с автомобилем’,\n",
    " * ‘операции с недвижимостью’,\n",
    " * ‘проведение свадьбы’,\n",
    " * ‘получение образования’."
   ]
  },
  {
   "cell_type": "markdown",
   "id": "3b35d3c8",
   "metadata": {},
   "source": [
    "Этап предобработки данных можно считать завершенным.\n",
    "    \n",
    "Перейдем к поиску ответов на вопросы, сформулированные в описании проекта"
   ]
  },
  {
   "cell_type": "markdown",
   "id": "c9851cb2",
   "metadata": {},
   "source": [
    "## Поиск ответов на вопросы исследования"
   ]
  },
  {
   "cell_type": "markdown",
   "id": "e5772932",
   "metadata": {},
   "source": [
    "### Вопрос 1:\n",
    "Есть ли зависимость между **количеством детей** и возвратом кредита в срок?"
   ]
  },
  {
   "cell_type": "code",
   "execution_count": 56,
   "id": "83282a57",
   "metadata": {},
   "outputs": [
    {
     "data": {
      "text/html": [
       "<div>\n",
       "<style scoped>\n",
       "    .dataframe tbody tr th:only-of-type {\n",
       "        vertical-align: middle;\n",
       "    }\n",
       "\n",
       "    .dataframe tbody tr th {\n",
       "        vertical-align: top;\n",
       "    }\n",
       "\n",
       "    .dataframe thead th {\n",
       "        text-align: right;\n",
       "    }\n",
       "</style>\n",
       "<table border=\"1\" class=\"dataframe\">\n",
       "  <thead>\n",
       "    <tr style=\"text-align: right;\">\n",
       "      <th>debt</th>\n",
       "      <th>0</th>\n",
       "      <th>1</th>\n",
       "    </tr>\n",
       "    <tr>\n",
       "      <th>children</th>\n",
       "      <th></th>\n",
       "      <th></th>\n",
       "    </tr>\n",
       "  </thead>\n",
       "  <tbody>\n",
       "    <tr>\n",
       "      <th>0</th>\n",
       "      <td>13096.0</td>\n",
       "      <td>1071.0</td>\n",
       "    </tr>\n",
       "    <tr>\n",
       "      <th>1</th>\n",
       "      <td>4410.0</td>\n",
       "      <td>445.0</td>\n",
       "    </tr>\n",
       "    <tr>\n",
       "      <th>2</th>\n",
       "      <td>1858.0</td>\n",
       "      <td>194.0</td>\n",
       "    </tr>\n",
       "    <tr>\n",
       "      <th>3</th>\n",
       "      <td>303.0</td>\n",
       "      <td>27.0</td>\n",
       "    </tr>\n",
       "    <tr>\n",
       "      <th>4</th>\n",
       "      <td>37.0</td>\n",
       "      <td>4.0</td>\n",
       "    </tr>\n",
       "    <tr>\n",
       "      <th>5</th>\n",
       "      <td>9.0</td>\n",
       "      <td>NaN</td>\n",
       "    </tr>\n",
       "  </tbody>\n",
       "</table>\n",
       "</div>"
      ],
      "text/plain": [
       "debt            0       1\n",
       "children                 \n",
       "0         13096.0  1071.0\n",
       "1          4410.0   445.0\n",
       "2          1858.0   194.0\n",
       "3           303.0    27.0\n",
       "4            37.0     4.0\n",
       "5             9.0     NaN"
      ]
     },
     "execution_count": 56,
     "metadata": {},
     "output_type": "execute_result"
    }
   ],
   "source": [
    "data.pivot_table(\n",
    "    index=['children'], \n",
    "    columns='debt', \n",
    "    values='total_income_category', \n",
    "    aggfunc='count'\n",
    ")"
   ]
  },
  {
   "cell_type": "markdown",
   "id": "b133c1c1",
   "metadata": {},
   "source": [
    "Сведем в таблицу долю в процентах для клиентов с задолженностью по кредиту в зависимости от количества детей."
   ]
  },
  {
   "cell_type": "code",
   "execution_count": 57,
   "id": "a02f4e6e",
   "metadata": {},
   "outputs": [
    {
     "data": {
      "text/html": [
       "<div>\n",
       "<style scoped>\n",
       "    .dataframe tbody tr th:only-of-type {\n",
       "        vertical-align: middle;\n",
       "    }\n",
       "\n",
       "    .dataframe tbody tr th {\n",
       "        vertical-align: top;\n",
       "    }\n",
       "\n",
       "    .dataframe thead th {\n",
       "        text-align: right;\n",
       "    }\n",
       "</style>\n",
       "<table border=\"1\" class=\"dataframe\">\n",
       "  <thead>\n",
       "    <tr style=\"text-align: right;\">\n",
       "      <th></th>\n",
       "      <th>Общее кол-во клиентов</th>\n",
       "      <th>Кол-во должников</th>\n",
       "      <th>Доля должников от общего кол-ва</th>\n",
       "    </tr>\n",
       "    <tr>\n",
       "      <th>children</th>\n",
       "      <th></th>\n",
       "      <th></th>\n",
       "      <th></th>\n",
       "    </tr>\n",
       "  </thead>\n",
       "  <tbody>\n",
       "    <tr>\n",
       "      <th>0</th>\n",
       "      <td>14167</td>\n",
       "      <td>1071</td>\n",
       "      <td>0.075598</td>\n",
       "    </tr>\n",
       "    <tr>\n",
       "      <th>1</th>\n",
       "      <td>4855</td>\n",
       "      <td>445</td>\n",
       "      <td>0.091658</td>\n",
       "    </tr>\n",
       "    <tr>\n",
       "      <th>2</th>\n",
       "      <td>2052</td>\n",
       "      <td>194</td>\n",
       "      <td>0.094542</td>\n",
       "    </tr>\n",
       "    <tr>\n",
       "      <th>3</th>\n",
       "      <td>330</td>\n",
       "      <td>27</td>\n",
       "      <td>0.081818</td>\n",
       "    </tr>\n",
       "    <tr>\n",
       "      <th>4</th>\n",
       "      <td>41</td>\n",
       "      <td>4</td>\n",
       "      <td>0.097561</td>\n",
       "    </tr>\n",
       "    <tr>\n",
       "      <th>5</th>\n",
       "      <td>9</td>\n",
       "      <td>0</td>\n",
       "      <td>0.000000</td>\n",
       "    </tr>\n",
       "  </tbody>\n",
       "</table>\n",
       "</div>"
      ],
      "text/plain": [
       "          Общее кол-во клиентов  Кол-во должников  \\\n",
       "children                                            \n",
       "0                         14167              1071   \n",
       "1                          4855               445   \n",
       "2                          2052               194   \n",
       "3                           330                27   \n",
       "4                            41                 4   \n",
       "5                             9                 0   \n",
       "\n",
       "          Доля должников от общего кол-ва  \n",
       "children                                   \n",
       "0                                0.075598  \n",
       "1                                0.091658  \n",
       "2                                0.094542  \n",
       "3                                0.081818  \n",
       "4                                0.097561  \n",
       "5                                0.000000  "
      ]
     },
     "execution_count": 57,
     "metadata": {},
     "output_type": "execute_result"
    }
   ],
   "source": [
    "q_1 = data.pivot_table(\n",
    "    index='children', \n",
    "    values='debt', \n",
    "    aggfunc=[\n",
    "        'count', \n",
    "        'sum', \n",
    "        'mean'\n",
    "    ])\n",
    "\n",
    "q_1.columns = q_1.columns.droplevel()\n",
    "q_1.columns = [\n",
    "    'Общее кол-во клиентов', \n",
    "    'Кол-во должников', \n",
    "    'Доля должников от общего кол-ва'\n",
    "]\n",
    "\n",
    "q_1"
   ]
  },
  {
   "cell_type": "markdown",
   "id": "fbbfe6f0",
   "metadata": {},
   "source": [
    "#### Вывод 1:\n",
    "\n",
    "Строгая зависимость процента клиентов, которые вернули кредит в срок, от количества детей не обнаружена. \n",
    "\n",
    "Клиенты с высоким процентом кредитов, возвращенных в срок, имеют 5 детей (100% вернули кредит в срок) или не имеют детей вовсе - 92% таких клиентов вернули кредит вовремя. Однако количество клиентов с 5 детьми в данном датафрейме крайне мало (9 человек), поэтому данные по этой категории клиентов скорее всего нельзя считать закономерностью из-за непредставительности выборки.\n",
    "\n",
    "Самый высокий процент задолженностей по кредиту среди клиентов с 4 детьми - почти 10% клиентов из этой категории имеют задержку по кредиту. Однако количество клиентов в этой категории также мало и не дает основания делать обоснованый вывод, поскольку велика вероятность ошибки.\n",
    "\n",
    "Среди категорий клиентов из категорий с более представительной выборкой по параметру \"количество детей\" самый низкий процент возврата кредита в срок у клиентов с 2 детьми."
   ]
  },
  {
   "cell_type": "markdown",
   "id": "66f34b2e",
   "metadata": {},
   "source": [
    "### Вопрос 2:\n",
    "Есть ли зависимость между **семейным положением** и возвратом кредита в срок?\n",
    "\n",
    "Выведем на экран вспомогательный датафрейм-словарь для столбца `'family_status_id'`."
   ]
  },
  {
   "cell_type": "code",
   "execution_count": 58,
   "id": "86b81429",
   "metadata": {},
   "outputs": [
    {
     "data": {
      "text/html": [
       "<div>\n",
       "<style scoped>\n",
       "    .dataframe tbody tr th:only-of-type {\n",
       "        vertical-align: middle;\n",
       "    }\n",
       "\n",
       "    .dataframe tbody tr th {\n",
       "        vertical-align: top;\n",
       "    }\n",
       "\n",
       "    .dataframe thead th {\n",
       "        text-align: right;\n",
       "    }\n",
       "</style>\n",
       "<table border=\"1\" class=\"dataframe\">\n",
       "  <thead>\n",
       "    <tr style=\"text-align: right;\">\n",
       "      <th></th>\n",
       "      <th>family_status</th>\n",
       "      <th>family_status_id</th>\n",
       "    </tr>\n",
       "  </thead>\n",
       "  <tbody>\n",
       "    <tr>\n",
       "      <th>0</th>\n",
       "      <td>женат / замужем</td>\n",
       "      <td>0</td>\n",
       "    </tr>\n",
       "    <tr>\n",
       "      <th>1</th>\n",
       "      <td>гражданский брак</td>\n",
       "      <td>1</td>\n",
       "    </tr>\n",
       "    <tr>\n",
       "      <th>2</th>\n",
       "      <td>вдовец / вдова</td>\n",
       "      <td>2</td>\n",
       "    </tr>\n",
       "    <tr>\n",
       "      <th>3</th>\n",
       "      <td>в разводе</td>\n",
       "      <td>3</td>\n",
       "    </tr>\n",
       "    <tr>\n",
       "      <th>4</th>\n",
       "      <td>Не женат / не замужем</td>\n",
       "      <td>4</td>\n",
       "    </tr>\n",
       "  </tbody>\n",
       "</table>\n",
       "</div>"
      ],
      "text/plain": [
       "           family_status  family_status_id\n",
       "0        женат / замужем                 0\n",
       "1       гражданский брак                 1\n",
       "2         вдовец / вдова                 2\n",
       "3              в разводе                 3\n",
       "4  Не женат / не замужем                 4"
      ]
     },
     "execution_count": 58,
     "metadata": {},
     "output_type": "execute_result"
    }
   ],
   "source": [
    "family_status_log"
   ]
  },
  {
   "cell_type": "code",
   "execution_count": 59,
   "id": "0df18286",
   "metadata": {},
   "outputs": [
    {
     "data": {
      "text/html": [
       "<div>\n",
       "<style scoped>\n",
       "    .dataframe tbody tr th:only-of-type {\n",
       "        vertical-align: middle;\n",
       "    }\n",
       "\n",
       "    .dataframe tbody tr th {\n",
       "        vertical-align: top;\n",
       "    }\n",
       "\n",
       "    .dataframe thead th {\n",
       "        text-align: right;\n",
       "    }\n",
       "</style>\n",
       "<table border=\"1\" class=\"dataframe\">\n",
       "  <thead>\n",
       "    <tr style=\"text-align: right;\">\n",
       "      <th>debt</th>\n",
       "      <th>0</th>\n",
       "      <th>1</th>\n",
       "    </tr>\n",
       "    <tr>\n",
       "      <th>family_status_id</th>\n",
       "      <th></th>\n",
       "      <th></th>\n",
       "    </tr>\n",
       "  </thead>\n",
       "  <tbody>\n",
       "    <tr>\n",
       "      <th>0</th>\n",
       "      <td>11408</td>\n",
       "      <td>931</td>\n",
       "    </tr>\n",
       "    <tr>\n",
       "      <th>1</th>\n",
       "      <td>3763</td>\n",
       "      <td>388</td>\n",
       "    </tr>\n",
       "    <tr>\n",
       "      <th>2</th>\n",
       "      <td>896</td>\n",
       "      <td>63</td>\n",
       "    </tr>\n",
       "    <tr>\n",
       "      <th>3</th>\n",
       "      <td>1110</td>\n",
       "      <td>85</td>\n",
       "    </tr>\n",
       "    <tr>\n",
       "      <th>4</th>\n",
       "      <td>2536</td>\n",
       "      <td>274</td>\n",
       "    </tr>\n",
       "  </tbody>\n",
       "</table>\n",
       "</div>"
      ],
      "text/plain": [
       "debt                  0    1\n",
       "family_status_id            \n",
       "0                 11408  931\n",
       "1                  3763  388\n",
       "2                   896   63\n",
       "3                  1110   85\n",
       "4                  2536  274"
      ]
     },
     "execution_count": 59,
     "metadata": {},
     "output_type": "execute_result"
    }
   ],
   "source": [
    "data.pivot_table(\n",
    "    index=['family_status_id'], \n",
    "    columns='debt', \n",
    "    values='total_income_category', \n",
    "    aggfunc='count'\n",
    ")"
   ]
  },
  {
   "cell_type": "markdown",
   "id": "1074c12c",
   "metadata": {},
   "source": [
    "Распределение клиентов в датафрейме по категориям по параметру \"семейное положение\" более равномерно, чем по предыдущему параметру \"количество детей\", поэтому для целей данного исследования можно считать выборку представительной, и делать выводы на основании этих данных.\n",
    "\n",
    "Сведем в таблицу долю в процентах для клиентов с задолженностью по кредиту в зависимости от семейного положения клиента."
   ]
  },
  {
   "cell_type": "code",
   "execution_count": 60,
   "id": "0e10dbf1",
   "metadata": {},
   "outputs": [
    {
     "data": {
      "text/html": [
       "<div>\n",
       "<style scoped>\n",
       "    .dataframe tbody tr th:only-of-type {\n",
       "        vertical-align: middle;\n",
       "    }\n",
       "\n",
       "    .dataframe tbody tr th {\n",
       "        vertical-align: top;\n",
       "    }\n",
       "\n",
       "    .dataframe thead th {\n",
       "        text-align: right;\n",
       "    }\n",
       "</style>\n",
       "<table border=\"1\" class=\"dataframe\">\n",
       "  <thead>\n",
       "    <tr style=\"text-align: right;\">\n",
       "      <th></th>\n",
       "      <th>Общее кол-во клиентов</th>\n",
       "      <th>Кол-во должников</th>\n",
       "      <th>Доля должников от общего кол-ва</th>\n",
       "    </tr>\n",
       "    <tr>\n",
       "      <th>family_status_id</th>\n",
       "      <th></th>\n",
       "      <th></th>\n",
       "      <th></th>\n",
       "    </tr>\n",
       "  </thead>\n",
       "  <tbody>\n",
       "    <tr>\n",
       "      <th>0</th>\n",
       "      <td>12339</td>\n",
       "      <td>931</td>\n",
       "      <td>0.075452</td>\n",
       "    </tr>\n",
       "    <tr>\n",
       "      <th>1</th>\n",
       "      <td>4151</td>\n",
       "      <td>388</td>\n",
       "      <td>0.093471</td>\n",
       "    </tr>\n",
       "    <tr>\n",
       "      <th>2</th>\n",
       "      <td>959</td>\n",
       "      <td>63</td>\n",
       "      <td>0.065693</td>\n",
       "    </tr>\n",
       "    <tr>\n",
       "      <th>3</th>\n",
       "      <td>1195</td>\n",
       "      <td>85</td>\n",
       "      <td>0.071130</td>\n",
       "    </tr>\n",
       "    <tr>\n",
       "      <th>4</th>\n",
       "      <td>2810</td>\n",
       "      <td>274</td>\n",
       "      <td>0.097509</td>\n",
       "    </tr>\n",
       "  </tbody>\n",
       "</table>\n",
       "</div>"
      ],
      "text/plain": [
       "                  Общее кол-во клиентов  Кол-во должников  \\\n",
       "family_status_id                                            \n",
       "0                                 12339               931   \n",
       "1                                  4151               388   \n",
       "2                                   959                63   \n",
       "3                                  1195                85   \n",
       "4                                  2810               274   \n",
       "\n",
       "                  Доля должников от общего кол-ва  \n",
       "family_status_id                                   \n",
       "0                                        0.075452  \n",
       "1                                        0.093471  \n",
       "2                                        0.065693  \n",
       "3                                        0.071130  \n",
       "4                                        0.097509  "
      ]
     },
     "execution_count": 60,
     "metadata": {},
     "output_type": "execute_result"
    }
   ],
   "source": [
    "q_2 = data.pivot_table(\n",
    "    index='family_status_id', \n",
    "    values='debt', \n",
    "    aggfunc=[\n",
    "        'count', \n",
    "        'sum', \n",
    "        'mean'\n",
    "    ])\n",
    "\n",
    "q_2.columns = q_2.columns.droplevel()\n",
    "q_2.columns = [\n",
    "    'Общее кол-во клиентов', \n",
    "    'Кол-во должников', \n",
    "    'Доля должников от общего кол-ва'\n",
    "]\n",
    "\n",
    "q_2"
   ]
  },
  {
   "cell_type": "markdown",
   "id": "14ebd260",
   "metadata": {},
   "source": [
    "#### Вывод 2:\n",
    "\n",
    "Самый высокий процент кредитов, которые не были возвращены в срок, у клиентов с семейным положением \"Не женат / не замужем\" - почти 10%. \n",
    "\n",
    "Самый низкий процент задержек по кредиту у клиентов с семейным положением \"вдовец / вдова\" - 6,5%.\n",
    "\n",
    "Стоит отметить, что доля возвращенных в срок кредитов у клиентов, состоящих в официальном и гражданском браке, различается. Среди клиентов, состоящих в официальном браке, процент задолженностей по кредиту почти на 2% больше чем среди тех, кто состоит в гражданском браке. "
   ]
  },
  {
   "cell_type": "markdown",
   "id": "42f9d271",
   "metadata": {},
   "source": [
    "### Вопрос 3:\n",
    "Есть ли зависимость между **уровнем дохода** и возвратом кредита в срок?"
   ]
  },
  {
   "cell_type": "code",
   "execution_count": 61,
   "id": "0a85e370",
   "metadata": {},
   "outputs": [
    {
     "data": {
      "text/html": [
       "<div>\n",
       "<style scoped>\n",
       "    .dataframe tbody tr th:only-of-type {\n",
       "        vertical-align: middle;\n",
       "    }\n",
       "\n",
       "    .dataframe tbody tr th {\n",
       "        vertical-align: top;\n",
       "    }\n",
       "\n",
       "    .dataframe thead th {\n",
       "        text-align: right;\n",
       "    }\n",
       "</style>\n",
       "<table border=\"1\" class=\"dataframe\">\n",
       "  <thead>\n",
       "    <tr style=\"text-align: right;\">\n",
       "      <th>debt</th>\n",
       "      <th>0</th>\n",
       "      <th>1</th>\n",
       "    </tr>\n",
       "    <tr>\n",
       "      <th>total_income_category</th>\n",
       "      <th></th>\n",
       "      <th></th>\n",
       "    </tr>\n",
       "  </thead>\n",
       "  <tbody>\n",
       "    <tr>\n",
       "      <th>A</th>\n",
       "      <td>23</td>\n",
       "      <td>2</td>\n",
       "    </tr>\n",
       "    <tr>\n",
       "      <th>B</th>\n",
       "      <td>4685</td>\n",
       "      <td>356</td>\n",
       "    </tr>\n",
       "    <tr>\n",
       "      <th>C</th>\n",
       "      <td>14656</td>\n",
       "      <td>1360</td>\n",
       "    </tr>\n",
       "    <tr>\n",
       "      <th>D</th>\n",
       "      <td>329</td>\n",
       "      <td>21</td>\n",
       "    </tr>\n",
       "    <tr>\n",
       "      <th>E</th>\n",
       "      <td>20</td>\n",
       "      <td>2</td>\n",
       "    </tr>\n",
       "  </tbody>\n",
       "</table>\n",
       "</div>"
      ],
      "text/plain": [
       "debt                       0     1\n",
       "total_income_category             \n",
       "A                         23     2\n",
       "B                       4685   356\n",
       "C                      14656  1360\n",
       "D                        329    21\n",
       "E                         20     2"
      ]
     },
     "execution_count": 61,
     "metadata": {},
     "output_type": "execute_result"
    }
   ],
   "source": [
    "data.pivot_table(\n",
    "    index=['total_income_category'], \n",
    "    columns='debt', \n",
    "    values='gender', \n",
    "    aggfunc='count'\n",
    ")"
   ]
  },
  {
   "cell_type": "markdown",
   "id": "d87ff4a3",
   "metadata": {},
   "source": [
    "Сведем в таблицу долю в процентах для клиентов с задолженностью по кредиту в зависимости от категории дохода клиента."
   ]
  },
  {
   "cell_type": "code",
   "execution_count": 62,
   "id": "4a9a72be",
   "metadata": {},
   "outputs": [
    {
     "data": {
      "text/html": [
       "<div>\n",
       "<style scoped>\n",
       "    .dataframe tbody tr th:only-of-type {\n",
       "        vertical-align: middle;\n",
       "    }\n",
       "\n",
       "    .dataframe tbody tr th {\n",
       "        vertical-align: top;\n",
       "    }\n",
       "\n",
       "    .dataframe thead th {\n",
       "        text-align: right;\n",
       "    }\n",
       "</style>\n",
       "<table border=\"1\" class=\"dataframe\">\n",
       "  <thead>\n",
       "    <tr style=\"text-align: right;\">\n",
       "      <th></th>\n",
       "      <th>Общее кол-во клиентов</th>\n",
       "      <th>Кол-во должников</th>\n",
       "      <th>Доля должников от общего кол-ва</th>\n",
       "    </tr>\n",
       "    <tr>\n",
       "      <th>total_income_category</th>\n",
       "      <th></th>\n",
       "      <th></th>\n",
       "      <th></th>\n",
       "    </tr>\n",
       "  </thead>\n",
       "  <tbody>\n",
       "    <tr>\n",
       "      <th>A</th>\n",
       "      <td>25</td>\n",
       "      <td>2</td>\n",
       "      <td>0.080000</td>\n",
       "    </tr>\n",
       "    <tr>\n",
       "      <th>B</th>\n",
       "      <td>5041</td>\n",
       "      <td>356</td>\n",
       "      <td>0.070621</td>\n",
       "    </tr>\n",
       "    <tr>\n",
       "      <th>C</th>\n",
       "      <td>16016</td>\n",
       "      <td>1360</td>\n",
       "      <td>0.084915</td>\n",
       "    </tr>\n",
       "    <tr>\n",
       "      <th>D</th>\n",
       "      <td>350</td>\n",
       "      <td>21</td>\n",
       "      <td>0.060000</td>\n",
       "    </tr>\n",
       "    <tr>\n",
       "      <th>E</th>\n",
       "      <td>22</td>\n",
       "      <td>2</td>\n",
       "      <td>0.090909</td>\n",
       "    </tr>\n",
       "  </tbody>\n",
       "</table>\n",
       "</div>"
      ],
      "text/plain": [
       "                       Общее кол-во клиентов  Кол-во должников  \\\n",
       "total_income_category                                            \n",
       "A                                         25                 2   \n",
       "B                                       5041               356   \n",
       "C                                      16016              1360   \n",
       "D                                        350                21   \n",
       "E                                         22                 2   \n",
       "\n",
       "                       Доля должников от общего кол-ва  \n",
       "total_income_category                                   \n",
       "A                                             0.080000  \n",
       "B                                             0.070621  \n",
       "C                                             0.084915  \n",
       "D                                             0.060000  \n",
       "E                                             0.090909  "
      ]
     },
     "execution_count": 62,
     "metadata": {},
     "output_type": "execute_result"
    }
   ],
   "source": [
    "q_3 = data.pivot_table(\n",
    "    index='total_income_category', \n",
    "    values='debt', \n",
    "    aggfunc=[\n",
    "        'count', \n",
    "        'sum', \n",
    "        'mean'\n",
    "    ])\n",
    "\n",
    "q_3.columns = q_3.columns.droplevel()\n",
    "q_3.columns = [\n",
    "    'Общее кол-во клиентов', \n",
    "    'Кол-во должников', \n",
    "    'Доля должников от общего кол-ва'\n",
    "]\n",
    "\n",
    "q_3"
   ]
  },
  {
   "cell_type": "markdown",
   "id": "bde64859",
   "metadata": {},
   "source": [
    "#### Вывод 3:\n",
    "\n",
    "Зависимость между категорией уровня дохода и процентом возврата кредита в срок не обнаружена. Самый высокий процент задолженностей по кредиту (9%) у клиентов с доходами категории E (самый низкий из данного датафрейма), однако самый высокий процент кредитов, возвращенных в срок у клиентов с доходами следующей категории (D). Эта категория клиентов вернула кредит вовремя в 94% случаев.\n",
    "\n",
    "Второй по проценту задолженностей по кредиту после категории E является категория С. У этой категории количество кредитов в абсолютных значениях значительно больше, чем у остальных категорий, однако и процент невозврата кредита в срок тажке велик - 8.5%.\n",
    "\n",
    "Распределение клиентов по категориям дохода сложно назвать равномерным, поэтому на выводы по влиянию этого параметра на процент возврата кредита в срок следует ориентироваться только для категорий `B`, `C`, `D`. Для двух других категорий выборка не является представительной с высокой вероятностью ошибок."
   ]
  },
  {
   "cell_type": "markdown",
   "id": "bf4e2d08",
   "metadata": {},
   "source": [
    "### Вопрос 4:\n",
    "Как разные **цели кредита** влияют на его возврат в срок?"
   ]
  },
  {
   "cell_type": "code",
   "execution_count": 63,
   "id": "784f8436",
   "metadata": {},
   "outputs": [
    {
     "data": {
      "text/html": [
       "<div>\n",
       "<style scoped>\n",
       "    .dataframe tbody tr th:only-of-type {\n",
       "        vertical-align: middle;\n",
       "    }\n",
       "\n",
       "    .dataframe tbody tr th {\n",
       "        vertical-align: top;\n",
       "    }\n",
       "\n",
       "    .dataframe thead th {\n",
       "        text-align: right;\n",
       "    }\n",
       "</style>\n",
       "<table border=\"1\" class=\"dataframe\">\n",
       "  <thead>\n",
       "    <tr style=\"text-align: right;\">\n",
       "      <th>debt</th>\n",
       "      <th>0</th>\n",
       "      <th>1</th>\n",
       "    </tr>\n",
       "    <tr>\n",
       "      <th>purpose_category</th>\n",
       "      <th></th>\n",
       "      <th></th>\n",
       "    </tr>\n",
       "  </thead>\n",
       "  <tbody>\n",
       "    <tr>\n",
       "      <th>операции с автомобилем</th>\n",
       "      <td>3903</td>\n",
       "      <td>403</td>\n",
       "    </tr>\n",
       "    <tr>\n",
       "      <th>операции с недвижимостью</th>\n",
       "      <td>10029</td>\n",
       "      <td>782</td>\n",
       "    </tr>\n",
       "    <tr>\n",
       "      <th>получение образования</th>\n",
       "      <td>3643</td>\n",
       "      <td>370</td>\n",
       "    </tr>\n",
       "    <tr>\n",
       "      <th>проведение свадьбы</th>\n",
       "      <td>2138</td>\n",
       "      <td>186</td>\n",
       "    </tr>\n",
       "  </tbody>\n",
       "</table>\n",
       "</div>"
      ],
      "text/plain": [
       "debt                          0    1\n",
       "purpose_category                    \n",
       "операции с автомобилем     3903  403\n",
       "операции с недвижимостью  10029  782\n",
       "получение образования      3643  370\n",
       "проведение свадьбы         2138  186"
      ]
     },
     "execution_count": 63,
     "metadata": {},
     "output_type": "execute_result"
    }
   ],
   "source": [
    "data.pivot_table(\n",
    "    index=['purpose_category'], \n",
    "    columns='debt', \n",
    "    values='gender', \n",
    "    aggfunc='count'\n",
    ")"
   ]
  },
  {
   "cell_type": "markdown",
   "id": "141f5d87",
   "metadata": {},
   "source": [
    "Сведем в таблицу долю в процентах для клиентов с задолженностью по кредиту в зависимости от цели кредита."
   ]
  },
  {
   "cell_type": "code",
   "execution_count": 64,
   "id": "6962fce8",
   "metadata": {},
   "outputs": [
    {
     "data": {
      "text/html": [
       "<div>\n",
       "<style scoped>\n",
       "    .dataframe tbody tr th:only-of-type {\n",
       "        vertical-align: middle;\n",
       "    }\n",
       "\n",
       "    .dataframe tbody tr th {\n",
       "        vertical-align: top;\n",
       "    }\n",
       "\n",
       "    .dataframe thead th {\n",
       "        text-align: right;\n",
       "    }\n",
       "</style>\n",
       "<table border=\"1\" class=\"dataframe\">\n",
       "  <thead>\n",
       "    <tr style=\"text-align: right;\">\n",
       "      <th></th>\n",
       "      <th>Общее кол-во клиентов</th>\n",
       "      <th>Кол-во должников</th>\n",
       "      <th>Доля должников от общего кол-ва</th>\n",
       "    </tr>\n",
       "    <tr>\n",
       "      <th>purpose_category</th>\n",
       "      <th></th>\n",
       "      <th></th>\n",
       "      <th></th>\n",
       "    </tr>\n",
       "  </thead>\n",
       "  <tbody>\n",
       "    <tr>\n",
       "      <th>операции с автомобилем</th>\n",
       "      <td>4306</td>\n",
       "      <td>403</td>\n",
       "      <td>0.093590</td>\n",
       "    </tr>\n",
       "    <tr>\n",
       "      <th>операции с недвижимостью</th>\n",
       "      <td>10811</td>\n",
       "      <td>782</td>\n",
       "      <td>0.072334</td>\n",
       "    </tr>\n",
       "    <tr>\n",
       "      <th>получение образования</th>\n",
       "      <td>4013</td>\n",
       "      <td>370</td>\n",
       "      <td>0.092200</td>\n",
       "    </tr>\n",
       "    <tr>\n",
       "      <th>проведение свадьбы</th>\n",
       "      <td>2324</td>\n",
       "      <td>186</td>\n",
       "      <td>0.080034</td>\n",
       "    </tr>\n",
       "  </tbody>\n",
       "</table>\n",
       "</div>"
      ],
      "text/plain": [
       "                          Общее кол-во клиентов  Кол-во должников  \\\n",
       "purpose_category                                                    \n",
       "операции с автомобилем                     4306               403   \n",
       "операции с недвижимостью                  10811               782   \n",
       "получение образования                      4013               370   \n",
       "проведение свадьбы                         2324               186   \n",
       "\n",
       "                          Доля должников от общего кол-ва  \n",
       "purpose_category                                           \n",
       "операции с автомобилем                           0.093590  \n",
       "операции с недвижимостью                         0.072334  \n",
       "получение образования                            0.092200  \n",
       "проведение свадьбы                               0.080034  "
      ]
     },
     "execution_count": 64,
     "metadata": {},
     "output_type": "execute_result"
    }
   ],
   "source": [
    "q_4 = data.pivot_table(\n",
    "    index='purpose_category', \n",
    "    values='debt', \n",
    "    aggfunc=[\n",
    "        'count', \n",
    "        'sum', \n",
    "        'mean'\n",
    "    ])\n",
    "\n",
    "q_4.columns = q_4.columns.droplevel()\n",
    "q_4.columns = [\n",
    "    'Общее кол-во клиентов', \n",
    "    'Кол-во должников', \n",
    "    'Доля должников от общего кол-ва'\n",
    "]\n",
    "\n",
    "q_4"
   ]
  },
  {
   "cell_type": "markdown",
   "id": "461bac70",
   "metadata": {},
   "source": [
    "#### Вывод 4:\n",
    "\n",
    "Самый высокий процент кредитов, возвращенных в срок, у клиентов, которые брали кредит для операций с недвижимостью - почти 93%.\n",
    "\n",
    "Больше всего задержек с возвратом кредита было связано с операциями с автомобилем и на получение образования - меньше 91% этих кредитов было возвращено в срок.\n",
    "\n",
    "**_Гипотеза_**: Возможно, наличие задержек по кредитам, взятым на разные цели, зависит от семейного положения клиента."
   ]
  },
  {
   "cell_type": "code",
   "execution_count": 65,
   "id": "c9d62aec",
   "metadata": {},
   "outputs": [
    {
     "data": {
      "text/html": [
       "<div>\n",
       "<style scoped>\n",
       "    .dataframe tbody tr th:only-of-type {\n",
       "        vertical-align: middle;\n",
       "    }\n",
       "\n",
       "    .dataframe tbody tr th {\n",
       "        vertical-align: top;\n",
       "    }\n",
       "\n",
       "    .dataframe thead th {\n",
       "        text-align: right;\n",
       "    }\n",
       "</style>\n",
       "<table border=\"1\" class=\"dataframe\">\n",
       "  <thead>\n",
       "    <tr style=\"text-align: right;\">\n",
       "      <th></th>\n",
       "      <th>family_status_id</th>\n",
       "      <th>0</th>\n",
       "      <th>1</th>\n",
       "      <th>2</th>\n",
       "      <th>3</th>\n",
       "      <th>4</th>\n",
       "    </tr>\n",
       "    <tr>\n",
       "      <th>purpose_category</th>\n",
       "      <th>debt</th>\n",
       "      <th></th>\n",
       "      <th></th>\n",
       "      <th></th>\n",
       "      <th></th>\n",
       "      <th></th>\n",
       "    </tr>\n",
       "  </thead>\n",
       "  <tbody>\n",
       "    <tr>\n",
       "      <th rowspan=\"2\" valign=\"top\">операции с автомобилем</th>\n",
       "      <th>0</th>\n",
       "      <td>2507.0</td>\n",
       "      <td>383.0</td>\n",
       "      <td>198.0</td>\n",
       "      <td>260.0</td>\n",
       "      <td>555.0</td>\n",
       "    </tr>\n",
       "    <tr>\n",
       "      <th>1</th>\n",
       "      <td>229.0</td>\n",
       "      <td>51.0</td>\n",
       "      <td>20.0</td>\n",
       "      <td>21.0</td>\n",
       "      <td>82.0</td>\n",
       "    </tr>\n",
       "    <tr>\n",
       "      <th rowspan=\"2\" valign=\"top\">операции с недвижимостью</th>\n",
       "      <th>0</th>\n",
       "      <td>6522.0</td>\n",
       "      <td>898.0</td>\n",
       "      <td>514.0</td>\n",
       "      <td>629.0</td>\n",
       "      <td>1466.0</td>\n",
       "    </tr>\n",
       "    <tr>\n",
       "      <th>1</th>\n",
       "      <td>486.0</td>\n",
       "      <td>91.0</td>\n",
       "      <td>28.0</td>\n",
       "      <td>47.0</td>\n",
       "      <td>130.0</td>\n",
       "    </tr>\n",
       "    <tr>\n",
       "      <th rowspan=\"2\" valign=\"top\">получение образования</th>\n",
       "      <th>0</th>\n",
       "      <td>2379.0</td>\n",
       "      <td>344.0</td>\n",
       "      <td>184.0</td>\n",
       "      <td>221.0</td>\n",
       "      <td>515.0</td>\n",
       "    </tr>\n",
       "    <tr>\n",
       "      <th>1</th>\n",
       "      <td>216.0</td>\n",
       "      <td>60.0</td>\n",
       "      <td>15.0</td>\n",
       "      <td>17.0</td>\n",
       "      <td>62.0</td>\n",
       "    </tr>\n",
       "    <tr>\n",
       "      <th rowspan=\"2\" valign=\"top\">проведение свадьбы</th>\n",
       "      <th>0</th>\n",
       "      <td>NaN</td>\n",
       "      <td>2138.0</td>\n",
       "      <td>NaN</td>\n",
       "      <td>NaN</td>\n",
       "      <td>NaN</td>\n",
       "    </tr>\n",
       "    <tr>\n",
       "      <th>1</th>\n",
       "      <td>NaN</td>\n",
       "      <td>186.0</td>\n",
       "      <td>NaN</td>\n",
       "      <td>NaN</td>\n",
       "      <td>NaN</td>\n",
       "    </tr>\n",
       "  </tbody>\n",
       "</table>\n",
       "</div>"
      ],
      "text/plain": [
       "family_status_id                    0       1      2      3       4\n",
       "purpose_category         debt                                      \n",
       "операции с автомобилем   0     2507.0   383.0  198.0  260.0   555.0\n",
       "                         1      229.0    51.0   20.0   21.0    82.0\n",
       "операции с недвижимостью 0     6522.0   898.0  514.0  629.0  1466.0\n",
       "                         1      486.0    91.0   28.0   47.0   130.0\n",
       "получение образования    0     2379.0   344.0  184.0  221.0   515.0\n",
       "                         1      216.0    60.0   15.0   17.0    62.0\n",
       "проведение свадьбы       0        NaN  2138.0    NaN    NaN     NaN\n",
       "                         1        NaN   186.0    NaN    NaN     NaN"
      ]
     },
     "execution_count": 65,
     "metadata": {},
     "output_type": "execute_result"
    }
   ],
   "source": [
    "data.pivot_table(\n",
    "    index=[\n",
    "        'purpose_category', \n",
    "        'debt'\n",
    "    ], \n",
    "    columns='family_status_id', \n",
    "    values='gender', \n",
    "    aggfunc='count'\n",
    ")"
   ]
  },
  {
   "cell_type": "markdown",
   "id": "60b26fb2",
   "metadata": {},
   "source": [
    "Из сводной таблицы видно, что среди клиентов, которые брали кредит на операции с недвижимостью, самый низкий процент возврата кредита в срок у клиентов в разводе - 87.5% кредитов были возвращены в срок. Среди тех, кто состоит в браке (официальном или гражданском) процент возврата кредита на операции с недвижимостью самый высокий - 91% и почти 95% соответственно.\n",
    "\n",
    "Похожая картина для кредитов, которые были взяты и для других целей. Процент кредитов с задолженностью для всех целей больше всего у клиентов в разводе (более 10%).\n",
    "\n",
    "Из этого можно подтвердить гипотезу, что процент возврата кредита в срок действительно больше зависит от семейного положения, а не от целей кредита."
   ]
  },
  {
   "cell_type": "markdown",
   "id": "d52abd92",
   "metadata": {},
   "source": [
    "## Общий вывод"
   ]
  },
  {
   "cell_type": "markdown",
   "id": "9cda3f76",
   "metadata": {},
   "source": [
    "<div style=\"border:solid purple 2px; padding: 20px\">\n",
    "    \n",
    "Был проведен анализ данных в таблице `/datasets/data.csv` с данными о клиентах кредитного отдела банка. \n",
    "\n",
    "На этапе предобработки данных были обработаны пропуски, аномалии и ошибки в данных. Созданы два дополнительных датафрейма-\"словаря\".\n",
    "    \n",
    "<b>На основании данных были сделаны следующие выводы:</b>\n",
    "\n",
    "1. Параметр **\"количество детей\"**\n",
    "\n",
    "Строгая зависимость процента клиентов, которые вернули кредит в срок, от количества детей не обнаружена. \n",
    " * Самый высокий процент возврата кредита в срок у клиентов, не имеющих детей.\n",
    " * Самый низкий - у клиентов с 2 детьми.\n",
    "\n",
    "2. Параметр **\"семейное положение\"**\n",
    "\n",
    " * Самый высокий процент кредитов, которые не были возвращены в срок, у клиентов с семейным положением \"Не женат / не замужем\". \n",
    " * Самый низкий - у клиентов с семейным положением \"вдовец / вдова\".\n",
    " * Доля возвращенных в срок кредитов у клиентов, состоящих в официальном и гражданском браке, различается. Среди клиентов, состоящих в официальном браке, процент задолженностей по кредиту почти на 2% больше чем среди тех, кто состоит в гражданском браке. \n",
    " \n",
    "    \n",
    "3. Параметр **\"уровень дохода\"**\n",
    "\n",
    "Строгой зависимости между категорией уровня дохода и процентом возврата кредита в срок не было обнаружено. \n",
    " * Самый высокий процент задолженностей по кредиту у клиентов с доходами категории С \n",
    " * Самый низкий - у клиентов с доходами категории D\n",
    "\n",
    "4. Параметр **\"цели кредита\"**\n",
    "\n",
    "Строгой зависимости между целью кредита и процентом возврата кредита в срок не было обнаружено. \n",
    "\n",
    " * Самый высокий процент кредитов, возвращенных в срок, у клиентов, которые брали кредит для операций с недвижимостью\n",
    " * Самый низкий - у клиентов, которые брали кредит для получения образования\n"
   ]
  }
 ],
 "metadata": {
  "ExecuteTimeLog": [
   {
    "duration": 388,
    "start_time": "2022-03-09T19:28:54.090Z"
   },
   {
    "duration": 817,
    "start_time": "2022-03-09T19:29:04.034Z"
   },
   {
    "duration": 65,
    "start_time": "2022-03-09T19:29:04.854Z"
   },
   {
    "duration": 18,
    "start_time": "2022-03-09T19:29:29.685Z"
   },
   {
    "duration": 31,
    "start_time": "2022-03-09T19:30:01.020Z"
   },
   {
    "duration": 7,
    "start_time": "2022-03-09T19:31:46.416Z"
   },
   {
    "duration": 5,
    "start_time": "2022-03-09T19:32:38.148Z"
   },
   {
    "duration": 115,
    "start_time": "2022-03-09T19:32:54.684Z"
   },
   {
    "duration": 42,
    "start_time": "2022-03-09T19:33:08.922Z"
   },
   {
    "duration": 35,
    "start_time": "2022-03-09T19:33:15.459Z"
   },
   {
    "duration": 6,
    "start_time": "2022-03-09T19:34:05.099Z"
   },
   {
    "duration": 7,
    "start_time": "2022-03-09T19:34:18.105Z"
   },
   {
    "duration": 6,
    "start_time": "2022-03-09T19:34:29.968Z"
   },
   {
    "duration": 8,
    "start_time": "2022-03-09T19:34:37.758Z"
   },
   {
    "duration": 6,
    "start_time": "2022-03-09T19:34:43.281Z"
   },
   {
    "duration": 4,
    "start_time": "2022-03-09T20:20:39.294Z"
   },
   {
    "duration": 4,
    "start_time": "2022-03-09T20:20:42.567Z"
   },
   {
    "duration": 7,
    "start_time": "2022-03-09T20:20:49.252Z"
   },
   {
    "duration": 10,
    "start_time": "2022-03-09T20:21:05.407Z"
   },
   {
    "duration": 29,
    "start_time": "2022-03-09T20:22:37.246Z"
   },
   {
    "duration": 18,
    "start_time": "2022-03-09T20:23:09.787Z"
   },
   {
    "duration": 22,
    "start_time": "2022-03-09T20:23:28.137Z"
   },
   {
    "duration": 11,
    "start_time": "2022-03-09T20:24:22.825Z"
   },
   {
    "duration": 9,
    "start_time": "2022-03-09T20:24:33.524Z"
   },
   {
    "duration": 106,
    "start_time": "2022-03-09T20:25:01.872Z"
   },
   {
    "duration": 1149,
    "start_time": "2022-03-09T20:25:09.872Z"
   },
   {
    "duration": 9,
    "start_time": "2022-03-09T20:25:17.455Z"
   },
   {
    "duration": 11,
    "start_time": "2022-03-09T20:26:56.358Z"
   },
   {
    "duration": 9,
    "start_time": "2022-03-09T20:28:15.805Z"
   },
   {
    "duration": 8,
    "start_time": "2022-03-09T20:28:21.158Z"
   },
   {
    "duration": 10,
    "start_time": "2022-03-09T20:28:25.172Z"
   },
   {
    "duration": 9,
    "start_time": "2022-03-09T20:28:31.628Z"
   },
   {
    "duration": 10,
    "start_time": "2022-03-09T20:28:35.052Z"
   },
   {
    "duration": 24,
    "start_time": "2022-03-09T20:30:36.766Z"
   },
   {
    "duration": 7,
    "start_time": "2022-03-09T20:31:02.144Z"
   },
   {
    "duration": 207,
    "start_time": "2022-03-09T20:31:41.717Z"
   },
   {
    "duration": 120,
    "start_time": "2022-03-09T20:32:46.751Z"
   },
   {
    "duration": 22,
    "start_time": "2022-03-09T20:32:53.225Z"
   },
   {
    "duration": 7,
    "start_time": "2022-03-09T20:33:34.191Z"
   },
   {
    "duration": 7,
    "start_time": "2022-03-09T20:33:51.213Z"
   },
   {
    "duration": 9,
    "start_time": "2022-03-09T20:34:24.947Z"
   },
   {
    "duration": 37,
    "start_time": "2022-03-09T20:35:03.628Z"
   },
   {
    "duration": 7,
    "start_time": "2022-03-09T20:36:24.665Z"
   },
   {
    "duration": 7,
    "start_time": "2022-03-09T20:37:49.329Z"
   },
   {
    "duration": 7,
    "start_time": "2022-03-09T20:37:57.496Z"
   },
   {
    "duration": 7,
    "start_time": "2022-03-09T20:38:00.400Z"
   },
   {
    "duration": 19,
    "start_time": "2022-03-09T20:38:26.628Z"
   },
   {
    "duration": 42,
    "start_time": "2022-03-09T20:38:43.526Z"
   },
   {
    "duration": 10,
    "start_time": "2022-03-09T20:41:22.543Z"
   },
   {
    "duration": 45,
    "start_time": "2022-03-09T20:41:38.473Z"
   },
   {
    "duration": 19,
    "start_time": "2022-03-09T20:43:42.834Z"
   },
   {
    "duration": 14,
    "start_time": "2022-03-09T20:44:04.163Z"
   },
   {
    "duration": 950,
    "start_time": "2022-03-09T20:44:22.499Z"
   },
   {
    "duration": 67,
    "start_time": "2022-03-09T20:44:23.451Z"
   },
   {
    "duration": 14,
    "start_time": "2022-03-09T20:44:23.521Z"
   },
   {
    "duration": 30,
    "start_time": "2022-03-09T20:44:23.538Z"
   },
   {
    "duration": 7,
    "start_time": "2022-03-09T20:44:23.571Z"
   },
   {
    "duration": 5,
    "start_time": "2022-03-09T20:44:23.581Z"
   },
   {
    "duration": 79,
    "start_time": "2022-03-09T20:44:23.589Z"
   },
   {
    "duration": 6,
    "start_time": "2022-03-09T20:44:23.671Z"
   },
   {
    "duration": 5,
    "start_time": "2022-03-09T20:44:23.680Z"
   },
   {
    "duration": 45,
    "start_time": "2022-03-09T20:44:23.688Z"
   },
   {
    "duration": 7,
    "start_time": "2022-03-09T20:44:23.735Z"
   },
   {
    "duration": 7,
    "start_time": "2022-03-09T20:44:23.744Z"
   },
   {
    "duration": 4,
    "start_time": "2022-03-09T20:44:23.754Z"
   },
   {
    "duration": 8,
    "start_time": "2022-03-09T20:44:23.760Z"
   },
   {
    "duration": 10,
    "start_time": "2022-03-09T20:44:23.770Z"
   },
   {
    "duration": 72,
    "start_time": "2022-03-09T20:44:23.782Z"
   },
   {
    "duration": 18,
    "start_time": "2022-03-09T20:44:23.856Z"
   },
   {
    "duration": 21,
    "start_time": "2022-03-09T20:44:23.876Z"
   },
   {
    "duration": 38,
    "start_time": "2022-03-09T20:44:23.899Z"
   },
   {
    "duration": 10,
    "start_time": "2022-03-09T20:44:23.939Z"
   },
   {
    "duration": 22,
    "start_time": "2022-03-09T20:44:23.951Z"
   },
   {
    "duration": 6,
    "start_time": "2022-03-09T20:44:23.975Z"
   },
   {
    "duration": 46,
    "start_time": "2022-03-09T20:44:23.986Z"
   },
   {
    "duration": 8,
    "start_time": "2022-03-09T20:44:24.035Z"
   },
   {
    "duration": 12,
    "start_time": "2022-03-09T20:44:24.046Z"
   },
   {
    "duration": 36,
    "start_time": "2022-03-09T20:44:24.060Z"
   },
   {
    "duration": 8,
    "start_time": "2022-03-09T20:44:24.134Z"
   },
   {
    "duration": 20,
    "start_time": "2022-03-09T20:44:24.145Z"
   },
   {
    "duration": 76,
    "start_time": "2022-03-09T20:44:24.168Z"
   },
   {
    "duration": 10,
    "start_time": "2022-03-09T20:44:24.248Z"
   },
   {
    "duration": 78,
    "start_time": "2022-03-09T20:44:24.261Z"
   },
   {
    "duration": 16,
    "start_time": "2022-03-09T20:44:24.342Z"
   },
   {
    "duration": 15,
    "start_time": "2022-03-09T20:44:24.361Z"
   },
   {
    "duration": 21,
    "start_time": "2022-03-09T20:46:05.820Z"
   },
   {
    "duration": 15,
    "start_time": "2022-03-09T20:46:29.596Z"
   },
   {
    "duration": 35,
    "start_time": "2022-03-09T20:46:51.319Z"
   },
   {
    "duration": 26,
    "start_time": "2022-03-09T20:47:07.388Z"
   },
   {
    "duration": 26,
    "start_time": "2022-03-09T20:47:11.730Z"
   },
   {
    "duration": 26,
    "start_time": "2022-03-09T20:47:20.792Z"
   },
   {
    "duration": 40,
    "start_time": "2022-03-09T20:47:27.392Z"
   },
   {
    "duration": 29,
    "start_time": "2022-03-09T20:47:35.220Z"
   },
   {
    "duration": 26,
    "start_time": "2022-03-09T20:47:40.623Z"
   },
   {
    "duration": 12,
    "start_time": "2022-03-09T20:53:17.518Z"
   },
   {
    "duration": 14,
    "start_time": "2022-03-09T20:53:32.085Z"
   },
   {
    "duration": 12,
    "start_time": "2022-03-09T20:54:22.224Z"
   },
   {
    "duration": 13,
    "start_time": "2022-03-09T20:54:34.807Z"
   },
   {
    "duration": 24,
    "start_time": "2022-03-09T21:00:58.755Z"
   },
   {
    "duration": 22,
    "start_time": "2022-03-09T21:03:25.137Z"
   },
   {
    "duration": 9,
    "start_time": "2022-03-09T21:03:36.986Z"
   },
   {
    "duration": 328,
    "start_time": "2022-03-10T07:52:40.110Z"
   },
   {
    "duration": 714,
    "start_time": "2022-03-10T07:52:49.078Z"
   },
   {
    "duration": 61,
    "start_time": "2022-03-10T07:52:49.795Z"
   },
   {
    "duration": 15,
    "start_time": "2022-03-10T07:52:49.859Z"
   },
   {
    "duration": 28,
    "start_time": "2022-03-10T07:52:49.878Z"
   },
   {
    "duration": 8,
    "start_time": "2022-03-10T07:52:49.908Z"
   },
   {
    "duration": 6,
    "start_time": "2022-03-10T07:52:49.952Z"
   },
   {
    "duration": 35,
    "start_time": "2022-03-10T07:52:49.960Z"
   },
   {
    "duration": 7,
    "start_time": "2022-03-10T07:52:49.999Z"
   },
   {
    "duration": 43,
    "start_time": "2022-03-10T07:52:50.008Z"
   },
   {
    "duration": 5,
    "start_time": "2022-03-10T07:52:50.054Z"
   },
   {
    "duration": 7,
    "start_time": "2022-03-10T07:52:50.061Z"
   },
   {
    "duration": 7,
    "start_time": "2022-03-10T07:52:50.070Z"
   },
   {
    "duration": 4,
    "start_time": "2022-03-10T07:52:50.079Z"
   },
   {
    "duration": 6,
    "start_time": "2022-03-10T07:52:50.086Z"
   },
   {
    "duration": 58,
    "start_time": "2022-03-10T07:52:50.095Z"
   },
   {
    "duration": 24,
    "start_time": "2022-03-10T07:52:50.155Z"
   },
   {
    "duration": 30,
    "start_time": "2022-03-10T07:52:50.182Z"
   },
   {
    "duration": 49,
    "start_time": "2022-03-10T07:52:50.214Z"
   },
   {
    "duration": 21,
    "start_time": "2022-03-10T07:52:50.266Z"
   },
   {
    "duration": 7,
    "start_time": "2022-03-10T07:52:50.289Z"
   },
   {
    "duration": 10,
    "start_time": "2022-03-10T07:52:50.298Z"
   },
   {
    "duration": 56,
    "start_time": "2022-03-10T07:52:50.311Z"
   },
   {
    "duration": 6,
    "start_time": "2022-03-10T07:52:50.372Z"
   },
   {
    "duration": 9,
    "start_time": "2022-03-10T07:52:50.383Z"
   },
   {
    "duration": 7,
    "start_time": "2022-03-10T07:52:50.395Z"
   },
   {
    "duration": 10,
    "start_time": "2022-03-10T07:52:50.451Z"
   },
   {
    "duration": 23,
    "start_time": "2022-03-10T07:52:50.464Z"
   },
   {
    "duration": 8,
    "start_time": "2022-03-10T07:52:50.490Z"
   },
   {
    "duration": 8748,
    "start_time": "2022-03-10T07:52:50.501Z"
   },
   {
    "duration": -29712,
    "start_time": "2022-03-10T07:53:28.963Z"
   },
   {
    "duration": -29721,
    "start_time": "2022-03-10T07:53:28.973Z"
   },
   {
    "duration": -29726,
    "start_time": "2022-03-10T07:53:28.980Z"
   },
   {
    "duration": -29733,
    "start_time": "2022-03-10T07:53:28.989Z"
   },
   {
    "duration": -29736,
    "start_time": "2022-03-10T07:53:28.993Z"
   },
   {
    "duration": -29744,
    "start_time": "2022-03-10T07:53:29.002Z"
   },
   {
    "duration": -29746,
    "start_time": "2022-03-10T07:53:29.006Z"
   },
   {
    "duration": -29749,
    "start_time": "2022-03-10T07:53:29.011Z"
   },
   {
    "duration": -29752,
    "start_time": "2022-03-10T07:53:29.015Z"
   },
   {
    "duration": -29760,
    "start_time": "2022-03-10T07:53:29.025Z"
   },
   {
    "duration": -29769,
    "start_time": "2022-03-10T07:53:29.035Z"
   },
   {
    "duration": -29771,
    "start_time": "2022-03-10T07:53:29.039Z"
   },
   {
    "duration": -29782,
    "start_time": "2022-03-10T07:53:29.052Z"
   },
   {
    "duration": -29789,
    "start_time": "2022-03-10T07:53:29.060Z"
   },
   {
    "duration": -29801,
    "start_time": "2022-03-10T07:53:29.074Z"
   },
   {
    "duration": -29806,
    "start_time": "2022-03-10T07:53:29.080Z"
   },
   {
    "duration": -29680,
    "start_time": "2022-03-10T07:53:52.386Z"
   },
   {
    "duration": 742,
    "start_time": "2022-03-10T07:53:34.504Z"
   },
   {
    "duration": 57,
    "start_time": "2022-03-10T07:53:35.249Z"
   },
   {
    "duration": 16,
    "start_time": "2022-03-10T07:53:35.309Z"
   },
   {
    "duration": 51,
    "start_time": "2022-03-10T07:53:35.328Z"
   },
   {
    "duration": 7,
    "start_time": "2022-03-10T07:53:35.382Z"
   },
   {
    "duration": 5,
    "start_time": "2022-03-10T07:53:35.392Z"
   },
   {
    "duration": 73,
    "start_time": "2022-03-10T07:53:35.400Z"
   },
   {
    "duration": 7,
    "start_time": "2022-03-10T07:53:35.477Z"
   },
   {
    "duration": 9,
    "start_time": "2022-03-10T07:53:35.487Z"
   },
   {
    "duration": 11,
    "start_time": "2022-03-10T07:53:35.498Z"
   },
   {
    "duration": 40,
    "start_time": "2022-03-10T07:53:35.511Z"
   },
   {
    "duration": 6,
    "start_time": "2022-03-10T07:53:35.554Z"
   },
   {
    "duration": 9,
    "start_time": "2022-03-10T07:53:35.564Z"
   },
   {
    "duration": 26,
    "start_time": "2022-03-10T07:53:35.576Z"
   },
   {
    "duration": 9,
    "start_time": "2022-03-10T07:53:35.604Z"
   },
   {
    "duration": 54,
    "start_time": "2022-03-10T07:53:35.616Z"
   },
   {
    "duration": 20,
    "start_time": "2022-03-10T07:53:35.672Z"
   },
   {
    "duration": 32,
    "start_time": "2022-03-10T07:53:35.694Z"
   },
   {
    "duration": 38,
    "start_time": "2022-03-10T07:53:35.728Z"
   },
   {
    "duration": 7,
    "start_time": "2022-03-10T07:53:35.769Z"
   },
   {
    "duration": 17,
    "start_time": "2022-03-10T07:53:35.779Z"
   },
   {
    "duration": 25,
    "start_time": "2022-03-10T07:53:35.798Z"
   },
   {
    "duration": 6,
    "start_time": "2022-03-10T07:53:35.853Z"
   },
   {
    "duration": 11,
    "start_time": "2022-03-10T07:53:35.862Z"
   },
   {
    "duration": 7,
    "start_time": "2022-03-10T07:53:35.876Z"
   },
   {
    "duration": 14,
    "start_time": "2022-03-10T07:53:35.885Z"
   },
   {
    "duration": 56,
    "start_time": "2022-03-10T07:53:35.901Z"
   },
   {
    "duration": 7,
    "start_time": "2022-03-10T07:53:35.959Z"
   },
   {
    "duration": 6669,
    "start_time": "2022-03-10T07:53:35.969Z"
   },
   {
    "duration": -29716,
    "start_time": "2022-03-10T07:54:12.356Z"
   },
   {
    "duration": -29730,
    "start_time": "2022-03-10T07:54:12.371Z"
   },
   {
    "duration": -29734,
    "start_time": "2022-03-10T07:54:12.377Z"
   },
   {
    "duration": -29736,
    "start_time": "2022-03-10T07:54:12.381Z"
   },
   {
    "duration": -29746,
    "start_time": "2022-03-10T07:54:12.393Z"
   },
   {
    "duration": -29754,
    "start_time": "2022-03-10T07:54:12.403Z"
   },
   {
    "duration": -29756,
    "start_time": "2022-03-10T07:54:12.408Z"
   },
   {
    "duration": -29759,
    "start_time": "2022-03-10T07:54:12.413Z"
   },
   {
    "duration": -29766,
    "start_time": "2022-03-10T07:54:12.422Z"
   },
   {
    "duration": -29774,
    "start_time": "2022-03-10T07:54:12.432Z"
   },
   {
    "duration": -29777,
    "start_time": "2022-03-10T07:54:12.438Z"
   },
   {
    "duration": -29789,
    "start_time": "2022-03-10T07:54:12.452Z"
   },
   {
    "duration": -29797,
    "start_time": "2022-03-10T07:54:12.462Z"
   },
   {
    "duration": -29812,
    "start_time": "2022-03-10T07:54:12.479Z"
   },
   {
    "duration": -29824,
    "start_time": "2022-03-10T07:54:12.493Z"
   },
   {
    "duration": -29860,
    "start_time": "2022-03-10T07:54:12.531Z"
   },
   {
    "duration": 6925,
    "start_time": "2022-03-10T07:54:54.866Z"
   },
   {
    "duration": 730,
    "start_time": "2022-03-10T07:55:43.620Z"
   },
   {
    "duration": 57,
    "start_time": "2022-03-10T07:55:44.353Z"
   },
   {
    "duration": 15,
    "start_time": "2022-03-10T07:55:44.413Z"
   },
   {
    "duration": 45,
    "start_time": "2022-03-10T07:55:44.431Z"
   },
   {
    "duration": 7,
    "start_time": "2022-03-10T07:55:44.478Z"
   },
   {
    "duration": 6,
    "start_time": "2022-03-10T07:55:44.488Z"
   },
   {
    "duration": 67,
    "start_time": "2022-03-10T07:55:44.496Z"
   },
   {
    "duration": 6,
    "start_time": "2022-03-10T07:55:44.567Z"
   },
   {
    "duration": 8,
    "start_time": "2022-03-10T07:55:44.576Z"
   },
   {
    "duration": 5,
    "start_time": "2022-03-10T07:55:44.587Z"
   },
   {
    "duration": 8,
    "start_time": "2022-03-10T07:55:44.595Z"
   },
   {
    "duration": 6,
    "start_time": "2022-03-10T07:55:44.650Z"
   },
   {
    "duration": 8,
    "start_time": "2022-03-10T07:55:44.658Z"
   },
   {
    "duration": 7,
    "start_time": "2022-03-10T07:55:44.669Z"
   },
   {
    "duration": 10,
    "start_time": "2022-03-10T07:55:44.678Z"
   },
   {
    "duration": 61,
    "start_time": "2022-03-10T07:55:44.690Z"
   },
   {
    "duration": 18,
    "start_time": "2022-03-10T07:55:44.754Z"
   },
   {
    "duration": 20,
    "start_time": "2022-03-10T07:55:44.775Z"
   },
   {
    "duration": 55,
    "start_time": "2022-03-10T07:55:44.797Z"
   },
   {
    "duration": 9,
    "start_time": "2022-03-10T07:55:44.855Z"
   },
   {
    "duration": 10,
    "start_time": "2022-03-10T07:55:44.867Z"
   },
   {
    "duration": 21,
    "start_time": "2022-03-10T07:55:44.879Z"
   },
   {
    "duration": 6,
    "start_time": "2022-03-10T07:55:44.904Z"
   },
   {
    "duration": 8,
    "start_time": "2022-03-10T07:55:44.953Z"
   },
   {
    "duration": 7,
    "start_time": "2022-03-10T07:55:44.963Z"
   },
   {
    "duration": 8,
    "start_time": "2022-03-10T07:55:44.972Z"
   },
   {
    "duration": 21,
    "start_time": "2022-03-10T07:55:44.983Z"
   },
   {
    "duration": 8,
    "start_time": "2022-03-10T07:55:45.051Z"
   },
   {
    "duration": 6877,
    "start_time": "2022-03-10T07:55:45.061Z"
   },
   {
    "duration": -29704,
    "start_time": "2022-03-10T07:56:21.644Z"
   },
   {
    "duration": -29709,
    "start_time": "2022-03-10T07:56:21.651Z"
   },
   {
    "duration": -29717,
    "start_time": "2022-03-10T07:56:21.661Z"
   },
   {
    "duration": -29722,
    "start_time": "2022-03-10T07:56:21.667Z"
   },
   {
    "duration": -29744,
    "start_time": "2022-03-10T07:56:21.691Z"
   },
   {
    "duration": -29747,
    "start_time": "2022-03-10T07:56:21.696Z"
   },
   {
    "duration": -29756,
    "start_time": "2022-03-10T07:56:21.706Z"
   },
   {
    "duration": -29758,
    "start_time": "2022-03-10T07:56:21.710Z"
   },
   {
    "duration": -29760,
    "start_time": "2022-03-10T07:56:21.713Z"
   },
   {
    "duration": -29763,
    "start_time": "2022-03-10T07:56:21.719Z"
   },
   {
    "duration": -29765,
    "start_time": "2022-03-10T07:56:21.722Z"
   },
   {
    "duration": -29781,
    "start_time": "2022-03-10T07:56:21.740Z"
   },
   {
    "duration": -29783,
    "start_time": "2022-03-10T07:56:21.744Z"
   },
   {
    "duration": -29791,
    "start_time": "2022-03-10T07:56:21.754Z"
   },
   {
    "duration": -29803,
    "start_time": "2022-03-10T07:56:21.769Z"
   },
   {
    "duration": -29815,
    "start_time": "2022-03-10T07:56:21.783Z"
   },
   {
    "duration": 754,
    "start_time": "2022-03-10T07:58:29.737Z"
   },
   {
    "duration": 85,
    "start_time": "2022-03-10T07:58:30.497Z"
   },
   {
    "duration": 15,
    "start_time": "2022-03-10T07:58:30.585Z"
   },
   {
    "duration": 54,
    "start_time": "2022-03-10T07:58:30.603Z"
   },
   {
    "duration": 21,
    "start_time": "2022-03-10T07:58:30.660Z"
   },
   {
    "duration": 14,
    "start_time": "2022-03-10T07:58:30.683Z"
   },
   {
    "duration": 42,
    "start_time": "2022-03-10T07:58:30.701Z"
   },
   {
    "duration": 6,
    "start_time": "2022-03-10T07:58:30.752Z"
   },
   {
    "duration": 21,
    "start_time": "2022-03-10T07:58:30.760Z"
   },
   {
    "duration": 23,
    "start_time": "2022-03-10T07:58:30.783Z"
   },
   {
    "duration": 23,
    "start_time": "2022-03-10T07:58:30.808Z"
   },
   {
    "duration": 21,
    "start_time": "2022-03-10T07:58:30.834Z"
   },
   {
    "duration": 23,
    "start_time": "2022-03-10T07:58:30.858Z"
   },
   {
    "duration": 38,
    "start_time": "2022-03-10T07:58:30.883Z"
   },
   {
    "duration": 25,
    "start_time": "2022-03-10T07:58:30.923Z"
   },
   {
    "duration": 39,
    "start_time": "2022-03-10T07:58:30.950Z"
   },
   {
    "duration": 19,
    "start_time": "2022-03-10T07:58:30.992Z"
   },
   {
    "duration": 40,
    "start_time": "2022-03-10T07:58:31.013Z"
   },
   {
    "duration": 36,
    "start_time": "2022-03-10T07:58:31.055Z"
   },
   {
    "duration": 14,
    "start_time": "2022-03-10T07:58:31.093Z"
   },
   {
    "duration": 28,
    "start_time": "2022-03-10T07:58:31.109Z"
   },
   {
    "duration": 43,
    "start_time": "2022-03-10T07:58:31.142Z"
   },
   {
    "duration": 19,
    "start_time": "2022-03-10T07:58:31.188Z"
   },
   {
    "duration": 22,
    "start_time": "2022-03-10T07:58:31.209Z"
   },
   {
    "duration": 23,
    "start_time": "2022-03-10T07:58:31.233Z"
   },
   {
    "duration": 28,
    "start_time": "2022-03-10T07:58:31.259Z"
   },
   {
    "duration": 49,
    "start_time": "2022-03-10T07:58:31.290Z"
   },
   {
    "duration": 30,
    "start_time": "2022-03-10T07:58:31.342Z"
   },
   {
    "duration": 6737,
    "start_time": "2022-03-10T07:58:31.375Z"
   },
   {
    "duration": -29722,
    "start_time": "2022-03-10T07:59:07.836Z"
   },
   {
    "duration": -29724,
    "start_time": "2022-03-10T07:59:07.840Z"
   },
   {
    "duration": -29736,
    "start_time": "2022-03-10T07:59:07.853Z"
   },
   {
    "duration": -29741,
    "start_time": "2022-03-10T07:59:07.860Z"
   },
   {
    "duration": -29744,
    "start_time": "2022-03-10T07:59:07.864Z"
   },
   {
    "duration": -29754,
    "start_time": "2022-03-10T07:59:07.876Z"
   },
   {
    "duration": -29757,
    "start_time": "2022-03-10T07:59:07.880Z"
   },
   {
    "duration": -29767,
    "start_time": "2022-03-10T07:59:07.892Z"
   },
   {
    "duration": -29776,
    "start_time": "2022-03-10T07:59:07.902Z"
   },
   {
    "duration": -29781,
    "start_time": "2022-03-10T07:59:07.909Z"
   },
   {
    "duration": -29784,
    "start_time": "2022-03-10T07:59:07.913Z"
   },
   {
    "duration": -29803,
    "start_time": "2022-03-10T07:59:07.933Z"
   },
   {
    "duration": -29805,
    "start_time": "2022-03-10T07:59:07.937Z"
   },
   {
    "duration": -29809,
    "start_time": "2022-03-10T07:59:07.942Z"
   },
   {
    "duration": -29824,
    "start_time": "2022-03-10T07:59:07.958Z"
   },
   {
    "duration": -29862,
    "start_time": "2022-03-10T07:59:07.998Z"
   },
   {
    "duration": 19,
    "start_time": "2022-03-10T08:01:24.273Z"
   },
   {
    "duration": 93,
    "start_time": "2022-03-10T08:35:25.669Z"
   },
   {
    "duration": 493,
    "start_time": "2022-03-10T08:35:35.790Z"
   },
   {
    "duration": 386,
    "start_time": "2022-03-10T08:35:45.505Z"
   },
   {
    "duration": 408,
    "start_time": "2022-03-10T08:36:03.949Z"
   },
   {
    "duration": 394,
    "start_time": "2022-03-10T08:36:12.460Z"
   },
   {
    "duration": 386,
    "start_time": "2022-03-10T08:36:31.986Z"
   },
   {
    "duration": 403,
    "start_time": "2022-03-10T08:36:53.191Z"
   },
   {
    "duration": 419,
    "start_time": "2022-03-10T08:37:00.702Z"
   },
   {
    "duration": 415,
    "start_time": "2022-03-10T08:37:05.893Z"
   },
   {
    "duration": 508,
    "start_time": "2022-03-10T08:37:14.851Z"
   },
   {
    "duration": 10,
    "start_time": "2022-03-10T08:37:28.815Z"
   },
   {
    "duration": 286,
    "start_time": "2022-03-10T08:37:36.562Z"
   },
   {
    "duration": 247,
    "start_time": "2022-03-10T08:37:44.604Z"
   },
   {
    "duration": 12,
    "start_time": "2022-03-10T08:38:11.268Z"
   },
   {
    "duration": 774,
    "start_time": "2022-03-10T08:44:44.720Z"
   },
   {
    "duration": 64,
    "start_time": "2022-03-10T08:44:45.497Z"
   },
   {
    "duration": 15,
    "start_time": "2022-03-10T08:44:45.564Z"
   },
   {
    "duration": 28,
    "start_time": "2022-03-10T08:44:45.582Z"
   },
   {
    "duration": 7,
    "start_time": "2022-03-10T08:44:45.612Z"
   },
   {
    "duration": 5,
    "start_time": "2022-03-10T08:44:45.652Z"
   },
   {
    "duration": 34,
    "start_time": "2022-03-10T08:44:45.659Z"
   },
   {
    "duration": 5,
    "start_time": "2022-03-10T08:44:45.697Z"
   },
   {
    "duration": 6,
    "start_time": "2022-03-10T08:44:45.705Z"
   },
   {
    "duration": 6,
    "start_time": "2022-03-10T08:44:45.752Z"
   },
   {
    "duration": 7,
    "start_time": "2022-03-10T08:44:45.760Z"
   },
   {
    "duration": 8,
    "start_time": "2022-03-10T08:44:45.769Z"
   },
   {
    "duration": 7,
    "start_time": "2022-03-10T08:44:45.780Z"
   },
   {
    "duration": 13,
    "start_time": "2022-03-10T08:44:45.789Z"
   },
   {
    "duration": 48,
    "start_time": "2022-03-10T08:44:45.804Z"
   },
   {
    "duration": 26,
    "start_time": "2022-03-10T08:44:45.855Z"
   },
   {
    "duration": 18,
    "start_time": "2022-03-10T08:44:45.883Z"
   },
   {
    "duration": 57,
    "start_time": "2022-03-10T08:44:45.904Z"
   },
   {
    "duration": 21,
    "start_time": "2022-03-10T08:44:45.963Z"
   },
   {
    "duration": 9,
    "start_time": "2022-03-10T08:44:45.987Z"
   },
   {
    "duration": 10,
    "start_time": "2022-03-10T08:44:45.999Z"
   },
   {
    "duration": 56,
    "start_time": "2022-03-10T08:44:46.011Z"
   },
   {
    "duration": 6,
    "start_time": "2022-03-10T08:44:46.074Z"
   },
   {
    "duration": 8,
    "start_time": "2022-03-10T08:44:46.083Z"
   },
   {
    "duration": 9,
    "start_time": "2022-03-10T08:44:46.093Z"
   },
   {
    "duration": 9,
    "start_time": "2022-03-10T08:44:46.151Z"
   },
   {
    "duration": 22,
    "start_time": "2022-03-10T08:44:46.163Z"
   },
   {
    "duration": 8,
    "start_time": "2022-03-10T08:44:46.188Z"
   },
   {
    "duration": 6596,
    "start_time": "2022-03-10T08:44:46.199Z"
   },
   {
    "duration": -29638,
    "start_time": "2022-03-10T08:45:22.436Z"
   },
   {
    "duration": -29642,
    "start_time": "2022-03-10T08:45:22.441Z"
   },
   {
    "duration": -29655,
    "start_time": "2022-03-10T08:45:22.455Z"
   },
   {
    "duration": -29658,
    "start_time": "2022-03-10T08:45:22.459Z"
   },
   {
    "duration": -29668,
    "start_time": "2022-03-10T08:45:22.471Z"
   },
   {
    "duration": -29671,
    "start_time": "2022-03-10T08:45:22.475Z"
   },
   {
    "duration": -29674,
    "start_time": "2022-03-10T08:45:22.480Z"
   },
   {
    "duration": -29678,
    "start_time": "2022-03-10T08:45:22.485Z"
   },
   {
    "duration": -29687,
    "start_time": "2022-03-10T08:45:22.496Z"
   },
   {
    "duration": -29692,
    "start_time": "2022-03-10T08:45:22.502Z"
   },
   {
    "duration": -29701,
    "start_time": "2022-03-10T08:45:22.512Z"
   },
   {
    "duration": -29712,
    "start_time": "2022-03-10T08:45:22.525Z"
   },
   {
    "duration": -29721,
    "start_time": "2022-03-10T08:45:22.536Z"
   },
   {
    "duration": -29749,
    "start_time": "2022-03-10T08:45:22.565Z"
   },
   {
    "duration": -29751,
    "start_time": "2022-03-10T08:45:22.569Z"
   },
   {
    "duration": -29761,
    "start_time": "2022-03-10T08:45:22.580Z"
   },
   {
    "duration": -29765,
    "start_time": "2022-03-10T08:45:22.586Z"
   },
   {
    "duration": -29798,
    "start_time": "2022-03-10T08:45:22.620Z"
   },
   {
    "duration": -29803,
    "start_time": "2022-03-10T08:45:22.626Z"
   },
   {
    "duration": -29627,
    "start_time": "2022-03-10T08:46:39.914Z"
   },
   {
    "duration": 724,
    "start_time": "2022-03-10T08:47:48.568Z"
   },
   {
    "duration": 57,
    "start_time": "2022-03-10T08:47:49.295Z"
   },
   {
    "duration": 15,
    "start_time": "2022-03-10T08:47:49.354Z"
   },
   {
    "duration": 28,
    "start_time": "2022-03-10T08:47:49.372Z"
   },
   {
    "duration": 6,
    "start_time": "2022-03-10T08:47:49.403Z"
   },
   {
    "duration": 43,
    "start_time": "2022-03-10T08:47:49.411Z"
   },
   {
    "duration": 38,
    "start_time": "2022-03-10T08:47:49.456Z"
   },
   {
    "duration": 5,
    "start_time": "2022-03-10T08:47:49.498Z"
   },
   {
    "duration": 6,
    "start_time": "2022-03-10T08:47:49.506Z"
   },
   {
    "duration": 38,
    "start_time": "2022-03-10T08:47:49.514Z"
   },
   {
    "duration": 7,
    "start_time": "2022-03-10T08:47:49.555Z"
   },
   {
    "duration": 8,
    "start_time": "2022-03-10T08:47:49.565Z"
   },
   {
    "duration": 7,
    "start_time": "2022-03-10T08:47:49.576Z"
   },
   {
    "duration": 14,
    "start_time": "2022-03-10T08:47:49.585Z"
   },
   {
    "duration": 55,
    "start_time": "2022-03-10T08:47:49.601Z"
   },
   {
    "duration": 25,
    "start_time": "2022-03-10T08:47:49.658Z"
   },
   {
    "duration": 19,
    "start_time": "2022-03-10T08:47:49.686Z"
   },
   {
    "duration": 51,
    "start_time": "2022-03-10T08:47:49.707Z"
   },
   {
    "duration": 20,
    "start_time": "2022-03-10T08:47:49.760Z"
   },
   {
    "duration": 6,
    "start_time": "2022-03-10T08:47:49.783Z"
   },
   {
    "duration": 10,
    "start_time": "2022-03-10T08:47:49.792Z"
   },
   {
    "duration": 60,
    "start_time": "2022-03-10T08:47:49.805Z"
   },
   {
    "duration": 6,
    "start_time": "2022-03-10T08:47:49.870Z"
   },
   {
    "duration": 10,
    "start_time": "2022-03-10T08:47:49.879Z"
   },
   {
    "duration": 7,
    "start_time": "2022-03-10T08:47:49.891Z"
   },
   {
    "duration": 9,
    "start_time": "2022-03-10T08:47:49.901Z"
   },
   {
    "duration": 22,
    "start_time": "2022-03-10T08:47:49.951Z"
   },
   {
    "duration": 9,
    "start_time": "2022-03-10T08:47:49.976Z"
   },
   {
    "duration": 6821,
    "start_time": "2022-03-10T08:47:49.987Z"
   },
   {
    "duration": -29641,
    "start_time": "2022-03-10T08:48:26.451Z"
   },
   {
    "duration": -29646,
    "start_time": "2022-03-10T08:48:26.457Z"
   },
   {
    "duration": -29661,
    "start_time": "2022-03-10T08:48:26.474Z"
   },
   {
    "duration": -29673,
    "start_time": "2022-03-10T08:48:26.487Z"
   },
   {
    "duration": -29684,
    "start_time": "2022-03-10T08:48:26.499Z"
   },
   {
    "duration": -29686,
    "start_time": "2022-03-10T08:48:26.503Z"
   },
   {
    "duration": -29696,
    "start_time": "2022-03-10T08:48:26.514Z"
   },
   {
    "duration": -29723,
    "start_time": "2022-03-10T08:48:26.543Z"
   },
   {
    "duration": -29727,
    "start_time": "2022-03-10T08:48:26.549Z"
   },
   {
    "duration": -29730,
    "start_time": "2022-03-10T08:48:26.553Z"
   },
   {
    "duration": -29756,
    "start_time": "2022-03-10T08:48:26.581Z"
   },
   {
    "duration": -29760,
    "start_time": "2022-03-10T08:48:26.586Z"
   },
   {
    "duration": -29782,
    "start_time": "2022-03-10T08:48:26.609Z"
   },
   {
    "duration": -29806,
    "start_time": "2022-03-10T08:48:26.635Z"
   },
   {
    "duration": -29817,
    "start_time": "2022-03-10T08:48:26.647Z"
   },
   {
    "duration": -29819,
    "start_time": "2022-03-10T08:48:26.651Z"
   },
   {
    "duration": -29828,
    "start_time": "2022-03-10T08:48:26.661Z"
   },
   {
    "duration": -29837,
    "start_time": "2022-03-10T08:48:26.672Z"
   },
   {
    "duration": -29843,
    "start_time": "2022-03-10T08:48:26.679Z"
   },
   {
    "duration": 753,
    "start_time": "2022-03-10T08:48:36.881Z"
   },
   {
    "duration": 65,
    "start_time": "2022-03-10T08:48:37.640Z"
   },
   {
    "duration": 15,
    "start_time": "2022-03-10T08:48:37.707Z"
   },
   {
    "duration": 46,
    "start_time": "2022-03-10T08:48:37.724Z"
   },
   {
    "duration": 8,
    "start_time": "2022-03-10T08:48:37.772Z"
   },
   {
    "duration": 5,
    "start_time": "2022-03-10T08:48:37.783Z"
   },
   {
    "duration": 73,
    "start_time": "2022-03-10T08:48:37.792Z"
   },
   {
    "duration": 5,
    "start_time": "2022-03-10T08:48:37.868Z"
   },
   {
    "duration": 9,
    "start_time": "2022-03-10T08:48:37.876Z"
   },
   {
    "duration": 5,
    "start_time": "2022-03-10T08:48:37.887Z"
   },
   {
    "duration": 8,
    "start_time": "2022-03-10T08:48:37.894Z"
   },
   {
    "duration": 49,
    "start_time": "2022-03-10T08:48:37.904Z"
   },
   {
    "duration": 7,
    "start_time": "2022-03-10T08:48:37.956Z"
   },
   {
    "duration": 11,
    "start_time": "2022-03-10T08:48:37.966Z"
   },
   {
    "duration": 8,
    "start_time": "2022-03-10T08:48:37.980Z"
   },
   {
    "duration": 24,
    "start_time": "2022-03-10T08:48:37.991Z"
   },
   {
    "duration": 51,
    "start_time": "2022-03-10T08:48:38.017Z"
   },
   {
    "duration": 16,
    "start_time": "2022-03-10T08:48:38.070Z"
   },
   {
    "duration": 20,
    "start_time": "2022-03-10T08:48:38.088Z"
   },
   {
    "duration": 41,
    "start_time": "2022-03-10T08:48:38.110Z"
   },
   {
    "duration": 12,
    "start_time": "2022-03-10T08:48:38.154Z"
   },
   {
    "duration": 23,
    "start_time": "2022-03-10T08:48:38.172Z"
   },
   {
    "duration": 8,
    "start_time": "2022-03-10T08:48:38.198Z"
   },
   {
    "duration": 45,
    "start_time": "2022-03-10T08:48:38.209Z"
   },
   {
    "duration": 8,
    "start_time": "2022-03-10T08:48:38.258Z"
   },
   {
    "duration": 13,
    "start_time": "2022-03-10T08:48:38.269Z"
   },
   {
    "duration": 23,
    "start_time": "2022-03-10T08:48:38.284Z"
   },
   {
    "duration": 45,
    "start_time": "2022-03-10T08:48:38.309Z"
   },
   {
    "duration": 6314,
    "start_time": "2022-03-10T08:48:38.357Z"
   },
   {
    "duration": -29649,
    "start_time": "2022-03-10T08:49:14.323Z"
   },
   {
    "duration": -29654,
    "start_time": "2022-03-10T08:49:14.330Z"
   },
   {
    "duration": -29658,
    "start_time": "2022-03-10T08:49:14.336Z"
   },
   {
    "duration": -29673,
    "start_time": "2022-03-10T08:49:14.353Z"
   },
   {
    "duration": -29688,
    "start_time": "2022-03-10T08:49:14.370Z"
   },
   {
    "duration": -29702,
    "start_time": "2022-03-10T08:49:14.386Z"
   },
   {
    "duration": -29714,
    "start_time": "2022-03-10T08:49:14.400Z"
   },
   {
    "duration": -29717,
    "start_time": "2022-03-10T08:49:14.405Z"
   },
   {
    "duration": -29729,
    "start_time": "2022-03-10T08:49:14.419Z"
   },
   {
    "duration": -29741,
    "start_time": "2022-03-10T08:49:14.433Z"
   },
   {
    "duration": -29755,
    "start_time": "2022-03-10T08:49:14.449Z"
   },
   {
    "duration": -29772,
    "start_time": "2022-03-10T08:49:14.468Z"
   },
   {
    "duration": -29783,
    "start_time": "2022-03-10T08:49:14.481Z"
   },
   {
    "duration": -29786,
    "start_time": "2022-03-10T08:49:14.486Z"
   },
   {
    "duration": -29818,
    "start_time": "2022-03-10T08:49:14.520Z"
   },
   {
    "duration": -29827,
    "start_time": "2022-03-10T08:49:14.531Z"
   },
   {
    "duration": -29874,
    "start_time": "2022-03-10T08:49:14.580Z"
   },
   {
    "duration": -29879,
    "start_time": "2022-03-10T08:49:14.587Z"
   },
   {
    "duration": -29889,
    "start_time": "2022-03-10T08:49:14.598Z"
   },
   {
    "duration": 704,
    "start_time": "2022-03-10T09:02:02.759Z"
   },
   {
    "duration": 59,
    "start_time": "2022-03-10T09:02:03.466Z"
   },
   {
    "duration": 23,
    "start_time": "2022-03-10T09:02:03.528Z"
   },
   {
    "duration": 27,
    "start_time": "2022-03-10T09:02:03.554Z"
   },
   {
    "duration": 10,
    "start_time": "2022-03-10T09:02:03.583Z"
   },
   {
    "duration": 8,
    "start_time": "2022-03-10T09:02:03.595Z"
   },
   {
    "duration": 67,
    "start_time": "2022-03-10T09:02:03.605Z"
   },
   {
    "duration": 5,
    "start_time": "2022-03-10T09:02:03.676Z"
   },
   {
    "duration": 18,
    "start_time": "2022-03-10T09:02:03.684Z"
   },
   {
    "duration": 6,
    "start_time": "2022-03-10T09:02:03.704Z"
   },
   {
    "duration": 7,
    "start_time": "2022-03-10T09:02:03.713Z"
   },
   {
    "duration": 5,
    "start_time": "2022-03-10T09:02:03.751Z"
   },
   {
    "duration": 6,
    "start_time": "2022-03-10T09:02:03.758Z"
   },
   {
    "duration": 7,
    "start_time": "2022-03-10T09:02:03.766Z"
   },
   {
    "duration": 9,
    "start_time": "2022-03-10T09:02:03.776Z"
   },
   {
    "duration": 65,
    "start_time": "2022-03-10T09:02:03.788Z"
   },
   {
    "duration": 19,
    "start_time": "2022-03-10T09:02:03.855Z"
   },
   {
    "duration": 18,
    "start_time": "2022-03-10T09:02:03.876Z"
   },
   {
    "duration": 21,
    "start_time": "2022-03-10T09:02:03.896Z"
   },
   {
    "duration": 9,
    "start_time": "2022-03-10T09:02:03.951Z"
   },
   {
    "duration": 9,
    "start_time": "2022-03-10T09:02:03.962Z"
   },
   {
    "duration": 21,
    "start_time": "2022-03-10T09:02:03.974Z"
   },
   {
    "duration": 5,
    "start_time": "2022-03-10T09:02:04.001Z"
   },
   {
    "duration": 9,
    "start_time": "2022-03-10T09:02:04.052Z"
   },
   {
    "duration": 7,
    "start_time": "2022-03-10T09:02:04.063Z"
   },
   {
    "duration": 12,
    "start_time": "2022-03-10T09:02:04.073Z"
   },
   {
    "duration": 23,
    "start_time": "2022-03-10T09:02:04.087Z"
   },
   {
    "duration": 9,
    "start_time": "2022-03-10T09:02:04.152Z"
   },
   {
    "duration": 6199,
    "start_time": "2022-03-10T09:02:04.164Z"
   },
   {
    "duration": -29622,
    "start_time": "2022-03-10T09:02:39.987Z"
   },
   {
    "duration": -29632,
    "start_time": "2022-03-10T09:02:39.999Z"
   },
   {
    "duration": -29638,
    "start_time": "2022-03-10T09:02:40.007Z"
   },
   {
    "duration": -29647,
    "start_time": "2022-03-10T09:02:40.017Z"
   },
   {
    "duration": -29656,
    "start_time": "2022-03-10T09:02:40.027Z"
   },
   {
    "duration": -29665,
    "start_time": "2022-03-10T09:02:40.038Z"
   },
   {
    "duration": -29674,
    "start_time": "2022-03-10T09:02:40.048Z"
   },
   {
    "duration": -29681,
    "start_time": "2022-03-10T09:02:40.057Z"
   },
   {
    "duration": -29691,
    "start_time": "2022-03-10T09:02:40.068Z"
   },
   {
    "duration": -29698,
    "start_time": "2022-03-10T09:02:40.076Z"
   },
   {
    "duration": -29705,
    "start_time": "2022-03-10T09:02:40.085Z"
   },
   {
    "duration": -29716,
    "start_time": "2022-03-10T09:02:40.097Z"
   },
   {
    "duration": -29721,
    "start_time": "2022-03-10T09:02:40.104Z"
   },
   {
    "duration": -29733,
    "start_time": "2022-03-10T09:02:40.117Z"
   },
   {
    "duration": -29740,
    "start_time": "2022-03-10T09:02:40.125Z"
   },
   {
    "duration": -29747,
    "start_time": "2022-03-10T09:02:40.134Z"
   },
   {
    "duration": -29755,
    "start_time": "2022-03-10T09:02:40.143Z"
   },
   {
    "duration": -29764,
    "start_time": "2022-03-10T09:02:40.154Z"
   },
   {
    "duration": -29774,
    "start_time": "2022-03-10T09:02:40.165Z"
   },
   {
    "duration": 235,
    "start_time": "2022-03-10T09:08:57.026Z"
   },
   {
    "duration": 98,
    "start_time": "2022-03-10T09:09:42.085Z"
   },
   {
    "duration": 101,
    "start_time": "2022-03-10T09:09:52.326Z"
   },
   {
    "duration": 250,
    "start_time": "2022-03-10T09:09:57.043Z"
   },
   {
    "duration": 249,
    "start_time": "2022-03-10T09:09:58.728Z"
   },
   {
    "duration": 384,
    "start_time": "2022-03-10T09:10:29.154Z"
   },
   {
    "duration": 11,
    "start_time": "2022-03-10T09:10:32.777Z"
   },
   {
    "duration": 758,
    "start_time": "2022-03-10T09:29:05.529Z"
   },
   {
    "duration": 62,
    "start_time": "2022-03-10T09:29:06.290Z"
   },
   {
    "duration": 14,
    "start_time": "2022-03-10T09:29:06.355Z"
   },
   {
    "duration": 30,
    "start_time": "2022-03-10T09:29:06.372Z"
   },
   {
    "duration": 6,
    "start_time": "2022-03-10T09:29:06.405Z"
   },
   {
    "duration": 38,
    "start_time": "2022-03-10T09:29:06.413Z"
   },
   {
    "duration": 36,
    "start_time": "2022-03-10T09:29:06.453Z"
   },
   {
    "duration": 6,
    "start_time": "2022-03-10T09:29:06.492Z"
   },
   {
    "duration": 8,
    "start_time": "2022-03-10T09:29:06.501Z"
   },
   {
    "duration": 40,
    "start_time": "2022-03-10T09:29:06.511Z"
   },
   {
    "duration": 18,
    "start_time": "2022-03-10T09:29:06.553Z"
   },
   {
    "duration": 10,
    "start_time": "2022-03-10T09:29:06.573Z"
   },
   {
    "duration": 17,
    "start_time": "2022-03-10T09:29:06.586Z"
   },
   {
    "duration": 15,
    "start_time": "2022-03-10T09:29:06.606Z"
   },
   {
    "duration": 20,
    "start_time": "2022-03-10T09:29:06.623Z"
   },
   {
    "duration": 26,
    "start_time": "2022-03-10T09:29:06.645Z"
   },
   {
    "duration": 18,
    "start_time": "2022-03-10T09:29:06.673Z"
   },
   {
    "duration": 26,
    "start_time": "2022-03-10T09:29:06.693Z"
   },
   {
    "duration": 41,
    "start_time": "2022-03-10T09:29:06.722Z"
   },
   {
    "duration": 8,
    "start_time": "2022-03-10T09:29:06.765Z"
   },
   {
    "duration": 11,
    "start_time": "2022-03-10T09:29:06.776Z"
   },
   {
    "duration": 34,
    "start_time": "2022-03-10T09:29:06.790Z"
   },
   {
    "duration": 8,
    "start_time": "2022-03-10T09:29:06.856Z"
   },
   {
    "duration": 10,
    "start_time": "2022-03-10T09:29:06.868Z"
   },
   {
    "duration": 13,
    "start_time": "2022-03-10T09:29:06.880Z"
   },
   {
    "duration": 16,
    "start_time": "2022-03-10T09:29:06.896Z"
   },
   {
    "duration": 51,
    "start_time": "2022-03-10T09:29:06.915Z"
   },
   {
    "duration": 22,
    "start_time": "2022-03-10T09:29:06.968Z"
   },
   {
    "duration": 6601,
    "start_time": "2022-03-10T09:29:06.992Z"
   },
   {
    "duration": -29674,
    "start_time": "2022-03-10T09:29:43.270Z"
   },
   {
    "duration": -29690,
    "start_time": "2022-03-10T09:29:43.288Z"
   },
   {
    "duration": -29703,
    "start_time": "2022-03-10T09:29:43.302Z"
   },
   {
    "duration": -29715,
    "start_time": "2022-03-10T09:29:43.316Z"
   },
   {
    "duration": -29721,
    "start_time": "2022-03-10T09:29:43.323Z"
   },
   {
    "duration": -29734,
    "start_time": "2022-03-10T09:29:43.338Z"
   },
   {
    "duration": -29747,
    "start_time": "2022-03-10T09:29:43.353Z"
   },
   {
    "duration": -29759,
    "start_time": "2022-03-10T09:29:43.367Z"
   },
   {
    "duration": -29773,
    "start_time": "2022-03-10T09:29:43.382Z"
   },
   {
    "duration": -29800,
    "start_time": "2022-03-10T09:29:43.410Z"
   },
   {
    "duration": -29816,
    "start_time": "2022-03-10T09:29:43.428Z"
   },
   {
    "duration": -29820,
    "start_time": "2022-03-10T09:29:43.433Z"
   },
   {
    "duration": -29823,
    "start_time": "2022-03-10T09:29:43.438Z"
   },
   {
    "duration": -29833,
    "start_time": "2022-03-10T09:29:43.449Z"
   },
   {
    "duration": -29856,
    "start_time": "2022-03-10T09:29:43.474Z"
   },
   {
    "duration": -29881,
    "start_time": "2022-03-10T09:29:43.500Z"
   },
   {
    "duration": -29892,
    "start_time": "2022-03-10T09:29:43.513Z"
   },
   {
    "duration": -29896,
    "start_time": "2022-03-10T09:29:43.518Z"
   },
   {
    "duration": -29912,
    "start_time": "2022-03-10T09:29:43.535Z"
   },
   {
    "duration": -29922,
    "start_time": "2022-03-10T09:29:43.547Z"
   },
   {
    "duration": 455,
    "start_time": "2022-03-10T09:29:55.953Z"
   },
   {
    "duration": 437,
    "start_time": "2022-03-10T09:30:03.059Z"
   },
   {
    "duration": 694,
    "start_time": "2022-03-10T09:30:19.502Z"
   },
   {
    "duration": 65,
    "start_time": "2022-03-10T09:30:20.202Z"
   },
   {
    "duration": 14,
    "start_time": "2022-03-10T09:30:20.270Z"
   },
   {
    "duration": 32,
    "start_time": "2022-03-10T09:30:20.287Z"
   },
   {
    "duration": 32,
    "start_time": "2022-03-10T09:30:20.322Z"
   },
   {
    "duration": 8,
    "start_time": "2022-03-10T09:30:20.357Z"
   },
   {
    "duration": 35,
    "start_time": "2022-03-10T09:30:20.368Z"
   },
   {
    "duration": 45,
    "start_time": "2022-03-10T09:30:20.406Z"
   },
   {
    "duration": 6,
    "start_time": "2022-03-10T09:30:20.454Z"
   },
   {
    "duration": 5,
    "start_time": "2022-03-10T09:30:20.462Z"
   },
   {
    "duration": 8,
    "start_time": "2022-03-10T09:30:20.469Z"
   },
   {
    "duration": 5,
    "start_time": "2022-03-10T09:30:20.479Z"
   },
   {
    "duration": 4,
    "start_time": "2022-03-10T09:30:20.487Z"
   },
   {
    "duration": 58,
    "start_time": "2022-03-10T09:30:20.494Z"
   },
   {
    "duration": 9,
    "start_time": "2022-03-10T09:30:20.555Z"
   },
   {
    "duration": 25,
    "start_time": "2022-03-10T09:30:20.566Z"
   },
   {
    "duration": 18,
    "start_time": "2022-03-10T09:30:20.593Z"
   },
   {
    "duration": 49,
    "start_time": "2022-03-10T09:30:20.613Z"
   },
   {
    "duration": 20,
    "start_time": "2022-03-10T09:30:20.664Z"
   },
   {
    "duration": 7,
    "start_time": "2022-03-10T09:30:20.686Z"
   },
   {
    "duration": 10,
    "start_time": "2022-03-10T09:30:20.695Z"
   },
   {
    "duration": 62,
    "start_time": "2022-03-10T09:30:20.707Z"
   },
   {
    "duration": 5,
    "start_time": "2022-03-10T09:30:20.771Z"
   },
   {
    "duration": 16,
    "start_time": "2022-03-10T09:30:20.778Z"
   },
   {
    "duration": 7,
    "start_time": "2022-03-10T09:30:20.796Z"
   },
   {
    "duration": 46,
    "start_time": "2022-03-10T09:30:20.808Z"
   },
   {
    "duration": 21,
    "start_time": "2022-03-10T09:30:20.857Z"
   },
   {
    "duration": 10,
    "start_time": "2022-03-10T09:30:20.881Z"
   },
   {
    "duration": 6198,
    "start_time": "2022-03-10T09:30:20.894Z"
   },
   {
    "duration": -29640,
    "start_time": "2022-03-10T09:30:56.734Z"
   },
   {
    "duration": -29645,
    "start_time": "2022-03-10T09:30:56.741Z"
   },
   {
    "duration": -29647,
    "start_time": "2022-03-10T09:30:56.745Z"
   },
   {
    "duration": -29656,
    "start_time": "2022-03-10T09:30:56.756Z"
   },
   {
    "duration": -29666,
    "start_time": "2022-03-10T09:30:56.767Z"
   },
   {
    "duration": -29673,
    "start_time": "2022-03-10T09:30:56.776Z"
   },
   {
    "duration": -29678,
    "start_time": "2022-03-10T09:30:56.782Z"
   },
   {
    "duration": -29687,
    "start_time": "2022-03-10T09:30:56.792Z"
   },
   {
    "duration": -29691,
    "start_time": "2022-03-10T09:30:56.798Z"
   },
   {
    "duration": -29710,
    "start_time": "2022-03-10T09:30:56.818Z"
   },
   {
    "duration": -29719,
    "start_time": "2022-03-10T09:30:56.829Z"
   },
   {
    "duration": -29723,
    "start_time": "2022-03-10T09:30:56.834Z"
   },
   {
    "duration": -29732,
    "start_time": "2022-03-10T09:30:56.844Z"
   },
   {
    "duration": -29771,
    "start_time": "2022-03-10T09:30:56.885Z"
   },
   {
    "duration": -29807,
    "start_time": "2022-03-10T09:30:56.922Z"
   },
   {
    "duration": -29810,
    "start_time": "2022-03-10T09:30:56.926Z"
   },
   {
    "duration": -29814,
    "start_time": "2022-03-10T09:30:56.932Z"
   },
   {
    "duration": -29818,
    "start_time": "2022-03-10T09:30:56.937Z"
   },
   {
    "duration": -29822,
    "start_time": "2022-03-10T09:30:56.942Z"
   },
   {
    "duration": -29837,
    "start_time": "2022-03-10T09:30:56.958Z"
   },
   {
    "duration": 412,
    "start_time": "2022-03-10T09:50:44.428Z"
   },
   {
    "duration": 413,
    "start_time": "2022-03-10T09:51:06.280Z"
   },
   {
    "duration": 438,
    "start_time": "2022-03-10T09:51:22.873Z"
   },
   {
    "duration": 416,
    "start_time": "2022-03-10T09:51:37.368Z"
   },
   {
    "duration": 635,
    "start_time": "2022-03-10T09:51:47.425Z"
   },
   {
    "duration": 394,
    "start_time": "2022-03-10T09:51:54.298Z"
   },
   {
    "duration": 15,
    "start_time": "2022-03-10T09:53:08.662Z"
   },
   {
    "duration": 11,
    "start_time": "2022-03-10T09:53:15.686Z"
   },
   {
    "duration": 9,
    "start_time": "2022-03-10T09:53:32.414Z"
   },
   {
    "duration": 96,
    "start_time": "2022-03-10T09:53:59.386Z"
   },
   {
    "duration": 84,
    "start_time": "2022-03-10T09:54:12.541Z"
   },
   {
    "duration": 8,
    "start_time": "2022-03-10T09:54:19.328Z"
   },
   {
    "duration": 36,
    "start_time": "2022-03-10T09:57:06.770Z"
   },
   {
    "duration": 39,
    "start_time": "2022-03-10T09:57:22.578Z"
   },
   {
    "duration": 753,
    "start_time": "2022-03-10T09:57:33.154Z"
   },
   {
    "duration": 64,
    "start_time": "2022-03-10T09:57:33.910Z"
   },
   {
    "duration": 15,
    "start_time": "2022-03-10T09:57:33.977Z"
   },
   {
    "duration": 28,
    "start_time": "2022-03-10T09:57:33.994Z"
   },
   {
    "duration": 31,
    "start_time": "2022-03-10T09:57:34.024Z"
   },
   {
    "duration": 6,
    "start_time": "2022-03-10T09:57:34.057Z"
   },
   {
    "duration": 33,
    "start_time": "2022-03-10T09:57:34.065Z"
   },
   {
    "duration": 6,
    "start_time": "2022-03-10T09:57:34.101Z"
   },
   {
    "duration": 45,
    "start_time": "2022-03-10T09:57:34.109Z"
   },
   {
    "duration": 5,
    "start_time": "2022-03-10T09:57:34.157Z"
   },
   {
    "duration": 6,
    "start_time": "2022-03-10T09:57:34.165Z"
   },
   {
    "duration": 5,
    "start_time": "2022-03-10T09:57:34.173Z"
   },
   {
    "duration": 4,
    "start_time": "2022-03-10T09:57:34.181Z"
   },
   {
    "duration": 9,
    "start_time": "2022-03-10T09:57:34.188Z"
   },
   {
    "duration": 59,
    "start_time": "2022-03-10T09:57:34.199Z"
   },
   {
    "duration": 25,
    "start_time": "2022-03-10T09:57:34.260Z"
   },
   {
    "duration": 20,
    "start_time": "2022-03-10T09:57:34.287Z"
   },
   {
    "duration": 51,
    "start_time": "2022-03-10T09:57:34.310Z"
   },
   {
    "duration": 22,
    "start_time": "2022-03-10T09:57:34.364Z"
   },
   {
    "duration": 8,
    "start_time": "2022-03-10T09:57:34.389Z"
   },
   {
    "duration": 54,
    "start_time": "2022-03-10T09:57:34.399Z"
   },
   {
    "duration": 22,
    "start_time": "2022-03-10T09:57:34.455Z"
   },
   {
    "duration": 6,
    "start_time": "2022-03-10T09:57:34.482Z"
   },
   {
    "duration": 11,
    "start_time": "2022-03-10T09:57:34.492Z"
   },
   {
    "duration": 7,
    "start_time": "2022-03-10T09:57:34.506Z"
   },
   {
    "duration": 9,
    "start_time": "2022-03-10T09:57:34.552Z"
   },
   {
    "duration": 24,
    "start_time": "2022-03-10T09:57:34.564Z"
   },
   {
    "duration": 7,
    "start_time": "2022-03-10T09:57:34.591Z"
   },
   {
    "duration": 6444,
    "start_time": "2022-03-10T09:57:34.600Z"
   },
   {
    "duration": -29581,
    "start_time": "2022-03-10T09:58:10.627Z"
   },
   {
    "duration": -29587,
    "start_time": "2022-03-10T09:58:10.635Z"
   },
   {
    "duration": -29590,
    "start_time": "2022-03-10T09:58:10.640Z"
   },
   {
    "duration": -29602,
    "start_time": "2022-03-10T09:58:10.653Z"
   },
   {
    "duration": -29611,
    "start_time": "2022-03-10T09:58:10.665Z"
   },
   {
    "duration": -29616,
    "start_time": "2022-03-10T09:58:10.672Z"
   },
   {
    "duration": -29693,
    "start_time": "2022-03-10T09:58:10.751Z"
   },
   {
    "duration": -29787,
    "start_time": "2022-03-10T09:58:10.847Z"
   },
   {
    "duration": -29789,
    "start_time": "2022-03-10T09:58:10.852Z"
   },
   {
    "duration": -29792,
    "start_time": "2022-03-10T09:58:10.857Z"
   },
   {
    "duration": -29793,
    "start_time": "2022-03-10T09:58:10.860Z"
   },
   {
    "duration": -29797,
    "start_time": "2022-03-10T09:58:10.866Z"
   },
   {
    "duration": -29799,
    "start_time": "2022-03-10T09:58:10.870Z"
   },
   {
    "duration": -29802,
    "start_time": "2022-03-10T09:58:10.875Z"
   },
   {
    "duration": -29804,
    "start_time": "2022-03-10T09:58:10.879Z"
   },
   {
    "duration": -29806,
    "start_time": "2022-03-10T09:58:10.883Z"
   },
   {
    "duration": -29836,
    "start_time": "2022-03-10T09:58:10.915Z"
   },
   {
    "duration": -29838,
    "start_time": "2022-03-10T09:58:10.920Z"
   },
   {
    "duration": -29840,
    "start_time": "2022-03-10T09:58:10.924Z"
   },
   {
    "duration": -29841,
    "start_time": "2022-03-10T09:58:10.927Z"
   },
   {
    "duration": -29842,
    "start_time": "2022-03-10T09:58:10.930Z"
   },
   {
    "duration": -29781,
    "start_time": "2022-03-10T09:58:10.933Z"
   },
   {
    "duration": 270,
    "start_time": "2022-03-10T09:57:42.469Z"
   },
   {
    "duration": 744,
    "start_time": "2022-03-10T09:57:49.511Z"
   },
   {
    "duration": 61,
    "start_time": "2022-03-10T09:57:50.258Z"
   },
   {
    "duration": 31,
    "start_time": "2022-03-10T09:57:50.322Z"
   },
   {
    "duration": 34,
    "start_time": "2022-03-10T09:57:50.356Z"
   },
   {
    "duration": 7,
    "start_time": "2022-03-10T09:57:50.392Z"
   },
   {
    "duration": 6,
    "start_time": "2022-03-10T09:57:50.401Z"
   },
   {
    "duration": 47,
    "start_time": "2022-03-10T09:57:50.409Z"
   },
   {
    "duration": 7,
    "start_time": "2022-03-10T09:57:50.460Z"
   },
   {
    "duration": 7,
    "start_time": "2022-03-10T09:57:50.470Z"
   },
   {
    "duration": 6,
    "start_time": "2022-03-10T09:57:50.480Z"
   },
   {
    "duration": 11,
    "start_time": "2022-03-10T09:57:50.489Z"
   },
   {
    "duration": 9,
    "start_time": "2022-03-10T09:57:50.503Z"
   },
   {
    "duration": 5,
    "start_time": "2022-03-10T09:57:50.515Z"
   },
   {
    "duration": 15,
    "start_time": "2022-03-10T09:57:50.522Z"
   },
   {
    "duration": 11,
    "start_time": "2022-03-10T09:57:50.540Z"
   },
   {
    "duration": 24,
    "start_time": "2022-03-10T09:57:50.553Z"
   },
   {
    "duration": 18,
    "start_time": "2022-03-10T09:57:50.579Z"
   },
   {
    "duration": 16,
    "start_time": "2022-03-10T09:57:50.600Z"
   },
   {
    "duration": 19,
    "start_time": "2022-03-10T09:57:50.618Z"
   },
   {
    "duration": 8,
    "start_time": "2022-03-10T09:57:50.651Z"
   },
   {
    "duration": 10,
    "start_time": "2022-03-10T09:57:50.661Z"
   },
   {
    "duration": 21,
    "start_time": "2022-03-10T09:57:50.674Z"
   },
   {
    "duration": 6,
    "start_time": "2022-03-10T09:57:50.700Z"
   },
   {
    "duration": 11,
    "start_time": "2022-03-10T09:57:50.709Z"
   },
   {
    "duration": 7,
    "start_time": "2022-03-10T09:57:50.723Z"
   },
   {
    "duration": 20,
    "start_time": "2022-03-10T09:57:50.732Z"
   },
   {
    "duration": 21,
    "start_time": "2022-03-10T09:57:50.754Z"
   },
   {
    "duration": 7,
    "start_time": "2022-03-10T09:57:50.777Z"
   },
   {
    "duration": 7030,
    "start_time": "2022-03-10T09:57:50.786Z"
   },
   {
    "duration": -29590,
    "start_time": "2022-03-10T09:58:27.408Z"
   },
   {
    "duration": -29593,
    "start_time": "2022-03-10T09:58:27.413Z"
   },
   {
    "duration": -29604,
    "start_time": "2022-03-10T09:58:27.425Z"
   },
   {
    "duration": -29613,
    "start_time": "2022-03-10T09:58:27.436Z"
   },
   {
    "duration": -29625,
    "start_time": "2022-03-10T09:58:27.450Z"
   },
   {
    "duration": -29633,
    "start_time": "2022-03-10T09:58:27.459Z"
   },
   {
    "duration": -29637,
    "start_time": "2022-03-10T09:58:27.464Z"
   },
   {
    "duration": -29649,
    "start_time": "2022-03-10T09:58:27.478Z"
   },
   {
    "duration": -29660,
    "start_time": "2022-03-10T09:58:27.490Z"
   },
   {
    "duration": -29663,
    "start_time": "2022-03-10T09:58:27.495Z"
   },
   {
    "duration": -29693,
    "start_time": "2022-03-10T09:58:27.526Z"
   },
   {
    "duration": -29749,
    "start_time": "2022-03-10T09:58:27.584Z"
   },
   {
    "duration": -29754,
    "start_time": "2022-03-10T09:58:27.590Z"
   },
   {
    "duration": -29755,
    "start_time": "2022-03-10T09:58:27.593Z"
   },
   {
    "duration": -29792,
    "start_time": "2022-03-10T09:58:27.631Z"
   },
   {
    "duration": -29795,
    "start_time": "2022-03-10T09:58:27.635Z"
   },
   {
    "duration": -29797,
    "start_time": "2022-03-10T09:58:27.639Z"
   },
   {
    "duration": -29805,
    "start_time": "2022-03-10T09:58:27.648Z"
   },
   {
    "duration": -29807,
    "start_time": "2022-03-10T09:58:27.651Z"
   },
   {
    "duration": -29810,
    "start_time": "2022-03-10T09:58:27.655Z"
   },
   {
    "duration": -29823,
    "start_time": "2022-03-10T09:58:27.670Z"
   },
   {
    "duration": -29826,
    "start_time": "2022-03-10T09:58:27.674Z"
   },
   {
    "duration": 785,
    "start_time": "2022-03-10T09:58:08.831Z"
   },
   {
    "duration": 65,
    "start_time": "2022-03-10T09:58:09.619Z"
   },
   {
    "duration": 15,
    "start_time": "2022-03-10T09:58:09.690Z"
   },
   {
    "duration": 50,
    "start_time": "2022-03-10T09:58:09.708Z"
   },
   {
    "duration": 9,
    "start_time": "2022-03-10T09:58:09.760Z"
   },
   {
    "duration": 6,
    "start_time": "2022-03-10T09:58:09.771Z"
   },
   {
    "duration": 71,
    "start_time": "2022-03-10T09:58:09.780Z"
   },
   {
    "duration": 6,
    "start_time": "2022-03-10T09:58:09.854Z"
   },
   {
    "duration": 6,
    "start_time": "2022-03-10T09:58:09.862Z"
   },
   {
    "duration": 8,
    "start_time": "2022-03-10T09:58:09.870Z"
   },
   {
    "duration": 8,
    "start_time": "2022-03-10T09:58:09.880Z"
   },
   {
    "duration": 5,
    "start_time": "2022-03-10T09:58:09.891Z"
   },
   {
    "duration": 53,
    "start_time": "2022-03-10T09:58:09.898Z"
   },
   {
    "duration": 9,
    "start_time": "2022-03-10T09:58:09.954Z"
   },
   {
    "duration": 10,
    "start_time": "2022-03-10T09:58:09.966Z"
   },
   {
    "duration": 23,
    "start_time": "2022-03-10T09:58:09.978Z"
   },
   {
    "duration": 56,
    "start_time": "2022-03-10T09:58:10.004Z"
   },
   {
    "duration": 18,
    "start_time": "2022-03-10T09:58:10.063Z"
   },
   {
    "duration": 20,
    "start_time": "2022-03-10T09:58:10.083Z"
   },
   {
    "duration": 7,
    "start_time": "2022-03-10T09:58:10.106Z"
   },
   {
    "duration": 44,
    "start_time": "2022-03-10T09:58:10.115Z"
   },
   {
    "duration": 28,
    "start_time": "2022-03-10T09:58:10.166Z"
   },
   {
    "duration": 8,
    "start_time": "2022-03-10T09:58:10.198Z"
   },
   {
    "duration": 47,
    "start_time": "2022-03-10T09:58:10.209Z"
   },
   {
    "duration": 10,
    "start_time": "2022-03-10T09:58:10.259Z"
   },
   {
    "duration": 11,
    "start_time": "2022-03-10T09:58:10.272Z"
   },
   {
    "duration": 21,
    "start_time": "2022-03-10T09:58:10.285Z"
   },
   {
    "duration": 48,
    "start_time": "2022-03-10T09:58:10.309Z"
   },
   {
    "duration": 6684,
    "start_time": "2022-03-10T09:58:10.359Z"
   },
   {
    "duration": -29592,
    "start_time": "2022-03-10T09:58:46.637Z"
   },
   {
    "duration": -29605,
    "start_time": "2022-03-10T09:58:46.652Z"
   },
   {
    "duration": -29617,
    "start_time": "2022-03-10T09:58:46.665Z"
   },
   {
    "duration": -29620,
    "start_time": "2022-03-10T09:58:46.670Z"
   },
   {
    "duration": -29631,
    "start_time": "2022-03-10T09:58:46.682Z"
   },
   {
    "duration": -29636,
    "start_time": "2022-03-10T09:58:46.688Z"
   },
   {
    "duration": -29675,
    "start_time": "2022-03-10T09:58:46.729Z"
   },
   {
    "duration": -29679,
    "start_time": "2022-03-10T09:58:46.734Z"
   },
   {
    "duration": -29726,
    "start_time": "2022-03-10T09:58:46.782Z"
   },
   {
    "duration": -29730,
    "start_time": "2022-03-10T09:58:46.788Z"
   },
   {
    "duration": -29742,
    "start_time": "2022-03-10T09:58:46.802Z"
   },
   {
    "duration": -29754,
    "start_time": "2022-03-10T09:58:46.815Z"
   },
   {
    "duration": -29759,
    "start_time": "2022-03-10T09:58:46.822Z"
   },
   {
    "duration": -29837,
    "start_time": "2022-03-10T09:58:46.901Z"
   },
   {
    "duration": -29849,
    "start_time": "2022-03-10T09:58:46.915Z"
   },
   {
    "duration": -29854,
    "start_time": "2022-03-10T09:58:46.921Z"
   },
   {
    "duration": -29863,
    "start_time": "2022-03-10T09:58:46.932Z"
   },
   {
    "duration": -29884,
    "start_time": "2022-03-10T09:58:46.954Z"
   },
   {
    "duration": -29893,
    "start_time": "2022-03-10T09:58:46.965Z"
   },
   {
    "duration": -29898,
    "start_time": "2022-03-10T09:58:46.971Z"
   },
   {
    "duration": -29908,
    "start_time": "2022-03-10T09:58:46.983Z"
   },
   {
    "duration": -29927,
    "start_time": "2022-03-10T09:58:47.004Z"
   },
   {
    "duration": 100,
    "start_time": "2022-03-10T09:58:58.510Z"
   },
   {
    "duration": 3,
    "start_time": "2022-03-10T09:59:14.816Z"
   },
   {
    "duration": 3,
    "start_time": "2022-03-10T09:59:18.023Z"
   },
   {
    "duration": 838,
    "start_time": "2022-03-10T09:59:25.863Z"
   },
   {
    "duration": 81,
    "start_time": "2022-03-10T09:59:26.703Z"
   },
   {
    "duration": 21,
    "start_time": "2022-03-10T09:59:26.788Z"
   },
   {
    "duration": 55,
    "start_time": "2022-03-10T09:59:26.812Z"
   },
   {
    "duration": 7,
    "start_time": "2022-03-10T09:59:26.869Z"
   },
   {
    "duration": 6,
    "start_time": "2022-03-10T09:59:26.878Z"
   },
   {
    "duration": 65,
    "start_time": "2022-03-10T09:59:26.886Z"
   },
   {
    "duration": 6,
    "start_time": "2022-03-10T09:59:26.954Z"
   },
   {
    "duration": 5,
    "start_time": "2022-03-10T09:59:26.963Z"
   },
   {
    "duration": 5,
    "start_time": "2022-03-10T09:59:26.971Z"
   },
   {
    "duration": 7,
    "start_time": "2022-03-10T09:59:26.978Z"
   },
   {
    "duration": 6,
    "start_time": "2022-03-10T09:59:26.987Z"
   },
   {
    "duration": 55,
    "start_time": "2022-03-10T09:59:26.996Z"
   },
   {
    "duration": 8,
    "start_time": "2022-03-10T09:59:27.054Z"
   },
   {
    "duration": 9,
    "start_time": "2022-03-10T09:59:27.065Z"
   },
   {
    "duration": 24,
    "start_time": "2022-03-10T09:59:27.076Z"
   },
   {
    "duration": 59,
    "start_time": "2022-03-10T09:59:27.102Z"
   },
   {
    "duration": 21,
    "start_time": "2022-03-10T09:59:27.163Z"
   },
   {
    "duration": 20,
    "start_time": "2022-03-10T09:59:27.186Z"
   },
   {
    "duration": 7,
    "start_time": "2022-03-10T09:59:27.208Z"
   },
   {
    "duration": 10,
    "start_time": "2022-03-10T09:59:27.251Z"
   },
   {
    "duration": 20,
    "start_time": "2022-03-10T09:59:27.264Z"
   },
   {
    "duration": 6,
    "start_time": "2022-03-10T09:59:27.290Z"
   },
   {
    "duration": 51,
    "start_time": "2022-03-10T09:59:27.300Z"
   },
   {
    "duration": 7,
    "start_time": "2022-03-10T09:59:27.354Z"
   },
   {
    "duration": 11,
    "start_time": "2022-03-10T09:59:27.364Z"
   },
   {
    "duration": 22,
    "start_time": "2022-03-10T09:59:27.377Z"
   },
   {
    "duration": 8,
    "start_time": "2022-03-10T09:59:27.401Z"
   },
   {
    "duration": 3,
    "start_time": "2022-03-10T09:59:27.452Z"
   },
   {
    "duration": 6502,
    "start_time": "2022-03-10T09:59:27.458Z"
   },
   {
    "duration": -29581,
    "start_time": "2022-03-10T10:00:03.545Z"
   },
   {
    "duration": -29584,
    "start_time": "2022-03-10T10:00:03.550Z"
   },
   {
    "duration": -29593,
    "start_time": "2022-03-10T10:00:03.561Z"
   },
   {
    "duration": -29597,
    "start_time": "2022-03-10T10:00:03.566Z"
   },
   {
    "duration": -29605,
    "start_time": "2022-03-10T10:00:03.577Z"
   },
   {
    "duration": -29607,
    "start_time": "2022-03-10T10:00:03.581Z"
   },
   {
    "duration": -29615,
    "start_time": "2022-03-10T10:00:03.591Z"
   },
   {
    "duration": -29622,
    "start_time": "2022-03-10T10:00:03.599Z"
   },
   {
    "duration": -29629,
    "start_time": "2022-03-10T10:00:03.609Z"
   },
   {
    "duration": -29641,
    "start_time": "2022-03-10T10:00:03.622Z"
   },
   {
    "duration": -29644,
    "start_time": "2022-03-10T10:00:03.627Z"
   },
   {
    "duration": -29662,
    "start_time": "2022-03-10T10:00:03.647Z"
   },
   {
    "duration": -29680,
    "start_time": "2022-03-10T10:00:03.667Z"
   },
   {
    "duration": -29710,
    "start_time": "2022-03-10T10:00:03.699Z"
   },
   {
    "duration": -29714,
    "start_time": "2022-03-10T10:00:03.705Z"
   },
   {
    "duration": -29724,
    "start_time": "2022-03-10T10:00:03.716Z"
   },
   {
    "duration": -29771,
    "start_time": "2022-03-10T10:00:03.765Z"
   },
   {
    "duration": -29773,
    "start_time": "2022-03-10T10:00:03.769Z"
   },
   {
    "duration": -29776,
    "start_time": "2022-03-10T10:00:03.774Z"
   },
   {
    "duration": -29780,
    "start_time": "2022-03-10T10:00:03.780Z"
   },
   {
    "duration": -29785,
    "start_time": "2022-03-10T10:00:03.786Z"
   },
   {
    "duration": 269,
    "start_time": "2022-03-10T10:06:58.364Z"
   },
   {
    "duration": 748,
    "start_time": "2022-03-10T10:07:05.644Z"
   },
   {
    "duration": 62,
    "start_time": "2022-03-10T10:07:06.395Z"
   },
   {
    "duration": 18,
    "start_time": "2022-03-10T10:07:06.461Z"
   },
   {
    "duration": 28,
    "start_time": "2022-03-10T10:07:06.483Z"
   },
   {
    "duration": 38,
    "start_time": "2022-03-10T10:07:06.514Z"
   },
   {
    "duration": 5,
    "start_time": "2022-03-10T10:07:06.555Z"
   },
   {
    "duration": 35,
    "start_time": "2022-03-10T10:07:06.563Z"
   },
   {
    "duration": 6,
    "start_time": "2022-03-10T10:07:06.601Z"
   },
   {
    "duration": 45,
    "start_time": "2022-03-10T10:07:06.611Z"
   },
   {
    "duration": 7,
    "start_time": "2022-03-10T10:07:06.658Z"
   },
   {
    "duration": 7,
    "start_time": "2022-03-10T10:07:06.667Z"
   },
   {
    "duration": 6,
    "start_time": "2022-03-10T10:07:06.676Z"
   },
   {
    "duration": 7,
    "start_time": "2022-03-10T10:07:06.684Z"
   },
   {
    "duration": 7,
    "start_time": "2022-03-10T10:07:06.693Z"
   },
   {
    "duration": 12,
    "start_time": "2022-03-10T10:07:06.752Z"
   },
   {
    "duration": 25,
    "start_time": "2022-03-10T10:07:06.767Z"
   },
   {
    "duration": 58,
    "start_time": "2022-03-10T10:07:06.795Z"
   },
   {
    "duration": 18,
    "start_time": "2022-03-10T10:07:06.856Z"
   },
   {
    "duration": 29,
    "start_time": "2022-03-10T10:07:06.876Z"
   },
   {
    "duration": 46,
    "start_time": "2022-03-10T10:07:06.908Z"
   },
   {
    "duration": 15,
    "start_time": "2022-03-10T10:07:06.957Z"
   },
   {
    "duration": 31,
    "start_time": "2022-03-10T10:07:06.975Z"
   },
   {
    "duration": 39,
    "start_time": "2022-03-10T10:07:07.014Z"
   },
   {
    "duration": 8,
    "start_time": "2022-03-10T10:07:07.057Z"
   },
   {
    "duration": 7,
    "start_time": "2022-03-10T10:07:07.068Z"
   },
   {
    "duration": 9,
    "start_time": "2022-03-10T10:07:07.077Z"
   },
   {
    "duration": 20,
    "start_time": "2022-03-10T10:07:07.088Z"
   },
   {
    "duration": 45,
    "start_time": "2022-03-10T10:07:07.111Z"
   },
   {
    "duration": 3,
    "start_time": "2022-03-10T10:07:07.159Z"
   },
   {
    "duration": 6649,
    "start_time": "2022-03-10T10:07:07.164Z"
   },
   {
    "duration": -29552,
    "start_time": "2022-03-10T10:07:43.368Z"
   },
   {
    "duration": -29557,
    "start_time": "2022-03-10T10:07:43.375Z"
   },
   {
    "duration": -29564,
    "start_time": "2022-03-10T10:07:43.383Z"
   },
   {
    "duration": -29573,
    "start_time": "2022-03-10T10:07:43.393Z"
   },
   {
    "duration": -29580,
    "start_time": "2022-03-10T10:07:43.402Z"
   },
   {
    "duration": -29588,
    "start_time": "2022-03-10T10:07:43.411Z"
   },
   {
    "duration": -29596,
    "start_time": "2022-03-10T10:07:43.420Z"
   },
   {
    "duration": -29602,
    "start_time": "2022-03-10T10:07:43.428Z"
   },
   {
    "duration": -29609,
    "start_time": "2022-03-10T10:07:43.436Z"
   },
   {
    "duration": -29616,
    "start_time": "2022-03-10T10:07:43.444Z"
   },
   {
    "duration": -29622,
    "start_time": "2022-03-10T10:07:43.451Z"
   },
   {
    "duration": -29628,
    "start_time": "2022-03-10T10:07:43.459Z"
   },
   {
    "duration": -29635,
    "start_time": "2022-03-10T10:07:43.467Z"
   },
   {
    "duration": -29643,
    "start_time": "2022-03-10T10:07:43.476Z"
   },
   {
    "duration": -29652,
    "start_time": "2022-03-10T10:07:43.486Z"
   },
   {
    "duration": -29659,
    "start_time": "2022-03-10T10:07:43.494Z"
   },
   {
    "duration": -29664,
    "start_time": "2022-03-10T10:07:43.501Z"
   },
   {
    "duration": -29671,
    "start_time": "2022-03-10T10:07:43.510Z"
   },
   {
    "duration": -29678,
    "start_time": "2022-03-10T10:07:43.518Z"
   },
   {
    "duration": -29683,
    "start_time": "2022-03-10T10:07:43.525Z"
   },
   {
    "duration": -29692,
    "start_time": "2022-03-10T10:07:43.535Z"
   },
   {
    "duration": 754,
    "start_time": "2022-03-10T10:18:09.126Z"
   },
   {
    "duration": 65,
    "start_time": "2022-03-10T10:18:09.882Z"
   },
   {
    "duration": 14,
    "start_time": "2022-03-10T10:18:09.950Z"
   },
   {
    "duration": 28,
    "start_time": "2022-03-10T10:18:09.967Z"
   },
   {
    "duration": 13,
    "start_time": "2022-03-10T10:18:09.997Z"
   },
   {
    "duration": 25,
    "start_time": "2022-03-10T10:18:10.013Z"
   },
   {
    "duration": 33,
    "start_time": "2022-03-10T10:18:10.052Z"
   },
   {
    "duration": 5,
    "start_time": "2022-03-10T10:18:10.088Z"
   },
   {
    "duration": 7,
    "start_time": "2022-03-10T10:18:10.097Z"
   },
   {
    "duration": 44,
    "start_time": "2022-03-10T10:18:10.107Z"
   },
   {
    "duration": 7,
    "start_time": "2022-03-10T10:18:10.154Z"
   },
   {
    "duration": 7,
    "start_time": "2022-03-10T10:18:10.163Z"
   },
   {
    "duration": 12,
    "start_time": "2022-03-10T10:18:10.173Z"
   },
   {
    "duration": 16,
    "start_time": "2022-03-10T10:18:10.187Z"
   },
   {
    "duration": 12,
    "start_time": "2022-03-10T10:18:10.205Z"
   },
   {
    "duration": 53,
    "start_time": "2022-03-10T10:18:10.219Z"
   },
   {
    "duration": 19,
    "start_time": "2022-03-10T10:18:10.275Z"
   },
   {
    "duration": 16,
    "start_time": "2022-03-10T10:18:10.296Z"
   },
   {
    "duration": 52,
    "start_time": "2022-03-10T10:18:10.314Z"
   },
   {
    "duration": 7,
    "start_time": "2022-03-10T10:18:10.369Z"
   },
   {
    "duration": 8,
    "start_time": "2022-03-10T10:18:10.378Z"
   },
   {
    "duration": 21,
    "start_time": "2022-03-10T10:18:10.389Z"
   },
   {
    "duration": 7,
    "start_time": "2022-03-10T10:18:10.451Z"
   },
   {
    "duration": 8,
    "start_time": "2022-03-10T10:18:10.461Z"
   },
   {
    "duration": 8,
    "start_time": "2022-03-10T10:18:10.471Z"
   },
   {
    "duration": 8,
    "start_time": "2022-03-10T10:18:10.481Z"
   },
   {
    "duration": 65,
    "start_time": "2022-03-10T10:18:10.492Z"
   },
   {
    "duration": 9,
    "start_time": "2022-03-10T10:18:10.559Z"
   },
   {
    "duration": 5,
    "start_time": "2022-03-10T10:18:10.571Z"
   },
   {
    "duration": 6452,
    "start_time": "2022-03-10T10:18:10.578Z"
   },
   {
    "duration": -29603,
    "start_time": "2022-03-10T10:18:46.635Z"
   },
   {
    "duration": -29618,
    "start_time": "2022-03-10T10:18:46.652Z"
   },
   {
    "duration": -29631,
    "start_time": "2022-03-10T10:18:46.666Z"
   },
   {
    "duration": -29636,
    "start_time": "2022-03-10T10:18:46.673Z"
   },
   {
    "duration": -29650,
    "start_time": "2022-03-10T10:18:46.688Z"
   },
   {
    "duration": -29664,
    "start_time": "2022-03-10T10:18:46.704Z"
   },
   {
    "duration": -29675,
    "start_time": "2022-03-10T10:18:46.716Z"
   },
   {
    "duration": -29680,
    "start_time": "2022-03-10T10:18:46.723Z"
   },
   {
    "duration": -29727,
    "start_time": "2022-03-10T10:18:46.771Z"
   },
   {
    "duration": -29758,
    "start_time": "2022-03-10T10:18:46.803Z"
   },
   {
    "duration": -29770,
    "start_time": "2022-03-10T10:18:46.817Z"
   },
   {
    "duration": -29775,
    "start_time": "2022-03-10T10:18:46.823Z"
   },
   {
    "duration": -29809,
    "start_time": "2022-03-10T10:18:46.859Z"
   },
   {
    "duration": -29812,
    "start_time": "2022-03-10T10:18:46.863Z"
   },
   {
    "duration": -29829,
    "start_time": "2022-03-10T10:18:46.882Z"
   },
   {
    "duration": -29852,
    "start_time": "2022-03-10T10:18:46.906Z"
   },
   {
    "duration": -29854,
    "start_time": "2022-03-10T10:18:46.910Z"
   },
   {
    "duration": -29856,
    "start_time": "2022-03-10T10:18:46.914Z"
   },
   {
    "duration": -29874,
    "start_time": "2022-03-10T10:18:46.933Z"
   },
   {
    "duration": -29876,
    "start_time": "2022-03-10T10:18:46.937Z"
   },
   {
    "duration": -29885,
    "start_time": "2022-03-10T10:18:46.947Z"
   },
   {
    "duration": 752,
    "start_time": "2022-03-10T10:23:01.364Z"
   },
   {
    "duration": 65,
    "start_time": "2022-03-10T10:23:02.118Z"
   },
   {
    "duration": 17,
    "start_time": "2022-03-10T10:23:02.186Z"
   },
   {
    "duration": 47,
    "start_time": "2022-03-10T10:23:02.206Z"
   },
   {
    "duration": 9,
    "start_time": "2022-03-10T10:23:02.256Z"
   },
   {
    "duration": 21,
    "start_time": "2022-03-10T10:23:02.267Z"
   },
   {
    "duration": 43,
    "start_time": "2022-03-10T10:23:02.290Z"
   },
   {
    "duration": 5,
    "start_time": "2022-03-10T10:23:02.354Z"
   },
   {
    "duration": 11,
    "start_time": "2022-03-10T10:23:02.362Z"
   },
   {
    "duration": 12,
    "start_time": "2022-03-10T10:23:02.375Z"
   },
   {
    "duration": 7,
    "start_time": "2022-03-10T10:23:02.390Z"
   },
   {
    "duration": 13,
    "start_time": "2022-03-10T10:23:02.399Z"
   },
   {
    "duration": 37,
    "start_time": "2022-03-10T10:23:02.414Z"
   },
   {
    "duration": 11,
    "start_time": "2022-03-10T10:23:02.454Z"
   },
   {
    "duration": 12,
    "start_time": "2022-03-10T10:23:02.468Z"
   },
   {
    "duration": 24,
    "start_time": "2022-03-10T10:23:02.483Z"
   },
   {
    "duration": 58,
    "start_time": "2022-03-10T10:23:02.509Z"
   },
   {
    "duration": 21,
    "start_time": "2022-03-10T10:23:02.569Z"
   },
   {
    "duration": 10,
    "start_time": "2022-03-10T10:23:02.592Z"
   },
   {
    "duration": 50,
    "start_time": "2022-03-10T10:23:02.604Z"
   },
   {
    "duration": 23,
    "start_time": "2022-03-10T10:23:02.657Z"
   },
   {
    "duration": 5,
    "start_time": "2022-03-10T10:23:02.683Z"
   },
   {
    "duration": 8,
    "start_time": "2022-03-10T10:23:02.694Z"
   },
   {
    "duration": 7,
    "start_time": "2022-03-10T10:23:02.705Z"
   },
   {
    "duration": 9,
    "start_time": "2022-03-10T10:23:02.752Z"
   },
   {
    "duration": 25,
    "start_time": "2022-03-10T10:23:02.764Z"
   },
   {
    "duration": 8,
    "start_time": "2022-03-10T10:23:02.792Z"
   },
   {
    "duration": 49,
    "start_time": "2022-03-10T10:23:02.804Z"
   },
   {
    "duration": 42,
    "start_time": "2022-03-10T10:23:02.856Z"
   },
   {
    "duration": 52,
    "start_time": "2022-03-10T10:23:02.901Z"
   },
   {
    "duration": 14,
    "start_time": "2022-03-10T10:23:02.956Z"
   },
   {
    "duration": 52,
    "start_time": "2022-03-10T10:23:02.973Z"
   },
   {
    "duration": 16,
    "start_time": "2022-03-10T10:23:03.052Z"
   },
   {
    "duration": 16,
    "start_time": "2022-03-10T10:23:03.071Z"
   },
   {
    "duration": 21,
    "start_time": "2022-03-10T10:23:03.090Z"
   },
   {
    "duration": 49,
    "start_time": "2022-03-10T10:23:03.113Z"
   },
   {
    "duration": 41,
    "start_time": "2022-03-10T10:23:03.165Z"
   },
   {
    "duration": 28,
    "start_time": "2022-03-10T10:23:03.209Z"
   },
   {
    "duration": 34,
    "start_time": "2022-03-10T10:23:03.251Z"
   },
   {
    "duration": 24,
    "start_time": "2022-03-10T10:23:03.288Z"
   },
   {
    "duration": 47,
    "start_time": "2022-03-10T10:23:03.314Z"
   },
   {
    "duration": 11,
    "start_time": "2022-03-10T10:23:03.363Z"
   },
   {
    "duration": 25,
    "start_time": "2022-03-10T10:23:03.376Z"
   },
   {
    "duration": 11,
    "start_time": "2022-03-10T10:23:03.404Z"
   },
   {
    "duration": 38,
    "start_time": "2022-03-10T10:23:03.418Z"
   },
   {
    "duration": 19,
    "start_time": "2022-03-10T10:23:03.459Z"
   },
   {
    "duration": 437,
    "start_time": "2022-03-10T10:23:03.481Z"
   },
   {
    "duration": 9,
    "start_time": "2022-03-10T10:23:03.920Z"
   },
   {
    "duration": 422,
    "start_time": "2022-03-10T10:23:03.931Z"
   },
   {
    "duration": 11,
    "start_time": "2022-03-10T10:23:04.355Z"
   },
   {
    "duration": 53,
    "start_time": "2022-03-10T10:23:04.368Z"
   },
   {
    "duration": 45,
    "start_time": "2022-03-10T10:24:32.557Z"
   },
   {
    "duration": 31,
    "start_time": "2022-03-10T10:24:36.198Z"
   },
   {
    "duration": 30,
    "start_time": "2022-03-10T10:24:56.559Z"
   },
   {
    "duration": 8,
    "start_time": "2022-03-10T10:43:28.553Z"
   },
   {
    "duration": 48,
    "start_time": "2022-03-10T10:43:36.479Z"
   },
   {
    "duration": 31,
    "start_time": "2022-03-10T10:43:41.017Z"
   },
   {
    "duration": 22,
    "start_time": "2022-03-10T10:44:17.742Z"
   },
   {
    "duration": 814,
    "start_time": "2022-03-10T10:51:31.616Z"
   },
   {
    "duration": 70,
    "start_time": "2022-03-10T10:51:32.432Z"
   },
   {
    "duration": 15,
    "start_time": "2022-03-10T10:51:32.506Z"
   },
   {
    "duration": 41,
    "start_time": "2022-03-10T10:51:32.523Z"
   },
   {
    "duration": 7,
    "start_time": "2022-03-10T10:51:32.566Z"
   },
   {
    "duration": 13,
    "start_time": "2022-03-10T10:51:32.575Z"
   },
   {
    "duration": 35,
    "start_time": "2022-03-10T10:51:32.590Z"
   },
   {
    "duration": 25,
    "start_time": "2022-03-10T10:51:32.629Z"
   },
   {
    "duration": 6,
    "start_time": "2022-03-10T10:51:32.657Z"
   },
   {
    "duration": 5,
    "start_time": "2022-03-10T10:51:32.665Z"
   },
   {
    "duration": 11,
    "start_time": "2022-03-10T10:51:32.672Z"
   },
   {
    "duration": 14,
    "start_time": "2022-03-10T10:51:32.686Z"
   },
   {
    "duration": 10,
    "start_time": "2022-03-10T10:51:32.702Z"
   },
   {
    "duration": 8,
    "start_time": "2022-03-10T10:51:32.751Z"
   },
   {
    "duration": 10,
    "start_time": "2022-03-10T10:51:32.762Z"
   },
   {
    "duration": 32,
    "start_time": "2022-03-10T10:51:32.775Z"
   },
   {
    "duration": 52,
    "start_time": "2022-03-10T10:51:32.809Z"
   },
   {
    "duration": 21,
    "start_time": "2022-03-10T10:51:32.863Z"
   },
   {
    "duration": 8,
    "start_time": "2022-03-10T10:51:32.886Z"
   },
   {
    "duration": 14,
    "start_time": "2022-03-10T10:51:32.897Z"
   },
   {
    "duration": 57,
    "start_time": "2022-03-10T10:51:32.914Z"
   },
   {
    "duration": 7,
    "start_time": "2022-03-10T10:51:32.974Z"
   },
   {
    "duration": 9,
    "start_time": "2022-03-10T10:51:32.989Z"
   },
   {
    "duration": 52,
    "start_time": "2022-03-10T10:51:33.001Z"
   },
   {
    "duration": 14,
    "start_time": "2022-03-10T10:51:33.056Z"
   },
   {
    "duration": 23,
    "start_time": "2022-03-10T10:51:33.072Z"
   },
   {
    "duration": 10,
    "start_time": "2022-03-10T10:51:33.097Z"
   },
   {
    "duration": 3,
    "start_time": "2022-03-10T10:51:33.152Z"
   },
   {
    "duration": 62,
    "start_time": "2022-03-10T10:51:33.158Z"
   },
   {
    "duration": 52,
    "start_time": "2022-03-10T10:51:33.224Z"
   },
   {
    "duration": 13,
    "start_time": "2022-03-10T10:51:33.280Z"
   },
   {
    "duration": 84,
    "start_time": "2022-03-10T10:51:33.297Z"
   },
   {
    "duration": 17,
    "start_time": "2022-03-10T10:51:33.384Z"
   },
   {
    "duration": 17,
    "start_time": "2022-03-10T10:51:33.403Z"
   },
   {
    "duration": 45,
    "start_time": "2022-03-10T10:51:33.422Z"
   },
   {
    "duration": 15,
    "start_time": "2022-03-10T10:51:33.470Z"
   },
   {
    "duration": 42,
    "start_time": "2022-03-10T10:51:33.487Z"
   },
   {
    "duration": 24,
    "start_time": "2022-03-10T10:51:33.552Z"
   },
   {
    "duration": 35,
    "start_time": "2022-03-10T10:51:33.578Z"
   },
   {
    "duration": 53,
    "start_time": "2022-03-10T10:51:33.616Z"
   },
   {
    "duration": 21,
    "start_time": "2022-03-10T10:51:33.672Z"
   },
   {
    "duration": 14,
    "start_time": "2022-03-10T10:51:33.696Z"
   },
   {
    "duration": 44,
    "start_time": "2022-03-10T10:51:33.712Z"
   },
   {
    "duration": 12,
    "start_time": "2022-03-10T10:51:33.759Z"
   },
   {
    "duration": 22,
    "start_time": "2022-03-10T10:51:33.773Z"
   },
   {
    "duration": 19,
    "start_time": "2022-03-10T10:51:33.798Z"
   },
   {
    "duration": 409,
    "start_time": "2022-03-10T10:51:33.852Z"
   },
   {
    "duration": 10,
    "start_time": "2022-03-10T10:51:34.264Z"
   },
   {
    "duration": 421,
    "start_time": "2022-03-10T10:51:34.276Z"
   },
   {
    "duration": 10,
    "start_time": "2022-03-10T10:51:34.699Z"
   },
   {
    "duration": 68,
    "start_time": "2022-03-10T10:51:34.711Z"
   },
   {
    "duration": 29,
    "start_time": "2022-03-10T10:51:34.781Z"
   },
   {
    "duration": 762,
    "start_time": "2022-03-10T11:01:56.700Z"
   },
   {
    "duration": 57,
    "start_time": "2022-03-10T11:01:57.464Z"
   },
   {
    "duration": 14,
    "start_time": "2022-03-10T11:01:57.524Z"
   },
   {
    "duration": 29,
    "start_time": "2022-03-10T11:01:57.552Z"
   },
   {
    "duration": 7,
    "start_time": "2022-03-10T11:01:57.583Z"
   },
   {
    "duration": 6,
    "start_time": "2022-03-10T11:01:57.593Z"
   },
   {
    "duration": 71,
    "start_time": "2022-03-10T11:01:57.601Z"
   },
   {
    "duration": 6,
    "start_time": "2022-03-10T11:01:57.676Z"
   },
   {
    "duration": 6,
    "start_time": "2022-03-10T11:01:57.685Z"
   },
   {
    "duration": 5,
    "start_time": "2022-03-10T11:01:57.693Z"
   },
   {
    "duration": 50,
    "start_time": "2022-03-10T11:01:57.701Z"
   },
   {
    "duration": 5,
    "start_time": "2022-03-10T11:01:57.754Z"
   },
   {
    "duration": 5,
    "start_time": "2022-03-10T11:01:57.762Z"
   },
   {
    "duration": 8,
    "start_time": "2022-03-10T11:01:57.769Z"
   },
   {
    "duration": 9,
    "start_time": "2022-03-10T11:01:57.779Z"
   },
   {
    "duration": 64,
    "start_time": "2022-03-10T11:01:57.791Z"
   },
   {
    "duration": 17,
    "start_time": "2022-03-10T11:01:57.857Z"
   },
   {
    "duration": 20,
    "start_time": "2022-03-10T11:01:57.877Z"
   },
   {
    "duration": 8,
    "start_time": "2022-03-10T11:01:57.900Z"
   },
   {
    "duration": 47,
    "start_time": "2022-03-10T11:01:57.910Z"
   },
   {
    "duration": 23,
    "start_time": "2022-03-10T11:01:57.960Z"
   },
   {
    "duration": 6,
    "start_time": "2022-03-10T11:01:57.985Z"
   },
   {
    "duration": 7,
    "start_time": "2022-03-10T11:01:57.996Z"
   },
   {
    "duration": 48,
    "start_time": "2022-03-10T11:01:58.006Z"
   },
   {
    "duration": 11,
    "start_time": "2022-03-10T11:01:58.057Z"
   },
   {
    "duration": 21,
    "start_time": "2022-03-10T11:01:58.071Z"
   },
   {
    "duration": 14,
    "start_time": "2022-03-10T11:01:58.094Z"
   },
   {
    "duration": 11,
    "start_time": "2022-03-10T11:01:58.110Z"
   },
   {
    "duration": 66,
    "start_time": "2022-03-10T11:01:58.124Z"
   },
   {
    "duration": 18,
    "start_time": "2022-03-10T11:01:58.193Z"
   },
   {
    "duration": 39,
    "start_time": "2022-03-10T11:01:58.213Z"
   },
   {
    "duration": 45,
    "start_time": "2022-03-10T11:01:58.254Z"
   },
   {
    "duration": 13,
    "start_time": "2022-03-10T11:01:58.302Z"
   },
   {
    "duration": 41,
    "start_time": "2022-03-10T11:01:58.318Z"
   },
   {
    "duration": 22,
    "start_time": "2022-03-10T11:01:58.362Z"
   },
   {
    "duration": 16,
    "start_time": "2022-03-10T11:01:58.386Z"
   },
   {
    "duration": 66,
    "start_time": "2022-03-10T11:01:58.404Z"
   },
   {
    "duration": 23,
    "start_time": "2022-03-10T11:01:58.473Z"
   },
   {
    "duration": 57,
    "start_time": "2022-03-10T11:01:58.498Z"
   },
   {
    "duration": 24,
    "start_time": "2022-03-10T11:01:58.557Z"
   },
   {
    "duration": 21,
    "start_time": "2022-03-10T11:01:58.584Z"
   },
   {
    "duration": 10,
    "start_time": "2022-03-10T11:01:58.607Z"
   },
   {
    "duration": 43,
    "start_time": "2022-03-10T11:01:58.619Z"
   },
   {
    "duration": 11,
    "start_time": "2022-03-10T11:01:58.664Z"
   },
   {
    "duration": 16,
    "start_time": "2022-03-10T11:01:58.677Z"
   },
   {
    "duration": 18,
    "start_time": "2022-03-10T11:01:58.696Z"
   },
   {
    "duration": 401,
    "start_time": "2022-03-10T11:01:58.751Z"
   },
   {
    "duration": 9,
    "start_time": "2022-03-10T11:01:59.154Z"
   },
   {
    "duration": 509,
    "start_time": "2022-03-10T11:01:59.165Z"
   },
   {
    "duration": 9,
    "start_time": "2022-03-10T11:01:59.676Z"
   },
   {
    "duration": 66,
    "start_time": "2022-03-10T11:01:59.687Z"
   },
   {
    "duration": 29,
    "start_time": "2022-03-10T11:01:59.755Z"
   },
   {
    "duration": 371,
    "start_time": "2022-03-10T11:05:03.415Z"
   },
   {
    "duration": 28,
    "start_time": "2022-03-10T11:05:40.309Z"
   },
   {
    "duration": 31,
    "start_time": "2022-03-10T11:05:50.009Z"
   },
   {
    "duration": 27,
    "start_time": "2022-03-10T11:06:19.863Z"
   },
   {
    "duration": 262,
    "start_time": "2022-03-10T11:06:26.135Z"
   },
   {
    "duration": 1825,
    "start_time": "2022-03-10T11:06:48.802Z"
   },
   {
    "duration": 87,
    "start_time": "2022-03-10T11:06:50.631Z"
   },
   {
    "duration": 20,
    "start_time": "2022-03-10T11:06:50.723Z"
   },
   {
    "duration": 31,
    "start_time": "2022-03-10T11:06:50.751Z"
   },
   {
    "duration": 8,
    "start_time": "2022-03-10T11:06:50.785Z"
   },
   {
    "duration": 6,
    "start_time": "2022-03-10T11:06:50.796Z"
   },
   {
    "duration": 79,
    "start_time": "2022-03-10T11:06:50.805Z"
   },
   {
    "duration": 7,
    "start_time": "2022-03-10T11:06:50.889Z"
   },
   {
    "duration": 6,
    "start_time": "2022-03-10T11:06:50.900Z"
   },
   {
    "duration": 5,
    "start_time": "2022-03-10T11:06:50.909Z"
   },
   {
    "duration": 9,
    "start_time": "2022-03-10T11:06:50.952Z"
   },
   {
    "duration": 8,
    "start_time": "2022-03-10T11:06:50.964Z"
   },
   {
    "duration": 6,
    "start_time": "2022-03-10T11:06:50.975Z"
   },
   {
    "duration": 8,
    "start_time": "2022-03-10T11:06:50.984Z"
   },
   {
    "duration": 63,
    "start_time": "2022-03-10T11:06:50.994Z"
   },
   {
    "duration": 21,
    "start_time": "2022-03-10T11:06:51.060Z"
   },
   {
    "duration": 17,
    "start_time": "2022-03-10T11:06:51.084Z"
   },
   {
    "duration": 61,
    "start_time": "2022-03-10T11:06:51.104Z"
   },
   {
    "duration": 13,
    "start_time": "2022-03-10T11:06:51.168Z"
   },
   {
    "duration": 12,
    "start_time": "2022-03-10T11:06:51.184Z"
   },
   {
    "duration": 28,
    "start_time": "2022-03-10T11:06:51.199Z"
   },
   {
    "duration": 7,
    "start_time": "2022-03-10T11:06:51.250Z"
   },
   {
    "duration": 8,
    "start_time": "2022-03-10T11:06:51.263Z"
   },
   {
    "duration": 9,
    "start_time": "2022-03-10T11:06:51.275Z"
   },
   {
    "duration": 14,
    "start_time": "2022-03-10T11:06:51.287Z"
   },
   {
    "duration": 61,
    "start_time": "2022-03-10T11:06:51.304Z"
   },
   {
    "duration": 39,
    "start_time": "2022-03-10T11:06:51.369Z"
   },
   {
    "duration": 41,
    "start_time": "2022-03-10T11:06:51.410Z"
   },
   {
    "duration": 9,
    "start_time": "2022-03-10T11:06:51.454Z"
   },
   {
    "duration": 47,
    "start_time": "2022-03-10T11:06:51.465Z"
   },
   {
    "duration": 40,
    "start_time": "2022-03-10T11:06:51.515Z"
   },
   {
    "duration": 15,
    "start_time": "2022-03-10T11:06:51.558Z"
   },
   {
    "duration": 78,
    "start_time": "2022-03-10T11:06:51.576Z"
   },
   {
    "duration": 23,
    "start_time": "2022-03-10T11:06:51.657Z"
   },
   {
    "duration": 26,
    "start_time": "2022-03-10T11:06:51.683Z"
   },
   {
    "duration": 59,
    "start_time": "2022-03-10T11:06:51.712Z"
   },
   {
    "duration": 21,
    "start_time": "2022-03-10T11:06:51.774Z"
   },
   {
    "duration": 68,
    "start_time": "2022-03-10T11:06:51.798Z"
   },
   {
    "duration": 34,
    "start_time": "2022-03-10T11:06:51.869Z"
   },
   {
    "duration": 81,
    "start_time": "2022-03-10T11:06:51.906Z"
   },
   {
    "duration": 38,
    "start_time": "2022-03-10T11:06:51.990Z"
   },
   {
    "duration": 42,
    "start_time": "2022-03-10T11:06:52.032Z"
   },
   {
    "duration": 11,
    "start_time": "2022-03-10T11:06:52.077Z"
   },
   {
    "duration": 14,
    "start_time": "2022-03-10T11:06:52.090Z"
   },
   {
    "duration": 44,
    "start_time": "2022-03-10T11:06:52.107Z"
   },
   {
    "duration": 14,
    "start_time": "2022-03-10T11:06:52.154Z"
   },
   {
    "duration": 19,
    "start_time": "2022-03-10T11:06:52.170Z"
   },
   {
    "duration": 442,
    "start_time": "2022-03-10T11:06:52.191Z"
   },
   {
    "duration": 17,
    "start_time": "2022-03-10T11:06:52.636Z"
   },
   {
    "duration": 417,
    "start_time": "2022-03-10T11:06:52.656Z"
   },
   {
    "duration": 10,
    "start_time": "2022-03-10T11:06:53.076Z"
   },
   {
    "duration": 74,
    "start_time": "2022-03-10T11:06:53.088Z"
   },
   {
    "duration": 50,
    "start_time": "2022-03-10T11:06:53.166Z"
   },
   {
    "duration": 89,
    "start_time": "2022-03-10T12:15:09.432Z"
   },
   {
    "duration": -29456,
    "start_time": "2022-03-10T12:15:48.909Z"
   },
   {
    "duration": 15,
    "start_time": "2022-03-10T12:20:34.348Z"
   },
   {
    "duration": 259,
    "start_time": "2022-03-10T12:21:03.753Z"
   },
   {
    "duration": 6358,
    "start_time": "2022-03-10T12:21:17.461Z"
   },
   {
    "duration": 723,
    "start_time": "2022-03-10T12:21:35.484Z"
   },
   {
    "duration": 66,
    "start_time": "2022-03-10T12:21:36.210Z"
   },
   {
    "duration": 17,
    "start_time": "2022-03-10T12:21:36.279Z"
   },
   {
    "duration": 52,
    "start_time": "2022-03-10T12:21:36.300Z"
   },
   {
    "duration": 6,
    "start_time": "2022-03-10T12:21:36.355Z"
   },
   {
    "duration": 5,
    "start_time": "2022-03-10T12:21:36.364Z"
   },
   {
    "duration": 39,
    "start_time": "2022-03-10T12:21:36.371Z"
   },
   {
    "duration": 42,
    "start_time": "2022-03-10T12:21:36.414Z"
   },
   {
    "duration": 7,
    "start_time": "2022-03-10T12:21:36.460Z"
   },
   {
    "duration": 9,
    "start_time": "2022-03-10T12:21:36.469Z"
   },
   {
    "duration": 10,
    "start_time": "2022-03-10T12:21:36.481Z"
   },
   {
    "duration": 60,
    "start_time": "2022-03-10T12:21:36.493Z"
   },
   {
    "duration": 5,
    "start_time": "2022-03-10T12:21:36.555Z"
   },
   {
    "duration": 8,
    "start_time": "2022-03-10T12:21:36.563Z"
   },
   {
    "duration": 10,
    "start_time": "2022-03-10T12:21:36.574Z"
   },
   {
    "duration": 35,
    "start_time": "2022-03-10T12:21:36.586Z"
   },
   {
    "duration": 43,
    "start_time": "2022-03-10T12:21:36.623Z"
   },
   {
    "duration": 21,
    "start_time": "2022-03-10T12:21:36.669Z"
   },
   {
    "duration": 9,
    "start_time": "2022-03-10T12:21:36.693Z"
   },
   {
    "duration": 50,
    "start_time": "2022-03-10T12:21:36.705Z"
   },
   {
    "duration": 25,
    "start_time": "2022-03-10T12:21:36.758Z"
   },
   {
    "duration": 7,
    "start_time": "2022-03-10T12:21:36.786Z"
   },
   {
    "duration": 9,
    "start_time": "2022-03-10T12:21:36.802Z"
   },
   {
    "duration": 9,
    "start_time": "2022-03-10T12:21:36.854Z"
   },
   {
    "duration": 9,
    "start_time": "2022-03-10T12:21:36.866Z"
   },
   {
    "duration": 32,
    "start_time": "2022-03-10T12:21:36.878Z"
   },
   {
    "duration": 71,
    "start_time": "2022-03-10T12:21:36.913Z"
   },
   {
    "duration": 7,
    "start_time": "2022-03-10T12:21:36.987Z"
   },
   {
    "duration": 24,
    "start_time": "2022-03-10T12:21:36.996Z"
   },
   {
    "duration": 39,
    "start_time": "2022-03-10T12:21:37.052Z"
   },
   {
    "duration": 17,
    "start_time": "2022-03-10T12:21:37.094Z"
   },
   {
    "duration": 2208,
    "start_time": "2022-03-10T12:21:37.113Z"
   },
   {
    "duration": -29491,
    "start_time": "2022-03-10T12:22:08.815Z"
   },
   {
    "duration": -29499,
    "start_time": "2022-03-10T12:22:08.825Z"
   },
   {
    "duration": -29514,
    "start_time": "2022-03-10T12:22:08.841Z"
   },
   {
    "duration": -29556,
    "start_time": "2022-03-10T12:22:08.885Z"
   },
   {
    "duration": -29570,
    "start_time": "2022-03-10T12:22:08.900Z"
   },
   {
    "duration": -29575,
    "start_time": "2022-03-10T12:22:08.907Z"
   },
   {
    "duration": -29590,
    "start_time": "2022-03-10T12:22:08.924Z"
   },
   {
    "duration": -29643,
    "start_time": "2022-03-10T12:22:08.978Z"
   },
   {
    "duration": -29664,
    "start_time": "2022-03-10T12:22:09.001Z"
   },
   {
    "duration": -29683,
    "start_time": "2022-03-10T12:22:09.022Z"
   },
   {
    "duration": -29697,
    "start_time": "2022-03-10T12:22:09.038Z"
   },
   {
    "duration": -29737,
    "start_time": "2022-03-10T12:22:09.081Z"
   },
   {
    "duration": -29769,
    "start_time": "2022-03-10T12:22:09.115Z"
   },
   {
    "duration": -29817,
    "start_time": "2022-03-10T12:22:09.165Z"
   },
   {
    "duration": -29821,
    "start_time": "2022-03-10T12:22:09.171Z"
   },
   {
    "duration": -29832,
    "start_time": "2022-03-10T12:22:09.184Z"
   },
   {
    "duration": -29835,
    "start_time": "2022-03-10T12:22:09.189Z"
   },
   {
    "duration": -29860,
    "start_time": "2022-03-10T12:22:09.217Z"
   },
   {
    "duration": -29880,
    "start_time": "2022-03-10T12:22:09.239Z"
   },
   {
    "duration": -29896,
    "start_time": "2022-03-10T12:22:09.257Z"
   },
   {
    "duration": -29908,
    "start_time": "2022-03-10T12:22:09.271Z"
   },
   {
    "duration": -29922,
    "start_time": "2022-03-10T12:22:09.288Z"
   },
   {
    "duration": -29932,
    "start_time": "2022-03-10T12:22:09.300Z"
   },
   {
    "duration": 95,
    "start_time": "2022-03-10T12:23:09.031Z"
   },
   {
    "duration": 262,
    "start_time": "2022-03-10T12:23:22.422Z"
   },
   {
    "duration": 272,
    "start_time": "2022-03-11T08:56:10.571Z"
   },
   {
    "duration": 224,
    "start_time": "2022-03-11T08:56:55.325Z"
   },
   {
    "duration": 628,
    "start_time": "2022-03-11T08:57:03.032Z"
   },
   {
    "duration": 53,
    "start_time": "2022-03-11T08:57:03.663Z"
   },
   {
    "duration": 14,
    "start_time": "2022-03-11T08:57:03.718Z"
   },
   {
    "duration": 66,
    "start_time": "2022-03-11T08:57:03.735Z"
   },
   {
    "duration": 6,
    "start_time": "2022-03-11T08:57:03.803Z"
   },
   {
    "duration": 38,
    "start_time": "2022-03-11T08:57:03.811Z"
   },
   {
    "duration": 53,
    "start_time": "2022-03-11T08:57:03.852Z"
   },
   {
    "duration": 8,
    "start_time": "2022-03-11T08:57:03.909Z"
   },
   {
    "duration": 32,
    "start_time": "2022-03-11T08:57:03.920Z"
   },
   {
    "duration": 21,
    "start_time": "2022-03-11T08:57:03.954Z"
   },
   {
    "duration": 28,
    "start_time": "2022-03-11T08:57:03.977Z"
   },
   {
    "duration": 35,
    "start_time": "2022-03-11T08:57:04.007Z"
   },
   {
    "duration": 21,
    "start_time": "2022-03-11T08:57:04.044Z"
   },
   {
    "duration": 29,
    "start_time": "2022-03-11T08:57:04.067Z"
   },
   {
    "duration": 28,
    "start_time": "2022-03-11T08:57:04.098Z"
   },
   {
    "duration": 36,
    "start_time": "2022-03-11T08:57:04.127Z"
   },
   {
    "duration": 24,
    "start_time": "2022-03-11T08:57:04.165Z"
   },
   {
    "duration": 52,
    "start_time": "2022-03-11T08:57:04.191Z"
   },
   {
    "duration": 11,
    "start_time": "2022-03-11T08:57:04.245Z"
   },
   {
    "duration": 34,
    "start_time": "2022-03-11T08:57:04.258Z"
   },
   {
    "duration": 32,
    "start_time": "2022-03-11T08:57:04.294Z"
   },
   {
    "duration": 30,
    "start_time": "2022-03-11T08:57:04.327Z"
   },
   {
    "duration": 24,
    "start_time": "2022-03-11T08:57:04.361Z"
   },
   {
    "duration": 21,
    "start_time": "2022-03-11T08:57:04.387Z"
   },
   {
    "duration": 34,
    "start_time": "2022-03-11T08:57:04.410Z"
   },
   {
    "duration": 23,
    "start_time": "2022-03-11T08:57:04.445Z"
   },
   {
    "duration": 39,
    "start_time": "2022-03-11T08:57:04.470Z"
   },
   {
    "duration": 27,
    "start_time": "2022-03-11T08:57:04.511Z"
   },
   {
    "duration": 21,
    "start_time": "2022-03-11T08:57:04.540Z"
   },
   {
    "duration": 5,
    "start_time": "2022-03-11T08:57:04.563Z"
   },
   {
    "duration": 39,
    "start_time": "2022-03-11T08:57:04.570Z"
   },
   {
    "duration": 30,
    "start_time": "2022-03-11T08:57:04.611Z"
   },
   {
    "duration": 11,
    "start_time": "2022-03-11T08:57:04.643Z"
   },
   {
    "duration": 304,
    "start_time": "2022-03-11T08:57:04.656Z"
   },
   {
    "duration": -32652,
    "start_time": "2022-03-11T08:57:37.614Z"
   },
   {
    "duration": -32659,
    "start_time": "2022-03-11T08:57:37.622Z"
   },
   {
    "duration": -32663,
    "start_time": "2022-03-11T08:57:37.628Z"
   },
   {
    "duration": -32698,
    "start_time": "2022-03-11T08:57:37.664Z"
   },
   {
    "duration": -32729,
    "start_time": "2022-03-11T08:57:37.696Z"
   },
   {
    "duration": -32770,
    "start_time": "2022-03-11T08:57:37.738Z"
   },
   {
    "duration": -32797,
    "start_time": "2022-03-11T08:57:37.766Z"
   },
   {
    "duration": -32810,
    "start_time": "2022-03-11T08:57:37.779Z"
   },
   {
    "duration": -32851,
    "start_time": "2022-03-11T08:57:37.821Z"
   },
   {
    "duration": -32902,
    "start_time": "2022-03-11T08:57:37.873Z"
   },
   {
    "duration": -32908,
    "start_time": "2022-03-11T08:57:37.880Z"
   },
   {
    "duration": -32914,
    "start_time": "2022-03-11T08:57:37.887Z"
   },
   {
    "duration": -32919,
    "start_time": "2022-03-11T08:57:37.893Z"
   },
   {
    "duration": -32925,
    "start_time": "2022-03-11T08:57:37.901Z"
   },
   {
    "duration": -32943,
    "start_time": "2022-03-11T08:57:37.919Z"
   },
   {
    "duration": -32949,
    "start_time": "2022-03-11T08:57:37.926Z"
   },
   {
    "duration": -32953,
    "start_time": "2022-03-11T08:57:37.932Z"
   },
   {
    "duration": -32959,
    "start_time": "2022-03-11T08:57:37.939Z"
   },
   {
    "duration": -32964,
    "start_time": "2022-03-11T08:57:37.945Z"
   },
   {
    "duration": -32985,
    "start_time": "2022-03-11T08:57:37.967Z"
   },
   {
    "duration": -32991,
    "start_time": "2022-03-11T08:57:37.974Z"
   },
   {
    "duration": -32997,
    "start_time": "2022-03-11T08:57:37.981Z"
   },
   {
    "duration": -33003,
    "start_time": "2022-03-11T08:57:37.988Z"
   },
   {
    "duration": 23,
    "start_time": "2022-03-11T08:58:11.593Z"
   },
   {
    "duration": 225,
    "start_time": "2022-03-11T09:03:48.511Z"
   },
   {
    "duration": 2349,
    "start_time": "2022-03-11T09:05:02.416Z"
   },
   {
    "duration": 4,
    "start_time": "2022-03-11T09:06:48.660Z"
   },
   {
    "duration": 4,
    "start_time": "2022-03-11T09:18:55.586Z"
   },
   {
    "duration": 4163,
    "start_time": "2022-03-11T09:19:15.107Z"
   },
   {
    "duration": 727,
    "start_time": "2022-03-11T09:19:32.921Z"
   },
   {
    "duration": 54,
    "start_time": "2022-03-11T09:19:33.650Z"
   },
   {
    "duration": 14,
    "start_time": "2022-03-11T09:19:33.707Z"
   },
   {
    "duration": 21,
    "start_time": "2022-03-11T09:19:33.725Z"
   },
   {
    "duration": 13,
    "start_time": "2022-03-11T09:19:33.749Z"
   },
   {
    "duration": 11,
    "start_time": "2022-03-11T09:19:33.764Z"
   },
   {
    "duration": 46,
    "start_time": "2022-03-11T09:19:33.776Z"
   },
   {
    "duration": 4,
    "start_time": "2022-03-11T09:19:33.825Z"
   },
   {
    "duration": 8,
    "start_time": "2022-03-11T09:19:33.831Z"
   },
   {
    "duration": 10,
    "start_time": "2022-03-11T09:19:33.841Z"
   },
   {
    "duration": 8,
    "start_time": "2022-03-11T09:19:33.852Z"
   },
   {
    "duration": 7,
    "start_time": "2022-03-11T09:19:33.861Z"
   },
   {
    "duration": 7,
    "start_time": "2022-03-11T09:19:33.902Z"
   },
   {
    "duration": 10,
    "start_time": "2022-03-11T09:19:33.911Z"
   },
   {
    "duration": 11,
    "start_time": "2022-03-11T09:19:33.923Z"
   },
   {
    "duration": 31,
    "start_time": "2022-03-11T09:19:33.936Z"
   },
   {
    "duration": 14,
    "start_time": "2022-03-11T09:19:33.969Z"
   },
   {
    "duration": 30,
    "start_time": "2022-03-11T09:19:33.985Z"
   },
   {
    "duration": 7,
    "start_time": "2022-03-11T09:19:34.018Z"
   },
   {
    "duration": 14,
    "start_time": "2022-03-11T09:19:34.027Z"
   },
   {
    "duration": 22,
    "start_time": "2022-03-11T09:19:34.044Z"
   },
   {
    "duration": 37,
    "start_time": "2022-03-11T09:19:34.068Z"
   },
   {
    "duration": 8,
    "start_time": "2022-03-11T09:19:34.110Z"
   },
   {
    "duration": 9,
    "start_time": "2022-03-11T09:19:34.121Z"
   },
   {
    "duration": 11,
    "start_time": "2022-03-11T09:19:34.133Z"
   },
   {
    "duration": 21,
    "start_time": "2022-03-11T09:19:34.146Z"
   },
   {
    "duration": 53,
    "start_time": "2022-03-11T09:19:34.169Z"
   },
   {
    "duration": 21,
    "start_time": "2022-03-11T09:19:34.224Z"
   },
   {
    "duration": 300,
    "start_time": "2022-03-11T09:19:34.247Z"
   },
   {
    "duration": -34112,
    "start_time": "2022-03-11T09:20:08.661Z"
   },
   {
    "duration": -34118,
    "start_time": "2022-03-11T09:20:08.668Z"
   },
   {
    "duration": -34197,
    "start_time": "2022-03-11T09:20:08.748Z"
   },
   {
    "duration": -34228,
    "start_time": "2022-03-11T09:20:08.780Z"
   },
   {
    "duration": -34259,
    "start_time": "2022-03-11T09:20:08.813Z"
   },
   {
    "duration": -34266,
    "start_time": "2022-03-11T09:20:08.821Z"
   },
   {
    "duration": -34312,
    "start_time": "2022-03-11T09:20:08.868Z"
   },
   {
    "duration": -34320,
    "start_time": "2022-03-11T09:20:08.878Z"
   },
   {
    "duration": -34327,
    "start_time": "2022-03-11T09:20:08.887Z"
   },
   {
    "duration": -34334,
    "start_time": "2022-03-11T09:20:08.895Z"
   },
   {
    "duration": -34339,
    "start_time": "2022-03-11T09:20:08.902Z"
   },
   {
    "duration": -34363,
    "start_time": "2022-03-11T09:20:08.927Z"
   },
   {
    "duration": -34369,
    "start_time": "2022-03-11T09:20:08.934Z"
   },
   {
    "duration": -34376,
    "start_time": "2022-03-11T09:20:08.942Z"
   },
   {
    "duration": -34383,
    "start_time": "2022-03-11T09:20:08.950Z"
   },
   {
    "duration": -34417,
    "start_time": "2022-03-11T09:20:08.985Z"
   },
   {
    "duration": -34423,
    "start_time": "2022-03-11T09:20:08.992Z"
   },
   {
    "duration": -34434,
    "start_time": "2022-03-11T09:20:09.003Z"
   },
   {
    "duration": -34440,
    "start_time": "2022-03-11T09:20:09.010Z"
   },
   {
    "duration": -34448,
    "start_time": "2022-03-11T09:20:09.019Z"
   },
   {
    "duration": -34473,
    "start_time": "2022-03-11T09:20:09.044Z"
   },
   {
    "duration": -34480,
    "start_time": "2022-03-11T09:20:09.052Z"
   },
   {
    "duration": -34488,
    "start_time": "2022-03-11T09:20:09.061Z"
   },
   {
    "duration": -34583,
    "start_time": "2022-03-11T09:20:09.156Z"
   },
   {
    "duration": -34616,
    "start_time": "2022-03-11T09:20:09.190Z"
   },
   {
    "duration": -34653,
    "start_time": "2022-03-11T09:20:09.228Z"
   },
   {
    "duration": -34696,
    "start_time": "2022-03-11T09:20:09.272Z"
   },
   {
    "duration": -34739,
    "start_time": "2022-03-11T09:20:09.318Z"
   },
   {
    "duration": -34751,
    "start_time": "2022-03-11T09:20:09.332Z"
   },
   {
    "duration": 694,
    "start_time": "2022-03-11T09:20:08.471Z"
   },
   {
    "duration": 50,
    "start_time": "2022-03-11T09:20:09.167Z"
   },
   {
    "duration": 12,
    "start_time": "2022-03-11T09:20:09.219Z"
   },
   {
    "duration": 23,
    "start_time": "2022-03-11T09:20:09.233Z"
   },
   {
    "duration": 44,
    "start_time": "2022-03-11T09:20:09.258Z"
   },
   {
    "duration": 5,
    "start_time": "2022-03-11T09:20:09.304Z"
   },
   {
    "duration": 28,
    "start_time": "2022-03-11T09:20:09.311Z"
   },
   {
    "duration": 5,
    "start_time": "2022-03-11T09:20:09.342Z"
   },
   {
    "duration": 5,
    "start_time": "2022-03-11T09:20:09.349Z"
   },
   {
    "duration": 5,
    "start_time": "2022-03-11T09:20:09.356Z"
   },
   {
    "duration": 38,
    "start_time": "2022-03-11T09:20:09.363Z"
   },
   {
    "duration": 6,
    "start_time": "2022-03-11T09:20:09.404Z"
   },
   {
    "duration": 9,
    "start_time": "2022-03-11T09:20:09.412Z"
   },
   {
    "duration": 13,
    "start_time": "2022-03-11T09:20:09.423Z"
   },
   {
    "duration": 12,
    "start_time": "2022-03-11T09:20:09.439Z"
   },
   {
    "duration": 50,
    "start_time": "2022-03-11T09:20:09.454Z"
   },
   {
    "duration": 19,
    "start_time": "2022-03-11T09:20:09.506Z"
   },
   {
    "duration": 20,
    "start_time": "2022-03-11T09:20:09.527Z"
   },
   {
    "duration": 6,
    "start_time": "2022-03-11T09:20:09.549Z"
   },
   {
    "duration": 12,
    "start_time": "2022-03-11T09:20:09.556Z"
   },
   {
    "duration": 16,
    "start_time": "2022-03-11T09:20:09.602Z"
   },
   {
    "duration": 5,
    "start_time": "2022-03-11T09:20:09.620Z"
   },
   {
    "duration": 24,
    "start_time": "2022-03-11T09:20:09.628Z"
   },
   {
    "duration": 16,
    "start_time": "2022-03-11T09:20:09.654Z"
   },
   {
    "duration": 27,
    "start_time": "2022-03-11T09:20:09.672Z"
   },
   {
    "duration": 21,
    "start_time": "2022-03-11T09:20:09.701Z"
   },
   {
    "duration": 38,
    "start_time": "2022-03-11T09:20:09.724Z"
   },
   {
    "duration": 21,
    "start_time": "2022-03-11T09:20:09.764Z"
   },
   {
    "duration": 29,
    "start_time": "2022-03-11T09:20:09.787Z"
   },
   {
    "duration": 3429,
    "start_time": "2022-03-11T09:20:09.818Z"
   },
   {
    "duration": -31580,
    "start_time": "2022-03-11T09:20:44.829Z"
   },
   {
    "duration": -31587,
    "start_time": "2022-03-11T09:20:44.838Z"
   },
   {
    "duration": -31595,
    "start_time": "2022-03-11T09:20:44.847Z"
   },
   {
    "duration": -31616,
    "start_time": "2022-03-11T09:20:44.870Z"
   },
   {
    "duration": -31663,
    "start_time": "2022-03-11T09:20:44.918Z"
   },
   {
    "duration": -31727,
    "start_time": "2022-03-11T09:20:44.983Z"
   },
   {
    "duration": -31735,
    "start_time": "2022-03-11T09:20:44.992Z"
   },
   {
    "duration": -31741,
    "start_time": "2022-03-11T09:20:44.999Z"
   },
   {
    "duration": -31749,
    "start_time": "2022-03-11T09:20:45.008Z"
   },
   {
    "duration": -31881,
    "start_time": "2022-03-11T09:20:45.141Z"
   },
   {
    "duration": -32032,
    "start_time": "2022-03-11T09:20:45.293Z"
   },
   {
    "duration": -32069,
    "start_time": "2022-03-11T09:20:45.331Z"
   },
   {
    "duration": -32107,
    "start_time": "2022-03-11T09:20:45.370Z"
   },
   {
    "duration": -32117,
    "start_time": "2022-03-11T09:20:45.381Z"
   },
   {
    "duration": -32127,
    "start_time": "2022-03-11T09:20:45.392Z"
   },
   {
    "duration": -32323,
    "start_time": "2022-03-11T09:20:45.589Z"
   },
   {
    "duration": -32341,
    "start_time": "2022-03-11T09:20:45.608Z"
   },
   {
    "duration": -32372,
    "start_time": "2022-03-11T09:20:45.640Z"
   },
   {
    "duration": -32406,
    "start_time": "2022-03-11T09:20:45.675Z"
   },
   {
    "duration": -32413,
    "start_time": "2022-03-11T09:20:45.682Z"
   },
   {
    "duration": -32422,
    "start_time": "2022-03-11T09:20:45.692Z"
   },
   {
    "duration": -32450,
    "start_time": "2022-03-11T09:20:45.721Z"
   },
   {
    "duration": -32469,
    "start_time": "2022-03-11T09:20:45.741Z"
   },
   {
    "duration": -32522,
    "start_time": "2022-03-11T09:20:45.794Z"
   },
   {
    "duration": -32557,
    "start_time": "2022-03-11T09:20:45.830Z"
   },
   {
    "duration": -32565,
    "start_time": "2022-03-11T09:20:45.839Z"
   },
   {
    "duration": -32576,
    "start_time": "2022-03-11T09:20:45.851Z"
   },
   {
    "duration": -32623,
    "start_time": "2022-03-11T09:20:45.899Z"
   },
   {
    "duration": 3363,
    "start_time": "2022-03-11T09:20:34.291Z"
   },
   {
    "duration": 3080,
    "start_time": "2022-03-11T09:22:48.489Z"
   },
   {
    "duration": 7,
    "start_time": "2022-03-11T09:23:12.191Z"
   },
   {
    "duration": 5,
    "start_time": "2022-03-11T09:23:29.279Z"
   },
   {
    "duration": 6,
    "start_time": "2022-03-11T09:24:12.622Z"
   },
   {
    "duration": 638,
    "start_time": "2022-03-11T09:25:21.668Z"
   },
   {
    "duration": 54,
    "start_time": "2022-03-11T09:25:22.308Z"
   },
   {
    "duration": 11,
    "start_time": "2022-03-11T09:25:22.364Z"
   },
   {
    "duration": 29,
    "start_time": "2022-03-11T09:25:22.377Z"
   },
   {
    "duration": 6,
    "start_time": "2022-03-11T09:25:22.407Z"
   },
   {
    "duration": 11,
    "start_time": "2022-03-11T09:25:22.414Z"
   },
   {
    "duration": 30,
    "start_time": "2022-03-11T09:25:22.427Z"
   },
   {
    "duration": 5,
    "start_time": "2022-03-11T09:25:22.459Z"
   },
   {
    "duration": 7,
    "start_time": "2022-03-11T09:25:22.466Z"
   },
   {
    "duration": 5,
    "start_time": "2022-03-11T09:25:22.502Z"
   },
   {
    "duration": 18,
    "start_time": "2022-03-11T09:25:22.509Z"
   },
   {
    "duration": 7,
    "start_time": "2022-03-11T09:25:22.529Z"
   },
   {
    "duration": 12,
    "start_time": "2022-03-11T09:25:22.538Z"
   },
   {
    "duration": 16,
    "start_time": "2022-03-11T09:25:22.552Z"
   },
   {
    "duration": 12,
    "start_time": "2022-03-11T09:25:22.570Z"
   },
   {
    "duration": 24,
    "start_time": "2022-03-11T09:25:22.584Z"
   },
   {
    "duration": 14,
    "start_time": "2022-03-11T09:25:22.610Z"
   },
   {
    "duration": 15,
    "start_time": "2022-03-11T09:25:22.626Z"
   },
   {
    "duration": 5,
    "start_time": "2022-03-11T09:25:22.643Z"
   },
   {
    "duration": 13,
    "start_time": "2022-03-11T09:25:22.650Z"
   },
   {
    "duration": 47,
    "start_time": "2022-03-11T09:25:22.665Z"
   },
   {
    "duration": 4,
    "start_time": "2022-03-11T09:25:22.714Z"
   },
   {
    "duration": 8,
    "start_time": "2022-03-11T09:25:22.722Z"
   },
   {
    "duration": 9,
    "start_time": "2022-03-11T09:25:22.733Z"
   },
   {
    "duration": 14,
    "start_time": "2022-03-11T09:25:22.744Z"
   },
   {
    "duration": 21,
    "start_time": "2022-03-11T09:25:22.759Z"
   },
   {
    "duration": 41,
    "start_time": "2022-03-11T09:25:22.782Z"
   },
   {
    "duration": 21,
    "start_time": "2022-03-11T09:25:22.825Z"
   },
   {
    "duration": 22,
    "start_time": "2022-03-11T09:25:22.847Z"
   },
   {
    "duration": 46,
    "start_time": "2022-03-11T09:25:22.871Z"
   },
   {
    "duration": 5,
    "start_time": "2022-03-11T09:25:22.919Z"
   },
   {
    "duration": 17,
    "start_time": "2022-03-11T09:25:22.926Z"
   },
   {
    "duration": 28,
    "start_time": "2022-03-11T09:25:22.945Z"
   },
   {
    "duration": 14,
    "start_time": "2022-03-11T09:25:23.002Z"
   },
   {
    "duration": 335,
    "start_time": "2022-03-11T09:25:23.018Z"
   },
   {
    "duration": -32458,
    "start_time": "2022-03-11T09:25:55.813Z"
   },
   {
    "duration": -32465,
    "start_time": "2022-03-11T09:25:55.822Z"
   },
   {
    "duration": -32471,
    "start_time": "2022-03-11T09:25:55.829Z"
   },
   {
    "duration": -32478,
    "start_time": "2022-03-11T09:25:55.837Z"
   },
   {
    "duration": -32484,
    "start_time": "2022-03-11T09:25:55.844Z"
   },
   {
    "duration": -32489,
    "start_time": "2022-03-11T09:25:55.850Z"
   },
   {
    "duration": -32496,
    "start_time": "2022-03-11T09:25:55.858Z"
   },
   {
    "duration": -32501,
    "start_time": "2022-03-11T09:25:55.864Z"
   },
   {
    "duration": -32508,
    "start_time": "2022-03-11T09:25:55.872Z"
   },
   {
    "duration": -32560,
    "start_time": "2022-03-11T09:25:55.925Z"
   },
   {
    "duration": -32570,
    "start_time": "2022-03-11T09:25:55.936Z"
   },
   {
    "duration": -32575,
    "start_time": "2022-03-11T09:25:55.942Z"
   },
   {
    "duration": -32583,
    "start_time": "2022-03-11T09:25:55.952Z"
   },
   {
    "duration": -32590,
    "start_time": "2022-03-11T09:25:55.960Z"
   },
   {
    "duration": -32597,
    "start_time": "2022-03-11T09:25:55.968Z"
   },
   {
    "duration": -32607,
    "start_time": "2022-03-11T09:25:55.978Z"
   },
   {
    "duration": -32614,
    "start_time": "2022-03-11T09:25:55.986Z"
   },
   {
    "duration": -32619,
    "start_time": "2022-03-11T09:25:55.992Z"
   },
   {
    "duration": -32627,
    "start_time": "2022-03-11T09:25:56.000Z"
   },
   {
    "duration": -32632,
    "start_time": "2022-03-11T09:25:56.006Z"
   },
   {
    "duration": -32639,
    "start_time": "2022-03-11T09:25:56.013Z"
   },
   {
    "duration": -32657,
    "start_time": "2022-03-11T09:25:56.032Z"
   },
   {
    "duration": -32664,
    "start_time": "2022-03-11T09:25:56.039Z"
   },
   {
    "duration": 227,
    "start_time": "2022-03-11T09:26:11.104Z"
   },
   {
    "duration": 7,
    "start_time": "2022-03-11T09:26:21.912Z"
   },
   {
    "duration": 610,
    "start_time": "2022-03-11T09:26:47.060Z"
   },
   {
    "duration": 53,
    "start_time": "2022-03-11T09:26:47.673Z"
   },
   {
    "duration": 12,
    "start_time": "2022-03-11T09:26:47.731Z"
   },
   {
    "duration": 24,
    "start_time": "2022-03-11T09:26:47.745Z"
   },
   {
    "duration": 7,
    "start_time": "2022-03-11T09:26:47.772Z"
   },
   {
    "duration": 3,
    "start_time": "2022-03-11T09:26:47.802Z"
   },
   {
    "duration": 26,
    "start_time": "2022-03-11T09:26:47.808Z"
   },
   {
    "duration": 4,
    "start_time": "2022-03-11T09:26:47.837Z"
   },
   {
    "duration": 7,
    "start_time": "2022-03-11T09:26:47.844Z"
   },
   {
    "duration": 10,
    "start_time": "2022-03-11T09:26:47.853Z"
   },
   {
    "duration": 38,
    "start_time": "2022-03-11T09:26:47.864Z"
   },
   {
    "duration": 8,
    "start_time": "2022-03-11T09:26:47.904Z"
   },
   {
    "duration": 7,
    "start_time": "2022-03-11T09:26:47.914Z"
   },
   {
    "duration": 12,
    "start_time": "2022-03-11T09:26:47.923Z"
   },
   {
    "duration": 11,
    "start_time": "2022-03-11T09:26:47.938Z"
   },
   {
    "duration": 27,
    "start_time": "2022-03-11T09:26:47.951Z"
   },
   {
    "duration": 32,
    "start_time": "2022-03-11T09:26:47.981Z"
   },
   {
    "duration": 15,
    "start_time": "2022-03-11T09:26:48.015Z"
   },
   {
    "duration": 5,
    "start_time": "2022-03-11T09:26:48.032Z"
   },
   {
    "duration": 12,
    "start_time": "2022-03-11T09:26:48.039Z"
   },
   {
    "duration": 16,
    "start_time": "2022-03-11T09:26:48.053Z"
   },
   {
    "duration": 5,
    "start_time": "2022-03-11T09:26:48.105Z"
   },
   {
    "duration": 10,
    "start_time": "2022-03-11T09:26:48.112Z"
   },
   {
    "duration": 6,
    "start_time": "2022-03-11T09:26:48.124Z"
   },
   {
    "duration": 18,
    "start_time": "2022-03-11T09:26:48.131Z"
   },
   {
    "duration": 19,
    "start_time": "2022-03-11T09:26:48.150Z"
   },
   {
    "duration": 46,
    "start_time": "2022-03-11T09:26:48.171Z"
   },
   {
    "duration": 21,
    "start_time": "2022-03-11T09:26:48.219Z"
   },
   {
    "duration": 22,
    "start_time": "2022-03-11T09:26:48.242Z"
   },
   {
    "duration": 39,
    "start_time": "2022-03-11T09:26:48.265Z"
   },
   {
    "duration": 6,
    "start_time": "2022-03-11T09:26:48.306Z"
   },
   {
    "duration": 17,
    "start_time": "2022-03-11T09:26:48.314Z"
   },
   {
    "duration": 29,
    "start_time": "2022-03-11T09:26:48.332Z"
   },
   {
    "duration": 38,
    "start_time": "2022-03-11T09:26:48.363Z"
   },
   {
    "duration": 289,
    "start_time": "2022-03-11T09:26:48.404Z"
   },
   {
    "duration": -32597,
    "start_time": "2022-03-11T09:27:21.292Z"
   },
   {
    "duration": -32605,
    "start_time": "2022-03-11T09:27:21.302Z"
   },
   {
    "duration": -32610,
    "start_time": "2022-03-11T09:27:21.309Z"
   },
   {
    "duration": -32618,
    "start_time": "2022-03-11T09:27:21.318Z"
   },
   {
    "duration": -32622,
    "start_time": "2022-03-11T09:27:21.324Z"
   },
   {
    "duration": -32630,
    "start_time": "2022-03-11T09:27:21.334Z"
   },
   {
    "duration": -32641,
    "start_time": "2022-03-11T09:27:21.346Z"
   },
   {
    "duration": -32651,
    "start_time": "2022-03-11T09:27:21.358Z"
   },
   {
    "duration": -32663,
    "start_time": "2022-03-11T09:27:21.371Z"
   },
   {
    "duration": -32687,
    "start_time": "2022-03-11T09:27:21.397Z"
   },
   {
    "duration": -32697,
    "start_time": "2022-03-11T09:27:21.408Z"
   },
   {
    "duration": -32719,
    "start_time": "2022-03-11T09:27:21.431Z"
   },
   {
    "duration": -32762,
    "start_time": "2022-03-11T09:27:21.475Z"
   },
   {
    "duration": -32840,
    "start_time": "2022-03-11T09:27:21.554Z"
   },
   {
    "duration": -32861,
    "start_time": "2022-03-11T09:27:21.576Z"
   },
   {
    "duration": -32867,
    "start_time": "2022-03-11T09:27:21.584Z"
   },
   {
    "duration": -32874,
    "start_time": "2022-03-11T09:27:21.591Z"
   },
   {
    "duration": -32880,
    "start_time": "2022-03-11T09:27:21.599Z"
   },
   {
    "duration": -32885,
    "start_time": "2022-03-11T09:27:21.605Z"
   },
   {
    "duration": -32907,
    "start_time": "2022-03-11T09:27:21.628Z"
   },
   {
    "duration": -32916,
    "start_time": "2022-03-11T09:27:21.637Z"
   },
   {
    "duration": -32921,
    "start_time": "2022-03-11T09:27:21.644Z"
   },
   {
    "duration": -32928,
    "start_time": "2022-03-11T09:27:21.652Z"
   },
   {
    "duration": 86,
    "start_time": "2022-03-11T10:20:06.272Z"
   },
   {
    "duration": 423,
    "start_time": "2022-03-11T10:20:20.259Z"
   },
   {
    "duration": 706,
    "start_time": "2022-03-11T10:21:17.280Z"
   },
   {
    "duration": 60,
    "start_time": "2022-03-11T10:21:17.989Z"
   },
   {
    "duration": 12,
    "start_time": "2022-03-11T10:21:18.052Z"
   },
   {
    "duration": 41,
    "start_time": "2022-03-11T10:21:18.066Z"
   },
   {
    "duration": 7,
    "start_time": "2022-03-11T10:21:18.110Z"
   },
   {
    "duration": 12,
    "start_time": "2022-03-11T10:21:18.119Z"
   },
   {
    "duration": 27,
    "start_time": "2022-03-11T10:21:18.133Z"
   },
   {
    "duration": 5,
    "start_time": "2022-03-11T10:21:18.163Z"
   },
   {
    "duration": 6,
    "start_time": "2022-03-11T10:21:18.201Z"
   },
   {
    "duration": 21,
    "start_time": "2022-03-11T10:21:18.210Z"
   },
   {
    "duration": 7,
    "start_time": "2022-03-11T10:21:18.234Z"
   },
   {
    "duration": 6,
    "start_time": "2022-03-11T10:21:18.242Z"
   },
   {
    "duration": 10,
    "start_time": "2022-03-11T10:21:18.250Z"
   },
   {
    "duration": 10,
    "start_time": "2022-03-11T10:21:18.262Z"
   },
   {
    "duration": 10,
    "start_time": "2022-03-11T10:21:18.301Z"
   },
   {
    "duration": 32,
    "start_time": "2022-03-11T10:21:18.313Z"
   },
   {
    "duration": 14,
    "start_time": "2022-03-11T10:21:18.347Z"
   },
   {
    "duration": 17,
    "start_time": "2022-03-11T10:21:18.364Z"
   },
   {
    "duration": 11,
    "start_time": "2022-03-11T10:21:18.403Z"
   },
   {
    "duration": 10,
    "start_time": "2022-03-11T10:21:18.416Z"
   },
   {
    "duration": 20,
    "start_time": "2022-03-11T10:21:18.429Z"
   },
   {
    "duration": 4,
    "start_time": "2022-03-11T10:21:18.451Z"
   },
   {
    "duration": 44,
    "start_time": "2022-03-11T10:21:18.459Z"
   },
   {
    "duration": 8,
    "start_time": "2022-03-11T10:21:18.507Z"
   },
   {
    "duration": 35,
    "start_time": "2022-03-11T10:21:18.518Z"
   },
   {
    "duration": 19,
    "start_time": "2022-03-11T10:21:18.555Z"
   },
   {
    "duration": 35,
    "start_time": "2022-03-11T10:21:18.576Z"
   },
   {
    "duration": 30,
    "start_time": "2022-03-11T10:21:18.613Z"
   },
   {
    "duration": 22,
    "start_time": "2022-03-11T10:21:18.645Z"
   },
   {
    "duration": 8,
    "start_time": "2022-03-11T10:21:18.669Z"
   },
   {
    "duration": 35,
    "start_time": "2022-03-11T10:21:18.678Z"
   },
   {
    "duration": 20,
    "start_time": "2022-03-11T10:21:18.716Z"
   },
   {
    "duration": 29,
    "start_time": "2022-03-11T10:21:18.738Z"
   },
   {
    "duration": 40,
    "start_time": "2022-03-11T10:21:18.769Z"
   },
   {
    "duration": 114234,
    "start_time": "2022-03-11T10:21:18.812Z"
   },
   {
    "duration": 15,
    "start_time": "2022-03-11T10:23:13.048Z"
   },
   {
    "duration": 9,
    "start_time": "2022-03-11T10:23:13.066Z"
   },
   {
    "duration": 63,
    "start_time": "2022-03-11T10:23:13.077Z"
   },
   {
    "duration": 12,
    "start_time": "2022-03-11T10:23:13.142Z"
   },
   {
    "duration": 20,
    "start_time": "2022-03-11T10:23:13.156Z"
   },
   {
    "duration": 36,
    "start_time": "2022-03-11T10:23:13.178Z"
   },
   {
    "duration": 22,
    "start_time": "2022-03-11T10:23:13.217Z"
   },
   {
    "duration": 30,
    "start_time": "2022-03-11T10:23:13.242Z"
   },
   {
    "duration": 43,
    "start_time": "2022-03-11T10:23:13.274Z"
   },
   {
    "duration": 34,
    "start_time": "2022-03-11T10:23:13.320Z"
   },
   {
    "duration": 21,
    "start_time": "2022-03-11T10:23:13.355Z"
   },
   {
    "duration": 44,
    "start_time": "2022-03-11T10:23:13.378Z"
   },
   {
    "duration": 11,
    "start_time": "2022-03-11T10:23:13.425Z"
   },
   {
    "duration": 25,
    "start_time": "2022-03-11T10:23:13.438Z"
   },
   {
    "duration": 9,
    "start_time": "2022-03-11T10:23:13.465Z"
   },
   {
    "duration": 43,
    "start_time": "2022-03-11T10:23:13.476Z"
   },
   {
    "duration": 18,
    "start_time": "2022-03-11T10:23:13.521Z"
   },
   {
    "duration": 306,
    "start_time": "2022-03-11T10:23:13.541Z"
   },
   {
    "duration": 7,
    "start_time": "2022-03-11T10:23:13.849Z"
   },
   {
    "duration": 304,
    "start_time": "2022-03-11T10:23:13.858Z"
   },
   {
    "duration": 8,
    "start_time": "2022-03-11T10:23:14.163Z"
   },
   {
    "duration": 61,
    "start_time": "2022-03-11T10:23:14.172Z"
   },
   {
    "duration": 25,
    "start_time": "2022-03-11T10:23:14.234Z"
   },
   {
    "duration": 405,
    "start_time": "2022-03-11T10:24:02.418Z"
   },
   {
    "duration": 6303,
    "start_time": "2022-03-11T10:35:49.417Z"
   },
   {
    "duration": 720,
    "start_time": "2022-03-11T10:37:04.592Z"
   },
   {
    "duration": 49,
    "start_time": "2022-03-11T10:37:05.315Z"
   },
   {
    "duration": 14,
    "start_time": "2022-03-11T10:37:05.367Z"
   },
   {
    "duration": 43,
    "start_time": "2022-03-11T10:37:05.383Z"
   },
   {
    "duration": 8,
    "start_time": "2022-03-11T10:37:05.428Z"
   },
   {
    "duration": 14,
    "start_time": "2022-03-11T10:37:05.438Z"
   },
   {
    "duration": 36,
    "start_time": "2022-03-11T10:37:05.454Z"
   },
   {
    "duration": 7,
    "start_time": "2022-03-11T10:37:05.502Z"
   },
   {
    "duration": 33,
    "start_time": "2022-03-11T10:37:05.512Z"
   },
   {
    "duration": 13,
    "start_time": "2022-03-11T10:37:05.547Z"
   },
   {
    "duration": 12,
    "start_time": "2022-03-11T10:37:05.562Z"
   },
   {
    "duration": 14,
    "start_time": "2022-03-11T10:37:05.576Z"
   },
   {
    "duration": 8,
    "start_time": "2022-03-11T10:37:05.593Z"
   },
   {
    "duration": 19,
    "start_time": "2022-03-11T10:37:05.604Z"
   },
   {
    "duration": 17,
    "start_time": "2022-03-11T10:37:05.625Z"
   },
   {
    "duration": 287,
    "start_time": "2022-03-11T10:37:05.643Z"
   },
   {
    "duration": 14,
    "start_time": "2022-03-11T10:37:05.931Z"
   },
   {
    "duration": 36,
    "start_time": "2022-03-11T10:37:05.947Z"
   },
   {
    "duration": 21,
    "start_time": "2022-03-11T10:37:05.985Z"
   },
   {
    "duration": 27,
    "start_time": "2022-03-11T10:37:06.008Z"
   },
   {
    "duration": 22,
    "start_time": "2022-03-11T10:37:06.037Z"
   },
   {
    "duration": 5,
    "start_time": "2022-03-11T10:37:06.061Z"
   },
   {
    "duration": 9,
    "start_time": "2022-03-11T10:37:06.070Z"
   },
   {
    "duration": 12,
    "start_time": "2022-03-11T10:37:06.081Z"
   },
   {
    "duration": 20,
    "start_time": "2022-03-11T10:37:06.094Z"
   },
   {
    "duration": 29,
    "start_time": "2022-03-11T10:37:06.116Z"
   },
   {
    "duration": 38,
    "start_time": "2022-03-11T10:37:06.147Z"
   },
   {
    "duration": 60,
    "start_time": "2022-03-11T10:37:06.187Z"
   },
   {
    "duration": 57,
    "start_time": "2022-03-11T10:37:06.249Z"
   },
   {
    "duration": 15,
    "start_time": "2022-03-11T10:37:06.309Z"
   },
   {
    "duration": 18,
    "start_time": "2022-03-11T10:37:06.326Z"
   },
   {
    "duration": 23,
    "start_time": "2022-03-11T10:37:06.346Z"
   },
   {
    "duration": 32,
    "start_time": "2022-03-11T10:37:06.371Z"
   },
   {
    "duration": 15,
    "start_time": "2022-03-11T10:37:06.405Z"
   },
   {
    "duration": 313,
    "start_time": "2022-03-11T10:37:06.421Z"
   },
   {
    "duration": -33519,
    "start_time": "2022-03-11T10:37:40.255Z"
   },
   {
    "duration": -33525,
    "start_time": "2022-03-11T10:37:40.262Z"
   },
   {
    "duration": -33574,
    "start_time": "2022-03-11T10:37:40.311Z"
   },
   {
    "duration": -33584,
    "start_time": "2022-03-11T10:37:40.322Z"
   },
   {
    "duration": -33604,
    "start_time": "2022-03-11T10:37:40.343Z"
   },
   {
    "duration": -33609,
    "start_time": "2022-03-11T10:37:40.349Z"
   },
   {
    "duration": -33621,
    "start_time": "2022-03-11T10:37:40.362Z"
   },
   {
    "duration": -33630,
    "start_time": "2022-03-11T10:37:40.371Z"
   },
   {
    "duration": -33636,
    "start_time": "2022-03-11T10:37:40.378Z"
   },
   {
    "duration": -33783,
    "start_time": "2022-03-11T10:37:40.526Z"
   },
   {
    "duration": -33807,
    "start_time": "2022-03-11T10:37:40.551Z"
   },
   {
    "duration": -33815,
    "start_time": "2022-03-11T10:37:40.560Z"
   },
   {
    "duration": -33822,
    "start_time": "2022-03-11T10:37:40.568Z"
   },
   {
    "duration": -33829,
    "start_time": "2022-03-11T10:37:40.576Z"
   },
   {
    "duration": -33835,
    "start_time": "2022-03-11T10:37:40.583Z"
   },
   {
    "duration": -33843,
    "start_time": "2022-03-11T10:37:40.591Z"
   },
   {
    "duration": -33850,
    "start_time": "2022-03-11T10:37:40.599Z"
   },
   {
    "duration": -33861,
    "start_time": "2022-03-11T10:37:40.611Z"
   },
   {
    "duration": -33869,
    "start_time": "2022-03-11T10:37:40.620Z"
   },
   {
    "duration": -33875,
    "start_time": "2022-03-11T10:37:40.627Z"
   },
   {
    "duration": -33907,
    "start_time": "2022-03-11T10:37:40.660Z"
   },
   {
    "duration": -33924,
    "start_time": "2022-03-11T10:37:40.678Z"
   },
   {
    "duration": -34110,
    "start_time": "2022-03-11T10:37:40.864Z"
   },
   {
    "duration": 235,
    "start_time": "2022-03-11T10:47:57.611Z"
   },
   {
    "duration": 5954,
    "start_time": "2022-03-11T10:48:05.086Z"
   },
   {
    "duration": 5592,
    "start_time": "2022-03-11T10:48:11.690Z"
   },
   {
    "duration": 5498,
    "start_time": "2022-03-11T10:48:40.807Z"
   },
   {
    "duration": 5646,
    "start_time": "2022-03-11T10:49:02.985Z"
   },
   {
    "duration": 5636,
    "start_time": "2022-03-11T10:49:12.156Z"
   },
   {
    "duration": 649,
    "start_time": "2022-03-11T10:49:43.226Z"
   },
   {
    "duration": 60,
    "start_time": "2022-03-11T10:49:43.877Z"
   },
   {
    "duration": 12,
    "start_time": "2022-03-11T10:49:43.939Z"
   },
   {
    "duration": 33,
    "start_time": "2022-03-11T10:49:43.954Z"
   },
   {
    "duration": 5,
    "start_time": "2022-03-11T10:49:43.989Z"
   },
   {
    "duration": 12,
    "start_time": "2022-03-11T10:49:43.996Z"
   },
   {
    "duration": 37,
    "start_time": "2022-03-11T10:49:44.010Z"
   },
   {
    "duration": 4,
    "start_time": "2022-03-11T10:49:44.050Z"
   },
   {
    "duration": 12,
    "start_time": "2022-03-11T10:49:44.057Z"
   },
   {
    "duration": 13,
    "start_time": "2022-03-11T10:49:44.071Z"
   },
   {
    "duration": 16,
    "start_time": "2022-03-11T10:49:44.086Z"
   },
   {
    "duration": 15,
    "start_time": "2022-03-11T10:49:44.105Z"
   },
   {
    "duration": 6,
    "start_time": "2022-03-11T10:49:44.122Z"
   },
   {
    "duration": 10,
    "start_time": "2022-03-11T10:49:44.130Z"
   },
   {
    "duration": 8,
    "start_time": "2022-03-11T10:49:44.143Z"
   },
   {
    "duration": 298,
    "start_time": "2022-03-11T10:49:44.153Z"
   },
   {
    "duration": 4,
    "start_time": "2022-03-11T10:49:44.453Z"
   },
   {
    "duration": 23,
    "start_time": "2022-03-11T10:49:44.459Z"
   },
   {
    "duration": 33,
    "start_time": "2022-03-11T10:49:44.484Z"
   },
   {
    "duration": 13,
    "start_time": "2022-03-11T10:49:44.519Z"
   },
   {
    "duration": 10,
    "start_time": "2022-03-11T10:49:44.533Z"
   },
   {
    "duration": 16,
    "start_time": "2022-03-11T10:49:44.544Z"
   },
   {
    "duration": 5,
    "start_time": "2022-03-11T10:49:44.564Z"
   },
   {
    "duration": 36,
    "start_time": "2022-03-11T10:49:44.571Z"
   },
   {
    "duration": 16,
    "start_time": "2022-03-11T10:49:44.609Z"
   },
   {
    "duration": 15,
    "start_time": "2022-03-11T10:49:44.627Z"
   },
   {
    "duration": 17,
    "start_time": "2022-03-11T10:49:44.644Z"
   },
   {
    "duration": 50,
    "start_time": "2022-03-11T10:49:44.664Z"
   },
   {
    "duration": 22,
    "start_time": "2022-03-11T10:49:44.717Z"
   },
   {
    "duration": 22,
    "start_time": "2022-03-11T10:49:44.741Z"
   },
   {
    "duration": 8,
    "start_time": "2022-03-11T10:49:44.765Z"
   },
   {
    "duration": 8,
    "start_time": "2022-03-11T10:49:44.802Z"
   },
   {
    "duration": 19,
    "start_time": "2022-03-11T10:49:44.813Z"
   },
   {
    "duration": 30,
    "start_time": "2022-03-11T10:49:44.834Z"
   },
   {
    "duration": 12,
    "start_time": "2022-03-11T10:49:44.866Z"
   },
   {
    "duration": 4,
    "start_time": "2022-03-11T10:49:44.902Z"
   },
   {
    "duration": 27,
    "start_time": "2022-03-11T10:49:44.907Z"
   },
   {
    "duration": 7,
    "start_time": "2022-03-11T10:49:44.937Z"
   },
   {
    "duration": 36,
    "start_time": "2022-03-11T10:49:44.947Z"
   },
   {
    "duration": 18,
    "start_time": "2022-03-11T10:49:45.003Z"
   },
   {
    "duration": 40,
    "start_time": "2022-03-11T10:49:45.025Z"
   },
   {
    "duration": 18,
    "start_time": "2022-03-11T10:49:45.068Z"
   },
   {
    "duration": 22,
    "start_time": "2022-03-11T10:49:45.089Z"
   },
   {
    "duration": 31,
    "start_time": "2022-03-11T10:49:45.114Z"
   },
   {
    "duration": 18,
    "start_time": "2022-03-11T10:49:45.147Z"
   },
   {
    "duration": 55,
    "start_time": "2022-03-11T10:49:45.167Z"
   },
   {
    "duration": 21,
    "start_time": "2022-03-11T10:49:45.224Z"
   },
   {
    "duration": 17,
    "start_time": "2022-03-11T10:49:45.247Z"
   },
   {
    "duration": 36,
    "start_time": "2022-03-11T10:49:45.267Z"
   },
   {
    "duration": 14,
    "start_time": "2022-03-11T10:49:45.306Z"
   },
   {
    "duration": 10,
    "start_time": "2022-03-11T10:49:45.322Z"
   },
   {
    "duration": 14,
    "start_time": "2022-03-11T10:49:45.335Z"
   },
   {
    "duration": 15,
    "start_time": "2022-03-11T10:49:45.351Z"
   },
   {
    "duration": 287,
    "start_time": "2022-03-11T10:49:45.401Z"
   },
   {
    "duration": 15,
    "start_time": "2022-03-11T10:49:45.690Z"
   },
   {
    "duration": 299,
    "start_time": "2022-03-11T10:49:45.707Z"
   },
   {
    "duration": 10,
    "start_time": "2022-03-11T10:49:46.009Z"
   },
   {
    "duration": 53,
    "start_time": "2022-03-11T10:49:46.022Z"
   },
   {
    "duration": 28,
    "start_time": "2022-03-11T10:49:46.101Z"
   },
   {
    "duration": 5,
    "start_time": "2022-03-11T10:50:42.059Z"
   },
   {
    "duration": 4,
    "start_time": "2022-03-11T10:51:16.034Z"
   },
   {
    "duration": 5,
    "start_time": "2022-03-11T10:51:28.641Z"
   },
   {
    "duration": 76,
    "start_time": "2022-03-11T10:55:40.322Z"
   },
   {
    "duration": 4,
    "start_time": "2022-03-11T10:55:49.374Z"
   },
   {
    "duration": 6,
    "start_time": "2022-03-11T10:56:19.916Z"
   },
   {
    "duration": 83,
    "start_time": "2022-03-11T10:56:46.556Z"
   },
   {
    "duration": 306,
    "start_time": "2022-03-11T10:57:03.330Z"
   },
   {
    "duration": 18,
    "start_time": "2022-03-11T10:57:38.051Z"
   },
   {
    "duration": 721,
    "start_time": "2022-03-11T11:06:04.164Z"
   },
   {
    "duration": 55,
    "start_time": "2022-03-11T11:06:04.887Z"
   },
   {
    "duration": 12,
    "start_time": "2022-03-11T11:06:04.945Z"
   },
   {
    "duration": 23,
    "start_time": "2022-03-11T11:06:04.959Z"
   },
   {
    "duration": 20,
    "start_time": "2022-03-11T11:06:04.983Z"
   },
   {
    "duration": 35,
    "start_time": "2022-03-11T11:06:05.006Z"
   },
   {
    "duration": 35,
    "start_time": "2022-03-11T11:06:05.043Z"
   },
   {
    "duration": 8,
    "start_time": "2022-03-11T11:06:05.082Z"
   },
   {
    "duration": 23,
    "start_time": "2022-03-11T11:06:05.093Z"
   },
   {
    "duration": 19,
    "start_time": "2022-03-11T11:06:05.118Z"
   },
   {
    "duration": 21,
    "start_time": "2022-03-11T11:06:05.139Z"
   },
   {
    "duration": 21,
    "start_time": "2022-03-11T11:06:05.162Z"
   },
   {
    "duration": 15,
    "start_time": "2022-03-11T11:06:05.185Z"
   },
   {
    "duration": 37,
    "start_time": "2022-03-11T11:06:05.203Z"
   },
   {
    "duration": 21,
    "start_time": "2022-03-11T11:06:05.242Z"
   },
   {
    "duration": 30,
    "start_time": "2022-03-11T11:06:05.265Z"
   },
   {
    "duration": 299,
    "start_time": "2022-03-11T11:06:05.296Z"
   },
   {
    "duration": 6,
    "start_time": "2022-03-11T11:06:05.601Z"
   },
   {
    "duration": 37,
    "start_time": "2022-03-11T11:06:05.609Z"
   },
   {
    "duration": 13,
    "start_time": "2022-03-11T11:06:05.648Z"
   },
   {
    "duration": 17,
    "start_time": "2022-03-11T11:06:05.664Z"
   },
   {
    "duration": 17,
    "start_time": "2022-03-11T11:06:05.683Z"
   },
   {
    "duration": 24,
    "start_time": "2022-03-11T11:06:05.705Z"
   },
   {
    "duration": 17,
    "start_time": "2022-03-11T11:06:05.732Z"
   },
   {
    "duration": 8,
    "start_time": "2022-03-11T11:06:05.751Z"
   },
   {
    "duration": 20,
    "start_time": "2022-03-11T11:06:05.761Z"
   },
   {
    "duration": 22,
    "start_time": "2022-03-11T11:06:05.801Z"
   },
   {
    "duration": 9,
    "start_time": "2022-03-11T11:06:05.825Z"
   },
   {
    "duration": 11,
    "start_time": "2022-03-11T11:06:05.836Z"
   },
   {
    "duration": 20,
    "start_time": "2022-03-11T11:06:05.849Z"
   },
   {
    "duration": 78,
    "start_time": "2022-03-11T11:06:05.872Z"
   },
   {
    "duration": 29,
    "start_time": "2022-03-11T11:06:05.953Z"
   },
   {
    "duration": 30,
    "start_time": "2022-03-11T11:06:05.984Z"
   },
   {
    "duration": 25,
    "start_time": "2022-03-11T11:06:06.016Z"
   },
   {
    "duration": 28,
    "start_time": "2022-03-11T11:06:06.043Z"
   },
   {
    "duration": 30,
    "start_time": "2022-03-11T11:06:06.073Z"
   },
   {
    "duration": 7,
    "start_time": "2022-03-11T11:06:06.105Z"
   },
   {
    "duration": 23,
    "start_time": "2022-03-11T11:06:06.114Z"
   },
   {
    "duration": 37,
    "start_time": "2022-03-11T11:06:06.140Z"
   },
   {
    "duration": 30,
    "start_time": "2022-03-11T11:06:06.179Z"
   },
   {
    "duration": 8,
    "start_time": "2022-03-11T11:06:06.212Z"
   },
   {
    "duration": 29,
    "start_time": "2022-03-11T11:06:06.221Z"
   },
   {
    "duration": 8,
    "start_time": "2022-03-11T11:06:06.252Z"
   },
   {
    "duration": 51,
    "start_time": "2022-03-11T11:06:06.262Z"
   },
   {
    "duration": 13,
    "start_time": "2022-03-11T11:06:06.315Z"
   },
   {
    "duration": 21,
    "start_time": "2022-03-11T11:06:06.330Z"
   },
   {
    "duration": 36,
    "start_time": "2022-03-11T11:06:06.354Z"
   },
   {
    "duration": 28,
    "start_time": "2022-03-11T11:06:06.393Z"
   },
   {
    "duration": 39,
    "start_time": "2022-03-11T11:06:06.423Z"
   },
   {
    "duration": 37,
    "start_time": "2022-03-11T11:06:06.465Z"
   },
   {
    "duration": 29,
    "start_time": "2022-03-11T11:06:06.505Z"
   },
   {
    "duration": 18,
    "start_time": "2022-03-11T11:06:06.536Z"
   },
   {
    "duration": 19,
    "start_time": "2022-03-11T11:06:06.556Z"
   },
   {
    "duration": 12,
    "start_time": "2022-03-11T11:06:06.601Z"
   },
   {
    "duration": 18,
    "start_time": "2022-03-11T11:06:06.615Z"
   },
   {
    "duration": 8,
    "start_time": "2022-03-11T11:06:06.635Z"
   },
   {
    "duration": 13,
    "start_time": "2022-03-11T11:06:06.645Z"
   },
   {
    "duration": 43,
    "start_time": "2022-03-11T11:06:06.660Z"
   },
   {
    "duration": 278,
    "start_time": "2022-03-11T11:06:06.706Z"
   },
   {
    "duration": 17,
    "start_time": "2022-03-11T11:06:06.986Z"
   },
   {
    "duration": 284,
    "start_time": "2022-03-11T11:06:07.005Z"
   },
   {
    "duration": 14,
    "start_time": "2022-03-11T11:06:07.291Z"
   },
   {
    "duration": 44,
    "start_time": "2022-03-11T11:06:07.308Z"
   },
   {
    "duration": 24,
    "start_time": "2022-03-11T11:06:07.354Z"
   },
   {
    "duration": 4,
    "start_time": "2022-03-11T11:10:36.666Z"
   },
   {
    "duration": 7054,
    "start_time": "2022-03-11T11:12:25.719Z"
   },
   {
    "duration": 6502,
    "start_time": "2022-03-11T11:13:06.151Z"
   },
   {
    "duration": 4,
    "start_time": "2022-03-11T11:14:17.061Z"
   },
   {
    "duration": 650,
    "start_time": "2022-03-11T11:14:28.635Z"
   },
   {
    "duration": 54,
    "start_time": "2022-03-11T11:14:29.288Z"
   },
   {
    "duration": 13,
    "start_time": "2022-03-11T11:14:29.345Z"
   },
   {
    "duration": 41,
    "start_time": "2022-03-11T11:14:29.360Z"
   },
   {
    "duration": 7,
    "start_time": "2022-03-11T11:14:29.404Z"
   },
   {
    "duration": 18,
    "start_time": "2022-03-11T11:14:29.413Z"
   },
   {
    "duration": 35,
    "start_time": "2022-03-11T11:14:29.433Z"
   },
   {
    "duration": 5,
    "start_time": "2022-03-11T11:14:29.471Z"
   },
   {
    "duration": 22,
    "start_time": "2022-03-11T11:14:29.479Z"
   },
   {
    "duration": 5,
    "start_time": "2022-03-11T11:14:29.506Z"
   },
   {
    "duration": 24,
    "start_time": "2022-03-11T11:14:29.513Z"
   },
   {
    "duration": 15,
    "start_time": "2022-03-11T11:14:29.540Z"
   },
   {
    "duration": 19,
    "start_time": "2022-03-11T11:14:29.558Z"
   },
   {
    "duration": 21,
    "start_time": "2022-03-11T11:14:29.579Z"
   },
   {
    "duration": 22,
    "start_time": "2022-03-11T11:14:29.602Z"
   },
   {
    "duration": 6,
    "start_time": "2022-03-11T11:14:29.626Z"
   },
   {
    "duration": 6,
    "start_time": "2022-03-11T11:14:29.634Z"
   },
   {
    "duration": 431,
    "start_time": "2022-03-11T11:14:29.642Z"
   },
   {
    "duration": 5,
    "start_time": "2022-03-11T11:14:30.075Z"
   },
   {
    "duration": 22,
    "start_time": "2022-03-11T11:14:30.082Z"
   },
   {
    "duration": 16,
    "start_time": "2022-03-11T11:14:30.106Z"
   },
   {
    "duration": 22,
    "start_time": "2022-03-11T11:14:30.125Z"
   },
   {
    "duration": 22,
    "start_time": "2022-03-11T11:14:30.152Z"
   },
   {
    "duration": 16,
    "start_time": "2022-03-11T11:14:30.178Z"
   },
   {
    "duration": 22,
    "start_time": "2022-03-11T11:14:30.197Z"
   },
   {
    "duration": 21,
    "start_time": "2022-03-11T11:14:30.221Z"
   },
   {
    "duration": 52,
    "start_time": "2022-03-11T11:14:30.244Z"
   },
   {
    "duration": 68,
    "start_time": "2022-03-11T11:14:30.298Z"
   },
   {
    "duration": 22,
    "start_time": "2022-03-11T11:14:30.369Z"
   },
   {
    "duration": 27,
    "start_time": "2022-03-11T11:14:30.393Z"
   },
   {
    "duration": 15,
    "start_time": "2022-03-11T11:14:30.422Z"
   },
   {
    "duration": 13,
    "start_time": "2022-03-11T11:14:30.439Z"
   },
   {
    "duration": 23,
    "start_time": "2022-03-11T11:14:30.454Z"
   },
   {
    "duration": 36,
    "start_time": "2022-03-11T11:14:30.479Z"
   },
   {
    "duration": 25,
    "start_time": "2022-03-11T11:14:30.517Z"
   },
   {
    "duration": 25,
    "start_time": "2022-03-11T11:14:30.544Z"
   },
   {
    "duration": 33,
    "start_time": "2022-03-11T11:14:30.571Z"
   },
   {
    "duration": 7,
    "start_time": "2022-03-11T11:14:30.607Z"
   },
   {
    "duration": 25,
    "start_time": "2022-03-11T11:14:30.616Z"
   },
   {
    "duration": 31,
    "start_time": "2022-03-11T11:14:30.643Z"
   },
   {
    "duration": 31,
    "start_time": "2022-03-11T11:14:30.677Z"
   },
   {
    "duration": 13,
    "start_time": "2022-03-11T11:14:30.711Z"
   },
   {
    "duration": 23,
    "start_time": "2022-03-11T11:14:30.726Z"
   },
   {
    "duration": 10,
    "start_time": "2022-03-11T11:14:30.751Z"
   },
   {
    "duration": 63,
    "start_time": "2022-03-11T11:14:30.763Z"
   },
   {
    "duration": 16,
    "start_time": "2022-03-11T11:14:30.828Z"
   },
   {
    "duration": 15,
    "start_time": "2022-03-11T11:14:30.846Z"
   },
   {
    "duration": 46,
    "start_time": "2022-03-11T11:14:30.863Z"
   },
   {
    "duration": 18,
    "start_time": "2022-03-11T11:14:30.912Z"
   },
   {
    "duration": 37,
    "start_time": "2022-03-11T11:14:30.933Z"
   },
   {
    "duration": 33,
    "start_time": "2022-03-11T11:14:30.972Z"
   },
   {
    "duration": 33,
    "start_time": "2022-03-11T11:14:31.008Z"
   },
   {
    "duration": 28,
    "start_time": "2022-03-11T11:14:31.044Z"
   },
   {
    "duration": 39,
    "start_time": "2022-03-11T11:14:31.074Z"
   },
   {
    "duration": 14,
    "start_time": "2022-03-11T11:14:31.115Z"
   },
   {
    "duration": 24,
    "start_time": "2022-03-11T11:14:31.131Z"
   },
   {
    "duration": 10,
    "start_time": "2022-03-11T11:14:31.157Z"
   },
   {
    "duration": 39,
    "start_time": "2022-03-11T11:14:31.169Z"
   },
   {
    "duration": 30,
    "start_time": "2022-03-11T11:14:31.210Z"
   },
   {
    "duration": 290,
    "start_time": "2022-03-11T11:14:31.242Z"
   },
   {
    "duration": 8,
    "start_time": "2022-03-11T11:14:31.534Z"
   },
   {
    "duration": 303,
    "start_time": "2022-03-11T11:14:31.544Z"
   },
   {
    "duration": 9,
    "start_time": "2022-03-11T11:14:31.849Z"
   },
   {
    "duration": 56,
    "start_time": "2022-03-11T11:14:31.860Z"
   },
   {
    "duration": 23,
    "start_time": "2022-03-11T11:14:31.920Z"
   },
   {
    "duration": 4,
    "start_time": "2022-03-11T11:18:23.261Z"
   },
   {
    "duration": 3,
    "start_time": "2022-03-11T11:18:26.771Z"
   },
   {
    "duration": 7031,
    "start_time": "2022-03-11T11:18:38.137Z"
   },
   {
    "duration": 645,
    "start_time": "2022-03-11T11:18:57.961Z"
   },
   {
    "duration": 61,
    "start_time": "2022-03-11T11:18:58.609Z"
   },
   {
    "duration": 13,
    "start_time": "2022-03-11T11:18:58.673Z"
   },
   {
    "duration": 37,
    "start_time": "2022-03-11T11:18:58.688Z"
   },
   {
    "duration": 16,
    "start_time": "2022-03-11T11:18:58.727Z"
   },
   {
    "duration": 13,
    "start_time": "2022-03-11T11:18:58.745Z"
   },
   {
    "duration": 46,
    "start_time": "2022-03-11T11:18:58.760Z"
   },
   {
    "duration": 6,
    "start_time": "2022-03-11T11:18:58.809Z"
   },
   {
    "duration": 26,
    "start_time": "2022-03-11T11:18:58.818Z"
   },
   {
    "duration": 15,
    "start_time": "2022-03-11T11:18:58.846Z"
   },
   {
    "duration": 11,
    "start_time": "2022-03-11T11:18:58.863Z"
   },
   {
    "duration": 11,
    "start_time": "2022-03-11T11:18:58.876Z"
   },
   {
    "duration": 15,
    "start_time": "2022-03-11T11:18:58.889Z"
   },
   {
    "duration": 22,
    "start_time": "2022-03-11T11:18:58.907Z"
   },
   {
    "duration": 16,
    "start_time": "2022-03-11T11:18:58.931Z"
   },
   {
    "duration": 23,
    "start_time": "2022-03-11T11:18:58.950Z"
   },
   {
    "duration": 14,
    "start_time": "2022-03-11T11:18:58.976Z"
   },
   {
    "duration": 26,
    "start_time": "2022-03-11T11:18:58.992Z"
   },
   {
    "duration": 299,
    "start_time": "2022-03-11T11:18:59.020Z"
   },
   {
    "duration": 5,
    "start_time": "2022-03-11T11:18:59.321Z"
   },
   {
    "duration": 22,
    "start_time": "2022-03-11T11:18:59.328Z"
   },
   {
    "duration": 8,
    "start_time": "2022-03-11T11:18:59.353Z"
   },
   {
    "duration": 6,
    "start_time": "2022-03-11T11:18:59.367Z"
   },
   {
    "duration": 28,
    "start_time": "2022-03-11T11:18:59.376Z"
   },
   {
    "duration": 37,
    "start_time": "2022-03-11T11:18:59.407Z"
   },
   {
    "duration": 21,
    "start_time": "2022-03-11T11:18:59.446Z"
   },
   {
    "duration": 7,
    "start_time": "2022-03-11T11:18:59.469Z"
   },
   {
    "duration": 24,
    "start_time": "2022-03-11T11:18:59.478Z"
   },
   {
    "duration": 23,
    "start_time": "2022-03-11T11:18:59.505Z"
   },
   {
    "duration": 5,
    "start_time": "2022-03-11T11:18:59.530Z"
   },
   {
    "duration": 84,
    "start_time": "2022-03-11T11:18:59.537Z"
   },
   {
    "duration": 49,
    "start_time": "2022-03-11T11:18:59.623Z"
   },
   {
    "duration": 16,
    "start_time": "2022-03-11T11:18:59.674Z"
   },
   {
    "duration": 42,
    "start_time": "2022-03-11T11:18:59.693Z"
   },
   {
    "duration": 27,
    "start_time": "2022-03-11T11:18:59.737Z"
   },
   {
    "duration": 24,
    "start_time": "2022-03-11T11:18:59.766Z"
   },
   {
    "duration": 34,
    "start_time": "2022-03-11T11:18:59.792Z"
   },
   {
    "duration": 7,
    "start_time": "2022-03-11T11:18:59.828Z"
   },
   {
    "duration": 6,
    "start_time": "2022-03-11T11:18:59.836Z"
   },
   {
    "duration": 16,
    "start_time": "2022-03-11T11:18:59.844Z"
   },
   {
    "duration": 64,
    "start_time": "2022-03-11T11:18:59.862Z"
   },
   {
    "duration": 11,
    "start_time": "2022-03-11T11:18:59.928Z"
   },
   {
    "duration": 3,
    "start_time": "2022-03-11T11:18:59.941Z"
   },
   {
    "duration": 17,
    "start_time": "2022-03-11T11:18:59.946Z"
   },
   {
    "duration": 14,
    "start_time": "2022-03-11T11:18:59.965Z"
   },
   {
    "duration": 47,
    "start_time": "2022-03-11T11:19:00.002Z"
   },
   {
    "duration": 18,
    "start_time": "2022-03-11T11:19:00.051Z"
   },
   {
    "duration": 42,
    "start_time": "2022-03-11T11:19:00.072Z"
   },
   {
    "duration": 19,
    "start_time": "2022-03-11T11:19:00.116Z"
   },
   {
    "duration": 30,
    "start_time": "2022-03-11T11:19:00.137Z"
   },
   {
    "duration": 46,
    "start_time": "2022-03-11T11:19:00.169Z"
   },
   {
    "duration": 38,
    "start_time": "2022-03-11T11:19:00.217Z"
   },
   {
    "duration": 50,
    "start_time": "2022-03-11T11:19:00.257Z"
   },
   {
    "duration": 27,
    "start_time": "2022-03-11T11:19:00.310Z"
   },
   {
    "duration": 52,
    "start_time": "2022-03-11T11:19:00.339Z"
   },
   {
    "duration": 23,
    "start_time": "2022-03-11T11:19:00.393Z"
   },
   {
    "duration": 28,
    "start_time": "2022-03-11T11:19:00.418Z"
   },
   {
    "duration": 20,
    "start_time": "2022-03-11T11:19:00.449Z"
   },
   {
    "duration": 43,
    "start_time": "2022-03-11T11:19:00.471Z"
   },
   {
    "duration": 39,
    "start_time": "2022-03-11T11:19:00.517Z"
   },
   {
    "duration": 297,
    "start_time": "2022-03-11T11:19:00.558Z"
   },
   {
    "duration": 10,
    "start_time": "2022-03-11T11:19:00.858Z"
   },
   {
    "duration": 321,
    "start_time": "2022-03-11T11:19:00.870Z"
   },
   {
    "duration": 15,
    "start_time": "2022-03-11T11:19:01.193Z"
   },
   {
    "duration": 50,
    "start_time": "2022-03-11T11:19:01.211Z"
   },
   {
    "duration": 39,
    "start_time": "2022-03-11T11:19:01.262Z"
   },
   {
    "duration": 274,
    "start_time": "2022-03-11T14:06:53.593Z"
   },
   {
    "duration": 625,
    "start_time": "2022-03-11T14:07:01.756Z"
   },
   {
    "duration": 47,
    "start_time": "2022-03-11T14:07:02.383Z"
   },
   {
    "duration": 12,
    "start_time": "2022-03-11T14:07:02.432Z"
   },
   {
    "duration": 31,
    "start_time": "2022-03-11T14:07:02.446Z"
   },
   {
    "duration": 5,
    "start_time": "2022-03-11T14:07:02.478Z"
   },
   {
    "duration": 5,
    "start_time": "2022-03-11T14:07:02.485Z"
   },
   {
    "duration": 36,
    "start_time": "2022-03-11T14:07:02.492Z"
   },
   {
    "duration": 4,
    "start_time": "2022-03-11T14:07:02.530Z"
   },
   {
    "duration": 26,
    "start_time": "2022-03-11T14:07:02.536Z"
   },
   {
    "duration": 5,
    "start_time": "2022-03-11T14:07:02.563Z"
   },
   {
    "duration": 8,
    "start_time": "2022-03-11T14:07:02.569Z"
   },
   {
    "duration": 4,
    "start_time": "2022-03-11T14:07:02.578Z"
   },
   {
    "duration": 8,
    "start_time": "2022-03-11T14:07:02.584Z"
   },
   {
    "duration": 15,
    "start_time": "2022-03-11T14:07:02.593Z"
   },
   {
    "duration": 6,
    "start_time": "2022-03-11T14:07:02.610Z"
   },
   {
    "duration": 43,
    "start_time": "2022-03-11T14:07:02.618Z"
   },
   {
    "duration": 3,
    "start_time": "2022-03-11T14:07:02.662Z"
   },
   {
    "duration": 7,
    "start_time": "2022-03-11T14:07:02.667Z"
   },
   {
    "duration": 274,
    "start_time": "2022-03-11T14:07:02.676Z"
   },
   {
    "duration": 7,
    "start_time": "2022-03-11T14:07:02.952Z"
   },
   {
    "duration": 4,
    "start_time": "2022-03-11T14:07:02.961Z"
   },
   {
    "duration": 4,
    "start_time": "2022-03-11T14:07:02.967Z"
   },
   {
    "duration": 4,
    "start_time": "2022-03-11T14:07:02.976Z"
   },
   {
    "duration": 10,
    "start_time": "2022-03-11T14:07:02.982Z"
   },
   {
    "duration": 15,
    "start_time": "2022-03-11T14:07:02.994Z"
   },
   {
    "duration": 56,
    "start_time": "2022-03-11T14:07:03.011Z"
   },
   {
    "duration": 5,
    "start_time": "2022-03-11T14:07:03.069Z"
   },
   {
    "duration": 8,
    "start_time": "2022-03-11T14:07:03.076Z"
   },
   {
    "duration": 14,
    "start_time": "2022-03-11T14:07:03.086Z"
   },
   {
    "duration": 6,
    "start_time": "2022-03-11T14:07:03.102Z"
   },
   {
    "duration": 8,
    "start_time": "2022-03-11T14:07:03.109Z"
   },
   {
    "duration": 6,
    "start_time": "2022-03-11T14:07:03.119Z"
   },
   {
    "duration": 38,
    "start_time": "2022-03-11T14:07:03.126Z"
   },
   {
    "duration": 16,
    "start_time": "2022-03-11T14:07:03.165Z"
   },
   {
    "duration": 22,
    "start_time": "2022-03-11T14:07:03.182Z"
   },
   {
    "duration": 57,
    "start_time": "2022-03-11T14:07:03.206Z"
   },
   {
    "duration": 22,
    "start_time": "2022-03-11T14:07:03.265Z"
   },
   {
    "duration": 6,
    "start_time": "2022-03-11T14:07:03.289Z"
   },
   {
    "duration": 5,
    "start_time": "2022-03-11T14:07:03.297Z"
   },
   {
    "duration": 13,
    "start_time": "2022-03-11T14:07:03.304Z"
   },
   {
    "duration": 63,
    "start_time": "2022-03-11T14:07:03.319Z"
   },
   {
    "duration": 11,
    "start_time": "2022-03-11T14:07:03.384Z"
   },
   {
    "duration": 2,
    "start_time": "2022-03-11T14:07:03.397Z"
   },
   {
    "duration": 17,
    "start_time": "2022-03-11T14:07:03.401Z"
   },
   {
    "duration": 6,
    "start_time": "2022-03-11T14:07:03.420Z"
   },
   {
    "duration": 57,
    "start_time": "2022-03-11T14:07:03.428Z"
   },
   {
    "duration": 10,
    "start_time": "2022-03-11T14:07:03.487Z"
   },
   {
    "duration": 12,
    "start_time": "2022-03-11T14:07:03.499Z"
   },
   {
    "duration": 16,
    "start_time": "2022-03-11T14:07:03.512Z"
   },
   {
    "duration": 11,
    "start_time": "2022-03-11T14:07:03.560Z"
   },
   {
    "duration": 28,
    "start_time": "2022-03-11T14:07:03.573Z"
   },
   {
    "duration": 19,
    "start_time": "2022-03-11T14:07:03.603Z"
   },
   {
    "duration": 44,
    "start_time": "2022-03-11T14:07:03.624Z"
   },
   {
    "duration": 18,
    "start_time": "2022-03-11T14:07:03.670Z"
   },
   {
    "duration": 16,
    "start_time": "2022-03-11T14:07:03.690Z"
   },
   {
    "duration": 8,
    "start_time": "2022-03-11T14:07:03.708Z"
   },
   {
    "duration": 12,
    "start_time": "2022-03-11T14:07:03.718Z"
   },
   {
    "duration": 34,
    "start_time": "2022-03-11T14:07:03.731Z"
   },
   {
    "duration": 10,
    "start_time": "2022-03-11T14:07:03.767Z"
   },
   {
    "duration": 18,
    "start_time": "2022-03-11T14:07:03.778Z"
   },
   {
    "duration": 266,
    "start_time": "2022-03-11T14:07:03.797Z"
   },
   {
    "duration": 7,
    "start_time": "2022-03-11T14:07:04.065Z"
   },
   {
    "duration": 269,
    "start_time": "2022-03-11T14:07:04.074Z"
   },
   {
    "duration": 14,
    "start_time": "2022-03-11T14:07:04.345Z"
   },
   {
    "duration": 32,
    "start_time": "2022-03-11T14:07:04.361Z"
   },
   {
    "duration": 21,
    "start_time": "2022-03-11T14:07:04.395Z"
   },
   {
    "duration": 23,
    "start_time": "2022-03-11T14:13:11.039Z"
   },
   {
    "duration": 10,
    "start_time": "2022-03-11T14:13:58.202Z"
   },
   {
    "duration": 11,
    "start_time": "2022-03-11T14:14:20.268Z"
   },
   {
    "duration": 614,
    "start_time": "2022-03-11T14:14:45.443Z"
   },
   {
    "duration": 47,
    "start_time": "2022-03-11T14:14:46.058Z"
   },
   {
    "duration": 12,
    "start_time": "2022-03-11T14:14:46.108Z"
   },
   {
    "duration": 38,
    "start_time": "2022-03-11T14:14:46.122Z"
   },
   {
    "duration": 7,
    "start_time": "2022-03-11T14:14:46.162Z"
   },
   {
    "duration": 5,
    "start_time": "2022-03-11T14:14:46.171Z"
   },
   {
    "duration": 23,
    "start_time": "2022-03-11T14:14:46.178Z"
   },
   {
    "duration": 5,
    "start_time": "2022-03-11T14:14:46.203Z"
   },
   {
    "duration": 7,
    "start_time": "2022-03-11T14:14:46.211Z"
   },
   {
    "duration": 4,
    "start_time": "2022-03-11T14:14:46.260Z"
   },
   {
    "duration": 14,
    "start_time": "2022-03-11T14:14:46.266Z"
   },
   {
    "duration": 11,
    "start_time": "2022-03-11T14:14:46.282Z"
   },
   {
    "duration": 5,
    "start_time": "2022-03-11T14:14:46.295Z"
   },
   {
    "duration": 8,
    "start_time": "2022-03-11T14:14:46.302Z"
   },
   {
    "duration": 7,
    "start_time": "2022-03-11T14:14:46.312Z"
   },
   {
    "duration": 5,
    "start_time": "2022-03-11T14:14:46.321Z"
   },
   {
    "duration": 4,
    "start_time": "2022-03-11T14:14:46.327Z"
   },
   {
    "duration": 4,
    "start_time": "2022-03-11T14:14:46.360Z"
   },
   {
    "duration": 12,
    "start_time": "2022-03-11T14:14:46.365Z"
   },
   {
    "duration": 273,
    "start_time": "2022-03-11T14:14:46.379Z"
   },
   {
    "duration": 27,
    "start_time": "2022-03-11T14:14:46.653Z"
   },
   {
    "duration": 4,
    "start_time": "2022-03-11T14:14:46.682Z"
   },
   {
    "duration": 4,
    "start_time": "2022-03-11T14:14:46.688Z"
   },
   {
    "duration": 4,
    "start_time": "2022-03-11T14:14:46.694Z"
   },
   {
    "duration": 7,
    "start_time": "2022-03-11T14:14:46.700Z"
   },
   {
    "duration": 13,
    "start_time": "2022-03-11T14:14:46.709Z"
   },
   {
    "duration": 44,
    "start_time": "2022-03-11T14:14:46.726Z"
   },
   {
    "duration": 14,
    "start_time": "2022-03-11T14:14:46.772Z"
   },
   {
    "duration": 6,
    "start_time": "2022-03-11T14:14:46.788Z"
   },
   {
    "duration": 7,
    "start_time": "2022-03-11T14:14:46.795Z"
   },
   {
    "duration": 15,
    "start_time": "2022-03-11T14:14:46.804Z"
   },
   {
    "duration": 41,
    "start_time": "2022-03-11T14:14:46.821Z"
   },
   {
    "duration": 5,
    "start_time": "2022-03-11T14:14:46.864Z"
   },
   {
    "duration": 5,
    "start_time": "2022-03-11T14:14:46.871Z"
   },
   {
    "duration": 7,
    "start_time": "2022-03-11T14:14:46.878Z"
   },
   {
    "duration": 17,
    "start_time": "2022-03-11T14:14:46.886Z"
   },
   {
    "duration": 68,
    "start_time": "2022-03-11T14:14:46.904Z"
   },
   {
    "duration": 20,
    "start_time": "2022-03-11T14:14:46.974Z"
   },
   {
    "duration": 20,
    "start_time": "2022-03-11T14:14:46.996Z"
   },
   {
    "duration": 6,
    "start_time": "2022-03-11T14:14:47.018Z"
   },
   {
    "duration": 5,
    "start_time": "2022-03-11T14:14:47.059Z"
   },
   {
    "duration": 16,
    "start_time": "2022-03-11T14:14:47.066Z"
   },
   {
    "duration": 27,
    "start_time": "2022-03-11T14:14:47.083Z"
   },
   {
    "duration": 11,
    "start_time": "2022-03-11T14:14:47.112Z"
   },
   {
    "duration": 2,
    "start_time": "2022-03-11T14:14:47.125Z"
   },
   {
    "duration": 44,
    "start_time": "2022-03-11T14:14:47.128Z"
   },
   {
    "duration": 7,
    "start_time": "2022-03-11T14:14:47.173Z"
   },
   {
    "duration": 38,
    "start_time": "2022-03-11T14:14:47.182Z"
   },
   {
    "duration": 45,
    "start_time": "2022-03-11T14:14:47.222Z"
   },
   {
    "duration": 19,
    "start_time": "2022-03-11T14:14:47.269Z"
   },
   {
    "duration": 19,
    "start_time": "2022-03-11T14:14:47.290Z"
   },
   {
    "duration": 48,
    "start_time": "2022-03-11T14:14:47.311Z"
   },
   {
    "duration": 31,
    "start_time": "2022-03-11T14:14:47.362Z"
   },
   {
    "duration": 17,
    "start_time": "2022-03-11T14:14:47.395Z"
   },
   {
    "duration": 53,
    "start_time": "2022-03-11T14:14:47.414Z"
   },
   {
    "duration": 20,
    "start_time": "2022-03-11T14:14:47.470Z"
   },
   {
    "duration": 23,
    "start_time": "2022-03-11T14:14:47.492Z"
   },
   {
    "duration": 9,
    "start_time": "2022-03-11T14:14:47.517Z"
   },
   {
    "duration": 42,
    "start_time": "2022-03-11T14:14:47.528Z"
   },
   {
    "duration": 8,
    "start_time": "2022-03-11T14:14:47.572Z"
   },
   {
    "duration": 11,
    "start_time": "2022-03-11T14:14:47.582Z"
   },
   {
    "duration": 14,
    "start_time": "2022-03-11T14:14:47.595Z"
   },
   {
    "duration": 323,
    "start_time": "2022-03-11T14:14:47.611Z"
   },
   {
    "duration": 7,
    "start_time": "2022-03-11T14:14:47.936Z"
   },
   {
    "duration": 277,
    "start_time": "2022-03-11T14:14:47.945Z"
   },
   {
    "duration": 7,
    "start_time": "2022-03-11T14:14:48.224Z"
   },
   {
    "duration": 44,
    "start_time": "2022-03-11T14:14:48.233Z"
   },
   {
    "duration": 21,
    "start_time": "2022-03-11T14:14:48.278Z"
   },
   {
    "duration": 2,
    "start_time": "2022-03-11T15:39:20.210Z"
   },
   {
    "duration": 247,
    "start_time": "2022-03-11T21:10:26.454Z"
   },
   {
    "duration": 603,
    "start_time": "2022-03-11T21:10:34.353Z"
   },
   {
    "duration": 54,
    "start_time": "2022-03-11T21:10:34.958Z"
   },
   {
    "duration": 11,
    "start_time": "2022-03-11T21:10:35.015Z"
   },
   {
    "duration": 25,
    "start_time": "2022-03-11T21:10:35.028Z"
   },
   {
    "duration": 8,
    "start_time": "2022-03-11T21:10:35.054Z"
   },
   {
    "duration": 8,
    "start_time": "2022-03-11T21:10:35.064Z"
   },
   {
    "duration": 45,
    "start_time": "2022-03-11T21:10:35.074Z"
   },
   {
    "duration": 5,
    "start_time": "2022-03-11T21:10:35.122Z"
   },
   {
    "duration": 26,
    "start_time": "2022-03-11T21:10:35.130Z"
   },
   {
    "duration": 5,
    "start_time": "2022-03-11T21:10:35.159Z"
   },
   {
    "duration": 8,
    "start_time": "2022-03-11T21:10:35.166Z"
   },
   {
    "duration": 10,
    "start_time": "2022-03-11T21:10:35.177Z"
   },
   {
    "duration": 12,
    "start_time": "2022-03-11T21:10:35.189Z"
   },
   {
    "duration": 9,
    "start_time": "2022-03-11T21:10:35.204Z"
   },
   {
    "duration": 9,
    "start_time": "2022-03-11T21:10:35.215Z"
   },
   {
    "duration": 26,
    "start_time": "2022-03-11T21:10:35.226Z"
   },
   {
    "duration": 13,
    "start_time": "2022-03-11T21:10:35.254Z"
   },
   {
    "duration": 17,
    "start_time": "2022-03-11T21:10:35.269Z"
   },
   {
    "duration": 12,
    "start_time": "2022-03-11T21:10:35.289Z"
   },
   {
    "duration": 463,
    "start_time": "2022-03-11T21:10:35.303Z"
   },
   {
    "duration": 34,
    "start_time": "2022-03-11T21:10:35.768Z"
   },
   {
    "duration": 6,
    "start_time": "2022-03-11T21:10:35.804Z"
   },
   {
    "duration": 9,
    "start_time": "2022-03-11T21:10:35.813Z"
   },
   {
    "duration": 17,
    "start_time": "2022-03-11T21:10:35.825Z"
   },
   {
    "duration": 11,
    "start_time": "2022-03-11T21:10:35.845Z"
   },
   {
    "duration": 15,
    "start_time": "2022-03-11T21:10:35.858Z"
   },
   {
    "duration": 43,
    "start_time": "2022-03-11T21:10:35.875Z"
   },
   {
    "duration": 16,
    "start_time": "2022-03-11T21:10:35.919Z"
   },
   {
    "duration": 6,
    "start_time": "2022-03-11T21:10:35.936Z"
   },
   {
    "duration": 13,
    "start_time": "2022-03-11T21:10:35.944Z"
   },
   {
    "duration": 51,
    "start_time": "2022-03-11T21:10:35.960Z"
   },
   {
    "duration": 5,
    "start_time": "2022-03-11T21:10:36.012Z"
   },
   {
    "duration": 12,
    "start_time": "2022-03-11T21:10:36.019Z"
   },
   {
    "duration": 8,
    "start_time": "2022-03-11T21:10:36.033Z"
   },
   {
    "duration": 10,
    "start_time": "2022-03-11T21:10:36.043Z"
   },
   {
    "duration": 48,
    "start_time": "2022-03-11T21:10:36.055Z"
   },
   {
    "duration": 24,
    "start_time": "2022-03-11T21:10:36.105Z"
   },
   {
    "duration": 25,
    "start_time": "2022-03-11T21:10:36.131Z"
   },
   {
    "duration": 57,
    "start_time": "2022-03-11T21:10:36.158Z"
   },
   {
    "duration": 9,
    "start_time": "2022-03-11T21:10:36.217Z"
   },
   {
    "duration": 6,
    "start_time": "2022-03-11T21:10:36.228Z"
   },
   {
    "duration": 24,
    "start_time": "2022-03-11T21:10:36.237Z"
   },
   {
    "duration": 55,
    "start_time": "2022-03-11T21:10:36.264Z"
   },
   {
    "duration": 11,
    "start_time": "2022-03-11T21:10:36.321Z"
   },
   {
    "duration": 4,
    "start_time": "2022-03-11T21:10:36.334Z"
   },
   {
    "duration": 19,
    "start_time": "2022-03-11T21:10:36.340Z"
   },
   {
    "duration": 16,
    "start_time": "2022-03-11T21:10:36.362Z"
   },
   {
    "duration": 51,
    "start_time": "2022-03-11T21:10:36.401Z"
   },
   {
    "duration": 18,
    "start_time": "2022-03-11T21:10:36.454Z"
   },
   {
    "duration": 40,
    "start_time": "2022-03-11T21:10:36.474Z"
   },
   {
    "duration": 27,
    "start_time": "2022-03-11T21:10:36.516Z"
   },
   {
    "duration": 22,
    "start_time": "2022-03-11T21:10:36.545Z"
   },
   {
    "duration": 44,
    "start_time": "2022-03-11T21:10:36.569Z"
   },
   {
    "duration": 20,
    "start_time": "2022-03-11T21:10:36.614Z"
   },
   {
    "duration": 32,
    "start_time": "2022-03-11T21:10:36.635Z"
   },
   {
    "duration": 36,
    "start_time": "2022-03-11T21:10:36.669Z"
   },
   {
    "duration": 18,
    "start_time": "2022-03-11T21:10:36.707Z"
   },
   {
    "duration": 9,
    "start_time": "2022-03-11T21:10:36.727Z"
   },
   {
    "duration": 27,
    "start_time": "2022-03-11T21:10:36.738Z"
   },
   {
    "duration": 16,
    "start_time": "2022-03-11T21:10:36.767Z"
   },
   {
    "duration": 36,
    "start_time": "2022-03-11T21:10:36.785Z"
   },
   {
    "duration": 13,
    "start_time": "2022-03-11T21:10:36.822Z"
   },
   {
    "duration": 274,
    "start_time": "2022-03-11T21:10:36.836Z"
   },
   {
    "duration": 8,
    "start_time": "2022-03-11T21:10:37.111Z"
   },
   {
    "duration": 299,
    "start_time": "2022-03-11T21:10:37.121Z"
   },
   {
    "duration": 11,
    "start_time": "2022-03-11T21:10:37.423Z"
   },
   {
    "duration": 38,
    "start_time": "2022-03-11T21:10:37.436Z"
   },
   {
    "duration": 38,
    "start_time": "2022-03-11T21:10:37.478Z"
   },
   {
    "duration": 27,
    "start_time": "2022-03-11T21:13:07.387Z"
   },
   {
    "duration": 612,
    "start_time": "2022-03-11T21:13:22.059Z"
   },
   {
    "duration": 56,
    "start_time": "2022-03-11T21:13:22.673Z"
   },
   {
    "duration": 12,
    "start_time": "2022-03-11T21:13:22.731Z"
   },
   {
    "duration": 21,
    "start_time": "2022-03-11T21:13:22.746Z"
   },
   {
    "duration": 6,
    "start_time": "2022-03-11T21:13:22.769Z"
   },
   {
    "duration": 26,
    "start_time": "2022-03-11T21:13:22.777Z"
   },
   {
    "duration": 31,
    "start_time": "2022-03-11T21:13:22.805Z"
   },
   {
    "duration": 5,
    "start_time": "2022-03-11T21:13:22.838Z"
   },
   {
    "duration": 4,
    "start_time": "2022-03-11T21:13:22.846Z"
   },
   {
    "duration": 4,
    "start_time": "2022-03-11T21:13:22.853Z"
   },
   {
    "duration": 10,
    "start_time": "2022-03-11T21:13:22.858Z"
   },
   {
    "duration": 35,
    "start_time": "2022-03-11T21:13:22.869Z"
   },
   {
    "duration": 5,
    "start_time": "2022-03-11T21:13:22.906Z"
   },
   {
    "duration": 7,
    "start_time": "2022-03-11T21:13:22.913Z"
   },
   {
    "duration": 15,
    "start_time": "2022-03-11T21:13:22.921Z"
   },
   {
    "duration": 6,
    "start_time": "2022-03-11T21:13:22.938Z"
   },
   {
    "duration": 7,
    "start_time": "2022-03-11T21:13:22.946Z"
   },
   {
    "duration": 8,
    "start_time": "2022-03-11T21:13:22.954Z"
   },
   {
    "duration": 37,
    "start_time": "2022-03-11T21:13:22.964Z"
   },
   {
    "duration": 425,
    "start_time": "2022-03-11T21:13:23.003Z"
   },
   {
    "duration": 24,
    "start_time": "2022-03-11T21:13:23.430Z"
   },
   {
    "duration": 5,
    "start_time": "2022-03-11T21:13:23.456Z"
   },
   {
    "duration": 8,
    "start_time": "2022-03-11T21:13:23.462Z"
   },
   {
    "duration": 30,
    "start_time": "2022-03-11T21:13:23.472Z"
   },
   {
    "duration": 5,
    "start_time": "2022-03-11T21:13:23.504Z"
   },
   {
    "duration": 11,
    "start_time": "2022-03-11T21:13:23.511Z"
   },
   {
    "duration": 14,
    "start_time": "2022-03-11T21:13:23.527Z"
   },
   {
    "duration": 15,
    "start_time": "2022-03-11T21:13:23.543Z"
   },
   {
    "duration": 44,
    "start_time": "2022-03-11T21:13:23.560Z"
   },
   {
    "duration": 10,
    "start_time": "2022-03-11T21:13:23.606Z"
   },
   {
    "duration": 16,
    "start_time": "2022-03-11T21:13:23.618Z"
   },
   {
    "duration": 7,
    "start_time": "2022-03-11T21:13:23.636Z"
   },
   {
    "duration": 9,
    "start_time": "2022-03-11T21:13:23.645Z"
   },
   {
    "duration": 8,
    "start_time": "2022-03-11T21:13:23.656Z"
   },
   {
    "duration": 40,
    "start_time": "2022-03-11T21:13:23.666Z"
   },
   {
    "duration": 15,
    "start_time": "2022-03-11T21:13:23.708Z"
   },
   {
    "duration": 28,
    "start_time": "2022-03-11T21:13:23.725Z"
   },
   {
    "duration": 21,
    "start_time": "2022-03-11T21:13:23.755Z"
   },
   {
    "duration": 22,
    "start_time": "2022-03-11T21:13:23.802Z"
   },
   {
    "duration": 7,
    "start_time": "2022-03-11T21:13:23.826Z"
   },
   {
    "duration": 6,
    "start_time": "2022-03-11T21:13:23.835Z"
   },
   {
    "duration": 17,
    "start_time": "2022-03-11T21:13:23.843Z"
   },
   {
    "duration": 64,
    "start_time": "2022-03-11T21:13:23.862Z"
   },
   {
    "duration": 12,
    "start_time": "2022-03-11T21:13:23.928Z"
   },
   {
    "duration": 5,
    "start_time": "2022-03-11T21:13:23.942Z"
   },
   {
    "duration": 24,
    "start_time": "2022-03-11T21:13:23.949Z"
   },
   {
    "duration": 26,
    "start_time": "2022-03-11T21:13:23.975Z"
   },
   {
    "duration": 34,
    "start_time": "2022-03-11T21:13:24.003Z"
   },
   {
    "duration": 13,
    "start_time": "2022-03-11T21:13:24.039Z"
   },
   {
    "duration": 14,
    "start_time": "2022-03-11T21:13:24.054Z"
   },
   {
    "duration": 47,
    "start_time": "2022-03-11T21:13:24.070Z"
   },
   {
    "duration": 14,
    "start_time": "2022-03-11T21:13:24.119Z"
   },
   {
    "duration": 28,
    "start_time": "2022-03-11T21:13:24.135Z"
   },
   {
    "duration": 50,
    "start_time": "2022-03-11T21:13:24.166Z"
   },
   {
    "duration": 24,
    "start_time": "2022-03-11T21:13:24.218Z"
   },
   {
    "duration": 18,
    "start_time": "2022-03-11T21:13:24.244Z"
   },
   {
    "duration": 42,
    "start_time": "2022-03-11T21:13:24.264Z"
   },
   {
    "duration": 8,
    "start_time": "2022-03-11T21:13:24.308Z"
   },
   {
    "duration": 17,
    "start_time": "2022-03-11T21:13:24.318Z"
   },
   {
    "duration": 8,
    "start_time": "2022-03-11T21:13:24.338Z"
   },
   {
    "duration": 15,
    "start_time": "2022-03-11T21:13:24.348Z"
   },
   {
    "duration": 44,
    "start_time": "2022-03-11T21:13:24.364Z"
   },
   {
    "duration": 248,
    "start_time": "2022-03-11T21:13:24.411Z"
   },
   {
    "duration": 7,
    "start_time": "2022-03-11T21:13:24.660Z"
   },
   {
    "duration": 259,
    "start_time": "2022-03-11T21:13:24.669Z"
   },
   {
    "duration": 7,
    "start_time": "2022-03-11T21:13:24.930Z"
   },
   {
    "duration": 34,
    "start_time": "2022-03-11T21:13:24.938Z"
   },
   {
    "duration": 41,
    "start_time": "2022-03-11T21:13:24.974Z"
   },
   {
    "duration": 25,
    "start_time": "2022-03-11T21:16:31.132Z"
   },
   {
    "duration": 650,
    "start_time": "2022-03-11T21:16:42.900Z"
   },
   {
    "duration": 56,
    "start_time": "2022-03-11T21:16:43.552Z"
   },
   {
    "duration": 13,
    "start_time": "2022-03-11T21:16:43.611Z"
   },
   {
    "duration": 22,
    "start_time": "2022-03-11T21:16:43.627Z"
   },
   {
    "duration": 12,
    "start_time": "2022-03-11T21:16:43.651Z"
   },
   {
    "duration": 7,
    "start_time": "2022-03-11T21:16:43.665Z"
   },
   {
    "duration": 48,
    "start_time": "2022-03-11T21:16:43.674Z"
   },
   {
    "duration": 5,
    "start_time": "2022-03-11T21:16:43.725Z"
   },
   {
    "duration": 10,
    "start_time": "2022-03-11T21:16:43.733Z"
   },
   {
    "duration": 6,
    "start_time": "2022-03-11T21:16:43.746Z"
   },
   {
    "duration": 10,
    "start_time": "2022-03-11T21:16:43.754Z"
   },
   {
    "duration": 36,
    "start_time": "2022-03-11T21:16:43.766Z"
   },
   {
    "duration": 6,
    "start_time": "2022-03-11T21:16:43.804Z"
   },
   {
    "duration": 8,
    "start_time": "2022-03-11T21:16:43.812Z"
   },
   {
    "duration": 7,
    "start_time": "2022-03-11T21:16:43.822Z"
   },
   {
    "duration": 7,
    "start_time": "2022-03-11T21:16:43.831Z"
   },
   {
    "duration": 11,
    "start_time": "2022-03-11T21:16:43.839Z"
   },
   {
    "duration": 9,
    "start_time": "2022-03-11T21:16:43.852Z"
   },
   {
    "duration": 14,
    "start_time": "2022-03-11T21:16:43.863Z"
   },
   {
    "duration": 464,
    "start_time": "2022-03-11T21:16:43.879Z"
   },
   {
    "duration": 25,
    "start_time": "2022-03-11T21:16:44.345Z"
   },
   {
    "duration": 4,
    "start_time": "2022-03-11T21:16:44.373Z"
   },
   {
    "duration": 4,
    "start_time": "2022-03-11T21:16:44.402Z"
   },
   {
    "duration": 7,
    "start_time": "2022-03-11T21:16:44.409Z"
   },
   {
    "duration": 8,
    "start_time": "2022-03-11T21:16:44.418Z"
   },
   {
    "duration": 10,
    "start_time": "2022-03-11T21:16:44.427Z"
   },
   {
    "duration": 18,
    "start_time": "2022-03-11T21:16:44.439Z"
   },
   {
    "duration": 48,
    "start_time": "2022-03-11T21:16:44.459Z"
   },
   {
    "duration": 17,
    "start_time": "2022-03-11T21:16:44.509Z"
   },
   {
    "duration": 15,
    "start_time": "2022-03-11T21:16:44.527Z"
   },
   {
    "duration": 16,
    "start_time": "2022-03-11T21:16:44.544Z"
   },
   {
    "duration": 7,
    "start_time": "2022-03-11T21:16:44.562Z"
   },
   {
    "duration": 9,
    "start_time": "2022-03-11T21:16:44.570Z"
   },
   {
    "duration": 24,
    "start_time": "2022-03-11T21:16:44.581Z"
   },
   {
    "duration": 10,
    "start_time": "2022-03-11T21:16:44.607Z"
   },
   {
    "duration": 19,
    "start_time": "2022-03-11T21:16:44.618Z"
   },
   {
    "duration": 24,
    "start_time": "2022-03-11T21:16:44.639Z"
   },
   {
    "duration": 52,
    "start_time": "2022-03-11T21:16:44.665Z"
   },
   {
    "duration": 22,
    "start_time": "2022-03-11T21:16:44.719Z"
   },
   {
    "duration": 6,
    "start_time": "2022-03-11T21:16:44.743Z"
   },
   {
    "duration": 5,
    "start_time": "2022-03-11T21:16:44.751Z"
   },
   {
    "duration": 46,
    "start_time": "2022-03-11T21:16:44.757Z"
   },
   {
    "duration": 28,
    "start_time": "2022-03-11T21:16:44.805Z"
   },
   {
    "duration": 13,
    "start_time": "2022-03-11T21:16:44.836Z"
   },
   {
    "duration": 3,
    "start_time": "2022-03-11T21:16:44.851Z"
   },
   {
    "duration": 16,
    "start_time": "2022-03-11T21:16:44.856Z"
   },
   {
    "duration": 33,
    "start_time": "2022-03-11T21:16:44.874Z"
   },
   {
    "duration": 34,
    "start_time": "2022-03-11T21:16:44.909Z"
   },
   {
    "duration": 11,
    "start_time": "2022-03-11T21:16:44.945Z"
   },
   {
    "duration": 14,
    "start_time": "2022-03-11T21:16:44.957Z"
   },
   {
    "duration": 20,
    "start_time": "2022-03-11T21:16:45.002Z"
   },
   {
    "duration": 20,
    "start_time": "2022-03-11T21:16:45.025Z"
   },
   {
    "duration": 38,
    "start_time": "2022-03-11T21:16:45.047Z"
   },
   {
    "duration": 32,
    "start_time": "2022-03-11T21:16:45.087Z"
   },
   {
    "duration": 27,
    "start_time": "2022-03-11T21:16:45.121Z"
   },
   {
    "duration": 51,
    "start_time": "2022-03-11T21:16:45.150Z"
   },
   {
    "duration": 19,
    "start_time": "2022-03-11T21:16:45.203Z"
   },
   {
    "duration": 10,
    "start_time": "2022-03-11T21:16:45.225Z"
   },
   {
    "duration": 15,
    "start_time": "2022-03-11T21:16:45.237Z"
   },
   {
    "duration": 10,
    "start_time": "2022-03-11T21:16:45.255Z"
   },
   {
    "duration": 13,
    "start_time": "2022-03-11T21:16:45.301Z"
   },
   {
    "duration": 15,
    "start_time": "2022-03-11T21:16:45.317Z"
   },
   {
    "duration": 266,
    "start_time": "2022-03-11T21:16:45.334Z"
   },
   {
    "duration": 9,
    "start_time": "2022-03-11T21:16:45.603Z"
   },
   {
    "duration": 270,
    "start_time": "2022-03-11T21:16:45.614Z"
   },
   {
    "duration": 17,
    "start_time": "2022-03-11T21:16:45.886Z"
   },
   {
    "duration": 35,
    "start_time": "2022-03-11T21:16:45.905Z"
   },
   {
    "duration": 22,
    "start_time": "2022-03-11T21:16:45.946Z"
   },
   {
    "duration": 4,
    "start_time": "2022-03-11T21:20:05.938Z"
   },
   {
    "duration": 5391,
    "start_time": "2022-03-11T21:31:08.534Z"
   },
   {
    "duration": 594,
    "start_time": "2022-03-11T21:31:16.654Z"
   },
   {
    "duration": 55,
    "start_time": "2022-03-11T21:31:17.250Z"
   },
   {
    "duration": 12,
    "start_time": "2022-03-11T21:31:17.307Z"
   },
   {
    "duration": 21,
    "start_time": "2022-03-11T21:31:17.322Z"
   },
   {
    "duration": 5,
    "start_time": "2022-03-11T21:31:17.345Z"
   },
   {
    "duration": 9,
    "start_time": "2022-03-11T21:31:17.352Z"
   },
   {
    "duration": 57,
    "start_time": "2022-03-11T21:31:17.363Z"
   },
   {
    "duration": 5,
    "start_time": "2022-03-11T21:31:17.423Z"
   },
   {
    "duration": 5,
    "start_time": "2022-03-11T21:31:17.430Z"
   },
   {
    "duration": 5,
    "start_time": "2022-03-11T21:31:17.437Z"
   },
   {
    "duration": 10,
    "start_time": "2022-03-11T21:31:17.444Z"
   },
   {
    "duration": 4,
    "start_time": "2022-03-11T21:31:17.456Z"
   },
   {
    "duration": 39,
    "start_time": "2022-03-11T21:31:17.462Z"
   },
   {
    "duration": 7,
    "start_time": "2022-03-11T21:31:17.503Z"
   },
   {
    "duration": 14,
    "start_time": "2022-03-11T21:31:17.511Z"
   },
   {
    "duration": 7,
    "start_time": "2022-03-11T21:31:17.527Z"
   },
   {
    "duration": 9,
    "start_time": "2022-03-11T21:31:17.536Z"
   },
   {
    "duration": 6,
    "start_time": "2022-03-11T21:31:17.547Z"
   },
   {
    "duration": 456,
    "start_time": "2022-03-11T21:31:17.555Z"
   },
   {
    "duration": 5,
    "start_time": "2022-03-11T21:31:18.013Z"
   },
   {
    "duration": 8,
    "start_time": "2022-03-11T21:31:18.020Z"
   },
   {
    "duration": 7,
    "start_time": "2022-03-11T21:31:18.030Z"
   },
   {
    "duration": 7,
    "start_time": "2022-03-11T21:31:18.041Z"
   },
   {
    "duration": 14,
    "start_time": "2022-03-11T21:31:18.050Z"
   },
   {
    "duration": 45,
    "start_time": "2022-03-11T21:31:18.066Z"
   },
   {
    "duration": 15,
    "start_time": "2022-03-11T21:31:18.113Z"
   },
   {
    "duration": 10,
    "start_time": "2022-03-11T21:31:18.129Z"
   },
   {
    "duration": 12,
    "start_time": "2022-03-11T21:31:18.141Z"
   },
   {
    "duration": 17,
    "start_time": "2022-03-11T21:31:18.155Z"
   },
   {
    "duration": 29,
    "start_time": "2022-03-11T21:31:18.174Z"
   },
   {
    "duration": 6,
    "start_time": "2022-03-11T21:31:18.205Z"
   },
   {
    "duration": 15,
    "start_time": "2022-03-11T21:31:18.212Z"
   },
   {
    "duration": 15,
    "start_time": "2022-03-11T21:31:18.229Z"
   },
   {
    "duration": 23,
    "start_time": "2022-03-11T21:31:18.246Z"
   },
   {
    "duration": 42,
    "start_time": "2022-03-11T21:31:18.271Z"
   },
   {
    "duration": 21,
    "start_time": "2022-03-11T21:31:18.315Z"
   },
   {
    "duration": 22,
    "start_time": "2022-03-11T21:31:18.338Z"
   },
   {
    "duration": 10,
    "start_time": "2022-03-11T21:31:18.361Z"
   },
   {
    "duration": 30,
    "start_time": "2022-03-11T21:31:18.373Z"
   },
   {
    "duration": 14,
    "start_time": "2022-03-11T21:31:18.404Z"
   },
   {
    "duration": 30,
    "start_time": "2022-03-11T21:31:18.420Z"
   },
   {
    "duration": 13,
    "start_time": "2022-03-11T21:31:18.452Z"
   },
   {
    "duration": 4,
    "start_time": "2022-03-11T21:31:18.500Z"
   },
   {
    "duration": 18,
    "start_time": "2022-03-11T21:31:18.506Z"
   },
   {
    "duration": 12,
    "start_time": "2022-03-11T21:31:18.526Z"
   },
   {
    "duration": 39,
    "start_time": "2022-03-11T21:31:18.540Z"
   },
   {
    "duration": 32,
    "start_time": "2022-03-11T21:31:18.581Z"
   },
   {
    "duration": 15,
    "start_time": "2022-03-11T21:31:18.615Z"
   },
   {
    "duration": 20,
    "start_time": "2022-03-11T21:31:18.632Z"
   },
   {
    "duration": 49,
    "start_time": "2022-03-11T21:31:18.654Z"
   },
   {
    "duration": 28,
    "start_time": "2022-03-11T21:31:18.705Z"
   },
   {
    "duration": 18,
    "start_time": "2022-03-11T21:31:18.736Z"
   },
   {
    "duration": 50,
    "start_time": "2022-03-11T21:31:18.756Z"
   },
   {
    "duration": 19,
    "start_time": "2022-03-11T21:31:18.808Z"
   },
   {
    "duration": 19,
    "start_time": "2022-03-11T21:31:18.829Z"
   },
   {
    "duration": 9,
    "start_time": "2022-03-11T21:31:18.850Z"
   },
   {
    "duration": 48,
    "start_time": "2022-03-11T21:31:18.861Z"
   },
   {
    "duration": 9,
    "start_time": "2022-03-11T21:31:18.911Z"
   },
   {
    "duration": 14,
    "start_time": "2022-03-11T21:31:18.922Z"
   },
   {
    "duration": 12,
    "start_time": "2022-03-11T21:31:18.938Z"
   },
   {
    "duration": 276,
    "start_time": "2022-03-11T21:31:18.952Z"
   },
   {
    "duration": 7,
    "start_time": "2022-03-11T21:31:19.230Z"
   },
   {
    "duration": 267,
    "start_time": "2022-03-11T21:31:19.239Z"
   },
   {
    "duration": 7,
    "start_time": "2022-03-11T21:31:19.508Z"
   },
   {
    "duration": 35,
    "start_time": "2022-03-11T21:31:19.517Z"
   },
   {
    "duration": 21,
    "start_time": "2022-03-11T21:31:19.554Z"
   },
   {
    "duration": 4,
    "start_time": "2022-03-11T21:45:36.662Z"
   },
   {
    "duration": 5244,
    "start_time": "2022-03-11T21:55:03.539Z"
   },
   {
    "duration": 674,
    "start_time": "2022-03-11T21:55:19.875Z"
   },
   {
    "duration": 61,
    "start_time": "2022-03-11T21:55:20.551Z"
   },
   {
    "duration": 15,
    "start_time": "2022-03-11T21:55:20.614Z"
   },
   {
    "duration": 21,
    "start_time": "2022-03-11T21:55:20.632Z"
   },
   {
    "duration": 7,
    "start_time": "2022-03-11T21:55:20.656Z"
   },
   {
    "duration": 36,
    "start_time": "2022-03-11T21:55:20.665Z"
   },
   {
    "duration": 25,
    "start_time": "2022-03-11T21:55:20.704Z"
   },
   {
    "duration": 6,
    "start_time": "2022-03-11T21:55:20.733Z"
   },
   {
    "duration": 14,
    "start_time": "2022-03-11T21:55:20.742Z"
   },
   {
    "duration": 7,
    "start_time": "2022-03-11T21:55:20.758Z"
   },
   {
    "duration": 37,
    "start_time": "2022-03-11T21:55:20.768Z"
   },
   {
    "duration": 16,
    "start_time": "2022-03-11T21:55:20.808Z"
   },
   {
    "duration": 6,
    "start_time": "2022-03-11T21:55:20.826Z"
   },
   {
    "duration": 15,
    "start_time": "2022-03-11T21:55:20.834Z"
   },
   {
    "duration": 10,
    "start_time": "2022-03-11T21:55:20.851Z"
   },
   {
    "duration": 8,
    "start_time": "2022-03-11T21:55:20.863Z"
   },
   {
    "duration": 30,
    "start_time": "2022-03-11T21:55:20.873Z"
   },
   {
    "duration": 13,
    "start_time": "2022-03-11T21:55:20.905Z"
   },
   {
    "duration": 17,
    "start_time": "2022-03-11T21:55:20.920Z"
   },
   {
    "duration": 430,
    "start_time": "2022-03-11T21:55:20.939Z"
   },
   {
    "duration": 5,
    "start_time": "2022-03-11T21:55:21.372Z"
   },
   {
    "duration": 23,
    "start_time": "2022-03-11T21:55:21.379Z"
   },
   {
    "duration": 4,
    "start_time": "2022-03-11T21:55:21.408Z"
   },
   {
    "duration": 6,
    "start_time": "2022-03-11T21:55:21.416Z"
   },
   {
    "duration": 12,
    "start_time": "2022-03-11T21:55:21.424Z"
   },
   {
    "duration": 17,
    "start_time": "2022-03-11T21:55:21.438Z"
   },
   {
    "duration": 52,
    "start_time": "2022-03-11T21:55:21.457Z"
   },
   {
    "duration": 7,
    "start_time": "2022-03-11T21:55:21.511Z"
   },
   {
    "duration": 9,
    "start_time": "2022-03-11T21:55:21.521Z"
   },
   {
    "duration": 17,
    "start_time": "2022-03-11T21:55:21.532Z"
   },
   {
    "duration": 5,
    "start_time": "2022-03-11T21:55:21.551Z"
   },
   {
    "duration": 48,
    "start_time": "2022-03-11T21:55:21.558Z"
   },
   {
    "duration": 6,
    "start_time": "2022-03-11T21:55:21.608Z"
   },
   {
    "duration": 12,
    "start_time": "2022-03-11T21:55:21.616Z"
   },
   {
    "duration": 17,
    "start_time": "2022-03-11T21:55:21.630Z"
   },
   {
    "duration": 53,
    "start_time": "2022-03-11T21:55:21.649Z"
   },
   {
    "duration": 22,
    "start_time": "2022-03-11T21:55:21.705Z"
   },
   {
    "duration": 23,
    "start_time": "2022-03-11T21:55:21.729Z"
   },
   {
    "duration": 7,
    "start_time": "2022-03-11T21:55:21.754Z"
   },
   {
    "duration": 42,
    "start_time": "2022-03-11T21:55:21.763Z"
   },
   {
    "duration": 19,
    "start_time": "2022-03-11T21:55:21.807Z"
   },
   {
    "duration": 29,
    "start_time": "2022-03-11T21:55:21.828Z"
   },
   {
    "duration": 14,
    "start_time": "2022-03-11T21:55:21.859Z"
   },
   {
    "duration": 28,
    "start_time": "2022-03-11T21:55:21.875Z"
   },
   {
    "duration": 16,
    "start_time": "2022-03-11T21:55:21.906Z"
   },
   {
    "duration": 8,
    "start_time": "2022-03-11T21:55:21.924Z"
   },
   {
    "duration": 36,
    "start_time": "2022-03-11T21:55:21.935Z"
   },
   {
    "duration": 14,
    "start_time": "2022-03-11T21:55:22.002Z"
   },
   {
    "duration": 16,
    "start_time": "2022-03-11T21:55:22.018Z"
   },
   {
    "duration": 18,
    "start_time": "2022-03-11T21:55:22.037Z"
   },
   {
    "duration": 51,
    "start_time": "2022-03-11T21:55:22.057Z"
   },
   {
    "duration": 32,
    "start_time": "2022-03-11T21:55:22.110Z"
   },
   {
    "duration": 19,
    "start_time": "2022-03-11T21:55:22.144Z"
   },
   {
    "duration": 49,
    "start_time": "2022-03-11T21:55:22.165Z"
   },
   {
    "duration": 21,
    "start_time": "2022-03-11T21:55:22.216Z"
   },
   {
    "duration": 19,
    "start_time": "2022-03-11T21:55:22.239Z"
   },
   {
    "duration": 41,
    "start_time": "2022-03-11T21:55:22.260Z"
   },
   {
    "duration": 13,
    "start_time": "2022-03-11T21:55:22.304Z"
   },
   {
    "duration": 10,
    "start_time": "2022-03-11T21:55:22.319Z"
   },
   {
    "duration": 13,
    "start_time": "2022-03-11T21:55:22.331Z"
   },
   {
    "duration": 55,
    "start_time": "2022-03-11T21:55:22.347Z"
   },
   {
    "duration": 259,
    "start_time": "2022-03-11T21:55:22.405Z"
   },
   {
    "duration": 9,
    "start_time": "2022-03-11T21:55:22.667Z"
   },
   {
    "duration": 279,
    "start_time": "2022-03-11T21:55:22.678Z"
   },
   {
    "duration": 8,
    "start_time": "2022-03-11T21:55:22.959Z"
   },
   {
    "duration": 50,
    "start_time": "2022-03-11T21:55:22.969Z"
   },
   {
    "duration": 21,
    "start_time": "2022-03-11T21:55:23.021Z"
   },
   {
    "duration": 5,
    "start_time": "2022-03-11T21:59:34.036Z"
   },
   {
    "duration": 6042,
    "start_time": "2022-03-11T22:12:17.686Z"
   },
   {
    "duration": 3,
    "start_time": "2022-03-11T22:18:20.689Z"
   },
   {
    "duration": 7,
    "start_time": "2022-03-11T22:25:14.343Z"
   },
   {
    "duration": 5,
    "start_time": "2022-03-11T22:28:06.278Z"
   },
   {
    "duration": 4,
    "start_time": "2022-03-11T22:28:52.747Z"
   },
   {
    "duration": 79,
    "start_time": "2022-03-11T22:29:57.683Z"
   },
   {
    "duration": 82,
    "start_time": "2022-03-11T22:30:27.438Z"
   },
   {
    "duration": 73,
    "start_time": "2022-03-11T22:31:17.610Z"
   },
   {
    "duration": 79,
    "start_time": "2022-03-11T22:31:35.495Z"
   },
   {
    "duration": 4,
    "start_time": "2022-03-11T22:33:03.401Z"
   },
   {
    "duration": 18,
    "start_time": "2022-03-11T22:45:32.157Z"
   },
   {
    "duration": 5612,
    "start_time": "2022-03-11T22:45:48.321Z"
   },
   {
    "duration": 696,
    "start_time": "2022-03-11T22:46:58.026Z"
   },
   {
    "duration": 53,
    "start_time": "2022-03-11T22:46:58.725Z"
   },
   {
    "duration": 21,
    "start_time": "2022-03-11T22:46:58.780Z"
   },
   {
    "duration": 22,
    "start_time": "2022-03-11T22:46:58.804Z"
   },
   {
    "duration": 6,
    "start_time": "2022-03-11T22:46:58.828Z"
   },
   {
    "duration": 14,
    "start_time": "2022-03-11T22:46:58.836Z"
   },
   {
    "duration": 50,
    "start_time": "2022-03-11T22:46:58.852Z"
   },
   {
    "duration": 6,
    "start_time": "2022-03-11T22:46:58.905Z"
   },
   {
    "duration": 7,
    "start_time": "2022-03-11T22:46:58.913Z"
   },
   {
    "duration": 6,
    "start_time": "2022-03-11T22:46:58.922Z"
   },
   {
    "duration": 10,
    "start_time": "2022-03-11T22:46:58.930Z"
   },
   {
    "duration": 6,
    "start_time": "2022-03-11T22:46:58.942Z"
   },
   {
    "duration": 12,
    "start_time": "2022-03-11T22:46:58.950Z"
   },
   {
    "duration": 37,
    "start_time": "2022-03-11T22:46:58.964Z"
   },
   {
    "duration": 7,
    "start_time": "2022-03-11T22:46:59.003Z"
   },
   {
    "duration": 5,
    "start_time": "2022-03-11T22:46:59.012Z"
   },
   {
    "duration": 17,
    "start_time": "2022-03-11T22:46:59.018Z"
   },
   {
    "duration": 8,
    "start_time": "2022-03-11T22:46:59.037Z"
   },
   {
    "duration": 12,
    "start_time": "2022-03-11T22:46:59.047Z"
   },
   {
    "duration": 453,
    "start_time": "2022-03-11T22:46:59.061Z"
   },
   {
    "duration": 4,
    "start_time": "2022-03-11T22:46:59.516Z"
   },
   {
    "duration": 10,
    "start_time": "2022-03-11T22:46:59.522Z"
   },
   {
    "duration": 6,
    "start_time": "2022-03-11T22:46:59.536Z"
   },
   {
    "duration": 9,
    "start_time": "2022-03-11T22:46:59.545Z"
   },
   {
    "duration": 14,
    "start_time": "2022-03-11T22:46:59.556Z"
   },
   {
    "duration": 42,
    "start_time": "2022-03-11T22:46:59.572Z"
   },
   {
    "duration": 3,
    "start_time": "2022-03-11T22:46:59.616Z"
   },
   {
    "duration": 4,
    "start_time": "2022-03-11T22:46:59.621Z"
   },
   {
    "duration": 9,
    "start_time": "2022-03-11T22:46:59.627Z"
   },
   {
    "duration": 12,
    "start_time": "2022-03-11T22:46:59.638Z"
   },
   {
    "duration": 17,
    "start_time": "2022-03-11T22:46:59.652Z"
   },
   {
    "duration": 12,
    "start_time": "2022-03-11T22:46:59.671Z"
   },
   {
    "duration": 18,
    "start_time": "2022-03-11T22:46:59.685Z"
   },
   {
    "duration": 15,
    "start_time": "2022-03-11T22:46:59.705Z"
   },
   {
    "duration": 20,
    "start_time": "2022-03-11T22:46:59.722Z"
   },
   {
    "duration": 32,
    "start_time": "2022-03-11T22:46:59.744Z"
   },
   {
    "duration": 36,
    "start_time": "2022-03-11T22:46:59.778Z"
   },
   {
    "duration": 23,
    "start_time": "2022-03-11T22:46:59.815Z"
   },
   {
    "duration": 7,
    "start_time": "2022-03-11T22:46:59.840Z"
   },
   {
    "duration": 11,
    "start_time": "2022-03-11T22:46:59.849Z"
   },
   {
    "duration": 10,
    "start_time": "2022-03-11T22:46:59.862Z"
   },
   {
    "duration": 2,
    "start_time": "2022-03-11T22:46:59.901Z"
   },
   {
    "duration": 10,
    "start_time": "2022-03-11T22:46:59.905Z"
   },
   {
    "duration": 9,
    "start_time": "2022-03-11T22:46:59.917Z"
   },
   {
    "duration": 23,
    "start_time": "2022-03-11T22:46:59.927Z"
   },
   {
    "duration": 8,
    "start_time": "2022-03-11T22:46:59.952Z"
   },
   {
    "duration": 52,
    "start_time": "2022-03-11T22:46:59.962Z"
   },
   {
    "duration": 14,
    "start_time": "2022-03-11T22:47:00.016Z"
   },
   {
    "duration": 22,
    "start_time": "2022-03-11T22:47:00.032Z"
   },
   {
    "duration": 18,
    "start_time": "2022-03-11T22:47:00.056Z"
   },
   {
    "duration": 13,
    "start_time": "2022-03-11T22:47:00.101Z"
   },
   {
    "duration": 38,
    "start_time": "2022-03-11T22:47:00.116Z"
   },
   {
    "duration": 23,
    "start_time": "2022-03-11T22:47:00.156Z"
   },
   {
    "duration": 28,
    "start_time": "2022-03-11T22:47:00.181Z"
   },
   {
    "duration": 29,
    "start_time": "2022-03-11T22:47:00.210Z"
   },
   {
    "duration": 28,
    "start_time": "2022-03-11T22:47:00.240Z"
   },
   {
    "duration": 38,
    "start_time": "2022-03-11T22:47:00.270Z"
   },
   {
    "duration": 19,
    "start_time": "2022-03-11T22:47:00.311Z"
   },
   {
    "duration": 10,
    "start_time": "2022-03-11T22:47:00.332Z"
   },
   {
    "duration": 18,
    "start_time": "2022-03-11T22:47:00.345Z"
   },
   {
    "duration": 42,
    "start_time": "2022-03-11T22:47:00.366Z"
   },
   {
    "duration": 27,
    "start_time": "2022-03-11T22:47:00.411Z"
   },
   {
    "duration": 15,
    "start_time": "2022-03-11T22:47:00.441Z"
   },
   {
    "duration": 258,
    "start_time": "2022-03-11T22:47:00.458Z"
   },
   {
    "duration": 8,
    "start_time": "2022-03-11T22:47:00.717Z"
   },
   {
    "duration": 268,
    "start_time": "2022-03-11T22:47:00.727Z"
   },
   {
    "duration": 9,
    "start_time": "2022-03-11T22:47:00.997Z"
   },
   {
    "duration": 37,
    "start_time": "2022-03-11T22:47:01.013Z"
   },
   {
    "duration": 51,
    "start_time": "2022-03-11T22:47:01.052Z"
   },
   {
    "duration": 328,
    "start_time": "2022-03-12T17:24:59.927Z"
   },
   {
    "duration": 909,
    "start_time": "2022-03-12T17:25:12.960Z"
   },
   {
    "duration": 60,
    "start_time": "2022-03-12T17:25:13.871Z"
   },
   {
    "duration": 16,
    "start_time": "2022-03-12T17:25:13.934Z"
   },
   {
    "duration": 45,
    "start_time": "2022-03-12T17:25:13.953Z"
   },
   {
    "duration": 8,
    "start_time": "2022-03-12T17:25:14.001Z"
   },
   {
    "duration": 5,
    "start_time": "2022-03-12T17:25:14.012Z"
   },
   {
    "duration": 83,
    "start_time": "2022-03-12T17:25:14.020Z"
   },
   {
    "duration": 330,
    "start_time": "2022-03-12T17:25:14.108Z"
   },
   {
    "duration": -35143,
    "start_time": "2022-03-12T17:25:49.586Z"
   },
   {
    "duration": -35156,
    "start_time": "2022-03-12T17:25:49.600Z"
   },
   {
    "duration": -35165,
    "start_time": "2022-03-12T17:25:49.611Z"
   },
   {
    "duration": -35174,
    "start_time": "2022-03-12T17:25:49.621Z"
   },
   {
    "duration": -35190,
    "start_time": "2022-03-12T17:25:49.639Z"
   },
   {
    "duration": -35201,
    "start_time": "2022-03-12T17:25:49.651Z"
   },
   {
    "duration": -35212,
    "start_time": "2022-03-12T17:25:49.664Z"
   },
   {
    "duration": -35243,
    "start_time": "2022-03-12T17:25:49.696Z"
   },
   {
    "duration": -35255,
    "start_time": "2022-03-12T17:25:49.709Z"
   },
   {
    "duration": -35262,
    "start_time": "2022-03-12T17:25:49.718Z"
   },
   {
    "duration": -35274,
    "start_time": "2022-03-12T17:25:49.731Z"
   },
   {
    "duration": -35283,
    "start_time": "2022-03-12T17:25:49.742Z"
   },
   {
    "duration": -35294,
    "start_time": "2022-03-12T17:25:49.754Z"
   },
   {
    "duration": -35335,
    "start_time": "2022-03-12T17:25:49.796Z"
   },
   {
    "duration": -35376,
    "start_time": "2022-03-12T17:25:49.839Z"
   },
   {
    "duration": -35403,
    "start_time": "2022-03-12T17:25:49.868Z"
   },
   {
    "duration": -35413,
    "start_time": "2022-03-12T17:25:49.879Z"
   },
   {
    "duration": -35427,
    "start_time": "2022-03-12T17:25:49.895Z"
   },
   {
    "duration": -35459,
    "start_time": "2022-03-12T17:25:49.928Z"
   },
   {
    "duration": -35467,
    "start_time": "2022-03-12T17:25:49.938Z"
   },
   {
    "duration": -35481,
    "start_time": "2022-03-12T17:25:49.953Z"
   },
   {
    "duration": -35490,
    "start_time": "2022-03-12T17:25:49.964Z"
   },
   {
    "duration": -35523,
    "start_time": "2022-03-12T17:25:49.998Z"
   },
   {
    "duration": -35535,
    "start_time": "2022-03-12T17:25:50.012Z"
   },
   {
    "duration": -35546,
    "start_time": "2022-03-12T17:25:50.025Z"
   },
   {
    "duration": -35557,
    "start_time": "2022-03-12T17:25:50.038Z"
   },
   {
    "duration": -35587,
    "start_time": "2022-03-12T17:25:50.074Z"
   },
   {
    "duration": -35595,
    "start_time": "2022-03-12T17:25:50.084Z"
   },
   {
    "duration": -35620,
    "start_time": "2022-03-12T17:25:50.111Z"
   },
   {
    "duration": -35627,
    "start_time": "2022-03-12T17:25:50.120Z"
   },
   {
    "duration": -35635,
    "start_time": "2022-03-12T17:25:50.130Z"
   },
   {
    "duration": -35641,
    "start_time": "2022-03-12T17:25:50.137Z"
   },
   {
    "duration": -35649,
    "start_time": "2022-03-12T17:25:50.148Z"
   },
   {
    "duration": -35657,
    "start_time": "2022-03-12T17:25:50.158Z"
   },
   {
    "duration": -35666,
    "start_time": "2022-03-12T17:25:50.169Z"
   },
   {
    "duration": -35673,
    "start_time": "2022-03-12T17:25:50.178Z"
   },
   {
    "duration": -35681,
    "start_time": "2022-03-12T17:25:50.188Z"
   },
   {
    "duration": -35686,
    "start_time": "2022-03-12T17:25:50.196Z"
   },
   {
    "duration": -35709,
    "start_time": "2022-03-12T17:25:50.225Z"
   },
   {
    "duration": -35716,
    "start_time": "2022-03-12T17:25:50.234Z"
   },
   {
    "duration": -35725,
    "start_time": "2022-03-12T17:25:50.245Z"
   },
   {
    "duration": -35732,
    "start_time": "2022-03-12T17:25:50.254Z"
   },
   {
    "duration": -35746,
    "start_time": "2022-03-12T17:25:50.270Z"
   },
   {
    "duration": -35753,
    "start_time": "2022-03-12T17:25:50.278Z"
   },
   {
    "duration": -35700,
    "start_time": "2022-03-12T17:25:50.288Z"
   },
   {
    "duration": -35708,
    "start_time": "2022-03-12T17:25:50.297Z"
   },
   {
    "duration": -35722,
    "start_time": "2022-03-12T17:25:50.312Z"
   },
   {
    "duration": -35731,
    "start_time": "2022-03-12T17:25:50.323Z"
   },
   {
    "duration": -35770,
    "start_time": "2022-03-12T17:25:50.363Z"
   },
   {
    "duration": -35779,
    "start_time": "2022-03-12T17:25:50.373Z"
   },
   {
    "duration": -35787,
    "start_time": "2022-03-12T17:25:50.383Z"
   },
   {
    "duration": -35795,
    "start_time": "2022-03-12T17:25:50.392Z"
   },
   {
    "duration": -35803,
    "start_time": "2022-03-12T17:25:50.402Z"
   },
   {
    "duration": -35813,
    "start_time": "2022-03-12T17:25:50.413Z"
   },
   {
    "duration": -35821,
    "start_time": "2022-03-12T17:25:50.423Z"
   },
   {
    "duration": -35828,
    "start_time": "2022-03-12T17:25:50.431Z"
   },
   {
    "duration": -35837,
    "start_time": "2022-03-12T17:25:50.442Z"
   },
   {
    "duration": -35843,
    "start_time": "2022-03-12T17:25:50.449Z"
   },
   {
    "duration": -35869,
    "start_time": "2022-03-12T17:25:50.477Z"
   },
   {
    "duration": -35877,
    "start_time": "2022-03-12T17:25:50.486Z"
   },
   {
    "duration": -35887,
    "start_time": "2022-03-12T17:25:50.498Z"
   },
   {
    "duration": -35894,
    "start_time": "2022-03-12T17:25:50.506Z"
   },
   {
    "duration": -35903,
    "start_time": "2022-03-12T17:25:50.517Z"
   },
   {
    "duration": 9,
    "start_time": "2022-03-12T17:26:12.529Z"
   },
   {
    "duration": 40,
    "start_time": "2022-03-12T17:26:51.578Z"
   },
   {
    "duration": 8,
    "start_time": "2022-03-12T17:28:44.418Z"
   },
   {
    "duration": 8,
    "start_time": "2022-03-12T17:29:02.645Z"
   },
   {
    "duration": 1073,
    "start_time": "2022-03-12T17:30:03.721Z"
   },
   {
    "duration": 39,
    "start_time": "2022-03-12T17:32:17.535Z"
   },
   {
    "duration": 13,
    "start_time": "2022-03-12T17:32:32.303Z"
   },
   {
    "duration": 11,
    "start_time": "2022-03-12T17:32:49.648Z"
   },
   {
    "duration": 9,
    "start_time": "2022-03-12T17:33:22.706Z"
   },
   {
    "duration": 11,
    "start_time": "2022-03-12T17:33:31.306Z"
   },
   {
    "duration": 6,
    "start_time": "2022-03-12T17:34:02.029Z"
   },
   {
    "duration": 6,
    "start_time": "2022-03-12T17:34:42.268Z"
   },
   {
    "duration": 4,
    "start_time": "2022-03-12T17:34:49.312Z"
   },
   {
    "duration": 4,
    "start_time": "2022-03-12T17:34:54.721Z"
   },
   {
    "duration": 6,
    "start_time": "2022-03-12T17:35:00.292Z"
   },
   {
    "duration": 1156,
    "start_time": "2022-03-12T17:37:20.056Z"
   },
   {
    "duration": 68,
    "start_time": "2022-03-12T17:37:21.215Z"
   },
   {
    "duration": 14,
    "start_time": "2022-03-12T17:37:21.286Z"
   },
   {
    "duration": 29,
    "start_time": "2022-03-12T17:37:21.303Z"
   },
   {
    "duration": 9,
    "start_time": "2022-03-12T17:37:21.335Z"
   },
   {
    "duration": 42,
    "start_time": "2022-03-12T17:37:21.347Z"
   },
   {
    "duration": 49,
    "start_time": "2022-03-12T17:37:21.392Z"
   },
   {
    "duration": 5,
    "start_time": "2022-03-12T17:37:21.445Z"
   },
   {
    "duration": 34,
    "start_time": "2022-03-12T17:37:21.453Z"
   },
   {
    "duration": 7,
    "start_time": "2022-03-12T17:37:21.490Z"
   },
   {
    "duration": 20,
    "start_time": "2022-03-12T17:37:21.499Z"
   },
   {
    "duration": 6,
    "start_time": "2022-03-12T17:37:21.521Z"
   },
   {
    "duration": 17,
    "start_time": "2022-03-12T17:37:21.529Z"
   },
   {
    "duration": 21,
    "start_time": "2022-03-12T17:37:21.549Z"
   },
   {
    "duration": 17,
    "start_time": "2022-03-12T17:37:21.573Z"
   },
   {
    "duration": 14,
    "start_time": "2022-03-12T17:37:21.593Z"
   },
   {
    "duration": 25,
    "start_time": "2022-03-12T17:37:21.610Z"
   },
   {
    "duration": 9,
    "start_time": "2022-03-12T17:37:21.637Z"
   },
   {
    "duration": 12,
    "start_time": "2022-03-12T17:37:21.648Z"
   },
   {
    "duration": 28,
    "start_time": "2022-03-12T17:37:21.663Z"
   },
   {
    "duration": 13,
    "start_time": "2022-03-12T17:37:21.693Z"
   },
   {
    "duration": 15,
    "start_time": "2022-03-12T17:37:21.709Z"
   },
   {
    "duration": 20,
    "start_time": "2022-03-12T17:37:21.730Z"
   },
   {
    "duration": 18,
    "start_time": "2022-03-12T17:37:21.754Z"
   },
   {
    "duration": 768,
    "start_time": "2022-03-12T17:37:21.775Z"
   },
   {
    "duration": 5,
    "start_time": "2022-03-12T17:37:22.545Z"
   },
   {
    "duration": 21,
    "start_time": "2022-03-12T17:37:22.553Z"
   },
   {
    "duration": 7,
    "start_time": "2022-03-12T17:37:22.587Z"
   },
   {
    "duration": 21,
    "start_time": "2022-03-12T17:37:22.596Z"
   },
   {
    "duration": 20,
    "start_time": "2022-03-12T17:37:22.619Z"
   },
   {
    "duration": 26,
    "start_time": "2022-03-12T17:37:22.641Z"
   },
   {
    "duration": 17,
    "start_time": "2022-03-12T17:37:22.670Z"
   },
   {
    "duration": 4,
    "start_time": "2022-03-12T17:37:22.689Z"
   },
   {
    "duration": 8,
    "start_time": "2022-03-12T17:37:22.695Z"
   },
   {
    "duration": 17,
    "start_time": "2022-03-12T17:37:22.705Z"
   },
   {
    "duration": 26,
    "start_time": "2022-03-12T17:37:22.725Z"
   },
   {
    "duration": 27,
    "start_time": "2022-03-12T17:37:22.753Z"
   },
   {
    "duration": 17,
    "start_time": "2022-03-12T17:37:22.782Z"
   },
   {
    "duration": 10,
    "start_time": "2022-03-12T17:37:22.802Z"
   },
   {
    "duration": 23,
    "start_time": "2022-03-12T17:37:22.814Z"
   },
   {
    "duration": 55,
    "start_time": "2022-03-12T17:37:22.839Z"
   },
   {
    "duration": 33,
    "start_time": "2022-03-12T17:37:22.897Z"
   },
   {
    "duration": 56,
    "start_time": "2022-03-12T17:37:22.932Z"
   },
   {
    "duration": 9,
    "start_time": "2022-03-12T17:37:22.990Z"
   },
   {
    "duration": 7,
    "start_time": "2022-03-12T17:37:23.001Z"
   },
   {
    "duration": 10,
    "start_time": "2022-03-12T17:37:23.011Z"
   },
   {
    "duration": 8,
    "start_time": "2022-03-12T17:37:23.023Z"
   },
   {
    "duration": 10,
    "start_time": "2022-03-12T17:37:23.033Z"
   },
   {
    "duration": 6,
    "start_time": "2022-03-12T17:37:23.045Z"
   },
   {
    "duration": 50,
    "start_time": "2022-03-12T17:37:23.053Z"
   },
   {
    "duration": 10,
    "start_time": "2022-03-12T17:37:23.105Z"
   },
   {
    "duration": 75,
    "start_time": "2022-03-12T17:37:23.118Z"
   },
   {
    "duration": 15,
    "start_time": "2022-03-12T17:37:23.195Z"
   },
   {
    "duration": 17,
    "start_time": "2022-03-12T17:37:23.212Z"
   },
   {
    "duration": 61,
    "start_time": "2022-03-12T17:37:23.232Z"
   },
   {
    "duration": 18,
    "start_time": "2022-03-12T17:37:23.295Z"
   },
   {
    "duration": 34,
    "start_time": "2022-03-12T17:37:23.316Z"
   },
   {
    "duration": 48,
    "start_time": "2022-03-12T17:37:23.354Z"
   },
   {
    "duration": 25,
    "start_time": "2022-03-12T17:37:23.405Z"
   },
   {
    "duration": 58,
    "start_time": "2022-03-12T17:37:23.433Z"
   },
   {
    "duration": 37,
    "start_time": "2022-03-12T17:37:23.495Z"
   },
   {
    "duration": 52,
    "start_time": "2022-03-12T17:37:23.535Z"
   },
   {
    "duration": 24,
    "start_time": "2022-03-12T17:37:23.589Z"
   },
   {
    "duration": 11,
    "start_time": "2022-03-12T17:37:23.615Z"
   },
   {
    "duration": 18,
    "start_time": "2022-03-12T17:37:23.628Z"
   },
   {
    "duration": 10,
    "start_time": "2022-03-12T17:37:23.648Z"
   },
   {
    "duration": 14,
    "start_time": "2022-03-12T17:37:23.688Z"
   },
   {
    "duration": 18,
    "start_time": "2022-03-12T17:37:23.711Z"
   },
   {
    "duration": 449,
    "start_time": "2022-03-12T17:37:23.732Z"
   },
   {
    "duration": 9,
    "start_time": "2022-03-12T17:37:24.183Z"
   },
   {
    "duration": 422,
    "start_time": "2022-03-12T17:37:24.195Z"
   },
   {
    "duration": 9,
    "start_time": "2022-03-12T17:37:24.620Z"
   },
   {
    "duration": 71,
    "start_time": "2022-03-12T17:37:24.632Z"
   },
   {
    "duration": 30,
    "start_time": "2022-03-12T17:37:24.705Z"
   },
   {
    "duration": 56,
    "start_time": "2022-03-12T17:37:24.738Z"
   },
   {
    "duration": 9,
    "start_time": "2022-03-12T18:47:40.131Z"
   },
   {
    "duration": 15,
    "start_time": "2022-03-12T18:52:45.841Z"
   },
   {
    "duration": 3,
    "start_time": "2022-03-12T18:54:00.864Z"
   },
   {
    "duration": 3,
    "start_time": "2022-03-12T18:54:01.319Z"
   },
   {
    "duration": 3,
    "start_time": "2022-03-12T18:57:16.365Z"
   },
   {
    "duration": 3,
    "start_time": "2022-03-12T18:57:20.334Z"
   },
   {
    "duration": 48,
    "start_time": "2022-03-12T19:06:51.158Z"
   },
   {
    "duration": 19,
    "start_time": "2022-03-12T19:07:11.594Z"
   },
   {
    "duration": 23,
    "start_time": "2022-03-12T19:07:14.497Z"
   },
   {
    "duration": 11,
    "start_time": "2022-03-12T19:07:44.863Z"
   },
   {
    "duration": -33660,
    "start_time": "2022-03-12T19:11:23.480Z"
   },
   {
    "duration": 785,
    "start_time": "2022-03-12T19:10:56.245Z"
   },
   {
    "duration": 80,
    "start_time": "2022-03-12T19:10:57.033Z"
   },
   {
    "duration": 15,
    "start_time": "2022-03-12T19:10:57.116Z"
   },
   {
    "duration": 55,
    "start_time": "2022-03-12T19:10:57.134Z"
   },
   {
    "duration": 8,
    "start_time": "2022-03-12T19:10:57.191Z"
   },
   {
    "duration": 6,
    "start_time": "2022-03-12T19:10:57.201Z"
   },
   {
    "duration": 37,
    "start_time": "2022-03-12T19:10:57.209Z"
   },
   {
    "duration": 40,
    "start_time": "2022-03-12T19:10:57.250Z"
   },
   {
    "duration": 15,
    "start_time": "2022-03-12T19:10:57.294Z"
   },
   {
    "duration": 8,
    "start_time": "2022-03-12T19:10:57.312Z"
   },
   {
    "duration": 11,
    "start_time": "2022-03-12T19:10:57.322Z"
   },
   {
    "duration": 50,
    "start_time": "2022-03-12T19:10:57.336Z"
   },
   {
    "duration": 8,
    "start_time": "2022-03-12T19:10:57.389Z"
   },
   {
    "duration": 7,
    "start_time": "2022-03-12T19:10:57.400Z"
   },
   {
    "duration": 8,
    "start_time": "2022-03-12T19:10:57.409Z"
   },
   {
    "duration": 5,
    "start_time": "2022-03-12T19:10:57.420Z"
   },
   {
    "duration": 782,
    "start_time": "2022-03-12T19:10:57.428Z"
   },
   {
    "duration": 5,
    "start_time": "2022-03-12T19:10:58.212Z"
   },
   {
    "duration": 14,
    "start_time": "2022-03-12T19:10:58.219Z"
   },
   {
    "duration": 7,
    "start_time": "2022-03-12T19:10:58.236Z"
   },
   {
    "duration": 13,
    "start_time": "2022-03-12T19:10:58.245Z"
   },
   {
    "duration": 37,
    "start_time": "2022-03-12T19:10:58.261Z"
   },
   {
    "duration": 18,
    "start_time": "2022-03-12T19:10:58.305Z"
   },
   {
    "duration": 2,
    "start_time": "2022-03-12T19:10:58.327Z"
   },
   {
    "duration": 5,
    "start_time": "2022-03-12T19:10:58.332Z"
   },
   {
    "duration": 7,
    "start_time": "2022-03-12T19:10:58.339Z"
   },
   {
    "duration": 39,
    "start_time": "2022-03-12T19:10:58.349Z"
   },
   {
    "duration": 6,
    "start_time": "2022-03-12T19:10:58.390Z"
   },
   {
    "duration": 6,
    "start_time": "2022-03-12T19:10:58.398Z"
   },
   {
    "duration": 11,
    "start_time": "2022-03-12T19:10:58.406Z"
   },
   {
    "duration": 23,
    "start_time": "2022-03-12T19:10:58.419Z"
   },
   {
    "duration": 13,
    "start_time": "2022-03-12T19:10:58.444Z"
   },
   {
    "duration": 31,
    "start_time": "2022-03-12T19:10:58.459Z"
   },
   {
    "duration": 12,
    "start_time": "2022-03-12T19:10:58.492Z"
   },
   {
    "duration": 21,
    "start_time": "2022-03-12T19:10:58.506Z"
   },
   {
    "duration": 67,
    "start_time": "2022-03-12T19:10:58.530Z"
   },
   {
    "duration": 29,
    "start_time": "2022-03-12T19:10:58.599Z"
   },
   {
    "duration": 29,
    "start_time": "2022-03-12T19:10:58.630Z"
   },
   {
    "duration": 9,
    "start_time": "2022-03-12T19:10:58.686Z"
   },
   {
    "duration": 7,
    "start_time": "2022-03-12T19:10:58.698Z"
   },
   {
    "duration": 10,
    "start_time": "2022-03-12T19:10:58.707Z"
   },
   {
    "duration": 24,
    "start_time": "2022-03-12T19:10:58.719Z"
   },
   {
    "duration": 43,
    "start_time": "2022-03-12T19:10:58.746Z"
   },
   {
    "duration": 46,
    "start_time": "2022-03-12T19:10:58.791Z"
   },
   {
    "duration": 16,
    "start_time": "2022-03-12T19:10:58.839Z"
   },
   {
    "duration": 17,
    "start_time": "2022-03-12T19:10:58.886Z"
   },
   {
    "duration": 27,
    "start_time": "2022-03-12T19:10:58.905Z"
   },
   {
    "duration": 24,
    "start_time": "2022-03-12T19:10:58.935Z"
   },
   {
    "duration": 56,
    "start_time": "2022-03-12T19:10:58.961Z"
   },
   {
    "duration": 21,
    "start_time": "2022-03-12T19:10:59.019Z"
   },
   {
    "duration": 45,
    "start_time": "2022-03-12T19:10:59.043Z"
   },
   {
    "duration": 23,
    "start_time": "2022-03-12T19:10:59.090Z"
   },
   {
    "duration": 36,
    "start_time": "2022-03-12T19:10:59.116Z"
   },
   {
    "duration": 57,
    "start_time": "2022-03-12T19:10:59.154Z"
   },
   {
    "duration": 24,
    "start_time": "2022-03-12T19:10:59.213Z"
   },
   {
    "duration": 11,
    "start_time": "2022-03-12T19:10:59.240Z"
   },
   {
    "duration": 50,
    "start_time": "2022-03-12T19:10:59.253Z"
   },
   {
    "duration": 15,
    "start_time": "2022-03-12T19:10:59.305Z"
   },
   {
    "duration": 21,
    "start_time": "2022-03-12T19:10:59.322Z"
   },
   {
    "duration": 23,
    "start_time": "2022-03-12T19:10:59.346Z"
   },
   {
    "duration": 424,
    "start_time": "2022-03-12T19:10:59.371Z"
   },
   {
    "duration": 9,
    "start_time": "2022-03-12T19:10:59.797Z"
   },
   {
    "duration": 436,
    "start_time": "2022-03-12T19:10:59.809Z"
   },
   {
    "duration": 10,
    "start_time": "2022-03-12T19:11:00.248Z"
   },
   {
    "duration": 68,
    "start_time": "2022-03-12T19:11:00.260Z"
   },
   {
    "duration": 59,
    "start_time": "2022-03-12T19:11:00.331Z"
   },
   {
    "duration": 30,
    "start_time": "2022-03-12T19:11:00.392Z"
   },
   {
    "duration": 352,
    "start_time": "2022-03-12T19:15:30.846Z"
   },
   {
    "duration": 872,
    "start_time": "2022-03-12T19:15:41.316Z"
   },
   {
    "duration": 68,
    "start_time": "2022-03-12T19:15:42.191Z"
   },
   {
    "duration": 25,
    "start_time": "2022-03-12T19:15:42.263Z"
   },
   {
    "duration": 29,
    "start_time": "2022-03-12T19:15:42.292Z"
   },
   {
    "duration": 8,
    "start_time": "2022-03-12T19:15:42.324Z"
   },
   {
    "duration": 6,
    "start_time": "2022-03-12T19:15:42.335Z"
   },
   {
    "duration": 75,
    "start_time": "2022-03-12T19:15:42.343Z"
   },
   {
    "duration": 6,
    "start_time": "2022-03-12T19:15:42.422Z"
   },
   {
    "duration": 11,
    "start_time": "2022-03-12T19:15:42.430Z"
   },
   {
    "duration": 4,
    "start_time": "2022-03-12T19:15:42.444Z"
   },
   {
    "duration": 36,
    "start_time": "2022-03-12T19:15:42.451Z"
   },
   {
    "duration": 21,
    "start_time": "2022-03-12T19:15:42.491Z"
   },
   {
    "duration": 11,
    "start_time": "2022-03-12T19:15:42.515Z"
   },
   {
    "duration": 7,
    "start_time": "2022-03-12T19:15:42.528Z"
   },
   {
    "duration": 7,
    "start_time": "2022-03-12T19:15:42.538Z"
   },
   {
    "duration": 40,
    "start_time": "2022-03-12T19:15:42.548Z"
   },
   {
    "duration": 800,
    "start_time": "2022-03-12T19:15:42.592Z"
   },
   {
    "duration": 6,
    "start_time": "2022-03-12T19:15:43.394Z"
   },
   {
    "duration": 31,
    "start_time": "2022-03-12T19:15:43.402Z"
   },
   {
    "duration": 16,
    "start_time": "2022-03-12T19:15:43.435Z"
   },
   {
    "duration": 10,
    "start_time": "2022-03-12T19:15:43.453Z"
   },
   {
    "duration": 27,
    "start_time": "2022-03-12T19:15:43.466Z"
   },
   {
    "duration": 17,
    "start_time": "2022-03-12T19:15:43.499Z"
   },
   {
    "duration": 18,
    "start_time": "2022-03-12T19:15:43.519Z"
   },
   {
    "duration": 24,
    "start_time": "2022-03-12T19:15:43.540Z"
   },
   {
    "duration": 25,
    "start_time": "2022-03-12T19:15:43.566Z"
   },
   {
    "duration": 14,
    "start_time": "2022-03-12T19:15:43.593Z"
   },
   {
    "duration": 32,
    "start_time": "2022-03-12T19:15:43.610Z"
   },
   {
    "duration": 57,
    "start_time": "2022-03-12T19:15:43.645Z"
   },
   {
    "duration": 32,
    "start_time": "2022-03-12T19:15:43.704Z"
   },
   {
    "duration": 57,
    "start_time": "2022-03-12T19:15:43.739Z"
   },
   {
    "duration": 9,
    "start_time": "2022-03-12T19:15:43.798Z"
   },
   {
    "duration": 11,
    "start_time": "2022-03-12T19:15:43.810Z"
   },
   {
    "duration": 14,
    "start_time": "2022-03-12T19:15:43.823Z"
   },
   {
    "duration": 47,
    "start_time": "2022-03-12T19:15:43.839Z"
   },
   {
    "duration": 14,
    "start_time": "2022-03-12T19:15:43.890Z"
   },
   {
    "duration": 61,
    "start_time": "2022-03-12T19:15:43.907Z"
   },
   {
    "duration": 22,
    "start_time": "2022-03-12T19:15:43.971Z"
   },
   {
    "duration": 21,
    "start_time": "2022-03-12T19:15:43.996Z"
   },
   {
    "duration": 24,
    "start_time": "2022-03-12T19:15:44.020Z"
   },
   {
    "duration": 48,
    "start_time": "2022-03-12T19:15:44.047Z"
   },
   {
    "duration": 51,
    "start_time": "2022-03-12T19:15:44.097Z"
   },
   {
    "duration": 40,
    "start_time": "2022-03-12T19:15:44.152Z"
   },
   {
    "duration": 31,
    "start_time": "2022-03-12T19:15:44.194Z"
   },
   {
    "duration": 34,
    "start_time": "2022-03-12T19:15:44.227Z"
   },
   {
    "duration": 48,
    "start_time": "2022-03-12T19:15:44.264Z"
   },
   {
    "duration": 25,
    "start_time": "2022-03-12T19:15:44.315Z"
   },
   {
    "duration": 43,
    "start_time": "2022-03-12T19:15:44.343Z"
   },
   {
    "duration": 13,
    "start_time": "2022-03-12T19:15:44.389Z"
   },
   {
    "duration": 30,
    "start_time": "2022-03-12T19:15:44.405Z"
   },
   {
    "duration": 12,
    "start_time": "2022-03-12T19:15:44.438Z"
   },
   {
    "duration": 44,
    "start_time": "2022-03-12T19:15:44.453Z"
   },
   {
    "duration": 28,
    "start_time": "2022-03-12T19:15:44.500Z"
   },
   {
    "duration": 436,
    "start_time": "2022-03-12T19:15:44.531Z"
   },
   {
    "duration": 19,
    "start_time": "2022-03-12T19:15:44.969Z"
   },
   {
    "duration": 457,
    "start_time": "2022-03-12T19:15:44.991Z"
   },
   {
    "duration": 10,
    "start_time": "2022-03-12T19:15:45.451Z"
   },
   {
    "duration": 66,
    "start_time": "2022-03-12T19:15:45.463Z"
   },
   {
    "duration": 31,
    "start_time": "2022-03-12T19:15:45.531Z"
   },
   {
    "duration": 52,
    "start_time": "2022-03-12T19:15:45.564Z"
   },
   {
    "duration": 350,
    "start_time": "2022-03-12T19:40:58.526Z"
   },
   {
    "duration": 1762,
    "start_time": "2022-03-12T19:45:46.405Z"
   },
   {
    "duration": 1012,
    "start_time": "2022-03-12T19:46:14.824Z"
   },
   {
    "duration": 1025,
    "start_time": "2022-03-12T19:46:46.338Z"
   },
   {
    "duration": 78,
    "start_time": "2022-03-12T19:47:24.637Z"
   },
   {
    "duration": 70,
    "start_time": "2022-03-12T19:47:29.045Z"
   },
   {
    "duration": 9,
    "start_time": "2022-03-12T19:47:33.459Z"
   },
   {
    "duration": 13,
    "start_time": "2022-03-12T19:52:30.192Z"
   },
   {
    "duration": 9,
    "start_time": "2022-03-12T19:52:48.556Z"
   },
   {
    "duration": 16,
    "start_time": "2022-03-12T19:53:34.879Z"
   },
   {
    "duration": 88,
    "start_time": "2022-03-12T19:59:26.099Z"
   },
   {
    "duration": 85,
    "start_time": "2022-03-12T20:01:59.209Z"
   },
   {
    "duration": 54,
    "start_time": "2022-03-12T20:02:06.890Z"
   },
   {
    "duration": 62,
    "start_time": "2022-03-12T20:09:27.741Z"
   },
   {
    "duration": 134,
    "start_time": "2022-03-12T20:09:49.337Z"
   },
   {
    "duration": 75,
    "start_time": "2022-03-12T20:10:46.550Z"
   },
   {
    "duration": 324,
    "start_time": "2022-03-12T20:11:43.741Z"
   },
   {
    "duration": 66,
    "start_time": "2022-03-12T20:12:03.547Z"
   },
   {
    "duration": 255,
    "start_time": "2022-03-12T20:13:49.665Z"
   },
   {
    "duration": 14,
    "start_time": "2022-03-12T20:14:03.958Z"
   },
   {
    "duration": 1075,
    "start_time": "2022-03-13T06:26:02.509Z"
   },
   {
    "duration": 377,
    "start_time": "2022-03-13T06:33:24.547Z"
   },
   {
    "duration": 1128,
    "start_time": "2022-03-13T06:33:34.048Z"
   },
   {
    "duration": 45,
    "start_time": "2022-03-13T06:33:35.178Z"
   },
   {
    "duration": 11,
    "start_time": "2022-03-13T06:33:35.225Z"
   },
   {
    "duration": 24,
    "start_time": "2022-03-13T06:33:35.238Z"
   },
   {
    "duration": 4,
    "start_time": "2022-03-13T06:33:35.264Z"
   },
   {
    "duration": 5,
    "start_time": "2022-03-13T06:33:35.269Z"
   },
   {
    "duration": 21,
    "start_time": "2022-03-13T06:33:35.276Z"
   },
   {
    "duration": 5,
    "start_time": "2022-03-13T06:33:35.299Z"
   },
   {
    "duration": 8,
    "start_time": "2022-03-13T06:33:35.305Z"
   },
   {
    "duration": 4,
    "start_time": "2022-03-13T06:33:35.314Z"
   },
   {
    "duration": 40,
    "start_time": "2022-03-13T06:33:35.319Z"
   },
   {
    "duration": 5,
    "start_time": "2022-03-13T06:33:35.361Z"
   },
   {
    "duration": 6,
    "start_time": "2022-03-13T06:33:35.367Z"
   },
   {
    "duration": 4,
    "start_time": "2022-03-13T06:33:35.374Z"
   },
   {
    "duration": 5,
    "start_time": "2022-03-13T06:33:35.380Z"
   },
   {
    "duration": 5,
    "start_time": "2022-03-13T06:33:35.386Z"
   },
   {
    "duration": 444,
    "start_time": "2022-03-13T06:33:35.392Z"
   },
   {
    "duration": 4,
    "start_time": "2022-03-13T06:33:35.837Z"
   },
   {
    "duration": 18,
    "start_time": "2022-03-13T06:33:35.843Z"
   },
   {
    "duration": 6,
    "start_time": "2022-03-13T06:33:35.862Z"
   },
   {
    "duration": 8,
    "start_time": "2022-03-13T06:33:35.869Z"
   },
   {
    "duration": 10,
    "start_time": "2022-03-13T06:33:35.879Z"
   },
   {
    "duration": 12,
    "start_time": "2022-03-13T06:33:35.893Z"
   },
   {
    "duration": 13,
    "start_time": "2022-03-13T06:33:35.907Z"
   },
   {
    "duration": 41,
    "start_time": "2022-03-13T06:33:35.922Z"
   },
   {
    "duration": 5,
    "start_time": "2022-03-13T06:33:35.965Z"
   },
   {
    "duration": 10,
    "start_time": "2022-03-13T06:33:35.972Z"
   },
   {
    "duration": 16,
    "start_time": "2022-03-13T06:33:35.984Z"
   },
   {
    "duration": 23,
    "start_time": "2022-03-13T06:33:36.002Z"
   },
   {
    "duration": 50,
    "start_time": "2022-03-13T06:33:36.027Z"
   },
   {
    "duration": 21,
    "start_time": "2022-03-13T06:33:36.078Z"
   },
   {
    "duration": 7,
    "start_time": "2022-03-13T06:33:36.101Z"
   },
   {
    "duration": 6,
    "start_time": "2022-03-13T06:33:36.109Z"
   },
   {
    "duration": 7,
    "start_time": "2022-03-13T06:33:36.116Z"
   },
   {
    "duration": 46,
    "start_time": "2022-03-13T06:33:36.124Z"
   },
   {
    "duration": 8,
    "start_time": "2022-03-13T06:33:36.172Z"
   },
   {
    "duration": 33,
    "start_time": "2022-03-13T06:33:36.181Z"
   },
   {
    "duration": 11,
    "start_time": "2022-03-13T06:33:36.216Z"
   },
   {
    "duration": 40,
    "start_time": "2022-03-13T06:33:36.228Z"
   },
   {
    "duration": 14,
    "start_time": "2022-03-13T06:33:36.270Z"
   },
   {
    "duration": 11,
    "start_time": "2022-03-13T06:33:36.286Z"
   },
   {
    "duration": 26,
    "start_time": "2022-03-13T06:33:36.299Z"
   },
   {
    "duration": 45,
    "start_time": "2022-03-13T06:33:36.327Z"
   },
   {
    "duration": 16,
    "start_time": "2022-03-13T06:33:36.374Z"
   },
   {
    "duration": 16,
    "start_time": "2022-03-13T06:33:36.391Z"
   },
   {
    "duration": 22,
    "start_time": "2022-03-13T06:33:36.409Z"
   },
   {
    "duration": 40,
    "start_time": "2022-03-13T06:33:36.433Z"
   },
   {
    "duration": 13,
    "start_time": "2022-03-13T06:33:36.475Z"
   },
   {
    "duration": 7,
    "start_time": "2022-03-13T06:33:36.490Z"
   },
   {
    "duration": 13,
    "start_time": "2022-03-13T06:33:36.498Z"
   },
   {
    "duration": 6,
    "start_time": "2022-03-13T06:33:36.513Z"
   },
   {
    "duration": 39,
    "start_time": "2022-03-13T06:33:36.521Z"
   },
   {
    "duration": 14,
    "start_time": "2022-03-13T06:33:36.562Z"
   },
   {
    "duration": 259,
    "start_time": "2022-03-13T06:33:36.578Z"
   },
   {
    "duration": 8,
    "start_time": "2022-03-13T06:33:36.839Z"
   },
   {
    "duration": 257,
    "start_time": "2022-03-13T06:33:36.849Z"
   },
   {
    "duration": 7,
    "start_time": "2022-03-13T06:33:37.107Z"
   },
   {
    "duration": 53,
    "start_time": "2022-03-13T06:33:37.116Z"
   },
   {
    "duration": 372,
    "start_time": "2022-03-13T06:33:37.170Z"
   },
   {
    "duration": 198,
    "start_time": "2022-03-13T06:33:53.026Z"
   },
   {
    "duration": 26,
    "start_time": "2022-03-13T06:34:01.445Z"
   },
   {
    "duration": 10,
    "start_time": "2022-03-13T06:40:28.152Z"
   },
   {
    "duration": 214,
    "start_time": "2022-03-13T06:41:35.497Z"
   },
   {
    "duration": 220,
    "start_time": "2022-03-13T06:41:59.913Z"
   },
   {
    "duration": 200,
    "start_time": "2022-03-13T06:47:17.952Z"
   },
   {
    "duration": 21,
    "start_time": "2022-03-13T06:47:37.071Z"
   },
   {
    "duration": 19,
    "start_time": "2022-03-13T06:47:57.103Z"
   },
   {
    "duration": 18,
    "start_time": "2022-03-13T06:48:16.926Z"
   },
   {
    "duration": 20,
    "start_time": "2022-03-13T06:52:38.225Z"
   },
   {
    "duration": 28,
    "start_time": "2022-03-13T06:57:17.148Z"
   },
   {
    "duration": 240,
    "start_time": "2022-03-13T06:57:22.629Z"
   },
   {
    "duration": 201,
    "start_time": "2022-03-13T06:57:45.374Z"
   },
   {
    "duration": 18,
    "start_time": "2022-03-13T06:59:56.006Z"
   },
   {
    "duration": 46,
    "start_time": "2022-03-13T07:41:08.414Z"
   },
   {
    "duration": 283,
    "start_time": "2022-03-13T07:42:18.580Z"
   },
   {
    "duration": 43,
    "start_time": "2022-03-13T07:42:59.090Z"
   },
   {
    "duration": 340,
    "start_time": "2022-03-13T07:46:24.470Z"
   },
   {
    "duration": 20,
    "start_time": "2022-03-13T07:51:22.186Z"
   },
   {
    "duration": 230,
    "start_time": "2022-03-13T08:01:25.996Z"
   },
   {
    "duration": 1111,
    "start_time": "2022-03-13T08:01:27.092Z"
   },
   {
    "duration": 52,
    "start_time": "2022-03-13T08:01:28.205Z"
   },
   {
    "duration": 11,
    "start_time": "2022-03-13T08:01:28.259Z"
   },
   {
    "duration": 20,
    "start_time": "2022-03-13T08:01:28.272Z"
   },
   {
    "duration": 6,
    "start_time": "2022-03-13T08:01:28.293Z"
   },
   {
    "duration": 5,
    "start_time": "2022-03-13T08:01:28.300Z"
   },
   {
    "duration": 24,
    "start_time": "2022-03-13T08:01:28.307Z"
   },
   {
    "duration": 30,
    "start_time": "2022-03-13T08:01:28.333Z"
   },
   {
    "duration": 7,
    "start_time": "2022-03-13T08:01:28.365Z"
   },
   {
    "duration": 10,
    "start_time": "2022-03-13T08:01:28.374Z"
   },
   {
    "duration": 5,
    "start_time": "2022-03-13T08:01:28.386Z"
   },
   {
    "duration": 5,
    "start_time": "2022-03-13T08:01:28.393Z"
   },
   {
    "duration": 6,
    "start_time": "2022-03-13T08:01:28.400Z"
   },
   {
    "duration": 5,
    "start_time": "2022-03-13T08:01:28.407Z"
   },
   {
    "duration": 4,
    "start_time": "2022-03-13T08:01:28.414Z"
   },
   {
    "duration": 3,
    "start_time": "2022-03-13T08:01:28.460Z"
   },
   {
    "duration": 447,
    "start_time": "2022-03-13T08:01:28.465Z"
   },
   {
    "duration": 4,
    "start_time": "2022-03-13T08:01:28.913Z"
   },
   {
    "duration": 6,
    "start_time": "2022-03-13T08:01:28.919Z"
   },
   {
    "duration": 5,
    "start_time": "2022-03-13T08:01:28.927Z"
   },
   {
    "duration": 26,
    "start_time": "2022-03-13T08:01:28.933Z"
   },
   {
    "duration": 10,
    "start_time": "2022-03-13T08:01:28.960Z"
   },
   {
    "duration": 12,
    "start_time": "2022-03-13T08:01:28.974Z"
   },
   {
    "duration": 12,
    "start_time": "2022-03-13T08:01:28.989Z"
   },
   {
    "duration": 5,
    "start_time": "2022-03-13T08:01:29.003Z"
   },
   {
    "duration": 5,
    "start_time": "2022-03-13T08:01:29.010Z"
   },
   {
    "duration": 42,
    "start_time": "2022-03-13T08:01:29.017Z"
   },
   {
    "duration": 14,
    "start_time": "2022-03-13T08:01:29.061Z"
   },
   {
    "duration": 23,
    "start_time": "2022-03-13T08:01:29.076Z"
   },
   {
    "duration": 19,
    "start_time": "2022-03-13T08:01:29.101Z"
   },
   {
    "duration": 45,
    "start_time": "2022-03-13T08:01:29.122Z"
   },
   {
    "duration": 7,
    "start_time": "2022-03-13T08:01:29.168Z"
   },
   {
    "duration": 4,
    "start_time": "2022-03-13T08:01:29.177Z"
   },
   {
    "duration": 5,
    "start_time": "2022-03-13T08:01:29.183Z"
   },
   {
    "duration": 16,
    "start_time": "2022-03-13T08:01:29.189Z"
   },
   {
    "duration": 7,
    "start_time": "2022-03-13T08:01:29.207Z"
   },
   {
    "duration": 69,
    "start_time": "2022-03-13T08:01:29.216Z"
   },
   {
    "duration": 10,
    "start_time": "2022-03-13T08:01:29.287Z"
   },
   {
    "duration": 16,
    "start_time": "2022-03-13T08:01:29.298Z"
   },
   {
    "duration": 15,
    "start_time": "2022-03-13T08:01:29.316Z"
   },
   {
    "duration": 33,
    "start_time": "2022-03-13T08:01:29.333Z"
   },
   {
    "duration": 26,
    "start_time": "2022-03-13T08:01:29.368Z"
   },
   {
    "duration": 16,
    "start_time": "2022-03-13T08:01:29.396Z"
   },
   {
    "duration": 15,
    "start_time": "2022-03-13T08:01:29.414Z"
   },
   {
    "duration": 16,
    "start_time": "2022-03-13T08:01:29.460Z"
   },
   {
    "duration": 24,
    "start_time": "2022-03-13T08:01:29.478Z"
   },
   {
    "duration": 18,
    "start_time": "2022-03-13T08:01:29.504Z"
   },
   {
    "duration": 44,
    "start_time": "2022-03-13T08:01:29.524Z"
   },
   {
    "duration": 7,
    "start_time": "2022-03-13T08:01:29.570Z"
   },
   {
    "duration": 12,
    "start_time": "2022-03-13T08:01:29.579Z"
   },
   {
    "duration": 7,
    "start_time": "2022-03-13T08:01:29.593Z"
   },
   {
    "duration": 10,
    "start_time": "2022-03-13T08:01:29.602Z"
   },
   {
    "duration": 12,
    "start_time": "2022-03-13T08:01:29.614Z"
   },
   {
    "duration": 276,
    "start_time": "2022-03-13T08:01:29.627Z"
   },
   {
    "duration": 7,
    "start_time": "2022-03-13T08:01:29.905Z"
   },
   {
    "duration": 258,
    "start_time": "2022-03-13T08:01:29.914Z"
   },
   {
    "duration": 7,
    "start_time": "2022-03-13T08:01:30.174Z"
   },
   {
    "duration": 25,
    "start_time": "2022-03-13T08:01:30.183Z"
   },
   {
    "duration": 59,
    "start_time": "2022-03-13T08:01:30.210Z"
   },
   {
    "duration": 20,
    "start_time": "2022-03-13T08:01:30.271Z"
   },
   {
    "duration": 24,
    "start_time": "2022-03-13T08:01:30.292Z"
   },
   {
    "duration": 43,
    "start_time": "2022-03-13T08:01:30.318Z"
   },
   {
    "duration": 274,
    "start_time": "2022-03-13T08:01:30.362Z"
   },
   {
    "duration": -34322,
    "start_time": "2022-03-13T08:02:04.961Z"
   },
   {
    "duration": -34335,
    "start_time": "2022-03-13T08:02:04.975Z"
   },
   {
    "duration": 1144,
    "start_time": "2022-03-13T08:01:45.754Z"
   },
   {
    "duration": 45,
    "start_time": "2022-03-13T08:01:46.900Z"
   },
   {
    "duration": 12,
    "start_time": "2022-03-13T08:01:46.947Z"
   },
   {
    "duration": 16,
    "start_time": "2022-03-13T08:01:46.961Z"
   },
   {
    "duration": 5,
    "start_time": "2022-03-13T08:01:46.979Z"
   },
   {
    "duration": 5,
    "start_time": "2022-03-13T08:01:46.986Z"
   },
   {
    "duration": 21,
    "start_time": "2022-03-13T08:01:46.993Z"
   },
   {
    "duration": 5,
    "start_time": "2022-03-13T08:01:47.017Z"
   },
   {
    "duration": 7,
    "start_time": "2022-03-13T08:01:47.060Z"
   },
   {
    "duration": 4,
    "start_time": "2022-03-13T08:01:47.068Z"
   },
   {
    "duration": 6,
    "start_time": "2022-03-13T08:01:47.073Z"
   },
   {
    "duration": 6,
    "start_time": "2022-03-13T08:01:47.080Z"
   },
   {
    "duration": 7,
    "start_time": "2022-03-13T08:01:47.088Z"
   },
   {
    "duration": 3,
    "start_time": "2022-03-13T08:01:47.097Z"
   },
   {
    "duration": 4,
    "start_time": "2022-03-13T08:01:47.101Z"
   },
   {
    "duration": 5,
    "start_time": "2022-03-13T08:01:47.106Z"
   },
   {
    "duration": 493,
    "start_time": "2022-03-13T08:01:47.112Z"
   },
   {
    "duration": 4,
    "start_time": "2022-03-13T08:01:47.606Z"
   },
   {
    "duration": 7,
    "start_time": "2022-03-13T08:01:47.612Z"
   },
   {
    "duration": 6,
    "start_time": "2022-03-13T08:01:47.621Z"
   },
   {
    "duration": 10,
    "start_time": "2022-03-13T08:01:47.628Z"
   },
   {
    "duration": 23,
    "start_time": "2022-03-13T08:01:47.640Z"
   },
   {
    "duration": 14,
    "start_time": "2022-03-13T08:01:47.667Z"
   },
   {
    "duration": 14,
    "start_time": "2022-03-13T08:01:47.683Z"
   },
   {
    "duration": 8,
    "start_time": "2022-03-13T08:01:47.699Z"
   },
   {
    "duration": 7,
    "start_time": "2022-03-13T08:01:47.709Z"
   },
   {
    "duration": 9,
    "start_time": "2022-03-13T08:01:47.759Z"
   },
   {
    "duration": 22,
    "start_time": "2022-03-13T08:01:47.770Z"
   },
   {
    "duration": 25,
    "start_time": "2022-03-13T08:01:47.794Z"
   },
   {
    "duration": 48,
    "start_time": "2022-03-13T08:01:47.821Z"
   },
   {
    "duration": 21,
    "start_time": "2022-03-13T08:01:47.871Z"
   },
   {
    "duration": 5,
    "start_time": "2022-03-13T08:01:47.894Z"
   },
   {
    "duration": 5,
    "start_time": "2022-03-13T08:01:47.902Z"
   },
   {
    "duration": 5,
    "start_time": "2022-03-13T08:01:47.908Z"
   },
   {
    "duration": 50,
    "start_time": "2022-03-13T08:01:47.914Z"
   },
   {
    "duration": 7,
    "start_time": "2022-03-13T08:01:47.966Z"
   },
   {
    "duration": 33,
    "start_time": "2022-03-13T08:01:47.974Z"
   },
   {
    "duration": 11,
    "start_time": "2022-03-13T08:01:48.009Z"
   },
   {
    "duration": 37,
    "start_time": "2022-03-13T08:01:48.022Z"
   },
   {
    "duration": 37,
    "start_time": "2022-03-13T08:01:48.061Z"
   },
   {
    "duration": 12,
    "start_time": "2022-03-13T08:01:48.100Z"
   },
   {
    "duration": 26,
    "start_time": "2022-03-13T08:01:48.113Z"
   },
   {
    "duration": 20,
    "start_time": "2022-03-13T08:01:48.140Z"
   },
   {
    "duration": 20,
    "start_time": "2022-03-13T08:01:48.161Z"
   },
   {
    "duration": 21,
    "start_time": "2022-03-13T08:01:48.183Z"
   },
   {
    "duration": 25,
    "start_time": "2022-03-13T08:01:48.205Z"
   },
   {
    "duration": 47,
    "start_time": "2022-03-13T08:01:48.232Z"
   },
   {
    "duration": 14,
    "start_time": "2022-03-13T08:01:48.281Z"
   },
   {
    "duration": 7,
    "start_time": "2022-03-13T08:01:48.297Z"
   },
   {
    "duration": 12,
    "start_time": "2022-03-13T08:01:48.306Z"
   },
   {
    "duration": 7,
    "start_time": "2022-03-13T08:01:48.319Z"
   },
   {
    "duration": 37,
    "start_time": "2022-03-13T08:01:48.327Z"
   },
   {
    "duration": 14,
    "start_time": "2022-03-13T08:01:48.365Z"
   },
   {
    "duration": 254,
    "start_time": "2022-03-13T08:01:48.381Z"
   },
   {
    "duration": 6,
    "start_time": "2022-03-13T08:01:48.637Z"
   },
   {
    "duration": 263,
    "start_time": "2022-03-13T08:01:48.644Z"
   },
   {
    "duration": 7,
    "start_time": "2022-03-13T08:01:48.908Z"
   },
   {
    "duration": 22,
    "start_time": "2022-03-13T08:01:48.917Z"
   },
   {
    "duration": 54,
    "start_time": "2022-03-13T08:01:48.941Z"
   },
   {
    "duration": 19,
    "start_time": "2022-03-13T08:01:48.997Z"
   },
   {
    "duration": 49,
    "start_time": "2022-03-13T08:01:49.018Z"
   },
   {
    "duration": 16,
    "start_time": "2022-03-13T08:01:49.069Z"
   },
   {
    "duration": 345,
    "start_time": "2022-03-13T08:01:49.087Z"
   },
   {
    "duration": -33937,
    "start_time": "2022-03-13T08:02:23.371Z"
   },
   {
    "duration": -33940,
    "start_time": "2022-03-13T08:02:23.375Z"
   },
   {
    "duration": 75,
    "start_time": "2022-03-13T08:05:06.532Z"
   },
   {
    "duration": 51,
    "start_time": "2022-03-13T08:05:12.671Z"
   },
   {
    "duration": 1133,
    "start_time": "2022-03-13T08:05:27.077Z"
   },
   {
    "duration": 51,
    "start_time": "2022-03-13T08:05:28.212Z"
   },
   {
    "duration": 12,
    "start_time": "2022-03-13T08:05:28.265Z"
   },
   {
    "duration": 16,
    "start_time": "2022-03-13T08:05:28.279Z"
   },
   {
    "duration": 5,
    "start_time": "2022-03-13T08:05:28.297Z"
   },
   {
    "duration": 9,
    "start_time": "2022-03-13T08:05:28.304Z"
   },
   {
    "duration": 49,
    "start_time": "2022-03-13T08:05:28.315Z"
   },
   {
    "duration": 5,
    "start_time": "2022-03-13T08:05:28.366Z"
   },
   {
    "duration": 9,
    "start_time": "2022-03-13T08:05:28.373Z"
   },
   {
    "duration": 3,
    "start_time": "2022-03-13T08:05:28.384Z"
   },
   {
    "duration": 4,
    "start_time": "2022-03-13T08:05:28.389Z"
   },
   {
    "duration": 6,
    "start_time": "2022-03-13T08:05:28.395Z"
   },
   {
    "duration": 6,
    "start_time": "2022-03-13T08:05:28.403Z"
   },
   {
    "duration": 3,
    "start_time": "2022-03-13T08:05:28.411Z"
   },
   {
    "duration": 45,
    "start_time": "2022-03-13T08:05:28.416Z"
   },
   {
    "duration": 23,
    "start_time": "2022-03-13T08:05:28.463Z"
   },
   {
    "duration": 432,
    "start_time": "2022-03-13T08:05:28.488Z"
   },
   {
    "duration": 4,
    "start_time": "2022-03-13T08:05:28.923Z"
   },
   {
    "duration": 7,
    "start_time": "2022-03-13T08:05:28.928Z"
   },
   {
    "duration": 4,
    "start_time": "2022-03-13T08:05:28.936Z"
   },
   {
    "duration": 5,
    "start_time": "2022-03-13T08:05:28.959Z"
   },
   {
    "duration": 9,
    "start_time": "2022-03-13T08:05:28.966Z"
   },
   {
    "duration": 13,
    "start_time": "2022-03-13T08:05:28.979Z"
   },
   {
    "duration": 12,
    "start_time": "2022-03-13T08:05:28.994Z"
   },
   {
    "duration": 6,
    "start_time": "2022-03-13T08:05:29.008Z"
   },
   {
    "duration": 5,
    "start_time": "2022-03-13T08:05:29.015Z"
   },
   {
    "duration": 6,
    "start_time": "2022-03-13T08:05:29.060Z"
   },
   {
    "duration": 15,
    "start_time": "2022-03-13T08:05:29.068Z"
   },
   {
    "duration": 21,
    "start_time": "2022-03-13T08:05:29.085Z"
   },
   {
    "duration": 18,
    "start_time": "2022-03-13T08:05:29.107Z"
   },
   {
    "duration": 49,
    "start_time": "2022-03-13T08:05:29.127Z"
   },
   {
    "duration": 6,
    "start_time": "2022-03-13T08:05:29.178Z"
   },
   {
    "duration": 4,
    "start_time": "2022-03-13T08:05:29.186Z"
   },
   {
    "duration": 5,
    "start_time": "2022-03-13T08:05:29.192Z"
   },
   {
    "duration": 16,
    "start_time": "2022-03-13T08:05:29.198Z"
   },
   {
    "duration": 46,
    "start_time": "2022-03-13T08:05:29.216Z"
   },
   {
    "duration": 32,
    "start_time": "2022-03-13T08:05:29.263Z"
   },
   {
    "duration": 10,
    "start_time": "2022-03-13T08:05:29.297Z"
   },
   {
    "duration": 12,
    "start_time": "2022-03-13T08:05:29.309Z"
   },
   {
    "duration": 41,
    "start_time": "2022-03-13T08:05:29.322Z"
   },
   {
    "duration": 12,
    "start_time": "2022-03-13T08:05:29.364Z"
   },
   {
    "duration": 25,
    "start_time": "2022-03-13T08:05:29.378Z"
   },
   {
    "duration": 15,
    "start_time": "2022-03-13T08:05:29.405Z"
   },
   {
    "duration": 42,
    "start_time": "2022-03-13T08:05:29.422Z"
   },
   {
    "duration": 16,
    "start_time": "2022-03-13T08:05:29.465Z"
   },
   {
    "duration": 24,
    "start_time": "2022-03-13T08:05:29.483Z"
   },
   {
    "duration": 18,
    "start_time": "2022-03-13T08:05:29.508Z"
   },
   {
    "duration": 41,
    "start_time": "2022-03-13T08:05:29.527Z"
   },
   {
    "duration": 7,
    "start_time": "2022-03-13T08:05:29.570Z"
   },
   {
    "duration": 26,
    "start_time": "2022-03-13T08:05:29.579Z"
   },
   {
    "duration": 7,
    "start_time": "2022-03-13T08:05:29.606Z"
   },
   {
    "duration": 11,
    "start_time": "2022-03-13T08:05:29.615Z"
   },
   {
    "duration": 33,
    "start_time": "2022-03-13T08:05:29.627Z"
   },
   {
    "duration": 249,
    "start_time": "2022-03-13T08:05:29.662Z"
   },
   {
    "duration": 6,
    "start_time": "2022-03-13T08:05:29.913Z"
   },
   {
    "duration": 261,
    "start_time": "2022-03-13T08:05:29.921Z"
   },
   {
    "duration": 7,
    "start_time": "2022-03-13T08:05:30.184Z"
   },
   {
    "duration": 24,
    "start_time": "2022-03-13T08:05:30.192Z"
   },
   {
    "duration": 59,
    "start_time": "2022-03-13T08:05:30.217Z"
   },
   {
    "duration": 18,
    "start_time": "2022-03-13T08:05:30.277Z"
   },
   {
    "duration": 24,
    "start_time": "2022-03-13T08:05:30.296Z"
   },
   {
    "duration": 40,
    "start_time": "2022-03-13T08:05:30.322Z"
   },
   {
    "duration": 46,
    "start_time": "2022-03-13T08:05:30.364Z"
   },
   {
    "duration": 19,
    "start_time": "2022-03-13T08:05:30.412Z"
   },
   {
    "duration": 60,
    "start_time": "2022-03-13T08:05:30.432Z"
   },
   {
    "duration": 22,
    "start_time": "2022-03-13T08:11:00.917Z"
   },
   {
    "duration": 280,
    "start_time": "2022-03-13T08:11:09.476Z"
   },
   {
    "duration": 194,
    "start_time": "2022-03-13T08:11:13.967Z"
   },
   {
    "duration": 7,
    "start_time": "2022-03-13T08:11:21.716Z"
   },
   {
    "duration": 23,
    "start_time": "2022-03-13T08:11:36.594Z"
   },
   {
    "duration": 26,
    "start_time": "2022-03-13T08:12:07.914Z"
   },
   {
    "duration": 6,
    "start_time": "2022-03-13T08:12:45.048Z"
   },
   {
    "duration": 4,
    "start_time": "2022-03-13T08:15:04.451Z"
   },
   {
    "duration": 4,
    "start_time": "2022-03-13T08:15:13.415Z"
   },
   {
    "duration": 4,
    "start_time": "2022-03-13T08:15:51.881Z"
   },
   {
    "duration": 4,
    "start_time": "2022-03-13T08:16:11.237Z"
   },
   {
    "duration": 4,
    "start_time": "2022-03-13T08:16:25.607Z"
   },
   {
    "duration": 4,
    "start_time": "2022-03-13T08:18:37.884Z"
   },
   {
    "duration": 4,
    "start_time": "2022-03-13T08:19:00.058Z"
   },
   {
    "duration": 21,
    "start_time": "2022-03-13T08:24:50.620Z"
   },
   {
    "duration": 1144,
    "start_time": "2022-03-13T08:25:30.058Z"
   },
   {
    "duration": 47,
    "start_time": "2022-03-13T08:25:31.204Z"
   },
   {
    "duration": 12,
    "start_time": "2022-03-13T08:25:31.253Z"
   },
   {
    "duration": 24,
    "start_time": "2022-03-13T08:25:31.267Z"
   },
   {
    "duration": 22,
    "start_time": "2022-03-13T08:25:31.293Z"
   },
   {
    "duration": 27,
    "start_time": "2022-03-13T08:25:31.317Z"
   },
   {
    "duration": 28,
    "start_time": "2022-03-13T08:25:31.346Z"
   },
   {
    "duration": 7,
    "start_time": "2022-03-13T08:25:31.376Z"
   },
   {
    "duration": 15,
    "start_time": "2022-03-13T08:25:31.386Z"
   },
   {
    "duration": 24,
    "start_time": "2022-03-13T08:25:31.404Z"
   },
   {
    "duration": 28,
    "start_time": "2022-03-13T08:25:31.430Z"
   },
   {
    "duration": 16,
    "start_time": "2022-03-13T08:25:31.460Z"
   },
   {
    "duration": 6,
    "start_time": "2022-03-13T08:25:31.478Z"
   },
   {
    "duration": 24,
    "start_time": "2022-03-13T08:25:31.486Z"
   },
   {
    "duration": 21,
    "start_time": "2022-03-13T08:25:31.511Z"
   },
   {
    "duration": 15,
    "start_time": "2022-03-13T08:25:31.534Z"
   },
   {
    "duration": 444,
    "start_time": "2022-03-13T08:25:31.551Z"
   },
   {
    "duration": 5,
    "start_time": "2022-03-13T08:25:31.997Z"
   },
   {
    "duration": 17,
    "start_time": "2022-03-13T08:25:32.004Z"
   },
   {
    "duration": 17,
    "start_time": "2022-03-13T08:25:32.023Z"
   },
   {
    "duration": 37,
    "start_time": "2022-03-13T08:25:32.042Z"
   },
   {
    "duration": 27,
    "start_time": "2022-03-13T08:25:32.081Z"
   },
   {
    "duration": 29,
    "start_time": "2022-03-13T08:25:32.110Z"
   },
   {
    "duration": 27,
    "start_time": "2022-03-13T08:25:32.140Z"
   },
   {
    "duration": 25,
    "start_time": "2022-03-13T08:25:32.169Z"
   },
   {
    "duration": 29,
    "start_time": "2022-03-13T08:25:32.196Z"
   },
   {
    "duration": 14,
    "start_time": "2022-03-13T08:25:32.230Z"
   },
   {
    "duration": 30,
    "start_time": "2022-03-13T08:25:32.247Z"
   },
   {
    "duration": 31,
    "start_time": "2022-03-13T08:25:32.279Z"
   },
   {
    "duration": 21,
    "start_time": "2022-03-13T08:25:32.312Z"
   },
   {
    "duration": 33,
    "start_time": "2022-03-13T08:25:32.335Z"
   },
   {
    "duration": 8,
    "start_time": "2022-03-13T08:25:32.370Z"
   },
   {
    "duration": 24,
    "start_time": "2022-03-13T08:25:32.380Z"
   },
   {
    "duration": 21,
    "start_time": "2022-03-13T08:25:32.406Z"
   },
   {
    "duration": 28,
    "start_time": "2022-03-13T08:25:32.428Z"
   },
   {
    "duration": 26,
    "start_time": "2022-03-13T08:25:32.458Z"
   },
   {
    "duration": 40,
    "start_time": "2022-03-13T08:25:32.486Z"
   },
   {
    "duration": 13,
    "start_time": "2022-03-13T08:25:32.528Z"
   },
   {
    "duration": 32,
    "start_time": "2022-03-13T08:25:32.542Z"
   },
   {
    "duration": 18,
    "start_time": "2022-03-13T08:25:32.576Z"
   },
   {
    "duration": 20,
    "start_time": "2022-03-13T08:25:32.596Z"
   },
   {
    "duration": 33,
    "start_time": "2022-03-13T08:25:32.618Z"
   },
   {
    "duration": 25,
    "start_time": "2022-03-13T08:25:32.653Z"
   },
   {
    "duration": 25,
    "start_time": "2022-03-13T08:25:32.680Z"
   },
   {
    "duration": 17,
    "start_time": "2022-03-13T08:25:32.708Z"
   },
   {
    "duration": 37,
    "start_time": "2022-03-13T08:25:32.727Z"
   },
   {
    "duration": 18,
    "start_time": "2022-03-13T08:25:32.766Z"
   },
   {
    "duration": 17,
    "start_time": "2022-03-13T08:25:32.786Z"
   },
   {
    "duration": 14,
    "start_time": "2022-03-13T08:25:32.805Z"
   },
   {
    "duration": 30,
    "start_time": "2022-03-13T08:25:32.821Z"
   },
   {
    "duration": 9,
    "start_time": "2022-03-13T08:25:32.860Z"
   },
   {
    "duration": 26,
    "start_time": "2022-03-13T08:25:32.871Z"
   },
   {
    "duration": 30,
    "start_time": "2022-03-13T08:25:32.898Z"
   },
   {
    "duration": 257,
    "start_time": "2022-03-13T08:25:32.930Z"
   },
   {
    "duration": 6,
    "start_time": "2022-03-13T08:25:33.189Z"
   },
   {
    "duration": 261,
    "start_time": "2022-03-13T08:25:33.196Z"
   },
   {
    "duration": 7,
    "start_time": "2022-03-13T08:25:33.458Z"
   },
   {
    "duration": 48,
    "start_time": "2022-03-13T08:25:33.466Z"
   },
   {
    "duration": 39,
    "start_time": "2022-03-13T08:25:33.516Z"
   },
   {
    "duration": 17,
    "start_time": "2022-03-13T08:25:33.557Z"
   },
   {
    "duration": 21,
    "start_time": "2022-03-13T08:25:33.575Z"
   },
   {
    "duration": 24,
    "start_time": "2022-03-13T08:25:33.597Z"
   },
   {
    "duration": 36,
    "start_time": "2022-03-13T08:25:33.624Z"
   },
   {
    "duration": 48,
    "start_time": "2022-03-13T08:25:33.662Z"
   },
   {
    "duration": 19,
    "start_time": "2022-03-13T08:25:33.712Z"
   },
   {
    "duration": 60,
    "start_time": "2022-03-13T08:25:33.733Z"
   },
   {
    "duration": 23,
    "start_time": "2022-03-13T08:25:33.795Z"
   },
   {
    "duration": 6,
    "start_time": "2022-03-13T08:25:33.819Z"
   },
   {
    "duration": 34,
    "start_time": "2022-03-13T08:25:33.826Z"
   },
   {
    "duration": 17,
    "start_time": "2022-03-13T08:25:33.861Z"
   },
   {
    "duration": 18,
    "start_time": "2022-03-13T08:26:33.343Z"
   },
   {
    "duration": 6,
    "start_time": "2022-03-13T08:26:42.648Z"
   },
   {
    "duration": 10,
    "start_time": "2022-03-13T08:30:18.633Z"
   },
   {
    "duration": 1221,
    "start_time": "2022-03-13T08:30:32.572Z"
   },
   {
    "duration": 52,
    "start_time": "2022-03-13T08:30:33.796Z"
   },
   {
    "duration": 14,
    "start_time": "2022-03-13T08:30:33.850Z"
   },
   {
    "duration": 18,
    "start_time": "2022-03-13T08:30:33.866Z"
   },
   {
    "duration": 6,
    "start_time": "2022-03-13T08:30:33.886Z"
   },
   {
    "duration": 4,
    "start_time": "2022-03-13T08:30:33.894Z"
   },
   {
    "duration": 59,
    "start_time": "2022-03-13T08:30:33.901Z"
   },
   {
    "duration": 5,
    "start_time": "2022-03-13T08:30:33.963Z"
   },
   {
    "duration": 8,
    "start_time": "2022-03-13T08:30:33.972Z"
   },
   {
    "duration": 4,
    "start_time": "2022-03-13T08:30:33.982Z"
   },
   {
    "duration": 5,
    "start_time": "2022-03-13T08:30:33.988Z"
   },
   {
    "duration": 7,
    "start_time": "2022-03-13T08:30:33.995Z"
   },
   {
    "duration": 9,
    "start_time": "2022-03-13T08:30:34.004Z"
   },
   {
    "duration": 45,
    "start_time": "2022-03-13T08:30:34.015Z"
   },
   {
    "duration": 4,
    "start_time": "2022-03-13T08:30:34.062Z"
   },
   {
    "duration": 5,
    "start_time": "2022-03-13T08:30:34.068Z"
   },
   {
    "duration": 453,
    "start_time": "2022-03-13T08:30:34.075Z"
   },
   {
    "duration": 6,
    "start_time": "2022-03-13T08:30:34.530Z"
   },
   {
    "duration": 24,
    "start_time": "2022-03-13T08:30:34.538Z"
   },
   {
    "duration": 5,
    "start_time": "2022-03-13T08:30:34.564Z"
   },
   {
    "duration": 22,
    "start_time": "2022-03-13T08:30:34.571Z"
   },
   {
    "duration": 14,
    "start_time": "2022-03-13T08:30:34.595Z"
   },
   {
    "duration": 13,
    "start_time": "2022-03-13T08:30:34.611Z"
   },
   {
    "duration": 34,
    "start_time": "2022-03-13T08:30:34.626Z"
   },
   {
    "duration": 8,
    "start_time": "2022-03-13T08:30:34.662Z"
   },
   {
    "duration": 6,
    "start_time": "2022-03-13T08:30:34.672Z"
   },
   {
    "duration": 5,
    "start_time": "2022-03-13T08:30:34.684Z"
   },
   {
    "duration": 15,
    "start_time": "2022-03-13T08:30:34.692Z"
   },
   {
    "duration": 64,
    "start_time": "2022-03-13T08:30:34.708Z"
   },
   {
    "duration": 21,
    "start_time": "2022-03-13T08:30:34.773Z"
   },
   {
    "duration": 21,
    "start_time": "2022-03-13T08:30:34.796Z"
   },
   {
    "duration": 6,
    "start_time": "2022-03-13T08:30:34.818Z"
   },
   {
    "duration": 5,
    "start_time": "2022-03-13T08:30:34.826Z"
   },
   {
    "duration": 3,
    "start_time": "2022-03-13T08:30:34.860Z"
   },
   {
    "duration": 17,
    "start_time": "2022-03-13T08:30:34.864Z"
   },
   {
    "duration": 6,
    "start_time": "2022-03-13T08:30:34.883Z"
   },
   {
    "duration": 45,
    "start_time": "2022-03-13T08:30:34.891Z"
   },
   {
    "duration": 12,
    "start_time": "2022-03-13T08:30:34.959Z"
   },
   {
    "duration": 13,
    "start_time": "2022-03-13T08:30:34.972Z"
   },
   {
    "duration": 16,
    "start_time": "2022-03-13T08:30:34.987Z"
   },
   {
    "duration": 11,
    "start_time": "2022-03-13T08:30:35.005Z"
   },
   {
    "duration": 61,
    "start_time": "2022-03-13T08:30:35.018Z"
   },
   {
    "duration": 17,
    "start_time": "2022-03-13T08:30:35.081Z"
   },
   {
    "duration": 22,
    "start_time": "2022-03-13T08:30:35.099Z"
   },
   {
    "duration": 16,
    "start_time": "2022-03-13T08:30:35.123Z"
   },
   {
    "duration": 23,
    "start_time": "2022-03-13T08:30:35.159Z"
   },
   {
    "duration": 18,
    "start_time": "2022-03-13T08:30:35.184Z"
   },
   {
    "duration": 16,
    "start_time": "2022-03-13T08:30:35.203Z"
   },
   {
    "duration": 9,
    "start_time": "2022-03-13T08:30:35.221Z"
   },
   {
    "duration": 15,
    "start_time": "2022-03-13T08:30:35.259Z"
   },
   {
    "duration": 11,
    "start_time": "2022-03-13T08:30:35.276Z"
   },
   {
    "duration": 9,
    "start_time": "2022-03-13T08:30:35.289Z"
   },
   {
    "duration": 13,
    "start_time": "2022-03-13T08:30:35.300Z"
   },
   {
    "duration": 274,
    "start_time": "2022-03-13T08:30:35.314Z"
   },
   {
    "duration": 7,
    "start_time": "2022-03-13T08:30:35.590Z"
   },
   {
    "duration": 257,
    "start_time": "2022-03-13T08:30:35.598Z"
   },
   {
    "duration": 7,
    "start_time": "2022-03-13T08:30:35.859Z"
   },
   {
    "duration": 20,
    "start_time": "2022-03-13T08:30:35.868Z"
   },
   {
    "duration": 39,
    "start_time": "2022-03-13T08:30:35.890Z"
   },
   {
    "duration": 32,
    "start_time": "2022-03-13T08:30:35.930Z"
   },
   {
    "duration": 21,
    "start_time": "2022-03-13T08:30:35.963Z"
   },
   {
    "duration": 4,
    "start_time": "2022-03-13T08:30:35.985Z"
   },
   {
    "duration": 25,
    "start_time": "2022-03-13T08:30:35.990Z"
   },
   {
    "duration": 53,
    "start_time": "2022-03-13T08:30:36.016Z"
   },
   {
    "duration": 19,
    "start_time": "2022-03-13T08:30:36.071Z"
   },
   {
    "duration": 46,
    "start_time": "2022-03-13T08:30:36.092Z"
   },
   {
    "duration": 19,
    "start_time": "2022-03-13T08:30:36.159Z"
   },
   {
    "duration": 39,
    "start_time": "2022-03-13T08:30:36.180Z"
   },
   {
    "duration": 44,
    "start_time": "2022-03-13T08:30:36.221Z"
   },
   {
    "duration": 6,
    "start_time": "2022-03-13T08:30:36.267Z"
   },
   {
    "duration": 12,
    "start_time": "2022-03-13T08:30:36.274Z"
   },
   {
    "duration": 6,
    "start_time": "2022-03-13T08:30:36.288Z"
   },
   {
    "duration": 4,
    "start_time": "2022-03-13T08:31:32.243Z"
   },
   {
    "duration": 4,
    "start_time": "2022-03-13T08:31:48.567Z"
   },
   {
    "duration": 4,
    "start_time": "2022-03-13T08:32:06.312Z"
   },
   {
    "duration": 36,
    "start_time": "2022-03-13T08:45:02.059Z"
   },
   {
    "duration": 47,
    "start_time": "2022-03-13T08:54:37.546Z"
   },
   {
    "duration": 265,
    "start_time": "2022-03-13T09:52:04.491Z"
   },
   {
    "duration": 1090,
    "start_time": "2022-03-13T09:52:15.923Z"
   },
   {
    "duration": 51,
    "start_time": "2022-03-13T09:52:17.015Z"
   },
   {
    "duration": 15,
    "start_time": "2022-03-13T09:52:17.068Z"
   },
   {
    "duration": 25,
    "start_time": "2022-03-13T09:52:17.085Z"
   },
   {
    "duration": 5,
    "start_time": "2022-03-13T09:52:17.111Z"
   },
   {
    "duration": 15,
    "start_time": "2022-03-13T09:52:17.118Z"
   },
   {
    "duration": 43,
    "start_time": "2022-03-13T09:52:17.135Z"
   },
   {
    "duration": 8,
    "start_time": "2022-03-13T09:52:17.181Z"
   },
   {
    "duration": 14,
    "start_time": "2022-03-13T09:52:17.191Z"
   },
   {
    "duration": 4,
    "start_time": "2022-03-13T09:52:17.207Z"
   },
   {
    "duration": 12,
    "start_time": "2022-03-13T09:52:17.213Z"
   },
   {
    "duration": 34,
    "start_time": "2022-03-13T09:52:17.227Z"
   },
   {
    "duration": 8,
    "start_time": "2022-03-13T09:52:17.263Z"
   },
   {
    "duration": 5,
    "start_time": "2022-03-13T09:52:17.273Z"
   },
   {
    "duration": 6,
    "start_time": "2022-03-13T09:52:17.280Z"
   },
   {
    "duration": 12,
    "start_time": "2022-03-13T09:52:17.288Z"
   },
   {
    "duration": 457,
    "start_time": "2022-03-13T09:52:17.301Z"
   },
   {
    "duration": 4,
    "start_time": "2022-03-13T09:52:17.759Z"
   },
   {
    "duration": 14,
    "start_time": "2022-03-13T09:52:17.764Z"
   },
   {
    "duration": 9,
    "start_time": "2022-03-13T09:52:17.779Z"
   },
   {
    "duration": 20,
    "start_time": "2022-03-13T09:52:17.789Z"
   },
   {
    "duration": 25,
    "start_time": "2022-03-13T09:52:17.810Z"
   },
   {
    "duration": 49,
    "start_time": "2022-03-13T09:52:17.838Z"
   },
   {
    "duration": 13,
    "start_time": "2022-03-13T09:52:17.890Z"
   },
   {
    "duration": 31,
    "start_time": "2022-03-13T09:52:17.905Z"
   },
   {
    "duration": 12,
    "start_time": "2022-03-13T09:52:17.938Z"
   },
   {
    "duration": 36,
    "start_time": "2022-03-13T09:52:17.951Z"
   },
   {
    "duration": 35,
    "start_time": "2022-03-13T09:52:17.989Z"
   },
   {
    "duration": 36,
    "start_time": "2022-03-13T09:52:18.026Z"
   },
   {
    "duration": 20,
    "start_time": "2022-03-13T09:52:18.064Z"
   },
   {
    "duration": 33,
    "start_time": "2022-03-13T09:52:18.085Z"
   },
   {
    "duration": 8,
    "start_time": "2022-03-13T09:52:18.121Z"
   },
   {
    "duration": 33,
    "start_time": "2022-03-13T09:52:18.130Z"
   },
   {
    "duration": 9,
    "start_time": "2022-03-13T09:52:18.165Z"
   },
   {
    "duration": 26,
    "start_time": "2022-03-13T09:52:18.175Z"
   },
   {
    "duration": 10,
    "start_time": "2022-03-13T09:52:18.202Z"
   },
   {
    "duration": 44,
    "start_time": "2022-03-13T09:52:18.213Z"
   },
   {
    "duration": 11,
    "start_time": "2022-03-13T09:52:18.259Z"
   },
   {
    "duration": 30,
    "start_time": "2022-03-13T09:52:18.272Z"
   },
   {
    "duration": 16,
    "start_time": "2022-03-13T09:52:18.304Z"
   },
   {
    "duration": 22,
    "start_time": "2022-03-13T09:52:18.322Z"
   },
   {
    "duration": 34,
    "start_time": "2022-03-13T09:52:18.346Z"
   },
   {
    "duration": 17,
    "start_time": "2022-03-13T09:52:18.381Z"
   },
   {
    "duration": 16,
    "start_time": "2022-03-13T09:52:18.400Z"
   },
   {
    "duration": 15,
    "start_time": "2022-03-13T09:52:18.418Z"
   },
   {
    "duration": 37,
    "start_time": "2022-03-13T09:52:18.460Z"
   },
   {
    "duration": 17,
    "start_time": "2022-03-13T09:52:18.499Z"
   },
   {
    "duration": 15,
    "start_time": "2022-03-13T09:52:18.517Z"
   },
   {
    "duration": 30,
    "start_time": "2022-03-13T09:52:18.534Z"
   },
   {
    "duration": 9,
    "start_time": "2022-03-13T09:52:18.565Z"
   },
   {
    "duration": 7,
    "start_time": "2022-03-13T09:52:18.576Z"
   },
   {
    "duration": 25,
    "start_time": "2022-03-13T09:52:18.585Z"
   },
   {
    "duration": 17,
    "start_time": "2022-03-13T09:52:18.612Z"
   },
   {
    "duration": 264,
    "start_time": "2022-03-13T09:52:18.631Z"
   },
   {
    "duration": 6,
    "start_time": "2022-03-13T09:52:18.897Z"
   },
   {
    "duration": 284,
    "start_time": "2022-03-13T09:52:18.905Z"
   },
   {
    "duration": 7,
    "start_time": "2022-03-13T09:52:19.191Z"
   },
   {
    "duration": 24,
    "start_time": "2022-03-13T09:52:19.200Z"
   },
   {
    "duration": 61,
    "start_time": "2022-03-13T09:52:19.226Z"
   },
   {
    "duration": 6,
    "start_time": "2022-03-13T09:52:19.288Z"
   },
   {
    "duration": 30,
    "start_time": "2022-03-13T09:52:19.295Z"
   },
   {
    "duration": 51,
    "start_time": "2022-03-13T09:52:19.326Z"
   },
   {
    "duration": 17,
    "start_time": "2022-03-13T09:52:19.379Z"
   },
   {
    "duration": 63,
    "start_time": "2022-03-13T09:52:19.398Z"
   },
   {
    "duration": 19,
    "start_time": "2022-03-13T09:52:19.462Z"
   },
   {
    "duration": 41,
    "start_time": "2022-03-13T09:52:19.483Z"
   },
   {
    "duration": 55,
    "start_time": "2022-03-13T09:52:19.526Z"
   },
   {
    "duration": 1492,
    "start_time": "2022-03-22T08:27:05.106Z"
   },
   {
    "duration": 85,
    "start_time": "2022-03-22T08:27:06.602Z"
   },
   {
    "duration": 32,
    "start_time": "2022-03-22T08:27:06.689Z"
   },
   {
    "duration": 45,
    "start_time": "2022-03-22T08:27:06.724Z"
   },
   {
    "duration": 7,
    "start_time": "2022-03-22T08:27:06.772Z"
   },
   {
    "duration": 9,
    "start_time": "2022-03-22T08:27:06.781Z"
   },
   {
    "duration": 36,
    "start_time": "2022-03-22T08:27:06.792Z"
   },
   {
    "duration": 7,
    "start_time": "2022-03-22T08:27:06.868Z"
   },
   {
    "duration": 11,
    "start_time": "2022-03-22T08:27:06.877Z"
   },
   {
    "duration": 5,
    "start_time": "2022-03-22T08:27:06.892Z"
   },
   {
    "duration": 8,
    "start_time": "2022-03-22T08:27:06.900Z"
   },
   {
    "duration": 9,
    "start_time": "2022-03-22T08:27:06.910Z"
   },
   {
    "duration": 52,
    "start_time": "2022-03-22T08:27:06.922Z"
   },
   {
    "duration": 8,
    "start_time": "2022-03-22T08:27:06.977Z"
   },
   {
    "duration": 6,
    "start_time": "2022-03-22T08:27:06.989Z"
   },
   {
    "duration": 7,
    "start_time": "2022-03-22T08:27:06.997Z"
   },
   {
    "duration": 383,
    "start_time": "2022-03-22T08:27:07.007Z"
   },
   {
    "duration": 6,
    "start_time": "2022-03-22T08:27:07.393Z"
   },
   {
    "duration": 12,
    "start_time": "2022-03-22T08:27:07.401Z"
   },
   {
    "duration": 6,
    "start_time": "2022-03-22T08:27:07.416Z"
   },
   {
    "duration": 43,
    "start_time": "2022-03-22T08:27:07.425Z"
   },
   {
    "duration": 21,
    "start_time": "2022-03-22T08:27:07.471Z"
   },
   {
    "duration": 22,
    "start_time": "2022-03-22T08:27:07.494Z"
   },
   {
    "duration": 50,
    "start_time": "2022-03-22T08:27:07.519Z"
   },
   {
    "duration": 8,
    "start_time": "2022-03-22T08:27:07.572Z"
   },
   {
    "duration": 12,
    "start_time": "2022-03-22T08:27:07.582Z"
   },
   {
    "duration": 8,
    "start_time": "2022-03-22T08:27:07.597Z"
   },
   {
    "duration": 59,
    "start_time": "2022-03-22T08:27:07.614Z"
   },
   {
    "duration": 39,
    "start_time": "2022-03-22T08:27:07.676Z"
   },
   {
    "duration": 60,
    "start_time": "2022-03-22T08:27:07.717Z"
   },
   {
    "duration": 32,
    "start_time": "2022-03-22T08:27:07.779Z"
   },
   {
    "duration": 9,
    "start_time": "2022-03-22T08:27:07.813Z"
   },
   {
    "duration": 8,
    "start_time": "2022-03-22T08:27:07.824Z"
   },
   {
    "duration": 5,
    "start_time": "2022-03-22T08:27:07.868Z"
   },
   {
    "duration": 28,
    "start_time": "2022-03-22T08:27:07.875Z"
   },
   {
    "duration": 13,
    "start_time": "2022-03-22T08:27:07.905Z"
   },
   {
    "duration": 64,
    "start_time": "2022-03-22T08:27:07.920Z"
   },
   {
    "duration": 22,
    "start_time": "2022-03-22T08:27:07.987Z"
   },
   {
    "duration": 24,
    "start_time": "2022-03-22T08:27:08.012Z"
   },
   {
    "duration": 23,
    "start_time": "2022-03-22T08:27:08.067Z"
   },
   {
    "duration": 18,
    "start_time": "2022-03-22T08:27:08.092Z"
   },
   {
    "duration": 63,
    "start_time": "2022-03-22T08:27:08.113Z"
   },
   {
    "duration": 20,
    "start_time": "2022-03-22T08:27:08.178Z"
   },
   {
    "duration": 21,
    "start_time": "2022-03-22T08:27:08.200Z"
   },
   {
    "duration": 63,
    "start_time": "2022-03-22T08:27:08.223Z"
   },
   {
    "duration": 38,
    "start_time": "2022-03-22T08:27:08.288Z"
   },
   {
    "duration": 55,
    "start_time": "2022-03-22T08:27:08.328Z"
   },
   {
    "duration": 27,
    "start_time": "2022-03-22T08:27:08.385Z"
   },
   {
    "duration": 14,
    "start_time": "2022-03-22T08:27:08.414Z"
   },
   {
    "duration": 52,
    "start_time": "2022-03-22T08:27:08.430Z"
   },
   {
    "duration": 15,
    "start_time": "2022-03-22T08:27:08.485Z"
   },
   {
    "duration": 20,
    "start_time": "2022-03-22T08:27:08.502Z"
   },
   {
    "duration": 48,
    "start_time": "2022-03-22T08:27:08.524Z"
   },
   {
    "duration": 262,
    "start_time": "2022-03-22T08:27:08.575Z"
   },
   {
    "duration": 10,
    "start_time": "2022-03-22T08:27:08.839Z"
   },
   {
    "duration": 280,
    "start_time": "2022-03-22T08:27:08.851Z"
   },
   {
    "duration": 9,
    "start_time": "2022-03-22T08:27:09.134Z"
   },
   {
    "duration": 46,
    "start_time": "2022-03-22T08:27:09.146Z"
   },
   {
    "duration": 54,
    "start_time": "2022-03-22T08:27:09.195Z"
   },
   {
    "duration": 9,
    "start_time": "2022-03-22T08:27:09.268Z"
   },
   {
    "duration": 28,
    "start_time": "2022-03-22T08:27:09.279Z"
   },
   {
    "duration": 82,
    "start_time": "2022-03-22T08:27:09.310Z"
   },
   {
    "duration": 30,
    "start_time": "2022-03-22T08:27:09.395Z"
   },
   {
    "duration": 89,
    "start_time": "2022-03-22T08:27:09.428Z"
   },
   {
    "duration": 49,
    "start_time": "2022-03-22T08:27:09.521Z"
   },
   {
    "duration": 57,
    "start_time": "2022-03-22T08:27:09.572Z"
   },
   {
    "duration": 60,
    "start_time": "2022-03-22T08:27:09.631Z"
   },
   {
    "duration": 6,
    "start_time": "2022-03-22T09:05:20.941Z"
   },
   {
    "duration": 97,
    "start_time": "2022-03-22T09:27:07.809Z"
   },
   {
    "duration": 48,
    "start_time": "2022-03-22T09:27:12.773Z"
   },
   {
    "duration": 1768,
    "start_time": "2022-03-22T09:28:24.867Z"
   },
   {
    "duration": 256,
    "start_time": "2022-03-22T09:28:26.638Z"
   },
   {
    "duration": 25,
    "start_time": "2022-03-22T09:28:26.896Z"
   },
   {
    "duration": 47,
    "start_time": "2022-03-22T09:28:26.924Z"
   },
   {
    "duration": 7,
    "start_time": "2022-03-22T09:28:26.974Z"
   },
   {
    "duration": 10,
    "start_time": "2022-03-22T09:28:26.983Z"
   },
   {
    "duration": 74,
    "start_time": "2022-03-22T09:28:26.996Z"
   },
   {
    "duration": 8,
    "start_time": "2022-03-22T09:28:27.073Z"
   },
   {
    "duration": 13,
    "start_time": "2022-03-22T09:28:27.084Z"
   },
   {
    "duration": 7,
    "start_time": "2022-03-22T09:28:27.103Z"
   },
   {
    "duration": 15,
    "start_time": "2022-03-22T09:28:27.112Z"
   },
   {
    "duration": 10,
    "start_time": "2022-03-22T09:28:27.167Z"
   },
   {
    "duration": 14,
    "start_time": "2022-03-22T09:28:27.179Z"
   },
   {
    "duration": 7,
    "start_time": "2022-03-22T09:28:27.195Z"
   },
   {
    "duration": 7,
    "start_time": "2022-03-22T09:28:27.204Z"
   },
   {
    "duration": 7,
    "start_time": "2022-03-22T09:28:27.213Z"
   },
   {
    "duration": 369,
    "start_time": "2022-03-22T09:28:27.222Z"
   },
   {
    "duration": 6,
    "start_time": "2022-03-22T09:28:27.594Z"
   },
   {
    "duration": 9,
    "start_time": "2022-03-22T09:28:27.602Z"
   },
   {
    "duration": 6,
    "start_time": "2022-03-22T09:28:27.613Z"
   },
   {
    "duration": 49,
    "start_time": "2022-03-22T09:28:27.622Z"
   },
   {
    "duration": 20,
    "start_time": "2022-03-22T09:28:27.673Z"
   },
   {
    "duration": 25,
    "start_time": "2022-03-22T09:28:27.696Z"
   },
   {
    "duration": 49,
    "start_time": "2022-03-22T09:28:27.723Z"
   },
   {
    "duration": 10,
    "start_time": "2022-03-22T09:28:27.775Z"
   },
   {
    "duration": 13,
    "start_time": "2022-03-22T09:28:27.787Z"
   },
   {
    "duration": 10,
    "start_time": "2022-03-22T09:28:27.803Z"
   },
   {
    "duration": 23,
    "start_time": "2022-03-22T09:28:27.867Z"
   },
   {
    "duration": 40,
    "start_time": "2022-03-22T09:28:27.892Z"
   },
   {
    "duration": 53,
    "start_time": "2022-03-22T09:28:27.935Z"
   },
   {
    "duration": 33,
    "start_time": "2022-03-22T09:28:27.990Z"
   },
   {
    "duration": 43,
    "start_time": "2022-03-22T09:28:28.025Z"
   },
   {
    "duration": 14,
    "start_time": "2022-03-22T09:28:28.071Z"
   },
   {
    "duration": 22,
    "start_time": "2022-03-22T09:28:28.088Z"
   },
   {
    "duration": 34,
    "start_time": "2022-03-22T09:28:28.113Z"
   },
   {
    "duration": 30,
    "start_time": "2022-03-22T09:28:28.150Z"
   },
   {
    "duration": 60,
    "start_time": "2022-03-22T09:28:28.183Z"
   },
   {
    "duration": 31,
    "start_time": "2022-03-22T09:28:28.245Z"
   },
   {
    "duration": 41,
    "start_time": "2022-03-22T09:28:28.278Z"
   },
   {
    "duration": 20,
    "start_time": "2022-03-22T09:28:28.321Z"
   },
   {
    "duration": 33,
    "start_time": "2022-03-22T09:28:28.344Z"
   },
   {
    "duration": 28,
    "start_time": "2022-03-22T09:28:28.379Z"
   },
   {
    "duration": 27,
    "start_time": "2022-03-22T09:28:28.410Z"
   },
   {
    "duration": 30,
    "start_time": "2022-03-22T09:28:28.468Z"
   },
   {
    "duration": 41,
    "start_time": "2022-03-22T09:28:28.501Z"
   },
   {
    "duration": 58,
    "start_time": "2022-03-22T09:28:28.544Z"
   },
   {
    "duration": 31,
    "start_time": "2022-03-22T09:28:28.605Z"
   },
   {
    "duration": 46,
    "start_time": "2022-03-22T09:28:28.638Z"
   },
   {
    "duration": 19,
    "start_time": "2022-03-22T09:28:28.686Z"
   },
   {
    "duration": 28,
    "start_time": "2022-03-22T09:28:28.709Z"
   },
   {
    "duration": 36,
    "start_time": "2022-03-22T09:28:28.740Z"
   },
   {
    "duration": 23,
    "start_time": "2022-03-22T09:28:28.778Z"
   },
   {
    "duration": 34,
    "start_time": "2022-03-22T09:28:28.804Z"
   },
   {
    "duration": 274,
    "start_time": "2022-03-22T09:28:28.841Z"
   },
   {
    "duration": 13,
    "start_time": "2022-03-22T09:28:29.117Z"
   },
   {
    "duration": 403,
    "start_time": "2022-03-22T09:28:29.133Z"
   },
   {
    "duration": 12,
    "start_time": "2022-03-22T09:28:29.539Z"
   },
   {
    "duration": 52,
    "start_time": "2022-03-22T09:28:29.553Z"
   },
   {
    "duration": 77,
    "start_time": "2022-03-22T09:28:29.608Z"
   },
   {
    "duration": 50,
    "start_time": "2022-03-22T09:28:29.688Z"
   },
   {
    "duration": 32,
    "start_time": "2022-03-22T09:28:29.742Z"
   },
   {
    "duration": 65,
    "start_time": "2022-03-22T09:28:29.777Z"
   },
   {
    "duration": 66,
    "start_time": "2022-03-22T09:28:29.845Z"
   },
   {
    "duration": 26,
    "start_time": "2022-03-22T09:28:29.914Z"
   },
   {
    "duration": 85,
    "start_time": "2022-03-22T09:28:29.943Z"
   },
   {
    "duration": 49,
    "start_time": "2022-03-22T09:28:30.031Z"
   },
   {
    "duration": 57,
    "start_time": "2022-03-22T09:28:30.082Z"
   },
   {
    "duration": 57,
    "start_time": "2022-03-22T09:28:30.141Z"
   },
   {
    "duration": 1513,
    "start_time": "2022-03-22T09:29:08.773Z"
   },
   {
    "duration": 71,
    "start_time": "2022-03-22T09:29:10.288Z"
   },
   {
    "duration": 27,
    "start_time": "2022-03-22T09:29:10.362Z"
   },
   {
    "duration": 25,
    "start_time": "2022-03-22T09:29:10.393Z"
   },
   {
    "duration": 9,
    "start_time": "2022-03-22T09:29:10.420Z"
   },
   {
    "duration": 5,
    "start_time": "2022-03-22T09:29:10.468Z"
   },
   {
    "duration": 35,
    "start_time": "2022-03-22T09:29:10.476Z"
   },
   {
    "duration": 7,
    "start_time": "2022-03-22T09:29:10.515Z"
   },
   {
    "duration": 53,
    "start_time": "2022-03-22T09:29:10.525Z"
   },
   {
    "duration": 7,
    "start_time": "2022-03-22T09:29:10.583Z"
   },
   {
    "duration": 7,
    "start_time": "2022-03-22T09:29:10.592Z"
   },
   {
    "duration": 12,
    "start_time": "2022-03-22T09:29:10.601Z"
   },
   {
    "duration": 56,
    "start_time": "2022-03-22T09:29:10.616Z"
   },
   {
    "duration": 9,
    "start_time": "2022-03-22T09:29:10.675Z"
   },
   {
    "duration": 8,
    "start_time": "2022-03-22T09:29:10.686Z"
   },
   {
    "duration": 11,
    "start_time": "2022-03-22T09:29:10.697Z"
   },
   {
    "duration": 564,
    "start_time": "2022-03-22T09:29:10.711Z"
   },
   {
    "duration": 6,
    "start_time": "2022-03-22T09:29:11.278Z"
   },
   {
    "duration": 7,
    "start_time": "2022-03-22T09:29:11.287Z"
   },
   {
    "duration": 7,
    "start_time": "2022-03-22T09:29:11.297Z"
   },
   {
    "duration": 10,
    "start_time": "2022-03-22T09:29:11.307Z"
   },
   {
    "duration": 60,
    "start_time": "2022-03-22T09:29:11.320Z"
   },
   {
    "duration": 32,
    "start_time": "2022-03-22T09:29:11.383Z"
   },
   {
    "duration": 51,
    "start_time": "2022-03-22T09:29:11.418Z"
   },
   {
    "duration": 9,
    "start_time": "2022-03-22T09:29:11.472Z"
   },
   {
    "duration": 14,
    "start_time": "2022-03-22T09:29:11.485Z"
   },
   {
    "duration": 10,
    "start_time": "2022-03-22T09:29:11.503Z"
   },
   {
    "duration": 62,
    "start_time": "2022-03-22T09:29:11.520Z"
   },
   {
    "duration": 38,
    "start_time": "2022-03-22T09:29:11.585Z"
   },
   {
    "duration": 57,
    "start_time": "2022-03-22T09:29:11.625Z"
   },
   {
    "duration": 32,
    "start_time": "2022-03-22T09:29:11.684Z"
   },
   {
    "duration": 9,
    "start_time": "2022-03-22T09:29:11.719Z"
   },
   {
    "duration": 7,
    "start_time": "2022-03-22T09:29:11.768Z"
   },
   {
    "duration": 10,
    "start_time": "2022-03-22T09:29:11.777Z"
   },
   {
    "duration": 27,
    "start_time": "2022-03-22T09:29:11.789Z"
   },
   {
    "duration": 10,
    "start_time": "2022-03-22T09:29:11.819Z"
   },
   {
    "duration": 35,
    "start_time": "2022-03-22T09:29:11.867Z"
   },
   {
    "duration": 21,
    "start_time": "2022-03-22T09:29:11.904Z"
   },
   {
    "duration": 52,
    "start_time": "2022-03-22T09:29:11.928Z"
   },
   {
    "duration": 21,
    "start_time": "2022-03-22T09:29:11.983Z"
   },
   {
    "duration": 16,
    "start_time": "2022-03-22T09:29:12.006Z"
   },
   {
    "duration": 77,
    "start_time": "2022-03-22T09:29:12.026Z"
   },
   {
    "duration": 24,
    "start_time": "2022-03-22T09:29:12.106Z"
   },
   {
    "duration": 51,
    "start_time": "2022-03-22T09:29:12.132Z"
   },
   {
    "duration": 34,
    "start_time": "2022-03-22T09:29:12.186Z"
   },
   {
    "duration": 82,
    "start_time": "2022-03-22T09:29:12.223Z"
   },
   {
    "duration": 40,
    "start_time": "2022-03-22T09:29:12.308Z"
   },
   {
    "duration": 37,
    "start_time": "2022-03-22T09:29:12.350Z"
   },
   {
    "duration": 13,
    "start_time": "2022-03-22T09:29:12.390Z"
   },
   {
    "duration": 18,
    "start_time": "2022-03-22T09:29:12.405Z"
   },
   {
    "duration": 46,
    "start_time": "2022-03-22T09:29:12.425Z"
   },
   {
    "duration": 17,
    "start_time": "2022-03-22T09:29:12.475Z"
   },
   {
    "duration": 73,
    "start_time": "2022-03-22T09:29:12.494Z"
   },
   {
    "duration": 276,
    "start_time": "2022-03-22T09:29:12.570Z"
   },
   {
    "duration": 18,
    "start_time": "2022-03-22T09:29:12.849Z"
   },
   {
    "duration": 499,
    "start_time": "2022-03-22T09:29:12.870Z"
   },
   {
    "duration": 13,
    "start_time": "2022-03-22T09:29:13.372Z"
   },
   {
    "duration": 94,
    "start_time": "2022-03-22T09:29:13.388Z"
   },
   {
    "duration": 133,
    "start_time": "2022-03-22T09:29:13.485Z"
   },
   {
    "duration": 70,
    "start_time": "2022-03-22T09:29:13.621Z"
   },
   {
    "duration": 11,
    "start_time": "2022-03-22T09:29:13.694Z"
   },
   {
    "duration": 80,
    "start_time": "2022-03-22T09:29:13.708Z"
   },
   {
    "duration": 92,
    "start_time": "2022-03-22T09:29:13.791Z"
   },
   {
    "duration": 90,
    "start_time": "2022-03-22T09:29:13.886Z"
   },
   {
    "duration": 114,
    "start_time": "2022-03-22T09:29:13.978Z"
   },
   {
    "duration": 28,
    "start_time": "2022-03-22T09:29:14.094Z"
   },
   {
    "duration": 87,
    "start_time": "2022-03-22T09:29:14.124Z"
   },
   {
    "duration": 55,
    "start_time": "2022-03-22T09:29:14.214Z"
   },
   {
    "duration": 2074,
    "start_time": "2022-03-22T11:48:38.148Z"
   },
   {
    "duration": 116,
    "start_time": "2022-03-22T11:48:40.226Z"
   },
   {
    "duration": 34,
    "start_time": "2022-03-22T11:48:40.345Z"
   },
   {
    "duration": 35,
    "start_time": "2022-03-22T11:48:40.383Z"
   },
   {
    "duration": 11,
    "start_time": "2022-03-22T11:48:40.420Z"
   },
   {
    "duration": 6,
    "start_time": "2022-03-22T11:48:40.434Z"
   },
   {
    "duration": 79,
    "start_time": "2022-03-22T11:48:40.442Z"
   },
   {
    "duration": 8,
    "start_time": "2022-03-22T11:48:40.524Z"
   },
   {
    "duration": 43,
    "start_time": "2022-03-22T11:48:40.534Z"
   },
   {
    "duration": 5,
    "start_time": "2022-03-22T11:48:40.582Z"
   },
   {
    "duration": 9,
    "start_time": "2022-03-22T11:48:40.590Z"
   },
   {
    "duration": 11,
    "start_time": "2022-03-22T11:48:40.603Z"
   },
   {
    "duration": 13,
    "start_time": "2022-03-22T11:48:40.617Z"
   },
   {
    "duration": 43,
    "start_time": "2022-03-22T11:48:40.633Z"
   },
   {
    "duration": 10,
    "start_time": "2022-03-22T11:48:40.679Z"
   },
   {
    "duration": 7,
    "start_time": "2022-03-22T11:48:40.691Z"
   },
   {
    "duration": 469,
    "start_time": "2022-03-22T11:48:40.701Z"
   },
   {
    "duration": 7,
    "start_time": "2022-03-22T11:48:41.172Z"
   },
   {
    "duration": 13,
    "start_time": "2022-03-22T11:48:41.180Z"
   },
   {
    "duration": 11,
    "start_time": "2022-03-22T11:48:41.196Z"
   },
   {
    "duration": 16,
    "start_time": "2022-03-22T11:48:41.210Z"
   },
   {
    "duration": 46,
    "start_time": "2022-03-22T11:48:41.229Z"
   },
   {
    "duration": 23,
    "start_time": "2022-03-22T11:48:41.278Z"
   },
   {
    "duration": 20,
    "start_time": "2022-03-22T11:48:41.304Z"
   },
   {
    "duration": 48,
    "start_time": "2022-03-22T11:48:41.327Z"
   },
   {
    "duration": 15,
    "start_time": "2022-03-22T11:48:41.378Z"
   },
   {
    "duration": 9,
    "start_time": "2022-03-22T11:48:41.395Z"
   },
   {
    "duration": 24,
    "start_time": "2022-03-22T11:48:41.411Z"
   },
   {
    "duration": 68,
    "start_time": "2022-03-22T11:48:41.437Z"
   },
   {
    "duration": 30,
    "start_time": "2022-03-22T11:48:41.508Z"
   },
   {
    "duration": 59,
    "start_time": "2022-03-22T11:48:41.541Z"
   },
   {
    "duration": 9,
    "start_time": "2022-03-22T11:48:41.602Z"
   },
   {
    "duration": 6,
    "start_time": "2022-03-22T11:48:41.614Z"
   },
   {
    "duration": 10,
    "start_time": "2022-03-22T11:48:41.623Z"
   },
   {
    "duration": 61,
    "start_time": "2022-03-22T11:48:41.635Z"
   },
   {
    "duration": 15,
    "start_time": "2022-03-22T11:48:41.699Z"
   },
   {
    "duration": 57,
    "start_time": "2022-03-22T11:48:41.718Z"
   },
   {
    "duration": 21,
    "start_time": "2022-03-22T11:48:41.777Z"
   },
   {
    "duration": 21,
    "start_time": "2022-03-22T11:48:41.801Z"
   },
   {
    "duration": 52,
    "start_time": "2022-03-22T11:48:41.825Z"
   },
   {
    "duration": 15,
    "start_time": "2022-03-22T11:48:41.880Z"
   },
   {
    "duration": 31,
    "start_time": "2022-03-22T11:48:41.897Z"
   },
   {
    "duration": 44,
    "start_time": "2022-03-22T11:48:41.931Z"
   },
   {
    "duration": 21,
    "start_time": "2022-03-22T11:48:41.978Z"
   },
   {
    "duration": 27,
    "start_time": "2022-03-22T11:48:42.001Z"
   },
   {
    "duration": 89,
    "start_time": "2022-03-22T11:48:42.031Z"
   },
   {
    "duration": 52,
    "start_time": "2022-03-22T11:48:42.122Z"
   },
   {
    "duration": 27,
    "start_time": "2022-03-22T11:48:42.177Z"
   },
   {
    "duration": 12,
    "start_time": "2022-03-22T11:48:42.207Z"
   },
   {
    "duration": 18,
    "start_time": "2022-03-22T11:48:42.221Z"
   },
   {
    "duration": 14,
    "start_time": "2022-03-22T11:48:42.273Z"
   },
   {
    "duration": 27,
    "start_time": "2022-03-22T11:48:42.289Z"
   },
   {
    "duration": 21,
    "start_time": "2022-03-22T11:48:42.318Z"
   },
   {
    "duration": 283,
    "start_time": "2022-03-22T11:48:42.341Z"
   },
   {
    "duration": 9,
    "start_time": "2022-03-22T11:48:42.627Z"
   },
   {
    "duration": 469,
    "start_time": "2022-03-22T11:48:42.639Z"
   },
   {
    "duration": 273,
    "start_time": "2022-03-22T11:48:43.110Z"
   },
   {
    "duration": 11,
    "start_time": "2022-03-22T11:48:43.386Z"
   },
   {
    "duration": 38,
    "start_time": "2022-03-22T11:48:43.400Z"
   },
   {
    "duration": 75,
    "start_time": "2022-03-22T11:48:43.441Z"
   },
   {
    "duration": 58,
    "start_time": "2022-03-22T11:48:43.518Z"
   },
   {
    "duration": 10,
    "start_time": "2022-03-22T11:48:43.578Z"
   },
   {
    "duration": 33,
    "start_time": "2022-03-22T11:48:43.591Z"
   },
   {
    "duration": 77,
    "start_time": "2022-03-22T11:48:43.627Z"
   },
   {
    "duration": 27,
    "start_time": "2022-03-22T11:48:43.706Z"
   },
   {
    "duration": 94,
    "start_time": "2022-03-22T11:48:43.736Z"
   },
   {
    "duration": 43,
    "start_time": "2022-03-22T11:48:43.834Z"
   },
   {
    "duration": 57,
    "start_time": "2022-03-22T11:48:43.880Z"
   },
   {
    "duration": 74,
    "start_time": "2022-03-22T11:48:43.939Z"
   },
   {
    "duration": 436,
    "start_time": "2022-03-22T11:48:52.358Z"
   },
   {
    "duration": 2427,
    "start_time": "2022-03-22T11:49:05.106Z"
   },
   {
    "duration": 1432,
    "start_time": "2022-03-22T11:49:16.960Z"
   },
   {
    "duration": 425,
    "start_time": "2022-03-22T11:49:31.023Z"
   },
   {
    "duration": 54,
    "start_time": "2022-03-25T09:53:04.152Z"
   },
   {
    "duration": 1475,
    "start_time": "2022-03-25T09:53:11.425Z"
   },
   {
    "duration": 66,
    "start_time": "2022-03-25T09:53:12.903Z"
   },
   {
    "duration": 18,
    "start_time": "2022-03-25T09:53:12.971Z"
   },
   {
    "duration": 32,
    "start_time": "2022-03-25T09:53:12.991Z"
   },
   {
    "duration": 17,
    "start_time": "2022-03-25T09:53:13.025Z"
   },
   {
    "duration": 31,
    "start_time": "2022-03-25T09:53:13.044Z"
   },
   {
    "duration": 49,
    "start_time": "2022-03-25T09:53:13.077Z"
   },
   {
    "duration": 5,
    "start_time": "2022-03-25T09:53:13.128Z"
   },
   {
    "duration": 45,
    "start_time": "2022-03-25T09:53:13.134Z"
   },
   {
    "duration": 32,
    "start_time": "2022-03-25T09:53:13.182Z"
   },
   {
    "duration": 22,
    "start_time": "2022-03-25T09:53:13.216Z"
   },
   {
    "duration": 31,
    "start_time": "2022-03-25T09:53:13.240Z"
   },
   {
    "duration": 23,
    "start_time": "2022-03-25T09:53:13.274Z"
   },
   {
    "duration": 13,
    "start_time": "2022-03-25T09:53:13.299Z"
   },
   {
    "duration": 27,
    "start_time": "2022-03-25T09:53:13.314Z"
   },
   {
    "duration": 22,
    "start_time": "2022-03-25T09:53:13.343Z"
   },
   {
    "duration": 197,
    "start_time": "2022-03-25T09:53:13.366Z"
   },
   {
    "duration": 4,
    "start_time": "2022-03-25T09:53:13.564Z"
   },
   {
    "duration": 20,
    "start_time": "2022-03-25T09:53:13.570Z"
   },
   {
    "duration": 37,
    "start_time": "2022-03-25T09:53:13.591Z"
   },
   {
    "duration": 22,
    "start_time": "2022-03-25T09:53:13.630Z"
   },
   {
    "duration": 25,
    "start_time": "2022-03-25T09:53:13.653Z"
   },
   {
    "duration": 34,
    "start_time": "2022-03-25T09:53:13.680Z"
   },
   {
    "duration": 14,
    "start_time": "2022-03-25T09:53:13.716Z"
   },
   {
    "duration": 22,
    "start_time": "2022-03-25T09:53:13.732Z"
   },
   {
    "duration": 18,
    "start_time": "2022-03-25T09:53:13.756Z"
   },
   {
    "duration": 29,
    "start_time": "2022-03-25T09:53:13.776Z"
   },
   {
    "duration": 22,
    "start_time": "2022-03-25T09:53:13.810Z"
   },
   {
    "duration": 40,
    "start_time": "2022-03-25T09:53:13.834Z"
   },
   {
    "duration": 21,
    "start_time": "2022-03-25T09:53:13.875Z"
   },
   {
    "duration": 21,
    "start_time": "2022-03-25T09:53:13.898Z"
   },
   {
    "duration": 15,
    "start_time": "2022-03-25T09:53:13.921Z"
   },
   {
    "duration": 8,
    "start_time": "2022-03-25T09:53:13.938Z"
   },
   {
    "duration": 7,
    "start_time": "2022-03-25T09:53:13.948Z"
   },
   {
    "duration": 19,
    "start_time": "2022-03-25T09:53:13.957Z"
   },
   {
    "duration": 9,
    "start_time": "2022-03-25T09:53:13.978Z"
   },
   {
    "duration": 47,
    "start_time": "2022-03-25T09:53:13.989Z"
   },
   {
    "duration": 16,
    "start_time": "2022-03-25T09:53:14.038Z"
   },
   {
    "duration": 17,
    "start_time": "2022-03-25T09:53:14.056Z"
   },
   {
    "duration": 15,
    "start_time": "2022-03-25T09:53:14.075Z"
   },
   {
    "duration": 12,
    "start_time": "2022-03-25T09:53:14.092Z"
   },
   {
    "duration": 24,
    "start_time": "2022-03-25T09:53:14.132Z"
   },
   {
    "duration": 17,
    "start_time": "2022-03-25T09:53:14.158Z"
   },
   {
    "duration": 16,
    "start_time": "2022-03-25T09:53:14.177Z"
   },
   {
    "duration": 47,
    "start_time": "2022-03-25T09:53:14.195Z"
   },
   {
    "duration": 25,
    "start_time": "2022-03-25T09:53:14.244Z"
   },
   {
    "duration": 19,
    "start_time": "2022-03-25T09:53:14.271Z"
   },
   {
    "duration": 44,
    "start_time": "2022-03-25T09:53:14.292Z"
   },
   {
    "duration": 8,
    "start_time": "2022-03-25T09:53:14.338Z"
   },
   {
    "duration": 13,
    "start_time": "2022-03-25T09:53:14.348Z"
   },
   {
    "duration": 7,
    "start_time": "2022-03-25T09:53:14.363Z"
   },
   {
    "duration": 15,
    "start_time": "2022-03-25T09:53:14.372Z"
   },
   {
    "duration": 13,
    "start_time": "2022-03-25T09:53:14.389Z"
   },
   {
    "duration": 146,
    "start_time": "2022-03-25T09:53:14.432Z"
   },
   {
    "duration": 6,
    "start_time": "2022-03-25T09:53:14.580Z"
   },
   {
    "duration": 161,
    "start_time": "2022-03-25T09:53:14.588Z"
   },
   {
    "duration": 7,
    "start_time": "2022-03-25T09:53:14.751Z"
   },
   {
    "duration": 21,
    "start_time": "2022-03-25T09:53:14.759Z"
   },
   {
    "duration": 50,
    "start_time": "2022-03-25T09:53:14.782Z"
   },
   {
    "duration": 25,
    "start_time": "2022-03-25T09:53:14.834Z"
   },
   {
    "duration": 7,
    "start_time": "2022-03-25T09:53:14.861Z"
   },
   {
    "duration": 17,
    "start_time": "2022-03-25T09:53:14.870Z"
   },
   {
    "duration": 66,
    "start_time": "2022-03-25T09:53:14.889Z"
   },
   {
    "duration": 24,
    "start_time": "2022-03-25T09:53:14.957Z"
   },
   {
    "duration": 18,
    "start_time": "2022-03-25T09:53:14.982Z"
   },
   {
    "duration": 67,
    "start_time": "2022-03-25T09:53:15.002Z"
   },
   {
    "duration": 19,
    "start_time": "2022-03-25T09:53:15.071Z"
   },
   {
    "duration": 63,
    "start_time": "2022-03-25T09:53:15.093Z"
   },
   {
    "duration": 27,
    "start_time": "2022-03-25T09:53:15.158Z"
   },
   {
    "duration": 29,
    "start_time": "2022-03-25T09:55:03.278Z"
   },
   {
    "duration": 31,
    "start_time": "2022-03-25T09:55:50.478Z"
   },
   {
    "duration": 1829,
    "start_time": "2022-03-25T10:38:15.932Z"
   },
   {
    "duration": 75,
    "start_time": "2022-03-25T10:38:17.764Z"
   },
   {
    "duration": 22,
    "start_time": "2022-03-25T10:38:17.841Z"
   },
   {
    "duration": 24,
    "start_time": "2022-03-25T10:38:17.873Z"
   },
   {
    "duration": 7,
    "start_time": "2022-03-25T10:38:17.901Z"
   },
   {
    "duration": 5,
    "start_time": "2022-03-25T10:38:17.910Z"
   },
   {
    "duration": 71,
    "start_time": "2022-03-25T10:38:17.917Z"
   },
   {
    "duration": 8,
    "start_time": "2022-03-25T10:38:17.990Z"
   },
   {
    "duration": 13,
    "start_time": "2022-03-25T10:38:18.001Z"
   },
   {
    "duration": 6,
    "start_time": "2022-03-25T10:38:18.017Z"
   },
   {
    "duration": 48,
    "start_time": "2022-03-25T10:38:18.026Z"
   },
   {
    "duration": 6,
    "start_time": "2022-03-25T10:38:18.077Z"
   },
   {
    "duration": 13,
    "start_time": "2022-03-25T10:38:18.086Z"
   },
   {
    "duration": 5,
    "start_time": "2022-03-25T10:38:18.103Z"
   },
   {
    "duration": 8,
    "start_time": "2022-03-25T10:38:18.110Z"
   },
   {
    "duration": 6,
    "start_time": "2022-03-25T10:38:18.120Z"
   },
   {
    "duration": 368,
    "start_time": "2022-03-25T10:38:18.129Z"
   },
   {
    "duration": 5,
    "start_time": "2022-03-25T10:38:18.499Z"
   },
   {
    "duration": 10,
    "start_time": "2022-03-25T10:38:18.506Z"
   },
   {
    "duration": 6,
    "start_time": "2022-03-25T10:38:18.518Z"
   },
   {
    "duration": 6,
    "start_time": "2022-03-25T10:38:18.526Z"
   },
   {
    "duration": 50,
    "start_time": "2022-03-25T10:38:18.534Z"
   },
   {
    "duration": 27,
    "start_time": "2022-03-25T10:38:18.586Z"
   },
   {
    "duration": 19,
    "start_time": "2022-03-25T10:38:18.615Z"
   },
   {
    "duration": 38,
    "start_time": "2022-03-25T10:38:18.636Z"
   },
   {
    "duration": 11,
    "start_time": "2022-03-25T10:38:18.676Z"
   },
   {
    "duration": 8,
    "start_time": "2022-03-25T10:38:18.689Z"
   },
   {
    "duration": 22,
    "start_time": "2022-03-25T10:38:18.699Z"
   },
   {
    "duration": 67,
    "start_time": "2022-03-25T10:38:18.723Z"
   },
   {
    "duration": 29,
    "start_time": "2022-03-25T10:38:18.792Z"
   },
   {
    "duration": 54,
    "start_time": "2022-03-25T10:38:18.824Z"
   },
   {
    "duration": 9,
    "start_time": "2022-03-25T10:38:18.880Z"
   },
   {
    "duration": 7,
    "start_time": "2022-03-25T10:38:18.891Z"
   },
   {
    "duration": 5,
    "start_time": "2022-03-25T10:38:18.901Z"
   },
   {
    "duration": 68,
    "start_time": "2022-03-25T10:38:18.909Z"
   },
   {
    "duration": 10,
    "start_time": "2022-03-25T10:38:18.979Z"
   },
   {
    "duration": 34,
    "start_time": "2022-03-25T10:38:18.991Z"
   },
   {
    "duration": 48,
    "start_time": "2022-03-25T10:38:19.027Z"
   },
   {
    "duration": 21,
    "start_time": "2022-03-25T10:38:19.077Z"
   },
   {
    "duration": 20,
    "start_time": "2022-03-25T10:38:19.100Z"
   },
   {
    "duration": 14,
    "start_time": "2022-03-25T10:38:19.126Z"
   },
   {
    "duration": 30,
    "start_time": "2022-03-25T10:38:19.173Z"
   },
   {
    "duration": 19,
    "start_time": "2022-03-25T10:38:19.205Z"
   },
   {
    "duration": 19,
    "start_time": "2022-03-25T10:38:19.226Z"
   },
   {
    "duration": 50,
    "start_time": "2022-03-25T10:38:19.247Z"
   },
   {
    "duration": 38,
    "start_time": "2022-03-25T10:38:19.300Z"
   },
   {
    "duration": 58,
    "start_time": "2022-03-25T10:38:19.340Z"
   },
   {
    "duration": 25,
    "start_time": "2022-03-25T10:38:19.400Z"
   },
   {
    "duration": 12,
    "start_time": "2022-03-25T10:38:19.427Z"
   },
   {
    "duration": 45,
    "start_time": "2022-03-25T10:38:19.441Z"
   },
   {
    "duration": 11,
    "start_time": "2022-03-25T10:38:19.489Z"
   },
   {
    "duration": 18,
    "start_time": "2022-03-25T10:38:19.502Z"
   },
   {
    "duration": 17,
    "start_time": "2022-03-25T10:38:19.522Z"
   },
   {
    "duration": 279,
    "start_time": "2022-03-25T10:38:19.541Z"
   },
   {
    "duration": 9,
    "start_time": "2022-03-25T10:38:19.822Z"
   },
   {
    "duration": 266,
    "start_time": "2022-03-25T10:38:19.833Z"
   },
   {
    "duration": 9,
    "start_time": "2022-03-25T10:38:20.101Z"
   },
   {
    "duration": 29,
    "start_time": "2022-03-25T10:38:20.112Z"
   },
   {
    "duration": 78,
    "start_time": "2022-03-25T10:38:20.143Z"
   },
   {
    "duration": 53,
    "start_time": "2022-03-25T10:38:20.223Z"
   },
   {
    "duration": 9,
    "start_time": "2022-03-25T10:38:20.278Z"
   },
   {
    "duration": 31,
    "start_time": "2022-03-25T10:38:20.288Z"
   },
   {
    "duration": 76,
    "start_time": "2022-03-25T10:38:20.321Z"
   },
   {
    "duration": 38,
    "start_time": "2022-03-25T10:38:20.399Z"
   },
   {
    "duration": 45,
    "start_time": "2022-03-25T10:38:20.439Z"
   },
   {
    "duration": 61,
    "start_time": "2022-03-25T10:38:20.487Z"
   },
   {
    "duration": 62,
    "start_time": "2022-03-25T10:38:20.550Z"
   },
   {
    "duration": 25,
    "start_time": "2022-03-25T10:38:20.614Z"
   },
   {
    "duration": 72,
    "start_time": "2022-03-25T10:38:20.642Z"
   },
   {
    "duration": 64,
    "start_time": "2022-03-25T10:38:20.716Z"
   },
   {
    "duration": 35,
    "start_time": "2022-03-25T10:38:20.783Z"
   }
  ],
  "kernelspec": {
   "display_name": "Python 3 (ipykernel)",
   "language": "python",
   "name": "python3"
  },
  "language_info": {
   "codemirror_mode": {
    "name": "ipython",
    "version": 3
   },
   "file_extension": ".py",
   "mimetype": "text/x-python",
   "name": "python",
   "nbconvert_exporter": "python",
   "pygments_lexer": "ipython3",
   "version": "3.9.7"
  },
  "toc": {
   "base_numbering": 1,
   "nav_menu": {},
   "number_sections": true,
   "sideBar": true,
   "skip_h1_title": true,
   "title_cell": "Table of Contents",
   "title_sidebar": "Contents",
   "toc_cell": false,
   "toc_position": {},
   "toc_section_display": true,
   "toc_window_display": true
  }
 },
 "nbformat": 4,
 "nbformat_minor": 5
}
