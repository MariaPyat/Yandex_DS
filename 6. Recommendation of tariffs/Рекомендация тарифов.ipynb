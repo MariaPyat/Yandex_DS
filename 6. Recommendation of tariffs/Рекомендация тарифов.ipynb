{
 "cells": [
  {
   "cell_type": "markdown",
   "id": "a71c517d",
   "metadata": {
    "toc": true
   },
   "source": [
    "<h1>Table of Contents<span class=\"tocSkip\"></span></h1>\n",
    "<div class=\"toc\"><ul class=\"toc-item\"><li><span><a href=\"#Импорт-библиотек\" data-toc-modified-id=\"Импорт-библиотек-1\"><span class=\"toc-item-num\">1&nbsp;&nbsp;</span>Импорт библиотек</a></span></li><li><span><a href=\"#Изучение-данных\" data-toc-modified-id=\"Изучение-данных-2\"><span class=\"toc-item-num\">2&nbsp;&nbsp;</span>Изучение данных</a></span><ul class=\"toc-item\"><li><span><a href=\"#Сохранение-данных\" data-toc-modified-id=\"Сохранение-данных-2.1\"><span class=\"toc-item-num\">2.1&nbsp;&nbsp;</span>Сохранение данных</a></span></li><li><span><a href=\"#Описание-данных\" data-toc-modified-id=\"Описание-данных-2.2\"><span class=\"toc-item-num\">2.2&nbsp;&nbsp;</span>Описание данных</a></span></li><li><span><a href=\"#Вывод-\" data-toc-modified-id=\"Вывод--2.3\"><span class=\"toc-item-num\">2.3&nbsp;&nbsp;</span>Вывод </a></span></li></ul></li><li><span><a href=\"#Разделение-данных-на-выборки\" data-toc-modified-id=\"Разделение-данных-на-выборки-3\"><span class=\"toc-item-num\">3&nbsp;&nbsp;</span>Разделение данных на выборки</a></span></li><li><span><a href=\"#Сравнение-моделей\" data-toc-modified-id=\"Сравнение-моделей-4\"><span class=\"toc-item-num\">4&nbsp;&nbsp;</span>Сравнение моделей</a></span><ul class=\"toc-item\"><li><span><a href=\"#Дерево-решений\" data-toc-modified-id=\"Дерево-решений-4.1\"><span class=\"toc-item-num\">4.1&nbsp;&nbsp;</span>Дерево решений</a></span></li><li><span><a href=\"#Случайный-лес\" data-toc-modified-id=\"Случайный-лес-4.2\"><span class=\"toc-item-num\">4.2&nbsp;&nbsp;</span>Случайный лес</a></span></li><li><span><a href=\"#Логистическая-регрессия\" data-toc-modified-id=\"Логистическая-регрессия-4.3\"><span class=\"toc-item-num\">4.3&nbsp;&nbsp;</span>Логистическая регрессия</a></span></li><li><span><a href=\"#Вывод-(после-ревью)\" data-toc-modified-id=\"Вывод-(после-ревью)-4.4\"><span class=\"toc-item-num\">4.4&nbsp;&nbsp;</span>Вывод (после ревью)</a></span></li></ul></li><li><span><a href=\"#Проверка-модели-на-тестовой-выборке\" data-toc-modified-id=\"Проверка-модели-на-тестовой-выборке-5\"><span class=\"toc-item-num\">5&nbsp;&nbsp;</span>Проверка модели на тестовой выборке</a></span></li><li><span><a href=\"#Проверка-модели-на-адекватность\" data-toc-modified-id=\"Проверка-модели-на-адекватность-6\"><span class=\"toc-item-num\">6&nbsp;&nbsp;</span>Проверка модели на адекватность</a></span></li><li><span><a href=\"#Общий-вывод-\" data-toc-modified-id=\"Общий-вывод--7\"><span class=\"toc-item-num\">7&nbsp;&nbsp;</span>Общий вывод </a></span></li></ul></div>"
   ]
  },
  {
   "cell_type": "markdown",
   "id": "abc1e7b2",
   "metadata": {},
   "source": [
    "<div style=\"border-radius: 15px; border:solid navy 3px; padding: 20px\"> <h1 style=\"color:navy; margin-bottom:20px\">Введение в машинное обучение </h1>\n",
    "    \n",
    "# Описание проекта\n",
    "    \n",
    "Оператор мобильной связи «Мегалайн» выяснил: многие клиенты пользуются архивными тарифами. Они хотят построить систему, способную проанализировать поведение клиентов и предложить пользователям новый тариф: «Смарт» или «Ультра».\n",
    "\n",
    "Предобработка данных на данном этапе не понадобится, поскольку она уже проведена.\n",
    "\n",
    "    \n",
    "# Цель исследования:\n",
    "    \n",
    "Изучив имеющиеся данные, построить модель, которая выберет подходящий тариф, с максимально большим значением accuracy. \n",
    "    \n",
    "Целевое значение accuracy: **не менее 0.75** "
   ]
  },
  {
   "cell_type": "markdown",
   "id": "10dfddab",
   "metadata": {},
   "source": [
    "## Импорт библиотек"
   ]
  },
  {
   "cell_type": "code",
   "execution_count": 1,
   "id": "d7b395f9",
   "metadata": {},
   "outputs": [],
   "source": [
    "import warnings\n",
    "\n",
    "import matplotlib.pyplot as plt\n",
    "import pandas as pd\n",
    "import seaborn as sns\n",
    "\n",
    "from sklearn.ensemble import RandomForestClassifier\n",
    "from sklearn.linear_model import LogisticRegression\n",
    "from sklearn.metrics import accuracy_score\n",
    "from sklearn.model_selection import train_test_split\n",
    "from sklearn.tree import DecisionTreeClassifier\n",
    "\n",
    "warnings.filterwarnings('ignore')\n",
    "\n",
    "RANDOM_STATE = 12345"
   ]
  },
  {
   "cell_type": "markdown",
   "id": "6d9f80bd",
   "metadata": {},
   "source": [
    "## Изучение данных\n",
    "\n",
    "### Сохранение данных\n",
    "\n",
    "Сохраним данные в переменную **df**."
   ]
  },
  {
   "cell_type": "code",
   "execution_count": 2,
   "id": "4543cbba",
   "metadata": {},
   "outputs": [
    {
     "name": "stdout",
     "output_type": "stream",
     "text": [
      "<class 'pandas.core.frame.DataFrame'>\n",
      "RangeIndex: 3214 entries, 0 to 3213\n",
      "Data columns (total 5 columns):\n",
      " #   Column    Non-Null Count  Dtype  \n",
      "---  ------    --------------  -----  \n",
      " 0   calls     3214 non-null   float64\n",
      " 1   minutes   3214 non-null   float64\n",
      " 2   messages  3214 non-null   float64\n",
      " 3   mb_used   3214 non-null   float64\n",
      " 4   is_ultra  3214 non-null   int64  \n",
      "dtypes: float64(4), int64(1)\n",
      "memory usage: 125.7 KB\n"
     ]
    }
   ],
   "source": [
    "df = pd.read_csv(\n",
    "    'D:/1_Проекты Практикум/М_2/5_Рекомендация тарифов/users_behavior.csv'\n",
    ")\n",
    "df.info()"
   ]
  },
  {
   "cell_type": "code",
   "execution_count": 3,
   "id": "0abb6673",
   "metadata": {},
   "outputs": [
    {
     "data": {
      "text/html": [
       "<div>\n",
       "<style scoped>\n",
       "    .dataframe tbody tr th:only-of-type {\n",
       "        vertical-align: middle;\n",
       "    }\n",
       "\n",
       "    .dataframe tbody tr th {\n",
       "        vertical-align: top;\n",
       "    }\n",
       "\n",
       "    .dataframe thead th {\n",
       "        text-align: right;\n",
       "    }\n",
       "</style>\n",
       "<table border=\"1\" class=\"dataframe\">\n",
       "  <thead>\n",
       "    <tr style=\"text-align: right;\">\n",
       "      <th></th>\n",
       "      <th>calls</th>\n",
       "      <th>minutes</th>\n",
       "      <th>messages</th>\n",
       "      <th>mb_used</th>\n",
       "      <th>is_ultra</th>\n",
       "    </tr>\n",
       "  </thead>\n",
       "  <tbody>\n",
       "    <tr>\n",
       "      <th>0</th>\n",
       "      <td>40.0</td>\n",
       "      <td>311.90</td>\n",
       "      <td>83.0</td>\n",
       "      <td>19915.42</td>\n",
       "      <td>0</td>\n",
       "    </tr>\n",
       "    <tr>\n",
       "      <th>1</th>\n",
       "      <td>85.0</td>\n",
       "      <td>516.75</td>\n",
       "      <td>56.0</td>\n",
       "      <td>22696.96</td>\n",
       "      <td>0</td>\n",
       "    </tr>\n",
       "    <tr>\n",
       "      <th>2</th>\n",
       "      <td>77.0</td>\n",
       "      <td>467.66</td>\n",
       "      <td>86.0</td>\n",
       "      <td>21060.45</td>\n",
       "      <td>0</td>\n",
       "    </tr>\n",
       "    <tr>\n",
       "      <th>3</th>\n",
       "      <td>106.0</td>\n",
       "      <td>745.53</td>\n",
       "      <td>81.0</td>\n",
       "      <td>8437.39</td>\n",
       "      <td>1</td>\n",
       "    </tr>\n",
       "    <tr>\n",
       "      <th>4</th>\n",
       "      <td>66.0</td>\n",
       "      <td>418.74</td>\n",
       "      <td>1.0</td>\n",
       "      <td>14502.75</td>\n",
       "      <td>0</td>\n",
       "    </tr>\n",
       "  </tbody>\n",
       "</table>\n",
       "</div>"
      ],
      "text/plain": [
       "   calls  minutes  messages   mb_used  is_ultra\n",
       "0   40.0   311.90      83.0  19915.42         0\n",
       "1   85.0   516.75      56.0  22696.96         0\n",
       "2   77.0   467.66      86.0  21060.45         0\n",
       "3  106.0   745.53      81.0   8437.39         1\n",
       "4   66.0   418.74       1.0  14502.75         0"
      ]
     },
     "execution_count": 3,
     "metadata": {},
     "output_type": "execute_result"
    }
   ],
   "source": [
    "df.head()"
   ]
  },
  {
   "cell_type": "code",
   "execution_count": 4,
   "id": "cca6680d",
   "metadata": {},
   "outputs": [
    {
     "data": {
      "text/html": [
       "<div>\n",
       "<style scoped>\n",
       "    .dataframe tbody tr th:only-of-type {\n",
       "        vertical-align: middle;\n",
       "    }\n",
       "\n",
       "    .dataframe tbody tr th {\n",
       "        vertical-align: top;\n",
       "    }\n",
       "\n",
       "    .dataframe thead th {\n",
       "        text-align: right;\n",
       "    }\n",
       "</style>\n",
       "<table border=\"1\" class=\"dataframe\">\n",
       "  <thead>\n",
       "    <tr style=\"text-align: right;\">\n",
       "      <th></th>\n",
       "      <th>calls</th>\n",
       "      <th>minutes</th>\n",
       "      <th>messages</th>\n",
       "      <th>mb_used</th>\n",
       "      <th>is_ultra</th>\n",
       "    </tr>\n",
       "  </thead>\n",
       "  <tbody>\n",
       "    <tr>\n",
       "      <th>count</th>\n",
       "      <td>3214.000000</td>\n",
       "      <td>3214.000000</td>\n",
       "      <td>3214.000000</td>\n",
       "      <td>3214.000000</td>\n",
       "      <td>3214.000000</td>\n",
       "    </tr>\n",
       "    <tr>\n",
       "      <th>mean</th>\n",
       "      <td>63.038892</td>\n",
       "      <td>438.208787</td>\n",
       "      <td>38.281269</td>\n",
       "      <td>17207.673836</td>\n",
       "      <td>0.306472</td>\n",
       "    </tr>\n",
       "    <tr>\n",
       "      <th>std</th>\n",
       "      <td>33.236368</td>\n",
       "      <td>234.569872</td>\n",
       "      <td>36.148326</td>\n",
       "      <td>7570.968246</td>\n",
       "      <td>0.461100</td>\n",
       "    </tr>\n",
       "    <tr>\n",
       "      <th>min</th>\n",
       "      <td>0.000000</td>\n",
       "      <td>0.000000</td>\n",
       "      <td>0.000000</td>\n",
       "      <td>0.000000</td>\n",
       "      <td>0.000000</td>\n",
       "    </tr>\n",
       "    <tr>\n",
       "      <th>25%</th>\n",
       "      <td>40.000000</td>\n",
       "      <td>274.575000</td>\n",
       "      <td>9.000000</td>\n",
       "      <td>12491.902500</td>\n",
       "      <td>0.000000</td>\n",
       "    </tr>\n",
       "    <tr>\n",
       "      <th>50%</th>\n",
       "      <td>62.000000</td>\n",
       "      <td>430.600000</td>\n",
       "      <td>30.000000</td>\n",
       "      <td>16943.235000</td>\n",
       "      <td>0.000000</td>\n",
       "    </tr>\n",
       "    <tr>\n",
       "      <th>75%</th>\n",
       "      <td>82.000000</td>\n",
       "      <td>571.927500</td>\n",
       "      <td>57.000000</td>\n",
       "      <td>21424.700000</td>\n",
       "      <td>1.000000</td>\n",
       "    </tr>\n",
       "    <tr>\n",
       "      <th>max</th>\n",
       "      <td>244.000000</td>\n",
       "      <td>1632.060000</td>\n",
       "      <td>224.000000</td>\n",
       "      <td>49745.730000</td>\n",
       "      <td>1.000000</td>\n",
       "    </tr>\n",
       "  </tbody>\n",
       "</table>\n",
       "</div>"
      ],
      "text/plain": [
       "             calls      minutes     messages       mb_used     is_ultra\n",
       "count  3214.000000  3214.000000  3214.000000   3214.000000  3214.000000\n",
       "mean     63.038892   438.208787    38.281269  17207.673836     0.306472\n",
       "std      33.236368   234.569872    36.148326   7570.968246     0.461100\n",
       "min       0.000000     0.000000     0.000000      0.000000     0.000000\n",
       "25%      40.000000   274.575000     9.000000  12491.902500     0.000000\n",
       "50%      62.000000   430.600000    30.000000  16943.235000     0.000000\n",
       "75%      82.000000   571.927500    57.000000  21424.700000     1.000000\n",
       "max     244.000000  1632.060000   224.000000  49745.730000     1.000000"
      ]
     },
     "execution_count": 4,
     "metadata": {},
     "output_type": "execute_result"
    }
   ],
   "source": [
    "df.describe()"
   ]
  },
  {
   "cell_type": "code",
   "execution_count": 5,
   "id": "5d995aa3",
   "metadata": {},
   "outputs": [],
   "source": [
    "def boxplot_hist(df, input_column):\n",
    "\n",
    "# Диаграмма размаха \n",
    "# Выбросы\n",
    "    flierprops = dict(\n",
    "        marker='o', \n",
    "        markerfacecolor='None', \n",
    "        markersize=3,  \n",
    "        markeredgecolor='navy'\n",
    "    )\n",
    "    \n",
    "    sns.set(\n",
    "        rc={\n",
    "            'figure.figsize':(18,1)\n",
    "        })\n",
    "    \n",
    "    ax = sns.boxplot(\n",
    "        x=df[input_column],\n",
    "        showmeans=True,\n",
    "        color='navy',\n",
    "        width = .4,\n",
    "        meanprops={\n",
    "            \"marker\":\"o\",\n",
    "            \"markerfacecolor\":\"#fffafa\", \n",
    "            \"markeredgecolor\":\"#42024d\",\n",
    "            \"markersize\":\"8\"\n",
    "        },\n",
    "        flierprops = flierprops\n",
    "    )\n",
    "    plt.title(\n",
    "        'Диаграмма размаха для значений в столбце {0}'.format(\n",
    "            input_column.upper()), \n",
    "        fontsize=15\n",
    "    )\n",
    "    \n",
    "# Гистограмма    \n",
    "    fig= plt.subplots(figsize=(16,2.5))\n",
    "    sns.distplot(\n",
    "        df[input_column],\n",
    "        color='navy',\n",
    "    ).set_title(\n",
    "        'Гистограмма значений в столбце {0}'.format(\n",
    "            input_column.upper()), \n",
    "        fontsize=15\n",
    "    )\n",
    "    plt.show()"
   ]
  },
  {
   "cell_type": "code",
   "execution_count": 6,
   "id": "cb4645f1",
   "metadata": {},
   "outputs": [
    {
     "data": {
      "image/png": "[encoded data removed]",
      "text/plain": [
       "<Figure size 1296x72 with 1 Axes>"
      ]
     },
     "metadata": {},
     "output_type": "display_data"
    },
    {
     "data": {
      "image/png": "[encoded data removed]",
      "text/plain": [
       "<Figure size 1152x180 with 1 Axes>"
      ]
     },
     "metadata": {},
     "output_type": "display_data"
    }
   ],
   "source": [
    "boxplot_hist(df,'calls')"
   ]
  },
  {
   "cell_type": "code",
   "execution_count": 7,
   "id": "37e2f1c9",
   "metadata": {},
   "outputs": [
    {
     "data": {
      "image/png": "[encoded data removed]",
      "text/plain": [
       "<Figure size 1296x72 with 1 Axes>"
      ]
     },
     "metadata": {},
     "output_type": "display_data"
    },
    {
     "data": {
      "image/png": "[encoded data removed]",
      "text/plain": [
       "<Figure size 1152x180 with 1 Axes>"
      ]
     },
     "metadata": {},
     "output_type": "display_data"
    }
   ],
   "source": [
    "boxplot_hist(df,'minutes')"
   ]
  },
  {
   "cell_type": "code",
   "execution_count": 8,
   "id": "c4264dc2",
   "metadata": {},
   "outputs": [
    {
     "data": {
      "image/png": "[encoded data removed]",
      "text/plain": [
       "<Figure size 1296x72 with 1 Axes>"
      ]
     },
     "metadata": {},
     "output_type": "display_data"
    },
    {
     "data": {
      "image/png": "[encoded data removed]",
      "text/plain": [
       "<Figure size 1152x180 with 1 Axes>"
      ]
     },
     "metadata": {},
     "output_type": "display_data"
    }
   ],
   "source": [
    "boxplot_hist(df,'messages')"
   ]
  },
  {
   "cell_type": "code",
   "execution_count": 9,
   "id": "1fa750e5",
   "metadata": {},
   "outputs": [
    {
     "data": {
      "image/png": "[encoded data removed]",
      "text/plain": [
       "<Figure size 1296x72 with 1 Axes>"
      ]
     },
     "metadata": {},
     "output_type": "display_data"
    },
    {
     "data": {
      "image/png": "[encoded data removed]",
      "text/plain": [
       "<Figure size 1152x180 with 1 Axes>"
      ]
     },
     "metadata": {},
     "output_type": "display_data"
    }
   ],
   "source": [
    "boxplot_hist(df,'mb_used')"
   ]
  },
  {
   "cell_type": "code",
   "execution_count": 10,
   "id": "74c015ea",
   "metadata": {},
   "outputs": [
    {
     "data": {
      "text/plain": [
       "0    2229\n",
       "1     985\n",
       "Name: is_ultra, dtype: int64"
      ]
     },
     "execution_count": 10,
     "metadata": {},
     "output_type": "execute_result"
    }
   ],
   "source": [
    "df['is_ultra'].value_counts()"
   ]
  },
  {
   "cell_type": "markdown",
   "id": "268ff3c7",
   "metadata": {},
   "source": [
    "### Описание данных\n",
    "    \n",
    "Каждый объект в наборе данных — это информация о поведении одного пользователя за месяц. Известно:\n",
    "    \n",
    "* **сalls** — количество звонков,\n",
    "* **minutes** — суммарная длительность звонков в минутах,\n",
    "* **messages** — количество sms-сообщений,\n",
    "* **mb_used** — израсходованный интернет-трафик в Мб,\n",
    "* **is_ultra** — каким тарифом пользовался в течение месяца («Ультра» — 1, «Смарт» — 0)."
   ]
  },
  {
   "cell_type": "markdown",
   "id": "f84938d7",
   "metadata": {},
   "source": [
    "<div style=\"border-radius: 15px;border:solid navy 2px; padding: 20px\"> <h3 style=\"color:navy; margin-bottom:20px\">Вывод </h3>\n",
    "\n",
    "* Данные содержат информацию о поведении одного пользователя за месяц. Одна строка содержит количество и общую длительность звонков, количество сообщений и объем интернет-трафика, использованных одним пользователем за месяц.\n",
    "* Таблица содержит **3214** строк, каждая строка содержит данные о поведении одного пользователя за месяц.\n",
    "* Данные содержатся в **5** столбцах\n",
    "* При первичном анализе пропусков, некорректных названий столбцов или типов данных не обнаружено. Аномальных значений также на этом этапе обнаружено не было, поэтому для целей данного исследования предобработка данных не потребуется.\n",
    "* Целевым признаком исследования является тариф, который использует пользователь (\"Смарт\" или \"Ультра\"). Поскольку целевой столбец `is_ultra` принимает только одно из двух значений (1 или 0), перед нами задача классификации. </div>"
   ]
  },
  {
   "cell_type": "markdown",
   "id": "791fe713",
   "metadata": {},
   "source": [
    "## Разделение данных на выборки\n",
    "\n",
    "Выделим признаки и целевой признак в датасете."
   ]
  },
  {
   "cell_type": "code",
   "execution_count": 11,
   "id": "9420c422",
   "metadata": {},
   "outputs": [],
   "source": [
    "# Признаки\n",
    "features = df.drop(\n",
    "    ['is_ultra'], \n",
    "    axis = 1\n",
    ") \n",
    "\n",
    "# Целевой признак\n",
    "target = df['is_ultra']"
   ]
  },
  {
   "cell_type": "markdown",
   "id": "9f5d6527",
   "metadata": {},
   "source": [
    "Выделим тестовую выборку из датасета. Для избежания влияния дисбаланса классов на результаты работы модели добавим стратификацию при разделении данных на выборки с помощью атрибута `stratify`."
   ]
  },
  {
   "cell_type": "code",
   "execution_count": 12,
   "id": "5421a9ec",
   "metadata": {},
   "outputs": [],
   "source": [
    "(\n",
    "    features, \n",
    "    features_test, \n",
    "    target, \n",
    "    target_test\n",
    ") = train_test_split(\n",
    "    features,\n",
    "    target, \n",
    "    test_size=0.2,\n",
    "    random_state = RANDOM_STATE,\n",
    "    stratify=target\n",
    ")"
   ]
  },
  {
   "cell_type": "markdown",
   "id": "9cdc3653",
   "metadata": {},
   "source": [
    "Разделим оставшийся объем данных на валидационную и обучающую выборки, также учитывая вероятный дисбаланс классов."
   ]
  },
  {
   "cell_type": "code",
   "execution_count": 13,
   "id": "6dd23c2a",
   "metadata": {},
   "outputs": [],
   "source": [
    "(\n",
    "    features_train, \n",
    "    features_valid, \n",
    "    target_train, \n",
    "    target_valid\n",
    ") = train_test_split(\n",
    "    features, \n",
    "    target, \n",
    "    test_size=0.25, \n",
    "    random_state = RANDOM_STATE,\n",
    "    stratify = target\n",
    ")"
   ]
  },
  {
   "cell_type": "markdown",
   "id": "8cbf8e56",
   "metadata": {},
   "source": [
    "Проверим корректность создания выборок и выделения признаков."
   ]
  },
  {
   "cell_type": "code",
   "execution_count": 14,
   "id": "2cafb2cc",
   "metadata": {},
   "outputs": [
    {
     "data": {
      "text/html": [
       "<div>\n",
       "<style scoped>\n",
       "    .dataframe tbody tr th:only-of-type {\n",
       "        vertical-align: middle;\n",
       "    }\n",
       "\n",
       "    .dataframe tbody tr th {\n",
       "        vertical-align: top;\n",
       "    }\n",
       "\n",
       "    .dataframe thead th {\n",
       "        text-align: right;\n",
       "    }\n",
       "</style>\n",
       "<table border=\"1\" class=\"dataframe\">\n",
       "  <thead>\n",
       "    <tr style=\"text-align: right;\">\n",
       "      <th></th>\n",
       "      <th>Выборка</th>\n",
       "      <th>Признаки</th>\n",
       "      <th>Целевой признак</th>\n",
       "      <th>Доля выборки, %</th>\n",
       "    </tr>\n",
       "  </thead>\n",
       "  <tbody>\n",
       "    <tr>\n",
       "      <th>0</th>\n",
       "      <td>Исходная</td>\n",
       "      <td>(3214, 5)</td>\n",
       "      <td>NaN</td>\n",
       "      <td>NaN</td>\n",
       "    </tr>\n",
       "    <tr>\n",
       "      <th>1</th>\n",
       "      <td>Тестовая</td>\n",
       "      <td>(643, 4)</td>\n",
       "      <td>(643,)</td>\n",
       "      <td>20.0</td>\n",
       "    </tr>\n",
       "    <tr>\n",
       "      <th>2</th>\n",
       "      <td>Валидационная</td>\n",
       "      <td>(643, 4)</td>\n",
       "      <td>(643,)</td>\n",
       "      <td>20.0</td>\n",
       "    </tr>\n",
       "    <tr>\n",
       "      <th>3</th>\n",
       "      <td>Обучающая</td>\n",
       "      <td>(1928, 4)</td>\n",
       "      <td>(1928,)</td>\n",
       "      <td>60.0</td>\n",
       "    </tr>\n",
       "  </tbody>\n",
       "</table>\n",
       "</div>"
      ],
      "text/plain": [
       "         Выборка   Признаки Целевой признак Доля выборки, %\n",
       "0       Исходная  (3214, 5)             NaN             NaN\n",
       "1       Тестовая   (643, 4)          (643,)            20.0\n",
       "2  Валидационная   (643, 4)          (643,)            20.0\n",
       "3      Обучающая  (1928, 4)         (1928,)            60.0"
      ]
     },
     "execution_count": 14,
     "metadata": {},
     "output_type": "execute_result"
    }
   ],
   "source": [
    "shape_vocab = {\n",
    "    'Выборка': [\n",
    "        'Исходная',\n",
    "        'Тестовая', \n",
    "        'Валидационная',\n",
    "        'Обучающая'\n",
    "    ],\n",
    "    'Признаки': [\n",
    "        df.shape,\n",
    "        features_test.shape,\n",
    "        features_valid.shape,\n",
    "        features_train.shape\n",
    "    ],\n",
    "    'Целевой признак': [\n",
    "        'NaN',\n",
    "        target_test.shape,\n",
    "        target_valid.shape,\n",
    "        target_train.shape\n",
    "    ],\n",
    "    'Доля выборки, %': [\n",
    "        'NaN',\n",
    "        round(\n",
    "            (target_test.shape[0]*100)/df.shape[0],\n",
    "            1),\n",
    "        round(\n",
    "            (target_valid.shape[0]*100)/df.shape[0],\n",
    "            1),\n",
    "        round(\n",
    "            (target_train.shape[0]*100)/df.shape[0],\n",
    "            1)\n",
    "    ]}\n",
    "\n",
    "shape_df = pd.DataFrame(\n",
    "    data=shape_vocab\n",
    ")\n",
    "shape_df"
   ]
  },
  {
   "cell_type": "markdown",
   "id": "5bf1d2c7",
   "metadata": {},
   "source": [
    "Выборки и признаки выделены корректно, двигаемся дальше.\n",
    "\n",
    "## Сравнение моделей\n",
    "\n",
    "Для решения задачи классификации сравним точность работы следующих моделей:\n",
    "\n",
    "1. Дерево решений\n",
    "1. Случайный лес\n",
    "1. Логистическая регрессия\n",
    "\n",
    "### Дерево решений\n",
    "\n",
    "С помощью цикла найдем оптимальное значение параметра `max_depth`."
   ]
  },
  {
   "cell_type": "code",
   "execution_count": 15,
   "id": "9084eae7",
   "metadata": {},
   "outputs": [
    {
     "name": "stdout",
     "output_type": "stream",
     "text": [
      "Accuracy на валидационной выборке:\n",
      "max_depth = 1 : 0.75894\n",
      "max_depth = 2 : 0.78383\n",
      "max_depth = 3 : 0.80404\n",
      "max_depth = 4 : 0.80404\n",
      "max_depth = 5 : 0.81649\n",
      "max_depth = 6 : 0.80249\n",
      "max_depth = 7 : 0.80715\n",
      "max_depth = 8 : 0.8056\n",
      "max_depth = 9 : 0.81182\n",
      "max_depth = 10 : 0.8056\n",
      "max_depth = 11 : 0.80715\n",
      "max_depth = 12 : 0.78538\n",
      "max_depth = 13 : 0.78694\n",
      "max_depth = 14 : 0.78383\n"
     ]
    }
   ],
   "source": [
    "print(\n",
    "    'Accuracy на валидационной выборке:'\n",
    ")\n",
    "\n",
    "for depth in range(1, 15):\n",
    "    model = DecisionTreeClassifier(\n",
    "        random_state=RANDOM_STATE, \n",
    "        max_depth = depth\n",
    "    ) \n",
    "    model.fit(\n",
    "        features_train, \n",
    "        target_train\n",
    "    )\n",
    "    predictions_valid = model.predict(\n",
    "        features_valid\n",
    "    ) \n",
    "    print(\n",
    "        \"max_depth =\", \n",
    "        depth, \n",
    "        \": \", \n",
    "        end=''\n",
    "    )\n",
    "    print(\n",
    "        accuracy_score(\n",
    "            target_valid, \n",
    "            predictions_valid\n",
    "        ).round(5)\n",
    "    ) "
   ]
  },
  {
   "cell_type": "markdown",
   "id": "245685ff",
   "metadata": {},
   "source": [
    "Изменяя гиперпараметр `max_depth` находим глубину, на которой происходит переобучение. После достижении значения `max_depth` = **5** значение `accuracy` уменьшается при дальнейшем увеличении глубины.\n",
    "\n",
    "Максимальная точность, которую удалось достигнуть с помощью модели _**Дерево решений**_ - **0.81649**"
   ]
  },
  {
   "cell_type": "markdown",
   "id": "4bd36021",
   "metadata": {},
   "source": [
    "### Случайный лес\n",
    "\n",
    "С помощью цикла найдем оптимальное значение параметра `n_estimators`."
   ]
  },
  {
   "cell_type": "code",
   "execution_count": 16,
   "id": "a459b66e",
   "metadata": {},
   "outputs": [
    {
     "name": "stdout",
     "output_type": "stream",
     "text": [
      "Accuracy на валидационной выборке: 0.8196 , Число деревьев: 24\n"
     ]
    }
   ],
   "source": [
    "best_model = None\n",
    "best_result = 0\n",
    "\n",
    "for est in range(1, 25):\n",
    "    model = RandomForestClassifier(\n",
    "        random_state=RANDOM_STATE, \n",
    "        n_estimators=est\n",
    "    )\n",
    "    model.fit(\n",
    "        features_train, \n",
    "        target_train\n",
    "    )\n",
    "    result = model.score(\n",
    "        features_valid, \n",
    "        target_valid\n",
    "    )\n",
    "    if result > best_result:\n",
    "        best_model = model\n",
    "        best_result = result\n",
    "\n",
    "print(\n",
    "    \"Accuracy на валидационной выборке:\", \n",
    "    best_result.round(5), \n",
    "    \", Число деревьев:\", \n",
    "    est\n",
    ")"
   ]
  },
  {
   "cell_type": "markdown",
   "id": "3ff12883",
   "metadata": {},
   "source": [
    "Оптимальная точность **0.8196** достигнута на валидационной выборке при количестве деревьев **24**. "
   ]
  },
  {
   "cell_type": "markdown",
   "id": "bfd25e60",
   "metadata": {},
   "source": [
    "### Логистическая регрессия\n",
    "\n",
    "Используем модель **_логистическая регрессия_**."
   ]
  },
  {
   "cell_type": "code",
   "execution_count": 17,
   "id": "0fec960c",
   "metadata": {},
   "outputs": [
    {
     "name": "stdout",
     "output_type": "stream",
     "text": [
      "Accuracy на валидационной выборке: 0.75583\n"
     ]
    }
   ],
   "source": [
    "model = LogisticRegression(\n",
    "    random_state=RANDOM_STATE, \n",
    "    solver='lbfgs', \n",
    "    max_iter=1000\n",
    ")\n",
    "model.fit(\n",
    "    features_train, \n",
    "    target_train\n",
    ")\n",
    "model.predict(features_valid)\n",
    "\n",
    "print(\n",
    "    'Accuracy на валидационной выборке:',\n",
    "    model.score(\n",
    "        features_valid, \n",
    "        target_valid\n",
    "    ).round(5)\n",
    ")"
   ]
  },
  {
   "cell_type": "markdown",
   "id": "d287f766",
   "metadata": {},
   "source": [
    "Точность, достигнутая с помощью модели **_Логистическая регрессия_** на валидационной выборке, составила **0.75583**."
   ]
  },
  {
   "cell_type": "markdown",
   "id": "e56e5ace",
   "metadata": {},
   "source": [
    "### Вывод (после ревью)\n",
    "\n",
    "В результате построения моделей при проверке на валидационной выборке были достигнуты следующие значения целевой метрики: \n",
    "    \n",
    "1. Дерево решений - **0.81649** \n",
    "1. Случайный лес - **0.8196** \n",
    "1. Логистическая регрессия - **0.75583** \n",
    "    \n",
    "Наибольшая точность была достигнута при использовании модели **_Случайный лес_**.\n",
    "\n",
    "## Проверка модели на тестовой выборке \n",
    "\n",
    "Проверим эту модель _**Случайный лес**_ с оптимальными значениями гиперпараметров на тестовой выборке."
   ]
  },
  {
   "cell_type": "code",
   "execution_count": 18,
   "id": "cc81a60f",
   "metadata": {},
   "outputs": [
    {
     "name": "stdout",
     "output_type": "stream",
     "text": [
      "Accuracy на валидационной выборке: 0.78072\n"
     ]
    }
   ],
   "source": [
    "model = RandomForestClassifier(\n",
    "    random_state=RANDOM_STATE, \n",
    "    n_estimators=9\n",
    ")\n",
    "model.fit(features, target)\n",
    "predictions_test = model.predict(\n",
    "    features_test\n",
    ")\n",
    "\n",
    "print(\n",
    "    'Accuracy на валидационной выборке:',\n",
    "    accuracy_score(\n",
    "        target_test, \n",
    "        predictions_test\n",
    "    ).round(5)\n",
    ")"
   ]
  },
  {
   "cell_type": "markdown",
   "id": "b0077f5f",
   "metadata": {},
   "source": [
    "Точность, полученная при проверке модели на тестовой выборке, составляет **0.78072**."
   ]
  },
  {
   "cell_type": "markdown",
   "id": "75a04c0f",
   "metadata": {},
   "source": [
    "## Проверка модели на адекватность\n",
    "\n",
    "Проверим частоту классов в исходном целевом столбце датасета."
   ]
  },
  {
   "cell_type": "code",
   "execution_count": 19,
   "id": "4285a43c",
   "metadata": {},
   "outputs": [
    {
     "name": "stdout",
     "output_type": "stream",
     "text": [
      "0    0.693528\n",
      "1    0.306472\n",
      "Name: is_ultra, dtype: float64\n"
     ]
    },
    {
     "data": {
      "image/png": "[encoded data removed]",
      "text/plain": [
       "<Figure size 504x360 with 1 Axes>"
      ]
     },
     "metadata": {},
     "output_type": "display_data"
    }
   ],
   "source": [
    "sns.set(\n",
    "        rc={\n",
    "            'figure.figsize':(7,5)\n",
    "        })\n",
    "\n",
    "print(\n",
    "    df[\n",
    "        'is_ultra'\n",
    "    ].value_counts(\n",
    "        normalize=True\n",
    "    ))\n",
    "\n",
    "df[\n",
    "    'is_ultra'\n",
    "].value_counts(\n",
    "    normalize=True\n",
    ").plot(\n",
    "    kind='bar',\n",
    "    color='navy'\n",
    ");"
   ]
  },
  {
   "cell_type": "markdown",
   "id": "ddc14b5f",
   "metadata": {},
   "source": [
    "Проверим частоты классов в результатах предсказаний выбранной модели."
   ]
  },
  {
   "cell_type": "code",
   "execution_count": 20,
   "id": "172fb9fe",
   "metadata": {},
   "outputs": [
    {
     "name": "stdout",
     "output_type": "stream",
     "text": [
      "0    0.695179\n",
      "1    0.304821\n",
      "dtype: float64\n"
     ]
    },
    {
     "data": {
      "image/png": "[encoded data removed]",
      "text/plain": [
       "<Figure size 504x360 with 1 Axes>"
      ]
     },
     "metadata": {},
     "output_type": "display_data"
    }
   ],
   "source": [
    "predictions = pd.Series(\n",
    "    model.predict(features_valid)\n",
    ")\n",
    "\n",
    "print(\n",
    "    predictions.value_counts(\n",
    "        normalize=True\n",
    "    ))\n",
    "\n",
    "predictions.value_counts(\n",
    "    normalize=True\n",
    ").plot(\n",
    "    kind='bar',\n",
    "    color='navy'\n",
    ");"
   ]
  },
  {
   "cell_type": "markdown",
   "id": "436f191b",
   "metadata": {},
   "source": [
    "Посчитаем точность для константной модели."
   ]
  },
  {
   "cell_type": "code",
   "execution_count": 21,
   "id": "6eb81623",
   "metadata": {},
   "outputs": [
    {
     "name": "stdout",
     "output_type": "stream",
     "text": [
      "0.693504\n"
     ]
    }
   ],
   "source": [
    "target_pred_constant = pd.Series(\n",
    "    0, \n",
    "    index=target.index\n",
    ")\n",
    "\n",
    "print(\n",
    "    accuracy_score(\n",
    "        target, \n",
    "        target_pred_constant\n",
    "    ).round(6)\n",
    ")"
   ]
  },
  {
   "cell_type": "markdown",
   "id": "a62c78f7",
   "metadata": {},
   "source": [
    "Поскольку частота классов в результатах предсказания больше, чем для константной модели, проверка на адекватность пройдена."
   ]
  },
  {
   "cell_type": "markdown",
   "id": "d58f7958",
   "metadata": {},
   "source": [
    "<div style=\"border-radius: 15px;border:solid navy 2px; padding: 20px\"> <h2 style=\"color:navy; margin-bottom:20px\">Общий вывод </h2>\n",
    "    \n",
    "* Данные содержат информацию о **поведении одного пользователя за месяц**. Одна строка содержит количество и общую длительность звонков, количество сообщений и объем интернет-трафика, использованных одним пользователем за месяц.\n",
    "\n",
    "* **Предобработка данных не потребовалась** - пропусков, дубликатов, аномальных значений и некорректных типов данных обнаружено не было.\n",
    "    \n",
    "* Данные были разделены на выборки в отношении **3:1:1**. В проекте использовалось значение `RANDOM_STATE = 12345`.\n",
    "\n",
    "* Наибольшая точность была достигнута при использовании модели **_Случайный лес_**. \n",
    "    \n",
    "* Точность, полученная при проверке модели на тестовой выборке, составляет **0.78072**."
   ]
  }
 ],
 "metadata": {
  "ExecuteTimeLog": [
   {
    "duration": 985,
    "start_time": "2022-05-20T14:53:44.848Z"
   },
   {
    "duration": 48,
    "start_time": "2022-05-20T14:53:45.835Z"
   },
   {
    "duration": 24,
    "start_time": "2022-05-20T14:53:45.885Z"
   },
   {
    "duration": 4,
    "start_time": "2022-05-20T14:53:45.911Z"
   },
   {
    "duration": 9,
    "start_time": "2022-05-20T14:53:45.917Z"
   },
   {
    "duration": 6,
    "start_time": "2022-05-20T14:53:45.928Z"
   },
   {
    "duration": 14,
    "start_time": "2022-05-20T14:53:45.935Z"
   },
   {
    "duration": 57,
    "start_time": "2022-05-20T14:53:45.951Z"
   },
   {
    "duration": 2,
    "start_time": "2022-05-20T14:53:46.010Z"
   },
   {
    "duration": 256,
    "start_time": "2022-05-20T14:53:46.016Z"
   },
   {
    "duration": 3,
    "start_time": "2022-05-20T14:53:46.274Z"
   },
   {
    "duration": 59,
    "start_time": "2022-05-20T14:53:46.279Z"
   },
   {
    "duration": 3,
    "start_time": "2022-05-20T14:53:46.340Z"
   },
   {
    "duration": 74,
    "start_time": "2022-05-20T14:53:46.345Z"
   },
   {
    "duration": 992,
    "start_time": "2022-05-20T15:17:49.712Z"
   },
   {
    "duration": 29,
    "start_time": "2022-05-20T15:17:50.706Z"
   },
   {
    "duration": 16,
    "start_time": "2022-05-20T15:17:50.737Z"
   },
   {
    "duration": 4,
    "start_time": "2022-05-20T15:17:50.755Z"
   },
   {
    "duration": 111,
    "start_time": "2022-05-20T15:17:50.760Z"
   },
   {
    "duration": 0,
    "start_time": "2022-05-20T15:17:50.873Z"
   },
   {
    "duration": 0,
    "start_time": "2022-05-20T15:17:50.875Z"
   },
   {
    "duration": 0,
    "start_time": "2022-05-20T15:17:50.876Z"
   },
   {
    "duration": 0,
    "start_time": "2022-05-20T15:17:50.877Z"
   },
   {
    "duration": 0,
    "start_time": "2022-05-20T15:17:50.878Z"
   },
   {
    "duration": 0,
    "start_time": "2022-05-20T15:17:50.881Z"
   },
   {
    "duration": 0,
    "start_time": "2022-05-20T15:17:50.895Z"
   },
   {
    "duration": 0,
    "start_time": "2022-05-20T15:17:50.898Z"
   },
   {
    "duration": 0,
    "start_time": "2022-05-20T15:17:50.899Z"
   },
   {
    "duration": 9,
    "start_time": "2022-05-20T15:18:29.965Z"
   },
   {
    "duration": 890,
    "start_time": "2022-05-20T19:45:59.167Z"
   },
   {
    "duration": 184,
    "start_time": "2022-05-20T19:46:00.059Z"
   },
   {
    "duration": 14,
    "start_time": "2022-05-20T19:46:00.245Z"
   },
   {
    "duration": 9,
    "start_time": "2022-05-20T19:46:00.261Z"
   },
   {
    "duration": 107,
    "start_time": "2022-05-20T19:46:00.271Z"
   },
   {
    "duration": 0,
    "start_time": "2022-05-20T19:46:00.380Z"
   },
   {
    "duration": 0,
    "start_time": "2022-05-20T19:46:00.382Z"
   },
   {
    "duration": 0,
    "start_time": "2022-05-20T19:46:00.383Z"
   },
   {
    "duration": 0,
    "start_time": "2022-05-20T19:46:00.384Z"
   },
   {
    "duration": 0,
    "start_time": "2022-05-20T19:46:00.385Z"
   },
   {
    "duration": 0,
    "start_time": "2022-05-20T19:46:00.388Z"
   },
   {
    "duration": 0,
    "start_time": "2022-05-20T19:46:00.390Z"
   },
   {
    "duration": 0,
    "start_time": "2022-05-20T19:46:00.391Z"
   },
   {
    "duration": 0,
    "start_time": "2022-05-20T19:46:00.393Z"
   },
   {
    "duration": 944,
    "start_time": "2022-05-20T19:48:16.824Z"
   },
   {
    "duration": 39,
    "start_time": "2022-05-20T19:48:17.771Z"
   },
   {
    "duration": 19,
    "start_time": "2022-05-20T19:48:17.812Z"
   },
   {
    "duration": 14,
    "start_time": "2022-05-20T19:48:17.833Z"
   },
   {
    "duration": 26,
    "start_time": "2022-05-20T19:48:17.849Z"
   },
   {
    "duration": 11,
    "start_time": "2022-05-20T19:48:17.877Z"
   },
   {
    "duration": 25,
    "start_time": "2022-05-20T19:48:17.889Z"
   },
   {
    "duration": 43,
    "start_time": "2022-05-20T19:48:17.916Z"
   },
   {
    "duration": 2,
    "start_time": "2022-05-20T19:48:17.961Z"
   },
   {
    "duration": 209,
    "start_time": "2022-05-20T19:48:17.966Z"
   },
   {
    "duration": 3,
    "start_time": "2022-05-20T19:48:18.176Z"
   },
   {
    "duration": 47,
    "start_time": "2022-05-20T19:48:18.180Z"
   },
   {
    "duration": 2,
    "start_time": "2022-05-20T19:48:18.229Z"
   },
   {
    "duration": 52,
    "start_time": "2022-05-20T19:48:18.232Z"
   },
   {
    "duration": 1109,
    "start_time": "2022-05-20T19:51:59.734Z"
   },
   {
    "duration": 107,
    "start_time": "2022-05-20T19:55:38.470Z"
   },
   {
    "duration": 50,
    "start_time": "2022-05-20T20:08:09.355Z"
   },
   {
    "duration": 946,
    "start_time": "2022-05-20T20:09:30.588Z"
   },
   {
    "duration": 37,
    "start_time": "2022-05-20T20:09:31.536Z"
   },
   {
    "duration": 18,
    "start_time": "2022-05-20T20:09:31.574Z"
   },
   {
    "duration": 11,
    "start_time": "2022-05-20T20:09:31.594Z"
   },
   {
    "duration": 8,
    "start_time": "2022-05-20T20:09:31.607Z"
   },
   {
    "duration": 11,
    "start_time": "2022-05-20T20:09:31.617Z"
   },
   {
    "duration": 28,
    "start_time": "2022-05-20T20:09:31.629Z"
   },
   {
    "duration": 147,
    "start_time": "2022-05-20T20:09:31.659Z"
   },
   {
    "duration": 3,
    "start_time": "2022-05-20T20:09:31.808Z"
   },
   {
    "duration": 1203,
    "start_time": "2022-05-20T20:09:31.813Z"
   },
   {
    "duration": 2,
    "start_time": "2022-05-20T20:09:33.018Z"
   },
   {
    "duration": 44,
    "start_time": "2022-05-20T20:09:33.021Z"
   },
   {
    "duration": 2,
    "start_time": "2022-05-20T20:09:33.066Z"
   },
   {
    "duration": 56,
    "start_time": "2022-05-20T20:09:33.070Z"
   },
   {
    "duration": 904,
    "start_time": "2022-05-20T20:17:24.955Z"
   },
   {
    "duration": 37,
    "start_time": "2022-05-20T20:17:25.861Z"
   },
   {
    "duration": 14,
    "start_time": "2022-05-20T20:17:25.900Z"
   },
   {
    "duration": 5,
    "start_time": "2022-05-20T20:17:25.916Z"
   },
   {
    "duration": 9,
    "start_time": "2022-05-20T20:17:25.922Z"
   },
   {
    "duration": 6,
    "start_time": "2022-05-20T20:17:25.933Z"
   },
   {
    "duration": 13,
    "start_time": "2022-05-20T20:17:25.940Z"
   },
   {
    "duration": 113,
    "start_time": "2022-05-20T20:17:25.959Z"
   },
   {
    "duration": 3,
    "start_time": "2022-05-20T20:17:26.073Z"
   },
   {
    "duration": 1204,
    "start_time": "2022-05-20T20:17:26.078Z"
   },
   {
    "duration": 2,
    "start_time": "2022-05-20T20:17:27.283Z"
   },
   {
    "duration": 40,
    "start_time": "2022-05-20T20:17:27.287Z"
   },
   {
    "duration": 3,
    "start_time": "2022-05-20T20:17:27.329Z"
   },
   {
    "duration": 70,
    "start_time": "2022-05-20T20:17:27.333Z"
   },
   {
    "duration": 812,
    "start_time": "2022-05-20T20:37:23.590Z"
   },
   {
    "duration": 111,
    "start_time": "2022-05-20T20:38:04.771Z"
   },
   {
    "duration": 18,
    "start_time": "2022-05-20T20:39:25.780Z"
   },
   {
    "duration": 10,
    "start_time": "2022-05-20T20:39:59.028Z"
   },
   {
    "duration": 102,
    "start_time": "2022-05-20T20:40:03.017Z"
   },
   {
    "duration": 357,
    "start_time": "2022-05-20T20:40:16.534Z"
   },
   {
    "duration": 149,
    "start_time": "2022-05-20T20:40:19.575Z"
   },
   {
    "duration": 105,
    "start_time": "2022-05-20T20:40:23.661Z"
   },
   {
    "duration": 4,
    "start_time": "2022-05-20T20:40:31.318Z"
   },
   {
    "duration": 10,
    "start_time": "2022-05-20T20:40:54.217Z"
   },
   {
    "duration": 10,
    "start_time": "2022-05-20T20:40:58.263Z"
   },
   {
    "duration": 5,
    "start_time": "2022-05-20T20:41:05.185Z"
   },
   {
    "duration": 4,
    "start_time": "2022-05-20T20:41:09.887Z"
   },
   {
    "duration": 907,
    "start_time": "2022-05-20T20:58:35.142Z"
   },
   {
    "duration": 36,
    "start_time": "2022-05-20T20:58:36.051Z"
   },
   {
    "duration": 14,
    "start_time": "2022-05-20T20:58:36.088Z"
   },
   {
    "duration": 6,
    "start_time": "2022-05-20T20:58:36.104Z"
   },
   {
    "duration": 15,
    "start_time": "2022-05-20T20:58:36.111Z"
   },
   {
    "duration": 9,
    "start_time": "2022-05-20T20:58:36.127Z"
   },
   {
    "duration": 16,
    "start_time": "2022-05-20T20:58:36.137Z"
   },
   {
    "duration": 103,
    "start_time": "2022-05-20T20:58:36.155Z"
   },
   {
    "duration": 2,
    "start_time": "2022-05-20T20:58:36.260Z"
   },
   {
    "duration": 1106,
    "start_time": "2022-05-20T20:58:36.264Z"
   },
   {
    "duration": 2,
    "start_time": "2022-05-20T20:58:37.372Z"
   },
   {
    "duration": 37,
    "start_time": "2022-05-20T20:58:37.375Z"
   },
   {
    "duration": 2,
    "start_time": "2022-05-20T20:58:37.413Z"
   },
   {
    "duration": 53,
    "start_time": "2022-05-20T20:58:37.416Z"
   },
   {
    "duration": 390,
    "start_time": "2022-05-20T20:58:37.470Z"
   },
   {
    "duration": 119,
    "start_time": "2022-05-20T20:58:37.861Z"
   },
   {
    "duration": 4,
    "start_time": "2022-05-20T20:58:37.982Z"
   },
   {
    "duration": 56,
    "start_time": "2022-05-21T07:59:58.403Z"
   }
  ],
  "kernelspec": {
   "display_name": "Python 3 (ipykernel)",
   "language": "python",
   "name": "python3"
  },
  "language_info": {
   "codemirror_mode": {
    "name": "ipython",
    "version": 3
   },
   "file_extension": ".py",
   "mimetype": "text/x-python",
   "name": "python",
   "nbconvert_exporter": "python",
   "pygments_lexer": "ipython3",
   "version": "3.9.7"
  },
  "toc": {
   "base_numbering": 1,
   "nav_menu": {},
   "number_sections": true,
   "sideBar": true,
   "skip_h1_title": true,
   "title_cell": "Table of Contents",
   "title_sidebar": "Contents",
   "toc_cell": true,
   "toc_position": {},
   "toc_section_display": true,
   "toc_window_display": true
  }
 },
 "nbformat": 4,
 "nbformat_minor": 5
}
