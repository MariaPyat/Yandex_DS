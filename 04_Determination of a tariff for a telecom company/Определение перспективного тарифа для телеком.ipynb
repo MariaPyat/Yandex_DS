{
 "cells": [
  {
   "cell_type": "markdown",
   "id": "e61021fc",
   "metadata": {
    "toc": true
   },
   "source": [
    "<h1>Table of Contents<span class=\"tocSkip\"></span></h1>\n",
    "<div class=\"toc\"><ul class=\"toc-item\"><li><span><a href=\"#Изучение-общей-информации-о-данных\" data-toc-modified-id=\"Изучение-общей-информации-о-данных-1\"><span class=\"toc-item-num\">1&nbsp;&nbsp;</span>Изучение общей информации о данных</a></span><ul class=\"toc-item\"><li><span><a href=\"#Сохранение-данных-в-переменных\" data-toc-modified-id=\"Сохранение-данных-в-переменных-1.1\"><span class=\"toc-item-num\">1.1&nbsp;&nbsp;</span>Сохранение данных в переменных</a></span><ul class=\"toc-item\"><li><span><a href=\"#Данные-о-звонках\" data-toc-modified-id=\"Данные-о-звонках-1.1.1\"><span class=\"toc-item-num\">1.1.1&nbsp;&nbsp;</span>Данные о звонках</a></span></li><li><span><a href=\"#Данные-об-интернет-сессиях\" data-toc-modified-id=\"Данные-об-интернет-сессиях-1.1.2\"><span class=\"toc-item-num\">1.1.2&nbsp;&nbsp;</span>Данные об интернет-сессиях</a></span></li><li><span><a href=\"#Данные-об-отправленных-сообщениях\" data-toc-modified-id=\"Данные-об-отправленных-сообщениях-1.1.3\"><span class=\"toc-item-num\">1.1.3&nbsp;&nbsp;</span>Данные об отправленных сообщениях</a></span></li><li><span><a href=\"#Данные-о-тарифах\" data-toc-modified-id=\"Данные-о-тарифах-1.1.4\"><span class=\"toc-item-num\">1.1.4&nbsp;&nbsp;</span>Данные о тарифах</a></span></li><li><span><a href=\"#Данные-о-пользователях\" data-toc-modified-id=\"Данные-о-пользователях-1.1.5\"><span class=\"toc-item-num\">1.1.5&nbsp;&nbsp;</span>Данные о пользователях</a></span></li></ul></li><li><span><a href=\"#Описание-данных\" data-toc-modified-id=\"Описание-данных-1.2\"><span class=\"toc-item-num\">1.2&nbsp;&nbsp;</span>Описание данных</a></span></li><li><span><a href=\"#Вывод\" data-toc-modified-id=\"Вывод-1.3\"><span class=\"toc-item-num\">1.3&nbsp;&nbsp;</span>Вывод</a></span></li></ul></li><li><span><a href=\"#Предобработка-данных\" data-toc-modified-id=\"Предобработка-данных-2\"><span class=\"toc-item-num\">2&nbsp;&nbsp;</span>Предобработка данных</a></span><ul class=\"toc-item\"><li><span><a href=\"#Проверка-и-переименование-столбцов\" data-toc-modified-id=\"Проверка-и-переименование-столбцов-2.1\"><span class=\"toc-item-num\">2.1&nbsp;&nbsp;</span>Проверка и переименование столбцов</a></span></li><li><span><a href=\"#Проверка-и-обработка-пропусков\" data-toc-modified-id=\"Проверка-и-обработка-пропусков-2.2\"><span class=\"toc-item-num\">2.2&nbsp;&nbsp;</span>Проверка и обработка пропусков</a></span><ul class=\"toc-item\"><li><span><a href=\"#Таблица-Calls\" data-toc-modified-id=\"Таблица-Calls-2.2.1\"><span class=\"toc-item-num\">2.2.1&nbsp;&nbsp;</span>Таблица <code>Calls</code></a></span></li><li><span><a href=\"#Таблица-Internet\" data-toc-modified-id=\"Таблица-Internet-2.2.2\"><span class=\"toc-item-num\">2.2.2&nbsp;&nbsp;</span>Таблица <code>Internet</code></a></span></li><li><span><a href=\"#Таблица-Messages\" data-toc-modified-id=\"Таблица-Messages-2.2.3\"><span class=\"toc-item-num\">2.2.3&nbsp;&nbsp;</span>Таблица <code>Messages</code></a></span></li><li><span><a href=\"#Таблица-Users\" data-toc-modified-id=\"Таблица-Users-2.2.4\"><span class=\"toc-item-num\">2.2.4&nbsp;&nbsp;</span>Таблица <code>Users</code></a></span></li></ul></li><li><span><a href=\"#Некорректные-типы-данных\" data-toc-modified-id=\"Некорректные-типы-данных-2.3\"><span class=\"toc-item-num\">2.3&nbsp;&nbsp;</span>Некорректные типы данных</a></span></li><li><span><a href=\"#Проверка-на-неявные-дубликаты\" data-toc-modified-id=\"Проверка-на-неявные-дубликаты-2.4\"><span class=\"toc-item-num\">2.4&nbsp;&nbsp;</span>Проверка на неявные дубликаты</a></span></li><li><span><a href=\"#Проверка-на-явные-дубликаты\" data-toc-modified-id=\"Проверка-на-явные-дубликаты-2.5\"><span class=\"toc-item-num\">2.5&nbsp;&nbsp;</span>Проверка на явные дубликаты</a></span></li><li><span><a href=\"#Проверка-данных-на-наличие-аномалий\" data-toc-modified-id=\"Проверка-данных-на-наличие-аномалий-2.6\"><span class=\"toc-item-num\">2.6&nbsp;&nbsp;</span>Проверка данных на наличие аномалий</a></span><ul class=\"toc-item\"><li><span><a href=\"#Оценка-данных-таблицы-'Calls'-на-аномалии\" data-toc-modified-id=\"Оценка-данных-таблицы-'Calls'-на-аномалии-2.6.1\"><span class=\"toc-item-num\">2.6.1&nbsp;&nbsp;</span>Оценка данных таблицы <code>'Calls'</code> на аномалии</a></span></li><li><span><a href=\"#Оценка-данных-таблицы-Internet-на-аномалии\" data-toc-modified-id=\"Оценка-данных-таблицы-Internet-на-аномалии-2.6.2\"><span class=\"toc-item-num\">2.6.2&nbsp;&nbsp;</span>Оценка данных таблицы <code>Internet</code> на аномалии</a></span></li><li><span><a href=\"#Оценка-данных-таблицы-Messages-на-аномалии\" data-toc-modified-id=\"Оценка-данных-таблицы-Messages-на-аномалии-2.6.3\"><span class=\"toc-item-num\">2.6.3&nbsp;&nbsp;</span>Оценка данных таблицы <code>Messages</code> на аномалии</a></span></li></ul></li><li><span><a href=\"#Вывод\" data-toc-modified-id=\"Вывод-2.7\"><span class=\"toc-item-num\">2.7&nbsp;&nbsp;</span>Вывод</a></span></li></ul></li><li><span><a href=\"#Расчёты-и-добавление-результатов-в-таблицу\" data-toc-modified-id=\"Расчёты-и-добавление-результатов-в-таблицу-3\"><span class=\"toc-item-num\">3&nbsp;&nbsp;</span>Расчёты и добавление результатов в таблицу</a></span><ul class=\"toc-item\"><li><span><a href=\"#Месяцы\" data-toc-modified-id=\"Месяцы-3.1\"><span class=\"toc-item-num\">3.1&nbsp;&nbsp;</span>Месяцы</a></span></li><li><span><a href=\"#Объем-использованного-трафика-в-гигабайтах\" data-toc-modified-id=\"Объем-использованного-трафика-в-гигабайтах-3.2\"><span class=\"toc-item-num\">3.2&nbsp;&nbsp;</span>Объем использованного трафика в гигабайтах</a></span></li><li><span><a href=\"#Объем-интернет-траффика,-включенный-в-тарифный-план\" data-toc-modified-id=\"Объем-интернет-траффика,-включенный-в-тарифный-план-3.3\"><span class=\"toc-item-num\">3.3&nbsp;&nbsp;</span>Объем интернет-траффика, включенный в тарифный план</a></span></li></ul></li><li><span><a href=\"#Группировка-данных\" data-toc-modified-id=\"Группировка-данных-4\"><span class=\"toc-item-num\">4&nbsp;&nbsp;</span>Группировка данных</a></span><ul class=\"toc-item\"><li><span><a href=\"#Таблица-Internet\" data-toc-modified-id=\"Таблица-Internet-4.1\"><span class=\"toc-item-num\">4.1&nbsp;&nbsp;</span>Таблица <code>Internet</code></a></span></li><li><span><a href=\"#Таблица-Messages\" data-toc-modified-id=\"Таблица-Messages-4.2\"><span class=\"toc-item-num\">4.2&nbsp;&nbsp;</span>Таблица <code>Messages</code></a></span></li><li><span><a href=\"#Таблица-Calls\" data-toc-modified-id=\"Таблица-Calls-4.3\"><span class=\"toc-item-num\">4.3&nbsp;&nbsp;</span>Таблица <code>Calls</code></a></span></li><li><span><a href=\"#Объединение-таблиц\" data-toc-modified-id=\"Объединение-таблиц-4.4\"><span class=\"toc-item-num\">4.4&nbsp;&nbsp;</span>Объединение таблиц</a></span></li><li><span><a href=\"#Расчет-выручки\" data-toc-modified-id=\"Расчет-выручки-4.5\"><span class=\"toc-item-num\">4.5&nbsp;&nbsp;</span>Расчет выручки</a></span><ul class=\"toc-item\"><li><span><a href=\"#Общая-выручка\" data-toc-modified-id=\"Общая-выручка-4.5.1\"><span class=\"toc-item-num\">4.5.1&nbsp;&nbsp;</span>Общая выручка</a></span></li><li><span><a href=\"#Выручка-сверх-стоимости-тарифа\" data-toc-modified-id=\"Выручка-сверх-стоимости-тарифа-4.5.2\"><span class=\"toc-item-num\">4.5.2&nbsp;&nbsp;</span>Выручка сверх стоимости тарифа</a></span></li></ul></li><li><span><a href=\"#Распределение-тарифов-по-городу-проживания-абонента\" data-toc-modified-id=\"Распределение-тарифов-по-городу-проживания-абонента-4.6\"><span class=\"toc-item-num\">4.6&nbsp;&nbsp;</span>Распределение тарифов по городу проживания абонента</a></span></li><li><span><a href=\"#Анализ-поведения-пользователей-тарифа-Smart\" data-toc-modified-id=\"Анализ-поведения-пользователей-тарифа-Smart-4.7\"><span class=\"toc-item-num\">4.7&nbsp;&nbsp;</span>Анализ поведения пользователей тарифа <em><strong>Smart</strong></em></a></span></li><li><span><a href=\"#Анализ-поведения-пользователей-тарифа-Ultra\" data-toc-modified-id=\"Анализ-поведения-пользователей-тарифа-Ultra-4.8\"><span class=\"toc-item-num\">4.8&nbsp;&nbsp;</span>Анализ поведения пользователей тарифа <em><strong>Ultra</strong></em></a></span></li><li><span><a href=\"#Сравнительный-анализ-поведения-абонентов-обоих-тарифов\" data-toc-modified-id=\"Сравнительный-анализ-поведения-абонентов-обоих-тарифов-4.9\"><span class=\"toc-item-num\">4.9&nbsp;&nbsp;</span>Сравнительный анализ поведения абонентов обоих тарифов</a></span><ul class=\"toc-item\"><li><span><a href=\"#Количество-использованных-минут-'minutes_used'\" data-toc-modified-id=\"Количество-использованных-минут-'minutes_used'-4.9.1\"><span class=\"toc-item-num\">4.9.1&nbsp;&nbsp;</span>Количество использованных минут <code>'minutes_used'</code></a></span><ul class=\"toc-item\"><li><span><a href=\"#Выводы:\" data-toc-modified-id=\"Выводы:-4.9.1.1\"><span class=\"toc-item-num\">4.9.1.1&nbsp;&nbsp;</span>Выводы:</a></span></li></ul></li><li><span><a href=\"#Количество-отправленных-сообщений-'messages_used'\" data-toc-modified-id=\"Количество-отправленных-сообщений-'messages_used'-4.9.2\"><span class=\"toc-item-num\">4.9.2&nbsp;&nbsp;</span>Количество отправленных сообщений <code>'messages_used'</code></a></span><ul class=\"toc-item\"><li><span><a href=\"#Выводы\" data-toc-modified-id=\"Выводы-4.9.2.1\"><span class=\"toc-item-num\">4.9.2.1&nbsp;&nbsp;</span>Выводы</a></span></li></ul></li><li><span><a href=\"#Объем-использованного-интернет-трафика-'gb_used'\" data-toc-modified-id=\"Объем-использованного-интернет-трафика-'gb_used'-4.9.3\"><span class=\"toc-item-num\">4.9.3&nbsp;&nbsp;</span>Объем использованного интернет-трафика <code>'gb_used'</code></a></span><ul class=\"toc-item\"><li><span><a href=\"#Выводы\" data-toc-modified-id=\"Выводы-4.9.3.1\"><span class=\"toc-item-num\">4.9.3.1&nbsp;&nbsp;</span>Выводы</a></span></li></ul></li></ul></li><li><span><a href=\"#Расчет-дисперсии-и-стандартного-отклонения-по-столбцам-minutes_used,-messages_used-и-gb_used\" data-toc-modified-id=\"Расчет-дисперсии-и-стандартного-отклонения-по-столбцам-minutes_used,-messages_used-и-gb_used-4.10\"><span class=\"toc-item-num\">4.10&nbsp;&nbsp;</span>Расчет дисперсии и стандартного отклонения по столбцам <code>minutes_used</code>, <code>messages_used</code> и <code>gb_used</code></a></span><ul class=\"toc-item\"><li><span><a href=\"#Для-абонентов-тарифа-Smart\" data-toc-modified-id=\"Для-абонентов-тарифа-Smart-4.10.1\"><span class=\"toc-item-num\">4.10.1&nbsp;&nbsp;</span>Для абонентов тарифа <em><strong>Smart</strong></em></a></span></li><li><span><a href=\"#Для-абонентов-тарифа-Ultra\" data-toc-modified-id=\"Для-абонентов-тарифа-Ultra-4.10.2\"><span class=\"toc-item-num\">4.10.2&nbsp;&nbsp;</span>Для абонентов тарифа <em><strong>Ultra</strong></em></a></span></li></ul></li><li><span><a href=\"#Сравнительный-анализ-данных-о-выручке-для-тарифов-Smart-и-Ultra\" data-toc-modified-id=\"Сравнительный-анализ-данных-о-выручке-для-тарифов-Smart-и-Ultra-4.11\"><span class=\"toc-item-num\">4.11&nbsp;&nbsp;</span>Сравнительный анализ данных о выручке для тарифов <em>Smart</em> и <em>Ultra</em></a></span><ul class=\"toc-item\"><li><span><a href=\"#Выводы\" data-toc-modified-id=\"Выводы-4.11.1\"><span class=\"toc-item-num\">4.11.1&nbsp;&nbsp;</span>Выводы</a></span></li></ul></li><li><span><a href=\"#Вывод\" data-toc-modified-id=\"Вывод-4.12\"><span class=\"toc-item-num\">4.12&nbsp;&nbsp;</span>Вывод</a></span></li></ul></li><li><span><a href=\"#Проверка-гипотез\" data-toc-modified-id=\"Проверка-гипотез-5\"><span class=\"toc-item-num\">5&nbsp;&nbsp;</span>Проверка гипотез</a></span><ul class=\"toc-item\"><li><span><a href=\"#Выручка-для-тарифов-&quot;Смарт&quot;-и-&quot;Ультра&quot;\" data-toc-modified-id=\"Выручка-для-тарифов-&quot;Смарт&quot;-и-&quot;Ультра&quot;-5.1\"><span class=\"toc-item-num\">5.1&nbsp;&nbsp;</span>Выручка для тарифов \"Смарт\" и \"Ультра\"</a></span></li><li><span><a href=\"#Выручка-пользователей-из-Москвы-и-других-регионов\" data-toc-modified-id=\"Выручка-пользователей-из-Москвы-и-других-регионов-5.2\"><span class=\"toc-item-num\">5.2&nbsp;&nbsp;</span>Выручка пользователей из Москвы и других регионов</a></span><ul class=\"toc-item\"><li><span><a href=\"#Проверка-гипотезы-для-пользователей-тарифа-Smart\" data-toc-modified-id=\"Проверка-гипотезы-для-пользователей-тарифа-Smart-5.2.1\"><span class=\"toc-item-num\">5.2.1&nbsp;&nbsp;</span>Проверка гипотезы для пользователей тарифа <em>Smart</em></a></span></li><li><span><a href=\"#Проверка-гипотезы-для-пользователей-тарифа-Ultra\" data-toc-modified-id=\"Проверка-гипотезы-для-пользователей-тарифа-Ultra-5.2.2\"><span class=\"toc-item-num\">5.2.2&nbsp;&nbsp;</span>Проверка гипотезы для пользователей тарифа <em>Ultra</em></a></span></li></ul></li><li><span><a href=\"#Вывод\" data-toc-modified-id=\"Вывод-5.3\"><span class=\"toc-item-num\">5.3&nbsp;&nbsp;</span>Вывод</a></span></li></ul></li><li><span><a href=\"#Общий-вывод\" data-toc-modified-id=\"Общий-вывод-6\"><span class=\"toc-item-num\">6&nbsp;&nbsp;</span>Общий вывод</a></span></li><li><span><a href=\"#Баг-репорт\" data-toc-modified-id=\"Баг-репорт-7\"><span class=\"toc-item-num\">7&nbsp;&nbsp;</span>Баг-репорт</a></span></li></ul></div>"
   ]
  },
  {
   "cell_type": "markdown",
   "id": "12ac8232",
   "metadata": {},
   "source": [
    "<div style=\"border:solid navy 3px; padding: 20px\"> <h1 style=\"color:navy; margin-bottom:20px\">Исследование тарифных планов</h1>\n",
    "    \n",
    "# Описание проекта\n",
    "    \n",
    "Необходимо провести анализ данных, предоставленных компанией «Мегалайн» — федерального оператора сотовой связи. Клиентам предлагают два тарифных плана: «Смарт» и «Ультра». Чтобы скорректировать рекламный бюджет, коммерческий департамент хочет понять, какой тариф приносит больше денег.\n",
    "    \n",
    "**Цели исследования**\n",
    "\n",
    "Провести предварительный анализ тарифов на небольшой выборке клиентов и их истории использования услуг оператора за 2018 год для определения тарифа, приносящего большую прибыль компании.\n",
    "    \n",
    "<b> Ход исследования </b>\n",
    "    \n",
    "**Данные** находятся в файлах:\n",
    "    \n",
    "* `/datasets/calls.csv` \n",
    "* `/datasets/internet.csv` \n",
    "* `/datasets/messages.csv`\n",
    "* `/datasets/tariffs.csv`\n",
    "* `/datasets/users.csv`\n",
    "    \n",
    "<b> Описание тарифов </b>\n",
    "    \n",
    "_**Тариф «Смарт»**_\n",
    "1. Ежемесячная плата: 550 рублей\n",
    "2. Включено 500 минут разговора, 50 сообщений и 15 Гб интернет-трафика\n",
    "3. Стоимость услуг сверх тарифного пакета:\n",
    "    * минута разговора: 3 рубля\n",
    "    * сообщение: 3 рубля\n",
    "    * 1 Гб интернет-трафика: 200 рублей\n",
    "\n",
    "\n",
    "_**Тариф «Ультра»**_\n",
    "1. Ежемесячная плата: 1950 рублей\n",
    "2. Включено 3000 минут разговора, 1000 сообщений и 30 Гб интернет-трафика\n",
    "3. Стоимость услуг сверх тарифного пакета:\n",
    "    * минута разговора: 1 рубль\n",
    "    * сообщение: 1 рубль\n",
    "    * 1 Гб интернет-трафика: 150 рублей\n",
    "\n",
    "_«Мегалайн» всегда округляет секунды до минут, а мегабайты — до гигабайт. Каждый звонок округляется отдельно: даже если он длился всего 1 секунду, будет засчитан как 1 минута._\n",
    "\n",
    "_Для веб-трафика отдельные сессии не считаются. Вместо этого общая сумма за месяц округляется в бо́льшую сторону. Если абонент использует 1025 мегабайт в этом месяце, с него возьмут плату за 2 гигабайта._"
   ]
  },
  {
   "cell_type": "markdown",
   "id": "84c151c5",
   "metadata": {},
   "source": [
    "## Изучение общей информации о данных"
   ]
  },
  {
   "cell_type": "code",
   "execution_count": 1,
   "id": "d813c6c8",
   "metadata": {},
   "outputs": [],
   "source": [
    "import warnings\n",
    "\n",
    "import math as mt\n",
    "from matplotlib import pyplot as plt\n",
    "import numpy as np\n",
    "import pandas as pd\n",
    "from scipy import stats as st\n",
    "from scipy.stats import shapiro\n",
    "\n",
    "warnings.filterwarnings('ignore')"
   ]
  },
  {
   "cell_type": "markdown",
   "id": "55a18336",
   "metadata": {},
   "source": [
    "### Сохранение данных в переменных\n",
    "\n",
    "Данные об абонентах и истории их использования услуг оператора приведены в пяти таблицах. Сохраним их в соответствующие переменные.\n",
    "\n",
    "* `data_calls` - данные о звонках\n",
    "* `data_internet` - данные об интернет-сессиях\n",
    "* `data_messages` - данные о сообщениях\n",
    "* `data_tariffs` - информация о тарифах\n",
    "* `data_users` - информация об абонентах\n",
    "\n",
    "Подготовим функцию `data_overview` для вывода общей информации о датасетах."
   ]
  },
  {
   "cell_type": "code",
   "execution_count": 2,
   "id": "e6cf4312",
   "metadata": {},
   "outputs": [],
   "source": [
    "def data_overview(df):\n",
    "    print('Размер таблицы:', df.shape)\n",
    "    \n",
    "    print('-'*100)\n",
    "    print('Первые строки таблицы')\n",
    "    display(df.head())\n",
    "    \n",
    "    print('-'*100)\n",
    "    print('Общая информация о таблице')\n",
    "    display(df.info())\n",
    "    \n",
    "    print('-'*100)\n",
    "    print('Показатели описательной статистики')\n",
    "    display(df.describe(include='all'))"
   ]
  },
  {
   "cell_type": "markdown",
   "id": "93f8cd8f",
   "metadata": {},
   "source": [
    "#### Данные о звонках\n",
    "\n",
    "Сохраним данные о звонках в таблице `data_calls` и выведем общую информацию о таблице с помощью функции `data_overview`."
   ]
  },
  {
   "cell_type": "code",
   "execution_count": 3,
   "id": "b33056d2",
   "metadata": {},
   "outputs": [
    {
     "name": "stdout",
     "output_type": "stream",
     "text": [
      "Размер таблицы: (202607, 4)\n",
      "----------------------------------------------------------------------------------------------------\n",
      "Первые строки таблицы\n"
     ]
    },
    {
     "data": {
      "text/html": [
       "<div>\n",
       "<style scoped>\n",
       "    .dataframe tbody tr th:only-of-type {\n",
       "        vertical-align: middle;\n",
       "    }\n",
       "\n",
       "    .dataframe tbody tr th {\n",
       "        vertical-align: top;\n",
       "    }\n",
       "\n",
       "    .dataframe thead th {\n",
       "        text-align: right;\n",
       "    }\n",
       "</style>\n",
       "<table border=\"1\" class=\"dataframe\">\n",
       "  <thead>\n",
       "    <tr style=\"text-align: right;\">\n",
       "      <th></th>\n",
       "      <th>id</th>\n",
       "      <th>call_date</th>\n",
       "      <th>duration</th>\n",
       "      <th>user_id</th>\n",
       "    </tr>\n",
       "  </thead>\n",
       "  <tbody>\n",
       "    <tr>\n",
       "      <th>0</th>\n",
       "      <td>1000_0</td>\n",
       "      <td>2018-07-25</td>\n",
       "      <td>0.00</td>\n",
       "      <td>1000</td>\n",
       "    </tr>\n",
       "    <tr>\n",
       "      <th>1</th>\n",
       "      <td>1000_1</td>\n",
       "      <td>2018-08-17</td>\n",
       "      <td>0.00</td>\n",
       "      <td>1000</td>\n",
       "    </tr>\n",
       "    <tr>\n",
       "      <th>2</th>\n",
       "      <td>1000_2</td>\n",
       "      <td>2018-06-11</td>\n",
       "      <td>2.85</td>\n",
       "      <td>1000</td>\n",
       "    </tr>\n",
       "    <tr>\n",
       "      <th>3</th>\n",
       "      <td>1000_3</td>\n",
       "      <td>2018-09-21</td>\n",
       "      <td>13.80</td>\n",
       "      <td>1000</td>\n",
       "    </tr>\n",
       "    <tr>\n",
       "      <th>4</th>\n",
       "      <td>1000_4</td>\n",
       "      <td>2018-12-15</td>\n",
       "      <td>5.18</td>\n",
       "      <td>1000</td>\n",
       "    </tr>\n",
       "  </tbody>\n",
       "</table>\n",
       "</div>"
      ],
      "text/plain": [
       "       id  call_date  duration  user_id\n",
       "0  1000_0 2018-07-25      0.00     1000\n",
       "1  1000_1 2018-08-17      0.00     1000\n",
       "2  1000_2 2018-06-11      2.85     1000\n",
       "3  1000_3 2018-09-21     13.80     1000\n",
       "4  1000_4 2018-12-15      5.18     1000"
      ]
     },
     "metadata": {},
     "output_type": "display_data"
    },
    {
     "name": "stdout",
     "output_type": "stream",
     "text": [
      "----------------------------------------------------------------------------------------------------\n",
      "Общая информация о таблице\n",
      "<class 'pandas.core.frame.DataFrame'>\n",
      "RangeIndex: 202607 entries, 0 to 202606\n",
      "Data columns (total 4 columns):\n",
      " #   Column     Non-Null Count   Dtype         \n",
      "---  ------     --------------   -----         \n",
      " 0   id         202607 non-null  object        \n",
      " 1   call_date  202607 non-null  datetime64[ns]\n",
      " 2   duration   202607 non-null  float64       \n",
      " 3   user_id    202607 non-null  int64         \n",
      "dtypes: datetime64[ns](1), float64(1), int64(1), object(1)\n",
      "memory usage: 6.2+ MB\n"
     ]
    },
    {
     "data": {
      "text/plain": [
       "None"
      ]
     },
     "metadata": {},
     "output_type": "display_data"
    },
    {
     "name": "stdout",
     "output_type": "stream",
     "text": [
      "----------------------------------------------------------------------------------------------------\n",
      "Показатели описательной статистики\n"
     ]
    },
    {
     "data": {
      "text/html": [
       "<div>\n",
       "<style scoped>\n",
       "    .dataframe tbody tr th:only-of-type {\n",
       "        vertical-align: middle;\n",
       "    }\n",
       "\n",
       "    .dataframe tbody tr th {\n",
       "        vertical-align: top;\n",
       "    }\n",
       "\n",
       "    .dataframe thead th {\n",
       "        text-align: right;\n",
       "    }\n",
       "</style>\n",
       "<table border=\"1\" class=\"dataframe\">\n",
       "  <thead>\n",
       "    <tr style=\"text-align: right;\">\n",
       "      <th></th>\n",
       "      <th>id</th>\n",
       "      <th>call_date</th>\n",
       "      <th>duration</th>\n",
       "      <th>user_id</th>\n",
       "    </tr>\n",
       "  </thead>\n",
       "  <tbody>\n",
       "    <tr>\n",
       "      <th>count</th>\n",
       "      <td>202607</td>\n",
       "      <td>202607</td>\n",
       "      <td>202607.000000</td>\n",
       "      <td>202607.000000</td>\n",
       "    </tr>\n",
       "    <tr>\n",
       "      <th>unique</th>\n",
       "      <td>202607</td>\n",
       "      <td>365</td>\n",
       "      <td>NaN</td>\n",
       "      <td>NaN</td>\n",
       "    </tr>\n",
       "    <tr>\n",
       "      <th>top</th>\n",
       "      <td>1000_0</td>\n",
       "      <td>2018-12-31 00:00:00</td>\n",
       "      <td>NaN</td>\n",
       "      <td>NaN</td>\n",
       "    </tr>\n",
       "    <tr>\n",
       "      <th>freq</th>\n",
       "      <td>1</td>\n",
       "      <td>1435</td>\n",
       "      <td>NaN</td>\n",
       "      <td>NaN</td>\n",
       "    </tr>\n",
       "    <tr>\n",
       "      <th>first</th>\n",
       "      <td>NaN</td>\n",
       "      <td>2018-01-01 00:00:00</td>\n",
       "      <td>NaN</td>\n",
       "      <td>NaN</td>\n",
       "    </tr>\n",
       "    <tr>\n",
       "      <th>last</th>\n",
       "      <td>NaN</td>\n",
       "      <td>2018-12-31 00:00:00</td>\n",
       "      <td>NaN</td>\n",
       "      <td>NaN</td>\n",
       "    </tr>\n",
       "    <tr>\n",
       "      <th>mean</th>\n",
       "      <td>NaN</td>\n",
       "      <td>NaN</td>\n",
       "      <td>6.755887</td>\n",
       "      <td>1253.940619</td>\n",
       "    </tr>\n",
       "    <tr>\n",
       "      <th>std</th>\n",
       "      <td>NaN</td>\n",
       "      <td>NaN</td>\n",
       "      <td>5.843365</td>\n",
       "      <td>144.722751</td>\n",
       "    </tr>\n",
       "    <tr>\n",
       "      <th>min</th>\n",
       "      <td>NaN</td>\n",
       "      <td>NaN</td>\n",
       "      <td>0.000000</td>\n",
       "      <td>1000.000000</td>\n",
       "    </tr>\n",
       "    <tr>\n",
       "      <th>25%</th>\n",
       "      <td>NaN</td>\n",
       "      <td>NaN</td>\n",
       "      <td>1.300000</td>\n",
       "      <td>1126.000000</td>\n",
       "    </tr>\n",
       "    <tr>\n",
       "      <th>50%</th>\n",
       "      <td>NaN</td>\n",
       "      <td>NaN</td>\n",
       "      <td>6.000000</td>\n",
       "      <td>1260.000000</td>\n",
       "    </tr>\n",
       "    <tr>\n",
       "      <th>75%</th>\n",
       "      <td>NaN</td>\n",
       "      <td>NaN</td>\n",
       "      <td>10.700000</td>\n",
       "      <td>1379.000000</td>\n",
       "    </tr>\n",
       "    <tr>\n",
       "      <th>max</th>\n",
       "      <td>NaN</td>\n",
       "      <td>NaN</td>\n",
       "      <td>38.000000</td>\n",
       "      <td>1499.000000</td>\n",
       "    </tr>\n",
       "  </tbody>\n",
       "</table>\n",
       "</div>"
      ],
      "text/plain": [
       "            id            call_date       duration        user_id\n",
       "count   202607               202607  202607.000000  202607.000000\n",
       "unique  202607                  365            NaN            NaN\n",
       "top     1000_0  2018-12-31 00:00:00            NaN            NaN\n",
       "freq         1                 1435            NaN            NaN\n",
       "first      NaN  2018-01-01 00:00:00            NaN            NaN\n",
       "last       NaN  2018-12-31 00:00:00            NaN            NaN\n",
       "mean       NaN                  NaN       6.755887    1253.940619\n",
       "std        NaN                  NaN       5.843365     144.722751\n",
       "min        NaN                  NaN       0.000000    1000.000000\n",
       "25%        NaN                  NaN       1.300000    1126.000000\n",
       "50%        NaN                  NaN       6.000000    1260.000000\n",
       "75%        NaN                  NaN      10.700000    1379.000000\n",
       "max        NaN                  NaN      38.000000    1499.000000"
      ]
     },
     "metadata": {},
     "output_type": "display_data"
    }
   ],
   "source": [
    "data_calls = pd.read_csv(\n",
    "    'D:/1_Проекты Практикум/М_1/4_Определение перспективного тарифа/calls.csv',\n",
    "    parse_dates=['call_date']\n",
    ")\n",
    "\n",
    "data_overview(data_calls)"
   ]
  },
  {
   "cell_type": "markdown",
   "id": "1041eb04",
   "metadata": {},
   "source": [
    "#### Данные об интернет-сессиях\n",
    "\n",
    "Сохраним данные об использовании интернет-траффика в таблице `data_internet` и выведем общую информацию о таблице."
   ]
  },
  {
   "cell_type": "code",
   "execution_count": 4,
   "id": "903f198e",
   "metadata": {},
   "outputs": [
    {
     "name": "stdout",
     "output_type": "stream",
     "text": [
      "Размер таблицы: (149396, 5)\n",
      "----------------------------------------------------------------------------------------------------\n",
      "Первые строки таблицы\n"
     ]
    },
    {
     "data": {
      "text/html": [
       "<div>\n",
       "<style scoped>\n",
       "    .dataframe tbody tr th:only-of-type {\n",
       "        vertical-align: middle;\n",
       "    }\n",
       "\n",
       "    .dataframe tbody tr th {\n",
       "        vertical-align: top;\n",
       "    }\n",
       "\n",
       "    .dataframe thead th {\n",
       "        text-align: right;\n",
       "    }\n",
       "</style>\n",
       "<table border=\"1\" class=\"dataframe\">\n",
       "  <thead>\n",
       "    <tr style=\"text-align: right;\">\n",
       "      <th></th>\n",
       "      <th>Unnamed: 0</th>\n",
       "      <th>id</th>\n",
       "      <th>mb_used</th>\n",
       "      <th>session_date</th>\n",
       "      <th>user_id</th>\n",
       "    </tr>\n",
       "  </thead>\n",
       "  <tbody>\n",
       "    <tr>\n",
       "      <th>0</th>\n",
       "      <td>0</td>\n",
       "      <td>1000_0</td>\n",
       "      <td>112.95</td>\n",
       "      <td>2018-11-25</td>\n",
       "      <td>1000</td>\n",
       "    </tr>\n",
       "    <tr>\n",
       "      <th>1</th>\n",
       "      <td>1</td>\n",
       "      <td>1000_1</td>\n",
       "      <td>1052.81</td>\n",
       "      <td>2018-09-07</td>\n",
       "      <td>1000</td>\n",
       "    </tr>\n",
       "    <tr>\n",
       "      <th>2</th>\n",
       "      <td>2</td>\n",
       "      <td>1000_2</td>\n",
       "      <td>1197.26</td>\n",
       "      <td>2018-06-25</td>\n",
       "      <td>1000</td>\n",
       "    </tr>\n",
       "    <tr>\n",
       "      <th>3</th>\n",
       "      <td>3</td>\n",
       "      <td>1000_3</td>\n",
       "      <td>550.27</td>\n",
       "      <td>2018-08-22</td>\n",
       "      <td>1000</td>\n",
       "    </tr>\n",
       "    <tr>\n",
       "      <th>4</th>\n",
       "      <td>4</td>\n",
       "      <td>1000_4</td>\n",
       "      <td>302.56</td>\n",
       "      <td>2018-09-24</td>\n",
       "      <td>1000</td>\n",
       "    </tr>\n",
       "  </tbody>\n",
       "</table>\n",
       "</div>"
      ],
      "text/plain": [
       "   Unnamed: 0      id  mb_used session_date  user_id\n",
       "0           0  1000_0   112.95   2018-11-25     1000\n",
       "1           1  1000_1  1052.81   2018-09-07     1000\n",
       "2           2  1000_2  1197.26   2018-06-25     1000\n",
       "3           3  1000_3   550.27   2018-08-22     1000\n",
       "4           4  1000_4   302.56   2018-09-24     1000"
      ]
     },
     "metadata": {},
     "output_type": "display_data"
    },
    {
     "name": "stdout",
     "output_type": "stream",
     "text": [
      "----------------------------------------------------------------------------------------------------\n",
      "Общая информация о таблице\n",
      "<class 'pandas.core.frame.DataFrame'>\n",
      "RangeIndex: 149396 entries, 0 to 149395\n",
      "Data columns (total 5 columns):\n",
      " #   Column        Non-Null Count   Dtype         \n",
      "---  ------        --------------   -----         \n",
      " 0   Unnamed: 0    149396 non-null  int64         \n",
      " 1   id            149396 non-null  object        \n",
      " 2   mb_used       149396 non-null  float64       \n",
      " 3   session_date  149396 non-null  datetime64[ns]\n",
      " 4   user_id       149396 non-null  int64         \n",
      "dtypes: datetime64[ns](1), float64(1), int64(2), object(1)\n",
      "memory usage: 5.7+ MB\n"
     ]
    },
    {
     "data": {
      "text/plain": [
       "None"
      ]
     },
     "metadata": {},
     "output_type": "display_data"
    },
    {
     "name": "stdout",
     "output_type": "stream",
     "text": [
      "----------------------------------------------------------------------------------------------------\n",
      "Показатели описательной статистики\n"
     ]
    },
    {
     "data": {
      "text/html": [
       "<div>\n",
       "<style scoped>\n",
       "    .dataframe tbody tr th:only-of-type {\n",
       "        vertical-align: middle;\n",
       "    }\n",
       "\n",
       "    .dataframe tbody tr th {\n",
       "        vertical-align: top;\n",
       "    }\n",
       "\n",
       "    .dataframe thead th {\n",
       "        text-align: right;\n",
       "    }\n",
       "</style>\n",
       "<table border=\"1\" class=\"dataframe\">\n",
       "  <thead>\n",
       "    <tr style=\"text-align: right;\">\n",
       "      <th></th>\n",
       "      <th>Unnamed: 0</th>\n",
       "      <th>id</th>\n",
       "      <th>mb_used</th>\n",
       "      <th>session_date</th>\n",
       "      <th>user_id</th>\n",
       "    </tr>\n",
       "  </thead>\n",
       "  <tbody>\n",
       "    <tr>\n",
       "      <th>count</th>\n",
       "      <td>149396.000000</td>\n",
       "      <td>149396</td>\n",
       "      <td>149396.000000</td>\n",
       "      <td>149396</td>\n",
       "      <td>149396.000000</td>\n",
       "    </tr>\n",
       "    <tr>\n",
       "      <th>unique</th>\n",
       "      <td>NaN</td>\n",
       "      <td>149396</td>\n",
       "      <td>NaN</td>\n",
       "      <td>365</td>\n",
       "      <td>NaN</td>\n",
       "    </tr>\n",
       "    <tr>\n",
       "      <th>top</th>\n",
       "      <td>NaN</td>\n",
       "      <td>1000_0</td>\n",
       "      <td>NaN</td>\n",
       "      <td>2018-12-31 00:00:00</td>\n",
       "      <td>NaN</td>\n",
       "    </tr>\n",
       "    <tr>\n",
       "      <th>freq</th>\n",
       "      <td>NaN</td>\n",
       "      <td>1</td>\n",
       "      <td>NaN</td>\n",
       "      <td>1057</td>\n",
       "      <td>NaN</td>\n",
       "    </tr>\n",
       "    <tr>\n",
       "      <th>first</th>\n",
       "      <td>NaN</td>\n",
       "      <td>NaN</td>\n",
       "      <td>NaN</td>\n",
       "      <td>2018-01-01 00:00:00</td>\n",
       "      <td>NaN</td>\n",
       "    </tr>\n",
       "    <tr>\n",
       "      <th>last</th>\n",
       "      <td>NaN</td>\n",
       "      <td>NaN</td>\n",
       "      <td>NaN</td>\n",
       "      <td>2018-12-31 00:00:00</td>\n",
       "      <td>NaN</td>\n",
       "    </tr>\n",
       "    <tr>\n",
       "      <th>mean</th>\n",
       "      <td>74697.500000</td>\n",
       "      <td>NaN</td>\n",
       "      <td>370.192426</td>\n",
       "      <td>NaN</td>\n",
       "      <td>1252.099842</td>\n",
       "    </tr>\n",
       "    <tr>\n",
       "      <th>std</th>\n",
       "      <td>43127.054745</td>\n",
       "      <td>NaN</td>\n",
       "      <td>278.300951</td>\n",
       "      <td>NaN</td>\n",
       "      <td>144.050823</td>\n",
       "    </tr>\n",
       "    <tr>\n",
       "      <th>min</th>\n",
       "      <td>0.000000</td>\n",
       "      <td>NaN</td>\n",
       "      <td>0.000000</td>\n",
       "      <td>NaN</td>\n",
       "      <td>1000.000000</td>\n",
       "    </tr>\n",
       "    <tr>\n",
       "      <th>25%</th>\n",
       "      <td>37348.750000</td>\n",
       "      <td>NaN</td>\n",
       "      <td>138.187500</td>\n",
       "      <td>NaN</td>\n",
       "      <td>1130.000000</td>\n",
       "    </tr>\n",
       "    <tr>\n",
       "      <th>50%</th>\n",
       "      <td>74697.500000</td>\n",
       "      <td>NaN</td>\n",
       "      <td>348.015000</td>\n",
       "      <td>NaN</td>\n",
       "      <td>1251.000000</td>\n",
       "    </tr>\n",
       "    <tr>\n",
       "      <th>75%</th>\n",
       "      <td>112046.250000</td>\n",
       "      <td>NaN</td>\n",
       "      <td>559.552500</td>\n",
       "      <td>NaN</td>\n",
       "      <td>1380.000000</td>\n",
       "    </tr>\n",
       "    <tr>\n",
       "      <th>max</th>\n",
       "      <td>149395.000000</td>\n",
       "      <td>NaN</td>\n",
       "      <td>1724.830000</td>\n",
       "      <td>NaN</td>\n",
       "      <td>1499.000000</td>\n",
       "    </tr>\n",
       "  </tbody>\n",
       "</table>\n",
       "</div>"
      ],
      "text/plain": [
       "           Unnamed: 0      id        mb_used         session_date  \\\n",
       "count   149396.000000  149396  149396.000000               149396   \n",
       "unique            NaN  149396            NaN                  365   \n",
       "top               NaN  1000_0            NaN  2018-12-31 00:00:00   \n",
       "freq              NaN       1            NaN                 1057   \n",
       "first             NaN     NaN            NaN  2018-01-01 00:00:00   \n",
       "last              NaN     NaN            NaN  2018-12-31 00:00:00   \n",
       "mean     74697.500000     NaN     370.192426                  NaN   \n",
       "std      43127.054745     NaN     278.300951                  NaN   \n",
       "min          0.000000     NaN       0.000000                  NaN   \n",
       "25%      37348.750000     NaN     138.187500                  NaN   \n",
       "50%      74697.500000     NaN     348.015000                  NaN   \n",
       "75%     112046.250000     NaN     559.552500                  NaN   \n",
       "max     149395.000000     NaN    1724.830000                  NaN   \n",
       "\n",
       "              user_id  \n",
       "count   149396.000000  \n",
       "unique            NaN  \n",
       "top               NaN  \n",
       "freq              NaN  \n",
       "first             NaN  \n",
       "last              NaN  \n",
       "mean      1252.099842  \n",
       "std        144.050823  \n",
       "min       1000.000000  \n",
       "25%       1130.000000  \n",
       "50%       1251.000000  \n",
       "75%       1380.000000  \n",
       "max       1499.000000  "
      ]
     },
     "metadata": {},
     "output_type": "display_data"
    }
   ],
   "source": [
    "data_internet = pd.read_csv(\n",
    "    'D:/1_Проекты Практикум/М_1/4_Определение перспективного тарифа/internet.csv',\n",
    "    parse_dates=['session_date']\n",
    ")\n",
    "\n",
    "data_overview(data_internet)"
   ]
  },
  {
   "cell_type": "markdown",
   "id": "7b7854ff",
   "metadata": {},
   "source": [
    "#### Данные об отправленных сообщениях\n",
    "\n",
    "Сохраним данные об отправленных сообщениях в таблице `data_messages` и выведем общую информацию о таблице."
   ]
  },
  {
   "cell_type": "code",
   "execution_count": 5,
   "id": "ac2cfb2e",
   "metadata": {},
   "outputs": [
    {
     "name": "stdout",
     "output_type": "stream",
     "text": [
      "Размер таблицы: (123036, 3)\n",
      "----------------------------------------------------------------------------------------------------\n",
      "Первые строки таблицы\n"
     ]
    },
    {
     "data": {
      "text/html": [
       "<div>\n",
       "<style scoped>\n",
       "    .dataframe tbody tr th:only-of-type {\n",
       "        vertical-align: middle;\n",
       "    }\n",
       "\n",
       "    .dataframe tbody tr th {\n",
       "        vertical-align: top;\n",
       "    }\n",
       "\n",
       "    .dataframe thead th {\n",
       "        text-align: right;\n",
       "    }\n",
       "</style>\n",
       "<table border=\"1\" class=\"dataframe\">\n",
       "  <thead>\n",
       "    <tr style=\"text-align: right;\">\n",
       "      <th></th>\n",
       "      <th>id</th>\n",
       "      <th>message_date</th>\n",
       "      <th>user_id</th>\n",
       "    </tr>\n",
       "  </thead>\n",
       "  <tbody>\n",
       "    <tr>\n",
       "      <th>0</th>\n",
       "      <td>1000_0</td>\n",
       "      <td>2018-06-27</td>\n",
       "      <td>1000</td>\n",
       "    </tr>\n",
       "    <tr>\n",
       "      <th>1</th>\n",
       "      <td>1000_1</td>\n",
       "      <td>2018-10-08</td>\n",
       "      <td>1000</td>\n",
       "    </tr>\n",
       "    <tr>\n",
       "      <th>2</th>\n",
       "      <td>1000_2</td>\n",
       "      <td>2018-08-04</td>\n",
       "      <td>1000</td>\n",
       "    </tr>\n",
       "    <tr>\n",
       "      <th>3</th>\n",
       "      <td>1000_3</td>\n",
       "      <td>2018-06-16</td>\n",
       "      <td>1000</td>\n",
       "    </tr>\n",
       "    <tr>\n",
       "      <th>4</th>\n",
       "      <td>1000_4</td>\n",
       "      <td>2018-12-05</td>\n",
       "      <td>1000</td>\n",
       "    </tr>\n",
       "  </tbody>\n",
       "</table>\n",
       "</div>"
      ],
      "text/plain": [
       "       id message_date  user_id\n",
       "0  1000_0   2018-06-27     1000\n",
       "1  1000_1   2018-10-08     1000\n",
       "2  1000_2   2018-08-04     1000\n",
       "3  1000_3   2018-06-16     1000\n",
       "4  1000_4   2018-12-05     1000"
      ]
     },
     "metadata": {},
     "output_type": "display_data"
    },
    {
     "name": "stdout",
     "output_type": "stream",
     "text": [
      "----------------------------------------------------------------------------------------------------\n",
      "Общая информация о таблице\n",
      "<class 'pandas.core.frame.DataFrame'>\n",
      "RangeIndex: 123036 entries, 0 to 123035\n",
      "Data columns (total 3 columns):\n",
      " #   Column        Non-Null Count   Dtype         \n",
      "---  ------        --------------   -----         \n",
      " 0   id            123036 non-null  object        \n",
      " 1   message_date  123036 non-null  datetime64[ns]\n",
      " 2   user_id       123036 non-null  int64         \n",
      "dtypes: datetime64[ns](1), int64(1), object(1)\n",
      "memory usage: 2.8+ MB\n"
     ]
    },
    {
     "data": {
      "text/plain": [
       "None"
      ]
     },
     "metadata": {},
     "output_type": "display_data"
    },
    {
     "name": "stdout",
     "output_type": "stream",
     "text": [
      "----------------------------------------------------------------------------------------------------\n",
      "Показатели описательной статистики\n"
     ]
    },
    {
     "data": {
      "text/html": [
       "<div>\n",
       "<style scoped>\n",
       "    .dataframe tbody tr th:only-of-type {\n",
       "        vertical-align: middle;\n",
       "    }\n",
       "\n",
       "    .dataframe tbody tr th {\n",
       "        vertical-align: top;\n",
       "    }\n",
       "\n",
       "    .dataframe thead th {\n",
       "        text-align: right;\n",
       "    }\n",
       "</style>\n",
       "<table border=\"1\" class=\"dataframe\">\n",
       "  <thead>\n",
       "    <tr style=\"text-align: right;\">\n",
       "      <th></th>\n",
       "      <th>id</th>\n",
       "      <th>message_date</th>\n",
       "      <th>user_id</th>\n",
       "    </tr>\n",
       "  </thead>\n",
       "  <tbody>\n",
       "    <tr>\n",
       "      <th>count</th>\n",
       "      <td>123036</td>\n",
       "      <td>123036</td>\n",
       "      <td>123036.000000</td>\n",
       "    </tr>\n",
       "    <tr>\n",
       "      <th>unique</th>\n",
       "      <td>123036</td>\n",
       "      <td>364</td>\n",
       "      <td>NaN</td>\n",
       "    </tr>\n",
       "    <tr>\n",
       "      <th>top</th>\n",
       "      <td>1000_0</td>\n",
       "      <td>2018-12-31 00:00:00</td>\n",
       "      <td>NaN</td>\n",
       "    </tr>\n",
       "    <tr>\n",
       "      <th>freq</th>\n",
       "      <td>1</td>\n",
       "      <td>859</td>\n",
       "      <td>NaN</td>\n",
       "    </tr>\n",
       "    <tr>\n",
       "      <th>first</th>\n",
       "      <td>NaN</td>\n",
       "      <td>2018-01-02 00:00:00</td>\n",
       "      <td>NaN</td>\n",
       "    </tr>\n",
       "    <tr>\n",
       "      <th>last</th>\n",
       "      <td>NaN</td>\n",
       "      <td>2018-12-31 00:00:00</td>\n",
       "      <td>NaN</td>\n",
       "    </tr>\n",
       "    <tr>\n",
       "      <th>mean</th>\n",
       "      <td>NaN</td>\n",
       "      <td>NaN</td>\n",
       "      <td>1256.989410</td>\n",
       "    </tr>\n",
       "    <tr>\n",
       "      <th>std</th>\n",
       "      <td>NaN</td>\n",
       "      <td>NaN</td>\n",
       "      <td>143.523967</td>\n",
       "    </tr>\n",
       "    <tr>\n",
       "      <th>min</th>\n",
       "      <td>NaN</td>\n",
       "      <td>NaN</td>\n",
       "      <td>1000.000000</td>\n",
       "    </tr>\n",
       "    <tr>\n",
       "      <th>25%</th>\n",
       "      <td>NaN</td>\n",
       "      <td>NaN</td>\n",
       "      <td>1134.000000</td>\n",
       "    </tr>\n",
       "    <tr>\n",
       "      <th>50%</th>\n",
       "      <td>NaN</td>\n",
       "      <td>NaN</td>\n",
       "      <td>1271.000000</td>\n",
       "    </tr>\n",
       "    <tr>\n",
       "      <th>75%</th>\n",
       "      <td>NaN</td>\n",
       "      <td>NaN</td>\n",
       "      <td>1381.000000</td>\n",
       "    </tr>\n",
       "    <tr>\n",
       "      <th>max</th>\n",
       "      <td>NaN</td>\n",
       "      <td>NaN</td>\n",
       "      <td>1499.000000</td>\n",
       "    </tr>\n",
       "  </tbody>\n",
       "</table>\n",
       "</div>"
      ],
      "text/plain": [
       "            id         message_date        user_id\n",
       "count   123036               123036  123036.000000\n",
       "unique  123036                  364            NaN\n",
       "top     1000_0  2018-12-31 00:00:00            NaN\n",
       "freq         1                  859            NaN\n",
       "first      NaN  2018-01-02 00:00:00            NaN\n",
       "last       NaN  2018-12-31 00:00:00            NaN\n",
       "mean       NaN                  NaN    1256.989410\n",
       "std        NaN                  NaN     143.523967\n",
       "min        NaN                  NaN    1000.000000\n",
       "25%        NaN                  NaN    1134.000000\n",
       "50%        NaN                  NaN    1271.000000\n",
       "75%        NaN                  NaN    1381.000000\n",
       "max        NaN                  NaN    1499.000000"
      ]
     },
     "metadata": {},
     "output_type": "display_data"
    }
   ],
   "source": [
    "data_messages = pd.read_csv(\n",
    "    'D:/1_Проекты Практикум/М_1/4_Определение перспективного тарифа/messages.csv',\n",
    "    parse_dates=['message_date']   \n",
    ")\n",
    "\n",
    "data_overview(data_messages)"
   ]
  },
  {
   "cell_type": "markdown",
   "id": "e6c3bf0d",
   "metadata": {},
   "source": [
    "#### Данные о тарифах\n",
    "\n",
    "Сохраним данные об тарифах в таблице `data_tariffs`."
   ]
  },
  {
   "cell_type": "code",
   "execution_count": 6,
   "id": "a8f78aeb",
   "metadata": {},
   "outputs": [
    {
     "data": {
      "text/html": [
       "<div>\n",
       "<style scoped>\n",
       "    .dataframe tbody tr th:only-of-type {\n",
       "        vertical-align: middle;\n",
       "    }\n",
       "\n",
       "    .dataframe tbody tr th {\n",
       "        vertical-align: top;\n",
       "    }\n",
       "\n",
       "    .dataframe thead th {\n",
       "        text-align: right;\n",
       "    }\n",
       "</style>\n",
       "<table border=\"1\" class=\"dataframe\">\n",
       "  <thead>\n",
       "    <tr style=\"text-align: right;\">\n",
       "      <th></th>\n",
       "      <th>messages_included</th>\n",
       "      <th>mb_per_month_included</th>\n",
       "      <th>minutes_included</th>\n",
       "      <th>rub_monthly_fee</th>\n",
       "      <th>rub_per_gb</th>\n",
       "      <th>rub_per_message</th>\n",
       "      <th>rub_per_minute</th>\n",
       "      <th>tariff_name</th>\n",
       "    </tr>\n",
       "  </thead>\n",
       "  <tbody>\n",
       "    <tr>\n",
       "      <th>0</th>\n",
       "      <td>50</td>\n",
       "      <td>15360</td>\n",
       "      <td>500</td>\n",
       "      <td>550</td>\n",
       "      <td>200</td>\n",
       "      <td>3</td>\n",
       "      <td>3</td>\n",
       "      <td>smart</td>\n",
       "    </tr>\n",
       "    <tr>\n",
       "      <th>1</th>\n",
       "      <td>1000</td>\n",
       "      <td>30720</td>\n",
       "      <td>3000</td>\n",
       "      <td>1950</td>\n",
       "      <td>150</td>\n",
       "      <td>1</td>\n",
       "      <td>1</td>\n",
       "      <td>ultra</td>\n",
       "    </tr>\n",
       "  </tbody>\n",
       "</table>\n",
       "</div>"
      ],
      "text/plain": [
       "   messages_included  mb_per_month_included  minutes_included  \\\n",
       "0                 50                  15360               500   \n",
       "1               1000                  30720              3000   \n",
       "\n",
       "   rub_monthly_fee  rub_per_gb  rub_per_message  rub_per_minute tariff_name  \n",
       "0              550         200                3               3       smart  \n",
       "1             1950         150                1               1       ultra  "
      ]
     },
     "execution_count": 6,
     "metadata": {},
     "output_type": "execute_result"
    }
   ],
   "source": [
    "data_tariffs = pd.read_csv(\n",
    "    'D:/1_Проекты Практикум/М_1/4_Определение перспективного тарифа/tariffs.csv'\n",
    ")\n",
    "\n",
    "data_tariffs"
   ]
  },
  {
   "cell_type": "markdown",
   "id": "6616d5bf",
   "metadata": {},
   "source": [
    "#### Данные о пользователях\n",
    "\n",
    "Сохраним данные о пользователях в таблице `data_messages` и выведем общую информацию о таблице."
   ]
  },
  {
   "cell_type": "code",
   "execution_count": 7,
   "id": "0120930d",
   "metadata": {},
   "outputs": [
    {
     "name": "stdout",
     "output_type": "stream",
     "text": [
      "Размер таблицы: (500, 8)\n",
      "----------------------------------------------------------------------------------------------------\n",
      "Первые строки таблицы\n"
     ]
    },
    {
     "data": {
      "text/html": [
       "<div>\n",
       "<style scoped>\n",
       "    .dataframe tbody tr th:only-of-type {\n",
       "        vertical-align: middle;\n",
       "    }\n",
       "\n",
       "    .dataframe tbody tr th {\n",
       "        vertical-align: top;\n",
       "    }\n",
       "\n",
       "    .dataframe thead th {\n",
       "        text-align: right;\n",
       "    }\n",
       "</style>\n",
       "<table border=\"1\" class=\"dataframe\">\n",
       "  <thead>\n",
       "    <tr style=\"text-align: right;\">\n",
       "      <th></th>\n",
       "      <th>user_id</th>\n",
       "      <th>age</th>\n",
       "      <th>churn_date</th>\n",
       "      <th>city</th>\n",
       "      <th>first_name</th>\n",
       "      <th>last_name</th>\n",
       "      <th>reg_date</th>\n",
       "      <th>tariff</th>\n",
       "    </tr>\n",
       "  </thead>\n",
       "  <tbody>\n",
       "    <tr>\n",
       "      <th>0</th>\n",
       "      <td>1000</td>\n",
       "      <td>52</td>\n",
       "      <td>NaT</td>\n",
       "      <td>Краснодар</td>\n",
       "      <td>Рафаил</td>\n",
       "      <td>Верещагин</td>\n",
       "      <td>2018-05-25</td>\n",
       "      <td>ultra</td>\n",
       "    </tr>\n",
       "    <tr>\n",
       "      <th>1</th>\n",
       "      <td>1001</td>\n",
       "      <td>41</td>\n",
       "      <td>NaT</td>\n",
       "      <td>Москва</td>\n",
       "      <td>Иван</td>\n",
       "      <td>Ежов</td>\n",
       "      <td>2018-11-01</td>\n",
       "      <td>smart</td>\n",
       "    </tr>\n",
       "    <tr>\n",
       "      <th>2</th>\n",
       "      <td>1002</td>\n",
       "      <td>59</td>\n",
       "      <td>NaT</td>\n",
       "      <td>Стерлитамак</td>\n",
       "      <td>Евгений</td>\n",
       "      <td>Абрамович</td>\n",
       "      <td>2018-06-17</td>\n",
       "      <td>smart</td>\n",
       "    </tr>\n",
       "    <tr>\n",
       "      <th>3</th>\n",
       "      <td>1003</td>\n",
       "      <td>23</td>\n",
       "      <td>NaT</td>\n",
       "      <td>Москва</td>\n",
       "      <td>Белла</td>\n",
       "      <td>Белякова</td>\n",
       "      <td>2018-08-17</td>\n",
       "      <td>ultra</td>\n",
       "    </tr>\n",
       "    <tr>\n",
       "      <th>4</th>\n",
       "      <td>1004</td>\n",
       "      <td>68</td>\n",
       "      <td>NaT</td>\n",
       "      <td>Новокузнецк</td>\n",
       "      <td>Татьяна</td>\n",
       "      <td>Авдеенко</td>\n",
       "      <td>2018-05-14</td>\n",
       "      <td>ultra</td>\n",
       "    </tr>\n",
       "  </tbody>\n",
       "</table>\n",
       "</div>"
      ],
      "text/plain": [
       "   user_id  age churn_date         city first_name  last_name   reg_date  \\\n",
       "0     1000   52        NaT    Краснодар     Рафаил  Верещагин 2018-05-25   \n",
       "1     1001   41        NaT       Москва       Иван       Ежов 2018-11-01   \n",
       "2     1002   59        NaT  Стерлитамак    Евгений  Абрамович 2018-06-17   \n",
       "3     1003   23        NaT       Москва      Белла   Белякова 2018-08-17   \n",
       "4     1004   68        NaT  Новокузнецк    Татьяна   Авдеенко 2018-05-14   \n",
       "\n",
       "  tariff  \n",
       "0  ultra  \n",
       "1  smart  \n",
       "2  smart  \n",
       "3  ultra  \n",
       "4  ultra  "
      ]
     },
     "metadata": {},
     "output_type": "display_data"
    },
    {
     "name": "stdout",
     "output_type": "stream",
     "text": [
      "----------------------------------------------------------------------------------------------------\n",
      "Общая информация о таблице\n",
      "<class 'pandas.core.frame.DataFrame'>\n",
      "RangeIndex: 500 entries, 0 to 499\n",
      "Data columns (total 8 columns):\n",
      " #   Column      Non-Null Count  Dtype         \n",
      "---  ------      --------------  -----         \n",
      " 0   user_id     500 non-null    int64         \n",
      " 1   age         500 non-null    int64         \n",
      " 2   churn_date  38 non-null     datetime64[ns]\n",
      " 3   city        500 non-null    object        \n",
      " 4   first_name  500 non-null    object        \n",
      " 5   last_name   500 non-null    object        \n",
      " 6   reg_date    500 non-null    datetime64[ns]\n",
      " 7   tariff      500 non-null    object        \n",
      "dtypes: datetime64[ns](2), int64(2), object(4)\n",
      "memory usage: 31.4+ KB\n"
     ]
    },
    {
     "data": {
      "text/plain": [
       "None"
      ]
     },
     "metadata": {},
     "output_type": "display_data"
    },
    {
     "name": "stdout",
     "output_type": "stream",
     "text": [
      "----------------------------------------------------------------------------------------------------\n",
      "Показатели описательной статистики\n"
     ]
    },
    {
     "data": {
      "text/html": [
       "<div>\n",
       "<style scoped>\n",
       "    .dataframe tbody tr th:only-of-type {\n",
       "        vertical-align: middle;\n",
       "    }\n",
       "\n",
       "    .dataframe tbody tr th {\n",
       "        vertical-align: top;\n",
       "    }\n",
       "\n",
       "    .dataframe thead th {\n",
       "        text-align: right;\n",
       "    }\n",
       "</style>\n",
       "<table border=\"1\" class=\"dataframe\">\n",
       "  <thead>\n",
       "    <tr style=\"text-align: right;\">\n",
       "      <th></th>\n",
       "      <th>user_id</th>\n",
       "      <th>age</th>\n",
       "      <th>churn_date</th>\n",
       "      <th>city</th>\n",
       "      <th>first_name</th>\n",
       "      <th>last_name</th>\n",
       "      <th>reg_date</th>\n",
       "      <th>tariff</th>\n",
       "    </tr>\n",
       "  </thead>\n",
       "  <tbody>\n",
       "    <tr>\n",
       "      <th>count</th>\n",
       "      <td>500.000000</td>\n",
       "      <td>500.00000</td>\n",
       "      <td>38</td>\n",
       "      <td>500</td>\n",
       "      <td>500</td>\n",
       "      <td>500</td>\n",
       "      <td>500</td>\n",
       "      <td>500</td>\n",
       "    </tr>\n",
       "    <tr>\n",
       "      <th>unique</th>\n",
       "      <td>NaN</td>\n",
       "      <td>NaN</td>\n",
       "      <td>33</td>\n",
       "      <td>76</td>\n",
       "      <td>246</td>\n",
       "      <td>419</td>\n",
       "      <td>270</td>\n",
       "      <td>2</td>\n",
       "    </tr>\n",
       "    <tr>\n",
       "      <th>top</th>\n",
       "      <td>NaN</td>\n",
       "      <td>NaN</td>\n",
       "      <td>2018-12-03 00:00:00</td>\n",
       "      <td>Москва</td>\n",
       "      <td>Радим</td>\n",
       "      <td>Андреенко</td>\n",
       "      <td>2018-05-28 00:00:00</td>\n",
       "      <td>smart</td>\n",
       "    </tr>\n",
       "    <tr>\n",
       "      <th>freq</th>\n",
       "      <td>NaN</td>\n",
       "      <td>NaN</td>\n",
       "      <td>2</td>\n",
       "      <td>99</td>\n",
       "      <td>6</td>\n",
       "      <td>5</td>\n",
       "      <td>8</td>\n",
       "      <td>351</td>\n",
       "    </tr>\n",
       "    <tr>\n",
       "      <th>first</th>\n",
       "      <td>NaN</td>\n",
       "      <td>NaN</td>\n",
       "      <td>2018-08-17 00:00:00</td>\n",
       "      <td>NaN</td>\n",
       "      <td>NaN</td>\n",
       "      <td>NaN</td>\n",
       "      <td>2018-01-01 00:00:00</td>\n",
       "      <td>NaN</td>\n",
       "    </tr>\n",
       "    <tr>\n",
       "      <th>last</th>\n",
       "      <td>NaN</td>\n",
       "      <td>NaN</td>\n",
       "      <td>2018-12-30 00:00:00</td>\n",
       "      <td>NaN</td>\n",
       "      <td>NaN</td>\n",
       "      <td>NaN</td>\n",
       "      <td>2018-12-31 00:00:00</td>\n",
       "      <td>NaN</td>\n",
       "    </tr>\n",
       "    <tr>\n",
       "      <th>mean</th>\n",
       "      <td>1249.500000</td>\n",
       "      <td>46.58800</td>\n",
       "      <td>NaN</td>\n",
       "      <td>NaN</td>\n",
       "      <td>NaN</td>\n",
       "      <td>NaN</td>\n",
       "      <td>NaN</td>\n",
       "      <td>NaN</td>\n",
       "    </tr>\n",
       "    <tr>\n",
       "      <th>std</th>\n",
       "      <td>144.481833</td>\n",
       "      <td>16.66763</td>\n",
       "      <td>NaN</td>\n",
       "      <td>NaN</td>\n",
       "      <td>NaN</td>\n",
       "      <td>NaN</td>\n",
       "      <td>NaN</td>\n",
       "      <td>NaN</td>\n",
       "    </tr>\n",
       "    <tr>\n",
       "      <th>min</th>\n",
       "      <td>1000.000000</td>\n",
       "      <td>18.00000</td>\n",
       "      <td>NaN</td>\n",
       "      <td>NaN</td>\n",
       "      <td>NaN</td>\n",
       "      <td>NaN</td>\n",
       "      <td>NaN</td>\n",
       "      <td>NaN</td>\n",
       "    </tr>\n",
       "    <tr>\n",
       "      <th>25%</th>\n",
       "      <td>1124.750000</td>\n",
       "      <td>32.00000</td>\n",
       "      <td>NaN</td>\n",
       "      <td>NaN</td>\n",
       "      <td>NaN</td>\n",
       "      <td>NaN</td>\n",
       "      <td>NaN</td>\n",
       "      <td>NaN</td>\n",
       "    </tr>\n",
       "    <tr>\n",
       "      <th>50%</th>\n",
       "      <td>1249.500000</td>\n",
       "      <td>46.00000</td>\n",
       "      <td>NaN</td>\n",
       "      <td>NaN</td>\n",
       "      <td>NaN</td>\n",
       "      <td>NaN</td>\n",
       "      <td>NaN</td>\n",
       "      <td>NaN</td>\n",
       "    </tr>\n",
       "    <tr>\n",
       "      <th>75%</th>\n",
       "      <td>1374.250000</td>\n",
       "      <td>62.00000</td>\n",
       "      <td>NaN</td>\n",
       "      <td>NaN</td>\n",
       "      <td>NaN</td>\n",
       "      <td>NaN</td>\n",
       "      <td>NaN</td>\n",
       "      <td>NaN</td>\n",
       "    </tr>\n",
       "    <tr>\n",
       "      <th>max</th>\n",
       "      <td>1499.000000</td>\n",
       "      <td>75.00000</td>\n",
       "      <td>NaN</td>\n",
       "      <td>NaN</td>\n",
       "      <td>NaN</td>\n",
       "      <td>NaN</td>\n",
       "      <td>NaN</td>\n",
       "      <td>NaN</td>\n",
       "    </tr>\n",
       "  </tbody>\n",
       "</table>\n",
       "</div>"
      ],
      "text/plain": [
       "            user_id        age           churn_date    city first_name  \\\n",
       "count    500.000000  500.00000                   38     500        500   \n",
       "unique          NaN        NaN                   33      76        246   \n",
       "top             NaN        NaN  2018-12-03 00:00:00  Москва      Радим   \n",
       "freq            NaN        NaN                    2      99          6   \n",
       "first           NaN        NaN  2018-08-17 00:00:00     NaN        NaN   \n",
       "last            NaN        NaN  2018-12-30 00:00:00     NaN        NaN   \n",
       "mean    1249.500000   46.58800                  NaN     NaN        NaN   \n",
       "std      144.481833   16.66763                  NaN     NaN        NaN   \n",
       "min     1000.000000   18.00000                  NaN     NaN        NaN   \n",
       "25%     1124.750000   32.00000                  NaN     NaN        NaN   \n",
       "50%     1249.500000   46.00000                  NaN     NaN        NaN   \n",
       "75%     1374.250000   62.00000                  NaN     NaN        NaN   \n",
       "max     1499.000000   75.00000                  NaN     NaN        NaN   \n",
       "\n",
       "        last_name             reg_date tariff  \n",
       "count         500                  500    500  \n",
       "unique        419                  270      2  \n",
       "top     Андреенко  2018-05-28 00:00:00  smart  \n",
       "freq            5                    8    351  \n",
       "first         NaN  2018-01-01 00:00:00    NaN  \n",
       "last          NaN  2018-12-31 00:00:00    NaN  \n",
       "mean          NaN                  NaN    NaN  \n",
       "std           NaN                  NaN    NaN  \n",
       "min           NaN                  NaN    NaN  \n",
       "25%           NaN                  NaN    NaN  \n",
       "50%           NaN                  NaN    NaN  \n",
       "75%           NaN                  NaN    NaN  \n",
       "max           NaN                  NaN    NaN  "
      ]
     },
     "metadata": {},
     "output_type": "display_data"
    }
   ],
   "source": [
    "data_users = pd.read_csv(\n",
    "    'D:/1_Проекты Практикум/М_1/4_Определение перспективного тарифа/users.csv',\n",
    "    parse_dates=['reg_date', 'churn_date']\n",
    ")\n",
    "data_overview(data_users)"
   ]
  },
  {
   "cell_type": "markdown",
   "id": "c79ceeb0",
   "metadata": {},
   "source": [
    "### Описание данных\n",
    "\n",
    "**Таблица calls (информация о звонках):**\n",
    "\n",
    "* `id` — уникальный номер звонка\n",
    "* `call_date` — дата звонка\n",
    "* `duration` — длительность звонка в минутах\n",
    "* `user_id` — идентификатор пользователя, сделавшего звонок\n",
    "\n",
    "**Таблица internet (информация об интернет-сессиях):**\n",
    "\n",
    "* `id` — уникальный номер сессии\n",
    "* `mb_used` — объём потраченного за сессию интернет-трафика (в мегабайтах)\n",
    "* `session_date` — дата интернет-сессии\n",
    "* `user_id` — идентификатор пользователя\n",
    "\n",
    "**Таблица messages (информация о сообщениях):**\n",
    "\n",
    "* `id` — уникальный номер сообщения\n",
    "* `message_date` — дата сообщения\n",
    "* `user_id` — идентификатор пользователя, отправившего сообщение\n",
    "\n",
    "**Таблица tariffs (информация о тарифах):**\n",
    "\n",
    "* `tariff_name` — название тарифа\n",
    "* `rub_monthly_fee` — ежемесячная абонентская плата в рублях\n",
    "* `minutes_included` — количество минут разговора в месяц, включённых в абонентскую плату\n",
    "* `messages_included` — количество сообщений в месяц, включённых в абонентскую плату\n",
    "* `mb_per_month_included` — объём интернет-трафика, включённого в абонентскую плату (в мегабайтах)\n",
    "* `rub_per_minute` — стоимость минуты разговора сверх тарифного пакета (например, если в тарифе 100 минут разговора в месяц, то со 101 минуты будет взиматься плата)\n",
    "* `rub_per_message` — стоимость отправки сообщения сверх тарифного пакета\n",
    "* `rub_per_gb` — стоимость дополнительного гигабайта интернет-трафика сверх тарифного пакета (1 гигабайт = 1024 мегабайта)\n",
    "\n",
    "**Таблица users (информация о пользователях):**\n",
    "* `user_id` — уникальный идентификатор пользователя\n",
    "* `first_name` — имя пользователя\n",
    "* `last_name` — фамилия пользователя\n",
    "* `age` — возраст пользователя (годы)\n",
    "* `reg_date` — дата подключения тарифа (день, месяц, год)\n",
    "* `churn_date` — дата прекращения пользования тарифом (если значение пропущено, то тариф ещё действовал на момент выгрузки данных)\n",
    "* `city` — город проживания пользователя\n",
    "* `tariff` — название тарифного плана"
   ]
  },
  {
   "cell_type": "markdown",
   "id": "5fb4a2db",
   "metadata": {},
   "source": [
    "<div style=\"border-radius: 15px;border:solid navy 2px; padding: 20px\"> \n",
    "\n",
    "### Вывод\n",
    "    \n",
    "* Данные находятся в пяти таблицах - `Calls`, `Internet`, `Messages`, `Tariffs`, `Users`.\n",
    "* Данные приведены за период с **01.01.2018** по **31.12.2018**.\n",
    "* Таблица `Calls` состоит из 202607 строк, каждая строка содержит информацию об одном **звонке** пользователя.\n",
    "* Таблица `Internet` состоит из 149396 строк, каждая строка содержит информацию об одной **интернет-сессии** пользователя.\n",
    "* Таблица `Messages` состоит из 123036 строк, каждая строка содержит информацию об одном **сообщении**, отправленном пользователем.\n",
    "* Таблица `Users` состоит из 500 строк, каждая строка содержит информацию об одном **пользователе**, с указанием тарифа и города.\n",
    "* Таблица `Tariffs` содержит информацию о тарифах оператора - **Smart** и **Ultra**.\n",
    "* Поскольку информация во всех таблицах приведена для одних и тех же пользователах, данные в этих четырех таблицах можно будет рассматривать в совокупности. "
   ]
  },
  {
   "cell_type": "markdown",
   "id": "e33a8ecc",
   "metadata": {},
   "source": [
    "## Предобработка данных\n",
    "\n",
    "**Этапы предобработки данных:**\n",
    "\n",
    "1. Проверка и переименование столбцов\n",
    "2. Проверка и обработка пропусков\n",
    "3. Изменение типов данных\n",
    "4. Проверка на неявные дубликаты\n",
    "4. Проверка на явные дубликаты\n",
    "4. Проверка данных на наличие аномалий \n",
    "\n",
    "### Проверка и переименование столбцов\n",
    "\n",
    "Для проверки названий столбцов в таблицах выведем их с помощью функции `columns`.\n",
    "\n",
    "**_Данные о звонках_**"
   ]
  },
  {
   "cell_type": "code",
   "execution_count": 8,
   "id": "9756b803",
   "metadata": {},
   "outputs": [
    {
     "data": {
      "text/plain": [
       "Index(['id', 'call_date', 'duration', 'user_id'], dtype='object')"
      ]
     },
     "execution_count": 8,
     "metadata": {},
     "output_type": "execute_result"
    }
   ],
   "source": [
    "data_calls.columns"
   ]
  },
  {
   "cell_type": "markdown",
   "id": "a33cab6d",
   "metadata": {},
   "source": [
    "Названия соответствуют принятому стилю, оставляем без изменений.\n",
    "\n",
    "**_Данные об интернет-сессиях_**"
   ]
  },
  {
   "cell_type": "code",
   "execution_count": 9,
   "id": "0aaaafe2",
   "metadata": {},
   "outputs": [
    {
     "data": {
      "text/plain": [
       "Index(['Unnamed: 0', 'id', 'mb_used', 'session_date', 'user_id'], dtype='object')"
      ]
     },
     "execution_count": 9,
     "metadata": {},
     "output_type": "execute_result"
    }
   ],
   "source": [
    "data_internet.columns"
   ]
  },
  {
   "cell_type": "markdown",
   "id": "b58e5439",
   "metadata": {},
   "source": [
    "Таблица `Internet` содержит столбец `'Unnamed: 0'` с индексами строк. Этот столбец дублируется и не потребуется для последующего анализа, поэтому его можно будет удалить."
   ]
  },
  {
   "cell_type": "code",
   "execution_count": 10,
   "id": "fa9596fc",
   "metadata": {},
   "outputs": [
    {
     "data": {
      "text/plain": [
       "Index(['id', 'mb_used', 'session_date', 'user_id'], dtype='object')"
      ]
     },
     "execution_count": 10,
     "metadata": {},
     "output_type": "execute_result"
    }
   ],
   "source": [
    "del(data_internet['Unnamed: 0'])\n",
    "\n",
    "# Проверка\n",
    "data_internet.columns"
   ]
  },
  {
   "cell_type": "markdown",
   "id": "1710831e",
   "metadata": {},
   "source": [
    "Столбец удален, можно двигаться дальше.\n",
    "\n",
    "**_Данные об отправленных сообщениях_**"
   ]
  },
  {
   "cell_type": "code",
   "execution_count": 11,
   "id": "0b811f29",
   "metadata": {},
   "outputs": [
    {
     "data": {
      "text/plain": [
       "Index(['id', 'message_date', 'user_id'], dtype='object')"
      ]
     },
     "execution_count": 11,
     "metadata": {},
     "output_type": "execute_result"
    }
   ],
   "source": [
    "data_messages.columns"
   ]
  },
  {
   "cell_type": "markdown",
   "id": "99c48d21",
   "metadata": {},
   "source": [
    "Оставляем названия столбцов без изменений.\n",
    "\n",
    "**_Данные о тарифах_**"
   ]
  },
  {
   "cell_type": "code",
   "execution_count": 12,
   "id": "3d6cc251",
   "metadata": {},
   "outputs": [
    {
     "data": {
      "text/plain": [
       "Index(['messages_included', 'mb_per_month_included', 'minutes_included',\n",
       "       'rub_monthly_fee', 'rub_per_gb', 'rub_per_message', 'rub_per_minute',\n",
       "       'tariff_name'],\n",
       "      dtype='object')"
      ]
     },
     "execution_count": 12,
     "metadata": {},
     "output_type": "execute_result"
    }
   ],
   "source": [
    "data_tariffs.columns"
   ]
  },
  {
   "cell_type": "markdown",
   "id": "d6698c96",
   "metadata": {},
   "source": [
    "Названия соответствуют стилю, оставляем как есть.\n",
    "\n",
    "_**Данные о пользователях**_"
   ]
  },
  {
   "cell_type": "code",
   "execution_count": 13,
   "id": "067a2b4a",
   "metadata": {},
   "outputs": [
    {
     "data": {
      "text/plain": [
       "Index(['user_id', 'age', 'churn_date', 'city', 'first_name', 'last_name',\n",
       "       'reg_date', 'tariff'],\n",
       "      dtype='object')"
      ]
     },
     "execution_count": 13,
     "metadata": {},
     "output_type": "execute_result"
    }
   ],
   "source": [
    "data_users.columns"
   ]
  },
  {
   "cell_type": "markdown",
   "id": "8e2fe291",
   "metadata": {},
   "source": [
    "Названия столбцов во всех датасетах удобные, в нижнем \"змеином\" регистре, можно их не менять. Двигаемся дальше.\n",
    "\n",
    "### Проверка и обработка пропусков\n",
    "Проверим таблицы на наличие пропусков с помощью комбинации функций `isna()` и `sum()`.\n",
    "#### Таблица `Calls`"
   ]
  },
  {
   "cell_type": "code",
   "execution_count": 14,
   "id": "9ab23bf6",
   "metadata": {},
   "outputs": [
    {
     "data": {
      "text/plain": [
       "id           0\n",
       "call_date    0\n",
       "duration     0\n",
       "user_id      0\n",
       "dtype: int64"
      ]
     },
     "execution_count": 14,
     "metadata": {},
     "output_type": "execute_result"
    }
   ],
   "source": [
    "data_calls.isna().sum()"
   ]
  },
  {
   "cell_type": "markdown",
   "id": "1c8ead90",
   "metadata": {},
   "source": [
    "#### Таблица `Internet`"
   ]
  },
  {
   "cell_type": "code",
   "execution_count": 15,
   "id": "e40a989a",
   "metadata": {},
   "outputs": [
    {
     "data": {
      "text/plain": [
       "id              0\n",
       "mb_used         0\n",
       "session_date    0\n",
       "user_id         0\n",
       "dtype: int64"
      ]
     },
     "execution_count": 15,
     "metadata": {},
     "output_type": "execute_result"
    }
   ],
   "source": [
    "data_internet.isna().sum()"
   ]
  },
  {
   "cell_type": "markdown",
   "id": "dfb12ac4",
   "metadata": {},
   "source": [
    "#### Таблица `Messages`"
   ]
  },
  {
   "cell_type": "code",
   "execution_count": 16,
   "id": "66e297e4",
   "metadata": {},
   "outputs": [
    {
     "data": {
      "text/plain": [
       "id              0\n",
       "message_date    0\n",
       "user_id         0\n",
       "dtype: int64"
      ]
     },
     "execution_count": 16,
     "metadata": {},
     "output_type": "execute_result"
    }
   ],
   "source": [
    "data_messages.isna().sum()"
   ]
  },
  {
   "cell_type": "markdown",
   "id": "f4dbccc4",
   "metadata": {},
   "source": [
    "#### Таблица `Users`"
   ]
  },
  {
   "cell_type": "code",
   "execution_count": 17,
   "id": "1b1a6d65",
   "metadata": {},
   "outputs": [
    {
     "data": {
      "text/plain": [
       "user_id         0\n",
       "age             0\n",
       "churn_date    462\n",
       "city            0\n",
       "first_name      0\n",
       "last_name       0\n",
       "reg_date        0\n",
       "tariff          0\n",
       "dtype: int64"
      ]
     },
     "execution_count": 17,
     "metadata": {},
     "output_type": "execute_result"
    }
   ],
   "source": [
    "data_users.isna().sum()"
   ]
  },
  {
   "cell_type": "markdown",
   "id": "1cbb3617",
   "metadata": {},
   "source": [
    "Пропуски есть только в таблице `Users`, в столбце `churn_date`. Пропуски в этом столбце свидетельствуют о том, что тариф ещё действовал на момент выгрузки данных об абонентах. Эти пропуски сами по себе несут смысловую нагрузку, поэтому оставим их как есть, можем двигаться дальше.\n",
    "\n",
    "### Некорректные типы данных\n",
    "\n",
    "**_Неподходящие типы данных_** обнаружены в таблице `data_users` в следующих столбцах:\n",
    "* `'city'`\n",
    "* `'first_name'`\n",
    "* `'last_name'`\n",
    "* `'tariff'`\n",
    "\n",
    "Однако для последующего анализа большинство этих столбцов не потребуются, поэтому в данном случае можно оставить некорректные типы данных без изменения.\n",
    "\n",
    "Столбцы, котороые будут использоваться в исследовании (столюцы, содержащие даты), мы привели к нужному типу при сохранении данных в переменные с помощью атрибута `parse_dates`."
   ]
  },
  {
   "cell_type": "markdown",
   "id": "33353d00",
   "metadata": {},
   "source": [
    "### Проверка на неявные дубликаты\n",
    "\n",
    "Неявные дубликаты из-за разницы в регистре или вариантах написания слов вероятнее всего могут возникнуть в таблице `data_users`. Проверим, выведя уникальные значения столбцов `'city'`, `'first_name'`, `'last_name'`, `'tariff'`.\n",
    "\n",
    "Данные в столбцах `'first_name'` и `'last_name'` проверять на неявные дубликаты проблематично и нецелесообразно, поскольку даже если такие дубликаты есть, они едва ли повлияют на общие результаты исследования, поэтому проверим данные только в столбцах `'city'` и `'tariff'`."
   ]
  },
  {
   "cell_type": "code",
   "execution_count": 18,
   "id": "45233e9b",
   "metadata": {},
   "outputs": [
    {
     "data": {
      "text/plain": [
       "array(['Архангельск', 'Астрахань', 'Балашиха', 'Барнаул', 'Белгород',\n",
       "       'Брянск', 'Владивосток', 'Владикавказ', 'Владимир', 'Волгоград',\n",
       "       'Волжский', 'Вологда', 'Воронеж', 'Грозный', 'Екатеринбург',\n",
       "       'Иваново', 'Ижевск', 'Иркутск', 'Казань', 'Калининград', 'Калуга',\n",
       "       'Кемерово', 'Киров', 'Кострома', 'Краснодар', 'Красноярск',\n",
       "       'Курган', 'Курск', 'Липецк', 'Магнитогорск', 'Махачкала', 'Москва',\n",
       "       'Мурманск', 'Набережные Челны', 'Нижневартовск', 'Нижний Новгород',\n",
       "       'Нижний Тагил', 'Новокузнецк', 'Новороссийск', 'Новосибирск',\n",
       "       'Омск', 'Оренбург', 'Орёл', 'Пенза', 'Пермь', 'Петрозаводск',\n",
       "       'Подольск', 'Ростов-на-Дону', 'Рязань', 'Самара',\n",
       "       'Санкт-Петербург', 'Саранск', 'Саратов', 'Севастополь', 'Смоленск',\n",
       "       'Сочи', 'Ставрополь', 'Стерлитамак', 'Сургут', 'Тамбов', 'Тверь',\n",
       "       'Тольятти', 'Томск', 'Тула', 'Тюмень', 'Улан-Удэ', 'Ульяновск',\n",
       "       'Уфа', 'Хабаровск', 'Химки', 'Чебоксары', 'Челябинск', 'Череповец',\n",
       "       'Чита', 'Якутск', 'Ярославль'], dtype=object)"
      ]
     },
     "execution_count": 18,
     "metadata": {},
     "output_type": "execute_result"
    }
   ],
   "source": [
    "data_users['city'].sort_values().unique()"
   ]
  },
  {
   "cell_type": "code",
   "execution_count": 19,
   "id": "7d993835",
   "metadata": {},
   "outputs": [
    {
     "data": {
      "text/plain": [
       "tariff\n",
       "smart    351\n",
       "ultra    149\n",
       "Name: user_id, dtype: int64"
      ]
     },
     "execution_count": 19,
     "metadata": {},
     "output_type": "execute_result"
    }
   ],
   "source": [
    "data_users.groupby('tariff')['user_id'].count()"
   ]
  },
  {
   "cell_type": "markdown",
   "id": "bdbc1d62",
   "metadata": {},
   "source": [
    "Неявных дубликатов в столбцах `city` и `tariff` нет, можно двигаться дальше.\n",
    "\n",
    "### Проверка на явные дубликаты\n",
    "\n",
    "Проверим теперь таблицы на явные дубликаты с помощью комбинации функций `duplicated()` и `sum()`."
   ]
  },
  {
   "cell_type": "code",
   "execution_count": 20,
   "id": "84a4557b",
   "metadata": {},
   "outputs": [
    {
     "data": {
      "text/plain": [
       "0"
      ]
     },
     "execution_count": 20,
     "metadata": {},
     "output_type": "execute_result"
    }
   ],
   "source": [
    "data_calls.duplicated().sum()"
   ]
  },
  {
   "cell_type": "code",
   "execution_count": 21,
   "id": "612a04c5",
   "metadata": {},
   "outputs": [
    {
     "data": {
      "text/plain": [
       "0"
      ]
     },
     "execution_count": 21,
     "metadata": {},
     "output_type": "execute_result"
    }
   ],
   "source": [
    "data_internet.duplicated().sum()"
   ]
  },
  {
   "cell_type": "code",
   "execution_count": 22,
   "id": "58492262",
   "metadata": {},
   "outputs": [
    {
     "data": {
      "text/plain": [
       "0"
      ]
     },
     "execution_count": 22,
     "metadata": {},
     "output_type": "execute_result"
    }
   ],
   "source": [
    "data_messages.duplicated().sum()"
   ]
  },
  {
   "cell_type": "code",
   "execution_count": 23,
   "id": "3ecb1492",
   "metadata": {},
   "outputs": [
    {
     "data": {
      "text/plain": [
       "0"
      ]
     },
     "execution_count": 23,
     "metadata": {},
     "output_type": "execute_result"
    }
   ],
   "source": [
    "data_users.duplicated().sum()"
   ]
  },
  {
   "cell_type": "markdown",
   "id": "5a2fab42",
   "metadata": {},
   "source": [
    "Явных дубликатов нет, можно двигаться дальше.\n",
    "\n",
    "### Проверка данных на наличие аномалий\n",
    "#### Оценка данных таблицы `'Calls'` на аномалии"
   ]
  },
  {
   "cell_type": "code",
   "execution_count": 24,
   "id": "59f379fa",
   "metadata": {},
   "outputs": [
    {
     "data": {
      "text/plain": [
       "count    202607.000000\n",
       "mean          6.755887\n",
       "std           5.843365\n",
       "min           0.000000\n",
       "25%           1.300000\n",
       "50%           6.000000\n",
       "75%          10.700000\n",
       "max          38.000000\n",
       "Name: duration, dtype: float64"
      ]
     },
     "execution_count": 24,
     "metadata": {},
     "output_type": "execute_result"
    }
   ],
   "source": [
    "data_calls['duration'].describe()"
   ]
  },
  {
   "cell_type": "markdown",
   "id": "362f7b13",
   "metadata": {},
   "source": [
    "Очевидных аномалий в данных о звонках нет, максимальное значение 38 минут представляется реалистичным.\n",
    "\n",
    "Нулевые значения означают пропущенные звонки. Хотя эти данные не являются ошибкой, они не будут использоваться для целей данного исследования и их можно исключить из датафрейма для анализа."
   ]
  },
  {
   "cell_type": "code",
   "execution_count": 25,
   "id": "3dc65670",
   "metadata": {},
   "outputs": [
    {
     "data": {
      "text/plain": [
       "0.196"
      ]
     },
     "execution_count": 25,
     "metadata": {},
     "output_type": "execute_result"
    }
   ],
   "source": [
    "# Доля строк, обозначающих пропущенные звонки\n",
    "\n",
    "round(\n",
    "    data_calls.query(\n",
    "        'duration == 0'\n",
    "    )['id'].count() / len(\n",
    "        data_calls['duration']\n",
    "    ), 3)"
   ]
  },
  {
   "cell_type": "markdown",
   "id": "b61d69ab",
   "metadata": {},
   "source": [
    "Выведем гистограмму и диаграмму размаха для этого параметра, чтобы оценить данные и количество выбросов."
   ]
  },
  {
   "cell_type": "code",
   "execution_count": 26,
   "id": "7912917f",
   "metadata": {},
   "outputs": [
    {
     "data": {
      "image/png": "[encoded data removed]",
      "text/plain": [
       "<Figure size 1080x360 with 1 Axes>"
      ]
     },
     "metadata": {
      "needs_background": "light"
     },
     "output_type": "display_data"
    }
   ],
   "source": [
    "plt.figure(\n",
    "    figsize=[15,5]\n",
    ")\n",
    "plt.hist(\n",
    "    data_calls['duration'], \n",
    "    bins =100\n",
    ")\n",
    "plt.title(\n",
    "    'Гистограмма распределения количества использованных минут', \n",
    "    fontsize=15\n",
    ")\n",
    "plt.xlabel(\n",
    "    'Длительность звонка, мин', \n",
    "    fontsize=12\n",
    ")\n",
    "plt.grid(\n",
    "    axis='y', \n",
    "    alpha=0.75\n",
    ")\n",
    "plt.grid(\n",
    "    axis='x', \n",
    "    alpha=0.75\n",
    ")\n",
    "plt.show()"
   ]
  },
  {
   "cell_type": "code",
   "execution_count": 27,
   "id": "1372a1c5",
   "metadata": {},
   "outputs": [
    {
     "data": {
      "image/png": "[encoded data removed]",
      "text/plain": [
       "<Figure size 1080x108 with 1 Axes>"
      ]
     },
     "metadata": {
      "needs_background": "light"
     },
     "output_type": "display_data"
    }
   ],
   "source": [
    "data_calls.boxplot(\n",
    "    column='duration', \n",
    "    figsize = (15,1.5), \n",
    "    vert = 0\n",
    ")\n",
    "plt.show()"
   ]
  },
  {
   "cell_type": "markdown",
   "id": "50e160f2",
   "metadata": {},
   "source": [
    "Создадим дополнительную таблицу `good_data_calls`, исключив данные о пропущенных звонках из анализа с помощью функции `query()`."
   ]
  },
  {
   "cell_type": "code",
   "execution_count": 28,
   "id": "17b0c1d0",
   "metadata": {},
   "outputs": [
    {
     "data": {
      "text/html": [
       "<div>\n",
       "<style scoped>\n",
       "    .dataframe tbody tr th:only-of-type {\n",
       "        vertical-align: middle;\n",
       "    }\n",
       "\n",
       "    .dataframe tbody tr th {\n",
       "        vertical-align: top;\n",
       "    }\n",
       "\n",
       "    .dataframe thead th {\n",
       "        text-align: right;\n",
       "    }\n",
       "</style>\n",
       "<table border=\"1\" class=\"dataframe\">\n",
       "  <thead>\n",
       "    <tr style=\"text-align: right;\">\n",
       "      <th></th>\n",
       "      <th>id</th>\n",
       "      <th>call_date</th>\n",
       "      <th>duration</th>\n",
       "      <th>user_id</th>\n",
       "    </tr>\n",
       "  </thead>\n",
       "  <tbody>\n",
       "    <tr>\n",
       "      <th>2</th>\n",
       "      <td>1000_2</td>\n",
       "      <td>2018-06-11</td>\n",
       "      <td>2.85</td>\n",
       "      <td>1000</td>\n",
       "    </tr>\n",
       "    <tr>\n",
       "      <th>3</th>\n",
       "      <td>1000_3</td>\n",
       "      <td>2018-09-21</td>\n",
       "      <td>13.80</td>\n",
       "      <td>1000</td>\n",
       "    </tr>\n",
       "    <tr>\n",
       "      <th>4</th>\n",
       "      <td>1000_4</td>\n",
       "      <td>2018-12-15</td>\n",
       "      <td>5.18</td>\n",
       "      <td>1000</td>\n",
       "    </tr>\n",
       "    <tr>\n",
       "      <th>7</th>\n",
       "      <td>1000_7</td>\n",
       "      <td>2018-08-22</td>\n",
       "      <td>18.31</td>\n",
       "      <td>1000</td>\n",
       "    </tr>\n",
       "    <tr>\n",
       "      <th>8</th>\n",
       "      <td>1000_8</td>\n",
       "      <td>2018-09-15</td>\n",
       "      <td>18.44</td>\n",
       "      <td>1000</td>\n",
       "    </tr>\n",
       "  </tbody>\n",
       "</table>\n",
       "</div>"
      ],
      "text/plain": [
       "       id  call_date  duration  user_id\n",
       "2  1000_2 2018-06-11      2.85     1000\n",
       "3  1000_3 2018-09-21     13.80     1000\n",
       "4  1000_4 2018-12-15      5.18     1000\n",
       "7  1000_7 2018-08-22     18.31     1000\n",
       "8  1000_8 2018-09-15     18.44     1000"
      ]
     },
     "execution_count": 28,
     "metadata": {},
     "output_type": "execute_result"
    }
   ],
   "source": [
    "good_data_calls = data_calls.query(\n",
    "    'duration != 0'\n",
    ")\n",
    "good_data_calls.head()"
   ]
  },
  {
   "cell_type": "markdown",
   "id": "73b4e382",
   "metadata": {},
   "source": [
    "Построим диаграмму размаха, чтобы сравнить диаграммы до и после исключения данных о пропущенных звонках."
   ]
  },
  {
   "cell_type": "code",
   "execution_count": 29,
   "id": "86e8a199",
   "metadata": {},
   "outputs": [
    {
     "data": {
      "image/png": "[encoded data removed]",
      "text/plain": [
       "<Figure size 1080x108 with 1 Axes>"
      ]
     },
     "metadata": {
      "needs_background": "light"
     },
     "output_type": "display_data"
    }
   ],
   "source": [
    "good_data_calls.boxplot(\n",
    "    column='duration', \n",
    "    figsize = (15,1.5), \n",
    "    vert = 0\n",
    ")\n",
    "plt.show()"
   ]
  },
  {
   "cell_type": "markdown",
   "id": "38903aab",
   "metadata": {},
   "source": [
    "Выведем общую информацию о столбце `'duration'` в обновленном датасете. "
   ]
  },
  {
   "cell_type": "code",
   "execution_count": 30,
   "id": "1c3a3f06",
   "metadata": {},
   "outputs": [
    {
     "data": {
      "text/plain": [
       "count    162994.000000\n",
       "mean          8.397794\n",
       "std           5.353022\n",
       "min           0.010000\n",
       "25%           4.170000\n",
       "50%           7.740000\n",
       "75%          11.850000\n",
       "max          38.000000\n",
       "Name: duration, dtype: float64"
      ]
     },
     "execution_count": 30,
     "metadata": {},
     "output_type": "execute_result"
    }
   ],
   "source": [
    "good_data_calls['duration'].describe()"
   ]
  },
  {
   "cell_type": "markdown",
   "id": "6604f594",
   "metadata": {},
   "source": [
    "После удаления нерелевантных данных из таблицы на основании диаграммы размаха можно заметить, что распределение данных о продолжительности звонков стало более симметричным, и пик стал менее смещенным вправо.\n",
    "\n",
    "Также стоит отметить большое количество выбросов, однако для целей данного исследования не будем их удалять в связи с ограниченным объемом выборки.\n",
    "\n",
    "#### Оценка данных таблицы `Internet` на аномалии\n",
    "\n",
    "Выведем общую информацию о столбце `'mb_used'` и гистограмму распределения данных."
   ]
  },
  {
   "cell_type": "code",
   "execution_count": 31,
   "id": "3286d62a",
   "metadata": {
    "scrolled": true
   },
   "outputs": [
    {
     "data": {
      "text/plain": [
       "count    149396.000000\n",
       "mean        370.192426\n",
       "std         278.300951\n",
       "min           0.000000\n",
       "25%         138.187500\n",
       "50%         348.015000\n",
       "75%         559.552500\n",
       "max        1724.830000\n",
       "Name: mb_used, dtype: float64"
      ]
     },
     "execution_count": 31,
     "metadata": {},
     "output_type": "execute_result"
    }
   ],
   "source": [
    "data_internet['mb_used'].describe()"
   ]
  },
  {
   "cell_type": "code",
   "execution_count": 32,
   "id": "be00b2d4",
   "metadata": {},
   "outputs": [
    {
     "data": {
      "image/png": "[encoded data removed]",
      "text/plain": [
       "<Figure size 1080x360 with 1 Axes>"
      ]
     },
     "metadata": {
      "needs_background": "light"
     },
     "output_type": "display_data"
    }
   ],
   "source": [
    "plt.figure(\n",
    "    figsize=[15,5]\n",
    ")\n",
    "plt.hist(\n",
    "    data_internet['mb_used'], \n",
    "    bins =100\n",
    ")\n",
    "plt.title(\n",
    "    'Гистограмма распределения объема использованного интернет-траффика', \n",
    "    fontsize=15\n",
    ")\n",
    "plt.xlabel(\n",
    "    'Объём потраченного за сессию интернет-трафика, мбайт', \n",
    "    fontsize=12\n",
    ")\n",
    "plt.grid(\n",
    "    axis='y', \n",
    "    alpha=0.75\n",
    ")\n",
    "plt.grid(\n",
    "    axis='x', \n",
    "    alpha=0.75\n",
    ")\n",
    "plt.show()"
   ]
  },
  {
   "cell_type": "markdown",
   "id": "af297892",
   "metadata": {},
   "source": [
    "Картина для данных по использованию пользователями интернет-трафика такая же, как и для данных по звонкам - на гистограмме пик около нуля, который искажает картину распределения. Однако в отличие от данных о продолжительности звонков этот пик и сами нулевые значения не содержат информации о каких-либо качественных отличиях соответствующих интернет-сессий от основного массива данных.\n",
    "\n",
    "Поскольку в последующем анализе данные о интернет-сессиях будем группировать по месяцу без рассчета _среднего_ для каждого месяца отдельно, наличие сессий с нулевым использованием трафика не будут искажать результаты, поэтому оставим данные без изменений."
   ]
  },
  {
   "cell_type": "code",
   "execution_count": 33,
   "id": "90f50b50",
   "metadata": {},
   "outputs": [
    {
     "data": {
      "image/png": "[encoded data removed]",
      "text/plain": [
       "<Figure size 1080x144 with 1 Axes>"
      ]
     },
     "metadata": {
      "needs_background": "light"
     },
     "output_type": "display_data"
    }
   ],
   "source": [
    "data_internet.boxplot(\n",
    "    column='mb_used', \n",
    "    figsize = (15,2), \n",
    "    vert = 0\n",
    ")\n",
    "plt.show()"
   ]
  },
  {
   "cell_type": "markdown",
   "id": "ed104014",
   "metadata": {},
   "source": [
    "Аналогично с данными о продолжительности звонков, на диаграмме разброса можно отметить большое количество выбросов, расположенных за правым \"усом\" диаграммы, но в связи с ограниченностью выборки оставим данные как есть.\n",
    "\n",
    "#### Оценка данных таблицы `Messages` на аномалии"
   ]
  },
  {
   "cell_type": "code",
   "execution_count": 34,
   "id": "7806cee5",
   "metadata": {},
   "outputs": [
    {
     "data": {
      "text/html": [
       "<div>\n",
       "<style scoped>\n",
       "    .dataframe tbody tr th:only-of-type {\n",
       "        vertical-align: middle;\n",
       "    }\n",
       "\n",
       "    .dataframe tbody tr th {\n",
       "        vertical-align: top;\n",
       "    }\n",
       "\n",
       "    .dataframe thead th {\n",
       "        text-align: right;\n",
       "    }\n",
       "</style>\n",
       "<table border=\"1\" class=\"dataframe\">\n",
       "  <thead>\n",
       "    <tr style=\"text-align: right;\">\n",
       "      <th></th>\n",
       "      <th>id</th>\n",
       "      <th>message_date</th>\n",
       "      <th>user_id</th>\n",
       "    </tr>\n",
       "  </thead>\n",
       "  <tbody>\n",
       "    <tr>\n",
       "      <th>0</th>\n",
       "      <td>1000_0</td>\n",
       "      <td>2018-06-27</td>\n",
       "      <td>1000</td>\n",
       "    </tr>\n",
       "    <tr>\n",
       "      <th>1</th>\n",
       "      <td>1000_1</td>\n",
       "      <td>2018-10-08</td>\n",
       "      <td>1000</td>\n",
       "    </tr>\n",
       "    <tr>\n",
       "      <th>2</th>\n",
       "      <td>1000_2</td>\n",
       "      <td>2018-08-04</td>\n",
       "      <td>1000</td>\n",
       "    </tr>\n",
       "    <tr>\n",
       "      <th>3</th>\n",
       "      <td>1000_3</td>\n",
       "      <td>2018-06-16</td>\n",
       "      <td>1000</td>\n",
       "    </tr>\n",
       "    <tr>\n",
       "      <th>4</th>\n",
       "      <td>1000_4</td>\n",
       "      <td>2018-12-05</td>\n",
       "      <td>1000</td>\n",
       "    </tr>\n",
       "  </tbody>\n",
       "</table>\n",
       "</div>"
      ],
      "text/plain": [
       "       id message_date  user_id\n",
       "0  1000_0   2018-06-27     1000\n",
       "1  1000_1   2018-10-08     1000\n",
       "2  1000_2   2018-08-04     1000\n",
       "3  1000_3   2018-06-16     1000\n",
       "4  1000_4   2018-12-05     1000"
      ]
     },
     "execution_count": 34,
     "metadata": {},
     "output_type": "execute_result"
    }
   ],
   "source": [
    "data_messages.head()"
   ]
  },
  {
   "cell_type": "markdown",
   "id": "0b53fcf9",
   "metadata": {},
   "source": [
    "Таблица не содержит количественных значений, поэтому оценка данных на аномалии может быть произведена только после группировки по месяцу и идентификатору пользователя."
   ]
  },
  {
   "cell_type": "markdown",
   "id": "085c37e3",
   "metadata": {},
   "source": [
    "<div style=\"border-radius: 15px;border:solid navy 2px; padding: 20px\"> \n",
    "\n",
    "### Вывод\n",
    "    \n",
    "* Проверены **названия столбцов**. Из таблицы `Internet` удален столбец `'Unnamed: 0'`.\n",
    "* **Пропуски**, обнаруженные в таблице `Users` несут в себе важную информацию и не повлияют на результаты исследования, поэтому оставлены как есть.\n",
    "* **Неявные дубликаты** обнаружены в столбцах `'first_name'` и `'last_name'`. Поскольку эти столбцы не участвуют в дальнейшем исследовании, столбцы оставлены как есть.\n",
    "* **Явные дубликаты** в данных не обнаружены \n",
    "* **Аномалий**, которые могли бы повлиять на результаты исследования, а данных не обнаружено. \n",
    "* Создана дополнительная таблица `good_data_calls` - таблица `Calls`, из которой исключены данные о пропущенных звонках как **нерелевантные** для целей данного исследования."
   ]
  },
  {
   "cell_type": "markdown",
   "id": "ea8a0262",
   "metadata": {},
   "source": [
    "## Расчёты и добавление результатов в таблицу\n",
    "\n",
    "### Месяцы\n",
    "\n",
    "Добавим в таблицу `good_data_calls` столбец с месяцем звонка `'month'` с помощью функции `dt.month`."
   ]
  },
  {
   "cell_type": "code",
   "execution_count": 35,
   "id": "40df3010",
   "metadata": {},
   "outputs": [
    {
     "data": {
      "text/html": [
       "<div>\n",
       "<style scoped>\n",
       "    .dataframe tbody tr th:only-of-type {\n",
       "        vertical-align: middle;\n",
       "    }\n",
       "\n",
       "    .dataframe tbody tr th {\n",
       "        vertical-align: top;\n",
       "    }\n",
       "\n",
       "    .dataframe thead th {\n",
       "        text-align: right;\n",
       "    }\n",
       "</style>\n",
       "<table border=\"1\" class=\"dataframe\">\n",
       "  <thead>\n",
       "    <tr style=\"text-align: right;\">\n",
       "      <th></th>\n",
       "      <th>id</th>\n",
       "      <th>call_date</th>\n",
       "      <th>duration</th>\n",
       "      <th>user_id</th>\n",
       "      <th>month</th>\n",
       "    </tr>\n",
       "  </thead>\n",
       "  <tbody>\n",
       "    <tr>\n",
       "      <th>2</th>\n",
       "      <td>1000_2</td>\n",
       "      <td>2018-06-11</td>\n",
       "      <td>2.85</td>\n",
       "      <td>1000</td>\n",
       "      <td>6</td>\n",
       "    </tr>\n",
       "    <tr>\n",
       "      <th>3</th>\n",
       "      <td>1000_3</td>\n",
       "      <td>2018-09-21</td>\n",
       "      <td>13.80</td>\n",
       "      <td>1000</td>\n",
       "      <td>9</td>\n",
       "    </tr>\n",
       "    <tr>\n",
       "      <th>4</th>\n",
       "      <td>1000_4</td>\n",
       "      <td>2018-12-15</td>\n",
       "      <td>5.18</td>\n",
       "      <td>1000</td>\n",
       "      <td>12</td>\n",
       "    </tr>\n",
       "    <tr>\n",
       "      <th>7</th>\n",
       "      <td>1000_7</td>\n",
       "      <td>2018-08-22</td>\n",
       "      <td>18.31</td>\n",
       "      <td>1000</td>\n",
       "      <td>8</td>\n",
       "    </tr>\n",
       "    <tr>\n",
       "      <th>8</th>\n",
       "      <td>1000_8</td>\n",
       "      <td>2018-09-15</td>\n",
       "      <td>18.44</td>\n",
       "      <td>1000</td>\n",
       "      <td>9</td>\n",
       "    </tr>\n",
       "  </tbody>\n",
       "</table>\n",
       "</div>"
      ],
      "text/plain": [
       "       id  call_date  duration  user_id  month\n",
       "2  1000_2 2018-06-11      2.85     1000      6\n",
       "3  1000_3 2018-09-21     13.80     1000      9\n",
       "4  1000_4 2018-12-15      5.18     1000     12\n",
       "7  1000_7 2018-08-22     18.31     1000      8\n",
       "8  1000_8 2018-09-15     18.44     1000      9"
      ]
     },
     "execution_count": 35,
     "metadata": {},
     "output_type": "execute_result"
    }
   ],
   "source": [
    "good_data_calls[\n",
    "    'month'\n",
    "] = good_data_calls[\n",
    "    'call_date'\n",
    "].dt.month\n",
    "\n",
    "good_data_calls.head()"
   ]
  },
  {
   "cell_type": "markdown",
   "id": "d2b689d6",
   "metadata": {},
   "source": [
    "Аналогично добавим столбцы `'month'` с информацией о месяце в таблицы `Internet` и `Messages` ."
   ]
  },
  {
   "cell_type": "code",
   "execution_count": 36,
   "id": "7fcedcbe",
   "metadata": {
    "scrolled": true
   },
   "outputs": [
    {
     "data": {
      "text/html": [
       "<div>\n",
       "<style scoped>\n",
       "    .dataframe tbody tr th:only-of-type {\n",
       "        vertical-align: middle;\n",
       "    }\n",
       "\n",
       "    .dataframe tbody tr th {\n",
       "        vertical-align: top;\n",
       "    }\n",
       "\n",
       "    .dataframe thead th {\n",
       "        text-align: right;\n",
       "    }\n",
       "</style>\n",
       "<table border=\"1\" class=\"dataframe\">\n",
       "  <thead>\n",
       "    <tr style=\"text-align: right;\">\n",
       "      <th></th>\n",
       "      <th>id</th>\n",
       "      <th>mb_used</th>\n",
       "      <th>session_date</th>\n",
       "      <th>user_id</th>\n",
       "      <th>month</th>\n",
       "    </tr>\n",
       "  </thead>\n",
       "  <tbody>\n",
       "    <tr>\n",
       "      <th>0</th>\n",
       "      <td>1000_0</td>\n",
       "      <td>112.95</td>\n",
       "      <td>2018-11-25</td>\n",
       "      <td>1000</td>\n",
       "      <td>11</td>\n",
       "    </tr>\n",
       "    <tr>\n",
       "      <th>1</th>\n",
       "      <td>1000_1</td>\n",
       "      <td>1052.81</td>\n",
       "      <td>2018-09-07</td>\n",
       "      <td>1000</td>\n",
       "      <td>9</td>\n",
       "    </tr>\n",
       "    <tr>\n",
       "      <th>2</th>\n",
       "      <td>1000_2</td>\n",
       "      <td>1197.26</td>\n",
       "      <td>2018-06-25</td>\n",
       "      <td>1000</td>\n",
       "      <td>6</td>\n",
       "    </tr>\n",
       "    <tr>\n",
       "      <th>3</th>\n",
       "      <td>1000_3</td>\n",
       "      <td>550.27</td>\n",
       "      <td>2018-08-22</td>\n",
       "      <td>1000</td>\n",
       "      <td>8</td>\n",
       "    </tr>\n",
       "    <tr>\n",
       "      <th>4</th>\n",
       "      <td>1000_4</td>\n",
       "      <td>302.56</td>\n",
       "      <td>2018-09-24</td>\n",
       "      <td>1000</td>\n",
       "      <td>9</td>\n",
       "    </tr>\n",
       "  </tbody>\n",
       "</table>\n",
       "</div>"
      ],
      "text/plain": [
       "       id  mb_used session_date  user_id  month\n",
       "0  1000_0   112.95   2018-11-25     1000     11\n",
       "1  1000_1  1052.81   2018-09-07     1000      9\n",
       "2  1000_2  1197.26   2018-06-25     1000      6\n",
       "3  1000_3   550.27   2018-08-22     1000      8\n",
       "4  1000_4   302.56   2018-09-24     1000      9"
      ]
     },
     "execution_count": 36,
     "metadata": {},
     "output_type": "execute_result"
    }
   ],
   "source": [
    "data_internet[\n",
    "    'month'\n",
    "] = data_internet[\n",
    "    'session_date'\n",
    "].dt.month\n",
    "\n",
    "data_internet.head()"
   ]
  },
  {
   "cell_type": "code",
   "execution_count": 37,
   "id": "2c631025",
   "metadata": {},
   "outputs": [
    {
     "data": {
      "text/html": [
       "<div>\n",
       "<style scoped>\n",
       "    .dataframe tbody tr th:only-of-type {\n",
       "        vertical-align: middle;\n",
       "    }\n",
       "\n",
       "    .dataframe tbody tr th {\n",
       "        vertical-align: top;\n",
       "    }\n",
       "\n",
       "    .dataframe thead th {\n",
       "        text-align: right;\n",
       "    }\n",
       "</style>\n",
       "<table border=\"1\" class=\"dataframe\">\n",
       "  <thead>\n",
       "    <tr style=\"text-align: right;\">\n",
       "      <th></th>\n",
       "      <th>id</th>\n",
       "      <th>message_date</th>\n",
       "      <th>user_id</th>\n",
       "      <th>month</th>\n",
       "    </tr>\n",
       "  </thead>\n",
       "  <tbody>\n",
       "    <tr>\n",
       "      <th>0</th>\n",
       "      <td>1000_0</td>\n",
       "      <td>2018-06-27</td>\n",
       "      <td>1000</td>\n",
       "      <td>6</td>\n",
       "    </tr>\n",
       "    <tr>\n",
       "      <th>1</th>\n",
       "      <td>1000_1</td>\n",
       "      <td>2018-10-08</td>\n",
       "      <td>1000</td>\n",
       "      <td>10</td>\n",
       "    </tr>\n",
       "    <tr>\n",
       "      <th>2</th>\n",
       "      <td>1000_2</td>\n",
       "      <td>2018-08-04</td>\n",
       "      <td>1000</td>\n",
       "      <td>8</td>\n",
       "    </tr>\n",
       "    <tr>\n",
       "      <th>3</th>\n",
       "      <td>1000_3</td>\n",
       "      <td>2018-06-16</td>\n",
       "      <td>1000</td>\n",
       "      <td>6</td>\n",
       "    </tr>\n",
       "    <tr>\n",
       "      <th>4</th>\n",
       "      <td>1000_4</td>\n",
       "      <td>2018-12-05</td>\n",
       "      <td>1000</td>\n",
       "      <td>12</td>\n",
       "    </tr>\n",
       "  </tbody>\n",
       "</table>\n",
       "</div>"
      ],
      "text/plain": [
       "       id message_date  user_id  month\n",
       "0  1000_0   2018-06-27     1000      6\n",
       "1  1000_1   2018-10-08     1000     10\n",
       "2  1000_2   2018-08-04     1000      8\n",
       "3  1000_3   2018-06-16     1000      6\n",
       "4  1000_4   2018-12-05     1000     12"
      ]
     },
     "execution_count": 37,
     "metadata": {},
     "output_type": "execute_result"
    }
   ],
   "source": [
    "data_messages[\n",
    "    'month'\n",
    "] = data_messages[\n",
    "    'message_date'\n",
    "].dt.month\n",
    "\n",
    "data_messages.head()"
   ]
  },
  {
   "cell_type": "markdown",
   "id": "0492492a",
   "metadata": {},
   "source": [
    "### Объем использованного трафика в гигабайтах\n",
    "Добавим в таблицу `Internet` столбец `'gb_used'`, переведя значения из столбца `'mb_used'` в количество гигабайт, использованных абонентом за месяц."
   ]
  },
  {
   "cell_type": "code",
   "execution_count": 38,
   "id": "0ee48929",
   "metadata": {},
   "outputs": [
    {
     "data": {
      "text/html": [
       "<div>\n",
       "<style scoped>\n",
       "    .dataframe tbody tr th:only-of-type {\n",
       "        vertical-align: middle;\n",
       "    }\n",
       "\n",
       "    .dataframe tbody tr th {\n",
       "        vertical-align: top;\n",
       "    }\n",
       "\n",
       "    .dataframe thead th {\n",
       "        text-align: right;\n",
       "    }\n",
       "</style>\n",
       "<table border=\"1\" class=\"dataframe\">\n",
       "  <thead>\n",
       "    <tr style=\"text-align: right;\">\n",
       "      <th></th>\n",
       "      <th>id</th>\n",
       "      <th>mb_used</th>\n",
       "      <th>session_date</th>\n",
       "      <th>user_id</th>\n",
       "      <th>month</th>\n",
       "      <th>gb_used</th>\n",
       "    </tr>\n",
       "  </thead>\n",
       "  <tbody>\n",
       "    <tr>\n",
       "      <th>0</th>\n",
       "      <td>1000_0</td>\n",
       "      <td>112.95</td>\n",
       "      <td>2018-11-25</td>\n",
       "      <td>1000</td>\n",
       "      <td>11</td>\n",
       "      <td>0.110303</td>\n",
       "    </tr>\n",
       "    <tr>\n",
       "      <th>1</th>\n",
       "      <td>1000_1</td>\n",
       "      <td>1052.81</td>\n",
       "      <td>2018-09-07</td>\n",
       "      <td>1000</td>\n",
       "      <td>9</td>\n",
       "      <td>1.028135</td>\n",
       "    </tr>\n",
       "    <tr>\n",
       "      <th>2</th>\n",
       "      <td>1000_2</td>\n",
       "      <td>1197.26</td>\n",
       "      <td>2018-06-25</td>\n",
       "      <td>1000</td>\n",
       "      <td>6</td>\n",
       "      <td>1.169199</td>\n",
       "    </tr>\n",
       "    <tr>\n",
       "      <th>3</th>\n",
       "      <td>1000_3</td>\n",
       "      <td>550.27</td>\n",
       "      <td>2018-08-22</td>\n",
       "      <td>1000</td>\n",
       "      <td>8</td>\n",
       "      <td>0.537373</td>\n",
       "    </tr>\n",
       "    <tr>\n",
       "      <th>4</th>\n",
       "      <td>1000_4</td>\n",
       "      <td>302.56</td>\n",
       "      <td>2018-09-24</td>\n",
       "      <td>1000</td>\n",
       "      <td>9</td>\n",
       "      <td>0.295469</td>\n",
       "    </tr>\n",
       "  </tbody>\n",
       "</table>\n",
       "</div>"
      ],
      "text/plain": [
       "       id  mb_used session_date  user_id  month   gb_used\n",
       "0  1000_0   112.95   2018-11-25     1000     11  0.110303\n",
       "1  1000_1  1052.81   2018-09-07     1000      9  1.028135\n",
       "2  1000_2  1197.26   2018-06-25     1000      6  1.169199\n",
       "3  1000_3   550.27   2018-08-22     1000      8  0.537373\n",
       "4  1000_4   302.56   2018-09-24     1000      9  0.295469"
      ]
     },
     "execution_count": 38,
     "metadata": {},
     "output_type": "execute_result"
    }
   ],
   "source": [
    "data_internet[\n",
    "    'gb_used'\n",
    "] = data_internet[\n",
    "    'mb_used'\n",
    "] / 1024\n",
    "\n",
    "data_internet.head()"
   ]
  },
  {
   "cell_type": "markdown",
   "id": "78ebfdb2",
   "metadata": {},
   "source": [
    "### Объем интернет-траффика, включенный в тарифный план\n",
    "\n",
    "Добавим в таблицу `data_tariffs` столбец с количеством гигабайт, включенным в стоимость тарифа."
   ]
  },
  {
   "cell_type": "code",
   "execution_count": 39,
   "id": "2ab6892e",
   "metadata": {},
   "outputs": [
    {
     "data": {
      "text/html": [
       "<div>\n",
       "<style scoped>\n",
       "    .dataframe tbody tr th:only-of-type {\n",
       "        vertical-align: middle;\n",
       "    }\n",
       "\n",
       "    .dataframe tbody tr th {\n",
       "        vertical-align: top;\n",
       "    }\n",
       "\n",
       "    .dataframe thead th {\n",
       "        text-align: right;\n",
       "    }\n",
       "</style>\n",
       "<table border=\"1\" class=\"dataframe\">\n",
       "  <thead>\n",
       "    <tr style=\"text-align: right;\">\n",
       "      <th></th>\n",
       "      <th>messages_included</th>\n",
       "      <th>mb_per_month_included</th>\n",
       "      <th>minutes_included</th>\n",
       "      <th>rub_monthly_fee</th>\n",
       "      <th>rub_per_gb</th>\n",
       "      <th>rub_per_message</th>\n",
       "      <th>rub_per_minute</th>\n",
       "      <th>tariff_name</th>\n",
       "      <th>gb_included</th>\n",
       "    </tr>\n",
       "  </thead>\n",
       "  <tbody>\n",
       "    <tr>\n",
       "      <th>0</th>\n",
       "      <td>50</td>\n",
       "      <td>15360</td>\n",
       "      <td>500</td>\n",
       "      <td>550</td>\n",
       "      <td>200</td>\n",
       "      <td>3</td>\n",
       "      <td>3</td>\n",
       "      <td>smart</td>\n",
       "      <td>15.0</td>\n",
       "    </tr>\n",
       "    <tr>\n",
       "      <th>1</th>\n",
       "      <td>1000</td>\n",
       "      <td>30720</td>\n",
       "      <td>3000</td>\n",
       "      <td>1950</td>\n",
       "      <td>150</td>\n",
       "      <td>1</td>\n",
       "      <td>1</td>\n",
       "      <td>ultra</td>\n",
       "      <td>30.0</td>\n",
       "    </tr>\n",
       "  </tbody>\n",
       "</table>\n",
       "</div>"
      ],
      "text/plain": [
       "   messages_included  mb_per_month_included  minutes_included  \\\n",
       "0                 50                  15360               500   \n",
       "1               1000                  30720              3000   \n",
       "\n",
       "   rub_monthly_fee  rub_per_gb  rub_per_message  rub_per_minute tariff_name  \\\n",
       "0              550         200                3               3       smart   \n",
       "1             1950         150                1               1       ultra   \n",
       "\n",
       "   gb_included  \n",
       "0         15.0  \n",
       "1         30.0  "
      ]
     },
     "execution_count": 39,
     "metadata": {},
     "output_type": "execute_result"
    }
   ],
   "source": [
    "data_tariffs['gb_included'] = data_tariffs[\n",
    "    'mb_per_month_included'\n",
    "] / 1024 \n",
    "\n",
    "# Проверка\n",
    "data_tariffs"
   ]
  },
  {
   "cell_type": "markdown",
   "id": "97795133",
   "metadata": {},
   "source": [
    "## Группировка данных\n",
    "\n",
    "### Таблица `Internet`\n",
    "Сгруппируем данные в таблице `Internet` по пользователям и месяцу с помощью функции `groupby()`."
   ]
  },
  {
   "cell_type": "code",
   "execution_count": 40,
   "id": "6ca1b879",
   "metadata": {},
   "outputs": [
    {
     "data": {
      "text/html": [
       "<div>\n",
       "<style scoped>\n",
       "    .dataframe tbody tr th:only-of-type {\n",
       "        vertical-align: middle;\n",
       "    }\n",
       "\n",
       "    .dataframe tbody tr th {\n",
       "        vertical-align: top;\n",
       "    }\n",
       "\n",
       "    .dataframe thead th {\n",
       "        text-align: right;\n",
       "    }\n",
       "</style>\n",
       "<table border=\"1\" class=\"dataframe\">\n",
       "  <thead>\n",
       "    <tr style=\"text-align: right;\">\n",
       "      <th></th>\n",
       "      <th>user_id</th>\n",
       "      <th>month</th>\n",
       "      <th>gb_used</th>\n",
       "    </tr>\n",
       "  </thead>\n",
       "  <tbody>\n",
       "    <tr>\n",
       "      <th>0</th>\n",
       "      <td>1000</td>\n",
       "      <td>5</td>\n",
       "      <td>3.0</td>\n",
       "    </tr>\n",
       "    <tr>\n",
       "      <th>1</th>\n",
       "      <td>1000</td>\n",
       "      <td>6</td>\n",
       "      <td>23.0</td>\n",
       "    </tr>\n",
       "    <tr>\n",
       "      <th>2</th>\n",
       "      <td>1000</td>\n",
       "      <td>7</td>\n",
       "      <td>14.0</td>\n",
       "    </tr>\n",
       "    <tr>\n",
       "      <th>3</th>\n",
       "      <td>1000</td>\n",
       "      <td>8</td>\n",
       "      <td>14.0</td>\n",
       "    </tr>\n",
       "    <tr>\n",
       "      <th>4</th>\n",
       "      <td>1000</td>\n",
       "      <td>9</td>\n",
       "      <td>15.0</td>\n",
       "    </tr>\n",
       "  </tbody>\n",
       "</table>\n",
       "</div>"
      ],
      "text/plain": [
       "   user_id  month  gb_used\n",
       "0     1000      5      3.0\n",
       "1     1000      6     23.0\n",
       "2     1000      7     14.0\n",
       "3     1000      8     14.0\n",
       "4     1000      9     15.0"
      ]
     },
     "execution_count": 40,
     "metadata": {},
     "output_type": "execute_result"
    }
   ],
   "source": [
    "internet_group = data_internet.groupby([\n",
    "    'user_id', \n",
    "    'month'\n",
    "])[[\n",
    "    'gb_used'\n",
    "]].agg('sum').reset_index()\n",
    "\n",
    "internet_group.columns = [\n",
    "    'user_id', \n",
    "    'month', \n",
    "    'gb_used'\n",
    "]\n",
    "\n",
    "internet_group['gb_used'] = np.ceil(\n",
    "    internet_group['gb_used']\n",
    ")\n",
    "internet_group.head()"
   ]
  },
  {
   "cell_type": "markdown",
   "id": "44f097c0",
   "metadata": {},
   "source": [
    "### Таблица `Messages`\n",
    "\n",
    "Аналогично проведем группировку для данных об отправленных пользователем сообщениях."
   ]
  },
  {
   "cell_type": "code",
   "execution_count": 41,
   "id": "5ba43a42",
   "metadata": {},
   "outputs": [
    {
     "data": {
      "text/html": [
       "<div>\n",
       "<style scoped>\n",
       "    .dataframe tbody tr th:only-of-type {\n",
       "        vertical-align: middle;\n",
       "    }\n",
       "\n",
       "    .dataframe tbody tr th {\n",
       "        vertical-align: top;\n",
       "    }\n",
       "\n",
       "    .dataframe thead th {\n",
       "        text-align: right;\n",
       "    }\n",
       "</style>\n",
       "<table border=\"1\" class=\"dataframe\">\n",
       "  <thead>\n",
       "    <tr style=\"text-align: right;\">\n",
       "      <th></th>\n",
       "      <th>user_id</th>\n",
       "      <th>month</th>\n",
       "      <th>messages_used</th>\n",
       "    </tr>\n",
       "  </thead>\n",
       "  <tbody>\n",
       "    <tr>\n",
       "      <th>0</th>\n",
       "      <td>1000</td>\n",
       "      <td>5</td>\n",
       "      <td>22</td>\n",
       "    </tr>\n",
       "    <tr>\n",
       "      <th>1</th>\n",
       "      <td>1000</td>\n",
       "      <td>6</td>\n",
       "      <td>60</td>\n",
       "    </tr>\n",
       "    <tr>\n",
       "      <th>2</th>\n",
       "      <td>1000</td>\n",
       "      <td>7</td>\n",
       "      <td>75</td>\n",
       "    </tr>\n",
       "    <tr>\n",
       "      <th>3</th>\n",
       "      <td>1000</td>\n",
       "      <td>8</td>\n",
       "      <td>81</td>\n",
       "    </tr>\n",
       "    <tr>\n",
       "      <th>4</th>\n",
       "      <td>1000</td>\n",
       "      <td>9</td>\n",
       "      <td>57</td>\n",
       "    </tr>\n",
       "  </tbody>\n",
       "</table>\n",
       "</div>"
      ],
      "text/plain": [
       "   user_id  month  messages_used\n",
       "0     1000      5             22\n",
       "1     1000      6             60\n",
       "2     1000      7             75\n",
       "3     1000      8             81\n",
       "4     1000      9             57"
      ]
     },
     "execution_count": 41,
     "metadata": {},
     "output_type": "execute_result"
    }
   ],
   "source": [
    "messages_group = data_messages.groupby([\n",
    "    'user_id', \n",
    "    'month'\n",
    "])[[\n",
    "    'message_date'\n",
    "]].agg('count').reset_index()\n",
    "\n",
    "messages_group.columns = [\n",
    "    'user_id', \n",
    "    'month', \n",
    "    'messages_used'\n",
    "]\n",
    "\n",
    "messages_group.head()"
   ]
  },
  {
   "cell_type": "markdown",
   "id": "97f81c77",
   "metadata": {},
   "source": [
    "### Таблица `Calls`\n",
    "\n",
    "Аналогично проведем группировку для данных о звонках пользователя."
   ]
  },
  {
   "cell_type": "code",
   "execution_count": 42,
   "id": "6ead2258",
   "metadata": {},
   "outputs": [
    {
     "data": {
      "text/html": [
       "<div>\n",
       "<style scoped>\n",
       "    .dataframe tbody tr th:only-of-type {\n",
       "        vertical-align: middle;\n",
       "    }\n",
       "\n",
       "    .dataframe tbody tr th {\n",
       "        vertical-align: top;\n",
       "    }\n",
       "\n",
       "    .dataframe thead th {\n",
       "        text-align: right;\n",
       "    }\n",
       "</style>\n",
       "<table border=\"1\" class=\"dataframe\">\n",
       "  <thead>\n",
       "    <tr style=\"text-align: right;\">\n",
       "      <th></th>\n",
       "      <th>user_id</th>\n",
       "      <th>month</th>\n",
       "      <th>minutes_used</th>\n",
       "    </tr>\n",
       "  </thead>\n",
       "  <tbody>\n",
       "    <tr>\n",
       "      <th>0</th>\n",
       "      <td>1000</td>\n",
       "      <td>5</td>\n",
       "      <td>159.0</td>\n",
       "    </tr>\n",
       "    <tr>\n",
       "      <th>1</th>\n",
       "      <td>1000</td>\n",
       "      <td>6</td>\n",
       "      <td>172.0</td>\n",
       "    </tr>\n",
       "    <tr>\n",
       "      <th>2</th>\n",
       "      <td>1000</td>\n",
       "      <td>7</td>\n",
       "      <td>340.0</td>\n",
       "    </tr>\n",
       "    <tr>\n",
       "      <th>3</th>\n",
       "      <td>1000</td>\n",
       "      <td>8</td>\n",
       "      <td>408.0</td>\n",
       "    </tr>\n",
       "    <tr>\n",
       "      <th>4</th>\n",
       "      <td>1000</td>\n",
       "      <td>9</td>\n",
       "      <td>466.0</td>\n",
       "    </tr>\n",
       "  </tbody>\n",
       "</table>\n",
       "</div>"
      ],
      "text/plain": [
       "   user_id  month  minutes_used\n",
       "0     1000      5         159.0\n",
       "1     1000      6         172.0\n",
       "2     1000      7         340.0\n",
       "3     1000      8         408.0\n",
       "4     1000      9         466.0"
      ]
     },
     "execution_count": 42,
     "metadata": {},
     "output_type": "execute_result"
    }
   ],
   "source": [
    "good_data_calls['duration'] = np.ceil(\n",
    "    good_data_calls['duration']\n",
    ")\n",
    "\n",
    "calls_group = good_data_calls.groupby([\n",
    "    'user_id', \n",
    "    'month'\n",
    "])[[\n",
    "    'duration'\n",
    "]].agg('sum').reset_index()\n",
    "\n",
    "calls_group.columns = [\n",
    "    'user_id', \n",
    "    'month', \n",
    "    'minutes_used'\n",
    "]\n",
    "\n",
    "calls_group.head()"
   ]
  },
  {
   "cell_type": "markdown",
   "id": "e065db00",
   "metadata": {},
   "source": [
    "В итоге группировки мы получили три таблицы с суммарным объемом использованного трафика, отправленных сообщениях и минутах разговора для каждого из пользователей за каждый месяц использования услуг оператора.\n",
    "\n",
    "### Объединение таблиц\n",
    "\n",
    "Теперь с помощью функции `merge()` объединим три таблицы в одну, которая будет содержать информацию об истории использования услуг для каждого абонента по меясяцам.\n",
    "\n",
    "Функции `merge()` зададим параметры `on=['user_id','month'], how='outer'`, чтобы строки объединились корректно, не задваиваясь. "
   ]
  },
  {
   "cell_type": "code",
   "execution_count": 43,
   "id": "4f26249b",
   "metadata": {},
   "outputs": [
    {
     "data": {
      "text/html": [
       "<div>\n",
       "<style scoped>\n",
       "    .dataframe tbody tr th:only-of-type {\n",
       "        vertical-align: middle;\n",
       "    }\n",
       "\n",
       "    .dataframe tbody tr th {\n",
       "        vertical-align: top;\n",
       "    }\n",
       "\n",
       "    .dataframe thead th {\n",
       "        text-align: right;\n",
       "    }\n",
       "</style>\n",
       "<table border=\"1\" class=\"dataframe\">\n",
       "  <thead>\n",
       "    <tr style=\"text-align: right;\">\n",
       "      <th></th>\n",
       "      <th>user_id</th>\n",
       "      <th>month</th>\n",
       "      <th>minutes_used</th>\n",
       "      <th>messages_used</th>\n",
       "      <th>gb_used</th>\n",
       "    </tr>\n",
       "  </thead>\n",
       "  <tbody>\n",
       "    <tr>\n",
       "      <th>0</th>\n",
       "      <td>1000</td>\n",
       "      <td>5</td>\n",
       "      <td>159.0</td>\n",
       "      <td>22.0</td>\n",
       "      <td>3.0</td>\n",
       "    </tr>\n",
       "    <tr>\n",
       "      <th>1</th>\n",
       "      <td>1000</td>\n",
       "      <td>6</td>\n",
       "      <td>172.0</td>\n",
       "      <td>60.0</td>\n",
       "      <td>23.0</td>\n",
       "    </tr>\n",
       "    <tr>\n",
       "      <th>2</th>\n",
       "      <td>1000</td>\n",
       "      <td>7</td>\n",
       "      <td>340.0</td>\n",
       "      <td>75.0</td>\n",
       "      <td>14.0</td>\n",
       "    </tr>\n",
       "    <tr>\n",
       "      <th>3</th>\n",
       "      <td>1000</td>\n",
       "      <td>8</td>\n",
       "      <td>408.0</td>\n",
       "      <td>81.0</td>\n",
       "      <td>14.0</td>\n",
       "    </tr>\n",
       "    <tr>\n",
       "      <th>4</th>\n",
       "      <td>1000</td>\n",
       "      <td>9</td>\n",
       "      <td>466.0</td>\n",
       "      <td>57.0</td>\n",
       "      <td>15.0</td>\n",
       "    </tr>\n",
       "    <tr>\n",
       "      <th>5</th>\n",
       "      <td>1000</td>\n",
       "      <td>10</td>\n",
       "      <td>350.0</td>\n",
       "      <td>73.0</td>\n",
       "      <td>15.0</td>\n",
       "    </tr>\n",
       "    <tr>\n",
       "      <th>6</th>\n",
       "      <td>1000</td>\n",
       "      <td>11</td>\n",
       "      <td>338.0</td>\n",
       "      <td>58.0</td>\n",
       "      <td>15.0</td>\n",
       "    </tr>\n",
       "    <tr>\n",
       "      <th>7</th>\n",
       "      <td>1000</td>\n",
       "      <td>12</td>\n",
       "      <td>333.0</td>\n",
       "      <td>70.0</td>\n",
       "      <td>10.0</td>\n",
       "    </tr>\n",
       "    <tr>\n",
       "      <th>9</th>\n",
       "      <td>1001</td>\n",
       "      <td>12</td>\n",
       "      <td>414.0</td>\n",
       "      <td>NaN</td>\n",
       "      <td>14.0</td>\n",
       "    </tr>\n",
       "    <tr>\n",
       "      <th>8</th>\n",
       "      <td>1001</td>\n",
       "      <td>11</td>\n",
       "      <td>430.0</td>\n",
       "      <td>NaN</td>\n",
       "      <td>18.0</td>\n",
       "    </tr>\n",
       "  </tbody>\n",
       "</table>\n",
       "</div>"
      ],
      "text/plain": [
       "   user_id  month  minutes_used  messages_used  gb_used\n",
       "0     1000      5         159.0           22.0      3.0\n",
       "1     1000      6         172.0           60.0     23.0\n",
       "2     1000      7         340.0           75.0     14.0\n",
       "3     1000      8         408.0           81.0     14.0\n",
       "4     1000      9         466.0           57.0     15.0\n",
       "5     1000     10         350.0           73.0     15.0\n",
       "6     1000     11         338.0           58.0     15.0\n",
       "7     1000     12         333.0           70.0     10.0\n",
       "9     1001     12         414.0            NaN     14.0\n",
       "8     1001     11         430.0            NaN     18.0"
      ]
     },
     "execution_count": 43,
     "metadata": {},
     "output_type": "execute_result"
    }
   ],
   "source": [
    "user_overall = calls_group.merge(\n",
    "    messages_group, \n",
    "    on=[\n",
    "        'user_id',\n",
    "        'month'\n",
    "    ], \n",
    "    how='outer'\n",
    ")\n",
    "\n",
    "user_overall = user_overall.merge(\n",
    "    internet_group, \n",
    "    on=[\n",
    "        'user_id',\n",
    "        'month'\n",
    "    ], \n",
    "    how='outer'\n",
    ")\n",
    "\n",
    "\n",
    "user_overall = user_overall.sort_values(\n",
    "    by='user_id'\n",
    ")\n",
    "user_overall.head(10)"
   ]
  },
  {
   "cell_type": "markdown",
   "id": "544e94f2",
   "metadata": {},
   "source": [
    "Таблицы объединены успешно, можно двигаться дальше. \n",
    "\n",
    "Заменим пропуски на **0** с помощью функции `fillna(0)`."
   ]
  },
  {
   "cell_type": "code",
   "execution_count": 44,
   "id": "27a034c1",
   "metadata": {},
   "outputs": [
    {
     "data": {
      "text/html": [
       "<div>\n",
       "<style scoped>\n",
       "    .dataframe tbody tr th:only-of-type {\n",
       "        vertical-align: middle;\n",
       "    }\n",
       "\n",
       "    .dataframe tbody tr th {\n",
       "        vertical-align: top;\n",
       "    }\n",
       "\n",
       "    .dataframe thead th {\n",
       "        text-align: right;\n",
       "    }\n",
       "</style>\n",
       "<table border=\"1\" class=\"dataframe\">\n",
       "  <thead>\n",
       "    <tr style=\"text-align: right;\">\n",
       "      <th></th>\n",
       "      <th>user_id</th>\n",
       "      <th>month</th>\n",
       "      <th>minutes_used</th>\n",
       "      <th>messages_used</th>\n",
       "      <th>gb_used</th>\n",
       "    </tr>\n",
       "  </thead>\n",
       "  <tbody>\n",
       "    <tr>\n",
       "      <th>0</th>\n",
       "      <td>1000</td>\n",
       "      <td>5</td>\n",
       "      <td>159.0</td>\n",
       "      <td>22.0</td>\n",
       "      <td>3.0</td>\n",
       "    </tr>\n",
       "    <tr>\n",
       "      <th>1</th>\n",
       "      <td>1000</td>\n",
       "      <td>6</td>\n",
       "      <td>172.0</td>\n",
       "      <td>60.0</td>\n",
       "      <td>23.0</td>\n",
       "    </tr>\n",
       "    <tr>\n",
       "      <th>2</th>\n",
       "      <td>1000</td>\n",
       "      <td>7</td>\n",
       "      <td>340.0</td>\n",
       "      <td>75.0</td>\n",
       "      <td>14.0</td>\n",
       "    </tr>\n",
       "    <tr>\n",
       "      <th>3</th>\n",
       "      <td>1000</td>\n",
       "      <td>8</td>\n",
       "      <td>408.0</td>\n",
       "      <td>81.0</td>\n",
       "      <td>14.0</td>\n",
       "    </tr>\n",
       "    <tr>\n",
       "      <th>4</th>\n",
       "      <td>1000</td>\n",
       "      <td>9</td>\n",
       "      <td>466.0</td>\n",
       "      <td>57.0</td>\n",
       "      <td>15.0</td>\n",
       "    </tr>\n",
       "    <tr>\n",
       "      <th>...</th>\n",
       "      <td>...</td>\n",
       "      <td>...</td>\n",
       "      <td>...</td>\n",
       "      <td>...</td>\n",
       "      <td>...</td>\n",
       "    </tr>\n",
       "    <tr>\n",
       "      <th>3163</th>\n",
       "      <td>1498</td>\n",
       "      <td>10</td>\n",
       "      <td>247.0</td>\n",
       "      <td>42.0</td>\n",
       "      <td>21.0</td>\n",
       "    </tr>\n",
       "    <tr>\n",
       "      <th>3164</th>\n",
       "      <td>1499</td>\n",
       "      <td>9</td>\n",
       "      <td>70.0</td>\n",
       "      <td>11.0</td>\n",
       "      <td>2.0</td>\n",
       "    </tr>\n",
       "    <tr>\n",
       "      <th>3165</th>\n",
       "      <td>1499</td>\n",
       "      <td>10</td>\n",
       "      <td>449.0</td>\n",
       "      <td>48.0</td>\n",
       "      <td>18.0</td>\n",
       "    </tr>\n",
       "    <tr>\n",
       "      <th>3167</th>\n",
       "      <td>1499</td>\n",
       "      <td>12</td>\n",
       "      <td>492.0</td>\n",
       "      <td>66.0</td>\n",
       "      <td>13.0</td>\n",
       "    </tr>\n",
       "    <tr>\n",
       "      <th>3166</th>\n",
       "      <td>1499</td>\n",
       "      <td>11</td>\n",
       "      <td>612.0</td>\n",
       "      <td>59.0</td>\n",
       "      <td>18.0</td>\n",
       "    </tr>\n",
       "  </tbody>\n",
       "</table>\n",
       "<p>3214 rows × 5 columns</p>\n",
       "</div>"
      ],
      "text/plain": [
       "      user_id  month  minutes_used  messages_used  gb_used\n",
       "0        1000      5         159.0           22.0      3.0\n",
       "1        1000      6         172.0           60.0     23.0\n",
       "2        1000      7         340.0           75.0     14.0\n",
       "3        1000      8         408.0           81.0     14.0\n",
       "4        1000      9         466.0           57.0     15.0\n",
       "...       ...    ...           ...            ...      ...\n",
       "3163     1498     10         247.0           42.0     21.0\n",
       "3164     1499      9          70.0           11.0      2.0\n",
       "3165     1499     10         449.0           48.0     18.0\n",
       "3167     1499     12         492.0           66.0     13.0\n",
       "3166     1499     11         612.0           59.0     18.0\n",
       "\n",
       "[3214 rows x 5 columns]"
      ]
     },
     "execution_count": 44,
     "metadata": {},
     "output_type": "execute_result"
    }
   ],
   "source": [
    "user_overall = user_overall.fillna(0)\n",
    "user_overall"
   ]
  },
  {
   "cell_type": "markdown",
   "id": "71f1c9ef",
   "metadata": {},
   "source": [
    "Пропуски заменены успешно, можно двигаться дальше."
   ]
  },
  {
   "cell_type": "markdown",
   "id": "0353697a",
   "metadata": {},
   "source": [
    "### Расчет выручки \n",
    "\n",
    "\n",
    "Для удобства расчетов добавим в таблицу `user_overall` информацию о клиентах и используемых ими тарифах."
   ]
  },
  {
   "cell_type": "code",
   "execution_count": 45,
   "id": "40727382",
   "metadata": {},
   "outputs": [
    {
     "data": {
      "text/html": [
       "<div>\n",
       "<style scoped>\n",
       "    .dataframe tbody tr th:only-of-type {\n",
       "        vertical-align: middle;\n",
       "    }\n",
       "\n",
       "    .dataframe tbody tr th {\n",
       "        vertical-align: top;\n",
       "    }\n",
       "\n",
       "    .dataframe thead th {\n",
       "        text-align: right;\n",
       "    }\n",
       "</style>\n",
       "<table border=\"1\" class=\"dataframe\">\n",
       "  <thead>\n",
       "    <tr style=\"text-align: right;\">\n",
       "      <th></th>\n",
       "      <th>user_id</th>\n",
       "      <th>month</th>\n",
       "      <th>minutes_used</th>\n",
       "      <th>messages_used</th>\n",
       "      <th>gb_used</th>\n",
       "      <th>age</th>\n",
       "      <th>churn_date</th>\n",
       "      <th>city</th>\n",
       "      <th>first_name</th>\n",
       "      <th>last_name</th>\n",
       "      <th>...</th>\n",
       "      <th>tariff</th>\n",
       "      <th>messages_included</th>\n",
       "      <th>mb_per_month_included</th>\n",
       "      <th>minutes_included</th>\n",
       "      <th>rub_monthly_fee</th>\n",
       "      <th>rub_per_gb</th>\n",
       "      <th>rub_per_message</th>\n",
       "      <th>rub_per_minute</th>\n",
       "      <th>tariff_name</th>\n",
       "      <th>gb_included</th>\n",
       "    </tr>\n",
       "  </thead>\n",
       "  <tbody>\n",
       "    <tr>\n",
       "      <th>0</th>\n",
       "      <td>1000</td>\n",
       "      <td>5</td>\n",
       "      <td>159.0</td>\n",
       "      <td>22.0</td>\n",
       "      <td>3.0</td>\n",
       "      <td>52</td>\n",
       "      <td>NaT</td>\n",
       "      <td>Краснодар</td>\n",
       "      <td>Рафаил</td>\n",
       "      <td>Верещагин</td>\n",
       "      <td>...</td>\n",
       "      <td>ultra</td>\n",
       "      <td>1000</td>\n",
       "      <td>30720</td>\n",
       "      <td>3000</td>\n",
       "      <td>1950</td>\n",
       "      <td>150</td>\n",
       "      <td>1</td>\n",
       "      <td>1</td>\n",
       "      <td>ultra</td>\n",
       "      <td>30.0</td>\n",
       "    </tr>\n",
       "    <tr>\n",
       "      <th>1</th>\n",
       "      <td>1000</td>\n",
       "      <td>6</td>\n",
       "      <td>172.0</td>\n",
       "      <td>60.0</td>\n",
       "      <td>23.0</td>\n",
       "      <td>52</td>\n",
       "      <td>NaT</td>\n",
       "      <td>Краснодар</td>\n",
       "      <td>Рафаил</td>\n",
       "      <td>Верещагин</td>\n",
       "      <td>...</td>\n",
       "      <td>ultra</td>\n",
       "      <td>1000</td>\n",
       "      <td>30720</td>\n",
       "      <td>3000</td>\n",
       "      <td>1950</td>\n",
       "      <td>150</td>\n",
       "      <td>1</td>\n",
       "      <td>1</td>\n",
       "      <td>ultra</td>\n",
       "      <td>30.0</td>\n",
       "    </tr>\n",
       "    <tr>\n",
       "      <th>2</th>\n",
       "      <td>1000</td>\n",
       "      <td>7</td>\n",
       "      <td>340.0</td>\n",
       "      <td>75.0</td>\n",
       "      <td>14.0</td>\n",
       "      <td>52</td>\n",
       "      <td>NaT</td>\n",
       "      <td>Краснодар</td>\n",
       "      <td>Рафаил</td>\n",
       "      <td>Верещагин</td>\n",
       "      <td>...</td>\n",
       "      <td>ultra</td>\n",
       "      <td>1000</td>\n",
       "      <td>30720</td>\n",
       "      <td>3000</td>\n",
       "      <td>1950</td>\n",
       "      <td>150</td>\n",
       "      <td>1</td>\n",
       "      <td>1</td>\n",
       "      <td>ultra</td>\n",
       "      <td>30.0</td>\n",
       "    </tr>\n",
       "    <tr>\n",
       "      <th>3</th>\n",
       "      <td>1000</td>\n",
       "      <td>8</td>\n",
       "      <td>408.0</td>\n",
       "      <td>81.0</td>\n",
       "      <td>14.0</td>\n",
       "      <td>52</td>\n",
       "      <td>NaT</td>\n",
       "      <td>Краснодар</td>\n",
       "      <td>Рафаил</td>\n",
       "      <td>Верещагин</td>\n",
       "      <td>...</td>\n",
       "      <td>ultra</td>\n",
       "      <td>1000</td>\n",
       "      <td>30720</td>\n",
       "      <td>3000</td>\n",
       "      <td>1950</td>\n",
       "      <td>150</td>\n",
       "      <td>1</td>\n",
       "      <td>1</td>\n",
       "      <td>ultra</td>\n",
       "      <td>30.0</td>\n",
       "    </tr>\n",
       "    <tr>\n",
       "      <th>4</th>\n",
       "      <td>1000</td>\n",
       "      <td>9</td>\n",
       "      <td>466.0</td>\n",
       "      <td>57.0</td>\n",
       "      <td>15.0</td>\n",
       "      <td>52</td>\n",
       "      <td>NaT</td>\n",
       "      <td>Краснодар</td>\n",
       "      <td>Рафаил</td>\n",
       "      <td>Верещагин</td>\n",
       "      <td>...</td>\n",
       "      <td>ultra</td>\n",
       "      <td>1000</td>\n",
       "      <td>30720</td>\n",
       "      <td>3000</td>\n",
       "      <td>1950</td>\n",
       "      <td>150</td>\n",
       "      <td>1</td>\n",
       "      <td>1</td>\n",
       "      <td>ultra</td>\n",
       "      <td>30.0</td>\n",
       "    </tr>\n",
       "  </tbody>\n",
       "</table>\n",
       "<p>5 rows × 21 columns</p>\n",
       "</div>"
      ],
      "text/plain": [
       "   user_id  month  minutes_used  messages_used  gb_used  age churn_date  \\\n",
       "0     1000      5         159.0           22.0      3.0   52        NaT   \n",
       "1     1000      6         172.0           60.0     23.0   52        NaT   \n",
       "2     1000      7         340.0           75.0     14.0   52        NaT   \n",
       "3     1000      8         408.0           81.0     14.0   52        NaT   \n",
       "4     1000      9         466.0           57.0     15.0   52        NaT   \n",
       "\n",
       "        city first_name  last_name  ... tariff messages_included  \\\n",
       "0  Краснодар     Рафаил  Верещагин  ...  ultra              1000   \n",
       "1  Краснодар     Рафаил  Верещагин  ...  ultra              1000   \n",
       "2  Краснодар     Рафаил  Верещагин  ...  ultra              1000   \n",
       "3  Краснодар     Рафаил  Верещагин  ...  ultra              1000   \n",
       "4  Краснодар     Рафаил  Верещагин  ...  ultra              1000   \n",
       "\n",
       "   mb_per_month_included  minutes_included  rub_monthly_fee  rub_per_gb  \\\n",
       "0                  30720              3000             1950         150   \n",
       "1                  30720              3000             1950         150   \n",
       "2                  30720              3000             1950         150   \n",
       "3                  30720              3000             1950         150   \n",
       "4                  30720              3000             1950         150   \n",
       "\n",
       "   rub_per_message  rub_per_minute  tariff_name gb_included  \n",
       "0                1               1        ultra        30.0  \n",
       "1                1               1        ultra        30.0  \n",
       "2                1               1        ultra        30.0  \n",
       "3                1               1        ultra        30.0  \n",
       "4                1               1        ultra        30.0  \n",
       "\n",
       "[5 rows x 21 columns]"
      ]
     },
     "execution_count": 45,
     "metadata": {},
     "output_type": "execute_result"
    }
   ],
   "source": [
    "user_overall = user_overall.merge(\n",
    "    data_users, \n",
    "    on='user_id', \n",
    "    how='left').merge(\n",
    "    data_tariffs, \n",
    "    left_on='tariff', \n",
    "    right_on='tariff_name'\n",
    ")\n",
    "\n",
    "# Проверка\n",
    "user_overall.head()"
   ]
  },
  {
   "cell_type": "markdown",
   "id": "68698f67",
   "metadata": {},
   "source": [
    "#### Общая выручка\n",
    "\n",
    "Подготовим функцию `revenue_count`, которая сравнит объем использованных минут, сообщений и гигабайт с объемом, включенным в стоимость тарифа.\n",
    "\n",
    "Результат расчета добавим в столбец `revenue` - общая выручка, полученная за месяц для одного клиента."
   ]
  },
  {
   "cell_type": "code",
   "execution_count": 46,
   "id": "585cbf7b",
   "metadata": {},
   "outputs": [
    {
     "data": {
      "text/html": [
       "<div>\n",
       "<style scoped>\n",
       "    .dataframe tbody tr th:only-of-type {\n",
       "        vertical-align: middle;\n",
       "    }\n",
       "\n",
       "    .dataframe tbody tr th {\n",
       "        vertical-align: top;\n",
       "    }\n",
       "\n",
       "    .dataframe thead th {\n",
       "        text-align: right;\n",
       "    }\n",
       "</style>\n",
       "<table border=\"1\" class=\"dataframe\">\n",
       "  <thead>\n",
       "    <tr style=\"text-align: right;\">\n",
       "      <th></th>\n",
       "      <th>user_id</th>\n",
       "      <th>month</th>\n",
       "      <th>minutes_used</th>\n",
       "      <th>messages_used</th>\n",
       "      <th>gb_used</th>\n",
       "      <th>age</th>\n",
       "      <th>churn_date</th>\n",
       "      <th>city</th>\n",
       "      <th>first_name</th>\n",
       "      <th>last_name</th>\n",
       "      <th>...</th>\n",
       "      <th>messages_included</th>\n",
       "      <th>mb_per_month_included</th>\n",
       "      <th>minutes_included</th>\n",
       "      <th>rub_monthly_fee</th>\n",
       "      <th>rub_per_gb</th>\n",
       "      <th>rub_per_message</th>\n",
       "      <th>rub_per_minute</th>\n",
       "      <th>tariff_name</th>\n",
       "      <th>gb_included</th>\n",
       "      <th>revenue</th>\n",
       "    </tr>\n",
       "  </thead>\n",
       "  <tbody>\n",
       "    <tr>\n",
       "      <th>0</th>\n",
       "      <td>1000</td>\n",
       "      <td>5</td>\n",
       "      <td>159.0</td>\n",
       "      <td>22.0</td>\n",
       "      <td>3.0</td>\n",
       "      <td>52</td>\n",
       "      <td>NaT</td>\n",
       "      <td>Краснодар</td>\n",
       "      <td>Рафаил</td>\n",
       "      <td>Верещагин</td>\n",
       "      <td>...</td>\n",
       "      <td>1000</td>\n",
       "      <td>30720</td>\n",
       "      <td>3000</td>\n",
       "      <td>1950</td>\n",
       "      <td>150</td>\n",
       "      <td>1</td>\n",
       "      <td>1</td>\n",
       "      <td>ultra</td>\n",
       "      <td>30.0</td>\n",
       "      <td>1950.0</td>\n",
       "    </tr>\n",
       "    <tr>\n",
       "      <th>1</th>\n",
       "      <td>1000</td>\n",
       "      <td>6</td>\n",
       "      <td>172.0</td>\n",
       "      <td>60.0</td>\n",
       "      <td>23.0</td>\n",
       "      <td>52</td>\n",
       "      <td>NaT</td>\n",
       "      <td>Краснодар</td>\n",
       "      <td>Рафаил</td>\n",
       "      <td>Верещагин</td>\n",
       "      <td>...</td>\n",
       "      <td>1000</td>\n",
       "      <td>30720</td>\n",
       "      <td>3000</td>\n",
       "      <td>1950</td>\n",
       "      <td>150</td>\n",
       "      <td>1</td>\n",
       "      <td>1</td>\n",
       "      <td>ultra</td>\n",
       "      <td>30.0</td>\n",
       "      <td>1950.0</td>\n",
       "    </tr>\n",
       "    <tr>\n",
       "      <th>2</th>\n",
       "      <td>1000</td>\n",
       "      <td>7</td>\n",
       "      <td>340.0</td>\n",
       "      <td>75.0</td>\n",
       "      <td>14.0</td>\n",
       "      <td>52</td>\n",
       "      <td>NaT</td>\n",
       "      <td>Краснодар</td>\n",
       "      <td>Рафаил</td>\n",
       "      <td>Верещагин</td>\n",
       "      <td>...</td>\n",
       "      <td>1000</td>\n",
       "      <td>30720</td>\n",
       "      <td>3000</td>\n",
       "      <td>1950</td>\n",
       "      <td>150</td>\n",
       "      <td>1</td>\n",
       "      <td>1</td>\n",
       "      <td>ultra</td>\n",
       "      <td>30.0</td>\n",
       "      <td>1950.0</td>\n",
       "    </tr>\n",
       "    <tr>\n",
       "      <th>3</th>\n",
       "      <td>1000</td>\n",
       "      <td>8</td>\n",
       "      <td>408.0</td>\n",
       "      <td>81.0</td>\n",
       "      <td>14.0</td>\n",
       "      <td>52</td>\n",
       "      <td>NaT</td>\n",
       "      <td>Краснодар</td>\n",
       "      <td>Рафаил</td>\n",
       "      <td>Верещагин</td>\n",
       "      <td>...</td>\n",
       "      <td>1000</td>\n",
       "      <td>30720</td>\n",
       "      <td>3000</td>\n",
       "      <td>1950</td>\n",
       "      <td>150</td>\n",
       "      <td>1</td>\n",
       "      <td>1</td>\n",
       "      <td>ultra</td>\n",
       "      <td>30.0</td>\n",
       "      <td>1950.0</td>\n",
       "    </tr>\n",
       "    <tr>\n",
       "      <th>4</th>\n",
       "      <td>1000</td>\n",
       "      <td>9</td>\n",
       "      <td>466.0</td>\n",
       "      <td>57.0</td>\n",
       "      <td>15.0</td>\n",
       "      <td>52</td>\n",
       "      <td>NaT</td>\n",
       "      <td>Краснодар</td>\n",
       "      <td>Рафаил</td>\n",
       "      <td>Верещагин</td>\n",
       "      <td>...</td>\n",
       "      <td>1000</td>\n",
       "      <td>30720</td>\n",
       "      <td>3000</td>\n",
       "      <td>1950</td>\n",
       "      <td>150</td>\n",
       "      <td>1</td>\n",
       "      <td>1</td>\n",
       "      <td>ultra</td>\n",
       "      <td>30.0</td>\n",
       "      <td>1950.0</td>\n",
       "    </tr>\n",
       "    <tr>\n",
       "      <th>...</th>\n",
       "      <td>...</td>\n",
       "      <td>...</td>\n",
       "      <td>...</td>\n",
       "      <td>...</td>\n",
       "      <td>...</td>\n",
       "      <td>...</td>\n",
       "      <td>...</td>\n",
       "      <td>...</td>\n",
       "      <td>...</td>\n",
       "      <td>...</td>\n",
       "      <td>...</td>\n",
       "      <td>...</td>\n",
       "      <td>...</td>\n",
       "      <td>...</td>\n",
       "      <td>...</td>\n",
       "      <td>...</td>\n",
       "      <td>...</td>\n",
       "      <td>...</td>\n",
       "      <td>...</td>\n",
       "      <td>...</td>\n",
       "      <td>...</td>\n",
       "    </tr>\n",
       "    <tr>\n",
       "      <th>3209</th>\n",
       "      <td>1498</td>\n",
       "      <td>10</td>\n",
       "      <td>247.0</td>\n",
       "      <td>42.0</td>\n",
       "      <td>21.0</td>\n",
       "      <td>68</td>\n",
       "      <td>2018-10-25</td>\n",
       "      <td>Владикавказ</td>\n",
       "      <td>Всеволод</td>\n",
       "      <td>Акимчин</td>\n",
       "      <td>...</td>\n",
       "      <td>50</td>\n",
       "      <td>15360</td>\n",
       "      <td>500</td>\n",
       "      <td>550</td>\n",
       "      <td>200</td>\n",
       "      <td>3</td>\n",
       "      <td>3</td>\n",
       "      <td>smart</td>\n",
       "      <td>15.0</td>\n",
       "      <td>1750.0</td>\n",
       "    </tr>\n",
       "    <tr>\n",
       "      <th>3210</th>\n",
       "      <td>1499</td>\n",
       "      <td>9</td>\n",
       "      <td>70.0</td>\n",
       "      <td>11.0</td>\n",
       "      <td>2.0</td>\n",
       "      <td>35</td>\n",
       "      <td>NaT</td>\n",
       "      <td>Пермь</td>\n",
       "      <td>Гектор</td>\n",
       "      <td>Корнилов</td>\n",
       "      <td>...</td>\n",
       "      <td>50</td>\n",
       "      <td>15360</td>\n",
       "      <td>500</td>\n",
       "      <td>550</td>\n",
       "      <td>200</td>\n",
       "      <td>3</td>\n",
       "      <td>3</td>\n",
       "      <td>smart</td>\n",
       "      <td>15.0</td>\n",
       "      <td>550.0</td>\n",
       "    </tr>\n",
       "    <tr>\n",
       "      <th>3211</th>\n",
       "      <td>1499</td>\n",
       "      <td>10</td>\n",
       "      <td>449.0</td>\n",
       "      <td>48.0</td>\n",
       "      <td>18.0</td>\n",
       "      <td>35</td>\n",
       "      <td>NaT</td>\n",
       "      <td>Пермь</td>\n",
       "      <td>Гектор</td>\n",
       "      <td>Корнилов</td>\n",
       "      <td>...</td>\n",
       "      <td>50</td>\n",
       "      <td>15360</td>\n",
       "      <td>500</td>\n",
       "      <td>550</td>\n",
       "      <td>200</td>\n",
       "      <td>3</td>\n",
       "      <td>3</td>\n",
       "      <td>smart</td>\n",
       "      <td>15.0</td>\n",
       "      <td>1150.0</td>\n",
       "    </tr>\n",
       "    <tr>\n",
       "      <th>3212</th>\n",
       "      <td>1499</td>\n",
       "      <td>12</td>\n",
       "      <td>492.0</td>\n",
       "      <td>66.0</td>\n",
       "      <td>13.0</td>\n",
       "      <td>35</td>\n",
       "      <td>NaT</td>\n",
       "      <td>Пермь</td>\n",
       "      <td>Гектор</td>\n",
       "      <td>Корнилов</td>\n",
       "      <td>...</td>\n",
       "      <td>50</td>\n",
       "      <td>15360</td>\n",
       "      <td>500</td>\n",
       "      <td>550</td>\n",
       "      <td>200</td>\n",
       "      <td>3</td>\n",
       "      <td>3</td>\n",
       "      <td>smart</td>\n",
       "      <td>15.0</td>\n",
       "      <td>598.0</td>\n",
       "    </tr>\n",
       "    <tr>\n",
       "      <th>3213</th>\n",
       "      <td>1499</td>\n",
       "      <td>11</td>\n",
       "      <td>612.0</td>\n",
       "      <td>59.0</td>\n",
       "      <td>18.0</td>\n",
       "      <td>35</td>\n",
       "      <td>NaT</td>\n",
       "      <td>Пермь</td>\n",
       "      <td>Гектор</td>\n",
       "      <td>Корнилов</td>\n",
       "      <td>...</td>\n",
       "      <td>50</td>\n",
       "      <td>15360</td>\n",
       "      <td>500</td>\n",
       "      <td>550</td>\n",
       "      <td>200</td>\n",
       "      <td>3</td>\n",
       "      <td>3</td>\n",
       "      <td>smart</td>\n",
       "      <td>15.0</td>\n",
       "      <td>1513.0</td>\n",
       "    </tr>\n",
       "  </tbody>\n",
       "</table>\n",
       "<p>3214 rows × 22 columns</p>\n",
       "</div>"
      ],
      "text/plain": [
       "      user_id  month  minutes_used  messages_used  gb_used  age churn_date  \\\n",
       "0        1000      5         159.0           22.0      3.0   52        NaT   \n",
       "1        1000      6         172.0           60.0     23.0   52        NaT   \n",
       "2        1000      7         340.0           75.0     14.0   52        NaT   \n",
       "3        1000      8         408.0           81.0     14.0   52        NaT   \n",
       "4        1000      9         466.0           57.0     15.0   52        NaT   \n",
       "...       ...    ...           ...            ...      ...  ...        ...   \n",
       "3209     1498     10         247.0           42.0     21.0   68 2018-10-25   \n",
       "3210     1499      9          70.0           11.0      2.0   35        NaT   \n",
       "3211     1499     10         449.0           48.0     18.0   35        NaT   \n",
       "3212     1499     12         492.0           66.0     13.0   35        NaT   \n",
       "3213     1499     11         612.0           59.0     18.0   35        NaT   \n",
       "\n",
       "             city first_name  last_name  ... messages_included  \\\n",
       "0       Краснодар     Рафаил  Верещагин  ...              1000   \n",
       "1       Краснодар     Рафаил  Верещагин  ...              1000   \n",
       "2       Краснодар     Рафаил  Верещагин  ...              1000   \n",
       "3       Краснодар     Рафаил  Верещагин  ...              1000   \n",
       "4       Краснодар     Рафаил  Верещагин  ...              1000   \n",
       "...           ...        ...        ...  ...               ...   \n",
       "3209  Владикавказ   Всеволод    Акимчин  ...                50   \n",
       "3210        Пермь     Гектор   Корнилов  ...                50   \n",
       "3211        Пермь     Гектор   Корнилов  ...                50   \n",
       "3212        Пермь     Гектор   Корнилов  ...                50   \n",
       "3213        Пермь     Гектор   Корнилов  ...                50   \n",
       "\n",
       "     mb_per_month_included  minutes_included  rub_monthly_fee  rub_per_gb  \\\n",
       "0                    30720              3000             1950         150   \n",
       "1                    30720              3000             1950         150   \n",
       "2                    30720              3000             1950         150   \n",
       "3                    30720              3000             1950         150   \n",
       "4                    30720              3000             1950         150   \n",
       "...                    ...               ...              ...         ...   \n",
       "3209                 15360               500              550         200   \n",
       "3210                 15360               500              550         200   \n",
       "3211                 15360               500              550         200   \n",
       "3212                 15360               500              550         200   \n",
       "3213                 15360               500              550         200   \n",
       "\n",
       "      rub_per_message  rub_per_minute  tariff_name  gb_included revenue  \n",
       "0                   1               1        ultra         30.0  1950.0  \n",
       "1                   1               1        ultra         30.0  1950.0  \n",
       "2                   1               1        ultra         30.0  1950.0  \n",
       "3                   1               1        ultra         30.0  1950.0  \n",
       "4                   1               1        ultra         30.0  1950.0  \n",
       "...               ...             ...          ...          ...     ...  \n",
       "3209                3               3        smart         15.0  1750.0  \n",
       "3210                3               3        smart         15.0   550.0  \n",
       "3211                3               3        smart         15.0  1150.0  \n",
       "3212                3               3        smart         15.0   598.0  \n",
       "3213                3               3        smart         15.0  1513.0  \n",
       "\n",
       "[3214 rows x 22 columns]"
      ]
     },
     "metadata": {},
     "output_type": "display_data"
    },
    {
     "data": {
      "text/plain": [
       "count    3214.000000\n",
       "mean     1529.076229\n",
       "std       798.251091\n",
       "min       550.000000\n",
       "25%       750.000000\n",
       "50%      1653.500000\n",
       "75%      1950.000000\n",
       "max      6770.000000\n",
       "Name: revenue, dtype: float64"
      ]
     },
     "execution_count": 46,
     "metadata": {},
     "output_type": "execute_result"
    }
   ],
   "source": [
    "def revenue_count(row):\n",
    "    fare = row.rub_monthly_fee\n",
    "    if (row.messages_used > row.messages_included):\n",
    "        fare += (row.messages_used - row.messages_included)*row.rub_per_message\n",
    "    if (row.minutes_used > row.minutes_included):\n",
    "        fare += (row.minutes_used - row.minutes_included)*row.rub_per_minute\n",
    "    if (row.gb_used > row.gb_included):\n",
    "        fare += (row.gb_used - row.gb_included)*row.rub_per_gb\n",
    "    return round(fare,2)\n",
    "\n",
    "user_overall['revenue'] = user_overall.apply(revenue_count, axis=1)\n",
    "\n",
    "# Проверка\n",
    "display(user_overall)\n",
    "user_overall['revenue'].describe()"
   ]
  },
  {
   "cell_type": "markdown",
   "id": "c50ab0a8",
   "metadata": {},
   "source": [
    "Столбец успешно добавлен в обе таблицы, можно двигаться дальше.\n",
    "\n",
    "#### Выручка сверх стоимости тарифа\n",
    "\n",
    "Посчитаем выручку `'extra_revenue'`, полученную для каждого абонента, сверх базовой стоимости тарифа, вычтя из общей выручки `'revenue'` стоимость тарифа. "
   ]
  },
  {
   "cell_type": "code",
   "execution_count": 47,
   "id": "2c4148be",
   "metadata": {},
   "outputs": [
    {
     "data": {
      "text/plain": [
       "count    3214.000000\n",
       "mean      550.015868\n",
       "std       767.771509\n",
       "min         0.000000\n",
       "25%         0.000000\n",
       "50%       163.500000\n",
       "75%       938.000000\n",
       "max      6220.000000\n",
       "Name: extra_revenue, dtype: float64"
      ]
     },
     "execution_count": 47,
     "metadata": {},
     "output_type": "execute_result"
    }
   ],
   "source": [
    "user_overall['extra_revenue'] = user_overall['revenue'] - user_overall['rub_monthly_fee'] \n",
    "\n",
    "# Проверка\n",
    "user_overall['extra_revenue'].describe()"
   ]
  },
  {
   "cell_type": "markdown",
   "id": "1c14ebe3",
   "metadata": {},
   "source": [
    "### Распределение тарифов по городу проживания абонента "
   ]
  },
  {
   "cell_type": "markdown",
   "id": "40e9da5a",
   "metadata": {},
   "source": [
    "Выведем распределение пользователей по тарифам в Москве и других регионах."
   ]
  },
  {
   "cell_type": "code",
   "execution_count": 48,
   "id": "721416cd",
   "metadata": {},
   "outputs": [
    {
     "data": {
      "text/html": [
       "<div>\n",
       "<style scoped>\n",
       "    .dataframe tbody tr th:only-of-type {\n",
       "        vertical-align: middle;\n",
       "    }\n",
       "\n",
       "    .dataframe tbody tr th {\n",
       "        vertical-align: top;\n",
       "    }\n",
       "\n",
       "    .dataframe thead th {\n",
       "        text-align: right;\n",
       "    }\n",
       "</style>\n",
       "<table border=\"1\" class=\"dataframe\">\n",
       "  <thead>\n",
       "    <tr style=\"text-align: right;\">\n",
       "      <th></th>\n",
       "      <th>Тариф</th>\n",
       "      <th>Smart</th>\n",
       "      <th>Ultra</th>\n",
       "    </tr>\n",
       "  </thead>\n",
       "  <tbody>\n",
       "    <tr>\n",
       "      <th>0</th>\n",
       "      <td>Количество пользователей в Москве</td>\n",
       "      <td>67.00</td>\n",
       "      <td>32.00</td>\n",
       "    </tr>\n",
       "    <tr>\n",
       "      <th>1</th>\n",
       "      <td>Количество пользователей в других регионах</td>\n",
       "      <td>283.00</td>\n",
       "      <td>116.00</td>\n",
       "    </tr>\n",
       "    <tr>\n",
       "      <th>2</th>\n",
       "      <td>Доля пользователей в Москве</td>\n",
       "      <td>19.14</td>\n",
       "      <td>21.62</td>\n",
       "    </tr>\n",
       "    <tr>\n",
       "      <th>3</th>\n",
       "      <td>Доля пользователей в других регионах</td>\n",
       "      <td>80.86</td>\n",
       "      <td>78.38</td>\n",
       "    </tr>\n",
       "  </tbody>\n",
       "</table>\n",
       "</div>"
      ],
      "text/plain": [
       "                                        Тариф   Smart   Ultra\n",
       "0           Количество пользователей в Москве   67.00   32.00\n",
       "1  Количество пользователей в других регионах  283.00  116.00\n",
       "2                 Доля пользователей в Москве   19.14   21.62\n",
       "3        Доля пользователей в других регионах   80.86   78.38"
      ]
     },
     "execution_count": 48,
     "metadata": {},
     "output_type": "execute_result"
    }
   ],
   "source": [
    "tariff_region_vocab = {\n",
    "    'Тариф': [\n",
    "        'Количество пользователей в Москве', \n",
    "        'Количество пользователей в других регионах', \n",
    "        'Доля пользователей в Москве', \n",
    "        'Доля пользователей в других регионах'\n",
    "    ],\n",
    "    'Smart': [\n",
    "        user_overall.query(\n",
    "            'city==\"Москва\" & tariff==\"smart\"'\n",
    "        )['user_id'].nunique(),\n",
    "        \n",
    "        user_overall.query(\n",
    "            'city!=\"Москва\" & tariff==\"smart\"'\n",
    "        )['user_id'].nunique(),\n",
    "        \n",
    "        (100 * user_overall.query(\n",
    "            'city==\"Москва\" & tariff==\"smart\"'\n",
    "        )['user_id'].nunique()) / user_overall.query(\n",
    "            'tariff==\"smart\"'\n",
    "        )['user_id'].nunique(),\n",
    "        \n",
    "        (100 * user_overall.query(\n",
    "            'city!=\"Москва\" & tariff==\"smart\"'\n",
    "        )['user_id'].nunique()) / user_overall.query(\n",
    "            'tariff==\"smart\"'\n",
    "        )['user_id'].nunique()\n",
    "    ],\n",
    "    'Ultra': [\n",
    "        user_overall.query(\n",
    "            'city==\"Москва\" & tariff==\"ultra\"'\n",
    "        )['user_id'].nunique(),\n",
    "        \n",
    "        user_overall.query(\n",
    "            'city!=\"Москва\" & tariff==\"ultra\"'\n",
    "        )['user_id'].nunique(),\n",
    "        \n",
    "        (100 * user_overall.query(\n",
    "            'city==\"Москва\" & tariff==\"ultra\"'\n",
    "        )['user_id'].nunique()) / user_overall.query(\n",
    "            'tariff==\"ultra\"'\n",
    "        )['user_id'].nunique(),\n",
    "        \n",
    "        (100 * user_overall.query(\n",
    "            'city!=\"Москва\" & tariff==\"ultra\"'\n",
    "        )['user_id'].nunique()) / user_overall.query(\n",
    "            'tariff==\"ultra\"'\n",
    "        )['user_id'].nunique()\n",
    "    ]}\n",
    "\n",
    "tariff_region_df = pd.DataFrame(data=tariff_region_vocab)\n",
    "tariff_region_df.round(2)"
   ]
  },
  {
   "cell_type": "markdown",
   "id": "9f7cac5c",
   "metadata": {},
   "source": [
    "Можно отметить, что тариф _**Smart**_ более популярен среди пользователей как в Москве, так и в других регионах. В Москве доля пользователей тарифа _**Ultra**_ несколько больше, чем в регионах, однако эта разница незначительна.\n",
    "\n",
    "### Анализ поведения пользователей тарифа _**Smart**_\n",
    "\n",
    "Проанализируем данные в таблице `user_overall_smart`."
   ]
  },
  {
   "cell_type": "code",
   "execution_count": 49,
   "id": "cc0ee1f0",
   "metadata": {},
   "outputs": [
    {
     "data": {
      "text/html": [
       "<div>\n",
       "<style scoped>\n",
       "    .dataframe tbody tr th:only-of-type {\n",
       "        vertical-align: middle;\n",
       "    }\n",
       "\n",
       "    .dataframe tbody tr th {\n",
       "        vertical-align: top;\n",
       "    }\n",
       "\n",
       "    .dataframe thead th {\n",
       "        text-align: right;\n",
       "    }\n",
       "</style>\n",
       "<table border=\"1\" class=\"dataframe\">\n",
       "  <thead>\n",
       "    <tr style=\"text-align: right;\">\n",
       "      <th></th>\n",
       "      <th>minutes_used</th>\n",
       "      <th>messages_used</th>\n",
       "      <th>gb_used</th>\n",
       "    </tr>\n",
       "  </thead>\n",
       "  <tbody>\n",
       "    <tr>\n",
       "      <th>count</th>\n",
       "      <td>2229.00</td>\n",
       "      <td>2229.00</td>\n",
       "      <td>2229.00</td>\n",
       "    </tr>\n",
       "    <tr>\n",
       "      <th>mean</th>\n",
       "      <td>417.93</td>\n",
       "      <td>33.38</td>\n",
       "      <td>16.33</td>\n",
       "    </tr>\n",
       "    <tr>\n",
       "      <th>std</th>\n",
       "      <td>190.31</td>\n",
       "      <td>28.23</td>\n",
       "      <td>5.75</td>\n",
       "    </tr>\n",
       "    <tr>\n",
       "      <th>min</th>\n",
       "      <td>0.00</td>\n",
       "      <td>0.00</td>\n",
       "      <td>0.00</td>\n",
       "    </tr>\n",
       "    <tr>\n",
       "      <th>25%</th>\n",
       "      <td>282.00</td>\n",
       "      <td>10.00</td>\n",
       "      <td>13.00</td>\n",
       "    </tr>\n",
       "    <tr>\n",
       "      <th>50%</th>\n",
       "      <td>422.00</td>\n",
       "      <td>28.00</td>\n",
       "      <td>17.00</td>\n",
       "    </tr>\n",
       "    <tr>\n",
       "      <th>75%</th>\n",
       "      <td>545.00</td>\n",
       "      <td>51.00</td>\n",
       "      <td>20.00</td>\n",
       "    </tr>\n",
       "    <tr>\n",
       "      <th>max</th>\n",
       "      <td>1435.00</td>\n",
       "      <td>143.00</td>\n",
       "      <td>38.00</td>\n",
       "    </tr>\n",
       "  </tbody>\n",
       "</table>\n",
       "</div>"
      ],
      "text/plain": [
       "       minutes_used  messages_used  gb_used\n",
       "count       2229.00        2229.00  2229.00\n",
       "mean         417.93          33.38    16.33\n",
       "std          190.31          28.23     5.75\n",
       "min            0.00           0.00     0.00\n",
       "25%          282.00          10.00    13.00\n",
       "50%          422.00          28.00    17.00\n",
       "75%          545.00          51.00    20.00\n",
       "max         1435.00         143.00    38.00"
      ]
     },
     "execution_count": 49,
     "metadata": {},
     "output_type": "execute_result"
    }
   ],
   "source": [
    "user_overall.query(\n",
    "    'tariff==\"smart\"'\n",
    ")[[\n",
    "    'minutes_used', \n",
    "    'messages_used',\n",
    "    'gb_used'\n",
    "]].describe().round(2)"
   ]
  },
  {
   "cell_type": "markdown",
   "id": "d6866771",
   "metadata": {},
   "source": [
    "Абоненты тарифа _**Smart**_ в среднем в месяц используют **418 минут**, то есть чуть менее 14 минут в день. Поскольку медианное значение для этого параметра больше среднего, его распределение можно назвать **смещенным влево**.\n",
    "\n",
    "Среднее количество отправленных сообщений в месяц составляет **33**, то есть 1 сообщение в день. Медианное значение здесь меньше среднего, поэтому распределение данных **смещено вправо**.\n",
    "\n",
    "Средний объем использованного интернет-трафика в месяц для абонентов тарифа _**Smart**_ составляет **16.3 Гб**, то есть около 550 Мб в день. Среднее для этого параметра меньше медианного значения, что свидетельствует о **смещенности рапределения влево**.\n",
    "\n",
    "Однако стоит отметить, что для описанных выше данных разница между средним и медианным значениями незначительна, поэтому и **смещение распределения нельзя назвать сильным**.\n",
    "\n",
    "### Анализ поведения пользователей тарифа _**Ultra**_\n",
    "\n",
    "Проанализируем данные в таблице `user_overall_ultra`."
   ]
  },
  {
   "cell_type": "code",
   "execution_count": 50,
   "id": "ebfcb396",
   "metadata": {},
   "outputs": [
    {
     "data": {
      "text/html": [
       "<div>\n",
       "<style scoped>\n",
       "    .dataframe tbody tr th:only-of-type {\n",
       "        vertical-align: middle;\n",
       "    }\n",
       "\n",
       "    .dataframe tbody tr th {\n",
       "        vertical-align: top;\n",
       "    }\n",
       "\n",
       "    .dataframe thead th {\n",
       "        text-align: right;\n",
       "    }\n",
       "</style>\n",
       "<table border=\"1\" class=\"dataframe\">\n",
       "  <thead>\n",
       "    <tr style=\"text-align: right;\">\n",
       "      <th></th>\n",
       "      <th>minutes_used</th>\n",
       "      <th>messages_used</th>\n",
       "      <th>gb_used</th>\n",
       "    </tr>\n",
       "  </thead>\n",
       "  <tbody>\n",
       "    <tr>\n",
       "      <th>count</th>\n",
       "      <td>985.00</td>\n",
       "      <td>985.00</td>\n",
       "      <td>985.00</td>\n",
       "    </tr>\n",
       "    <tr>\n",
       "      <th>mean</th>\n",
       "      <td>526.62</td>\n",
       "      <td>49.36</td>\n",
       "      <td>19.49</td>\n",
       "    </tr>\n",
       "    <tr>\n",
       "      <th>std</th>\n",
       "      <td>317.61</td>\n",
       "      <td>47.80</td>\n",
       "      <td>9.85</td>\n",
       "    </tr>\n",
       "    <tr>\n",
       "      <th>min</th>\n",
       "      <td>0.00</td>\n",
       "      <td>0.00</td>\n",
       "      <td>0.00</td>\n",
       "    </tr>\n",
       "    <tr>\n",
       "      <th>25%</th>\n",
       "      <td>284.00</td>\n",
       "      <td>6.00</td>\n",
       "      <td>12.00</td>\n",
       "    </tr>\n",
       "    <tr>\n",
       "      <th>50%</th>\n",
       "      <td>518.00</td>\n",
       "      <td>38.00</td>\n",
       "      <td>19.00</td>\n",
       "    </tr>\n",
       "    <tr>\n",
       "      <th>75%</th>\n",
       "      <td>752.00</td>\n",
       "      <td>79.00</td>\n",
       "      <td>27.00</td>\n",
       "    </tr>\n",
       "    <tr>\n",
       "      <th>max</th>\n",
       "      <td>1673.00</td>\n",
       "      <td>224.00</td>\n",
       "      <td>49.00</td>\n",
       "    </tr>\n",
       "  </tbody>\n",
       "</table>\n",
       "</div>"
      ],
      "text/plain": [
       "       minutes_used  messages_used  gb_used\n",
       "count        985.00         985.00   985.00\n",
       "mean         526.62          49.36    19.49\n",
       "std          317.61          47.80     9.85\n",
       "min            0.00           0.00     0.00\n",
       "25%          284.00           6.00    12.00\n",
       "50%          518.00          38.00    19.00\n",
       "75%          752.00          79.00    27.00\n",
       "max         1673.00         224.00    49.00"
      ]
     },
     "execution_count": 50,
     "metadata": {},
     "output_type": "execute_result"
    }
   ],
   "source": [
    "user_overall.query(\n",
    "    'tariff==\"ultra\"'\n",
    ")[[\n",
    "    'minutes_used', \n",
    "    'messages_used',\n",
    "    'gb_used'\n",
    "]].describe().round(2)"
   ]
  },
  {
   "cell_type": "markdown",
   "id": "0614bd0a",
   "metadata": {},
   "source": [
    "Абоненты тарифа _**Ultra**_ в среднем в месяц используют **527 минут**, то есть почти 17.5 минут в день. Поскольку медианное значение для этого параметра меньше среднего, его распределение можно назвать **смещенным вправо**.\n",
    "\n",
    "Среднее количество отправленных сообщений в месяц составляет **49**, то есть 1-2 сообщения в день. Медианное значение здесь меньше среднего, поэтому распределение данных **смещено вправо**.\n",
    "\n",
    "Средний объем использованного интернет-трафика в месяц для абонентов тарифа _**Smart**_ составляет **19.5 Гб**, то есть около 550 Мб в день. Среднее для этого параметра также больше медианного значения, что свидетельствует о **смещенности рапределения вправо**.\n",
    "\n",
    "### Сравнительный анализ поведения абонентов обоих тарифов\n",
    "\n",
    "Для сравнительного анализа выведем диаграммы размаха параметров `'minutes_used'`, `'messages_used'` и `'gb_used'` для обоих тарифов, а также проанализируем общую информацию о столбцах с омощью функции `describe()`.\n",
    "\n",
    "#### Количество использованных минут `'minutes_used'`\n",
    "\n",
    "Построим диаграммы размаха для столбца `'minutes_used'` для пользователей тарифа **Smart** и тарифа **Ultra**."
   ]
  },
  {
   "cell_type": "code",
   "execution_count": 51,
   "id": "f2ecdc95",
   "metadata": {},
   "outputs": [
    {
     "data": {
      "image/png": "[encoded data removed]",
      "text/plain": [
       "<Figure size 1080x108 with 1 Axes>"
      ]
     },
     "metadata": {
      "needs_background": "light"
     },
     "output_type": "display_data"
    }
   ],
   "source": [
    "user_overall.query(\n",
    "    'tariff==\"smart\"'\n",
    ").boxplot(\n",
    "    column='minutes_used', \n",
    "    figsize = (15,1.5), \n",
    "    vert = 0\n",
    ")\n",
    "\n",
    "plt.title(\n",
    "    'Распределение количества использованных минут для пользователей тарифа Smart'\n",
    ")\n",
    "\n",
    "plt.show()"
   ]
  },
  {
   "cell_type": "code",
   "execution_count": 52,
   "id": "b7e41d48",
   "metadata": {},
   "outputs": [
    {
     "data": {
      "image/png": "[encoded data removed]",
      "text/plain": [
       "<Figure size 1080x108 with 1 Axes>"
      ]
     },
     "metadata": {
      "needs_background": "light"
     },
     "output_type": "display_data"
    }
   ],
   "source": [
    "user_overall.query(\n",
    "    'tariff==\"ultra\"'\n",
    ").boxplot(\n",
    "    column='minutes_used', \n",
    "    figsize = (15,1.5), \n",
    "    vert = 0\n",
    ")\n",
    "\n",
    "plt.title(\n",
    "    'Распределение количества использованных минут для пользователей тарифа Ultra'\n",
    ")\n",
    "\n",
    "plt.show()"
   ]
  },
  {
   "cell_type": "markdown",
   "id": "0515f15f",
   "metadata": {},
   "source": [
    "Выведем параметры описательной статистики для этих столбцов."
   ]
  },
  {
   "cell_type": "code",
   "execution_count": 53,
   "id": "cfad3a65",
   "metadata": {},
   "outputs": [
    {
     "data": {
      "text/plain": [
       "count    2229.00\n",
       "mean      417.93\n",
       "std       190.31\n",
       "min         0.00\n",
       "25%       282.00\n",
       "50%       422.00\n",
       "75%       545.00\n",
       "max      1435.00\n",
       "Name: minutes_used, dtype: float64"
      ]
     },
     "execution_count": 53,
     "metadata": {},
     "output_type": "execute_result"
    }
   ],
   "source": [
    "user_overall.query(\n",
    "    'tariff==\"smart\"'\n",
    ")['minutes_used'].describe().round(2)"
   ]
  },
  {
   "cell_type": "code",
   "execution_count": 54,
   "id": "7b6141a7",
   "metadata": {},
   "outputs": [
    {
     "data": {
      "text/plain": [
       "count     985.00\n",
       "mean      526.62\n",
       "std       317.61\n",
       "min         0.00\n",
       "25%       284.00\n",
       "50%       518.00\n",
       "75%       752.00\n",
       "max      1673.00\n",
       "Name: minutes_used, dtype: float64"
      ]
     },
     "execution_count": 54,
     "metadata": {},
     "output_type": "execute_result"
    }
   ],
   "source": [
    "user_overall.query(\n",
    "    'tariff==\"ultra\"'\n",
    ")['minutes_used'].describe().round(2)"
   ]
  },
  {
   "cell_type": "markdown",
   "id": "8c79863f",
   "metadata": {},
   "source": [
    "Построим гистограмму распределения для обоих столбцов."
   ]
  },
  {
   "cell_type": "code",
   "execution_count": 55,
   "id": "bc3d52a7",
   "metadata": {},
   "outputs": [
    {
     "data": {
      "image/png": "[encoded data removed]",
      "text/plain": [
       "<Figure size 1080x432 with 1 Axes>"
      ]
     },
     "metadata": {
      "needs_background": "light"
     },
     "output_type": "display_data"
    }
   ],
   "source": [
    "ax = user_overall.query(\n",
    "    'tariff==\"smart\"'\n",
    ").plot(\n",
    "    kind='hist',\n",
    "    y='minutes_used',\n",
    "    histtype='step',\n",
    "    bins=30,\n",
    "    linewidth=3,\n",
    "    alpha=0.5,\n",
    "    label='Smart',\n",
    "    color='#34A56F',\n",
    "    title = 'Гистограмма распределения среднего количества минут разговора в месяц по 2-м тарифам',\n",
    "    figsize = (15,6)\n",
    ")\n",
    "user_overall.query(\n",
    "    'tariff==\"ultra\"'\n",
    ").plot(\n",
    "    kind='hist',\n",
    "    y='minutes_used',\n",
    "    histtype='step',\n",
    "    bins=30,\n",
    "    linewidth=3,\n",
    "    alpha=0.5,\n",
    "    label='Ultra',\n",
    "    ax=ax,\n",
    "    grid=True,\n",
    "    legend=True,\n",
    ")\n",
    "\n",
    "ax.set_xlabel('Количество минут', fontsize = 12);"
   ]
  },
  {
   "cell_type": "markdown",
   "id": "7b0b2ee8",
   "metadata": {},
   "source": [
    "##### Выводы:\n",
    "\n",
    "* Значения **Q1** для обоих тарифов практически **равны**.\n",
    "* **Среднее значение** для тарифа _Smart_ меньше, чем для тарифа _Ultra_.\n",
    "* **Медианное значение** для тарифа _Smart_ также меньше, чем для тарифа _Ultra_.\n",
    "* **Q3** для тарифа _Ultra_ больше, чем для тарифа _Smart_, а следовательно и **межквартильный размах** также для этого тарифа больше.\n",
    "* Распределение для тарифа _Smart_ смещено **влево**, для тарифа _Ultra_ - **вправо**.\n",
    "* Смещение распределения для тарифа _Ultra_ выражено сильнее, чем для тарифа _Smart_.\n",
    "* Количество выбросов на диаграмме размаха для тарифа _Smart_ больше, чем для тарифа _Ultra_.\n",
    "\n",
    "#### Количество отправленных сообщений `'messages_used'`\n",
    "\n",
    "Построим диаграммы размаха для столбца `'messages_used'` в обеих таблицах."
   ]
  },
  {
   "cell_type": "code",
   "execution_count": 56,
   "id": "e92079da",
   "metadata": {},
   "outputs": [
    {
     "data": {
      "image/png": "[encoded data removed]",
      "text/plain": [
       "<Figure size 1080x108 with 1 Axes>"
      ]
     },
     "metadata": {
      "needs_background": "light"
     },
     "output_type": "display_data"
    }
   ],
   "source": [
    "user_overall.query(\n",
    "    'tariff==\"smart\"'\n",
    ").boxplot(\n",
    "    column='messages_used', \n",
    "    figsize = (15,1.5), \n",
    "    vert = 0\n",
    ")\n",
    "\n",
    "plt.title(\n",
    "    'Распределение количества отправленных сообщений для пользователей тарифа Smart'\n",
    ")\n",
    "\n",
    "plt.show()"
   ]
  },
  {
   "cell_type": "code",
   "execution_count": 57,
   "id": "f4e4418a",
   "metadata": {},
   "outputs": [
    {
     "data": {
      "image/png": "[encoded data removed]",
      "text/plain": [
       "<Figure size 1080x108 with 1 Axes>"
      ]
     },
     "metadata": {
      "needs_background": "light"
     },
     "output_type": "display_data"
    }
   ],
   "source": [
    "user_overall.query(\n",
    "    'tariff==\"ultra\"'\n",
    ").boxplot(\n",
    "    column='messages_used', \n",
    "    figsize = (15,1.5), \n",
    "    vert = 0\n",
    ")\n",
    "\n",
    "plt.title(\n",
    "    'Распределение количества отправленных сообщений для пользователей тарифа Ultra'\n",
    ")\n",
    "\n",
    "plt.show()"
   ]
  },
  {
   "cell_type": "markdown",
   "id": "41f95fd4",
   "metadata": {},
   "source": [
    "Выведем параметры описательной статистики для этих столбцов."
   ]
  },
  {
   "cell_type": "code",
   "execution_count": 58,
   "id": "0503d048",
   "metadata": {},
   "outputs": [
    {
     "data": {
      "text/plain": [
       "count    2229.00\n",
       "mean       33.38\n",
       "std        28.23\n",
       "min         0.00\n",
       "25%        10.00\n",
       "50%        28.00\n",
       "75%        51.00\n",
       "max       143.00\n",
       "Name: messages_used, dtype: float64"
      ]
     },
     "execution_count": 58,
     "metadata": {},
     "output_type": "execute_result"
    }
   ],
   "source": [
    "user_overall.query(\n",
    "    'tariff==\"smart\"'\n",
    ")['messages_used'].describe().round(2)"
   ]
  },
  {
   "cell_type": "code",
   "execution_count": 59,
   "id": "3cd3d217",
   "metadata": {},
   "outputs": [
    {
     "data": {
      "text/plain": [
       "count    985.00\n",
       "mean      49.36\n",
       "std       47.80\n",
       "min        0.00\n",
       "25%        6.00\n",
       "50%       38.00\n",
       "75%       79.00\n",
       "max      224.00\n",
       "Name: messages_used, dtype: float64"
      ]
     },
     "execution_count": 59,
     "metadata": {},
     "output_type": "execute_result"
    }
   ],
   "source": [
    "user_overall.query(\n",
    "    'tariff==\"ultra\"'\n",
    ")['messages_used'].describe().round(2)"
   ]
  },
  {
   "cell_type": "markdown",
   "id": "b53e12d7",
   "metadata": {},
   "source": [
    "Построим гистограмму распределения для обоих столбцов."
   ]
  },
  {
   "cell_type": "code",
   "execution_count": 60,
   "id": "7da1f617",
   "metadata": {},
   "outputs": [
    {
     "data": {
      "image/png": "[encoded data removed]",
      "text/plain": [
       "<Figure size 1080x432 with 1 Axes>"
      ]
     },
     "metadata": {
      "needs_background": "light"
     },
     "output_type": "display_data"
    }
   ],
   "source": [
    "ax = user_overall.query(\n",
    "    'tariff==\"smart\"'\n",
    ").plot(\n",
    "    kind='hist',\n",
    "    y='messages_used',\n",
    "    histtype='step',\n",
    "    bins=30,\n",
    "    linewidth=3,\n",
    "    alpha=0.5,\n",
    "    label='Smart',\n",
    "    color='#34A56F',\n",
    "    title = 'Гистограмма распределения среднего количества сообщений в месяц по 2-м тарифам',\n",
    "    figsize = (15,6)\n",
    ")\n",
    "user_overall.query(\n",
    "    'tariff==\"ultra\"'\n",
    ").plot(\n",
    "    kind='hist',\n",
    "    y='messages_used',\n",
    "    histtype='step',\n",
    "    bins=30,\n",
    "    linewidth=3,\n",
    "    alpha=0.5,\n",
    "    label='Ultra',\n",
    "    ax=ax,\n",
    "    grid=True,\n",
    "    legend=True,\n",
    ") \n",
    "\n",
    "ax.set_xlabel('Количество сообщений в месяц', fontsize = 12);"
   ]
  },
  {
   "cell_type": "markdown",
   "id": "623e6d32",
   "metadata": {},
   "source": [
    "##### Выводы\n",
    "\n",
    "* Значения **Q1** для тарифа _Smart_ больше, чем для тарифа _Ultra_.\n",
    "* **Среднее значение** для тарифа _Smart_ меньше, чем для тарифа _Ultra_.\n",
    "* **Медианное значение** для тарифа _Smart_ также меньше, чем для тарифа _Ultra_.\n",
    "* **Q3** для тарифа _Ultra_ больше, чем для тарифа _Smart_.\n",
    "* **Межквартильный размах** также для тарифа _Ultra_ больше, чем для тарифа _Smart_.\n",
    "* Распределение для обоих тарифов смещено **вправо**, для тарифа _Ultra_ смещение выражено более сильно.\n",
    "* Количество выбросов на диаграмме размаха для тарифа _Smart_ больше, чем для тарифа _Ultra_.\n",
    "\n",
    "#### Объем использованного интернет-трафика `'gb_used'`\n",
    "\n",
    "Построим диаграммы размаха для столбца `'gb_used'` в обеих таблицах."
   ]
  },
  {
   "cell_type": "code",
   "execution_count": 61,
   "id": "34d44aea",
   "metadata": {},
   "outputs": [
    {
     "data": {
      "image/png": "[encoded data removed]",
      "text/plain": [
       "<Figure size 1080x108 with 1 Axes>"
      ]
     },
     "metadata": {
      "needs_background": "light"
     },
     "output_type": "display_data"
    }
   ],
   "source": [
    "user_overall.query(\n",
    "    'tariff==\"smart\"'\n",
    ").boxplot(\n",
    "    column='gb_used', \n",
    "    figsize = (15,1.5), \n",
    "    vert = 0\n",
    ")\n",
    "\n",
    "plt.title(\n",
    "    'Распределение количества использованного интернет-траффика для пользователей тарифа Smart'\n",
    ")\n",
    "\n",
    "plt.show()"
   ]
  },
  {
   "cell_type": "code",
   "execution_count": 62,
   "id": "1070ab07",
   "metadata": {},
   "outputs": [
    {
     "data": {
      "image/png": "[encoded data removed]",
      "text/plain": [
       "<Figure size 1080x108 with 1 Axes>"
      ]
     },
     "metadata": {
      "needs_background": "light"
     },
     "output_type": "display_data"
    }
   ],
   "source": [
    "user_overall.query(\n",
    "    'tariff==\"ultra\"'\n",
    ").boxplot(\n",
    "    column='gb_used', \n",
    "    figsize = (15,1.5), \n",
    "    vert = 0\n",
    ")\n",
    "\n",
    "plt.title(\n",
    "    'Распределение количества использованного интернет-траффика для пользователей тарифа Ultra'\n",
    ")\n",
    "\n",
    "plt.show()"
   ]
  },
  {
   "cell_type": "markdown",
   "id": "722b30f7",
   "metadata": {},
   "source": [
    "Выведем параметры описательной статистики для этих столбцов."
   ]
  },
  {
   "cell_type": "code",
   "execution_count": 63,
   "id": "077f089e",
   "metadata": {},
   "outputs": [
    {
     "data": {
      "text/plain": [
       "count    2229.00\n",
       "mean       16.33\n",
       "std         5.75\n",
       "min         0.00\n",
       "25%        13.00\n",
       "50%        17.00\n",
       "75%        20.00\n",
       "max        38.00\n",
       "Name: gb_used, dtype: float64"
      ]
     },
     "execution_count": 63,
     "metadata": {},
     "output_type": "execute_result"
    }
   ],
   "source": [
    "user_overall.query(\n",
    "    'tariff==\"smart\"'\n",
    ")['gb_used'].describe().round(2)"
   ]
  },
  {
   "cell_type": "code",
   "execution_count": 64,
   "id": "f6c080d3",
   "metadata": {},
   "outputs": [
    {
     "data": {
      "text/plain": [
       "count    985.00\n",
       "mean      19.49\n",
       "std        9.85\n",
       "min        0.00\n",
       "25%       12.00\n",
       "50%       19.00\n",
       "75%       27.00\n",
       "max       49.00\n",
       "Name: gb_used, dtype: float64"
      ]
     },
     "execution_count": 64,
     "metadata": {},
     "output_type": "execute_result"
    }
   ],
   "source": [
    "user_overall.query(\n",
    "    'tariff==\"ultra\"'\n",
    ")['gb_used'].describe().round(2)"
   ]
  },
  {
   "cell_type": "markdown",
   "id": "b09a989d",
   "metadata": {},
   "source": [
    "Построим гистограмму распределения для обоих столбцов."
   ]
  },
  {
   "cell_type": "code",
   "execution_count": 65,
   "id": "c36cb785",
   "metadata": {},
   "outputs": [
    {
     "data": {
      "image/png": "[encoded data removed]",
      "text/plain": [
       "<Figure size 1080x432 with 1 Axes>"
      ]
     },
     "metadata": {
      "needs_background": "light"
     },
     "output_type": "display_data"
    }
   ],
   "source": [
    "ax = user_overall.query(\n",
    "    'tariff==\"smart\"'\n",
    ").plot(\n",
    "    kind='hist',\n",
    "    y='gb_used',\n",
    "    histtype='step',\n",
    "    bins=30,\n",
    "    linewidth=3,\n",
    "    alpha=0.5,\n",
    "    label='Smart',\n",
    "    color='#34A56F',\n",
    "    title = 'Гистограмма распределения среднего объема интернет-трафика в месяц по 2-м тарифам',\n",
    "    figsize = (15,6)\n",
    ")\n",
    "user_overall.query(\n",
    "    'tariff==\"ultra\"'\n",
    ").plot(\n",
    "    kind='hist',\n",
    "    y='gb_used',\n",
    "    histtype='step',\n",
    "    bins=30,\n",
    "    linewidth=3,\n",
    "    alpha=0.5,\n",
    "    label='Ultra',\n",
    "    ax=ax,\n",
    "    grid=True,\n",
    "    legend=True,\n",
    ") \n",
    "ax.set_xlabel('Объем использованного интернет-траффика в месяц, Гб', fontsize = 12);"
   ]
  },
  {
   "cell_type": "markdown",
   "id": "63e328ee",
   "metadata": {},
   "source": [
    "##### Выводы\n",
    "\n",
    "* Значения **Q1** для тарифа _Smart_ больше, чем для тарифа _Ultra_.\n",
    "* **Среднее значение** для тарифа _Smart_ меньше, чем для тарифа _Ultra_.\n",
    "* **Медианное значение** для тарифа _Smart_ также меньше, чем для тарифа _Ultra_.\n",
    "* **Q3** для тарифа _Ultra_ больше, чем для тарифа _Smart_.\n",
    "* **Межквартильный размах** также для тарифа _Ultra_ больше, чем для тарифа _Smart_.\n",
    "* Распределение для обоих тарифов смещено **вправо**, однако для обоих тарифов это смещение незначительно.\n",
    "* Количество выбросов на диаграмме размаха для тарифа _Smart_ больше, чем для тарифа _Ultra_.\n",
    "\n",
    "В целом по результатам сравнительного анализа столбцов `'minutes_used'`, `'messages_used'` и `'gb_used'` можно отметить, что для данных, описывающих поведение абонентов тарифа _Ultra_ характерны более высокие значения среднего и медианы, а также больший межквартильный размах, меньшее количество выбросов и более выраженное смещение распределения вправо.\n",
    "\n",
    "### Расчет дисперсии и стандартного отклонения по столбцам `minutes_used`, `messages_used` и `gb_used` \n",
    "\n",
    "#### Для абонентов тарифа _**Smart**_\n",
    "\n",
    "Поскольку датасет представляяет собой выборку из генеральной совокупности, при расчете дисперсии с помощью функции `np.var()` укажем параметр `ddof=1`. \n",
    "\n",
    "Результат работы функции в таком случае будет представлять собой оценку дисперсии генеральной совокупности по имеющейся выборке. Но поскольку выборка довольная большая и случайная, дисперсия по ней будет близка к реальной дисперсии генеральной совокупности."
   ]
  },
  {
   "cell_type": "code",
   "execution_count": 66,
   "id": "ac47fdfb",
   "metadata": {},
   "outputs": [
    {
     "data": {
      "text/html": [
       "<div>\n",
       "<style scoped>\n",
       "    .dataframe tbody tr th:only-of-type {\n",
       "        vertical-align: middle;\n",
       "    }\n",
       "\n",
       "    .dataframe tbody tr th {\n",
       "        vertical-align: top;\n",
       "    }\n",
       "\n",
       "    .dataframe thead th {\n",
       "        text-align: right;\n",
       "    }\n",
       "</style>\n",
       "<table border=\"1\" class=\"dataframe\">\n",
       "  <thead>\n",
       "    <tr style=\"text-align: right;\">\n",
       "      <th></th>\n",
       "      <th>Параметр Smart</th>\n",
       "      <th>Дисперсия</th>\n",
       "      <th>Стандартное отклонение</th>\n",
       "    </tr>\n",
       "  </thead>\n",
       "  <tbody>\n",
       "    <tr>\n",
       "      <th>0</th>\n",
       "      <td>Минуты</td>\n",
       "      <td>36219.32</td>\n",
       "      <td>190.27</td>\n",
       "    </tr>\n",
       "    <tr>\n",
       "      <th>1</th>\n",
       "      <td>Сообщения</td>\n",
       "      <td>796.81</td>\n",
       "      <td>28.22</td>\n",
       "    </tr>\n",
       "    <tr>\n",
       "      <th>2</th>\n",
       "      <td>Интернет</td>\n",
       "      <td>33.03</td>\n",
       "      <td>5.75</td>\n",
       "    </tr>\n",
       "  </tbody>\n",
       "</table>\n",
       "</div>"
      ],
      "text/plain": [
       "  Параметр Smart  Дисперсия  Стандартное отклонение\n",
       "0         Минуты   36219.32                  190.27\n",
       "1      Сообщения     796.81                   28.22\n",
       "2       Интернет      33.03                    5.75"
      ]
     },
     "execution_count": 66,
     "metadata": {},
     "output_type": "execute_result"
    }
   ],
   "source": [
    "smart_var_vocab = {\n",
    "    'Параметр Smart': [\n",
    "        'Минуты', \n",
    "        'Сообщения',\n",
    "        'Интернет'\n",
    "    ],\n",
    "    'Дисперсия': [\n",
    "        np.var(\n",
    "            user_overall.query(\n",
    "                'tariff==\"smart\"'\n",
    "            )['minutes_used'], \n",
    "            ddof=1\n",
    "        ),\n",
    "        np.var(\n",
    "            user_overall.query(\n",
    "                'tariff==\"smart\"'\n",
    "            )['messages_used'], \n",
    "            ddof=1\n",
    "        ),\n",
    "        np.var(\n",
    "            user_overall.query(\n",
    "                'tariff==\"smart\"'\n",
    "            )['gb_used'], \n",
    "            ddof=1\n",
    "        )\n",
    "    ],\n",
    "    'Стандартное отклонение': [\n",
    "        np.std(user_overall.query(\n",
    "                'tariff==\"smart\"'\n",
    "            )['minutes_used']),\n",
    "        np.std(user_overall.query(\n",
    "                'tariff==\"smart\"'\n",
    "            )['messages_used']),\n",
    "        np.std(user_overall.query(\n",
    "                'tariff==\"smart\"'\n",
    "            )['gb_used'])\n",
    "    ]}\n",
    "\n",
    "smart_var_df = pd.DataFrame(\n",
    "    data=smart_var_vocab\n",
    ")\n",
    "smart_var_df.round(2)"
   ]
  },
  {
   "cell_type": "markdown",
   "id": "349a784d",
   "metadata": {},
   "source": [
    "#### Для абонентов тарифа _**Ultra**_\n",
    "\n",
    "Применим аналогичный подход к расчету дисперсии и стандартного отклонения для таблицы `ultra_var_vocab`."
   ]
  },
  {
   "cell_type": "code",
   "execution_count": 67,
   "id": "8f2f3b6a",
   "metadata": {},
   "outputs": [
    {
     "data": {
      "text/html": [
       "<div>\n",
       "<style scoped>\n",
       "    .dataframe tbody tr th:only-of-type {\n",
       "        vertical-align: middle;\n",
       "    }\n",
       "\n",
       "    .dataframe tbody tr th {\n",
       "        vertical-align: top;\n",
       "    }\n",
       "\n",
       "    .dataframe thead th {\n",
       "        text-align: right;\n",
       "    }\n",
       "</style>\n",
       "<table border=\"1\" class=\"dataframe\">\n",
       "  <thead>\n",
       "    <tr style=\"text-align: right;\">\n",
       "      <th></th>\n",
       "      <th>Параметр Ultra</th>\n",
       "      <th>Дисперсия</th>\n",
       "      <th>Стандартное отклонение</th>\n",
       "    </tr>\n",
       "  </thead>\n",
       "  <tbody>\n",
       "    <tr>\n",
       "      <th>0</th>\n",
       "      <td>Минуты</td>\n",
       "      <td>100873.63</td>\n",
       "      <td>317.44</td>\n",
       "    </tr>\n",
       "    <tr>\n",
       "      <th>1</th>\n",
       "      <td>Сообщения</td>\n",
       "      <td>2285.27</td>\n",
       "      <td>47.78</td>\n",
       "    </tr>\n",
       "    <tr>\n",
       "      <th>2</th>\n",
       "      <td>Интернет</td>\n",
       "      <td>97.09</td>\n",
       "      <td>9.85</td>\n",
       "    </tr>\n",
       "  </tbody>\n",
       "</table>\n",
       "</div>"
      ],
      "text/plain": [
       "  Параметр Ultra  Дисперсия  Стандартное отклонение\n",
       "0         Минуты  100873.63                  317.44\n",
       "1      Сообщения    2285.27                   47.78\n",
       "2       Интернет      97.09                    9.85"
      ]
     },
     "execution_count": 67,
     "metadata": {},
     "output_type": "execute_result"
    }
   ],
   "source": [
    "ultra_var_vocab = {\n",
    "    'Параметр Ultra': [\n",
    "        'Минуты', \n",
    "        'Сообщения',\n",
    "        'Интернет'\n",
    "    ],\n",
    "    'Дисперсия': [\n",
    "        np.var(\n",
    "            user_overall.query(\n",
    "                'tariff==\"ultra\"'\n",
    "            )['minutes_used'], \n",
    "            ddof=1\n",
    "        ),\n",
    "        np.var(\n",
    "            user_overall.query(\n",
    "                'tariff==\"ultra\"'\n",
    "            )['messages_used'], \n",
    "            ddof=1\n",
    "        ),\n",
    "        np.var(\n",
    "            user_overall.query(\n",
    "                'tariff==\"ultra\"'\n",
    "            )['gb_used'], \n",
    "            ddof=1\n",
    "        )],\n",
    "    'Стандартное отклонение': [\n",
    "        np.std(user_overall.query(\n",
    "                'tariff==\"ultra\"'\n",
    "            )['minutes_used']),\n",
    "        np.std(user_overall.query(\n",
    "                'tariff==\"ultra\"'\n",
    "            )['messages_used']),\n",
    "        np.std(user_overall.query(\n",
    "                'tariff==\"ultra\"'\n",
    "            )['gb_used'])\n",
    "    ]}\n",
    "\n",
    "ultra_var_df = pd.DataFrame(\n",
    "    data=ultra_var_vocab\n",
    ")\n",
    "ultra_var_df.round(2)"
   ]
  },
  {
   "cell_type": "markdown",
   "id": "82d5d3a3",
   "metadata": {},
   "source": [
    "Поскольку дисперсия и стандартное отклонение учитывают все данные в массиве, а межквартильный размах - только 50% данных, тот факт, что для данных по тарифу _**Ultra**_ и IQR, и дисперсия, и стандартное отклонение больше, чем те же параметры для тарифа _**Smart**_ свидетельствует о больших колебаниях данных вокруг среднего, а следовательно - меньшей однородности данных.\n",
    "\n",
    "### Сравнительный анализ данных о выручке для тарифов _Smart_ и _Ultra_\n",
    "\n",
    "Для сравнительного анализа выручки для каждого из тарифов, используем функцию `describe()`, а также диаграммы размаха и гистограммы."
   ]
  },
  {
   "cell_type": "code",
   "execution_count": 68,
   "id": "2f7a95c5",
   "metadata": {},
   "outputs": [
    {
     "data": {
      "text/plain": [
       "count    2229.00\n",
       "mean     1289.97\n",
       "std       818.40\n",
       "min       550.00\n",
       "25%       550.00\n",
       "50%      1023.00\n",
       "75%      1750.00\n",
       "max      6770.00\n",
       "Name: revenue, dtype: float64"
      ]
     },
     "execution_count": 68,
     "metadata": {},
     "output_type": "execute_result"
    }
   ],
   "source": [
    "user_overall.query(\n",
    "    'tariff==\"smart\"'\n",
    ")[\n",
    "    'revenue'\n",
    "].describe().round(2)"
   ]
  },
  {
   "cell_type": "code",
   "execution_count": 69,
   "id": "7bc8b10f",
   "metadata": {},
   "outputs": [
    {
     "data": {
      "text/plain": [
       "count     985.00\n",
       "mean     2070.15\n",
       "std       376.19\n",
       "min      1950.00\n",
       "25%      1950.00\n",
       "50%      1950.00\n",
       "75%      1950.00\n",
       "max      4800.00\n",
       "Name: revenue, dtype: float64"
      ]
     },
     "execution_count": 69,
     "metadata": {},
     "output_type": "execute_result"
    }
   ],
   "source": [
    "user_overall.query(\n",
    "    'tariff==\"ultra\"'\n",
    ")[\n",
    "    'revenue'\n",
    "].describe().round(2)"
   ]
  },
  {
   "cell_type": "markdown",
   "id": "3f9ca992",
   "metadata": {},
   "source": [
    "Построим гистограмму распределения для общей выручки для обоих тарифов."
   ]
  },
  {
   "cell_type": "code",
   "execution_count": 70,
   "id": "29262e21",
   "metadata": {},
   "outputs": [
    {
     "data": {
      "image/png": "[encoded data removed]",
      "text/plain": [
       "<Figure size 1080x432 with 1 Axes>"
      ]
     },
     "metadata": {
      "needs_background": "light"
     },
     "output_type": "display_data"
    }
   ],
   "source": [
    "ax = user_overall.query(\n",
    "    'tariff==\"smart\"'\n",
    ").plot(\n",
    "    kind='hist',\n",
    "    y='revenue',\n",
    "    histtype='step',\n",
    "    bins=30,\n",
    "    linewidth=3,\n",
    "    alpha=0.5,\n",
    "    label='Smart',\n",
    "    color='#34A56F',\n",
    "    title = 'Гистограмма распределения средней общей выручки в месяц по 2-м тарифам',\n",
    "    figsize = (15,6)\n",
    ")\n",
    "user_overall.query(\n",
    "    'tariff==\"ultra\"'\n",
    ").plot(\n",
    "    kind='hist',\n",
    "    y='revenue',\n",
    "    histtype='step',\n",
    "    bins=30,\n",
    "    linewidth=3,\n",
    "    alpha=0.5,\n",
    "    label='Ultra',\n",
    "    ax=ax,\n",
    "    grid=True,\n",
    "    legend=True,\n",
    ") \n",
    "\n",
    "ax.set_xlabel(\n",
    "    'Средняя вручка в месяц, руб', \n",
    "    fontsize = 12\n",
    ");"
   ]
  },
  {
   "cell_type": "markdown",
   "id": "dc7ed492",
   "metadata": {},
   "source": [
    "Пики на гистограмме средней выручки для обоих тарифов соответствуют значениям базовой стоимости - _1950 рублей_ для тарифа _**Ultra**_ и _550 рублей_ для тарифа _**Smart**_.\n",
    "\n",
    "Посмотрим на гистограммы выручки, полученной сверх базовой стоимости тарифного плана."
   ]
  },
  {
   "cell_type": "code",
   "execution_count": 71,
   "id": "c0b4a04e",
   "metadata": {},
   "outputs": [
    {
     "data": {
      "image/png": "[encoded data removed]",
      "text/plain": [
       "<Figure size 1080x432 with 1 Axes>"
      ]
     },
     "metadata": {
      "needs_background": "light"
     },
     "output_type": "display_data"
    }
   ],
   "source": [
    "ax = user_overall.query(\n",
    "    'tariff==\"smart\"'\n",
    ").plot(\n",
    "    kind='hist',\n",
    "    y='extra_revenue',\n",
    "    histtype='step',\n",
    "    bins=30,\n",
    "    linewidth=3,\n",
    "    alpha=0.5,\n",
    "    label='Smart',\n",
    "    color='#34A56F',\n",
    "    title = 'Гистограмма распределения средней выручки сверх базовой стоимости тарифа в месяц по 2-м тарифам',\n",
    "    figsize = (15,6)\n",
    ")\n",
    "user_overall.query(\n",
    "    'tariff==\"ultra\"'\n",
    ").plot(\n",
    "    kind='hist',\n",
    "    y='extra_revenue',\n",
    "    histtype='step',\n",
    "    bins=30,\n",
    "    linewidth=3,\n",
    "    alpha=0.5,\n",
    "    label='Ultra',\n",
    "    ax=ax,\n",
    "    grid=True,\n",
    "    legend=True,\n",
    ") \n",
    "\n",
    "ax.set_xlabel(\n",
    "    'Средней выручки сверх базовой стоимости тарифа, руб', \n",
    "    fontsize = 12\n",
    ");"
   ]
  },
  {
   "cell_type": "code",
   "execution_count": 72,
   "id": "b6ed466e",
   "metadata": {},
   "outputs": [
    {
     "data": {
      "text/plain": [
       "count    2229.00\n",
       "mean      739.97\n",
       "std       818.40\n",
       "min         0.00\n",
       "25%         0.00\n",
       "50%       473.00\n",
       "75%      1200.00\n",
       "max      6220.00\n",
       "Name: extra_revenue, dtype: float64"
      ]
     },
     "execution_count": 72,
     "metadata": {},
     "output_type": "execute_result"
    }
   ],
   "source": [
    "user_overall.query(\n",
    "    'tariff==\"smart\"'\n",
    ")[\n",
    "    'extra_revenue'\n",
    "].describe().round(2)"
   ]
  },
  {
   "cell_type": "code",
   "execution_count": 73,
   "id": "165d0758",
   "metadata": {},
   "outputs": [
    {
     "data": {
      "text/plain": [
       "count     985.00\n",
       "mean      120.15\n",
       "std       376.19\n",
       "min         0.00\n",
       "25%         0.00\n",
       "50%         0.00\n",
       "75%         0.00\n",
       "max      2850.00\n",
       "Name: extra_revenue, dtype: float64"
      ]
     },
     "execution_count": 73,
     "metadata": {},
     "output_type": "execute_result"
    }
   ],
   "source": [
    "user_overall.query(\n",
    "    'tariff==\"ultra\"'\n",
    ")[\n",
    "    'extra_revenue'\n",
    "].describe().round(2)"
   ]
  },
  {
   "cell_type": "markdown",
   "id": "a7fbd41e",
   "metadata": {},
   "source": [
    "#### Выводы\n",
    "\n",
    "* Значения **Q1** для общей выручки для тарифа _Smart_ больше, чем для тарифа _Ultra_.\n",
    "* **Среднее значение** для выручки сверх базовой стоимости для тарифа _Smart_ больше, чем для тарифа _Ultra_, однако общая средняя выручка для тарифа _Ultra_ больше.\n",
    "* **Медианное значение** общей выручки для тарифа _Smart_ также меньше, чем для тарифа _Ultra_.\n",
    "* **Q3** для тарифа _Ultra_ больше, чем для тарифа _Smart_.\n",
    "* Распределение для общей выручки для обоих тарифов смещено **вправо**. Смещение для тарифа _Smart_ выражено более сильно.\n",
    "* Более 75% абонентов тарифа _Ultra_ не оплачивали услуги сверх лимита базового тарифного плана, в то время как среди пользователей тарифа _Smart_ в лимит \"уложились\" меньше половины пользователей."
   ]
  },
  {
   "cell_type": "markdown",
   "id": "b68a6b0d",
   "metadata": {},
   "source": [
    "<div style=\"border-radius: 15px;border:solid navy 2px; padding: 20px\"> \n",
    "\n",
    "### Вывод\n",
    "\n",
    "* В таблицы добавлены столбцы, содержащие информацию о **месяце** звонка, интернет-сессии и отправки сообщения абонентом.\n",
    "    \n",
    "    \n",
    "* В таблицу `Internet` добавлен столбец `gb_used` с объемом использованного пользователем трафика в **гигабайтах**\n",
    "    \n",
    "    \n",
    "* Данные в таблицах `Calls`, `Internet` и `Messages` **сгруппированы** по идентификационному номеру абонента и месяцу. Данные объединены в один датафрейм и разделены в соответствии с тарифом, используемым абонентом.\n",
    "    \n",
    "    \n",
    "* В таблицы добавлены столбцы с **общей выручкой** и выручкой сверх базовой стоимости тарифного плана.\n",
    "    \n",
    "    \n",
    "* Проведен анализ поведения пользователей тарифа _**Smart**_:\n",
    "    \n",
    "    * Абоненты тарифа _**Smart**_ в среднем в месяц используют **418 минут**, то есть чуть больше 13 минут в день. \n",
    "    * Среднее количество отправленных сообщений в месяц составляет **33**, то есть 1 сообщение в день.\n",
    "    * Средний объем использованного интернет-трафика в месяц для абонентов тарифа _**Smart**_ составляет **16.3 Гб**, то есть около 550 Мб в день. \n",
    "\n",
    "    \n",
    "* Проведен анализ поведения пользователей тарифа _**Ultra**_:\n",
    "    \n",
    "    * Абоненты тарифа _**Ultra**_ в среднем в месяц используют **527 минут**, то есть почти 17 минут в день.\n",
    "    * Среднее количество отправленных сообщений в месяц составляет **49**, то есть 1-2 сообщения в день. \n",
    "    * Средний объем использованного интернет-трафика в месяц для абонентов тарифа _**Smart**_ составляет **19.5 Гб**, то есть около 550 Мб в день. \n",
    "\n",
    "\n",
    "* Для данных, описывающих поведение абонентов тарифа _**Ultra**_ характерны более высокие значения среднего и медианы, а также больший межквартильный размах, меньшее количество выбросов и более выраженное смещение распределения вправо. Результаты сравнительного анализа свидетельствует о больших колебаниях данных _**Ultra**_ вокруг среднего, а следовательно - меньшей однородности данных для данных по тарифу.\n",
    "\n",
    "    \n",
    "* **Среднее значение** для выручки сверх базовой стоимости для тарифа _**Smart**_ больше, чем для тарифа _**Ultra**_, однако общая средняя выручка для тарифа _**Ultra**_ больше.\n",
    "    \n",
    "    \n",
    "* Более 75% абонентов тарифа _**Ultra**_ не оплачивали услуги сверх лимита базового тарифного плана, в то время как среди пользователей тарифа _**Smart**_ в лимит \"уложились\" менее половины пользователей."
   ]
  },
  {
   "cell_type": "markdown",
   "id": "23870392",
   "metadata": {},
   "source": [
    "## Проверка гипотез\n",
    "\n",
    "### Выручка для тарифов \"Смарт\" и \"Ультра\"\n",
    "\n",
    "Сформулируем гипотезы для проверки."
   ]
  },
  {
   "cell_type": "markdown",
   "id": "1b337388",
   "metadata": {},
   "source": [
    "<div style=\"border-radius: 15px;border:solid navy 1.5px; padding: 20px; box-shadow: 2px 2px 2px\"> \n",
    "    \n",
    "_**H₀:**_ Средняя выручка пользователей тарифов \"Ультра\" и \"Смарт\" одинакова.\n",
    "\n",
    "_**H₁:**_ Средняя выручка пользователей тарифов \"Ультра\" и \"Смарт\" различаются. "
   ]
  },
  {
   "cell_type": "markdown",
   "id": "f3f96e86",
   "metadata": {},
   "source": [
    "Параметр `equal_var` для целей данного исследования не будем указывать, а также будем исходить из того, что дисперсии двух генеральных совокупностей равны.\n",
    "\n",
    "Выбор теста `st.ttest_ind` обусловлен тем, что выборки не зависимые, то есть в них нет переменных, которые бы измерялись дважды для одних и тех же единиц. \n",
    "\n",
    "Установим критическое значение `alpha` для p-value на уровне 5%. Если p-value окажется меньше критического уровня, то нулевая гипотеза будет отвергнута, и альтернативная гипотеза будет принята верной."
   ]
  },
  {
   "cell_type": "code",
   "execution_count": 74,
   "id": "c10fe702",
   "metadata": {},
   "outputs": [
    {
     "name": "stdout",
     "output_type": "stream",
     "text": [
      "Statistics=0.842, p=0.000\n",
      "Sample does not look Gaussian (reject H0)\n"
     ]
    }
   ],
   "source": [
    "# Тест Шапиро-Уилка\n",
    "\n",
    "stat, p = shapiro(user_overall.query(\n",
    "    'tariff==\"smart\"'\n",
    ")['revenue'])\n",
    "print('Statistics=%.3f, p=%.3f' % (stat, p))\n",
    "\n",
    "alpha = 0.05\n",
    "if p > alpha:\n",
    "    print(\n",
    "        'Sample looks Gaussian (fail to reject H0)'\n",
    "    )\n",
    "else:\n",
    "    print(\n",
    "        'Sample does not look Gaussian (reject H0)'\n",
    "    )"
   ]
  },
  {
   "cell_type": "code",
   "execution_count": 75,
   "id": "a5f4b86c",
   "metadata": {},
   "outputs": [
    {
     "name": "stdout",
     "output_type": "stream",
     "text": [
      "Statistics=0.367, p=0.000\n",
      "Sample does not look Gaussian (reject H0)\n"
     ]
    }
   ],
   "source": [
    "# Тест Шапиро-Уилка\n",
    "\n",
    "stat, p = shapiro(user_overall.query(\n",
    "    'tariff==\"ultra\"'\n",
    ")['revenue'])\n",
    "print('Statistics=%.3f, p=%.3f' % (stat, p))\n",
    "\n",
    "alpha = 0.05\n",
    "if p > alpha:\n",
    "    print(\n",
    "        'Sample looks Gaussian (fail to reject H0)'\n",
    "    )\n",
    "else:\n",
    "    print(\n",
    "        'Sample does not look Gaussian (reject H0)'\n",
    "    )"
   ]
  },
  {
   "cell_type": "markdown",
   "id": "2aee8d6b",
   "metadata": {},
   "source": [
    "Проверим, может ли быть отвергнута нулевая гипотеза."
   ]
  },
  {
   "cell_type": "code",
   "execution_count": 76,
   "id": "e44b0e74",
   "metadata": {},
   "outputs": [
    {
     "name": "stdout",
     "output_type": "stream",
     "text": [
      "p-значение: 0.0\n",
      "Отвергаем нулевую гипотезу\n"
     ]
    }
   ],
   "source": [
    "alpha = .05 \n",
    "\n",
    "results = st.ttest_ind(\n",
    "    user_overall.query(\n",
    "    'tariff==\"smart\"'\n",
    ")['revenue'], \n",
    "    user_overall.query(\n",
    "    'tariff==\"ultra\"'\n",
    ")['revenue'])\n",
    "\n",
    "print('p-значение:', results.pvalue.round(2))\n",
    "\n",
    "if results.pvalue < alpha:\n",
    "    print(\n",
    "        \"Отвергаем нулевую гипотезу\"\n",
    "    )\n",
    "else:\n",
    "    print(\n",
    "        \"Не получилось отвергнуть нулевую гипотезу\"\n",
    "    ) "
   ]
  },
  {
   "cell_type": "markdown",
   "id": "def31bfb",
   "metadata": {},
   "source": [
    "Поскольку нулевая гипотеза отвергнута, принимаем альтернативную гипотезу верной. Вероятнее всего средняя выручка тарифов _**Smart**_ и _**Ultra**_ различаются.\n",
    "\n",
    "### Выручка пользователей из Москвы и других регионов\n",
    "\n",
    "Сформулируем нулевую и альтернативную гипотезы."
   ]
  },
  {
   "cell_type": "markdown",
   "id": "b9de9fa5",
   "metadata": {},
   "source": [
    "<div style=\"border-radius: 15px;border:solid navy 1.5px; padding: 20px; box-shadow: 2px 2px 2px\">  \n",
    "    \n",
    "_**H₀:**_ Средняя выручка пользователей из Москвы и других регионов однинакова.\n",
    "\n",
    "_**H₁:**_ Средняя выручка пользователей из Москвы и других регионов различаются. "
   ]
  },
  {
   "cell_type": "markdown",
   "id": "a6db8e0a",
   "metadata": {},
   "source": [
    "Применим те же принципы при проверке гипотезы о выручке пользователей из Москвы и других регионов, что и при проверке первой гипотезы. Проведем две проверки - отдельно для данных по обоим тарифам.\n",
    "\n",
    "#### Проверка гипотезы для пользователей тарифа _Smart_"
   ]
  },
  {
   "cell_type": "code",
   "execution_count": 77,
   "id": "3140c59a",
   "metadata": {},
   "outputs": [
    {
     "name": "stdout",
     "output_type": "stream",
     "text": [
      "p-значение: 0.18\n",
      "Не получилось отвергнуть нулевую гипотезу\n"
     ]
    }
   ],
   "source": [
    "alpha = .05 \n",
    "\n",
    "results = st.ttest_ind(\n",
    "    user_overall.query(\n",
    "    'tariff==\"smart\" & city==\"Москва\"'\n",
    ")['revenue'], \n",
    "    user_overall.query(\n",
    "    'tariff==\"smart\" & city!=\"Москва\"'\n",
    ")['revenue'])\n",
    "\n",
    "print('p-значение:', results.pvalue.round(2))\n",
    "\n",
    "if results.pvalue < alpha:\n",
    "    print(\n",
    "        \"Отвергаем нулевую гипотезу\"\n",
    "    )\n",
    "else:\n",
    "    print(\n",
    "        \"Не получилось отвергнуть нулевую гипотезу\"\n",
    "    ) "
   ]
  },
  {
   "cell_type": "markdown",
   "id": "301cfa9f",
   "metadata": {},
   "source": [
    "#### Проверка гипотезы для пользователей тарифа _Ultra_"
   ]
  },
  {
   "cell_type": "code",
   "execution_count": 78,
   "id": "d90dcbed",
   "metadata": {},
   "outputs": [
    {
     "name": "stdout",
     "output_type": "stream",
     "text": [
      "p-значение: 0.86\n",
      "Не получилось отвергнуть нулевую гипотезу\n"
     ]
    }
   ],
   "source": [
    "alpha = .05 \n",
    "\n",
    "results = st.ttest_ind(\n",
    "    user_overall.query(\n",
    "    'tariff==\"ultra\" & city==\"Москва\"'\n",
    ")['revenue'], \n",
    "    user_overall.query(\n",
    "    'tariff==\"ultra\" & city!=\"Москва\"'\n",
    ")['revenue'])\n",
    "\n",
    "print('p-значение:', results.pvalue.round(2))\n",
    "\n",
    "if results.pvalue < alpha:\n",
    "    print(\n",
    "        \"Отвергаем нулевую гипотезу\"\n",
    "    )\n",
    "else:\n",
    "    print(\n",
    "        \"Не получилось отвергнуть нулевую гипотезу\"\n",
    "    ) "
   ]
  },
  {
   "cell_type": "markdown",
   "id": "b3257df8",
   "metadata": {},
   "source": [
    "Гипотезы для обоих тарифов опровергнуть не удалось - вероятнее всего выручка для обоих тарифов для Москвы и других городов не отличается."
   ]
  },
  {
   "cell_type": "code",
   "execution_count": 79,
   "id": "4dbb09e9",
   "metadata": {},
   "outputs": [
    {
     "name": "stdout",
     "output_type": "stream",
     "text": [
      "p-значение: 0.54\n",
      "Не получилось отвергнуть нулевую гипотезу\n"
     ]
    }
   ],
   "source": [
    "alpha = .05 \n",
    "\n",
    "results = st.ttest_ind(\n",
    "    user_overall.query(\n",
    "        'city==\"Москва\"'\n",
    ")['revenue'], \n",
    "    user_overall.query(\n",
    "        'city!=\"Москва\"'\n",
    ")['revenue'])\n",
    "\n",
    "print('p-значение:', results.pvalue.round(2))\n",
    "\n",
    "if results.pvalue < alpha:\n",
    "    print(\"Отвергаем нулевую гипотезу\")\n",
    "else:\n",
    "    print(\"Не получилось отвергнуть нулевую гипотезу\") "
   ]
  },
  {
   "cell_type": "markdown",
   "id": "14761459",
   "metadata": {},
   "source": [
    "При проверке гипотезы для абонентов из Москвы и других регионов без разделения на тарифы также не удалось опровергнуть нулевую гипотезу."
   ]
  },
  {
   "cell_type": "markdown",
   "id": "2e934008",
   "metadata": {},
   "source": [
    "<div style=\"border-radius: 15px;border:solid navy 2px; padding: 20px\">\n",
    "\n",
    "### Вывод\n",
    "    \n",
    "* Нулевая гипотеза о том, что выручка пользователей тарифов _**Smart**_ и _**Ultra**_ однинакова, была отвергнута.\n",
    "* Нулевую гипотезу о том, что средняя выручка пользователей из **Москвы** и **других регионов** однинакова, отвергнуть не удалось."
   ]
  },
  {
   "cell_type": "markdown",
   "id": "324f150d",
   "metadata": {},
   "source": [
    "<div style=\"border:solid navy 2px; padding: 20px\"> \n",
    "    \n",
    "## Общий вывод\n",
    "    \n",
    "* Данные находятся в пяти таблицах - `Calls`, `Internet`, `Messages`, `Tariffs`, `Users` содержащих историю использования абонентом услуг оператора по двум тарифам - _**Smart**_ и _**Ultra**_.\n",
    "* На этапе предобработки изменены некорректные типы данных, исключены нерелевантные данные. Аномалии и пропуски, которые могли бы повлиять на результат исследования не обнаружены. Информация об обнаруженных аномалиях и пропусках включена в баг-репорт для разработчиков.\n",
    "* Проведен анализ поведения пользователей тарифа _**Smart**_:\n",
    "    \n",
    "    * Абоненты тарифа _**Smart**_ в среднем в месяц используют **395 минут**, то есть чуть больше **13 минут в день**. \n",
    "    * Среднее количество отправленных сообщений в месяц составляет **33**, то есть **1 сообщение в день**.\n",
    "    * Средний объем использованного интернет-трафика в месяц для абонентов тарифа _**Smart**_ составляет **16.3 Гб**, то есть около 550 Мб в день. \n",
    "\n",
    "* Проведен анализ поведения пользователей тарифа _**Ultra**_:\n",
    "    \n",
    "    * Абоненты тарифа _**Ultra**_ в среднем в месяц используют **498 минут**, то есть почти **17 минут в день**.\n",
    "    * Среднее количество отправленных сообщений в месяц составляет **49**, то есть **1-2 сообщения в день**. \n",
    "    * Средний объем использованного интернет-трафика в месяц для абонентов тарифа _**Ultra**_ составляет **19.5 Гб**, то есть около 550 Мб в день. \n",
    "* **Среднее значение** для выручки сверх базовой стоимости для тарифа _**Smart**_ больше, чем для тарифа _**Ultra**_, однако общая средняя выручка для тарифа _**Ultra**_ больше.  \n",
    "* Более 75% абонентов тарифа _**Ultra**_ не оплачивали услуги сверх лимита базового тарифного плана, в то время как среди пользователей тарифа _**Smart**_ в лимит \"уложились\" менее половины пользователей.\n",
    "* Пользователи тарифа _**Smart**_ превышали лимит **по всем услугам**, однако больше всего превышений лимита было по объему интернет-трафика. Пользователи тарифа _**Ultra**_ превышали лимит только по **объему интернет-трафика**.    \n",
    "* Нулевая гипотеза о том, что выручка пользователей тарифов _**Smart**_ и _**Ultra**_ однинакова, была отвергнута. Принята альтернативная гипотеза, что выручка пользователей по тарифам различаются.\n",
    "* Нулевую гипотезу о том, что средняя выручка пользователей из **Москвы** и **других регионов** однинакова, отвергнуть не удалось. \n",
    "\n",
    "<div style=\"border-radius: 15px;border:solid navy 2px; padding: 20px\">\n",
    "    \n",
    "Хотя общая суммарная выручка тарифа **_Smart_** в текущей выборке превышает общую выручку по тарифу _**Ultra**_, средняя выручка для каждого пользователя для тарифа _**Ultra**_ (_2070 руб_) в полтора раза превышает таковую для тарифа _**Smart**_ (_1290 руб_), поэтому можно говорить о большей выгодности тарифа _**Ultra**_ для оператора.\n",
    "    \n",
    "Также можно отметить, что поскольку пользователи тарифа _**Ultra**_ в среднем используют услуги в меньшем объеме, чем включено в условия тарифа, это оставляет для оператора возможность изменения лимитов в условиях тарифа с целью  оптимизации расходов без увеличения стоимости для пользователей.\n",
    "    \n",
    "<font color=navy> <b>На основании проведенного анализа можно заключить, что тариф **_Ultra_** является более выгодным для оператора. </b> </font> "
   ]
  },
  {
   "cell_type": "markdown",
   "id": "4efe5619",
   "metadata": {},
   "source": [
    "<div style=\"border:solid #DC143C 2px; padding: 20px\"> \n",
    "\n",
    "## Баг-репорт\n",
    "    \n",
    "* Столбец `Unnamed: 0` в таблице `Internet` дублирует столбец с индексами. В рамках предобработки данных столбец удален.\n",
    "    \n",
    "    \n",
    "* Некорректные типы данных обнаружены в следующих столбцах:\n",
    "    * Таблица `data_calls`, столбец `'call_date'`\n",
    "    * Таблица `data_internet`, столбец `'session_date'`\n",
    "    * Таблица `data_messages`, столбец `'message_date'`\n",
    "    * Таблица `data_users`, столбцы: \n",
    "        * `'churn_date'`\n",
    "        * `'city'`\n",
    "        * `'first_name'`\n",
    "        * `'last_name'`\n",
    "        * `'reg_date'`\n",
    "        * `'tariff'` \n",
    "\n",
    "Типы заменены в столбах, содержащих даты, остальные столбцы оставлены как есть.\n",
    "* В таблице `data_calls`, столбец `'duration'` и в таблице `data_internet`, столбец `'mb_used'` обнаружено большое количество выбросов. Для целей данного исследования данные оставлены как есть.\n"
   ]
  }
 ],
 "metadata": {
  "ExecuteTimeLog": [
   {
    "duration": 1139,
    "start_time": "2022-04-22T13:18:57.640Z"
   },
   {
    "duration": 197,
    "start_time": "2022-04-22T13:18:58.781Z"
   },
   {
    "duration": 37,
    "start_time": "2022-04-22T13:18:58.979Z"
   },
   {
    "duration": 130,
    "start_time": "2022-04-22T13:18:59.019Z"
   },
   {
    "duration": 21,
    "start_time": "2022-04-22T13:18:59.150Z"
   },
   {
    "duration": 113,
    "start_time": "2022-04-22T13:18:59.172Z"
   },
   {
    "duration": 28,
    "start_time": "2022-04-22T13:18:59.287Z"
   },
   {
    "duration": 20,
    "start_time": "2022-04-22T13:18:59.319Z"
   },
   {
    "duration": 32,
    "start_time": "2022-04-22T13:18:59.341Z"
   },
   {
    "duration": 9,
    "start_time": "2022-04-22T13:18:59.375Z"
   },
   {
    "duration": 7,
    "start_time": "2022-04-22T13:18:59.386Z"
   },
   {
    "duration": 5,
    "start_time": "2022-04-22T13:18:59.395Z"
   },
   {
    "duration": 26,
    "start_time": "2022-04-22T13:18:59.401Z"
   },
   {
    "duration": 8,
    "start_time": "2022-04-22T13:18:59.429Z"
   },
   {
    "duration": 7,
    "start_time": "2022-04-22T13:18:59.438Z"
   },
   {
    "duration": 6,
    "start_time": "2022-04-22T13:18:59.446Z"
   },
   {
    "duration": 24,
    "start_time": "2022-04-22T13:18:59.454Z"
   },
   {
    "duration": 16,
    "start_time": "2022-04-22T13:18:59.479Z"
   },
   {
    "duration": 24,
    "start_time": "2022-04-22T13:18:59.497Z"
   },
   {
    "duration": 8,
    "start_time": "2022-04-22T13:18:59.523Z"
   },
   {
    "duration": 47,
    "start_time": "2022-04-22T13:18:59.532Z"
   },
   {
    "duration": 61,
    "start_time": "2022-04-22T13:18:59.580Z"
   },
   {
    "duration": 28,
    "start_time": "2022-04-22T13:18:59.643Z"
   },
   {
    "duration": 30,
    "start_time": "2022-04-22T13:18:59.672Z"
   },
   {
    "duration": 17,
    "start_time": "2022-04-22T13:18:59.707Z"
   },
   {
    "duration": 6,
    "start_time": "2022-04-22T13:18:59.726Z"
   },
   {
    "duration": 96,
    "start_time": "2022-04-22T13:18:59.733Z"
   },
   {
    "duration": 38,
    "start_time": "2022-04-22T13:18:59.835Z"
   },
   {
    "duration": 55,
    "start_time": "2022-04-22T13:18:59.875Z"
   },
   {
    "duration": 5,
    "start_time": "2022-04-22T13:18:59.932Z"
   },
   {
    "duration": 15,
    "start_time": "2022-04-22T13:18:59.938Z"
   },
   {
    "duration": 20,
    "start_time": "2022-04-22T13:18:59.954Z"
   },
   {
    "duration": 356,
    "start_time": "2022-04-22T13:18:59.975Z"
   },
   {
    "duration": 263,
    "start_time": "2022-04-22T13:19:00.332Z"
   },
   {
    "duration": 25,
    "start_time": "2022-04-22T13:19:00.600Z"
   },
   {
    "duration": 249,
    "start_time": "2022-04-22T13:19:00.627Z"
   },
   {
    "duration": 12,
    "start_time": "2022-04-22T13:19:00.878Z"
   },
   {
    "duration": 28,
    "start_time": "2022-04-22T13:19:00.891Z"
   },
   {
    "duration": 282,
    "start_time": "2022-04-22T13:19:00.921Z"
   },
   {
    "duration": 236,
    "start_time": "2022-04-22T13:19:01.205Z"
   },
   {
    "duration": 9,
    "start_time": "2022-04-22T13:19:01.443Z"
   },
   {
    "duration": 41,
    "start_time": "2022-04-22T13:19:01.454Z"
   },
   {
    "duration": 27,
    "start_time": "2022-04-22T13:19:01.497Z"
   },
   {
    "duration": 23,
    "start_time": "2022-04-22T13:19:01.525Z"
   },
   {
    "duration": 9,
    "start_time": "2022-04-22T13:19:01.549Z"
   },
   {
    "duration": 54,
    "start_time": "2022-04-22T13:19:01.559Z"
   },
   {
    "duration": 17,
    "start_time": "2022-04-22T13:19:01.616Z"
   },
   {
    "duration": 27,
    "start_time": "2022-04-22T13:19:01.634Z"
   },
   {
    "duration": 18,
    "start_time": "2022-04-22T13:19:01.663Z"
   },
   {
    "duration": 37,
    "start_time": "2022-04-22T13:19:01.682Z"
   },
   {
    "duration": 12,
    "start_time": "2022-04-22T13:19:01.721Z"
   },
   {
    "duration": 28,
    "start_time": "2022-04-22T13:19:01.734Z"
   },
   {
    "duration": 28,
    "start_time": "2022-04-22T13:19:01.764Z"
   },
   {
    "duration": 21,
    "start_time": "2022-04-22T13:19:01.794Z"
   },
   {
    "duration": 23,
    "start_time": "2022-04-22T13:19:01.816Z"
   },
   {
    "duration": 11,
    "start_time": "2022-04-22T13:19:01.840Z"
   },
   {
    "duration": 30,
    "start_time": "2022-04-22T13:19:01.853Z"
   },
   {
    "duration": 29,
    "start_time": "2022-04-22T13:19:01.885Z"
   },
   {
    "duration": 13,
    "start_time": "2022-04-22T13:19:01.916Z"
   },
   {
    "duration": 53,
    "start_time": "2022-04-22T13:19:01.931Z"
   },
   {
    "duration": 19,
    "start_time": "2022-04-22T13:19:01.986Z"
   },
   {
    "duration": 21,
    "start_time": "2022-04-22T13:19:02.007Z"
   },
   {
    "duration": 68,
    "start_time": "2022-04-22T13:19:02.029Z"
   },
   {
    "duration": 30,
    "start_time": "2022-04-22T13:19:02.099Z"
   },
   {
    "duration": 47,
    "start_time": "2022-04-22T13:19:02.131Z"
   },
   {
    "duration": 31,
    "start_time": "2022-04-22T13:19:02.179Z"
   },
   {
    "duration": 37,
    "start_time": "2022-04-22T13:19:02.212Z"
   },
   {
    "duration": 20,
    "start_time": "2022-04-22T13:19:02.251Z"
   },
   {
    "duration": 29,
    "start_time": "2022-04-22T13:19:02.272Z"
   },
   {
    "duration": 20,
    "start_time": "2022-04-22T13:19:02.302Z"
   },
   {
    "duration": 17,
    "start_time": "2022-04-22T13:19:02.324Z"
   },
   {
    "duration": 24,
    "start_time": "2022-04-22T13:19:02.343Z"
   },
   {
    "duration": 22,
    "start_time": "2022-04-22T13:19:02.369Z"
   },
   {
    "duration": 24,
    "start_time": "2022-04-22T13:19:02.392Z"
   },
   {
    "duration": 11,
    "start_time": "2022-04-22T13:19:02.418Z"
   },
   {
    "duration": 19,
    "start_time": "2022-04-22T13:19:02.431Z"
   },
   {
    "duration": 16,
    "start_time": "2022-04-22T13:19:02.451Z"
   },
   {
    "duration": 36,
    "start_time": "2022-04-22T13:19:02.468Z"
   },
   {
    "duration": 25,
    "start_time": "2022-04-22T13:19:02.506Z"
   },
   {
    "duration": 146,
    "start_time": "2022-04-22T13:19:02.533Z"
   },
   {
    "duration": 97,
    "start_time": "2022-04-22T13:19:02.681Z"
   },
   {
    "duration": 17,
    "start_time": "2022-04-22T13:19:02.783Z"
   },
   {
    "duration": 8,
    "start_time": "2022-04-22T13:19:02.802Z"
   },
   {
    "duration": 191,
    "start_time": "2022-04-22T13:19:02.812Z"
   },
   {
    "duration": 183,
    "start_time": "2022-04-22T13:19:03.005Z"
   },
   {
    "duration": 101,
    "start_time": "2022-04-22T13:19:03.190Z"
   },
   {
    "duration": 14,
    "start_time": "2022-04-22T13:19:03.292Z"
   },
   {
    "duration": 25,
    "start_time": "2022-04-22T13:19:03.308Z"
   },
   {
    "duration": 173,
    "start_time": "2022-04-22T13:19:03.334Z"
   },
   {
    "duration": 99,
    "start_time": "2022-04-22T13:19:03.509Z"
   },
   {
    "duration": 95,
    "start_time": "2022-04-22T13:19:03.611Z"
   },
   {
    "duration": 11,
    "start_time": "2022-04-22T13:19:03.709Z"
   },
   {
    "duration": 11,
    "start_time": "2022-04-22T13:19:03.722Z"
   },
   {
    "duration": 217,
    "start_time": "2022-04-22T13:19:03.735Z"
   },
   {
    "duration": 11,
    "start_time": "2022-04-22T13:19:03.954Z"
   },
   {
    "duration": 10,
    "start_time": "2022-04-22T13:19:03.967Z"
   },
   {
    "duration": 22,
    "start_time": "2022-04-22T13:19:04.000Z"
   },
   {
    "duration": 15,
    "start_time": "2022-04-22T13:19:04.023Z"
   },
   {
    "duration": 194,
    "start_time": "2022-04-22T13:19:04.039Z"
   },
   {
    "duration": 198,
    "start_time": "2022-04-22T13:19:04.235Z"
   },
   {
    "duration": 18,
    "start_time": "2022-04-22T13:19:04.435Z"
   },
   {
    "duration": 26,
    "start_time": "2022-04-22T13:19:04.455Z"
   },
   {
    "duration": 4,
    "start_time": "2022-04-22T13:19:04.483Z"
   },
   {
    "duration": 5,
    "start_time": "2022-04-22T13:19:04.500Z"
   },
   {
    "duration": 24,
    "start_time": "2022-04-22T13:19:04.507Z"
   },
   {
    "duration": 4,
    "start_time": "2022-04-22T13:19:38.556Z"
   },
   {
    "duration": 197,
    "start_time": "2022-04-22T14:38:40.803Z"
   },
   {
    "duration": 198,
    "start_time": "2022-04-22T14:43:59.265Z"
   },
   {
    "duration": 12,
    "start_time": "2022-04-22T14:53:05.384Z"
   },
   {
    "duration": 5,
    "start_time": "2022-04-22T14:56:17.069Z"
   },
   {
    "duration": 4,
    "start_time": "2022-04-22T14:58:33.152Z"
   },
   {
    "duration": 6,
    "start_time": "2022-04-22T14:58:44.332Z"
   },
   {
    "duration": 4,
    "start_time": "2022-04-22T15:00:24.859Z"
   },
   {
    "duration": 4,
    "start_time": "2022-04-22T15:22:29.489Z"
   },
   {
    "duration": 4,
    "start_time": "2022-04-22T15:23:07.948Z"
   },
   {
    "duration": 75,
    "start_time": "2022-04-23T08:47:16.444Z"
   },
   {
    "duration": 1745,
    "start_time": "2022-04-23T08:47:21.579Z"
   },
   {
    "duration": 281,
    "start_time": "2022-04-23T08:47:23.328Z"
   },
   {
    "duration": 34,
    "start_time": "2022-04-23T08:47:23.611Z"
   },
   {
    "duration": 183,
    "start_time": "2022-04-23T08:47:23.649Z"
   },
   {
    "duration": 28,
    "start_time": "2022-04-23T08:47:23.834Z"
   },
   {
    "duration": 141,
    "start_time": "2022-04-23T08:47:23.865Z"
   },
   {
    "duration": 27,
    "start_time": "2022-04-23T08:47:24.008Z"
   },
   {
    "duration": 25,
    "start_time": "2022-04-23T08:47:24.037Z"
   },
   {
    "duration": 42,
    "start_time": "2022-04-23T08:47:24.064Z"
   },
   {
    "duration": 15,
    "start_time": "2022-04-23T08:47:24.111Z"
   },
   {
    "duration": 13,
    "start_time": "2022-04-23T08:47:24.128Z"
   },
   {
    "duration": 9,
    "start_time": "2022-04-23T08:47:24.143Z"
   },
   {
    "duration": 48,
    "start_time": "2022-04-23T08:47:24.154Z"
   },
   {
    "duration": 6,
    "start_time": "2022-04-23T08:47:24.205Z"
   },
   {
    "duration": 8,
    "start_time": "2022-04-23T08:47:24.213Z"
   },
   {
    "duration": 7,
    "start_time": "2022-04-23T08:47:24.223Z"
   },
   {
    "duration": 29,
    "start_time": "2022-04-23T08:47:24.232Z"
   },
   {
    "duration": 56,
    "start_time": "2022-04-23T08:47:24.263Z"
   },
   {
    "duration": 19,
    "start_time": "2022-04-23T08:47:24.322Z"
   },
   {
    "duration": 7,
    "start_time": "2022-04-23T08:47:24.344Z"
   },
   {
    "duration": 104,
    "start_time": "2022-04-23T08:47:24.353Z"
   },
   {
    "duration": 61,
    "start_time": "2022-04-23T08:47:24.459Z"
   },
   {
    "duration": 41,
    "start_time": "2022-04-23T08:47:24.522Z"
   },
   {
    "duration": 43,
    "start_time": "2022-04-23T08:47:24.565Z"
   },
   {
    "duration": 9,
    "start_time": "2022-04-23T08:47:24.610Z"
   },
   {
    "duration": 8,
    "start_time": "2022-04-23T08:47:24.621Z"
   },
   {
    "duration": 151,
    "start_time": "2022-04-23T08:47:24.632Z"
   },
   {
    "duration": 64,
    "start_time": "2022-04-23T08:47:24.796Z"
   },
   {
    "duration": 76,
    "start_time": "2022-04-23T08:47:24.862Z"
   },
   {
    "duration": 9,
    "start_time": "2022-04-23T08:47:24.940Z"
   },
   {
    "duration": 43,
    "start_time": "2022-04-23T08:47:24.951Z"
   },
   {
    "duration": 22,
    "start_time": "2022-04-23T08:47:24.998Z"
   },
   {
    "duration": 500,
    "start_time": "2022-04-23T08:47:25.022Z"
   },
   {
    "duration": 362,
    "start_time": "2022-04-23T08:47:25.524Z"
   },
   {
    "duration": 25,
    "start_time": "2022-04-23T08:47:25.889Z"
   },
   {
    "duration": 318,
    "start_time": "2022-04-23T08:47:25.916Z"
   },
   {
    "duration": 17,
    "start_time": "2022-04-23T08:47:26.237Z"
   },
   {
    "duration": 38,
    "start_time": "2022-04-23T08:47:26.256Z"
   },
   {
    "duration": 568,
    "start_time": "2022-04-23T08:47:26.302Z"
   },
   {
    "duration": 315,
    "start_time": "2022-04-23T08:47:26.872Z"
   },
   {
    "duration": 15,
    "start_time": "2022-04-23T08:47:27.193Z"
   },
   {
    "duration": 38,
    "start_time": "2022-04-23T08:47:27.210Z"
   },
   {
    "duration": 61,
    "start_time": "2022-04-23T08:47:27.250Z"
   },
   {
    "duration": 28,
    "start_time": "2022-04-23T08:47:27.314Z"
   },
   {
    "duration": 17,
    "start_time": "2022-04-23T08:47:27.344Z"
   },
   {
    "duration": 75,
    "start_time": "2022-04-23T08:47:27.363Z"
   },
   {
    "duration": 24,
    "start_time": "2022-04-23T08:47:27.441Z"
   },
   {
    "duration": 57,
    "start_time": "2022-04-23T08:47:27.468Z"
   },
   {
    "duration": 28,
    "start_time": "2022-04-23T08:47:27.527Z"
   },
   {
    "duration": 44,
    "start_time": "2022-04-23T08:47:27.558Z"
   },
   {
    "duration": 24,
    "start_time": "2022-04-23T08:47:27.604Z"
   },
   {
    "duration": 17,
    "start_time": "2022-04-23T08:47:27.630Z"
   },
   {
    "duration": 6,
    "start_time": "2022-04-23T08:47:27.649Z"
   },
   {
    "duration": 49,
    "start_time": "2022-04-23T08:47:27.657Z"
   },
   {
    "duration": 16,
    "start_time": "2022-04-23T08:47:27.709Z"
   },
   {
    "duration": 5,
    "start_time": "2022-04-23T08:47:27.727Z"
   },
   {
    "duration": 67,
    "start_time": "2022-04-23T08:47:27.733Z"
   },
   {
    "duration": 28,
    "start_time": "2022-04-23T08:47:27.802Z"
   },
   {
    "duration": 4,
    "start_time": "2022-04-23T08:47:27.833Z"
   },
   {
    "duration": 68,
    "start_time": "2022-04-23T08:47:27.839Z"
   },
   {
    "duration": 30,
    "start_time": "2022-04-23T08:47:27.910Z"
   },
   {
    "duration": 4,
    "start_time": "2022-04-23T08:47:27.942Z"
   },
   {
    "duration": 87,
    "start_time": "2022-04-23T08:47:27.949Z"
   },
   {
    "duration": 33,
    "start_time": "2022-04-23T08:47:28.038Z"
   },
   {
    "duration": 21,
    "start_time": "2022-04-23T08:47:28.074Z"
   },
   {
    "duration": 36,
    "start_time": "2022-04-23T08:47:28.097Z"
   },
   {
    "duration": 6,
    "start_time": "2022-04-23T08:47:28.136Z"
   },
   {
    "duration": 56,
    "start_time": "2022-04-23T08:47:28.144Z"
   },
   {
    "duration": 7,
    "start_time": "2022-04-23T08:47:28.202Z"
   },
   {
    "duration": 20,
    "start_time": "2022-04-23T08:47:28.211Z"
   },
   {
    "duration": 18,
    "start_time": "2022-04-23T08:47:28.233Z"
   },
   {
    "duration": 7,
    "start_time": "2022-04-23T08:47:28.253Z"
   },
   {
    "duration": 38,
    "start_time": "2022-04-23T08:47:28.262Z"
   },
   {
    "duration": 27,
    "start_time": "2022-04-23T08:47:28.302Z"
   },
   {
    "duration": 22,
    "start_time": "2022-04-23T08:47:28.331Z"
   },
   {
    "duration": 47,
    "start_time": "2022-04-23T08:47:28.355Z"
   },
   {
    "duration": 23,
    "start_time": "2022-04-23T08:47:28.404Z"
   },
   {
    "duration": 9,
    "start_time": "2022-04-23T08:47:28.429Z"
   },
   {
    "duration": 8,
    "start_time": "2022-04-23T08:47:28.440Z"
   },
   {
    "duration": 15,
    "start_time": "2022-04-23T08:47:28.450Z"
   },
   {
    "duration": 62,
    "start_time": "2022-04-23T08:47:28.467Z"
   },
   {
    "duration": 29,
    "start_time": "2022-04-23T08:47:28.537Z"
   },
   {
    "duration": 162,
    "start_time": "2022-04-23T08:47:28.601Z"
   },
   {
    "duration": 187,
    "start_time": "2022-04-23T08:47:28.766Z"
   },
   {
    "duration": 10,
    "start_time": "2022-04-23T08:47:28.956Z"
   },
   {
    "duration": 37,
    "start_time": "2022-04-23T08:47:28.969Z"
   },
   {
    "duration": 316,
    "start_time": "2022-04-23T08:47:29.009Z"
   },
   {
    "duration": 251,
    "start_time": "2022-04-23T08:47:29.327Z"
   },
   {
    "duration": 152,
    "start_time": "2022-04-23T08:47:29.581Z"
   },
   {
    "duration": 11,
    "start_time": "2022-04-23T08:47:29.735Z"
   },
   {
    "duration": 12,
    "start_time": "2022-04-23T08:47:29.748Z"
   },
   {
    "duration": 355,
    "start_time": "2022-04-23T08:47:29.762Z"
   },
   {
    "duration": 188,
    "start_time": "2022-04-23T08:47:30.119Z"
   },
   {
    "duration": 159,
    "start_time": "2022-04-23T08:47:30.310Z"
   },
   {
    "duration": 11,
    "start_time": "2022-04-23T08:47:30.472Z"
   },
   {
    "duration": 29,
    "start_time": "2022-04-23T08:47:30.497Z"
   },
   {
    "duration": 366,
    "start_time": "2022-04-23T08:47:30.529Z"
   },
   {
    "duration": 18,
    "start_time": "2022-04-23T08:47:30.898Z"
   },
   {
    "duration": 70,
    "start_time": "2022-04-23T08:47:30.918Z"
   },
   {
    "duration": 45,
    "start_time": "2022-04-23T08:47:30.990Z"
   },
   {
    "duration": 21,
    "start_time": "2022-04-23T08:47:31.037Z"
   },
   {
    "duration": 300,
    "start_time": "2022-04-23T08:47:31.060Z"
   },
   {
    "duration": 307,
    "start_time": "2022-04-23T08:47:31.362Z"
   },
   {
    "duration": 45,
    "start_time": "2022-04-23T08:47:31.671Z"
   },
   {
    "duration": 33,
    "start_time": "2022-04-23T08:47:31.719Z"
   },
   {
    "duration": 6,
    "start_time": "2022-04-23T08:47:31.755Z"
   },
   {
    "duration": 10,
    "start_time": "2022-04-23T08:47:31.796Z"
   },
   {
    "duration": 12,
    "start_time": "2022-04-23T08:47:31.808Z"
   },
   {
    "duration": 208,
    "start_time": "2022-04-23T08:57:47.786Z"
   },
   {
    "duration": 184,
    "start_time": "2022-04-23T08:57:51.972Z"
   },
   {
    "duration": 467,
    "start_time": "2022-04-23T09:35:19.348Z"
   },
   {
    "duration": 198,
    "start_time": "2022-04-23T09:50:14.006Z"
   },
   {
    "duration": 1435,
    "start_time": "2022-04-23T09:55:57.766Z"
   },
   {
    "duration": 291,
    "start_time": "2022-04-23T09:55:59.205Z"
   },
   {
    "duration": 41,
    "start_time": "2022-04-23T09:55:59.498Z"
   },
   {
    "duration": 203,
    "start_time": "2022-04-23T09:55:59.543Z"
   },
   {
    "duration": 57,
    "start_time": "2022-04-23T09:55:59.749Z"
   },
   {
    "duration": 123,
    "start_time": "2022-04-23T09:55:59.809Z"
   },
   {
    "duration": 27,
    "start_time": "2022-04-23T09:55:59.935Z"
   },
   {
    "duration": 51,
    "start_time": "2022-04-23T09:55:59.964Z"
   },
   {
    "duration": 41,
    "start_time": "2022-04-23T09:56:00.017Z"
   },
   {
    "duration": 15,
    "start_time": "2022-04-23T09:56:00.062Z"
   },
   {
    "duration": 21,
    "start_time": "2022-04-23T09:56:00.079Z"
   },
   {
    "duration": 17,
    "start_time": "2022-04-23T09:56:00.102Z"
   },
   {
    "duration": 18,
    "start_time": "2022-04-23T09:56:00.122Z"
   },
   {
    "duration": 15,
    "start_time": "2022-04-23T09:56:00.143Z"
   },
   {
    "duration": 26,
    "start_time": "2022-04-23T09:56:00.160Z"
   },
   {
    "duration": 26,
    "start_time": "2022-04-23T09:56:00.188Z"
   },
   {
    "duration": 39,
    "start_time": "2022-04-23T09:56:00.216Z"
   },
   {
    "duration": 23,
    "start_time": "2022-04-23T09:56:00.257Z"
   },
   {
    "duration": 34,
    "start_time": "2022-04-23T09:56:00.282Z"
   },
   {
    "duration": 8,
    "start_time": "2022-04-23T09:56:00.319Z"
   },
   {
    "duration": 94,
    "start_time": "2022-04-23T09:56:00.329Z"
   },
   {
    "duration": 71,
    "start_time": "2022-04-23T09:56:00.425Z"
   },
   {
    "duration": 49,
    "start_time": "2022-04-23T09:56:00.498Z"
   },
   {
    "duration": 43,
    "start_time": "2022-04-23T09:56:00.550Z"
   },
   {
    "duration": 11,
    "start_time": "2022-04-23T09:56:00.596Z"
   },
   {
    "duration": 28,
    "start_time": "2022-04-23T09:56:00.610Z"
   },
   {
    "duration": 158,
    "start_time": "2022-04-23T09:56:00.641Z"
   },
   {
    "duration": 89,
    "start_time": "2022-04-23T09:56:00.808Z"
   },
   {
    "duration": 67,
    "start_time": "2022-04-23T09:56:00.899Z"
   },
   {
    "duration": 32,
    "start_time": "2022-04-23T09:56:00.969Z"
   },
   {
    "duration": 23,
    "start_time": "2022-04-23T09:56:01.004Z"
   },
   {
    "duration": 42,
    "start_time": "2022-04-23T09:56:01.029Z"
   },
   {
    "duration": 499,
    "start_time": "2022-04-23T09:56:01.074Z"
   },
   {
    "duration": 377,
    "start_time": "2022-04-23T09:56:01.575Z"
   },
   {
    "duration": 41,
    "start_time": "2022-04-23T09:56:01.955Z"
   },
   {
    "duration": 318,
    "start_time": "2022-04-23T09:56:01.999Z"
   },
   {
    "duration": 17,
    "start_time": "2022-04-23T09:56:02.319Z"
   },
   {
    "duration": 16,
    "start_time": "2022-04-23T09:56:02.339Z"
   },
   {
    "duration": 506,
    "start_time": "2022-04-23T09:56:02.358Z"
   },
   {
    "duration": 444,
    "start_time": "2022-04-23T09:56:02.867Z"
   },
   {
    "duration": 14,
    "start_time": "2022-04-23T09:56:03.314Z"
   },
   {
    "duration": 38,
    "start_time": "2022-04-23T09:56:03.330Z"
   },
   {
    "duration": 58,
    "start_time": "2022-04-23T09:56:03.370Z"
   },
   {
    "duration": 28,
    "start_time": "2022-04-23T09:56:03.430Z"
   },
   {
    "duration": 45,
    "start_time": "2022-04-23T09:56:03.460Z"
   },
   {
    "duration": 70,
    "start_time": "2022-04-23T09:56:03.507Z"
   },
   {
    "duration": 33,
    "start_time": "2022-04-23T09:56:03.579Z"
   },
   {
    "duration": 51,
    "start_time": "2022-04-23T09:56:03.615Z"
   },
   {
    "duration": 54,
    "start_time": "2022-04-23T09:56:03.669Z"
   },
   {
    "duration": 15,
    "start_time": "2022-04-23T09:56:03.725Z"
   },
   {
    "duration": 19,
    "start_time": "2022-04-23T09:56:03.742Z"
   },
   {
    "duration": 47,
    "start_time": "2022-04-23T09:56:03.764Z"
   },
   {
    "duration": 7,
    "start_time": "2022-04-23T09:56:03.814Z"
   },
   {
    "duration": 25,
    "start_time": "2022-04-23T09:56:03.823Z"
   },
   {
    "duration": 17,
    "start_time": "2022-04-23T09:56:03.851Z"
   },
   {
    "duration": 30,
    "start_time": "2022-04-23T09:56:03.870Z"
   },
   {
    "duration": 55,
    "start_time": "2022-04-23T09:56:03.902Z"
   },
   {
    "duration": 61,
    "start_time": "2022-04-23T09:56:03.960Z"
   },
   {
    "duration": 6,
    "start_time": "2022-04-23T09:56:04.023Z"
   },
   {
    "duration": 65,
    "start_time": "2022-04-23T09:56:04.030Z"
   },
   {
    "duration": 33,
    "start_time": "2022-04-23T09:56:04.098Z"
   },
   {
    "duration": 5,
    "start_time": "2022-04-23T09:56:04.133Z"
   },
   {
    "duration": 82,
    "start_time": "2022-04-23T09:56:04.140Z"
   },
   {
    "duration": 51,
    "start_time": "2022-04-23T09:56:04.226Z"
   },
   {
    "duration": 5,
    "start_time": "2022-04-23T09:56:04.296Z"
   },
   {
    "duration": 38,
    "start_time": "2022-04-23T09:56:04.304Z"
   },
   {
    "duration": 6,
    "start_time": "2022-04-23T09:56:04.344Z"
   },
   {
    "duration": 47,
    "start_time": "2022-04-23T09:56:04.352Z"
   },
   {
    "duration": 20,
    "start_time": "2022-04-23T09:56:04.401Z"
   },
   {
    "duration": 28,
    "start_time": "2022-04-23T09:56:04.424Z"
   },
   {
    "duration": 7,
    "start_time": "2022-04-23T09:56:04.455Z"
   },
   {
    "duration": 62,
    "start_time": "2022-04-23T09:56:04.464Z"
   },
   {
    "duration": 23,
    "start_time": "2022-04-23T09:56:04.528Z"
   },
   {
    "duration": 54,
    "start_time": "2022-04-23T09:56:04.554Z"
   },
   {
    "duration": 22,
    "start_time": "2022-04-23T09:56:04.610Z"
   },
   {
    "duration": 9,
    "start_time": "2022-04-23T09:56:04.635Z"
   },
   {
    "duration": 7,
    "start_time": "2022-04-23T09:56:04.646Z"
   },
   {
    "duration": 38,
    "start_time": "2022-04-23T09:56:04.656Z"
   },
   {
    "duration": 39,
    "start_time": "2022-04-23T09:56:04.696Z"
   },
   {
    "duration": 37,
    "start_time": "2022-04-23T09:56:04.737Z"
   },
   {
    "duration": 275,
    "start_time": "2022-04-23T09:56:04.778Z"
   },
   {
    "duration": 190,
    "start_time": "2022-04-23T09:56:05.067Z"
   },
   {
    "duration": 15,
    "start_time": "2022-04-23T09:56:05.259Z"
   },
   {
    "duration": 30,
    "start_time": "2022-04-23T09:56:05.277Z"
   },
   {
    "duration": 326,
    "start_time": "2022-04-23T09:56:05.313Z"
   },
   {
    "duration": 269,
    "start_time": "2022-04-23T09:56:05.641Z"
   },
   {
    "duration": 148,
    "start_time": "2022-04-23T09:56:05.912Z"
   },
   {
    "duration": 11,
    "start_time": "2022-04-23T09:56:06.062Z"
   },
   {
    "duration": 33,
    "start_time": "2022-04-23T09:56:06.075Z"
   },
   {
    "duration": 328,
    "start_time": "2022-04-23T09:56:06.110Z"
   },
   {
    "duration": 185,
    "start_time": "2022-04-23T09:56:06.441Z"
   },
   {
    "duration": 170,
    "start_time": "2022-04-23T09:56:06.629Z"
   },
   {
    "duration": 14,
    "start_time": "2022-04-23T09:56:06.802Z"
   },
   {
    "duration": 10,
    "start_time": "2022-04-23T09:56:06.818Z"
   },
   {
    "duration": 355,
    "start_time": "2022-04-23T09:56:06.830Z"
   },
   {
    "duration": 21,
    "start_time": "2022-04-23T09:56:07.187Z"
   },
   {
    "duration": 19,
    "start_time": "2022-04-23T09:56:07.210Z"
   },
   {
    "duration": 71,
    "start_time": "2022-04-23T09:56:07.232Z"
   },
   {
    "duration": 32,
    "start_time": "2022-04-23T09:56:07.306Z"
   },
   {
    "duration": 461,
    "start_time": "2022-04-23T09:56:07.341Z"
   },
   {
    "duration": 323,
    "start_time": "2022-04-23T09:56:07.805Z"
   },
   {
    "duration": 31,
    "start_time": "2022-04-23T09:56:08.130Z"
   },
   {
    "duration": 55,
    "start_time": "2022-04-23T09:56:08.163Z"
   },
   {
    "duration": 6,
    "start_time": "2022-04-23T09:56:08.221Z"
   },
   {
    "duration": 9,
    "start_time": "2022-04-23T09:56:08.230Z"
   },
   {
    "duration": 11,
    "start_time": "2022-04-23T09:56:08.241Z"
   },
   {
    "duration": 54,
    "start_time": "2022-04-23T18:23:39.526Z"
   },
   {
    "duration": 1442,
    "start_time": "2022-04-23T18:23:48.750Z"
   },
   {
    "duration": 260,
    "start_time": "2022-04-23T18:23:50.194Z"
   },
   {
    "duration": 29,
    "start_time": "2022-04-23T18:23:50.455Z"
   },
   {
    "duration": 158,
    "start_time": "2022-04-23T18:23:50.486Z"
   },
   {
    "duration": 22,
    "start_time": "2022-04-23T18:23:50.646Z"
   },
   {
    "duration": 102,
    "start_time": "2022-04-23T18:23:50.670Z"
   },
   {
    "duration": 19,
    "start_time": "2022-04-23T18:23:50.774Z"
   },
   {
    "duration": 23,
    "start_time": "2022-04-23T18:23:50.794Z"
   },
   {
    "duration": 46,
    "start_time": "2022-04-23T18:23:50.819Z"
   },
   {
    "duration": 11,
    "start_time": "2022-04-23T18:23:50.868Z"
   },
   {
    "duration": 13,
    "start_time": "2022-04-23T18:23:50.881Z"
   },
   {
    "duration": 12,
    "start_time": "2022-04-23T18:23:50.895Z"
   },
   {
    "duration": 7,
    "start_time": "2022-04-23T18:23:50.909Z"
   },
   {
    "duration": 5,
    "start_time": "2022-04-23T18:23:50.918Z"
   },
   {
    "duration": 7,
    "start_time": "2022-04-23T18:23:50.925Z"
   },
   {
    "duration": 18,
    "start_time": "2022-04-23T18:23:50.937Z"
   },
   {
    "duration": 27,
    "start_time": "2022-04-23T18:23:50.957Z"
   },
   {
    "duration": 20,
    "start_time": "2022-04-23T18:23:50.986Z"
   },
   {
    "duration": 32,
    "start_time": "2022-04-23T18:23:51.008Z"
   },
   {
    "duration": 8,
    "start_time": "2022-04-23T18:23:51.042Z"
   },
   {
    "duration": 55,
    "start_time": "2022-04-23T18:23:51.053Z"
   },
   {
    "duration": 62,
    "start_time": "2022-04-23T18:23:51.111Z"
   },
   {
    "duration": 33,
    "start_time": "2022-04-23T18:23:51.175Z"
   },
   {
    "duration": 36,
    "start_time": "2022-04-23T18:23:51.209Z"
   },
   {
    "duration": 12,
    "start_time": "2022-04-23T18:23:51.247Z"
   },
   {
    "duration": 8,
    "start_time": "2022-04-23T18:23:51.261Z"
   },
   {
    "duration": 113,
    "start_time": "2022-04-23T18:23:51.270Z"
   },
   {
    "duration": 59,
    "start_time": "2022-04-23T18:23:51.388Z"
   },
   {
    "duration": 48,
    "start_time": "2022-04-23T18:23:51.449Z"
   },
   {
    "duration": 6,
    "start_time": "2022-04-23T18:23:51.499Z"
   },
   {
    "duration": 61,
    "start_time": "2022-04-23T18:23:51.507Z"
   },
   {
    "duration": 17,
    "start_time": "2022-04-23T18:23:51.569Z"
   },
   {
    "duration": 331,
    "start_time": "2022-04-23T18:23:51.588Z"
   },
   {
    "duration": 282,
    "start_time": "2022-04-23T18:23:51.920Z"
   },
   {
    "duration": 18,
    "start_time": "2022-04-23T18:23:52.203Z"
   },
   {
    "duration": 271,
    "start_time": "2022-04-23T18:23:52.222Z"
   },
   {
    "duration": 16,
    "start_time": "2022-04-23T18:23:52.494Z"
   },
   {
    "duration": 29,
    "start_time": "2022-04-23T18:23:52.512Z"
   },
   {
    "duration": 340,
    "start_time": "2022-04-23T18:23:52.544Z"
   },
   {
    "duration": 242,
    "start_time": "2022-04-23T18:23:52.886Z"
   },
   {
    "duration": 12,
    "start_time": "2022-04-23T18:23:53.133Z"
   },
   {
    "duration": 32,
    "start_time": "2022-04-23T18:23:53.147Z"
   },
   {
    "duration": 25,
    "start_time": "2022-04-23T18:23:53.181Z"
   },
   {
    "duration": 42,
    "start_time": "2022-04-23T18:23:53.207Z"
   },
   {
    "duration": 13,
    "start_time": "2022-04-23T18:23:53.251Z"
   },
   {
    "duration": 3,
    "start_time": "2022-04-23T18:23:53.266Z"
   },
   {
    "duration": 63,
    "start_time": "2022-04-23T18:23:53.272Z"
   },
   {
    "duration": 25,
    "start_time": "2022-04-23T18:23:53.338Z"
   },
   {
    "duration": 25,
    "start_time": "2022-04-23T18:23:53.365Z"
   },
   {
    "duration": 45,
    "start_time": "2022-04-23T18:23:53.392Z"
   },
   {
    "duration": 14,
    "start_time": "2022-04-23T18:23:53.439Z"
   },
   {
    "duration": 16,
    "start_time": "2022-04-23T18:23:53.454Z"
   },
   {
    "duration": 14,
    "start_time": "2022-04-23T18:23:53.472Z"
   },
   {
    "duration": 6,
    "start_time": "2022-04-23T18:23:53.488Z"
   },
   {
    "duration": 41,
    "start_time": "2022-04-23T18:23:53.496Z"
   },
   {
    "duration": 20,
    "start_time": "2022-04-23T18:23:53.538Z"
   },
   {
    "duration": 6,
    "start_time": "2022-04-23T18:23:53.560Z"
   },
   {
    "duration": 35,
    "start_time": "2022-04-23T18:23:53.568Z"
   },
   {
    "duration": 42,
    "start_time": "2022-04-23T18:23:53.606Z"
   },
   {
    "duration": 4,
    "start_time": "2022-04-23T18:23:53.651Z"
   },
   {
    "duration": 34,
    "start_time": "2022-04-23T18:23:53.657Z"
   },
   {
    "duration": 45,
    "start_time": "2022-04-23T18:23:53.693Z"
   },
   {
    "duration": 5,
    "start_time": "2022-04-23T18:23:53.740Z"
   },
   {
    "duration": 32,
    "start_time": "2022-04-23T18:23:53.747Z"
   },
   {
    "duration": 22,
    "start_time": "2022-04-23T18:23:53.780Z"
   },
   {
    "duration": 31,
    "start_time": "2022-04-23T18:23:53.804Z"
   },
   {
    "duration": 23,
    "start_time": "2022-04-23T18:23:53.839Z"
   },
   {
    "duration": 7,
    "start_time": "2022-04-23T18:23:53.863Z"
   },
   {
    "duration": 18,
    "start_time": "2022-04-23T18:23:53.872Z"
   },
   {
    "duration": 13,
    "start_time": "2022-04-23T18:23:53.892Z"
   },
   {
    "duration": 35,
    "start_time": "2022-04-23T18:23:53.907Z"
   },
   {
    "duration": 8,
    "start_time": "2022-04-23T18:23:53.945Z"
   },
   {
    "duration": 19,
    "start_time": "2022-04-23T18:23:53.955Z"
   },
   {
    "duration": 17,
    "start_time": "2022-04-23T18:23:53.976Z"
   },
   {
    "duration": 42,
    "start_time": "2022-04-23T18:23:53.995Z"
   },
   {
    "duration": 20,
    "start_time": "2022-04-23T18:23:54.039Z"
   },
   {
    "duration": 7,
    "start_time": "2022-04-23T18:23:54.060Z"
   },
   {
    "duration": 8,
    "start_time": "2022-04-23T18:23:54.069Z"
   },
   {
    "duration": 13,
    "start_time": "2022-04-23T18:23:54.078Z"
   },
   {
    "duration": 23,
    "start_time": "2022-04-23T18:23:54.093Z"
   },
   {
    "duration": 37,
    "start_time": "2022-04-23T18:23:54.117Z"
   },
   {
    "duration": 122,
    "start_time": "2022-04-23T18:23:54.160Z"
   },
   {
    "duration": 129,
    "start_time": "2022-04-23T18:23:54.283Z"
   },
   {
    "duration": 8,
    "start_time": "2022-04-23T18:23:54.414Z"
   },
   {
    "duration": 19,
    "start_time": "2022-04-23T18:23:54.424Z"
   },
   {
    "duration": 226,
    "start_time": "2022-04-23T18:23:54.445Z"
   },
   {
    "duration": 210,
    "start_time": "2022-04-23T18:23:54.673Z"
   },
   {
    "duration": 114,
    "start_time": "2022-04-23T18:23:54.885Z"
   },
   {
    "duration": 10,
    "start_time": "2022-04-23T18:23:55.001Z"
   },
   {
    "duration": 23,
    "start_time": "2022-04-23T18:23:55.012Z"
   },
   {
    "duration": 231,
    "start_time": "2022-04-23T18:23:55.037Z"
   },
   {
    "duration": 117,
    "start_time": "2022-04-23T18:23:55.269Z"
   },
   {
    "duration": 114,
    "start_time": "2022-04-23T18:23:55.388Z"
   },
   {
    "duration": 8,
    "start_time": "2022-04-23T18:23:55.504Z"
   },
   {
    "duration": 23,
    "start_time": "2022-04-23T18:23:55.513Z"
   },
   {
    "duration": 209,
    "start_time": "2022-04-23T18:23:55.538Z"
   },
   {
    "duration": 14,
    "start_time": "2022-04-23T18:23:55.750Z"
   },
   {
    "duration": 14,
    "start_time": "2022-04-23T18:23:55.765Z"
   },
   {
    "duration": 22,
    "start_time": "2022-04-23T18:23:55.780Z"
   },
   {
    "duration": 43,
    "start_time": "2022-04-23T18:23:55.804Z"
   },
   {
    "duration": 202,
    "start_time": "2022-04-23T18:23:55.848Z"
   },
   {
    "duration": 212,
    "start_time": "2022-04-23T18:23:56.051Z"
   },
   {
    "duration": 21,
    "start_time": "2022-04-23T18:23:56.265Z"
   },
   {
    "duration": 22,
    "start_time": "2022-04-23T18:23:56.288Z"
   },
   {
    "duration": 30,
    "start_time": "2022-04-23T18:23:56.311Z"
   },
   {
    "duration": 15,
    "start_time": "2022-04-23T18:23:56.343Z"
   },
   {
    "duration": 12,
    "start_time": "2022-04-23T18:23:56.359Z"
   },
   {
    "duration": 1367,
    "start_time": "2022-04-23T18:29:13.582Z"
   },
   {
    "duration": 249,
    "start_time": "2022-04-23T18:29:14.951Z"
   },
   {
    "duration": 43,
    "start_time": "2022-04-23T18:29:15.202Z"
   },
   {
    "duration": 145,
    "start_time": "2022-04-23T18:29:15.247Z"
   },
   {
    "duration": 22,
    "start_time": "2022-04-23T18:29:15.394Z"
   },
   {
    "duration": 104,
    "start_time": "2022-04-23T18:29:15.418Z"
   },
   {
    "duration": 28,
    "start_time": "2022-04-23T18:29:15.524Z"
   },
   {
    "duration": 26,
    "start_time": "2022-04-23T18:29:15.553Z"
   },
   {
    "duration": 42,
    "start_time": "2022-04-23T18:29:15.581Z"
   },
   {
    "duration": 11,
    "start_time": "2022-04-23T18:29:15.625Z"
   },
   {
    "duration": 24,
    "start_time": "2022-04-23T18:29:15.637Z"
   },
   {
    "duration": 8,
    "start_time": "2022-04-23T18:29:15.663Z"
   },
   {
    "duration": 9,
    "start_time": "2022-04-23T18:29:15.672Z"
   },
   {
    "duration": 4,
    "start_time": "2022-04-23T18:29:15.684Z"
   },
   {
    "duration": 7,
    "start_time": "2022-04-23T18:29:15.690Z"
   },
   {
    "duration": 8,
    "start_time": "2022-04-23T18:29:15.699Z"
   },
   {
    "duration": 26,
    "start_time": "2022-04-23T18:29:15.708Z"
   },
   {
    "duration": 27,
    "start_time": "2022-04-23T18:29:15.736Z"
   },
   {
    "duration": 17,
    "start_time": "2022-04-23T18:29:15.765Z"
   },
   {
    "duration": 8,
    "start_time": "2022-04-23T18:29:15.784Z"
   },
   {
    "duration": 82,
    "start_time": "2022-04-23T18:29:15.794Z"
   },
   {
    "duration": 39,
    "start_time": "2022-04-23T18:29:15.878Z"
   },
   {
    "duration": 53,
    "start_time": "2022-04-23T18:29:15.919Z"
   },
   {
    "duration": 13,
    "start_time": "2022-04-23T18:29:15.974Z"
   },
   {
    "duration": 7,
    "start_time": "2022-04-23T18:29:15.989Z"
   },
   {
    "duration": 7,
    "start_time": "2022-04-23T18:29:15.997Z"
   },
   {
    "duration": 142,
    "start_time": "2022-04-23T18:29:16.006Z"
   },
   {
    "duration": 44,
    "start_time": "2022-04-23T18:29:16.149Z"
   },
   {
    "duration": 68,
    "start_time": "2022-04-23T18:29:16.194Z"
   },
   {
    "duration": 8,
    "start_time": "2022-04-23T18:29:16.264Z"
   },
   {
    "duration": 18,
    "start_time": "2022-04-23T18:29:16.274Z"
   },
   {
    "duration": 46,
    "start_time": "2022-04-23T18:29:16.295Z"
   },
   {
    "duration": 338,
    "start_time": "2022-04-23T18:29:16.343Z"
   },
   {
    "duration": 285,
    "start_time": "2022-04-23T18:29:16.683Z"
   },
   {
    "duration": 19,
    "start_time": "2022-04-23T18:29:16.970Z"
   },
   {
    "duration": 251,
    "start_time": "2022-04-23T18:29:16.991Z"
   },
   {
    "duration": 15,
    "start_time": "2022-04-23T18:29:17.244Z"
   },
   {
    "duration": 13,
    "start_time": "2022-04-23T18:29:17.261Z"
   },
   {
    "duration": 327,
    "start_time": "2022-04-23T18:29:17.276Z"
   },
   {
    "duration": 219,
    "start_time": "2022-04-23T18:29:17.605Z"
   },
   {
    "duration": 15,
    "start_time": "2022-04-23T18:29:17.834Z"
   },
   {
    "duration": 29,
    "start_time": "2022-04-23T18:29:17.850Z"
   },
   {
    "duration": 24,
    "start_time": "2022-04-23T18:29:17.881Z"
   },
   {
    "duration": 41,
    "start_time": "2022-04-23T18:29:17.906Z"
   },
   {
    "duration": 11,
    "start_time": "2022-04-23T18:29:17.950Z"
   },
   {
    "duration": 2,
    "start_time": "2022-04-23T18:29:17.962Z"
   },
   {
    "duration": 32,
    "start_time": "2022-04-23T18:29:17.966Z"
   },
   {
    "duration": 48,
    "start_time": "2022-04-23T18:29:18.000Z"
   },
   {
    "duration": 177,
    "start_time": "2022-04-23T18:29:18.050Z"
   },
   {
    "duration": 1,
    "start_time": "2022-04-23T18:29:18.228Z"
   },
   {
    "duration": 0,
    "start_time": "2022-04-23T18:29:18.230Z"
   },
   {
    "duration": 0,
    "start_time": "2022-04-23T18:29:18.231Z"
   },
   {
    "duration": 0,
    "start_time": "2022-04-23T18:29:18.231Z"
   },
   {
    "duration": 0,
    "start_time": "2022-04-23T18:29:18.232Z"
   },
   {
    "duration": 0,
    "start_time": "2022-04-23T18:29:18.235Z"
   },
   {
    "duration": 0,
    "start_time": "2022-04-23T18:29:18.237Z"
   },
   {
    "duration": 0,
    "start_time": "2022-04-23T18:29:18.238Z"
   },
   {
    "duration": 0,
    "start_time": "2022-04-23T18:29:18.239Z"
   },
   {
    "duration": 0,
    "start_time": "2022-04-23T18:29:18.240Z"
   },
   {
    "duration": 0,
    "start_time": "2022-04-23T18:29:18.241Z"
   },
   {
    "duration": 0,
    "start_time": "2022-04-23T18:29:18.242Z"
   },
   {
    "duration": 0,
    "start_time": "2022-04-23T18:29:18.244Z"
   },
   {
    "duration": 0,
    "start_time": "2022-04-23T18:29:18.245Z"
   },
   {
    "duration": 0,
    "start_time": "2022-04-23T18:29:18.246Z"
   },
   {
    "duration": 0,
    "start_time": "2022-04-23T18:29:18.248Z"
   },
   {
    "duration": 0,
    "start_time": "2022-04-23T18:29:18.249Z"
   },
   {
    "duration": 0,
    "start_time": "2022-04-23T18:29:18.250Z"
   },
   {
    "duration": 0,
    "start_time": "2022-04-23T18:29:18.251Z"
   },
   {
    "duration": 0,
    "start_time": "2022-04-23T18:29:18.253Z"
   },
   {
    "duration": 0,
    "start_time": "2022-04-23T18:29:18.254Z"
   },
   {
    "duration": 0,
    "start_time": "2022-04-23T18:29:18.255Z"
   },
   {
    "duration": 0,
    "start_time": "2022-04-23T18:29:18.256Z"
   },
   {
    "duration": 0,
    "start_time": "2022-04-23T18:29:18.257Z"
   },
   {
    "duration": 0,
    "start_time": "2022-04-23T18:29:18.258Z"
   },
   {
    "duration": 0,
    "start_time": "2022-04-23T18:29:18.259Z"
   },
   {
    "duration": 0,
    "start_time": "2022-04-23T18:29:18.260Z"
   },
   {
    "duration": 0,
    "start_time": "2022-04-23T18:29:18.262Z"
   },
   {
    "duration": 0,
    "start_time": "2022-04-23T18:29:18.263Z"
   },
   {
    "duration": 0,
    "start_time": "2022-04-23T18:29:18.264Z"
   },
   {
    "duration": 0,
    "start_time": "2022-04-23T18:29:18.265Z"
   },
   {
    "duration": 0,
    "start_time": "2022-04-23T18:29:18.266Z"
   },
   {
    "duration": 0,
    "start_time": "2022-04-23T18:29:18.267Z"
   },
   {
    "duration": 0,
    "start_time": "2022-04-23T18:29:18.268Z"
   },
   {
    "duration": 0,
    "start_time": "2022-04-23T18:29:18.270Z"
   },
   {
    "duration": 0,
    "start_time": "2022-04-23T18:29:18.271Z"
   },
   {
    "duration": 0,
    "start_time": "2022-04-23T18:29:18.272Z"
   },
   {
    "duration": 0,
    "start_time": "2022-04-23T18:29:18.273Z"
   },
   {
    "duration": 0,
    "start_time": "2022-04-23T18:29:18.274Z"
   },
   {
    "duration": 0,
    "start_time": "2022-04-23T18:29:18.275Z"
   },
   {
    "duration": 0,
    "start_time": "2022-04-23T18:29:18.276Z"
   },
   {
    "duration": 0,
    "start_time": "2022-04-23T18:29:18.277Z"
   },
   {
    "duration": 0,
    "start_time": "2022-04-23T18:29:18.337Z"
   },
   {
    "duration": 0,
    "start_time": "2022-04-23T18:29:18.338Z"
   },
   {
    "duration": 0,
    "start_time": "2022-04-23T18:29:18.338Z"
   },
   {
    "duration": 0,
    "start_time": "2022-04-23T18:29:18.339Z"
   },
   {
    "duration": 0,
    "start_time": "2022-04-23T18:29:18.340Z"
   },
   {
    "duration": 0,
    "start_time": "2022-04-23T18:29:18.340Z"
   },
   {
    "duration": 0,
    "start_time": "2022-04-23T18:29:18.341Z"
   },
   {
    "duration": 0,
    "start_time": "2022-04-23T18:29:18.342Z"
   },
   {
    "duration": 0,
    "start_time": "2022-04-23T18:29:18.343Z"
   },
   {
    "duration": 0,
    "start_time": "2022-04-23T18:29:18.350Z"
   },
   {
    "duration": 0,
    "start_time": "2022-04-23T18:29:18.351Z"
   },
   {
    "duration": 0,
    "start_time": "2022-04-23T18:29:18.352Z"
   },
   {
    "duration": 0,
    "start_time": "2022-04-23T18:29:18.353Z"
   },
   {
    "duration": 0,
    "start_time": "2022-04-23T18:29:18.355Z"
   },
   {
    "duration": 0,
    "start_time": "2022-04-23T18:29:18.357Z"
   },
   {
    "duration": 0,
    "start_time": "2022-04-23T18:29:18.358Z"
   },
   {
    "duration": 0,
    "start_time": "2022-04-23T18:29:18.359Z"
   },
   {
    "duration": 1069,
    "start_time": "2022-04-23T18:29:59.368Z"
   },
   {
    "duration": 229,
    "start_time": "2022-04-23T18:30:00.439Z"
   },
   {
    "duration": 27,
    "start_time": "2022-04-23T18:30:00.670Z"
   },
   {
    "duration": 163,
    "start_time": "2022-04-23T18:30:00.699Z"
   },
   {
    "duration": 22,
    "start_time": "2022-04-23T18:30:00.865Z"
   },
   {
    "duration": 103,
    "start_time": "2022-04-23T18:30:00.889Z"
   },
   {
    "duration": 20,
    "start_time": "2022-04-23T18:30:00.994Z"
   },
   {
    "duration": 38,
    "start_time": "2022-04-23T18:30:01.016Z"
   },
   {
    "duration": 45,
    "start_time": "2022-04-23T18:30:01.057Z"
   },
   {
    "duration": 12,
    "start_time": "2022-04-23T18:30:01.105Z"
   },
   {
    "duration": 17,
    "start_time": "2022-04-23T18:30:01.119Z"
   },
   {
    "duration": 15,
    "start_time": "2022-04-23T18:30:01.138Z"
   },
   {
    "duration": 13,
    "start_time": "2022-04-23T18:30:01.155Z"
   },
   {
    "duration": 9,
    "start_time": "2022-04-23T18:30:01.171Z"
   },
   {
    "duration": 20,
    "start_time": "2022-04-23T18:30:01.182Z"
   },
   {
    "duration": 22,
    "start_time": "2022-04-23T18:30:01.204Z"
   },
   {
    "duration": 39,
    "start_time": "2022-04-23T18:30:01.228Z"
   },
   {
    "duration": 20,
    "start_time": "2022-04-23T18:30:01.269Z"
   },
   {
    "duration": 23,
    "start_time": "2022-04-23T18:30:01.291Z"
   },
   {
    "duration": 24,
    "start_time": "2022-04-23T18:30:01.316Z"
   },
   {
    "duration": 67,
    "start_time": "2022-04-23T18:30:01.342Z"
   },
   {
    "duration": 55,
    "start_time": "2022-04-23T18:30:01.411Z"
   },
   {
    "duration": 34,
    "start_time": "2022-04-23T18:30:01.469Z"
   },
   {
    "duration": 41,
    "start_time": "2022-04-23T18:30:01.506Z"
   },
   {
    "duration": 22,
    "start_time": "2022-04-23T18:30:01.549Z"
   },
   {
    "duration": 27,
    "start_time": "2022-04-23T18:30:01.573Z"
   },
   {
    "duration": 136,
    "start_time": "2022-04-23T18:30:01.602Z"
   },
   {
    "duration": 53,
    "start_time": "2022-04-23T18:30:01.740Z"
   },
   {
    "duration": 69,
    "start_time": "2022-04-23T18:30:01.795Z"
   },
   {
    "duration": 28,
    "start_time": "2022-04-23T18:30:01.865Z"
   },
   {
    "duration": 52,
    "start_time": "2022-04-23T18:30:01.895Z"
   },
   {
    "duration": 40,
    "start_time": "2022-04-23T18:30:01.950Z"
   },
   {
    "duration": 361,
    "start_time": "2022-04-23T18:30:01.992Z"
   },
   {
    "duration": 314,
    "start_time": "2022-04-23T18:30:02.354Z"
   },
   {
    "duration": 19,
    "start_time": "2022-04-23T18:30:02.670Z"
   },
   {
    "duration": 275,
    "start_time": "2022-04-23T18:30:02.691Z"
   },
   {
    "duration": 16,
    "start_time": "2022-04-23T18:30:02.968Z"
   },
   {
    "duration": 15,
    "start_time": "2022-04-23T18:30:02.986Z"
   },
   {
    "duration": 357,
    "start_time": "2022-04-23T18:30:03.002Z"
   },
   {
    "duration": 269,
    "start_time": "2022-04-23T18:30:03.361Z"
   },
   {
    "duration": 11,
    "start_time": "2022-04-23T18:30:03.639Z"
   },
   {
    "duration": 31,
    "start_time": "2022-04-23T18:30:03.652Z"
   },
   {
    "duration": 26,
    "start_time": "2022-04-23T18:30:03.685Z"
   },
   {
    "duration": 45,
    "start_time": "2022-04-23T18:30:03.712Z"
   },
   {
    "duration": 13,
    "start_time": "2022-04-23T18:30:03.759Z"
   },
   {
    "duration": 2,
    "start_time": "2022-04-23T18:30:03.774Z"
   },
   {
    "duration": 62,
    "start_time": "2022-04-23T18:30:03.778Z"
   },
   {
    "duration": 23,
    "start_time": "2022-04-23T18:30:03.842Z"
   },
   {
    "duration": 2,
    "start_time": "2022-04-23T18:30:03.867Z"
   },
   {
    "duration": 35,
    "start_time": "2022-04-23T18:30:03.871Z"
   },
   {
    "duration": 46,
    "start_time": "2022-04-23T18:30:03.908Z"
   },
   {
    "duration": 12,
    "start_time": "2022-04-23T18:30:03.955Z"
   },
   {
    "duration": 19,
    "start_time": "2022-04-23T18:30:03.969Z"
   },
   {
    "duration": 18,
    "start_time": "2022-04-23T18:30:03.989Z"
   },
   {
    "duration": 7,
    "start_time": "2022-04-23T18:30:04.009Z"
   },
   {
    "duration": 15,
    "start_time": "2022-04-23T18:30:04.034Z"
   },
   {
    "duration": 14,
    "start_time": "2022-04-23T18:30:04.051Z"
   },
   {
    "duration": 9,
    "start_time": "2022-04-23T18:30:04.066Z"
   },
   {
    "duration": 37,
    "start_time": "2022-04-23T18:30:04.076Z"
   },
   {
    "duration": 27,
    "start_time": "2022-04-23T18:30:04.132Z"
   },
   {
    "duration": 8,
    "start_time": "2022-04-23T18:30:04.161Z"
   },
   {
    "duration": 39,
    "start_time": "2022-04-23T18:30:04.171Z"
   },
   {
    "duration": 27,
    "start_time": "2022-04-23T18:30:04.233Z"
   },
   {
    "duration": 4,
    "start_time": "2022-04-23T18:30:04.262Z"
   },
   {
    "duration": 53,
    "start_time": "2022-04-23T18:30:04.267Z"
   },
   {
    "duration": 35,
    "start_time": "2022-04-23T18:30:04.322Z"
   },
   {
    "duration": 3,
    "start_time": "2022-04-23T18:30:04.359Z"
   },
   {
    "duration": 26,
    "start_time": "2022-04-23T18:30:04.364Z"
   },
   {
    "duration": 8,
    "start_time": "2022-04-23T18:30:04.391Z"
   },
   {
    "duration": 47,
    "start_time": "2022-04-23T18:30:04.401Z"
   },
   {
    "duration": 15,
    "start_time": "2022-04-23T18:30:04.450Z"
   },
   {
    "duration": 16,
    "start_time": "2022-04-23T18:30:04.467Z"
   },
   {
    "duration": 6,
    "start_time": "2022-04-23T18:30:04.485Z"
   },
   {
    "duration": 20,
    "start_time": "2022-04-23T18:30:04.493Z"
   },
   {
    "duration": 20,
    "start_time": "2022-04-23T18:30:04.540Z"
   },
   {
    "duration": 17,
    "start_time": "2022-04-23T18:30:04.561Z"
   },
   {
    "duration": 17,
    "start_time": "2022-04-23T18:30:04.580Z"
   },
   {
    "duration": 4,
    "start_time": "2022-04-23T18:30:04.599Z"
   },
   {
    "duration": 8,
    "start_time": "2022-04-23T18:30:04.635Z"
   },
   {
    "duration": 16,
    "start_time": "2022-04-23T18:30:04.645Z"
   },
   {
    "duration": 23,
    "start_time": "2022-04-23T18:30:04.663Z"
   },
   {
    "duration": 20,
    "start_time": "2022-04-23T18:30:04.688Z"
   },
   {
    "duration": 151,
    "start_time": "2022-04-23T18:30:04.710Z"
   },
   {
    "duration": 126,
    "start_time": "2022-04-23T18:30:04.862Z"
   },
   {
    "duration": 10,
    "start_time": "2022-04-23T18:30:04.990Z"
   },
   {
    "duration": 35,
    "start_time": "2022-04-23T18:30:05.003Z"
   },
   {
    "duration": 311,
    "start_time": "2022-04-23T18:30:05.041Z"
   },
   {
    "duration": 123,
    "start_time": "2022-04-23T18:30:05.354Z"
   },
   {
    "duration": 111,
    "start_time": "2022-04-23T18:30:05.479Z"
   },
   {
    "duration": 9,
    "start_time": "2022-04-23T18:30:05.592Z"
   },
   {
    "duration": 15,
    "start_time": "2022-04-23T18:30:05.602Z"
   },
   {
    "duration": 252,
    "start_time": "2022-04-23T18:30:05.618Z"
   },
   {
    "duration": 129,
    "start_time": "2022-04-23T18:30:05.872Z"
   },
   {
    "duration": 116,
    "start_time": "2022-04-23T18:30:06.003Z"
   },
   {
    "duration": 15,
    "start_time": "2022-04-23T18:30:06.120Z"
   },
   {
    "duration": 18,
    "start_time": "2022-04-23T18:30:06.137Z"
   },
   {
    "duration": 223,
    "start_time": "2022-04-23T18:30:06.157Z"
   },
   {
    "duration": 12,
    "start_time": "2022-04-23T18:30:06.382Z"
   },
   {
    "duration": 13,
    "start_time": "2022-04-23T18:30:06.396Z"
   },
   {
    "duration": 43,
    "start_time": "2022-04-23T18:30:06.411Z"
   },
   {
    "duration": 18,
    "start_time": "2022-04-23T18:30:06.456Z"
   },
   {
    "duration": 240,
    "start_time": "2022-04-23T18:30:06.476Z"
   },
   {
    "duration": 238,
    "start_time": "2022-04-23T18:30:06.718Z"
   },
   {
    "duration": 21,
    "start_time": "2022-04-23T18:30:06.958Z"
   },
   {
    "duration": 22,
    "start_time": "2022-04-23T18:30:06.981Z"
   },
   {
    "duration": 31,
    "start_time": "2022-04-23T18:30:07.004Z"
   },
   {
    "duration": 7,
    "start_time": "2022-04-23T18:30:07.038Z"
   },
   {
    "duration": 13,
    "start_time": "2022-04-23T18:30:07.047Z"
   },
   {
    "duration": 132,
    "start_time": "2022-04-23T18:51:09.657Z"
   },
   {
    "duration": 125,
    "start_time": "2022-04-23T18:51:31.699Z"
   },
   {
    "duration": 268,
    "start_time": "2022-04-23T18:51:44.217Z"
   },
   {
    "duration": 209,
    "start_time": "2022-04-23T19:11:37.846Z"
   },
   {
    "duration": 210,
    "start_time": "2022-04-23T19:11:50.244Z"
   },
   {
    "duration": 214,
    "start_time": "2022-04-23T19:11:59.796Z"
   },
   {
    "duration": 201,
    "start_time": "2022-04-23T19:12:10.753Z"
   },
   {
    "duration": 212,
    "start_time": "2022-04-23T19:14:19.295Z"
   },
   {
    "duration": 215,
    "start_time": "2022-04-23T19:21:00.299Z"
   },
   {
    "duration": 120,
    "start_time": "2022-04-23T19:22:03.898Z"
   },
   {
    "duration": 115,
    "start_time": "2022-04-23T19:22:06.171Z"
   },
   {
    "duration": 121,
    "start_time": "2022-04-23T19:22:10.858Z"
   },
   {
    "duration": 111,
    "start_time": "2022-04-23T19:22:11.801Z"
   },
   {
    "duration": 204,
    "start_time": "2022-04-23T19:22:27.367Z"
   },
   {
    "duration": 313,
    "start_time": "2022-04-23T19:23:02.534Z"
   },
   {
    "duration": 220,
    "start_time": "2022-04-23T19:23:34.031Z"
   },
   {
    "duration": 211,
    "start_time": "2022-04-23T19:23:47.767Z"
   },
   {
    "duration": 227,
    "start_time": "2022-04-23T19:24:21.362Z"
   },
   {
    "duration": 232,
    "start_time": "2022-04-23T19:32:04.471Z"
   },
   {
    "duration": 46,
    "start_time": "2022-04-24T09:41:34.940Z"
   },
   {
    "duration": 1184,
    "start_time": "2022-04-24T09:41:41.696Z"
   },
   {
    "duration": 197,
    "start_time": "2022-04-24T09:41:42.882Z"
   },
   {
    "duration": 53,
    "start_time": "2022-04-24T09:41:43.080Z"
   },
   {
    "duration": 190,
    "start_time": "2022-04-24T09:41:43.137Z"
   },
   {
    "duration": 20,
    "start_time": "2022-04-24T09:41:43.329Z"
   },
   {
    "duration": 89,
    "start_time": "2022-04-24T09:41:43.351Z"
   },
   {
    "duration": 21,
    "start_time": "2022-04-24T09:41:43.441Z"
   },
   {
    "duration": 18,
    "start_time": "2022-04-24T09:41:43.464Z"
   },
   {
    "duration": 41,
    "start_time": "2022-04-24T09:41:43.484Z"
   },
   {
    "duration": 14,
    "start_time": "2022-04-24T09:41:43.530Z"
   },
   {
    "duration": 22,
    "start_time": "2022-04-24T09:41:43.546Z"
   },
   {
    "duration": 6,
    "start_time": "2022-04-24T09:41:43.570Z"
   },
   {
    "duration": 6,
    "start_time": "2022-04-24T09:41:43.577Z"
   },
   {
    "duration": 5,
    "start_time": "2022-04-24T09:41:43.585Z"
   },
   {
    "duration": 5,
    "start_time": "2022-04-24T09:41:43.592Z"
   },
   {
    "duration": 42,
    "start_time": "2022-04-24T09:41:43.599Z"
   },
   {
    "duration": 37,
    "start_time": "2022-04-24T09:41:43.643Z"
   },
   {
    "duration": 16,
    "start_time": "2022-04-24T09:41:43.682Z"
   },
   {
    "duration": 12,
    "start_time": "2022-04-24T09:41:43.699Z"
   },
   {
    "duration": 9,
    "start_time": "2022-04-24T09:41:43.712Z"
   },
   {
    "duration": 59,
    "start_time": "2022-04-24T09:41:43.722Z"
   },
   {
    "duration": 32,
    "start_time": "2022-04-24T09:41:43.782Z"
   },
   {
    "duration": 39,
    "start_time": "2022-04-24T09:41:43.816Z"
   },
   {
    "duration": 12,
    "start_time": "2022-04-24T09:41:43.858Z"
   },
   {
    "duration": 7,
    "start_time": "2022-04-24T09:41:43.872Z"
   },
   {
    "duration": 6,
    "start_time": "2022-04-24T09:41:43.880Z"
   },
   {
    "duration": 117,
    "start_time": "2022-04-24T09:41:43.887Z"
   },
   {
    "duration": 51,
    "start_time": "2022-04-24T09:41:44.008Z"
   },
   {
    "duration": 38,
    "start_time": "2022-04-24T09:41:44.061Z"
   },
   {
    "duration": 30,
    "start_time": "2022-04-24T09:41:44.100Z"
   },
   {
    "duration": 18,
    "start_time": "2022-04-24T09:41:44.131Z"
   },
   {
    "duration": 22,
    "start_time": "2022-04-24T09:41:44.150Z"
   },
   {
    "duration": 302,
    "start_time": "2022-04-24T09:41:44.173Z"
   },
   {
    "duration": 260,
    "start_time": "2022-04-24T09:41:44.476Z"
   },
   {
    "duration": 21,
    "start_time": "2022-04-24T09:41:44.740Z"
   },
   {
    "duration": 222,
    "start_time": "2022-04-24T09:41:44.762Z"
   },
   {
    "duration": 12,
    "start_time": "2022-04-24T09:41:44.985Z"
   },
   {
    "duration": 32,
    "start_time": "2022-04-24T09:41:44.999Z"
   },
   {
    "duration": 308,
    "start_time": "2022-04-24T09:41:45.035Z"
   },
   {
    "duration": 204,
    "start_time": "2022-04-24T09:41:45.345Z"
   },
   {
    "duration": 12,
    "start_time": "2022-04-24T09:41:45.551Z"
   },
   {
    "duration": 26,
    "start_time": "2022-04-24T09:41:45.564Z"
   },
   {
    "duration": 45,
    "start_time": "2022-04-24T09:41:45.591Z"
   },
   {
    "duration": 24,
    "start_time": "2022-04-24T09:41:45.638Z"
   },
   {
    "duration": 10,
    "start_time": "2022-04-24T09:41:45.663Z"
   },
   {
    "duration": 1,
    "start_time": "2022-04-24T09:41:45.675Z"
   },
   {
    "duration": 50,
    "start_time": "2022-04-24T09:41:45.678Z"
   },
   {
    "duration": 31,
    "start_time": "2022-04-24T09:41:45.743Z"
   },
   {
    "duration": 2,
    "start_time": "2022-04-24T09:41:45.776Z"
   },
   {
    "duration": 38,
    "start_time": "2022-04-24T09:41:45.780Z"
   },
   {
    "duration": 35,
    "start_time": "2022-04-24T09:41:45.820Z"
   },
   {
    "duration": 10,
    "start_time": "2022-04-24T09:41:45.857Z"
   },
   {
    "duration": 12,
    "start_time": "2022-04-24T09:41:45.868Z"
   },
   {
    "duration": 11,
    "start_time": "2022-04-24T09:41:45.882Z"
   },
   {
    "duration": 5,
    "start_time": "2022-04-24T09:41:45.894Z"
   },
   {
    "duration": 43,
    "start_time": "2022-04-24T09:41:45.900Z"
   },
   {
    "duration": 12,
    "start_time": "2022-04-24T09:41:45.945Z"
   },
   {
    "duration": 10,
    "start_time": "2022-04-24T09:41:45.958Z"
   },
   {
    "duration": 15,
    "start_time": "2022-04-24T09:41:45.969Z"
   },
   {
    "duration": 30,
    "start_time": "2022-04-24T09:41:45.985Z"
   },
   {
    "duration": 27,
    "start_time": "2022-04-24T09:41:46.016Z"
   },
   {
    "duration": 17,
    "start_time": "2022-04-24T09:41:46.044Z"
   },
   {
    "duration": 43,
    "start_time": "2022-04-24T09:41:46.063Z"
   },
   {
    "duration": 28,
    "start_time": "2022-04-24T09:41:46.108Z"
   },
   {
    "duration": 10,
    "start_time": "2022-04-24T09:41:46.137Z"
   },
   {
    "duration": 31,
    "start_time": "2022-04-24T09:41:46.149Z"
   },
   {
    "duration": 19,
    "start_time": "2022-04-24T09:41:46.182Z"
   },
   {
    "duration": 7,
    "start_time": "2022-04-24T09:41:46.202Z"
   },
   {
    "duration": 38,
    "start_time": "2022-04-24T09:41:46.210Z"
   },
   {
    "duration": 8,
    "start_time": "2022-04-24T09:41:46.252Z"
   },
   {
    "duration": 23,
    "start_time": "2022-04-24T09:41:46.262Z"
   },
   {
    "duration": 18,
    "start_time": "2022-04-24T09:41:46.287Z"
   },
   {
    "duration": 36,
    "start_time": "2022-04-24T09:41:46.306Z"
   },
   {
    "duration": 18,
    "start_time": "2022-04-24T09:41:46.343Z"
   },
   {
    "duration": 17,
    "start_time": "2022-04-24T09:41:46.362Z"
   },
   {
    "duration": 14,
    "start_time": "2022-04-24T09:41:46.381Z"
   },
   {
    "duration": 14,
    "start_time": "2022-04-24T09:41:46.396Z"
   },
   {
    "duration": 18,
    "start_time": "2022-04-24T09:41:46.412Z"
   },
   {
    "duration": 28,
    "start_time": "2022-04-24T09:41:46.431Z"
   },
   {
    "duration": 7,
    "start_time": "2022-04-24T09:41:46.461Z"
   },
   {
    "duration": 10,
    "start_time": "2022-04-24T09:41:46.473Z"
   },
   {
    "duration": 19,
    "start_time": "2022-04-24T09:41:46.484Z"
   },
   {
    "duration": 16,
    "start_time": "2022-04-24T09:41:46.504Z"
   },
   {
    "duration": 155,
    "start_time": "2022-04-24T09:41:46.521Z"
   },
   {
    "duration": 113,
    "start_time": "2022-04-24T09:41:46.677Z"
   },
   {
    "duration": 7,
    "start_time": "2022-04-24T09:41:46.792Z"
   },
   {
    "duration": 7,
    "start_time": "2022-04-24T09:41:46.801Z"
   },
   {
    "duration": 191,
    "start_time": "2022-04-24T09:41:46.810Z"
   },
   {
    "duration": 204,
    "start_time": "2022-04-24T09:41:47.003Z"
   },
   {
    "duration": 126,
    "start_time": "2022-04-24T09:41:47.209Z"
   },
   {
    "duration": 14,
    "start_time": "2022-04-24T09:41:47.336Z"
   },
   {
    "duration": 22,
    "start_time": "2022-04-24T09:41:47.355Z"
   },
   {
    "duration": 196,
    "start_time": "2022-04-24T09:41:47.379Z"
   },
   {
    "duration": 118,
    "start_time": "2022-04-24T09:41:47.577Z"
   },
   {
    "duration": 171,
    "start_time": "2022-04-24T09:41:47.696Z"
   },
   {
    "duration": 11,
    "start_time": "2022-04-24T09:41:47.870Z"
   },
   {
    "duration": 10,
    "start_time": "2022-04-24T09:41:47.882Z"
   },
   {
    "duration": 211,
    "start_time": "2022-04-24T09:41:47.894Z"
   },
   {
    "duration": 29,
    "start_time": "2022-04-24T09:41:48.107Z"
   },
   {
    "duration": 44,
    "start_time": "2022-04-24T09:41:48.138Z"
   },
   {
    "duration": 24,
    "start_time": "2022-04-24T09:41:48.185Z"
   },
   {
    "duration": 31,
    "start_time": "2022-04-24T09:41:48.211Z"
   },
   {
    "duration": 253,
    "start_time": "2022-04-24T09:41:48.246Z"
   },
   {
    "duration": 218,
    "start_time": "2022-04-24T09:41:48.501Z"
   },
   {
    "duration": 30,
    "start_time": "2022-04-24T09:41:48.721Z"
   },
   {
    "duration": 31,
    "start_time": "2022-04-24T09:41:48.753Z"
   },
   {
    "duration": 5,
    "start_time": "2022-04-24T09:41:48.787Z"
   },
   {
    "duration": 11,
    "start_time": "2022-04-24T09:41:48.794Z"
   },
   {
    "duration": 9,
    "start_time": "2022-04-24T09:41:48.807Z"
   },
   {
    "duration": 7,
    "start_time": "2022-04-24T09:42:07.081Z"
   },
   {
    "duration": 10,
    "start_time": "2022-04-24T09:42:17.472Z"
   },
   {
    "duration": 8,
    "start_time": "2022-04-24T09:43:25.165Z"
   },
   {
    "duration": 15,
    "start_time": "2022-04-24T09:43:29.074Z"
   },
   {
    "duration": 28,
    "start_time": "2022-04-24T11:26:05.806Z"
   },
   {
    "duration": 23,
    "start_time": "2022-04-24T11:26:43.753Z"
   },
   {
    "duration": 34,
    "start_time": "2022-04-24T11:26:49.313Z"
   },
   {
    "duration": 111,
    "start_time": "2022-04-25T07:41:47.338Z"
   },
   {
    "duration": 1858,
    "start_time": "2022-04-25T07:41:52.839Z"
   },
   {
    "duration": 295,
    "start_time": "2022-04-25T07:41:54.700Z"
   },
   {
    "duration": 54,
    "start_time": "2022-04-25T07:41:54.997Z"
   },
   {
    "duration": 208,
    "start_time": "2022-04-25T07:41:55.053Z"
   },
   {
    "duration": 63,
    "start_time": "2022-04-25T07:41:55.264Z"
   },
   {
    "duration": 132,
    "start_time": "2022-04-25T07:41:55.330Z"
   },
   {
    "duration": 25,
    "start_time": "2022-04-25T07:41:55.464Z"
   },
   {
    "duration": 51,
    "start_time": "2022-04-25T07:41:55.491Z"
   },
   {
    "duration": 47,
    "start_time": "2022-04-25T07:41:55.545Z"
   },
   {
    "duration": 35,
    "start_time": "2022-04-25T07:41:55.595Z"
   },
   {
    "duration": 48,
    "start_time": "2022-04-25T07:41:55.633Z"
   },
   {
    "duration": 24,
    "start_time": "2022-04-25T07:41:55.684Z"
   },
   {
    "duration": 32,
    "start_time": "2022-04-25T07:41:55.710Z"
   },
   {
    "duration": 18,
    "start_time": "2022-04-25T07:41:55.747Z"
   },
   {
    "duration": 20,
    "start_time": "2022-04-25T07:41:55.767Z"
   },
   {
    "duration": 27,
    "start_time": "2022-04-25T07:41:55.789Z"
   },
   {
    "duration": 37,
    "start_time": "2022-04-25T07:41:55.818Z"
   },
   {
    "duration": 26,
    "start_time": "2022-04-25T07:41:55.857Z"
   },
   {
    "duration": 56,
    "start_time": "2022-04-25T07:41:55.886Z"
   },
   {
    "duration": 27,
    "start_time": "2022-04-25T07:41:55.945Z"
   },
   {
    "duration": 123,
    "start_time": "2022-04-25T07:41:55.974Z"
   },
   {
    "duration": 89,
    "start_time": "2022-04-25T07:41:56.100Z"
   },
   {
    "duration": 83,
    "start_time": "2022-04-25T07:41:56.192Z"
   },
   {
    "duration": 52,
    "start_time": "2022-04-25T07:41:56.277Z"
   },
   {
    "duration": 17,
    "start_time": "2022-04-25T07:41:56.331Z"
   },
   {
    "duration": 9,
    "start_time": "2022-04-25T07:41:56.351Z"
   },
   {
    "duration": 195,
    "start_time": "2022-04-25T07:41:56.363Z"
   },
   {
    "duration": 97,
    "start_time": "2022-04-25T07:41:56.560Z"
   },
   {
    "duration": 90,
    "start_time": "2022-04-25T07:41:56.660Z"
   },
   {
    "duration": 12,
    "start_time": "2022-04-25T07:41:56.752Z"
   },
   {
    "duration": 26,
    "start_time": "2022-04-25T07:41:56.766Z"
   },
   {
    "duration": 28,
    "start_time": "2022-04-25T07:41:56.825Z"
   },
   {
    "duration": 539,
    "start_time": "2022-04-25T07:41:56.856Z"
   },
   {
    "duration": 383,
    "start_time": "2022-04-25T07:41:57.397Z"
   },
   {
    "duration": 24,
    "start_time": "2022-04-25T07:41:57.783Z"
   },
   {
    "duration": 341,
    "start_time": "2022-04-25T07:41:57.828Z"
   },
   {
    "duration": 17,
    "start_time": "2022-04-25T07:41:58.172Z"
   },
   {
    "duration": 48,
    "start_time": "2022-04-25T07:41:58.192Z"
   },
   {
    "duration": 506,
    "start_time": "2022-04-25T07:41:58.243Z"
   },
   {
    "duration": 503,
    "start_time": "2022-04-25T07:41:58.752Z"
   },
   {
    "duration": 14,
    "start_time": "2022-04-25T07:41:59.266Z"
   },
   {
    "duration": 83,
    "start_time": "2022-04-25T07:41:59.283Z"
   },
   {
    "duration": 43,
    "start_time": "2022-04-25T07:41:59.369Z"
   },
   {
    "duration": 51,
    "start_time": "2022-04-25T07:41:59.415Z"
   },
   {
    "duration": 15,
    "start_time": "2022-04-25T07:41:59.468Z"
   },
   {
    "duration": 3,
    "start_time": "2022-04-25T07:41:59.486Z"
   },
   {
    "duration": 81,
    "start_time": "2022-04-25T07:41:59.492Z"
   },
   {
    "duration": 60,
    "start_time": "2022-04-25T07:41:59.576Z"
   },
   {
    "duration": 7,
    "start_time": "2022-04-25T07:41:59.639Z"
   },
   {
    "duration": 60,
    "start_time": "2022-04-25T07:41:59.648Z"
   },
   {
    "duration": 38,
    "start_time": "2022-04-25T07:41:59.726Z"
   },
   {
    "duration": 15,
    "start_time": "2022-04-25T07:41:59.767Z"
   },
   {
    "duration": 21,
    "start_time": "2022-04-25T07:41:59.828Z"
   },
   {
    "duration": 22,
    "start_time": "2022-04-25T07:41:59.851Z"
   },
   {
    "duration": 7,
    "start_time": "2022-04-25T07:41:59.876Z"
   },
   {
    "duration": 55,
    "start_time": "2022-04-25T07:41:59.885Z"
   },
   {
    "duration": 28,
    "start_time": "2022-04-25T07:41:59.943Z"
   },
   {
    "duration": 59,
    "start_time": "2022-04-25T07:41:59.974Z"
   },
   {
    "duration": 6,
    "start_time": "2022-04-25T07:42:00.036Z"
   },
   {
    "duration": 59,
    "start_time": "2022-04-25T07:42:00.045Z"
   },
   {
    "duration": 44,
    "start_time": "2022-04-25T07:42:00.125Z"
   },
   {
    "duration": 5,
    "start_time": "2022-04-25T07:42:00.171Z"
   },
   {
    "duration": 104,
    "start_time": "2022-04-25T07:42:00.178Z"
   },
   {
    "duration": 58,
    "start_time": "2022-04-25T07:42:00.284Z"
   },
   {
    "duration": 21,
    "start_time": "2022-04-25T07:42:00.345Z"
   },
   {
    "duration": 76,
    "start_time": "2022-04-25T07:42:00.369Z"
   },
   {
    "duration": 42,
    "start_time": "2022-04-25T07:42:00.448Z"
   },
   {
    "duration": 39,
    "start_time": "2022-04-25T07:42:00.492Z"
   },
   {
    "duration": 40,
    "start_time": "2022-04-25T07:42:00.536Z"
   },
   {
    "duration": 19,
    "start_time": "2022-04-25T07:42:00.578Z"
   },
   {
    "duration": 69,
    "start_time": "2022-04-25T07:42:00.600Z"
   },
   {
    "duration": 27,
    "start_time": "2022-04-25T07:42:00.672Z"
   },
   {
    "duration": 32,
    "start_time": "2022-04-25T07:42:00.701Z"
   },
   {
    "duration": 6,
    "start_time": "2022-04-25T07:42:00.737Z"
   },
   {
    "duration": 36,
    "start_time": "2022-04-25T07:42:00.746Z"
   },
   {
    "duration": 68,
    "start_time": "2022-04-25T07:42:00.785Z"
   },
   {
    "duration": 31,
    "start_time": "2022-04-25T07:42:00.855Z"
   },
   {
    "duration": 57,
    "start_time": "2022-04-25T07:42:00.889Z"
   },
   {
    "duration": 27,
    "start_time": "2022-04-25T07:42:00.949Z"
   },
   {
    "duration": 22,
    "start_time": "2022-04-25T07:42:00.978Z"
   },
   {
    "duration": 30,
    "start_time": "2022-04-25T07:42:01.002Z"
   },
   {
    "duration": 30,
    "start_time": "2022-04-25T07:42:01.036Z"
   },
   {
    "duration": 57,
    "start_time": "2022-04-25T07:42:01.069Z"
   },
   {
    "duration": 223,
    "start_time": "2022-04-25T07:42:01.130Z"
   },
   {
    "duration": 254,
    "start_time": "2022-04-25T07:42:01.355Z"
   },
   {
    "duration": 31,
    "start_time": "2022-04-25T07:42:01.611Z"
   },
   {
    "duration": 44,
    "start_time": "2022-04-25T07:42:01.645Z"
   },
   {
    "duration": 487,
    "start_time": "2022-04-25T07:42:01.691Z"
   },
   {
    "duration": 225,
    "start_time": "2022-04-25T07:42:02.180Z"
   },
   {
    "duration": 197,
    "start_time": "2022-04-25T07:42:02.408Z"
   },
   {
    "duration": 22,
    "start_time": "2022-04-25T07:42:02.607Z"
   },
   {
    "duration": 29,
    "start_time": "2022-04-25T07:42:02.632Z"
   },
   {
    "duration": 373,
    "start_time": "2022-04-25T07:42:02.663Z"
   },
   {
    "duration": 221,
    "start_time": "2022-04-25T07:42:03.038Z"
   },
   {
    "duration": 200,
    "start_time": "2022-04-25T07:42:03.262Z"
   },
   {
    "duration": 12,
    "start_time": "2022-04-25T07:42:03.464Z"
   },
   {
    "duration": 12,
    "start_time": "2022-04-25T07:42:03.478Z"
   },
   {
    "duration": 378,
    "start_time": "2022-04-25T07:42:03.492Z"
   },
   {
    "duration": 17,
    "start_time": "2022-04-25T07:42:03.873Z"
   },
   {
    "duration": 50,
    "start_time": "2022-04-25T07:42:03.892Z"
   },
   {
    "duration": 34,
    "start_time": "2022-04-25T07:42:03.945Z"
   },
   {
    "duration": 58,
    "start_time": "2022-04-25T07:42:03.981Z"
   },
   {
    "duration": 364,
    "start_time": "2022-04-25T07:42:04.042Z"
   },
   {
    "duration": 409,
    "start_time": "2022-04-25T07:42:04.408Z"
   },
   {
    "duration": 39,
    "start_time": "2022-04-25T07:42:04.820Z"
   },
   {
    "duration": 76,
    "start_time": "2022-04-25T07:42:04.861Z"
   },
   {
    "duration": 8,
    "start_time": "2022-04-25T07:42:04.941Z"
   },
   {
    "duration": 10,
    "start_time": "2022-04-25T07:42:04.951Z"
   },
   {
    "duration": 7,
    "start_time": "2022-04-25T07:42:04.964Z"
   },
   {
    "duration": 11,
    "start_time": "2022-04-25T07:44:20.743Z"
   },
   {
    "duration": 51,
    "start_time": "2022-04-25T07:44:35.320Z"
   },
   {
    "duration": 1755,
    "start_time": "2022-04-25T07:44:43.560Z"
   },
   {
    "duration": 391,
    "start_time": "2022-04-25T07:44:45.319Z"
   },
   {
    "duration": 61,
    "start_time": "2022-04-25T07:44:45.713Z"
   },
   {
    "duration": 276,
    "start_time": "2022-04-25T07:44:45.778Z"
   },
   {
    "duration": 35,
    "start_time": "2022-04-25T07:44:46.056Z"
   },
   {
    "duration": 142,
    "start_time": "2022-04-25T07:44:46.094Z"
   },
   {
    "duration": 26,
    "start_time": "2022-04-25T07:44:46.238Z"
   },
   {
    "duration": 19,
    "start_time": "2022-04-25T07:44:46.267Z"
   },
   {
    "duration": 53,
    "start_time": "2022-04-25T07:44:46.289Z"
   },
   {
    "duration": 16,
    "start_time": "2022-04-25T07:44:46.346Z"
   },
   {
    "duration": 15,
    "start_time": "2022-04-25T07:44:46.364Z"
   },
   {
    "duration": 44,
    "start_time": "2022-04-25T07:44:46.382Z"
   },
   {
    "duration": 11,
    "start_time": "2022-04-25T07:44:46.429Z"
   },
   {
    "duration": 6,
    "start_time": "2022-04-25T07:44:46.442Z"
   },
   {
    "duration": 16,
    "start_time": "2022-04-25T07:44:46.450Z"
   },
   {
    "duration": 6,
    "start_time": "2022-04-25T07:44:46.468Z"
   },
   {
    "duration": 73,
    "start_time": "2022-04-25T07:44:46.476Z"
   },
   {
    "duration": 22,
    "start_time": "2022-04-25T07:44:46.551Z"
   },
   {
    "duration": 51,
    "start_time": "2022-04-25T07:44:46.575Z"
   },
   {
    "duration": 9,
    "start_time": "2022-04-25T07:44:46.628Z"
   },
   {
    "duration": 96,
    "start_time": "2022-04-25T07:44:46.640Z"
   },
   {
    "duration": 56,
    "start_time": "2022-04-25T07:44:46.738Z"
   },
   {
    "duration": 73,
    "start_time": "2022-04-25T07:44:46.797Z"
   },
   {
    "duration": 20,
    "start_time": "2022-04-25T07:44:46.873Z"
   },
   {
    "duration": 34,
    "start_time": "2022-04-25T07:44:46.896Z"
   },
   {
    "duration": 16,
    "start_time": "2022-04-25T07:44:46.933Z"
   },
   {
    "duration": 176,
    "start_time": "2022-04-25T07:44:46.951Z"
   },
   {
    "duration": 70,
    "start_time": "2022-04-25T07:44:47.134Z"
   },
   {
    "duration": 83,
    "start_time": "2022-04-25T07:44:47.206Z"
   },
   {
    "duration": 35,
    "start_time": "2022-04-25T07:44:47.291Z"
   },
   {
    "duration": 21,
    "start_time": "2022-04-25T07:44:47.328Z"
   },
   {
    "duration": 21,
    "start_time": "2022-04-25T07:44:47.352Z"
   },
   {
    "duration": 522,
    "start_time": "2022-04-25T07:44:47.376Z"
   },
   {
    "duration": 369,
    "start_time": "2022-04-25T07:44:47.900Z"
   },
   {
    "duration": 24,
    "start_time": "2022-04-25T07:44:48.271Z"
   },
   {
    "duration": 344,
    "start_time": "2022-04-25T07:44:48.297Z"
   },
   {
    "duration": 17,
    "start_time": "2022-04-25T07:44:48.643Z"
   },
   {
    "duration": 18,
    "start_time": "2022-04-25T07:44:48.662Z"
   },
   {
    "duration": 520,
    "start_time": "2022-04-25T07:44:48.682Z"
   },
   {
    "duration": 325,
    "start_time": "2022-04-25T07:44:49.204Z"
   },
   {
    "duration": 13,
    "start_time": "2022-04-25T07:44:49.531Z"
   },
   {
    "duration": 51,
    "start_time": "2022-04-25T07:44:49.546Z"
   },
   {
    "duration": 45,
    "start_time": "2022-04-25T07:44:49.624Z"
   },
   {
    "duration": 65,
    "start_time": "2022-04-25T07:44:49.672Z"
   },
   {
    "duration": 20,
    "start_time": "2022-04-25T07:44:49.740Z"
   },
   {
    "duration": 4,
    "start_time": "2022-04-25T07:44:49.763Z"
   },
   {
    "duration": 108,
    "start_time": "2022-04-25T07:44:49.769Z"
   },
   {
    "duration": 38,
    "start_time": "2022-04-25T07:44:49.883Z"
   },
   {
    "duration": 5,
    "start_time": "2022-04-25T07:44:49.923Z"
   },
   {
    "duration": 42,
    "start_time": "2022-04-25T07:44:49.930Z"
   },
   {
    "duration": 55,
    "start_time": "2022-04-25T07:44:49.975Z"
   },
   {
    "duration": 15,
    "start_time": "2022-04-25T07:44:50.033Z"
   },
   {
    "duration": 20,
    "start_time": "2022-04-25T07:44:50.051Z"
   },
   {
    "duration": 54,
    "start_time": "2022-04-25T07:44:50.073Z"
   },
   {
    "duration": 8,
    "start_time": "2022-04-25T07:44:50.129Z"
   },
   {
    "duration": 21,
    "start_time": "2022-04-25T07:44:50.139Z"
   },
   {
    "duration": 22,
    "start_time": "2022-04-25T07:44:50.163Z"
   },
   {
    "duration": 72,
    "start_time": "2022-04-25T07:44:50.188Z"
   },
   {
    "duration": 5,
    "start_time": "2022-04-25T07:44:50.262Z"
   },
   {
    "duration": 78,
    "start_time": "2022-04-25T07:44:50.269Z"
   },
   {
    "duration": 30,
    "start_time": "2022-04-25T07:44:50.349Z"
   },
   {
    "duration": 8,
    "start_time": "2022-04-25T07:44:50.382Z"
   },
   {
    "duration": 76,
    "start_time": "2022-04-25T07:44:50.392Z"
   },
   {
    "duration": 60,
    "start_time": "2022-04-25T07:44:50.470Z"
   },
   {
    "duration": 7,
    "start_time": "2022-04-25T07:44:50.533Z"
   },
   {
    "duration": 93,
    "start_time": "2022-04-25T07:44:50.542Z"
   },
   {
    "duration": 34,
    "start_time": "2022-04-25T07:44:50.637Z"
   },
   {
    "duration": 4,
    "start_time": "2022-04-25T07:44:50.673Z"
   },
   {
    "duration": 64,
    "start_time": "2022-04-25T07:44:50.680Z"
   },
   {
    "duration": 9,
    "start_time": "2022-04-25T07:44:50.746Z"
   },
   {
    "duration": 31,
    "start_time": "2022-04-25T07:44:50.757Z"
   },
   {
    "duration": 52,
    "start_time": "2022-04-25T07:44:50.790Z"
   },
   {
    "duration": 40,
    "start_time": "2022-04-25T07:44:50.844Z"
   },
   {
    "duration": 8,
    "start_time": "2022-04-25T07:44:50.887Z"
   },
   {
    "duration": 47,
    "start_time": "2022-04-25T07:44:50.897Z"
   },
   {
    "duration": 23,
    "start_time": "2022-04-25T07:44:50.946Z"
   },
   {
    "duration": 30,
    "start_time": "2022-04-25T07:44:50.971Z"
   },
   {
    "duration": 22,
    "start_time": "2022-04-25T07:44:51.025Z"
   },
   {
    "duration": 12,
    "start_time": "2022-04-25T07:44:51.050Z"
   },
   {
    "duration": 15,
    "start_time": "2022-04-25T07:44:51.065Z"
   },
   {
    "duration": 52,
    "start_time": "2022-04-25T07:44:51.083Z"
   },
   {
    "duration": 27,
    "start_time": "2022-04-25T07:44:51.145Z"
   },
   {
    "duration": 66,
    "start_time": "2022-04-25T07:44:51.175Z"
   },
   {
    "duration": 207,
    "start_time": "2022-04-25T07:44:51.243Z"
   },
   {
    "duration": 207,
    "start_time": "2022-04-25T07:44:51.453Z"
   },
   {
    "duration": 13,
    "start_time": "2022-04-25T07:44:51.663Z"
   },
   {
    "duration": 47,
    "start_time": "2022-04-25T07:44:51.679Z"
   },
   {
    "duration": 436,
    "start_time": "2022-04-25T07:44:51.729Z"
   },
   {
    "duration": 397,
    "start_time": "2022-04-25T07:44:52.168Z"
   },
   {
    "duration": 235,
    "start_time": "2022-04-25T07:44:52.567Z"
   },
   {
    "duration": 33,
    "start_time": "2022-04-25T07:44:52.805Z"
   },
   {
    "duration": 20,
    "start_time": "2022-04-25T07:44:52.840Z"
   },
   {
    "duration": 342,
    "start_time": "2022-04-25T07:44:52.862Z"
   },
   {
    "duration": 207,
    "start_time": "2022-04-25T07:44:53.207Z"
   },
   {
    "duration": 190,
    "start_time": "2022-04-25T07:44:53.424Z"
   },
   {
    "duration": 17,
    "start_time": "2022-04-25T07:44:53.617Z"
   },
   {
    "duration": 32,
    "start_time": "2022-04-25T07:44:53.636Z"
   },
   {
    "duration": 449,
    "start_time": "2022-04-25T07:44:53.670Z"
   },
   {
    "duration": 18,
    "start_time": "2022-04-25T07:44:54.122Z"
   },
   {
    "duration": 20,
    "start_time": "2022-04-25T07:44:54.143Z"
   },
   {
    "duration": 61,
    "start_time": "2022-04-25T07:44:54.166Z"
   },
   {
    "duration": 23,
    "start_time": "2022-04-25T07:44:54.229Z"
   },
   {
    "duration": 461,
    "start_time": "2022-04-25T07:44:54.255Z"
   },
   {
    "duration": 355,
    "start_time": "2022-04-25T07:44:54.718Z"
   },
   {
    "duration": 51,
    "start_time": "2022-04-25T07:44:55.075Z"
   },
   {
    "duration": 32,
    "start_time": "2022-04-25T07:44:55.128Z"
   },
   {
    "duration": 8,
    "start_time": "2022-04-25T07:44:55.162Z"
   },
   {
    "duration": 13,
    "start_time": "2022-04-25T07:44:55.172Z"
   },
   {
    "duration": 8,
    "start_time": "2022-04-25T07:44:55.225Z"
   },
   {
    "duration": 163,
    "start_time": "2022-04-25T07:46:19.176Z"
   },
   {
    "duration": 35,
    "start_time": "2022-04-25T07:46:30.660Z"
   },
   {
    "duration": 33,
    "start_time": "2022-04-25T07:51:45.830Z"
   },
   {
    "duration": 49,
    "start_time": "2022-04-25T07:52:03.907Z"
   },
   {
    "duration": 1506,
    "start_time": "2022-04-25T07:52:24.404Z"
   },
   {
    "duration": 384,
    "start_time": "2022-04-25T07:52:25.913Z"
   },
   {
    "duration": 47,
    "start_time": "2022-04-25T07:52:26.299Z"
   },
   {
    "duration": 226,
    "start_time": "2022-04-25T07:52:26.349Z"
   },
   {
    "duration": 48,
    "start_time": "2022-04-25T07:52:26.577Z"
   },
   {
    "duration": 133,
    "start_time": "2022-04-25T07:52:26.631Z"
   },
   {
    "duration": 30,
    "start_time": "2022-04-25T07:52:26.767Z"
   },
   {
    "duration": 28,
    "start_time": "2022-04-25T07:52:26.824Z"
   },
   {
    "duration": 33,
    "start_time": "2022-04-25T07:52:26.854Z"
   },
   {
    "duration": 35,
    "start_time": "2022-04-25T07:52:26.891Z"
   },
   {
    "duration": 11,
    "start_time": "2022-04-25T07:52:26.933Z"
   },
   {
    "duration": 23,
    "start_time": "2022-04-25T07:52:26.947Z"
   },
   {
    "duration": 13,
    "start_time": "2022-04-25T07:52:26.972Z"
   },
   {
    "duration": 12,
    "start_time": "2022-04-25T07:52:26.987Z"
   },
   {
    "duration": 10,
    "start_time": "2022-04-25T07:52:27.027Z"
   },
   {
    "duration": 16,
    "start_time": "2022-04-25T07:52:27.040Z"
   },
   {
    "duration": 35,
    "start_time": "2022-04-25T07:52:27.058Z"
   },
   {
    "duration": 60,
    "start_time": "2022-04-25T07:52:27.096Z"
   },
   {
    "duration": 20,
    "start_time": "2022-04-25T07:52:27.158Z"
   },
   {
    "duration": 9,
    "start_time": "2022-04-25T07:52:27.180Z"
   },
   {
    "duration": 114,
    "start_time": "2022-04-25T07:52:27.192Z"
   },
   {
    "duration": 65,
    "start_time": "2022-04-25T07:52:27.309Z"
   },
   {
    "duration": 71,
    "start_time": "2022-04-25T07:52:27.376Z"
   },
   {
    "duration": 23,
    "start_time": "2022-04-25T07:52:27.449Z"
   },
   {
    "duration": 10,
    "start_time": "2022-04-25T07:52:27.475Z"
   },
   {
    "duration": 51,
    "start_time": "2022-04-25T07:52:27.488Z"
   },
   {
    "duration": 164,
    "start_time": "2022-04-25T07:52:27.542Z"
   },
   {
    "duration": 85,
    "start_time": "2022-04-25T07:52:27.713Z"
   },
   {
    "duration": 77,
    "start_time": "2022-04-25T07:52:27.800Z"
   },
   {
    "duration": 8,
    "start_time": "2022-04-25T07:52:27.880Z"
   },
   {
    "duration": 52,
    "start_time": "2022-04-25T07:52:27.890Z"
   },
   {
    "duration": 23,
    "start_time": "2022-04-25T07:52:27.944Z"
   },
   {
    "duration": 511,
    "start_time": "2022-04-25T07:52:27.969Z"
   },
   {
    "duration": 394,
    "start_time": "2022-04-25T07:52:28.482Z"
   },
   {
    "duration": 22,
    "start_time": "2022-04-25T07:52:28.879Z"
   },
   {
    "duration": 336,
    "start_time": "2022-04-25T07:52:28.924Z"
   },
   {
    "duration": 17,
    "start_time": "2022-04-25T07:52:29.262Z"
   },
   {
    "duration": 45,
    "start_time": "2022-04-25T07:52:29.281Z"
   },
   {
    "duration": 494,
    "start_time": "2022-04-25T07:52:29.330Z"
   },
   {
    "duration": 332,
    "start_time": "2022-04-25T07:52:29.827Z"
   },
   {
    "duration": 11,
    "start_time": "2022-04-25T07:52:30.162Z"
   },
   {
    "duration": 69,
    "start_time": "2022-04-25T07:52:30.175Z"
   },
   {
    "duration": 45,
    "start_time": "2022-04-25T07:52:30.247Z"
   },
   {
    "duration": 40,
    "start_time": "2022-04-25T07:52:30.294Z"
   },
   {
    "duration": 37,
    "start_time": "2022-04-25T07:52:30.337Z"
   },
   {
    "duration": 9,
    "start_time": "2022-04-25T07:52:30.376Z"
   },
   {
    "duration": 73,
    "start_time": "2022-04-25T07:52:30.388Z"
   },
   {
    "duration": 38,
    "start_time": "2022-04-25T07:52:30.463Z"
   },
   {
    "duration": 23,
    "start_time": "2022-04-25T07:52:30.503Z"
   },
   {
    "duration": 74,
    "start_time": "2022-04-25T07:52:30.528Z"
   },
   {
    "duration": 43,
    "start_time": "2022-04-25T07:52:30.605Z"
   },
   {
    "duration": 16,
    "start_time": "2022-04-25T07:52:30.650Z"
   },
   {
    "duration": 27,
    "start_time": "2022-04-25T07:52:30.668Z"
   },
   {
    "duration": 21,
    "start_time": "2022-04-25T07:52:30.730Z"
   },
   {
    "duration": 16,
    "start_time": "2022-04-25T07:52:30.753Z"
   },
   {
    "duration": 22,
    "start_time": "2022-04-25T07:52:30.772Z"
   },
   {
    "duration": 18,
    "start_time": "2022-04-25T07:52:30.823Z"
   },
   {
    "duration": 30,
    "start_time": "2022-04-25T07:52:30.843Z"
   },
   {
    "duration": 20,
    "start_time": "2022-04-25T07:52:30.876Z"
   },
   {
    "duration": 41,
    "start_time": "2022-04-25T07:52:30.898Z"
   },
   {
    "duration": 71,
    "start_time": "2022-04-25T07:52:30.942Z"
   },
   {
    "duration": 48,
    "start_time": "2022-04-25T07:52:31.015Z"
   },
   {
    "duration": 6,
    "start_time": "2022-04-25T07:52:31.066Z"
   },
   {
    "duration": 80,
    "start_time": "2022-04-25T07:52:31.074Z"
   },
   {
    "duration": 31,
    "start_time": "2022-04-25T07:52:31.156Z"
   },
   {
    "duration": 5,
    "start_time": "2022-04-25T07:52:31.189Z"
   },
   {
    "duration": 83,
    "start_time": "2022-04-25T07:52:31.196Z"
   },
   {
    "duration": 63,
    "start_time": "2022-04-25T07:52:31.281Z"
   },
   {
    "duration": 4,
    "start_time": "2022-04-25T07:52:31.346Z"
   },
   {
    "duration": 36,
    "start_time": "2022-04-25T07:52:31.353Z"
   },
   {
    "duration": 40,
    "start_time": "2022-04-25T07:52:31.392Z"
   },
   {
    "duration": 41,
    "start_time": "2022-04-25T07:52:31.435Z"
   },
   {
    "duration": 17,
    "start_time": "2022-04-25T07:52:31.478Z"
   },
   {
    "duration": 48,
    "start_time": "2022-04-25T07:52:31.497Z"
   },
   {
    "duration": 4,
    "start_time": "2022-04-25T07:52:31.548Z"
   },
   {
    "duration": 27,
    "start_time": "2022-04-25T07:52:31.554Z"
   },
   {
    "duration": 65,
    "start_time": "2022-04-25T07:52:31.584Z"
   },
   {
    "duration": 21,
    "start_time": "2022-04-25T07:52:31.652Z"
   },
   {
    "duration": 57,
    "start_time": "2022-04-25T07:52:31.676Z"
   },
   {
    "duration": 6,
    "start_time": "2022-04-25T07:52:31.736Z"
   },
   {
    "duration": 13,
    "start_time": "2022-04-25T07:52:31.745Z"
   },
   {
    "duration": 16,
    "start_time": "2022-04-25T07:52:31.767Z"
   },
   {
    "duration": 63,
    "start_time": "2022-04-25T07:52:31.785Z"
   },
   {
    "duration": 27,
    "start_time": "2022-04-25T07:52:31.851Z"
   },
   {
    "duration": 240,
    "start_time": "2022-04-25T07:52:31.881Z"
   },
   {
    "duration": 204,
    "start_time": "2022-04-25T07:52:32.123Z"
   },
   {
    "duration": 15,
    "start_time": "2022-04-25T07:52:32.329Z"
   },
   {
    "duration": 26,
    "start_time": "2022-04-25T07:52:32.347Z"
   },
   {
    "duration": 349,
    "start_time": "2022-04-25T07:52:32.376Z"
   },
   {
    "duration": 303,
    "start_time": "2022-04-25T07:52:32.728Z"
   },
   {
    "duration": 184,
    "start_time": "2022-04-25T07:52:33.034Z"
   },
   {
    "duration": 13,
    "start_time": "2022-04-25T07:52:33.224Z"
   },
   {
    "duration": 18,
    "start_time": "2022-04-25T07:52:33.239Z"
   },
   {
    "duration": 385,
    "start_time": "2022-04-25T07:52:33.260Z"
   },
   {
    "duration": 219,
    "start_time": "2022-04-25T07:52:33.648Z"
   },
   {
    "duration": 200,
    "start_time": "2022-04-25T07:52:33.870Z"
   },
   {
    "duration": 14,
    "start_time": "2022-04-25T07:52:34.073Z"
   },
   {
    "duration": 42,
    "start_time": "2022-04-25T07:52:34.089Z"
   },
   {
    "duration": 345,
    "start_time": "2022-04-25T07:52:34.133Z"
   },
   {
    "duration": 18,
    "start_time": "2022-04-25T07:52:34.481Z"
   },
   {
    "duration": 21,
    "start_time": "2022-04-25T07:52:34.524Z"
   },
   {
    "duration": 25,
    "start_time": "2022-04-25T07:52:34.547Z"
   },
   {
    "duration": 74,
    "start_time": "2022-04-25T07:52:34.574Z"
   },
   {
    "duration": 346,
    "start_time": "2022-04-25T07:52:34.651Z"
   },
   {
    "duration": 369,
    "start_time": "2022-04-25T07:52:34.999Z"
   },
   {
    "duration": 61,
    "start_time": "2022-04-25T07:52:35.370Z"
   },
   {
    "duration": 33,
    "start_time": "2022-04-25T07:52:35.435Z"
   },
   {
    "duration": 8,
    "start_time": "2022-04-25T07:52:35.470Z"
   },
   {
    "duration": 44,
    "start_time": "2022-04-25T07:52:35.481Z"
   },
   {
    "duration": 17,
    "start_time": "2022-04-25T07:52:35.528Z"
   },
   {
    "duration": 41,
    "start_time": "2022-04-25T07:57:43.241Z"
   },
   {
    "duration": 181,
    "start_time": "2022-04-25T08:00:42.897Z"
   },
   {
    "duration": 1480,
    "start_time": "2022-04-25T08:00:48.766Z"
   },
   {
    "duration": 295,
    "start_time": "2022-04-25T08:00:50.249Z"
   },
   {
    "duration": 34,
    "start_time": "2022-04-25T08:00:50.547Z"
   },
   {
    "duration": 210,
    "start_time": "2022-04-25T08:00:50.584Z"
   },
   {
    "duration": 42,
    "start_time": "2022-04-25T08:00:50.797Z"
   },
   {
    "duration": 137,
    "start_time": "2022-04-25T08:00:50.841Z"
   },
   {
    "duration": 24,
    "start_time": "2022-04-25T08:00:50.981Z"
   },
   {
    "duration": 46,
    "start_time": "2022-04-25T08:00:51.007Z"
   },
   {
    "duration": 32,
    "start_time": "2022-04-25T08:00:51.055Z"
   },
   {
    "duration": 16,
    "start_time": "2022-04-25T08:00:51.091Z"
   },
   {
    "duration": 11,
    "start_time": "2022-04-25T08:00:51.125Z"
   },
   {
    "duration": 14,
    "start_time": "2022-04-25T08:00:51.138Z"
   },
   {
    "duration": 8,
    "start_time": "2022-04-25T08:00:51.155Z"
   },
   {
    "duration": 7,
    "start_time": "2022-04-25T08:00:51.166Z"
   },
   {
    "duration": 53,
    "start_time": "2022-04-25T08:00:51.175Z"
   },
   {
    "duration": 17,
    "start_time": "2022-04-25T08:00:51.233Z"
   },
   {
    "duration": 29,
    "start_time": "2022-04-25T08:00:51.252Z"
   },
   {
    "duration": 56,
    "start_time": "2022-04-25T08:00:51.283Z"
   },
   {
    "duration": 22,
    "start_time": "2022-04-25T08:00:51.342Z"
   },
   {
    "duration": 9,
    "start_time": "2022-04-25T08:00:51.366Z"
   },
   {
    "duration": 109,
    "start_time": "2022-04-25T08:00:51.377Z"
   },
   {
    "duration": 80,
    "start_time": "2022-04-25T08:00:51.488Z"
   },
   {
    "duration": 61,
    "start_time": "2022-04-25T08:00:51.570Z"
   },
   {
    "duration": 23,
    "start_time": "2022-04-25T08:00:51.636Z"
   },
   {
    "duration": 16,
    "start_time": "2022-04-25T08:00:51.661Z"
   },
   {
    "duration": 14,
    "start_time": "2022-04-25T08:00:51.679Z"
   },
   {
    "duration": 182,
    "start_time": "2022-04-25T08:00:51.695Z"
   },
   {
    "duration": 86,
    "start_time": "2022-04-25T08:00:51.884Z"
   },
   {
    "duration": 87,
    "start_time": "2022-04-25T08:00:51.972Z"
   },
   {
    "duration": 8,
    "start_time": "2022-04-25T08:00:52.061Z"
   },
   {
    "duration": 35,
    "start_time": "2022-04-25T08:00:52.071Z"
   },
   {
    "duration": 23,
    "start_time": "2022-04-25T08:00:52.124Z"
   },
   {
    "duration": 535,
    "start_time": "2022-04-25T08:00:52.149Z"
   },
   {
    "duration": 392,
    "start_time": "2022-04-25T08:00:52.687Z"
   },
   {
    "duration": 53,
    "start_time": "2022-04-25T08:00:53.082Z"
   },
   {
    "duration": 337,
    "start_time": "2022-04-25T08:00:53.137Z"
   },
   {
    "duration": 17,
    "start_time": "2022-04-25T08:00:53.476Z"
   },
   {
    "duration": 40,
    "start_time": "2022-04-25T08:00:53.496Z"
   },
   {
    "duration": 498,
    "start_time": "2022-04-25T08:00:53.539Z"
   },
   {
    "duration": 339,
    "start_time": "2022-04-25T08:00:54.040Z"
   },
   {
    "duration": 11,
    "start_time": "2022-04-25T08:00:54.381Z"
   },
   {
    "duration": 56,
    "start_time": "2022-04-25T08:00:54.394Z"
   },
   {
    "duration": 34,
    "start_time": "2022-04-25T08:00:54.452Z"
   },
   {
    "duration": 68,
    "start_time": "2022-04-25T08:00:54.489Z"
   },
   {
    "duration": 18,
    "start_time": "2022-04-25T08:00:54.560Z"
   },
   {
    "duration": 3,
    "start_time": "2022-04-25T08:00:54.581Z"
   },
   {
    "duration": 80,
    "start_time": "2022-04-25T08:00:54.587Z"
   },
   {
    "duration": 60,
    "start_time": "2022-04-25T08:00:54.669Z"
   },
   {
    "duration": 4,
    "start_time": "2022-04-25T08:00:54.734Z"
   },
   {
    "duration": 42,
    "start_time": "2022-04-25T08:00:54.740Z"
   },
   {
    "duration": 65,
    "start_time": "2022-04-25T08:00:54.784Z"
   },
   {
    "duration": 16,
    "start_time": "2022-04-25T08:00:54.852Z"
   },
   {
    "duration": 57,
    "start_time": "2022-04-25T08:00:54.871Z"
   },
   {
    "duration": 19,
    "start_time": "2022-04-25T08:00:54.931Z"
   },
   {
    "duration": 4,
    "start_time": "2022-04-25T08:00:54.953Z"
   },
   {
    "duration": 19,
    "start_time": "2022-04-25T08:00:54.959Z"
   },
   {
    "duration": 61,
    "start_time": "2022-04-25T08:00:54.980Z"
   },
   {
    "duration": 223,
    "start_time": "2022-04-25T08:00:55.045Z"
   },
   {
    "duration": 0,
    "start_time": "2022-04-25T08:00:55.273Z"
   },
   {
    "duration": 0,
    "start_time": "2022-04-25T08:00:55.275Z"
   },
   {
    "duration": 0,
    "start_time": "2022-04-25T08:00:55.277Z"
   },
   {
    "duration": 0,
    "start_time": "2022-04-25T08:00:55.278Z"
   },
   {
    "duration": 0,
    "start_time": "2022-04-25T08:00:55.280Z"
   },
   {
    "duration": 0,
    "start_time": "2022-04-25T08:00:55.281Z"
   },
   {
    "duration": 1,
    "start_time": "2022-04-25T08:00:55.282Z"
   },
   {
    "duration": 0,
    "start_time": "2022-04-25T08:00:55.284Z"
   },
   {
    "duration": 0,
    "start_time": "2022-04-25T08:00:55.286Z"
   },
   {
    "duration": 0,
    "start_time": "2022-04-25T08:00:55.287Z"
   },
   {
    "duration": 0,
    "start_time": "2022-04-25T08:00:55.289Z"
   },
   {
    "duration": 0,
    "start_time": "2022-04-25T08:00:55.291Z"
   },
   {
    "duration": 0,
    "start_time": "2022-04-25T08:00:55.327Z"
   },
   {
    "duration": 0,
    "start_time": "2022-04-25T08:00:55.333Z"
   },
   {
    "duration": 0,
    "start_time": "2022-04-25T08:00:55.335Z"
   },
   {
    "duration": 0,
    "start_time": "2022-04-25T08:00:55.337Z"
   },
   {
    "duration": 0,
    "start_time": "2022-04-25T08:00:55.338Z"
   },
   {
    "duration": 0,
    "start_time": "2022-04-25T08:00:55.340Z"
   },
   {
    "duration": 0,
    "start_time": "2022-04-25T08:00:55.342Z"
   },
   {
    "duration": 0,
    "start_time": "2022-04-25T08:00:55.346Z"
   },
   {
    "duration": 0,
    "start_time": "2022-04-25T08:00:55.347Z"
   },
   {
    "duration": 0,
    "start_time": "2022-04-25T08:00:55.349Z"
   },
   {
    "duration": 1,
    "start_time": "2022-04-25T08:00:55.350Z"
   },
   {
    "duration": 0,
    "start_time": "2022-04-25T08:00:55.352Z"
   },
   {
    "duration": 0,
    "start_time": "2022-04-25T08:00:55.353Z"
   },
   {
    "duration": 0,
    "start_time": "2022-04-25T08:00:55.354Z"
   },
   {
    "duration": 0,
    "start_time": "2022-04-25T08:00:55.356Z"
   },
   {
    "duration": 0,
    "start_time": "2022-04-25T08:00:55.357Z"
   },
   {
    "duration": 0,
    "start_time": "2022-04-25T08:00:55.359Z"
   },
   {
    "duration": 0,
    "start_time": "2022-04-25T08:00:55.360Z"
   },
   {
    "duration": 0,
    "start_time": "2022-04-25T08:00:55.361Z"
   },
   {
    "duration": 0,
    "start_time": "2022-04-25T08:00:55.362Z"
   },
   {
    "duration": 0,
    "start_time": "2022-04-25T08:00:55.364Z"
   },
   {
    "duration": 0,
    "start_time": "2022-04-25T08:00:55.365Z"
   },
   {
    "duration": 0,
    "start_time": "2022-04-25T08:00:55.366Z"
   },
   {
    "duration": 0,
    "start_time": "2022-04-25T08:00:55.367Z"
   },
   {
    "duration": 0,
    "start_time": "2022-04-25T08:00:55.369Z"
   },
   {
    "duration": 0,
    "start_time": "2022-04-25T08:00:55.370Z"
   },
   {
    "duration": 0,
    "start_time": "2022-04-25T08:00:55.426Z"
   },
   {
    "duration": 0,
    "start_time": "2022-04-25T08:00:55.427Z"
   },
   {
    "duration": 0,
    "start_time": "2022-04-25T08:00:55.432Z"
   },
   {
    "duration": 0,
    "start_time": "2022-04-25T08:00:55.434Z"
   },
   {
    "duration": 0,
    "start_time": "2022-04-25T08:00:55.436Z"
   },
   {
    "duration": 0,
    "start_time": "2022-04-25T08:00:55.438Z"
   },
   {
    "duration": 0,
    "start_time": "2022-04-25T08:00:55.444Z"
   },
   {
    "duration": 0,
    "start_time": "2022-04-25T08:00:55.446Z"
   },
   {
    "duration": 0,
    "start_time": "2022-04-25T08:00:55.447Z"
   },
   {
    "duration": 0,
    "start_time": "2022-04-25T08:00:55.449Z"
   },
   {
    "duration": 0,
    "start_time": "2022-04-25T08:00:55.450Z"
   },
   {
    "duration": 0,
    "start_time": "2022-04-25T08:00:55.453Z"
   },
   {
    "duration": 0,
    "start_time": "2022-04-25T08:00:55.454Z"
   },
   {
    "duration": 0,
    "start_time": "2022-04-25T08:00:55.457Z"
   },
   {
    "duration": 33,
    "start_time": "2022-04-25T08:01:25.696Z"
   },
   {
    "duration": 1541,
    "start_time": "2022-04-25T08:01:34.546Z"
   },
   {
    "duration": 314,
    "start_time": "2022-04-25T08:01:36.089Z"
   },
   {
    "duration": 56,
    "start_time": "2022-04-25T08:01:36.405Z"
   },
   {
    "duration": 283,
    "start_time": "2022-04-25T08:01:36.464Z"
   },
   {
    "duration": 31,
    "start_time": "2022-04-25T08:01:36.749Z"
   },
   {
    "duration": 170,
    "start_time": "2022-04-25T08:01:36.782Z"
   },
   {
    "duration": 26,
    "start_time": "2022-04-25T08:01:36.955Z"
   },
   {
    "duration": 38,
    "start_time": "2022-04-25T08:01:36.983Z"
   },
   {
    "duration": 61,
    "start_time": "2022-04-25T08:01:37.023Z"
   },
   {
    "duration": 22,
    "start_time": "2022-04-25T08:01:37.090Z"
   },
   {
    "duration": 44,
    "start_time": "2022-04-25T08:01:37.115Z"
   },
   {
    "duration": 19,
    "start_time": "2022-04-25T08:01:37.161Z"
   },
   {
    "duration": 36,
    "start_time": "2022-04-25T08:01:37.182Z"
   },
   {
    "duration": 26,
    "start_time": "2022-04-25T08:01:37.220Z"
   },
   {
    "duration": 26,
    "start_time": "2022-04-25T08:01:37.248Z"
   },
   {
    "duration": 22,
    "start_time": "2022-04-25T08:01:37.277Z"
   },
   {
    "duration": 39,
    "start_time": "2022-04-25T08:01:37.302Z"
   },
   {
    "duration": 35,
    "start_time": "2022-04-25T08:01:37.344Z"
   },
   {
    "duration": 53,
    "start_time": "2022-04-25T08:01:37.381Z"
   },
   {
    "duration": 24,
    "start_time": "2022-04-25T08:01:37.437Z"
   },
   {
    "duration": 115,
    "start_time": "2022-04-25T08:01:37.463Z"
   },
   {
    "duration": 73,
    "start_time": "2022-04-25T08:01:37.582Z"
   },
   {
    "duration": 48,
    "start_time": "2022-04-25T08:01:37.658Z"
   },
   {
    "duration": 28,
    "start_time": "2022-04-25T08:01:37.726Z"
   },
   {
    "duration": 32,
    "start_time": "2022-04-25T08:01:37.757Z"
   },
   {
    "duration": 26,
    "start_time": "2022-04-25T08:01:37.791Z"
   },
   {
    "duration": 173,
    "start_time": "2022-04-25T08:01:37.827Z"
   },
   {
    "duration": 98,
    "start_time": "2022-04-25T08:01:38.007Z"
   },
   {
    "duration": 97,
    "start_time": "2022-04-25T08:01:38.108Z"
   },
   {
    "duration": 26,
    "start_time": "2022-04-25T08:01:38.208Z"
   },
   {
    "duration": 36,
    "start_time": "2022-04-25T08:01:38.237Z"
   },
   {
    "duration": 53,
    "start_time": "2022-04-25T08:01:38.276Z"
   },
   {
    "duration": 508,
    "start_time": "2022-04-25T08:01:38.337Z"
   },
   {
    "duration": 589,
    "start_time": "2022-04-25T08:01:38.847Z"
   },
   {
    "duration": 29,
    "start_time": "2022-04-25T08:01:39.439Z"
   },
   {
    "duration": 371,
    "start_time": "2022-04-25T08:01:39.470Z"
   },
   {
    "duration": 17,
    "start_time": "2022-04-25T08:01:39.845Z"
   },
   {
    "duration": 17,
    "start_time": "2022-04-25T08:01:39.865Z"
   },
   {
    "duration": 618,
    "start_time": "2022-04-25T08:01:39.884Z"
   },
   {
    "duration": 435,
    "start_time": "2022-04-25T08:01:40.504Z"
   },
   {
    "duration": 12,
    "start_time": "2022-04-25T08:01:40.942Z"
   },
   {
    "duration": 75,
    "start_time": "2022-04-25T08:01:40.956Z"
   },
   {
    "duration": 34,
    "start_time": "2022-04-25T08:01:41.034Z"
   },
   {
    "duration": 29,
    "start_time": "2022-04-25T08:01:41.070Z"
   },
   {
    "duration": 21,
    "start_time": "2022-04-25T08:01:41.125Z"
   },
   {
    "duration": 4,
    "start_time": "2022-04-25T08:01:41.148Z"
   },
   {
    "duration": 75,
    "start_time": "2022-04-25T08:01:41.154Z"
   },
   {
    "duration": 29,
    "start_time": "2022-04-25T08:01:41.231Z"
   },
   {
    "duration": 3,
    "start_time": "2022-04-25T08:01:41.263Z"
   },
   {
    "duration": 79,
    "start_time": "2022-04-25T08:01:41.268Z"
   },
   {
    "duration": 35,
    "start_time": "2022-04-25T08:01:41.349Z"
   },
   {
    "duration": 47,
    "start_time": "2022-04-25T08:01:41.387Z"
   },
   {
    "duration": 19,
    "start_time": "2022-04-25T08:01:41.441Z"
   },
   {
    "duration": 22,
    "start_time": "2022-04-25T08:01:41.463Z"
   },
   {
    "duration": 41,
    "start_time": "2022-04-25T08:01:41.487Z"
   },
   {
    "duration": 38,
    "start_time": "2022-04-25T08:01:41.531Z"
   },
   {
    "duration": 43,
    "start_time": "2022-04-25T08:01:41.571Z"
   },
   {
    "duration": 238,
    "start_time": "2022-04-25T08:01:41.617Z"
   },
   {
    "duration": 0,
    "start_time": "2022-04-25T08:01:41.859Z"
   },
   {
    "duration": 0,
    "start_time": "2022-04-25T08:01:41.860Z"
   },
   {
    "duration": 0,
    "start_time": "2022-04-25T08:01:41.862Z"
   },
   {
    "duration": 0,
    "start_time": "2022-04-25T08:01:41.863Z"
   },
   {
    "duration": 0,
    "start_time": "2022-04-25T08:01:41.865Z"
   },
   {
    "duration": 0,
    "start_time": "2022-04-25T08:01:41.867Z"
   },
   {
    "duration": 0,
    "start_time": "2022-04-25T08:01:41.868Z"
   },
   {
    "duration": 0,
    "start_time": "2022-04-25T08:01:41.870Z"
   },
   {
    "duration": 0,
    "start_time": "2022-04-25T08:01:41.871Z"
   },
   {
    "duration": 0,
    "start_time": "2022-04-25T08:01:41.874Z"
   },
   {
    "duration": 0,
    "start_time": "2022-04-25T08:01:41.875Z"
   },
   {
    "duration": 0,
    "start_time": "2022-04-25T08:01:41.877Z"
   },
   {
    "duration": 0,
    "start_time": "2022-04-25T08:01:41.879Z"
   },
   {
    "duration": 0,
    "start_time": "2022-04-25T08:01:41.880Z"
   },
   {
    "duration": 0,
    "start_time": "2022-04-25T08:01:41.882Z"
   },
   {
    "duration": 0,
    "start_time": "2022-04-25T08:01:41.927Z"
   },
   {
    "duration": 0,
    "start_time": "2022-04-25T08:01:41.928Z"
   },
   {
    "duration": 0,
    "start_time": "2022-04-25T08:01:41.930Z"
   },
   {
    "duration": 0,
    "start_time": "2022-04-25T08:01:41.932Z"
   },
   {
    "duration": 0,
    "start_time": "2022-04-25T08:01:41.934Z"
   },
   {
    "duration": 0,
    "start_time": "2022-04-25T08:01:41.935Z"
   },
   {
    "duration": 0,
    "start_time": "2022-04-25T08:01:41.937Z"
   },
   {
    "duration": 0,
    "start_time": "2022-04-25T08:01:41.939Z"
   },
   {
    "duration": 0,
    "start_time": "2022-04-25T08:01:41.944Z"
   },
   {
    "duration": 0,
    "start_time": "2022-04-25T08:01:41.949Z"
   },
   {
    "duration": 0,
    "start_time": "2022-04-25T08:01:41.951Z"
   },
   {
    "duration": 0,
    "start_time": "2022-04-25T08:01:41.952Z"
   },
   {
    "duration": 0,
    "start_time": "2022-04-25T08:01:41.954Z"
   },
   {
    "duration": 0,
    "start_time": "2022-04-25T08:01:41.956Z"
   },
   {
    "duration": 0,
    "start_time": "2022-04-25T08:01:41.958Z"
   },
   {
    "duration": 0,
    "start_time": "2022-04-25T08:01:41.960Z"
   },
   {
    "duration": 0,
    "start_time": "2022-04-25T08:01:41.962Z"
   },
   {
    "duration": 0,
    "start_time": "2022-04-25T08:01:41.964Z"
   },
   {
    "duration": 0,
    "start_time": "2022-04-25T08:01:42.027Z"
   },
   {
    "duration": 0,
    "start_time": "2022-04-25T08:01:42.030Z"
   },
   {
    "duration": 0,
    "start_time": "2022-04-25T08:01:42.031Z"
   },
   {
    "duration": 0,
    "start_time": "2022-04-25T08:01:42.033Z"
   },
   {
    "duration": 0,
    "start_time": "2022-04-25T08:01:42.034Z"
   },
   {
    "duration": 0,
    "start_time": "2022-04-25T08:01:42.035Z"
   },
   {
    "duration": 0,
    "start_time": "2022-04-25T08:01:42.036Z"
   },
   {
    "duration": 0,
    "start_time": "2022-04-25T08:01:42.038Z"
   },
   {
    "duration": 0,
    "start_time": "2022-04-25T08:01:42.039Z"
   },
   {
    "duration": 0,
    "start_time": "2022-04-25T08:01:42.040Z"
   },
   {
    "duration": 0,
    "start_time": "2022-04-25T08:01:42.043Z"
   },
   {
    "duration": 0,
    "start_time": "2022-04-25T08:01:42.044Z"
   },
   {
    "duration": 0,
    "start_time": "2022-04-25T08:01:42.046Z"
   },
   {
    "duration": 0,
    "start_time": "2022-04-25T08:01:42.048Z"
   },
   {
    "duration": 0,
    "start_time": "2022-04-25T08:01:42.050Z"
   },
   {
    "duration": 0,
    "start_time": "2022-04-25T08:01:42.053Z"
   },
   {
    "duration": 0,
    "start_time": "2022-04-25T08:01:42.055Z"
   },
   {
    "duration": 0,
    "start_time": "2022-04-25T08:01:42.057Z"
   },
   {
    "duration": 0,
    "start_time": "2022-04-25T08:01:42.059Z"
   },
   {
    "duration": 16,
    "start_time": "2022-04-25T08:02:48.033Z"
   },
   {
    "duration": 8,
    "start_time": "2022-04-25T08:04:06.363Z"
   },
   {
    "duration": 15,
    "start_time": "2022-04-25T08:04:12.363Z"
   },
   {
    "duration": 1536,
    "start_time": "2022-04-25T08:04:32.083Z"
   },
   {
    "duration": 328,
    "start_time": "2022-04-25T08:04:33.622Z"
   },
   {
    "duration": 36,
    "start_time": "2022-04-25T08:04:33.953Z"
   },
   {
    "duration": 207,
    "start_time": "2022-04-25T08:04:34.024Z"
   },
   {
    "duration": 35,
    "start_time": "2022-04-25T08:04:34.234Z"
   },
   {
    "duration": 146,
    "start_time": "2022-04-25T08:04:34.271Z"
   },
   {
    "duration": 32,
    "start_time": "2022-04-25T08:04:34.420Z"
   },
   {
    "duration": 23,
    "start_time": "2022-04-25T08:04:34.455Z"
   },
   {
    "duration": 67,
    "start_time": "2022-04-25T08:04:34.481Z"
   },
   {
    "duration": 16,
    "start_time": "2022-04-25T08:04:34.552Z"
   },
   {
    "duration": 12,
    "start_time": "2022-04-25T08:04:34.570Z"
   },
   {
    "duration": 45,
    "start_time": "2022-04-25T08:04:34.584Z"
   },
   {
    "duration": 21,
    "start_time": "2022-04-25T08:04:34.632Z"
   },
   {
    "duration": 7,
    "start_time": "2022-04-25T08:04:34.655Z"
   },
   {
    "duration": 15,
    "start_time": "2022-04-25T08:04:34.664Z"
   },
   {
    "duration": 9,
    "start_time": "2022-04-25T08:04:34.682Z"
   },
   {
    "duration": 69,
    "start_time": "2022-04-25T08:04:34.693Z"
   },
   {
    "duration": 23,
    "start_time": "2022-04-25T08:04:34.764Z"
   },
   {
    "duration": 63,
    "start_time": "2022-04-25T08:04:34.790Z"
   },
   {
    "duration": 8,
    "start_time": "2022-04-25T08:04:34.856Z"
   },
   {
    "duration": 120,
    "start_time": "2022-04-25T08:04:34.867Z"
   },
   {
    "duration": 84,
    "start_time": "2022-04-25T08:04:34.989Z"
   },
   {
    "duration": 69,
    "start_time": "2022-04-25T08:04:35.076Z"
   },
   {
    "duration": 20,
    "start_time": "2022-04-25T08:04:35.148Z"
   },
   {
    "duration": 26,
    "start_time": "2022-04-25T08:04:35.170Z"
   },
   {
    "duration": 34,
    "start_time": "2022-04-25T08:04:35.198Z"
   },
   {
    "duration": 177,
    "start_time": "2022-04-25T08:04:35.235Z"
   },
   {
    "duration": 75,
    "start_time": "2022-04-25T08:04:35.426Z"
   },
   {
    "duration": 89,
    "start_time": "2022-04-25T08:04:35.503Z"
   },
   {
    "duration": 9,
    "start_time": "2022-04-25T08:04:35.594Z"
   },
   {
    "duration": 23,
    "start_time": "2022-04-25T08:04:35.626Z"
   },
   {
    "duration": 32,
    "start_time": "2022-04-25T08:04:35.652Z"
   },
   {
    "duration": 668,
    "start_time": "2022-04-25T08:04:35.686Z"
   },
   {
    "duration": 419,
    "start_time": "2022-04-25T08:04:36.357Z"
   },
   {
    "duration": 46,
    "start_time": "2022-04-25T08:04:36.778Z"
   },
   {
    "duration": 380,
    "start_time": "2022-04-25T08:04:36.829Z"
   },
   {
    "duration": 30,
    "start_time": "2022-04-25T08:04:37.212Z"
   },
   {
    "duration": 26,
    "start_time": "2022-04-25T08:04:37.245Z"
   },
   {
    "duration": 520,
    "start_time": "2022-04-25T08:04:37.274Z"
   },
   {
    "duration": 348,
    "start_time": "2022-04-25T08:04:37.796Z"
   },
   {
    "duration": 13,
    "start_time": "2022-04-25T08:04:38.147Z"
   },
   {
    "duration": 75,
    "start_time": "2022-04-25T08:04:38.164Z"
   },
   {
    "duration": 50,
    "start_time": "2022-04-25T08:04:38.244Z"
   },
   {
    "duration": 55,
    "start_time": "2022-04-25T08:04:38.296Z"
   },
   {
    "duration": 15,
    "start_time": "2022-04-25T08:04:38.353Z"
   },
   {
    "duration": 4,
    "start_time": "2022-04-25T08:04:38.370Z"
   },
   {
    "duration": 85,
    "start_time": "2022-04-25T08:04:38.376Z"
   },
   {
    "duration": 63,
    "start_time": "2022-04-25T08:04:38.463Z"
   },
   {
    "duration": 4,
    "start_time": "2022-04-25T08:04:38.529Z"
   },
   {
    "duration": 51,
    "start_time": "2022-04-25T08:04:38.536Z"
   },
   {
    "duration": 74,
    "start_time": "2022-04-25T08:04:38.590Z"
   },
   {
    "duration": 17,
    "start_time": "2022-04-25T08:04:38.667Z"
   },
   {
    "duration": 65,
    "start_time": "2022-04-25T08:04:38.686Z"
   },
   {
    "duration": 18,
    "start_time": "2022-04-25T08:04:38.755Z"
   },
   {
    "duration": 11,
    "start_time": "2022-04-25T08:04:38.775Z"
   },
   {
    "duration": 64,
    "start_time": "2022-04-25T08:04:38.789Z"
   },
   {
    "duration": 18,
    "start_time": "2022-04-25T08:04:38.855Z"
   },
   {
    "duration": 375,
    "start_time": "2022-04-25T08:04:38.876Z"
   },
   {
    "duration": 36,
    "start_time": "2022-04-25T08:04:39.253Z"
   },
   {
    "duration": 6,
    "start_time": "2022-04-25T08:04:39.292Z"
   },
   {
    "duration": 85,
    "start_time": "2022-04-25T08:04:39.300Z"
   },
   {
    "duration": 70,
    "start_time": "2022-04-25T08:04:39.388Z"
   },
   {
    "duration": 5,
    "start_time": "2022-04-25T08:04:39.460Z"
   },
   {
    "duration": 85,
    "start_time": "2022-04-25T08:04:39.468Z"
   },
   {
    "duration": 35,
    "start_time": "2022-04-25T08:04:39.555Z"
   },
   {
    "duration": 36,
    "start_time": "2022-04-25T08:04:39.593Z"
   },
   {
    "duration": 58,
    "start_time": "2022-04-25T08:04:39.633Z"
   },
   {
    "duration": 62,
    "start_time": "2022-04-25T08:04:39.693Z"
   },
   {
    "duration": 5,
    "start_time": "2022-04-25T08:04:39.758Z"
   },
   {
    "duration": 75,
    "start_time": "2022-04-25T08:04:39.766Z"
   },
   {
    "duration": 19,
    "start_time": "2022-04-25T08:04:39.844Z"
   },
   {
    "duration": 27,
    "start_time": "2022-04-25T08:04:39.865Z"
   },
   {
    "duration": 43,
    "start_time": "2022-04-25T08:04:39.895Z"
   },
   {
    "duration": 21,
    "start_time": "2022-04-25T08:04:39.940Z"
   },
   {
    "duration": 5,
    "start_time": "2022-04-25T08:04:39.963Z"
   },
   {
    "duration": 73,
    "start_time": "2022-04-25T08:04:39.970Z"
   },
   {
    "duration": 25,
    "start_time": "2022-04-25T08:04:40.045Z"
   },
   {
    "duration": 65,
    "start_time": "2022-04-25T08:04:40.072Z"
   },
   {
    "duration": 28,
    "start_time": "2022-04-25T08:04:40.140Z"
   },
   {
    "duration": 9,
    "start_time": "2022-04-25T08:04:40.171Z"
   },
   {
    "duration": 45,
    "start_time": "2022-04-25T08:04:40.183Z"
   },
   {
    "duration": 19,
    "start_time": "2022-04-25T08:04:40.241Z"
   },
   {
    "duration": 30,
    "start_time": "2022-04-25T08:04:40.263Z"
   },
   {
    "duration": 61,
    "start_time": "2022-04-25T08:04:40.296Z"
   },
   {
    "duration": 214,
    "start_time": "2022-04-25T08:04:40.359Z"
   },
   {
    "duration": 304,
    "start_time": "2022-04-25T08:04:40.575Z"
   },
   {
    "duration": 12,
    "start_time": "2022-04-25T08:04:40.881Z"
   },
   {
    "duration": 47,
    "start_time": "2022-04-25T08:04:40.896Z"
   },
   {
    "duration": 539,
    "start_time": "2022-04-25T08:04:40.947Z"
   },
   {
    "duration": 215,
    "start_time": "2022-04-25T08:04:41.490Z"
   },
   {
    "duration": 196,
    "start_time": "2022-04-25T08:04:41.708Z"
   },
   {
    "duration": 26,
    "start_time": "2022-04-25T08:04:41.907Z"
   },
   {
    "duration": 32,
    "start_time": "2022-04-25T08:04:41.936Z"
   },
   {
    "duration": 377,
    "start_time": "2022-04-25T08:04:41.971Z"
   },
   {
    "duration": 222,
    "start_time": "2022-04-25T08:04:42.350Z"
   },
   {
    "duration": 214,
    "start_time": "2022-04-25T08:04:42.575Z"
   },
   {
    "duration": 41,
    "start_time": "2022-04-25T08:04:42.792Z"
   },
   {
    "duration": 12,
    "start_time": "2022-04-25T08:04:42.836Z"
   },
   {
    "duration": 353,
    "start_time": "2022-04-25T08:04:42.850Z"
   },
   {
    "duration": 29,
    "start_time": "2022-04-25T08:04:43.205Z"
   },
   {
    "duration": 20,
    "start_time": "2022-04-25T08:04:43.237Z"
   },
   {
    "duration": 75,
    "start_time": "2022-04-25T08:04:43.260Z"
   },
   {
    "duration": 29,
    "start_time": "2022-04-25T08:04:43.338Z"
   },
   {
    "duration": 542,
    "start_time": "2022-04-25T08:04:43.370Z"
   },
   {
    "duration": 520,
    "start_time": "2022-04-25T08:04:43.916Z"
   },
   {
    "duration": 37,
    "start_time": "2022-04-25T08:04:44.438Z"
   },
   {
    "duration": 72,
    "start_time": "2022-04-25T08:04:44.478Z"
   },
   {
    "duration": 25,
    "start_time": "2022-04-25T08:04:44.555Z"
   },
   {
    "duration": 9,
    "start_time": "2022-04-25T08:04:44.583Z"
   },
   {
    "duration": 42,
    "start_time": "2022-04-25T08:04:44.594Z"
   },
   {
    "duration": 7,
    "start_time": "2022-04-25T08:05:16.046Z"
   },
   {
    "duration": 1536,
    "start_time": "2022-04-25T08:26:22.649Z"
   },
   {
    "duration": 288,
    "start_time": "2022-04-25T08:26:24.187Z"
   },
   {
    "duration": 52,
    "start_time": "2022-04-25T08:26:24.477Z"
   },
   {
    "duration": 217,
    "start_time": "2022-04-25T08:26:24.532Z"
   },
   {
    "duration": 28,
    "start_time": "2022-04-25T08:26:24.752Z"
   },
   {
    "duration": 163,
    "start_time": "2022-04-25T08:26:24.783Z"
   },
   {
    "duration": 28,
    "start_time": "2022-04-25T08:26:24.948Z"
   },
   {
    "duration": 49,
    "start_time": "2022-04-25T08:26:24.978Z"
   },
   {
    "duration": 49,
    "start_time": "2022-04-25T08:26:25.030Z"
   },
   {
    "duration": 20,
    "start_time": "2022-04-25T08:26:25.084Z"
   },
   {
    "duration": 22,
    "start_time": "2022-04-25T08:26:25.106Z"
   },
   {
    "duration": 15,
    "start_time": "2022-04-25T08:26:25.131Z"
   },
   {
    "duration": 17,
    "start_time": "2022-04-25T08:26:25.149Z"
   },
   {
    "duration": 11,
    "start_time": "2022-04-25T08:26:25.168Z"
   },
   {
    "duration": 8,
    "start_time": "2022-04-25T08:26:25.182Z"
   },
   {
    "duration": 37,
    "start_time": "2022-04-25T08:26:25.192Z"
   },
   {
    "duration": 63,
    "start_time": "2022-04-25T08:26:25.231Z"
   },
   {
    "duration": 42,
    "start_time": "2022-04-25T08:26:25.296Z"
   },
   {
    "duration": 31,
    "start_time": "2022-04-25T08:26:25.340Z"
   },
   {
    "duration": 9,
    "start_time": "2022-04-25T08:26:25.373Z"
   },
   {
    "duration": 104,
    "start_time": "2022-04-25T08:26:25.384Z"
   },
   {
    "duration": 68,
    "start_time": "2022-04-25T08:26:25.491Z"
   },
   {
    "duration": 63,
    "start_time": "2022-04-25T08:26:25.561Z"
   },
   {
    "duration": 21,
    "start_time": "2022-04-25T08:26:25.627Z"
   },
   {
    "duration": 15,
    "start_time": "2022-04-25T08:26:25.650Z"
   },
   {
    "duration": 12,
    "start_time": "2022-04-25T08:26:25.667Z"
   },
   {
    "duration": 184,
    "start_time": "2022-04-25T08:26:25.682Z"
   },
   {
    "duration": 89,
    "start_time": "2022-04-25T08:26:25.873Z"
   },
   {
    "duration": 93,
    "start_time": "2022-04-25T08:26:25.965Z"
   },
   {
    "duration": 12,
    "start_time": "2022-04-25T08:26:26.061Z"
   },
   {
    "duration": 58,
    "start_time": "2022-04-25T08:26:26.076Z"
   },
   {
    "duration": 27,
    "start_time": "2022-04-25T08:26:26.137Z"
   },
   {
    "duration": 513,
    "start_time": "2022-04-25T08:26:26.167Z"
   },
   {
    "duration": 685,
    "start_time": "2022-04-25T08:26:26.683Z"
   },
   {
    "duration": 29,
    "start_time": "2022-04-25T08:26:27.371Z"
   },
   {
    "duration": 373,
    "start_time": "2022-04-25T08:26:27.402Z"
   },
   {
    "duration": 17,
    "start_time": "2022-04-25T08:26:27.777Z"
   },
   {
    "duration": 37,
    "start_time": "2022-04-25T08:26:27.796Z"
   },
   {
    "duration": 562,
    "start_time": "2022-04-25T08:26:27.835Z"
   },
   {
    "duration": 329,
    "start_time": "2022-04-25T08:26:28.400Z"
   },
   {
    "duration": 12,
    "start_time": "2022-04-25T08:26:28.731Z"
   },
   {
    "duration": 61,
    "start_time": "2022-04-25T08:26:28.746Z"
   },
   {
    "duration": 44,
    "start_time": "2022-04-25T08:26:28.825Z"
   },
   {
    "duration": 66,
    "start_time": "2022-04-25T08:26:28.871Z"
   },
   {
    "duration": 19,
    "start_time": "2022-04-25T08:26:28.940Z"
   },
   {
    "duration": 3,
    "start_time": "2022-04-25T08:26:28.962Z"
   },
   {
    "duration": 93,
    "start_time": "2022-04-25T08:26:28.968Z"
   },
   {
    "duration": 27,
    "start_time": "2022-04-25T08:26:29.064Z"
   },
   {
    "duration": 32,
    "start_time": "2022-04-25T08:26:29.093Z"
   },
   {
    "duration": 39,
    "start_time": "2022-04-25T08:26:29.127Z"
   },
   {
    "duration": 30,
    "start_time": "2022-04-25T08:26:29.168Z"
   },
   {
    "duration": 14,
    "start_time": "2022-04-25T08:26:29.224Z"
   },
   {
    "duration": 17,
    "start_time": "2022-04-25T08:26:29.241Z"
   },
   {
    "duration": 17,
    "start_time": "2022-04-25T08:26:29.260Z"
   },
   {
    "duration": 45,
    "start_time": "2022-04-25T08:26:29.280Z"
   },
   {
    "duration": 18,
    "start_time": "2022-04-25T08:26:29.328Z"
   },
   {
    "duration": 18,
    "start_time": "2022-04-25T08:26:29.348Z"
   },
   {
    "duration": 360,
    "start_time": "2022-04-25T08:26:29.368Z"
   },
   {
    "duration": 5,
    "start_time": "2022-04-25T08:26:29.730Z"
   },
   {
    "duration": 45,
    "start_time": "2022-04-25T08:26:29.738Z"
   },
   {
    "duration": 55,
    "start_time": "2022-04-25T08:26:29.785Z"
   },
   {
    "duration": 5,
    "start_time": "2022-04-25T08:26:29.842Z"
   },
   {
    "duration": 82,
    "start_time": "2022-04-25T08:26:29.849Z"
   },
   {
    "duration": 32,
    "start_time": "2022-04-25T08:26:29.933Z"
   },
   {
    "duration": 5,
    "start_time": "2022-04-25T08:26:29.968Z"
   },
   {
    "duration": 86,
    "start_time": "2022-04-25T08:26:29.976Z"
   },
   {
    "duration": 32,
    "start_time": "2022-04-25T08:26:30.065Z"
   },
   {
    "duration": 27,
    "start_time": "2022-04-25T08:26:30.099Z"
   },
   {
    "duration": 43,
    "start_time": "2022-04-25T08:26:30.128Z"
   },
   {
    "duration": 41,
    "start_time": "2022-04-25T08:26:30.173Z"
   },
   {
    "duration": 46,
    "start_time": "2022-04-25T08:26:30.217Z"
   },
   {
    "duration": 55,
    "start_time": "2022-04-25T08:26:30.266Z"
   },
   {
    "duration": 39,
    "start_time": "2022-04-25T08:26:30.323Z"
   },
   {
    "duration": 26,
    "start_time": "2022-04-25T08:26:30.365Z"
   },
   {
    "duration": 38,
    "start_time": "2022-04-25T08:26:30.394Z"
   },
   {
    "duration": 36,
    "start_time": "2022-04-25T08:26:30.434Z"
   },
   {
    "duration": 30,
    "start_time": "2022-04-25T08:26:30.473Z"
   },
   {
    "duration": 43,
    "start_time": "2022-04-25T08:26:30.506Z"
   },
   {
    "duration": 7,
    "start_time": "2022-04-25T08:26:30.552Z"
   },
   {
    "duration": 21,
    "start_time": "2022-04-25T08:26:30.562Z"
   },
   {
    "duration": 48,
    "start_time": "2022-04-25T08:26:30.585Z"
   },
   {
    "duration": 33,
    "start_time": "2022-04-25T08:26:30.646Z"
   },
   {
    "duration": 63,
    "start_time": "2022-04-25T08:26:30.682Z"
   },
   {
    "duration": 218,
    "start_time": "2022-04-25T08:26:30.748Z"
   },
   {
    "duration": 213,
    "start_time": "2022-04-25T08:26:30.968Z"
   },
   {
    "duration": 12,
    "start_time": "2022-04-25T08:26:31.183Z"
   },
   {
    "duration": 34,
    "start_time": "2022-04-25T08:26:31.197Z"
   },
   {
    "duration": 433,
    "start_time": "2022-04-25T08:26:31.233Z"
   },
   {
    "duration": 206,
    "start_time": "2022-04-25T08:26:31.669Z"
   },
   {
    "duration": 183,
    "start_time": "2022-04-25T08:26:31.877Z"
   },
   {
    "duration": 12,
    "start_time": "2022-04-25T08:26:32.062Z"
   },
   {
    "duration": 12,
    "start_time": "2022-04-25T08:26:32.076Z"
   },
   {
    "duration": 335,
    "start_time": "2022-04-25T08:26:32.125Z"
   },
   {
    "duration": 216,
    "start_time": "2022-04-25T08:26:32.463Z"
   },
   {
    "duration": 193,
    "start_time": "2022-04-25T08:26:32.682Z"
   },
   {
    "duration": 11,
    "start_time": "2022-04-25T08:26:32.878Z"
   },
   {
    "duration": 39,
    "start_time": "2022-04-25T08:26:32.891Z"
   },
   {
    "duration": 331,
    "start_time": "2022-04-25T08:26:32.933Z"
   },
   {
    "duration": 19,
    "start_time": "2022-04-25T08:26:33.266Z"
   },
   {
    "duration": 47,
    "start_time": "2022-04-25T08:26:33.288Z"
   },
   {
    "duration": 22,
    "start_time": "2022-04-25T08:26:33.338Z"
   },
   {
    "duration": 35,
    "start_time": "2022-04-25T08:26:33.362Z"
   },
   {
    "duration": 363,
    "start_time": "2022-04-25T08:26:33.400Z"
   },
   {
    "duration": 355,
    "start_time": "2022-04-25T08:26:33.765Z"
   },
   {
    "duration": 32,
    "start_time": "2022-04-25T08:26:34.122Z"
   },
   {
    "duration": 46,
    "start_time": "2022-04-25T08:26:34.156Z"
   },
   {
    "duration": 23,
    "start_time": "2022-04-25T08:26:34.204Z"
   },
   {
    "duration": 24,
    "start_time": "2022-04-25T08:26:34.230Z"
   },
   {
    "duration": 21,
    "start_time": "2022-04-25T08:26:34.257Z"
   },
   {
    "duration": 763,
    "start_time": "2022-04-25T11:55:15.738Z"
   },
   {
    "duration": 1444,
    "start_time": "2022-04-25T11:55:43.842Z"
   },
   {
    "duration": 233,
    "start_time": "2022-04-25T11:55:45.289Z"
   },
   {
    "duration": 36,
    "start_time": "2022-04-25T11:55:45.524Z"
   },
   {
    "duration": 155,
    "start_time": "2022-04-25T11:55:45.563Z"
   },
   {
    "duration": 22,
    "start_time": "2022-04-25T11:55:45.720Z"
   },
   {
    "duration": 101,
    "start_time": "2022-04-25T11:55:45.744Z"
   },
   {
    "duration": 25,
    "start_time": "2022-04-25T11:55:45.847Z"
   },
   {
    "duration": 33,
    "start_time": "2022-04-25T11:55:45.874Z"
   },
   {
    "duration": 22,
    "start_time": "2022-04-25T11:55:45.909Z"
   },
   {
    "duration": 11,
    "start_time": "2022-04-25T11:55:45.936Z"
   },
   {
    "duration": 11,
    "start_time": "2022-04-25T11:55:45.949Z"
   },
   {
    "duration": 6,
    "start_time": "2022-04-25T11:55:45.962Z"
   },
   {
    "duration": 7,
    "start_time": "2022-04-25T11:55:45.969Z"
   },
   {
    "duration": 4,
    "start_time": "2022-04-25T11:55:45.993Z"
   },
   {
    "duration": 9,
    "start_time": "2022-04-25T11:55:45.999Z"
   },
   {
    "duration": 7,
    "start_time": "2022-04-25T11:55:46.009Z"
   },
   {
    "duration": 27,
    "start_time": "2022-04-25T11:55:46.018Z"
   },
   {
    "duration": 48,
    "start_time": "2022-04-25T11:55:46.048Z"
   },
   {
    "duration": 17,
    "start_time": "2022-04-25T11:55:46.098Z"
   },
   {
    "duration": 7,
    "start_time": "2022-04-25T11:55:46.117Z"
   },
   {
    "duration": 76,
    "start_time": "2022-04-25T11:55:46.126Z"
   },
   {
    "duration": 41,
    "start_time": "2022-04-25T11:55:46.204Z"
   },
   {
    "duration": 51,
    "start_time": "2022-04-25T11:55:46.247Z"
   },
   {
    "duration": 14,
    "start_time": "2022-04-25T11:55:46.300Z"
   },
   {
    "duration": 10,
    "start_time": "2022-04-25T11:55:46.316Z"
   },
   {
    "duration": 7,
    "start_time": "2022-04-25T11:55:46.328Z"
   },
   {
    "duration": 125,
    "start_time": "2022-04-25T11:55:46.337Z"
   },
   {
    "duration": 59,
    "start_time": "2022-04-25T11:55:46.467Z"
   },
   {
    "duration": 66,
    "start_time": "2022-04-25T11:55:46.528Z"
   },
   {
    "duration": 9,
    "start_time": "2022-04-25T11:55:46.596Z"
   },
   {
    "duration": 18,
    "start_time": "2022-04-25T11:55:46.607Z"
   },
   {
    "duration": 20,
    "start_time": "2022-04-25T11:55:46.628Z"
   },
   {
    "duration": 315,
    "start_time": "2022-04-25T11:55:46.650Z"
   },
   {
    "duration": 306,
    "start_time": "2022-04-25T11:55:46.967Z"
   },
   {
    "duration": 31,
    "start_time": "2022-04-25T11:55:47.275Z"
   },
   {
    "duration": 242,
    "start_time": "2022-04-25T11:55:47.308Z"
   },
   {
    "duration": 14,
    "start_time": "2022-04-25T11:55:47.552Z"
   },
   {
    "duration": 30,
    "start_time": "2022-04-25T11:55:47.568Z"
   },
   {
    "duration": 337,
    "start_time": "2022-04-25T11:55:47.600Z"
   },
   {
    "duration": 256,
    "start_time": "2022-04-25T11:55:47.939Z"
   },
   {
    "duration": 11,
    "start_time": "2022-04-25T11:55:48.198Z"
   },
   {
    "duration": 35,
    "start_time": "2022-04-25T11:55:48.211Z"
   },
   {
    "duration": 47,
    "start_time": "2022-04-25T11:55:48.248Z"
   },
   {
    "duration": 30,
    "start_time": "2022-04-25T11:55:48.297Z"
   },
   {
    "duration": 15,
    "start_time": "2022-04-25T11:55:48.329Z"
   },
   {
    "duration": 10,
    "start_time": "2022-04-25T11:55:48.346Z"
   },
   {
    "duration": 69,
    "start_time": "2022-04-25T11:55:48.357Z"
   },
   {
    "duration": 22,
    "start_time": "2022-04-25T11:55:48.428Z"
   },
   {
    "duration": 5,
    "start_time": "2022-04-25T11:55:48.452Z"
   },
   {
    "duration": 52,
    "start_time": "2022-04-25T11:55:48.459Z"
   },
   {
    "duration": 25,
    "start_time": "2022-04-25T11:55:48.513Z"
   },
   {
    "duration": 14,
    "start_time": "2022-04-25T11:55:48.541Z"
   },
   {
    "duration": 13,
    "start_time": "2022-04-25T11:55:48.557Z"
   },
   {
    "duration": 33,
    "start_time": "2022-04-25T11:55:48.572Z"
   },
   {
    "duration": 16,
    "start_time": "2022-04-25T11:55:48.608Z"
   },
   {
    "duration": 26,
    "start_time": "2022-04-25T11:55:48.626Z"
   },
   {
    "duration": 29,
    "start_time": "2022-04-25T11:55:48.653Z"
   },
   {
    "duration": 283,
    "start_time": "2022-04-25T11:55:48.684Z"
   },
   {
    "duration": 4,
    "start_time": "2022-04-25T11:55:48.970Z"
   },
   {
    "duration": 51,
    "start_time": "2022-04-25T11:55:48.976Z"
   },
   {
    "duration": 28,
    "start_time": "2022-04-25T11:55:49.029Z"
   },
   {
    "duration": 33,
    "start_time": "2022-04-25T11:55:49.060Z"
   },
   {
    "duration": 59,
    "start_time": "2022-04-25T11:55:49.095Z"
   },
   {
    "duration": 21,
    "start_time": "2022-04-25T11:55:49.156Z"
   },
   {
    "duration": 12,
    "start_time": "2022-04-25T11:55:49.179Z"
   },
   {
    "duration": 54,
    "start_time": "2022-04-25T11:55:49.193Z"
   },
   {
    "duration": 21,
    "start_time": "2022-04-25T11:55:49.249Z"
   },
   {
    "duration": 16,
    "start_time": "2022-04-25T11:55:49.272Z"
   },
   {
    "duration": 40,
    "start_time": "2022-04-25T11:55:49.290Z"
   },
   {
    "duration": 19,
    "start_time": "2022-04-25T11:55:49.332Z"
   },
   {
    "duration": 37,
    "start_time": "2022-04-25T11:55:49.353Z"
   },
   {
    "duration": 35,
    "start_time": "2022-04-25T11:55:49.391Z"
   },
   {
    "duration": 25,
    "start_time": "2022-04-25T11:55:49.428Z"
   },
   {
    "duration": 24,
    "start_time": "2022-04-25T11:55:49.454Z"
   },
   {
    "duration": 43,
    "start_time": "2022-04-25T11:55:49.480Z"
   },
   {
    "duration": 35,
    "start_time": "2022-04-25T11:55:49.525Z"
   },
   {
    "duration": 29,
    "start_time": "2022-04-25T11:55:49.562Z"
   },
   {
    "duration": 33,
    "start_time": "2022-04-25T11:55:49.592Z"
   },
   {
    "duration": 34,
    "start_time": "2022-04-25T11:55:49.627Z"
   },
   {
    "duration": 14,
    "start_time": "2022-04-25T11:55:49.663Z"
   },
   {
    "duration": 12,
    "start_time": "2022-04-25T11:55:49.679Z"
   },
   {
    "duration": 22,
    "start_time": "2022-04-25T11:55:49.701Z"
   },
   {
    "duration": 18,
    "start_time": "2022-04-25T11:55:49.725Z"
   },
   {
    "duration": 144,
    "start_time": "2022-04-25T11:55:49.745Z"
   },
   {
    "duration": 124,
    "start_time": "2022-04-25T11:55:49.892Z"
   },
   {
    "duration": 10,
    "start_time": "2022-04-25T11:55:50.018Z"
   },
   {
    "duration": 13,
    "start_time": "2022-04-25T11:55:50.030Z"
   },
   {
    "duration": 300,
    "start_time": "2022-04-25T11:55:50.045Z"
   },
   {
    "duration": 138,
    "start_time": "2022-04-25T11:55:50.347Z"
   },
   {
    "duration": 137,
    "start_time": "2022-04-25T11:55:50.486Z"
   },
   {
    "duration": 8,
    "start_time": "2022-04-25T11:55:50.625Z"
   },
   {
    "duration": 16,
    "start_time": "2022-04-25T11:55:50.634Z"
   },
   {
    "duration": 229,
    "start_time": "2022-04-25T11:55:50.652Z"
   },
   {
    "duration": 146,
    "start_time": "2022-04-25T11:55:50.884Z"
   },
   {
    "duration": 121,
    "start_time": "2022-04-25T11:55:51.032Z"
   },
   {
    "duration": 10,
    "start_time": "2022-04-25T11:55:51.155Z"
   },
   {
    "duration": 28,
    "start_time": "2022-04-25T11:55:51.166Z"
   },
   {
    "duration": 201,
    "start_time": "2022-04-25T11:55:51.196Z"
   },
   {
    "duration": 12,
    "start_time": "2022-04-25T11:55:51.399Z"
   },
   {
    "duration": 13,
    "start_time": "2022-04-25T11:55:51.413Z"
   },
   {
    "duration": 19,
    "start_time": "2022-04-25T11:55:51.427Z"
   },
   {
    "duration": 15,
    "start_time": "2022-04-25T11:55:51.447Z"
   },
   {
    "duration": 213,
    "start_time": "2022-04-25T11:55:51.492Z"
   },
   {
    "duration": 241,
    "start_time": "2022-04-25T11:55:51.706Z"
   },
   {
    "duration": 21,
    "start_time": "2022-04-25T11:55:51.949Z"
   },
   {
    "duration": 39,
    "start_time": "2022-04-25T11:55:51.972Z"
   },
   {
    "duration": 8,
    "start_time": "2022-04-25T11:55:52.014Z"
   },
   {
    "duration": 9,
    "start_time": "2022-04-25T11:55:52.023Z"
   },
   {
    "duration": 7,
    "start_time": "2022-04-25T11:55:52.034Z"
   },
   {
    "duration": 11,
    "start_time": "2022-04-25T11:55:52.043Z"
   },
   {
    "duration": 5,
    "start_time": "2022-04-25T11:56:39.947Z"
   },
   {
    "duration": 22,
    "start_time": "2022-04-25T11:59:46.897Z"
   },
   {
    "duration": 27,
    "start_time": "2022-04-25T11:59:52.193Z"
   },
   {
    "duration": 99,
    "start_time": "2022-04-25T12:00:20.296Z"
   },
   {
    "duration": 11,
    "start_time": "2022-04-25T12:00:26.000Z"
   },
   {
    "duration": 6,
    "start_time": "2022-04-25T12:00:30.680Z"
   },
   {
    "duration": 24,
    "start_time": "2022-04-25T12:14:57.441Z"
   },
   {
    "duration": 22,
    "start_time": "2022-04-25T12:15:36.844Z"
   },
   {
    "duration": 24,
    "start_time": "2022-04-25T12:15:51.487Z"
   },
   {
    "duration": 23,
    "start_time": "2022-04-25T12:15:54.021Z"
   },
   {
    "duration": 22,
    "start_time": "2022-04-25T12:19:09.076Z"
   },
   {
    "duration": 24,
    "start_time": "2022-04-25T12:19:09.523Z"
   },
   {
    "duration": 2339,
    "start_time": "2022-04-25T12:20:52.937Z"
   },
   {
    "duration": 14,
    "start_time": "2022-04-25T12:21:21.261Z"
   },
   {
    "duration": 4,
    "start_time": "2022-04-25T12:29:02.100Z"
   },
   {
    "duration": 5,
    "start_time": "2022-04-25T12:29:09.993Z"
   },
   {
    "duration": 5,
    "start_time": "2022-04-25T12:29:17.362Z"
   },
   {
    "duration": 14,
    "start_time": "2022-04-25T12:30:15.497Z"
   },
   {
    "duration": 14,
    "start_time": "2022-04-25T12:30:43.523Z"
   },
   {
    "duration": 13,
    "start_time": "2022-04-25T12:31:02.775Z"
   },
   {
    "duration": 2315,
    "start_time": "2022-04-25T12:31:21.067Z"
   },
   {
    "duration": 36,
    "start_time": "2022-04-25T12:31:33.490Z"
   },
   {
    "duration": 15,
    "start_time": "2022-04-25T12:31:44.837Z"
   },
   {
    "duration": 11,
    "start_time": "2022-04-25T12:31:59.346Z"
   },
   {
    "duration": 10,
    "start_time": "2022-04-25T12:33:50.961Z"
   },
   {
    "duration": 34,
    "start_time": "2022-04-25T12:34:02.164Z"
   },
   {
    "duration": 27,
    "start_time": "2022-04-25T12:35:09.123Z"
   },
   {
    "duration": 4,
    "start_time": "2022-04-25T12:35:23.723Z"
   },
   {
    "duration": 18,
    "start_time": "2022-04-25T12:35:38.623Z"
   },
   {
    "duration": 152,
    "start_time": "2022-04-25T12:35:42.598Z"
   },
   {
    "duration": 15,
    "start_time": "2022-04-25T12:35:45.526Z"
   },
   {
    "duration": 5,
    "start_time": "2022-04-25T12:35:54.932Z"
   },
   {
    "duration": 4,
    "start_time": "2022-04-25T12:55:39.411Z"
   },
   {
    "duration": 4,
    "start_time": "2022-04-25T12:55:40.162Z"
   },
   {
    "duration": 5,
    "start_time": "2022-04-25T12:56:25.915Z"
   },
   {
    "duration": 6,
    "start_time": "2022-04-25T12:57:05.817Z"
   },
   {
    "duration": 5,
    "start_time": "2022-04-25T12:57:26.651Z"
   },
   {
    "duration": 5,
    "start_time": "2022-04-25T13:01:06.087Z"
   },
   {
    "duration": 5,
    "start_time": "2022-04-25T13:01:24.007Z"
   },
   {
    "duration": 5,
    "start_time": "2022-04-25T13:03:21.516Z"
   },
   {
    "duration": 9,
    "start_time": "2022-04-25T13:04:26.007Z"
   },
   {
    "duration": 1492,
    "start_time": "2022-04-25T14:55:33.472Z"
   },
   {
    "duration": 297,
    "start_time": "2022-04-25T14:55:34.968Z"
   },
   {
    "duration": 59,
    "start_time": "2022-04-25T14:55:35.267Z"
   },
   {
    "duration": 193,
    "start_time": "2022-04-25T14:55:35.331Z"
   },
   {
    "duration": 30,
    "start_time": "2022-04-25T14:55:35.527Z"
   },
   {
    "duration": 146,
    "start_time": "2022-04-25T14:55:35.559Z"
   },
   {
    "duration": 26,
    "start_time": "2022-04-25T14:55:35.725Z"
   },
   {
    "duration": 37,
    "start_time": "2022-04-25T14:55:35.753Z"
   },
   {
    "duration": 55,
    "start_time": "2022-04-25T14:55:35.792Z"
   },
   {
    "duration": 15,
    "start_time": "2022-04-25T14:55:35.851Z"
   },
   {
    "duration": 15,
    "start_time": "2022-04-25T14:55:35.868Z"
   },
   {
    "duration": 40,
    "start_time": "2022-04-25T14:55:35.886Z"
   },
   {
    "duration": 16,
    "start_time": "2022-04-25T14:55:35.928Z"
   },
   {
    "duration": 17,
    "start_time": "2022-04-25T14:55:35.946Z"
   },
   {
    "duration": 30,
    "start_time": "2022-04-25T14:55:35.966Z"
   },
   {
    "duration": 33,
    "start_time": "2022-04-25T14:55:35.998Z"
   },
   {
    "duration": 32,
    "start_time": "2022-04-25T14:55:36.033Z"
   },
   {
    "duration": 22,
    "start_time": "2022-04-25T14:55:36.067Z"
   },
   {
    "duration": 44,
    "start_time": "2022-04-25T14:55:36.091Z"
   },
   {
    "duration": 13,
    "start_time": "2022-04-25T14:55:36.137Z"
   },
   {
    "duration": 87,
    "start_time": "2022-04-25T14:55:36.152Z"
   },
   {
    "duration": 56,
    "start_time": "2022-04-25T14:55:36.241Z"
   },
   {
    "duration": 65,
    "start_time": "2022-04-25T14:55:36.300Z"
   },
   {
    "duration": 22,
    "start_time": "2022-04-25T14:55:36.368Z"
   },
   {
    "duration": 35,
    "start_time": "2022-04-25T14:55:36.393Z"
   },
   {
    "duration": 11,
    "start_time": "2022-04-25T14:55:36.431Z"
   },
   {
    "duration": 229,
    "start_time": "2022-04-25T14:55:36.445Z"
   },
   {
    "duration": 91,
    "start_time": "2022-04-25T14:55:36.681Z"
   },
   {
    "duration": 87,
    "start_time": "2022-04-25T14:55:36.774Z"
   },
   {
    "duration": 10,
    "start_time": "2022-04-25T14:55:36.863Z"
   },
   {
    "duration": 23,
    "start_time": "2022-04-25T14:55:36.875Z"
   },
   {
    "duration": 46,
    "start_time": "2022-04-25T14:55:36.900Z"
   },
   {
    "duration": 496,
    "start_time": "2022-04-25T14:55:36.948Z"
   },
   {
    "duration": 410,
    "start_time": "2022-04-25T14:55:37.446Z"
   },
   {
    "duration": 26,
    "start_time": "2022-04-25T14:55:37.859Z"
   },
   {
    "duration": 359,
    "start_time": "2022-04-25T14:55:37.889Z"
   },
   {
    "duration": 19,
    "start_time": "2022-04-25T14:55:38.251Z"
   },
   {
    "duration": 26,
    "start_time": "2022-04-25T14:55:38.273Z"
   },
   {
    "duration": 782,
    "start_time": "2022-04-25T14:55:38.324Z"
   },
   {
    "duration": 449,
    "start_time": "2022-04-25T14:55:39.108Z"
   },
   {
    "duration": 12,
    "start_time": "2022-04-25T14:55:39.560Z"
   },
   {
    "duration": 62,
    "start_time": "2022-04-25T14:55:39.574Z"
   },
   {
    "duration": 35,
    "start_time": "2022-04-25T14:55:39.638Z"
   },
   {
    "duration": 53,
    "start_time": "2022-04-25T14:55:39.675Z"
   },
   {
    "duration": 16,
    "start_time": "2022-04-25T14:55:39.730Z"
   },
   {
    "duration": 3,
    "start_time": "2022-04-25T14:55:39.748Z"
   },
   {
    "duration": 70,
    "start_time": "2022-04-25T14:55:39.754Z"
   },
   {
    "duration": 27,
    "start_time": "2022-04-25T14:55:39.827Z"
   },
   {
    "duration": 3,
    "start_time": "2022-04-25T14:55:39.856Z"
   },
   {
    "duration": 64,
    "start_time": "2022-04-25T14:55:39.862Z"
   },
   {
    "duration": 33,
    "start_time": "2022-04-25T14:55:39.928Z"
   },
   {
    "duration": 16,
    "start_time": "2022-04-25T14:55:39.963Z"
   },
   {
    "duration": 48,
    "start_time": "2022-04-25T14:55:39.981Z"
   },
   {
    "duration": 18,
    "start_time": "2022-04-25T14:55:40.032Z"
   },
   {
    "duration": 6,
    "start_time": "2022-04-25T14:55:40.053Z"
   },
   {
    "duration": 20,
    "start_time": "2022-04-25T14:55:40.062Z"
   },
   {
    "duration": 53,
    "start_time": "2022-04-25T14:55:40.085Z"
   },
   {
    "duration": 347,
    "start_time": "2022-04-25T14:55:40.140Z"
   },
   {
    "duration": 5,
    "start_time": "2022-04-25T14:55:40.489Z"
   },
   {
    "duration": 61,
    "start_time": "2022-04-25T14:55:40.496Z"
   },
   {
    "duration": 31,
    "start_time": "2022-04-25T14:55:40.560Z"
   },
   {
    "duration": 32,
    "start_time": "2022-04-25T14:55:40.593Z"
   },
   {
    "duration": 52,
    "start_time": "2022-04-25T14:55:40.628Z"
   },
   {
    "duration": 44,
    "start_time": "2022-04-25T14:55:40.682Z"
   },
   {
    "duration": 4,
    "start_time": "2022-04-25T14:55:40.729Z"
   },
   {
    "duration": 58,
    "start_time": "2022-04-25T14:55:40.736Z"
   },
   {
    "duration": 56,
    "start_time": "2022-04-25T14:55:40.796Z"
   },
   {
    "duration": 5,
    "start_time": "2022-04-25T14:55:40.856Z"
   },
   {
    "duration": 33,
    "start_time": "2022-04-25T14:55:40.864Z"
   },
   {
    "duration": 9,
    "start_time": "2022-04-25T14:55:40.926Z"
   },
   {
    "duration": 33,
    "start_time": "2022-04-25T14:55:40.938Z"
   },
   {
    "duration": 34,
    "start_time": "2022-04-25T14:55:40.973Z"
   },
   {
    "duration": 20,
    "start_time": "2022-04-25T14:55:41.024Z"
   },
   {
    "duration": 11,
    "start_time": "2022-04-25T14:55:41.046Z"
   },
   {
    "duration": 29,
    "start_time": "2022-04-25T14:55:41.059Z"
   },
   {
    "duration": 44,
    "start_time": "2022-04-25T14:55:41.090Z"
   },
   {
    "duration": 22,
    "start_time": "2022-04-25T14:55:41.137Z"
   },
   {
    "duration": 22,
    "start_time": "2022-04-25T14:55:41.161Z"
   },
   {
    "duration": 5,
    "start_time": "2022-04-25T14:55:41.185Z"
   },
   {
    "duration": 36,
    "start_time": "2022-04-25T14:55:41.192Z"
   },
   {
    "duration": 18,
    "start_time": "2022-04-25T14:55:41.230Z"
   },
   {
    "duration": 28,
    "start_time": "2022-04-25T14:55:41.257Z"
   },
   {
    "duration": 55,
    "start_time": "2022-04-25T14:55:41.288Z"
   },
   {
    "duration": 294,
    "start_time": "2022-04-25T14:55:41.345Z"
   },
   {
    "duration": 301,
    "start_time": "2022-04-25T14:55:41.642Z"
   },
   {
    "duration": 12,
    "start_time": "2022-04-25T14:55:41.945Z"
   },
   {
    "duration": 20,
    "start_time": "2022-04-25T14:55:41.959Z"
   },
   {
    "duration": 423,
    "start_time": "2022-04-25T14:55:41.981Z"
   },
   {
    "duration": 207,
    "start_time": "2022-04-25T14:55:42.407Z"
   },
   {
    "duration": 183,
    "start_time": "2022-04-25T14:55:42.616Z"
   },
   {
    "duration": 25,
    "start_time": "2022-04-25T14:55:42.801Z"
   },
   {
    "duration": 15,
    "start_time": "2022-04-25T14:55:42.828Z"
   },
   {
    "duration": 335,
    "start_time": "2022-04-25T14:55:42.845Z"
   },
   {
    "duration": 204,
    "start_time": "2022-04-25T14:55:43.182Z"
   },
   {
    "duration": 178,
    "start_time": "2022-04-25T14:55:43.388Z"
   },
   {
    "duration": 13,
    "start_time": "2022-04-25T14:55:43.568Z"
   },
   {
    "duration": 42,
    "start_time": "2022-04-25T14:55:43.584Z"
   },
   {
    "duration": 341,
    "start_time": "2022-04-25T14:55:43.629Z"
   },
   {
    "duration": 18,
    "start_time": "2022-04-25T14:55:43.973Z"
   },
   {
    "duration": 41,
    "start_time": "2022-04-25T14:55:43.993Z"
   },
   {
    "duration": 25,
    "start_time": "2022-04-25T14:55:44.036Z"
   },
   {
    "duration": 22,
    "start_time": "2022-04-25T14:55:44.064Z"
   },
   {
    "duration": 350,
    "start_time": "2022-04-25T14:55:44.088Z"
   },
   {
    "duration": 350,
    "start_time": "2022-04-25T14:55:44.440Z"
   },
   {
    "duration": 46,
    "start_time": "2022-04-25T14:55:44.793Z"
   },
   {
    "duration": 37,
    "start_time": "2022-04-25T14:55:44.842Z"
   },
   {
    "duration": 10,
    "start_time": "2022-04-25T14:55:44.882Z"
   },
   {
    "duration": 8,
    "start_time": "2022-04-25T14:55:44.924Z"
   },
   {
    "duration": 17,
    "start_time": "2022-04-25T14:55:44.934Z"
   },
   {
    "duration": 25,
    "start_time": "2022-04-25T14:55:44.954Z"
   },
   {
    "duration": 17,
    "start_time": "2022-04-25T14:55:44.981Z"
   },
   {
    "duration": 39,
    "start_time": "2022-04-25T14:55:45.001Z"
   },
   {
    "duration": 27,
    "start_time": "2022-04-25T14:55:45.043Z"
   },
   {
    "duration": 9,
    "start_time": "2022-04-25T14:55:45.073Z"
   }
  ],
  "kernelspec": {
   "display_name": "Python 3 (ipykernel)",
   "language": "python",
   "name": "python3"
  },
  "language_info": {
   "codemirror_mode": {
    "name": "ipython",
    "version": 3
   },
   "file_extension": ".py",
   "mimetype": "text/x-python",
   "name": "python",
   "nbconvert_exporter": "python",
   "pygments_lexer": "ipython3",
   "version": "3.9.7"
  },
  "toc": {
   "base_numbering": 1,
   "nav_menu": {},
   "number_sections": true,
   "sideBar": true,
   "skip_h1_title": true,
   "title_cell": "Table of Contents",
   "title_sidebar": "Contents",
   "toc_cell": true,
   "toc_position": {},
   "toc_section_display": true,
   "toc_window_display": true
  }
 },
 "nbformat": 4,
 "nbformat_minor": 5
}
