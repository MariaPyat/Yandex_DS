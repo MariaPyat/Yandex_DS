{
 "cells": [
  {
   "cell_type": "markdown",
   "id": "d83b9ef6",
   "metadata": {
    "toc": true
   },
   "source": [
    "<h1>Table of Contents<span class=\"tocSkip\"></span></h1>\n",
    "<div class=\"toc\"><ul class=\"toc-item\"><li><span><a href=\"#Импорт-библиотек\" data-toc-modified-id=\"Импорт-библиотек-1\"><span class=\"toc-item-num\">1&nbsp;&nbsp;</span>Импорт библиотек</a></span></li><li><span><a href=\"#Описание-данных\" data-toc-modified-id=\"Описание-данных-2\"><span class=\"toc-item-num\">2&nbsp;&nbsp;</span>Описание данных</a></span><ul class=\"toc-item\"><li><span><a href=\"#Сохранение-в-переменную\" data-toc-modified-id=\"Сохранение-в-переменную-2.1\"><span class=\"toc-item-num\">2.1&nbsp;&nbsp;</span>Сохранение в переменную</a></span></li><li><span><a href=\"#Общий-обзор-данных\" data-toc-modified-id=\"Общий-обзор-данных-2.2\"><span class=\"toc-item-num\">2.2&nbsp;&nbsp;</span>Общий обзор данных</a></span></li><li><span><a href=\"#Признаки\" data-toc-modified-id=\"Признаки-2.3\"><span class=\"toc-item-num\">2.3&nbsp;&nbsp;</span>Признаки</a></span></li><li><span><a href=\"#Вывод-\" data-toc-modified-id=\"Вывод--2.4\"><span class=\"toc-item-num\">2.4&nbsp;&nbsp;</span>Вывод </a></span></li></ul></li><li><span><a href=\"#Предобработка-данных\" data-toc-modified-id=\"Предобработка-данных-3\"><span class=\"toc-item-num\">3&nbsp;&nbsp;</span>Предобработка данных</a></span><ul class=\"toc-item\"><li><span><a href=\"#Переименование-столбцов\" data-toc-modified-id=\"Переименование-столбцов-3.1\"><span class=\"toc-item-num\">3.1&nbsp;&nbsp;</span>Переименование столбцов</a></span></li><li><span><a href=\"#Поиск-и-обработка-пропусков\" data-toc-modified-id=\"Поиск-и-обработка-пропусков-3.2\"><span class=\"toc-item-num\">3.2&nbsp;&nbsp;</span>Поиск и обработка пропусков</a></span></li><li><span><a href=\"#Поиск-и-обработка-дубликатов\" data-toc-modified-id=\"Поиск-и-обработка-дубликатов-3.3\"><span class=\"toc-item-num\">3.3&nbsp;&nbsp;</span>Поиск и обработка дубликатов</a></span></li><li><span><a href=\"#Анализ-типов-данных\" data-toc-modified-id=\"Анализ-типов-данных-3.4\"><span class=\"toc-item-num\">3.4&nbsp;&nbsp;</span>Анализ типов данных</a></span></li><li><span><a href=\"#Удаление-нерелевантных-данных\" data-toc-modified-id=\"Удаление-нерелевантных-данных-3.5\"><span class=\"toc-item-num\">3.5&nbsp;&nbsp;</span>Удаление нерелевантных данных</a></span></li><li><span><a href=\"#Анализ-корреляции-параметров\" data-toc-modified-id=\"Анализ-корреляции-параметров-3.6\"><span class=\"toc-item-num\">3.6&nbsp;&nbsp;</span>Анализ корреляции параметров</a></span></li><li><span><a href=\"#Анализ-распределения-параметров\" data-toc-modified-id=\"Анализ-распределения-параметров-3.7\"><span class=\"toc-item-num\">3.7&nbsp;&nbsp;</span>Анализ распределения параметров</a></span><ul class=\"toc-item\"><li><span><a href=\"#Стоимость-автомобиля\" data-toc-modified-id=\"Стоимость-автомобиля-3.7.1\"><span class=\"toc-item-num\">3.7.1&nbsp;&nbsp;</span>Стоимость автомобиля</a></span></li><li><span><a href=\"#Пробег-автомобиля\" data-toc-modified-id=\"Пробег-автомобиля-3.7.2\"><span class=\"toc-item-num\">3.7.2&nbsp;&nbsp;</span>Пробег автомобиля</a></span></li><li><span><a href=\"#Мощность-автомобиля\" data-toc-modified-id=\"Мощность-автомобиля-3.7.3\"><span class=\"toc-item-num\">3.7.3&nbsp;&nbsp;</span>Мощность автомобиля</a></span></li><li><span><a href=\"#Год-регистрации\" data-toc-modified-id=\"Год-регистрации-3.7.4\"><span class=\"toc-item-num\">3.7.4&nbsp;&nbsp;</span>Год регистрации</a></span></li></ul></li><li><span><a href=\"#Кодирование-категориальных-признаков\" data-toc-modified-id=\"Кодирование-категориальных-признаков-3.8\"><span class=\"toc-item-num\">3.8&nbsp;&nbsp;</span>Кодирование категориальных признаков</a></span></li><li><span><a href=\"#Выделение-выборок\" data-toc-modified-id=\"Выделение-выборок-3.9\"><span class=\"toc-item-num\">3.9&nbsp;&nbsp;</span>Выделение выборок</a></span></li><li><span><a href=\"#Масштабирование-признаков\" data-toc-modified-id=\"Масштабирование-признаков-3.10\"><span class=\"toc-item-num\">3.10&nbsp;&nbsp;</span>Масштабирование признаков</a></span></li><li><span><a href=\"#Вывод-\" data-toc-modified-id=\"Вывод--3.11\"><span class=\"toc-item-num\">3.11&nbsp;&nbsp;</span>Вывод </a></span></li></ul></li><li><span><a href=\"#Обучение-модели\" data-toc-modified-id=\"Обучение-модели-4\"><span class=\"toc-item-num\">4&nbsp;&nbsp;</span>Обучение модели</a></span><ul class=\"toc-item\"><li><span><a href=\"#Решающее-дерево\" data-toc-modified-id=\"Решающее-дерево-4.1\"><span class=\"toc-item-num\">4.1&nbsp;&nbsp;</span>Решающее дерево</a></span></li><li><span><a href=\"#Случайный-лес\" data-toc-modified-id=\"Случайный-лес-4.2\"><span class=\"toc-item-num\">4.2&nbsp;&nbsp;</span>Случайный лес</a></span></li><li><span><a href=\"#Линейная-регрессия\" data-toc-modified-id=\"Линейная-регрессия-4.3\"><span class=\"toc-item-num\">4.3&nbsp;&nbsp;</span>Линейная регрессия</a></span></li><li><span><a href=\"#Полиномиальная-регрессия\" data-toc-modified-id=\"Полиномиальная-регрессия-4.4\"><span class=\"toc-item-num\">4.4&nbsp;&nbsp;</span>Полиномиальная регрессия</a></span></li><li><span><a href=\"#Гребневая-регрессия-(регрессия-Ridge)\" data-toc-modified-id=\"Гребневая-регрессия-(регрессия-Ridge)-4.5\"><span class=\"toc-item-num\">4.5&nbsp;&nbsp;</span>Гребневая регрессия (регрессия Ridge)</a></span></li><li><span><a href=\"#Лассо-регрессия\" data-toc-modified-id=\"Лассо-регрессия-4.6\"><span class=\"toc-item-num\">4.6&nbsp;&nbsp;</span>Лассо-регрессия</a></span></li><li><span><a href=\"#Байесовская-регрессия\" data-toc-modified-id=\"Байесовская-регрессия-4.7\"><span class=\"toc-item-num\">4.7&nbsp;&nbsp;</span>Байесовская регрессия</a></span></li><li><span><a href=\"#CatBoost\" data-toc-modified-id=\"CatBoost-4.8\"><span class=\"toc-item-num\">4.8&nbsp;&nbsp;</span>CatBoost</a></span></li><li><span><a href=\"#XGBoost\" data-toc-modified-id=\"XGBoost-4.9\"><span class=\"toc-item-num\">4.9&nbsp;&nbsp;</span>XGBoost</a></span></li><li><span><a href=\"#Проверка-адекватности-модели\" data-toc-modified-id=\"Проверка-адекватности-модели-4.10\"><span class=\"toc-item-num\">4.10&nbsp;&nbsp;</span>Проверка адекватности модели</a></span></li><li><span><a href=\"#Проверка-на-тестовой-выборке\" data-toc-modified-id=\"Проверка-на-тестовой-выборке-4.11\"><span class=\"toc-item-num\">4.11&nbsp;&nbsp;</span>Проверка на тестовой выборке</a></span></li><li><span><a href=\"#Вывод-\" data-toc-modified-id=\"Вывод--4.12\"><span class=\"toc-item-num\">4.12&nbsp;&nbsp;</span>Вывод </a></span></li></ul></li><li><span><a href=\"#Баг-репорт\" data-toc-modified-id=\"Баг-репорт-5\"><span class=\"toc-item-num\">5&nbsp;&nbsp;</span>Баг-репорт</a></span></li><li><span><a href=\"#Общий-вывод\" data-toc-modified-id=\"Общий-вывод-6\"><span class=\"toc-item-num\">6&nbsp;&nbsp;</span>Общий вывод</a></span></li></ul></div>"
   ]
  },
  {
   "cell_type": "markdown",
   "id": "b3c9933a",
   "metadata": {},
   "source": [
    "<div style=\"border-radius: 15px; border:solid #4BA3C3 3px; padding: 20px\"> <h1 style=\"color:#CCE6F4; margin-bottom:20px\">Численные методы </h1>\n",
    "    \n",
    "<h1 style=\"color:#4BA3C3; margin-bottom:20px\">Определение стоимости автомобилей</h1>\n",
    "  \n",
    "<h1 style=\"color: #175676; margin-bottom:20px\">Описание проекта</h1>\n",
    "\n",
    "* Сервис по продаже автомобилей с пробегом «Не бит, не крашен» разрабатывает приложение для привлечения новых клиентов. В нём можно быстро узнать рыночную стоимость своего автомобиля. \n",
    "    \n",
    "    \n",
    "* Датасет содержит исторические данные: технические характеристики, комплектации и цены автомобилей. Необходимо построить модель для определения стоимости.\n",
    "  \n",
    "\n",
    "* **Заказчику важны**:\n",
    "\n",
    "    * Качество предсказания\n",
    "    * Скорость предсказания\n",
    "    * Время обучения\n",
    "    \n",
    "    \n",
    "* Целевое значение метрики **RMSE - меньше 2500**.   \n",
    "    \n",
    "    \n",
    "* Данные находятся в файле `autos.csv`\n",
    "    \n",
    "<div style=\"border-radius: 15px; border:solid #BA324F 2.5px; padding: 20px\"> <h1 style=\"color:#D62839; margin-bottom:20px\">Цель исследования</h1>\n",
    "    \n",
    "Подобрать модель, отвечающую требованиям заказчика и целевому значению метрики RMSE.\n",
    "\n"
   ]
  },
  {
   "cell_type": "markdown",
   "id": "4548433d",
   "metadata": {},
   "source": [
    "## Импорт библиотек"
   ]
  },
  {
   "cell_type": "code",
   "execution_count": 1,
   "id": "bd50004f",
   "metadata": {},
   "outputs": [],
   "source": [
    "import warnings\n",
    "\n",
    "import matplotlib.pyplot as plt\n",
    "import math\n",
    "import numpy as np\n",
    "import pandas as pd\n",
    "import re\n",
    "import seaborn as sns\n",
    "import scipy.stats as stats\n",
    "\n",
    "from catboost import CatBoostRegressor\n",
    "from sklearn.dummy import DummyRegressor\n",
    "import lightgbm as lgb\n",
    "from sklearn.ensemble import RandomForestRegressor\n",
    "from sklearn.linear_model import (\n",
    "    LinearRegression, \n",
    "    Ridge\n",
    ")\n",
    "\n",
    "from sklearn.metrics import (\n",
    "    mean_absolute_error, \n",
    "    mean_squared_error, \n",
    "    r2_score\n",
    ")\n",
    "\n",
    "from sklearn.model_selection import (\n",
    "    cross_val_score, \n",
    "    RandomizedSearchCV,\n",
    "    train_test_split    \n",
    ")\n",
    "from sklearn.pipeline import Pipeline\n",
    "from sklearn.preprocessing import (\n",
    "    OrdinalEncoder, \n",
    "    PolynomialFeatures, \n",
    "    StandardScaler\n",
    ")\n",
    "from sklearn.tree import DecisionTreeRegressor\n",
    "from sklearn import linear_model\n",
    "import xgboost as xgb\n",
    "from xgboost import XGBRegressor\n",
    "\n",
    "pd.set_option('display.max_columns', 100)\n",
    "pd.set_option('display.max_rows', 100)\n",
    "warnings.filterwarnings('ignore')\n",
    "\n",
    "RANDOM_STATE=12345\n",
    "CV=5"
   ]
  },
  {
   "cell_type": "markdown",
   "id": "9f167445",
   "metadata": {},
   "source": [
    "## Описание данных\n",
    "\n",
    "### Сохранение в переменную"
   ]
  },
  {
   "cell_type": "code",
   "execution_count": 2,
   "id": "f13815b4",
   "metadata": {},
   "outputs": [],
   "source": [
    "try:\n",
    "    data = pd.read_csv(\n",
    "        'D:/1_Проекты Практикум/М_3/9_Определение стоимости автомобилей/autos.csv'\n",
    "    )\n",
    "except:\n",
    "    data = pd.read_csv(\n",
    "        '/datasets/autos.csv'\n",
    "    )"
   ]
  },
  {
   "cell_type": "markdown",
   "id": "5bf208f3",
   "metadata": {},
   "source": [
    "### Общий обзор данных"
   ]
  },
  {
   "cell_type": "code",
   "execution_count": 3,
   "id": "7ba17f53",
   "metadata": {
    "scrolled": false
   },
   "outputs": [
    {
     "name": "stdout",
     "output_type": "stream",
     "text": [
      "Размер таблицы: (354369, 16)\n",
      "\n",
      "----------------------------------------------------------------------------------------------------\n",
      "Общая информация о таблице\n",
      "\n",
      "<class 'pandas.core.frame.DataFrame'>\n",
      "RangeIndex: 354369 entries, 0 to 354368\n",
      "Data columns (total 16 columns):\n",
      " #   Column             Non-Null Count   Dtype \n",
      "---  ------             --------------   ----- \n",
      " 0   DateCrawled        354369 non-null  object\n",
      " 1   Price              354369 non-null  int64 \n",
      " 2   VehicleType        316879 non-null  object\n",
      " 3   RegistrationYear   354369 non-null  int64 \n",
      " 4   Gearbox            334536 non-null  object\n",
      " 5   Power              354369 non-null  int64 \n",
      " 6   Model              334664 non-null  object\n",
      " 7   Kilometer          354369 non-null  int64 \n",
      " 8   RegistrationMonth  354369 non-null  int64 \n",
      " 9   FuelType           321474 non-null  object\n",
      " 10  Brand              354369 non-null  object\n",
      " 11  NotRepaired        283215 non-null  object\n",
      " 12  DateCreated        354369 non-null  object\n",
      " 13  NumberOfPictures   354369 non-null  int64 \n",
      " 14  PostalCode         354369 non-null  int64 \n",
      " 15  LastSeen           354369 non-null  object\n",
      "dtypes: int64(7), object(9)\n",
      "memory usage: 43.3+ MB\n"
     ]
    },
    {
     "data": {
      "text/plain": [
       "None"
      ]
     },
     "metadata": {},
     "output_type": "display_data"
    },
    {
     "name": "stdout",
     "output_type": "stream",
     "text": [
      "----------------------------------------------------------------------------------------------------\n",
      "Первые строки таблицы\n",
      "\n"
     ]
    },
    {
     "data": {
      "text/html": [
       "<div>\n",
       "<style scoped>\n",
       "    .dataframe tbody tr th:only-of-type {\n",
       "        vertical-align: middle;\n",
       "    }\n",
       "\n",
       "    .dataframe tbody tr th {\n",
       "        vertical-align: top;\n",
       "    }\n",
       "\n",
       "    .dataframe thead th {\n",
       "        text-align: right;\n",
       "    }\n",
       "</style>\n",
       "<table border=\"1\" class=\"dataframe\">\n",
       "  <thead>\n",
       "    <tr style=\"text-align: right;\">\n",
       "      <th></th>\n",
       "      <th>DateCrawled</th>\n",
       "      <th>Price</th>\n",
       "      <th>VehicleType</th>\n",
       "      <th>RegistrationYear</th>\n",
       "      <th>Gearbox</th>\n",
       "      <th>Power</th>\n",
       "      <th>Model</th>\n",
       "      <th>Kilometer</th>\n",
       "      <th>RegistrationMonth</th>\n",
       "      <th>FuelType</th>\n",
       "      <th>Brand</th>\n",
       "      <th>NotRepaired</th>\n",
       "      <th>DateCreated</th>\n",
       "      <th>NumberOfPictures</th>\n",
       "      <th>PostalCode</th>\n",
       "      <th>LastSeen</th>\n",
       "    </tr>\n",
       "  </thead>\n",
       "  <tbody>\n",
       "    <tr>\n",
       "      <th>0</th>\n",
       "      <td>2016-03-24 11:52:17</td>\n",
       "      <td>480</td>\n",
       "      <td>NaN</td>\n",
       "      <td>1993</td>\n",
       "      <td>manual</td>\n",
       "      <td>0</td>\n",
       "      <td>golf</td>\n",
       "      <td>150000</td>\n",
       "      <td>0</td>\n",
       "      <td>petrol</td>\n",
       "      <td>volkswagen</td>\n",
       "      <td>NaN</td>\n",
       "      <td>2016-03-24 00:00:00</td>\n",
       "      <td>0</td>\n",
       "      <td>70435</td>\n",
       "      <td>2016-04-07 03:16:57</td>\n",
       "    </tr>\n",
       "    <tr>\n",
       "      <th>1</th>\n",
       "      <td>2016-03-24 10:58:45</td>\n",
       "      <td>18300</td>\n",
       "      <td>coupe</td>\n",
       "      <td>2011</td>\n",
       "      <td>manual</td>\n",
       "      <td>190</td>\n",
       "      <td>NaN</td>\n",
       "      <td>125000</td>\n",
       "      <td>5</td>\n",
       "      <td>gasoline</td>\n",
       "      <td>audi</td>\n",
       "      <td>yes</td>\n",
       "      <td>2016-03-24 00:00:00</td>\n",
       "      <td>0</td>\n",
       "      <td>66954</td>\n",
       "      <td>2016-04-07 01:46:50</td>\n",
       "    </tr>\n",
       "    <tr>\n",
       "      <th>2</th>\n",
       "      <td>2016-03-14 12:52:21</td>\n",
       "      <td>9800</td>\n",
       "      <td>suv</td>\n",
       "      <td>2004</td>\n",
       "      <td>auto</td>\n",
       "      <td>163</td>\n",
       "      <td>grand</td>\n",
       "      <td>125000</td>\n",
       "      <td>8</td>\n",
       "      <td>gasoline</td>\n",
       "      <td>jeep</td>\n",
       "      <td>NaN</td>\n",
       "      <td>2016-03-14 00:00:00</td>\n",
       "      <td>0</td>\n",
       "      <td>90480</td>\n",
       "      <td>2016-04-05 12:47:46</td>\n",
       "    </tr>\n",
       "  </tbody>\n",
       "</table>\n",
       "</div>"
      ],
      "text/plain": [
       "           DateCrawled  Price VehicleType  RegistrationYear Gearbox  Power  \\\n",
       "0  2016-03-24 11:52:17    480         NaN              1993  manual      0   \n",
       "1  2016-03-24 10:58:45  18300       coupe              2011  manual    190   \n",
       "2  2016-03-14 12:52:21   9800         suv              2004    auto    163   \n",
       "\n",
       "   Model  Kilometer  RegistrationMonth  FuelType       Brand NotRepaired  \\\n",
       "0   golf     150000                  0    petrol  volkswagen         NaN   \n",
       "1    NaN     125000                  5  gasoline        audi         yes   \n",
       "2  grand     125000                  8  gasoline        jeep         NaN   \n",
       "\n",
       "           DateCreated  NumberOfPictures  PostalCode             LastSeen  \n",
       "0  2016-03-24 00:00:00                 0       70435  2016-04-07 03:16:57  \n",
       "1  2016-03-24 00:00:00                 0       66954  2016-04-07 01:46:50  \n",
       "2  2016-03-14 00:00:00                 0       90480  2016-04-05 12:47:46  "
      ]
     },
     "metadata": {},
     "output_type": "display_data"
    },
    {
     "name": "stdout",
     "output_type": "stream",
     "text": [
      "\n",
      "----------------------------------------------------------------------------------------------------\n",
      "Описательная статистика\n",
      "\n"
     ]
    },
    {
     "data": {
      "text/html": [
       "<div>\n",
       "<style scoped>\n",
       "    .dataframe tbody tr th:only-of-type {\n",
       "        vertical-align: middle;\n",
       "    }\n",
       "\n",
       "    .dataframe tbody tr th {\n",
       "        vertical-align: top;\n",
       "    }\n",
       "\n",
       "    .dataframe thead th {\n",
       "        text-align: right;\n",
       "    }\n",
       "</style>\n",
       "<table border=\"1\" class=\"dataframe\">\n",
       "  <thead>\n",
       "    <tr style=\"text-align: right;\">\n",
       "      <th></th>\n",
       "      <th>DateCrawled</th>\n",
       "      <th>Price</th>\n",
       "      <th>VehicleType</th>\n",
       "      <th>RegistrationYear</th>\n",
       "      <th>Gearbox</th>\n",
       "      <th>Power</th>\n",
       "      <th>Model</th>\n",
       "      <th>Kilometer</th>\n",
       "      <th>RegistrationMonth</th>\n",
       "      <th>FuelType</th>\n",
       "      <th>Brand</th>\n",
       "      <th>NotRepaired</th>\n",
       "      <th>DateCreated</th>\n",
       "      <th>NumberOfPictures</th>\n",
       "      <th>PostalCode</th>\n",
       "      <th>LastSeen</th>\n",
       "    </tr>\n",
       "  </thead>\n",
       "  <tbody>\n",
       "    <tr>\n",
       "      <th>count</th>\n",
       "      <td>354369</td>\n",
       "      <td>354369.00</td>\n",
       "      <td>316879</td>\n",
       "      <td>354369.00</td>\n",
       "      <td>334536</td>\n",
       "      <td>354369.00</td>\n",
       "      <td>334664</td>\n",
       "      <td>354369.00</td>\n",
       "      <td>354369.00</td>\n",
       "      <td>321474</td>\n",
       "      <td>354369</td>\n",
       "      <td>283215</td>\n",
       "      <td>354369</td>\n",
       "      <td>354369.0</td>\n",
       "      <td>354369.00</td>\n",
       "      <td>354369</td>\n",
       "    </tr>\n",
       "    <tr>\n",
       "      <th>unique</th>\n",
       "      <td>271174</td>\n",
       "      <td>NaN</td>\n",
       "      <td>8</td>\n",
       "      <td>NaN</td>\n",
       "      <td>2</td>\n",
       "      <td>NaN</td>\n",
       "      <td>250</td>\n",
       "      <td>NaN</td>\n",
       "      <td>NaN</td>\n",
       "      <td>7</td>\n",
       "      <td>40</td>\n",
       "      <td>2</td>\n",
       "      <td>109</td>\n",
       "      <td>NaN</td>\n",
       "      <td>NaN</td>\n",
       "      <td>179150</td>\n",
       "    </tr>\n",
       "    <tr>\n",
       "      <th>top</th>\n",
       "      <td>2016-03-24 14:49:47</td>\n",
       "      <td>NaN</td>\n",
       "      <td>sedan</td>\n",
       "      <td>NaN</td>\n",
       "      <td>manual</td>\n",
       "      <td>NaN</td>\n",
       "      <td>golf</td>\n",
       "      <td>NaN</td>\n",
       "      <td>NaN</td>\n",
       "      <td>petrol</td>\n",
       "      <td>volkswagen</td>\n",
       "      <td>no</td>\n",
       "      <td>2016-04-03 00:00:00</td>\n",
       "      <td>NaN</td>\n",
       "      <td>NaN</td>\n",
       "      <td>2016-04-06 13:45:54</td>\n",
       "    </tr>\n",
       "    <tr>\n",
       "      <th>freq</th>\n",
       "      <td>7</td>\n",
       "      <td>NaN</td>\n",
       "      <td>91457</td>\n",
       "      <td>NaN</td>\n",
       "      <td>268251</td>\n",
       "      <td>NaN</td>\n",
       "      <td>29232</td>\n",
       "      <td>NaN</td>\n",
       "      <td>NaN</td>\n",
       "      <td>216352</td>\n",
       "      <td>77013</td>\n",
       "      <td>247161</td>\n",
       "      <td>13719</td>\n",
       "      <td>NaN</td>\n",
       "      <td>NaN</td>\n",
       "      <td>17</td>\n",
       "    </tr>\n",
       "    <tr>\n",
       "      <th>mean</th>\n",
       "      <td>NaN</td>\n",
       "      <td>4416.66</td>\n",
       "      <td>NaN</td>\n",
       "      <td>2004.23</td>\n",
       "      <td>NaN</td>\n",
       "      <td>110.09</td>\n",
       "      <td>NaN</td>\n",
       "      <td>128211.17</td>\n",
       "      <td>5.71</td>\n",
       "      <td>NaN</td>\n",
       "      <td>NaN</td>\n",
       "      <td>NaN</td>\n",
       "      <td>NaN</td>\n",
       "      <td>0.0</td>\n",
       "      <td>50508.69</td>\n",
       "      <td>NaN</td>\n",
       "    </tr>\n",
       "    <tr>\n",
       "      <th>std</th>\n",
       "      <td>NaN</td>\n",
       "      <td>4514.16</td>\n",
       "      <td>NaN</td>\n",
       "      <td>90.23</td>\n",
       "      <td>NaN</td>\n",
       "      <td>189.85</td>\n",
       "      <td>NaN</td>\n",
       "      <td>37905.34</td>\n",
       "      <td>3.73</td>\n",
       "      <td>NaN</td>\n",
       "      <td>NaN</td>\n",
       "      <td>NaN</td>\n",
       "      <td>NaN</td>\n",
       "      <td>0.0</td>\n",
       "      <td>25783.10</td>\n",
       "      <td>NaN</td>\n",
       "    </tr>\n",
       "    <tr>\n",
       "      <th>min</th>\n",
       "      <td>NaN</td>\n",
       "      <td>0.00</td>\n",
       "      <td>NaN</td>\n",
       "      <td>1000.00</td>\n",
       "      <td>NaN</td>\n",
       "      <td>0.00</td>\n",
       "      <td>NaN</td>\n",
       "      <td>5000.00</td>\n",
       "      <td>0.00</td>\n",
       "      <td>NaN</td>\n",
       "      <td>NaN</td>\n",
       "      <td>NaN</td>\n",
       "      <td>NaN</td>\n",
       "      <td>0.0</td>\n",
       "      <td>1067.00</td>\n",
       "      <td>NaN</td>\n",
       "    </tr>\n",
       "    <tr>\n",
       "      <th>25%</th>\n",
       "      <td>NaN</td>\n",
       "      <td>1050.00</td>\n",
       "      <td>NaN</td>\n",
       "      <td>1999.00</td>\n",
       "      <td>NaN</td>\n",
       "      <td>69.00</td>\n",
       "      <td>NaN</td>\n",
       "      <td>125000.00</td>\n",
       "      <td>3.00</td>\n",
       "      <td>NaN</td>\n",
       "      <td>NaN</td>\n",
       "      <td>NaN</td>\n",
       "      <td>NaN</td>\n",
       "      <td>0.0</td>\n",
       "      <td>30165.00</td>\n",
       "      <td>NaN</td>\n",
       "    </tr>\n",
       "    <tr>\n",
       "      <th>50%</th>\n",
       "      <td>NaN</td>\n",
       "      <td>2700.00</td>\n",
       "      <td>NaN</td>\n",
       "      <td>2003.00</td>\n",
       "      <td>NaN</td>\n",
       "      <td>105.00</td>\n",
       "      <td>NaN</td>\n",
       "      <td>150000.00</td>\n",
       "      <td>6.00</td>\n",
       "      <td>NaN</td>\n",
       "      <td>NaN</td>\n",
       "      <td>NaN</td>\n",
       "      <td>NaN</td>\n",
       "      <td>0.0</td>\n",
       "      <td>49413.00</td>\n",
       "      <td>NaN</td>\n",
       "    </tr>\n",
       "    <tr>\n",
       "      <th>75%</th>\n",
       "      <td>NaN</td>\n",
       "      <td>6400.00</td>\n",
       "      <td>NaN</td>\n",
       "      <td>2008.00</td>\n",
       "      <td>NaN</td>\n",
       "      <td>143.00</td>\n",
       "      <td>NaN</td>\n",
       "      <td>150000.00</td>\n",
       "      <td>9.00</td>\n",
       "      <td>NaN</td>\n",
       "      <td>NaN</td>\n",
       "      <td>NaN</td>\n",
       "      <td>NaN</td>\n",
       "      <td>0.0</td>\n",
       "      <td>71083.00</td>\n",
       "      <td>NaN</td>\n",
       "    </tr>\n",
       "    <tr>\n",
       "      <th>max</th>\n",
       "      <td>NaN</td>\n",
       "      <td>20000.00</td>\n",
       "      <td>NaN</td>\n",
       "      <td>9999.00</td>\n",
       "      <td>NaN</td>\n",
       "      <td>20000.00</td>\n",
       "      <td>NaN</td>\n",
       "      <td>150000.00</td>\n",
       "      <td>12.00</td>\n",
       "      <td>NaN</td>\n",
       "      <td>NaN</td>\n",
       "      <td>NaN</td>\n",
       "      <td>NaN</td>\n",
       "      <td>0.0</td>\n",
       "      <td>99998.00</td>\n",
       "      <td>NaN</td>\n",
       "    </tr>\n",
       "  </tbody>\n",
       "</table>\n",
       "</div>"
      ],
      "text/plain": [
       "                DateCrawled      Price VehicleType  RegistrationYear Gearbox  \\\n",
       "count                354369  354369.00      316879         354369.00  334536   \n",
       "unique               271174        NaN           8               NaN       2   \n",
       "top     2016-03-24 14:49:47        NaN       sedan               NaN  manual   \n",
       "freq                      7        NaN       91457               NaN  268251   \n",
       "mean                    NaN    4416.66         NaN           2004.23     NaN   \n",
       "std                     NaN    4514.16         NaN             90.23     NaN   \n",
       "min                     NaN       0.00         NaN           1000.00     NaN   \n",
       "25%                     NaN    1050.00         NaN           1999.00     NaN   \n",
       "50%                     NaN    2700.00         NaN           2003.00     NaN   \n",
       "75%                     NaN    6400.00         NaN           2008.00     NaN   \n",
       "max                     NaN   20000.00         NaN           9999.00     NaN   \n",
       "\n",
       "            Power   Model  Kilometer  RegistrationMonth FuelType       Brand  \\\n",
       "count   354369.00  334664  354369.00          354369.00   321474      354369   \n",
       "unique        NaN     250        NaN                NaN        7          40   \n",
       "top           NaN    golf        NaN                NaN   petrol  volkswagen   \n",
       "freq          NaN   29232        NaN                NaN   216352       77013   \n",
       "mean       110.09     NaN  128211.17               5.71      NaN         NaN   \n",
       "std        189.85     NaN   37905.34               3.73      NaN         NaN   \n",
       "min          0.00     NaN    5000.00               0.00      NaN         NaN   \n",
       "25%         69.00     NaN  125000.00               3.00      NaN         NaN   \n",
       "50%        105.00     NaN  150000.00               6.00      NaN         NaN   \n",
       "75%        143.00     NaN  150000.00               9.00      NaN         NaN   \n",
       "max      20000.00     NaN  150000.00              12.00      NaN         NaN   \n",
       "\n",
       "       NotRepaired          DateCreated  NumberOfPictures  PostalCode  \\\n",
       "count       283215               354369          354369.0   354369.00   \n",
       "unique           2                  109               NaN         NaN   \n",
       "top             no  2016-04-03 00:00:00               NaN         NaN   \n",
       "freq        247161                13719               NaN         NaN   \n",
       "mean           NaN                  NaN               0.0    50508.69   \n",
       "std            NaN                  NaN               0.0    25783.10   \n",
       "min            NaN                  NaN               0.0     1067.00   \n",
       "25%            NaN                  NaN               0.0    30165.00   \n",
       "50%            NaN                  NaN               0.0    49413.00   \n",
       "75%            NaN                  NaN               0.0    71083.00   \n",
       "max            NaN                  NaN               0.0    99998.00   \n",
       "\n",
       "                   LastSeen  \n",
       "count                354369  \n",
       "unique               179150  \n",
       "top     2016-04-06 13:45:54  \n",
       "freq                     17  \n",
       "mean                    NaN  \n",
       "std                     NaN  \n",
       "min                     NaN  \n",
       "25%                     NaN  \n",
       "50%                     NaN  \n",
       "75%                     NaN  \n",
       "max                     NaN  "
      ]
     },
     "metadata": {},
     "output_type": "display_data"
    },
    {
     "name": "stdout",
     "output_type": "stream",
     "text": [
      "\n",
      "Процент пропусков в столбцах\n",
      "\n"
     ]
    },
    {
     "data": {
      "text/plain": [
       "NotRepaired          20.079070\n",
       "VehicleType          10.579368\n",
       "FuelType              9.282697\n",
       "Gearbox               5.596709\n",
       "Model                 5.560588\n",
       "DateCrawled           0.000000\n",
       "Price                 0.000000\n",
       "RegistrationYear      0.000000\n",
       "Power                 0.000000\n",
       "Kilometer             0.000000\n",
       "RegistrationMonth     0.000000\n",
       "Brand                 0.000000\n",
       "DateCreated           0.000000\n",
       "NumberOfPictures      0.000000\n",
       "PostalCode            0.000000\n",
       "LastSeen              0.000000\n",
       "dtype: float64"
      ]
     },
     "metadata": {},
     "output_type": "display_data"
    },
    {
     "name": "stdout",
     "output_type": "stream",
     "text": [
      "\n",
      "Процент уникальных значений в столбцах\n",
      "\n"
     ]
    },
    {
     "data": {
      "text/plain": [
       "NumberOfPictures      0.000282\n",
       "Gearbox               0.000564\n",
       "NotRepaired           0.000564\n",
       "FuelType              0.001975\n",
       "VehicleType           0.002258\n",
       "Kilometer             0.003668\n",
       "RegistrationMonth     0.003668\n",
       "Brand                 0.011288\n",
       "DateCreated           0.030759\n",
       "RegistrationYear      0.042611\n",
       "Model                 0.070548\n",
       "Power                 0.200921\n",
       "Price                 1.052857\n",
       "PostalCode            2.297887\n",
       "LastSeen             50.554648\n",
       "DateCrawled          76.523059\n",
       "dtype: float64"
      ]
     },
     "metadata": {},
     "output_type": "display_data"
    }
   ],
   "source": [
    "def df_overview(df):\n",
    "    print('Размер таблицы:', df.shape)\n",
    "    print('')\n",
    "    print('-' *100)\n",
    "    print('Общая информация о таблице')\n",
    "    print('')\n",
    "    display(df.info())\n",
    "    print('-' *100)\n",
    "    print('Первые строки таблицы')\n",
    "    print('' )\n",
    "    display(df.head(3))\n",
    "    print('')\n",
    "    print('-' *100)\n",
    "    print('Описательная статистика')\n",
    "    print('')\n",
    "    display(\n",
    "        df.describe(include='all').round(2)\n",
    "    )\n",
    "    print('')\n",
    "    print('Процент пропусков в столбцах')\n",
    "    print('')\n",
    "    display((\n",
    "        100 * df.isna().sum().sort_values(\n",
    "            ascending=False\n",
    "        )) / len(df.index))\n",
    "    print('')\n",
    "    print(\n",
    "        'Процент уникальных значений в столбцах'\n",
    "    )\n",
    "    print('')\n",
    "    display((\n",
    "        100 * df.nunique().sort_values(\n",
    "            ascending=True\n",
    "        )) / len(df.index))\n",
    "    \n",
    "df_overview(data)"
   ]
  },
  {
   "cell_type": "markdown",
   "id": "9f5cdd35",
   "metadata": {},
   "source": [
    "Сохраним количество строк до обработки таблицы для последующих расчетов."
   ]
  },
  {
   "cell_type": "code",
   "execution_count": 4,
   "id": "048751f2",
   "metadata": {},
   "outputs": [
    {
     "data": {
      "text/plain": [
       "354369"
      ]
     },
     "execution_count": 4,
     "metadata": {},
     "output_type": "execute_result"
    }
   ],
   "source": [
    "before = data.shape[0]\n",
    "before"
   ]
  },
  {
   "cell_type": "markdown",
   "id": "8605563c",
   "metadata": {},
   "source": [
    "### Признаки\n",
    "\n",
    "* `DateCrawled` — дата скачивания анкеты из базы\n",
    "* `VehicleType` — тип автомобильного кузова\n",
    "* `RegistrationYear` — год регистрации автомобиля\n",
    "* `Gearbox` — тип коробки передач\n",
    "* `Power` — мощность (л. с.)\n",
    "* `Model` — модель автомобиля\n",
    "* `Kilometer` — пробег (км)\n",
    "* `RegistrationMonth` — месяц регистрации автомобиля\n",
    "* `FuelType` — тип топлива\n",
    "* `Brand` — марка автомобиля\n",
    "* `NotRepaired` — была машина в ремонте или нет\n",
    "* `DateCreated` — дата создания анкеты\n",
    "* `NumberOfPictures` — количество фотографий автомобиля\n",
    "* `PostalCode` — почтовый индекс владельца анкеты (пользователя)\n",
    "* `LastSeen` — дата последней активности пользователя\n",
    "\n",
    "\n",
    "**Целевой признак**\n",
    "\n",
    "* `Price` — цена (евро)"
   ]
  },
  {
   "cell_type": "markdown",
   "id": "f210a7c4",
   "metadata": {},
   "source": [
    "<div style=\"border-radius: 15px; border:solid #4BA3C3 2px; padding: 20px\"> <h3 style=\"color:#4BA3C3; margin-bottom:20px\">Вывод </h3>\n",
    "    \n",
    "* Таблица содержит **более 354 тысяч** строк в **16** столбцах. При первичном анализе можно отметить наличие **пропусков** в некоторых столбцах таблицы.\n",
    "* Таблица содержит как **категориальные**, так и **количественные** значения. \n",
    "* Каждая строка в таблице содержит информацию об **одном** автомобиле.\n",
    "* **Целевым признаком** исследования является **цена автомобиля** в евро."
   ]
  },
  {
   "cell_type": "markdown",
   "id": "fe26a637",
   "metadata": {},
   "source": [
    "## Предобработка данных\n",
    "\n",
    "**Этапы предобработки данных:**\n",
    "\n",
    "1. Переименование столбцов\n",
    "1. Поиск и обработка пропусков\n",
    "1. Поиск и обработка дубликатов\n",
    "1. Анализ типов данных\n",
    "1. Удаление нерелевантных данных\n",
    "1. Анализ корреляции параметров\n",
    "1. Анализ распределения параметров\n",
    "1. Кодирование категориальных признаков\n",
    "1. Выделение выборок\n",
    "1. Масштабирование признаков\n",
    "\n",
    "### Переименование столбцов"
   ]
  },
  {
   "cell_type": "code",
   "execution_count": 5,
   "id": "ce3893b9",
   "metadata": {},
   "outputs": [
    {
     "data": {
      "text/plain": [
       "Index(['DateCrawled', 'Price', 'VehicleType', 'RegistrationYear', 'Gearbox',\n",
       "       'Power', 'Model', 'Kilometer', 'RegistrationMonth', 'FuelType', 'Brand',\n",
       "       'NotRepaired', 'DateCreated', 'NumberOfPictures', 'PostalCode',\n",
       "       'LastSeen'],\n",
       "      dtype='object')"
      ]
     },
     "execution_count": 5,
     "metadata": {},
     "output_type": "execute_result"
    }
   ],
   "source": [
    "data.columns"
   ]
  },
  {
   "cell_type": "markdown",
   "id": "dd7c082b",
   "metadata": {},
   "source": [
    "Приведем названия столбцов к стилю Pep-8 - строчный регистр с разделением слов через нижнее подчеркивание."
   ]
  },
  {
   "cell_type": "code",
   "execution_count": 6,
   "id": "876f613b",
   "metadata": {},
   "outputs": [
    {
     "data": {
      "text/plain": [
       "Index(['date_crawled', 'price', 'vehicle_type', 'registration_year', 'gearbox',\n",
       "       'power', 'model', 'kilometer', 'registration_month', 'fuel_type',\n",
       "       'brand', 'not_repaired', 'date_created', 'number_of_pictures',\n",
       "       'postal_code', 'last_seen'],\n",
       "      dtype='object')"
      ]
     },
     "execution_count": 6,
     "metadata": {},
     "output_type": "execute_result"
    }
   ],
   "source": [
    "for name in data.columns:\n",
    "    rena = re.sub(\n",
    "        r\"(?=[A-Z])(?!^)\", \n",
    "        '_', \n",
    "        name\n",
    "    ).lower()\n",
    "    data = data.rename(\n",
    "        columns={\n",
    "            name:rena\n",
    "        })\n",
    "\n",
    "# Проверка \n",
    "data.columns"
   ]
  },
  {
   "cell_type": "markdown",
   "id": "305341b1",
   "metadata": {},
   "source": [
    "Столбцы успешно переименованы, можем двигаться дальше.\n",
    "\n",
    "### Поиск и обработка пропусков"
   ]
  },
  {
   "cell_type": "code",
   "execution_count": 7,
   "id": "58ace50c",
   "metadata": {},
   "outputs": [
    {
     "name": "stdout",
     "output_type": "stream",
     "text": [
      "Доля строк с пропусками от общего количества строк:\n"
     ]
    },
    {
     "data": {
      "text/plain": [
       "not_repaired    20.079070\n",
       "vehicle_type    10.579368\n",
       "fuel_type        9.282697\n",
       "gearbox          5.596709\n",
       "model            5.560588\n",
       "date_crawled     0.000000\n",
       "dtype: float64"
      ]
     },
     "execution_count": 7,
     "metadata": {},
     "output_type": "execute_result"
    }
   ],
   "source": [
    "print(\n",
    "    'Доля строк с пропусками от общего количества строк:'\n",
    ")\n",
    "((\n",
    "    100 * data.isna().sum().sort_values(\n",
    "        ascending=False\n",
    "    )\n",
    ") / len(data.index)).head(6)"
   ]
  },
  {
   "cell_type": "markdown",
   "id": "69eba85a",
   "metadata": {},
   "source": [
    "Пропуски обнаружены в пяти столбцах, самая большая доля строк с пропусками в столбце **`not_repaired`**. Для поиска оптимального способа обработки пропусков проанализируем данные в этом столбце."
   ]
  },
  {
   "cell_type": "code",
   "execution_count": 8,
   "id": "89e5ca2a",
   "metadata": {},
   "outputs": [
    {
     "data": {
      "text/plain": [
       "no     247161\n",
       "yes     36054\n",
       "Name: not_repaired, dtype: int64"
      ]
     },
     "execution_count": 8,
     "metadata": {},
     "output_type": "execute_result"
    }
   ],
   "source": [
    "data['not_repaired'].value_counts()"
   ]
  },
  {
   "cell_type": "markdown",
   "id": "ea1e650a",
   "metadata": {},
   "source": [
    "Вероятнее всего, отсутствие данных в этом столбце говорит о том, что пользователь при заполнении информации об объекте не внес эти данные, скорее всего из-за того, что автомобиль в ремонте не был. Об этом также косвенно свидетельствует распределение данных в этом столбце - количество значений `no` на порядок почти превышает количество значений `yes`.\n",
    "\n",
    "Учитывая, что строк с пропусками в этом столбце довольно много, их удаление может сильно повлиять на результаты исследования, поэтому примем предположение об отсутствии ремонта как допустимое, и заменим пропуски на значение **`no`**."
   ]
  },
  {
   "cell_type": "code",
   "execution_count": 9,
   "id": "4f81efef",
   "metadata": {},
   "outputs": [
    {
     "data": {
      "text/plain": [
       "0"
      ]
     },
     "execution_count": 9,
     "metadata": {},
     "output_type": "execute_result"
    }
   ],
   "source": [
    "data['not_repaired'] = data[\n",
    "    'not_repaired'\n",
    "].fillna('no')\n",
    "\n",
    "data['not_repaired'].isna().sum()"
   ]
  },
  {
   "cell_type": "markdown",
   "id": "01e6a22e",
   "metadata": {},
   "source": [
    "Предположить корректные значения для замены пропусков в других столбцах сложнее, и такие замены могут исказить результаты исследования, поэтому заменим пропуски на значения-заглушки **`NA`**. "
   ]
  },
  {
   "cell_type": "code",
   "execution_count": 10,
   "id": "296ea3d9",
   "metadata": {},
   "outputs": [
    {
     "data": {
      "text/plain": [
       "date_crawled          0\n",
       "price                 0\n",
       "vehicle_type          0\n",
       "registration_year     0\n",
       "gearbox               0\n",
       "power                 0\n",
       "model                 0\n",
       "kilometer             0\n",
       "registration_month    0\n",
       "fuel_type             0\n",
       "brand                 0\n",
       "not_repaired          0\n",
       "date_created          0\n",
       "number_of_pictures    0\n",
       "postal_code           0\n",
       "last_seen             0\n",
       "dtype: int64"
      ]
     },
     "execution_count": 10,
     "metadata": {},
     "output_type": "execute_result"
    }
   ],
   "source": [
    "data = data.fillna('NA')\n",
    "\n",
    "# Проверка\n",
    "data.isna().sum()"
   ]
  },
  {
   "cell_type": "markdown",
   "id": "d5b3f55a",
   "metadata": {},
   "source": [
    "Пропуски успешно заменены, можем двигаться дальше."
   ]
  },
  {
   "cell_type": "markdown",
   "id": "777ffedf",
   "metadata": {},
   "source": [
    "### Поиск и обработка дубликатов\n",
    "\n",
    "Проверим наличие в таблице явных дубликатов с помощью `duplicated().sum()`."
   ]
  },
  {
   "cell_type": "code",
   "execution_count": 11,
   "id": "42ab3dfb",
   "metadata": {},
   "outputs": [
    {
     "name": "stdout",
     "output_type": "stream",
     "text": [
      "Количество дубликатов в таблице: 5\n"
     ]
    }
   ],
   "source": [
    "print(\n",
    "    'Количество дубликатов в таблице:', \n",
    "    data.duplicated().sum()\n",
    ")"
   ]
  },
  {
   "cell_type": "markdown",
   "id": "9e732d31",
   "metadata": {},
   "source": [
    "Дубликатов немного, можно удалить без значительного влияния на результат исследования."
   ]
  },
  {
   "cell_type": "code",
   "execution_count": 12,
   "id": "6ade11f0",
   "metadata": {},
   "outputs": [
    {
     "data": {
      "text/plain": [
       "0"
      ]
     },
     "execution_count": 12,
     "metadata": {},
     "output_type": "execute_result"
    }
   ],
   "source": [
    "data = data.drop_duplicates(\n",
    ").reset_index(\n",
    "    drop=True\n",
    ")\n",
    "\n",
    "# Проверка\n",
    "data.duplicated().sum()"
   ]
  },
  {
   "cell_type": "markdown",
   "id": "c59b370c",
   "metadata": {},
   "source": [
    "**Явные дубликаты** удалены успешно, можем двигаться дальше.\n",
    "\n",
    "Проверим наличие **неявных дубликатов**. Исходя из содержания и типов данных неявные повторы возможны в столбцах:\n",
    "\n",
    "* `vehicle_type`\n",
    "* `gearbox`\n",
    "* `model`\n",
    "* `fuel_type`\n",
    "* `brand`\n",
    "\n",
    "Выведем уникальные значения в этих столбцах для проверки наличия неявных дубликатов."
   ]
  },
  {
   "cell_type": "code",
   "execution_count": 13,
   "id": "32e655df",
   "metadata": {},
   "outputs": [
    {
     "data": {
      "text/plain": [
       "sedan          91456\n",
       "small          79830\n",
       "wagon          65165\n",
       "NA             37490\n",
       "bus            28775\n",
       "convertible    20203\n",
       "coupe          16161\n",
       "suv            11996\n",
       "other           3288\n",
       "Name: vehicle_type, dtype: int64"
      ]
     },
     "execution_count": 13,
     "metadata": {},
     "output_type": "execute_result"
    }
   ],
   "source": [
    "data['vehicle_type'].value_counts()"
   ]
  },
  {
   "cell_type": "code",
   "execution_count": 14,
   "id": "d95551be",
   "metadata": {},
   "outputs": [
    {
     "data": {
      "text/plain": [
       "manual    268248\n",
       "auto       66283\n",
       "NA         19833\n",
       "Name: gearbox, dtype: int64"
      ]
     },
     "execution_count": 14,
     "metadata": {},
     "output_type": "execute_result"
    }
   ],
   "source": [
    "data['gearbox'].value_counts()"
   ]
  },
  {
   "cell_type": "code",
   "execution_count": 15,
   "id": "b0bee70a",
   "metadata": {},
   "outputs": [
    {
     "data": {
      "text/plain": [
       "petrol      216349\n",
       "gasoline     98718\n",
       "NA           32895\n",
       "lpg           5310\n",
       "cng            565\n",
       "hybrid         233\n",
       "other          204\n",
       "electric        90\n",
       "Name: fuel_type, dtype: int64"
      ]
     },
     "execution_count": 15,
     "metadata": {},
     "output_type": "execute_result"
    }
   ],
   "source": [
    "data['fuel_type'].value_counts()"
   ]
  },
  {
   "cell_type": "code",
   "execution_count": 16,
   "id": "56c76fb5",
   "metadata": {},
   "outputs": [
    {
     "data": {
      "text/plain": [
       "array(['alfa_romeo', 'audi', 'bmw', 'chevrolet', 'chrysler', 'citroen',\n",
       "       'dacia', 'daewoo', 'daihatsu', 'fiat', 'ford', 'honda', 'hyundai',\n",
       "       'jaguar', 'jeep', 'kia', 'lada', 'lancia', 'land_rover', 'mazda',\n",
       "       'mercedes_benz', 'mini', 'mitsubishi', 'nissan', 'opel', 'peugeot',\n",
       "       'porsche', 'renault', 'rover', 'saab', 'seat', 'skoda', 'smart',\n",
       "       'sonstige_autos', 'subaru', 'suzuki', 'toyota', 'trabant',\n",
       "       'volkswagen', 'volvo'], dtype=object)"
      ]
     },
     "execution_count": 16,
     "metadata": {},
     "output_type": "execute_result"
    }
   ],
   "source": [
    "data['brand'].sort_values().unique()"
   ]
  },
  {
   "cell_type": "markdown",
   "id": "67c1ead5",
   "metadata": {},
   "source": [
    "В столбцах **`vehicle_type`**, **`gearbox`**,**`fuel_type`**, **`brand`** неявные повторы не обнаружены, можно двигаться дальше.\n",
    "\n",
    "Сомнения вызывает значение **`sonstige_autos`** в этом столбце. Можно предположить, что данные изначально вносились в датасет на немецком языке (судя по некоторым названиям моделей), поэтому значение **`sonstige_autos`** может обозначать **`прочие бренды`**, то есть де-факто отсутствие значения. Эту гипотезу стоит обсудить с разработчиками, на данном этапе значение оставим как есть."
   ]
  },
  {
   "cell_type": "markdown",
   "id": "49b5856b",
   "metadata": {},
   "source": [
    "Проанализируем данные в столбце **`model`**."
   ]
  },
  {
   "cell_type": "code",
   "execution_count": 17,
   "id": "e2ac7dd3",
   "metadata": {
    "scrolled": true
   },
   "outputs": [
    {
     "data": {
      "text/plain": [
       "array(['100', '145', '147', '156', '159', '1_reihe', '1er', '200',\n",
       "       '2_reihe', '300c', '3_reihe', '3er', '4_reihe', '500', '5_reihe',\n",
       "       '5er', '601', '6_reihe', '6er', '7er', '80', '850', '90', '900',\n",
       "       '9000', '911', 'NA', 'a1', 'a2', 'a3', 'a4', 'a5', 'a6', 'a8',\n",
       "       'a_klasse', 'accord', 'agila', 'alhambra', 'almera', 'altea',\n",
       "       'amarok', 'antara', 'arosa', 'astra', 'auris', 'avensis', 'aveo',\n",
       "       'aygo', 'b_klasse', 'b_max', 'beetle', 'berlingo', 'bora',\n",
       "       'boxster', 'bravo', 'c1', 'c2', 'c3', 'c4', 'c5', 'c_klasse',\n",
       "       'c_max', 'c_reihe', 'caddy', 'calibra', 'captiva', 'carisma',\n",
       "       'carnival', 'cayenne', 'cc', 'ceed', 'charade', 'cherokee',\n",
       "       'citigo', 'civic', 'cl', 'clio', 'clk', 'clubman', 'colt', 'combo',\n",
       "       'cooper', 'cordoba', 'corolla', 'corsa', 'cr_reihe', 'croma',\n",
       "       'crossfire', 'cuore', 'cx_reihe', 'defender', 'delta', 'discovery',\n",
       "       'doblo', 'ducato', 'duster', 'e_klasse', 'elefantino', 'eos',\n",
       "       'escort', 'espace', 'exeo', 'fabia', 'fiesta', 'focus', 'forester',\n",
       "       'forfour', 'fortwo', 'fox', 'freelander', 'fusion', 'g_klasse',\n",
       "       'galant', 'galaxy', 'getz', 'gl', 'glk', 'golf', 'grand', 'i3',\n",
       "       'i_reihe', 'ibiza', 'impreza', 'insignia', 'jazz', 'jetta',\n",
       "       'jimny', 'juke', 'justy', 'ka', 'kadett', 'kaefer', 'kalina',\n",
       "       'kalos', 'kangoo', 'kappa', 'kuga', 'laguna', 'lancer', 'lanos',\n",
       "       'legacy', 'leon', 'lodgy', 'logan', 'lupo', 'lybra', 'm_klasse',\n",
       "       'm_reihe', 'materia', 'matiz', 'megane', 'meriva', 'micra', 'mii',\n",
       "       'modus', 'mondeo', 'move', 'musa', 'mustang', 'mx_reihe', 'navara',\n",
       "       'niva', 'note', 'nubira', 'octavia', 'omega', 'one', 'other',\n",
       "       'outlander', 'pajero', 'panda', 'passat', 'phaeton', 'picanto',\n",
       "       'polo', 'primera', 'ptcruiser', 'punto', 'q3', 'q5', 'q7',\n",
       "       'qashqai', 'r19', 'range_rover', 'range_rover_evoque',\n",
       "       'range_rover_sport', 'rangerover', 'rav', 'rio', 'roadster',\n",
       "       'roomster', 'rx_reihe', 's60', 's_klasse', 's_max', 's_type',\n",
       "       'samara', 'sandero', 'santa', 'scenic', 'scirocco', 'seicento',\n",
       "       'serie_1', 'serie_2', 'serie_3', 'sharan', 'signum', 'sirion',\n",
       "       'sl', 'slk', 'sorento', 'spark', 'spider', 'sportage', 'sprinter',\n",
       "       'stilo', 'superb', 'swift', 'terios', 'tigra', 'tiguan', 'toledo',\n",
       "       'touareg', 'touran', 'transit', 'transporter', 'tt', 'tucson',\n",
       "       'twingo', 'up', 'v40', 'v50', 'v60', 'v70', 'v_klasse', 'vectra',\n",
       "       'verso', 'viano', 'vito', 'vivaro', 'voyager', 'wrangler',\n",
       "       'x_reihe', 'x_trail', 'x_type', 'xc_reihe', 'yaris', 'yeti',\n",
       "       'ypsilon', 'z_reihe', 'zafira'], dtype=object)"
      ]
     },
     "execution_count": 17,
     "metadata": {},
     "output_type": "execute_result"
    }
   ],
   "source": [
    "data['model'].sort_values().unique()"
   ]
  },
  {
   "cell_type": "markdown",
   "id": "adee018c",
   "metadata": {},
   "source": [
    "Обнаружен один неявный дубликат в столбце **`model`**. Заменим его с помощью функции `replace()`."
   ]
  },
  {
   "cell_type": "code",
   "execution_count": 18,
   "id": "0597eef1",
   "metadata": {},
   "outputs": [],
   "source": [
    "data = data.replace(\n",
    "    'rangerover', \n",
    "    'range_rover'\n",
    ")"
   ]
  },
  {
   "cell_type": "markdown",
   "id": "733acc8c",
   "metadata": {},
   "source": [
    "Проанализируем также модели брендов **`rover`** и **`land_rover`**, поскольку в них также вероятно наличие неявных повторов."
   ]
  },
  {
   "cell_type": "code",
   "execution_count": 19,
   "id": "f3228456",
   "metadata": {},
   "outputs": [
    {
     "data": {
      "text/plain": [
       "other          394\n",
       "NA              82\n",
       "range_rover      4\n",
       "freelander       3\n",
       "discovery        2\n",
       "defender         1\n",
       "Name: model, dtype: int64"
      ]
     },
     "execution_count": 19,
     "metadata": {},
     "output_type": "execute_result"
    }
   ],
   "source": [
    "data[\n",
    "    data['brand'] == 'rover'\n",
    "]['model'].value_counts()"
   ]
  },
  {
   "cell_type": "code",
   "execution_count": 20,
   "id": "504f171d",
   "metadata": {},
   "outputs": [
    {
     "data": {
      "text/plain": [
       "freelander            215\n",
       "discovery              77\n",
       "range_rover            77\n",
       "defender               75\n",
       "range_rover_sport      54\n",
       "other                  18\n",
       "NA                     13\n",
       "serie_2                 8\n",
       "serie_3                 4\n",
       "range_rover_evoque      2\n",
       "serie_1                 2\n",
       "Name: model, dtype: int64"
      ]
     },
     "execution_count": 20,
     "metadata": {},
     "output_type": "execute_result"
    }
   ],
   "source": [
    "data[\n",
    "    data['brand'] == 'land_rover'\n",
    "]['model'].value_counts()"
   ]
  },
  {
   "cell_type": "markdown",
   "id": "89077700",
   "metadata": {},
   "source": [
    "Заменим название бренда для моделей, которые оказались в обоих брендах, и проверим успешность замены."
   ]
  },
  {
   "cell_type": "code",
   "execution_count": 21,
   "id": "05e6e781",
   "metadata": {},
   "outputs": [
    {
     "data": {
      "text/plain": [
       "other    394\n",
       "Name: model, dtype: int64"
      ]
     },
     "execution_count": 21,
     "metadata": {},
     "output_type": "execute_result"
    }
   ],
   "source": [
    "for i in range(data.shape[0]):\n",
    "    if data['model'][i] != 'other':\n",
    "        if data['model'][i] != 'None':\n",
    "            if data['brand'][i] == 'rover':\n",
    "                data['brand'][i] = data[\n",
    "                    'brand'\n",
    "                ][i].replace(\n",
    "                    'rover', \n",
    "                    'land_rover'\n",
    "                )\n",
    "\n",
    "# Проверка\n",
    "data[\n",
    "    data['brand'] == 'rover'\n",
    "]['model'].value_counts()"
   ]
  },
  {
   "cell_type": "code",
   "execution_count": 22,
   "id": "c3c69b4b",
   "metadata": {},
   "outputs": [
    {
     "data": {
      "text/plain": [
       "freelander            218\n",
       "NA                     95\n",
       "range_rover            81\n",
       "discovery              79\n",
       "defender               76\n",
       "range_rover_sport      54\n",
       "other                  18\n",
       "serie_2                 8\n",
       "serie_3                 4\n",
       "range_rover_evoque      2\n",
       "serie_1                 2\n",
       "Name: model, dtype: int64"
      ]
     },
     "execution_count": 22,
     "metadata": {},
     "output_type": "execute_result"
    }
   ],
   "source": [
    "# Проверка\n",
    "data[\n",
    "    data['brand'] == 'land_rover'\n",
    "]['model'].value_counts()"
   ]
  },
  {
   "cell_type": "markdown",
   "id": "ff0281f8",
   "metadata": {},
   "source": [
    "Замена проведена успешно, можно двигаться дальше."
   ]
  },
  {
   "cell_type": "markdown",
   "id": "6435f72d",
   "metadata": {},
   "source": [
    "### Анализ типов данных"
   ]
  },
  {
   "cell_type": "code",
   "execution_count": 23,
   "id": "66e05105",
   "metadata": {},
   "outputs": [
    {
     "name": "stdout",
     "output_type": "stream",
     "text": [
      "<class 'pandas.core.frame.DataFrame'>\n",
      "RangeIndex: 354364 entries, 0 to 354363\n",
      "Data columns (total 16 columns):\n",
      " #   Column              Non-Null Count   Dtype \n",
      "---  ------              --------------   ----- \n",
      " 0   date_crawled        354364 non-null  object\n",
      " 1   price               354364 non-null  int64 \n",
      " 2   vehicle_type        354364 non-null  object\n",
      " 3   registration_year   354364 non-null  int64 \n",
      " 4   gearbox             354364 non-null  object\n",
      " 5   power               354364 non-null  int64 \n",
      " 6   model               354364 non-null  object\n",
      " 7   kilometer           354364 non-null  int64 \n",
      " 8   registration_month  354364 non-null  int64 \n",
      " 9   fuel_type           354364 non-null  object\n",
      " 10  brand               354364 non-null  object\n",
      " 11  not_repaired        354364 non-null  object\n",
      " 12  date_created        354364 non-null  object\n",
      " 13  number_of_pictures  354364 non-null  int64 \n",
      " 14  postal_code         354364 non-null  int64 \n",
      " 15  last_seen           354364 non-null  object\n",
      "dtypes: int64(7), object(9)\n",
      "memory usage: 43.3+ MB\n"
     ]
    }
   ],
   "source": [
    "data.info()"
   ]
  },
  {
   "cell_type": "markdown",
   "id": "f8e8d10f",
   "metadata": {},
   "source": [
    "Выделим столбцы, в которых требуется изменение типов данных."
   ]
  },
  {
   "cell_type": "code",
   "execution_count": 24,
   "id": "798ffb51",
   "metadata": {},
   "outputs": [],
   "source": [
    "date_columns=[\n",
    "    'date_crawled',\n",
    "    'date_created',\n",
    "    'last_seen'\n",
    "]\n",
    "\n",
    "integer_columns=[\n",
    "    'price',\n",
    "    'registration_year',\n",
    "    'power',\n",
    "    'kilometer',\n",
    "    'registration_month',\n",
    "    'number_of_pictures',\n",
    "    'postal_code'\n",
    "]"
   ]
  },
  {
   "cell_type": "markdown",
   "id": "51fcd838",
   "metadata": {},
   "source": [
    "Подготовим функцию `change_format`, которая изменит формат в нужных столбцах."
   ]
  },
  {
   "cell_type": "code",
   "execution_count": 25,
   "id": "f52b640e",
   "metadata": {},
   "outputs": [
    {
     "name": "stdout",
     "output_type": "stream",
     "text": [
      "<class 'pandas.core.frame.DataFrame'>\n",
      "RangeIndex: 354364 entries, 0 to 354363\n",
      "Data columns (total 16 columns):\n",
      " #   Column              Non-Null Count   Dtype         \n",
      "---  ------              --------------   -----         \n",
      " 0   date_crawled        354364 non-null  datetime64[ns]\n",
      " 1   price               354364 non-null  int16         \n",
      " 2   vehicle_type        354364 non-null  object        \n",
      " 3   registration_year   354364 non-null  int16         \n",
      " 4   gearbox             354364 non-null  object        \n",
      " 5   power               354364 non-null  int16         \n",
      " 6   model               354364 non-null  object        \n",
      " 7   kilometer           354364 non-null  int32         \n",
      " 8   registration_month  354364 non-null  int8          \n",
      " 9   fuel_type           354364 non-null  object        \n",
      " 10  brand               354364 non-null  object        \n",
      " 11  not_repaired        354364 non-null  object        \n",
      " 12  date_created        354364 non-null  datetime64[ns]\n",
      " 13  number_of_pictures  354364 non-null  int8          \n",
      " 14  postal_code         354364 non-null  int32         \n",
      " 15  last_seen           354364 non-null  datetime64[ns]\n",
      "dtypes: datetime64[ns](3), int16(3), int32(2), int8(2), object(6)\n",
      "memory usage: 29.7+ MB\n"
     ]
    },
    {
     "data": {
      "text/plain": [
       "None"
      ]
     },
     "metadata": {},
     "output_type": "display_data"
    },
    {
     "name": "stdout",
     "output_type": "stream",
     "text": [
      "****************************************************************************************************\n"
     ]
    },
    {
     "data": {
      "text/html": [
       "<div>\n",
       "<style scoped>\n",
       "    .dataframe tbody tr th:only-of-type {\n",
       "        vertical-align: middle;\n",
       "    }\n",
       "\n",
       "    .dataframe tbody tr th {\n",
       "        vertical-align: top;\n",
       "    }\n",
       "\n",
       "    .dataframe thead th {\n",
       "        text-align: right;\n",
       "    }\n",
       "</style>\n",
       "<table border=\"1\" class=\"dataframe\">\n",
       "  <thead>\n",
       "    <tr style=\"text-align: right;\">\n",
       "      <th></th>\n",
       "      <th>date_crawled</th>\n",
       "      <th>price</th>\n",
       "      <th>vehicle_type</th>\n",
       "      <th>registration_year</th>\n",
       "      <th>gearbox</th>\n",
       "      <th>power</th>\n",
       "      <th>model</th>\n",
       "      <th>kilometer</th>\n",
       "      <th>registration_month</th>\n",
       "      <th>fuel_type</th>\n",
       "      <th>brand</th>\n",
       "      <th>not_repaired</th>\n",
       "      <th>date_created</th>\n",
       "      <th>number_of_pictures</th>\n",
       "      <th>postal_code</th>\n",
       "      <th>last_seen</th>\n",
       "    </tr>\n",
       "  </thead>\n",
       "  <tbody>\n",
       "    <tr>\n",
       "      <th>0</th>\n",
       "      <td>2016-03-24</td>\n",
       "      <td>480</td>\n",
       "      <td>NA</td>\n",
       "      <td>1993</td>\n",
       "      <td>manual</td>\n",
       "      <td>0</td>\n",
       "      <td>golf</td>\n",
       "      <td>150000</td>\n",
       "      <td>0</td>\n",
       "      <td>petrol</td>\n",
       "      <td>volkswagen</td>\n",
       "      <td>no</td>\n",
       "      <td>2016-03-24</td>\n",
       "      <td>0</td>\n",
       "      <td>70435</td>\n",
       "      <td>2016-04-07</td>\n",
       "    </tr>\n",
       "    <tr>\n",
       "      <th>1</th>\n",
       "      <td>2016-03-24</td>\n",
       "      <td>18300</td>\n",
       "      <td>coupe</td>\n",
       "      <td>2011</td>\n",
       "      <td>manual</td>\n",
       "      <td>190</td>\n",
       "      <td>NA</td>\n",
       "      <td>125000</td>\n",
       "      <td>5</td>\n",
       "      <td>gasoline</td>\n",
       "      <td>audi</td>\n",
       "      <td>yes</td>\n",
       "      <td>2016-03-24</td>\n",
       "      <td>0</td>\n",
       "      <td>66954</td>\n",
       "      <td>2016-04-07</td>\n",
       "    </tr>\n",
       "    <tr>\n",
       "      <th>2</th>\n",
       "      <td>2016-03-15</td>\n",
       "      <td>9800</td>\n",
       "      <td>suv</td>\n",
       "      <td>2004</td>\n",
       "      <td>auto</td>\n",
       "      <td>163</td>\n",
       "      <td>grand</td>\n",
       "      <td>125000</td>\n",
       "      <td>8</td>\n",
       "      <td>gasoline</td>\n",
       "      <td>jeep</td>\n",
       "      <td>no</td>\n",
       "      <td>2016-03-14</td>\n",
       "      <td>0</td>\n",
       "      <td>90480</td>\n",
       "      <td>2016-04-06</td>\n",
       "    </tr>\n",
       "  </tbody>\n",
       "</table>\n",
       "</div>"
      ],
      "text/plain": [
       "  date_crawled  price vehicle_type  registration_year gearbox  power  model  \\\n",
       "0   2016-03-24    480           NA               1993  manual      0   golf   \n",
       "1   2016-03-24  18300        coupe               2011  manual    190     NA   \n",
       "2   2016-03-15   9800          suv               2004    auto    163  grand   \n",
       "\n",
       "   kilometer  registration_month fuel_type       brand not_repaired  \\\n",
       "0     150000                   0    petrol  volkswagen           no   \n",
       "1     125000                   5  gasoline        audi          yes   \n",
       "2     125000                   8  gasoline        jeep           no   \n",
       "\n",
       "  date_created  number_of_pictures  postal_code  last_seen  \n",
       "0   2016-03-24                   0        70435 2016-04-07  \n",
       "1   2016-03-24                   0        66954 2016-04-07  \n",
       "2   2016-03-14                   0        90480 2016-04-06  "
      ]
     },
     "metadata": {},
     "output_type": "display_data"
    }
   ],
   "source": [
    "def change_format(df):\n",
    "\n",
    "    for column in date_columns:\n",
    "        df[column] = pd.to_datetime(\n",
    "            df[column], \n",
    "            format='%Y-%m-%d'\n",
    "        ).dt.round('d')\n",
    "    \n",
    "    for column in integer_columns:\n",
    "        df[column] = pd.to_numeric(\n",
    "            df[column], \n",
    "            downcast='integer'\n",
    "        )\n",
    "                   \n",
    "change_format(data)\n",
    "\n",
    "# Проверка изменения типов данных\n",
    "display(data.info())\n",
    "print('*'*100)\n",
    "display(data.head(3))"
   ]
  },
  {
   "cell_type": "markdown",
   "id": "8fcba0ca",
   "metadata": {},
   "source": [
    "С помощью изменения типов данных объем занимаемой памяти удалось уменьшить более чем на треть."
   ]
  },
  {
   "cell_type": "markdown",
   "id": "a3ca976a",
   "metadata": {},
   "source": [
    "### Удаление нерелевантных данных\n",
    "\n",
    "Проверим уникальные значения столбца **`number_of_pictures`**."
   ]
  },
  {
   "cell_type": "code",
   "execution_count": 26,
   "id": "f5f71b81",
   "metadata": {},
   "outputs": [
    {
     "data": {
      "text/plain": [
       "0    354364\n",
       "Name: number_of_pictures, dtype: int64"
      ]
     },
     "execution_count": 26,
     "metadata": {},
     "output_type": "execute_result"
    }
   ],
   "source": [
    "data[\n",
    "    'number_of_pictures'\n",
    "].value_counts()"
   ]
  },
  {
   "cell_type": "markdown",
   "id": "e94d629f",
   "metadata": {},
   "source": [
    "Значения в этом столбце не информативны (либо пропуски, либо **0**), поэтому исключим этот столбец из датасета."
   ]
  },
  {
   "cell_type": "code",
   "execution_count": 27,
   "id": "d13f4f10",
   "metadata": {},
   "outputs": [
    {
     "name": "stdout",
     "output_type": "stream",
     "text": [
      "<class 'pandas.core.frame.DataFrame'>\n",
      "RangeIndex: 354364 entries, 0 to 354363\n",
      "Data columns (total 15 columns):\n",
      " #   Column              Non-Null Count   Dtype         \n",
      "---  ------              --------------   -----         \n",
      " 0   date_crawled        354364 non-null  datetime64[ns]\n",
      " 1   price               354364 non-null  int16         \n",
      " 2   vehicle_type        354364 non-null  object        \n",
      " 3   registration_year   354364 non-null  int16         \n",
      " 4   gearbox             354364 non-null  object        \n",
      " 5   power               354364 non-null  int16         \n",
      " 6   model               354364 non-null  object        \n",
      " 7   kilometer           354364 non-null  int32         \n",
      " 8   registration_month  354364 non-null  int8          \n",
      " 9   fuel_type           354364 non-null  object        \n",
      " 10  brand               354364 non-null  object        \n",
      " 11  not_repaired        354364 non-null  object        \n",
      " 12  date_created        354364 non-null  datetime64[ns]\n",
      " 13  postal_code         354364 non-null  int32         \n",
      " 14  last_seen           354364 non-null  datetime64[ns]\n",
      "dtypes: datetime64[ns](3), int16(3), int32(2), int8(1), object(6)\n",
      "memory usage: 29.4+ MB\n"
     ]
    }
   ],
   "source": [
    "data = data.drop(\n",
    "    ['number_of_pictures'], \n",
    "    axis=1\n",
    ")\n",
    "\n",
    "# Проверка\n",
    "data.info()"
   ]
  },
  {
   "cell_type": "markdown",
   "id": "e10a4386",
   "metadata": {},
   "source": [
    "Столбец успешно удален, можем двигаться дальше."
   ]
  },
  {
   "cell_type": "markdown",
   "id": "0a3e7881",
   "metadata": {},
   "source": [
    "### Анализ корреляции параметров\n",
    "\n",
    "Проанализируем корреляцию параметров в исходном формате с помощью тепловой карты. "
   ]
  },
  {
   "cell_type": "code",
   "execution_count": 28,
   "id": "a62c42a2",
   "metadata": {},
   "outputs": [
    {
     "data": {
      "image/png": "[encoded data removed]",
      "text/plain": [
       "<Figure size 648x648 with 2 Axes>"
      ]
     },
     "metadata": {},
     "output_type": "display_data"
    }
   ],
   "source": [
    "sns.set(\n",
    "    rc={\n",
    "        'figure.figsize':(9,9)\n",
    "    })\n",
    "\n",
    "sns.heatmap(\n",
    "    data.corr().round(3), \n",
    "    annot = True, \n",
    "    vmin=-1, \n",
    "    vmax=1, \n",
    "    center= 0, \n",
    "    cmap= 'vlag', \n",
    "    square=True\n",
    ").set_title(\n",
    "    'Матрица корреляции параметров', \n",
    "    fontsize=15\n",
    ");"
   ]
  },
  {
   "cell_type": "markdown",
   "id": "84ce5187",
   "metadata": {},
   "source": [
    "В матрице рассчитана корреляция только для количественных параметров.\n",
    "\n",
    "На хитмэп видно, что значимой корреляции между параметрами не обнаружено."
   ]
  },
  {
   "cell_type": "code",
   "execution_count": 29,
   "id": "964bec3d",
   "metadata": {},
   "outputs": [
    {
     "data": {
      "image/png": "[encoded data removed]",
      "text/plain": [
       "<Figure size 1080x216 with 1 Axes>"
      ]
     },
     "metadata": {},
     "output_type": "display_data"
    }
   ],
   "source": [
    "matrix = data.corr().round(3)\n",
    "matrix = matrix.unstack()\n",
    "matrix = matrix[matrix != 1]\n",
    "matrix = matrix.drop_duplicates()\n",
    "\n",
    "sns.set(\n",
    "    rc={\n",
    "        'figure.figsize':(15, 3)\n",
    "    })\n",
    "\n",
    "plt.title(\n",
    "    'Гистограмма для значений коэффициента корреляции Пирсона', \n",
    "    fontsize = 15\n",
    ")\n",
    "matrix.hist(\n",
    "    color = '#4BA3C3', \n",
    "    alpha = .5\n",
    ");"
   ]
  },
  {
   "cell_type": "markdown",
   "id": "7b020432",
   "metadata": {},
   "source": [
    "Интерпретируем значения коэффициента Пирсона следующим образом:\n",
    "\n",
    "| Значение  | Интерпретация |\n",
    "| ------------- | ------------- |\n",
    "| от 0 до 0,3  | очень слабая  |\n",
    "| от 0,3 до 0,5  | слабая  |\n",
    "| от 0, 5 до 0,7  | средняя  |\n",
    "| от 0,7 до 0,9  | сильная  |\n",
    "| от 0,9 до 1  | очень сильная  |"
   ]
  },
  {
   "cell_type": "code",
   "execution_count": 30,
   "id": "4ec9cca0",
   "metadata": {},
   "outputs": [
    {
     "data": {
      "text/html": [
       "<div>\n",
       "<style scoped>\n",
       "    .dataframe tbody tr th:only-of-type {\n",
       "        vertical-align: middle;\n",
       "    }\n",
       "\n",
       "    .dataframe tbody tr th {\n",
       "        vertical-align: top;\n",
       "    }\n",
       "\n",
       "    .dataframe thead th {\n",
       "        text-align: right;\n",
       "    }\n",
       "</style>\n",
       "<table border=\"1\" class=\"dataframe\">\n",
       "  <thead>\n",
       "    <tr style=\"text-align: right;\">\n",
       "      <th></th>\n",
       "      <th>Корреляция</th>\n",
       "      <th>Положительная</th>\n",
       "      <th>Отрицательная</th>\n",
       "    </tr>\n",
       "  </thead>\n",
       "  <tbody>\n",
       "    <tr>\n",
       "      <th>0</th>\n",
       "      <td>Очень слабая</td>\n",
       "      <td>9</td>\n",
       "      <td>5</td>\n",
       "    </tr>\n",
       "    <tr>\n",
       "      <th>1</th>\n",
       "      <td>Слабая</td>\n",
       "      <td>0</td>\n",
       "      <td>1</td>\n",
       "    </tr>\n",
       "    <tr>\n",
       "      <th>2</th>\n",
       "      <td>Средняя</td>\n",
       "      <td>0</td>\n",
       "      <td>0</td>\n",
       "    </tr>\n",
       "    <tr>\n",
       "      <th>3</th>\n",
       "      <td>Сильная</td>\n",
       "      <td>0</td>\n",
       "      <td>0</td>\n",
       "    </tr>\n",
       "    <tr>\n",
       "      <th>4</th>\n",
       "      <td>Очень сильная</td>\n",
       "      <td>0</td>\n",
       "      <td>0</td>\n",
       "    </tr>\n",
       "  </tbody>\n",
       "</table>\n",
       "</div>"
      ],
      "text/plain": [
       "      Корреляция  Положительная  Отрицательная\n",
       "0   Очень слабая              9              5\n",
       "1         Слабая              0              1\n",
       "2        Средняя              0              0\n",
       "3        Сильная              0              0\n",
       "4  Очень сильная              0              0"
      ]
     },
     "execution_count": 30,
     "metadata": {},
     "output_type": "execute_result"
    }
   ],
   "source": [
    "shape_vocab = {\n",
    "    'Корреляция': [\n",
    "        'Очень слабая',\n",
    "        'Слабая',\n",
    "        'Средняя',\n",
    "        'Сильная',\n",
    "        'Очень сильная'\n",
    "    ],\n",
    "    'Положительная': [\n",
    "        matrix[(matrix < 0.3) & (matrix >= 0.0)].count(),\n",
    "        matrix[(matrix < 0.5) & (matrix >= 0.3)].count(),\n",
    "        matrix[(matrix < 0.7) & (matrix >= 0.5)].count(),\n",
    "        matrix[(matrix < 0.9) & (matrix >= 0.7)].count(),\n",
    "        matrix[matrix > 0.9].count()\n",
    "    ],\n",
    "    'Отрицательная': [\n",
    "        matrix[(matrix > -0.3) & (matrix <= 0.0)].count(),\n",
    "        matrix[(matrix > -0.5) & (matrix <= -0.3)].count(),\n",
    "        matrix[(matrix > -0.7) & (matrix <= -0.5)].count(),\n",
    "        matrix[(matrix > -0.9) & (matrix <= -0.7)].count(),\n",
    "        matrix[(matrix < -0.9)].count()\n",
    "    ]}\n",
    "\n",
    "shape_df = pd.DataFrame(data=shape_vocab)\n",
    "shape_df"
   ]
  },
  {
   "cell_type": "markdown",
   "id": "1a80a122",
   "metadata": {},
   "source": [
    "Корреляция между параметрами в датасете только **слабая** или **очень слабая**. Целевой столбец связан **слабой отрицательной** корреляцией с **пробегом** автомобиля и **очень слабой положительной** - с **мощностью** двигателя."
   ]
  },
  {
   "cell_type": "markdown",
   "id": "ff63dc0d",
   "metadata": {},
   "source": [
    "### Анализ распределения параметров\n",
    "\n",
    "С помощью функции **`describe_boxplot_hist()`** рассмотрим общее распределение значений в столбцах и, при необходимости, удалим выбросы и аномальные значения."
   ]
  },
  {
   "cell_type": "code",
   "execution_count": 31,
   "id": "51029052",
   "metadata": {},
   "outputs": [],
   "source": [
    "def describe_boxplot_hist(df, input_column):\n",
    "\n",
    "# Показатели описательной статистики\n",
    "    print(df[input_column].describe())\n",
    "\n",
    "# Диаграмма размаха \n",
    "    flierprops = dict(\n",
    "        marker='o', \n",
    "        markerfacecolor='None', \n",
    "        markersize=3,  \n",
    "        markeredgecolor='black'\n",
    "    )\n",
    "    \n",
    "    sns.set(\n",
    "        rc={\n",
    "            'figure.figsize':(16,1.5)\n",
    "        })\n",
    "    \n",
    "    ax = sns.boxplot(\n",
    "        x=df[input_column],\n",
    "        showmeans=True,\n",
    "        color =\"#4BA3C3\",\n",
    "        width = .4,\n",
    "        meanprops={\n",
    "            \"marker\":\"o\",\n",
    "            \"markerfacecolor\":\"white\", \n",
    "            \"markeredgecolor\":\"black\",\n",
    "            \"markersize\":\"8\"\n",
    "        },\n",
    "        flierprops = flierprops)\n",
    "    \n",
    "    plt.title(\n",
    "        'Диаграмма размаха для распределения значений {0}'.format(\n",
    "            input_column.upper()\n",
    "        ), \n",
    "        fontsize=15\n",
    "    )\n",
    "    \n",
    "# Гистограмма    \n",
    "    fig= plt.subplots(\n",
    "        figsize=(16,3)\n",
    "    )\n",
    "    sns.distplot(\n",
    "        df[input_column], \n",
    "        color = '#4BA3C3'\n",
    "    ).set_title(\n",
    "        'Гистограмма размаха для распределения значений {0}'.format(\n",
    "            input_column.upper()\n",
    "        ), \n",
    "        fontsize=15\n",
    "    )"
   ]
  },
  {
   "cell_type": "markdown",
   "id": "f2781805",
   "metadata": {},
   "source": [
    "#### Стоимость автомобиля"
   ]
  },
  {
   "cell_type": "code",
   "execution_count": 32,
   "id": "793f4b65",
   "metadata": {},
   "outputs": [
    {
     "name": "stdout",
     "output_type": "stream",
     "text": [
      "count    354364.000000\n",
      "mean       4416.655608\n",
      "std        4514.159690\n",
      "min           0.000000\n",
      "25%        1050.000000\n",
      "50%        2700.000000\n",
      "75%        6400.000000\n",
      "max       20000.000000\n",
      "Name: price, dtype: float64\n"
     ]
    },
    {
     "data": {
      "image/png": "[encoded data removed]",
      "text/plain": [
       "<Figure size 1152x108 with 1 Axes>"
      ]
     },
     "metadata": {},
     "output_type": "display_data"
    },
    {
     "data": {
      "image/png": "[encoded data removed]",
      "text/plain": [
       "<Figure size 1152x216 with 1 Axes>"
      ]
     },
     "metadata": {},
     "output_type": "display_data"
    }
   ],
   "source": [
    "describe_boxplot_hist(data, 'price')"
   ]
  },
  {
   "cell_type": "markdown",
   "id": "bbf3393b",
   "metadata": {},
   "source": [
    "Распределение смещено влево, поскольку медиана больше среднего. Можно отметить наличие большого количества выбросов на боксплоте, однако не будем их удалять, поскольку среди них могут быть и корректные значения."
   ]
  },
  {
   "cell_type": "code",
   "execution_count": 33,
   "id": "36ee748c",
   "metadata": {},
   "outputs": [
    {
     "data": {
      "image/png": "[encoded data removed]",
      "text/plain": [
       "<Figure size 1152x216 with 1 Axes>"
      ]
     },
     "metadata": {},
     "output_type": "display_data"
    }
   ],
   "source": [
    "fig= plt.subplots(\n",
    "    figsize=(16,3)\n",
    ")\n",
    "sns.distplot(\n",
    "    data.query(\n",
    "        'price < 50'\n",
    "    )['price'], \n",
    "    color = '#4BA3C3'\n",
    ");"
   ]
  },
  {
   "cell_type": "markdown",
   "id": "e78a2d06",
   "metadata": {},
   "source": [
    "Можно также отметить наличие нулевых значений в признаке. Вероятнее всего, это либо ошибка при заполнении формы, либо объявление о продаже машины на металлолом. \n",
    "\n",
    "Удалим эти значения из датасета, чтобы избежать искажения результатов исследования."
   ]
  },
  {
   "cell_type": "code",
   "execution_count": 34,
   "id": "ae2b1b66",
   "metadata": {},
   "outputs": [
    {
     "name": "stdout",
     "output_type": "stream",
     "text": [
      "count    342403.000000\n",
      "mean       4570.937051\n",
      "std        4514.895853\n",
      "min           2.000000\n",
      "25%        1200.000000\n",
      "50%        2900.000000\n",
      "75%        6500.000000\n",
      "max       20000.000000\n",
      "Name: price, dtype: float64\n"
     ]
    },
    {
     "data": {
      "image/png": "[encoded data removed]",
      "text/plain": [
       "<Figure size 1152x108 with 1 Axes>"
      ]
     },
     "metadata": {},
     "output_type": "display_data"
    },
    {
     "data": {
      "image/png": "[encoded data removed]",
      "text/plain": [
       "<Figure size 1152x216 with 1 Axes>"
      ]
     },
     "metadata": {},
     "output_type": "display_data"
    }
   ],
   "source": [
    "data = data.query('price > 1')\n",
    "\n",
    "# Проверка\n",
    "describe_boxplot_hist(data, 'price')"
   ]
  },
  {
   "cell_type": "markdown",
   "id": "63c2527f",
   "metadata": {},
   "source": [
    "Аномальные значения целевого признака удалены, показатели описательной статистики и распределение данных соответственно изменились. Можем двигаться дальше."
   ]
  },
  {
   "cell_type": "markdown",
   "id": "7bb02bf4",
   "metadata": {},
   "source": [
    "#### Пробег автомобиля "
   ]
  },
  {
   "cell_type": "code",
   "execution_count": 35,
   "id": "5746b057",
   "metadata": {},
   "outputs": [
    {
     "name": "stdout",
     "output_type": "stream",
     "text": [
      "count    342403.000000\n",
      "mean     128379.497259\n",
      "std       37434.791904\n",
      "min        5000.000000\n",
      "25%      125000.000000\n",
      "50%      150000.000000\n",
      "75%      150000.000000\n",
      "max      150000.000000\n",
      "Name: kilometer, dtype: float64\n"
     ]
    },
    {
     "data": {
      "image/png": "[encoded data removed]",
      "text/plain": [
       "<Figure size 1152x108 with 1 Axes>"
      ]
     },
     "metadata": {},
     "output_type": "display_data"
    },
    {
     "data": {
      "image/png": "[encoded data removed]",
      "text/plain": [
       "<Figure size 1152x216 with 1 Axes>"
      ]
     },
     "metadata": {},
     "output_type": "display_data"
    }
   ],
   "source": [
    "describe_boxplot_hist(data, 'kilometer')"
   ]
  },
  {
   "cell_type": "markdown",
   "id": "4fa6ef03",
   "metadata": {},
   "source": [
    "Распределение значений в этом столбце имеет дискретный характер и сильно смещено вправо. Выбросы здесь не будем удалять, поскольку маленькие значения пробега могут быть корректными данными, вероятнее всего эти значения не являются аномальными."
   ]
  },
  {
   "cell_type": "markdown",
   "id": "1cbe30fa",
   "metadata": {},
   "source": [
    "#### Мощность автомобиля"
   ]
  },
  {
   "cell_type": "code",
   "execution_count": 36,
   "id": "dd34e491",
   "metadata": {},
   "outputs": [
    {
     "name": "stdout",
     "output_type": "stream",
     "text": [
      "count    342403.00000\n",
      "mean        111.09681\n",
      "std         188.19244\n",
      "min           0.00000\n",
      "25%          69.00000\n",
      "50%         105.00000\n",
      "75%         143.00000\n",
      "max       20000.00000\n",
      "Name: power, dtype: float64\n"
     ]
    },
    {
     "data": {
      "image/png": "[encoded data removed]",
      "text/plain": [
       "<Figure size 1152x108 with 1 Axes>"
      ]
     },
     "metadata": {},
     "output_type": "display_data"
    },
    {
     "data": {
      "image/png": "[encoded data removed]",
      "text/plain": [
       "<Figure size 1152x216 with 1 Axes>"
      ]
     },
     "metadata": {},
     "output_type": "display_data"
    }
   ],
   "source": [
    "describe_boxplot_hist(data, 'power')"
   ]
  },
  {
   "cell_type": "markdown",
   "id": "fb002fc3",
   "metadata": {},
   "source": [
    "В этом столбце очевидно большое количество некорректных данных. Удалим нереалистичные значения - больше **2000 л.с.** и меньше **10 л.с.** с помощью функции **`query()`** и добавим комментарий о выбросах в этом столбце в баг-репорт."
   ]
  },
  {
   "cell_type": "code",
   "execution_count": 37,
   "id": "cd81996f",
   "metadata": {},
   "outputs": [],
   "source": [
    "data = data.query('power < 2000')\n",
    "data = data.query('power > 10')"
   ]
  },
  {
   "cell_type": "markdown",
   "id": "97d92581",
   "metadata": {},
   "source": [
    "Проанализируем, как изменилось распределение после удаления выбросов."
   ]
  },
  {
   "cell_type": "code",
   "execution_count": 38,
   "id": "80e7fd58",
   "metadata": {},
   "outputs": [
    {
     "name": "stdout",
     "output_type": "stream",
     "text": [
      "count    306193.000000\n",
      "mean        121.163479\n",
      "std          63.374565\n",
      "min          11.000000\n",
      "25%          75.000000\n",
      "50%         110.000000\n",
      "75%         150.000000\n",
      "max        1999.000000\n",
      "Name: power, dtype: float64\n"
     ]
    },
    {
     "data": {
      "image/png": "[encoded data removed]",
      "text/plain": [
       "<Figure size 1152x108 with 1 Axes>"
      ]
     },
     "metadata": {},
     "output_type": "display_data"
    },
    {
     "data": {
      "image/png": "[encoded data removed]",
      "text/plain": [
       "<Figure size 1152x216 with 1 Axes>"
      ]
     },
     "metadata": {},
     "output_type": "display_data"
    }
   ],
   "source": [
    "describe_boxplot_hist(data, 'power')"
   ]
  },
  {
   "cell_type": "markdown",
   "id": "dc57c61e",
   "metadata": {},
   "source": [
    "Изменения показателей описательной статистики можем считать допустимыми:\n",
    "\n",
    "* Стандартное отклонение уменьшилось, а следовательно распределение стало более однородным\n",
    "* Значения медианы, среднего и квартилей изменились менее, чем на 10%\n",
    "\n",
    "Можно также отметить, что на боксплоте количество выбросов стало очевидно меньше. Можем двигаться дальше."
   ]
  },
  {
   "cell_type": "markdown",
   "id": "e30d18c2",
   "metadata": {},
   "source": [
    "#### Год регистрации"
   ]
  },
  {
   "cell_type": "code",
   "execution_count": 39,
   "id": "4e9ee1d7",
   "metadata": {},
   "outputs": [
    {
     "name": "stdout",
     "output_type": "stream",
     "text": [
      "count    306193.000000\n",
      "mean       2003.485207\n",
      "std          29.728922\n",
      "min        1000.000000\n",
      "25%        1999.000000\n",
      "50%        2003.000000\n",
      "75%        2008.000000\n",
      "max        9999.000000\n",
      "Name: registration_year, dtype: float64\n"
     ]
    },
    {
     "data": {
      "image/png": "[encoded data removed]",
      "text/plain": [
       "<Figure size 1152x108 with 1 Axes>"
      ]
     },
     "metadata": {},
     "output_type": "display_data"
    },
    {
     "data": {
      "image/png": "[encoded data removed]",
      "text/plain": [
       "<Figure size 1152x216 with 1 Axes>"
      ]
     },
     "metadata": {},
     "output_type": "display_data"
    }
   ],
   "source": [
    "describe_boxplot_hist(data, 'registration_year')"
   ]
  },
  {
   "cell_type": "markdown",
   "id": "4b9eac5f",
   "metadata": {},
   "source": [
    "В этом столбце также много аномальных значений, удалим их с помощью **`query()`**."
   ]
  },
  {
   "cell_type": "code",
   "execution_count": 40,
   "id": "a5a107d0",
   "metadata": {},
   "outputs": [],
   "source": [
    "data = data.query('registration_year < 2022')\n",
    "data = data.query('registration_year > 1910')"
   ]
  },
  {
   "cell_type": "markdown",
   "id": "231ed909",
   "metadata": {
    "scrolled": false
   },
   "source": [
    "Проверим распределение после удаления выбросов."
   ]
  },
  {
   "cell_type": "code",
   "execution_count": 41,
   "id": "81b380c6",
   "metadata": {},
   "outputs": [
    {
     "name": "stdout",
     "output_type": "stream",
     "text": [
      "count    306157.000000\n",
      "mean       2003.307228\n",
      "std           6.930336\n",
      "min        1923.000000\n",
      "25%        1999.000000\n",
      "50%        2003.000000\n",
      "75%        2008.000000\n",
      "max        2019.000000\n",
      "Name: registration_year, dtype: float64\n"
     ]
    },
    {
     "data": {
      "image/png": "[encoded data removed]",
      "text/plain": [
       "<Figure size 1152x108 with 1 Axes>"
      ]
     },
     "metadata": {},
     "output_type": "display_data"
    },
    {
     "data": {
      "image/png": "[encoded data removed]",
      "text/plain": [
       "<Figure size 1152x216 with 1 Axes>"
      ]
     },
     "metadata": {},
     "output_type": "display_data"
    }
   ],
   "source": [
    "describe_boxplot_hist(data, 'registration_year')"
   ]
  },
  {
   "cell_type": "markdown",
   "id": "c201618b",
   "metadata": {},
   "source": [
    "После удаления выбросов данные стали более однородными, однако на боксплоте видно большое количество выбросов. Не будем их удалять, поскольку отделить некорректные данные от аномальных можно только проанализировав их в совокупности с другими признаками.\n",
    "\n",
    "Можем двигаться дальше."
   ]
  },
  {
   "cell_type": "markdown",
   "id": "57c0a6e8",
   "metadata": {},
   "source": [
    "### Кодирование категориальных признаков\n",
    "\n",
    "Применим порядковое кодирование **`OrdinalEncoder`** для категориальных признаков."
   ]
  },
  {
   "cell_type": "code",
   "execution_count": 42,
   "id": "61bb0ead",
   "metadata": {},
   "outputs": [
    {
     "data": {
      "text/html": [
       "<div>\n",
       "<style scoped>\n",
       "    .dataframe tbody tr th:only-of-type {\n",
       "        vertical-align: middle;\n",
       "    }\n",
       "\n",
       "    .dataframe tbody tr th {\n",
       "        vertical-align: top;\n",
       "    }\n",
       "\n",
       "    .dataframe thead th {\n",
       "        text-align: right;\n",
       "    }\n",
       "</style>\n",
       "<table border=\"1\" class=\"dataframe\">\n",
       "  <thead>\n",
       "    <tr style=\"text-align: right;\">\n",
       "      <th></th>\n",
       "      <th>date_crawled</th>\n",
       "      <th>price</th>\n",
       "      <th>vehicle_type</th>\n",
       "      <th>registration_year</th>\n",
       "      <th>gearbox</th>\n",
       "      <th>power</th>\n",
       "      <th>model</th>\n",
       "      <th>kilometer</th>\n",
       "      <th>registration_month</th>\n",
       "      <th>fuel_type</th>\n",
       "      <th>brand</th>\n",
       "      <th>not_repaired</th>\n",
       "      <th>date_created</th>\n",
       "      <th>postal_code</th>\n",
       "      <th>last_seen</th>\n",
       "    </tr>\n",
       "  </thead>\n",
       "  <tbody>\n",
       "    <tr>\n",
       "      <th>1</th>\n",
       "      <td>18.0</td>\n",
       "      <td>18300</td>\n",
       "      <td>3.0</td>\n",
       "      <td>2011</td>\n",
       "      <td>2.0</td>\n",
       "      <td>190</td>\n",
       "      <td>26.0</td>\n",
       "      <td>125000</td>\n",
       "      <td>5</td>\n",
       "      <td>3.0</td>\n",
       "      <td>1.0</td>\n",
       "      <td>1.0</td>\n",
       "      <td>92.0</td>\n",
       "      <td>66954</td>\n",
       "      <td>32.0</td>\n",
       "    </tr>\n",
       "    <tr>\n",
       "      <th>2</th>\n",
       "      <td>9.0</td>\n",
       "      <td>9800</td>\n",
       "      <td>7.0</td>\n",
       "      <td>2004</td>\n",
       "      <td>1.0</td>\n",
       "      <td>163</td>\n",
       "      <td>118.0</td>\n",
       "      <td>125000</td>\n",
       "      <td>8</td>\n",
       "      <td>3.0</td>\n",
       "      <td>14.0</td>\n",
       "      <td>0.0</td>\n",
       "      <td>82.0</td>\n",
       "      <td>90480</td>\n",
       "      <td>31.0</td>\n",
       "    </tr>\n",
       "    <tr>\n",
       "      <th>3</th>\n",
       "      <td>12.0</td>\n",
       "      <td>1500</td>\n",
       "      <td>6.0</td>\n",
       "      <td>2001</td>\n",
       "      <td>2.0</td>\n",
       "      <td>75</td>\n",
       "      <td>117.0</td>\n",
       "      <td>150000</td>\n",
       "      <td>6</td>\n",
       "      <td>7.0</td>\n",
       "      <td>38.0</td>\n",
       "      <td>0.0</td>\n",
       "      <td>85.0</td>\n",
       "      <td>91074</td>\n",
       "      <td>12.0</td>\n",
       "    </tr>\n",
       "  </tbody>\n",
       "</table>\n",
       "</div>"
      ],
      "text/plain": [
       "   date_crawled  price  vehicle_type  registration_year  gearbox  power  \\\n",
       "1          18.0  18300           3.0               2011      2.0    190   \n",
       "2           9.0   9800           7.0               2004      1.0    163   \n",
       "3          12.0   1500           6.0               2001      2.0     75   \n",
       "\n",
       "   model  kilometer  registration_month  fuel_type  brand  not_repaired  \\\n",
       "1   26.0     125000                   5        3.0    1.0           1.0   \n",
       "2  118.0     125000                   8        3.0   14.0           0.0   \n",
       "3  117.0     150000                   6        7.0   38.0           0.0   \n",
       "\n",
       "   date_created  postal_code  last_seen  \n",
       "1          92.0        66954       32.0  \n",
       "2          82.0        90480       31.0  \n",
       "3          85.0        91074       12.0  "
      ]
     },
     "execution_count": 42,
     "metadata": {},
     "output_type": "execute_result"
    }
   ],
   "source": [
    "encoder = OrdinalEncoder()\n",
    "\n",
    "columns_to_encode = [\n",
    "    'date_crawled',\n",
    "    'vehicle_type', \n",
    "    'gearbox', \n",
    "    'model', \n",
    "    'fuel_type', \n",
    "    'brand', \n",
    "    'not_repaired',\n",
    "    'date_created',\n",
    "    'last_seen'\n",
    "]\n",
    "encoder.fit(\n",
    "    data[columns_to_encode]\n",
    ")\n",
    "\n",
    "data[\n",
    "    columns_to_encode\n",
    "] = encoder.transform(\n",
    "    data[columns_to_encode]\n",
    ")\n",
    "\n",
    "# Проверка\n",
    "data.head(3)"
   ]
  },
  {
   "cell_type": "markdown",
   "id": "4b09f13d",
   "metadata": {},
   "source": [
    "Кодирование проведено успешно, двигаемся дальше."
   ]
  },
  {
   "cell_type": "markdown",
   "id": "cc7e56c1",
   "metadata": {},
   "source": [
    "### Выделение выборок\n",
    "\n",
    "Целевым признаком данного исследования является стоимость автомобиля, содержащаяся в столбе **`price`**. Выделим целевой признак и остальные признаки объектов."
   ]
  },
  {
   "cell_type": "code",
   "execution_count": 43,
   "id": "9298e62d",
   "metadata": {},
   "outputs": [],
   "source": [
    "# Признаки\n",
    "features = data.drop(\n",
    "    ['price'], \n",
    "    axis = 1\n",
    ") \n",
    "\n",
    "# Целевой признак\n",
    "target = data['price']"
   ]
  },
  {
   "cell_type": "markdown",
   "id": "006cc710",
   "metadata": {},
   "source": [
    "Разделим данные на обучающую и тестовую выборки в соотношении 1:3 с помощью **`train_test_split`**."
   ]
  },
  {
   "cell_type": "code",
   "execution_count": 44,
   "id": "1fb1730e",
   "metadata": {},
   "outputs": [],
   "source": [
    "(\n",
    "    features_train, \n",
    "    features_test, \n",
    "    target_train, \n",
    "    target_test\n",
    ") = train_test_split(\n",
    "    features, \n",
    "    target, \n",
    "    test_size=0.25, \n",
    "    random_state=RANDOM_STATE\n",
    ")"
   ]
  },
  {
   "cell_type": "markdown",
   "id": "455b50b8",
   "metadata": {},
   "source": [
    "Проверим корректность создания выборок и выделения признаков."
   ]
  },
  {
   "cell_type": "code",
   "execution_count": 45,
   "id": "7ead36f3",
   "metadata": {},
   "outputs": [
    {
     "data": {
      "text/html": [
       "<div>\n",
       "<style scoped>\n",
       "    .dataframe tbody tr th:only-of-type {\n",
       "        vertical-align: middle;\n",
       "    }\n",
       "\n",
       "    .dataframe tbody tr th {\n",
       "        vertical-align: top;\n",
       "    }\n",
       "\n",
       "    .dataframe thead th {\n",
       "        text-align: right;\n",
       "    }\n",
       "</style>\n",
       "<table border=\"1\" class=\"dataframe\">\n",
       "  <thead>\n",
       "    <tr style=\"text-align: right;\">\n",
       "      <th></th>\n",
       "      <th>Выборка</th>\n",
       "      <th>Признаки</th>\n",
       "      <th>Целевой признак</th>\n",
       "    </tr>\n",
       "  </thead>\n",
       "  <tbody>\n",
       "    <tr>\n",
       "      <th>0</th>\n",
       "      <td>Исходная</td>\n",
       "      <td>(306157, 15)</td>\n",
       "      <td>NaN</td>\n",
       "    </tr>\n",
       "    <tr>\n",
       "      <th>1</th>\n",
       "      <td>Тестовая</td>\n",
       "      <td>(76540, 14)</td>\n",
       "      <td>(76540,)</td>\n",
       "    </tr>\n",
       "    <tr>\n",
       "      <th>2</th>\n",
       "      <td>Обучающая</td>\n",
       "      <td>(229617, 14)</td>\n",
       "      <td>(229617,)</td>\n",
       "    </tr>\n",
       "  </tbody>\n",
       "</table>\n",
       "</div>"
      ],
      "text/plain": [
       "     Выборка      Признаки Целевой признак\n",
       "0   Исходная  (306157, 15)             NaN\n",
       "1   Тестовая   (76540, 14)        (76540,)\n",
       "2  Обучающая  (229617, 14)       (229617,)"
      ]
     },
     "execution_count": 45,
     "metadata": {},
     "output_type": "execute_result"
    }
   ],
   "source": [
    "shape_vocab = {\n",
    "    'Выборка': [\n",
    "        'Исходная',\n",
    "        'Тестовая',\n",
    "        'Обучающая'\n",
    "    ],\n",
    "    'Признаки': [\n",
    "        data.shape,\n",
    "        features_test.shape,\n",
    "        features_train.shape\n",
    "    ],\n",
    "    'Целевой признак': [\n",
    "        'NaN',\n",
    "        target_test.shape,\n",
    "        target_train.shape\n",
    "    ]}\n",
    "\n",
    "shape_df = pd.DataFrame(\n",
    "    data=shape_vocab\n",
    ")\n",
    "shape_df"
   ]
  },
  {
   "cell_type": "markdown",
   "id": "719a30eb",
   "metadata": {},
   "source": [
    "### Масштабирование признаков\n",
    "\n",
    "Приведем количественные признаки к одному масштабу с помощью **`StandardScaler`**."
   ]
  },
  {
   "cell_type": "code",
   "execution_count": 46,
   "id": "191c25ce",
   "metadata": {},
   "outputs": [
    {
     "name": "stdout",
     "output_type": "stream",
     "text": [
      "<class 'pandas.core.frame.DataFrame'>\n",
      "Int64Index: 229617 entries, 25081 to 251868\n",
      "Data columns (total 14 columns):\n",
      " #   Column              Non-Null Count   Dtype  \n",
      "---  ------              --------------   -----  \n",
      " 0   date_crawled        229617 non-null  float64\n",
      " 1   vehicle_type        229617 non-null  float64\n",
      " 2   registration_year   229617 non-null  int16  \n",
      " 3   gearbox             229617 non-null  float64\n",
      " 4   power               229617 non-null  int16  \n",
      " 5   model               229617 non-null  float64\n",
      " 6   kilometer           229617 non-null  int32  \n",
      " 7   registration_month  229617 non-null  int8   \n",
      " 8   fuel_type           229617 non-null  float64\n",
      " 9   brand               229617 non-null  float64\n",
      " 10  not_repaired        229617 non-null  float64\n",
      " 11  date_created        229617 non-null  float64\n",
      " 12  postal_code         229617 non-null  int32  \n",
      " 13  last_seen           229617 non-null  float64\n",
      "dtypes: float64(9), int16(2), int32(2), int8(1)\n",
      "memory usage: 20.4 MB\n"
     ]
    }
   ],
   "source": [
    "features_train.info()"
   ]
  },
  {
   "cell_type": "code",
   "execution_count": 47,
   "id": "af6f1a84",
   "metadata": {},
   "outputs": [
    {
     "data": {
      "text/html": [
       "<div>\n",
       "<style scoped>\n",
       "    .dataframe tbody tr th:only-of-type {\n",
       "        vertical-align: middle;\n",
       "    }\n",
       "\n",
       "    .dataframe tbody tr th {\n",
       "        vertical-align: top;\n",
       "    }\n",
       "\n",
       "    .dataframe thead th {\n",
       "        text-align: right;\n",
       "    }\n",
       "</style>\n",
       "<table border=\"1\" class=\"dataframe\">\n",
       "  <thead>\n",
       "    <tr style=\"text-align: right;\">\n",
       "      <th></th>\n",
       "      <th>date_crawled</th>\n",
       "      <th>vehicle_type</th>\n",
       "      <th>registration_year</th>\n",
       "      <th>gearbox</th>\n",
       "      <th>power</th>\n",
       "      <th>model</th>\n",
       "      <th>kilometer</th>\n",
       "      <th>registration_month</th>\n",
       "      <th>fuel_type</th>\n",
       "      <th>brand</th>\n",
       "      <th>not_repaired</th>\n",
       "      <th>date_created</th>\n",
       "      <th>postal_code</th>\n",
       "      <th>last_seen</th>\n",
       "    </tr>\n",
       "  </thead>\n",
       "  <tbody>\n",
       "    <tr>\n",
       "      <th>25081</th>\n",
       "      <td>16.0</td>\n",
       "      <td>1.0</td>\n",
       "      <td>2012</td>\n",
       "      <td>2.0</td>\n",
       "      <td>0.659883</td>\n",
       "      <td>236.0</td>\n",
       "      <td>0.586800</td>\n",
       "      <td>9</td>\n",
       "      <td>3.0</td>\n",
       "      <td>20.0</td>\n",
       "      <td>0.0</td>\n",
       "      <td>89.0</td>\n",
       "      <td>65929</td>\n",
       "      <td>28.0</td>\n",
       "    </tr>\n",
       "    <tr>\n",
       "      <th>48912</th>\n",
       "      <td>8.0</td>\n",
       "      <td>2.0</td>\n",
       "      <td>2005</td>\n",
       "      <td>2.0</td>\n",
       "      <td>-0.192724</td>\n",
       "      <td>8.0</td>\n",
       "      <td>-0.095979</td>\n",
       "      <td>12</td>\n",
       "      <td>7.0</td>\n",
       "      <td>25.0</td>\n",
       "      <td>0.0</td>\n",
       "      <td>81.0</td>\n",
       "      <td>67547</td>\n",
       "      <td>32.0</td>\n",
       "    </tr>\n",
       "    <tr>\n",
       "      <th>353750</th>\n",
       "      <td>17.0</td>\n",
       "      <td>2.0</td>\n",
       "      <td>1986</td>\n",
       "      <td>2.0</td>\n",
       "      <td>0.786195</td>\n",
       "      <td>11.0</td>\n",
       "      <td>0.586800</td>\n",
       "      <td>10</td>\n",
       "      <td>7.0</td>\n",
       "      <td>2.0</td>\n",
       "      <td>0.0</td>\n",
       "      <td>91.0</td>\n",
       "      <td>82467</td>\n",
       "      <td>17.0</td>\n",
       "    </tr>\n",
       "  </tbody>\n",
       "</table>\n",
       "</div>"
      ],
      "text/plain": [
       "        date_crawled  vehicle_type  registration_year  gearbox     power  \\\n",
       "25081           16.0           1.0               2012      2.0  0.659883   \n",
       "48912            8.0           2.0               2005      2.0 -0.192724   \n",
       "353750          17.0           2.0               1986      2.0  0.786195   \n",
       "\n",
       "        model  kilometer  registration_month  fuel_type  brand  not_repaired  \\\n",
       "25081   236.0   0.586800                   9        3.0   20.0           0.0   \n",
       "48912     8.0  -0.095979                  12        7.0   25.0           0.0   \n",
       "353750   11.0   0.586800                  10        7.0    2.0           0.0   \n",
       "\n",
       "        date_created  postal_code  last_seen  \n",
       "25081           89.0        65929       28.0  \n",
       "48912           81.0        67547       32.0  \n",
       "353750          91.0        82467       17.0  "
      ]
     },
     "metadata": {},
     "output_type": "display_data"
    },
    {
     "data": {
      "text/html": [
       "<div>\n",
       "<style scoped>\n",
       "    .dataframe tbody tr th:only-of-type {\n",
       "        vertical-align: middle;\n",
       "    }\n",
       "\n",
       "    .dataframe tbody tr th {\n",
       "        vertical-align: top;\n",
       "    }\n",
       "\n",
       "    .dataframe thead th {\n",
       "        text-align: right;\n",
       "    }\n",
       "</style>\n",
       "<table border=\"1\" class=\"dataframe\">\n",
       "  <thead>\n",
       "    <tr style=\"text-align: right;\">\n",
       "      <th></th>\n",
       "      <th>date_crawled</th>\n",
       "      <th>vehicle_type</th>\n",
       "      <th>registration_year</th>\n",
       "      <th>gearbox</th>\n",
       "      <th>power</th>\n",
       "      <th>model</th>\n",
       "      <th>kilometer</th>\n",
       "      <th>registration_month</th>\n",
       "      <th>fuel_type</th>\n",
       "      <th>brand</th>\n",
       "      <th>not_repaired</th>\n",
       "      <th>date_created</th>\n",
       "      <th>postal_code</th>\n",
       "      <th>last_seen</th>\n",
       "    </tr>\n",
       "  </thead>\n",
       "  <tbody>\n",
       "    <tr>\n",
       "      <th>59971</th>\n",
       "      <td>11.0</td>\n",
       "      <td>6.0</td>\n",
       "      <td>1997</td>\n",
       "      <td>2.0</td>\n",
       "      <td>-0.729551</td>\n",
       "      <td>5.0</td>\n",
       "      <td>0.5868</td>\n",
       "      <td>12</td>\n",
       "      <td>7.0</td>\n",
       "      <td>25.0</td>\n",
       "      <td>0.0</td>\n",
       "      <td>84.0</td>\n",
       "      <td>39288</td>\n",
       "      <td>24.0</td>\n",
       "    </tr>\n",
       "    <tr>\n",
       "      <th>228062</th>\n",
       "      <td>24.0</td>\n",
       "      <td>5.0</td>\n",
       "      <td>1999</td>\n",
       "      <td>2.0</td>\n",
       "      <td>-0.492716</td>\n",
       "      <td>66.0</td>\n",
       "      <td>0.5868</td>\n",
       "      <td>3</td>\n",
       "      <td>7.0</td>\n",
       "      <td>22.0</td>\n",
       "      <td>1.0</td>\n",
       "      <td>97.0</td>\n",
       "      <td>31582</td>\n",
       "      <td>24.0</td>\n",
       "    </tr>\n",
       "    <tr>\n",
       "      <th>178826</th>\n",
       "      <td>19.0</td>\n",
       "      <td>5.0</td>\n",
       "      <td>2000</td>\n",
       "      <td>2.0</td>\n",
       "      <td>1.307233</td>\n",
       "      <td>52.0</td>\n",
       "      <td>0.5868</td>\n",
       "      <td>11</td>\n",
       "      <td>7.0</td>\n",
       "      <td>38.0</td>\n",
       "      <td>0.0</td>\n",
       "      <td>92.0</td>\n",
       "      <td>57080</td>\n",
       "      <td>21.0</td>\n",
       "    </tr>\n",
       "  </tbody>\n",
       "</table>\n",
       "</div>"
      ],
      "text/plain": [
       "        date_crawled  vehicle_type  registration_year  gearbox     power  \\\n",
       "59971           11.0           6.0               1997      2.0 -0.729551   \n",
       "228062          24.0           5.0               1999      2.0 -0.492716   \n",
       "178826          19.0           5.0               2000      2.0  1.307233   \n",
       "\n",
       "        model  kilometer  registration_month  fuel_type  brand  not_repaired  \\\n",
       "59971     5.0     0.5868                  12        7.0   25.0           0.0   \n",
       "228062   66.0     0.5868                   3        7.0   22.0           1.0   \n",
       "178826   52.0     0.5868                  11        7.0   38.0           0.0   \n",
       "\n",
       "        date_created  postal_code  last_seen  \n",
       "59971           84.0        39288       24.0  \n",
       "228062          97.0        31582       24.0  \n",
       "178826          92.0        57080       21.0  "
      ]
     },
     "metadata": {},
     "output_type": "display_data"
    }
   ],
   "source": [
    "numeric = ['power', 'kilometer']\n",
    "scaler = StandardScaler()\n",
    "\n",
    "scaler.fit(\n",
    "    features_train[numeric]\n",
    ") \n",
    "\n",
    "features_train[numeric] = scaler.transform(\n",
    "    features_train[numeric]\n",
    ")\n",
    "\n",
    "features_test[numeric] = scaler.transform(\n",
    "    features_test[numeric]\n",
    ")\n",
    "\n",
    "pd.options.mode.chained_assignment = None\n",
    "\n",
    "# Проверка\n",
    "display(features_train.head(3))\n",
    "display(features_test.head(3))"
   ]
  },
  {
   "cell_type": "code",
   "execution_count": 48,
   "id": "c0729b44",
   "metadata": {},
   "outputs": [
    {
     "name": "stdout",
     "output_type": "stream",
     "text": [
      "Процент строк, удаленных на этапе предобработки: 13.61 %\n",
      "Количество строк, удаленных на этапе предобработки: 48212\n"
     ]
    }
   ],
   "source": [
    "after_preprocess = data.shape[0]\n",
    "\n",
    "print(\n",
    "    'Процент строк, удаленных на этапе предобработки:', \n",
    "    round(((before - after_preprocess) * 100) / before, 2), \n",
    "    '%'\n",
    ")\n",
    "\n",
    "print(\n",
    "    'Количество строк, удаленных на этапе предобработки:', \n",
    "    before - after_preprocess\n",
    ")"
   ]
  },
  {
   "cell_type": "markdown",
   "id": "0b48ae17",
   "metadata": {},
   "source": [
    "<div style=\"border-radius: 15px; border:solid #4BA3C3 2px; padding: 20px\"> <h3 style=\"color:#4BA3C3; margin-bottom:20px\">Вывод </h3>\n",
    "    \n",
    "* Столбцы были **переименованы** в \"змеиный\" регистр.\n",
    "* С помощью **изменения типов** данных объем памяти, используемой при обработке данных, **уменьшилось на треть**.\n",
    "* Пропуски в столбце **`not_repaired`** заменены на значение **_no_**, в остальных столбцах - на значения-заглушки `NA`.\n",
    "* Было обнаружено **4 строки-дубликата**, которые были **удалены** из таблицы.\n",
    "* Столбец **`number_of_pictures`** удален как нерелевантный.\n",
    "* В столбцах **`price**`, **`registration_year`** и **`power`** удалены аномальные значения. \n",
    "* Корреляция между параметрами в датасете только **слабая** или **очень слабая**. Целевой столбец связан **слабой отрицательной** корреляцией с **пробегом** автомобиля и **очень слабой положительной** - с **мощностью** двигателя.\n",
    "* Проведено **кодирование** категориальных признаков.\n",
    "* Выделены обучающая и тестовая **выборка**.\n",
    "* Признаки приведены к одному **масштабу**.\n",
    "* На этапе предобработки удалено **48212 строк**, что составляет **13.6%** от исходного объема таблицы. Больше всего строк (**40.5 тысяч**) было удалено при обработке аномалий в столбце **`power`**."
   ]
  },
  {
   "cell_type": "markdown",
   "id": "e85b1f20",
   "metadata": {},
   "source": [
    "## Обучение модели\n",
    "\n",
    "Получим предсказания с помощью следующих моделей, и выберем модель с наилучшими метриками.\n",
    "1. Решающее дерево\n",
    "1. Случайный лес\n",
    "1. Линейная регрессия\n",
    "1. Полиномиальная регрессия\n",
    "1. Гребневая регрессия (регрессия Ridge)\n",
    "1. Лассо-регрессия\n",
    "1. Байесовская регрессия\n",
    "1. CatBoost\n",
    "1. XGBoost \n",
    "\n",
    "После выбора модели проверим ее адекватность с помощью Dummy модели и рассчитает целевую метрику RMSE на тестовой выборке.\n",
    "\n",
    "### Решающее дерево\n",
    "\n",
    "С помощью `RandomizedSearchCV` найдем оптимальные гиперпараметры для модели `DecisionTreeRegressor`."
   ]
  },
  {
   "cell_type": "code",
   "execution_count": 49,
   "id": "2dc982c5",
   "metadata": {},
   "outputs": [],
   "source": [
    "parameters = {\n",
    "    'max_depth': range (1,13, 2),\n",
    "    'min_samples_leaf': range (1,8),\n",
    "    'min_samples_split': range (2,10,2)\n",
    "}"
   ]
  },
  {
   "cell_type": "code",
   "execution_count": 50,
   "id": "6f7254d8",
   "metadata": {},
   "outputs": [
    {
     "name": "stdout",
     "output_type": "stream",
     "text": [
      "Wall time: 19.7 s\n"
     ]
    },
    {
     "data": {
      "text/plain": [
       "RandomizedSearchCV(cv=5, estimator=DecisionTreeRegressor(random_state=12345),\n",
       "                   n_jobs=-1,\n",
       "                   param_distributions={'max_depth': range(1, 13, 2),\n",
       "                                        'min_samples_leaf': range(1, 8),\n",
       "                                        'min_samples_split': range(2, 10, 2)},\n",
       "                   random_state=12345, scoring='neg_mean_squared_error')"
      ]
     },
     "execution_count": 50,
     "metadata": {},
     "output_type": "execute_result"
    }
   ],
   "source": [
    "%%time\n",
    "\n",
    "search_dt = RandomizedSearchCV(\n",
    "    DecisionTreeRegressor(\n",
    "        random_state=RANDOM_STATE, \n",
    "    ), \n",
    "    parameters, \n",
    "    random_state=RANDOM_STATE, \n",
    "    cv=CV, \n",
    "    scoring='neg_mean_squared_error', \n",
    "    n_jobs=-1\n",
    ")\n",
    "\n",
    "search_dt.fit(features_train, target_train)"
   ]
  },
  {
   "cell_type": "code",
   "execution_count": 51,
   "id": "43138a4e",
   "metadata": {},
   "outputs": [
    {
     "data": {
      "text/plain": [
       "{'min_samples_split': 8, 'min_samples_leaf': 3, 'max_depth': 11}"
      ]
     },
     "execution_count": 51,
     "metadata": {},
     "output_type": "execute_result"
    }
   ],
   "source": [
    "search_dt.best_params_"
   ]
  },
  {
   "cell_type": "code",
   "execution_count": 52,
   "id": "fb0d3314",
   "metadata": {},
   "outputs": [
    {
     "name": "stdout",
     "output_type": "stream",
     "text": [
      "RMSE на обучающей выборке:  1953.1\n"
     ]
    }
   ],
   "source": [
    "print(\n",
    "    'RMSE на обучающей выборке: ', \n",
    "    (abs(search_dt.best_score_)**0.5).round(2)\n",
    ")"
   ]
  },
  {
   "cell_type": "markdown",
   "id": "25979285",
   "metadata": {},
   "source": [
    "Значение целевой метрики RMSE соответствует целевому значению (больше **2500**).\n",
    "\n",
    "### Случайный лес\n",
    "\n",
    "Для модели `RandomForestRegressor` также используем `RandomizedSearchCV` для поиска оптимальных параметров."
   ]
  },
  {
   "cell_type": "code",
   "execution_count": 53,
   "id": "457568d7",
   "metadata": {},
   "outputs": [],
   "source": [
    "parameters = {\n",
    "    'max_depth': range (6, 12, 2),\n",
    "    'min_samples_leaf': range (1, 5),\n",
    "    'min_samples_split': range (1, 5)\n",
    "}"
   ]
  },
  {
   "cell_type": "code",
   "execution_count": 54,
   "id": "49054ba0",
   "metadata": {},
   "outputs": [
    {
     "name": "stdout",
     "output_type": "stream",
     "text": [
      "Wall time: 8min 12s\n"
     ]
    },
    {
     "data": {
      "text/plain": [
       "RandomizedSearchCV(cv=5, estimator=RandomForestRegressor(random_state=12345),\n",
       "                   n_jobs=-1,\n",
       "                   param_distributions={'max_depth': range(6, 12, 2),\n",
       "                                        'min_samples_leaf': range(1, 5),\n",
       "                                        'min_samples_split': range(1, 5)},\n",
       "                   random_state=12345, scoring='neg_mean_squared_error')"
      ]
     },
     "execution_count": 54,
     "metadata": {},
     "output_type": "execute_result"
    }
   ],
   "source": [
    "%%time\n",
    "\n",
    "search_rf = RandomizedSearchCV(\n",
    "    RandomForestRegressor(\n",
    "        random_state=RANDOM_STATE, \n",
    "    ), \n",
    "    parameters, \n",
    "    random_state=RANDOM_STATE, \n",
    "    cv=CV, \n",
    "    scoring='neg_mean_squared_error', \n",
    "    n_jobs=-1\n",
    ")\n",
    "\n",
    "search_rf.fit(features_train, target_train)"
   ]
  },
  {
   "cell_type": "code",
   "execution_count": 55,
   "id": "004e6978",
   "metadata": {},
   "outputs": [
    {
     "data": {
      "text/plain": [
       "{'min_samples_split': 4, 'min_samples_leaf': 1, 'max_depth': 10}"
      ]
     },
     "execution_count": 55,
     "metadata": {},
     "output_type": "execute_result"
    }
   ],
   "source": [
    "search_rf.best_params_"
   ]
  },
  {
   "cell_type": "code",
   "execution_count": 56,
   "id": "5d7e27c5",
   "metadata": {},
   "outputs": [
    {
     "name": "stdout",
     "output_type": "stream",
     "text": [
      "RMSE на обучающей выборке:  1887.27\n"
     ]
    }
   ],
   "source": [
    "print(\n",
    "    'RMSE на обучающей выборке: ', \n",
    "    (abs(search_rf.best_score_)**0.5).round(2)\n",
    ")"
   ]
  },
  {
   "cell_type": "markdown",
   "id": "f80b94fd",
   "metadata": {},
   "source": [
    "Значение RMSE для этой модели также соответствует целевому значению.\n",
    "\n",
    "### Линейная регрессия\n",
    "\n",
    "Рассчитаем RMSE на обучающей выборке с помощью `cross_val_score`."
   ]
  },
  {
   "cell_type": "code",
   "execution_count": 57,
   "id": "0e4cdd62",
   "metadata": {},
   "outputs": [
    {
     "name": "stdout",
     "output_type": "stream",
     "text": [
      "RMSE на обучающей выборке: 3284.66\n",
      "Wall time: 603 ms\n"
     ]
    }
   ],
   "source": [
    "%%time\n",
    "\n",
    "reg_lr = LinearRegression()\n",
    "rmse_lr = (\n",
    "    abs(\n",
    "        cross_val_score(\n",
    "            reg_lr, \n",
    "            features_train, \n",
    "            target_train, \n",
    "            scoring=\"neg_mean_squared_error\", \n",
    "            cv=CV\n",
    "        ))**0.5).mean()\n",
    "\n",
    "print(\n",
    "    'RMSE на обучающей выборке:', \n",
    "    rmse_lr.round(2)\n",
    ")"
   ]
  },
  {
   "cell_type": "markdown",
   "id": "05ca81ff",
   "metadata": {},
   "source": [
    "Значение RMSE по результатам кросс-валидации для этой модели превышает целевое значение **2500**.\n",
    "\n",
    "### Полиномиальная регрессия"
   ]
  },
  {
   "cell_type": "code",
   "execution_count": 58,
   "id": "5623a783",
   "metadata": {},
   "outputs": [
    {
     "name": "stdout",
     "output_type": "stream",
     "text": [
      "RMSE на обучающей выборке: 2473.23\n",
      "Wall time: 9.77 s\n"
     ]
    }
   ],
   "source": [
    "%%time\n",
    "regressor = LinearRegression()\n",
    "polynomial_features = PolynomialFeatures(\n",
    "    degree=2, \n",
    "    include_bias=False\n",
    ")\n",
    "\n",
    "poly_reg = Pipeline([(\n",
    "    \"polynomial_features\", \n",
    "    polynomial_features\n",
    "),(\n",
    "    \"linear_regression\", \n",
    "    regressor\n",
    ")])\n",
    "\n",
    "rmse_poly = (\n",
    "    abs(\n",
    "        cross_val_score(\n",
    "            poly_reg, \n",
    "            features_train, \n",
    "            target_train, \n",
    "            scoring=\"neg_mean_squared_error\", \n",
    "            cv=CV\n",
    "        ))**0.5).mean()\n",
    "\n",
    "print(\n",
    "    'RMSE на обучающей выборке:', \n",
    "    rmse_poly.round(2)\n",
    ")"
   ]
  },
  {
   "cell_type": "markdown",
   "id": "622e6edb",
   "metadata": {},
   "source": [
    "Значение метрики с использованием Полиномиальной регрессии незначительно меньше целевого значения **2500**.\n",
    "\n",
    "### Гребневая регрессия (регрессия Ridge)\n",
    "\n",
    "Для модели гребневой регрессии также используем `cross_val_score`."
   ]
  },
  {
   "cell_type": "code",
   "execution_count": 59,
   "id": "7d86e235",
   "metadata": {},
   "outputs": [
    {
     "name": "stdout",
     "output_type": "stream",
     "text": [
      "RMSE на обучающей выборке: 4013.96\n",
      "Wall time: 470 ms\n"
     ]
    }
   ],
   "source": [
    "%%time\n",
    "\n",
    "reg_rr = Ridge(\n",
    "    alpha=100, \n",
    "    solver='sparse_cg'\n",
    ")\n",
    "\n",
    "rmse_rr = (\n",
    "    abs(\n",
    "        cross_val_score(\n",
    "            reg_rr, \n",
    "            features_train, \n",
    "            target_train, \n",
    "            scoring=\"neg_mean_squared_error\", \n",
    "            cv=CV\n",
    "        ))**0.5).mean()\n",
    "\n",
    "print(\n",
    "    'RMSE на обучающей выборке:', \n",
    "    rmse_rr.round(2)\n",
    ")"
   ]
  },
  {
   "cell_type": "markdown",
   "id": "697a37cf",
   "metadata": {},
   "source": [
    "Значение метрики для этой модели превышает целевое значение **2500**.\n",
    "\n",
    "### Лассо-регрессия\n",
    "\n",
    "Найдем значение целевой метрики с использованием `cross_val_score`."
   ]
  },
  {
   "cell_type": "code",
   "execution_count": 60,
   "id": "e8a3557d",
   "metadata": {},
   "outputs": [
    {
     "name": "stdout",
     "output_type": "stream",
     "text": [
      "RMSE на обучающей выборке: 3284.66\n",
      "Wall time: 7.76 s\n"
     ]
    }
   ],
   "source": [
    "%%time\n",
    "\n",
    "reg_lasso = linear_model.Lasso(\n",
    "    alpha=.1\n",
    ")\n",
    "rmse_lasso = (\n",
    "    abs(\n",
    "        cross_val_score(\n",
    "            reg_lasso, \n",
    "            features_train, \n",
    "            target_train, \n",
    "            scoring=\"neg_mean_squared_error\", \n",
    "            cv=CV\n",
    "        ))**0.5).mean()\n",
    "\n",
    "print(\n",
    "    'RMSE на обучающей выборке:', \n",
    "    rmse_lasso.round(2)\n",
    ")"
   ]
  },
  {
   "cell_type": "markdown",
   "id": "462f1a39",
   "metadata": {},
   "source": [
    "Для модели регрессии-лассо также превышает целевое значение **2500**.\n",
    "\n",
    "### Байесовская регрессия\n",
    "\n",
    "Для модели байесовской регрессии также используем `cross_val_score`."
   ]
  },
  {
   "cell_type": "code",
   "execution_count": 61,
   "id": "272b6ddf",
   "metadata": {},
   "outputs": [
    {
     "name": "stdout",
     "output_type": "stream",
     "text": [
      "RMSE на обучающей выборке: 3284.66\n",
      "Wall time: 879 ms\n"
     ]
    }
   ],
   "source": [
    "%%time\n",
    "\n",
    "reg_br = linear_model.BayesianRidge()\n",
    "\n",
    "rmse_br = (\n",
    "    abs(\n",
    "        cross_val_score(\n",
    "            reg_br, \n",
    "            features_train, \n",
    "            target_train, \n",
    "            scoring=\"neg_mean_squared_error\", \n",
    "            cv=CV\n",
    "        ))**0.5).mean()\n",
    "\n",
    "print(\n",
    "    'RMSE на обучающей выборке:', \n",
    "    rmse_br.round(2)\n",
    ")"
   ]
  },
  {
   "cell_type": "markdown",
   "id": "2c5f94a0",
   "metadata": {},
   "source": [
    "Для этой модели полученное значение метрики также превышает целевое значение.\n",
    "\n",
    "### CatBoost\n",
    "\n",
    "С помощью `RandomizedSearchCV` найдем оптимальные гиперпараметры для модели `CatBoostRegressor`."
   ]
  },
  {
   "cell_type": "code",
   "execution_count": 72,
   "id": "41b1afe1",
   "metadata": {},
   "outputs": [],
   "source": [
    "parameters = {\n",
    "    'iterations': range(200, 501, 100),\n",
    "    'learning_rate': np.arange(0.14, 0.21, 0.03),\n",
    "    'depth':range(3, 12, 4)\n",
    "}"
   ]
  },
  {
   "cell_type": "code",
   "execution_count": 63,
   "id": "036d8038",
   "metadata": {},
   "outputs": [
    {
     "name": "stdout",
     "output_type": "stream",
     "text": [
      "Wall time: 6min 50s\n"
     ]
    },
    {
     "data": {
      "text/plain": [
       "RandomizedSearchCV(cv=5,\n",
       "                   estimator=<catboost.core.CatBoostRegressor object at 0x0000012A65E21E20>,\n",
       "                   n_jobs=-1,\n",
       "                   param_distributions={'depth': range(3, 12, 4),\n",
       "                                        'iterations': range(200, 501, 100),\n",
       "                                        'learning_rate': array([0.14, 0.17, 0.2 ])},\n",
       "                   random_state=12345, scoring='neg_mean_squared_error')"
      ]
     },
     "execution_count": 63,
     "metadata": {},
     "output_type": "execute_result"
    }
   ],
   "source": [
    "%%time\n",
    "\n",
    "search_cb = RandomizedSearchCV(\n",
    "    CatBoostRegressor(\n",
    "        verbose=False,\n",
    "        random_state=RANDOM_STATE\n",
    "    ), \n",
    "    parameters,                        \n",
    "    random_state=RANDOM_STATE,\n",
    "    cv=CV,\n",
    "    scoring='neg_mean_squared_error',\n",
    "    n_jobs=-1\n",
    ")\n",
    "\n",
    "search_cb.fit(features_train, target_train)"
   ]
  },
  {
   "cell_type": "code",
   "execution_count": 64,
   "id": "36f77f48",
   "metadata": {
    "scrolled": true
   },
   "outputs": [
    {
     "data": {
      "text/plain": [
       "{'learning_rate': 0.17, 'iterations': 400, 'depth': 11}"
      ]
     },
     "execution_count": 64,
     "metadata": {},
     "output_type": "execute_result"
    }
   ],
   "source": [
    "search_cb.best_params_"
   ]
  },
  {
   "cell_type": "code",
   "execution_count": 65,
   "id": "0d20f18e",
   "metadata": {},
   "outputs": [
    {
     "name": "stdout",
     "output_type": "stream",
     "text": [
      "RMSE на обучающей выборке:  1537.85\n"
     ]
    }
   ],
   "source": [
    "print(\n",
    "    'RMSE на обучающей выборке: ', \n",
    "    (abs(search_cb.best_score_)**0.5).round(2)\n",
    ")"
   ]
  },
  {
   "cell_type": "markdown",
   "id": "c307fed7",
   "metadata": {},
   "source": [
    "Значение метрики RMSE для модели `CatBoost` значительно меньше целевого значения. Из рассмотренных на данном этапе моделей лучшее значение метрики получено с использованием этой модели. \n",
    "\n",
    "### XGBoost\n",
    "\n",
    "Для модели `WGBoost` также проведем поиск оптимальных гиперпараметров с помощью `RandomizedSearchCV`, для чего предварительно приведем данные к нужному формату матрицы с использованием функции `DMatrix`."
   ]
  },
  {
   "cell_type": "code",
   "execution_count": 66,
   "id": "475fecdc",
   "metadata": {},
   "outputs": [],
   "source": [
    "dtrain = xgb.DMatrix(\n",
    "    features_train, \n",
    "    label=target_train\n",
    ")\n",
    "\n",
    "dtest = xgb.DMatrix(\n",
    "    features_test, \n",
    "    label=target_test\n",
    ")"
   ]
  },
  {
   "cell_type": "code",
   "execution_count": 67,
   "id": "86ef20ab",
   "metadata": {},
   "outputs": [
    {
     "name": "stdout",
     "output_type": "stream",
     "text": [
      "Wall time: 7min 23s\n"
     ]
    },
    {
     "data": {
      "text/plain": [
       "RandomizedSearchCV(cv=5,\n",
       "                   estimator=XGBRegressor(base_score=None, booster=None,\n",
       "                                          colsample_bylevel=None,\n",
       "                                          colsample_bynode=None,\n",
       "                                          colsample_bytree=None,\n",
       "                                          enable_categorical=False, gamma=None,\n",
       "                                          gpu_id=None, importance_type=None,\n",
       "                                          interaction_constraints=None,\n",
       "                                          learning_rate=None,\n",
       "                                          max_delta_step=None, max_depth=None,\n",
       "                                          min_child_weight=None, missing=nan,\n",
       "                                          monotone_constraints=...\n",
       "       0.89, 0.9 , 0.91, 0.92, 0.93, 0.94, 0.95, 0.96, 0.97, 0.98, 0.99,\n",
       "       1.  ]),\n",
       "                                        'max_depth': range(2, 12),\n",
       "                                        'n_estimators': [200],\n",
       "                                        'subsample': array([0.02, 0.04, 0.06, 0.08, 0.1 , 0.12, 0.14, 0.16, 0.18, 0.2 , 0.22,\n",
       "       0.24, 0.26, 0.28, 0.3 , 0.32, 0.34, 0.36, 0.38, 0.4 , 0.42, 0.44,\n",
       "       0.46, 0.48, 0.5 , 0.52, 0.54, 0.56, 0.58, 0.6 , 0.62, 0.64, 0.66,\n",
       "       0.68, 0.7 , 0.72, 0.74, 0.76, 0.78, 0.8 , 0.82, 0.84, 0.86, 0.88,\n",
       "       0.9 , 0.92, 0.94, 0.96, 0.98, 1.  ])},\n",
       "                   scoring='neg_mean_squared_error')"
      ]
     },
     "execution_count": 67,
     "metadata": {},
     "output_type": "execute_result"
    }
   ],
   "source": [
    "%%time\n",
    "params_random_search = {\n",
    "    'learning_rate': np.arange(0.01, 1.01, 0.01),\n",
    "    'n_estimators': [200],\n",
    "    'max_depth': range(2, 12),\n",
    "    'subsample': np.arange(0.02, 1.02, 0.02)\n",
    "}\n",
    "\n",
    "num_round = 2\n",
    "\n",
    "xg_random_reg = xgb.XGBRegressor(\n",
    "    objective= \"reg:squarederror\"\n",
    ")\n",
    "\n",
    "xgb_r = RandomizedSearchCV(\n",
    "    param_distributions=params_random_search, \n",
    "    estimator=xg_random_reg,\n",
    "    scoring=\"neg_mean_squared_error\", \n",
    "    n_iter=5, \n",
    "    cv=CV\n",
    ")\n",
    "\n",
    "xgb_r.fit(\n",
    "    features_train, \n",
    "    target_train\n",
    ")"
   ]
  },
  {
   "cell_type": "code",
   "execution_count": 68,
   "id": "402d1d0c",
   "metadata": {},
   "outputs": [
    {
     "data": {
      "text/plain": [
       "{'subsample': 0.98,\n",
       " 'n_estimators': 200,\n",
       " 'max_depth': 11,\n",
       " 'learning_rate': 0.28}"
      ]
     },
     "execution_count": 68,
     "metadata": {},
     "output_type": "execute_result"
    }
   ],
   "source": [
    "xgb_r.best_params_"
   ]
  },
  {
   "cell_type": "code",
   "execution_count": 69,
   "id": "feb042a1",
   "metadata": {},
   "outputs": [
    {
     "name": "stdout",
     "output_type": "stream",
     "text": [
      "RMSE на обучающей выборке:  1556.3\n"
     ]
    }
   ],
   "source": [
    "print(\n",
    "    'RMSE на обучающей выборке: ', \n",
    "    (abs(xgb_r.best_score_)**0.5).round(2)\n",
    ")"
   ]
  },
  {
   "cell_type": "markdown",
   "id": "01c0e260",
   "metadata": {},
   "source": [
    "Значение метрики RMSE для модели **XGBoost** меньше целевого значения, однако оно превышает значение, полученное с использованием модели **CatBoost**.\n",
    "\n",
    "Из моделей, показавших соответствующее целевому значение метрики RMSE, самой быстрой оказалась модель **Полиномиальной регрессии**, однако значение RMSE для этой модели сильно превышает значение для других моделей.\n",
    "\n",
    "По совокупности параметров **метрика-время** оптимальной моделью является модель **Решающее дерево**.\n",
    "\n",
    "Для целей данного исследования все же **выберем модель, показавшую наилучшее значение целевой метрики - CatBoost**.\n",
    "\n",
    "### Проверка адекватности модели"
   ]
  },
  {
   "cell_type": "code",
   "execution_count": 70,
   "id": "510b334e",
   "metadata": {},
   "outputs": [
    {
     "name": "stdout",
     "output_type": "stream",
     "text": [
      "RMSE для регресии DummyRegressor 4904.49\n"
     ]
    }
   ],
   "source": [
    "dummy_model = DummyRegressor(\n",
    "    strategy='median'\n",
    ")\n",
    "\n",
    "dummy_model.fit(\n",
    "    features_train, \n",
    "    target_train\n",
    ")\n",
    "\n",
    "dummy_predict = dummy_model.predict(\n",
    "    features_test\n",
    ")\n",
    "\n",
    "mse_dummy = mean_squared_error(\n",
    "    target_test, \n",
    "    dummy_predict\n",
    ")\n",
    "\n",
    "print(\n",
    "    'RMSE для регресии DummyRegressor', \n",
    "    (mse_dummy**0.5).round(2)\n",
    ")"
   ]
  },
  {
   "cell_type": "markdown",
   "id": "112e4cad",
   "metadata": {},
   "source": [
    "### Проверка на тестовой выборке"
   ]
  },
  {
   "cell_type": "code",
   "execution_count": 71,
   "id": "31b5b2e6",
   "metadata": {},
   "outputs": [
    {
     "name": "stdout",
     "output_type": "stream",
     "text": [
      "RMSE на тестовой выборке = 1549.24\n"
     ]
    }
   ],
   "source": [
    "reg_cb = search_cb.best_estimator_\n",
    "\n",
    "prediction_CB_test = reg_cb.predict(\n",
    "    features_test\n",
    ")\n",
    "test_MSE = mean_squared_error(\n",
    "    prediction_CB_test, \n",
    "    target_test\n",
    ")\n",
    "print(\n",
    "    'RMSE на тестовой выборке =', \n",
    "    (test_MSE**0.5).round(2)\n",
    ")"
   ]
  },
  {
   "cell_type": "markdown",
   "id": "87b7ae32",
   "metadata": {},
   "source": [
    "<div style=\"border-radius: 15px; border:solid #4BA3C3 2px; padding: 20px\"> <h3 style=\"color:#4BA3C3; margin-bottom:20px\">Вывод </h3>\n",
    "    \n",
    "* Из моделей, показавших соответствующее целевому значение метрики RMSE, самой быстрой оказалась модель **Полиномиальной регрессии** (9.77 c), однако значение RMSE для этой модели (**2473.23**) сильно превышает значение для других моделей.\n",
    "\n",
    "* По совокупности параметров **метрика-время** оптимальной моделью является модель **Решающее дерево** (RMSE=1953.1, время обучения - 19.7 с).\n",
    "\n",
    "* Для целей данного исследования все же **выберем модель, показавшую наилучшее значение целевой метрики - CatBoost** (RMSE=1537.85, время обучения с подбором оптимальных гиперпараметов с использованием RandomizedSearch - 6 мин 50 с).\n",
    "    \n",
    "* Проверку на адекватность прошли все рассмотренные модели.\n",
    "    \n",
    "* Значение **целевой метрики RMSE**, полученное с использованием выбранной модели **CatBoost** на **тестовой выборке**, составило **1549.24**."
   ]
  },
  {
   "cell_type": "markdown",
   "id": "639262dd",
   "metadata": {},
   "source": [
    "<div style=\"border-radius: 15px; border:solid #ff0000 2px; padding: 20px\"> <h2 style=\"color:#ff0000; margin-bottom:20px\">Баг-репорт</h2>\n",
    "\n",
    "* Сомнения вызывает значение **`sonstige_autos`** в этом столбце. Можно предположить, что данные изначально вносились в датасет на немецком языке (судя по некоторым названиям моделей), поэтому значение **`sonstige_autos`** может обозначать **`прочие бренды`**, то есть де-факто отсутствие значения\n",
    "\n",
    "* Некорректные значения столбцов **`registration_year`** и **`power`**, причем в этих строках также много пропусков и в других столбцах."
   ]
  },
  {
   "cell_type": "markdown",
   "id": "ac75db76",
   "metadata": {},
   "source": [
    "<div style=\"border-radius: 15px; border:solid #4BA3C3 2px; padding: 20px\"> <h2 style=\"color:#4BA3C3; margin-bottom:20px\">Общий вывод</h2>\n",
    "    \n",
    "* <font color = #4BA3C3 size = 3.5> **Описание данных** </font>\n",
    "    * Таблица содержит **более 354 тысяч** строк в **16** столбцах. При первичном анализе можно отметить наличие **пропусков** в некоторых столбцах таблицы.\n",
    "    * Каждая строка в таблице содержит информацию об **одном** автомобиле.\n",
    "    * **Целевым признаком** исследования является **цена автомобиля** в евро.\n",
    "    \n",
    "    \n",
    "* <font color = #4BA3C3 size = 3.5> **Предобработка данных** </font>\n",
    "    * Столбцы были **переименованы** в \"змеиный\" регистр.\n",
    "    * С помощью **изменения типов** данных объем памяти, используемой при обработке данных, **уменьшилось на треть**.\n",
    "    * Пропуски в столбце **`not_repaired`** заменены на значение **_no_**, в остальных столбцах - на значения-заглушки *NA*.\n",
    "    * Было обнаружено **4 строки-дубликата**, которые были **удалены** из таблицы.\n",
    "    * Столбец **`number_of_pictures`** удален как нерелевантный.\n",
    "    * В столбцах **`registration_year`** и **`power`** удалены аномальные значения. \n",
    "    * Корреляция между параметрами в датасете только **слабая** или **очень слабая**. Целевой столбец связан **слабой отрицательной** корреляцией с **пробегом** автомобиля и **очень слабой положительной** - с **мощностью** двигателя.\n",
    "    * На этапе предобработки удалено **48212 строк**, что составляет **13.6%** от исходного объема таблицы. Больше всего строк (**40.5 тысяч**) было удалено при обработке аномалий в столбце **`power`**.\n",
    "    \n",
    "    \n",
    "* <font color = #4BA3C3 size = 3.5> **Обучение модели** </font>\n",
    "    * При подготовке всех моделей использовались значения: \n",
    "        * `random_state=12345`\n",
    "        * `cv=5`\n",
    "    * Из моделей, показавших соответствующее целевому значение метрики RMSE, самой быстрой оказалась модель **Полиномиальной регрессии** (9.77 c), однако значение RMSE для этой модели (**2473.23**) сильно превышает значение для других моделей.\n",
    "    * По совокупности параметров **метрика-время** оптимальной моделью является модель **Решающее дерево** (RMSE=1953.1, время обучения - 19.7 с).\n",
    "    * Для целей данного исследования все же **выберем модель, показавшую наилучшее значение целевой метрики - CatBoost** (RMSE=1537.85, время обучения с подбором оптимальных гиперпараметов с использованием RandomizedSearch - 6 мин 50 с).\n",
    "    * Проверку на адекватность прошли все рассмотренные модели. \n",
    "    * Значение **целевой метрики RMSE**, полученное с использованием выбранной модели **CatBoost** на **тестовой выборке**, составило **1549.24**.\n",
    " \n",
    "<div style=\"border:solid #4BA3C3 2px; padding: 20px\"><b>\n",
    "При выборе модели зависит от приоритетного показателя. Если важнее скорость обучения и предсказания - <font color = #4BA3C3>Решающее дерево (с подбором оптимальных гиперпараметров)</font>, если минимизация отклонений - <font color = #4BA3C3>CatBoost (также с оптимальными гиперпараметрами)</font>."
   ]
  }
 ],
 "metadata": {
  "ExecuteTimeLog": [
   {
    "duration": 2303,
    "start_time": "2022-07-10T04:37:02.941Z"
   },
   {
    "duration": 1763,
    "start_time": "2022-07-10T04:43:19.665Z"
   },
   {
    "duration": 1173,
    "start_time": "2022-07-10T04:43:21.430Z"
   },
   {
    "duration": 1583,
    "start_time": "2022-07-10T04:43:22.605Z"
   },
   {
    "duration": 4,
    "start_time": "2022-07-10T04:43:24.191Z"
   },
   {
    "duration": 30,
    "start_time": "2022-07-10T04:43:24.196Z"
   },
   {
    "duration": 545,
    "start_time": "2022-07-10T04:43:24.228Z"
   },
   {
    "duration": 130,
    "start_time": "2022-07-10T04:43:24.775Z"
   },
   {
    "duration": 50,
    "start_time": "2022-07-10T04:43:24.906Z"
   },
   {
    "duration": 269,
    "start_time": "2022-07-10T04:43:24.957Z"
   },
   {
    "duration": 389,
    "start_time": "2022-07-10T04:43:25.229Z"
   },
   {
    "duration": 878,
    "start_time": "2022-07-10T04:43:25.623Z"
   },
   {
    "duration": 42,
    "start_time": "2022-07-10T04:43:26.503Z"
   },
   {
    "duration": 36,
    "start_time": "2022-07-10T04:43:26.547Z"
   },
   {
    "duration": 42,
    "start_time": "2022-07-10T04:43:26.585Z"
   },
   {
    "duration": 298,
    "start_time": "2022-07-10T04:43:26.629Z"
   },
   {
    "duration": 338,
    "start_time": "2022-07-10T04:43:26.929Z"
   },
   {
    "duration": 100,
    "start_time": "2022-07-10T04:43:27.269Z"
   },
   {
    "duration": 134,
    "start_time": "2022-07-10T04:43:27.372Z"
   },
   {
    "duration": 26,
    "start_time": "2022-07-10T04:43:27.508Z"
   },
   {
    "duration": 3601,
    "start_time": "2022-07-10T04:43:27.536Z"
   },
   {
    "duration": 26,
    "start_time": "2022-07-10T04:43:31.139Z"
   },
   {
    "duration": 138,
    "start_time": "2022-07-10T04:43:31.167Z"
   },
   {
    "duration": 403,
    "start_time": "2022-07-10T04:43:31.306Z"
   },
   {
    "duration": 20,
    "start_time": "2022-07-10T04:43:31.710Z"
   },
   {
    "duration": 118,
    "start_time": "2022-07-10T04:43:31.732Z"
   },
   {
    "duration": 596,
    "start_time": "2022-07-10T04:43:31.851Z"
   },
   {
    "duration": 277,
    "start_time": "2022-07-10T04:43:32.449Z"
   },
   {
    "duration": 17,
    "start_time": "2022-07-10T04:43:32.729Z"
   },
   {
    "duration": 8,
    "start_time": "2022-07-10T04:43:32.748Z"
   },
   {
    "duration": 1640,
    "start_time": "2022-07-10T04:43:32.758Z"
   },
   {
    "duration": 1655,
    "start_time": "2022-07-10T04:43:34.400Z"
   },
   {
    "duration": 1655,
    "start_time": "2022-07-10T04:43:36.057Z"
   },
   {
    "duration": 59,
    "start_time": "2022-07-10T04:43:37.714Z"
   },
   {
    "duration": 1525,
    "start_time": "2022-07-10T04:43:37.774Z"
   },
   {
    "duration": 1419,
    "start_time": "2022-07-10T04:43:39.300Z"
   },
   {
    "duration": 47,
    "start_time": "2022-07-10T04:43:40.720Z"
   },
   {
    "duration": 1608,
    "start_time": "2022-07-10T04:43:40.769Z"
   },
   {
    "duration": 991,
    "start_time": "2022-07-10T04:43:42.379Z"
   },
   {
    "duration": 1755,
    "start_time": "2022-07-10T04:44:14.327Z"
   },
   {
    "duration": 799,
    "start_time": "2022-07-10T04:44:16.083Z"
   },
   {
    "duration": 1738,
    "start_time": "2022-07-10T04:44:16.884Z"
   },
   {
    "duration": 6,
    "start_time": "2022-07-10T04:44:18.624Z"
   },
   {
    "duration": 6,
    "start_time": "2022-07-10T04:44:18.632Z"
   },
   {
    "duration": 530,
    "start_time": "2022-07-10T04:44:18.639Z"
   },
   {
    "duration": 123,
    "start_time": "2022-07-10T04:44:19.171Z"
   },
   {
    "duration": 41,
    "start_time": "2022-07-10T04:44:19.296Z"
   },
   {
    "duration": 264,
    "start_time": "2022-07-10T04:44:19.339Z"
   },
   {
    "duration": 390,
    "start_time": "2022-07-10T04:44:19.605Z"
   },
   {
    "duration": 902,
    "start_time": "2022-07-10T04:44:19.996Z"
   },
   {
    "duration": 35,
    "start_time": "2022-07-10T04:44:20.900Z"
   },
   {
    "duration": 36,
    "start_time": "2022-07-10T04:44:20.937Z"
   },
   {
    "duration": 60,
    "start_time": "2022-07-10T04:44:20.974Z"
   },
   {
    "duration": 281,
    "start_time": "2022-07-10T04:44:21.036Z"
   },
   {
    "duration": 295,
    "start_time": "2022-07-10T04:44:21.319Z"
   },
   {
    "duration": 77,
    "start_time": "2022-07-10T04:44:21.623Z"
   },
   {
    "duration": 129,
    "start_time": "2022-07-10T04:44:21.702Z"
   },
   {
    "duration": 26,
    "start_time": "2022-07-10T04:44:21.832Z"
   },
   {
    "duration": 3681,
    "start_time": "2022-07-10T04:44:21.860Z"
   },
   {
    "duration": 26,
    "start_time": "2022-07-10T04:44:25.543Z"
   },
   {
    "duration": 142,
    "start_time": "2022-07-10T04:44:25.570Z"
   },
   {
    "duration": 427,
    "start_time": "2022-07-10T04:44:25.714Z"
   },
   {
    "duration": 8,
    "start_time": "2022-07-10T04:44:26.142Z"
   },
   {
    "duration": 134,
    "start_time": "2022-07-10T04:44:26.151Z"
   },
   {
    "duration": 589,
    "start_time": "2022-07-10T04:44:26.287Z"
   },
   {
    "duration": 332,
    "start_time": "2022-07-10T04:44:26.879Z"
   },
   {
    "duration": 30,
    "start_time": "2022-07-10T04:44:27.214Z"
   },
   {
    "duration": 32,
    "start_time": "2022-07-10T04:44:27.247Z"
   },
   {
    "duration": 1809,
    "start_time": "2022-07-10T04:44:27.282Z"
   },
   {
    "duration": 1703,
    "start_time": "2022-07-10T04:44:29.092Z"
   },
   {
    "duration": 1642,
    "start_time": "2022-07-10T04:44:30.797Z"
   },
   {
    "duration": 51,
    "start_time": "2022-07-10T04:44:32.441Z"
   },
   {
    "duration": 1461,
    "start_time": "2022-07-10T04:44:32.494Z"
   },
   {
    "duration": 1551,
    "start_time": "2022-07-10T04:44:33.957Z"
   },
   {
    "duration": 54,
    "start_time": "2022-07-10T04:44:35.510Z"
   },
   {
    "duration": 1669,
    "start_time": "2022-07-10T04:44:35.566Z"
   },
   {
    "duration": 3,
    "start_time": "2022-07-10T04:44:55.123Z"
   },
   {
    "duration": 107,
    "start_time": "2022-07-10T04:45:23.967Z"
   },
   {
    "duration": 78,
    "start_time": "2022-07-10T04:45:29.017Z"
   },
   {
    "duration": 951,
    "start_time": "2022-07-10T04:47:10.116Z"
   },
   {
    "duration": 9,
    "start_time": "2022-07-10T04:47:15.233Z"
   },
   {
    "duration": 15,
    "start_time": "2022-07-10T04:47:18.828Z"
   },
   {
    "duration": 18,
    "start_time": "2022-07-10T04:47:31.549Z"
   },
   {
    "duration": 51,
    "start_time": "2022-07-10T04:47:32.498Z"
   },
   {
    "duration": 39,
    "start_time": "2022-07-10T04:47:32.940Z"
   },
   {
    "duration": 11,
    "start_time": "2022-07-10T04:47:35.166Z"
   },
   {
    "duration": 104,
    "start_time": "2022-07-10T04:47:46.364Z"
   },
   {
    "duration": 21,
    "start_time": "2022-07-10T04:48:13.184Z"
   },
   {
    "duration": 20,
    "start_time": "2022-07-10T04:48:28.786Z"
   },
   {
    "duration": 102,
    "start_time": "2022-07-10T04:50:00.471Z"
   },
   {
    "duration": 117,
    "start_time": "2022-07-10T04:50:27.462Z"
   },
   {
    "duration": 1783,
    "start_time": "2022-07-10T04:50:48.401Z"
   },
   {
    "duration": 823,
    "start_time": "2022-07-10T04:50:50.186Z"
   },
   {
    "duration": 1736,
    "start_time": "2022-07-10T04:50:51.010Z"
   },
   {
    "duration": 8,
    "start_time": "2022-07-10T04:50:52.752Z"
   },
   {
    "duration": 21,
    "start_time": "2022-07-10T04:50:52.762Z"
   },
   {
    "duration": 574,
    "start_time": "2022-07-10T04:50:52.785Z"
   },
   {
    "duration": 124,
    "start_time": "2022-07-10T04:50:53.361Z"
   },
   {
    "duration": 46,
    "start_time": "2022-07-10T04:50:53.486Z"
   },
   {
    "duration": 276,
    "start_time": "2022-07-10T04:50:53.534Z"
   },
   {
    "duration": 403,
    "start_time": "2022-07-10T04:50:53.812Z"
   },
   {
    "duration": 961,
    "start_time": "2022-07-10T04:50:54.223Z"
   },
   {
    "duration": 42,
    "start_time": "2022-07-10T04:50:55.186Z"
   },
   {
    "duration": 41,
    "start_time": "2022-07-10T04:50:55.230Z"
   },
   {
    "duration": 56,
    "start_time": "2022-07-10T04:50:55.272Z"
   },
   {
    "duration": 306,
    "start_time": "2022-07-10T04:50:55.331Z"
   },
   {
    "duration": 315,
    "start_time": "2022-07-10T04:50:55.639Z"
   },
   {
    "duration": 93,
    "start_time": "2022-07-10T04:50:55.956Z"
   },
   {
    "duration": 126,
    "start_time": "2022-07-10T04:50:56.051Z"
   },
   {
    "duration": 24,
    "start_time": "2022-07-10T04:50:56.179Z"
   },
   {
    "duration": 3759,
    "start_time": "2022-07-10T04:50:56.205Z"
   },
   {
    "duration": 25,
    "start_time": "2022-07-10T04:50:59.966Z"
   },
   {
    "duration": 138,
    "start_time": "2022-07-10T04:50:59.992Z"
   },
   {
    "duration": 422,
    "start_time": "2022-07-10T04:51:00.132Z"
   },
   {
    "duration": 8,
    "start_time": "2022-07-10T04:51:00.556Z"
   },
   {
    "duration": 136,
    "start_time": "2022-07-10T04:51:00.566Z"
   },
   {
    "duration": 606,
    "start_time": "2022-07-10T04:51:00.703Z"
   },
   {
    "duration": 299,
    "start_time": "2022-07-10T04:51:01.311Z"
   },
   {
    "duration": 21,
    "start_time": "2022-07-10T04:51:01.614Z"
   },
   {
    "duration": 17,
    "start_time": "2022-07-10T04:51:01.637Z"
   },
   {
    "duration": 1758,
    "start_time": "2022-07-10T04:51:01.656Z"
   },
   {
    "duration": 1845,
    "start_time": "2022-07-10T04:51:03.424Z"
   },
   {
    "duration": 1605,
    "start_time": "2022-07-10T04:51:05.271Z"
   },
   {
    "duration": 66,
    "start_time": "2022-07-10T04:51:06.878Z"
   },
   {
    "duration": 1548,
    "start_time": "2022-07-10T04:51:06.945Z"
   },
   {
    "duration": 1503,
    "start_time": "2022-07-10T04:51:08.495Z"
   },
   {
    "duration": 58,
    "start_time": "2022-07-10T04:51:10.000Z"
   },
   {
    "duration": 1697,
    "start_time": "2022-07-10T04:51:10.060Z"
   },
   {
    "duration": 2,
    "start_time": "2022-07-10T04:51:11.758Z"
   },
   {
    "duration": 92,
    "start_time": "2022-07-10T04:51:11.762Z"
   },
   {
    "duration": 965,
    "start_time": "2022-07-10T04:51:11.855Z"
   },
   {
    "duration": 16,
    "start_time": "2022-07-10T04:51:12.822Z"
   },
   {
    "duration": 19,
    "start_time": "2022-07-10T04:51:12.840Z"
   },
   {
    "duration": 73,
    "start_time": "2022-07-10T04:51:12.861Z"
   },
   {
    "duration": 37,
    "start_time": "2022-07-10T04:51:12.936Z"
   },
   {
    "duration": 12,
    "start_time": "2022-07-10T04:51:12.974Z"
   },
   {
    "duration": 23,
    "start_time": "2022-07-10T04:51:12.988Z"
   },
   {
    "duration": 118,
    "start_time": "2022-07-10T04:51:13.024Z"
   },
   {
    "duration": 19,
    "start_time": "2022-07-10T04:51:24.828Z"
   },
   {
    "duration": 4,
    "start_time": "2022-07-10T04:51:27.943Z"
   },
   {
    "duration": 297,
    "start_time": "2022-07-10T04:51:31.532Z"
   },
   {
    "duration": 1622,
    "start_time": "2022-07-10T04:52:51.525Z"
   },
   {
    "duration": 809,
    "start_time": "2022-07-10T04:52:53.149Z"
   },
   {
    "duration": 1642,
    "start_time": "2022-07-10T04:52:53.960Z"
   },
   {
    "duration": 4,
    "start_time": "2022-07-10T04:52:55.604Z"
   },
   {
    "duration": 18,
    "start_time": "2022-07-10T04:52:55.610Z"
   },
   {
    "duration": 534,
    "start_time": "2022-07-10T04:52:55.629Z"
   },
   {
    "duration": 124,
    "start_time": "2022-07-10T04:52:56.165Z"
   },
   {
    "duration": 63,
    "start_time": "2022-07-10T04:52:56.291Z"
   },
   {
    "duration": 271,
    "start_time": "2022-07-10T04:52:56.356Z"
   },
   {
    "duration": 409,
    "start_time": "2022-07-10T04:52:56.630Z"
   },
   {
    "duration": 978,
    "start_time": "2022-07-10T04:52:57.041Z"
   },
   {
    "duration": 32,
    "start_time": "2022-07-10T04:52:58.024Z"
   },
   {
    "duration": 38,
    "start_time": "2022-07-10T04:52:58.059Z"
   },
   {
    "duration": 50,
    "start_time": "2022-07-10T04:52:58.099Z"
   },
   {
    "duration": 293,
    "start_time": "2022-07-10T04:52:58.151Z"
   },
   {
    "duration": 278,
    "start_time": "2022-07-10T04:52:58.446Z"
   },
   {
    "duration": 75,
    "start_time": "2022-07-10T04:52:58.726Z"
   },
   {
    "duration": 133,
    "start_time": "2022-07-10T04:52:58.803Z"
   },
   {
    "duration": 24,
    "start_time": "2022-07-10T04:52:58.937Z"
   },
   {
    "duration": 3631,
    "start_time": "2022-07-10T04:52:58.962Z"
   },
   {
    "duration": 32,
    "start_time": "2022-07-10T04:53:02.594Z"
   },
   {
    "duration": 137,
    "start_time": "2022-07-10T04:53:02.628Z"
   },
   {
    "duration": 424,
    "start_time": "2022-07-10T04:53:02.767Z"
   },
   {
    "duration": 7,
    "start_time": "2022-07-10T04:53:03.193Z"
   },
   {
    "duration": 127,
    "start_time": "2022-07-10T04:53:03.202Z"
   },
   {
    "duration": 601,
    "start_time": "2022-07-10T04:53:03.330Z"
   },
   {
    "duration": 279,
    "start_time": "2022-07-10T04:53:03.932Z"
   },
   {
    "duration": 20,
    "start_time": "2022-07-10T04:53:04.214Z"
   },
   {
    "duration": 11,
    "start_time": "2022-07-10T04:53:04.236Z"
   },
   {
    "duration": 1679,
    "start_time": "2022-07-10T04:53:04.249Z"
   },
   {
    "duration": 1794,
    "start_time": "2022-07-10T04:53:05.930Z"
   },
   {
    "duration": 1591,
    "start_time": "2022-07-10T04:53:07.725Z"
   },
   {
    "duration": 51,
    "start_time": "2022-07-10T04:53:09.318Z"
   },
   {
    "duration": 1469,
    "start_time": "2022-07-10T04:53:09.371Z"
   },
   {
    "duration": 1474,
    "start_time": "2022-07-10T04:53:10.841Z"
   },
   {
    "duration": 54,
    "start_time": "2022-07-10T04:53:12.316Z"
   },
   {
    "duration": 1580,
    "start_time": "2022-07-10T04:53:12.372Z"
   },
   {
    "duration": 2,
    "start_time": "2022-07-10T04:54:56.178Z"
   },
   {
    "duration": 16,
    "start_time": "2022-07-10T04:54:59.576Z"
   },
   {
    "duration": 73,
    "start_time": "2022-07-10T04:55:01.004Z"
   },
   {
    "duration": 64,
    "start_time": "2022-07-10T04:55:01.972Z"
   },
   {
    "duration": 11,
    "start_time": "2022-07-10T04:55:04.279Z"
   },
   {
    "duration": 1623,
    "start_time": "2022-07-10T08:47:18.582Z"
   },
   {
    "duration": 1029,
    "start_time": "2022-07-10T08:47:20.207Z"
   },
   {
    "duration": 1583,
    "start_time": "2022-07-10T08:47:21.238Z"
   },
   {
    "duration": 3,
    "start_time": "2022-07-10T08:47:22.823Z"
   },
   {
    "duration": 33,
    "start_time": "2022-07-10T08:47:22.828Z"
   },
   {
    "duration": 735,
    "start_time": "2022-07-10T08:47:22.863Z"
   },
   {
    "duration": 266,
    "start_time": "2022-07-10T08:47:23.599Z"
   },
   {
    "duration": 100,
    "start_time": "2022-07-10T08:47:23.866Z"
   },
   {
    "duration": 507,
    "start_time": "2022-07-10T08:47:23.968Z"
   },
   {
    "duration": 697,
    "start_time": "2022-07-10T08:47:24.478Z"
   },
   {
    "duration": 857,
    "start_time": "2022-07-10T08:47:25.177Z"
   },
   {
    "duration": 33,
    "start_time": "2022-07-10T08:47:26.036Z"
   },
   {
    "duration": 47,
    "start_time": "2022-07-10T08:47:26.071Z"
   },
   {
    "duration": 50,
    "start_time": "2022-07-10T08:47:26.120Z"
   },
   {
    "duration": 376,
    "start_time": "2022-07-10T08:47:26.172Z"
   },
   {
    "duration": 293,
    "start_time": "2022-07-10T08:47:26.550Z"
   },
   {
    "duration": 79,
    "start_time": "2022-07-10T08:47:26.845Z"
   },
   {
    "duration": 123,
    "start_time": "2022-07-10T08:47:26.926Z"
   },
   {
    "duration": 28,
    "start_time": "2022-07-10T08:47:27.051Z"
   },
   {
    "duration": 3699,
    "start_time": "2022-07-10T08:47:27.080Z"
   },
   {
    "duration": 24,
    "start_time": "2022-07-10T08:47:30.781Z"
   },
   {
    "duration": 181,
    "start_time": "2022-07-10T08:47:30.807Z"
   },
   {
    "duration": 390,
    "start_time": "2022-07-10T08:47:30.990Z"
   },
   {
    "duration": 6,
    "start_time": "2022-07-10T08:47:31.382Z"
   },
   {
    "duration": 146,
    "start_time": "2022-07-10T08:47:31.390Z"
   },
   {
    "duration": 594,
    "start_time": "2022-07-10T08:47:31.538Z"
   },
   {
    "duration": 270,
    "start_time": "2022-07-10T08:47:32.133Z"
   },
   {
    "duration": 16,
    "start_time": "2022-07-10T08:47:32.407Z"
   },
   {
    "duration": 28,
    "start_time": "2022-07-10T08:47:32.424Z"
   },
   {
    "duration": 1714,
    "start_time": "2022-07-10T08:47:32.454Z"
   },
   {
    "duration": 25,
    "start_time": "2022-07-10T08:47:34.170Z"
   },
   {
    "duration": 1788,
    "start_time": "2022-07-10T08:47:34.197Z"
   },
   {
    "duration": 1667,
    "start_time": "2022-07-10T08:47:35.986Z"
   },
   {
    "duration": 52,
    "start_time": "2022-07-10T08:47:37.655Z"
   },
   {
    "duration": 1500,
    "start_time": "2022-07-10T08:47:37.709Z"
   },
   {
    "duration": 1414,
    "start_time": "2022-07-10T08:47:39.211Z"
   },
   {
    "duration": 57,
    "start_time": "2022-07-10T08:47:40.627Z"
   },
   {
    "duration": 1625,
    "start_time": "2022-07-10T08:47:40.685Z"
   },
   {
    "duration": 3,
    "start_time": "2022-07-10T08:47:42.312Z"
   },
   {
    "duration": 21,
    "start_time": "2022-07-10T08:47:42.317Z"
   },
   {
    "duration": 81,
    "start_time": "2022-07-10T08:47:42.340Z"
   },
   {
    "duration": 59,
    "start_time": "2022-07-10T08:47:42.422Z"
   },
   {
    "duration": 10,
    "start_time": "2022-07-10T08:47:42.483Z"
   },
   {
    "duration": 50,
    "start_time": "2022-07-10T08:47:42.495Z"
   },
   {
    "duration": 54,
    "start_time": "2022-07-10T08:47:42.561Z"
   },
   {
    "duration": 0,
    "start_time": "2022-07-10T08:47:42.617Z"
   },
   {
    "duration": 0,
    "start_time": "2022-07-10T08:47:42.618Z"
   },
   {
    "duration": 0,
    "start_time": "2022-07-10T08:47:42.619Z"
   },
   {
    "duration": 0,
    "start_time": "2022-07-10T08:47:42.621Z"
   },
   {
    "duration": 0,
    "start_time": "2022-07-10T08:47:42.622Z"
   },
   {
    "duration": 0,
    "start_time": "2022-07-10T08:47:42.623Z"
   },
   {
    "duration": 0,
    "start_time": "2022-07-10T08:47:42.624Z"
   },
   {
    "duration": 0,
    "start_time": "2022-07-10T08:47:42.625Z"
   },
   {
    "duration": 0,
    "start_time": "2022-07-10T08:47:42.626Z"
   },
   {
    "duration": 0,
    "start_time": "2022-07-10T08:47:42.627Z"
   },
   {
    "duration": 0,
    "start_time": "2022-07-10T08:47:42.628Z"
   },
   {
    "duration": 0,
    "start_time": "2022-07-10T08:47:42.629Z"
   },
   {
    "duration": 0,
    "start_time": "2022-07-10T08:47:42.630Z"
   },
   {
    "duration": 0,
    "start_time": "2022-07-10T08:47:42.631Z"
   },
   {
    "duration": 0,
    "start_time": "2022-07-10T08:47:42.631Z"
   },
   {
    "duration": 0,
    "start_time": "2022-07-10T08:47:42.633Z"
   },
   {
    "duration": 0,
    "start_time": "2022-07-10T08:47:42.634Z"
   },
   {
    "duration": 0,
    "start_time": "2022-07-10T08:47:42.635Z"
   },
   {
    "duration": 1,
    "start_time": "2022-07-10T08:47:42.635Z"
   },
   {
    "duration": 0,
    "start_time": "2022-07-10T08:47:42.637Z"
   },
   {
    "duration": 0,
    "start_time": "2022-07-10T08:47:42.638Z"
   },
   {
    "duration": 0,
    "start_time": "2022-07-10T08:47:42.639Z"
   },
   {
    "duration": 0,
    "start_time": "2022-07-10T08:47:42.640Z"
   },
   {
    "duration": 0,
    "start_time": "2022-07-10T08:47:42.641Z"
   },
   {
    "duration": 0,
    "start_time": "2022-07-10T08:47:42.642Z"
   },
   {
    "duration": 0,
    "start_time": "2022-07-10T08:47:42.642Z"
   },
   {
    "duration": 0,
    "start_time": "2022-07-10T08:47:42.643Z"
   },
   {
    "duration": 0,
    "start_time": "2022-07-10T08:47:42.644Z"
   },
   {
    "duration": 0,
    "start_time": "2022-07-10T08:47:42.645Z"
   },
   {
    "duration": 0,
    "start_time": "2022-07-10T08:47:42.646Z"
   },
   {
    "duration": 0,
    "start_time": "2022-07-10T08:47:42.646Z"
   },
   {
    "duration": 0,
    "start_time": "2022-07-10T08:47:42.647Z"
   },
   {
    "duration": 0,
    "start_time": "2022-07-10T08:47:42.649Z"
   },
   {
    "duration": 0,
    "start_time": "2022-07-10T08:47:42.650Z"
   },
   {
    "duration": 0,
    "start_time": "2022-07-10T08:47:42.660Z"
   },
   {
    "duration": 0,
    "start_time": "2022-07-10T08:47:42.661Z"
   },
   {
    "duration": 0,
    "start_time": "2022-07-10T08:47:42.662Z"
   },
   {
    "duration": 0,
    "start_time": "2022-07-10T08:47:42.664Z"
   },
   {
    "duration": 0,
    "start_time": "2022-07-10T08:47:42.664Z"
   },
   {
    "duration": 0,
    "start_time": "2022-07-10T08:47:42.665Z"
   },
   {
    "duration": 0,
    "start_time": "2022-07-10T08:47:42.666Z"
   },
   {
    "duration": 0,
    "start_time": "2022-07-10T08:47:42.667Z"
   },
   {
    "duration": 0,
    "start_time": "2022-07-10T08:47:42.668Z"
   },
   {
    "duration": 0,
    "start_time": "2022-07-10T08:47:42.669Z"
   },
   {
    "duration": 0,
    "start_time": "2022-07-10T08:47:42.670Z"
   },
   {
    "duration": 47,
    "start_time": "2022-07-10T08:48:46.501Z"
   },
   {
    "duration": 1480,
    "start_time": "2022-07-10T08:50:46.598Z"
   },
   {
    "duration": 827,
    "start_time": "2022-07-10T08:50:48.080Z"
   },
   {
    "duration": 1586,
    "start_time": "2022-07-10T08:50:48.909Z"
   },
   {
    "duration": 5,
    "start_time": "2022-07-10T08:50:50.497Z"
   },
   {
    "duration": 17,
    "start_time": "2022-07-10T08:50:50.503Z"
   },
   {
    "duration": 551,
    "start_time": "2022-07-10T08:50:50.521Z"
   },
   {
    "duration": 119,
    "start_time": "2022-07-10T08:50:51.074Z"
   },
   {
    "duration": 47,
    "start_time": "2022-07-10T08:50:51.195Z"
   },
   {
    "duration": 339,
    "start_time": "2022-07-10T08:50:51.244Z"
   },
   {
    "duration": 398,
    "start_time": "2022-07-10T08:50:51.586Z"
   },
   {
    "duration": 899,
    "start_time": "2022-07-10T08:50:51.986Z"
   },
   {
    "duration": 31,
    "start_time": "2022-07-10T08:50:52.887Z"
   },
   {
    "duration": 42,
    "start_time": "2022-07-10T08:50:52.919Z"
   },
   {
    "duration": 41,
    "start_time": "2022-07-10T08:50:52.963Z"
   },
   {
    "duration": 308,
    "start_time": "2022-07-10T08:50:53.006Z"
   },
   {
    "duration": 289,
    "start_time": "2022-07-10T08:50:53.316Z"
   },
   {
    "duration": 92,
    "start_time": "2022-07-10T08:50:53.607Z"
   },
   {
    "duration": 133,
    "start_time": "2022-07-10T08:50:53.701Z"
   },
   {
    "duration": 30,
    "start_time": "2022-07-10T08:50:53.836Z"
   },
   {
    "duration": 3943,
    "start_time": "2022-07-10T08:50:53.867Z"
   },
   {
    "duration": 25,
    "start_time": "2022-07-10T08:50:57.812Z"
   },
   {
    "duration": 137,
    "start_time": "2022-07-10T08:50:57.838Z"
   },
   {
    "duration": 381,
    "start_time": "2022-07-10T08:50:57.976Z"
   },
   {
    "duration": 7,
    "start_time": "2022-07-10T08:50:58.360Z"
   },
   {
    "duration": 209,
    "start_time": "2022-07-10T08:50:58.369Z"
   },
   {
    "duration": 1084,
    "start_time": "2022-07-10T08:50:58.580Z"
   },
   {
    "duration": 526,
    "start_time": "2022-07-10T08:50:59.665Z"
   },
   {
    "duration": 15,
    "start_time": "2022-07-10T08:51:00.195Z"
   },
   {
    "duration": 50,
    "start_time": "2022-07-10T08:51:00.212Z"
   },
   {
    "duration": 2699,
    "start_time": "2022-07-10T08:51:00.264Z"
   },
   {
    "duration": 394,
    "start_time": "2022-07-10T08:51:02.964Z"
   },
   {
    "duration": 2093,
    "start_time": "2022-07-10T08:51:03.361Z"
   },
   {
    "duration": 1880,
    "start_time": "2022-07-10T08:51:05.457Z"
   },
   {
    "duration": 68,
    "start_time": "2022-07-10T08:51:07.339Z"
   },
   {
    "duration": 1558,
    "start_time": "2022-07-10T08:51:07.409Z"
   },
   {
    "duration": 1761,
    "start_time": "2022-07-10T08:51:08.969Z"
   },
   {
    "duration": 55,
    "start_time": "2022-07-10T08:51:10.732Z"
   },
   {
    "duration": 1771,
    "start_time": "2022-07-10T08:51:10.788Z"
   },
   {
    "duration": 3,
    "start_time": "2022-07-10T08:51:12.561Z"
   },
   {
    "duration": 19,
    "start_time": "2022-07-10T08:51:12.566Z"
   },
   {
    "duration": 103,
    "start_time": "2022-07-10T08:51:12.587Z"
   },
   {
    "duration": 76,
    "start_time": "2022-07-10T08:51:12.692Z"
   },
   {
    "duration": 12,
    "start_time": "2022-07-10T08:51:12.770Z"
   },
   {
    "duration": 56,
    "start_time": "2022-07-10T08:51:12.784Z"
   },
   {
    "duration": 46,
    "start_time": "2022-07-10T08:51:12.842Z"
   },
   {
    "duration": 0,
    "start_time": "2022-07-10T08:51:12.891Z"
   },
   {
    "duration": 0,
    "start_time": "2022-07-10T08:51:12.892Z"
   },
   {
    "duration": 0,
    "start_time": "2022-07-10T08:51:12.893Z"
   },
   {
    "duration": 0,
    "start_time": "2022-07-10T08:51:12.894Z"
   },
   {
    "duration": 0,
    "start_time": "2022-07-10T08:51:12.896Z"
   },
   {
    "duration": 0,
    "start_time": "2022-07-10T08:51:12.897Z"
   },
   {
    "duration": 0,
    "start_time": "2022-07-10T08:51:12.898Z"
   },
   {
    "duration": 0,
    "start_time": "2022-07-10T08:51:12.900Z"
   },
   {
    "duration": 0,
    "start_time": "2022-07-10T08:51:12.901Z"
   },
   {
    "duration": 0,
    "start_time": "2022-07-10T08:51:12.903Z"
   },
   {
    "duration": 0,
    "start_time": "2022-07-10T08:51:12.904Z"
   },
   {
    "duration": 0,
    "start_time": "2022-07-10T08:51:12.905Z"
   },
   {
    "duration": 0,
    "start_time": "2022-07-10T08:51:12.905Z"
   },
   {
    "duration": 0,
    "start_time": "2022-07-10T08:51:12.907Z"
   },
   {
    "duration": 0,
    "start_time": "2022-07-10T08:51:12.908Z"
   },
   {
    "duration": 0,
    "start_time": "2022-07-10T08:51:12.909Z"
   },
   {
    "duration": 0,
    "start_time": "2022-07-10T08:51:12.911Z"
   },
   {
    "duration": 0,
    "start_time": "2022-07-10T08:51:12.911Z"
   },
   {
    "duration": 0,
    "start_time": "2022-07-10T08:51:12.912Z"
   },
   {
    "duration": 0,
    "start_time": "2022-07-10T08:51:12.914Z"
   },
   {
    "duration": 0,
    "start_time": "2022-07-10T08:51:12.915Z"
   },
   {
    "duration": 0,
    "start_time": "2022-07-10T08:51:12.916Z"
   },
   {
    "duration": 0,
    "start_time": "2022-07-10T08:51:12.917Z"
   },
   {
    "duration": 0,
    "start_time": "2022-07-10T08:51:12.918Z"
   },
   {
    "duration": 0,
    "start_time": "2022-07-10T08:51:12.920Z"
   },
   {
    "duration": 0,
    "start_time": "2022-07-10T08:51:12.921Z"
   },
   {
    "duration": 0,
    "start_time": "2022-07-10T08:51:12.922Z"
   },
   {
    "duration": 0,
    "start_time": "2022-07-10T08:51:12.923Z"
   },
   {
    "duration": 0,
    "start_time": "2022-07-10T08:51:12.924Z"
   },
   {
    "duration": 0,
    "start_time": "2022-07-10T08:51:12.925Z"
   },
   {
    "duration": 0,
    "start_time": "2022-07-10T08:51:12.926Z"
   },
   {
    "duration": 0,
    "start_time": "2022-07-10T08:51:12.927Z"
   },
   {
    "duration": 0,
    "start_time": "2022-07-10T08:51:12.961Z"
   },
   {
    "duration": 0,
    "start_time": "2022-07-10T08:51:12.962Z"
   },
   {
    "duration": 0,
    "start_time": "2022-07-10T08:51:12.963Z"
   },
   {
    "duration": 0,
    "start_time": "2022-07-10T08:51:12.964Z"
   },
   {
    "duration": 0,
    "start_time": "2022-07-10T08:51:12.966Z"
   },
   {
    "duration": 0,
    "start_time": "2022-07-10T08:51:12.967Z"
   },
   {
    "duration": 0,
    "start_time": "2022-07-10T08:51:12.968Z"
   },
   {
    "duration": 0,
    "start_time": "2022-07-10T08:51:12.969Z"
   },
   {
    "duration": 0,
    "start_time": "2022-07-10T08:51:12.970Z"
   },
   {
    "duration": 0,
    "start_time": "2022-07-10T08:51:12.971Z"
   },
   {
    "duration": 0,
    "start_time": "2022-07-10T08:51:12.972Z"
   },
   {
    "duration": 0,
    "start_time": "2022-07-10T08:51:12.973Z"
   },
   {
    "duration": 0,
    "start_time": "2022-07-10T08:51:12.974Z"
   },
   {
    "duration": 318,
    "start_time": "2022-07-10T08:53:40.265Z"
   },
   {
    "duration": 1547,
    "start_time": "2022-07-10T08:53:47.979Z"
   },
   {
    "duration": 792,
    "start_time": "2022-07-10T08:53:49.529Z"
   },
   {
    "duration": 1529,
    "start_time": "2022-07-10T08:53:50.322Z"
   },
   {
    "duration": 8,
    "start_time": "2022-07-10T08:53:51.854Z"
   },
   {
    "duration": 7,
    "start_time": "2022-07-10T08:53:51.863Z"
   },
   {
    "duration": 546,
    "start_time": "2022-07-10T08:53:51.872Z"
   },
   {
    "duration": 116,
    "start_time": "2022-07-10T08:53:52.420Z"
   },
   {
    "duration": 45,
    "start_time": "2022-07-10T08:53:52.537Z"
   },
   {
    "duration": 523,
    "start_time": "2022-07-10T08:53:52.583Z"
   },
   {
    "duration": 745,
    "start_time": "2022-07-10T08:53:53.160Z"
   },
   {
    "duration": 1178,
    "start_time": "2022-07-10T08:53:53.961Z"
   },
   {
    "duration": 45,
    "start_time": "2022-07-10T08:53:55.141Z"
   },
   {
    "duration": 37,
    "start_time": "2022-07-10T08:53:55.188Z"
   },
   {
    "duration": 59,
    "start_time": "2022-07-10T08:53:55.226Z"
   },
   {
    "duration": 305,
    "start_time": "2022-07-10T08:53:55.287Z"
   },
   {
    "duration": 297,
    "start_time": "2022-07-10T08:53:55.593Z"
   },
   {
    "duration": 94,
    "start_time": "2022-07-10T08:53:55.892Z"
   },
   {
    "duration": 97,
    "start_time": "2022-07-10T08:53:55.988Z"
   },
   {
    "duration": 30,
    "start_time": "2022-07-10T08:53:56.086Z"
   },
   {
    "duration": 4212,
    "start_time": "2022-07-10T08:53:56.118Z"
   },
   {
    "duration": 32,
    "start_time": "2022-07-10T08:54:00.332Z"
   },
   {
    "duration": 156,
    "start_time": "2022-07-10T08:54:00.366Z"
   },
   {
    "duration": 476,
    "start_time": "2022-07-10T08:54:00.524Z"
   },
   {
    "duration": 9,
    "start_time": "2022-07-10T08:54:01.001Z"
   },
   {
    "duration": 138,
    "start_time": "2022-07-10T08:54:01.012Z"
   },
   {
    "duration": 768,
    "start_time": "2022-07-10T08:54:01.152Z"
   },
   {
    "duration": 291,
    "start_time": "2022-07-10T08:54:01.922Z"
   },
   {
    "duration": 23,
    "start_time": "2022-07-10T08:54:02.219Z"
   },
   {
    "duration": 43,
    "start_time": "2022-07-10T08:54:02.244Z"
   },
   {
    "duration": 1727,
    "start_time": "2022-07-10T08:54:02.289Z"
   },
   {
    "duration": 445,
    "start_time": "2022-07-10T08:54:04.017Z"
   },
   {
    "duration": 366,
    "start_time": "2022-07-10T08:54:04.464Z"
   },
   {
    "duration": 583,
    "start_time": "2022-07-10T08:54:04.832Z"
   },
   {
    "duration": 568,
    "start_time": "2022-07-10T08:54:05.417Z"
   },
   {
    "duration": 9,
    "start_time": "2022-07-10T08:54:05.987Z"
   },
   {
    "duration": 597,
    "start_time": "2022-07-10T08:54:05.997Z"
   },
   {
    "duration": 441,
    "start_time": "2022-07-10T08:54:06.596Z"
   },
   {
    "duration": 9,
    "start_time": "2022-07-10T08:54:07.039Z"
   },
   {
    "duration": 370,
    "start_time": "2022-07-10T08:54:07.050Z"
   },
   {
    "duration": 2,
    "start_time": "2022-07-10T08:54:07.422Z"
   },
   {
    "duration": 20,
    "start_time": "2022-07-10T08:54:07.425Z"
   },
   {
    "duration": 17,
    "start_time": "2022-07-10T08:54:07.446Z"
   },
   {
    "duration": 9,
    "start_time": "2022-07-10T08:54:07.465Z"
   },
   {
    "duration": 10,
    "start_time": "2022-07-10T08:54:07.475Z"
   },
   {
    "duration": 15,
    "start_time": "2022-07-10T08:54:07.486Z"
   },
   {
    "duration": 51,
    "start_time": "2022-07-10T08:54:07.503Z"
   },
   {
    "duration": 0,
    "start_time": "2022-07-10T08:54:07.556Z"
   },
   {
    "duration": 0,
    "start_time": "2022-07-10T08:54:07.557Z"
   },
   {
    "duration": 0,
    "start_time": "2022-07-10T08:54:07.558Z"
   },
   {
    "duration": 0,
    "start_time": "2022-07-10T08:54:07.559Z"
   },
   {
    "duration": 0,
    "start_time": "2022-07-10T08:54:07.561Z"
   },
   {
    "duration": 0,
    "start_time": "2022-07-10T08:54:07.562Z"
   },
   {
    "duration": 0,
    "start_time": "2022-07-10T08:54:07.563Z"
   },
   {
    "duration": 0,
    "start_time": "2022-07-10T08:54:07.564Z"
   },
   {
    "duration": 0,
    "start_time": "2022-07-10T08:54:07.565Z"
   },
   {
    "duration": 0,
    "start_time": "2022-07-10T08:54:07.566Z"
   },
   {
    "duration": 0,
    "start_time": "2022-07-10T08:54:07.567Z"
   },
   {
    "duration": 0,
    "start_time": "2022-07-10T08:54:07.568Z"
   },
   {
    "duration": 0,
    "start_time": "2022-07-10T08:54:07.569Z"
   },
   {
    "duration": 0,
    "start_time": "2022-07-10T08:54:07.570Z"
   },
   {
    "duration": 0,
    "start_time": "2022-07-10T08:54:07.571Z"
   },
   {
    "duration": 0,
    "start_time": "2022-07-10T08:54:07.573Z"
   },
   {
    "duration": 0,
    "start_time": "2022-07-10T08:54:07.574Z"
   },
   {
    "duration": 0,
    "start_time": "2022-07-10T08:54:07.575Z"
   },
   {
    "duration": 0,
    "start_time": "2022-07-10T08:54:07.576Z"
   },
   {
    "duration": 0,
    "start_time": "2022-07-10T08:54:07.577Z"
   },
   {
    "duration": 0,
    "start_time": "2022-07-10T08:54:07.578Z"
   },
   {
    "duration": 0,
    "start_time": "2022-07-10T08:54:07.579Z"
   },
   {
    "duration": 0,
    "start_time": "2022-07-10T08:54:07.580Z"
   },
   {
    "duration": 0,
    "start_time": "2022-07-10T08:54:07.581Z"
   },
   {
    "duration": 0,
    "start_time": "2022-07-10T08:54:07.582Z"
   },
   {
    "duration": 0,
    "start_time": "2022-07-10T08:54:07.583Z"
   },
   {
    "duration": 0,
    "start_time": "2022-07-10T08:54:07.584Z"
   },
   {
    "duration": 0,
    "start_time": "2022-07-10T08:54:07.585Z"
   },
   {
    "duration": 0,
    "start_time": "2022-07-10T08:54:07.586Z"
   },
   {
    "duration": 0,
    "start_time": "2022-07-10T08:54:07.588Z"
   },
   {
    "duration": 0,
    "start_time": "2022-07-10T08:54:07.589Z"
   },
   {
    "duration": 0,
    "start_time": "2022-07-10T08:54:07.590Z"
   },
   {
    "duration": 0,
    "start_time": "2022-07-10T08:54:07.591Z"
   },
   {
    "duration": 0,
    "start_time": "2022-07-10T08:54:07.593Z"
   },
   {
    "duration": 0,
    "start_time": "2022-07-10T08:54:07.594Z"
   },
   {
    "duration": 0,
    "start_time": "2022-07-10T08:54:07.596Z"
   },
   {
    "duration": 0,
    "start_time": "2022-07-10T08:54:07.597Z"
   },
   {
    "duration": 0,
    "start_time": "2022-07-10T08:54:07.598Z"
   },
   {
    "duration": 0,
    "start_time": "2022-07-10T08:54:07.600Z"
   },
   {
    "duration": 0,
    "start_time": "2022-07-10T08:54:07.661Z"
   },
   {
    "duration": 0,
    "start_time": "2022-07-10T08:54:07.662Z"
   },
   {
    "duration": 0,
    "start_time": "2022-07-10T08:54:07.664Z"
   },
   {
    "duration": 0,
    "start_time": "2022-07-10T08:54:07.665Z"
   },
   {
    "duration": 0,
    "start_time": "2022-07-10T08:54:07.667Z"
   },
   {
    "duration": 0,
    "start_time": "2022-07-10T08:54:07.668Z"
   },
   {
    "duration": 1401,
    "start_time": "2022-07-10T08:54:22.285Z"
   },
   {
    "duration": 759,
    "start_time": "2022-07-10T08:54:23.688Z"
   },
   {
    "duration": 1504,
    "start_time": "2022-07-10T08:54:24.449Z"
   },
   {
    "duration": 7,
    "start_time": "2022-07-10T08:54:25.955Z"
   },
   {
    "duration": 6,
    "start_time": "2022-07-10T08:54:25.963Z"
   },
   {
    "duration": 555,
    "start_time": "2022-07-10T08:54:25.971Z"
   },
   {
    "duration": 115,
    "start_time": "2022-07-10T08:54:26.528Z"
   },
   {
    "duration": 43,
    "start_time": "2022-07-10T08:54:26.645Z"
   },
   {
    "duration": 280,
    "start_time": "2022-07-10T08:54:26.690Z"
   },
   {
    "duration": 359,
    "start_time": "2022-07-10T08:54:26.973Z"
   },
   {
    "duration": 949,
    "start_time": "2022-07-10T08:54:27.334Z"
   },
   {
    "duration": 81,
    "start_time": "2022-07-10T08:54:28.284Z"
   },
   {
    "duration": 32,
    "start_time": "2022-07-10T08:54:28.366Z"
   },
   {
    "duration": 89,
    "start_time": "2022-07-10T08:54:28.400Z"
   },
   {
    "duration": 596,
    "start_time": "2022-07-10T08:54:28.491Z"
   },
   {
    "duration": 587,
    "start_time": "2022-07-10T08:54:29.089Z"
   },
   {
    "duration": 135,
    "start_time": "2022-07-10T08:54:29.678Z"
   },
   {
    "duration": 130,
    "start_time": "2022-07-10T08:54:29.814Z"
   },
   {
    "duration": 30,
    "start_time": "2022-07-10T08:54:29.945Z"
   },
   {
    "duration": 3736,
    "start_time": "2022-07-10T08:54:29.977Z"
   },
   {
    "duration": 24,
    "start_time": "2022-07-10T08:54:33.715Z"
   },
   {
    "duration": 136,
    "start_time": "2022-07-10T08:54:33.740Z"
   },
   {
    "duration": 384,
    "start_time": "2022-07-10T08:54:33.878Z"
   },
   {
    "duration": 7,
    "start_time": "2022-07-10T08:54:34.264Z"
   },
   {
    "duration": 125,
    "start_time": "2022-07-10T08:54:34.272Z"
   },
   {
    "duration": 626,
    "start_time": "2022-07-10T08:54:34.399Z"
   },
   {
    "duration": 279,
    "start_time": "2022-07-10T08:54:35.027Z"
   },
   {
    "duration": 19,
    "start_time": "2022-07-10T08:54:35.312Z"
   },
   {
    "duration": 8,
    "start_time": "2022-07-10T08:54:35.333Z"
   },
   {
    "duration": 1721,
    "start_time": "2022-07-10T08:54:35.342Z"
   },
   {
    "duration": 496,
    "start_time": "2022-07-10T08:54:37.064Z"
   },
   {
    "duration": 1776,
    "start_time": "2022-07-10T08:54:37.562Z"
   },
   {
    "duration": 1650,
    "start_time": "2022-07-10T08:54:39.340Z"
   },
   {
    "duration": 1629,
    "start_time": "2022-07-10T08:54:40.992Z"
   },
   {
    "duration": 59,
    "start_time": "2022-07-10T08:54:42.623Z"
   },
   {
    "duration": 1591,
    "start_time": "2022-07-10T08:54:42.684Z"
   },
   {
    "duration": 1373,
    "start_time": "2022-07-10T08:54:44.276Z"
   },
   {
    "duration": 57,
    "start_time": "2022-07-10T08:54:45.650Z"
   },
   {
    "duration": 1558,
    "start_time": "2022-07-10T08:54:45.708Z"
   },
   {
    "duration": 3,
    "start_time": "2022-07-10T08:54:47.268Z"
   },
   {
    "duration": 26,
    "start_time": "2022-07-10T08:54:47.272Z"
   },
   {
    "duration": 75,
    "start_time": "2022-07-10T08:54:47.300Z"
   },
   {
    "duration": 47,
    "start_time": "2022-07-10T08:54:47.376Z"
   },
   {
    "duration": 10,
    "start_time": "2022-07-10T08:54:47.424Z"
   },
   {
    "duration": 63,
    "start_time": "2022-07-10T08:54:47.436Z"
   },
   {
    "duration": 44,
    "start_time": "2022-07-10T08:54:47.500Z"
   },
   {
    "duration": 0,
    "start_time": "2022-07-10T08:54:47.546Z"
   },
   {
    "duration": 0,
    "start_time": "2022-07-10T08:54:47.547Z"
   },
   {
    "duration": 0,
    "start_time": "2022-07-10T08:54:47.548Z"
   },
   {
    "duration": 1,
    "start_time": "2022-07-10T08:54:47.548Z"
   },
   {
    "duration": 0,
    "start_time": "2022-07-10T08:54:47.549Z"
   },
   {
    "duration": 0,
    "start_time": "2022-07-10T08:54:47.550Z"
   },
   {
    "duration": 0,
    "start_time": "2022-07-10T08:54:47.551Z"
   },
   {
    "duration": 0,
    "start_time": "2022-07-10T08:54:47.552Z"
   },
   {
    "duration": 0,
    "start_time": "2022-07-10T08:54:47.553Z"
   },
   {
    "duration": 0,
    "start_time": "2022-07-10T08:54:47.554Z"
   },
   {
    "duration": 0,
    "start_time": "2022-07-10T08:54:47.555Z"
   },
   {
    "duration": 0,
    "start_time": "2022-07-10T08:54:47.556Z"
   },
   {
    "duration": 1,
    "start_time": "2022-07-10T08:54:47.556Z"
   },
   {
    "duration": 0,
    "start_time": "2022-07-10T08:54:47.557Z"
   },
   {
    "duration": 0,
    "start_time": "2022-07-10T08:54:47.559Z"
   },
   {
    "duration": 0,
    "start_time": "2022-07-10T08:54:47.560Z"
   },
   {
    "duration": 0,
    "start_time": "2022-07-10T08:54:47.561Z"
   },
   {
    "duration": 0,
    "start_time": "2022-07-10T08:54:47.562Z"
   },
   {
    "duration": 0,
    "start_time": "2022-07-10T08:54:47.563Z"
   },
   {
    "duration": 0,
    "start_time": "2022-07-10T08:54:47.565Z"
   },
   {
    "duration": 0,
    "start_time": "2022-07-10T08:54:47.566Z"
   },
   {
    "duration": 0,
    "start_time": "2022-07-10T08:54:47.567Z"
   },
   {
    "duration": 0,
    "start_time": "2022-07-10T08:54:47.568Z"
   },
   {
    "duration": 0,
    "start_time": "2022-07-10T08:54:47.569Z"
   },
   {
    "duration": 0,
    "start_time": "2022-07-10T08:54:47.569Z"
   },
   {
    "duration": 0,
    "start_time": "2022-07-10T08:54:47.570Z"
   },
   {
    "duration": 0,
    "start_time": "2022-07-10T08:54:47.571Z"
   },
   {
    "duration": 0,
    "start_time": "2022-07-10T08:54:47.572Z"
   },
   {
    "duration": 0,
    "start_time": "2022-07-10T08:54:47.573Z"
   },
   {
    "duration": 0,
    "start_time": "2022-07-10T08:54:47.574Z"
   },
   {
    "duration": 0,
    "start_time": "2022-07-10T08:54:47.575Z"
   },
   {
    "duration": 0,
    "start_time": "2022-07-10T08:54:47.576Z"
   },
   {
    "duration": 0,
    "start_time": "2022-07-10T08:54:47.577Z"
   },
   {
    "duration": 0,
    "start_time": "2022-07-10T08:54:47.577Z"
   },
   {
    "duration": 0,
    "start_time": "2022-07-10T08:54:47.578Z"
   },
   {
    "duration": 0,
    "start_time": "2022-07-10T08:54:47.579Z"
   },
   {
    "duration": 0,
    "start_time": "2022-07-10T08:54:47.580Z"
   },
   {
    "duration": 0,
    "start_time": "2022-07-10T08:54:47.581Z"
   },
   {
    "duration": 0,
    "start_time": "2022-07-10T08:54:47.582Z"
   },
   {
    "duration": 0,
    "start_time": "2022-07-10T08:54:47.583Z"
   },
   {
    "duration": 0,
    "start_time": "2022-07-10T08:54:47.584Z"
   },
   {
    "duration": 0,
    "start_time": "2022-07-10T08:54:47.585Z"
   },
   {
    "duration": 0,
    "start_time": "2022-07-10T08:54:47.586Z"
   },
   {
    "duration": 0,
    "start_time": "2022-07-10T08:54:47.587Z"
   },
   {
    "duration": 0,
    "start_time": "2022-07-10T08:54:47.587Z"
   },
   {
    "duration": 1485,
    "start_time": "2022-07-10T08:55:06.506Z"
   },
   {
    "duration": 899,
    "start_time": "2022-07-10T08:55:07.993Z"
   },
   {
    "duration": 2490,
    "start_time": "2022-07-10T08:55:08.894Z"
   },
   {
    "duration": 3,
    "start_time": "2022-07-10T08:55:11.386Z"
   },
   {
    "duration": 44,
    "start_time": "2022-07-10T08:55:11.390Z"
   },
   {
    "duration": 551,
    "start_time": "2022-07-10T08:55:11.436Z"
   },
   {
    "duration": 126,
    "start_time": "2022-07-10T08:55:11.988Z"
   },
   {
    "duration": 50,
    "start_time": "2022-07-10T08:55:12.116Z"
   },
   {
    "duration": 274,
    "start_time": "2022-07-10T08:55:12.168Z"
   },
   {
    "duration": 391,
    "start_time": "2022-07-10T08:55:12.445Z"
   },
   {
    "duration": 854,
    "start_time": "2022-07-10T08:55:12.838Z"
   },
   {
    "duration": 33,
    "start_time": "2022-07-10T08:55:13.694Z"
   },
   {
    "duration": 79,
    "start_time": "2022-07-10T08:55:13.728Z"
   },
   {
    "duration": 62,
    "start_time": "2022-07-10T08:55:13.809Z"
   },
   {
    "duration": 311,
    "start_time": "2022-07-10T08:55:13.872Z"
   },
   {
    "duration": 285,
    "start_time": "2022-07-10T08:55:14.185Z"
   },
   {
    "duration": 96,
    "start_time": "2022-07-10T08:55:14.472Z"
   },
   {
    "duration": 127,
    "start_time": "2022-07-10T08:55:14.570Z"
   },
   {
    "duration": 26,
    "start_time": "2022-07-10T08:55:14.699Z"
   },
   {
    "duration": 3762,
    "start_time": "2022-07-10T08:55:14.727Z"
   },
   {
    "duration": 24,
    "start_time": "2022-07-10T08:55:18.491Z"
   },
   {
    "duration": 138,
    "start_time": "2022-07-10T08:55:18.516Z"
   },
   {
    "duration": 393,
    "start_time": "2022-07-10T08:55:18.660Z"
   },
   {
    "duration": 8,
    "start_time": "2022-07-10T08:55:19.055Z"
   },
   {
    "duration": 122,
    "start_time": "2022-07-10T08:55:19.065Z"
   },
   {
    "duration": 608,
    "start_time": "2022-07-10T08:55:19.188Z"
   },
   {
    "duration": 280,
    "start_time": "2022-07-10T08:55:19.798Z"
   },
   {
    "duration": 16,
    "start_time": "2022-07-10T08:55:20.081Z"
   },
   {
    "duration": 10,
    "start_time": "2022-07-10T08:55:20.099Z"
   },
   {
    "duration": 1638,
    "start_time": "2022-07-10T08:55:20.110Z"
   },
   {
    "duration": 403,
    "start_time": "2022-07-10T08:55:21.749Z"
   },
   {
    "duration": 1682,
    "start_time": "2022-07-10T08:55:22.153Z"
   },
   {
    "duration": 1816,
    "start_time": "2022-07-10T08:55:23.837Z"
   },
   {
    "duration": 1693,
    "start_time": "2022-07-10T08:55:25.655Z"
   },
   {
    "duration": 57,
    "start_time": "2022-07-10T08:55:27.349Z"
   },
   {
    "duration": 1661,
    "start_time": "2022-07-10T08:55:27.407Z"
   },
   {
    "duration": 1446,
    "start_time": "2022-07-10T08:55:29.070Z"
   },
   {
    "duration": 56,
    "start_time": "2022-07-10T08:55:30.518Z"
   },
   {
    "duration": 1516,
    "start_time": "2022-07-10T08:55:30.576Z"
   },
   {
    "duration": 3,
    "start_time": "2022-07-10T08:55:32.094Z"
   },
   {
    "duration": 18,
    "start_time": "2022-07-10T08:55:32.099Z"
   },
   {
    "duration": 82,
    "start_time": "2022-07-10T08:55:32.119Z"
   },
   {
    "duration": 46,
    "start_time": "2022-07-10T08:55:32.203Z"
   },
   {
    "duration": 15,
    "start_time": "2022-07-10T08:55:32.251Z"
   },
   {
    "duration": 51,
    "start_time": "2022-07-10T08:55:32.268Z"
   },
   {
    "duration": 45,
    "start_time": "2022-07-10T08:55:32.321Z"
   },
   {
    "duration": 0,
    "start_time": "2022-07-10T08:55:32.368Z"
   },
   {
    "duration": 0,
    "start_time": "2022-07-10T08:55:32.369Z"
   },
   {
    "duration": 0,
    "start_time": "2022-07-10T08:55:32.370Z"
   },
   {
    "duration": 0,
    "start_time": "2022-07-10T08:55:32.371Z"
   },
   {
    "duration": 0,
    "start_time": "2022-07-10T08:55:32.372Z"
   },
   {
    "duration": 0,
    "start_time": "2022-07-10T08:55:32.373Z"
   },
   {
    "duration": 1,
    "start_time": "2022-07-10T08:55:32.374Z"
   },
   {
    "duration": 0,
    "start_time": "2022-07-10T08:55:32.376Z"
   },
   {
    "duration": 0,
    "start_time": "2022-07-10T08:55:32.377Z"
   },
   {
    "duration": 0,
    "start_time": "2022-07-10T08:55:32.378Z"
   },
   {
    "duration": 0,
    "start_time": "2022-07-10T08:55:32.379Z"
   },
   {
    "duration": 0,
    "start_time": "2022-07-10T08:55:32.380Z"
   },
   {
    "duration": 0,
    "start_time": "2022-07-10T08:55:32.381Z"
   },
   {
    "duration": 0,
    "start_time": "2022-07-10T08:55:32.382Z"
   },
   {
    "duration": 0,
    "start_time": "2022-07-10T08:55:32.383Z"
   },
   {
    "duration": 0,
    "start_time": "2022-07-10T08:55:32.384Z"
   },
   {
    "duration": 0,
    "start_time": "2022-07-10T08:55:32.385Z"
   },
   {
    "duration": 0,
    "start_time": "2022-07-10T08:55:32.386Z"
   },
   {
    "duration": 0,
    "start_time": "2022-07-10T08:55:32.387Z"
   },
   {
    "duration": 0,
    "start_time": "2022-07-10T08:55:32.388Z"
   },
   {
    "duration": 0,
    "start_time": "2022-07-10T08:55:32.389Z"
   },
   {
    "duration": 0,
    "start_time": "2022-07-10T08:55:32.391Z"
   },
   {
    "duration": 0,
    "start_time": "2022-07-10T08:55:32.392Z"
   },
   {
    "duration": 0,
    "start_time": "2022-07-10T08:55:32.393Z"
   },
   {
    "duration": 0,
    "start_time": "2022-07-10T08:55:32.394Z"
   },
   {
    "duration": 0,
    "start_time": "2022-07-10T08:55:32.395Z"
   },
   {
    "duration": 0,
    "start_time": "2022-07-10T08:55:32.396Z"
   },
   {
    "duration": 0,
    "start_time": "2022-07-10T08:55:32.397Z"
   },
   {
    "duration": 0,
    "start_time": "2022-07-10T08:55:32.398Z"
   },
   {
    "duration": 0,
    "start_time": "2022-07-10T08:55:32.399Z"
   },
   {
    "duration": 0,
    "start_time": "2022-07-10T08:55:32.400Z"
   },
   {
    "duration": 0,
    "start_time": "2022-07-10T08:55:32.401Z"
   },
   {
    "duration": 0,
    "start_time": "2022-07-10T08:55:32.402Z"
   },
   {
    "duration": 0,
    "start_time": "2022-07-10T08:55:32.403Z"
   },
   {
    "duration": 0,
    "start_time": "2022-07-10T08:55:32.404Z"
   },
   {
    "duration": 0,
    "start_time": "2022-07-10T08:55:32.460Z"
   },
   {
    "duration": 0,
    "start_time": "2022-07-10T08:55:32.462Z"
   },
   {
    "duration": 0,
    "start_time": "2022-07-10T08:55:32.463Z"
   },
   {
    "duration": 0,
    "start_time": "2022-07-10T08:55:32.464Z"
   },
   {
    "duration": 0,
    "start_time": "2022-07-10T08:55:32.466Z"
   },
   {
    "duration": 0,
    "start_time": "2022-07-10T08:55:32.467Z"
   },
   {
    "duration": 0,
    "start_time": "2022-07-10T08:55:32.468Z"
   },
   {
    "duration": 0,
    "start_time": "2022-07-10T08:55:32.469Z"
   },
   {
    "duration": 0,
    "start_time": "2022-07-10T08:55:32.470Z"
   },
   {
    "duration": 0,
    "start_time": "2022-07-10T08:55:32.471Z"
   },
   {
    "duration": 62,
    "start_time": "2022-07-11T12:26:34.109Z"
   },
   {
    "duration": 1879,
    "start_time": "2022-07-11T12:30:54.010Z"
   },
   {
    "duration": 1313,
    "start_time": "2022-07-11T12:30:55.891Z"
   },
   {
    "duration": 1835,
    "start_time": "2022-07-11T12:30:57.207Z"
   },
   {
    "duration": 5,
    "start_time": "2022-07-11T12:30:59.045Z"
   },
   {
    "duration": 15,
    "start_time": "2022-07-11T12:30:59.052Z"
   },
   {
    "duration": 643,
    "start_time": "2022-07-11T12:30:59.070Z"
   },
   {
    "duration": 143,
    "start_time": "2022-07-11T12:30:59.715Z"
   },
   {
    "duration": 36,
    "start_time": "2022-07-11T12:30:59.860Z"
   },
   {
    "duration": 310,
    "start_time": "2022-07-11T12:30:59.898Z"
   },
   {
    "duration": 503,
    "start_time": "2022-07-11T12:31:00.211Z"
   },
   {
    "duration": 1090,
    "start_time": "2022-07-11T12:31:00.716Z"
   },
   {
    "duration": 45,
    "start_time": "2022-07-11T12:31:01.808Z"
   },
   {
    "duration": 33,
    "start_time": "2022-07-11T12:31:01.854Z"
   },
   {
    "duration": 58,
    "start_time": "2022-07-11T12:31:01.889Z"
   },
   {
    "duration": 320,
    "start_time": "2022-07-11T12:31:01.950Z"
   },
   {
    "duration": 340,
    "start_time": "2022-07-11T12:31:02.272Z"
   },
   {
    "duration": 91,
    "start_time": "2022-07-11T12:31:02.613Z"
   },
   {
    "duration": 145,
    "start_time": "2022-07-11T12:31:02.706Z"
   },
   {
    "duration": 30,
    "start_time": "2022-07-11T12:31:02.854Z"
   },
   {
    "duration": 4641,
    "start_time": "2022-07-11T12:31:02.886Z"
   },
   {
    "duration": 32,
    "start_time": "2022-07-11T12:31:07.529Z"
   },
   {
    "duration": 155,
    "start_time": "2022-07-11T12:31:07.563Z"
   },
   {
    "duration": 452,
    "start_time": "2022-07-11T12:31:07.723Z"
   },
   {
    "duration": 8,
    "start_time": "2022-07-11T12:31:08.177Z"
   },
   {
    "duration": 133,
    "start_time": "2022-07-11T12:31:08.187Z"
   },
   {
    "duration": 861,
    "start_time": "2022-07-11T12:31:08.322Z"
   },
   {
    "duration": 281,
    "start_time": "2022-07-11T12:31:09.186Z"
   },
   {
    "duration": 19,
    "start_time": "2022-07-11T12:31:09.473Z"
   },
   {
    "duration": 10,
    "start_time": "2022-07-11T12:31:09.494Z"
   },
   {
    "duration": 2040,
    "start_time": "2022-07-11T12:31:09.506Z"
   },
   {
    "duration": 513,
    "start_time": "2022-07-11T12:31:11.548Z"
   },
   {
    "duration": 1992,
    "start_time": "2022-07-11T12:31:12.062Z"
   },
   {
    "duration": 2022,
    "start_time": "2022-07-11T12:31:14.057Z"
   },
   {
    "duration": 1788,
    "start_time": "2022-07-11T12:31:16.081Z"
   },
   {
    "duration": 76,
    "start_time": "2022-07-11T12:31:17.871Z"
   },
   {
    "duration": 1848,
    "start_time": "2022-07-11T12:31:17.949Z"
   },
   {
    "duration": 1611,
    "start_time": "2022-07-11T12:31:19.800Z"
   },
   {
    "duration": 60,
    "start_time": "2022-07-11T12:31:21.414Z"
   },
   {
    "duration": 1811,
    "start_time": "2022-07-11T12:31:21.475Z"
   },
   {
    "duration": 1140,
    "start_time": "2022-07-11T12:31:23.289Z"
   },
   {
    "duration": 19,
    "start_time": "2022-07-11T12:31:24.436Z"
   },
   {
    "duration": 54,
    "start_time": "2022-07-11T12:31:24.457Z"
   },
   {
    "duration": 53,
    "start_time": "2022-07-11T12:31:24.513Z"
   },
   {
    "duration": 12,
    "start_time": "2022-07-11T12:31:24.568Z"
   },
   {
    "duration": 33,
    "start_time": "2022-07-11T12:31:24.582Z"
   },
   {
    "duration": 180,
    "start_time": "2022-07-11T12:31:24.617Z"
   },
   {
    "duration": 29,
    "start_time": "2022-07-11T12:31:24.799Z"
   },
   {
    "duration": 25,
    "start_time": "2022-07-11T12:31:24.830Z"
   },
   {
    "duration": 263,
    "start_time": "2022-07-11T12:31:24.857Z"
   },
   {
    "duration": 86,
    "start_time": "2022-07-11T12:31:25.121Z"
   },
   {
    "duration": 12,
    "start_time": "2022-07-11T12:31:25.208Z"
   },
   {
    "duration": 0,
    "start_time": "2022-07-11T12:31:25.222Z"
   },
   {
    "duration": 0,
    "start_time": "2022-07-11T12:31:25.224Z"
   },
   {
    "duration": 0,
    "start_time": "2022-07-11T12:31:25.225Z"
   },
   {
    "duration": 0,
    "start_time": "2022-07-11T12:31:25.225Z"
   },
   {
    "duration": 0,
    "start_time": "2022-07-11T12:31:25.226Z"
   },
   {
    "duration": 0,
    "start_time": "2022-07-11T12:31:25.227Z"
   },
   {
    "duration": 0,
    "start_time": "2022-07-11T12:31:25.228Z"
   },
   {
    "duration": 0,
    "start_time": "2022-07-11T12:31:25.229Z"
   },
   {
    "duration": 0,
    "start_time": "2022-07-11T12:31:25.229Z"
   },
   {
    "duration": 0,
    "start_time": "2022-07-11T12:31:25.230Z"
   },
   {
    "duration": 0,
    "start_time": "2022-07-11T12:31:25.231Z"
   },
   {
    "duration": 0,
    "start_time": "2022-07-11T12:31:25.231Z"
   },
   {
    "duration": 0,
    "start_time": "2022-07-11T12:31:25.234Z"
   },
   {
    "duration": 0,
    "start_time": "2022-07-11T12:31:25.235Z"
   },
   {
    "duration": 0,
    "start_time": "2022-07-11T12:31:25.236Z"
   },
   {
    "duration": 0,
    "start_time": "2022-07-11T12:31:25.241Z"
   },
   {
    "duration": 0,
    "start_time": "2022-07-11T12:31:25.243Z"
   },
   {
    "duration": 0,
    "start_time": "2022-07-11T12:31:25.244Z"
   },
   {
    "duration": 0,
    "start_time": "2022-07-11T12:31:25.246Z"
   },
   {
    "duration": 0,
    "start_time": "2022-07-11T12:31:25.247Z"
   },
   {
    "duration": 0,
    "start_time": "2022-07-11T12:31:25.249Z"
   },
   {
    "duration": 0,
    "start_time": "2022-07-11T12:31:25.250Z"
   },
   {
    "duration": 0,
    "start_time": "2022-07-11T12:31:25.252Z"
   },
   {
    "duration": 0,
    "start_time": "2022-07-11T12:31:25.254Z"
   },
   {
    "duration": 0,
    "start_time": "2022-07-11T12:31:25.255Z"
   },
   {
    "duration": 0,
    "start_time": "2022-07-11T12:31:25.256Z"
   },
   {
    "duration": 0,
    "start_time": "2022-07-11T12:31:25.257Z"
   },
   {
    "duration": 0,
    "start_time": "2022-07-11T12:31:25.258Z"
   },
   {
    "duration": 0,
    "start_time": "2022-07-11T12:31:25.259Z"
   },
   {
    "duration": 0,
    "start_time": "2022-07-11T12:31:25.260Z"
   },
   {
    "duration": 0,
    "start_time": "2022-07-11T12:31:25.261Z"
   },
   {
    "duration": 0,
    "start_time": "2022-07-11T12:31:25.263Z"
   },
   {
    "duration": 0,
    "start_time": "2022-07-11T12:31:25.264Z"
   },
   {
    "duration": 0,
    "start_time": "2022-07-11T12:31:25.265Z"
   },
   {
    "duration": 0,
    "start_time": "2022-07-11T12:31:25.266Z"
   },
   {
    "duration": 0,
    "start_time": "2022-07-11T12:31:25.267Z"
   },
   {
    "duration": 0,
    "start_time": "2022-07-11T12:31:25.268Z"
   },
   {
    "duration": 0,
    "start_time": "2022-07-11T12:31:25.269Z"
   },
   {
    "duration": 0,
    "start_time": "2022-07-11T12:31:25.270Z"
   },
   {
    "duration": 0,
    "start_time": "2022-07-11T12:31:25.271Z"
   },
   {
    "duration": 1817,
    "start_time": "2022-07-11T12:36:12.630Z"
   },
   {
    "duration": 971,
    "start_time": "2022-07-11T12:36:14.449Z"
   },
   {
    "duration": 3044,
    "start_time": "2022-07-11T12:36:15.422Z"
   },
   {
    "duration": 63,
    "start_time": "2022-07-11T12:36:18.470Z"
   },
   {
    "duration": 32,
    "start_time": "2022-07-11T12:36:18.537Z"
   },
   {
    "duration": 604,
    "start_time": "2022-07-11T12:36:18.570Z"
   },
   {
    "duration": 180,
    "start_time": "2022-07-11T12:36:19.177Z"
   },
   {
    "duration": 35,
    "start_time": "2022-07-11T12:36:19.359Z"
   },
   {
    "duration": 274,
    "start_time": "2022-07-11T12:36:19.397Z"
   },
   {
    "duration": 476,
    "start_time": "2022-07-11T12:36:19.673Z"
   },
   {
    "duration": 1012,
    "start_time": "2022-07-11T12:36:20.151Z"
   },
   {
    "duration": 31,
    "start_time": "2022-07-11T12:36:21.165Z"
   },
   {
    "duration": 53,
    "start_time": "2022-07-11T12:36:21.198Z"
   },
   {
    "duration": 33,
    "start_time": "2022-07-11T12:36:21.253Z"
   },
   {
    "duration": 315,
    "start_time": "2022-07-11T12:36:21.287Z"
   },
   {
    "duration": 293,
    "start_time": "2022-07-11T12:36:21.603Z"
   },
   {
    "duration": 91,
    "start_time": "2022-07-11T12:36:21.898Z"
   },
   {
    "duration": 110,
    "start_time": "2022-07-11T12:36:21.990Z"
   },
   {
    "duration": 39,
    "start_time": "2022-07-11T12:36:22.102Z"
   },
   {
    "duration": 4467,
    "start_time": "2022-07-11T12:36:22.143Z"
   },
   {
    "duration": 36,
    "start_time": "2022-07-11T12:36:26.611Z"
   },
   {
    "duration": 134,
    "start_time": "2022-07-11T12:36:26.649Z"
   },
   {
    "duration": 464,
    "start_time": "2022-07-11T12:36:26.785Z"
   },
   {
    "duration": 9,
    "start_time": "2022-07-11T12:36:27.252Z"
   },
   {
    "duration": 135,
    "start_time": "2022-07-11T12:36:27.263Z"
   },
   {
    "duration": 651,
    "start_time": "2022-07-11T12:36:27.400Z"
   },
   {
    "duration": 331,
    "start_time": "2022-07-11T12:36:28.053Z"
   },
   {
    "duration": 18,
    "start_time": "2022-07-11T12:36:28.390Z"
   },
   {
    "duration": 26,
    "start_time": "2022-07-11T12:36:28.410Z"
   },
   {
    "duration": 2047,
    "start_time": "2022-07-11T12:36:28.438Z"
   },
   {
    "duration": 560,
    "start_time": "2022-07-11T12:36:30.487Z"
   },
   {
    "duration": 1910,
    "start_time": "2022-07-11T12:36:31.049Z"
   },
   {
    "duration": 1982,
    "start_time": "2022-07-11T12:36:32.961Z"
   },
   {
    "duration": 1744,
    "start_time": "2022-07-11T12:36:34.945Z"
   },
   {
    "duration": 61,
    "start_time": "2022-07-11T12:36:36.690Z"
   },
   {
    "duration": 1738,
    "start_time": "2022-07-11T12:36:36.752Z"
   },
   {
    "duration": 1763,
    "start_time": "2022-07-11T12:36:38.492Z"
   },
   {
    "duration": 51,
    "start_time": "2022-07-11T12:36:40.257Z"
   },
   {
    "duration": 1685,
    "start_time": "2022-07-11T12:36:40.310Z"
   },
   {
    "duration": 1498,
    "start_time": "2022-07-11T12:36:41.997Z"
   },
   {
    "duration": 30,
    "start_time": "2022-07-11T12:36:43.497Z"
   },
   {
    "duration": 53,
    "start_time": "2022-07-11T12:36:43.529Z"
   },
   {
    "duration": 54,
    "start_time": "2022-07-11T12:36:43.584Z"
   },
   {
    "duration": 12,
    "start_time": "2022-07-11T12:36:43.641Z"
   },
   {
    "duration": 26,
    "start_time": "2022-07-11T12:36:43.655Z"
   },
   {
    "duration": 136,
    "start_time": "2022-07-11T12:36:43.683Z"
   },
   {
    "duration": 22,
    "start_time": "2022-07-11T12:36:43.823Z"
   },
   {
    "duration": 5,
    "start_time": "2022-07-11T12:36:43.847Z"
   },
   {
    "duration": 232,
    "start_time": "2022-07-11T12:36:43.853Z"
   },
   {
    "duration": 13,
    "start_time": "2022-07-11T12:36:44.087Z"
   },
   {
    "duration": 38,
    "start_time": "2022-07-11T12:36:44.102Z"
   },
   {
    "duration": 12320,
    "start_time": "2022-07-11T12:36:44.142Z"
   },
   {
    "duration": 145,
    "start_time": "2022-07-11T12:36:56.464Z"
   },
   {
    "duration": 35,
    "start_time": "2022-07-11T12:36:56.611Z"
   },
   {
    "duration": 107,
    "start_time": "2022-07-11T12:36:56.649Z"
   },
   {
    "duration": 106,
    "start_time": "2022-07-11T12:36:56.824Z"
   },
   {
    "duration": 121,
    "start_time": "2022-07-11T12:36:56.932Z"
   },
   {
    "duration": 9786,
    "start_time": "2022-07-11T12:36:57.054Z"
   },
   {
    "duration": 219,
    "start_time": "2022-07-11T12:37:06.846Z"
   },
   {
    "duration": 115,
    "start_time": "2022-07-11T12:37:07.125Z"
   },
   {
    "duration": 181,
    "start_time": "2022-07-11T12:37:07.247Z"
   },
   {
    "duration": 25,
    "start_time": "2022-07-11T12:37:07.431Z"
   },
   {
    "duration": 150,
    "start_time": "2022-07-11T12:37:07.534Z"
   },
   {
    "duration": 59650,
    "start_time": "2022-07-11T12:37:07.686Z"
   },
   {
    "duration": 205,
    "start_time": "2022-07-11T12:38:07.338Z"
   },
   {
    "duration": 203,
    "start_time": "2022-07-11T12:38:07.548Z"
   },
   {
    "duration": 578,
    "start_time": "2022-07-11T12:38:07.753Z"
   },
   {
    "duration": 10,
    "start_time": "2022-07-11T12:38:08.333Z"
   },
   {
    "duration": 230,
    "start_time": "2022-07-11T12:38:08.345Z"
   },
   {
    "duration": 34326,
    "start_time": "2022-07-11T12:38:08.577Z"
   },
   {
    "duration": 89,
    "start_time": "2022-07-11T12:38:42.904Z"
   },
   {
    "duration": 29,
    "start_time": "2022-07-11T12:38:42.995Z"
   },
   {
    "duration": 1208,
    "start_time": "2022-07-11T12:38:43.026Z"
   },
   {
    "duration": 91,
    "start_time": "2022-07-11T12:38:44.236Z"
   },
   {
    "duration": 28,
    "start_time": "2022-07-11T12:38:44.337Z"
   },
   {
    "duration": 157421,
    "start_time": "2022-07-11T12:38:44.368Z"
   },
   {
    "duration": 257,
    "start_time": "2022-07-11T12:41:21.791Z"
   },
   {
    "duration": 86,
    "start_time": "2022-07-11T12:41:22.050Z"
   },
   {
    "duration": 35,
    "start_time": "2022-07-11T12:41:22.137Z"
   },
   {
    "duration": 26,
    "start_time": "2022-07-11T12:41:22.173Z"
   },
   {
    "duration": 98,
    "start_time": "2022-07-11T12:41:22.201Z"
   },
   {
    "duration": 66,
    "start_time": "2022-07-11T12:41:22.305Z"
   },
   {
    "duration": 45897,
    "start_time": "2022-07-11T12:41:22.373Z"
   },
   {
    "duration": 90,
    "start_time": "2022-07-11T12:42:08.273Z"
   },
   {
    "duration": 16,
    "start_time": "2022-07-11T12:42:08.365Z"
   },
   {
    "duration": 2652,
    "start_time": "2022-07-11T12:42:08.383Z"
   },
   {
    "duration": 92,
    "start_time": "2022-07-11T12:42:11.043Z"
   },
   {
    "duration": 19,
    "start_time": "2022-07-11T12:42:11.140Z"
   },
   {
    "duration": 204268,
    "start_time": "2022-07-11T12:42:11.161Z"
   },
   {
    "duration": 297,
    "start_time": "2022-07-11T12:45:35.435Z"
   },
   {
    "duration": 29,
    "start_time": "2022-07-11T12:45:35.734Z"
   },
   {
    "duration": 5287,
    "start_time": "2022-07-11T12:57:23.295Z"
   },
   {
    "duration": 1064,
    "start_time": "2022-07-11T12:57:28.585Z"
   },
   {
    "duration": 2055,
    "start_time": "2022-07-11T12:57:29.651Z"
   },
   {
    "duration": 5,
    "start_time": "2022-07-11T12:57:31.708Z"
   },
   {
    "duration": 4,
    "start_time": "2022-07-11T12:57:31.723Z"
   },
   {
    "duration": 585,
    "start_time": "2022-07-11T12:57:31.729Z"
   },
   {
    "duration": 151,
    "start_time": "2022-07-11T12:57:32.316Z"
   },
   {
    "duration": 56,
    "start_time": "2022-07-11T12:57:32.469Z"
   },
   {
    "duration": 359,
    "start_time": "2022-07-11T12:57:32.530Z"
   },
   {
    "duration": 511,
    "start_time": "2022-07-11T12:57:32.892Z"
   },
   {
    "duration": 1078,
    "start_time": "2022-07-11T12:57:33.405Z"
   },
   {
    "duration": 49,
    "start_time": "2022-07-11T12:57:34.485Z"
   },
   {
    "duration": 49,
    "start_time": "2022-07-11T12:57:34.542Z"
   },
   {
    "duration": 64,
    "start_time": "2022-07-11T12:57:34.594Z"
   },
   {
    "duration": 352,
    "start_time": "2022-07-11T12:57:34.660Z"
   },
   {
    "duration": 393,
    "start_time": "2022-07-11T12:57:35.013Z"
   },
   {
    "duration": 103,
    "start_time": "2022-07-11T12:57:35.408Z"
   },
   {
    "duration": 117,
    "start_time": "2022-07-11T12:57:35.513Z"
   },
   {
    "duration": 33,
    "start_time": "2022-07-11T12:57:35.637Z"
   },
   {
    "duration": 5216,
    "start_time": "2022-07-11T12:57:35.672Z"
   },
   {
    "duration": 33,
    "start_time": "2022-07-11T12:57:40.890Z"
   },
   {
    "duration": 162,
    "start_time": "2022-07-11T12:57:40.932Z"
   },
   {
    "duration": 543,
    "start_time": "2022-07-11T12:57:41.096Z"
   },
   {
    "duration": 10,
    "start_time": "2022-07-11T12:57:41.641Z"
   },
   {
    "duration": 139,
    "start_time": "2022-07-11T12:57:41.653Z"
   },
   {
    "duration": 768,
    "start_time": "2022-07-11T12:57:41.794Z"
   },
   {
    "duration": 381,
    "start_time": "2022-07-11T12:57:42.563Z"
   },
   {
    "duration": 25,
    "start_time": "2022-07-11T12:57:42.950Z"
   },
   {
    "duration": 25,
    "start_time": "2022-07-11T12:57:42.977Z"
   },
   {
    "duration": 2196,
    "start_time": "2022-07-11T12:57:43.004Z"
   },
   {
    "duration": 506,
    "start_time": "2022-07-11T12:57:45.202Z"
   },
   {
    "duration": 2165,
    "start_time": "2022-07-11T12:57:45.710Z"
   },
   {
    "duration": 2235,
    "start_time": "2022-07-11T12:57:47.877Z"
   },
   {
    "duration": 2027,
    "start_time": "2022-07-11T12:57:50.114Z"
   },
   {
    "duration": 81,
    "start_time": "2022-07-11T12:57:52.144Z"
   },
   {
    "duration": 2034,
    "start_time": "2022-07-11T12:57:52.229Z"
   },
   {
    "duration": 1784,
    "start_time": "2022-07-11T12:57:54.267Z"
   },
   {
    "duration": 79,
    "start_time": "2022-07-11T12:57:56.057Z"
   },
   {
    "duration": 1940,
    "start_time": "2022-07-11T12:57:56.138Z"
   },
   {
    "duration": 1659,
    "start_time": "2022-07-11T12:57:58.080Z"
   },
   {
    "duration": 22,
    "start_time": "2022-07-11T12:57:59.742Z"
   },
   {
    "duration": 79,
    "start_time": "2022-07-11T12:57:59.767Z"
   },
   {
    "duration": 49,
    "start_time": "2022-07-11T12:57:59.849Z"
   },
   {
    "duration": 27,
    "start_time": "2022-07-11T12:57:59.900Z"
   },
   {
    "duration": 37,
    "start_time": "2022-07-11T12:57:59.936Z"
   },
   {
    "duration": 145,
    "start_time": "2022-07-11T12:57:59.975Z"
   },
   {
    "duration": 24,
    "start_time": "2022-07-11T12:58:00.122Z"
   },
   {
    "duration": 18,
    "start_time": "2022-07-11T12:58:00.147Z"
   },
   {
    "duration": 242,
    "start_time": "2022-07-11T12:58:00.167Z"
   },
   {
    "duration": 27,
    "start_time": "2022-07-11T12:58:00.411Z"
   },
   {
    "duration": 51,
    "start_time": "2022-07-11T12:58:00.442Z"
   },
   {
    "duration": 61,
    "start_time": "2022-07-11T12:58:00.495Z"
   },
   {
    "duration": 0,
    "start_time": "2022-07-11T12:58:00.558Z"
   },
   {
    "duration": 0,
    "start_time": "2022-07-11T12:58:00.560Z"
   },
   {
    "duration": 0,
    "start_time": "2022-07-11T12:58:00.561Z"
   },
   {
    "duration": 0,
    "start_time": "2022-07-11T12:58:00.562Z"
   },
   {
    "duration": 0,
    "start_time": "2022-07-11T12:58:00.564Z"
   },
   {
    "duration": 0,
    "start_time": "2022-07-11T12:58:00.566Z"
   },
   {
    "duration": 0,
    "start_time": "2022-07-11T12:58:00.567Z"
   },
   {
    "duration": 0,
    "start_time": "2022-07-11T12:58:00.569Z"
   },
   {
    "duration": 0,
    "start_time": "2022-07-11T12:58:00.570Z"
   },
   {
    "duration": 0,
    "start_time": "2022-07-11T12:58:00.572Z"
   },
   {
    "duration": 0,
    "start_time": "2022-07-11T12:58:00.574Z"
   },
   {
    "duration": 0,
    "start_time": "2022-07-11T12:58:00.577Z"
   },
   {
    "duration": 0,
    "start_time": "2022-07-11T12:58:00.579Z"
   },
   {
    "duration": 0,
    "start_time": "2022-07-11T12:58:00.581Z"
   },
   {
    "duration": 0,
    "start_time": "2022-07-11T12:58:00.582Z"
   },
   {
    "duration": 0,
    "start_time": "2022-07-11T12:58:00.584Z"
   },
   {
    "duration": 0,
    "start_time": "2022-07-11T12:58:00.585Z"
   },
   {
    "duration": 0,
    "start_time": "2022-07-11T12:58:00.587Z"
   },
   {
    "duration": 0,
    "start_time": "2022-07-11T12:58:00.588Z"
   },
   {
    "duration": 0,
    "start_time": "2022-07-11T12:58:00.589Z"
   },
   {
    "duration": 0,
    "start_time": "2022-07-11T12:58:00.592Z"
   },
   {
    "duration": 0,
    "start_time": "2022-07-11T12:58:00.594Z"
   },
   {
    "duration": 0,
    "start_time": "2022-07-11T12:58:00.595Z"
   },
   {
    "duration": 0,
    "start_time": "2022-07-11T12:58:00.597Z"
   },
   {
    "duration": 0,
    "start_time": "2022-07-11T12:58:00.623Z"
   },
   {
    "duration": 0,
    "start_time": "2022-07-11T12:58:00.625Z"
   },
   {
    "duration": 0,
    "start_time": "2022-07-11T12:58:00.628Z"
   },
   {
    "duration": 0,
    "start_time": "2022-07-11T12:58:00.629Z"
   },
   {
    "duration": 0,
    "start_time": "2022-07-11T12:58:00.630Z"
   },
   {
    "duration": 0,
    "start_time": "2022-07-11T12:58:00.632Z"
   },
   {
    "duration": 0,
    "start_time": "2022-07-11T12:58:00.633Z"
   },
   {
    "duration": 0,
    "start_time": "2022-07-11T12:58:00.634Z"
   },
   {
    "duration": 0,
    "start_time": "2022-07-11T12:58:00.636Z"
   },
   {
    "duration": 0,
    "start_time": "2022-07-11T12:58:00.637Z"
   },
   {
    "duration": 0,
    "start_time": "2022-07-11T12:58:00.639Z"
   },
   {
    "duration": 0,
    "start_time": "2022-07-11T12:58:00.640Z"
   },
   {
    "duration": 1,
    "start_time": "2022-07-11T12:58:00.641Z"
   },
   {
    "duration": 0,
    "start_time": "2022-07-11T12:58:00.643Z"
   },
   {
    "duration": 0,
    "start_time": "2022-07-11T12:58:00.644Z"
   },
   {
    "duration": 0,
    "start_time": "2022-07-11T12:58:00.646Z"
   },
   {
    "duration": 6158,
    "start_time": "2022-07-11T12:58:25.097Z"
   },
   {
    "duration": 959,
    "start_time": "2022-07-11T12:58:31.258Z"
   },
   {
    "duration": 1935,
    "start_time": "2022-07-11T12:58:32.219Z"
   },
   {
    "duration": 5,
    "start_time": "2022-07-11T12:58:34.156Z"
   },
   {
    "duration": 12,
    "start_time": "2022-07-11T12:58:34.163Z"
   },
   {
    "duration": 580,
    "start_time": "2022-07-11T12:58:34.176Z"
   },
   {
    "duration": 128,
    "start_time": "2022-07-11T12:58:34.758Z"
   },
   {
    "duration": 61,
    "start_time": "2022-07-11T12:58:34.888Z"
   },
   {
    "duration": 274,
    "start_time": "2022-07-11T12:58:34.952Z"
   },
   {
    "duration": 448,
    "start_time": "2022-07-11T12:58:35.237Z"
   },
   {
    "duration": 1065,
    "start_time": "2022-07-11T12:58:35.687Z"
   },
   {
    "duration": 34,
    "start_time": "2022-07-11T12:58:36.754Z"
   },
   {
    "duration": 59,
    "start_time": "2022-07-11T12:58:36.790Z"
   },
   {
    "duration": 32,
    "start_time": "2022-07-11T12:58:36.851Z"
   },
   {
    "duration": 328,
    "start_time": "2022-07-11T12:58:36.885Z"
   },
   {
    "duration": 330,
    "start_time": "2022-07-11T12:58:37.215Z"
   },
   {
    "duration": 89,
    "start_time": "2022-07-11T12:58:37.548Z"
   },
   {
    "duration": 103,
    "start_time": "2022-07-11T12:58:37.644Z"
   },
   {
    "duration": 26,
    "start_time": "2022-07-11T12:58:37.749Z"
   },
   {
    "duration": 4945,
    "start_time": "2022-07-11T12:58:37.777Z"
   },
   {
    "duration": 36,
    "start_time": "2022-07-11T12:58:42.729Z"
   },
   {
    "duration": 146,
    "start_time": "2022-07-11T12:58:42.767Z"
   },
   {
    "duration": 499,
    "start_time": "2022-07-11T12:58:42.915Z"
   },
   {
    "duration": 16,
    "start_time": "2022-07-11T12:58:43.416Z"
   },
   {
    "duration": 154,
    "start_time": "2022-07-11T12:58:43.435Z"
   },
   {
    "duration": 753,
    "start_time": "2022-07-11T12:58:43.590Z"
   },
   {
    "duration": 364,
    "start_time": "2022-07-11T12:58:44.345Z"
   },
   {
    "duration": 25,
    "start_time": "2022-07-11T12:58:44.714Z"
   },
   {
    "duration": 13,
    "start_time": "2022-07-11T12:58:44.740Z"
   },
   {
    "duration": 2255,
    "start_time": "2022-07-11T12:58:44.755Z"
   },
   {
    "duration": 564,
    "start_time": "2022-07-11T12:58:47.013Z"
   },
   {
    "duration": 2290,
    "start_time": "2022-07-11T12:58:47.579Z"
   },
   {
    "duration": 2275,
    "start_time": "2022-07-11T12:58:49.871Z"
   },
   {
    "duration": 2054,
    "start_time": "2022-07-11T12:58:52.149Z"
   },
   {
    "duration": 75,
    "start_time": "2022-07-11T12:58:54.204Z"
   },
   {
    "duration": 1957,
    "start_time": "2022-07-11T12:58:54.281Z"
   },
   {
    "duration": 1798,
    "start_time": "2022-07-11T12:58:56.241Z"
   },
   {
    "duration": 56,
    "start_time": "2022-07-11T12:58:58.042Z"
   },
   {
    "duration": 2044,
    "start_time": "2022-07-11T12:58:58.100Z"
   },
   {
    "duration": 1681,
    "start_time": "2022-07-11T12:59:00.147Z"
   },
   {
    "duration": 23,
    "start_time": "2022-07-11T12:59:01.837Z"
   },
   {
    "duration": 50,
    "start_time": "2022-07-11T12:59:01.862Z"
   },
   {
    "duration": 58,
    "start_time": "2022-07-11T12:59:01.924Z"
   },
   {
    "duration": 11,
    "start_time": "2022-07-11T12:59:01.984Z"
   },
   {
    "duration": 32,
    "start_time": "2022-07-11T12:59:01.997Z"
   },
   {
    "duration": 143,
    "start_time": "2022-07-11T12:59:02.036Z"
   },
   {
    "duration": 19,
    "start_time": "2022-07-11T12:59:02.181Z"
   },
   {
    "duration": 6,
    "start_time": "2022-07-11T12:59:02.201Z"
   },
   {
    "duration": 254,
    "start_time": "2022-07-11T12:59:02.208Z"
   },
   {
    "duration": 15,
    "start_time": "2022-07-11T12:59:02.464Z"
   },
   {
    "duration": 20,
    "start_time": "2022-07-11T12:59:02.482Z"
   },
   {
    "duration": 303,
    "start_time": "2022-07-11T12:59:02.504Z"
   },
   {
    "duration": 1,
    "start_time": "2022-07-11T12:59:02.809Z"
   },
   {
    "duration": 0,
    "start_time": "2022-07-11T12:59:02.811Z"
   },
   {
    "duration": 0,
    "start_time": "2022-07-11T12:59:02.812Z"
   },
   {
    "duration": 0,
    "start_time": "2022-07-11T12:59:02.813Z"
   },
   {
    "duration": 0,
    "start_time": "2022-07-11T12:59:02.823Z"
   },
   {
    "duration": 0,
    "start_time": "2022-07-11T12:59:02.823Z"
   },
   {
    "duration": 0,
    "start_time": "2022-07-11T12:59:02.824Z"
   },
   {
    "duration": 0,
    "start_time": "2022-07-11T12:59:02.827Z"
   },
   {
    "duration": 0,
    "start_time": "2022-07-11T12:59:02.830Z"
   },
   {
    "duration": 0,
    "start_time": "2022-07-11T12:59:02.831Z"
   },
   {
    "duration": 0,
    "start_time": "2022-07-11T12:59:02.831Z"
   },
   {
    "duration": 0,
    "start_time": "2022-07-11T12:59:02.832Z"
   },
   {
    "duration": 0,
    "start_time": "2022-07-11T12:59:02.836Z"
   },
   {
    "duration": 0,
    "start_time": "2022-07-11T12:59:02.837Z"
   },
   {
    "duration": 0,
    "start_time": "2022-07-11T12:59:02.837Z"
   },
   {
    "duration": 0,
    "start_time": "2022-07-11T12:59:02.838Z"
   },
   {
    "duration": 0,
    "start_time": "2022-07-11T12:59:02.840Z"
   },
   {
    "duration": 0,
    "start_time": "2022-07-11T12:59:02.841Z"
   },
   {
    "duration": 0,
    "start_time": "2022-07-11T12:59:02.842Z"
   },
   {
    "duration": 0,
    "start_time": "2022-07-11T12:59:02.843Z"
   },
   {
    "duration": 0,
    "start_time": "2022-07-11T12:59:02.844Z"
   },
   {
    "duration": 0,
    "start_time": "2022-07-11T12:59:02.845Z"
   },
   {
    "duration": 0,
    "start_time": "2022-07-11T12:59:02.848Z"
   },
   {
    "duration": 1,
    "start_time": "2022-07-11T12:59:02.850Z"
   },
   {
    "duration": 0,
    "start_time": "2022-07-11T12:59:02.852Z"
   },
   {
    "duration": 0,
    "start_time": "2022-07-11T12:59:02.854Z"
   },
   {
    "duration": 0,
    "start_time": "2022-07-11T12:59:02.855Z"
   },
   {
    "duration": 0,
    "start_time": "2022-07-11T12:59:02.856Z"
   },
   {
    "duration": 0,
    "start_time": "2022-07-11T12:59:02.858Z"
   },
   {
    "duration": 0,
    "start_time": "2022-07-11T12:59:02.859Z"
   },
   {
    "duration": 0,
    "start_time": "2022-07-11T12:59:02.860Z"
   },
   {
    "duration": 0,
    "start_time": "2022-07-11T12:59:02.862Z"
   },
   {
    "duration": 0,
    "start_time": "2022-07-11T12:59:02.863Z"
   },
   {
    "duration": 0,
    "start_time": "2022-07-11T12:59:02.864Z"
   },
   {
    "duration": 0,
    "start_time": "2022-07-11T12:59:02.865Z"
   },
   {
    "duration": 0,
    "start_time": "2022-07-11T12:59:02.867Z"
   },
   {
    "duration": 0,
    "start_time": "2022-07-11T12:59:02.868Z"
   },
   {
    "duration": 0,
    "start_time": "2022-07-11T12:59:02.869Z"
   },
   {
    "duration": 0,
    "start_time": "2022-07-11T12:59:02.871Z"
   },
   {
    "duration": 0,
    "start_time": "2022-07-11T12:59:02.926Z"
   },
   {
    "duration": 714,
    "start_time": "2022-07-11T12:59:27.850Z"
   },
   {
    "duration": 16,
    "start_time": "2022-07-11T13:08:34.157Z"
   },
   {
    "duration": 591,
    "start_time": "2022-07-11T13:09:23.355Z"
   },
   {
    "duration": 92,
    "start_time": "2022-07-11T13:11:12.891Z"
   },
   {
    "duration": 651,
    "start_time": "2022-07-11T13:18:25.295Z"
   },
   {
    "duration": 695,
    "start_time": "2022-07-11T13:20:10.424Z"
   },
   {
    "duration": 630,
    "start_time": "2022-07-11T13:20:56.933Z"
   },
   {
    "duration": 657,
    "start_time": "2022-07-11T13:21:12.001Z"
   },
   {
    "duration": 16,
    "start_time": "2022-07-11T13:38:59.361Z"
   },
   {
    "duration": 23,
    "start_time": "2022-07-11T13:48:05.914Z"
   },
   {
    "duration": 17,
    "start_time": "2022-07-11T13:48:41.318Z"
   },
   {
    "duration": 17092,
    "start_time": "2022-07-11T13:49:02.205Z"
   },
   {
    "duration": 14,
    "start_time": "2022-07-11T13:51:24.852Z"
   },
   {
    "duration": 13,
    "start_time": "2022-07-11T13:52:20.572Z"
   },
   {
    "duration": 5976,
    "start_time": "2022-07-11T13:53:13.315Z"
   },
   {
    "duration": 1000,
    "start_time": "2022-07-11T13:53:19.295Z"
   },
   {
    "duration": 1905,
    "start_time": "2022-07-11T13:53:20.297Z"
   },
   {
    "duration": 4,
    "start_time": "2022-07-11T13:53:22.204Z"
   },
   {
    "duration": 40,
    "start_time": "2022-07-11T13:53:22.210Z"
   },
   {
    "duration": 560,
    "start_time": "2022-07-11T13:53:22.252Z"
   },
   {
    "duration": 128,
    "start_time": "2022-07-11T13:53:22.814Z"
   },
   {
    "duration": 48,
    "start_time": "2022-07-11T13:53:22.943Z"
   },
   {
    "duration": 312,
    "start_time": "2022-07-11T13:53:22.993Z"
   },
   {
    "duration": 456,
    "start_time": "2022-07-11T13:53:23.307Z"
   },
   {
    "duration": 1014,
    "start_time": "2022-07-11T13:53:23.765Z"
   },
   {
    "duration": 31,
    "start_time": "2022-07-11T13:53:24.781Z"
   },
   {
    "duration": 43,
    "start_time": "2022-07-11T13:53:24.824Z"
   },
   {
    "duration": 36,
    "start_time": "2022-07-11T13:53:24.868Z"
   },
   {
    "duration": 357,
    "start_time": "2022-07-11T13:53:24.905Z"
   },
   {
    "duration": 320,
    "start_time": "2022-07-11T13:53:25.266Z"
   },
   {
    "duration": 94,
    "start_time": "2022-07-11T13:53:25.588Z"
   },
   {
    "duration": 124,
    "start_time": "2022-07-11T13:53:25.683Z"
   },
   {
    "duration": 36,
    "start_time": "2022-07-11T13:53:25.808Z"
   },
   {
    "duration": 4781,
    "start_time": "2022-07-11T13:53:25.847Z"
   },
   {
    "duration": 35,
    "start_time": "2022-07-11T13:53:30.630Z"
   },
   {
    "duration": 151,
    "start_time": "2022-07-11T13:53:30.668Z"
   },
   {
    "duration": 558,
    "start_time": "2022-07-11T13:53:30.822Z"
   },
   {
    "duration": 9,
    "start_time": "2022-07-11T13:53:31.382Z"
   },
   {
    "duration": 181,
    "start_time": "2022-07-11T13:53:31.393Z"
   },
   {
    "duration": 718,
    "start_time": "2022-07-11T13:53:31.576Z"
   },
   {
    "duration": 352,
    "start_time": "2022-07-11T13:53:32.296Z"
   },
   {
    "duration": 21,
    "start_time": "2022-07-11T13:53:32.653Z"
   },
   {
    "duration": 12,
    "start_time": "2022-07-11T13:53:32.675Z"
   },
   {
    "duration": 1914,
    "start_time": "2022-07-11T13:53:32.689Z"
   },
   {
    "duration": 465,
    "start_time": "2022-07-11T13:53:34.605Z"
   },
   {
    "duration": 1931,
    "start_time": "2022-07-11T13:53:35.072Z"
   },
   {
    "duration": 2077,
    "start_time": "2022-07-11T13:53:37.006Z"
   },
   {
    "duration": 1897,
    "start_time": "2022-07-11T13:53:39.085Z"
   },
   {
    "duration": 70,
    "start_time": "2022-07-11T13:53:40.984Z"
   },
   {
    "duration": 1886,
    "start_time": "2022-07-11T13:53:41.057Z"
   },
   {
    "duration": 3191,
    "start_time": "2022-07-11T13:53:42.946Z"
   },
   {
    "duration": 102,
    "start_time": "2022-07-11T13:53:46.140Z"
   },
   {
    "duration": 4284,
    "start_time": "2022-07-11T13:53:46.244Z"
   },
   {
    "duration": 2267,
    "start_time": "2022-07-11T13:53:50.530Z"
   },
   {
    "duration": 141,
    "start_time": "2022-07-11T13:53:52.798Z"
   },
   {
    "duration": 0,
    "start_time": "2022-07-11T13:53:52.941Z"
   },
   {
    "duration": 0,
    "start_time": "2022-07-11T13:53:52.944Z"
   },
   {
    "duration": 0,
    "start_time": "2022-07-11T13:53:52.945Z"
   },
   {
    "duration": 0,
    "start_time": "2022-07-11T13:53:52.946Z"
   },
   {
    "duration": 0,
    "start_time": "2022-07-11T13:53:52.948Z"
   },
   {
    "duration": 0,
    "start_time": "2022-07-11T13:53:52.950Z"
   },
   {
    "duration": 0,
    "start_time": "2022-07-11T13:53:52.951Z"
   },
   {
    "duration": 0,
    "start_time": "2022-07-11T13:53:52.957Z"
   },
   {
    "duration": 0,
    "start_time": "2022-07-11T13:53:52.958Z"
   },
   {
    "duration": 0,
    "start_time": "2022-07-11T13:53:52.959Z"
   },
   {
    "duration": 0,
    "start_time": "2022-07-11T13:53:52.961Z"
   },
   {
    "duration": 0,
    "start_time": "2022-07-11T13:53:52.963Z"
   },
   {
    "duration": 0,
    "start_time": "2022-07-11T13:53:52.964Z"
   },
   {
    "duration": 0,
    "start_time": "2022-07-11T13:53:52.965Z"
   },
   {
    "duration": 0,
    "start_time": "2022-07-11T13:53:52.966Z"
   },
   {
    "duration": 0,
    "start_time": "2022-07-11T13:53:52.967Z"
   },
   {
    "duration": 0,
    "start_time": "2022-07-11T13:53:52.968Z"
   },
   {
    "duration": 0,
    "start_time": "2022-07-11T13:53:52.971Z"
   },
   {
    "duration": 0,
    "start_time": "2022-07-11T13:53:52.973Z"
   },
   {
    "duration": 0,
    "start_time": "2022-07-11T13:53:52.974Z"
   },
   {
    "duration": 0,
    "start_time": "2022-07-11T13:53:52.976Z"
   },
   {
    "duration": 0,
    "start_time": "2022-07-11T13:53:53.024Z"
   },
   {
    "duration": 0,
    "start_time": "2022-07-11T13:53:53.026Z"
   },
   {
    "duration": 0,
    "start_time": "2022-07-11T13:53:53.027Z"
   },
   {
    "duration": 0,
    "start_time": "2022-07-11T13:53:53.029Z"
   },
   {
    "duration": 0,
    "start_time": "2022-07-11T13:53:53.031Z"
   },
   {
    "duration": 0,
    "start_time": "2022-07-11T13:53:53.033Z"
   },
   {
    "duration": 0,
    "start_time": "2022-07-11T13:53:53.035Z"
   },
   {
    "duration": 0,
    "start_time": "2022-07-11T13:53:53.036Z"
   },
   {
    "duration": 0,
    "start_time": "2022-07-11T13:53:53.037Z"
   },
   {
    "duration": 0,
    "start_time": "2022-07-11T13:53:53.040Z"
   },
   {
    "duration": 0,
    "start_time": "2022-07-11T13:53:53.041Z"
   },
   {
    "duration": 0,
    "start_time": "2022-07-11T13:53:53.043Z"
   },
   {
    "duration": 0,
    "start_time": "2022-07-11T13:53:53.044Z"
   },
   {
    "duration": 0,
    "start_time": "2022-07-11T13:53:53.046Z"
   },
   {
    "duration": 0,
    "start_time": "2022-07-11T13:53:53.048Z"
   },
   {
    "duration": 0,
    "start_time": "2022-07-11T13:53:53.049Z"
   },
   {
    "duration": 0,
    "start_time": "2022-07-11T13:53:53.051Z"
   },
   {
    "duration": 0,
    "start_time": "2022-07-11T13:53:53.053Z"
   },
   {
    "duration": 1,
    "start_time": "2022-07-11T13:53:53.054Z"
   },
   {
    "duration": 0,
    "start_time": "2022-07-11T13:53:53.056Z"
   },
   {
    "duration": 0,
    "start_time": "2022-07-11T13:53:53.058Z"
   },
   {
    "duration": 0,
    "start_time": "2022-07-11T13:53:53.061Z"
   },
   {
    "duration": 0,
    "start_time": "2022-07-11T13:53:53.062Z"
   },
   {
    "duration": 0,
    "start_time": "2022-07-11T13:53:53.064Z"
   },
   {
    "duration": 0,
    "start_time": "2022-07-11T13:53:53.126Z"
   },
   {
    "duration": 0,
    "start_time": "2022-07-11T13:53:53.128Z"
   },
   {
    "duration": 0,
    "start_time": "2022-07-11T13:53:53.129Z"
   },
   {
    "duration": 0,
    "start_time": "2022-07-11T13:53:53.130Z"
   },
   {
    "duration": 0,
    "start_time": "2022-07-11T13:53:53.132Z"
   },
   {
    "duration": 0,
    "start_time": "2022-07-11T13:53:53.133Z"
   },
   {
    "duration": 0,
    "start_time": "2022-07-11T13:53:53.136Z"
   },
   {
    "duration": 0,
    "start_time": "2022-07-11T13:53:53.137Z"
   },
   {
    "duration": 4085,
    "start_time": "2022-07-11T13:54:10.493Z"
   },
   {
    "duration": 2251,
    "start_time": "2022-07-11T13:54:14.581Z"
   },
   {
    "duration": 1956,
    "start_time": "2022-07-11T13:54:16.835Z"
   },
   {
    "duration": 5,
    "start_time": "2022-07-11T13:54:18.794Z"
   },
   {
    "duration": 7,
    "start_time": "2022-07-11T13:54:18.801Z"
   },
   {
    "duration": 675,
    "start_time": "2022-07-11T13:54:18.809Z"
   },
   {
    "duration": 150,
    "start_time": "2022-07-11T13:54:19.486Z"
   },
   {
    "duration": 54,
    "start_time": "2022-07-11T13:54:19.638Z"
   },
   {
    "duration": 313,
    "start_time": "2022-07-11T13:54:19.694Z"
   },
   {
    "duration": 490,
    "start_time": "2022-07-11T13:54:20.009Z"
   },
   {
    "duration": 1100,
    "start_time": "2022-07-11T13:54:20.501Z"
   },
   {
    "duration": 58,
    "start_time": "2022-07-11T13:54:21.603Z"
   },
   {
    "duration": 36,
    "start_time": "2022-07-11T13:54:21.663Z"
   },
   {
    "duration": 53,
    "start_time": "2022-07-11T13:54:21.701Z"
   },
   {
    "duration": 357,
    "start_time": "2022-07-11T13:54:21.756Z"
   },
   {
    "duration": 383,
    "start_time": "2022-07-11T13:54:22.115Z"
   },
   {
    "duration": 109,
    "start_time": "2022-07-11T13:54:22.500Z"
   },
   {
    "duration": 157,
    "start_time": "2022-07-11T13:54:22.611Z"
   },
   {
    "duration": 25,
    "start_time": "2022-07-11T13:54:22.770Z"
   },
   {
    "duration": 4784,
    "start_time": "2022-07-11T13:54:22.797Z"
   },
   {
    "duration": 23,
    "start_time": "2022-07-11T13:54:27.583Z"
   },
   {
    "duration": 152,
    "start_time": "2022-07-11T13:54:27.608Z"
   },
   {
    "duration": 441,
    "start_time": "2022-07-11T13:54:27.762Z"
   },
   {
    "duration": 21,
    "start_time": "2022-07-11T13:54:28.205Z"
   },
   {
    "duration": 139,
    "start_time": "2022-07-11T13:54:28.229Z"
   },
   {
    "duration": 762,
    "start_time": "2022-07-11T13:54:28.370Z"
   },
   {
    "duration": 356,
    "start_time": "2022-07-11T13:54:29.134Z"
   },
   {
    "duration": 17,
    "start_time": "2022-07-11T13:54:29.494Z"
   },
   {
    "duration": 16,
    "start_time": "2022-07-11T13:54:29.513Z"
   },
   {
    "duration": 2043,
    "start_time": "2022-07-11T13:54:29.531Z"
   },
   {
    "duration": 497,
    "start_time": "2022-07-11T13:54:31.576Z"
   },
   {
    "duration": 2085,
    "start_time": "2022-07-11T13:54:32.076Z"
   },
   {
    "duration": 2070,
    "start_time": "2022-07-11T13:54:34.164Z"
   },
   {
    "duration": 1802,
    "start_time": "2022-07-11T13:54:36.237Z"
   },
   {
    "duration": 56,
    "start_time": "2022-07-11T13:54:38.041Z"
   },
   {
    "duration": 1949,
    "start_time": "2022-07-11T13:54:38.098Z"
   },
   {
    "duration": 1720,
    "start_time": "2022-07-11T13:54:40.049Z"
   },
   {
    "duration": 61,
    "start_time": "2022-07-11T13:54:41.771Z"
   },
   {
    "duration": 1786,
    "start_time": "2022-07-11T13:54:41.834Z"
   },
   {
    "duration": 1622,
    "start_time": "2022-07-11T13:54:43.623Z"
   },
   {
    "duration": 137,
    "start_time": "2022-07-11T13:54:45.247Z"
   },
   {
    "duration": 1,
    "start_time": "2022-07-11T13:54:45.386Z"
   },
   {
    "duration": 0,
    "start_time": "2022-07-11T13:54:45.389Z"
   },
   {
    "duration": 0,
    "start_time": "2022-07-11T13:54:45.391Z"
   },
   {
    "duration": 0,
    "start_time": "2022-07-11T13:54:45.392Z"
   },
   {
    "duration": 0,
    "start_time": "2022-07-11T13:54:45.394Z"
   },
   {
    "duration": 0,
    "start_time": "2022-07-11T13:54:45.395Z"
   },
   {
    "duration": 0,
    "start_time": "2022-07-11T13:54:45.397Z"
   },
   {
    "duration": 0,
    "start_time": "2022-07-11T13:54:45.398Z"
   },
   {
    "duration": 0,
    "start_time": "2022-07-11T13:54:45.399Z"
   },
   {
    "duration": 0,
    "start_time": "2022-07-11T13:54:45.400Z"
   },
   {
    "duration": 0,
    "start_time": "2022-07-11T13:54:45.424Z"
   },
   {
    "duration": 0,
    "start_time": "2022-07-11T13:54:45.426Z"
   },
   {
    "duration": 0,
    "start_time": "2022-07-11T13:54:45.428Z"
   },
   {
    "duration": 0,
    "start_time": "2022-07-11T13:54:45.430Z"
   },
   {
    "duration": 0,
    "start_time": "2022-07-11T13:54:45.431Z"
   },
   {
    "duration": 0,
    "start_time": "2022-07-11T13:54:45.434Z"
   },
   {
    "duration": 0,
    "start_time": "2022-07-11T13:54:45.435Z"
   },
   {
    "duration": 0,
    "start_time": "2022-07-11T13:54:45.436Z"
   },
   {
    "duration": 0,
    "start_time": "2022-07-11T13:54:45.438Z"
   },
   {
    "duration": 0,
    "start_time": "2022-07-11T13:54:45.439Z"
   },
   {
    "duration": 0,
    "start_time": "2022-07-11T13:54:45.441Z"
   },
   {
    "duration": 0,
    "start_time": "2022-07-11T13:54:45.442Z"
   },
   {
    "duration": 0,
    "start_time": "2022-07-11T13:54:45.443Z"
   },
   {
    "duration": 0,
    "start_time": "2022-07-11T13:54:45.445Z"
   },
   {
    "duration": 0,
    "start_time": "2022-07-11T13:54:45.446Z"
   },
   {
    "duration": 0,
    "start_time": "2022-07-11T13:54:45.448Z"
   },
   {
    "duration": 0,
    "start_time": "2022-07-11T13:54:45.449Z"
   },
   {
    "duration": 0,
    "start_time": "2022-07-11T13:54:45.451Z"
   },
   {
    "duration": 0,
    "start_time": "2022-07-11T13:54:45.452Z"
   },
   {
    "duration": 0,
    "start_time": "2022-07-11T13:54:45.453Z"
   },
   {
    "duration": 0,
    "start_time": "2022-07-11T13:54:45.455Z"
   },
   {
    "duration": 0,
    "start_time": "2022-07-11T13:54:45.456Z"
   },
   {
    "duration": 0,
    "start_time": "2022-07-11T13:54:45.457Z"
   },
   {
    "duration": 0,
    "start_time": "2022-07-11T13:54:45.458Z"
   },
   {
    "duration": 0,
    "start_time": "2022-07-11T13:54:45.460Z"
   },
   {
    "duration": 0,
    "start_time": "2022-07-11T13:54:45.461Z"
   },
   {
    "duration": 0,
    "start_time": "2022-07-11T13:54:45.462Z"
   },
   {
    "duration": 0,
    "start_time": "2022-07-11T13:54:45.463Z"
   },
   {
    "duration": 0,
    "start_time": "2022-07-11T13:54:45.464Z"
   },
   {
    "duration": 0,
    "start_time": "2022-07-11T13:54:45.522Z"
   },
   {
    "duration": 0,
    "start_time": "2022-07-11T13:54:45.524Z"
   },
   {
    "duration": 0,
    "start_time": "2022-07-11T13:54:45.525Z"
   },
   {
    "duration": 0,
    "start_time": "2022-07-11T13:54:45.526Z"
   },
   {
    "duration": 0,
    "start_time": "2022-07-11T13:54:45.527Z"
   },
   {
    "duration": 0,
    "start_time": "2022-07-11T13:54:45.528Z"
   },
   {
    "duration": 0,
    "start_time": "2022-07-11T13:54:45.529Z"
   },
   {
    "duration": 0,
    "start_time": "2022-07-11T13:54:45.533Z"
   },
   {
    "duration": 0,
    "start_time": "2022-07-11T13:54:45.535Z"
   },
   {
    "duration": 0,
    "start_time": "2022-07-11T13:54:45.536Z"
   },
   {
    "duration": 0,
    "start_time": "2022-07-11T13:54:45.538Z"
   },
   {
    "duration": 0,
    "start_time": "2022-07-11T13:54:45.539Z"
   },
   {
    "duration": 0,
    "start_time": "2022-07-11T13:54:45.541Z"
   },
   {
    "duration": 0,
    "start_time": "2022-07-11T13:54:45.542Z"
   },
   {
    "duration": 19,
    "start_time": "2022-07-11T13:56:28.104Z"
   },
   {
    "duration": 18,
    "start_time": "2022-07-11T13:57:43.476Z"
   },
   {
    "duration": 23,
    "start_time": "2022-07-11T13:57:46.320Z"
   },
   {
    "duration": 13,
    "start_time": "2022-07-11T13:57:53.888Z"
   },
   {
    "duration": 5003,
    "start_time": "2022-07-11T13:59:12.941Z"
   },
   {
    "duration": 1346,
    "start_time": "2022-07-11T13:59:17.947Z"
   },
   {
    "duration": 1875,
    "start_time": "2022-07-11T13:59:19.294Z"
   },
   {
    "duration": 3,
    "start_time": "2022-07-11T13:59:21.172Z"
   },
   {
    "duration": 12,
    "start_time": "2022-07-11T13:59:21.177Z"
   },
   {
    "duration": 576,
    "start_time": "2022-07-11T13:59:21.190Z"
   },
   {
    "duration": 126,
    "start_time": "2022-07-11T13:59:21.767Z"
   },
   {
    "duration": 51,
    "start_time": "2022-07-11T13:59:21.895Z"
   },
   {
    "duration": 285,
    "start_time": "2022-07-11T13:59:21.948Z"
   },
   {
    "duration": 460,
    "start_time": "2022-07-11T13:59:22.238Z"
   },
   {
    "duration": 1002,
    "start_time": "2022-07-11T13:59:22.700Z"
   },
   {
    "duration": 41,
    "start_time": "2022-07-11T13:59:23.704Z"
   },
   {
    "duration": 44,
    "start_time": "2022-07-11T13:59:23.747Z"
   },
   {
    "duration": 46,
    "start_time": "2022-07-11T13:59:23.793Z"
   },
   {
    "duration": 333,
    "start_time": "2022-07-11T13:59:23.841Z"
   },
   {
    "duration": 361,
    "start_time": "2022-07-11T13:59:24.177Z"
   },
   {
    "duration": 106,
    "start_time": "2022-07-11T13:59:24.540Z"
   },
   {
    "duration": 146,
    "start_time": "2022-07-11T13:59:24.649Z"
   },
   {
    "duration": 33,
    "start_time": "2022-07-11T13:59:24.797Z"
   },
   {
    "duration": 4860,
    "start_time": "2022-07-11T13:59:24.833Z"
   },
   {
    "duration": 34,
    "start_time": "2022-07-11T13:59:29.695Z"
   },
   {
    "duration": 152,
    "start_time": "2022-07-11T13:59:29.731Z"
   },
   {
    "duration": 519,
    "start_time": "2022-07-11T13:59:29.885Z"
   },
   {
    "duration": 20,
    "start_time": "2022-07-11T13:59:30.405Z"
   },
   {
    "duration": 147,
    "start_time": "2022-07-11T13:59:30.427Z"
   },
   {
    "duration": 723,
    "start_time": "2022-07-11T13:59:30.575Z"
   },
   {
    "duration": 364,
    "start_time": "2022-07-11T13:59:31.299Z"
   },
   {
    "duration": 21,
    "start_time": "2022-07-11T13:59:31.668Z"
   },
   {
    "duration": 10,
    "start_time": "2022-07-11T13:59:31.692Z"
   },
   {
    "duration": 2084,
    "start_time": "2022-07-11T13:59:31.703Z"
   },
   {
    "duration": 485,
    "start_time": "2022-07-11T13:59:33.789Z"
   },
   {
    "duration": 2005,
    "start_time": "2022-07-11T13:59:34.276Z"
   },
   {
    "duration": 2058,
    "start_time": "2022-07-11T13:59:36.283Z"
   },
   {
    "duration": 1951,
    "start_time": "2022-07-11T13:59:38.343Z"
   },
   {
    "duration": 66,
    "start_time": "2022-07-11T13:59:40.296Z"
   },
   {
    "duration": 1840,
    "start_time": "2022-07-11T13:59:40.364Z"
   },
   {
    "duration": 1682,
    "start_time": "2022-07-11T13:59:42.206Z"
   },
   {
    "duration": 61,
    "start_time": "2022-07-11T13:59:43.890Z"
   },
   {
    "duration": 1765,
    "start_time": "2022-07-11T13:59:43.954Z"
   },
   {
    "duration": 1555,
    "start_time": "2022-07-11T13:59:45.723Z"
   },
   {
    "duration": 20,
    "start_time": "2022-07-11T13:59:47.280Z"
   },
   {
    "duration": 72,
    "start_time": "2022-07-11T13:59:47.302Z"
   },
   {
    "duration": 38,
    "start_time": "2022-07-11T13:59:47.375Z"
   },
   {
    "duration": 13,
    "start_time": "2022-07-11T13:59:47.424Z"
   },
   {
    "duration": 28,
    "start_time": "2022-07-11T13:59:47.439Z"
   },
   {
    "duration": 131,
    "start_time": "2022-07-11T13:59:47.469Z"
   },
   {
    "duration": 27,
    "start_time": "2022-07-11T13:59:47.602Z"
   },
   {
    "duration": 5,
    "start_time": "2022-07-11T13:59:47.631Z"
   },
   {
    "duration": 230,
    "start_time": "2022-07-11T13:59:47.638Z"
   },
   {
    "duration": 12,
    "start_time": "2022-07-11T13:59:47.869Z"
   },
   {
    "duration": 14,
    "start_time": "2022-07-11T13:59:47.882Z"
   },
   {
    "duration": 11,
    "start_time": "2022-07-11T13:59:47.897Z"
   },
   {
    "duration": 56949,
    "start_time": "2022-07-11T13:59:47.924Z"
   },
   {
    "duration": 0,
    "start_time": "2022-07-11T14:00:44.875Z"
   },
   {
    "duration": 0,
    "start_time": "2022-07-11T14:00:44.877Z"
   },
   {
    "duration": 0,
    "start_time": "2022-07-11T14:00:44.878Z"
   },
   {
    "duration": 0,
    "start_time": "2022-07-11T14:00:44.879Z"
   },
   {
    "duration": 0,
    "start_time": "2022-07-11T14:00:44.880Z"
   },
   {
    "duration": 0,
    "start_time": "2022-07-11T14:00:44.881Z"
   },
   {
    "duration": 0,
    "start_time": "2022-07-11T14:00:44.883Z"
   },
   {
    "duration": 0,
    "start_time": "2022-07-11T14:00:44.884Z"
   },
   {
    "duration": 0,
    "start_time": "2022-07-11T14:00:44.886Z"
   },
   {
    "duration": 0,
    "start_time": "2022-07-11T14:00:44.888Z"
   },
   {
    "duration": 0,
    "start_time": "2022-07-11T14:00:44.889Z"
   },
   {
    "duration": 0,
    "start_time": "2022-07-11T14:00:44.891Z"
   },
   {
    "duration": 0,
    "start_time": "2022-07-11T14:00:44.892Z"
   },
   {
    "duration": 0,
    "start_time": "2022-07-11T14:00:44.894Z"
   },
   {
    "duration": 0,
    "start_time": "2022-07-11T14:00:44.923Z"
   },
   {
    "duration": 0,
    "start_time": "2022-07-11T14:00:44.925Z"
   },
   {
    "duration": 0,
    "start_time": "2022-07-11T14:00:44.927Z"
   },
   {
    "duration": 0,
    "start_time": "2022-07-11T14:00:44.928Z"
   },
   {
    "duration": 0,
    "start_time": "2022-07-11T14:00:44.930Z"
   },
   {
    "duration": 0,
    "start_time": "2022-07-11T14:00:44.931Z"
   },
   {
    "duration": 0,
    "start_time": "2022-07-11T14:00:44.933Z"
   },
   {
    "duration": 0,
    "start_time": "2022-07-11T14:00:44.934Z"
   },
   {
    "duration": 0,
    "start_time": "2022-07-11T14:00:44.937Z"
   },
   {
    "duration": 0,
    "start_time": "2022-07-11T14:00:44.938Z"
   },
   {
    "duration": 0,
    "start_time": "2022-07-11T14:00:44.940Z"
   },
   {
    "duration": 0,
    "start_time": "2022-07-11T14:00:44.942Z"
   },
   {
    "duration": 0,
    "start_time": "2022-07-11T14:00:44.944Z"
   },
   {
    "duration": 0,
    "start_time": "2022-07-11T14:00:44.946Z"
   },
   {
    "duration": 0,
    "start_time": "2022-07-11T14:00:44.948Z"
   },
   {
    "duration": 0,
    "start_time": "2022-07-11T14:00:44.950Z"
   },
   {
    "duration": 1,
    "start_time": "2022-07-11T14:00:44.951Z"
   },
   {
    "duration": 0,
    "start_time": "2022-07-11T14:00:44.954Z"
   },
   {
    "duration": 0,
    "start_time": "2022-07-11T14:00:44.955Z"
   },
   {
    "duration": 0,
    "start_time": "2022-07-11T14:00:44.957Z"
   },
   {
    "duration": 0,
    "start_time": "2022-07-11T14:00:44.958Z"
   },
   {
    "duration": 0,
    "start_time": "2022-07-11T14:00:44.960Z"
   },
   {
    "duration": 0,
    "start_time": "2022-07-11T14:00:44.962Z"
   },
   {
    "duration": 0,
    "start_time": "2022-07-11T14:00:44.964Z"
   },
   {
    "duration": 0,
    "start_time": "2022-07-11T14:00:45.024Z"
   },
   {
    "duration": 0,
    "start_time": "2022-07-11T14:00:45.026Z"
   },
   {
    "duration": 27,
    "start_time": "2022-07-11T14:02:20.673Z"
   },
   {
    "duration": 10,
    "start_time": "2022-07-11T14:02:37.346Z"
   },
   {
    "duration": 11,
    "start_time": "2022-07-11T14:03:06.397Z"
   },
   {
    "duration": 27,
    "start_time": "2022-07-11T14:03:52.344Z"
   },
   {
    "duration": 194740,
    "start_time": "2022-07-11T14:04:42.274Z"
   },
   {
    "duration": 0,
    "start_time": "2022-07-11T14:19:19.082Z"
   },
   {
    "duration": 352394,
    "start_time": "2022-07-11T14:19:34.012Z"
   },
   {
    "duration": 4344,
    "start_time": "2022-07-11T14:37:38.270Z"
   },
   {
    "duration": 1039,
    "start_time": "2022-07-11T14:37:42.616Z"
   },
   {
    "duration": 2113,
    "start_time": "2022-07-11T14:37:43.657Z"
   },
   {
    "duration": 3,
    "start_time": "2022-07-11T14:37:45.774Z"
   },
   {
    "duration": 12,
    "start_time": "2022-07-11T14:37:45.779Z"
   },
   {
    "duration": 659,
    "start_time": "2022-07-11T14:37:45.793Z"
   },
   {
    "duration": 137,
    "start_time": "2022-07-11T14:37:46.454Z"
   },
   {
    "duration": 57,
    "start_time": "2022-07-11T14:37:46.593Z"
   },
   {
    "duration": 327,
    "start_time": "2022-07-11T14:37:46.652Z"
   },
   {
    "duration": 509,
    "start_time": "2022-07-11T14:37:46.982Z"
   },
   {
    "duration": 1204,
    "start_time": "2022-07-11T14:37:47.494Z"
   },
   {
    "duration": 43,
    "start_time": "2022-07-11T14:37:48.699Z"
   },
   {
    "duration": 50,
    "start_time": "2022-07-11T14:37:48.744Z"
   },
   {
    "duration": 44,
    "start_time": "2022-07-11T14:37:48.796Z"
   },
   {
    "duration": 437,
    "start_time": "2022-07-11T14:37:48.843Z"
   },
   {
    "duration": 386,
    "start_time": "2022-07-11T14:37:49.282Z"
   },
   {
    "duration": 100,
    "start_time": "2022-07-11T14:37:49.670Z"
   },
   {
    "duration": 160,
    "start_time": "2022-07-11T14:37:49.772Z"
   },
   {
    "duration": 38,
    "start_time": "2022-07-11T14:37:49.937Z"
   },
   {
    "duration": 5111,
    "start_time": "2022-07-11T14:37:49.977Z"
   },
   {
    "duration": 33,
    "start_time": "2022-07-11T14:37:55.090Z"
   },
   {
    "duration": 150,
    "start_time": "2022-07-11T14:37:55.125Z"
   },
   {
    "duration": 521,
    "start_time": "2022-07-11T14:37:55.277Z"
   },
   {
    "duration": 9,
    "start_time": "2022-07-11T14:37:55.799Z"
   },
   {
    "duration": 140,
    "start_time": "2022-07-11T14:37:55.824Z"
   },
   {
    "duration": 731,
    "start_time": "2022-07-11T14:37:55.966Z"
   },
   {
    "duration": 367,
    "start_time": "2022-07-11T14:37:56.699Z"
   },
   {
    "duration": 18,
    "start_time": "2022-07-11T14:37:57.071Z"
   },
   {
    "duration": 6,
    "start_time": "2022-07-11T14:37:57.091Z"
   },
   {
    "duration": 2211,
    "start_time": "2022-07-11T14:37:57.099Z"
   },
   {
    "duration": 587,
    "start_time": "2022-07-11T14:37:59.312Z"
   },
   {
    "duration": 2087,
    "start_time": "2022-07-11T14:37:59.901Z"
   },
   {
    "duration": 2121,
    "start_time": "2022-07-11T14:38:01.990Z"
   },
   {
    "duration": 2038,
    "start_time": "2022-07-11T14:38:04.123Z"
   },
   {
    "duration": 77,
    "start_time": "2022-07-11T14:38:06.164Z"
   },
   {
    "duration": 2001,
    "start_time": "2022-07-11T14:38:06.244Z"
   },
   {
    "duration": 1786,
    "start_time": "2022-07-11T14:38:08.248Z"
   },
   {
    "duration": 63,
    "start_time": "2022-07-11T14:38:10.037Z"
   },
   {
    "duration": 1991,
    "start_time": "2022-07-11T14:38:10.102Z"
   },
   {
    "duration": 1784,
    "start_time": "2022-07-11T14:38:12.095Z"
   },
   {
    "duration": 29,
    "start_time": "2022-07-11T14:38:13.880Z"
   },
   {
    "duration": 75,
    "start_time": "2022-07-11T14:38:13.911Z"
   },
   {
    "duration": 53,
    "start_time": "2022-07-11T14:38:13.988Z"
   },
   {
    "duration": 16,
    "start_time": "2022-07-11T14:38:14.043Z"
   },
   {
    "duration": 25,
    "start_time": "2022-07-11T14:38:14.061Z"
   },
   {
    "duration": 172,
    "start_time": "2022-07-11T14:38:14.088Z"
   },
   {
    "duration": 21,
    "start_time": "2022-07-11T14:38:14.262Z"
   },
   {
    "duration": 4,
    "start_time": "2022-07-11T14:38:14.285Z"
   },
   {
    "duration": 239,
    "start_time": "2022-07-11T14:38:14.291Z"
   },
   {
    "duration": 15,
    "start_time": "2022-07-11T14:38:14.532Z"
   },
   {
    "duration": 20,
    "start_time": "2022-07-11T14:38:14.550Z"
   },
   {
    "duration": 10,
    "start_time": "2022-07-11T14:38:14.573Z"
   },
   {
    "duration": 6,
    "start_time": "2022-07-11T14:38:14.587Z"
   },
   {
    "duration": 4120,
    "start_time": "2022-07-11T15:08:51.475Z"
   },
   {
    "duration": 1054,
    "start_time": "2022-07-11T15:08:55.597Z"
   },
   {
    "duration": 2018,
    "start_time": "2022-07-11T15:08:56.654Z"
   },
   {
    "duration": 4,
    "start_time": "2022-07-11T15:08:58.675Z"
   },
   {
    "duration": 6,
    "start_time": "2022-07-11T15:08:58.681Z"
   },
   {
    "duration": 650,
    "start_time": "2022-07-11T15:08:58.688Z"
   },
   {
    "duration": 135,
    "start_time": "2022-07-11T15:08:59.341Z"
   },
   {
    "duration": 57,
    "start_time": "2022-07-11T15:08:59.479Z"
   },
   {
    "duration": 319,
    "start_time": "2022-07-11T15:08:59.539Z"
   },
   {
    "duration": 511,
    "start_time": "2022-07-11T15:08:59.861Z"
   },
   {
    "duration": 1126,
    "start_time": "2022-07-11T15:09:00.374Z"
   },
   {
    "duration": 42,
    "start_time": "2022-07-11T15:09:01.502Z"
   },
   {
    "duration": 54,
    "start_time": "2022-07-11T15:09:01.548Z"
   },
   {
    "duration": 45,
    "start_time": "2022-07-11T15:09:01.604Z"
   },
   {
    "duration": 344,
    "start_time": "2022-07-11T15:09:01.651Z"
   },
   {
    "duration": 367,
    "start_time": "2022-07-11T15:09:01.998Z"
   },
   {
    "duration": 109,
    "start_time": "2022-07-11T15:09:02.369Z"
   },
   {
    "duration": 110,
    "start_time": "2022-07-11T15:09:02.480Z"
   },
   {
    "duration": 39,
    "start_time": "2022-07-11T15:09:02.592Z"
   },
   {
    "duration": 6697,
    "start_time": "2022-07-11T15:09:02.633Z"
   },
   {
    "duration": 36,
    "start_time": "2022-07-11T15:09:09.334Z"
   },
   {
    "duration": 204,
    "start_time": "2022-07-11T15:09:09.372Z"
   },
   {
    "duration": 532,
    "start_time": "2022-07-11T15:09:09.579Z"
   },
   {
    "duration": 10,
    "start_time": "2022-07-11T15:09:10.123Z"
   },
   {
    "duration": 151,
    "start_time": "2022-07-11T15:09:10.135Z"
   },
   {
    "duration": 795,
    "start_time": "2022-07-11T15:09:10.288Z"
   },
   {
    "duration": 365,
    "start_time": "2022-07-11T15:09:11.085Z"
   },
   {
    "duration": 25,
    "start_time": "2022-07-11T15:09:11.457Z"
   },
   {
    "duration": 13,
    "start_time": "2022-07-11T15:09:11.483Z"
   },
   {
    "duration": 2147,
    "start_time": "2022-07-11T15:09:11.498Z"
   },
   {
    "duration": 648,
    "start_time": "2022-07-11T15:09:13.648Z"
   },
   {
    "duration": 2180,
    "start_time": "2022-07-11T15:09:14.298Z"
   },
   {
    "duration": 2257,
    "start_time": "2022-07-11T15:09:16.479Z"
   },
   {
    "duration": 2171,
    "start_time": "2022-07-11T15:09:18.738Z"
   },
   {
    "duration": 74,
    "start_time": "2022-07-11T15:09:20.911Z"
   },
   {
    "duration": 1978,
    "start_time": "2022-07-11T15:09:20.988Z"
   },
   {
    "duration": 1858,
    "start_time": "2022-07-11T15:09:22.968Z"
   },
   {
    "duration": 57,
    "start_time": "2022-07-11T15:09:24.828Z"
   },
   {
    "duration": 1828,
    "start_time": "2022-07-11T15:09:24.887Z"
   },
   {
    "duration": 1741,
    "start_time": "2022-07-11T15:09:26.716Z"
   },
   {
    "duration": 29,
    "start_time": "2022-07-11T15:09:28.460Z"
   },
   {
    "duration": 72,
    "start_time": "2022-07-11T15:09:28.491Z"
   },
   {
    "duration": 40,
    "start_time": "2022-07-11T15:09:28.566Z"
   },
   {
    "duration": 25,
    "start_time": "2022-07-11T15:09:28.607Z"
   },
   {
    "duration": 25,
    "start_time": "2022-07-11T15:09:28.634Z"
   },
   {
    "duration": 151,
    "start_time": "2022-07-11T15:09:28.662Z"
   },
   {
    "duration": 29,
    "start_time": "2022-07-11T15:09:28.815Z"
   },
   {
    "duration": 14,
    "start_time": "2022-07-11T15:09:28.846Z"
   },
   {
    "duration": 273,
    "start_time": "2022-07-11T15:09:28.862Z"
   },
   {
    "duration": 16,
    "start_time": "2022-07-11T15:09:29.137Z"
   },
   {
    "duration": 23,
    "start_time": "2022-07-11T15:09:29.156Z"
   },
   {
    "duration": 12,
    "start_time": "2022-07-11T15:09:29.182Z"
   },
   {
    "duration": 27,
    "start_time": "2022-07-11T15:09:29.197Z"
   },
   {
    "duration": 4696,
    "start_time": "2022-07-11T15:09:55.674Z"
   },
   {
    "duration": 2223,
    "start_time": "2022-07-11T15:10:00.373Z"
   },
   {
    "duration": 2010,
    "start_time": "2022-07-11T15:10:02.598Z"
   },
   {
    "duration": 4,
    "start_time": "2022-07-11T15:10:04.611Z"
   },
   {
    "duration": 8,
    "start_time": "2022-07-11T15:10:04.624Z"
   },
   {
    "duration": 620,
    "start_time": "2022-07-11T15:10:04.635Z"
   },
   {
    "duration": 169,
    "start_time": "2022-07-11T15:10:05.256Z"
   },
   {
    "duration": 55,
    "start_time": "2022-07-11T15:10:05.427Z"
   },
   {
    "duration": 328,
    "start_time": "2022-07-11T15:10:05.485Z"
   },
   {
    "duration": 516,
    "start_time": "2022-07-11T15:10:05.816Z"
   },
   {
    "duration": 1114,
    "start_time": "2022-07-11T15:10:06.335Z"
   },
   {
    "duration": 44,
    "start_time": "2022-07-11T15:10:07.451Z"
   },
   {
    "duration": 57,
    "start_time": "2022-07-11T15:10:07.496Z"
   },
   {
    "duration": 48,
    "start_time": "2022-07-11T15:10:07.555Z"
   },
   {
    "duration": 374,
    "start_time": "2022-07-11T15:10:07.605Z"
   },
   {
    "duration": 379,
    "start_time": "2022-07-11T15:10:07.981Z"
   },
   {
    "duration": 111,
    "start_time": "2022-07-11T15:10:08.362Z"
   },
   {
    "duration": 122,
    "start_time": "2022-07-11T15:10:08.477Z"
   },
   {
    "duration": 34,
    "start_time": "2022-07-11T15:10:08.601Z"
   },
   {
    "duration": 5055,
    "start_time": "2022-07-11T15:10:08.637Z"
   },
   {
    "duration": 34,
    "start_time": "2022-07-11T15:10:13.694Z"
   },
   {
    "duration": 167,
    "start_time": "2022-07-11T15:10:13.731Z"
   },
   {
    "duration": 552,
    "start_time": "2022-07-11T15:10:13.901Z"
   },
   {
    "duration": 10,
    "start_time": "2022-07-11T15:10:14.455Z"
   },
   {
    "duration": 137,
    "start_time": "2022-07-11T15:10:14.468Z"
   },
   {
    "duration": 791,
    "start_time": "2022-07-11T15:10:14.607Z"
   },
   {
    "duration": 367,
    "start_time": "2022-07-11T15:10:15.400Z"
   },
   {
    "duration": 19,
    "start_time": "2022-07-11T15:10:15.772Z"
   },
   {
    "duration": 7,
    "start_time": "2022-07-11T15:10:15.793Z"
   },
   {
    "duration": 2162,
    "start_time": "2022-07-11T15:10:15.802Z"
   },
   {
    "duration": 509,
    "start_time": "2022-07-11T15:10:17.966Z"
   },
   {
    "duration": 2232,
    "start_time": "2022-07-11T15:10:18.478Z"
   },
   {
    "duration": 2171,
    "start_time": "2022-07-11T15:10:20.712Z"
   },
   {
    "duration": 1850,
    "start_time": "2022-07-11T15:10:22.885Z"
   },
   {
    "duration": 61,
    "start_time": "2022-07-11T15:10:24.738Z"
   },
   {
    "duration": 1926,
    "start_time": "2022-07-11T15:10:24.801Z"
   },
   {
    "duration": 1788,
    "start_time": "2022-07-11T15:10:26.729Z"
   },
   {
    "duration": 58,
    "start_time": "2022-07-11T15:10:28.528Z"
   },
   {
    "duration": 1882,
    "start_time": "2022-07-11T15:10:28.588Z"
   },
   {
    "duration": 1765,
    "start_time": "2022-07-11T15:10:30.472Z"
   },
   {
    "duration": 31,
    "start_time": "2022-07-11T15:10:32.239Z"
   },
   {
    "duration": 67,
    "start_time": "2022-07-11T15:10:32.273Z"
   },
   {
    "duration": 44,
    "start_time": "2022-07-11T15:10:32.346Z"
   },
   {
    "duration": 13,
    "start_time": "2022-07-11T15:10:32.392Z"
   },
   {
    "duration": 30,
    "start_time": "2022-07-11T15:10:32.406Z"
   },
   {
    "duration": 159,
    "start_time": "2022-07-11T15:10:32.438Z"
   },
   {
    "duration": 32,
    "start_time": "2022-07-11T15:10:32.600Z"
   },
   {
    "duration": 6,
    "start_time": "2022-07-11T15:10:32.635Z"
   },
   {
    "duration": 234,
    "start_time": "2022-07-11T15:10:32.643Z"
   },
   {
    "duration": 12,
    "start_time": "2022-07-11T15:10:32.878Z"
   },
   {
    "duration": 37,
    "start_time": "2022-07-11T15:10:32.892Z"
   },
   {
    "duration": 13,
    "start_time": "2022-07-11T15:10:32.933Z"
   },
   {
    "duration": 10,
    "start_time": "2022-07-11T15:10:32.952Z"
   },
   {
    "duration": 4160,
    "start_time": "2022-07-11T15:15:54.637Z"
   },
   {
    "duration": 2246,
    "start_time": "2022-07-11T15:15:58.800Z"
   },
   {
    "duration": 2309,
    "start_time": "2022-07-11T15:16:01.049Z"
   },
   {
    "duration": 5,
    "start_time": "2022-07-11T15:16:03.360Z"
   },
   {
    "duration": 11,
    "start_time": "2022-07-11T15:16:03.368Z"
   },
   {
    "duration": 630,
    "start_time": "2022-07-11T15:16:03.381Z"
   },
   {
    "duration": 135,
    "start_time": "2022-07-11T15:16:04.013Z"
   },
   {
    "duration": 37,
    "start_time": "2022-07-11T15:16:04.151Z"
   },
   {
    "duration": 310,
    "start_time": "2022-07-11T15:16:04.190Z"
   },
   {
    "duration": 487,
    "start_time": "2022-07-11T15:16:04.502Z"
   },
   {
    "duration": 1122,
    "start_time": "2022-07-11T15:16:04.991Z"
   },
   {
    "duration": 54,
    "start_time": "2022-07-11T15:16:06.115Z"
   },
   {
    "duration": 39,
    "start_time": "2022-07-11T15:16:06.170Z"
   },
   {
    "duration": 54,
    "start_time": "2022-07-11T15:16:06.225Z"
   },
   {
    "duration": 344,
    "start_time": "2022-07-11T15:16:06.281Z"
   },
   {
    "duration": 377,
    "start_time": "2022-07-11T15:16:06.627Z"
   },
   {
    "duration": 102,
    "start_time": "2022-07-11T15:16:07.006Z"
   },
   {
    "duration": 156,
    "start_time": "2022-07-11T15:16:07.110Z"
   },
   {
    "duration": 24,
    "start_time": "2022-07-11T15:16:07.268Z"
   },
   {
    "duration": 4883,
    "start_time": "2022-07-11T15:16:07.294Z"
   },
   {
    "duration": 26,
    "start_time": "2022-07-11T15:16:12.178Z"
   },
   {
    "duration": 161,
    "start_time": "2022-07-11T15:16:12.206Z"
   },
   {
    "duration": 493,
    "start_time": "2022-07-11T15:16:12.369Z"
   },
   {
    "duration": 9,
    "start_time": "2022-07-11T15:16:12.865Z"
   },
   {
    "duration": 152,
    "start_time": "2022-07-11T15:16:12.875Z"
   },
   {
    "duration": 759,
    "start_time": "2022-07-11T15:16:13.029Z"
   },
   {
    "duration": 349,
    "start_time": "2022-07-11T15:16:13.790Z"
   },
   {
    "duration": 22,
    "start_time": "2022-07-11T15:16:14.142Z"
   },
   {
    "duration": 19,
    "start_time": "2022-07-11T15:16:14.167Z"
   },
   {
    "duration": 2089,
    "start_time": "2022-07-11T15:16:14.188Z"
   },
   {
    "duration": 493,
    "start_time": "2022-07-11T15:16:16.279Z"
   },
   {
    "duration": 2057,
    "start_time": "2022-07-11T15:16:16.774Z"
   },
   {
    "duration": 2045,
    "start_time": "2022-07-11T15:16:18.833Z"
   },
   {
    "duration": 1754,
    "start_time": "2022-07-11T15:16:20.880Z"
   },
   {
    "duration": 59,
    "start_time": "2022-07-11T15:16:22.636Z"
   },
   {
    "duration": 1814,
    "start_time": "2022-07-11T15:16:22.697Z"
   },
   {
    "duration": 1706,
    "start_time": "2022-07-11T15:16:24.512Z"
   },
   {
    "duration": 58,
    "start_time": "2022-07-11T15:16:26.220Z"
   },
   {
    "duration": 1711,
    "start_time": "2022-07-11T15:16:26.280Z"
   },
   {
    "duration": 1741,
    "start_time": "2022-07-11T15:16:27.993Z"
   },
   {
    "duration": 24,
    "start_time": "2022-07-11T15:16:29.740Z"
   },
   {
    "duration": 83,
    "start_time": "2022-07-11T15:16:29.766Z"
   },
   {
    "duration": 41,
    "start_time": "2022-07-11T15:16:29.851Z"
   },
   {
    "duration": 11,
    "start_time": "2022-07-11T15:16:29.894Z"
   },
   {
    "duration": 30,
    "start_time": "2022-07-11T15:16:29.907Z"
   },
   {
    "duration": 148,
    "start_time": "2022-07-11T15:16:29.939Z"
   },
   {
    "duration": 19,
    "start_time": "2022-07-11T15:16:30.089Z"
   },
   {
    "duration": 16,
    "start_time": "2022-07-11T15:16:30.110Z"
   },
   {
    "duration": 12,
    "start_time": "2022-07-11T15:16:30.128Z"
   },
   {
    "duration": 5420,
    "start_time": "2022-07-11T15:16:39.660Z"
   },
   {
    "duration": 1080,
    "start_time": "2022-07-11T15:16:45.083Z"
   },
   {
    "duration": 1905,
    "start_time": "2022-07-11T15:16:46.165Z"
   },
   {
    "duration": 4,
    "start_time": "2022-07-11T15:16:48.072Z"
   },
   {
    "duration": 17,
    "start_time": "2022-07-11T15:16:48.077Z"
   },
   {
    "duration": 628,
    "start_time": "2022-07-11T15:16:48.096Z"
   },
   {
    "duration": 132,
    "start_time": "2022-07-11T15:16:48.726Z"
   },
   {
    "duration": 50,
    "start_time": "2022-07-11T15:16:48.859Z"
   },
   {
    "duration": 340,
    "start_time": "2022-07-11T15:16:48.911Z"
   },
   {
    "duration": 477,
    "start_time": "2022-07-11T15:16:49.255Z"
   },
   {
    "duration": 1078,
    "start_time": "2022-07-11T15:16:49.734Z"
   },
   {
    "duration": 52,
    "start_time": "2022-07-11T15:16:50.814Z"
   },
   {
    "duration": 35,
    "start_time": "2022-07-11T15:16:50.867Z"
   },
   {
    "duration": 55,
    "start_time": "2022-07-11T15:16:50.904Z"
   },
   {
    "duration": 316,
    "start_time": "2022-07-11T15:16:50.961Z"
   },
   {
    "duration": 309,
    "start_time": "2022-07-11T15:16:51.278Z"
   },
   {
    "duration": 95,
    "start_time": "2022-07-11T15:16:51.588Z"
   },
   {
    "duration": 139,
    "start_time": "2022-07-11T15:16:51.685Z"
   },
   {
    "duration": 34,
    "start_time": "2022-07-11T15:16:51.826Z"
   },
   {
    "duration": 4487,
    "start_time": "2022-07-11T15:16:51.862Z"
   },
   {
    "duration": 27,
    "start_time": "2022-07-11T15:16:56.351Z"
   },
   {
    "duration": 144,
    "start_time": "2022-07-11T15:16:56.380Z"
   },
   {
    "duration": 457,
    "start_time": "2022-07-11T15:16:56.527Z"
   },
   {
    "duration": 7,
    "start_time": "2022-07-11T15:16:56.986Z"
   },
   {
    "duration": 134,
    "start_time": "2022-07-11T15:16:56.995Z"
   },
   {
    "duration": 744,
    "start_time": "2022-07-11T15:16:57.132Z"
   },
   {
    "duration": 329,
    "start_time": "2022-07-11T15:16:57.878Z"
   },
   {
    "duration": 26,
    "start_time": "2022-07-11T15:16:58.212Z"
   },
   {
    "duration": 8,
    "start_time": "2022-07-11T15:16:58.240Z"
   },
   {
    "duration": 2111,
    "start_time": "2022-07-11T15:16:58.250Z"
   },
   {
    "duration": 519,
    "start_time": "2022-07-11T15:17:00.363Z"
   },
   {
    "duration": 2008,
    "start_time": "2022-07-11T15:17:00.884Z"
   },
   {
    "duration": 1999,
    "start_time": "2022-07-11T15:17:02.894Z"
   },
   {
    "duration": 1871,
    "start_time": "2022-07-11T15:17:04.895Z"
   },
   {
    "duration": 65,
    "start_time": "2022-07-11T15:17:06.768Z"
   },
   {
    "duration": 1901,
    "start_time": "2022-07-11T15:17:06.835Z"
   },
   {
    "duration": 1805,
    "start_time": "2022-07-11T15:17:08.738Z"
   },
   {
    "duration": 64,
    "start_time": "2022-07-11T15:17:10.544Z"
   },
   {
    "duration": 1838,
    "start_time": "2022-07-11T15:17:10.611Z"
   },
   {
    "duration": 1757,
    "start_time": "2022-07-11T15:17:12.451Z"
   },
   {
    "duration": 38,
    "start_time": "2022-07-11T15:17:14.210Z"
   },
   {
    "duration": 57,
    "start_time": "2022-07-11T15:17:14.250Z"
   },
   {
    "duration": 59,
    "start_time": "2022-07-11T15:17:14.309Z"
   },
   {
    "duration": 12,
    "start_time": "2022-07-11T15:17:14.370Z"
   },
   {
    "duration": 30,
    "start_time": "2022-07-11T15:17:14.384Z"
   },
   {
    "duration": 152,
    "start_time": "2022-07-11T15:17:14.425Z"
   },
   {
    "duration": 20,
    "start_time": "2022-07-11T15:17:14.579Z"
   },
   {
    "duration": 5,
    "start_time": "2022-07-11T15:17:14.601Z"
   },
   {
    "duration": 21,
    "start_time": "2022-07-11T15:17:14.607Z"
   },
   {
    "duration": 363387,
    "start_time": "2022-07-11T15:17:14.632Z"
   },
   {
    "duration": 6,
    "start_time": "2022-07-11T15:23:18.022Z"
   },
   {
    "duration": 216,
    "start_time": "2022-07-11T15:23:18.030Z"
   },
   {
    "duration": 121,
    "start_time": "2022-07-11T15:23:18.248Z"
   },
   {
    "duration": 13,
    "start_time": "2022-07-11T15:23:18.371Z"
   },
   {
    "duration": 0,
    "start_time": "2022-07-11T15:23:18.386Z"
   },
   {
    "duration": 0,
    "start_time": "2022-07-11T15:23:18.387Z"
   },
   {
    "duration": 0,
    "start_time": "2022-07-11T15:23:18.388Z"
   },
   {
    "duration": 0,
    "start_time": "2022-07-11T15:23:18.389Z"
   },
   {
    "duration": 0,
    "start_time": "2022-07-11T15:23:18.390Z"
   },
   {
    "duration": 0,
    "start_time": "2022-07-11T15:23:18.391Z"
   },
   {
    "duration": 0,
    "start_time": "2022-07-11T15:23:18.392Z"
   },
   {
    "duration": 0,
    "start_time": "2022-07-11T15:23:18.394Z"
   },
   {
    "duration": 0,
    "start_time": "2022-07-11T15:23:18.395Z"
   },
   {
    "duration": 0,
    "start_time": "2022-07-11T15:23:18.396Z"
   },
   {
    "duration": 0,
    "start_time": "2022-07-11T15:23:18.398Z"
   },
   {
    "duration": 0,
    "start_time": "2022-07-11T15:23:18.399Z"
   },
   {
    "duration": 0,
    "start_time": "2022-07-11T15:23:18.400Z"
   },
   {
    "duration": 0,
    "start_time": "2022-07-11T15:23:18.401Z"
   },
   {
    "duration": 0,
    "start_time": "2022-07-11T15:23:18.403Z"
   },
   {
    "duration": 0,
    "start_time": "2022-07-11T15:23:18.404Z"
   },
   {
    "duration": 0,
    "start_time": "2022-07-11T15:23:18.405Z"
   },
   {
    "duration": 0,
    "start_time": "2022-07-11T15:23:18.407Z"
   },
   {
    "duration": 0,
    "start_time": "2022-07-11T15:23:18.408Z"
   },
   {
    "duration": 0,
    "start_time": "2022-07-11T15:23:18.409Z"
   },
   {
    "duration": 0,
    "start_time": "2022-07-11T15:23:18.411Z"
   },
   {
    "duration": 0,
    "start_time": "2022-07-11T15:23:18.411Z"
   },
   {
    "duration": 0,
    "start_time": "2022-07-11T15:23:18.412Z"
   },
   {
    "duration": 0,
    "start_time": "2022-07-11T15:23:18.413Z"
   },
   {
    "duration": 0,
    "start_time": "2022-07-11T15:23:18.424Z"
   },
   {
    "duration": 0,
    "start_time": "2022-07-11T15:23:18.425Z"
   },
   {
    "duration": 0,
    "start_time": "2022-07-11T15:23:18.427Z"
   },
   {
    "duration": 0,
    "start_time": "2022-07-11T15:23:18.429Z"
   },
   {
    "duration": 0,
    "start_time": "2022-07-11T15:23:18.430Z"
   },
   {
    "duration": 0,
    "start_time": "2022-07-11T15:23:18.432Z"
   },
   {
    "duration": 0,
    "start_time": "2022-07-11T15:23:18.434Z"
   },
   {
    "duration": 0,
    "start_time": "2022-07-11T15:23:18.436Z"
   },
   {
    "duration": 0,
    "start_time": "2022-07-11T15:23:18.437Z"
   },
   {
    "duration": 0,
    "start_time": "2022-07-11T15:23:18.439Z"
   },
   {
    "duration": 0,
    "start_time": "2022-07-11T15:23:18.441Z"
   },
   {
    "duration": 0,
    "start_time": "2022-07-11T15:23:18.443Z"
   },
   {
    "duration": 0,
    "start_time": "2022-07-11T15:23:18.444Z"
   },
   {
    "duration": 0,
    "start_time": "2022-07-11T15:23:18.446Z"
   },
   {
    "duration": 0,
    "start_time": "2022-07-11T15:23:18.448Z"
   },
   {
    "duration": 0,
    "start_time": "2022-07-11T15:23:18.449Z"
   },
   {
    "duration": 0,
    "start_time": "2022-07-11T15:23:18.451Z"
   },
   {
    "duration": 0,
    "start_time": "2022-07-11T15:23:18.452Z"
   },
   {
    "duration": 0,
    "start_time": "2022-07-11T15:23:18.453Z"
   },
   {
    "duration": 983,
    "start_time": "2022-07-11T15:27:19.015Z"
   },
   {
    "duration": 16,
    "start_time": "2022-07-11T15:27:22.371Z"
   },
   {
    "duration": 18,
    "start_time": "2022-07-11T15:27:25.031Z"
   },
   {
    "duration": 6,
    "start_time": "2022-07-11T15:28:04.924Z"
   },
   {
    "duration": 4368,
    "start_time": "2022-07-11T15:33:30.527Z"
   },
   {
    "duration": 1010,
    "start_time": "2022-07-11T15:33:34.897Z"
   },
   {
    "duration": 1916,
    "start_time": "2022-07-11T15:33:35.909Z"
   },
   {
    "duration": 5,
    "start_time": "2022-07-11T15:33:37.827Z"
   },
   {
    "duration": 14,
    "start_time": "2022-07-11T15:33:37.834Z"
   },
   {
    "duration": 607,
    "start_time": "2022-07-11T15:33:37.850Z"
   },
   {
    "duration": 134,
    "start_time": "2022-07-11T15:33:38.460Z"
   },
   {
    "duration": 56,
    "start_time": "2022-07-11T15:33:38.596Z"
   },
   {
    "duration": 326,
    "start_time": "2022-07-11T15:33:38.655Z"
   },
   {
    "duration": 529,
    "start_time": "2022-07-11T15:33:38.985Z"
   },
   {
    "duration": 1097,
    "start_time": "2022-07-11T15:33:39.516Z"
   },
   {
    "duration": 51,
    "start_time": "2022-07-11T15:33:40.615Z"
   },
   {
    "duration": 59,
    "start_time": "2022-07-11T15:33:40.668Z"
   },
   {
    "duration": 43,
    "start_time": "2022-07-11T15:33:40.730Z"
   },
   {
    "duration": 350,
    "start_time": "2022-07-11T15:33:40.774Z"
   },
   {
    "duration": 384,
    "start_time": "2022-07-11T15:33:41.127Z"
   },
   {
    "duration": 97,
    "start_time": "2022-07-11T15:33:41.513Z"
   },
   {
    "duration": 155,
    "start_time": "2022-07-11T15:33:41.612Z"
   },
   {
    "duration": 26,
    "start_time": "2022-07-11T15:33:41.768Z"
   },
   {
    "duration": 5145,
    "start_time": "2022-07-11T15:33:41.796Z"
   },
   {
    "duration": 38,
    "start_time": "2022-07-11T15:33:46.943Z"
   },
   {
    "duration": 148,
    "start_time": "2022-07-11T15:33:46.982Z"
   },
   {
    "duration": 516,
    "start_time": "2022-07-11T15:33:47.131Z"
   },
   {
    "duration": 11,
    "start_time": "2022-07-11T15:33:47.650Z"
   },
   {
    "duration": 146,
    "start_time": "2022-07-11T15:33:47.664Z"
   },
   {
    "duration": 806,
    "start_time": "2022-07-11T15:33:47.812Z"
   },
   {
    "duration": 436,
    "start_time": "2022-07-11T15:33:48.623Z"
   },
   {
    "duration": 28,
    "start_time": "2022-07-11T15:33:49.066Z"
   },
   {
    "duration": 14,
    "start_time": "2022-07-11T15:33:49.096Z"
   },
   {
    "duration": 2134,
    "start_time": "2022-07-11T15:33:49.126Z"
   },
   {
    "duration": 528,
    "start_time": "2022-07-11T15:33:51.262Z"
   },
   {
    "duration": 2103,
    "start_time": "2022-07-11T15:33:51.792Z"
   },
   {
    "duration": 2068,
    "start_time": "2022-07-11T15:33:53.897Z"
   },
   {
    "duration": 1894,
    "start_time": "2022-07-11T15:33:55.968Z"
   },
   {
    "duration": 73,
    "start_time": "2022-07-11T15:33:57.864Z"
   },
   {
    "duration": 2027,
    "start_time": "2022-07-11T15:33:57.939Z"
   },
   {
    "duration": 1641,
    "start_time": "2022-07-11T15:33:59.968Z"
   },
   {
    "duration": 65,
    "start_time": "2022-07-11T15:34:01.610Z"
   },
   {
    "duration": 1796,
    "start_time": "2022-07-11T15:34:01.677Z"
   },
   {
    "duration": 1661,
    "start_time": "2022-07-11T15:34:03.475Z"
   },
   {
    "duration": 23,
    "start_time": "2022-07-11T15:34:05.139Z"
   },
   {
    "duration": 67,
    "start_time": "2022-07-11T15:34:05.164Z"
   },
   {
    "duration": 47,
    "start_time": "2022-07-11T15:34:05.234Z"
   },
   {
    "duration": 14,
    "start_time": "2022-07-11T15:34:05.284Z"
   },
   {
    "duration": 37,
    "start_time": "2022-07-11T15:34:05.301Z"
   },
   {
    "duration": 150,
    "start_time": "2022-07-11T15:34:05.341Z"
   },
   {
    "duration": 32,
    "start_time": "2022-07-11T15:34:05.492Z"
   },
   {
    "duration": 6,
    "start_time": "2022-07-11T15:34:05.527Z"
   },
   {
    "duration": 23,
    "start_time": "2022-07-11T15:34:05.535Z"
   },
   {
    "duration": 0,
    "start_time": "2022-07-11T15:34:05.561Z"
   },
   {
    "duration": 0,
    "start_time": "2022-07-11T15:34:05.563Z"
   },
   {
    "duration": 0,
    "start_time": "2022-07-11T15:34:05.565Z"
   },
   {
    "duration": 0,
    "start_time": "2022-07-11T15:34:05.566Z"
   },
   {
    "duration": 0,
    "start_time": "2022-07-11T15:34:05.567Z"
   },
   {
    "duration": 0,
    "start_time": "2022-07-11T15:34:05.569Z"
   },
   {
    "duration": 0,
    "start_time": "2022-07-11T15:34:05.570Z"
   },
   {
    "duration": 0,
    "start_time": "2022-07-11T15:34:05.571Z"
   },
   {
    "duration": 0,
    "start_time": "2022-07-11T15:34:05.573Z"
   },
   {
    "duration": 0,
    "start_time": "2022-07-11T15:34:05.575Z"
   },
   {
    "duration": 0,
    "start_time": "2022-07-11T15:34:05.576Z"
   },
   {
    "duration": 0,
    "start_time": "2022-07-11T15:34:05.577Z"
   },
   {
    "duration": 0,
    "start_time": "2022-07-11T15:34:05.578Z"
   },
   {
    "duration": 0,
    "start_time": "2022-07-11T15:34:05.579Z"
   },
   {
    "duration": 0,
    "start_time": "2022-07-11T15:34:05.581Z"
   },
   {
    "duration": 0,
    "start_time": "2022-07-11T15:34:05.582Z"
   },
   {
    "duration": 0,
    "start_time": "2022-07-11T15:34:05.585Z"
   },
   {
    "duration": 0,
    "start_time": "2022-07-11T15:34:05.624Z"
   },
   {
    "duration": 0,
    "start_time": "2022-07-11T15:34:05.625Z"
   },
   {
    "duration": 0,
    "start_time": "2022-07-11T15:34:05.628Z"
   },
   {
    "duration": 0,
    "start_time": "2022-07-11T15:34:05.630Z"
   },
   {
    "duration": 0,
    "start_time": "2022-07-11T15:34:05.631Z"
   },
   {
    "duration": 0,
    "start_time": "2022-07-11T15:34:05.633Z"
   },
   {
    "duration": 0,
    "start_time": "2022-07-11T15:34:05.635Z"
   },
   {
    "duration": 0,
    "start_time": "2022-07-11T15:34:05.637Z"
   },
   {
    "duration": 0,
    "start_time": "2022-07-11T15:34:05.639Z"
   },
   {
    "duration": 0,
    "start_time": "2022-07-11T15:34:05.640Z"
   },
   {
    "duration": 0,
    "start_time": "2022-07-11T15:34:05.642Z"
   },
   {
    "duration": 0,
    "start_time": "2022-07-11T15:34:05.643Z"
   },
   {
    "duration": 0,
    "start_time": "2022-07-11T15:34:05.645Z"
   },
   {
    "duration": 0,
    "start_time": "2022-07-11T15:34:05.647Z"
   },
   {
    "duration": 0,
    "start_time": "2022-07-11T15:34:05.649Z"
   },
   {
    "duration": 0,
    "start_time": "2022-07-11T15:34:05.650Z"
   },
   {
    "duration": 0,
    "start_time": "2022-07-11T15:34:05.651Z"
   },
   {
    "duration": 0,
    "start_time": "2022-07-11T15:34:05.653Z"
   },
   {
    "duration": 0,
    "start_time": "2022-07-11T15:34:05.654Z"
   },
   {
    "duration": 0,
    "start_time": "2022-07-11T15:34:05.656Z"
   },
   {
    "duration": 0,
    "start_time": "2022-07-11T15:34:05.658Z"
   },
   {
    "duration": 0,
    "start_time": "2022-07-11T15:34:05.660Z"
   },
   {
    "duration": 0,
    "start_time": "2022-07-11T15:34:05.661Z"
   },
   {
    "duration": 0,
    "start_time": "2022-07-11T15:34:05.663Z"
   },
   {
    "duration": 0,
    "start_time": "2022-07-11T15:34:05.664Z"
   },
   {
    "duration": 0,
    "start_time": "2022-07-11T15:34:05.723Z"
   },
   {
    "duration": 0,
    "start_time": "2022-07-11T15:34:05.726Z"
   },
   {
    "duration": 0,
    "start_time": "2022-07-11T15:34:05.727Z"
   },
   {
    "duration": 0,
    "start_time": "2022-07-11T15:34:05.728Z"
   },
   {
    "duration": 0,
    "start_time": "2022-07-11T15:34:05.729Z"
   },
   {
    "duration": 0,
    "start_time": "2022-07-11T15:34:05.732Z"
   },
   {
    "duration": 0,
    "start_time": "2022-07-11T15:34:05.733Z"
   },
   {
    "duration": 0,
    "start_time": "2022-07-11T15:34:05.734Z"
   },
   {
    "duration": 0,
    "start_time": "2022-07-11T15:34:05.736Z"
   },
   {
    "duration": 4188,
    "start_time": "2022-07-11T15:36:30.434Z"
   },
   {
    "duration": 1146,
    "start_time": "2022-07-11T15:36:34.626Z"
   },
   {
    "duration": 3150,
    "start_time": "2022-07-11T15:36:35.824Z"
   },
   {
    "duration": 6,
    "start_time": "2022-07-11T15:36:38.980Z"
   },
   {
    "duration": 15,
    "start_time": "2022-07-11T15:36:38.988Z"
   },
   {
    "duration": 624,
    "start_time": "2022-07-11T15:36:39.006Z"
   },
   {
    "duration": 144,
    "start_time": "2022-07-11T15:36:39.632Z"
   },
   {
    "duration": 52,
    "start_time": "2022-07-11T15:36:39.778Z"
   },
   {
    "duration": 284,
    "start_time": "2022-07-11T15:36:39.832Z"
   },
   {
    "duration": 504,
    "start_time": "2022-07-11T15:36:40.118Z"
   },
   {
    "duration": 1150,
    "start_time": "2022-07-11T15:36:40.624Z"
   },
   {
    "duration": 33,
    "start_time": "2022-07-11T15:36:41.775Z"
   },
   {
    "duration": 47,
    "start_time": "2022-07-11T15:36:41.823Z"
   },
   {
    "duration": 37,
    "start_time": "2022-07-11T15:36:41.872Z"
   },
   {
    "duration": 375,
    "start_time": "2022-07-11T15:36:41.911Z"
   },
   {
    "duration": 347,
    "start_time": "2022-07-11T15:36:42.288Z"
   },
   {
    "duration": 105,
    "start_time": "2022-07-11T15:36:42.637Z"
   },
   {
    "duration": 157,
    "start_time": "2022-07-11T15:36:42.744Z"
   },
   {
    "duration": 43,
    "start_time": "2022-07-11T15:36:42.904Z"
   },
   {
    "duration": 4984,
    "start_time": "2022-07-11T15:36:42.949Z"
   },
   {
    "duration": 25,
    "start_time": "2022-07-11T15:36:47.936Z"
   },
   {
    "duration": 144,
    "start_time": "2022-07-11T15:36:47.963Z"
   },
   {
    "duration": 469,
    "start_time": "2022-07-11T15:36:48.109Z"
   },
   {
    "duration": 10,
    "start_time": "2022-07-11T15:36:48.581Z"
   },
   {
    "duration": 134,
    "start_time": "2022-07-11T15:36:48.593Z"
   },
   {
    "duration": 827,
    "start_time": "2022-07-11T15:36:48.730Z"
   },
   {
    "duration": 380,
    "start_time": "2022-07-11T15:36:49.559Z"
   },
   {
    "duration": 26,
    "start_time": "2022-07-11T15:36:49.946Z"
   },
   {
    "duration": 11,
    "start_time": "2022-07-11T15:36:49.974Z"
   },
   {
    "duration": 2106,
    "start_time": "2022-07-11T15:36:49.987Z"
   },
   {
    "duration": 576,
    "start_time": "2022-07-11T15:36:52.095Z"
   },
   {
    "duration": 2101,
    "start_time": "2022-07-11T15:36:52.673Z"
   },
   {
    "duration": 2152,
    "start_time": "2022-07-11T15:36:54.776Z"
   },
   {
    "duration": 1879,
    "start_time": "2022-07-11T15:36:56.931Z"
   },
   {
    "duration": 76,
    "start_time": "2022-07-11T15:36:58.813Z"
   },
   {
    "duration": 1941,
    "start_time": "2022-07-11T15:36:58.891Z"
   },
   {
    "duration": 1701,
    "start_time": "2022-07-11T15:37:00.834Z"
   },
   {
    "duration": 59,
    "start_time": "2022-07-11T15:37:02.537Z"
   },
   {
    "duration": 1779,
    "start_time": "2022-07-11T15:37:02.598Z"
   },
   {
    "duration": 1671,
    "start_time": "2022-07-11T15:37:04.379Z"
   },
   {
    "duration": 31,
    "start_time": "2022-07-11T15:37:06.052Z"
   },
   {
    "duration": 96,
    "start_time": "2022-07-11T15:37:06.085Z"
   },
   {
    "duration": 50,
    "start_time": "2022-07-11T15:37:06.183Z"
   },
   {
    "duration": 15,
    "start_time": "2022-07-11T15:37:06.235Z"
   },
   {
    "duration": 22,
    "start_time": "2022-07-11T15:37:06.252Z"
   },
   {
    "duration": 155,
    "start_time": "2022-07-11T15:37:06.276Z"
   },
   {
    "duration": 24,
    "start_time": "2022-07-11T15:37:06.433Z"
   },
   {
    "duration": 6,
    "start_time": "2022-07-11T15:37:06.458Z"
   },
   {
    "duration": 10,
    "start_time": "2022-07-11T15:37:06.467Z"
   },
   {
    "duration": 371743,
    "start_time": "2022-07-11T15:37:06.479Z"
   },
   {
    "duration": 7,
    "start_time": "2022-07-11T15:43:18.224Z"
   },
   {
    "duration": 1009,
    "start_time": "2022-07-11T15:43:18.233Z"
   },
   {
    "duration": 20,
    "start_time": "2022-07-11T15:43:19.245Z"
   },
   {
    "duration": 14,
    "start_time": "2022-07-11T15:43:19.267Z"
   },
   {
    "duration": 4,
    "start_time": "2022-07-11T15:43:19.283Z"
   },
   {
    "duration": 6,
    "start_time": "2022-07-11T15:43:19.288Z"
   },
   {
    "duration": 28,
    "start_time": "2022-07-11T15:43:19.296Z"
   },
   {
    "duration": 6,
    "start_time": "2022-07-11T15:43:19.326Z"
   },
   {
    "duration": 4329,
    "start_time": "2022-07-11T16:08:08.703Z"
   },
   {
    "duration": 920,
    "start_time": "2022-07-11T16:08:13.035Z"
   },
   {
    "duration": 1804,
    "start_time": "2022-07-11T16:08:13.957Z"
   },
   {
    "duration": 4,
    "start_time": "2022-07-11T16:08:15.763Z"
   },
   {
    "duration": 12,
    "start_time": "2022-07-11T16:08:15.769Z"
   },
   {
    "duration": 586,
    "start_time": "2022-07-11T16:08:15.783Z"
   },
   {
    "duration": 126,
    "start_time": "2022-07-11T16:08:16.371Z"
   },
   {
    "duration": 53,
    "start_time": "2022-07-11T16:08:16.498Z"
   },
   {
    "duration": 278,
    "start_time": "2022-07-11T16:08:16.553Z"
   },
   {
    "duration": 483,
    "start_time": "2022-07-11T16:08:16.834Z"
   },
   {
    "duration": 1055,
    "start_time": "2022-07-11T16:08:17.323Z"
   },
   {
    "duration": 31,
    "start_time": "2022-07-11T16:08:18.380Z"
   },
   {
    "duration": 44,
    "start_time": "2022-07-11T16:08:18.424Z"
   },
   {
    "duration": 31,
    "start_time": "2022-07-11T16:08:18.470Z"
   },
   {
    "duration": 364,
    "start_time": "2022-07-11T16:08:18.503Z"
   },
   {
    "duration": 412,
    "start_time": "2022-07-11T16:08:18.870Z"
   },
   {
    "duration": 89,
    "start_time": "2022-07-11T16:08:19.283Z"
   },
   {
    "duration": 133,
    "start_time": "2022-07-11T16:08:19.374Z"
   },
   {
    "duration": 39,
    "start_time": "2022-07-11T16:08:19.509Z"
   },
   {
    "duration": 6114,
    "start_time": "2022-07-11T16:08:19.550Z"
   },
   {
    "duration": 24,
    "start_time": "2022-07-11T16:08:25.666Z"
   },
   {
    "duration": 134,
    "start_time": "2022-07-11T16:08:25.691Z"
   },
   {
    "duration": 469,
    "start_time": "2022-07-11T16:08:25.827Z"
   },
   {
    "duration": 7,
    "start_time": "2022-07-11T16:08:26.298Z"
   },
   {
    "duration": 126,
    "start_time": "2022-07-11T16:08:26.307Z"
   },
   {
    "duration": 764,
    "start_time": "2022-07-11T16:08:26.435Z"
   },
   {
    "duration": 339,
    "start_time": "2022-07-11T16:08:27.201Z"
   },
   {
    "duration": 22,
    "start_time": "2022-07-11T16:08:27.545Z"
   },
   {
    "duration": 13,
    "start_time": "2022-07-11T16:08:27.569Z"
   },
   {
    "duration": 2008,
    "start_time": "2022-07-11T16:08:27.583Z"
   },
   {
    "duration": 477,
    "start_time": "2022-07-11T16:08:29.593Z"
   },
   {
    "duration": 2032,
    "start_time": "2022-07-11T16:08:30.072Z"
   },
   {
    "duration": 1939,
    "start_time": "2022-07-11T16:08:32.106Z"
   },
   {
    "duration": 1793,
    "start_time": "2022-07-11T16:08:34.047Z"
   },
   {
    "duration": 59,
    "start_time": "2022-07-11T16:08:35.842Z"
   },
   {
    "duration": 1894,
    "start_time": "2022-07-11T16:08:35.903Z"
   },
   {
    "duration": 1765,
    "start_time": "2022-07-11T16:08:37.799Z"
   },
   {
    "duration": 61,
    "start_time": "2022-07-11T16:08:39.566Z"
   },
   {
    "duration": 1748,
    "start_time": "2022-07-11T16:08:39.629Z"
   },
   {
    "duration": 1525,
    "start_time": "2022-07-11T16:08:41.379Z"
   },
   {
    "duration": 28,
    "start_time": "2022-07-11T16:08:42.906Z"
   },
   {
    "duration": 56,
    "start_time": "2022-07-11T16:08:42.936Z"
   },
   {
    "duration": 61,
    "start_time": "2022-07-11T16:08:42.994Z"
   },
   {
    "duration": 11,
    "start_time": "2022-07-11T16:08:43.057Z"
   },
   {
    "duration": 20,
    "start_time": "2022-07-11T16:08:43.070Z"
   },
   {
    "duration": 139,
    "start_time": "2022-07-11T16:08:43.092Z"
   },
   {
    "duration": 23,
    "start_time": "2022-07-11T16:08:43.233Z"
   },
   {
    "duration": 5,
    "start_time": "2022-07-11T16:08:43.258Z"
   },
   {
    "duration": 6,
    "start_time": "2022-07-11T16:08:43.265Z"
   },
   {
    "duration": 361935,
    "start_time": "2022-07-11T16:08:43.272Z"
   },
   {
    "duration": 5,
    "start_time": "2022-07-11T16:14:45.209Z"
   },
   {
    "duration": 968,
    "start_time": "2022-07-11T16:14:45.216Z"
   },
   {
    "duration": 18,
    "start_time": "2022-07-11T16:14:46.185Z"
   },
   {
    "duration": 26,
    "start_time": "2022-07-11T16:14:46.204Z"
   },
   {
    "duration": 11,
    "start_time": "2022-07-11T16:14:46.233Z"
   },
   {
    "duration": 15,
    "start_time": "2022-07-11T16:14:46.246Z"
   },
   {
    "duration": 10,
    "start_time": "2022-07-11T16:14:46.263Z"
   },
   {
    "duration": 6,
    "start_time": "2022-07-11T16:14:46.275Z"
   },
   {
    "duration": 6693,
    "start_time": "2022-07-11T16:38:45.987Z"
   },
   {
    "duration": 940,
    "start_time": "2022-07-11T16:38:52.683Z"
   },
   {
    "duration": 1920,
    "start_time": "2022-07-11T16:38:53.626Z"
   },
   {
    "duration": 5,
    "start_time": "2022-07-11T16:38:55.549Z"
   },
   {
    "duration": 16,
    "start_time": "2022-07-11T16:38:55.556Z"
   },
   {
    "duration": 601,
    "start_time": "2022-07-11T16:38:55.574Z"
   },
   {
    "duration": 149,
    "start_time": "2022-07-11T16:38:56.177Z"
   },
   {
    "duration": 47,
    "start_time": "2022-07-11T16:38:56.330Z"
   },
   {
    "duration": 304,
    "start_time": "2022-07-11T16:38:56.379Z"
   },
   {
    "duration": 509,
    "start_time": "2022-07-11T16:38:56.687Z"
   },
   {
    "duration": 1020,
    "start_time": "2022-07-11T16:38:57.199Z"
   },
   {
    "duration": 46,
    "start_time": "2022-07-11T16:38:58.222Z"
   },
   {
    "duration": 31,
    "start_time": "2022-07-11T16:38:58.271Z"
   },
   {
    "duration": 63,
    "start_time": "2022-07-11T16:38:58.304Z"
   },
   {
    "duration": 341,
    "start_time": "2022-07-11T16:38:58.369Z"
   },
   {
    "duration": 402,
    "start_time": "2022-07-11T16:38:58.712Z"
   },
   {
    "duration": 119,
    "start_time": "2022-07-11T16:38:59.117Z"
   },
   {
    "duration": 155,
    "start_time": "2022-07-11T16:38:59.239Z"
   },
   {
    "duration": 31,
    "start_time": "2022-07-11T16:38:59.396Z"
   },
   {
    "duration": 4763,
    "start_time": "2022-07-11T16:38:59.429Z"
   },
   {
    "duration": 35,
    "start_time": "2022-07-11T16:39:04.194Z"
   },
   {
    "duration": 198,
    "start_time": "2022-07-11T16:39:04.231Z"
   },
   {
    "duration": 503,
    "start_time": "2022-07-11T16:39:04.431Z"
   },
   {
    "duration": 10,
    "start_time": "2022-07-11T16:39:04.940Z"
   },
   {
    "duration": 121,
    "start_time": "2022-07-11T16:39:04.952Z"
   },
   {
    "duration": 769,
    "start_time": "2022-07-11T16:39:05.075Z"
   },
   {
    "duration": 354,
    "start_time": "2022-07-11T16:39:05.846Z"
   },
   {
    "duration": 30,
    "start_time": "2022-07-11T16:39:06.206Z"
   },
   {
    "duration": 10,
    "start_time": "2022-07-11T16:39:06.238Z"
   },
   {
    "duration": 7516,
    "start_time": "2022-07-11T16:39:08.580Z"
   },
   {
    "duration": 987,
    "start_time": "2022-07-11T16:39:16.099Z"
   },
   {
    "duration": 2073,
    "start_time": "2022-07-11T16:39:17.088Z"
   },
   {
    "duration": 6,
    "start_time": "2022-07-11T16:39:19.164Z"
   },
   {
    "duration": 20,
    "start_time": "2022-07-11T16:39:19.173Z"
   },
   {
    "duration": 618,
    "start_time": "2022-07-11T16:39:19.195Z"
   },
   {
    "duration": 138,
    "start_time": "2022-07-11T16:39:19.815Z"
   },
   {
    "duration": 38,
    "start_time": "2022-07-11T16:39:19.956Z"
   },
   {
    "duration": 299,
    "start_time": "2022-07-11T16:39:19.996Z"
   },
   {
    "duration": 480,
    "start_time": "2022-07-11T16:39:20.299Z"
   },
   {
    "duration": 1090,
    "start_time": "2022-07-11T16:39:20.781Z"
   },
   {
    "duration": 30,
    "start_time": "2022-07-11T16:39:21.873Z"
   },
   {
    "duration": 55,
    "start_time": "2022-07-11T16:39:21.905Z"
   },
   {
    "duration": 36,
    "start_time": "2022-07-11T16:39:21.962Z"
   },
   {
    "duration": 346,
    "start_time": "2022-07-11T16:39:22.001Z"
   },
   {
    "duration": 347,
    "start_time": "2022-07-11T16:39:22.349Z"
   },
   {
    "duration": 111,
    "start_time": "2022-07-11T16:39:22.698Z"
   },
   {
    "duration": 154,
    "start_time": "2022-07-11T16:39:22.811Z"
   },
   {
    "duration": 36,
    "start_time": "2022-07-11T16:39:22.966Z"
   },
   {
    "duration": 5246,
    "start_time": "2022-07-11T16:39:23.003Z"
   },
   {
    "duration": 34,
    "start_time": "2022-07-11T16:39:28.250Z"
   },
   {
    "duration": 204,
    "start_time": "2022-07-11T16:39:28.286Z"
   },
   {
    "duration": 587,
    "start_time": "2022-07-11T16:39:28.492Z"
   },
   {
    "duration": 10,
    "start_time": "2022-07-11T16:39:29.083Z"
   },
   {
    "duration": 148,
    "start_time": "2022-07-11T16:39:29.095Z"
   },
   {
    "duration": 804,
    "start_time": "2022-07-11T16:39:29.245Z"
   },
   {
    "duration": 392,
    "start_time": "2022-07-11T16:39:30.052Z"
   },
   {
    "duration": 23,
    "start_time": "2022-07-11T16:39:30.451Z"
   },
   {
    "duration": 31,
    "start_time": "2022-07-11T16:39:30.476Z"
   },
   {
    "duration": 2423,
    "start_time": "2022-07-11T16:39:30.510Z"
   },
   {
    "duration": 518,
    "start_time": "2022-07-11T16:39:32.936Z"
   },
   {
    "duration": 2034,
    "start_time": "2022-07-11T16:39:33.456Z"
   },
   {
    "duration": 2049,
    "start_time": "2022-07-11T16:39:35.492Z"
   },
   {
    "duration": 2068,
    "start_time": "2022-07-11T16:39:37.543Z"
   },
   {
    "duration": 62,
    "start_time": "2022-07-11T16:39:39.613Z"
   },
   {
    "duration": 2119,
    "start_time": "2022-07-11T16:39:39.677Z"
   },
   {
    "duration": 1707,
    "start_time": "2022-07-11T16:39:41.797Z"
   },
   {
    "duration": 76,
    "start_time": "2022-07-11T16:39:43.507Z"
   },
   {
    "duration": 1900,
    "start_time": "2022-07-11T16:39:43.586Z"
   },
   {
    "duration": 1608,
    "start_time": "2022-07-11T16:39:45.489Z"
   },
   {
    "duration": 33,
    "start_time": "2022-07-11T16:39:47.098Z"
   },
   {
    "duration": 73,
    "start_time": "2022-07-11T16:39:47.133Z"
   },
   {
    "duration": 65,
    "start_time": "2022-07-11T16:39:47.208Z"
   },
   {
    "duration": 18,
    "start_time": "2022-07-11T16:39:47.275Z"
   },
   {
    "duration": 45,
    "start_time": "2022-07-11T16:39:47.295Z"
   },
   {
    "duration": 180,
    "start_time": "2022-07-11T16:39:47.343Z"
   },
   {
    "duration": 26,
    "start_time": "2022-07-11T16:39:47.525Z"
   },
   {
    "duration": 5,
    "start_time": "2022-07-11T16:39:47.554Z"
   },
   {
    "duration": 13,
    "start_time": "2022-07-11T16:39:47.562Z"
   },
   {
    "duration": 8,
    "start_time": "2022-07-11T16:39:47.577Z"
   },
   {
    "duration": 10,
    "start_time": "2022-07-11T16:39:47.587Z"
   },
   {
    "duration": 1076,
    "start_time": "2022-07-11T16:39:47.599Z"
   },
   {
    "duration": 18,
    "start_time": "2022-07-11T16:39:48.677Z"
   },
   {
    "duration": 31,
    "start_time": "2022-07-11T16:39:48.696Z"
   },
   {
    "duration": 3,
    "start_time": "2022-07-11T16:39:48.729Z"
   },
   {
    "duration": 21,
    "start_time": "2022-07-11T16:39:48.735Z"
   },
   {
    "duration": 10,
    "start_time": "2022-07-11T16:39:48.759Z"
   },
   {
    "duration": 12,
    "start_time": "2022-07-11T16:39:48.771Z"
   },
   {
    "duration": 4161,
    "start_time": "2022-07-11T16:58:18.847Z"
   },
   {
    "duration": 946,
    "start_time": "2022-07-11T16:58:23.011Z"
   },
   {
    "duration": 1972,
    "start_time": "2022-07-11T16:58:23.959Z"
   },
   {
    "duration": 5,
    "start_time": "2022-07-11T16:58:25.934Z"
   },
   {
    "duration": 12,
    "start_time": "2022-07-11T16:58:25.942Z"
   },
   {
    "duration": 606,
    "start_time": "2022-07-11T16:58:25.956Z"
   },
   {
    "duration": 142,
    "start_time": "2022-07-11T16:58:26.564Z"
   },
   {
    "duration": 61,
    "start_time": "2022-07-11T16:58:26.708Z"
   },
   {
    "duration": 663,
    "start_time": "2022-07-11T16:58:26.772Z"
   },
   {
    "duration": 1200,
    "start_time": "2022-07-11T16:58:27.439Z"
   },
   {
    "duration": 1875,
    "start_time": "2022-07-11T16:58:28.642Z"
   },
   {
    "duration": 46,
    "start_time": "2022-07-11T16:58:30.523Z"
   },
   {
    "duration": 74,
    "start_time": "2022-07-11T16:58:30.571Z"
   },
   {
    "duration": 69,
    "start_time": "2022-07-11T16:58:30.647Z"
   },
   {
    "duration": 398,
    "start_time": "2022-07-11T16:58:30.718Z"
   },
   {
    "duration": 364,
    "start_time": "2022-07-11T16:58:31.124Z"
   },
   {
    "duration": 91,
    "start_time": "2022-07-11T16:58:31.490Z"
   },
   {
    "duration": 146,
    "start_time": "2022-07-11T16:58:31.583Z"
   },
   {
    "duration": 36,
    "start_time": "2022-07-11T16:58:31.731Z"
   },
   {
    "duration": 4928,
    "start_time": "2022-07-11T16:58:31.770Z"
   },
   {
    "duration": 26,
    "start_time": "2022-07-11T16:58:36.699Z"
   },
   {
    "duration": 157,
    "start_time": "2022-07-11T16:58:36.728Z"
   },
   {
    "duration": 519,
    "start_time": "2022-07-11T16:58:36.887Z"
   },
   {
    "duration": 21,
    "start_time": "2022-07-11T16:58:37.408Z"
   },
   {
    "duration": 136,
    "start_time": "2022-07-11T16:58:37.431Z"
   },
   {
    "duration": 782,
    "start_time": "2022-07-11T16:58:37.569Z"
   },
   {
    "duration": 346,
    "start_time": "2022-07-11T16:58:38.353Z"
   },
   {
    "duration": 30,
    "start_time": "2022-07-11T16:58:38.704Z"
   },
   {
    "duration": 22,
    "start_time": "2022-07-11T16:58:38.738Z"
   },
   {
    "duration": 2034,
    "start_time": "2022-07-11T16:58:38.762Z"
   },
   {
    "duration": 689,
    "start_time": "2022-07-11T16:58:40.798Z"
   },
   {
    "duration": 2170,
    "start_time": "2022-07-11T16:58:41.489Z"
   },
   {
    "duration": 2147,
    "start_time": "2022-07-11T16:58:43.661Z"
   },
   {
    "duration": 1895,
    "start_time": "2022-07-11T16:58:45.810Z"
   },
   {
    "duration": 80,
    "start_time": "2022-07-11T16:58:47.707Z"
   },
   {
    "duration": 1931,
    "start_time": "2022-07-11T16:58:47.789Z"
   },
   {
    "duration": 1754,
    "start_time": "2022-07-11T16:58:49.723Z"
   },
   {
    "duration": 68,
    "start_time": "2022-07-11T16:58:51.479Z"
   },
   {
    "duration": 1849,
    "start_time": "2022-07-11T16:58:51.549Z"
   },
   {
    "duration": 1575,
    "start_time": "2022-07-11T16:58:53.399Z"
   },
   {
    "duration": 32,
    "start_time": "2022-07-11T16:58:54.976Z"
   },
   {
    "duration": 76,
    "start_time": "2022-07-11T16:58:55.010Z"
   },
   {
    "duration": 60,
    "start_time": "2022-07-11T16:58:55.088Z"
   },
   {
    "duration": 14,
    "start_time": "2022-07-11T16:58:55.150Z"
   },
   {
    "duration": 23,
    "start_time": "2022-07-11T16:58:55.166Z"
   },
   {
    "duration": 141,
    "start_time": "2022-07-11T16:58:55.192Z"
   },
   {
    "duration": 22,
    "start_time": "2022-07-11T16:58:55.337Z"
   },
   {
    "duration": 5,
    "start_time": "2022-07-11T16:58:55.361Z"
   },
   {
    "duration": 17,
    "start_time": "2022-07-11T16:58:55.367Z"
   },
   {
    "duration": 6,
    "start_time": "2022-07-11T16:58:55.387Z"
   },
   {
    "duration": 8,
    "start_time": "2022-07-11T16:58:55.394Z"
   },
   {
    "duration": 984,
    "start_time": "2022-07-11T16:58:55.404Z"
   },
   {
    "duration": 17,
    "start_time": "2022-07-11T16:58:56.389Z"
   },
   {
    "duration": 29,
    "start_time": "2022-07-11T16:58:56.408Z"
   },
   {
    "duration": 4,
    "start_time": "2022-07-11T16:58:56.438Z"
   },
   {
    "duration": 13,
    "start_time": "2022-07-11T16:58:56.445Z"
   },
   {
    "duration": 18,
    "start_time": "2022-07-11T16:58:56.461Z"
   },
   {
    "duration": 18,
    "start_time": "2022-07-11T16:58:56.482Z"
   },
   {
    "duration": 4207,
    "start_time": "2022-07-11T17:26:42.471Z"
   },
   {
    "duration": 1039,
    "start_time": "2022-07-11T17:26:46.681Z"
   },
   {
    "duration": 2253,
    "start_time": "2022-07-11T17:26:47.722Z"
   },
   {
    "duration": 5,
    "start_time": "2022-07-11T17:26:49.977Z"
   },
   {
    "duration": 15,
    "start_time": "2022-07-11T17:26:49.984Z"
   },
   {
    "duration": 593,
    "start_time": "2022-07-11T17:26:50.001Z"
   },
   {
    "duration": 158,
    "start_time": "2022-07-11T17:26:50.597Z"
   },
   {
    "duration": 45,
    "start_time": "2022-07-11T17:26:50.757Z"
   },
   {
    "duration": 321,
    "start_time": "2022-07-11T17:26:50.804Z"
   },
   {
    "duration": 490,
    "start_time": "2022-07-11T17:26:51.129Z"
   },
   {
    "duration": 1542,
    "start_time": "2022-07-11T17:26:51.623Z"
   },
   {
    "duration": 98,
    "start_time": "2022-07-11T17:26:53.167Z"
   },
   {
    "duration": 107,
    "start_time": "2022-07-11T17:26:53.267Z"
   },
   {
    "duration": 45,
    "start_time": "2022-07-11T17:26:53.422Z"
   },
   {
    "duration": 873,
    "start_time": "2022-07-11T17:26:53.469Z"
   },
   {
    "duration": 795,
    "start_time": "2022-07-11T17:26:54.345Z"
   },
   {
    "duration": 91,
    "start_time": "2022-07-11T17:26:55.142Z"
   },
   {
    "duration": 116,
    "start_time": "2022-07-11T17:26:55.236Z"
   },
   {
    "duration": 30,
    "start_time": "2022-07-11T17:26:55.354Z"
   },
   {
    "duration": 4873,
    "start_time": "2022-07-11T17:26:55.387Z"
   },
   {
    "duration": 26,
    "start_time": "2022-07-11T17:27:00.262Z"
   },
   {
    "duration": 150,
    "start_time": "2022-07-11T17:27:00.290Z"
   },
   {
    "duration": 497,
    "start_time": "2022-07-11T17:27:00.442Z"
   },
   {
    "duration": 13,
    "start_time": "2022-07-11T17:27:00.942Z"
   },
   {
    "duration": 169,
    "start_time": "2022-07-11T17:27:00.957Z"
   },
   {
    "duration": 739,
    "start_time": "2022-07-11T17:27:01.129Z"
   },
   {
    "duration": 344,
    "start_time": "2022-07-11T17:27:01.871Z"
   },
   {
    "duration": 26,
    "start_time": "2022-07-11T17:27:02.219Z"
   },
   {
    "duration": 22,
    "start_time": "2022-07-11T17:27:02.247Z"
   },
   {
    "duration": 1971,
    "start_time": "2022-07-11T17:27:02.271Z"
   },
   {
    "duration": 521,
    "start_time": "2022-07-11T17:27:04.245Z"
   },
   {
    "duration": 2048,
    "start_time": "2022-07-11T17:27:04.768Z"
   },
   {
    "duration": 2214,
    "start_time": "2022-07-11T17:27:06.818Z"
   },
   {
    "duration": 1834,
    "start_time": "2022-07-11T17:27:09.035Z"
   },
   {
    "duration": 62,
    "start_time": "2022-07-11T17:27:10.871Z"
   },
   {
    "duration": 1911,
    "start_time": "2022-07-11T17:27:10.935Z"
   },
   {
    "duration": 1643,
    "start_time": "2022-07-11T17:27:12.848Z"
   },
   {
    "duration": 67,
    "start_time": "2022-07-11T17:27:14.493Z"
   },
   {
    "duration": 1814,
    "start_time": "2022-07-11T17:27:14.561Z"
   },
   {
    "duration": 1499,
    "start_time": "2022-07-11T17:27:16.377Z"
   },
   {
    "duration": 19,
    "start_time": "2022-07-11T17:27:17.878Z"
   },
   {
    "duration": 74,
    "start_time": "2022-07-11T17:27:17.899Z"
   },
   {
    "duration": 48,
    "start_time": "2022-07-11T17:27:17.975Z"
   },
   {
    "duration": 13,
    "start_time": "2022-07-11T17:27:18.026Z"
   },
   {
    "duration": 28,
    "start_time": "2022-07-11T17:27:18.042Z"
   },
   {
    "duration": 133,
    "start_time": "2022-07-11T17:27:18.072Z"
   },
   {
    "duration": 33,
    "start_time": "2022-07-11T17:27:18.207Z"
   },
   {
    "duration": 5,
    "start_time": "2022-07-11T17:27:18.242Z"
   },
   {
    "duration": 6,
    "start_time": "2022-07-11T17:27:18.249Z"
   },
   {
    "duration": 9,
    "start_time": "2022-07-11T17:27:18.257Z"
   },
   {
    "duration": 8,
    "start_time": "2022-07-11T17:27:18.268Z"
   },
   {
    "duration": 1052,
    "start_time": "2022-07-11T17:27:18.279Z"
   },
   {
    "duration": 21,
    "start_time": "2022-07-11T17:27:19.333Z"
   },
   {
    "duration": 29,
    "start_time": "2022-07-11T17:27:19.356Z"
   },
   {
    "duration": 7,
    "start_time": "2022-07-11T17:27:19.387Z"
   },
   {
    "duration": 14,
    "start_time": "2022-07-11T17:27:19.396Z"
   },
   {
    "duration": 13,
    "start_time": "2022-07-11T17:27:19.413Z"
   },
   {
    "duration": 11,
    "start_time": "2022-07-11T17:27:19.429Z"
   },
   {
    "duration": 913416,
    "start_time": "2022-07-11T17:27:19.443Z"
   },
   {
    "duration": 6,
    "start_time": "2022-07-11T17:42:32.861Z"
   },
   {
    "duration": 222,
    "start_time": "2022-07-11T17:42:32.868Z"
   },
   {
    "duration": 109,
    "start_time": "2022-07-11T17:42:33.091Z"
   },
   {
    "duration": 16,
    "start_time": "2022-07-11T17:42:33.202Z"
   },
   {
    "duration": 0,
    "start_time": "2022-07-11T17:42:33.220Z"
   },
   {
    "duration": 0,
    "start_time": "2022-07-11T17:42:33.222Z"
   },
   {
    "duration": 0,
    "start_time": "2022-07-11T17:42:33.223Z"
   },
   {
    "duration": 0,
    "start_time": "2022-07-11T17:42:33.225Z"
   },
   {
    "duration": 0,
    "start_time": "2022-07-11T17:42:33.226Z"
   },
   {
    "duration": 0,
    "start_time": "2022-07-11T17:42:33.229Z"
   },
   {
    "duration": 0,
    "start_time": "2022-07-11T17:42:33.230Z"
   },
   {
    "duration": 0,
    "start_time": "2022-07-11T17:42:33.232Z"
   },
   {
    "duration": 0,
    "start_time": "2022-07-11T17:42:33.232Z"
   },
   {
    "duration": 0,
    "start_time": "2022-07-11T17:42:33.234Z"
   },
   {
    "duration": 0,
    "start_time": "2022-07-11T17:42:33.235Z"
   },
   {
    "duration": 0,
    "start_time": "2022-07-11T17:42:33.237Z"
   },
   {
    "duration": 0,
    "start_time": "2022-07-11T17:42:33.239Z"
   },
   {
    "duration": 0,
    "start_time": "2022-07-11T17:42:33.240Z"
   },
   {
    "duration": 0,
    "start_time": "2022-07-11T17:42:33.241Z"
   },
   {
    "duration": 0,
    "start_time": "2022-07-11T17:42:33.244Z"
   },
   {
    "duration": 0,
    "start_time": "2022-07-11T17:42:33.245Z"
   },
   {
    "duration": 1,
    "start_time": "2022-07-11T17:42:33.246Z"
   },
   {
    "duration": 0,
    "start_time": "2022-07-11T17:42:33.248Z"
   },
   {
    "duration": 0,
    "start_time": "2022-07-11T17:42:33.249Z"
   },
   {
    "duration": 0,
    "start_time": "2022-07-11T17:42:33.250Z"
   },
   {
    "duration": 0,
    "start_time": "2022-07-11T17:42:33.251Z"
   },
   {
    "duration": 0,
    "start_time": "2022-07-11T17:42:33.253Z"
   },
   {
    "duration": 0,
    "start_time": "2022-07-11T17:42:33.254Z"
   },
   {
    "duration": 0,
    "start_time": "2022-07-11T17:42:33.255Z"
   },
   {
    "duration": 0,
    "start_time": "2022-07-11T17:42:33.256Z"
   },
   {
    "duration": 0,
    "start_time": "2022-07-11T17:42:33.258Z"
   },
   {
    "duration": 0,
    "start_time": "2022-07-11T17:42:33.259Z"
   },
   {
    "duration": 0,
    "start_time": "2022-07-11T17:42:33.260Z"
   },
   {
    "duration": 0,
    "start_time": "2022-07-11T17:42:33.262Z"
   },
   {
    "duration": 0,
    "start_time": "2022-07-11T17:42:33.263Z"
   },
   {
    "duration": 0,
    "start_time": "2022-07-11T17:42:33.265Z"
   },
   {
    "duration": 0,
    "start_time": "2022-07-11T17:42:33.324Z"
   },
   {
    "duration": 0,
    "start_time": "2022-07-11T17:42:33.325Z"
   },
   {
    "duration": 0,
    "start_time": "2022-07-11T17:42:33.327Z"
   },
   {
    "duration": 0,
    "start_time": "2022-07-11T17:42:33.328Z"
   },
   {
    "duration": 0,
    "start_time": "2022-07-11T17:42:33.330Z"
   },
   {
    "duration": 62942,
    "start_time": "2022-07-11T17:43:05.572Z"
   },
   {
    "duration": 806,
    "start_time": "2022-07-11T17:44:08.516Z"
   },
   {
    "duration": 23,
    "start_time": "2022-07-11T17:44:09.325Z"
   },
   {
    "duration": 4734,
    "start_time": "2022-07-11T18:06:51.542Z"
   },
   {
    "duration": 1058,
    "start_time": "2022-07-11T18:06:56.279Z"
   },
   {
    "duration": 2148,
    "start_time": "2022-07-11T18:06:57.340Z"
   },
   {
    "duration": 5,
    "start_time": "2022-07-11T18:06:59.489Z"
   },
   {
    "duration": 7,
    "start_time": "2022-07-11T18:06:59.496Z"
   },
   {
    "duration": 935,
    "start_time": "2022-07-11T18:06:59.505Z"
   },
   {
    "duration": 319,
    "start_time": "2022-07-11T18:07:00.445Z"
   },
   {
    "duration": 99,
    "start_time": "2022-07-11T18:07:00.767Z"
   },
   {
    "duration": 776,
    "start_time": "2022-07-11T18:07:00.869Z"
   },
   {
    "duration": 1107,
    "start_time": "2022-07-11T18:07:01.647Z"
   },
   {
    "duration": 1185,
    "start_time": "2022-07-11T18:07:02.757Z"
   },
   {
    "duration": 46,
    "start_time": "2022-07-11T18:07:03.945Z"
   },
   {
    "duration": 55,
    "start_time": "2022-07-11T18:07:03.993Z"
   },
   {
    "duration": 41,
    "start_time": "2022-07-11T18:07:04.052Z"
   },
   {
    "duration": 410,
    "start_time": "2022-07-11T18:07:04.095Z"
   },
   {
    "duration": 382,
    "start_time": "2022-07-11T18:07:04.507Z"
   },
   {
    "duration": 105,
    "start_time": "2022-07-11T18:07:04.891Z"
   },
   {
    "duration": 150,
    "start_time": "2022-07-11T18:07:04.998Z"
   },
   {
    "duration": 37,
    "start_time": "2022-07-11T18:07:05.151Z"
   },
   {
    "duration": 5570,
    "start_time": "2022-07-11T18:07:05.191Z"
   },
   {
    "duration": 34,
    "start_time": "2022-07-11T18:07:10.763Z"
   },
   {
    "duration": 191,
    "start_time": "2022-07-11T18:07:10.799Z"
   },
   {
    "duration": 568,
    "start_time": "2022-07-11T18:07:10.992Z"
   },
   {
    "duration": 9,
    "start_time": "2022-07-11T18:07:11.562Z"
   },
   {
    "duration": 169,
    "start_time": "2022-07-11T18:07:11.573Z"
   },
   {
    "duration": 795,
    "start_time": "2022-07-11T18:07:11.744Z"
   },
   {
    "duration": 373,
    "start_time": "2022-07-11T18:07:12.542Z"
   },
   {
    "duration": 25,
    "start_time": "2022-07-11T18:07:12.917Z"
   },
   {
    "duration": 15,
    "start_time": "2022-07-11T18:07:12.946Z"
   },
   {
    "duration": 2315,
    "start_time": "2022-07-11T18:07:12.963Z"
   },
   {
    "duration": 649,
    "start_time": "2022-07-11T18:07:15.280Z"
   },
   {
    "duration": 2357,
    "start_time": "2022-07-11T18:07:15.931Z"
   },
   {
    "duration": 2422,
    "start_time": "2022-07-11T18:07:18.291Z"
   },
   {
    "duration": 2160,
    "start_time": "2022-07-11T18:07:20.715Z"
   },
   {
    "duration": 78,
    "start_time": "2022-07-11T18:07:22.878Z"
   },
   {
    "duration": 2164,
    "start_time": "2022-07-11T18:07:22.959Z"
   },
   {
    "duration": 2010,
    "start_time": "2022-07-11T18:07:25.125Z"
   },
   {
    "duration": 61,
    "start_time": "2022-07-11T18:07:27.137Z"
   },
   {
    "duration": 2008,
    "start_time": "2022-07-11T18:07:27.201Z"
   },
   {
    "duration": 1773,
    "start_time": "2022-07-11T18:07:29.211Z"
   },
   {
    "duration": 43,
    "start_time": "2022-07-11T18:07:30.991Z"
   },
   {
    "duration": 67,
    "start_time": "2022-07-11T18:07:31.042Z"
   },
   {
    "duration": 48,
    "start_time": "2022-07-11T18:07:31.111Z"
   },
   {
    "duration": 17,
    "start_time": "2022-07-11T18:07:31.162Z"
   },
   {
    "duration": 50,
    "start_time": "2022-07-11T18:07:31.181Z"
   },
   {
    "duration": 182,
    "start_time": "2022-07-11T18:07:31.236Z"
   },
   {
    "duration": 23,
    "start_time": "2022-07-11T18:07:31.419Z"
   },
   {
    "duration": 17,
    "start_time": "2022-07-11T18:07:31.446Z"
   },
   {
    "duration": 8,
    "start_time": "2022-07-11T18:07:31.466Z"
   },
   {
    "duration": 8,
    "start_time": "2022-07-11T18:07:31.478Z"
   },
   {
    "duration": 7,
    "start_time": "2022-07-11T18:07:31.490Z"
   },
   {
    "duration": 1086,
    "start_time": "2022-07-11T18:07:31.500Z"
   },
   {
    "duration": 19,
    "start_time": "2022-07-11T18:07:32.588Z"
   },
   {
    "duration": 23,
    "start_time": "2022-07-11T18:07:32.625Z"
   },
   {
    "duration": 9,
    "start_time": "2022-07-11T18:07:32.650Z"
   },
   {
    "duration": 11,
    "start_time": "2022-07-11T18:07:32.663Z"
   },
   {
    "duration": 13,
    "start_time": "2022-07-11T18:07:32.676Z"
   },
   {
    "duration": 56,
    "start_time": "2022-07-11T18:07:32.691Z"
   },
   {
    "duration": 0,
    "start_time": "2022-07-11T18:07:32.750Z"
   },
   {
    "duration": 0,
    "start_time": "2022-07-11T18:07:32.752Z"
   },
   {
    "duration": 0,
    "start_time": "2022-07-11T18:07:32.753Z"
   },
   {
    "duration": 0,
    "start_time": "2022-07-11T18:07:32.755Z"
   },
   {
    "duration": 0,
    "start_time": "2022-07-11T18:07:32.756Z"
   },
   {
    "duration": 0,
    "start_time": "2022-07-11T18:07:32.758Z"
   },
   {
    "duration": 0,
    "start_time": "2022-07-11T18:07:32.761Z"
   },
   {
    "duration": 0,
    "start_time": "2022-07-11T18:07:32.762Z"
   },
   {
    "duration": 0,
    "start_time": "2022-07-11T18:07:32.764Z"
   },
   {
    "duration": 0,
    "start_time": "2022-07-11T18:07:32.765Z"
   },
   {
    "duration": 0,
    "start_time": "2022-07-11T18:07:32.767Z"
   },
   {
    "duration": 0,
    "start_time": "2022-07-11T18:07:32.768Z"
   },
   {
    "duration": 0,
    "start_time": "2022-07-11T18:07:32.770Z"
   },
   {
    "duration": 0,
    "start_time": "2022-07-11T18:07:32.772Z"
   },
   {
    "duration": 1,
    "start_time": "2022-07-11T18:07:32.773Z"
   },
   {
    "duration": 0,
    "start_time": "2022-07-11T18:07:32.777Z"
   },
   {
    "duration": 0,
    "start_time": "2022-07-11T18:07:32.779Z"
   },
   {
    "duration": 0,
    "start_time": "2022-07-11T18:07:32.780Z"
   },
   {
    "duration": 0,
    "start_time": "2022-07-11T18:07:32.782Z"
   },
   {
    "duration": 0,
    "start_time": "2022-07-11T18:07:32.784Z"
   },
   {
    "duration": 0,
    "start_time": "2022-07-11T18:07:32.785Z"
   },
   {
    "duration": 0,
    "start_time": "2022-07-11T18:07:32.787Z"
   },
   {
    "duration": 0,
    "start_time": "2022-07-11T18:07:32.788Z"
   },
   {
    "duration": 0,
    "start_time": "2022-07-11T18:07:32.790Z"
   },
   {
    "duration": 0,
    "start_time": "2022-07-11T18:07:32.791Z"
   },
   {
    "duration": 0,
    "start_time": "2022-07-11T18:07:32.792Z"
   },
   {
    "duration": 0,
    "start_time": "2022-07-11T18:07:32.823Z"
   },
   {
    "duration": 0,
    "start_time": "2022-07-11T18:07:32.828Z"
   },
   {
    "duration": 0,
    "start_time": "2022-07-11T18:07:32.829Z"
   },
   {
    "duration": 0,
    "start_time": "2022-07-11T18:07:32.830Z"
   },
   {
    "duration": 0,
    "start_time": "2022-07-11T18:07:32.838Z"
   },
   {
    "duration": 0,
    "start_time": "2022-07-11T18:07:32.839Z"
   },
   {
    "duration": 0,
    "start_time": "2022-07-11T18:07:32.840Z"
   },
   {
    "duration": 0,
    "start_time": "2022-07-11T18:07:32.842Z"
   },
   {
    "duration": 0,
    "start_time": "2022-07-11T18:07:32.843Z"
   },
   {
    "duration": 0,
    "start_time": "2022-07-11T18:07:32.844Z"
   },
   {
    "duration": 0,
    "start_time": "2022-07-11T18:07:32.844Z"
   },
   {
    "duration": 0,
    "start_time": "2022-07-11T18:07:32.845Z"
   },
   {
    "duration": 0,
    "start_time": "2022-07-11T18:07:32.847Z"
   },
   {
    "duration": 0,
    "start_time": "2022-07-11T18:07:32.848Z"
   },
   {
    "duration": 0,
    "start_time": "2022-07-11T18:07:32.849Z"
   },
   {
    "duration": 0,
    "start_time": "2022-07-11T18:07:32.852Z"
   },
   {
    "duration": 8,
    "start_time": "2022-07-11T18:07:43.419Z"
   },
   {
    "duration": 5112,
    "start_time": "2022-07-11T18:07:50.949Z"
   },
   {
    "duration": 1899,
    "start_time": "2022-07-11T18:07:56.065Z"
   },
   {
    "duration": 2341,
    "start_time": "2022-07-11T18:07:57.966Z"
   },
   {
    "duration": 7,
    "start_time": "2022-07-11T18:08:00.312Z"
   },
   {
    "duration": 62,
    "start_time": "2022-07-11T18:08:00.323Z"
   },
   {
    "duration": 667,
    "start_time": "2022-07-11T18:08:00.387Z"
   },
   {
    "duration": 174,
    "start_time": "2022-07-11T18:08:01.057Z"
   },
   {
    "duration": 49,
    "start_time": "2022-07-11T18:08:01.235Z"
   },
   {
    "duration": 392,
    "start_time": "2022-07-11T18:08:01.286Z"
   },
   {
    "duration": 524,
    "start_time": "2022-07-11T18:08:01.683Z"
   },
   {
    "duration": 1217,
    "start_time": "2022-07-11T18:08:02.209Z"
   },
   {
    "duration": 45,
    "start_time": "2022-07-11T18:08:03.428Z"
   },
   {
    "duration": 66,
    "start_time": "2022-07-11T18:08:03.476Z"
   },
   {
    "duration": 65,
    "start_time": "2022-07-11T18:08:03.547Z"
   },
   {
    "duration": 505,
    "start_time": "2022-07-11T18:08:03.614Z"
   },
   {
    "duration": 388,
    "start_time": "2022-07-11T18:08:04.126Z"
   },
   {
    "duration": 115,
    "start_time": "2022-07-11T18:08:04.517Z"
   },
   {
    "duration": 145,
    "start_time": "2022-07-11T18:08:04.634Z"
   },
   {
    "duration": 29,
    "start_time": "2022-07-11T18:08:04.781Z"
   },
   {
    "duration": 6052,
    "start_time": "2022-07-11T18:08:04.823Z"
   },
   {
    "duration": 32,
    "start_time": "2022-07-11T18:08:10.877Z"
   },
   {
    "duration": 253,
    "start_time": "2022-07-11T18:08:10.910Z"
   },
   {
    "duration": 592,
    "start_time": "2022-07-11T18:08:11.168Z"
   },
   {
    "duration": 13,
    "start_time": "2022-07-11T18:08:11.762Z"
   },
   {
    "duration": 151,
    "start_time": "2022-07-11T18:08:11.777Z"
   },
   {
    "duration": 943,
    "start_time": "2022-07-11T18:08:11.931Z"
   },
   {
    "duration": 401,
    "start_time": "2022-07-11T18:08:12.876Z"
   },
   {
    "duration": 24,
    "start_time": "2022-07-11T18:08:13.282Z"
   },
   {
    "duration": 24,
    "start_time": "2022-07-11T18:08:13.309Z"
   },
   {
    "duration": 2394,
    "start_time": "2022-07-11T18:08:13.335Z"
   },
   {
    "duration": 658,
    "start_time": "2022-07-11T18:08:15.734Z"
   },
   {
    "duration": 2553,
    "start_time": "2022-07-11T18:08:16.395Z"
   },
   {
    "duration": 2557,
    "start_time": "2022-07-11T18:08:18.951Z"
   },
   {
    "duration": 2371,
    "start_time": "2022-07-11T18:08:21.511Z"
   },
   {
    "duration": 83,
    "start_time": "2022-07-11T18:08:23.886Z"
   },
   {
    "duration": 2095,
    "start_time": "2022-07-11T18:08:23.971Z"
   },
   {
    "duration": 1916,
    "start_time": "2022-07-11T18:08:26.068Z"
   },
   {
    "duration": 81,
    "start_time": "2022-07-11T18:08:27.987Z"
   },
   {
    "duration": 2143,
    "start_time": "2022-07-11T18:08:28.070Z"
   },
   {
    "duration": 1678,
    "start_time": "2022-07-11T18:08:30.222Z"
   },
   {
    "duration": 41,
    "start_time": "2022-07-11T18:08:31.901Z"
   },
   {
    "duration": 90,
    "start_time": "2022-07-11T18:08:31.945Z"
   },
   {
    "duration": 55,
    "start_time": "2022-07-11T18:08:32.045Z"
   },
   {
    "duration": 26,
    "start_time": "2022-07-11T18:08:32.103Z"
   },
   {
    "duration": 26,
    "start_time": "2022-07-11T18:08:32.133Z"
   },
   {
    "duration": 158,
    "start_time": "2022-07-11T18:08:32.163Z"
   },
   {
    "duration": 32,
    "start_time": "2022-07-11T18:08:32.323Z"
   },
   {
    "duration": 17,
    "start_time": "2022-07-11T18:08:32.357Z"
   },
   {
    "duration": 11,
    "start_time": "2022-07-11T18:08:32.377Z"
   },
   {
    "duration": 5,
    "start_time": "2022-07-11T18:08:32.392Z"
   },
   {
    "duration": 14,
    "start_time": "2022-07-11T18:08:32.400Z"
   },
   {
    "duration": 1058,
    "start_time": "2022-07-11T18:08:32.417Z"
   },
   {
    "duration": 20,
    "start_time": "2022-07-11T18:08:33.478Z"
   },
   {
    "duration": 44,
    "start_time": "2022-07-11T18:08:33.500Z"
   },
   {
    "duration": 5,
    "start_time": "2022-07-11T18:08:33.548Z"
   },
   {
    "duration": 12,
    "start_time": "2022-07-11T18:08:33.555Z"
   },
   {
    "duration": 13,
    "start_time": "2022-07-11T18:08:33.569Z"
   },
   {
    "duration": 14,
    "start_time": "2022-07-11T18:08:33.584Z"
   },
   {
    "duration": 5646,
    "start_time": "2022-07-11T18:41:45.735Z"
   },
   {
    "duration": 968,
    "start_time": "2022-07-11T18:41:51.383Z"
   },
   {
    "duration": 1899,
    "start_time": "2022-07-11T18:41:52.357Z"
   },
   {
    "duration": 5,
    "start_time": "2022-07-11T18:41:54.258Z"
   },
   {
    "duration": 7,
    "start_time": "2022-07-11T18:41:54.264Z"
   },
   {
    "duration": 593,
    "start_time": "2022-07-11T18:41:54.273Z"
   },
   {
    "duration": 128,
    "start_time": "2022-07-11T18:41:54.868Z"
   },
   {
    "duration": 50,
    "start_time": "2022-07-11T18:41:54.997Z"
   },
   {
    "duration": 292,
    "start_time": "2022-07-11T18:41:55.050Z"
   },
   {
    "duration": 470,
    "start_time": "2022-07-11T18:41:55.344Z"
   },
   {
    "duration": 1098,
    "start_time": "2022-07-11T18:41:55.816Z"
   },
   {
    "duration": 47,
    "start_time": "2022-07-11T18:41:56.916Z"
   },
   {
    "duration": 48,
    "start_time": "2022-07-11T18:41:56.965Z"
   },
   {
    "duration": 48,
    "start_time": "2022-07-11T18:41:57.016Z"
   },
   {
    "duration": 363,
    "start_time": "2022-07-11T18:41:57.066Z"
   },
   {
    "duration": 331,
    "start_time": "2022-07-11T18:41:57.435Z"
   },
   {
    "duration": 94,
    "start_time": "2022-07-11T18:41:57.767Z"
   },
   {
    "duration": 112,
    "start_time": "2022-07-11T18:41:57.863Z"
   },
   {
    "duration": 27,
    "start_time": "2022-07-11T18:41:57.976Z"
   },
   {
    "duration": 5248,
    "start_time": "2022-07-11T18:41:58.005Z"
   },
   {
    "duration": 33,
    "start_time": "2022-07-11T18:42:03.256Z"
   },
   {
    "duration": 147,
    "start_time": "2022-07-11T18:42:03.291Z"
   },
   {
    "duration": 497,
    "start_time": "2022-07-11T18:42:03.440Z"
   },
   {
    "duration": 12,
    "start_time": "2022-07-11T18:42:03.939Z"
   },
   {
    "duration": 142,
    "start_time": "2022-07-11T18:42:03.953Z"
   },
   {
    "duration": 757,
    "start_time": "2022-07-11T18:42:04.097Z"
   },
   {
    "duration": 380,
    "start_time": "2022-07-11T18:42:04.860Z"
   },
   {
    "duration": 24,
    "start_time": "2022-07-11T18:42:05.242Z"
   },
   {
    "duration": 10,
    "start_time": "2022-07-11T18:42:05.269Z"
   },
   {
    "duration": 2200,
    "start_time": "2022-07-11T18:42:05.281Z"
   },
   {
    "duration": 606,
    "start_time": "2022-07-11T18:42:07.483Z"
   },
   {
    "duration": 2218,
    "start_time": "2022-07-11T18:42:08.091Z"
   },
   {
    "duration": 2169,
    "start_time": "2022-07-11T18:42:10.311Z"
   },
   {
    "duration": 1897,
    "start_time": "2022-07-11T18:42:12.481Z"
   },
   {
    "duration": 63,
    "start_time": "2022-07-11T18:42:14.380Z"
   },
   {
    "duration": 1967,
    "start_time": "2022-07-11T18:42:14.445Z"
   },
   {
    "duration": 1769,
    "start_time": "2022-07-11T18:42:16.413Z"
   },
   {
    "duration": 64,
    "start_time": "2022-07-11T18:42:18.184Z"
   },
   {
    "duration": 1901,
    "start_time": "2022-07-11T18:42:18.250Z"
   },
   {
    "duration": 1689,
    "start_time": "2022-07-11T18:42:20.153Z"
   },
   {
    "duration": 23,
    "start_time": "2022-07-11T18:42:21.844Z"
   },
   {
    "duration": 72,
    "start_time": "2022-07-11T18:42:21.870Z"
   },
   {
    "duration": 46,
    "start_time": "2022-07-11T18:42:21.945Z"
   },
   {
    "duration": 12,
    "start_time": "2022-07-11T18:42:21.993Z"
   },
   {
    "duration": 34,
    "start_time": "2022-07-11T18:42:22.006Z"
   },
   {
    "duration": 147,
    "start_time": "2022-07-11T18:42:22.043Z"
   },
   {
    "duration": 27,
    "start_time": "2022-07-11T18:42:22.191Z"
   },
   {
    "duration": 11,
    "start_time": "2022-07-11T18:42:22.222Z"
   },
   {
    "duration": 9,
    "start_time": "2022-07-11T18:42:22.238Z"
   },
   {
    "duration": 9,
    "start_time": "2022-07-11T18:42:22.249Z"
   },
   {
    "duration": 8,
    "start_time": "2022-07-11T18:42:22.260Z"
   },
   {
    "duration": 992,
    "start_time": "2022-07-11T18:42:22.270Z"
   },
   {
    "duration": 20,
    "start_time": "2022-07-11T18:42:23.264Z"
   },
   {
    "duration": 21,
    "start_time": "2022-07-11T18:42:23.286Z"
   },
   {
    "duration": 13,
    "start_time": "2022-07-11T18:42:23.323Z"
   },
   {
    "duration": 16,
    "start_time": "2022-07-11T18:42:23.338Z"
   },
   {
    "duration": 8,
    "start_time": "2022-07-11T18:42:23.356Z"
   },
   {
    "duration": 11,
    "start_time": "2022-07-11T18:42:23.366Z"
   },
   {
    "duration": 6659,
    "start_time": "2022-07-11T18:44:06.648Z"
   },
   {
    "duration": 1141,
    "start_time": "2022-07-11T18:44:13.310Z"
   },
   {
    "duration": 2401,
    "start_time": "2022-07-11T18:44:14.452Z"
   },
   {
    "duration": 8,
    "start_time": "2022-07-11T18:44:16.856Z"
   },
   {
    "duration": 25,
    "start_time": "2022-07-11T18:44:16.866Z"
   },
   {
    "duration": 608,
    "start_time": "2022-07-11T18:44:16.894Z"
   },
   {
    "duration": 226,
    "start_time": "2022-07-11T18:44:17.505Z"
   },
   {
    "duration": 50,
    "start_time": "2022-07-11T18:44:17.733Z"
   },
   {
    "duration": 316,
    "start_time": "2022-07-11T18:44:17.786Z"
   },
   {
    "duration": 522,
    "start_time": "2022-07-11T18:44:18.105Z"
   },
   {
    "duration": 1231,
    "start_time": "2022-07-11T18:44:18.632Z"
   },
   {
    "duration": 43,
    "start_time": "2022-07-11T18:44:19.865Z"
   },
   {
    "duration": 87,
    "start_time": "2022-07-11T18:44:19.910Z"
   },
   {
    "duration": 64,
    "start_time": "2022-07-11T18:44:19.999Z"
   },
   {
    "duration": 376,
    "start_time": "2022-07-11T18:44:20.065Z"
   },
   {
    "duration": 362,
    "start_time": "2022-07-11T18:44:20.443Z"
   },
   {
    "duration": 104,
    "start_time": "2022-07-11T18:44:20.807Z"
   },
   {
    "duration": 195,
    "start_time": "2022-07-11T18:44:20.914Z"
   },
   {
    "duration": 43,
    "start_time": "2022-07-11T18:44:21.112Z"
   },
   {
    "duration": 5402,
    "start_time": "2022-07-11T18:44:21.157Z"
   },
   {
    "duration": 38,
    "start_time": "2022-07-11T18:44:26.562Z"
   },
   {
    "duration": 183,
    "start_time": "2022-07-11T18:44:26.602Z"
   },
   {
    "duration": 649,
    "start_time": "2022-07-11T18:44:26.787Z"
   },
   {
    "duration": 18,
    "start_time": "2022-07-11T18:44:27.438Z"
   },
   {
    "duration": 124,
    "start_time": "2022-07-11T18:44:27.458Z"
   },
   {
    "duration": 823,
    "start_time": "2022-07-11T18:44:27.584Z"
   },
   {
    "duration": 376,
    "start_time": "2022-07-11T18:44:28.410Z"
   },
   {
    "duration": 39,
    "start_time": "2022-07-11T18:44:28.794Z"
   },
   {
    "duration": 22,
    "start_time": "2022-07-11T18:44:28.836Z"
   },
   {
    "duration": 2364,
    "start_time": "2022-07-11T18:44:28.862Z"
   },
   {
    "duration": 526,
    "start_time": "2022-07-11T18:44:31.234Z"
   },
   {
    "duration": 2305,
    "start_time": "2022-07-11T18:44:31.764Z"
   },
   {
    "duration": 2437,
    "start_time": "2022-07-11T18:44:34.071Z"
   },
   {
    "duration": 2377,
    "start_time": "2022-07-11T18:44:36.511Z"
   },
   {
    "duration": 76,
    "start_time": "2022-07-11T18:44:38.890Z"
   },
   {
    "duration": 2324,
    "start_time": "2022-07-11T18:44:38.968Z"
   },
   {
    "duration": 1944,
    "start_time": "2022-07-11T18:44:41.294Z"
   },
   {
    "duration": 68,
    "start_time": "2022-07-11T18:44:43.240Z"
   },
   {
    "duration": 2048,
    "start_time": "2022-07-11T18:44:43.311Z"
   },
   {
    "duration": 1770,
    "start_time": "2022-07-11T18:44:45.361Z"
   },
   {
    "duration": 42,
    "start_time": "2022-07-11T18:44:47.133Z"
   },
   {
    "duration": 67,
    "start_time": "2022-07-11T18:44:47.178Z"
   },
   {
    "duration": 47,
    "start_time": "2022-07-11T18:44:47.248Z"
   },
   {
    "duration": 13,
    "start_time": "2022-07-11T18:44:47.297Z"
   },
   {
    "duration": 36,
    "start_time": "2022-07-11T18:44:47.325Z"
   },
   {
    "duration": 173,
    "start_time": "2022-07-11T18:44:47.363Z"
   },
   {
    "duration": 25,
    "start_time": "2022-07-11T18:44:47.538Z"
   },
   {
    "duration": 17,
    "start_time": "2022-07-11T18:44:47.565Z"
   },
   {
    "duration": 19,
    "start_time": "2022-07-11T18:44:47.585Z"
   },
   {
    "duration": 25,
    "start_time": "2022-07-11T18:44:47.606Z"
   },
   {
    "duration": 48,
    "start_time": "2022-07-11T18:44:47.633Z"
   },
   {
    "duration": 1073,
    "start_time": "2022-07-11T18:44:47.686Z"
   },
   {
    "duration": 23,
    "start_time": "2022-07-11T18:44:48.762Z"
   },
   {
    "duration": 37,
    "start_time": "2022-07-11T18:44:48.787Z"
   },
   {
    "duration": 29,
    "start_time": "2022-07-11T18:44:48.827Z"
   },
   {
    "duration": 23,
    "start_time": "2022-07-11T18:44:48.860Z"
   },
   {
    "duration": 75,
    "start_time": "2022-07-11T18:44:48.888Z"
   },
   {
    "duration": 82,
    "start_time": "2022-07-11T18:44:48.966Z"
   },
   {
    "duration": 4542,
    "start_time": "2022-07-11T19:14:17.992Z"
   },
   {
    "duration": 1015,
    "start_time": "2022-07-11T19:14:22.538Z"
   },
   {
    "duration": 2028,
    "start_time": "2022-07-11T19:14:23.555Z"
   },
   {
    "duration": 5,
    "start_time": "2022-07-11T19:14:25.585Z"
   },
   {
    "duration": 12,
    "start_time": "2022-07-11T19:14:25.591Z"
   },
   {
    "duration": 648,
    "start_time": "2022-07-11T19:14:25.606Z"
   },
   {
    "duration": 165,
    "start_time": "2022-07-11T19:14:26.255Z"
   },
   {
    "duration": 51,
    "start_time": "2022-07-11T19:14:26.429Z"
   },
   {
    "duration": 330,
    "start_time": "2022-07-11T19:14:26.482Z"
   },
   {
    "duration": 531,
    "start_time": "2022-07-11T19:14:26.815Z"
   },
   {
    "duration": 1151,
    "start_time": "2022-07-11T19:14:27.354Z"
   },
   {
    "duration": 63,
    "start_time": "2022-07-11T19:14:28.507Z"
   },
   {
    "duration": 42,
    "start_time": "2022-07-11T19:14:28.572Z"
   },
   {
    "duration": 47,
    "start_time": "2022-07-11T19:14:28.616Z"
   },
   {
    "duration": 424,
    "start_time": "2022-07-11T19:14:28.665Z"
   },
   {
    "duration": 454,
    "start_time": "2022-07-11T19:14:29.091Z"
   },
   {
    "duration": 97,
    "start_time": "2022-07-11T19:14:29.548Z"
   },
   {
    "duration": 119,
    "start_time": "2022-07-11T19:14:29.647Z"
   },
   {
    "duration": 36,
    "start_time": "2022-07-11T19:14:29.767Z"
   },
   {
    "duration": 5082,
    "start_time": "2022-07-11T19:14:29.827Z"
   },
   {
    "duration": 44,
    "start_time": "2022-07-11T19:14:34.911Z"
   },
   {
    "duration": 152,
    "start_time": "2022-07-11T19:14:34.957Z"
   },
   {
    "duration": 548,
    "start_time": "2022-07-11T19:14:35.111Z"
   },
   {
    "duration": 9,
    "start_time": "2022-07-11T19:14:35.661Z"
   },
   {
    "duration": 150,
    "start_time": "2022-07-11T19:14:35.672Z"
   },
   {
    "duration": 778,
    "start_time": "2022-07-11T19:14:35.824Z"
   },
   {
    "duration": 366,
    "start_time": "2022-07-11T19:14:36.603Z"
   },
   {
    "duration": 29,
    "start_time": "2022-07-11T19:14:36.975Z"
   },
   {
    "duration": 45,
    "start_time": "2022-07-11T19:14:37.006Z"
   },
   {
    "duration": 2239,
    "start_time": "2022-07-11T19:14:37.053Z"
   },
   {
    "duration": 589,
    "start_time": "2022-07-11T19:14:39.297Z"
   },
   {
    "duration": 2182,
    "start_time": "2022-07-11T19:14:39.888Z"
   },
   {
    "duration": 2276,
    "start_time": "2022-07-11T19:14:42.072Z"
   },
   {
    "duration": 2060,
    "start_time": "2022-07-11T19:14:44.354Z"
   },
   {
    "duration": 65,
    "start_time": "2022-07-11T19:14:46.424Z"
   },
   {
    "duration": 2040,
    "start_time": "2022-07-11T19:14:46.491Z"
   },
   {
    "duration": 1966,
    "start_time": "2022-07-11T19:14:48.535Z"
   },
   {
    "duration": 72,
    "start_time": "2022-07-11T19:14:50.503Z"
   },
   {
    "duration": 1985,
    "start_time": "2022-07-11T19:14:50.577Z"
   },
   {
    "duration": 1802,
    "start_time": "2022-07-11T19:14:52.564Z"
   },
   {
    "duration": 23,
    "start_time": "2022-07-11T19:14:54.369Z"
   },
   {
    "duration": 84,
    "start_time": "2022-07-11T19:14:54.394Z"
   },
   {
    "duration": 68,
    "start_time": "2022-07-11T19:14:54.481Z"
   },
   {
    "duration": 19,
    "start_time": "2022-07-11T19:14:54.552Z"
   },
   {
    "duration": 25,
    "start_time": "2022-07-11T19:14:54.572Z"
   },
   {
    "duration": 331,
    "start_time": "2022-07-11T19:14:54.600Z"
   },
   {
    "duration": 23,
    "start_time": "2022-07-11T19:14:54.933Z"
   },
   {
    "duration": 71,
    "start_time": "2022-07-11T19:14:54.958Z"
   },
   {
    "duration": 37,
    "start_time": "2022-07-11T19:14:55.031Z"
   },
   {
    "duration": 9,
    "start_time": "2022-07-11T19:14:55.070Z"
   },
   {
    "duration": 16,
    "start_time": "2022-07-11T19:14:55.081Z"
   },
   {
    "duration": 2143,
    "start_time": "2022-07-11T19:14:55.126Z"
   },
   {
    "duration": 20,
    "start_time": "2022-07-11T19:14:57.271Z"
   },
   {
    "duration": 45,
    "start_time": "2022-07-11T19:14:57.293Z"
   },
   {
    "duration": 6,
    "start_time": "2022-07-11T19:14:57.340Z"
   },
   {
    "duration": 14,
    "start_time": "2022-07-11T19:14:57.353Z"
   },
   {
    "duration": 7,
    "start_time": "2022-07-11T19:14:57.370Z"
   },
   {
    "duration": 6,
    "start_time": "2022-07-11T19:14:57.379Z"
   },
   {
    "duration": 4588,
    "start_time": "2022-07-11T19:15:26.281Z"
   },
   {
    "duration": 2088,
    "start_time": "2022-07-11T19:15:30.873Z"
   },
   {
    "duration": 2002,
    "start_time": "2022-07-11T19:15:32.963Z"
   },
   {
    "duration": 5,
    "start_time": "2022-07-11T19:15:34.968Z"
   },
   {
    "duration": 11,
    "start_time": "2022-07-11T19:15:34.975Z"
   },
   {
    "duration": 614,
    "start_time": "2022-07-11T19:15:34.989Z"
   },
   {
    "duration": 165,
    "start_time": "2022-07-11T19:15:35.605Z"
   },
   {
    "duration": 58,
    "start_time": "2022-07-11T19:15:35.772Z"
   },
   {
    "duration": 327,
    "start_time": "2022-07-11T19:15:35.832Z"
   },
   {
    "duration": 512,
    "start_time": "2022-07-11T19:15:36.162Z"
   },
   {
    "duration": 1116,
    "start_time": "2022-07-11T19:15:36.676Z"
   },
   {
    "duration": 50,
    "start_time": "2022-07-11T19:15:37.793Z"
   },
   {
    "duration": 50,
    "start_time": "2022-07-11T19:15:37.847Z"
   },
   {
    "duration": 42,
    "start_time": "2022-07-11T19:15:37.898Z"
   },
   {
    "duration": 371,
    "start_time": "2022-07-11T19:15:37.941Z"
   },
   {
    "duration": 391,
    "start_time": "2022-07-11T19:15:38.314Z"
   },
   {
    "duration": 120,
    "start_time": "2022-07-11T19:15:38.707Z"
   },
   {
    "duration": 121,
    "start_time": "2022-07-11T19:15:38.837Z"
   },
   {
    "duration": 33,
    "start_time": "2022-07-11T19:15:38.960Z"
   },
   {
    "duration": 5522,
    "start_time": "2022-07-11T19:15:38.997Z"
   },
   {
    "duration": 35,
    "start_time": "2022-07-11T19:15:44.528Z"
   },
   {
    "duration": 166,
    "start_time": "2022-07-11T19:15:44.565Z"
   },
   {
    "duration": 585,
    "start_time": "2022-07-11T19:15:44.734Z"
   },
   {
    "duration": 23,
    "start_time": "2022-07-11T19:15:45.326Z"
   },
   {
    "duration": 138,
    "start_time": "2022-07-11T19:15:45.351Z"
   },
   {
    "duration": 796,
    "start_time": "2022-07-11T19:15:45.491Z"
   },
   {
    "duration": 368,
    "start_time": "2022-07-11T19:15:46.289Z"
   },
   {
    "duration": 22,
    "start_time": "2022-07-11T19:15:46.661Z"
   },
   {
    "duration": 11,
    "start_time": "2022-07-11T19:15:46.685Z"
   },
   {
    "duration": 2237,
    "start_time": "2022-07-11T19:15:46.698Z"
   },
   {
    "duration": 604,
    "start_time": "2022-07-11T19:15:48.937Z"
   },
   {
    "duration": 2182,
    "start_time": "2022-07-11T19:15:49.544Z"
   },
   {
    "duration": 2210,
    "start_time": "2022-07-11T19:15:51.736Z"
   },
   {
    "duration": 2082,
    "start_time": "2022-07-11T19:15:53.948Z"
   },
   {
    "duration": 70,
    "start_time": "2022-07-11T19:15:56.032Z"
   },
   {
    "duration": 2086,
    "start_time": "2022-07-11T19:15:56.104Z"
   },
   {
    "duration": 1944,
    "start_time": "2022-07-11T19:15:58.191Z"
   },
   {
    "duration": 63,
    "start_time": "2022-07-11T19:16:00.141Z"
   },
   {
    "duration": 2051,
    "start_time": "2022-07-11T19:16:00.206Z"
   },
   {
    "duration": 2099,
    "start_time": "2022-07-11T19:16:02.259Z"
   },
   {
    "duration": 23,
    "start_time": "2022-07-11T19:16:04.360Z"
   },
   {
    "duration": 80,
    "start_time": "2022-07-11T19:16:04.385Z"
   },
   {
    "duration": 41,
    "start_time": "2022-07-11T19:16:04.467Z"
   },
   {
    "duration": 37,
    "start_time": "2022-07-11T19:16:04.510Z"
   },
   {
    "duration": 25,
    "start_time": "2022-07-11T19:16:04.549Z"
   },
   {
    "duration": 146,
    "start_time": "2022-07-11T19:16:04.576Z"
   },
   {
    "duration": 23,
    "start_time": "2022-07-11T19:16:04.729Z"
   },
   {
    "duration": 9,
    "start_time": "2022-07-11T19:16:04.754Z"
   },
   {
    "duration": 10,
    "start_time": "2022-07-11T19:16:04.765Z"
   },
   {
    "duration": 5,
    "start_time": "2022-07-11T19:16:04.777Z"
   },
   {
    "duration": 6,
    "start_time": "2022-07-11T19:16:04.784Z"
   },
   {
    "duration": 1053,
    "start_time": "2022-07-11T19:16:04.791Z"
   },
   {
    "duration": 22,
    "start_time": "2022-07-11T19:16:05.846Z"
   },
   {
    "duration": 19,
    "start_time": "2022-07-11T19:16:05.870Z"
   },
   {
    "duration": 39,
    "start_time": "2022-07-11T19:16:05.891Z"
   },
   {
    "duration": 29,
    "start_time": "2022-07-11T19:16:05.932Z"
   },
   {
    "duration": 29,
    "start_time": "2022-07-11T19:16:05.963Z"
   },
   {
    "duration": 12,
    "start_time": "2022-07-11T19:16:05.994Z"
   },
   {
    "duration": 4888,
    "start_time": "2022-07-11T19:36:01.651Z"
   },
   {
    "duration": 1053,
    "start_time": "2022-07-11T19:36:06.542Z"
   },
   {
    "duration": 2219,
    "start_time": "2022-07-11T19:36:07.597Z"
   },
   {
    "duration": 23,
    "start_time": "2022-07-11T19:36:09.818Z"
   },
   {
    "duration": 22,
    "start_time": "2022-07-11T19:36:09.846Z"
   },
   {
    "duration": 643,
    "start_time": "2022-07-11T19:36:09.871Z"
   },
   {
    "duration": 157,
    "start_time": "2022-07-11T19:36:10.515Z"
   },
   {
    "duration": 69,
    "start_time": "2022-07-11T19:36:10.674Z"
   },
   {
    "duration": 352,
    "start_time": "2022-07-11T19:36:10.745Z"
   },
   {
    "duration": 550,
    "start_time": "2022-07-11T19:36:11.099Z"
   },
   {
    "duration": 1179,
    "start_time": "2022-07-11T19:36:11.654Z"
   },
   {
    "duration": 48,
    "start_time": "2022-07-11T19:36:12.839Z"
   },
   {
    "duration": 63,
    "start_time": "2022-07-11T19:36:12.889Z"
   },
   {
    "duration": 48,
    "start_time": "2022-07-11T19:36:12.955Z"
   },
   {
    "duration": 400,
    "start_time": "2022-07-11T19:36:13.005Z"
   },
   {
    "duration": 654,
    "start_time": "2022-07-11T19:36:13.407Z"
   },
   {
    "duration": 270,
    "start_time": "2022-07-11T19:36:14.064Z"
   },
   {
    "duration": 311,
    "start_time": "2022-07-11T19:36:14.337Z"
   },
   {
    "duration": 94,
    "start_time": "2022-07-11T19:36:14.650Z"
   },
   {
    "duration": 6453,
    "start_time": "2022-07-11T19:36:14.746Z"
   },
   {
    "duration": 43,
    "start_time": "2022-07-11T19:36:21.201Z"
   },
   {
    "duration": 161,
    "start_time": "2022-07-11T19:36:21.245Z"
   },
   {
    "duration": 545,
    "start_time": "2022-07-11T19:36:21.408Z"
   },
   {
    "duration": 11,
    "start_time": "2022-07-11T19:36:21.955Z"
   },
   {
    "duration": 162,
    "start_time": "2022-07-11T19:36:21.968Z"
   },
   {
    "duration": 762,
    "start_time": "2022-07-11T19:36:22.135Z"
   },
   {
    "duration": 371,
    "start_time": "2022-07-11T19:36:22.899Z"
   },
   {
    "duration": 23,
    "start_time": "2022-07-11T19:36:23.272Z"
   },
   {
    "duration": 6,
    "start_time": "2022-07-11T19:36:23.297Z"
   },
   {
    "duration": 2247,
    "start_time": "2022-07-11T19:36:23.330Z"
   },
   {
    "duration": 586,
    "start_time": "2022-07-11T19:36:25.580Z"
   },
   {
    "duration": 2223,
    "start_time": "2022-07-11T19:36:26.168Z"
   },
   {
    "duration": 2384,
    "start_time": "2022-07-11T19:36:28.394Z"
   },
   {
    "duration": 2022,
    "start_time": "2022-07-11T19:36:30.780Z"
   },
   {
    "duration": 69,
    "start_time": "2022-07-11T19:36:32.803Z"
   },
   {
    "duration": 2001,
    "start_time": "2022-07-11T19:36:32.874Z"
   },
   {
    "duration": 1843,
    "start_time": "2022-07-11T19:36:34.878Z"
   },
   {
    "duration": 64,
    "start_time": "2022-07-11T19:36:36.722Z"
   },
   {
    "duration": 1895,
    "start_time": "2022-07-11T19:36:36.788Z"
   },
   {
    "duration": 1906,
    "start_time": "2022-07-11T19:36:38.685Z"
   },
   {
    "duration": 44,
    "start_time": "2022-07-11T19:36:40.597Z"
   },
   {
    "duration": 71,
    "start_time": "2022-07-11T19:36:40.644Z"
   },
   {
    "duration": 67,
    "start_time": "2022-07-11T19:36:40.718Z"
   },
   {
    "duration": 14,
    "start_time": "2022-07-11T19:36:40.787Z"
   },
   {
    "duration": 33,
    "start_time": "2022-07-11T19:36:40.803Z"
   },
   {
    "duration": 190,
    "start_time": "2022-07-11T19:36:40.840Z"
   },
   {
    "duration": 25,
    "start_time": "2022-07-11T19:36:41.041Z"
   },
   {
    "duration": 6,
    "start_time": "2022-07-11T19:36:41.068Z"
   },
   {
    "duration": 6,
    "start_time": "2022-07-11T19:36:41.077Z"
   },
   {
    "duration": 7,
    "start_time": "2022-07-11T19:36:41.085Z"
   },
   {
    "duration": 8,
    "start_time": "2022-07-11T19:36:41.094Z"
   },
   {
    "duration": 1071,
    "start_time": "2022-07-11T19:36:41.104Z"
   },
   {
    "duration": 20,
    "start_time": "2022-07-11T19:36:42.178Z"
   },
   {
    "duration": 39,
    "start_time": "2022-07-11T19:36:42.200Z"
   },
   {
    "duration": 8,
    "start_time": "2022-07-11T19:36:42.241Z"
   },
   {
    "duration": 11,
    "start_time": "2022-07-11T19:36:42.252Z"
   },
   {
    "duration": 11,
    "start_time": "2022-07-11T19:36:42.265Z"
   },
   {
    "duration": 6,
    "start_time": "2022-07-11T19:36:42.279Z"
   },
   {
    "duration": 1008204,
    "start_time": "2022-07-11T19:36:42.287Z"
   },
   {
    "duration": 7,
    "start_time": "2022-07-11T19:53:30.492Z"
   },
   {
    "duration": 71733,
    "start_time": "2022-07-11T19:53:30.501Z"
   },
   {
    "duration": 770,
    "start_time": "2022-07-11T19:54:42.236Z"
   },
   {
    "duration": 28,
    "start_time": "2022-07-11T19:54:43.008Z"
   },
   {
    "duration": 295,
    "start_time": "2022-07-11T19:54:43.039Z"
   },
   {
    "duration": 87,
    "start_time": "2022-07-11T19:54:43.347Z"
   },
   {
    "duration": 110,
    "start_time": "2022-07-11T19:54:43.438Z"
   },
   {
    "duration": 9477,
    "start_time": "2022-07-11T19:54:43.550Z"
   },
   {
    "duration": 204,
    "start_time": "2022-07-11T19:54:53.033Z"
   },
   {
    "duration": 116,
    "start_time": "2022-07-11T19:54:53.240Z"
   },
   {
    "duration": 189,
    "start_time": "2022-07-11T19:54:53.359Z"
   },
   {
    "duration": 22,
    "start_time": "2022-07-11T19:54:53.641Z"
   },
   {
    "duration": 150,
    "start_time": "2022-07-11T19:54:53.735Z"
   },
   {
    "duration": 4556,
    "start_time": "2022-07-11T19:55:47.731Z"
   },
   {
    "duration": 1059,
    "start_time": "2022-07-11T19:55:52.290Z"
   },
   {
    "duration": 2405,
    "start_time": "2022-07-11T19:55:53.354Z"
   },
   {
    "duration": 12,
    "start_time": "2022-07-11T19:55:55.762Z"
   },
   {
    "duration": 73,
    "start_time": "2022-07-11T19:55:55.776Z"
   },
   {
    "duration": 717,
    "start_time": "2022-07-11T19:55:55.851Z"
   },
   {
    "duration": 160,
    "start_time": "2022-07-11T19:55:56.570Z"
   },
   {
    "duration": 57,
    "start_time": "2022-07-11T19:55:56.732Z"
   },
   {
    "duration": 350,
    "start_time": "2022-07-11T19:55:56.790Z"
   },
   {
    "duration": 1274,
    "start_time": "2022-07-11T19:55:57.151Z"
   },
   {
    "duration": 1954,
    "start_time": "2022-07-11T19:55:58.430Z"
   },
   {
    "duration": 59,
    "start_time": "2022-07-11T19:56:00.386Z"
   },
   {
    "duration": 63,
    "start_time": "2022-07-11T19:56:00.451Z"
   },
   {
    "duration": 133,
    "start_time": "2022-07-11T19:56:00.516Z"
   },
   {
    "duration": 421,
    "start_time": "2022-07-11T19:56:00.651Z"
   },
   {
    "duration": 463,
    "start_time": "2022-07-11T19:56:01.075Z"
   },
   {
    "duration": 118,
    "start_time": "2022-07-11T19:56:01.540Z"
   },
   {
    "duration": 157,
    "start_time": "2022-07-11T19:56:01.659Z"
   },
   {
    "duration": 38,
    "start_time": "2022-07-11T19:56:01.828Z"
   },
   {
    "duration": 6206,
    "start_time": "2022-07-11T19:56:01.868Z"
   },
   {
    "duration": 48,
    "start_time": "2022-07-11T19:56:08.078Z"
   },
   {
    "duration": 225,
    "start_time": "2022-07-11T19:56:08.129Z"
   },
   {
    "duration": 651,
    "start_time": "2022-07-11T19:56:08.356Z"
   },
   {
    "duration": 23,
    "start_time": "2022-07-11T19:56:09.009Z"
   },
   {
    "duration": 174,
    "start_time": "2022-07-11T19:56:09.035Z"
   },
   {
    "duration": 909,
    "start_time": "2022-07-11T19:56:09.211Z"
   },
   {
    "duration": 403,
    "start_time": "2022-07-11T19:56:10.124Z"
   },
   {
    "duration": 31,
    "start_time": "2022-07-11T19:56:10.533Z"
   },
   {
    "duration": 28,
    "start_time": "2022-07-11T19:56:10.568Z"
   },
   {
    "duration": 2483,
    "start_time": "2022-07-11T19:56:10.599Z"
   },
   {
    "duration": 616,
    "start_time": "2022-07-11T19:56:13.084Z"
   },
   {
    "duration": 2652,
    "start_time": "2022-07-11T19:56:13.703Z"
   },
   {
    "duration": 2600,
    "start_time": "2022-07-11T19:56:16.366Z"
   },
   {
    "duration": 2444,
    "start_time": "2022-07-11T19:56:18.975Z"
   },
   {
    "duration": 64,
    "start_time": "2022-07-11T19:56:21.423Z"
   },
   {
    "duration": 2325,
    "start_time": "2022-07-11T19:56:21.491Z"
   },
   {
    "duration": 2076,
    "start_time": "2022-07-11T19:56:23.819Z"
   },
   {
    "duration": 99,
    "start_time": "2022-07-11T19:56:25.897Z"
   },
   {
    "duration": 2566,
    "start_time": "2022-07-11T19:56:25.999Z"
   },
   {
    "duration": 2184,
    "start_time": "2022-07-11T19:56:28.573Z"
   },
   {
    "duration": 31,
    "start_time": "2022-07-11T19:56:30.763Z"
   },
   {
    "duration": 76,
    "start_time": "2022-07-11T19:56:30.796Z"
   },
   {
    "duration": 42,
    "start_time": "2022-07-11T19:56:30.874Z"
   },
   {
    "duration": 58,
    "start_time": "2022-07-11T19:56:30.919Z"
   },
   {
    "duration": 53,
    "start_time": "2022-07-11T19:56:30.989Z"
   },
   {
    "duration": 163,
    "start_time": "2022-07-11T19:56:31.044Z"
   },
   {
    "duration": 36,
    "start_time": "2022-07-11T19:56:31.209Z"
   },
   {
    "duration": 8,
    "start_time": "2022-07-11T19:56:31.253Z"
   },
   {
    "duration": 10,
    "start_time": "2022-07-11T19:56:31.264Z"
   },
   {
    "duration": 27,
    "start_time": "2022-07-11T19:56:31.276Z"
   },
   {
    "duration": 10,
    "start_time": "2022-07-11T19:56:31.305Z"
   },
   {
    "duration": 1264,
    "start_time": "2022-07-11T19:56:31.317Z"
   },
   {
    "duration": 24,
    "start_time": "2022-07-11T19:56:32.584Z"
   },
   {
    "duration": 37,
    "start_time": "2022-07-11T19:56:32.610Z"
   },
   {
    "duration": 31,
    "start_time": "2022-07-11T19:56:32.649Z"
   },
   {
    "duration": 10,
    "start_time": "2022-07-11T19:56:32.683Z"
   },
   {
    "duration": 11,
    "start_time": "2022-07-11T19:56:32.696Z"
   },
   {
    "duration": 79,
    "start_time": "2022-07-11T19:56:32.710Z"
   },
   {
    "duration": 0,
    "start_time": "2022-07-11T19:56:32.792Z"
   },
   {
    "duration": 0,
    "start_time": "2022-07-11T19:56:32.794Z"
   },
   {
    "duration": 0,
    "start_time": "2022-07-11T19:56:32.796Z"
   },
   {
    "duration": 0,
    "start_time": "2022-07-11T19:56:32.799Z"
   },
   {
    "duration": 0,
    "start_time": "2022-07-11T19:56:32.800Z"
   },
   {
    "duration": 0,
    "start_time": "2022-07-11T19:56:32.802Z"
   },
   {
    "duration": 0,
    "start_time": "2022-07-11T19:56:32.804Z"
   },
   {
    "duration": 0,
    "start_time": "2022-07-11T19:56:32.805Z"
   },
   {
    "duration": 1,
    "start_time": "2022-07-11T19:56:32.806Z"
   },
   {
    "duration": 0,
    "start_time": "2022-07-11T19:56:32.808Z"
   },
   {
    "duration": 0,
    "start_time": "2022-07-11T19:56:32.809Z"
   },
   {
    "duration": 0,
    "start_time": "2022-07-11T19:56:32.810Z"
   },
   {
    "duration": 0,
    "start_time": "2022-07-11T19:56:32.811Z"
   },
   {
    "duration": 0,
    "start_time": "2022-07-11T19:56:32.812Z"
   },
   {
    "duration": 0,
    "start_time": "2022-07-11T19:56:32.813Z"
   },
   {
    "duration": 0,
    "start_time": "2022-07-11T19:56:32.815Z"
   },
   {
    "duration": 0,
    "start_time": "2022-07-11T19:56:32.816Z"
   },
   {
    "duration": 0,
    "start_time": "2022-07-11T19:56:32.817Z"
   },
   {
    "duration": 0,
    "start_time": "2022-07-11T19:56:32.819Z"
   },
   {
    "duration": 0,
    "start_time": "2022-07-11T19:56:32.820Z"
   },
   {
    "duration": 0,
    "start_time": "2022-07-11T19:56:32.822Z"
   },
   {
    "duration": 0,
    "start_time": "2022-07-11T19:56:32.823Z"
   },
   {
    "duration": 0,
    "start_time": "2022-07-11T19:56:32.824Z"
   },
   {
    "duration": 0,
    "start_time": "2022-07-11T19:56:32.825Z"
   },
   {
    "duration": 0,
    "start_time": "2022-07-11T19:56:32.826Z"
   },
   {
    "duration": 0,
    "start_time": "2022-07-11T19:56:32.829Z"
   },
   {
    "duration": 0,
    "start_time": "2022-07-11T19:56:32.830Z"
   },
   {
    "duration": 0,
    "start_time": "2022-07-11T19:56:32.831Z"
   },
   {
    "duration": 0,
    "start_time": "2022-07-11T19:56:32.831Z"
   },
   {
    "duration": 0,
    "start_time": "2022-07-11T19:56:32.832Z"
   },
   {
    "duration": 0,
    "start_time": "2022-07-11T19:56:32.833Z"
   },
   {
    "duration": 0,
    "start_time": "2022-07-11T19:56:32.835Z"
   },
   {
    "duration": 0,
    "start_time": "2022-07-11T19:56:32.836Z"
   },
   {
    "duration": 0,
    "start_time": "2022-07-11T19:56:32.842Z"
   },
   {
    "duration": 0,
    "start_time": "2022-07-11T19:56:32.843Z"
   },
   {
    "duration": 0,
    "start_time": "2022-07-11T19:56:32.848Z"
   },
   {
    "duration": 0,
    "start_time": "2022-07-11T19:56:32.849Z"
   },
   {
    "duration": 0,
    "start_time": "2022-07-11T19:56:32.850Z"
   },
   {
    "duration": 0,
    "start_time": "2022-07-11T19:56:32.850Z"
   },
   {
    "duration": 0,
    "start_time": "2022-07-11T19:56:32.851Z"
   },
   {
    "duration": 0,
    "start_time": "2022-07-11T19:56:32.852Z"
   },
   {
    "duration": 0,
    "start_time": "2022-07-11T19:56:32.853Z"
   },
   {
    "duration": 4622,
    "start_time": "2022-07-11T19:56:47.757Z"
   },
   {
    "duration": 1772,
    "start_time": "2022-07-11T19:56:52.382Z"
   },
   {
    "duration": 2796,
    "start_time": "2022-07-11T19:56:54.157Z"
   },
   {
    "duration": 19,
    "start_time": "2022-07-11T19:56:56.956Z"
   },
   {
    "duration": 12,
    "start_time": "2022-07-11T19:56:56.978Z"
   },
   {
    "duration": 601,
    "start_time": "2022-07-11T19:56:56.993Z"
   },
   {
    "duration": 147,
    "start_time": "2022-07-11T19:56:57.595Z"
   },
   {
    "duration": 49,
    "start_time": "2022-07-11T19:56:57.745Z"
   },
   {
    "duration": 315,
    "start_time": "2022-07-11T19:56:57.795Z"
   },
   {
    "duration": 514,
    "start_time": "2022-07-11T19:56:58.128Z"
   },
   {
    "duration": 1274,
    "start_time": "2022-07-11T19:56:58.644Z"
   },
   {
    "duration": 49,
    "start_time": "2022-07-11T19:56:59.921Z"
   },
   {
    "duration": 78,
    "start_time": "2022-07-11T19:56:59.973Z"
   },
   {
    "duration": 56,
    "start_time": "2022-07-11T19:57:00.054Z"
   },
   {
    "duration": 387,
    "start_time": "2022-07-11T19:57:00.112Z"
   },
   {
    "duration": 415,
    "start_time": "2022-07-11T19:57:00.501Z"
   },
   {
    "duration": 123,
    "start_time": "2022-07-11T19:57:00.918Z"
   },
   {
    "duration": 133,
    "start_time": "2022-07-11T19:57:01.042Z"
   },
   {
    "duration": 34,
    "start_time": "2022-07-11T19:57:01.177Z"
   },
   {
    "duration": 5369,
    "start_time": "2022-07-11T19:57:01.223Z"
   },
   {
    "duration": 54,
    "start_time": "2022-07-11T19:57:06.595Z"
   },
   {
    "duration": 228,
    "start_time": "2022-07-11T19:57:06.652Z"
   },
   {
    "duration": 529,
    "start_time": "2022-07-11T19:57:06.882Z"
   },
   {
    "duration": 16,
    "start_time": "2022-07-11T19:57:07.427Z"
   },
   {
    "duration": 145,
    "start_time": "2022-07-11T19:57:07.445Z"
   },
   {
    "duration": 850,
    "start_time": "2022-07-11T19:57:07.592Z"
   },
   {
    "duration": 407,
    "start_time": "2022-07-11T19:57:08.445Z"
   },
   {
    "duration": 31,
    "start_time": "2022-07-11T19:57:08.859Z"
   },
   {
    "duration": 12,
    "start_time": "2022-07-11T19:57:08.893Z"
   },
   {
    "duration": 2393,
    "start_time": "2022-07-11T19:57:08.908Z"
   },
   {
    "duration": 621,
    "start_time": "2022-07-11T19:57:11.304Z"
   },
   {
    "duration": 2177,
    "start_time": "2022-07-11T19:57:11.928Z"
   },
   {
    "duration": 2303,
    "start_time": "2022-07-11T19:57:14.108Z"
   },
   {
    "duration": 2057,
    "start_time": "2022-07-11T19:57:16.413Z"
   },
   {
    "duration": 87,
    "start_time": "2022-07-11T19:57:18.472Z"
   },
   {
    "duration": 2102,
    "start_time": "2022-07-11T19:57:18.562Z"
   },
   {
    "duration": 1835,
    "start_time": "2022-07-11T19:57:20.666Z"
   },
   {
    "duration": 72,
    "start_time": "2022-07-11T19:57:22.503Z"
   },
   {
    "duration": 2022,
    "start_time": "2022-07-11T19:57:22.578Z"
   },
   {
    "duration": 1717,
    "start_time": "2022-07-11T19:57:24.602Z"
   },
   {
    "duration": 20,
    "start_time": "2022-07-11T19:57:26.323Z"
   },
   {
    "duration": 80,
    "start_time": "2022-07-11T19:57:26.345Z"
   },
   {
    "duration": 47,
    "start_time": "2022-07-11T19:57:26.427Z"
   },
   {
    "duration": 15,
    "start_time": "2022-07-11T19:57:26.477Z"
   },
   {
    "duration": 45,
    "start_time": "2022-07-11T19:57:26.494Z"
   },
   {
    "duration": 174,
    "start_time": "2022-07-11T19:57:26.546Z"
   },
   {
    "duration": 28,
    "start_time": "2022-07-11T19:57:26.723Z"
   },
   {
    "duration": 12,
    "start_time": "2022-07-11T19:57:26.757Z"
   },
   {
    "duration": 6,
    "start_time": "2022-07-11T19:57:26.772Z"
   },
   {
    "duration": 27,
    "start_time": "2022-07-11T19:57:26.781Z"
   },
   {
    "duration": 10,
    "start_time": "2022-07-11T19:57:26.810Z"
   },
   {
    "duration": 1055,
    "start_time": "2022-07-11T19:57:26.821Z"
   },
   {
    "duration": 20,
    "start_time": "2022-07-11T19:57:27.878Z"
   },
   {
    "duration": 40,
    "start_time": "2022-07-11T19:57:27.901Z"
   },
   {
    "duration": 13,
    "start_time": "2022-07-11T19:57:27.944Z"
   },
   {
    "duration": 10,
    "start_time": "2022-07-11T19:57:27.960Z"
   },
   {
    "duration": 12,
    "start_time": "2022-07-11T19:57:27.973Z"
   },
   {
    "duration": 12,
    "start_time": "2022-07-11T19:57:27.989Z"
   },
   {
    "duration": 1020144,
    "start_time": "2022-07-11T19:57:28.003Z"
   },
   {
    "duration": 8,
    "start_time": "2022-07-11T20:14:28.149Z"
   },
   {
    "duration": 326,
    "start_time": "2022-07-11T20:14:28.160Z"
   },
   {
    "duration": 110,
    "start_time": "2022-07-11T20:14:28.488Z"
   },
   {
    "duration": 19,
    "start_time": "2022-07-11T20:14:28.601Z"
   },
   {
    "duration": 0,
    "start_time": "2022-07-11T20:14:28.623Z"
   },
   {
    "duration": 0,
    "start_time": "2022-07-11T20:14:28.623Z"
   },
   {
    "duration": 0,
    "start_time": "2022-07-11T20:14:28.624Z"
   },
   {
    "duration": 0,
    "start_time": "2022-07-11T20:14:28.630Z"
   },
   {
    "duration": 1,
    "start_time": "2022-07-11T20:14:28.633Z"
   },
   {
    "duration": 0,
    "start_time": "2022-07-11T20:14:28.634Z"
   },
   {
    "duration": 0,
    "start_time": "2022-07-11T20:14:28.637Z"
   },
   {
    "duration": 0,
    "start_time": "2022-07-11T20:14:28.640Z"
   },
   {
    "duration": 0,
    "start_time": "2022-07-11T20:14:28.642Z"
   },
   {
    "duration": 0,
    "start_time": "2022-07-11T20:14:28.648Z"
   },
   {
    "duration": 0,
    "start_time": "2022-07-11T20:14:28.650Z"
   },
   {
    "duration": 0,
    "start_time": "2022-07-11T20:14:28.652Z"
   },
   {
    "duration": 1,
    "start_time": "2022-07-11T20:14:28.653Z"
   },
   {
    "duration": 0,
    "start_time": "2022-07-11T20:14:28.655Z"
   },
   {
    "duration": 0,
    "start_time": "2022-07-11T20:14:28.657Z"
   },
   {
    "duration": 0,
    "start_time": "2022-07-11T20:14:28.659Z"
   },
   {
    "duration": 0,
    "start_time": "2022-07-11T20:14:28.662Z"
   },
   {
    "duration": 0,
    "start_time": "2022-07-11T20:14:28.664Z"
   },
   {
    "duration": 0,
    "start_time": "2022-07-11T20:14:28.666Z"
   },
   {
    "duration": 0,
    "start_time": "2022-07-11T20:14:28.668Z"
   },
   {
    "duration": 0,
    "start_time": "2022-07-11T20:14:28.669Z"
   },
   {
    "duration": 0,
    "start_time": "2022-07-11T20:14:28.671Z"
   },
   {
    "duration": 0,
    "start_time": "2022-07-11T20:14:28.675Z"
   },
   {
    "duration": 0,
    "start_time": "2022-07-11T20:14:28.677Z"
   },
   {
    "duration": 0,
    "start_time": "2022-07-11T20:14:28.679Z"
   },
   {
    "duration": 0,
    "start_time": "2022-07-11T20:14:28.681Z"
   },
   {
    "duration": 0,
    "start_time": "2022-07-11T20:14:28.682Z"
   },
   {
    "duration": 0,
    "start_time": "2022-07-11T20:14:28.683Z"
   },
   {
    "duration": 0,
    "start_time": "2022-07-11T20:14:28.723Z"
   },
   {
    "duration": 0,
    "start_time": "2022-07-11T20:14:28.724Z"
   },
   {
    "duration": 0,
    "start_time": "2022-07-11T20:14:28.725Z"
   },
   {
    "duration": 0,
    "start_time": "2022-07-11T20:14:28.726Z"
   },
   {
    "duration": 0,
    "start_time": "2022-07-11T20:14:28.727Z"
   },
   {
    "duration": 0,
    "start_time": "2022-07-11T20:14:28.728Z"
   },
   {
    "duration": 0,
    "start_time": "2022-07-11T20:14:28.729Z"
   },
   {
    "duration": 0,
    "start_time": "2022-07-11T20:14:28.730Z"
   },
   {
    "duration": 0,
    "start_time": "2022-07-11T20:14:28.731Z"
   },
   {
    "duration": 67932,
    "start_time": "2022-07-11T20:16:06.271Z"
   },
   {
    "duration": 708,
    "start_time": "2022-07-11T20:17:14.206Z"
   },
   {
    "duration": 23,
    "start_time": "2022-07-11T20:17:43.476Z"
   },
   {
    "duration": 176,
    "start_time": "2022-07-11T20:17:45.865Z"
   },
   {
    "duration": 94,
    "start_time": "2022-07-11T20:17:46.070Z"
   },
   {
    "duration": 35,
    "start_time": "2022-07-11T20:17:46.272Z"
   },
   {
    "duration": 9750,
    "start_time": "2022-07-11T20:17:46.715Z"
   },
   {
    "duration": 204,
    "start_time": "2022-07-11T20:17:56.522Z"
   },
   {
    "duration": 120,
    "start_time": "2022-07-11T20:17:56.731Z"
   },
   {
    "duration": 199,
    "start_time": "2022-07-11T20:17:56.856Z"
   },
   {
    "duration": 71,
    "start_time": "2022-07-11T20:17:57.076Z"
   },
   {
    "duration": 127,
    "start_time": "2022-07-11T20:17:57.173Z"
   },
   {
    "duration": 264165,
    "start_time": "2022-07-11T20:17:57.303Z"
   },
   {
    "duration": 182,
    "start_time": "2022-07-11T20:22:21.470Z"
   },
   {
    "duration": 118,
    "start_time": "2022-07-11T20:22:21.657Z"
   },
   {
    "duration": 588,
    "start_time": "2022-07-11T20:22:21.779Z"
   },
   {
    "duration": 61,
    "start_time": "2022-07-11T20:22:22.369Z"
   },
   {
    "duration": 227,
    "start_time": "2022-07-11T20:22:22.434Z"
   },
   {
    "duration": 39080,
    "start_time": "2022-07-11T20:22:22.667Z"
   },
   {
    "duration": 94,
    "start_time": "2022-07-11T20:23:01.749Z"
   },
   {
    "duration": 25,
    "start_time": "2022-07-11T20:23:01.845Z"
   },
   {
    "duration": 2054,
    "start_time": "2022-07-11T20:23:01.873Z"
   },
   {
    "duration": 48,
    "start_time": "2022-07-11T20:23:03.929Z"
   },
   {
    "duration": 75,
    "start_time": "2022-07-11T20:23:03.979Z"
   },
   {
    "duration": 156305,
    "start_time": "2022-07-11T20:23:04.056Z"
   },
   {
    "duration": 197,
    "start_time": "2022-07-11T20:25:40.363Z"
   },
   {
    "duration": 35,
    "start_time": "2022-07-11T20:25:40.625Z"
   },
   {
    "duration": 72,
    "start_time": "2022-07-11T20:25:40.663Z"
   },
   {
    "duration": 29,
    "start_time": "2022-07-11T20:25:40.742Z"
   },
   {
    "duration": 83,
    "start_time": "2022-07-11T20:25:40.773Z"
   },
   {
    "duration": 88,
    "start_time": "2022-07-11T20:25:40.858Z"
   },
   {
    "duration": 51750,
    "start_time": "2022-07-11T20:25:40.949Z"
   },
   {
    "duration": 98,
    "start_time": "2022-07-11T20:26:32.700Z"
   },
   {
    "duration": 14,
    "start_time": "2022-07-11T20:26:32.801Z"
   },
   {
    "duration": 3739,
    "start_time": "2022-07-11T20:26:32.828Z"
   },
   {
    "duration": 40,
    "start_time": "2022-07-11T20:26:36.625Z"
   },
   {
    "duration": 78,
    "start_time": "2022-07-11T20:26:36.668Z"
   },
   {
    "duration": 201052,
    "start_time": "2022-07-11T20:26:36.747Z"
   },
   {
    "duration": 269,
    "start_time": "2022-07-11T20:29:57.800Z"
   },
   {
    "duration": 74,
    "start_time": "2022-07-11T20:29:58.072Z"
   },
   {
    "duration": 4060,
    "start_time": "2022-07-11T20:59:57.426Z"
   },
   {
    "duration": 1009,
    "start_time": "2022-07-11T21:00:01.488Z"
   },
   {
    "duration": 2222,
    "start_time": "2022-07-11T21:00:02.499Z"
   },
   {
    "duration": 5,
    "start_time": "2022-07-11T21:00:04.724Z"
   },
   {
    "duration": 14,
    "start_time": "2022-07-11T21:00:04.731Z"
   },
   {
    "duration": 641,
    "start_time": "2022-07-11T21:00:04.747Z"
   },
   {
    "duration": 135,
    "start_time": "2022-07-11T21:00:05.390Z"
   },
   {
    "duration": 51,
    "start_time": "2022-07-11T21:00:05.528Z"
   },
   {
    "duration": 278,
    "start_time": "2022-07-11T21:00:05.581Z"
   },
   {
    "duration": 478,
    "start_time": "2022-07-11T21:00:05.862Z"
   },
   {
    "duration": 1081,
    "start_time": "2022-07-11T21:00:06.342Z"
   },
   {
    "duration": 43,
    "start_time": "2022-07-11T21:00:07.425Z"
   },
   {
    "duration": 36,
    "start_time": "2022-07-11T21:00:07.470Z"
   },
   {
    "duration": 64,
    "start_time": "2022-07-11T21:00:07.508Z"
   },
   {
    "duration": 391,
    "start_time": "2022-07-11T21:00:07.574Z"
   },
   {
    "duration": 339,
    "start_time": "2022-07-11T21:00:07.967Z"
   },
   {
    "duration": 102,
    "start_time": "2022-07-11T21:00:08.308Z"
   },
   {
    "duration": 163,
    "start_time": "2022-07-11T21:00:08.411Z"
   },
   {
    "duration": 26,
    "start_time": "2022-07-11T21:00:08.576Z"
   },
   {
    "duration": 5080,
    "start_time": "2022-07-11T21:00:08.622Z"
   },
   {
    "duration": 30,
    "start_time": "2022-07-11T21:00:13.704Z"
   },
   {
    "duration": 159,
    "start_time": "2022-07-11T21:00:13.737Z"
   },
   {
    "duration": 476,
    "start_time": "2022-07-11T21:00:13.898Z"
   },
   {
    "duration": 8,
    "start_time": "2022-07-11T21:00:14.376Z"
   },
   {
    "duration": 166,
    "start_time": "2022-07-11T21:00:14.387Z"
   },
   {
    "duration": 779,
    "start_time": "2022-07-11T21:00:14.556Z"
   },
   {
    "duration": 351,
    "start_time": "2022-07-11T21:00:15.337Z"
   },
   {
    "duration": 31,
    "start_time": "2022-07-11T21:00:15.692Z"
   },
   {
    "duration": 7,
    "start_time": "2022-07-11T21:00:15.726Z"
   },
   {
    "duration": 1971,
    "start_time": "2022-07-11T21:00:15.735Z"
   },
   {
    "duration": 558,
    "start_time": "2022-07-11T21:00:17.708Z"
   },
   {
    "duration": 1998,
    "start_time": "2022-07-11T21:00:18.268Z"
   },
   {
    "duration": 1991,
    "start_time": "2022-07-11T21:00:20.268Z"
   },
   {
    "duration": 1918,
    "start_time": "2022-07-11T21:00:22.262Z"
   },
   {
    "duration": 70,
    "start_time": "2022-07-11T21:00:24.182Z"
   },
   {
    "duration": 1896,
    "start_time": "2022-07-11T21:00:24.254Z"
   },
   {
    "duration": 1691,
    "start_time": "2022-07-11T21:00:26.152Z"
   },
   {
    "duration": 53,
    "start_time": "2022-07-11T21:00:27.845Z"
   },
   {
    "duration": 1898,
    "start_time": "2022-07-11T21:00:27.900Z"
   },
   {
    "duration": 1786,
    "start_time": "2022-07-11T21:00:29.800Z"
   },
   {
    "duration": 21,
    "start_time": "2022-07-11T21:00:31.588Z"
   },
   {
    "duration": 68,
    "start_time": "2022-07-11T21:00:31.611Z"
   },
   {
    "duration": 63,
    "start_time": "2022-07-11T21:00:31.681Z"
   },
   {
    "duration": 14,
    "start_time": "2022-07-11T21:00:31.746Z"
   },
   {
    "duration": 24,
    "start_time": "2022-07-11T21:00:31.762Z"
   },
   {
    "duration": 156,
    "start_time": "2022-07-11T21:00:31.788Z"
   },
   {
    "duration": 26,
    "start_time": "2022-07-11T21:00:31.946Z"
   },
   {
    "duration": 5,
    "start_time": "2022-07-11T21:00:31.974Z"
   },
   {
    "duration": 8,
    "start_time": "2022-07-11T21:00:31.980Z"
   },
   {
    "duration": 363710,
    "start_time": "2022-07-11T21:00:31.990Z"
   },
   {
    "duration": 5,
    "start_time": "2022-07-11T21:06:35.701Z"
   },
   {
    "duration": 940,
    "start_time": "2022-07-11T21:06:35.708Z"
   },
   {
    "duration": 20,
    "start_time": "2022-07-11T21:06:36.650Z"
   },
   {
    "duration": 23,
    "start_time": "2022-07-11T21:06:36.672Z"
   },
   {
    "duration": 28,
    "start_time": "2022-07-11T21:06:36.698Z"
   },
   {
    "duration": 22,
    "start_time": "2022-07-11T21:06:36.728Z"
   },
   {
    "duration": 32,
    "start_time": "2022-07-11T21:06:36.752Z"
   },
   {
    "duration": 856730,
    "start_time": "2022-07-11T21:06:36.786Z"
   },
   {
    "duration": 5,
    "start_time": "2022-07-11T21:20:53.525Z"
   },
   {
    "duration": 55304,
    "start_time": "2022-07-11T21:20:53.531Z"
   },
   {
    "duration": 694,
    "start_time": "2022-07-11T21:21:48.837Z"
   },
   {
    "duration": 26,
    "start_time": "2022-07-11T21:21:49.534Z"
   },
   {
    "duration": 261,
    "start_time": "2022-07-11T21:21:49.561Z"
   },
   {
    "duration": 99,
    "start_time": "2022-07-11T21:21:49.825Z"
   },
   {
    "duration": 120,
    "start_time": "2022-07-11T21:21:49.931Z"
   },
   {
    "duration": 8373,
    "start_time": "2022-07-11T21:21:50.053Z"
   },
   {
    "duration": 206,
    "start_time": "2022-07-11T21:21:58.429Z"
   },
   {
    "duration": 192,
    "start_time": "2022-07-11T21:21:58.638Z"
   },
   {
    "duration": 392,
    "start_time": "2022-07-11T21:21:58.832Z"
   },
   {
    "duration": 99,
    "start_time": "2022-07-11T21:21:59.226Z"
   },
   {
    "duration": 131,
    "start_time": "2022-07-11T21:21:59.327Z"
   },
   {
    "duration": 58163,
    "start_time": "2022-07-11T21:21:59.460Z"
   },
   {
    "duration": 197,
    "start_time": "2022-07-11T21:22:57.626Z"
   },
   {
    "duration": 121,
    "start_time": "2022-07-11T21:22:57.826Z"
   },
   {
    "duration": 675,
    "start_time": "2022-07-11T21:22:57.949Z"
   },
   {
    "duration": 10,
    "start_time": "2022-07-11T21:22:58.626Z"
   },
   {
    "duration": 214,
    "start_time": "2022-07-11T21:22:58.638Z"
   },
   {
    "duration": 33062,
    "start_time": "2022-07-11T21:22:58.854Z"
   },
   {
    "duration": 79,
    "start_time": "2022-07-11T21:23:31.918Z"
   },
   {
    "duration": 31,
    "start_time": "2022-07-11T21:23:31.999Z"
   },
   {
    "duration": 1011,
    "start_time": "2022-07-11T21:23:32.031Z"
   },
   {
    "duration": 140,
    "start_time": "2022-07-11T21:23:33.049Z"
   }
  ],
  "kernelspec": {
   "display_name": "Python 3 (ipykernel)",
   "language": "python",
   "name": "python3"
  },
  "language_info": {
   "codemirror_mode": {
    "name": "ipython",
    "version": 3
   },
   "file_extension": ".py",
   "mimetype": "text/x-python",
   "name": "python",
   "nbconvert_exporter": "python",
   "pygments_lexer": "ipython3",
   "version": "3.9.7"
  },
  "toc": {
   "base_numbering": 1,
   "nav_menu": {},
   "number_sections": true,
   "sideBar": true,
   "skip_h1_title": true,
   "title_cell": "Table of Contents",
   "title_sidebar": "Contents",
   "toc_cell": true,
   "toc_position": {
    "height": "calc(100% - 180px)",
    "left": "10px",
    "top": "150px",
    "width": "366px"
   },
   "toc_section_display": true,
   "toc_window_display": true
  }
 },
 "nbformat": 4,
 "nbformat_minor": 5
}
